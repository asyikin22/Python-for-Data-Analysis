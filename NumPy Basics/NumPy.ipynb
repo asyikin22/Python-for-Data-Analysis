{
 "cells": [
  {
   "cell_type": "markdown",
   "metadata": {},
   "source": [
    "# NumPy\n",
    "\n",
    "**What is it?**\n",
    "- a librry in Python for numerical computing\n",
    "\n",
    "**What does it do?**\n",
    "- Array handling: ndarray creates array of different dimensions & perform operation on them\n",
    "\n",
    "- Maths operation\n",
    "\n",
    "- Broadcasting: Allows you to perform operations on arrays of different shapes\n",
    "\n",
    "- Array indexing and slicing\n",
    "\n",
    "- Statistical and aggregation functions\n",
    "\n",
    "- Random number generation\n",
    "\n",
    "- Interfacing with other libraries: \n",
    "    * Panda - DA\n",
    "    * matplotlib - plotting\n",
    "    * SciPy = scientific computing\n",
    "\n",
    "- Performance"
   ]
  },
  {
   "cell_type": "markdown",
   "metadata": {},
   "source": [
    "# ndarray\n",
    "- it's a multidimensional array object\n",
    "\n",
    "- it's a generic multidimensional container for homogenous data \n",
    "\n",
    "- all elements must be the SAME type\n",
    "\n",
    "- every array has a data shape: tuple indicates the size of each dimension\n",
    "\n",
    "- dtype describes the data type\n",
    "\n",
    "- common terms:\n",
    "    * array\n",
    "    * NumPy array\n",
    "    * ndarray"
   ]
  },
  {
   "cell_type": "code",
   "execution_count": 8,
   "metadata": {},
   "outputs": [
    {
     "name": "stdout",
     "output_type": "stream",
     "text": [
      "[[  2.2  -0.5  88. ]\n",
      " [100.    7.3  -4. ]]\n",
      "\n",
      "Hasil darab: [[  72.6  -16.5 2904. ]\n",
      " [3300.   240.9 -132. ]]\n",
      "\n",
      "Hasil tambah: [[  4.4  -1.  176. ]\n",
      " [200.   14.6  -8. ]]\n"
     ]
    }
   ],
   "source": [
    "# basic numerical operation\n",
    "\n",
    "import numpy as np\n",
    "\n",
    "data = np.array ([[2.2, -0.5, 88], [100, 7.3, -4]])\n",
    "\n",
    "print(data)\n",
    "\n",
    "darab = data * 33\n",
    "tambah = data + data\n",
    "\n",
    "print(f'\\nHasil darab: {darab}')\n",
    "print(f'\\nHasil tambah: {tambah}')"
   ]
  },
  {
   "cell_type": "code",
   "execution_count": 11,
   "metadata": {},
   "outputs": [
    {
     "name": "stdout",
     "output_type": "stream",
     "text": [
      "Data shape: (2, 3)\n",
      "\n",
      "Data type: float64\n"
     ]
    }
   ],
   "source": [
    "print(f'Data shape: {data.shape}\\n')\n",
    "print(f'Data type: {data.dtype}')"
   ]
  },
  {
   "cell_type": "markdown",
   "metadata": {},
   "source": [
    "**Creating ndarray**\n",
    "- array function\n",
    "- example below shows how 42, 22 and 0 are upcasted to match data type of pi value.\n",
    "- this is done to make sure the entire array is homogenous"
   ]
  },
  {
   "cell_type": "code",
   "execution_count": 17,
   "metadata": {},
   "outputs": [
    {
     "name": "stdout",
     "output_type": "stream",
     "text": [
      "[42.       3.14159 22.       0.     ]\n",
      "(4,)\n",
      "float64\n"
     ]
    }
   ],
   "source": [
    "#np.array creates homogenous array\n",
    "\n",
    "data_1 = [42, 3.14159, 22, 0]\n",
    "\n",
    "arr_1 = np.array(data_1)\n",
    "\n",
    "print(arr_1)\n",
    "print(arr_1.shape)\n",
    "print(arr_1.dtype)"
   ]
  },
  {
   "cell_type": "code",
   "execution_count": 22,
   "metadata": {},
   "outputs": [
    {
     "name": "stdout",
     "output_type": "stream",
     "text": [
      "[[9 8 7 6 5]\n",
      " [4 3 2 1 0]]\n",
      "(2, 5)\n",
      "int32\n"
     ]
    }
   ],
   "source": [
    "data_2 = [[9, 8, 7, 6, 5], [4, 3, 2, 1, 0]]\n",
    "\n",
    "arr_2 = np.array(data_2)\n",
    "\n",
    "print(arr_2)\n",
    "print(arr_2.shape)\n",
    "print(arr_2.dtype)"
   ]
  },
  {
   "cell_type": "code",
   "execution_count": 26,
   "metadata": {},
   "outputs": [
    {
     "name": "stdout",
     "output_type": "stream",
     "text": [
      "[0. 0. 0. 0. 0. 0. 0. 0. 0. 0. 0. 0. 0. 0. 0. 0. 0. 0. 0. 0.]\n",
      "\n",
      "Higher Dimensioanl array 1:\n",
      "[[0. 0. 0. 0. 0.]\n",
      " [0. 0. 0. 0. 0.]]\n",
      "\n",
      "Higher Dimensioanl array 2:\n",
      "[[0. 0. 0.]\n",
      " [0. 0. 0.]\n",
      " [0. 0. 0.]\n",
      " [0. 0. 0.]\n",
      " [0. 0. 0.]\n",
      " [0. 0. 0.]]\n",
      "\n",
      "Higher Dimensioanl array 3:\n",
      "[[0. 0. 0. 0. 0. 0. 0. 0. 0.]\n",
      " [0. 0. 0. 0. 0. 0. 0. 0. 0.]\n",
      " [0. 0. 0. 0. 0. 0. 0. 0. 0.]\n",
      " [0. 0. 0. 0. 0. 0. 0. 0. 0.]]\n"
     ]
    }
   ],
   "source": [
    "# create arrays\n",
    "\n",
    "kosong = np.zeros(20)\n",
    "print(kosong)\n",
    "\n",
    "higher_dimensional_array1 = np.zeros((2,5))\n",
    "print('\\nHigher Dimensioanl array 1:')\n",
    "print(higher_dimensional_array1)\n",
    "\n",
    "higher_dimensional_array2 = np.zeros((6,3))\n",
    "print('\\nHigher Dimensioanl array 2:')\n",
    "print(higher_dimensional_array2)\n",
    "\n",
    "\n",
    "higher_dimensional_array3 = np.zeros((4,9))\n",
    "print('\\nHigher Dimensioanl array 3:')\n",
    "print(higher_dimensional_array3)"
   ]
  },
  {
   "cell_type": "code",
   "execution_count": 29,
   "metadata": {},
   "outputs": [
    {
     "data": {
      "text/plain": [
       "array([ 0,  1,  2,  3,  4,  5,  6,  7,  8,  9, 10, 11, 12, 13, 14, 15, 16,\n",
       "       17, 18, 19, 20, 21, 22, 23, 24, 25, 26, 27, 28, 29, 30, 31, 32, 33,\n",
       "       34, 35, 36, 37, 38, 39, 40, 41, 42, 43, 44, 45, 46, 47, 48, 49, 50])"
      ]
     },
     "execution_count": 29,
     "metadata": {},
     "output_type": "execute_result"
    }
   ],
   "source": [
    "np.arange(51)"
   ]
  },
  {
   "cell_type": "markdown",
   "metadata": {},
   "source": [
    "**NumPy Data Types**\n",
    "\n",
    "- Link: https://wesmckinney.com/book/numpy-basics#tbl-table_array_dtypes\n",
    "\n",
    "    - int\n",
    "\n",
    "    - float\n",
    "\n",
    "    - complex\n",
    "\n",
    "    - bool\n",
    "\n",
    "    - object\n",
    "\n",
    "    - string_\n",
    "    \n",
    "    - unicode\n",
    "\n",
    "- Data type can be changed using astype() method"
   ]
  },
  {
   "cell_type": "code",
   "execution_count": 36,
   "metadata": {},
   "outputs": [
    {
     "name": "stdout",
     "output_type": "stream",
     "text": [
      "[9 8 7 6 5 4 3 2 1 0]\n",
      "int32\n",
      "[9. 8. 7. 6. 5. 4. 3. 2. 1. 0.]\n",
      "float32\n"
     ]
    }
   ],
   "source": [
    "# cast integers to floating point\n",
    "\n",
    "array = np.array([9, 8, 7, 6, 5, 4, 3, 2, 1, 0])\n",
    "print(array)\n",
    "print(array.dtype)\n",
    "\n",
    "convert_array_float = array.astype(np.float32)\n",
    "print(convert_array_float)\n",
    "print(convert_array_float.dtype)"
   ]
  },
  {
   "cell_type": "code",
   "execution_count": 39,
   "metadata": {},
   "outputs": [
    {
     "name": "stdout",
     "output_type": "stream",
     "text": [
      "[ 1.2   7.8   5.35  0.33 22.6 ]\n",
      "float64\n",
      "[ 1  7  5  0 22]\n",
      "int64\n"
     ]
    }
   ],
   "source": [
    "# cast floating point to integers\n",
    "\n",
    "floating_num = np.array([1.2, 7.8, 5.35, 0.33, 22.6])\n",
    "print(floating_num)\n",
    "print(floating_num.dtype)\n",
    "\n",
    "convert_array_int = floating_num.astype(np.int64)\n",
    "print(convert_array_int)\n",
    "print(convert_array_int.dtype)"
   ]
  },
  {
   "cell_type": "code",
   "execution_count": 44,
   "metadata": {},
   "outputs": [
    {
     "name": "stdout",
     "output_type": "stream",
     "text": [
      "[b'1.2' b'7.8' b'5.35' b'0.33' b'22.6']\n",
      "|S4\n",
      "[ 1.2   7.8   5.35  0.33 22.6 ]\n",
      "float64\n"
     ]
    }
   ],
   "source": [
    "# cast strings to numeric form\n",
    "strings = np.array(['1.2', '7.8', '5.35', '0.33', '22.6'], dtype=np.string_)\n",
    "print(strings)\n",
    "print(strings.dtype)\n",
    "\n",
    "numeric_strings = strings.astype(float)\n",
    "print(numeric_strings)\n",
    "print(numeric_strings.dtype)\n"
   ]
  },
  {
   "cell_type": "code",
   "execution_count": null,
   "metadata": {},
   "outputs": [],
   "source": []
  }
 ],
 "metadata": {
  "kernelspec": {
   "display_name": "base",
   "language": "python",
   "name": "python3"
  },
  "language_info": {
   "codemirror_mode": {
    "name": "ipython",
    "version": 3
   },
   "file_extension": ".py",
   "mimetype": "text/x-python",
   "name": "python",
   "nbconvert_exporter": "python",
   "pygments_lexer": "ipython3",
   "version": "3.12.4"
  }
 },
 "nbformat": 4,
 "nbformat_minor": 2
}
