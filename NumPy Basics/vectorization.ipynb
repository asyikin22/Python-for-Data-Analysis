{
 "cells": [
  {
   "cell_type": "markdown",
   "metadata": {},
   "source": [
    "# Vectorization\n",
    "\n",
    "**Arithmetic Operations**\n",
    "- arrays are important as it allows you to express batch operations on data without writing any for loops\n",
    "- This is called vectorization\n",
    "- any arithmetic operations between equal-size arrays apply the operation element-wise\n",
    "\n",
    "**OTHER ARRAY OPERATIONS**\n",
    "* Basic indexing and slicing\n",
    "* Indexing with slices\n",
    "* Boolean Indexing\n",
    "* Fanyc Indexing\n",
    "* Transposing Arrays and Swapping Exes\n"
   ]
  },
  {
   "cell_type": "code",
   "execution_count": 7,
   "metadata": {},
   "outputs": [
    {
     "name": "stdout",
     "output_type": "stream",
     "text": [
      "[[  2.2   5.    8.1]\n",
      " [100.    7.3   4. ]]\n",
      "\n",
      "Arithmetic operations:\n",
      "[[4.840e+00 2.500e+01 6.561e+01]\n",
      " [1.000e+04 5.329e+01 1.600e+01]]\n",
      "[[0. 0. 0.]\n",
      " [0. 0. 0.]]\n",
      "[[0.02222222 0.05050505 0.08181818]\n",
      " [1.01010101 0.07373737 0.04040404]]\n",
      "[[4.840e+00 2.500e+01 6.561e+01]\n",
      " [1.000e+04 5.329e+01 1.600e+01]]\n"
     ]
    }
   ],
   "source": [
    "import numpy as np\n",
    "data = np.array ([[2.2, 5.0, 8.1], [100, 7.3, 4]])\n",
    "print(data)\n",
    "\n",
    "print('\\nArithmetic operations:')\n",
    "\n",
    "darab = data * data\n",
    "print(darab)\n",
    "\n",
    "tolak = data - data \n",
    "print(tolak)\n",
    "\n",
    "bahagi = data / 99\n",
    "print(bahagi)\n",
    "\n",
    "kuasa2 = data ** 2\n",
    "print(kuasa2)\n",
    "\n",
    "boolVal = "
   ]
  },
  {
   "cell_type": "code",
   "execution_count": 10,
   "metadata": {},
   "outputs": [
    {
     "data": {
      "text/plain": [
       "array([[False,  True, False],\n",
       "       [False, False,  True]])"
      ]
     },
     "execution_count": 10,
     "metadata": {},
     "output_type": "execute_result"
    }
   ],
   "source": [
    "data2 = np.array ([[2.2, -0.5, 88], [100, 7.3, -4]])\n",
    "data2 < data"
   ]
  },
  {
   "cell_type": "markdown",
   "metadata": {},
   "source": [
    "# Pesudorandom Number Generation\n",
    "\n",
    "- numpy.random generates arrays of sample values from many kinds of probability distribution\n",
    "\n",
    "- list of methods: https://wesmckinney.com/book/numpy-basics#tbl-table_numpy_random\n"
   ]
  },
  {
   "cell_type": "code",
   "execution_count": 13,
   "metadata": {},
   "outputs": [
    {
     "data": {
      "text/plain": [
       "array([[-1.86867901,  1.4103654 , -0.0705822 , -1.18329691,  0.17824098,\n",
       "        -0.9618206 ,  2.03616193,  1.20335225, -0.39375663,  1.66300437],\n",
       "       [-0.57792277, -0.85589486, -1.51082469,  0.04269883, -0.92017325,\n",
       "        -1.62275234,  1.67104053,  0.29041975,  0.19093228,  0.28857731],\n",
       "       [-0.75279362, -0.80770787, -0.95082855,  2.20355575,  0.07623348,\n",
       "         0.18666309, -0.79530531, -0.13953321,  2.14435506, -0.31074555],\n",
       "       [ 0.0630885 , -0.71974764,  1.48759922,  0.45232436,  1.09055021,\n",
       "        -0.62255885,  1.36064425,  0.20679871, -1.23890856,  0.04080928],\n",
       "       [ 0.21511738, -0.73731797, -0.85105773, -0.57903171, -0.6077658 ,\n",
       "         1.04009514, -1.02258925, -0.45723095,  0.32401809, -0.24232376],\n",
       "       [-1.0968125 ,  0.63023041,  1.10857369,  0.5342026 ,  0.84504013,\n",
       "         0.90171188, -0.62041288, -0.44064981, -1.16967758, -0.50709232]])"
      ]
     },
     "execution_count": 13,
     "metadata": {},
     "output_type": "execute_result"
    }
   ],
   "source": [
    "samples = np.random.standard_normal(size=(6, 10))\n",
    "samples"
   ]
  },
  {
   "cell_type": "markdown",
   "metadata": {},
   "source": [
    "# Universal Functions\n",
    "\n",
    "- ufunc is a function that performs element-wise operations on data in ndarrays\n",
    "\n",
    "- it's a vectorized wrappers for simple functions that take one or more scalar values and produce one or more scalar results\n",
    "\n",
    "- ufunc functions: https://wesmckinney.com/book/numpy-basics#tbl-table_unary_ufuncs\n",
    "\n",
    "- binary universal functions: https://wesmckinney.com/book/numpy-basics#tbl-table_binary_ufuncs"
   ]
  },
  {
   "cell_type": "markdown",
   "metadata": {},
   "source": [
    "# Array-Oriented Programming with Arrays\n",
    "\n",
    "- numpy arrays allows us to express daya processing tasks as concise array expressions that might otherwise require writing loops\n",
    "\n",
    "- This is called vectorization\n"
   ]
  },
  {
   "cell_type": "markdown",
   "metadata": {},
   "source": [
    "# Expressing Conditional Logic as Array Operations"
   ]
  },
  {
   "cell_type": "markdown",
   "metadata": {},
   "source": [
    "# Mathematical and Statistical Methods\n",
    "\n",
    "- basic array statistical methods: https://wesmckinney.com/book/numpy-basics#tbl-table_statistical_methods\n",
    "\n",
    "    * sum \n",
    "    * mean\n",
    "    * std, var\n",
    "    * min, max\n",
    "    * argmin, argmax\n",
    "    * cumsum\n",
    "    * cumprod"
   ]
  },
  {
   "cell_type": "code",
   "execution_count": 26,
   "metadata": {},
   "outputs": [
    {
     "name": "stdout",
     "output_type": "stream",
     "text": [
      "Array:\n",
      "[[-1.01414903 -0.85059668  2.2843603  -0.96641106  0.3847066  -0.87614357\n",
      "   0.53867621]\n",
      " [-0.9748435   0.44438725 -0.46064132  0.03603637  0.98254735 -0.8291739\n",
      "  -0.47591484]\n",
      " [ 0.25829228 -0.58938209  1.42458652 -0.81168824 -0.10529955  0.39610062\n",
      "   0.39900423]]\n",
      "\n",
      "Mean:\n",
      "-0.03835933565167321\n",
      "\n",
      "Sum:\n",
      "-0.8055460486851374\n",
      "\n",
      "Axis argument(Optional):\n",
      "\n",
      "computes mean across columns:\n",
      "[-0.07136532 -0.18251466  0.13880197]\n",
      "\n",
      "computes sum down the rows:\n",
      "[-1.73070024 -0.99559152  3.2483055  -1.74206293  1.2619544  -1.30921685\n",
      "  0.4617656 ]\n"
     ]
    }
   ],
   "source": [
    "import numpy as np\n",
    "\n",
    "rng = np.random.default_rng()\n",
    "\n",
    "array = rng.standard_normal((3,7))\n",
    "\n",
    "print(f'Array:\\n{array}')\n",
    "print('\\nMean:')\n",
    "print(array.mean())\n",
    "\n",
    "print('\\nSum:')\n",
    "print(array.sum())\n",
    "\n",
    "#optional axis argument\n",
    "print('\\nAxis argument(Optional):')\n",
    "\n",
    "print('\\ncomputes mean across columns:')\n",
    "print(array.mean(axis=1))         \n",
    "\n",
    "print('\\ncomputes sum down the rows:')\n",
    "print(array.sum(axis=0))              "
   ]
  },
  {
   "cell_type": "markdown",
   "metadata": {},
   "source": [
    "**CUMSUM**"
   ]
  },
  {
   "cell_type": "code",
   "execution_count": 27,
   "metadata": {},
   "outputs": [
    {
     "name": "stdout",
     "output_type": "stream",
     "text": [
      "[ 9 17 24 30 35 39 42 44 45]\n"
     ]
    }
   ],
   "source": [
    "arr_cumsum = np.array([9, 8, 7, 6, 5, 4, 3, 2, 1])\n",
    "print(arr_cumsum.cumsum())"
   ]
  },
  {
   "cell_type": "markdown",
   "metadata": {},
   "source": [
    "**CUMSUM - MULTIDIMENSIONAL ARRAY**"
   ]
  },
  {
   "cell_type": "code",
   "execution_count": 31,
   "metadata": {},
   "outputs": [
    {
     "name": "stdout",
     "output_type": "stream",
     "text": [
      "[[ 2  4  6]\n",
      " [ 3  6  9]\n",
      " [ 4  8 12]]\n",
      "\n",
      "computes cumsum across columns:\n",
      "\n",
      "[[ 2  6 12]\n",
      " [ 3  9 18]\n",
      " [ 4 12 24]]\n",
      "\n",
      "computes cumsum across rows:\n",
      "\n",
      "[[ 2  4  6]\n",
      " [ 5 10 15]\n",
      " [ 9 18 27]]\n"
     ]
    }
   ],
   "source": [
    "md_array = np.array([[2, 4, 6], [3, 6, 9], [4, 8, 12]])\n",
    "\n",
    "print(md_array)\n",
    "\n",
    "print('\\ncomputes cumsum across columns:\\n')\n",
    "print(md_array.cumsum(axis = 1))\n",
    "\n",
    "print('\\ncomputes cumsum across rows:\\n')\n",
    "print(md_array.cumsum(axis = 0))"
   ]
  },
  {
   "cell_type": "markdown",
   "metadata": {},
   "source": [
    "* Methods for Boolean Arrays\n",
    "\n",
    "* sorting\n",
    "\n",
    "* Unique and other Set logic: \n",
    "    * https://wesmckinney.com/book/numpy-basics#tbl-table_setops\n",
    "\n",
    "* File Input and Output with Arrays\n",
    "\n",
    "* Linear Algebra: \n",
    "    * https://wesmckinney.com/book/numpy-basics#tbl-table_numpy_linalg\n"
   ]
  }
 ],
 "metadata": {
  "kernelspec": {
   "display_name": "base",
   "language": "python",
   "name": "python3"
  },
  "language_info": {
   "codemirror_mode": {
    "name": "ipython",
    "version": 3
   },
   "file_extension": ".py",
   "mimetype": "text/x-python",
   "name": "python",
   "nbconvert_exporter": "python",
   "pygments_lexer": "ipython3",
   "version": "3.12.4"
  }
 },
 "nbformat": 4,
 "nbformat_minor": 2
}
