{
 "cells": [
  {
   "cell_type": "code",
   "execution_count": 36,
   "metadata": {},
   "outputs": [
    {
     "data": {
      "text/plain": [
       "Index(['year', 'artist', 'song', 'lyrics'], dtype='object')"
      ]
     },
     "execution_count": 36,
     "metadata": {},
     "output_type": "execute_result"
    }
   ],
   "source": [
    "import pandas as pd\n",
    "\n",
    "song_theme = pd.read_json('./Dataset/top_songs_lyrics.json')\n",
    "song_theme.columns"
   ]
  },
  {
   "cell_type": "markdown",
   "metadata": {},
   "source": [
    "# Latent Dirichlet Allocation (LDA) - 165 songs\n",
    "\n",
    "**Three major ideas**\n",
    "- Translate songs in native language to english\n",
    "- pre-processing: Clean and tokenize the translated lyrics, remove stopwords (common and custom)\n",
    "- Topic Modelling: Create an LDA model to identify topics within the song lyrics\n",
    "\n",
    "**Detailed Steps**\n",
    "1) Importing libraries\n",
    "    - googletrans: handle text transaltion\n",
    "    - string: provides constants for string manipulation \n",
    "    - nltk: A toolkit for natural language processing (NLP)\n",
    "    - gensim: Used for topic modelling\n",
    "\n",
    "2) Initialize Translator\n",
    "\n",
    "3) Define Translation Function\n",
    "\n",
    "4) Translate Lyrics\n",
    "\n",
    "5) Define Stopwords\n",
    "    - default_stopwords: default set of english stopwords from NLTK\n",
    "    - custom_stopwords: I manually added them.\n",
    "\n",
    "6) Pre-process Lyrics Function\n",
    "    - Remove punctuation\n",
    "    - convert lyrics to lowercase\n",
    "    - tokenize lyrics into words\n",
    "    - filter out non-alphabetic words and stopwords\n",
    "\n",
    "7) Apply pre-preprocessing\n",
    "    \n",
    "8) Perform Topic Modelling with LDA\n",
    "    - dictionary: maps each unqiue word to an ID\n",
    "    - corpus: transform the tokens into a bag-of-words format\n",
    "    - lda_model: creates an LDA model with 10 topics and trains it on the corpus for 15 passes \n",
    "    - extracts and prints the top 5 words for each topic found by the LDA model\n"
   ]
  },
  {
   "cell_type": "code",
   "execution_count": 37,
   "metadata": {},
   "outputs": [
    {
     "name": "stdout",
     "output_type": "stream",
     "text": [
      "(0, '0.058*\"girls\" + 0.051*\"run\" + 0.051*\"star\" + 0.026*\"world\" + 0.016*\"lost\"')\n",
      "(1, '0.033*\"work\" + 0.030*\"never\" + 0.013*\"see\" + 0.012*\"meant\" + 0.011*\"make\"')\n",
      "(2, '0.055*\"love\" + 0.017*\"come\" + 0.016*\"good\" + 0.015*\"baby\" + 0.014*\"time\"')\n",
      "(3, '0.025*\"know\" + 0.021*\"somebody\" + 0.018*\"find\" + 0.017*\"love\" + 0.017*\"come\"')\n",
      "(4, '0.020*\"know\" + 0.019*\"side\" + 0.016*\"love\" + 0.012*\"boy\" + 0.011*\"fall\"')\n",
      "(5, '0.022*\"want\" + 0.022*\"girls\" + 0.017*\"night\" + 0.014*\"fuck\" + 0.014*\"back\"')\n",
      "(6, '0.028*\"fuck\" + 0.017*\"go\" + 0.017*\"know\" + 0.016*\"let\" + 0.015*\"little\"')\n",
      "(7, '0.063*\"try\" + 0.044*\"love\" + 0.030*\"get\" + 0.028*\"rain\" + 0.019*\"baby\"')\n",
      "(8, '0.030*\"love\" + 0.020*\"never\" + 0.017*\"say\" + 0.015*\"know\" + 0.010*\"still\"')\n",
      "(9, '0.024*\"every\" + 0.023*\"baby\" + 0.021*\"sorry\" + 0.017*\"day\" + 0.016*\"let\"')\n"
     ]
    }
   ],
   "source": [
    "from googletrans import Translator\n",
    "import string\n",
    "import nltk\n",
    "from nltk.corpus import stopwords\n",
    "from nltk.tokenize import word_tokenize\n",
    "from gensim import corpora, models\n",
    "\n",
    "# #download stopwords\n",
    "# nltk.download('stopwords')\n",
    "# nltk.download('punkt')\n",
    "\n",
    "#initilaize translator \n",
    "translator = Translator()\n",
    "\n",
    "#define function to translate lyrics to english\n",
    "def translate_lyrics(lyrics):\n",
    "    try:\n",
    "        return translator.translate(lyrics, dest='en').text\n",
    "    except Exception as e:\n",
    "        print (f'Error in Transaltion: {e}')\n",
    "        return lyrics\n",
    "\n",
    "#translate lyrics to english\n",
    "song_theme['translated_lyrics'] = song_theme['lyrics'].apply(translate_lyrics)\n",
    "\n",
    "# get the list of stopwords - default & custom\n",
    "default_stopwords = set(stopwords.words('english'))\n",
    "custom_stopwords = default_stopwords.union(\n",
    "    {'verse', 'chorus', '–', 'im', 'oh', 'na', 'yeah', 'got', 'ooh', 'wan', 'cause', 'ill', 'youre', '2', '1', \n",
    "     'ft', 'like', 'one', 'prechorus','la', 'aint', 'low', 'two', 'woah', 'gettin', 'postchorus', 'mmm', 'mxrxgxa', 'da', 'thank',\n",
    "     'ah', 'gon', 'ya', \"’\", 'thats', 'another', 'outro', 'ive', 'hey', 'montenero', 'whats', 'gioielli', 'clap', 'del', 'blue', 'zyrtck',\n",
    "     'bridge', 'dj', 'would', 'way', 'ta', 'em', 'yes', 'youd', 'didnt', 'nothin', 'nothing', 'ayy',\n",
    "     'maybe', 'redrum', 'ohoh', 'ariana', 'vacca', 'bout', 'grande', '21', 'youve', 'youll', 'somethin', 'beyoncé',\n",
    "     'id', 'smack', 'yo', 'freestyle', 'without', 'di', 'intro', 'woo', 'might', 'il', 'non', 'uh', 'knew', 'mm',\n",
    "     'anybody', 'hes', 'ima', 'e', 'x', 'itll', 'refrain', 'could', 'ee', 'comin', 'lil', 'shes', '3', 'halo', 'whats', \n",
    "     'gionni', 'sometimes', 'gunz', 'ride', 'blow', 'black','mutha', 'uhoh', 'pai', 'zeno', 'wouldnt', 'air',\n",
    "     'egreen', 'toni', 'georgia', 'throw', 'nah', 'cease', 'goes', 'dust', 'bet', 'bum', 'apart', 'doesnt', 'cassel', 'oohoohoohooh', \n",
    "     'huh', 'closet', 'goin', 'cleanin', 'claver', 'closet', 'nex', 'lot', 'michaels', 'less', 'things', 'per', 'second', 'line',\n",
    "     'bites', 'shall', 'everybody', 'ele', 'fit', 'ho', 'jp', 'joe', 'smokestackstudio', 'getting', 'aleaka', 'three',\n",
    "     })\n",
    "\n",
    "#pre-process the lyrics function\n",
    "def preprocess_lyrics(lyrics):\n",
    "    translator = str.maketrans('', '', string.punctuation)\n",
    "    tokens = word_tokenize(lyrics.lower())\n",
    "    tokens = [word for word in tokens if word.isalpha() and word not in custom_stopwords]\n",
    "    return tokens\n",
    "\n",
    "#apply pre-processing using the TRANSLATED lyrics\n",
    "song_theme['tokens'] = song_theme['translated_lyrics'].apply(preprocess_lyrics)\n",
    "\n",
    "#PERFORM TOPIC MODELLING\n",
    "\n",
    "#create dictionary and corpus for LDA\n",
    "dictionary = corpora.Dictionary(song_theme['tokens'])\n",
    "corpus = [dictionary.doc2bow(text) for text in song_theme['tokens']]\n",
    "\n",
    "#build LDA model\n",
    "lda_model = models.LdaModel(corpus, num_topics=10, id2word=dictionary, passes=15)\n",
    "\n",
    "#print topics \n",
    "topics = lda_model.print_topics(num_words=5)\n",
    "for topic in topics:\n",
    "    print(topic)"
   ]
  },
  {
   "cell_type": "markdown",
   "metadata": {},
   "source": [
    "# Visualize distribution of Topics from LDA model\n",
    "\n",
    "1) Visualize topic distibution per document\n",
    "    - a document refers to individual unit of text that's being analzyed.\n",
    "    - i have 165 songs in my data frame, it means i have 165 documents\n",
    "    - aka 'Corpus'\n",
    "    \n",
    "2) Visualize topic distribution using pyLDAvis"
   ]
  },
  {
   "cell_type": "code",
   "execution_count": 116,
   "metadata": {},
   "outputs": [
    {
     "data": {
      "application/vnd.plotly.v1+json": {
       "config": {
        "plotlyServerURL": "https://plot.ly"
       },
       "data": [
        {
         "name": "Topic 1",
         "orientation": "h",
         "type": "bar",
         "x": [
          0.058,
          0.051,
          0.051,
          0.026,
          0.016
         ],
         "xaxis": "x",
         "y": [
          "girls",
          "run",
          "star",
          "world",
          "lost"
         ],
         "yaxis": "y"
        },
        {
         "name": "Topic 2",
         "orientation": "h",
         "type": "bar",
         "x": [
          0.033,
          0.03,
          0.013,
          0.012,
          0.011
         ],
         "xaxis": "x2",
         "y": [
          "work",
          "never",
          "see",
          "meant",
          "make"
         ],
         "yaxis": "y2"
        },
        {
         "name": "Topic 3",
         "orientation": "h",
         "type": "bar",
         "x": [
          0.055,
          0.017,
          0.016,
          0.015,
          0.014
         ],
         "xaxis": "x3",
         "y": [
          "love",
          "come",
          "good",
          "baby",
          "time"
         ],
         "yaxis": "y3"
        },
        {
         "name": "Topic 4",
         "orientation": "h",
         "type": "bar",
         "x": [
          0.025,
          0.021,
          0.018,
          0.017,
          0.017
         ],
         "xaxis": "x4",
         "y": [
          "know",
          "somebody",
          "find",
          "love",
          "come"
         ],
         "yaxis": "y4"
        },
        {
         "name": "Topic 5",
         "orientation": "h",
         "type": "bar",
         "x": [
          0.02,
          0.019,
          0.016,
          0.012,
          0.011
         ],
         "xaxis": "x5",
         "y": [
          "know",
          "side",
          "love",
          "boy",
          "fall"
         ],
         "yaxis": "y5"
        },
        {
         "name": "Topic 6",
         "orientation": "h",
         "type": "bar",
         "x": [
          0.022,
          0.022,
          0.017,
          0.014,
          0.014
         ],
         "xaxis": "x6",
         "y": [
          "want",
          "girls",
          "night",
          "fuck",
          "back"
         ],
         "yaxis": "y6"
        },
        {
         "name": "Topic 7",
         "orientation": "h",
         "type": "bar",
         "x": [
          0.028,
          0.017,
          0.017,
          0.016,
          0.015
         ],
         "xaxis": "x7",
         "y": [
          "fuck",
          "go",
          "know",
          "let",
          "little"
         ],
         "yaxis": "y7"
        },
        {
         "name": "Topic 8",
         "orientation": "h",
         "type": "bar",
         "x": [
          0.063,
          0.044,
          0.03,
          0.028,
          0.019
         ],
         "xaxis": "x8",
         "y": [
          "try",
          "love",
          "get",
          "rain",
          "baby"
         ],
         "yaxis": "y8"
        },
        {
         "name": "Topic 9",
         "orientation": "h",
         "type": "bar",
         "x": [
          0.03,
          0.02,
          0.017,
          0.015,
          0.01
         ],
         "xaxis": "x9",
         "y": [
          "love",
          "never",
          "say",
          "know",
          "still"
         ],
         "yaxis": "y9"
        },
        {
         "name": "Topic 10",
         "orientation": "h",
         "type": "bar",
         "x": [
          0.024,
          0.023,
          0.021,
          0.017,
          0.016
         ],
         "xaxis": "x10",
         "y": [
          "every",
          "baby",
          "sorry",
          "day",
          "let"
         ],
         "yaxis": "y10"
        }
       ],
       "layout": {
        "annotations": [
         {
          "font": {
           "size": 16
          },
          "showarrow": false,
          "text": "Topic 0",
          "x": 0.08399999999999999,
          "xanchor": "center",
          "xref": "paper",
          "y": 1,
          "yanchor": "bottom",
          "yref": "paper"
         },
         {
          "font": {
           "size": 16
          },
          "showarrow": false,
          "text": "Topic 1",
          "x": 0.292,
          "xanchor": "center",
          "xref": "paper",
          "y": 1,
          "yanchor": "bottom",
          "yref": "paper"
         },
         {
          "font": {
           "size": 16
          },
          "showarrow": false,
          "text": "Topic 2",
          "x": 0.5,
          "xanchor": "center",
          "xref": "paper",
          "y": 1,
          "yanchor": "bottom",
          "yref": "paper"
         },
         {
          "font": {
           "size": 16
          },
          "showarrow": false,
          "text": "Topic 3",
          "x": 0.708,
          "xanchor": "center",
          "xref": "paper",
          "y": 1,
          "yanchor": "bottom",
          "yref": "paper"
         },
         {
          "font": {
           "size": 16
          },
          "showarrow": false,
          "text": "Topic 4",
          "x": 0.9159999999999999,
          "xanchor": "center",
          "xref": "paper",
          "y": 1,
          "yanchor": "bottom",
          "yref": "paper"
         },
         {
          "font": {
           "size": 16
          },
          "showarrow": false,
          "text": "Topic 5",
          "x": 0.08399999999999999,
          "xanchor": "center",
          "xref": "paper",
          "y": 0.375,
          "yanchor": "bottom",
          "yref": "paper"
         },
         {
          "font": {
           "size": 16
          },
          "showarrow": false,
          "text": "Topic 6",
          "x": 0.292,
          "xanchor": "center",
          "xref": "paper",
          "y": 0.375,
          "yanchor": "bottom",
          "yref": "paper"
         },
         {
          "font": {
           "size": 16
          },
          "showarrow": false,
          "text": "Topic 7",
          "x": 0.5,
          "xanchor": "center",
          "xref": "paper",
          "y": 0.375,
          "yanchor": "bottom",
          "yref": "paper"
         },
         {
          "font": {
           "size": 16
          },
          "showarrow": false,
          "text": "Topic 8",
          "x": 0.708,
          "xanchor": "center",
          "xref": "paper",
          "y": 0.375,
          "yanchor": "bottom",
          "yref": "paper"
         },
         {
          "font": {
           "size": 16
          },
          "showarrow": false,
          "text": "Topic 9",
          "x": 0.9159999999999999,
          "xanchor": "center",
          "xref": "paper",
          "y": 0.375,
          "yanchor": "bottom",
          "yref": "paper"
         }
        ],
        "height": 600,
        "template": {
         "data": {
          "bar": [
           {
            "error_x": {
             "color": "#2a3f5f"
            },
            "error_y": {
             "color": "#2a3f5f"
            },
            "marker": {
             "line": {
              "color": "#E5ECF6",
              "width": 0.5
             },
             "pattern": {
              "fillmode": "overlay",
              "size": 10,
              "solidity": 0.2
             }
            },
            "type": "bar"
           }
          ],
          "barpolar": [
           {
            "marker": {
             "line": {
              "color": "#E5ECF6",
              "width": 0.5
             },
             "pattern": {
              "fillmode": "overlay",
              "size": 10,
              "solidity": 0.2
             }
            },
            "type": "barpolar"
           }
          ],
          "carpet": [
           {
            "aaxis": {
             "endlinecolor": "#2a3f5f",
             "gridcolor": "white",
             "linecolor": "white",
             "minorgridcolor": "white",
             "startlinecolor": "#2a3f5f"
            },
            "baxis": {
             "endlinecolor": "#2a3f5f",
             "gridcolor": "white",
             "linecolor": "white",
             "minorgridcolor": "white",
             "startlinecolor": "#2a3f5f"
            },
            "type": "carpet"
           }
          ],
          "choropleth": [
           {
            "colorbar": {
             "outlinewidth": 0,
             "ticks": ""
            },
            "type": "choropleth"
           }
          ],
          "contour": [
           {
            "colorbar": {
             "outlinewidth": 0,
             "ticks": ""
            },
            "colorscale": [
             [
              0,
              "#0d0887"
             ],
             [
              0.1111111111111111,
              "#46039f"
             ],
             [
              0.2222222222222222,
              "#7201a8"
             ],
             [
              0.3333333333333333,
              "#9c179e"
             ],
             [
              0.4444444444444444,
              "#bd3786"
             ],
             [
              0.5555555555555556,
              "#d8576b"
             ],
             [
              0.6666666666666666,
              "#ed7953"
             ],
             [
              0.7777777777777778,
              "#fb9f3a"
             ],
             [
              0.8888888888888888,
              "#fdca26"
             ],
             [
              1,
              "#f0f921"
             ]
            ],
            "type": "contour"
           }
          ],
          "contourcarpet": [
           {
            "colorbar": {
             "outlinewidth": 0,
             "ticks": ""
            },
            "type": "contourcarpet"
           }
          ],
          "heatmap": [
           {
            "colorbar": {
             "outlinewidth": 0,
             "ticks": ""
            },
            "colorscale": [
             [
              0,
              "#0d0887"
             ],
             [
              0.1111111111111111,
              "#46039f"
             ],
             [
              0.2222222222222222,
              "#7201a8"
             ],
             [
              0.3333333333333333,
              "#9c179e"
             ],
             [
              0.4444444444444444,
              "#bd3786"
             ],
             [
              0.5555555555555556,
              "#d8576b"
             ],
             [
              0.6666666666666666,
              "#ed7953"
             ],
             [
              0.7777777777777778,
              "#fb9f3a"
             ],
             [
              0.8888888888888888,
              "#fdca26"
             ],
             [
              1,
              "#f0f921"
             ]
            ],
            "type": "heatmap"
           }
          ],
          "heatmapgl": [
           {
            "colorbar": {
             "outlinewidth": 0,
             "ticks": ""
            },
            "colorscale": [
             [
              0,
              "#0d0887"
             ],
             [
              0.1111111111111111,
              "#46039f"
             ],
             [
              0.2222222222222222,
              "#7201a8"
             ],
             [
              0.3333333333333333,
              "#9c179e"
             ],
             [
              0.4444444444444444,
              "#bd3786"
             ],
             [
              0.5555555555555556,
              "#d8576b"
             ],
             [
              0.6666666666666666,
              "#ed7953"
             ],
             [
              0.7777777777777778,
              "#fb9f3a"
             ],
             [
              0.8888888888888888,
              "#fdca26"
             ],
             [
              1,
              "#f0f921"
             ]
            ],
            "type": "heatmapgl"
           }
          ],
          "histogram": [
           {
            "marker": {
             "pattern": {
              "fillmode": "overlay",
              "size": 10,
              "solidity": 0.2
             }
            },
            "type": "histogram"
           }
          ],
          "histogram2d": [
           {
            "colorbar": {
             "outlinewidth": 0,
             "ticks": ""
            },
            "colorscale": [
             [
              0,
              "#0d0887"
             ],
             [
              0.1111111111111111,
              "#46039f"
             ],
             [
              0.2222222222222222,
              "#7201a8"
             ],
             [
              0.3333333333333333,
              "#9c179e"
             ],
             [
              0.4444444444444444,
              "#bd3786"
             ],
             [
              0.5555555555555556,
              "#d8576b"
             ],
             [
              0.6666666666666666,
              "#ed7953"
             ],
             [
              0.7777777777777778,
              "#fb9f3a"
             ],
             [
              0.8888888888888888,
              "#fdca26"
             ],
             [
              1,
              "#f0f921"
             ]
            ],
            "type": "histogram2d"
           }
          ],
          "histogram2dcontour": [
           {
            "colorbar": {
             "outlinewidth": 0,
             "ticks": ""
            },
            "colorscale": [
             [
              0,
              "#0d0887"
             ],
             [
              0.1111111111111111,
              "#46039f"
             ],
             [
              0.2222222222222222,
              "#7201a8"
             ],
             [
              0.3333333333333333,
              "#9c179e"
             ],
             [
              0.4444444444444444,
              "#bd3786"
             ],
             [
              0.5555555555555556,
              "#d8576b"
             ],
             [
              0.6666666666666666,
              "#ed7953"
             ],
             [
              0.7777777777777778,
              "#fb9f3a"
             ],
             [
              0.8888888888888888,
              "#fdca26"
             ],
             [
              1,
              "#f0f921"
             ]
            ],
            "type": "histogram2dcontour"
           }
          ],
          "mesh3d": [
           {
            "colorbar": {
             "outlinewidth": 0,
             "ticks": ""
            },
            "type": "mesh3d"
           }
          ],
          "parcoords": [
           {
            "line": {
             "colorbar": {
              "outlinewidth": 0,
              "ticks": ""
             }
            },
            "type": "parcoords"
           }
          ],
          "pie": [
           {
            "automargin": true,
            "type": "pie"
           }
          ],
          "scatter": [
           {
            "fillpattern": {
             "fillmode": "overlay",
             "size": 10,
             "solidity": 0.2
            },
            "type": "scatter"
           }
          ],
          "scatter3d": [
           {
            "line": {
             "colorbar": {
              "outlinewidth": 0,
              "ticks": ""
             }
            },
            "marker": {
             "colorbar": {
              "outlinewidth": 0,
              "ticks": ""
             }
            },
            "type": "scatter3d"
           }
          ],
          "scattercarpet": [
           {
            "marker": {
             "colorbar": {
              "outlinewidth": 0,
              "ticks": ""
             }
            },
            "type": "scattercarpet"
           }
          ],
          "scattergeo": [
           {
            "marker": {
             "colorbar": {
              "outlinewidth": 0,
              "ticks": ""
             }
            },
            "type": "scattergeo"
           }
          ],
          "scattergl": [
           {
            "marker": {
             "colorbar": {
              "outlinewidth": 0,
              "ticks": ""
             }
            },
            "type": "scattergl"
           }
          ],
          "scattermapbox": [
           {
            "marker": {
             "colorbar": {
              "outlinewidth": 0,
              "ticks": ""
             }
            },
            "type": "scattermapbox"
           }
          ],
          "scatterpolar": [
           {
            "marker": {
             "colorbar": {
              "outlinewidth": 0,
              "ticks": ""
             }
            },
            "type": "scatterpolar"
           }
          ],
          "scatterpolargl": [
           {
            "marker": {
             "colorbar": {
              "outlinewidth": 0,
              "ticks": ""
             }
            },
            "type": "scatterpolargl"
           }
          ],
          "scatterternary": [
           {
            "marker": {
             "colorbar": {
              "outlinewidth": 0,
              "ticks": ""
             }
            },
            "type": "scatterternary"
           }
          ],
          "surface": [
           {
            "colorbar": {
             "outlinewidth": 0,
             "ticks": ""
            },
            "colorscale": [
             [
              0,
              "#0d0887"
             ],
             [
              0.1111111111111111,
              "#46039f"
             ],
             [
              0.2222222222222222,
              "#7201a8"
             ],
             [
              0.3333333333333333,
              "#9c179e"
             ],
             [
              0.4444444444444444,
              "#bd3786"
             ],
             [
              0.5555555555555556,
              "#d8576b"
             ],
             [
              0.6666666666666666,
              "#ed7953"
             ],
             [
              0.7777777777777778,
              "#fb9f3a"
             ],
             [
              0.8888888888888888,
              "#fdca26"
             ],
             [
              1,
              "#f0f921"
             ]
            ],
            "type": "surface"
           }
          ],
          "table": [
           {
            "cells": {
             "fill": {
              "color": "#EBF0F8"
             },
             "line": {
              "color": "white"
             }
            },
            "header": {
             "fill": {
              "color": "#C8D4E3"
             },
             "line": {
              "color": "white"
             }
            },
            "type": "table"
           }
          ]
         },
         "layout": {
          "annotationdefaults": {
           "arrowcolor": "#2a3f5f",
           "arrowhead": 0,
           "arrowwidth": 1
          },
          "autotypenumbers": "strict",
          "coloraxis": {
           "colorbar": {
            "outlinewidth": 0,
            "ticks": ""
           }
          },
          "colorscale": {
           "diverging": [
            [
             0,
             "#8e0152"
            ],
            [
             0.1,
             "#c51b7d"
            ],
            [
             0.2,
             "#de77ae"
            ],
            [
             0.3,
             "#f1b6da"
            ],
            [
             0.4,
             "#fde0ef"
            ],
            [
             0.5,
             "#f7f7f7"
            ],
            [
             0.6,
             "#e6f5d0"
            ],
            [
             0.7,
             "#b8e186"
            ],
            [
             0.8,
             "#7fbc41"
            ],
            [
             0.9,
             "#4d9221"
            ],
            [
             1,
             "#276419"
            ]
           ],
           "sequential": [
            [
             0,
             "#0d0887"
            ],
            [
             0.1111111111111111,
             "#46039f"
            ],
            [
             0.2222222222222222,
             "#7201a8"
            ],
            [
             0.3333333333333333,
             "#9c179e"
            ],
            [
             0.4444444444444444,
             "#bd3786"
            ],
            [
             0.5555555555555556,
             "#d8576b"
            ],
            [
             0.6666666666666666,
             "#ed7953"
            ],
            [
             0.7777777777777778,
             "#fb9f3a"
            ],
            [
             0.8888888888888888,
             "#fdca26"
            ],
            [
             1,
             "#f0f921"
            ]
           ],
           "sequentialminus": [
            [
             0,
             "#0d0887"
            ],
            [
             0.1111111111111111,
             "#46039f"
            ],
            [
             0.2222222222222222,
             "#7201a8"
            ],
            [
             0.3333333333333333,
             "#9c179e"
            ],
            [
             0.4444444444444444,
             "#bd3786"
            ],
            [
             0.5555555555555556,
             "#d8576b"
            ],
            [
             0.6666666666666666,
             "#ed7953"
            ],
            [
             0.7777777777777778,
             "#fb9f3a"
            ],
            [
             0.8888888888888888,
             "#fdca26"
            ],
            [
             1,
             "#f0f921"
            ]
           ]
          },
          "colorway": [
           "#636efa",
           "#EF553B",
           "#00cc96",
           "#ab63fa",
           "#FFA15A",
           "#19d3f3",
           "#FF6692",
           "#B6E880",
           "#FF97FF",
           "#FECB52"
          ],
          "font": {
           "color": "#2a3f5f"
          },
          "geo": {
           "bgcolor": "white",
           "lakecolor": "white",
           "landcolor": "#E5ECF6",
           "showlakes": true,
           "showland": true,
           "subunitcolor": "white"
          },
          "hoverlabel": {
           "align": "left"
          },
          "hovermode": "closest",
          "mapbox": {
           "style": "light"
          },
          "paper_bgcolor": "white",
          "plot_bgcolor": "#E5ECF6",
          "polar": {
           "angularaxis": {
            "gridcolor": "white",
            "linecolor": "white",
            "ticks": ""
           },
           "bgcolor": "#E5ECF6",
           "radialaxis": {
            "gridcolor": "white",
            "linecolor": "white",
            "ticks": ""
           }
          },
          "scene": {
           "xaxis": {
            "backgroundcolor": "#E5ECF6",
            "gridcolor": "white",
            "gridwidth": 2,
            "linecolor": "white",
            "showbackground": true,
            "ticks": "",
            "zerolinecolor": "white"
           },
           "yaxis": {
            "backgroundcolor": "#E5ECF6",
            "gridcolor": "white",
            "gridwidth": 2,
            "linecolor": "white",
            "showbackground": true,
            "ticks": "",
            "zerolinecolor": "white"
           },
           "zaxis": {
            "backgroundcolor": "#E5ECF6",
            "gridcolor": "white",
            "gridwidth": 2,
            "linecolor": "white",
            "showbackground": true,
            "ticks": "",
            "zerolinecolor": "white"
           }
          },
          "shapedefaults": {
           "line": {
            "color": "#2a3f5f"
           }
          },
          "ternary": {
           "aaxis": {
            "gridcolor": "white",
            "linecolor": "white",
            "ticks": ""
           },
           "baxis": {
            "gridcolor": "white",
            "linecolor": "white",
            "ticks": ""
           },
           "bgcolor": "#E5ECF6",
           "caxis": {
            "gridcolor": "white",
            "linecolor": "white",
            "ticks": ""
           }
          },
          "title": {
           "x": 0.05
          },
          "xaxis": {
           "automargin": true,
           "gridcolor": "white",
           "linecolor": "white",
           "ticks": "",
           "title": {
            "standoff": 15
           },
           "zerolinecolor": "white",
           "zerolinewidth": 2
          },
          "yaxis": {
           "automargin": true,
           "gridcolor": "white",
           "linecolor": "white",
           "ticks": "",
           "title": {
            "standoff": 15
           },
           "zerolinecolor": "white",
           "zerolinewidth": 2
          }
         }
        },
        "title": {
         "text": "LDA Topic Modeling Results"
        },
        "xaxis": {
         "anchor": "y",
         "domain": [
          0,
          0.16799999999999998
         ]
        },
        "xaxis10": {
         "anchor": "y10",
         "domain": [
          0.832,
          1
         ]
        },
        "xaxis2": {
         "anchor": "y2",
         "domain": [
          0.208,
          0.376
         ]
        },
        "xaxis3": {
         "anchor": "y3",
         "domain": [
          0.416,
          0.584
         ]
        },
        "xaxis4": {
         "anchor": "y4",
         "domain": [
          0.624,
          0.792
         ]
        },
        "xaxis5": {
         "anchor": "y5",
         "domain": [
          0.832,
          1
         ]
        },
        "xaxis6": {
         "anchor": "y6",
         "domain": [
          0,
          0.16799999999999998
         ]
        },
        "xaxis7": {
         "anchor": "y7",
         "domain": [
          0.208,
          0.376
         ]
        },
        "xaxis8": {
         "anchor": "y8",
         "domain": [
          0.416,
          0.584
         ]
        },
        "xaxis9": {
         "anchor": "y9",
         "domain": [
          0.624,
          0.792
         ]
        },
        "yaxis": {
         "anchor": "x",
         "domain": [
          0.625,
          1
         ]
        },
        "yaxis10": {
         "anchor": "x10",
         "domain": [
          0,
          0.375
         ]
        },
        "yaxis2": {
         "anchor": "x2",
         "domain": [
          0.625,
          1
         ]
        },
        "yaxis3": {
         "anchor": "x3",
         "domain": [
          0.625,
          1
         ]
        },
        "yaxis4": {
         "anchor": "x4",
         "domain": [
          0.625,
          1
         ]
        },
        "yaxis5": {
         "anchor": "x5",
         "domain": [
          0.625,
          1
         ]
        },
        "yaxis6": {
         "anchor": "x6",
         "domain": [
          0,
          0.375
         ]
        },
        "yaxis7": {
         "anchor": "x7",
         "domain": [
          0,
          0.375
         ]
        },
        "yaxis8": {
         "anchor": "x8",
         "domain": [
          0,
          0.375
         ]
        },
        "yaxis9": {
         "anchor": "x9",
         "domain": [
          0,
          0.375
         ]
        }
       }
      }
     },
     "metadata": {},
     "output_type": "display_data"
    }
   ],
   "source": [
    "import plotly.graph_objects as go\n",
    "from plotly.subplots import make_subplots\n",
    "\n",
    "def plot_topics_plotly(lda_model, num_topics=10, num_words=5):\n",
    "    # Create a subplot grid: 2 rows, 5 columns\n",
    "    fig = make_subplots(rows=2, cols=5, subplot_titles=[f'Topic {i}' for i in range(num_topics)])\n",
    "\n",
    "    for idx in range(num_topics):\n",
    "        topic = lda_model.print_topics(num_words=num_words)[idx][1]\n",
    "        words = topic.split(\" + \")\n",
    "        words = [word.split(\"*\")[1].strip().replace('\"', '') for word in words]\n",
    "        weights = [float(word.split(\"*\")[0]) for word in topic.split(\" + \")]\n",
    "\n",
    "        # Add a bar trace for each topic\n",
    "        fig.add_trace(\n",
    "            go.Bar(x=weights, y=words, orientation='h', name=f'Topic {idx + 1}'),\n",
    "            row=(idx // 5) + 1, col=(idx % 5) + 1  # Calculate row and column index\n",
    "        )\n",
    "\n",
    "    # Update layout\n",
    "    fig.update_layout(title_text='LDA Topic Modeling Results', height=600)\n",
    "    fig.show()\n",
    "\n",
    "plot_topics_plotly(lda_model)"
   ]
  },
  {
   "cell_type": "markdown",
   "metadata": {},
   "source": [
    "# PyLDAvis\n",
    "\n",
    "1) Topic Circles\n",
    "    - each circle represents a topic\n",
    "    - larger circle = more dominant topics\n",
    "\n",
    "2) Distance between circles\n",
    "    - It shows similairty between topics\n",
    "\n",
    "3) Top words for selected topics\n",
    "    - Right panel shows the top words associated with it\n",
    "\n",
    "4) Relevance metrics\n",
    "    - Lower lambda values emphaiszes more exclusive words\n",
    "    - higher values includes more common words"
   ]
  },
  {
   "cell_type": "code",
   "execution_count": 117,
   "metadata": {},
   "outputs": [
    {
     "data": {
      "text/html": [
       "\n",
       "<link rel=\"stylesheet\" type=\"text/css\" href=\"https://cdn.jsdelivr.net/gh/bmabey/pyLDAvis@3.4.0/pyLDAvis/js/ldavis.v1.0.0.css\">\n",
       "\n",
       "\n",
       "<div id=\"ldavis_el1307223170848301608492547921\" style=\"background-color:white;\"></div>\n",
       "<script type=\"text/javascript\">\n",
       "\n",
       "var ldavis_el1307223170848301608492547921_data = {\"mdsDat\": {\"x\": [-0.024686900358432597, -0.006790276990968649, -0.07713171385222586, -0.08761634649554449, -0.09877320521432635, 0.00035961760674602436, 0.021650483736692264, 0.01788716448778963, 0.022714025814976987, 0.23238715126529294], \"y\": [0.007388316479609779, 0.01166890691167707, -0.09861478994510922, -0.030344554046207, -0.032734392922735535, 0.10995827029148575, 0.00024487458364623563, -0.07720383065134616, 0.1782718752860428, -0.06863467598706374], \"topics\": [1, 2, 3, 4, 5, 6, 7, 8, 9, 10], \"cluster\": [1, 1, 1, 1, 1, 1, 1, 1, 1, 1], \"Freq\": [17.768758524404994, 13.197206452252308, 11.546692224853548, 11.005778201404674, 10.976944094576814, 8.919337021284084, 8.740714220818631, 8.599034641340571, 5.80598451516961, 3.4395501038947645]}, \"tinfo\": {\"Term\": [\"try\", \"girls\", \"love\", \"run\", \"work\", \"star\", \"fuck\", \"rain\", \"world\", \"sorry\", \"somebody\", \"get\", \"never\", \"side\", \"kids\", \"top\", \"little\", \"heart\", \"lost\", \"every\", \"next\", \"cool\", \"want\", \"find\", \"meant\", \"come\", \"boy\", \"night\", \"us\", \"thing\", \"cater\", \"saxe\", \"swipe\", \"ends\", \"dessert\", \"slippers\", \"yuna\", \"anything\", \"calling\", \"hype\", \"nas\", \"unholy\", \"singh\", \"thighs\", \"youtube\", \"shaan\", \"award\", \"feat\", \"inspire\", \"zayn\", \"ed\", \"williams\", \"overseas\", \"trees\", \"fighting\", \"learns\", \"superhero\", \"ending\", \"rush\", \"wrestle\", \"somebody\", \"find\", \"julia\", \"touch\", \"deserve\", \"dinner\", \"fine\", \"home\", \"type\", \"body\", \"come\", \"know\", \"lord\", \"let\", \"right\", \"wake\", \"want\", \"baby\", \"boy\", \"keep\", \"love\", \"left\", \"back\", \"go\", \"feel\", \"world\", \"much\", \"night\", \"life\", \"little\", \"say\", \"man\", \"heart\", \"put\", \"get\", \"every\", \"day\", \"marry\", \"dey\", \"sanchez\", \"stephen\", \"trade\", \"brown\", \"swirlin\", \"pearls\", \"lockdown\", \"surrender\", \"singin\", \"mhmm\", \"comes\", \"chandelier\", \"wizkid\", \"holdin\", \"unless\", \"yanga\", \"fanta\", \"earth\", \"bye\", \"crawl\", \"grave\", \"gently\", \"dancin\", \"form\", \"gum\", \"vie\", \"en\", \"rose\", \"grey\", \"rude\", \"calm\", \"dear\", \"gim\", \"skin\", \"found\", \"still\", \"rockin\", \"remember\", \"girl\", \"whenever\", \"say\", \"watch\", \"pussy\", \"never\", \"tonight\", \"thought\", \"love\", \"hate\", \"fall\", \"last\", \"heart\", \"body\", \"long\", \"know\", \"else\", \"think\", \"babe\", \"guess\", \"really\", \"back\", \"go\", \"keep\", \"day\", \"tell\", \"get\", \"want\", \"ca\", \"baby\", \"let\", \"life\", \"untouchable\", \"across\", \"feelin\", \"sign\", \"yee\", \"payback\", \"sabronzo\", \"worse\", \"tabby\", \"syasya\", \"shoot\", \"next\", \"taught\", \"tables\", \"blah\", \"ex\", \"inspired\", \"bein\", \"slaughter\", \"symphony\", \"poured\", \"bloody\", \"eating\", \"meal\", \"patience\", \"grateful\", \"telling\", \"hol\", \"basic\", \"comfortable\", \"turned\", \"sorry\", \"future\", \"talk\", \"savage\", \"every\", \"walk\", \"moves\", \"shit\", \"day\", \"swear\", \"bitch\", \"chris\", \"martin\", \"high\", \"gang\", \"baby\", \"angel\", \"number\", \"bad\", \"let\", \"need\", \"side\", \"make\", \"best\", \"ai\", \"go\", \"know\", \"see\", \"say\", \"better\", \"even\", \"ca\", \"get\", \"time\", \"good\", \"give\", \"hailie\", \"rings\", \"rare\", \"camila\", \"agrees\", \"huntin\", \"meanin\", \"season\", \"searchin\", \"youth\", \"hated\", \"snare\", \"tryin\", \"work\", \"dinah\", \"explain\", \"complicated\", \"tick\", \"lauren\", \"known\", \"teatime\", \"claiming\", \"normani\", \"rick\", \"james\", \"prayin\", \"stupid\", \"lambs\", \"crying\", \"cryin\", \"freaky\", \"stranger\", \"dancing\", \"saw\", \"problem\", \"wasted\", \"mama\", \"minaj\", \"meant\", \"nicki\", \"cd\", \"caring\", \"ring\", \"never\", \"hurt\", \"tonight\", \"see\", \"older\", \"cry\", \"light\", \"rain\", \"gets\", \"alone\", \"away\", \"make\", \"look\", \"times\", \"made\", \"wo\", \"even\", \"need\", \"come\", \"baby\", \"feel\", \"sorry\", \"thought\", \"said\", \"take\", \"know\", \"go\", \"let\", \"time\", \"want\", \"try\", \"church\", \"turnt\", \"worship\", \"shake\", \"shrine\", \"sharpen\", \"amen\", \"deathless\", \"andr\\u00e9\", \"maren\", \"morris\", \"motivation\", \"death\", \"translate\", \"crew\", \"gotye\", \"ew\", \"sins\", \"offer\", \"neat\", \"whiskey\", \"worried\", \"musician\", \"cuzzo\", \"friday\", \"cursing\", \"looks\", \"kanye\", \"thanks\", \"innovation\", \"middle\", \"dog\", \"fuck\", \"loving\", \"knife\", \"lies\", \"niggas\", \"quite\", \"close\", \"little\", \"meet\", \"ai\", \"sweet\", \"nigga\", \"ass\", \"right\", \"go\", \"let\", \"get\", \"take\", \"know\", \"stay\", \"good\", \"think\", \"want\", \"give\", \"love\", \"someone\", \"baby\", \"tell\", \"life\", \"ca\", \"say\", \"somebody\", \"used\", \"thing\", \"need\", \"much\", \"gomez\", \"selena\", \"reasons\", \"hu\", \"fools\", \"breakin\", \"florida\", \"stressed\", \"bebe\", \"momma\", \"rexha\", \"discoverin\", \"shape\", \"charli\", \"xcx\", \"stopped\", \"softly\", \"ship\", \"blurryface\", \"smell\", \"deep\", \"belong\", \"million\", \"learn\", \"breaks\", \"blown\", \"able\", \"speed\", \"fahrenheit\", \"beauty\", \"sang\", \"imagine\", \"although\", \"us\", \"fix\", \"old\", \"used\", \"tears\", \"broken\", \"love\", \"lie\", \"stop\", \"change\", \"good\", \"sick\", \"beautiful\", \"come\", \"time\", \"believe\", \"mean\", \"baby\", \"heart\", \"meant\", \"world\", \"know\", \"let\", \"make\", \"need\", \"really\", \"give\", \"away\", \"body\", \"shit\", \"ba\", \"temasek\", \"waaaaaaa\", \"dice\", \"mercury\", \"foot\", \"alcohol\", \"royal\", \"flush\", \"de\", \"streets\", \"rembau\", \"willing\", \"functional\", \"worked\", \"movin\", \"option\", \"imma\", \"bowie\", \"david\", \"weak\", \"spinnin\", \"cream\", \"suspect\", \"freddie\", \"strugglin\", \"twice\", \"shoulders\", \"uniform\", \"whatsapp\", \"pressure\", \"seven\", \"sound\", \"side\", \"wave\", \"wanted\", \"hands\", \"kiss\", \"fall\", \"kick\", \"boy\", \"people\", \"late\", \"know\", \"man\", \"night\", \"love\", \"bad\", \"wrong\", \"back\", \"stop\", \"take\", \"make\", \"much\", \"call\", \"better\", \"give\", \"care\", \"never\", \"keep\", \"baby\", \"right\", \"little\", \"pickin\", \"celebrating\", \"staying\", \"players\", \"faster\", \"turnin\", \"shouted\", \"missin\", \"mother\", \"kuaih\", \"spaceships\", \"freedom\", \"swish\", \"hallelujah\", \"greatest\", \"toe\", \"unstoppable\", \"yonnyboii\", \"zynakal\", \"funk\", \"po\", \"queen\", \"gunpowder\", \"beam\", \"laser\", \"guaranteed\", \"gelatine\", \"dynamite\", \"sleeping\", \"locked\", \"killer\", \"nasty\", \"empty\", \"saying\", \"mood\", \"girls\", \"forget\", \"lights\", \"god\", \"night\", \"want\", \"late\", \"lovin\", \"livin\", \"fuck\", \"nobody\", \"scared\", \"back\", \"time\", \"life\", \"feel\", \"free\", \"mind\", \"make\", \"go\", \"ca\", \"came\", \"every\", \"heart\", \"know\", \"love\", \"wo\", \"stop\", \"let\", \"keep\", \"get\", \"called\", \"gaga\", \"ghosts\", \"judge\", \"meghan\", \"trainor\", \"cool\", \"kids\", \"lady\", \"calls\", \"legend\", \"anniversary\", \"issues\", \"gives\", \"hungered\", \"bask\", \"forgiven\", \"rising\", \"granted\", \"send\", \"try\", \"godspeed\", \"rivers\", \"slim\", \"bend\", \"mall\", \"cards\", \"curl\", \"credit\", \"max\", \"rain\", \"top\", \"ear\", \"john\", \"ready\", \"lover\", \"lose\", \"single\", \"least\", \"get\", \"thing\", \"love\", \"rather\", \"mad\", \"crazy\", \"treat\", \"finally\", \"need\", \"baby\", \"put\", \"take\", \"wish\", \"time\", \"let\", \"little\", \"know\", \"give\", \"ai\", \"see\", \"away\", \"hard\", \"always\", \"star\", \"neverland\", \"chiba\", \"stallion\", \"megan\", \"yuki\", \"du\", \"thee\", \"peter\", \"pan\", \"captain\", \"rip\", \"doorway\", \"wealth\", \"sincere\", \"shootout\", \"faithfully\", \"restrained\", \"nation\", \"persuasion\", \"devour\", \"barber\", \"endless\", \"ordinary\", \"hanging\", \"accept\", \"glitter\", \"bored\", \"usually\", \"flowers\", \"girls\", \"run\", \"boys\", \"lost\", \"world\", \"money\", \"beat\", \"gone\", \"heart\", \"boy\", \"home\", \"free\", \"sound\", \"make\", \"love\", \"song\", \"always\", \"stars\", \"away\", \"say\"], \"Freq\": [131.0, 104.0, 477.0, 93.0, 108.0, 47.0, 131.0, 67.0, 99.0, 80.0, 125.0, 193.0, 216.0, 75.0, 33.0, 42.0, 94.0, 100.0, 44.0, 146.0, 43.0, 27.0, 184.0, 111.0, 58.0, 177.0, 90.0, 116.0, 56.0, 67.0, 27.863584367090073, 14.904084117615941, 12.12750703953248, 11.20145335112672, 11.200658712290716, 11.200241817881414, 10.280282829469504, 25.490962100005216, 11.024395967659563, 8.423848321473116, 8.423521895266848, 8.423405503426688, 7.498708838066433, 7.498886071095768, 7.498767033986513, 7.497897269508225, 7.497856003310349, 7.496993645585525, 7.49556837459738, 7.480310462459999, 6.57230227076346, 6.571654179835295, 6.571524561649661, 6.570031042718877, 6.566884230603997, 6.5661626011950025, 6.558353237774064, 20.4576392965776, 5.649596434923766, 5.648271155107395, 97.43554555861833, 81.72086951614331, 13.68431033002742, 45.45781086607115, 9.351398703132574, 11.202360149372334, 15.983320048749064, 48.45325856714554, 8.425339724188625, 54.69467153362486, 75.45788808357464, 113.73584608675237, 14.465111234343649, 73.38982093788384, 45.677723725085336, 21.133873771693796, 54.53978997003116, 63.83519361697024, 31.702032771862374, 35.623504534328674, 78.8847008740054, 19.720730813293464, 37.23253072728827, 46.024567176332546, 33.64352061705592, 28.03968522125264, 24.219004559934632, 29.316945996803984, 28.828123546498663, 26.49974922461221, 30.603177408908774, 22.566183291845615, 24.65647069793067, 23.776613988992178, 27.493289018158197, 25.97528124420397, 24.377348251719287, 13.675908455027972, 11.88557060412449, 9.16812852264599, 9.167796096524963, 9.16285607147347, 19.145303636138202, 9.13805928330139, 8.256374048562497, 8.255867157668732, 8.255090710842312, 8.219712869966877, 7.349090430749753, 7.347803949520149, 7.34739057803159, 6.440176903303412, 12.791208594756544, 5.536786128967054, 5.534387238341907, 5.533977403301443, 5.533373063615698, 8.537194747218173, 4.627147236722347, 4.6262780563680765, 4.625853289657874, 3.7196447520663267, 3.719107604894406, 3.7188294043108505, 3.7175916474772364, 3.716499277954237, 3.7154560257659055, 4.464784975246354, 10.051603985998835, 6.3468618262092225, 6.435629423990581, 6.441011505054077, 24.758409065588552, 21.971856143662517, 33.3102227033584, 10.955259993942395, 17.166715937818353, 32.71103837305948, 9.029875406656737, 58.144827293746886, 16.31680215277429, 15.15419719883303, 65.86092323500753, 29.735225751316325, 20.871674999757857, 101.43332219538463, 17.987946771171465, 24.219958909013677, 19.865951598621084, 27.974901342465262, 29.274283534723693, 18.42107521642742, 51.306757542261764, 12.794989450709888, 24.9368488059865, 16.75930768662623, 15.367517319740905, 20.179790148456103, 27.321654937183492, 30.626438963103304, 22.598013356528615, 22.728373120367507, 19.95480760760484, 24.184129188659305, 22.737008340740683, 20.610366064064067, 23.23544948118902, 21.019243905909434, 18.136977409202743, 18.89964520672236, 10.818372637362323, 26.899755877790223, 7.255881133306296, 7.2558288763698, 7.254398686528836, 7.247446451200957, 6.358373749704476, 6.351543218031333, 6.351261993202027, 13.354195488169532, 37.71441139674858, 5.464012439957141, 5.463516686651692, 5.463484026066381, 5.463416298326316, 5.462808811439541, 5.46244129390589, 5.458817687914601, 5.458079214890949, 5.455778878298187, 5.4499694196605395, 4.568910938207981, 4.568379086360872, 4.568443376144589, 4.568097173940298, 4.564552640945024, 3.6732566130779865, 3.6689581362554926, 3.6685961194519985, 9.553230829593048, 61.60395870457902, 9.02000723790146, 23.77899638348899, 8.245113192285338, 70.0088048495445, 25.05755584729508, 6.340221340184546, 29.77282024346186, 49.37637463589091, 11.722666546796026, 23.685503223366116, 9.935863682126344, 9.924862909402504, 24.84860236116514, 9.930301068754517, 68.21431265170582, 8.14881534737338, 8.57492253311564, 27.190967282696235, 48.08777908991237, 31.586204699026656, 22.031047238695923, 30.780124951373548, 17.278292616140334, 24.27012632524116, 33.70504470024045, 42.24963964522368, 23.88930527570351, 26.02054392269243, 18.508579047266263, 18.149722413247726, 21.205427522340642, 23.918921206871783, 19.399200891893365, 17.77136156527304, 16.493078513157368, 8.039850225285496, 8.029271073137336, 12.463137791066842, 5.394319642130681, 5.392229961383289, 5.389445577298203, 5.3890336706493915, 5.388994347818956, 5.388811824347685, 5.388674522131414, 5.388697132758915, 5.387696366724331, 10.682684573033452, 93.01218881100509, 4.509950168707353, 4.505925804702534, 4.504863432900269, 4.501044530684476, 3.6254709190490577, 3.6248342168862564, 3.6243502183816463, 3.623507071359059, 3.6230437173404275, 3.622063268101569, 3.6220445897571123, 3.6218528909587393, 3.6216221970201845, 3.6215936879681188, 3.6215887726143143, 3.6215481390228645, 10.689244931911107, 10.693097913913277, 23.066473479945035, 8.040159564884922, 6.276765246074954, 6.272199865461395, 23.937914589791937, 8.922908610004056, 32.77655175265072, 9.806060714135153, 5.388687302051306, 5.384745188300148, 8.024552988865585, 85.20088680849368, 17.894548693005795, 27.488781907248534, 36.114792661376555, 7.158486654558708, 17.755029979859675, 15.949338713872283, 21.12640299474944, 13.165814488011739, 12.762931118023946, 22.473466846323696, 31.374155435609673, 19.315691514076452, 9.72745830837766, 14.523663281213432, 20.391751593616434, 18.126756560532417, 23.69592975585804, 25.370293254279023, 28.501979199293338, 20.57757293960034, 17.126794022451186, 13.552608266546342, 14.827814888543804, 18.505538967746297, 22.80262253076698, 19.682113444923445, 18.07870930478431, 16.34598155066996, 14.644641279809221, 14.214115270786298, 12.49742460026885, 12.495322418543584, 12.495438770641561, 10.731048756699577, 10.724285300756998, 10.724261115208542, 10.723877414750604, 10.723351215655814, 8.071414978731054, 7.181076959060276, 7.1800539757269295, 7.156890103277214, 11.597522176678885, 5.410351638749733, 5.410059124346107, 5.407577490975468, 5.407075804260872, 10.724660503589803, 10.724889939468401, 4.522413871347355, 4.518317689201402, 12.51125873398575, 3.635234353572252, 3.634329683327299, 3.6343277223368835, 3.6335603214210055, 3.633470115861899, 3.6322539749726395, 3.6295193738384186, 3.6267226746743777, 17.820418037995083, 13.560357230357207, 79.11096037580941, 11.609458071673716, 10.723632290948682, 10.724902359074365, 12.136159180008566, 5.4099584601714525, 16.92492784283968, 41.40629170311512, 12.500587024145355, 38.3289695813286, 12.49496682561493, 15.961801780931534, 11.48670660830684, 38.62435226026748, 47.75829002209008, 46.302482113572765, 38.13256985459549, 30.953355182766334, 47.27945276781335, 18.00100825999956, 25.471032581118966, 22.878028028156635, 25.737967825765672, 21.460073771290503, 31.332853891908645, 14.276211552176942, 20.591207289340982, 15.928768243721308, 15.63961759232245, 15.427817554194034, 15.772375336115443, 14.74385808781667, 13.40133005896004, 12.770574877205306, 12.570386516989712, 12.56686588553067, 11.340217980368376, 11.337294610519603, 20.859425116370023, 8.757389913117866, 8.755670627470977, 8.755281305141915, 7.01231073244126, 6.148479905497834, 6.147855290137704, 5.283809884448111, 5.281779353392178, 5.277935525704029, 5.2776449945798865, 4.421582024474816, 4.421374350490283, 3.554134961409412, 3.553536106121532, 3.5517775164468794, 3.5514583040051804, 3.5479419213591408, 22.624067611298056, 8.754972715410423, 19.140258443835148, 14.344145151990793, 2.687430956922938, 2.687414226154363, 2.686653905671348, 2.6857403525936063, 2.6855244460086634, 2.685489922200493, 9.617115593702067, 7.01747443187254, 5.142613882657031, 30.300448042982303, 6.967794140779731, 26.367281237456698, 30.27675302559614, 20.022000753592923, 8.217125245651719, 125.90654803145738, 11.34995794335653, 24.17870762361576, 18.4773184698226, 35.61820651584321, 17.42854360250999, 18.228341263465367, 38.74589357272409, 31.70461948976985, 12.20677937497033, 12.221760583174271, 34.903453210528426, 21.18507916953835, 14.818349309226019, 18.188535843780333, 28.383873173057687, 21.33864106828058, 17.720695752229698, 16.834700109305324, 13.21510189954634, 14.52665074923212, 13.306878928915685, 13.526599066822733, 12.575587126080718, 11.286380234021156, 9.574942891046895, 8.712778363126148, 8.711784731025714, 8.7025963667151, 7.849089294387083, 6.98791839856677, 6.986527105426665, 6.986167440795236, 6.981983671898805, 6.977697364749997, 9.295240399512814, 13.870251545116036, 6.124469279748239, 6.11121842274832, 5.262032010486148, 5.261875860863241, 5.2613595261101604, 5.254755958557408, 5.252720287973439, 10.43889689364616, 15.614842576025989, 5.144988499139701, 4.398376253666637, 8.7000183364409, 4.294234865162282, 3.5368769231394754, 3.5368641709202713, 3.5367077610479924, 3.536564363644289, 6.972210787499775, 6.124591076454107, 13.803007271507207, 42.36321364320157, 8.708682558517287, 14.241349451935287, 23.37670200656833, 23.279585269099833, 23.723993341879122, 8.71065004376592, 25.950818130221442, 15.406653488791024, 17.539177437864613, 44.255180770206465, 17.329579881031027, 21.233665023883127, 36.72052424598178, 17.224186172550954, 11.299346898707382, 21.235634591126733, 14.238601218572116, 15.851304113984561, 16.490191337107547, 12.540636465062304, 11.829892308469805, 12.048736004974483, 13.014041522815491, 11.231014782725632, 13.605050148562619, 11.910767403160962, 12.868301874768614, 11.6934820798929, 11.393537392242594, 24.150451125074323, 19.004962313322704, 17.283225866788115, 10.376595397130538, 6.966631322666381, 6.961138434676405, 5.245189311723686, 5.242962866587075, 4.388328996939428, 4.383888908213682, 4.380051004281094, 7.829608216833528, 3.5276294980678364, 3.5274323542367427, 3.5259545435963893, 3.5256542192926585, 3.525632968723852, 3.524910961446341, 3.5242117409233322, 3.5228350625080203, 3.5216947006590713, 6.967837228438396, 2.6668434607353224, 2.6668204179498702, 2.666788926143085, 2.6667087884559, 2.6667034118059614, 2.6662935062558564, 2.6656375549633085, 2.665565098204608, 5.247480788721462, 5.247793146479817, 11.989569896329343, 12.133403987247625, 4.377888054819953, 47.38481531994679, 6.961923937629386, 8.17498219024783, 17.261358775455594, 36.66207529624403, 48.409275030441236, 20.78201783092405, 8.676945204421218, 9.533647292078701, 30.12604962594745, 14.49405645107587, 6.049241706993608, 30.002964283174393, 27.735505036706428, 23.07581958972131, 22.66630730315473, 10.41225743602062, 14.334767307923649, 22.533394468417136, 25.137329588681443, 17.986592042930504, 9.524489577077981, 17.564579301286894, 13.955206545950125, 20.304171908067143, 19.80215256708487, 11.630486489694604, 10.696335039821786, 12.88871474654273, 11.2529053590224, 11.429845275831232, 12.1609134720101, 8.141406100989284, 7.326623245731176, 5.723578844385643, 5.719697575997969, 5.71946316481261, 24.170312957910536, 28.098198054941765, 8.140426276064051, 7.331913747144697, 3.302860516495905, 3.2977110766806534, 9.754096972073325, 5.71878551595818, 2.49904900363456, 2.4989471834367896, 2.4984297847068633, 2.49829615650164, 2.497368538197335, 6.528770548179074, 93.28515236460395, 1.6927841253288058, 1.6927642453241478, 1.6926786748693154, 1.692670204258635, 1.6926491141667368, 1.6926292341620788, 1.6926259496395701, 1.6926107371142665, 1.692596216067386, 41.9930946281948, 25.864061695639272, 3.3031972664878517, 3.2862916562658597, 17.732946176539418, 6.528410979399172, 13.857771096728142, 6.529821595381865, 7.335389809176559, 45.0255068698442, 19.420752348701846, 66.01426675394303, 4.916598977390622, 4.820719616490522, 8.927828660211038, 6.841083692660944, 6.525322836762552, 22.193258595540108, 28.4075433740326, 15.411380668403734, 14.317925093937287, 9.757048201982213, 11.588456464139613, 12.55707252413775, 9.9069738621545, 12.819871664670258, 9.91689381160926, 9.772558063007605, 9.504353635643376, 9.016769380876662, 8.454844280865194, 8.224870312545631, 44.65890719665283, 7.965469234083651, 6.532276327661631, 6.5320469281828615, 6.531493092298406, 6.530594337911942, 5.093517616385977, 4.3785384295002885, 3.660512325966236, 3.6598884413123693, 2.942045857361332, 2.224462986391615, 2.2242219121179443, 2.2241405981955595, 2.2237807277632404, 1.506850723613681, 1.5067943978488045, 1.506357412323846, 1.5051539867546428, 1.505138113129996, 1.50513002270195, 1.5050885464569046, 1.504976919031968, 2.941689468885387, 2.9427148026270995, 5.093943234347479, 2.2249465686856986, 2.224700988350838, 2.225153233037554, 2.224280900555342, 50.90415725791093, 45.23172424940993, 8.687041198132391, 13.7077322632058, 23.25873613971043, 10.119724509998003, 3.6387333033086744, 4.990099825295705, 8.774515315806289, 7.966287698652545, 6.538238665899994, 4.377757242346695, 3.660020346012662, 5.815491439164489, 7.193839845915949, 3.6638160881024366, 4.380637025089099, 3.8069503025223033, 3.6788741156739917, 3.6645972752560305], \"Total\": [131.0, 104.0, 477.0, 93.0, 108.0, 47.0, 131.0, 67.0, 99.0, 80.0, 125.0, 193.0, 216.0, 75.0, 33.0, 42.0, 94.0, 100.0, 44.0, 146.0, 43.0, 27.0, 184.0, 111.0, 58.0, 177.0, 90.0, 116.0, 56.0, 67.0, 28.657759817718013, 15.68610046765938, 12.906349501810709, 11.97971256158472, 11.979914174873823, 11.979858085388138, 11.053371233854232, 27.640593519710627, 11.966842002419906, 9.200148042940201, 9.199903967534553, 9.200286260075565, 8.273551552435492, 8.273804849337427, 8.273796472678615, 8.273480498257676, 8.273490268230937, 8.273411457305844, 8.273562088315362, 8.271906635945177, 7.347037472420753, 7.346998940116022, 7.3469188083586925, 7.34654139961973, 7.346716535158969, 7.346733143435905, 7.34644636724047, 23.01374051608684, 6.420569262405151, 6.420705002257049, 125.57095739591708, 111.60774136496754, 16.540099428251214, 63.57512619348471, 11.010746858765108, 13.736048180245369, 21.944246182190845, 87.34221254438503, 10.107666119795518, 114.85121486000632, 177.76211508135802, 385.3466516607032, 20.93520668516965, 259.6472196026767, 134.65289894830104, 41.39654963556945, 184.50787861138926, 290.8421454458257, 90.81857108207485, 111.709664846319, 477.35777284392015, 43.986543494465614, 150.6816882448027, 228.402720323865, 131.4658508200828, 99.13523674590917, 70.79019885152535, 116.8885488481979, 113.29492216590336, 94.65902744257639, 152.27702911078146, 66.80691574207873, 100.62518677095736, 95.9871601777574, 193.92248803614407, 146.81358357217172, 118.34525011429028, 14.482299425630726, 12.665748887122568, 9.942148921162726, 9.942138290915851, 9.941976723414045, 20.81448331194185, 9.941682761528408, 9.033945843095514, 9.033568048413997, 9.034139265028745, 9.030753531227376, 8.12567339281769, 8.12587745866906, 8.125938453604, 7.217784807146313, 14.461212210076457, 6.309847103936913, 6.309579894659038, 6.30954394493608, 6.3097519441540735, 9.871096116619078, 5.401699266637552, 5.401688485078455, 5.401658276041799, 4.4935062381102755, 4.493506492841369, 4.493500761675969, 4.493237390785147, 4.493158092291091, 4.493158359667421, 5.404446636388405, 12.584049476145479, 7.930329980088351, 8.080389465970429, 8.104463792803633, 36.721653792286425, 33.20471233456415, 56.94245677332784, 15.215320616640211, 26.031141155573305, 61.61599356601926, 12.597109780041135, 152.27702911078146, 28.652832723953495, 26.092551423224144, 216.99403484859673, 70.45747964628964, 42.188586612162226, 477.35777284392015, 35.81372215697489, 65.29114120027101, 48.97746475590038, 100.62518677095736, 114.85121486000632, 45.9784921874891, 385.3466516607032, 22.46363390692641, 98.65001421404128, 41.25935626316445, 33.93745200363241, 67.08810306025279, 150.6816882448027, 228.402720323865, 111.709664846319, 118.34525011429028, 85.12498804168735, 193.92248803614407, 184.50787861138926, 118.47568274871877, 290.8421454458257, 259.6472196026767, 113.29492216590336, 19.6860005766793, 11.617355179016648, 29.523172814651197, 8.03273809454858, 8.032810903090715, 8.03266115144997, 8.03255731522531, 7.13621442617001, 7.136110176003953, 7.1361299846043265, 15.017842105671392, 43.04889690079589, 6.239961435067435, 6.2398716182143925, 6.239913284807014, 6.239926061517307, 6.239850080944037, 6.239836929065939, 6.239732061019823, 6.23957889304701, 6.2394848631564885, 6.240142094841563, 5.343458647584544, 5.343433766721074, 5.343531880605665, 5.343535744359283, 5.343389405682469, 4.447125550538378, 4.446984366369369, 4.44711738805687, 11.5971305788798, 80.37363066951112, 11.613395801723422, 35.6817949546619, 10.676940321535021, 146.81358357217172, 42.78921060572338, 7.999580235443552, 58.223998641154395, 118.34525011429028, 17.782911619811422, 47.13850657628547, 14.270658540294434, 14.270247705232709, 52.1190100012671, 15.13373139078891, 290.8421454458257, 11.456675752006726, 12.484330296272475, 77.62014183209818, 259.6472196026767, 148.98845399833434, 75.30715080316658, 161.20019611669647, 51.43083958282446, 108.68565381717109, 228.402720323865, 385.3466516607032, 117.59131744645364, 152.27702911078146, 70.9092957352073, 70.03832164691386, 118.47568274871877, 193.92248803614407, 151.87013171736334, 109.91808640015847, 114.88113188417817, 8.821062231399566, 8.820630679579548, 14.106276347892859, 6.167861636399971, 6.167714478863824, 6.167850895439099, 6.167843124571532, 6.167838377663919, 6.1678385797603195, 6.167844899981324, 6.167894281939887, 6.167878554129255, 12.360445235902528, 108.52196010530268, 5.283461521839029, 5.28330681196621, 5.283288365952686, 5.283229382970629, 4.399049637305215, 4.399038163984536, 4.398987044318501, 4.3991537659098965, 4.399091721746607, 4.398924731763963, 4.398952963759907, 4.398972722176668, 4.399032910777023, 4.399041771140485, 4.399037386684993, 4.399035015980683, 13.197095412943348, 13.248840834508519, 29.241583144850733, 10.257535995207183, 7.915083831820278, 7.915030187261624, 37.42317491221029, 12.484140338828773, 58.402637911302115, 14.295097248315445, 7.034643236463821, 7.030968150996196, 11.495661472682444, 216.99403484859673, 36.1932860025944, 70.45747964628964, 117.59131744645364, 10.619303846216715, 43.33881837344852, 38.18697018171837, 67.51367784161515, 30.30705758081711, 29.53582635594875, 86.60878302844225, 161.20019611669647, 66.28294672632215, 18.55452311727162, 40.541943510152024, 79.65414129799596, 70.03832164691386, 148.98845399833434, 177.76211508135802, 290.8421454458257, 131.4658508200828, 80.37363066951112, 42.188586612162226, 60.54516643236042, 137.5631567674718, 385.3466516607032, 228.402720323865, 259.6472196026767, 151.87013171736334, 184.50787861138926, 131.78767951619747, 13.285477591214798, 13.285202580410699, 13.285498811970362, 11.510339603463365, 11.510668261278584, 11.51065902197842, 11.510654904170805, 11.510640741603257, 8.848190913298609, 7.960970402694962, 7.9610082774815805, 7.962060646516663, 13.258726351382746, 6.186103949855853, 6.18610613793144, 6.186223665775771, 6.18598676554637, 12.316703718249595, 12.406426956152782, 5.298560575738299, 5.298360143194898, 15.065397327129933, 4.41100102322998, 4.411146966029045, 4.411149542782741, 4.411095806453827, 4.411185952388755, 4.41102061962108, 4.411041470617859, 4.4115439778228405, 22.229674110712455, 16.944147003494447, 131.9716712132552, 15.98170700110737, 15.029223240887388, 15.927454755560248, 18.694239614236118, 7.111791916430723, 28.296307539924065, 94.65902744257639, 19.982202184944697, 108.68565381717109, 21.047779710531238, 31.260745342011965, 19.527146099355665, 134.65289894830104, 228.402720323865, 259.6472196026767, 193.92248803614407, 137.5631567674718, 385.3466516607032, 48.98078610956791, 109.91808640015847, 98.65001421404128, 184.50787861138926, 114.88113188417817, 477.35777284392015, 34.67847735566968, 290.8421454458257, 85.12498804168735, 113.29492216590336, 118.47568274871877, 152.27702911078146, 125.57095739591708, 65.162318818442, 67.05734532251833, 148.98845399833434, 70.79019885152535, 12.13514582599299, 12.135248691762168, 22.557667647113345, 9.533443750073069, 9.533467722657106, 9.533460203254583, 7.79985281035864, 6.932105374148975, 6.9324778115628884, 6.0648954548518, 6.065207912451996, 6.065121147924522, 6.065123860071706, 5.19750045372825, 5.197503052775349, 4.3302930792456396, 4.3303233891929445, 4.33036227017315, 4.330441224590926, 4.33054580504168, 28.6454142436602, 11.145932236942683, 24.413570859273488, 18.31661431060744, 3.463105512090398, 3.4631114148262334, 3.463131409607938, 3.4629966408328645, 3.4629847376832306, 3.4631342650608814, 13.12417868874221, 9.651669108441645, 6.96709326981669, 56.744665527997164, 10.37313147068268, 50.85576837341706, 65.162318818442, 39.95074494677098, 13.006930879315112, 477.35777284392015, 20.113192777699012, 60.75809394350157, 42.1792159182097, 109.91808640015847, 41.07539429360452, 46.32357367325015, 177.76211508135802, 151.87013171736334, 30.52071785459666, 30.76838097942049, 290.8421454458257, 100.62518677095736, 58.402637911302115, 99.13523674590917, 385.3466516607032, 259.6472196026767, 161.20019611669647, 148.98845399833434, 67.08810306025279, 114.88113188417817, 86.60878302844225, 114.85121486000632, 58.223998641154395, 12.085001342475547, 10.358377873894312, 9.494906293226292, 9.494862830317686, 9.495018052037572, 8.631534255167097, 7.768222234520807, 7.768300212821932, 7.76835195647963, 7.7682488264736715, 7.768399624679354, 10.358972633518064, 15.53622387174295, 6.904972840503861, 6.904768196846766, 6.041532912031884, 6.041656428082699, 6.041643439764834, 6.0416103320190855, 6.041634320514438, 12.108472697461616, 18.234450070905382, 6.041814548256119, 5.178293511362837, 10.301145407632657, 5.178403698627802, 4.314895340404735, 4.314884553269, 4.314937462241493, 4.314946279452572, 8.652101669502597, 7.812381222401208, 20.0598312770361, 75.30715080316658, 12.21084567793128, 22.50603674305611, 43.62210943877795, 56.00781832072225, 65.29114120027101, 13.98860730533975, 90.81857108207485, 42.4578909841939, 55.920549210971686, 385.3466516607032, 66.80691574207873, 116.8885488481979, 477.35777284392015, 77.62014183209818, 27.205205013578915, 150.6816882448027, 60.75809394350157, 137.5631567674718, 161.20019611669647, 70.79019885152535, 53.646186227593645, 70.9092957352073, 114.88113188417817, 45.80469710833937, 216.99403484859673, 111.709664846319, 290.8421454458257, 134.65289894830104, 94.65902744257639, 24.962034380589444, 19.7968536302479, 18.07544579487083, 11.190134068656032, 7.746839325848495, 7.747427995131823, 6.02566098005952, 6.025806946478239, 5.164963795732131, 5.165142123247307, 5.165311823841471, 9.470674527772038, 4.304279515356803, 4.304279782544086, 4.304307009959874, 4.304162775614819, 4.3043093802936365, 4.304402348482122, 4.304413598796489, 4.3044694514557085, 4.30454049954984, 8.610032808194116, 3.4436330486874627, 3.443637404340304, 3.443637489787886, 3.4436429680687377, 3.4436423814284014, 3.443660285318776, 3.4436024080088115, 3.4436112298356623, 6.9095548605014425, 6.951179481255962, 17.51160905690706, 18.92520543944245, 6.061252246434311, 104.70215850756888, 12.083137240903852, 14.985142430695998, 40.20816031106486, 116.8885488481979, 184.50787861138926, 55.920549210971686, 17.677206741252014, 20.703357532144224, 131.9716712132552, 41.74459857089127, 10.272969090669264, 150.6816882448027, 151.87013171736334, 113.29492216590336, 131.4658508200828, 29.271750078267296, 57.42844396349646, 161.20019611669647, 228.402720323865, 118.47568274871877, 25.373320098216308, 146.81358357217172, 100.62518677095736, 385.3466516607032, 477.35777284392015, 79.65414129799596, 60.75809394350157, 259.6472196026767, 111.709664846319, 193.92248803614407, 12.957993151382937, 8.925096643652536, 8.119321395218172, 6.506025732323998, 6.5063260810762635, 6.506383776877593, 27.730668439596197, 33.61624499805139, 9.791908324228125, 9.005906142460043, 4.0871727630488515, 4.087601801180408, 12.271699250025787, 7.366869451216256, 3.2806319818969443, 3.2806567694053745, 3.28070923379439, 3.2807259275876066, 3.2807754143133376, 9.071236672370736, 131.78767951619747, 2.4742918068336106, 2.474293064362465, 2.4743019173630705, 2.474302435288416, 2.4743036822193876, 2.474305219489775, 2.474305663052615, 2.474306119852609, 2.4743068360475484, 67.51367784161515, 42.99918548647514, 4.983050829712456, 4.99652016902051, 32.22729431522769, 11.728910190283425, 30.462140419662198, 12.63736346614629, 15.281385597187283, 193.92248803614407, 67.05734532251833, 477.35777284392015, 9.287267731134873, 9.219519941956639, 25.538361677983545, 17.06282230500699, 15.845162647993766, 148.98845399833434, 290.8421454458257, 95.9871601777574, 137.5631567674718, 50.2889735998398, 151.87013171736334, 259.6472196026767, 94.65902744257639, 385.3466516607032, 114.88113188417817, 108.68565381717109, 117.59131744645364, 86.60878302844225, 53.19137603873981, 70.66611512427814, 47.105986484649904, 8.762310100586456, 7.325335383977441, 7.325383727308762, 7.325495358401954, 7.325676577183942, 5.889964668646847, 5.170847070428427, 4.452735095147639, 4.452875609148587, 3.7346947463797906, 3.016327403698871, 3.016362165727588, 3.016618467703357, 3.0167136151970233, 2.2981116322012265, 2.2982734382747925, 2.2984000543669447, 2.2983529783533276, 2.2983548940382312, 2.2983486048991466, 2.29836468946152, 2.298375289703585, 4.5952040185619385, 4.630387021151681, 8.421942857071134, 3.9121799076208372, 3.9122601458688875, 3.9237400455954234, 3.9239466322188328, 104.70215850756888, 93.47887188766353, 17.445867193667844, 44.13803194107197, 99.13523674590917, 38.991716614428015, 12.428315355427277, 26.954114337648097, 100.62518677095736, 90.81857108207485, 87.34221254438503, 29.271750078267296, 20.0598312770361, 161.20019611669647, 477.35777284392015, 25.837511478018104, 70.66611512427814, 33.583601105055926, 86.60878302844225, 152.27702911078146], \"Category\": [\"Default\", \"Default\", \"Default\", \"Default\", \"Default\", \"Default\", \"Default\", \"Default\", \"Default\", \"Default\", \"Default\", \"Default\", \"Default\", \"Default\", \"Default\", \"Default\", \"Default\", \"Default\", \"Default\", \"Default\", \"Default\", \"Default\", \"Default\", \"Default\", \"Default\", \"Default\", \"Default\", \"Default\", \"Default\", \"Default\", \"Topic1\", \"Topic1\", \"Topic1\", \"Topic1\", \"Topic1\", \"Topic1\", \"Topic1\", \"Topic1\", \"Topic1\", \"Topic1\", \"Topic1\", \"Topic1\", \"Topic1\", \"Topic1\", \"Topic1\", \"Topic1\", \"Topic1\", \"Topic1\", \"Topic1\", \"Topic1\", \"Topic1\", \"Topic1\", \"Topic1\", \"Topic1\", \"Topic1\", \"Topic1\", \"Topic1\", \"Topic1\", \"Topic1\", \"Topic1\", \"Topic1\", \"Topic1\", \"Topic1\", \"Topic1\", \"Topic1\", \"Topic1\", \"Topic1\", \"Topic1\", \"Topic1\", \"Topic1\", \"Topic1\", \"Topic1\", \"Topic1\", \"Topic1\", \"Topic1\", \"Topic1\", \"Topic1\", \"Topic1\", \"Topic1\", \"Topic1\", \"Topic1\", \"Topic1\", \"Topic1\", \"Topic1\", \"Topic1\", \"Topic1\", \"Topic1\", \"Topic1\", \"Topic1\", \"Topic1\", \"Topic1\", \"Topic1\", \"Topic1\", \"Topic1\", \"Topic1\", \"Topic1\", \"Topic1\", \"Topic2\", \"Topic2\", \"Topic2\", \"Topic2\", \"Topic2\", \"Topic2\", \"Topic2\", \"Topic2\", \"Topic2\", \"Topic2\", \"Topic2\", \"Topic2\", \"Topic2\", \"Topic2\", \"Topic2\", \"Topic2\", \"Topic2\", \"Topic2\", \"Topic2\", \"Topic2\", \"Topic2\", \"Topic2\", \"Topic2\", \"Topic2\", \"Topic2\", \"Topic2\", \"Topic2\", \"Topic2\", \"Topic2\", \"Topic2\", \"Topic2\", \"Topic2\", \"Topic2\", \"Topic2\", \"Topic2\", \"Topic2\", \"Topic2\", \"Topic2\", \"Topic2\", \"Topic2\", \"Topic2\", \"Topic2\", \"Topic2\", \"Topic2\", \"Topic2\", \"Topic2\", \"Topic2\", \"Topic2\", \"Topic2\", \"Topic2\", \"Topic2\", \"Topic2\", \"Topic2\", \"Topic2\", \"Topic2\", \"Topic2\", \"Topic2\", \"Topic2\", \"Topic2\", \"Topic2\", \"Topic2\", \"Topic2\", \"Topic2\", \"Topic2\", \"Topic2\", \"Topic2\", \"Topic2\", \"Topic2\", \"Topic2\", \"Topic2\", \"Topic2\", \"Topic2\", \"Topic3\", \"Topic3\", \"Topic3\", \"Topic3\", \"Topic3\", \"Topic3\", \"Topic3\", \"Topic3\", \"Topic3\", \"Topic3\", \"Topic3\", \"Topic3\", \"Topic3\", \"Topic3\", \"Topic3\", \"Topic3\", \"Topic3\", \"Topic3\", \"Topic3\", \"Topic3\", \"Topic3\", \"Topic3\", \"Topic3\", \"Topic3\", \"Topic3\", \"Topic3\", \"Topic3\", \"Topic3\", \"Topic3\", \"Topic3\", \"Topic3\", \"Topic3\", \"Topic3\", \"Topic3\", \"Topic3\", \"Topic3\", \"Topic3\", \"Topic3\", \"Topic3\", \"Topic3\", \"Topic3\", \"Topic3\", \"Topic3\", \"Topic3\", \"Topic3\", \"Topic3\", \"Topic3\", \"Topic3\", \"Topic3\", \"Topic3\", \"Topic3\", \"Topic3\", \"Topic3\", \"Topic3\", \"Topic3\", \"Topic3\", \"Topic3\", \"Topic3\", \"Topic3\", \"Topic3\", \"Topic3\", \"Topic3\", \"Topic3\", \"Topic3\", \"Topic3\", \"Topic3\", \"Topic3\", \"Topic4\", \"Topic4\", \"Topic4\", \"Topic4\", \"Topic4\", \"Topic4\", \"Topic4\", \"Topic4\", \"Topic4\", \"Topic4\", \"Topic4\", \"Topic4\", \"Topic4\", \"Topic4\", \"Topic4\", \"Topic4\", \"Topic4\", \"Topic4\", \"Topic4\", \"Topic4\", \"Topic4\", \"Topic4\", \"Topic4\", \"Topic4\", \"Topic4\", \"Topic4\", \"Topic4\", \"Topic4\", \"Topic4\", \"Topic4\", \"Topic4\", \"Topic4\", \"Topic4\", \"Topic4\", \"Topic4\", \"Topic4\", \"Topic4\", \"Topic4\", \"Topic4\", \"Topic4\", \"Topic4\", \"Topic4\", \"Topic4\", \"Topic4\", \"Topic4\", \"Topic4\", \"Topic4\", \"Topic4\", \"Topic4\", \"Topic4\", \"Topic4\", \"Topic4\", \"Topic4\", \"Topic4\", \"Topic4\", \"Topic4\", \"Topic4\", \"Topic4\", \"Topic4\", \"Topic4\", \"Topic4\", \"Topic4\", \"Topic4\", \"Topic4\", \"Topic4\", \"Topic4\", \"Topic4\", \"Topic4\", \"Topic4\", \"Topic4\", \"Topic4\", \"Topic4\", \"Topic4\", \"Topic4\", \"Topic5\", \"Topic5\", \"Topic5\", \"Topic5\", \"Topic5\", \"Topic5\", \"Topic5\", \"Topic5\", \"Topic5\", \"Topic5\", \"Topic5\", \"Topic5\", \"Topic5\", \"Topic5\", \"Topic5\", \"Topic5\", \"Topic5\", \"Topic5\", \"Topic5\", \"Topic5\", \"Topic5\", \"Topic5\", \"Topic5\", \"Topic5\", \"Topic5\", \"Topic5\", \"Topic5\", \"Topic5\", \"Topic5\", \"Topic5\", \"Topic5\", \"Topic5\", \"Topic5\", \"Topic5\", \"Topic5\", \"Topic5\", \"Topic5\", \"Topic5\", \"Topic5\", \"Topic5\", \"Topic5\", \"Topic5\", \"Topic5\", \"Topic5\", \"Topic5\", \"Topic5\", \"Topic5\", \"Topic5\", \"Topic5\", \"Topic5\", \"Topic5\", \"Topic5\", \"Topic5\", \"Topic5\", \"Topic5\", \"Topic5\", \"Topic5\", \"Topic5\", \"Topic5\", \"Topic5\", \"Topic5\", \"Topic5\", \"Topic5\", \"Topic5\", \"Topic5\", \"Topic5\", \"Topic5\", \"Topic5\", \"Topic6\", \"Topic6\", \"Topic6\", \"Topic6\", \"Topic6\", \"Topic6\", \"Topic6\", \"Topic6\", \"Topic6\", \"Topic6\", \"Topic6\", \"Topic6\", \"Topic6\", \"Topic6\", \"Topic6\", \"Topic6\", \"Topic6\", \"Topic6\", \"Topic6\", \"Topic6\", \"Topic6\", \"Topic6\", \"Topic6\", \"Topic6\", \"Topic6\", \"Topic6\", \"Topic6\", \"Topic6\", \"Topic6\", \"Topic6\", \"Topic6\", \"Topic6\", \"Topic6\", \"Topic6\", \"Topic6\", \"Topic6\", \"Topic6\", \"Topic6\", \"Topic6\", \"Topic6\", \"Topic6\", \"Topic6\", \"Topic6\", \"Topic6\", \"Topic6\", \"Topic6\", \"Topic6\", \"Topic6\", \"Topic6\", \"Topic6\", \"Topic6\", \"Topic6\", \"Topic6\", \"Topic6\", \"Topic6\", \"Topic6\", \"Topic6\", \"Topic6\", \"Topic6\", \"Topic6\", \"Topic6\", \"Topic6\", \"Topic6\", \"Topic7\", \"Topic7\", \"Topic7\", \"Topic7\", \"Topic7\", \"Topic7\", \"Topic7\", \"Topic7\", \"Topic7\", \"Topic7\", \"Topic7\", \"Topic7\", \"Topic7\", \"Topic7\", \"Topic7\", \"Topic7\", \"Topic7\", \"Topic7\", \"Topic7\", \"Topic7\", \"Topic7\", \"Topic7\", \"Topic7\", \"Topic7\", \"Topic7\", \"Topic7\", \"Topic7\", \"Topic7\", \"Topic7\", \"Topic7\", \"Topic7\", \"Topic7\", \"Topic7\", \"Topic7\", \"Topic7\", \"Topic7\", \"Topic7\", \"Topic7\", \"Topic7\", \"Topic7\", \"Topic7\", \"Topic7\", \"Topic7\", \"Topic7\", \"Topic7\", \"Topic7\", \"Topic7\", \"Topic7\", \"Topic7\", \"Topic7\", \"Topic7\", \"Topic7\", \"Topic7\", \"Topic7\", \"Topic7\", \"Topic7\", \"Topic7\", \"Topic7\", \"Topic7\", \"Topic7\", \"Topic7\", \"Topic7\", \"Topic7\", \"Topic8\", \"Topic8\", \"Topic8\", \"Topic8\", \"Topic8\", \"Topic8\", \"Topic8\", \"Topic8\", \"Topic8\", \"Topic8\", \"Topic8\", \"Topic8\", \"Topic8\", \"Topic8\", \"Topic8\", \"Topic8\", \"Topic8\", \"Topic8\", \"Topic8\", \"Topic8\", \"Topic8\", \"Topic8\", \"Topic8\", \"Topic8\", \"Topic8\", \"Topic8\", \"Topic8\", \"Topic8\", \"Topic8\", \"Topic8\", \"Topic8\", \"Topic8\", \"Topic8\", \"Topic8\", \"Topic8\", \"Topic8\", \"Topic8\", \"Topic8\", \"Topic8\", \"Topic8\", \"Topic8\", \"Topic8\", \"Topic8\", \"Topic8\", \"Topic8\", \"Topic8\", \"Topic8\", \"Topic8\", \"Topic8\", \"Topic8\", \"Topic8\", \"Topic8\", \"Topic8\", \"Topic8\", \"Topic8\", \"Topic8\", \"Topic8\", \"Topic8\", \"Topic8\", \"Topic8\", \"Topic8\", \"Topic8\", \"Topic8\", \"Topic8\", \"Topic8\", \"Topic8\", \"Topic9\", \"Topic9\", \"Topic9\", \"Topic9\", \"Topic9\", \"Topic9\", \"Topic9\", \"Topic9\", \"Topic9\", \"Topic9\", \"Topic9\", \"Topic9\", \"Topic9\", \"Topic9\", \"Topic9\", \"Topic9\", \"Topic9\", \"Topic9\", \"Topic9\", \"Topic9\", \"Topic9\", \"Topic9\", \"Topic9\", \"Topic9\", \"Topic9\", \"Topic9\", \"Topic9\", \"Topic9\", \"Topic9\", \"Topic9\", \"Topic9\", \"Topic9\", \"Topic9\", \"Topic9\", \"Topic9\", \"Topic9\", \"Topic9\", \"Topic9\", \"Topic9\", \"Topic9\", \"Topic9\", \"Topic9\", \"Topic9\", \"Topic9\", \"Topic9\", \"Topic9\", \"Topic9\", \"Topic9\", \"Topic9\", \"Topic9\", \"Topic9\", \"Topic9\", \"Topic9\", \"Topic9\", \"Topic9\", \"Topic9\", \"Topic9\", \"Topic9\", \"Topic9\", \"Topic9\", \"Topic9\", \"Topic9\", \"Topic10\", \"Topic10\", \"Topic10\", \"Topic10\", \"Topic10\", \"Topic10\", \"Topic10\", \"Topic10\", \"Topic10\", \"Topic10\", \"Topic10\", \"Topic10\", \"Topic10\", \"Topic10\", \"Topic10\", \"Topic10\", \"Topic10\", \"Topic10\", \"Topic10\", \"Topic10\", \"Topic10\", \"Topic10\", \"Topic10\", \"Topic10\", \"Topic10\", \"Topic10\", \"Topic10\", \"Topic10\", \"Topic10\", \"Topic10\", \"Topic10\", \"Topic10\", \"Topic10\", \"Topic10\", \"Topic10\", \"Topic10\", \"Topic10\", \"Topic10\", \"Topic10\", \"Topic10\", \"Topic10\", \"Topic10\", \"Topic10\", \"Topic10\", \"Topic10\", \"Topic10\", \"Topic10\", \"Topic10\", \"Topic10\", \"Topic10\"], \"logprob\": [30.0, 29.0, 28.0, 27.0, 26.0, 25.0, 24.0, 23.0, 22.0, 21.0, 20.0, 19.0, 18.0, 17.0, 16.0, 15.0, 14.0, 13.0, 12.0, 11.0, 10.0, 9.0, 8.0, 7.0, 6.0, 5.0, 4.0, 3.0, 2.0, 1.0, -5.0944, -5.72, -5.9262, -6.0056, -6.0057, -6.0057, -6.0915, -5.1834, -6.0216, -6.2906, -6.2907, -6.2907, -6.407, -6.4069, -6.4069, -6.4071, -6.4071, -6.4072, -6.4074, -6.4094, -6.5388, -6.5389, -6.5389, -6.5392, -6.5396, -6.5398, -6.5409, -5.4033, -6.6901, -6.6903, -3.8425, -4.0184, -5.8054, -4.6049, -6.1862, -6.0056, -5.6501, -4.5411, -6.2904, -4.4199, -4.0981, -3.6878, -5.7499, -4.1259, -4.6001, -5.3708, -4.4228, -4.2654, -4.9653, -4.8487, -4.0537, -5.44, -4.8045, -4.5925, -4.9059, -5.0881, -5.2345, -5.0435, -5.0603, -5.1445, -5.0006, -5.3052, -5.2166, -5.253, -5.1077, -5.1645, -5.228, -5.5086, -5.6489, -5.9085, -5.9085, -5.9091, -5.1722, -5.9118, -6.0133, -6.0133, -6.0134, -6.0177, -6.1297, -6.1298, -6.1299, -6.2617, -5.5755, -6.4128, -6.4133, -6.4133, -6.4134, -5.9798, -6.5923, -6.5925, -6.5926, -6.8106, -6.8108, -6.8108, -6.8112, -6.8115, -6.8117, -6.628, -5.8165, -6.2763, -6.2624, -6.2616, -4.9151, -5.0345, -4.6184, -5.7304, -5.2813, -4.6365, -5.9237, -4.0613, -5.332, -5.406, -3.9367, -4.7319, -5.0859, -3.5048, -5.2345, -4.9371, -5.1352, -4.7929, -4.7475, -5.2107, -4.1864, -5.5752, -4.9079, -5.3053, -5.392, -5.1196, -4.8166, -4.7024, -5.0064, -5.0006, -5.1308, -4.9385, -5.0003, -5.0985, -4.9786, -5.0788, -5.2263, -5.0515, -5.6094, -4.6985, -6.0088, -6.0088, -6.009, -6.01, -6.1409, -6.1419, -6.142, -5.3988, -4.3606, -6.2925, -6.2925, -6.2926, -6.2926, -6.2927, -6.2927, -6.2934, -6.2935, -6.294, -6.295, -6.4714, -6.4715, -6.4715, -6.4715, -6.4723, -6.6896, -6.6907, -6.6908, -5.7338, -3.8699, -5.7912, -4.8218, -5.881, -3.742, -4.7695, -6.1437, -4.597, -4.0912, -5.5291, -4.8258, -5.6945, -5.6956, -4.7778, -5.695, -3.768, -5.8928, -5.8418, -4.6878, -4.1176, -4.5379, -4.8982, -4.5638, -5.1412, -4.8014, -4.473, -4.247, -4.8172, -4.7318, -5.0724, -5.092, -4.9364, -4.816, -5.0254, -5.1131, -5.1877, -5.8582, -5.8596, -5.4199, -6.2573, -6.2577, -6.2582, -6.2583, -6.2583, -6.2583, -6.2584, -6.2584, -6.2585, -5.574, -3.4099, -6.4364, -6.4373, -6.4375, -6.4384, -6.6547, -6.6549, -6.655, -6.6552, -6.6553, -6.6556, -6.6556, -6.6557, -6.6557, -6.6557, -6.6557, -6.6558, -5.5734, -5.5731, -4.8043, -5.8582, -6.1058, -6.1065, -4.7672, -5.754, -4.4529, -5.6597, -6.2584, -6.2591, -5.8602, -3.4976, -5.0582, -4.6289, -4.356, -5.9744, -5.066, -5.1732, -4.8921, -5.365, -5.3961, -4.8303, -4.4967, -4.9817, -5.6677, -5.2669, -4.9275, -5.0453, -4.7774, -4.7091, -4.5927, -4.9185, -5.102, -5.3361, -5.2462, -5.0246, -4.8158, -4.9629, -5.0479, -5.1487, -5.2586, -5.2884, -5.4145, -5.4147, -5.4147, -5.5669, -5.5675, -5.5675, -5.5676, -5.5676, -5.8517, -5.9686, -5.9687, -5.972, -5.4892, -6.2517, -6.2518, -6.2522, -6.2523, -5.5675, -5.5675, -6.431, -6.4319, -5.4134, -6.6494, -6.6496, -6.6496, -6.6498, -6.6498, -6.6502, -6.6509, -6.6517, -5.0597, -5.3329, -3.5692, -5.4882, -5.5676, -5.5675, -5.4438, -6.2518, -5.1112, -4.2166, -5.4143, -4.2938, -5.4147, -5.1698, -5.4988, -4.2862, -4.0739, -4.1048, -4.299, -4.5076, -4.084, -5.0496, -4.7025, -4.8099, -4.6921, -4.8738, -4.4954, -5.2814, -4.9152, -5.1719, -5.1902, -5.2039, -5.1818, -5.2492, -5.3447, -5.3929, -5.4087, -5.409, -5.3041, -5.3044, -4.6947, -5.5626, -5.5628, -5.5628, -5.7848, -5.9163, -5.9164, -6.0678, -6.0682, -6.0689, -6.069, -6.246, -6.246, -6.4643, -6.4645, -6.465, -6.4651, -6.4661, -4.6134, -5.5628, -4.7807, -5.0691, -6.7439, -6.7439, -6.7442, -6.7445, -6.7446, -6.7446, -5.4689, -5.7841, -6.0949, -4.3213, -5.7912, -4.4603, -4.3221, -4.7356, -5.6262, -2.8969, -5.3032, -4.547, -4.8159, -4.1596, -4.8744, -4.8295, -4.0754, -4.276, -5.2305, -5.2292, -4.1799, -4.6792, -5.0366, -4.8317, -4.3866, -4.6719, -4.8577, -4.909, -5.1511, -5.0565, -5.1442, -5.1278, -5.2007, -5.2886, -5.4531, -5.5474, -5.5476, -5.5486, -5.6518, -5.768, -5.7682, -5.7683, -5.7689, -5.7695, -5.4827, -5.0825, -5.8999, -5.9021, -6.0517, -6.0517, -6.0518, -6.0531, -6.0535, -5.3667, -4.964, -6.0742, -6.231, -5.5489, -6.255, -6.449, -6.449, -6.449, -6.4491, -5.7703, -5.8999, -5.0873, -3.966, -5.5479, -5.0561, -4.5605, -4.5647, -4.5457, -5.5477, -4.456, -4.9774, -4.8478, -3.9223, -4.8598, -4.6566, -4.1089, -4.8659, -5.2875, -4.6566, -5.0563, -4.949, -4.9095, -5.1833, -5.2416, -5.2233, -5.1462, -5.2936, -5.1018, -5.2348, -5.1575, -5.2532, -5.2792, -4.5116, -4.7512, -4.8462, -5.3563, -5.7548, -5.7555, -6.0386, -6.039, -6.2169, -6.218, -6.2188, -5.638, -6.4353, -6.4353, -6.4357, -6.4358, -6.4358, -6.436, -6.4362, -6.4366, -6.4369, -5.7546, -6.715, -6.715, -6.715, -6.715, -6.715, -6.7152, -6.7154, -6.7155, -6.0381, -6.0381, -5.2119, -5.1999, -6.2193, -3.8376, -5.7554, -5.5948, -4.8474, -4.0941, -3.8162, -4.6618, -5.5352, -5.4411, -4.2905, -5.0222, -5.896, -4.2946, -4.3732, -4.5571, -4.575, -5.3529, -5.0332, -4.5809, -4.4715, -4.8063, -5.442, -4.83, -5.06, -4.6851, -4.7101, -5.2423, -5.326, -5.1395, -5.2753, -5.2597, -4.8049, -5.2062, -5.3116, -5.5585, -5.5592, -5.5593, -4.118, -3.9674, -5.2063, -5.3109, -6.1083, -6.1099, -5.0254, -5.5594, -6.3872, -6.3873, -6.3875, -6.3875, -6.3879, -5.4269, -2.7675, -6.7768, -6.7768, -6.7768, -6.7768, -6.7768, -6.7768, -6.7768, -6.7769, -6.7769, -3.5656, -4.0503, -6.1082, -6.1134, -4.4277, -5.427, -4.6743, -5.4267, -5.3104, -3.4959, -4.3368, -3.1133, -5.7105, -5.7302, -5.114, -5.3802, -5.4274, -4.2033, -3.9565, -4.568, -4.6416, -5.0251, -4.8531, -4.7728, -5.0099, -4.7521, -5.0089, -5.0236, -5.0514, -5.104, -5.1684, -5.196, -2.9805, -4.7045, -4.9028, -4.9029, -4.9029, -4.9031, -5.1516, -5.3029, -5.482, -5.4821, -5.7005, -5.9801, -5.9802, -5.9802, -5.9804, -6.3696, -6.3696, -6.3699, -6.3707, -6.3707, -6.3707, -6.3707, -6.3708, -5.7006, -5.7002, -5.1515, -5.9798, -5.98, -5.9798, -5.9801, -2.8496, -2.9678, -4.6177, -4.1616, -3.6329, -4.4651, -5.4879, -5.1721, -4.6077, -4.7044, -4.9019, -5.303, -5.4821, -5.0191, -4.8064, -5.4811, -5.3024, -5.4428, -5.477, -5.4809], \"loglift\": [30.0, 29.0, 28.0, 27.0, 26.0, 25.0, 24.0, 23.0, 22.0, 21.0, 20.0, 19.0, 18.0, 17.0, 16.0, 15.0, 14.0, 13.0, 12.0, 11.0, 10.0, 9.0, 8.0, 7.0, 6.0, 5.0, 4.0, 3.0, 2.0, 1.0, 1.6996, 1.6766, 1.6655, 1.6606, 1.6605, 1.6604, 1.6552, 1.6468, 1.6457, 1.6396, 1.6396, 1.6395, 1.6294, 1.6294, 1.6294, 1.6293, 1.6293, 1.6292, 1.629, 1.6271, 1.6163, 1.6162, 1.6162, 1.616, 1.6155, 1.6154, 1.6143, 1.61, 1.5998, 1.5995, 1.474, 1.416, 1.5382, 1.3923, 1.5644, 1.5238, 1.4108, 1.1385, 1.5457, 0.9859, 0.8709, 0.5075, 1.358, 0.4642, 0.6466, 1.0554, 0.509, 0.2113, 0.6752, 0.5848, -0.0726, 0.9255, 0.3297, 0.1258, 0.3648, 0.4649, 0.6551, 0.3447, 0.3591, 0.4546, 0.1231, 0.6424, 0.3214, 0.3322, -0.2258, -0.0043, 0.1478, 1.9679, 1.9616, 1.9441, 1.9441, 1.9436, 1.9416, 1.9409, 1.9352, 1.9351, 1.935, 1.9311, 1.9247, 1.9245, 1.9244, 1.9112, 1.9025, 1.8945, 1.8941, 1.894, 1.8939, 1.88, 1.8704, 1.8702, 1.8701, 1.8362, 1.836, 1.8359, 1.8357, 1.8354, 1.8351, 1.8342, 1.8005, 1.8024, 1.7976, 1.7954, 1.631, 1.6122, 1.489, 1.6967, 1.6088, 1.392, 1.6922, 1.0624, 1.4621, 1.4818, 0.8328, 1.1625, 1.3214, 0.4763, 1.3365, 1.0335, 1.1228, 0.7451, 0.6582, 1.1105, 0.0088, 1.4623, 0.6499, 1.1242, 1.2329, 0.8238, 0.3177, 0.0159, 0.4271, 0.3752, 0.5745, -0.0566, -0.0685, 0.2763, -0.5019, -0.4887, 0.1931, 2.118, 2.0875, 2.0657, 2.0571, 2.057, 2.0569, 2.0559, 2.0434, 2.0423, 2.0423, 2.0414, 2.0265, 2.026, 2.0259, 2.0259, 2.0259, 2.0258, 2.0257, 2.0251, 2.025, 2.0245, 2.0234, 2.0022, 2.0021, 2.0021, 2.002, 2.0012, 1.9676, 1.9665, 1.9663, 1.9649, 1.8928, 1.9061, 1.7529, 1.9003, 1.4182, 1.6237, 1.9263, 1.4881, 1.2846, 1.7421, 1.4705, 1.7967, 1.7956, 1.418, 1.7374, 0.7086, 1.8181, 1.7831, 1.1098, 0.4725, 0.6076, 0.9296, 0.503, 1.068, 0.6596, 0.2453, -0.0518, 0.565, 0.392, 0.8156, 0.8084, 0.4383, 0.066, 0.101, 0.3366, 0.2178, 2.114, 2.1128, 2.0829, 2.0727, 2.0724, 2.0718, 2.0718, 2.0718, 2.0717, 2.0717, 2.0717, 2.0715, 2.0609, 2.0525, 2.0485, 2.0476, 2.0474, 2.0465, 2.0133, 2.0132, 2.0131, 2.0128, 2.0127, 2.0124, 2.0124, 2.0124, 2.0123, 2.0123, 2.0123, 2.0123, 1.996, 1.9924, 1.9695, 1.9632, 1.9748, 1.9741, 1.7599, 1.8709, 1.6291, 1.8298, 1.9402, 1.94, 1.8473, 1.2719, 1.5024, 1.2655, 1.0262, 1.8124, 1.3144, 1.3337, 1.0449, 1.373, 1.3677, 0.8577, 0.5701, 0.9737, 1.561, 1.1802, 0.8442, 0.8551, 0.3682, 0.2599, -0.1161, 0.3522, 0.6607, 1.0712, 0.7999, 0.2007, -0.6205, -0.2447, -0.4578, -0.0223, -0.3269, -0.0202, 2.1482, 2.1481, 2.1481, 2.1393, 2.1386, 2.1386, 2.1386, 2.1385, 2.1175, 2.1063, 2.1061, 2.1028, 2.0755, 2.0754, 2.0753, 2.0748, 2.0748, 2.071, 2.0637, 2.051, 2.0501, 2.0236, 2.0159, 2.0157, 2.0157, 2.0155, 2.0154, 2.0151, 2.0144, 2.0135, 1.9883, 1.9866, 1.6976, 1.8897, 1.8718, 1.8139, 1.7773, 1.9359, 1.6954, 1.3825, 1.7403, 1.1671, 1.6879, 1.5372, 1.6788, 0.9606, 0.6444, 0.4852, 0.583, 0.7178, 0.1113, 1.2084, 0.7472, 0.748, 0.2396, 0.5317, -0.5142, 1.3218, -0.4385, 0.5334, 0.2292, 0.1708, -0.0581, 0.0673, 0.6278, 0.551, -0.2632, 0.4807, 2.3492, 2.3489, 2.3387, 2.332, 2.3318, 2.3318, 2.3105, 2.297, 2.2968, 2.2791, 2.2786, 2.2779, 2.2779, 2.2553, 2.2552, 2.2194, 2.2192, 2.2187, 2.2186, 2.2176, 2.181, 2.1755, 2.1736, 2.1725, 2.1634, 2.1634, 2.1631, 2.1628, 2.1627, 2.1626, 2.106, 2.0982, 2.1133, 1.7895, 2.019, 1.7601, 1.6504, 1.7261, 1.9577, 1.0842, 1.8448, 1.4955, 1.5916, 1.2901, 1.5596, 1.4843, 0.8935, 0.8504, 1.5005, 1.4937, 0.2968, 0.8588, 1.0455, 0.7213, -0.1914, -0.0819, 0.209, 0.2365, 0.7923, 0.349, 0.5438, 0.278, 0.8844, 2.3688, 2.3585, 2.3512, 2.3511, 2.35, 2.3422, 2.3313, 2.3311, 2.3311, 2.3305, 2.3298, 2.3288, 2.3238, 2.3172, 2.3151, 2.299, 2.299, 2.2989, 2.2976, 2.2972, 2.2888, 2.2821, 2.2765, 2.2739, 2.2682, 2.25, 2.2383, 2.2383, 2.2383, 2.2382, 2.2213, 2.1938, 2.0633, 1.8619, 2.0992, 1.9795, 1.8134, 1.5593, 1.4248, 1.9635, 1.1845, 1.4235, 1.2777, 0.273, 1.0878, 0.7315, -0.1278, 0.9317, 1.5585, 0.4777, 0.9862, 0.2763, 0.1573, 0.7064, 0.9254, 0.6647, 0.2593, 1.0315, -0.3323, 0.1987, -0.6808, -0.0065, 0.3199, 2.4205, 2.4127, 2.4087, 2.378, 2.3474, 2.3465, 2.3148, 2.3144, 2.2906, 2.2895, 2.2886, 2.2632, 2.2545, 2.2545, 2.2541, 2.254, 2.254, 2.2537, 2.2535, 2.2531, 2.2528, 2.2419, 2.1979, 2.1979, 2.1979, 2.1978, 2.1978, 2.1977, 2.1974, 2.1974, 2.1784, 2.1724, 2.0747, 2.009, 2.1282, 1.6607, 1.9022, 1.8475, 1.6079, 1.294, 1.1155, 1.4637, 1.7419, 1.6781, 0.9763, 1.3957, 1.9239, 0.8396, 0.7532, 0.8623, 0.6957, 1.4199, 1.0657, 0.4859, 0.2468, 0.5684, 1.4737, 0.3302, 0.478, -0.4898, -0.729, 0.5295, 0.7165, -0.5495, 0.1582, -0.3777, 2.7828, 2.7544, 2.7435, 2.7181, 2.7174, 2.7174, 2.7089, 2.667, 2.6616, 2.6406, 2.6332, 2.6316, 2.6167, 2.593, 2.5742, 2.5741, 2.5739, 2.5738, 2.5734, 2.5174, 2.5007, 2.4667, 2.4667, 2.4666, 2.4666, 2.4666, 2.4666, 2.4666, 2.4666, 2.4666, 2.3715, 2.338, 2.4351, 2.4273, 2.2489, 2.2604, 2.0586, 2.186, 2.1124, 1.3861, 1.6071, 0.8679, 2.2103, 2.1979, 1.7953, 1.9323, 1.9591, 0.9422, 0.5202, 1.0172, 0.5837, 1.2065, 0.2733, -0.1828, 0.5892, -0.5569, 0.3966, 0.4374, 0.3308, 0.584, 1.0071, 0.6955, 3.3165, 3.2745, 3.2552, 3.2552, 3.2551, 3.2549, 3.2245, 3.2035, 3.1739, 3.1737, 3.1313, 3.0653, 3.0652, 3.0651, 3.0649, 2.9478, 2.9477, 2.9473, 2.9465, 2.9465, 2.9465, 2.9465, 2.9464, 2.9238, 2.9165, 2.867, 2.8055, 2.8053, 2.8026, 2.8022, 2.6487, 2.6439, 2.6726, 2.2005, 1.92, 2.021, 2.1415, 1.6831, 0.9303, 0.9362, 0.7777, 1.4697, 1.6686, 0.0477, -0.8252, 1.4165, 0.5891, 1.1926, 0.211, -0.3572]}, \"token.table\": {\"Topic\": [6, 7, 9, 10, 3, 4, 1, 3, 4, 5, 6, 7, 8, 9, 10, 7, 3, 4, 5, 6, 8, 9, 10, 3, 6, 1, 2, 3, 4, 5, 6, 7, 8, 9, 10, 5, 5, 1, 3, 4, 10, 9, 1, 4, 8, 3, 4, 5, 1, 1, 2, 3, 4, 5, 6, 7, 8, 9, 10, 7, 1, 2, 3, 5, 8, 1, 2, 3, 4, 5, 6, 7, 8, 9, 10, 1, 2, 3, 4, 5, 6, 7, 8, 9, 10, 1, 2, 3, 4, 5, 6, 7, 8, 9, 10, 10, 3, 9, 8, 1, 5, 6, 9, 10, 1, 2, 3, 4, 5, 6, 8, 10, 6, 6, 3, 1, 2, 3, 4, 6, 9, 10, 6, 9, 9, 1, 2, 3, 4, 5, 8, 1, 2, 3, 5, 6, 7, 8, 9, 10, 1, 2, 3, 4, 5, 6, 7, 8, 3, 3, 6, 6, 1, 2, 3, 4, 6, 8, 9, 10, 3, 10, 7, 1, 2, 3, 4, 5, 6, 7, 8, 9, 10, 1, 2, 7, 10, 6, 6, 2, 3, 5, 6, 9, 2, 4, 2, 9, 1, 2, 3, 4, 5, 6, 7, 8, 9, 10, 1, 2, 3, 4, 6, 7, 8, 9, 10, 9, 1, 5, 9, 2, 10, 2, 3, 5, 7, 8, 10, 4, 10, 9, 1, 2, 4, 5, 6, 7, 8, 9, 4, 7, 1, 4, 6, 8, 2, 2, 4, 5, 6, 7, 8, 9, 6, 10, 3, 5, 5, 4, 2, 4, 5, 8, 9, 1, 2, 3, 4, 5, 6, 7, 8, 9, 10, 2, 3, 4, 3, 5, 9, 2, 1, 2, 6, 8, 9, 10, 7, 9, 5, 1, 2, 3, 4, 6, 8, 4, 4, 9, 5, 5, 2, 2, 4, 5, 7, 1, 2, 3, 4, 5, 6, 7, 8, 10, 7, 2, 7, 5, 8, 5, 4, 6, 7, 8, 1, 4, 1, 10, 2, 7, 4, 1, 3, 8, 6, 1, 5, 10, 10, 8, 3, 9, 2, 3, 1, 1, 2, 3, 4, 7, 1, 2, 8, 2, 1, 4, 10, 1, 1, 2, 3, 4, 5, 6, 8, 10, 1, 2, 3, 4, 5, 6, 7, 8, 9, 10, 5, 3, 4, 6, 10, 2, 3, 4, 5, 6, 7, 8, 2, 8, 1, 1, 2, 3, 4, 5, 6, 7, 8, 9, 3, 4, 5, 1, 2, 7, 9, 10, 1, 2, 3, 4, 5, 6, 7, 1, 2, 3, 5, 7, 2, 6, 8, 9, 6, 2, 10, 7, 6, 7, 1, 2, 6, 8, 9, 9, 2, 2, 3, 4, 5, 6, 7, 4, 7, 8, 7, 9, 1, 2, 5, 7, 8, 9, 10, 7, 8, 5, 3, 4, 5, 7, 8, 7, 8, 1, 3, 7, 9, 3, 5, 7, 8, 2, 1, 2, 3, 4, 5, 6, 7, 8, 9, 10, 1, 3, 4, 7, 9, 2, 5, 1, 2, 3, 4, 6, 7, 9, 10, 1, 2, 3, 8, 10, 1, 2, 3, 4, 5, 6, 7, 8, 9, 8, 9, 3, 10, 1, 2, 3, 4, 5, 6, 7, 8, 9, 10, 3, 4, 5, 7, 8, 9, 6, 1, 2, 7, 8, 9, 10, 1, 2, 3, 4, 5, 6, 7, 8, 9, 10, 5, 9, 3, 2, 8, 2, 8, 2, 3, 4, 5, 7, 8, 2, 8, 4, 8, 1, 2, 3, 4, 5, 6, 7, 8, 9, 3, 10, 1, 3, 4, 5, 6, 7, 8, 9, 1, 2, 5, 7, 8, 4, 1, 2, 4, 5, 6, 7, 8, 9, 10, 1, 2, 3, 4, 5, 7, 8, 9, 10, 3, 2, 5, 1, 2, 4, 5, 7, 8, 9, 10, 6, 9, 4, 2, 3, 4, 5, 6, 10, 1, 1, 6, 7, 5, 1, 3, 6, 9, 4, 2, 9, 9, 1, 3, 5, 1, 2, 4, 5, 6, 7, 8, 9, 1, 5, 6, 7, 1, 7, 9, 4, 8, 2, 3, 4, 5, 6, 7, 8, 9, 3, 5, 7, 1, 2, 3, 4, 5, 6, 7, 8, 9, 10, 4, 8, 6, 9, 4, 8, 1, 2, 3, 4, 5, 6, 7, 8, 9, 10, 1, 3, 5, 7, 8, 4, 2, 5, 6, 1, 1, 3, 4, 6, 9, 1, 2, 3, 4, 5, 6, 7, 8, 9, 1, 2, 3, 4, 5, 6, 7, 8, 9, 10, 2, 3, 5, 6, 8, 1, 4, 5, 7, 8, 1, 2, 3, 4, 5, 6, 8, 9, 1, 2, 3, 4, 6, 7, 1, 2, 5, 8, 1, 3, 5, 6, 7, 9, 3, 6, 8, 9, 2, 8, 1, 2, 3, 4, 6, 7, 8, 9, 10, 1, 2, 3, 4, 5, 6, 7, 8, 9, 10, 5, 1, 2, 6, 7, 1, 2, 4, 6, 7, 8, 9, 1, 2, 3, 4, 7, 10, 1, 2, 3, 5, 6, 7, 8, 9, 10, 5, 6, 9, 1, 2, 3, 8, 2, 4, 5, 3, 4, 7, 9, 1, 2, 3, 4, 5, 6, 8, 10, 1, 2, 3, 4, 5, 6, 7, 8, 9, 10, 9, 1, 2, 3, 4, 5, 8, 1, 2, 3, 4, 5, 6, 7, 8, 10, 5, 2, 3, 5, 9, 3, 1, 2, 3, 5, 6, 7, 4, 1, 2, 4, 5, 6, 2, 5, 7, 8, 10, 10, 9, 7, 2, 2, 3, 5, 1, 5, 6, 1, 4, 1, 2, 3, 4, 5, 6, 7, 8, 9, 8, 6, 3, 4, 5, 6, 7, 8, 10, 3, 8, 5, 8, 5, 3, 7, 7, 1, 2, 3, 5, 7, 8, 9, 5, 1, 1, 8, 10, 5, 1, 2, 3, 4, 5, 6, 7, 8, 9, 10, 1, 2, 3, 4, 5, 6, 7, 8, 9, 10, 10, 1, 2, 3, 6, 1, 4, 1, 2, 3, 5, 2, 3, 5, 1, 2, 3, 4, 5, 6, 7, 8, 9, 10, 1, 2, 3, 4, 7, 8, 4, 3, 5, 3, 5, 1, 2, 4, 6, 7, 8, 2, 4, 6, 7, 8, 10, 1, 10, 3, 3, 2, 1, 2, 3, 4, 5, 6, 7, 8, 10, 10, 10, 8, 8, 8, 3, 4, 4, 7, 4, 7, 2, 3, 4, 5, 8, 1, 2, 3, 4, 5, 6, 7, 8, 9, 10, 7, 8, 1, 5, 3, 4, 6, 9, 4, 7, 1, 5, 9, 2, 3, 6, 9, 10, 1, 2, 3, 4, 5, 6, 7, 9, 4, 6, 7, 2, 3, 4, 5, 7, 10, 6, 4, 1, 2, 3, 4, 5, 6, 7, 8, 1, 4, 5, 7, 4, 10, 9, 9, 1, 2, 5, 10, 2, 7, 2, 6, 1, 2, 3, 4, 5, 6, 7, 9, 10, 1, 3, 1, 2, 3, 4, 5, 6, 7, 9, 10, 2, 2, 6, 3, 5, 6, 4, 10, 1, 1, 2, 3, 4, 5, 6, 7, 8, 9, 10, 2, 7, 8, 9, 5, 8, 10, 4, 4, 1, 2, 3, 4, 5, 6, 7, 8, 9, 10, 6, 3, 7, 9, 2, 7, 1, 5, 6, 5, 6, 2, 3, 4, 5, 6, 7, 8, 9, 10, 3, 10, 10, 7, 8, 5, 2, 4, 5, 6, 8, 1, 2, 3, 4, 5, 7, 8, 9, 3, 10, 1, 2, 1, 2, 7, 8, 9, 5, 9, 2, 5, 8, 9, 3, 8, 9, 1, 6, 4, 6, 1, 4, 5, 6, 1, 2, 3, 4, 5, 7, 8, 1, 2, 3, 4, 5, 6, 10, 3, 4, 8, 2, 4, 7, 10, 8, 6, 1, 2, 7, 10, 6, 10, 2, 3, 4, 6, 7, 8, 9, 10, 1, 2, 3, 4, 5, 6, 7, 8, 8, 2, 1, 2, 4, 5, 6, 7, 8, 9, 10, 1, 2, 3, 4, 5, 6, 7, 8, 9, 6, 4, 5, 7, 6, 7, 4, 1, 2, 7, 2, 3, 7, 2, 3, 5, 10, 1, 2, 8, 3, 3, 3, 3, 1, 2, 3, 4, 5, 6, 7, 8, 9, 1, 2, 3, 5, 6, 10, 3, 1, 2, 4, 6, 8, 9, 4, 1, 2, 3, 4, 5, 6, 7, 8, 3, 7, 5, 10, 1, 1, 2, 3, 4, 5, 6, 7, 9, 1, 2, 3, 4, 5, 6, 7, 8, 9, 10, 1, 2, 3, 4, 5, 4, 1, 2, 3, 4, 5, 6, 7, 8, 9, 10, 1, 2, 4, 5, 6, 8, 2, 4, 5, 6, 8, 1, 2, 3, 5, 8, 9, 1, 2, 5, 6, 9, 10, 2, 9, 5, 1, 3, 5, 6, 9, 10, 1, 1, 2, 3, 4, 5, 6, 8, 9, 4, 5, 3, 7, 8, 5, 7, 1, 2, 1, 7, 2, 8, 3, 1, 3, 4, 6, 7, 10, 1, 2, 3, 5, 6, 7, 8, 2, 10, 2, 7, 1, 2, 4, 5, 6, 7, 1, 3, 4, 5, 6, 8, 1, 2, 3, 4, 5, 6, 7, 8, 9, 2, 3, 6, 7, 10, 4, 7, 1, 2, 3, 4, 5, 7, 10, 2, 7, 5, 7, 10, 7, 1, 2, 9, 5, 1, 7, 8, 1, 2, 3, 4, 5, 6, 8, 9, 10, 2, 1, 2, 4, 6, 7, 8, 9, 1, 3, 4, 5, 7, 8, 9, 10, 7, 1, 2, 3, 5, 6, 7, 8, 9, 10, 3, 4, 5, 3, 5, 1, 2, 3, 4, 5, 7, 8, 6, 2, 3, 8, 4, 1, 10, 1, 1, 8], \"Freq\": [0.8662680231183115, 0.23747489551306838, 0.11873744775653419, 0.5936872387826709, 0.9468592317697474, 0.8106730648985987, 0.08280761704888509, 0.22082031213036027, 0.08280761704888509, 0.3496321608730704, 0.018401692677530022, 0.036803385355060045, 0.08280761704888509, 0.0920084633876501, 0.018401692677530022, 0.9011070729790732, 0.06771437426185925, 0.4401434327020851, 0.1354287485237185, 0.06771437426185925, 0.1354287485237185, 0.10157156139278888, 0.033857187130929625, 0.14353188069582293, 0.7176594034791146, 0.02830210768601991, 0.1273594845870896, 0.11320843074407964, 0.18396369995912942, 0.09905737690106968, 0.02830210768601991, 0.14151053843009956, 0.09905737690106968, 0.11320843074407964, 0.05660421537203982, 0.9556363292599648, 0.9041396233863128, 0.08728535411546776, 0.698282832923742, 0.08728535411546776, 0.08728535411546776, 0.7339266753267569, 0.9044668299967, 0.036178673199868, 0.036178673199868, 0.2048430415611008, 0.1536322811708256, 0.5633183642930272, 0.8460758123906952, 0.24246963489954151, 0.06927703854272615, 0.03463851927136308, 0.2540158079899959, 0.03463851927136308, 0.15010025017590667, 0.02309234618090872, 0.03463851927136308, 0.10391555781408923, 0.04618469236181744, 0.9102191789865958, 0.16965848801304406, 0.412027756603107, 0.07271078057701888, 0.19389541487205036, 0.14542156115403776, 0.22005063915993253, 0.07908069844810076, 0.23380380410742832, 0.09971044586934442, 0.07220411597435286, 0.12034019329058811, 0.04469778607936129, 0.02406803865811762, 0.09627215463247048, 0.010314873710621838, 0.2455507396485266, 0.17918567487865456, 0.019909519430961618, 0.08627458420083367, 0.03318253238493603, 0.05972855829288485, 0.13936663601673133, 0.19909519430961617, 0.019909519430961618, 0.01327301295397441, 0.16748230154127497, 0.02576650792942692, 0.3478478570472634, 0.0644162698235673, 0.03864976189414038, 0.01288325396471346, 0.2190153174001288, 0.03864976189414038, 0.07729952378828076, 0.01288325396471346, 0.8701839221470882, 0.8994859595752754, 0.6096340277506397, 0.8711718592145762, 0.2413842837267515, 0.08046142790891717, 0.2413842837267515, 0.08046142790891717, 0.32184571163566866, 0.08634912384382439, 0.23746009057051704, 0.021587280960956096, 0.06476184288286828, 0.06476184288286828, 0.3885710572972097, 0.08634912384382439, 0.04317456192191219, 0.8662673088556272, 0.8654914105880612, 0.8013029918633572, 0.2621170327025954, 0.06552925817564885, 0.032764629087824425, 0.1310585163512977, 0.39317554905389307, 0.032764629087824425, 0.06552925817564885, 0.8074694703570789, 0.17943766007935089, 0.8083086252820467, 0.23332304308731233, 0.2722102169351977, 0.3305409777070258, 0.09721793461971347, 0.019443586923942692, 0.05833076077182808, 0.09871766356472807, 0.1269227102975075, 0.26794794396140476, 0.05641009346555889, 0.15512775703028694, 0.16923028039667667, 0.014102523366389723, 0.09871766356472807, 0.014102523366389723, 0.042428157895994176, 0.06364223684399127, 0.5091378947519302, 0.1697126315839767, 0.021214078947997088, 0.021214078947997088, 0.12728447368798254, 0.042428157895994176, 0.8012931865854669, 0.801263805215793, 0.8662730246438026, 0.9236934050243019, 0.4788804373296376, 0.25250059422835436, 0.008706917042357046, 0.06094841929649933, 0.12189683859299866, 0.06094841929649933, 0.008706917042357046, 0.008706917042357046, 0.25560672417347813, 0.5112134483469563, 0.827593923676474, 0.3523508421100444, 0.055054819079694436, 0.06606578289563332, 0.03303289144781666, 0.011010963815938888, 0.022021927631877776, 0.28628505921441105, 0.0880877105275111, 0.011010963815938888, 0.0880877105275111, 0.0573201657962271, 0.1719604973886813, 0.2292806631849084, 0.5158814921660438, 0.9440433806948219, 0.8662745011742774, 0.07688208765607399, 0.07688208765607399, 0.07688208765607399, 0.6150567012485919, 0.07688208765607399, 0.9128259258349771, 0.04804346978078827, 0.911752848282726, 0.101305872031414, 0.11816770897782736, 0.17725156346674104, 0.17725156346674104, 0.07596495577146044, 0.12660825961910074, 0.04220275320636691, 0.08440550641273382, 0.15192991154292088, 0.03376220256509353, 0.008440550641273383, 0.1677658866898301, 0.09320327038323895, 0.22368784891977347, 0.09320327038323895, 0.09320327038323895, 0.22368784891977347, 0.01864065407664779, 0.05592196222994337, 0.03728130815329558, 0.9260693272336932, 0.9192065874836157, 0.11103824359053792, 0.7772677051337654, 0.7565889458654221, 0.126098157644237, 0.15764590461621109, 0.19705738077026386, 0.15764590461621109, 0.03941147615405277, 0.3941147615405277, 0.03941147615405277, 0.8106537232437622, 0.8032785016521193, 0.8083077157362255, 0.19648639917239902, 0.04366364426053312, 0.19648639917239902, 0.06549546639079967, 0.17465457704213247, 0.24015004343293211, 0.04366364426053312, 0.04366364426053312, 0.7111396172789612, 0.14222792345579224, 0.9770477587256717, 0.7107680989538573, 0.14215361979077146, 0.959748470886789, 0.8614389636307637, 0.04741671831639136, 0.02370835915819568, 0.1422501549491741, 0.42675046484752227, 0.02370835915819568, 0.16595851410736978, 0.16595851410736978, 0.7696007024166271, 0.9555876465821564, 0.7007385098427055, 0.2802954039370822, 0.9032418983518637, 0.9092657844781341, 0.14136120037415786, 0.1060209002806184, 0.600785101590171, 0.1060209002806184, 0.035340300093539466, 0.421912171587709, 0.07875693869637235, 0.022501982484677815, 0.14063739052923635, 0.01687648686350836, 0.2193943292256087, 0.011250991242338908, 0.028127478105847266, 0.039378469348186174, 0.011250991242338908, 0.8614454298141154, 0.8994590542499186, 0.9463802945570239, 0.03606115742136656, 0.07212231484273313, 0.8654677781127975, 0.9256346481340488, 0.27409745731789265, 0.03915677961684181, 0.07831355923368362, 0.15662711846736724, 0.35241101655157625, 0.03915677961684181, 0.827565950603892, 0.8083074216051881, 0.8082628859762726, 0.13844401451600014, 0.09229600967733342, 0.04614800483866671, 0.4153320435480004, 0.11537001209666678, 0.2076660217740002, 0.9092903296902433, 0.9092898396606495, 0.8083075708328405, 0.9068041537768559, 0.9067936368487938, 0.8901734609991735, 0.10259362446756862, 0.786551120918026, 0.10259362446756862, 0.8275906376892826, 0.20279647875028642, 0.19434662546902448, 0.41404281078183475, 0.033799413125047736, 0.008449853281261934, 0.016899706562523868, 0.033799413125047736, 0.07604867953135741, 0.016899706562523868, 0.9011039883460567, 0.7425384661554082, 0.12375641102590136, 0.9050643087409769, 0.07542202572841473, 0.9556375050645415, 0.10472880491382525, 0.8029208376726602, 0.03490960163794175, 0.0698192032758835, 0.8173832452460341, 0.09082036058289268, 0.9182035730331813, 0.8701900119663359, 0.9474370688179802, 0.9478809921574055, 0.9463492786561709, 0.8008125667336954, 0.07280114243033595, 0.07280114243033595, 0.8243858412805151, 0.17705228828463895, 0.8262440119949818, 0.6630503534105867, 0.8489015267979008, 0.8711660708199889, 0.20068027282348724, 0.6020408184704616, 0.9509090140316758, 0.9357235322219999, 0.9527649785749074, 0.044516394993940014, 0.5787131349212201, 0.17806557997576006, 0.13354918498182003, 0.08903278998788003, 0.17131492544465626, 0.1142099502964375, 0.685259701778625, 0.8902424347949826, 0.8690460373453761, 0.08690460373453761, 0.8701799088076405, 0.9182190259951346, 0.1427789782058639, 0.09994528474410473, 0.25700216077055504, 0.25700216077055504, 0.07138948910293196, 0.02855579564117278, 0.08566738692351834, 0.02855579564117278, 0.1770953297875106, 0.040868153027887065, 0.4767951186586824, 0.027245435351924707, 0.027245435351924707, 0.040868153027887065, 0.061302229541830594, 0.12260445908366119, 0.013622717675962353, 0.013622717675962353, 0.808278483207906, 0.8012915458783809, 0.9463769903870534, 0.8663047132015455, 0.8702184721332843, 0.36758432398023977, 0.015316013499176656, 0.061264053996706626, 0.04594804049752997, 0.07658006749588328, 0.36758432398023977, 0.061264053996706626, 0.9509403615162211, 0.9035943183490907, 0.846083871946033, 0.2586222945951995, 0.10649153306861155, 0.11409807114494094, 0.15973729960291733, 0.007606538076329395, 0.08367191883962335, 0.06845884268696456, 0.1749503757555761, 0.03803269038164698, 0.9145358518716171, 0.0338716982174673, 0.0338716982174673, 0.9528065995877617, 0.06311074377810914, 0.44177520644676405, 0.44177520644676405, 0.06311074377810914, 0.734716059989535, 0.05375971170655135, 0.026879855853275673, 0.08063956755982701, 0.03583980780436756, 0.026879855853275673, 0.04479975975545945, 0.7291205114616797, 0.04557003196635498, 0.04557003196635498, 0.13671009589906494, 0.04557003196635498, 0.09640290425569895, 0.6748203297898927, 0.09640290425569895, 0.09640290425569895, 0.8974528327898199, 0.2548454639492741, 0.5096909278985482, 0.9010920255951145, 0.9440426360925025, 0.9268340672124378, 0.16551992749280356, 0.08275996374640178, 0.08275996374640178, 0.5793197462248124, 0.16551992749280356, 0.6096242786157698, 0.890173410536387, 0.6625565605969517, 0.09034862189958431, 0.09034862189958431, 0.03011620729986144, 0.09034862189958431, 0.03011620729986144, 0.8335167440868467, 0.07577424946244062, 0.07577424946244062, 0.873689249482046, 0.09707658327578289, 0.06832526222902172, 0.03416263111451086, 0.03416263111451086, 0.23913841780157602, 0.3416263111451086, 0.10248789334353257, 0.13665052445804343, 0.10558910002319005, 0.8447128001855204, 0.9067931071492601, 0.08335122150741668, 0.0075773837734015165, 0.5986133180987198, 0.07577383773401516, 0.2273215132020455, 0.8689389717515783, 0.9292666715632651, 0.08610745875479422, 0.774967128793148, 0.08610745875479422, 0.896348837375284, 0.660775570926709, 0.26431022837068363, 0.06607755709267091, 0.8711706001119718, 0.9256416723317559, 0.13923088690450192, 0.12376078835955726, 0.12376078835955726, 0.06703709369476017, 0.19595458156929899, 0.010313399029963104, 0.02578349757490776, 0.05672369466479708, 0.23205147817416985, 0.015470098544944657, 0.230969304140916, 0.16497807438636855, 0.42894299340455827, 0.13198245950909485, 0.862141016381321, 0.7403327540716149, 0.12338879234526916, 0.06491820984293871, 0.5355752312042443, 0.06491820984293871, 0.19475462952881614, 0.032459104921469355, 0.06491820984293871, 0.032459104921469355, 0.016229552460734677, 0.028652704421400547, 0.019101802947600367, 0.009550901473800184, 0.4488923692686086, 0.4870959751638093, 0.17409299222577096, 0.11316044494675113, 0.13927439378061676, 0.05222789766773129, 0.18279764183705952, 0.13056974416932823, 0.11316044494675113, 0.008704649611288548, 0.08704649611288548, 0.13574286969818664, 0.8144572181891199, 0.2556119666306815, 0.511223933261363, 0.20139865205972166, 0.13572517856198632, 0.14885987326153338, 0.08756463133031375, 0.210155115192753, 0.03940408409864119, 0.026269389399094126, 0.1094557891628922, 0.030647620965609815, 0.013134694699547063, 0.04974114668582888, 0.14922344005748664, 0.2984468801149733, 0.04974114668582888, 0.42279974682954546, 0.8083120974156363, 0.9064579987525528, 0.18550043742362038, 0.1484003499388963, 0.18550043742362038, 0.1484003499388963, 0.11130026245417224, 0.18550043742362038, 0.08187915469375406, 0.03639073541944625, 0.16375830938750813, 0.018195367709723125, 0.22744209637153906, 0.32751661877501625, 0.03639073541944625, 0.0727814708388925, 0.027293051564584687, 0.009097683854861562, 0.8082475303409491, 0.6096119811415368, 0.9357100315606713, 0.9256364956646291, 0.9293017414288227, 0.7401312787636394, 0.8711704517040739, 0.441989575363363, 0.11786388676356346, 0.1767958301453452, 0.11786388676356346, 0.11786388676356346, 0.029465971690890866, 0.8901745458941672, 0.8711729611096185, 0.9069202540622713, 0.9293076198768292, 0.13754493024737335, 0.022924155041228893, 0.09169662016491557, 0.022924155041228893, 0.06877246512368668, 0.022924155041228893, 0.5272555659482646, 0.022924155041228893, 0.06877246512368668, 0.21596466892119043, 0.6478940067635713, 0.22560048063543758, 0.09400020026476566, 0.056400120158859396, 0.037600080105906264, 0.13160028037067192, 0.1692003604765782, 0.13160028037067192, 0.15040032042362506, 0.02792225827901681, 0.5026006490223026, 0.3350670993482018, 0.08376677483705045, 0.02792225827901681, 0.8106494326014018, 0.24844674382473345, 0.27826035308370145, 0.009937869752989338, 0.009937869752989338, 0.20869526481277612, 0.019875739505978676, 0.13913017654185073, 0.009937869752989338, 0.08944082777690404, 0.0383737143117526, 0.0383737143117526, 0.47967142889690745, 0.09593428577938148, 0.11512114293525778, 0.0383737143117526, 0.17268171440288668, 0.0191868571558763, 0.0191868571558763, 0.899457403336803, 0.8989564506177223, 0.06915049620136325, 0.5495624464013623, 0.10304295870025544, 0.11449217633361716, 0.06869530580017029, 0.011449217633361717, 0.05724608816680858, 0.011449217633361717, 0.08014452343353201, 0.9440450099609619, 0.6096386339694065, 0.8106551349510277, 0.027629433810688487, 0.2210354704855079, 0.49732980859239273, 0.1934060366748194, 0.027629433810688487, 0.027629433810688487, 0.8695512249000011, 0.20721804462305268, 0.7252631561806844, 0.8275893885248251, 0.9067120310050851, 0.8460684678835013, 0.8013013029382818, 0.1629766146685674, 0.8148830733428369, 0.9093072903832755, 0.2001392901804366, 0.6004178705413098, 0.9222219903296874, 0.8464278017632341, 0.12091825739474772, 0.9068196104564145, 0.3222639692771959, 0.20589086926043074, 0.1163731000167652, 0.07161421539493243, 0.044758884621832765, 0.10742132309239864, 0.0984695461680321, 0.035807107697466214, 0.14297348952218833, 0.14297348952218833, 0.07148674476109416, 0.6433807028498475, 0.08924256710331266, 0.05949504473554178, 0.8329306262975849, 0.14472712355415435, 0.7236356177707718, 0.035709300236392585, 0.24996510165474808, 0.12498255082737404, 0.05356395035458888, 0.05356395035458888, 0.4106569527185147, 0.035709300236392585, 0.035709300236392585, 0.13307407628086518, 0.7319074195447585, 0.13307407628086518, 0.295837525793209, 0.1323483668022251, 0.10899277266065595, 0.05968651836178778, 0.12196810273930547, 0.0726618484404373, 0.11418290469211576, 0.05190132031459807, 0.033735858204488746, 0.005190132031459807, 0.9092896789913053, 0.7744220593653701, 0.10212513913408476, 0.8170011130726781, 0.90928893338582, 0.8711718375980358, 0.16334042686511718, 0.40835106716279296, 0.040835106716279296, 0.040835106716279296, 0.061252660074418944, 0.08167021343255859, 0.14292287350697752, 0.040835106716279296, 0.020417553358139648, 0.020417553358139648, 0.1072950835544153, 0.035765027851471766, 0.14306011140588706, 0.3218852506632459, 0.37553279244045357, 0.909287307439962, 0.10919048499272971, 0.054595242496364854, 0.7643333949491079, 0.9528044456404815, 0.13087818426413658, 0.13087818426413658, 0.19631727639620486, 0.06543909213206829, 0.458073644924478, 0.45468451055983516, 0.045468451055983516, 0.045468451055983516, 0.11367112763995879, 0.045468451055983516, 0.09093690211196703, 0.022734225527991758, 0.1591395786959423, 0.7340037169757737, 0.2811507094576546, 0.08087897121384584, 0.1848662199173619, 0.06932483246901072, 0.1771634607541385, 0.08087897121384584, 0.019256897908058533, 0.05006793456095219, 0.05006793456095219, 0.0038513795816117065, 0.09943722123608084, 0.04971861061804042, 0.14915583185412126, 0.5469047167984447, 0.09943722123608084, 0.06278467057964184, 0.12556934115928367, 0.6906313763760602, 0.06278467057964184, 0.06278467057964184, 0.25596910651947724, 0.15887737646036518, 0.08826520914464732, 0.08826520914464732, 0.14122433463143572, 0.03530608365785893, 0.20300998103268886, 0.0264795627433942, 0.07856082809722935, 0.2094955415926116, 0.0523738853981529, 0.4189910831852232, 0.2094955415926116, 0.02618694269907645, 0.26693106311797776, 0.06673276577949444, 0.06673276577949444, 0.5338621262359555, 0.27467005210646755, 0.010564232773325676, 0.4331335437063527, 0.0422569310933027, 0.11620656050658243, 0.10564232773325676, 0.0483013442842491, 0.4347120985582419, 0.48301344284249104, 0.0483013442842491, 0.8855858457173565, 0.871178480894653, 0.15224509693479515, 0.3914873921180447, 0.08699719824845437, 0.06524789868634077, 0.02174929956211359, 0.06524789868634077, 0.06524789868634077, 0.08699719824845437, 0.02174929956211359, 0.0905210208105804, 0.10560785761234381, 0.150868368017634, 0.28664989923350465, 0.150868368017634, 0.030173673603526803, 0.0452605104052902, 0.075434184008817, 0.0452605104052902, 0.015086836801763401, 0.9067856225453182, 0.6687299633835236, 0.09553285191193195, 0.14329927786789792, 0.047766425955965974, 0.09848290233944328, 0.06565526822629553, 0.06565526822629553, 0.13131053645259105, 0.09848290233944328, 0.06565526822629553, 0.45958687758406863, 0.09062479281677852, 0.24921818024614092, 0.0679685946125839, 0.24921818024614092, 0.02265619820419463, 0.3171867748587248, 0.16549431997167946, 0.21158134578657753, 0.020948648097680943, 0.06494080910281093, 0.2639529660307799, 0.0775099979614195, 0.04189729619536189, 0.13826107744469424, 0.014664053668376661, 0.3410376526980075, 0.08525941317450188, 0.5968158922215131, 0.2262800938264466, 0.1131400469132233, 0.16971007036983493, 0.5091302111095048, 0.12514307763628882, 0.12514307763628882, 0.7508584658177329, 0.10846551732581557, 0.10846551732581557, 0.21693103465163113, 0.5423275866290779, 0.123329065335705, 0.098663252268564, 0.049331626134282, 0.369987196007115, 0.172660691469987, 0.073997439201423, 0.098663252268564, 0.049331626134282, 0.09925546237187725, 0.05583119758418095, 0.19230745834551216, 0.19230745834551216, 0.04962773118593863, 0.1116623951683619, 0.09925546237187725, 0.14267972715957356, 0.012406932796484657, 0.03722079838945397, 0.8083082179330755, 0.1603284599469497, 0.08016422997347485, 0.05344281998231656, 0.6413138397877988, 0.02672140999115828, 0.05344281998231656, 0.3442757346978273, 0.14968510204253363, 0.059874040817013446, 0.059874040817013446, 0.044905530612760085, 0.044905530612760085, 0.25446467347230717, 0.014968510204253362, 0.029937020408506723, 0.8792897908061996, 0.9666973170864598, 0.700758683840725, 0.28030347353629004, 0.8083071876383752, 0.9357278892722539, 0.0325008976152776, 0.2275062833069432, 0.0325008976152776, 0.0650017952305552, 0.3900107713833312, 0.2275062833069432, 0.810656156295697, 0.11985759976511876, 0.034245028504319645, 0.5650429703212742, 0.034245028504319645, 0.25683771378239734, 0.10008906833636541, 0.6505789441863752, 0.050044534168182706, 0.15013360250454813, 0.10008906833636541, 0.9555667784256217, 0.9221794181897953, 0.9478654964819846, 0.8614670639097214, 0.1349547449530222, 0.044984914984340735, 0.8097284697181332, 0.04096082485287687, 0.1638432994115075, 0.7782556722046605, 0.24030489233361593, 0.7209146770008479, 0.1044778438331676, 0.1567167657497514, 0.0696518958887784, 0.1218908178053622, 0.1567167657497514, 0.0522389219165838, 0.0696518958887784, 0.2437816356107244, 0.0174129739721946, 0.8297643858176094, 0.8244165191668879, 0.2308182552975816, 0.0256464728108424, 0.0769394184325272, 0.1795253096758968, 0.1025858912433696, 0.1025858912433696, 0.256464728108424, 0.1649824094663402, 0.6599296378653609, 0.8792856075530184, 0.7744487973575431, 0.8791693897813305, 0.7500393549921459, 0.12500655916535763, 0.8276045289834237, 0.3390299842261689, 0.18364124145584151, 0.042378748028271115, 0.18364124145584151, 0.18364124145584151, 0.056504997371028154, 0.028252498685514077, 0.9068236391092418, 0.8695742942786271, 0.1438604775918283, 0.7193023879591415, 0.8701883561126956, 0.9436525125134202, 0.10067894254522365, 0.10739087204823856, 0.21478174409647713, 0.16108630807235785, 0.08725508353919384, 0.11410280155125348, 0.01342385900602982, 0.060407365527134195, 0.14766244906632803, 0.00671192950301491, 0.07834316741407851, 0.3041558264311283, 0.02765052967555712, 0.39171583707039254, 0.04147579451333568, 0.05069263773852139, 0.06451790257629995, 0.023042108062964268, 0.01382526483777856, 0.009216843225185707, 0.9130012414722192, 0.06968819681752486, 0.023229398939174955, 0.8827171596886483, 0.023229398939174955, 0.27981621464459544, 0.6995405366114886, 0.03198900055195035, 0.1279560022078014, 0.2559120044156028, 0.5118240088312056, 0.10698482748006244, 0.21396965496012488, 0.6419089648803746, 0.24809958106043423, 0.05988610577320826, 0.02566547390280354, 0.09410673764361298, 0.02566547390280354, 0.00855515796760118, 0.17965831731962478, 0.31654084480124367, 0.02566547390280354, 0.01711031593520236, 0.2155967552236985, 0.16768636517398774, 0.02395519502485539, 0.19164156019884312, 0.02395519502485539, 0.3353727303479755, 0.9092786086332948, 0.7209037078013858, 0.24030123593379527, 0.08060338432122595, 0.8866372275334854, 0.058990358339923096, 0.17697107501976928, 0.03932690555994873, 0.5112497722793334, 0.15730762223979491, 0.03932690555994873, 0.1883362628062036, 0.6591769198217127, 0.0941681314031018, 0.827587609377969, 0.21761819409118385, 0.6528545822735516, 0.9527803671977431, 0.8982959218042968, 0.9357107081455781, 0.8714422117427965, 0.885548811000927, 0.11776373918010635, 0.09421099134408509, 0.07065824350806381, 0.023552747836021272, 0.11776373918010635, 0.11776373918010635, 0.35329121754031906, 0.07065824350806381, 0.07065824350806381, 0.8701876308083915, 0.89832426913494, 0.9614600971250354, 0.893644342297056, 0.9292513336599602, 0.8013482057668706, 0.9093032061405346, 0.11557885450246787, 0.8090519815172751, 0.7580462983700509, 0.12634104972834181, 0.574876705489559, 0.2682757958951275, 0.038325113699303935, 0.07665022739860787, 0.038325113699303935, 0.2500334415098301, 0.177107021069463, 0.10418060062909588, 0.12501672075491504, 0.010418060062909589, 0.03125418018872876, 0.08334448050327671, 0.05209030031454794, 0.15627090094364382, 0.010418060062909589, 0.11614357602079123, 0.8130050321455387, 0.14061153809768404, 0.7030576904884203, 0.014811813427583769, 0.31104808197925915, 0.04443544028275131, 0.6220961639585183, 0.8506851634019288, 0.07089043028349407, 0.10767429441573806, 0.3230228832472142, 0.5383714720786903, 0.21720718877390946, 0.03102959839627278, 0.09308879518881834, 0.5585327711329101, 0.09308879518881834, 0.23849235960107815, 0.29811544950134766, 0.04471731742520215, 0.014905772475067384, 0.07452886237533692, 0.193775042175876, 0.10434040732547169, 0.014905772475067384, 0.044330824252035106, 0.9309473092927373, 0.8688120259029455, 0.6530639551451349, 0.03841552677324323, 0.15366210709297293, 0.03841552677324323, 0.07683105354648646, 0.8701705328452344, 0.824374048206146, 0.9093131262548348, 0.34161908402478103, 0.06683851643963107, 0.09654452374613376, 0.02227950547987702, 0.2896335712384013, 0.06683851643963107, 0.08911802191950809, 0.029706007306502698, 0.08698933961967618, 0.6959147169574095, 0.08698933961967618, 0.08698933961967618, 0.9069646253890471, 0.6630579948143009, 0.6096211765761994, 0.8083116866010078, 0.13144645784280767, 0.7229555181354422, 0.06572322892140384, 0.06572322892140384, 0.8902423818189386, 0.9010980276542586, 0.794656761240184, 0.15893135224803678, 0.20325448538609764, 0.03209281348201542, 0.053488022470025695, 0.0855808359520411, 0.03209281348201542, 0.03209281348201542, 0.021395208988010277, 0.053488022470025695, 0.4813922022302312, 0.9344965772945177, 0.8714534768064276, 0.06606638045117445, 0.297298712030285, 0.1486493560151425, 0.2477489266919042, 0.16516595112793614, 0.016516595112793613, 0.04954978533838084, 0.016516595112793613, 0.016516595112793613, 0.9052368930868375, 0.22858573257413586, 0.7619524419137862, 0.749278328723471, 0.09365979109043387, 0.09365979109043387, 0.7799143969602433, 0.19497859924006083, 0.9562606098900145, 0.20357633834219024, 0.38088476205958177, 0.17074144506119182, 0.03283489328099843, 0.10507165849919498, 0.039401871937198116, 0.019700935968599058, 0.006566978656199686, 0.019700935968599058, 0.026267914624798744, 0.15851875476858138, 0.05283958492286046, 0.6340750190743255, 0.10567916984572091, 0.2920285239371392, 0.5840570478742784, 0.09734284131237972, 0.8106567536328583, 0.81065678019497, 0.09354432145901383, 0.01700805844709342, 0.20409670136512106, 0.3061450520476816, 0.08504029223546711, 0.0765362630119204, 0.05952820456482698, 0.05952820456482698, 0.08504029223546711, 0.01700805844709342, 0.9064503150617083, 0.11023855248378758, 0.11023855248378758, 0.7716698673865131, 0.12800194608176593, 0.7680116764905955, 0.8460768115032289, 0.955662506837782, 0.8243854726391171, 0.9556359873919149, 0.923710246496319, 0.017175048490970034, 0.5152514547291009, 0.18892553340067036, 0.017175048490970034, 0.22327563038261042, 0.017175048490970034, 0.017175048490970034, 0.017175048490970034, 0.017175048490970034, 0.8656370141946448, 0.0665874626303573, 0.8702797427139417, 0.9270236435339991, 0.8297844861412385, 0.9556352203289143, 0.024345475367857906, 0.26780022904643697, 0.12172737683928954, 0.4138730812535844, 0.14607285220714744, 0.026557902917180905, 0.013278951458590453, 0.29213693208898994, 0.05311580583436181, 0.026557902917180905, 0.557715961260799, 0.013278951458590453, 0.013278951458590453, 0.8714338644690223, 0.6629731075315808, 0.8460695453017881, 0.8858618466705862, 0.07913042959307601, 0.15826085918615201, 0.07913042959307601, 0.15826085918615201, 0.553913007151532, 0.8930960954838394, 0.08119055413489448, 0.680797225021804, 0.1906232230061051, 0.10892755600348862, 0.027231889000872155, 0.8013164589607072, 0.8711807126812543, 0.8083087944786679, 0.9182078720462246, 0.9236710983043167, 0.8106514997206962, 0.9237185402786955, 0.7724716129555762, 0.07963624875830683, 0.11945437313746023, 0.015927249751661363, 0.11534531804770919, 0.05767265902385459, 0.11534531804770919, 0.14418164755963647, 0.40370861316698214, 0.05767265902385459, 0.08650898853578189, 0.11611025320887902, 0.077406835472586, 0.077406835472586, 0.19351708868146503, 0.309627341890344, 0.11611025320887902, 0.154813670945172, 0.7713972789774575, 0.21151215713898028, 0.012441891596410605, 0.04985086794547322, 0.04985086794547322, 0.6979121512366251, 0.19940347178189288, 0.7743966165870656, 0.8663017355045681, 0.05484124808324136, 0.05484124808324136, 0.8774599693318618, 0.9555813402517409, 0.042457448601606634, 0.9552925935361493, 0.2679879376796514, 0.059552875039922536, 0.2679879376796514, 0.14888218759980634, 0.029776437519961268, 0.0893293125598838, 0.029776437519961268, 0.11910575007984507, 0.1837455197200671, 0.14291318200449665, 0.020416168857785237, 0.020416168857785237, 0.3674910394401342, 0.08166467543114095, 0.08166467543114095, 0.10208084428892618, 0.9405023916380527, 0.9052378609763773, 0.12293112023362572, 0.5795324239585212, 0.017561588604803675, 0.0702463544192147, 0.03512317720960735, 0.03512317720960735, 0.05268476581441102, 0.05268476581441102, 0.017561588604803675, 0.016458712495653526, 0.04937613748696057, 0.03291742499130705, 0.04937613748696057, 0.016458712495653526, 0.39500909989568456, 0.23042197493914934, 0.18104583745218877, 0.03291742499130705, 0.9237250058596084, 0.8302613139821947, 0.1509566025422172, 0.9010864963436958, 0.8655379103691992, 0.7724388118021658, 0.9092907648407341, 0.9528416393556814, 0.8855298513017272, 0.7724552482826083, 0.1124675217848948, 0.6748051307093688, 0.2249350435697896, 0.23755474775794305, 0.04751094955158861, 0.5701313946190634, 0.09502189910317722, 0.9297749141472148, 0.9052793391102296, 0.9293076775634123, 0.8407918595855957, 0.8013361295217666, 0.8407941934775246, 0.801298537201444, 0.17446531879584665, 0.08723265939792332, 0.08723265939792332, 0.13811837738004526, 0.2253510367779686, 0.05088571798212194, 0.11631021253056444, 0.014538776566320554, 0.10177143596424389, 0.08407648785078968, 0.1121019838010529, 0.6726119028063174, 0.028025495950263227, 0.08407648785078968, 0.028025495950263227, 0.8012870034582138, 0.0750924670865862, 0.0500616447243908, 0.1001232894487816, 0.500616447243908, 0.2002465788975632, 0.0750924670865862, 0.9093002456477313, 0.19970634229839507, 0.23494863799811186, 0.09397945519924474, 0.1409691827988671, 0.18795891039848947, 0.023494863799811184, 0.10572688709915033, 0.011747431899905592, 0.9357356577236746, 0.9654021239370391, 0.9068153239193455, 0.7735676467547479, 0.8460436434587366, 0.014912609426907822, 0.1342134848421704, 0.07456304713453911, 0.014912609426907822, 0.1938639225498017, 0.16403870369598605, 0.11930087541526257, 0.28333957911124863, 0.2027369195974562, 0.25342114949682026, 0.060821075879236866, 0.05068422989936405, 0.23314745753707466, 0.08109476783898249, 0.05068422989936405, 0.020273691959745623, 0.020273691959745623, 0.030410537939618433, 0.023703093189467447, 0.4977649569788164, 0.09481237275786979, 0.33184330465254425, 0.04740618637893489, 0.9463908601274139, 0.046092012437490296, 0.11852231769640362, 0.12510689090175936, 0.1053531712856921, 0.05926115884820181, 0.2107063425713842, 0.06584573205355757, 0.18436804974996118, 0.07901487846426908, 0.0065845732053557565, 0.05389521431942071, 0.05389521431942071, 0.538952143194207, 0.16168564295826213, 0.21558085727768284, 0.929332882729703, 0.42578871896363424, 0.3832098470672708, 0.07096478649393904, 0.042578871896363425, 0.07096478649393904, 0.18605003582024363, 0.09302501791012181, 0.023256254477530453, 0.023256254477530453, 0.06976876343259136, 0.6046626164157918, 0.7078239980687868, 0.015729422179306375, 0.1887530661516765, 0.03145884435861275, 0.047188266537919125, 0.015729422179306375, 0.9052525720367435, 0.9221712407009895, 0.8082631718654694, 0.17582085462612285, 0.17582085462612285, 0.17582085462612285, 0.058606951542040944, 0.4102486607942866, 0.058606951542040944, 0.9528293137179261, 0.06829166453980888, 0.0075879627266454315, 0.015175925453290863, 0.10623147817303603, 0.015175925453290863, 0.06070370181316345, 0.022763888179936295, 0.7056805335780251, 0.8899355799942434, 0.08090323454493123, 0.8622822630118155, 0.08622822630118156, 0.9035256609546449, 0.9032605959426049, 0.9270213259969364, 0.7914784585466544, 0.0989348073183318, 0.8695381615152368, 0.9270122765399499, 0.9508946732253482, 0.9293012296730221, 0.9651528722653823, 0.12335961336394309, 0.03524560381826945, 0.21147362290961674, 0.5286840572740419, 0.0704912076365389, 0.03524560381826945, 0.0613851697197113, 0.1227703394394226, 0.0613851697197113, 0.19950180158906172, 0.46038877289783475, 0.046038877289783474, 0.046038877289783474, 0.25485888167401544, 0.5097177633480309, 0.8902267234318196, 0.9478766532346549, 0.5072886553317, 0.024156602634842855, 0.14493961580905712, 0.04831320526968571, 0.1690962184439, 0.12078301317421428, 0.07011113216467535, 0.5842594347056279, 0.1869630191058009, 0.023370377388225113, 0.09348150955290045, 0.023370377388225113, 0.2980902518306065, 0.12465592349279908, 0.03793875932389537, 0.08129734140834723, 0.14091539177446852, 0.021679291042225927, 0.021679291042225927, 0.26015149250671116, 0.016259468281669447, 0.04443252321217926, 0.17773009284871705, 0.08886504642435852, 0.6220553249705096, 0.04443252321217926, 0.7580514360711276, 0.1263419060118546, 0.10470168966895999, 0.5584090115677866, 0.06980112644597332, 0.06980112644597332, 0.03490056322298666, 0.10470168966895999, 0.03490056322298666, 0.16378881960768774, 0.7370496882345948, 0.0825867989287895, 0.8258679892878951, 0.6629940184390174, 0.9270103822723539, 0.15876657701029173, 0.7144495965463128, 0.07938328850514587, 0.943688210100609, 0.9527699754764709, 0.9011198677088446, 0.06436570483634604, 0.11931044860337164, 0.03977014953445721, 0.21873582243951467, 0.019885074767228606, 0.07954029906891442, 0.21873582243951467, 0.07954029906891442, 0.19885074767228608, 0.019885074767228606, 0.8312799785966759, 0.17575985092381166, 0.2134226761217713, 0.25108550131973095, 0.07532565039591928, 0.08787992546190583, 0.15065130079183855, 0.050217100263946185, 0.03685889930589771, 0.018429449652948855, 0.8569694088621218, 0.018429449652948855, 0.009214724826474428, 0.03685889930589771, 0.018429449652948855, 0.009214724826474428, 0.8689647253820988, 0.28244245859588796, 0.1613956906262217, 0.050436153320694274, 0.010087230664138856, 0.1815701519544994, 0.030261691992416566, 0.020174461328277712, 0.020174461328277712, 0.23200630527519367, 0.06637727358170561, 0.06637727358170561, 0.8629045565621729, 0.8407819106439303, 0.9032404556152521, 0.934476821142046, 0.07351534381019152, 0.11027301571528728, 0.14703068762038304, 0.1837883595254788, 0.40433439095605334, 0.03675767190509576, 0.7696003175725102, 0.9509349433991489, 0.8714259658853255, 0.9292811582566243, 0.8106559229488958, 0.8460445000206505, 0.9555431401110073, 0.9047013610989587, 0.8462377911256678, 0.9292787294228411], \"Term\": [\"able\", \"accept\", \"accept\", \"accept\", \"across\", \"agrees\", \"ai\", \"ai\", \"ai\", \"ai\", \"ai\", \"ai\", \"ai\", \"ai\", \"ai\", \"alcohol\", \"alone\", \"alone\", \"alone\", \"alone\", \"alone\", \"alone\", \"alone\", \"although\", \"although\", \"always\", \"always\", \"always\", \"always\", \"always\", \"always\", \"always\", \"always\", \"always\", \"always\", \"amen\", \"andr\\u00e9\", \"angel\", \"angel\", \"angel\", \"angel\", \"anniversary\", \"anything\", \"anything\", \"anything\", \"ass\", \"ass\", \"ass\", \"award\", \"away\", \"away\", \"away\", \"away\", \"away\", \"away\", \"away\", \"away\", \"away\", \"away\", \"ba\", \"babe\", \"babe\", \"babe\", \"babe\", \"babe\", \"baby\", \"baby\", \"baby\", \"baby\", \"baby\", \"baby\", \"baby\", \"baby\", \"baby\", \"baby\", \"back\", \"back\", \"back\", \"back\", \"back\", \"back\", \"back\", \"back\", \"back\", \"back\", \"bad\", \"bad\", \"bad\", \"bad\", \"bad\", \"bad\", \"bad\", \"bad\", \"bad\", \"bad\", \"barber\", \"basic\", \"bask\", \"beam\", \"beat\", \"beat\", \"beat\", \"beat\", \"beat\", \"beautiful\", \"beautiful\", \"beautiful\", \"beautiful\", \"beautiful\", \"beautiful\", \"beautiful\", \"beautiful\", \"beauty\", \"bebe\", \"bein\", \"believe\", \"believe\", \"believe\", \"believe\", \"believe\", \"believe\", \"believe\", \"belong\", \"belong\", \"bend\", \"best\", \"best\", \"best\", \"best\", \"best\", \"best\", \"better\", \"better\", \"better\", \"better\", \"better\", \"better\", \"better\", \"better\", \"better\", \"bitch\", \"bitch\", \"bitch\", \"bitch\", \"bitch\", \"bitch\", \"bitch\", \"bitch\", \"blah\", \"bloody\", \"blown\", \"blurryface\", \"body\", \"body\", \"body\", \"body\", \"body\", \"body\", \"body\", \"body\", \"bored\", \"bored\", \"bowie\", \"boy\", \"boy\", \"boy\", \"boy\", \"boy\", \"boy\", \"boy\", \"boy\", \"boy\", \"boy\", \"boys\", \"boys\", \"boys\", \"boys\", \"breakin\", \"breaks\", \"broken\", \"broken\", \"broken\", \"broken\", \"broken\", \"brown\", \"brown\", \"bye\", \"bye\", \"ca\", \"ca\", \"ca\", \"ca\", \"ca\", \"ca\", \"ca\", \"ca\", \"ca\", \"ca\", \"call\", \"call\", \"call\", \"call\", \"call\", \"call\", \"call\", \"call\", \"call\", \"called\", \"calling\", \"calls\", \"calls\", \"calm\", \"calm\", \"came\", \"came\", \"came\", \"came\", \"came\", \"came\", \"camila\", \"captain\", \"cards\", \"care\", \"care\", \"care\", \"care\", \"care\", \"care\", \"care\", \"care\", \"caring\", \"caring\", \"cater\", \"cd\", \"cd\", \"celebrating\", \"chandelier\", \"change\", \"change\", \"change\", \"change\", \"change\", \"change\", \"change\", \"charli\", \"chiba\", \"chris\", \"chris\", \"church\", \"claiming\", \"close\", \"close\", \"close\", \"close\", \"close\", \"come\", \"come\", \"come\", \"come\", \"come\", \"come\", \"come\", \"come\", \"come\", \"come\", \"comes\", \"comfortable\", \"complicated\", \"cool\", \"cool\", \"cool\", \"crawl\", \"crazy\", \"crazy\", \"crazy\", \"crazy\", \"crazy\", \"crazy\", \"cream\", \"credit\", \"crew\", \"cry\", \"cry\", \"cry\", \"cry\", \"cry\", \"cry\", \"cryin\", \"crying\", \"curl\", \"cursing\", \"cuzzo\", \"dancin\", \"dancing\", \"dancing\", \"dancing\", \"david\", \"day\", \"day\", \"day\", \"day\", \"day\", \"day\", \"day\", \"day\", \"day\", \"de\", \"dear\", \"dear\", \"death\", \"death\", \"deathless\", \"deep\", \"deep\", \"deep\", \"deep\", \"deserve\", \"deserve\", \"dessert\", \"devour\", \"dey\", \"dice\", \"dinah\", \"dinner\", \"dinner\", \"dinner\", \"discoverin\", \"dog\", \"dog\", \"doorway\", \"du\", \"dynamite\", \"ear\", \"ear\", \"earth\", \"eating\", \"ed\", \"else\", \"else\", \"else\", \"else\", \"else\", \"empty\", \"empty\", \"empty\", \"en\", \"ending\", \"ending\", \"endless\", \"ends\", \"even\", \"even\", \"even\", \"even\", \"even\", \"even\", \"even\", \"even\", \"every\", \"every\", \"every\", \"every\", \"every\", \"every\", \"every\", \"every\", \"every\", \"every\", \"ew\", \"ex\", \"explain\", \"fahrenheit\", \"faithfully\", \"fall\", \"fall\", \"fall\", \"fall\", \"fall\", \"fall\", \"fall\", \"fanta\", \"faster\", \"feat\", \"feel\", \"feel\", \"feel\", \"feel\", \"feel\", \"feel\", \"feel\", \"feel\", \"feel\", \"feelin\", \"feelin\", \"feelin\", \"fighting\", \"finally\", \"finally\", \"finally\", \"finally\", \"find\", \"find\", \"find\", \"find\", \"find\", \"find\", \"find\", \"fine\", \"fine\", \"fine\", \"fine\", \"fine\", \"fix\", \"fix\", \"fix\", \"fix\", \"florida\", \"flowers\", \"flowers\", \"flush\", \"fools\", \"foot\", \"forget\", \"forget\", \"forget\", \"forget\", \"forget\", \"forgiven\", \"form\", \"found\", \"found\", \"found\", \"found\", \"found\", \"found\", \"freaky\", \"freaky\", \"freaky\", \"freddie\", \"freddie\", \"free\", \"free\", \"free\", \"free\", \"free\", \"free\", \"free\", \"freedom\", \"freedom\", \"friday\", \"fuck\", \"fuck\", \"fuck\", \"fuck\", \"fuck\", \"functional\", \"funk\", \"future\", \"future\", \"future\", \"gaga\", \"gang\", \"gang\", \"gang\", \"gelatine\", \"gently\", \"get\", \"get\", \"get\", \"get\", \"get\", \"get\", \"get\", \"get\", \"get\", \"get\", \"gets\", \"gets\", \"gets\", \"gets\", \"ghosts\", \"gim\", \"gim\", \"girl\", \"girl\", \"girl\", \"girl\", \"girl\", \"girl\", \"girl\", \"girl\", \"girls\", \"girls\", \"girls\", \"girls\", \"girls\", \"give\", \"give\", \"give\", \"give\", \"give\", \"give\", \"give\", \"give\", \"give\", \"gives\", \"gives\", \"glitter\", \"glitter\", \"go\", \"go\", \"go\", \"go\", \"go\", \"go\", \"go\", \"go\", \"go\", \"go\", \"god\", \"god\", \"god\", \"god\", \"god\", \"godspeed\", \"gomez\", \"gone\", \"gone\", \"gone\", \"gone\", \"gone\", \"gone\", \"good\", \"good\", \"good\", \"good\", \"good\", \"good\", \"good\", \"good\", \"good\", \"good\", \"gotye\", \"granted\", \"grateful\", \"grave\", \"greatest\", \"grey\", \"guaranteed\", \"guess\", \"guess\", \"guess\", \"guess\", \"guess\", \"guess\", \"gum\", \"gunpowder\", \"hailie\", \"hallelujah\", \"hands\", \"hands\", \"hands\", \"hands\", \"hands\", \"hands\", \"hands\", \"hands\", \"hands\", \"hanging\", \"hanging\", \"hard\", \"hard\", \"hard\", \"hard\", \"hard\", \"hard\", \"hard\", \"hard\", \"hate\", \"hate\", \"hate\", \"hate\", \"hate\", \"hated\", \"heart\", \"heart\", \"heart\", \"heart\", \"heart\", \"heart\", \"heart\", \"heart\", \"heart\", \"high\", \"high\", \"high\", \"high\", \"high\", \"high\", \"high\", \"high\", \"high\", \"hol\", \"holdin\", \"holdin\", \"home\", \"home\", \"home\", \"home\", \"home\", \"home\", \"home\", \"home\", \"hu\", \"hungered\", \"huntin\", \"hurt\", \"hurt\", \"hurt\", \"hurt\", \"hurt\", \"hurt\", \"hype\", \"imagine\", \"imagine\", \"imma\", \"innovation\", \"inspire\", \"inspired\", \"issues\", \"issues\", \"james\", \"john\", \"john\", \"judge\", \"julia\", \"julia\", \"kanye\", \"keep\", \"keep\", \"keep\", \"keep\", \"keep\", \"keep\", \"keep\", \"keep\", \"kick\", \"kick\", \"kick\", \"kick\", \"kids\", \"kids\", \"kids\", \"killer\", \"killer\", \"kiss\", \"kiss\", \"kiss\", \"kiss\", \"kiss\", \"kiss\", \"kiss\", \"kiss\", \"knife\", \"knife\", \"knife\", \"know\", \"know\", \"know\", \"know\", \"know\", \"know\", \"know\", \"know\", \"know\", \"know\", \"known\", \"kuaih\", \"lady\", \"lady\", \"lambs\", \"laser\", \"last\", \"last\", \"last\", \"last\", \"last\", \"last\", \"last\", \"last\", \"last\", \"last\", \"late\", \"late\", \"late\", \"late\", \"late\", \"lauren\", \"learn\", \"learn\", \"learn\", \"learns\", \"least\", \"least\", \"least\", \"least\", \"least\", \"left\", \"left\", \"left\", \"left\", \"left\", \"left\", \"left\", \"left\", \"legend\", \"let\", \"let\", \"let\", \"let\", \"let\", \"let\", \"let\", \"let\", \"let\", \"let\", \"lie\", \"lie\", \"lie\", \"lie\", \"lie\", \"lies\", \"lies\", \"lies\", \"lies\", \"lies\", \"life\", \"life\", \"life\", \"life\", \"life\", \"life\", \"life\", \"life\", \"light\", \"light\", \"light\", \"light\", \"light\", \"light\", \"lights\", \"lights\", \"lights\", \"lights\", \"little\", \"little\", \"little\", \"little\", \"little\", \"little\", \"livin\", \"livin\", \"livin\", \"livin\", \"lockdown\", \"locked\", \"long\", \"long\", \"long\", \"long\", \"long\", \"long\", \"long\", \"long\", \"long\", \"look\", \"look\", \"look\", \"look\", \"look\", \"look\", \"look\", \"look\", \"look\", \"look\", \"looks\", \"lord\", \"lord\", \"lord\", \"lord\", \"lose\", \"lose\", \"lose\", \"lose\", \"lose\", \"lose\", \"lose\", \"lost\", \"lost\", \"lost\", \"lost\", \"lost\", \"lost\", \"love\", \"love\", \"love\", \"love\", \"love\", \"love\", \"love\", \"love\", \"love\", \"lover\", \"lover\", \"lover\", \"lovin\", \"lovin\", \"lovin\", \"lovin\", \"loving\", \"loving\", \"loving\", \"mad\", \"mad\", \"mad\", \"mad\", \"made\", \"made\", \"made\", \"made\", \"made\", \"made\", \"made\", \"made\", \"make\", \"make\", \"make\", \"make\", \"make\", \"make\", \"make\", \"make\", \"make\", \"make\", \"mall\", \"mama\", \"mama\", \"mama\", \"mama\", \"mama\", \"mama\", \"man\", \"man\", \"man\", \"man\", \"man\", \"man\", \"man\", \"man\", \"man\", \"maren\", \"marry\", \"martin\", \"martin\", \"max\", \"meal\", \"mean\", \"mean\", \"mean\", \"mean\", \"mean\", \"mean\", \"meanin\", \"meant\", \"meant\", \"meant\", \"meant\", \"meant\", \"meet\", \"meet\", \"meet\", \"meet\", \"meet\", \"megan\", \"meghan\", \"mercury\", \"mhmm\", \"middle\", \"middle\", \"middle\", \"million\", \"million\", \"million\", \"minaj\", \"minaj\", \"mind\", \"mind\", \"mind\", \"mind\", \"mind\", \"mind\", \"mind\", \"mind\", \"mind\", \"missin\", \"momma\", \"money\", \"money\", \"money\", \"money\", \"money\", \"money\", \"money\", \"mood\", \"mood\", \"morris\", \"mother\", \"motivation\", \"moves\", \"moves\", \"movin\", \"much\", \"much\", \"much\", \"much\", \"much\", \"much\", \"much\", \"musician\", \"nas\", \"nasty\", \"nasty\", \"nation\", \"neat\", \"need\", \"need\", \"need\", \"need\", \"need\", \"need\", \"need\", \"need\", \"need\", \"need\", \"never\", \"never\", \"never\", \"never\", \"never\", \"never\", \"never\", \"never\", \"never\", \"never\", \"neverland\", \"next\", \"next\", \"next\", \"next\", \"nicki\", \"nicki\", \"nigga\", \"nigga\", \"nigga\", \"nigga\", \"niggas\", \"niggas\", \"niggas\", \"night\", \"night\", \"night\", \"night\", \"night\", \"night\", \"night\", \"night\", \"night\", \"night\", \"nobody\", \"nobody\", \"nobody\", \"nobody\", \"nobody\", \"nobody\", \"normani\", \"number\", \"number\", \"offer\", \"offer\", \"old\", \"old\", \"old\", \"old\", \"old\", \"old\", \"older\", \"older\", \"older\", \"option\", \"ordinary\", \"ordinary\", \"overseas\", \"pan\", \"patience\", \"payback\", \"pearls\", \"people\", \"people\", \"people\", \"people\", \"people\", \"people\", \"people\", \"people\", \"people\", \"persuasion\", \"peter\", \"pickin\", \"players\", \"po\", \"poured\", \"prayin\", \"pressure\", \"pressure\", \"problem\", \"problem\", \"pussy\", \"pussy\", \"pussy\", \"pussy\", \"pussy\", \"put\", \"put\", \"put\", \"put\", \"put\", \"put\", \"put\", \"put\", \"put\", \"put\", \"queen\", \"queen\", \"quite\", \"quite\", \"rain\", \"rain\", \"rain\", \"rain\", \"rare\", \"rare\", \"rather\", \"rather\", \"rather\", \"ready\", \"ready\", \"ready\", \"ready\", \"ready\", \"really\", \"really\", \"really\", \"really\", \"really\", \"really\", \"really\", \"really\", \"reasons\", \"reasons\", \"rembau\", \"remember\", \"remember\", \"remember\", \"remember\", \"remember\", \"restrained\", \"rexha\", \"rick\", \"right\", \"right\", \"right\", \"right\", \"right\", \"right\", \"right\", \"right\", \"ring\", \"ring\", \"ring\", \"ring\", \"rings\", \"rip\", \"rising\", \"rivers\", \"rockin\", \"rockin\", \"rockin\", \"rockin\", \"rose\", \"royal\", \"rude\", \"rude\", \"run\", \"run\", \"run\", \"run\", \"run\", \"run\", \"run\", \"run\", \"run\", \"rush\", \"sabronzo\", \"said\", \"said\", \"said\", \"said\", \"said\", \"said\", \"said\", \"said\", \"said\", \"sanchez\", \"sang\", \"sang\", \"savage\", \"savage\", \"savage\", \"saw\", \"saw\", \"saxe\", \"say\", \"say\", \"say\", \"say\", \"say\", \"say\", \"say\", \"say\", \"say\", \"say\", \"saying\", \"saying\", \"saying\", \"saying\", \"scared\", \"scared\", \"scared\", \"searchin\", \"season\", \"see\", \"see\", \"see\", \"see\", \"see\", \"see\", \"see\", \"see\", \"see\", \"see\", \"selena\", \"send\", \"send\", \"send\", \"seven\", \"seven\", \"shaan\", \"shake\", \"shape\", \"sharpen\", \"ship\", \"shit\", \"shit\", \"shit\", \"shit\", \"shit\", \"shit\", \"shit\", \"shit\", \"shit\", \"shoot\", \"shoot\", \"shootout\", \"shoulders\", \"shouted\", \"shrine\", \"sick\", \"sick\", \"sick\", \"sick\", \"sick\", \"side\", \"side\", \"side\", \"side\", \"side\", \"side\", \"side\", \"side\", \"sign\", \"sincere\", \"singh\", \"singin\", \"single\", \"single\", \"single\", \"single\", \"single\", \"sins\", \"sins\", \"skin\", \"skin\", \"skin\", \"skin\", \"slaughter\", \"sleeping\", \"slim\", \"slippers\", \"smell\", \"snare\", \"softly\", \"somebody\", \"somebody\", \"somebody\", \"somebody\", \"someone\", \"someone\", \"someone\", \"someone\", \"someone\", \"someone\", \"someone\", \"song\", \"song\", \"song\", \"song\", \"song\", \"song\", \"song\", \"sorry\", \"sorry\", \"sorry\", \"sound\", \"sound\", \"sound\", \"sound\", \"spaceships\", \"speed\", \"spinnin\", \"spinnin\", \"spinnin\", \"stallion\", \"star\", \"star\", \"stars\", \"stars\", \"stars\", \"stars\", \"stars\", \"stars\", \"stars\", \"stars\", \"stay\", \"stay\", \"stay\", \"stay\", \"stay\", \"stay\", \"stay\", \"stay\", \"staying\", \"stephen\", \"still\", \"still\", \"still\", \"still\", \"still\", \"still\", \"still\", \"still\", \"still\", \"stop\", \"stop\", \"stop\", \"stop\", \"stop\", \"stop\", \"stop\", \"stop\", \"stop\", \"stopped\", \"stranger\", \"stranger\", \"streets\", \"stressed\", \"strugglin\", \"stupid\", \"superhero\", \"surrender\", \"suspect\", \"swear\", \"swear\", \"swear\", \"sweet\", \"sweet\", \"sweet\", \"sweet\", \"swipe\", \"swirlin\", \"swish\", \"syasya\", \"symphony\", \"tabby\", \"tables\", \"take\", \"take\", \"take\", \"take\", \"take\", \"take\", \"take\", \"take\", \"take\", \"talk\", \"talk\", \"talk\", \"talk\", \"talk\", \"talk\", \"taught\", \"tears\", \"tears\", \"tears\", \"tears\", \"tears\", \"tears\", \"teatime\", \"tell\", \"tell\", \"tell\", \"tell\", \"tell\", \"tell\", \"tell\", \"tell\", \"telling\", \"temasek\", \"thanks\", \"thee\", \"thighs\", \"thing\", \"thing\", \"thing\", \"thing\", \"thing\", \"thing\", \"thing\", \"thing\", \"think\", \"think\", \"think\", \"think\", \"think\", \"think\", \"think\", \"think\", \"think\", \"think\", \"thought\", \"thought\", \"thought\", \"thought\", \"thought\", \"tick\", \"time\", \"time\", \"time\", \"time\", \"time\", \"time\", \"time\", \"time\", \"time\", \"time\", \"times\", \"times\", \"times\", \"times\", \"times\", \"toe\", \"tonight\", \"tonight\", \"tonight\", \"tonight\", \"tonight\", \"top\", \"top\", \"top\", \"top\", \"top\", \"top\", \"touch\", \"touch\", \"touch\", \"touch\", \"touch\", \"touch\", \"trade\", \"trainor\", \"translate\", \"treat\", \"treat\", \"treat\", \"treat\", \"treat\", \"treat\", \"trees\", \"try\", \"try\", \"try\", \"try\", \"try\", \"try\", \"try\", \"try\", \"tryin\", \"tryin\", \"turned\", \"turned\", \"turnin\", \"turnt\", \"twice\", \"type\", \"type\", \"unholy\", \"uniform\", \"unless\", \"unstoppable\", \"untouchable\", \"us\", \"us\", \"us\", \"us\", \"us\", \"us\", \"used\", \"used\", \"used\", \"used\", \"used\", \"used\", \"used\", \"usually\", \"usually\", \"vie\", \"waaaaaaa\", \"wake\", \"wake\", \"wake\", \"wake\", \"wake\", \"wake\", \"walk\", \"walk\", \"walk\", \"walk\", \"walk\", \"walk\", \"want\", \"want\", \"want\", \"want\", \"want\", \"want\", \"want\", \"want\", \"want\", \"wanted\", \"wanted\", \"wanted\", \"wanted\", \"wanted\", \"wasted\", \"wasted\", \"watch\", \"watch\", \"watch\", \"watch\", \"watch\", \"watch\", \"watch\", \"wave\", \"wave\", \"weak\", \"weak\", \"wealth\", \"whatsapp\", \"whenever\", \"whenever\", \"whenever\", \"whiskey\", \"williams\", \"willing\", \"willing\", \"wish\", \"wish\", \"wish\", \"wish\", \"wish\", \"wish\", \"wish\", \"wish\", \"wish\", \"wizkid\", \"wo\", \"wo\", \"wo\", \"wo\", \"wo\", \"wo\", \"wo\", \"work\", \"work\", \"work\", \"work\", \"work\", \"work\", \"work\", \"work\", \"worked\", \"world\", \"world\", \"world\", \"world\", \"world\", \"world\", \"world\", \"world\", \"world\", \"worried\", \"worried\", \"worried\", \"worse\", \"worship\", \"wrestle\", \"wrong\", \"wrong\", \"wrong\", \"wrong\", \"wrong\", \"wrong\", \"xcx\", \"yanga\", \"yee\", \"yonnyboii\", \"youth\", \"youtube\", \"yuki\", \"yuna\", \"zayn\", \"zynakal\"]}, \"R\": 30, \"lambda.step\": 0.01, \"plot.opts\": {\"xlab\": \"PC1\", \"ylab\": \"PC2\"}, \"topic.order\": [4, 9, 10, 2, 7, 3, 5, 6, 8, 1]};\n",
       "\n",
       "function LDAvis_load_lib(url, callback){\n",
       "  var s = document.createElement('script');\n",
       "  s.src = url;\n",
       "  s.async = true;\n",
       "  s.onreadystatechange = s.onload = callback;\n",
       "  s.onerror = function(){console.warn(\"failed to load library \" + url);};\n",
       "  document.getElementsByTagName(\"head\")[0].appendChild(s);\n",
       "}\n",
       "\n",
       "if(typeof(LDAvis) !== \"undefined\"){\n",
       "   // already loaded: just create the visualization\n",
       "   !function(LDAvis){\n",
       "       new LDAvis(\"#\" + \"ldavis_el1307223170848301608492547921\", ldavis_el1307223170848301608492547921_data);\n",
       "   }(LDAvis);\n",
       "}else if(typeof define === \"function\" && define.amd){\n",
       "   // require.js is available: use it to load d3/LDAvis\n",
       "   require.config({paths: {d3: \"https://d3js.org/d3.v5\"}});\n",
       "   require([\"d3\"], function(d3){\n",
       "      window.d3 = d3;\n",
       "      LDAvis_load_lib(\"https://cdn.jsdelivr.net/gh/bmabey/pyLDAvis@3.4.0/pyLDAvis/js/ldavis.v3.0.0.js\", function(){\n",
       "        new LDAvis(\"#\" + \"ldavis_el1307223170848301608492547921\", ldavis_el1307223170848301608492547921_data);\n",
       "      });\n",
       "    });\n",
       "}else{\n",
       "    // require.js not available: dynamically load d3 & LDAvis\n",
       "    LDAvis_load_lib(\"https://d3js.org/d3.v5.js\", function(){\n",
       "         LDAvis_load_lib(\"https://cdn.jsdelivr.net/gh/bmabey/pyLDAvis@3.4.0/pyLDAvis/js/ldavis.v3.0.0.js\", function(){\n",
       "                 new LDAvis(\"#\" + \"ldavis_el1307223170848301608492547921\", ldavis_el1307223170848301608492547921_data);\n",
       "            })\n",
       "         });\n",
       "}\n",
       "</script>"
      ],
      "text/plain": [
       "<IPython.core.display.HTML object>"
      ]
     },
     "execution_count": 117,
     "metadata": {},
     "output_type": "execute_result"
    }
   ],
   "source": [
    "# PyLDAviz \n",
    "import pyLDAvis.gensim_models\n",
    "import pyLDAvis\n",
    "\n",
    "# Prepare the data for visualization\n",
    "vis_data = pyLDAvis.gensim_models.prepare(lda_model, corpus, dictionary)\n",
    "\n",
    "# Display the visualization\n",
    "pyLDAvis.display(vis_data)"
   ]
  },
  {
   "cell_type": "markdown",
   "metadata": {},
   "source": [
    "# Extract themes for EACH song using LDA"
   ]
  },
  {
   "cell_type": "code",
   "execution_count": 38,
   "metadata": {},
   "outputs": [],
   "source": [
    "#Function to get the dominant topic for a single document\n",
    "def get_dominant_topic(lda_model, corpus_document):\n",
    "    topic_distribution = lda_model.get_document_topics(corpus_document)\n",
    "    dominant_topic = max(topic_distribution, key=lambda x:x[1])\n",
    "    return dominant_topic[0], dominant_topic[1]\n",
    "\n",
    "#apply the function to each doument in the corpus\n",
    "dominant_topics = [get_dominant_topic(lda_model, doc) for doc in corpus]\n",
    "\n",
    "#create a dataframe with the results\n",
    "theme_df = pd.DataFrame(dominant_topics, columns=['Dominant_Topic', 'Topic_Probability'])\n",
    "\n",
    "#add theme df to original df\n",
    "song_theme = pd.concat([song_theme, theme_df], axis=1)\n",
    "\n",
    "#function to get the top N words for a given topic\n",
    "def get_topic_words(lda_model, topic_id, n_words=5):\n",
    "    return [word for word, _ in lda_model.show_topic(topic_id, topn=n_words)]\n",
    "\n",
    "# add a column with the top words for each song's 'dominatn topic\n",
    "song_theme['Topic_Words'] = song_theme['Dominant_Topic'].apply(lambda x:get_topic_words(lda_model, x))\n",
    "\n",
    "\n",
    "# song_theme[['artist','song', 'translated_lyrics', 'Dominant_Topic', 'Topic_Probability', 'Topic_Words']]\n",
    "\n"
   ]
  },
  {
   "cell_type": "code",
   "execution_count": 39,
   "metadata": {},
   "outputs": [],
   "source": [
    "# #save df to a csv file \n",
    "# csv_path = './Dataset/LDA_sentiment.csv'\n",
    "# song_theme.to_csv(csv_path)"
   ]
  },
  {
   "cell_type": "code",
   "execution_count": 92,
   "metadata": {},
   "outputs": [
    {
     "data": {
      "text/html": [
       "<div>\n",
       "<style scoped>\n",
       "    .dataframe tbody tr th:only-of-type {\n",
       "        vertical-align: middle;\n",
       "    }\n",
       "\n",
       "    .dataframe tbody tr th {\n",
       "        vertical-align: top;\n",
       "    }\n",
       "\n",
       "    .dataframe thead th {\n",
       "        text-align: right;\n",
       "    }\n",
       "</style>\n",
       "<table border=\"1\" class=\"dataframe\">\n",
       "  <thead>\n",
       "    <tr style=\"text-align: right;\">\n",
       "      <th></th>\n",
       "      <th>Unnamed: 0</th>\n",
       "      <th>year</th>\n",
       "      <th>artist</th>\n",
       "      <th>song</th>\n",
       "      <th>play_count</th>\n",
       "      <th>tokens</th>\n",
       "      <th>Dominant_Topic</th>\n",
       "      <th>Topic_Probability</th>\n",
       "      <th>Topic_Words</th>\n",
       "    </tr>\n",
       "  </thead>\n",
       "  <tbody>\n",
       "    <tr>\n",
       "      <th>0</th>\n",
       "      <td>0</td>\n",
       "      <td>2014</td>\n",
       "      <td>Ed Sheeran</td>\n",
       "      <td>Thinking out Loud</td>\n",
       "      <td>473</td>\n",
       "      <td>['legs', 'work', 'used', 'ca', 'sweep', 'feet'...</td>\n",
       "      <td>4</td>\n",
       "      <td>0.993331</td>\n",
       "      <td>['love', 'know', 'body', 'touch', 'used']</td>\n",
       "    </tr>\n",
       "    <tr>\n",
       "      <th>1</th>\n",
       "      <td>1</td>\n",
       "      <td>2014</td>\n",
       "      <td>Norah Jones</td>\n",
       "      <td>Come Away With Me</td>\n",
       "      <td>242</td>\n",
       "      <td>['come', 'away', 'night', 'come', 'away', 'wri...</td>\n",
       "      <td>7</td>\n",
       "      <td>0.983014</td>\n",
       "      <td>['every', 'love', 'day', 'baby', 'want']</td>\n",
       "    </tr>\n",
       "    <tr>\n",
       "      <th>2</th>\n",
       "      <td>2</td>\n",
       "      <td>2014</td>\n",
       "      <td>Troye Sivan</td>\n",
       "      <td>Happy Little Pill</td>\n",
       "      <td>242</td>\n",
       "      <td>['crowd', 'alone', 'every', 'passing', 'remind...</td>\n",
       "      <td>9</td>\n",
       "      <td>0.993959</td>\n",
       "      <td>['girls', 'run', 'world', 'know', 'little']</td>\n",
       "    </tr>\n",
       "    <tr>\n",
       "      <th>3</th>\n",
       "      <td>3</td>\n",
       "      <td>2014</td>\n",
       "      <td>The Script</td>\n",
       "      <td>Superheroes</td>\n",
       "      <td>232</td>\n",
       "      <td>['life', 'seen', 'meanest', 'side', 'took', 'a...</td>\n",
       "      <td>7</td>\n",
       "      <td>0.995754</td>\n",
       "      <td>['every', 'love', 'day', 'baby', 'want']</td>\n",
       "    </tr>\n",
       "    <tr>\n",
       "      <th>4</th>\n",
       "      <td>4</td>\n",
       "      <td>2014</td>\n",
       "      <td>Ellie Goulding</td>\n",
       "      <td>How Long Will I Love You</td>\n",
       "      <td>189</td>\n",
       "      <td>['long', 'love', 'long', 'stars', 'longer', 'l...</td>\n",
       "      <td>5</td>\n",
       "      <td>0.981245</td>\n",
       "      <td>['somebody', 'love', 'fuck', 'find', 'come']</td>\n",
       "    </tr>\n",
       "  </tbody>\n",
       "</table>\n",
       "</div>"
      ],
      "text/plain": [
       "   Unnamed: 0  year          artist                      song  play_count  \\\n",
       "0           0  2014      Ed Sheeran         Thinking out Loud         473   \n",
       "1           1  2014     Norah Jones         Come Away With Me         242   \n",
       "2           2  2014     Troye Sivan         Happy Little Pill         242   \n",
       "3           3  2014      The Script               Superheroes         232   \n",
       "4           4  2014  Ellie Goulding  How Long Will I Love You         189   \n",
       "\n",
       "                                              tokens  Dominant_Topic  \\\n",
       "0  ['legs', 'work', 'used', 'ca', 'sweep', 'feet'...               4   \n",
       "1  ['come', 'away', 'night', 'come', 'away', 'wri...               7   \n",
       "2  ['crowd', 'alone', 'every', 'passing', 'remind...               9   \n",
       "3  ['life', 'seen', 'meanest', 'side', 'took', 'a...               7   \n",
       "4  ['long', 'love', 'long', 'stars', 'longer', 'l...               5   \n",
       "\n",
       "   Topic_Probability                                   Topic_Words  \n",
       "0           0.993331     ['love', 'know', 'body', 'touch', 'used']  \n",
       "1           0.983014      ['every', 'love', 'day', 'baby', 'want']  \n",
       "2           0.993959   ['girls', 'run', 'world', 'know', 'little']  \n",
       "3           0.995754      ['every', 'love', 'day', 'baby', 'want']  \n",
       "4           0.981245  ['somebody', 'love', 'fuck', 'find', 'come']  "
      ]
     },
     "execution_count": 92,
     "metadata": {},
     "output_type": "execute_result"
    }
   ],
   "source": [
    "lda_theme = pd.read_csv(r'./Dataset/LDA_sentiment.csv')\n",
    "lda_theme.head()"
   ]
  },
  {
   "cell_type": "markdown",
   "metadata": {},
   "source": [
    "# LDA SENTIMENT\n",
    "\n",
    "**Understanding the column in dataframe**:\n",
    "\n",
    "- Tokens: \n",
    "    - Tokenized form of the song lyrics\n",
    "\n",
    "- Dominant Topic\n",
    "    - The topic that has the highest probability for the song\n",
    "    - This is useful to understand the primary theme of each song\n",
    "\n",
    "- Topic probability\n",
    "    - The probability of the dominant topic within the song\n",
    "    - It's useful to understand how strongly the topis is represented\n",
    "\n",
    "- Topic words   \n",
    "    - The words associated with each topic.\n",
    "    - It's usefu to interpret what each topic represents"
   ]
  },
  {
   "cell_type": "code",
   "execution_count": 93,
   "metadata": {},
   "outputs": [
    {
     "data": {
      "text/plain": [
       "Index(['Unnamed: 0', 'year', 'artist', 'song', 'play_count', 'tokens',\n",
       "       'Dominant_Topic', 'Topic_Probability', 'Topic_Words'],\n",
       "      dtype='object')"
      ]
     },
     "execution_count": 93,
     "metadata": {},
     "output_type": "execute_result"
    }
   ],
   "source": [
    "lda_theme.columns"
   ]
  },
  {
   "cell_type": "markdown",
   "metadata": {},
   "source": [
    "# Visualize Topic Distribution\n",
    "\n",
    "1) Topic Frequency Distribution: To see how many songs are associated with each topic\n",
    "\n",
    "2) Topic Probability Analysis: \n",
    "    - To see the average probability of each topic\n",
    "    - It represents how strongly each topic is associated with the songs\n",
    "    - It allows us to see which themes are more prevalent/significant in the dataset\n",
    "\n",
    "3) Topic Trends Over Years: To analyze how the prevalence of topics has changed over time\n",
    "\n",
    "4) Heatmap showing the probability of dominant topic for each year from 2014 to 2024\n",
    " \n"
   ]
  },
  {
   "cell_type": "code",
   "execution_count": 94,
   "metadata": {},
   "outputs": [
    {
     "data": {
      "image/png": "[encoded data removed]",
      "text/plain": [
       "<Figure size 400x200 with 1 Axes>"
      ]
     },
     "metadata": {},
     "output_type": "display_data"
    }
   ],
   "source": [
    "import matplotlib.pyplot as plt\n",
    "\n",
    "# topic freq distr\n",
    "topic_distr = lda_theme['Dominant_Topic'].value_counts()\n",
    "\n",
    "topic_distr.plot(kind='bar', figsize=(4,2))\n",
    "plt.xlabel('Topic')\n",
    "plt.ylabel('Number of Songs')\n",
    "plt.title('Number of Songs per Topic')\n",
    "plt.show()"
   ]
  },
  {
   "cell_type": "code",
   "execution_count": 95,
   "metadata": {},
   "outputs": [
    {
     "data": {
      "image/png": "[encoded data removed]",
      "text/plain": [
       "<Figure size 400x200 with 1 Axes>"
      ]
     },
     "metadata": {},
     "output_type": "display_data"
    }
   ],
   "source": [
    "average_topic_prob = lda_theme.groupby('Dominant_Topic')['Topic_Probability'].mean()\n",
    "\n",
    "average_topic_prob.plot(kind='bar', figsize=(4,2))\n",
    "plt.xlabel('Topic')\n",
    "plt.ylabel('Average Probability')\n",
    "plt.title('Average Topic Probability per Topic')\n",
    "plt.show()"
   ]
  },
  {
   "cell_type": "code",
   "execution_count": 96,
   "metadata": {},
   "outputs": [
    {
     "data": {
      "application/vnd.plotly.v1+json": {
       "config": {
        "plotlyServerURL": "https://plot.ly"
       },
       "data": [
        {
         "hovertemplate": "Dominant_Topic=0<br>year=%{x}<br>Number_of_songs=%{y}<extra></extra>",
         "legendgroup": "0",
         "line": {
          "color": "#636efa",
          "dash": "solid"
         },
         "marker": {
          "symbol": "circle"
         },
         "mode": "lines+markers",
         "name": "0",
         "orientation": "v",
         "showlegend": true,
         "type": "scatter",
         "x": [
          2014,
          2015,
          2016,
          2017,
          2018,
          2019,
          2020,
          2021,
          2022,
          2023,
          2024
         ],
         "xaxis": "x",
         "y": [
          1,
          1,
          0,
          1,
          1,
          0,
          1,
          1,
          1,
          0,
          1
         ],
         "yaxis": "y"
        },
        {
         "hovertemplate": "Dominant_Topic=1<br>year=%{x}<br>Number_of_songs=%{y}<extra></extra>",
         "legendgroup": "1",
         "line": {
          "color": "#EF553B",
          "dash": "solid"
         },
         "marker": {
          "symbol": "circle"
         },
         "mode": "lines+markers",
         "name": "1",
         "orientation": "v",
         "showlegend": true,
         "type": "scatter",
         "x": [
          2014,
          2015,
          2016,
          2017,
          2018,
          2019,
          2020,
          2021,
          2022,
          2023,
          2024
         ],
         "xaxis": "x",
         "y": [
          0,
          1,
          3,
          3,
          2,
          4,
          5,
          5,
          3,
          0,
          5
         ],
         "yaxis": "y"
        },
        {
         "hovertemplate": "Dominant_Topic=2<br>year=%{x}<br>Number_of_songs=%{y}<extra></extra>",
         "legendgroup": "2",
         "line": {
          "color": "#00cc96",
          "dash": "solid"
         },
         "marker": {
          "symbol": "circle"
         },
         "mode": "lines+markers",
         "name": "2",
         "orientation": "v",
         "showlegend": true,
         "type": "scatter",
         "x": [
          2014,
          2015,
          2016,
          2017,
          2018,
          2019,
          2020,
          2021,
          2022,
          2023,
          2024
         ],
         "xaxis": "x",
         "y": [
          0,
          1,
          0,
          0,
          1,
          1,
          1,
          1,
          1,
          0,
          2
         ],
         "yaxis": "y"
        },
        {
         "hovertemplate": "Dominant_Topic=3<br>year=%{x}<br>Number_of_songs=%{y}<extra></extra>",
         "legendgroup": "3",
         "line": {
          "color": "#ab63fa",
          "dash": "solid"
         },
         "marker": {
          "symbol": "circle"
         },
         "mode": "lines+markers",
         "name": "3",
         "orientation": "v",
         "showlegend": true,
         "type": "scatter",
         "x": [
          2014,
          2015,
          2016,
          2017,
          2018,
          2019,
          2020,
          2021,
          2022,
          2023,
          2024
         ],
         "xaxis": "x",
         "y": [
          3,
          2,
          0,
          2,
          1,
          2,
          2,
          2,
          3,
          1,
          0
         ],
         "yaxis": "y"
        },
        {
         "hovertemplate": "Dominant_Topic=4<br>year=%{x}<br>Number_of_songs=%{y}<extra></extra>",
         "legendgroup": "4",
         "line": {
          "color": "#FFA15A",
          "dash": "solid"
         },
         "marker": {
          "symbol": "circle"
         },
         "mode": "lines+markers",
         "name": "4",
         "orientation": "v",
         "showlegend": true,
         "type": "scatter",
         "x": [
          2014,
          2015,
          2016,
          2017,
          2018,
          2019,
          2020,
          2021,
          2022,
          2023,
          2024
         ],
         "xaxis": "x",
         "y": [
          3,
          2,
          3,
          2,
          1,
          1,
          1,
          1,
          1,
          6,
          2
         ],
         "yaxis": "y"
        },
        {
         "hovertemplate": "Dominant_Topic=5<br>year=%{x}<br>Number_of_songs=%{y}<extra></extra>",
         "legendgroup": "5",
         "line": {
          "color": "#19d3f3",
          "dash": "solid"
         },
         "marker": {
          "symbol": "circle"
         },
         "mode": "lines+markers",
         "name": "5",
         "orientation": "v",
         "showlegend": true,
         "type": "scatter",
         "x": [
          2014,
          2015,
          2016,
          2017,
          2018,
          2019,
          2020,
          2021,
          2022,
          2023,
          2024
         ],
         "xaxis": "x",
         "y": [
          1,
          1,
          1,
          1,
          1,
          2,
          0,
          1,
          3,
          2,
          0
         ],
         "yaxis": "y"
        },
        {
         "hovertemplate": "Dominant_Topic=6<br>year=%{x}<br>Number_of_songs=%{y}<extra></extra>",
         "legendgroup": "6",
         "line": {
          "color": "#FF6692",
          "dash": "solid"
         },
         "marker": {
          "symbol": "circle"
         },
         "mode": "lines+markers",
         "name": "6",
         "orientation": "v",
         "showlegend": true,
         "type": "scatter",
         "x": [
          2014,
          2015,
          2016,
          2017,
          2018,
          2019,
          2020,
          2021,
          2022,
          2023,
          2024
         ],
         "xaxis": "x",
         "y": [
          0,
          2,
          1,
          0,
          0,
          1,
          0,
          0,
          0,
          2,
          0
         ],
         "yaxis": "y"
        },
        {
         "hovertemplate": "Dominant_Topic=7<br>year=%{x}<br>Number_of_songs=%{y}<extra></extra>",
         "legendgroup": "7",
         "line": {
          "color": "#B6E880",
          "dash": "solid"
         },
         "marker": {
          "symbol": "circle"
         },
         "mode": "lines+markers",
         "name": "7",
         "orientation": "v",
         "showlegend": true,
         "type": "scatter",
         "x": [
          2014,
          2015,
          2016,
          2017,
          2018,
          2019,
          2020,
          2021,
          2022,
          2023,
          2024
         ],
         "xaxis": "x",
         "y": [
          2,
          2,
          2,
          2,
          1,
          2,
          1,
          3,
          0,
          1,
          1
         ],
         "yaxis": "y"
        },
        {
         "hovertemplate": "Dominant_Topic=8<br>year=%{x}<br>Number_of_songs=%{y}<extra></extra>",
         "legendgroup": "8",
         "line": {
          "color": "#FF97FF",
          "dash": "solid"
         },
         "marker": {
          "symbol": "circle"
         },
         "mode": "lines+markers",
         "name": "8",
         "orientation": "v",
         "showlegend": true,
         "type": "scatter",
         "x": [
          2014,
          2015,
          2016,
          2017,
          2018,
          2019,
          2020,
          2021,
          2022,
          2023,
          2024
         ],
         "xaxis": "x",
         "y": [
          2,
          1,
          5,
          2,
          5,
          2,
          1,
          0,
          3,
          2,
          3
         ],
         "yaxis": "y"
        },
        {
         "hovertemplate": "Dominant_Topic=9<br>year=%{x}<br>Number_of_songs=%{y}<extra></extra>",
         "legendgroup": "9",
         "line": {
          "color": "#FECB52",
          "dash": "solid"
         },
         "marker": {
          "symbol": "circle"
         },
         "mode": "lines+markers",
         "name": "9",
         "orientation": "v",
         "showlegend": true,
         "type": "scatter",
         "x": [
          2014,
          2015,
          2016,
          2017,
          2018,
          2019,
          2020,
          2021,
          2022,
          2023,
          2024
         ],
         "xaxis": "x",
         "y": [
          3,
          2,
          0,
          2,
          2,
          0,
          3,
          1,
          0,
          1,
          1
         ],
         "yaxis": "y"
        }
       ],
       "layout": {
        "legend": {
         "title": {
          "text": "Topic"
         },
         "tracegroupgap": 0
        },
        "template": {
         "data": {
          "bar": [
           {
            "error_x": {
             "color": "#2a3f5f"
            },
            "error_y": {
             "color": "#2a3f5f"
            },
            "marker": {
             "line": {
              "color": "#E5ECF6",
              "width": 0.5
             },
             "pattern": {
              "fillmode": "overlay",
              "size": 10,
              "solidity": 0.2
             }
            },
            "type": "bar"
           }
          ],
          "barpolar": [
           {
            "marker": {
             "line": {
              "color": "#E5ECF6",
              "width": 0.5
             },
             "pattern": {
              "fillmode": "overlay",
              "size": 10,
              "solidity": 0.2
             }
            },
            "type": "barpolar"
           }
          ],
          "carpet": [
           {
            "aaxis": {
             "endlinecolor": "#2a3f5f",
             "gridcolor": "white",
             "linecolor": "white",
             "minorgridcolor": "white",
             "startlinecolor": "#2a3f5f"
            },
            "baxis": {
             "endlinecolor": "#2a3f5f",
             "gridcolor": "white",
             "linecolor": "white",
             "minorgridcolor": "white",
             "startlinecolor": "#2a3f5f"
            },
            "type": "carpet"
           }
          ],
          "choropleth": [
           {
            "colorbar": {
             "outlinewidth": 0,
             "ticks": ""
            },
            "type": "choropleth"
           }
          ],
          "contour": [
           {
            "colorbar": {
             "outlinewidth": 0,
             "ticks": ""
            },
            "colorscale": [
             [
              0,
              "#0d0887"
             ],
             [
              0.1111111111111111,
              "#46039f"
             ],
             [
              0.2222222222222222,
              "#7201a8"
             ],
             [
              0.3333333333333333,
              "#9c179e"
             ],
             [
              0.4444444444444444,
              "#bd3786"
             ],
             [
              0.5555555555555556,
              "#d8576b"
             ],
             [
              0.6666666666666666,
              "#ed7953"
             ],
             [
              0.7777777777777778,
              "#fb9f3a"
             ],
             [
              0.8888888888888888,
              "#fdca26"
             ],
             [
              1,
              "#f0f921"
             ]
            ],
            "type": "contour"
           }
          ],
          "contourcarpet": [
           {
            "colorbar": {
             "outlinewidth": 0,
             "ticks": ""
            },
            "type": "contourcarpet"
           }
          ],
          "heatmap": [
           {
            "colorbar": {
             "outlinewidth": 0,
             "ticks": ""
            },
            "colorscale": [
             [
              0,
              "#0d0887"
             ],
             [
              0.1111111111111111,
              "#46039f"
             ],
             [
              0.2222222222222222,
              "#7201a8"
             ],
             [
              0.3333333333333333,
              "#9c179e"
             ],
             [
              0.4444444444444444,
              "#bd3786"
             ],
             [
              0.5555555555555556,
              "#d8576b"
             ],
             [
              0.6666666666666666,
              "#ed7953"
             ],
             [
              0.7777777777777778,
              "#fb9f3a"
             ],
             [
              0.8888888888888888,
              "#fdca26"
             ],
             [
              1,
              "#f0f921"
             ]
            ],
            "type": "heatmap"
           }
          ],
          "heatmapgl": [
           {
            "colorbar": {
             "outlinewidth": 0,
             "ticks": ""
            },
            "colorscale": [
             [
              0,
              "#0d0887"
             ],
             [
              0.1111111111111111,
              "#46039f"
             ],
             [
              0.2222222222222222,
              "#7201a8"
             ],
             [
              0.3333333333333333,
              "#9c179e"
             ],
             [
              0.4444444444444444,
              "#bd3786"
             ],
             [
              0.5555555555555556,
              "#d8576b"
             ],
             [
              0.6666666666666666,
              "#ed7953"
             ],
             [
              0.7777777777777778,
              "#fb9f3a"
             ],
             [
              0.8888888888888888,
              "#fdca26"
             ],
             [
              1,
              "#f0f921"
             ]
            ],
            "type": "heatmapgl"
           }
          ],
          "histogram": [
           {
            "marker": {
             "pattern": {
              "fillmode": "overlay",
              "size": 10,
              "solidity": 0.2
             }
            },
            "type": "histogram"
           }
          ],
          "histogram2d": [
           {
            "colorbar": {
             "outlinewidth": 0,
             "ticks": ""
            },
            "colorscale": [
             [
              0,
              "#0d0887"
             ],
             [
              0.1111111111111111,
              "#46039f"
             ],
             [
              0.2222222222222222,
              "#7201a8"
             ],
             [
              0.3333333333333333,
              "#9c179e"
             ],
             [
              0.4444444444444444,
              "#bd3786"
             ],
             [
              0.5555555555555556,
              "#d8576b"
             ],
             [
              0.6666666666666666,
              "#ed7953"
             ],
             [
              0.7777777777777778,
              "#fb9f3a"
             ],
             [
              0.8888888888888888,
              "#fdca26"
             ],
             [
              1,
              "#f0f921"
             ]
            ],
            "type": "histogram2d"
           }
          ],
          "histogram2dcontour": [
           {
            "colorbar": {
             "outlinewidth": 0,
             "ticks": ""
            },
            "colorscale": [
             [
              0,
              "#0d0887"
             ],
             [
              0.1111111111111111,
              "#46039f"
             ],
             [
              0.2222222222222222,
              "#7201a8"
             ],
             [
              0.3333333333333333,
              "#9c179e"
             ],
             [
              0.4444444444444444,
              "#bd3786"
             ],
             [
              0.5555555555555556,
              "#d8576b"
             ],
             [
              0.6666666666666666,
              "#ed7953"
             ],
             [
              0.7777777777777778,
              "#fb9f3a"
             ],
             [
              0.8888888888888888,
              "#fdca26"
             ],
             [
              1,
              "#f0f921"
             ]
            ],
            "type": "histogram2dcontour"
           }
          ],
          "mesh3d": [
           {
            "colorbar": {
             "outlinewidth": 0,
             "ticks": ""
            },
            "type": "mesh3d"
           }
          ],
          "parcoords": [
           {
            "line": {
             "colorbar": {
              "outlinewidth": 0,
              "ticks": ""
             }
            },
            "type": "parcoords"
           }
          ],
          "pie": [
           {
            "automargin": true,
            "type": "pie"
           }
          ],
          "scatter": [
           {
            "fillpattern": {
             "fillmode": "overlay",
             "size": 10,
             "solidity": 0.2
            },
            "type": "scatter"
           }
          ],
          "scatter3d": [
           {
            "line": {
             "colorbar": {
              "outlinewidth": 0,
              "ticks": ""
             }
            },
            "marker": {
             "colorbar": {
              "outlinewidth": 0,
              "ticks": ""
             }
            },
            "type": "scatter3d"
           }
          ],
          "scattercarpet": [
           {
            "marker": {
             "colorbar": {
              "outlinewidth": 0,
              "ticks": ""
             }
            },
            "type": "scattercarpet"
           }
          ],
          "scattergeo": [
           {
            "marker": {
             "colorbar": {
              "outlinewidth": 0,
              "ticks": ""
             }
            },
            "type": "scattergeo"
           }
          ],
          "scattergl": [
           {
            "marker": {
             "colorbar": {
              "outlinewidth": 0,
              "ticks": ""
             }
            },
            "type": "scattergl"
           }
          ],
          "scattermapbox": [
           {
            "marker": {
             "colorbar": {
              "outlinewidth": 0,
              "ticks": ""
             }
            },
            "type": "scattermapbox"
           }
          ],
          "scatterpolar": [
           {
            "marker": {
             "colorbar": {
              "outlinewidth": 0,
              "ticks": ""
             }
            },
            "type": "scatterpolar"
           }
          ],
          "scatterpolargl": [
           {
            "marker": {
             "colorbar": {
              "outlinewidth": 0,
              "ticks": ""
             }
            },
            "type": "scatterpolargl"
           }
          ],
          "scatterternary": [
           {
            "marker": {
             "colorbar": {
              "outlinewidth": 0,
              "ticks": ""
             }
            },
            "type": "scatterternary"
           }
          ],
          "surface": [
           {
            "colorbar": {
             "outlinewidth": 0,
             "ticks": ""
            },
            "colorscale": [
             [
              0,
              "#0d0887"
             ],
             [
              0.1111111111111111,
              "#46039f"
             ],
             [
              0.2222222222222222,
              "#7201a8"
             ],
             [
              0.3333333333333333,
              "#9c179e"
             ],
             [
              0.4444444444444444,
              "#bd3786"
             ],
             [
              0.5555555555555556,
              "#d8576b"
             ],
             [
              0.6666666666666666,
              "#ed7953"
             ],
             [
              0.7777777777777778,
              "#fb9f3a"
             ],
             [
              0.8888888888888888,
              "#fdca26"
             ],
             [
              1,
              "#f0f921"
             ]
            ],
            "type": "surface"
           }
          ],
          "table": [
           {
            "cells": {
             "fill": {
              "color": "#EBF0F8"
             },
             "line": {
              "color": "white"
             }
            },
            "header": {
             "fill": {
              "color": "#C8D4E3"
             },
             "line": {
              "color": "white"
             }
            },
            "type": "table"
           }
          ]
         },
         "layout": {
          "annotationdefaults": {
           "arrowcolor": "#2a3f5f",
           "arrowhead": 0,
           "arrowwidth": 1
          },
          "autotypenumbers": "strict",
          "coloraxis": {
           "colorbar": {
            "outlinewidth": 0,
            "ticks": ""
           }
          },
          "colorscale": {
           "diverging": [
            [
             0,
             "#8e0152"
            ],
            [
             0.1,
             "#c51b7d"
            ],
            [
             0.2,
             "#de77ae"
            ],
            [
             0.3,
             "#f1b6da"
            ],
            [
             0.4,
             "#fde0ef"
            ],
            [
             0.5,
             "#f7f7f7"
            ],
            [
             0.6,
             "#e6f5d0"
            ],
            [
             0.7,
             "#b8e186"
            ],
            [
             0.8,
             "#7fbc41"
            ],
            [
             0.9,
             "#4d9221"
            ],
            [
             1,
             "#276419"
            ]
           ],
           "sequential": [
            [
             0,
             "#0d0887"
            ],
            [
             0.1111111111111111,
             "#46039f"
            ],
            [
             0.2222222222222222,
             "#7201a8"
            ],
            [
             0.3333333333333333,
             "#9c179e"
            ],
            [
             0.4444444444444444,
             "#bd3786"
            ],
            [
             0.5555555555555556,
             "#d8576b"
            ],
            [
             0.6666666666666666,
             "#ed7953"
            ],
            [
             0.7777777777777778,
             "#fb9f3a"
            ],
            [
             0.8888888888888888,
             "#fdca26"
            ],
            [
             1,
             "#f0f921"
            ]
           ],
           "sequentialminus": [
            [
             0,
             "#0d0887"
            ],
            [
             0.1111111111111111,
             "#46039f"
            ],
            [
             0.2222222222222222,
             "#7201a8"
            ],
            [
             0.3333333333333333,
             "#9c179e"
            ],
            [
             0.4444444444444444,
             "#bd3786"
            ],
            [
             0.5555555555555556,
             "#d8576b"
            ],
            [
             0.6666666666666666,
             "#ed7953"
            ],
            [
             0.7777777777777778,
             "#fb9f3a"
            ],
            [
             0.8888888888888888,
             "#fdca26"
            ],
            [
             1,
             "#f0f921"
            ]
           ]
          },
          "colorway": [
           "#636efa",
           "#EF553B",
           "#00cc96",
           "#ab63fa",
           "#FFA15A",
           "#19d3f3",
           "#FF6692",
           "#B6E880",
           "#FF97FF",
           "#FECB52"
          ],
          "font": {
           "color": "#2a3f5f"
          },
          "geo": {
           "bgcolor": "white",
           "lakecolor": "white",
           "landcolor": "#E5ECF6",
           "showlakes": true,
           "showland": true,
           "subunitcolor": "white"
          },
          "hoverlabel": {
           "align": "left"
          },
          "hovermode": "closest",
          "mapbox": {
           "style": "light"
          },
          "paper_bgcolor": "white",
          "plot_bgcolor": "#E5ECF6",
          "polar": {
           "angularaxis": {
            "gridcolor": "white",
            "linecolor": "white",
            "ticks": ""
           },
           "bgcolor": "#E5ECF6",
           "radialaxis": {
            "gridcolor": "white",
            "linecolor": "white",
            "ticks": ""
           }
          },
          "scene": {
           "xaxis": {
            "backgroundcolor": "#E5ECF6",
            "gridcolor": "white",
            "gridwidth": 2,
            "linecolor": "white",
            "showbackground": true,
            "ticks": "",
            "zerolinecolor": "white"
           },
           "yaxis": {
            "backgroundcolor": "#E5ECF6",
            "gridcolor": "white",
            "gridwidth": 2,
            "linecolor": "white",
            "showbackground": true,
            "ticks": "",
            "zerolinecolor": "white"
           },
           "zaxis": {
            "backgroundcolor": "#E5ECF6",
            "gridcolor": "white",
            "gridwidth": 2,
            "linecolor": "white",
            "showbackground": true,
            "ticks": "",
            "zerolinecolor": "white"
           }
          },
          "shapedefaults": {
           "line": {
            "color": "#2a3f5f"
           }
          },
          "ternary": {
           "aaxis": {
            "gridcolor": "white",
            "linecolor": "white",
            "ticks": ""
           },
           "baxis": {
            "gridcolor": "white",
            "linecolor": "white",
            "ticks": ""
           },
           "bgcolor": "#E5ECF6",
           "caxis": {
            "gridcolor": "white",
            "linecolor": "white",
            "ticks": ""
           }
          },
          "title": {
           "x": 0.05
          },
          "xaxis": {
           "automargin": true,
           "gridcolor": "white",
           "linecolor": "white",
           "ticks": "",
           "title": {
            "standoff": 15
           },
           "zerolinecolor": "white",
           "zerolinewidth": 2
          },
          "yaxis": {
           "automargin": true,
           "gridcolor": "white",
           "linecolor": "white",
           "ticks": "",
           "title": {
            "standoff": 15
           },
           "zerolinecolor": "white",
           "zerolinewidth": 2
          }
         }
        },
        "title": {
         "text": "Topic Trends over Years"
        },
        "xaxis": {
         "anchor": "y",
         "domain": [
          0,
          1
         ],
         "range": [
          2014,
          2024
         ],
         "title": {
          "text": "Year"
         },
         "type": "linear"
        },
        "yaxis": {
         "anchor": "x",
         "domain": [
          0,
          1
         ],
         "title": {
          "text": "Number of Songs"
         }
        }
       }
      }
     },
     "metadata": {},
     "output_type": "display_data"
    }
   ],
   "source": [
    "import pandas as pd\n",
    "import matplotlib.pyplot as plt\n",
    "import plotly.express as px\n",
    "\n",
    "topic_year_trends = lda_theme.groupby(['year', 'Dominant_Topic']).size().unstack(fill_value=0)\n",
    "\n",
    "topic_year_trends_df = topic_year_trends.reset_index()\n",
    "\n",
    "# melt the df to long format \n",
    "topic_long_df = topic_year_trends_df.melt(id_vars=['year'], var_name='Dominant_Topic', value_name='Number_of_songs')\n",
    "\n",
    "\n",
    "fig = px.line(\n",
    "    topic_long_df,\n",
    "    x='year',\n",
    "    y='Number_of_songs',\n",
    "    color='Dominant_Topic',\n",
    "    title='Topic Trends over Years',\n",
    "    markers=True\n",
    ")\n",
    "\n",
    "# treat x-axis as linear scale\n",
    "fig.update_xaxes(type='linear', range=[lda_theme['year'].min(), lda_theme['year'].max()])\n",
    "\n",
    "fig.update_layout(legend_title_text='Topic', xaxis_title='Year', yaxis_title='Number of Songs')\n",
    "\n",
    "fig.show()"
   ]
  },
  {
   "cell_type": "code",
   "execution_count": 88,
   "metadata": {},
   "outputs": [
    {
     "name": "stdout",
     "output_type": "stream",
     "text": [
      "Topic 4: ['love', 'know', 'body', 'touch', 'used']\n",
      "Topic 7: ['every', 'love', 'day', 'baby', 'want']\n",
      "Topic 9: ['girls', 'run', 'world', 'know', 'little']\n",
      "Topic 5: ['somebody', 'love', 'fuck', 'find', 'come']\n",
      "Topic 3: ['try', 'never', 'get', 'fall', 'meant']\n",
      "Topic 8: ['go', 'let', 'want', 'need', 'never']\n",
      "Topic 0: ['star', 'dancing', 'make', 'know', 'money']\n",
      "Topic 1: ['baby', 'know', 'side', 'rain', 'come']\n",
      "Topic 6: ['work', 'lose', 'night', 'kiss', 'always']\n",
      "Topic 2: ['know', 'wake', 'middle', 'good', 'let']\n"
     ]
    }
   ],
   "source": [
    "# Text and topic interpretation\n",
    "for idx, row in lda_theme[['Dominant_Topic', 'Topic_Words']].drop_duplicates().iterrows():\n",
    "    print(f\"Topic {row['Dominant_Topic']}: {row['Topic_Words']}\")"
   ]
  },
  {
   "cell_type": "markdown",
   "metadata": {},
   "source": [
    "\n",
    "**Heatmap showing the probability of dominant topic for each year from 2014 to 2024**\n",
    "\n",
    "- It's important to normalize the data to ensure the values represent the relative importance or dominance of eahc topic within that year, regarldess of number of songs. \n",
    "- I'll include the song play count into the heatmap to give more weight to the songs that I listened to more often. \n",
    "- This will lead to a more accurate refelction of how dominant each topic truly was in my listening habits. \n",
    "- calculate weighted probability:\n",
    "    * sum of play counts for that topic / total play counts for that year "
   ]
  },
  {
   "cell_type": "code",
   "execution_count": null,
   "metadata": {},
   "outputs": [],
   "source": [
    "\n"
   ]
  },
  {
   "cell_type": "code",
   "execution_count": null,
   "metadata": {},
   "outputs": [],
   "source": []
  },
  {
   "cell_type": "code",
   "execution_count": null,
   "metadata": {},
   "outputs": [],
   "source": []
  },
  {
   "cell_type": "code",
   "execution_count": null,
   "metadata": {},
   "outputs": [],
   "source": []
  }
 ],
 "metadata": {
  "kernelspec": {
   "display_name": "base",
   "language": "python",
   "name": "python3"
  },
  "language_info": {
   "codemirror_mode": {
    "name": "ipython",
    "version": 3
   },
   "file_extension": ".py",
   "mimetype": "text/x-python",
   "name": "python",
   "nbconvert_exporter": "python",
   "pygments_lexer": "ipython3",
   "version": "3.12.3"
  }
 },
 "nbformat": 4,
 "nbformat_minor": 2
}
