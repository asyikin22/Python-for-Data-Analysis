{
 "cells": [
  {
   "cell_type": "code",
   "execution_count": 30,
   "metadata": {},
   "outputs": [
    {
     "data": {
      "text/plain": [
       "Index(['year', 'artist', 'song', 'lyrics'], dtype='object')"
      ]
     },
     "execution_count": 30,
     "metadata": {},
     "output_type": "execute_result"
    }
   ],
   "source": [
    "import pandas as pd\n",
    "\n",
    "song_theme = pd.read_json('./Dataset/top_songs_lyrics.json')\n",
    "song_theme.columns"
   ]
  },
  {
   "cell_type": "markdown",
   "metadata": {},
   "source": [
    "# Latent Dirichlet Allocation (LDA) - 165 songs\n",
    "\n",
    "**Three major ideas**\n",
    "- Translate songs in native language to english\n",
    "- pre-processing: Clean and tokenize the translated lyrics, remove stopwords (common and custom)\n",
    "- Topic Modelling: Create an LDA model to identify topics within the song lyrics\n",
    "\n",
    "**Detailed Steps**\n",
    "1) Importing libraries\n",
    "    - googletrans: handle text transaltion\n",
    "    - string: provides constants for string manipulation \n",
    "    - nltk: A toolkit for natural language processing (NLP)\n",
    "    - gensim: Used for topic modelling\n",
    "\n",
    "2) Initialize Translator\n",
    "\n",
    "3) Define Translation Function\n",
    "\n",
    "4) Translate Lyrics\n",
    "\n",
    "5) Define Stopwords\n",
    "    - default_stopwords: default set of english stopwords from NLTK\n",
    "    - custom_stopwords: I manually added them.\n",
    "\n",
    "6) Pre-process Lyrics Function\n",
    "    - Remove punctuation\n",
    "    - convert lyrics to lowercase\n",
    "    - tokenize lyrics into words\n",
    "    - filter out non-alphabetic words and stopwords\n",
    "\n",
    "7) Apply pre-preprocessing\n",
    "    \n",
    "8) Perform Topic Modelling with LDA\n",
    "    - dictionary: maps each unqiue word to an ID\n",
    "    - corpus: transform the tokens into a bag-of-words format\n",
    "    - lda_model: creates an LDA model with 10 topics and trains it on the corpus for 15 passes \n",
    "    - extracts and prints the top 5 words for each topic found by the LDA model\n"
   ]
  },
  {
   "cell_type": "code",
   "execution_count": 31,
   "metadata": {},
   "outputs": [
    {
     "name": "stdout",
     "output_type": "stream",
     "text": [
      "(0, '0.033*\"fuck\" + 0.030*\"every\" + 0.018*\"star\" + 0.018*\"day\" + 0.014*\"girls\"')\n",
      "(1, '0.028*\"come\" + 0.022*\"sorry\" + 0.020*\"know\" + 0.020*\"baby\" + 0.019*\"never\"')\n",
      "(2, '0.059*\"work\" + 0.013*\"ai\" + 0.011*\"long\" + 0.011*\"go\" + 0.009*\"worried\"')\n",
      "(3, '0.030*\"go\" + 0.027*\"let\" + 0.027*\"love\" + 0.024*\"never\" + 0.024*\"side\"')\n",
      "(4, '0.030*\"baby\" + 0.025*\"know\" + 0.016*\"love\" + 0.016*\"rain\" + 0.013*\"next\"')\n",
      "(5, '0.041*\"try\" + 0.033*\"love\" + 0.020*\"get\" + 0.016*\"want\" + 0.015*\"little\"')\n",
      "(6, '0.057*\"love\" + 0.046*\"somebody\" + 0.041*\"find\" + 0.016*\"never\" + 0.014*\"old\"')\n",
      "(7, '0.021*\"know\" + 0.018*\"run\" + 0.018*\"girls\" + 0.017*\"back\" + 0.012*\"home\"')\n",
      "(8, '0.016*\"boy\" + 0.013*\"love\" + 0.013*\"kiss\" + 0.012*\"fall\" + 0.011*\"bad\"')\n",
      "(9, '0.026*\"body\" + 0.025*\"love\" + 0.016*\"know\" + 0.014*\"touch\" + 0.014*\"heart\"')\n"
     ]
    }
   ],
   "source": [
    "from deep_translator import GoogleTranslator\n",
    "import string\n",
    "import nltk\n",
    "from nltk.corpus import stopwords\n",
    "from nltk.tokenize import word_tokenize\n",
    "from gensim import corpora, models\n",
    "\n",
    "# #download stopwords\n",
    "# nltk.download('stopwords')\n",
    "# nltk.download('punkt')\n",
    "\n",
    "#initilaize translator \n",
    "translator = GoogleTranslator(source='auto', target='en')\n",
    "\n",
    "#define function to translate lyrics to english\n",
    "def translate_lyrics(lyrics):\n",
    "    try:\n",
    "        return translator.translate(lyrics)\n",
    "    except Exception as e:\n",
    "        print (f'Error in Transaltion: {e}')\n",
    "        return lyrics\n",
    "\n",
    "#translate lyrics to english\n",
    "song_theme['translated_lyrics'] = song_theme['lyrics'].apply(translate_lyrics)\n",
    "\n",
    "# get the list of stopwords - default & custom\n",
    "default_stopwords = set(stopwords.words('english'))\n",
    "custom_stopwords = default_stopwords.union(\n",
    "    {'verse', 'chorus', '–', 'im', 'oh', 'na', 'yeah', 'got', 'ooh', 'wan', 'cause', 'ill', 'youre', '2', '1', \n",
    "     'ft', 'like', 'one', 'prechorus','la', 'aint', 'low', 'two', 'woah', 'gettin', 'postchorus', 'mmm', 'mxrxgxa', 'da', 'thank',\n",
    "     'ah', 'gon', 'ya', \"’\", 'thats', 'another', 'outro', 'ive', 'hey', 'montenero', 'whats', 'gioielli', 'clap', 'del', 'blue', 'zyrtck',\n",
    "     'bridge', 'dj', 'would', 'way', 'ta', 'em', 'yes', 'youd', 'didnt', 'nothin', 'nothing', 'ayy',\n",
    "     'maybe', 'redrum', 'ohoh', 'ariana', 'vacca', 'bout', 'grande', '21', 'youve', 'youll', 'somethin', 'beyoncé',\n",
    "     'id', 'smack', 'yo', 'freestyle', 'without', 'di', 'intro', 'woo', 'might', 'il', 'non', 'uh', 'knew', 'mm',\n",
    "     'anybody', 'hes', 'ima', 'e', 'x', 'itll', 'refrain', 'could', 'ee', 'comin', 'lil', 'shes', '3', 'halo', 'whats', \n",
    "     'gionni', 'sometimes', 'gunz', 'ride', 'blow', 'black','mutha', 'uhoh', 'pai', 'zeno', 'wouldnt', 'air',\n",
    "     'egreen', 'toni', 'georgia', 'throw', 'nah', 'cease', 'goes', 'dust', 'bet', 'bum', 'apart', 'doesnt', 'cassel', 'oohoohoohooh', \n",
    "     'huh', 'closet', 'goin', 'cleanin', 'claver', 'closet', 'nex', 'lot', 'michaels', 'less', 'things', 'per', 'second', 'line',\n",
    "     'bites', 'shall', 'everybody', 'ele', 'fit', 'ho', 'jp', 'joe', 'smokestackstudio', 'getting', 'aleaka', 'three',\n",
    "     })\n",
    "\n",
    "#pre-process the lyrics function\n",
    "def preprocess_lyrics(lyrics):\n",
    "    translator = str.maketrans('', '', string.punctuation)\n",
    "    tokens = word_tokenize(lyrics.lower())\n",
    "    tokens = [word for word in tokens if word.isalpha() and word not in custom_stopwords]\n",
    "    return tokens\n",
    "\n",
    "#apply pre-processing using the TRANSLATED lyrics\n",
    "song_theme['tokens'] = song_theme['translated_lyrics'].apply(preprocess_lyrics)\n",
    "\n",
    "#PERFORM TOPIC MODELLING\n",
    "\n",
    "#create dictionary and corpus for LDA\n",
    "dictionary = corpora.Dictionary(song_theme['tokens'])\n",
    "corpus = [dictionary.doc2bow(text) for text in song_theme['tokens']]\n",
    "\n",
    "#build LDA model\n",
    "lda_model = models.LdaModel(corpus, num_topics=10, id2word=dictionary, passes=15)\n",
    "\n",
    "#print topics \n",
    "topics = lda_model.print_topics(num_words=5)\n",
    "for topic in topics:\n",
    "    print(topic)"
   ]
  },
  {
   "cell_type": "markdown",
   "metadata": {},
   "source": [
    "# Visualize distribution of Topics from LDA model\n",
    "\n",
    "1) Visualize topic distibution per document\n",
    "    - a document refers to individual unit of text that's being analzyed.\n",
    "    - i have 165 songs in my data frame, it means i have 165 documents\n",
    "    - aka 'Corpus'\n",
    "    \n",
    "2) Visualize topic distribution using pyLDAvis"
   ]
  },
  {
   "cell_type": "code",
   "execution_count": 32,
   "metadata": {},
   "outputs": [
    {
     "data": {
      "application/vnd.plotly.v1+json": {
       "config": {
        "plotlyServerURL": "https://plot.ly"
       },
       "data": [
        {
         "name": "Topic 1",
         "orientation": "h",
         "type": "bar",
         "x": [
          0.033,
          0.03,
          0.018,
          0.018,
          0.014
         ],
         "xaxis": "x",
         "y": [
          "fuck",
          "every",
          "star",
          "day",
          "girls"
         ],
         "yaxis": "y"
        },
        {
         "name": "Topic 2",
         "orientation": "h",
         "type": "bar",
         "x": [
          0.028,
          0.022,
          0.02,
          0.02,
          0.019
         ],
         "xaxis": "x2",
         "y": [
          "come",
          "sorry",
          "know",
          "baby",
          "never"
         ],
         "yaxis": "y2"
        },
        {
         "name": "Topic 3",
         "orientation": "h",
         "type": "bar",
         "x": [
          0.059,
          0.013,
          0.011,
          0.011,
          0.009
         ],
         "xaxis": "x3",
         "y": [
          "work",
          "ai",
          "long",
          "go",
          "worried"
         ],
         "yaxis": "y3"
        },
        {
         "name": "Topic 4",
         "orientation": "h",
         "type": "bar",
         "x": [
          0.03,
          0.027,
          0.027,
          0.024,
          0.024
         ],
         "xaxis": "x4",
         "y": [
          "go",
          "let",
          "love",
          "never",
          "side"
         ],
         "yaxis": "y4"
        },
        {
         "name": "Topic 5",
         "orientation": "h",
         "type": "bar",
         "x": [
          0.03,
          0.025,
          0.016,
          0.016,
          0.013
         ],
         "xaxis": "x5",
         "y": [
          "baby",
          "know",
          "love",
          "rain",
          "next"
         ],
         "yaxis": "y5"
        },
        {
         "name": "Topic 6",
         "orientation": "h",
         "type": "bar",
         "x": [
          0.041,
          0.033,
          0.02,
          0.016,
          0.015
         ],
         "xaxis": "x6",
         "y": [
          "try",
          "love",
          "get",
          "want",
          "little"
         ],
         "yaxis": "y6"
        },
        {
         "name": "Topic 7",
         "orientation": "h",
         "type": "bar",
         "x": [
          0.057,
          0.046,
          0.041,
          0.016,
          0.014
         ],
         "xaxis": "x7",
         "y": [
          "love",
          "somebody",
          "find",
          "never",
          "old"
         ],
         "yaxis": "y7"
        },
        {
         "name": "Topic 8",
         "orientation": "h",
         "type": "bar",
         "x": [
          0.021,
          0.018,
          0.018,
          0.017,
          0.012
         ],
         "xaxis": "x8",
         "y": [
          "know",
          "run",
          "girls",
          "back",
          "home"
         ],
         "yaxis": "y8"
        },
        {
         "name": "Topic 9",
         "orientation": "h",
         "type": "bar",
         "x": [
          0.016,
          0.013,
          0.013,
          0.012,
          0.011
         ],
         "xaxis": "x9",
         "y": [
          "boy",
          "love",
          "kiss",
          "fall",
          "bad"
         ],
         "yaxis": "y9"
        },
        {
         "name": "Topic 10",
         "orientation": "h",
         "type": "bar",
         "x": [
          0.026,
          0.025,
          0.016,
          0.014,
          0.014
         ],
         "xaxis": "x10",
         "y": [
          "body",
          "love",
          "know",
          "touch",
          "heart"
         ],
         "yaxis": "y10"
        }
       ],
       "layout": {
        "annotations": [
         {
          "font": {
           "size": 16
          },
          "showarrow": false,
          "text": "Topic 0",
          "x": 0.08399999999999999,
          "xanchor": "center",
          "xref": "paper",
          "y": 1,
          "yanchor": "bottom",
          "yref": "paper"
         },
         {
          "font": {
           "size": 16
          },
          "showarrow": false,
          "text": "Topic 1",
          "x": 0.292,
          "xanchor": "center",
          "xref": "paper",
          "y": 1,
          "yanchor": "bottom",
          "yref": "paper"
         },
         {
          "font": {
           "size": 16
          },
          "showarrow": false,
          "text": "Topic 2",
          "x": 0.5,
          "xanchor": "center",
          "xref": "paper",
          "y": 1,
          "yanchor": "bottom",
          "yref": "paper"
         },
         {
          "font": {
           "size": 16
          },
          "showarrow": false,
          "text": "Topic 3",
          "x": 0.708,
          "xanchor": "center",
          "xref": "paper",
          "y": 1,
          "yanchor": "bottom",
          "yref": "paper"
         },
         {
          "font": {
           "size": 16
          },
          "showarrow": false,
          "text": "Topic 4",
          "x": 0.9159999999999999,
          "xanchor": "center",
          "xref": "paper",
          "y": 1,
          "yanchor": "bottom",
          "yref": "paper"
         },
         {
          "font": {
           "size": 16
          },
          "showarrow": false,
          "text": "Topic 5",
          "x": 0.08399999999999999,
          "xanchor": "center",
          "xref": "paper",
          "y": 0.375,
          "yanchor": "bottom",
          "yref": "paper"
         },
         {
          "font": {
           "size": 16
          },
          "showarrow": false,
          "text": "Topic 6",
          "x": 0.292,
          "xanchor": "center",
          "xref": "paper",
          "y": 0.375,
          "yanchor": "bottom",
          "yref": "paper"
         },
         {
          "font": {
           "size": 16
          },
          "showarrow": false,
          "text": "Topic 7",
          "x": 0.5,
          "xanchor": "center",
          "xref": "paper",
          "y": 0.375,
          "yanchor": "bottom",
          "yref": "paper"
         },
         {
          "font": {
           "size": 16
          },
          "showarrow": false,
          "text": "Topic 8",
          "x": 0.708,
          "xanchor": "center",
          "xref": "paper",
          "y": 0.375,
          "yanchor": "bottom",
          "yref": "paper"
         },
         {
          "font": {
           "size": 16
          },
          "showarrow": false,
          "text": "Topic 9",
          "x": 0.9159999999999999,
          "xanchor": "center",
          "xref": "paper",
          "y": 0.375,
          "yanchor": "bottom",
          "yref": "paper"
         }
        ],
        "font": {
         "color": "white"
        },
        "height": 400,
        "template": {
         "data": {
          "bar": [
           {
            "error_x": {
             "color": "#f2f5fa"
            },
            "error_y": {
             "color": "#f2f5fa"
            },
            "marker": {
             "line": {
              "color": "rgb(17,17,17)",
              "width": 0.5
             },
             "pattern": {
              "fillmode": "overlay",
              "size": 10,
              "solidity": 0.2
             }
            },
            "type": "bar"
           }
          ],
          "barpolar": [
           {
            "marker": {
             "line": {
              "color": "rgb(17,17,17)",
              "width": 0.5
             },
             "pattern": {
              "fillmode": "overlay",
              "size": 10,
              "solidity": 0.2
             }
            },
            "type": "barpolar"
           }
          ],
          "carpet": [
           {
            "aaxis": {
             "endlinecolor": "#A2B1C6",
             "gridcolor": "#506784",
             "linecolor": "#506784",
             "minorgridcolor": "#506784",
             "startlinecolor": "#A2B1C6"
            },
            "baxis": {
             "endlinecolor": "#A2B1C6",
             "gridcolor": "#506784",
             "linecolor": "#506784",
             "minorgridcolor": "#506784",
             "startlinecolor": "#A2B1C6"
            },
            "type": "carpet"
           }
          ],
          "choropleth": [
           {
            "colorbar": {
             "outlinewidth": 0,
             "ticks": ""
            },
            "type": "choropleth"
           }
          ],
          "contour": [
           {
            "colorbar": {
             "outlinewidth": 0,
             "ticks": ""
            },
            "colorscale": [
             [
              0,
              "#0d0887"
             ],
             [
              0.1111111111111111,
              "#46039f"
             ],
             [
              0.2222222222222222,
              "#7201a8"
             ],
             [
              0.3333333333333333,
              "#9c179e"
             ],
             [
              0.4444444444444444,
              "#bd3786"
             ],
             [
              0.5555555555555556,
              "#d8576b"
             ],
             [
              0.6666666666666666,
              "#ed7953"
             ],
             [
              0.7777777777777778,
              "#fb9f3a"
             ],
             [
              0.8888888888888888,
              "#fdca26"
             ],
             [
              1,
              "#f0f921"
             ]
            ],
            "type": "contour"
           }
          ],
          "contourcarpet": [
           {
            "colorbar": {
             "outlinewidth": 0,
             "ticks": ""
            },
            "type": "contourcarpet"
           }
          ],
          "heatmap": [
           {
            "colorbar": {
             "outlinewidth": 0,
             "ticks": ""
            },
            "colorscale": [
             [
              0,
              "#0d0887"
             ],
             [
              0.1111111111111111,
              "#46039f"
             ],
             [
              0.2222222222222222,
              "#7201a8"
             ],
             [
              0.3333333333333333,
              "#9c179e"
             ],
             [
              0.4444444444444444,
              "#bd3786"
             ],
             [
              0.5555555555555556,
              "#d8576b"
             ],
             [
              0.6666666666666666,
              "#ed7953"
             ],
             [
              0.7777777777777778,
              "#fb9f3a"
             ],
             [
              0.8888888888888888,
              "#fdca26"
             ],
             [
              1,
              "#f0f921"
             ]
            ],
            "type": "heatmap"
           }
          ],
          "heatmapgl": [
           {
            "colorbar": {
             "outlinewidth": 0,
             "ticks": ""
            },
            "colorscale": [
             [
              0,
              "#0d0887"
             ],
             [
              0.1111111111111111,
              "#46039f"
             ],
             [
              0.2222222222222222,
              "#7201a8"
             ],
             [
              0.3333333333333333,
              "#9c179e"
             ],
             [
              0.4444444444444444,
              "#bd3786"
             ],
             [
              0.5555555555555556,
              "#d8576b"
             ],
             [
              0.6666666666666666,
              "#ed7953"
             ],
             [
              0.7777777777777778,
              "#fb9f3a"
             ],
             [
              0.8888888888888888,
              "#fdca26"
             ],
             [
              1,
              "#f0f921"
             ]
            ],
            "type": "heatmapgl"
           }
          ],
          "histogram": [
           {
            "marker": {
             "pattern": {
              "fillmode": "overlay",
              "size": 10,
              "solidity": 0.2
             }
            },
            "type": "histogram"
           }
          ],
          "histogram2d": [
           {
            "colorbar": {
             "outlinewidth": 0,
             "ticks": ""
            },
            "colorscale": [
             [
              0,
              "#0d0887"
             ],
             [
              0.1111111111111111,
              "#46039f"
             ],
             [
              0.2222222222222222,
              "#7201a8"
             ],
             [
              0.3333333333333333,
              "#9c179e"
             ],
             [
              0.4444444444444444,
              "#bd3786"
             ],
             [
              0.5555555555555556,
              "#d8576b"
             ],
             [
              0.6666666666666666,
              "#ed7953"
             ],
             [
              0.7777777777777778,
              "#fb9f3a"
             ],
             [
              0.8888888888888888,
              "#fdca26"
             ],
             [
              1,
              "#f0f921"
             ]
            ],
            "type": "histogram2d"
           }
          ],
          "histogram2dcontour": [
           {
            "colorbar": {
             "outlinewidth": 0,
             "ticks": ""
            },
            "colorscale": [
             [
              0,
              "#0d0887"
             ],
             [
              0.1111111111111111,
              "#46039f"
             ],
             [
              0.2222222222222222,
              "#7201a8"
             ],
             [
              0.3333333333333333,
              "#9c179e"
             ],
             [
              0.4444444444444444,
              "#bd3786"
             ],
             [
              0.5555555555555556,
              "#d8576b"
             ],
             [
              0.6666666666666666,
              "#ed7953"
             ],
             [
              0.7777777777777778,
              "#fb9f3a"
             ],
             [
              0.8888888888888888,
              "#fdca26"
             ],
             [
              1,
              "#f0f921"
             ]
            ],
            "type": "histogram2dcontour"
           }
          ],
          "mesh3d": [
           {
            "colorbar": {
             "outlinewidth": 0,
             "ticks": ""
            },
            "type": "mesh3d"
           }
          ],
          "parcoords": [
           {
            "line": {
             "colorbar": {
              "outlinewidth": 0,
              "ticks": ""
             }
            },
            "type": "parcoords"
           }
          ],
          "pie": [
           {
            "automargin": true,
            "type": "pie"
           }
          ],
          "scatter": [
           {
            "marker": {
             "line": {
              "color": "#283442"
             }
            },
            "type": "scatter"
           }
          ],
          "scatter3d": [
           {
            "line": {
             "colorbar": {
              "outlinewidth": 0,
              "ticks": ""
             }
            },
            "marker": {
             "colorbar": {
              "outlinewidth": 0,
              "ticks": ""
             }
            },
            "type": "scatter3d"
           }
          ],
          "scattercarpet": [
           {
            "marker": {
             "colorbar": {
              "outlinewidth": 0,
              "ticks": ""
             }
            },
            "type": "scattercarpet"
           }
          ],
          "scattergeo": [
           {
            "marker": {
             "colorbar": {
              "outlinewidth": 0,
              "ticks": ""
             }
            },
            "type": "scattergeo"
           }
          ],
          "scattergl": [
           {
            "marker": {
             "line": {
              "color": "#283442"
             }
            },
            "type": "scattergl"
           }
          ],
          "scattermapbox": [
           {
            "marker": {
             "colorbar": {
              "outlinewidth": 0,
              "ticks": ""
             }
            },
            "type": "scattermapbox"
           }
          ],
          "scatterpolar": [
           {
            "marker": {
             "colorbar": {
              "outlinewidth": 0,
              "ticks": ""
             }
            },
            "type": "scatterpolar"
           }
          ],
          "scatterpolargl": [
           {
            "marker": {
             "colorbar": {
              "outlinewidth": 0,
              "ticks": ""
             }
            },
            "type": "scatterpolargl"
           }
          ],
          "scatterternary": [
           {
            "marker": {
             "colorbar": {
              "outlinewidth": 0,
              "ticks": ""
             }
            },
            "type": "scatterternary"
           }
          ],
          "surface": [
           {
            "colorbar": {
             "outlinewidth": 0,
             "ticks": ""
            },
            "colorscale": [
             [
              0,
              "#0d0887"
             ],
             [
              0.1111111111111111,
              "#46039f"
             ],
             [
              0.2222222222222222,
              "#7201a8"
             ],
             [
              0.3333333333333333,
              "#9c179e"
             ],
             [
              0.4444444444444444,
              "#bd3786"
             ],
             [
              0.5555555555555556,
              "#d8576b"
             ],
             [
              0.6666666666666666,
              "#ed7953"
             ],
             [
              0.7777777777777778,
              "#fb9f3a"
             ],
             [
              0.8888888888888888,
              "#fdca26"
             ],
             [
              1,
              "#f0f921"
             ]
            ],
            "type": "surface"
           }
          ],
          "table": [
           {
            "cells": {
             "fill": {
              "color": "#506784"
             },
             "line": {
              "color": "rgb(17,17,17)"
             }
            },
            "header": {
             "fill": {
              "color": "#2a3f5f"
             },
             "line": {
              "color": "rgb(17,17,17)"
             }
            },
            "type": "table"
           }
          ]
         },
         "layout": {
          "annotationdefaults": {
           "arrowcolor": "#f2f5fa",
           "arrowhead": 0,
           "arrowwidth": 1
          },
          "autotypenumbers": "strict",
          "coloraxis": {
           "colorbar": {
            "outlinewidth": 0,
            "ticks": ""
           }
          },
          "colorscale": {
           "diverging": [
            [
             0,
             "#8e0152"
            ],
            [
             0.1,
             "#c51b7d"
            ],
            [
             0.2,
             "#de77ae"
            ],
            [
             0.3,
             "#f1b6da"
            ],
            [
             0.4,
             "#fde0ef"
            ],
            [
             0.5,
             "#f7f7f7"
            ],
            [
             0.6,
             "#e6f5d0"
            ],
            [
             0.7,
             "#b8e186"
            ],
            [
             0.8,
             "#7fbc41"
            ],
            [
             0.9,
             "#4d9221"
            ],
            [
             1,
             "#276419"
            ]
           ],
           "sequential": [
            [
             0,
             "#0d0887"
            ],
            [
             0.1111111111111111,
             "#46039f"
            ],
            [
             0.2222222222222222,
             "#7201a8"
            ],
            [
             0.3333333333333333,
             "#9c179e"
            ],
            [
             0.4444444444444444,
             "#bd3786"
            ],
            [
             0.5555555555555556,
             "#d8576b"
            ],
            [
             0.6666666666666666,
             "#ed7953"
            ],
            [
             0.7777777777777778,
             "#fb9f3a"
            ],
            [
             0.8888888888888888,
             "#fdca26"
            ],
            [
             1,
             "#f0f921"
            ]
           ],
           "sequentialminus": [
            [
             0,
             "#0d0887"
            ],
            [
             0.1111111111111111,
             "#46039f"
            ],
            [
             0.2222222222222222,
             "#7201a8"
            ],
            [
             0.3333333333333333,
             "#9c179e"
            ],
            [
             0.4444444444444444,
             "#bd3786"
            ],
            [
             0.5555555555555556,
             "#d8576b"
            ],
            [
             0.6666666666666666,
             "#ed7953"
            ],
            [
             0.7777777777777778,
             "#fb9f3a"
            ],
            [
             0.8888888888888888,
             "#fdca26"
            ],
            [
             1,
             "#f0f921"
            ]
           ]
          },
          "colorway": [
           "#636efa",
           "#EF553B",
           "#00cc96",
           "#ab63fa",
           "#FFA15A",
           "#19d3f3",
           "#FF6692",
           "#B6E880",
           "#FF97FF",
           "#FECB52"
          ],
          "font": {
           "color": "#f2f5fa"
          },
          "geo": {
           "bgcolor": "rgb(17,17,17)",
           "lakecolor": "rgb(17,17,17)",
           "landcolor": "rgb(17,17,17)",
           "showlakes": true,
           "showland": true,
           "subunitcolor": "#506784"
          },
          "hoverlabel": {
           "align": "left"
          },
          "hovermode": "closest",
          "mapbox": {
           "style": "dark"
          },
          "paper_bgcolor": "rgb(17,17,17)",
          "plot_bgcolor": "rgb(17,17,17)",
          "polar": {
           "angularaxis": {
            "gridcolor": "#506784",
            "linecolor": "#506784",
            "ticks": ""
           },
           "bgcolor": "rgb(17,17,17)",
           "radialaxis": {
            "gridcolor": "#506784",
            "linecolor": "#506784",
            "ticks": ""
           }
          },
          "scene": {
           "xaxis": {
            "backgroundcolor": "rgb(17,17,17)",
            "gridcolor": "#506784",
            "gridwidth": 2,
            "linecolor": "#506784",
            "showbackground": true,
            "ticks": "",
            "zerolinecolor": "#C8D4E3"
           },
           "yaxis": {
            "backgroundcolor": "rgb(17,17,17)",
            "gridcolor": "#506784",
            "gridwidth": 2,
            "linecolor": "#506784",
            "showbackground": true,
            "ticks": "",
            "zerolinecolor": "#C8D4E3"
           },
           "zaxis": {
            "backgroundcolor": "rgb(17,17,17)",
            "gridcolor": "#506784",
            "gridwidth": 2,
            "linecolor": "#506784",
            "showbackground": true,
            "ticks": "",
            "zerolinecolor": "#C8D4E3"
           }
          },
          "shapedefaults": {
           "line": {
            "color": "#f2f5fa"
           }
          },
          "sliderdefaults": {
           "bgcolor": "#C8D4E3",
           "bordercolor": "rgb(17,17,17)",
           "borderwidth": 1,
           "tickwidth": 0
          },
          "ternary": {
           "aaxis": {
            "gridcolor": "#506784",
            "linecolor": "#506784",
            "ticks": ""
           },
           "baxis": {
            "gridcolor": "#506784",
            "linecolor": "#506784",
            "ticks": ""
           },
           "bgcolor": "rgb(17,17,17)",
           "caxis": {
            "gridcolor": "#506784",
            "linecolor": "#506784",
            "ticks": ""
           }
          },
          "title": {
           "x": 0.05
          },
          "updatemenudefaults": {
           "bgcolor": "#506784",
           "borderwidth": 0
          },
          "xaxis": {
           "automargin": true,
           "gridcolor": "#283442",
           "linecolor": "#506784",
           "ticks": "",
           "title": {
            "standoff": 15
           },
           "zerolinecolor": "#283442",
           "zerolinewidth": 2
          },
          "yaxis": {
           "automargin": true,
           "gridcolor": "#283442",
           "linecolor": "#506784",
           "ticks": "",
           "title": {
            "standoff": 15
           },
           "zerolinecolor": "#283442",
           "zerolinewidth": 2
          }
         }
        },
        "title": {
         "text": "LDA Topic Modeling Results"
        },
        "xaxis": {
         "anchor": "y",
         "domain": [
          0,
          0.16799999999999998
         ],
         "showgrid": false,
         "title": {
          "font": {
           "color": "white"
          }
         },
         "zeroline": false
        },
        "xaxis10": {
         "anchor": "y10",
         "domain": [
          0.832,
          1
         ]
        },
        "xaxis2": {
         "anchor": "y2",
         "domain": [
          0.208,
          0.376
         ]
        },
        "xaxis3": {
         "anchor": "y3",
         "domain": [
          0.416,
          0.584
         ]
        },
        "xaxis4": {
         "anchor": "y4",
         "domain": [
          0.624,
          0.792
         ]
        },
        "xaxis5": {
         "anchor": "y5",
         "domain": [
          0.832,
          1
         ]
        },
        "xaxis6": {
         "anchor": "y6",
         "domain": [
          0,
          0.16799999999999998
         ]
        },
        "xaxis7": {
         "anchor": "y7",
         "domain": [
          0.208,
          0.376
         ]
        },
        "xaxis8": {
         "anchor": "y8",
         "domain": [
          0.416,
          0.584
         ]
        },
        "xaxis9": {
         "anchor": "y9",
         "domain": [
          0.624,
          0.792
         ]
        },
        "yaxis": {
         "anchor": "x",
         "domain": [
          0.625,
          1
         ],
         "showgrid": false,
         "title": {
          "font": {
           "color": "white"
          }
         },
         "zeroline": false
        },
        "yaxis10": {
         "anchor": "x10",
         "domain": [
          0,
          0.375
         ]
        },
        "yaxis2": {
         "anchor": "x2",
         "domain": [
          0.625,
          1
         ]
        },
        "yaxis3": {
         "anchor": "x3",
         "domain": [
          0.625,
          1
         ]
        },
        "yaxis4": {
         "anchor": "x4",
         "domain": [
          0.625,
          1
         ]
        },
        "yaxis5": {
         "anchor": "x5",
         "domain": [
          0.625,
          1
         ]
        },
        "yaxis6": {
         "anchor": "x6",
         "domain": [
          0,
          0.375
         ]
        },
        "yaxis7": {
         "anchor": "x7",
         "domain": [
          0,
          0.375
         ]
        },
        "yaxis8": {
         "anchor": "x8",
         "domain": [
          0,
          0.375
         ]
        },
        "yaxis9": {
         "anchor": "x9",
         "domain": [
          0,
          0.375
         ]
        }
       }
      }
     },
     "metadata": {},
     "output_type": "display_data"
    }
   ],
   "source": [
    "\n",
    "import plotly.graph_objects as go\n",
    "from plotly.subplots import make_subplots\n",
    "\n",
    "def plot_topics_plotly(lda_model, num_topics=10, num_words=5):\n",
    "    # Create a subplot grid: 2 rows, 5 columns\n",
    "    fig = make_subplots(rows=2, cols=5, subplot_titles=[f'Topic {i}' for i in range(num_topics)])\n",
    "\n",
    "    for idx in range(num_topics):\n",
    "        topic = lda_model.print_topics(num_words=num_words)[idx][1]\n",
    "        words = topic.split(\" + \")\n",
    "        words = [word.split(\"*\")[1].strip().replace('\"', '') for word in words]\n",
    "        weights = [float(word.split(\"*\")[0]) for word in topic.split(\" + \")]\n",
    "\n",
    "        # Add a bar trace for each topic\n",
    "        fig.add_trace(\n",
    "            go.Bar(x=weights, y=words, orientation='h', name=f'Topic {idx + 1}'),\n",
    "            row=(idx // 5) + 1, col=(idx % 5) + 1  # Calculate row and column index\n",
    "        )\n",
    "\n",
    "    # Update layout\n",
    "    fig.update_layout(\n",
    "        title_text='LDA Topic Modeling Results', height=400,\n",
    "        template='plotly_dark',\n",
    "        font=dict(color='white'),  # Change font color to white for readability\n",
    "        xaxis=dict(showgrid=False, zeroline=False, title_font=dict(color='white')), \n",
    "        yaxis=dict(showgrid=False, zeroline=False, title_font=dict(color='white')),\n",
    "    )\n",
    "    \n",
    "    fig.write_html(\"./static/charts/lda_topics.html\")\n",
    "\n",
    "    fig.show()\n",
    "\n",
    "plot_topics_plotly(lda_model)\n"
   ]
  },
  {
   "cell_type": "markdown",
   "metadata": {},
   "source": [
    "# PyLDAvis\n",
    "\n",
    "1) Topic Circles\n",
    "    - each circle represents a topic\n",
    "    - larger circle = more dominant topics\n",
    "\n",
    "2) Distance between circles\n",
    "    - It shows similairty between topics\n",
    "\n",
    "3) Top words for selected topics\n",
    "    - Right panel shows the top words associated with it\n",
    "\n",
    "4) Relevance metrics\n",
    "    - Lower lambda values emphaiszes more exclusive words\n",
    "    - higher values includes more common words"
   ]
  },
  {
   "cell_type": "code",
   "execution_count": 33,
   "metadata": {},
   "outputs": [
    {
     "data": {
      "text/html": [
       "\n",
       "<link rel=\"stylesheet\" type=\"text/css\" href=\"https://cdn.jsdelivr.net/gh/bmabey/pyLDAvis@3.4.0/pyLDAvis/js/ldavis.v1.0.0.css\">\n",
       "\n",
       "\n",
       "<div id=\"ldavis_el1303220032978499367381934483\" style=\"background-color:white;\"></div>\n",
       "<script type=\"text/javascript\">\n",
       "\n",
       "var ldavis_el1303220032978499367381934483_data = {\"mdsDat\": {\"x\": [0.021342255516477636, 0.1036295152485286, -0.03628863548450151, 0.04539524596509051, 0.062362381584862514, 0.040869026619217014, 0.039170335556620715, 0.03216688140867453, -0.08746952895977678, -0.22117747745519314], \"y\": [0.0723129360422075, -0.0027797215984010433, 0.17653743507787462, 0.036924221111881754, -0.013328480116377316, -0.0036923474100459463, -0.12906922609023488, -0.09186408740943998, 0.01873956002545842, -0.06378028963292277], \"topics\": [1, 2, 3, 4, 5, 6, 7, 8, 9, 10], \"cluster\": [1, 1, 1, 1, 1, 1, 1, 1, 1, 1], \"Freq\": [14.600618684377864, 14.394705718281525, 13.708214123165757, 12.636089267381854, 11.516854368260404, 9.894477397818784, 7.031596032248663, 6.694788456474695, 5.146156508830145, 4.376499443160309]}, \"tinfo\": {\"Term\": [\"work\", \"somebody\", \"love\", \"try\", \"fuck\", \"find\", \"sorry\", \"every\", \"girls\", \"side\", \"body\", \"star\", \"never\", \"go\", \"rain\", \"come\", \"touch\", \"boy\", \"next\", \"run\", \"fall\", \"kiss\", \"baby\", \"day\", \"home\", \"used\", \"skin\", \"ai\", \"let\", \"little\", \"cater\", \"marry\", \"ends\", \"slippers\", \"dessert\", \"nas\", \"andr\\u00e9\", \"daughter\", \"inspire\", \"trees\", \"weed\", \"zayn\", \"sound\", \"lotta\", \"piffing\", \"doctor\", \"psychology\", \"apologies\", \"cali\", \"overseas\", \"soldiers\", \"desire\", \"slaughter\", \"swift\", \"taylor\", \"shake\", \"complicated\", \"explain\", \"whatever\", \"calling\", \"anyway\", \"freedom\", \"dinner\", \"pussy\", \"run\", \"anything\", \"gang\", \"rude\", \"girls\", \"home\", \"till\", \"stress\", \"back\", \"wake\", \"say\", \"know\", \"want\", \"boy\", \"world\", \"keep\", \"man\", \"get\", \"let\", \"call\", \"much\", \"baby\", \"bitch\", \"nigga\", \"life\", \"come\", \"take\", \"ca\", \"right\", \"ai\", \"day\", \"never\", \"love\", \"go\", \"sorry\", \"saxe\", \"julia\", \"imagine\", \"reasons\", \"hailie\", \"payback\", \"ending\", \"worse\", \"cd\", \"irrelevant\", \"missing\", \"tables\", \"discoverin\", \"shape\", \"inspired\", \"heartbreak\", \"bein\", \"snare\", \"hated\", \"galileo\", \"momentary\", \"fix\", \"earthquake\", \"prayin\", \"anniversary\", \"matters\", \"parents\", \"stomach\", \"sour\", \"walk\", \"million\", \"mama\", \"meant\", \"hurt\", \"hell\", \"talk\", \"come\", \"goodbye\", \"never\", \"hope\", \"lie\", \"well\", \"cry\", \"baby\", \"reason\", \"right\", \"falling\", \"hate\", \"know\", \"away\", \"better\", \"make\", \"see\", \"shit\", \"even\", \"love\", \"let\", \"good\", \"time\", \"world\", \"go\", \"ca\", \"bad\", \"get\", \"say\", \"want\", \"pickin\", \"celebrating\", \"staying\", \"star\", \"neverland\", \"turnin\", \"chiba\", \"stallion\", \"yuki\", \"thee\", \"fighting\", \"megan\", \"learns\", \"superhero\", \"freaky\", \"translate\", \"crew\", \"bloody\", \"mood\", \"players\", \"worship\", \"church\", \"spaceships\", \"pan\", \"peter\", \"fuck\", \"damn\", \"shrine\", \"hol\", \"funk\", \"faster\", \"sharpen\", \"every\", \"amen\", \"lies\", \"day\", \"knife\", \"money\", \"girls\", \"late\", \"nicki\", \"minaj\", \"fly\", \"sins\", \"deathless\", \"life\", \"turn\", \"night\", \"good\", \"make\", \"give\", \"god\", \"go\", \"time\", \"get\", \"know\", \"ca\", \"tell\", \"let\", \"want\", \"take\", \"see\", \"ai\", \"feel\", \"around\", \"say\", \"love\", \"dey\", \"deserve\", \"breakin\", \"fools\", \"swirlin\", \"surrender\", \"lockdown\", \"unholy\", \"crush\", \"calm\", \"youtube\", \"mhmm\", \"thighs\", \"du\", \"hoping\", \"scream\", \"rush\", \"extraordinary\", \"fanta\", \"curves\", \"wrestle\", \"yanga\", \"shop\", \"neat\", \"petras\", \"mummy\", \"ordinary\", \"flowers\", \"usher\", \"softly\", \"deep\", \"camera\", \"pretend\", \"body\", \"touch\", \"sweet\", \"belong\", \"babe\", \"rockin\", \"learn\", \"scars\", \"heart\", \"stop\", \"whenever\", \"empty\", \"beautiful\", \"close\", \"play\", \"us\", \"love\", \"time\", \"watch\", \"feel\", \"around\", \"show\", \"let\", \"know\", \"inside\", \"nights\", \"back\", \"come\", \"baby\", \"little\", \"good\", \"much\", \"really\", \"go\", \"put\", \"make\", \"thing\", \"want\", \"give\", \"need\", \"get\", \"rare\", \"gaga\", \"next\", \"ghosts\", \"florida\", \"sabronzo\", \"singh\", \"shaan\", \"willing\", \"bebe\", \"syasya\", \"tabby\", \"special\", \"option\", \"fair\", \"pity\", \"irreplaceable\", \"sheeran\", \"rexha\", \"slept\", \"taught\", \"symphony\", \"poured\", \"near\", \"justin\", \"noon\", \"patience\", \"lady\", \"calls\", \"cha\", \"across\", \"shoot\", \"rain\", \"top\", \"high\", \"swear\", \"baby\", \"chris\", \"martin\", \"alone\", \"kiss\", \"thinking\", \"finally\", \"angel\", \"person\", \"know\", \"better\", \"new\", \"mistakes\", \"feel\", \"make\", \"always\", \"side\", \"must\", \"night\", \"ready\", \"love\", \"take\", \"ai\", \"stop\", \"say\", \"back\", \"best\", \"let\", \"right\", \"tell\", \"need\", \"go\", \"put\", \"see\", \"called\", \"turnt\", \"rembau\", \"hu\", \"saying\", \"cool\", \"motivation\", \"morris\", \"maren\", \"chandelier\", \"meghan\", \"trainor\", \"cream\", \"ew\", \"gently\", \"crawl\", \"grave\", \"holdin\", \"convey\", \"innovation\", \"gee\", \"legend\", \"cuzzo\", \"friday\", \"middle\", \"amazed\", \"hush\", \"hungered\", \"heartbeat\", \"yep\", \"comes\", \"try\", \"lose\", \"wanted\", \"meet\", \"kids\", \"knows\", \"used\", \"break\", \"tears\", \"thing\", \"little\", \"get\", \"ass\", \"love\", \"wo\", \"want\", \"tonight\", \"keep\", \"take\", \"ai\", \"free\", \"know\", \"time\", \"wish\", \"baby\", \"give\", \"hard\", \"let\", \"right\", \"think\", \"untouchable\", \"stranger\", \"ba\", \"stephen\", \"sanchez\", \"dice\", \"mercury\", \"foot\", \"de\", \"gotye\", \"blah\", \"unless\", \"movin\", \"bowie\", \"david\", \"legs\", \"spinnin\", \"freddie\", \"shoulders\", \"twice\", \"sign\", \"alcohol\", \"pressure\", \"streets\", \"embrace\", \"everywhere\", \"surrounded\", \"savin\", \"fresher\", \"sideways\", \"found\", \"wave\", \"dancing\", \"side\", \"number\", \"hands\", \"felt\", \"kick\", \"go\", \"let\", \"never\", \"fall\", \"need\", \"someone\", \"love\", \"man\", \"somebody\", \"rain\", \"feelin\", \"feel\", \"used\", \"know\", \"baby\", \"people\", \"care\", \"see\", \"alone\", \"tonight\", \"said\", \"give\", \"trade\", \"pearls\", \"wizkid\", \"charli\", \"xcx\", \"bye\", \"prepared\", \"dancin\", \"tick\", \"lungs\", \"knees\", \"repeating\", \"cross\", \"blown\", \"mustang\", \"breaks\", \"singin\", \"beating\", \"seventeen\", \"drew\", \"blanco\", \"benny\", \"pieces\", \"fights\", \"calming\", \"inna\", \"notice\", \"shade\", \"dependin\", \"praise\", \"find\", \"somebody\", \"skin\", \"years\", \"lord\", \"brown\", \"old\", \"gomez\", \"selena\", \"sick\", \"works\", \"childhood\", \"ivy\", \"love\", \"everyday\", \"coming\", \"fell\", \"else\", \"done\", \"really\", \"last\", \"never\", \"still\", \"guess\", \"feeling\", \"losing\", \"best\", \"go\", \"wo\", \"need\", \"world\", \"know\", \"want\", \"girl\", \"get\", \"say\", \"thought\", \"back\", \"day\", \"ca\", \"heart\", \"take\", \"swipe\", \"temasek\", \"hype\", \"royal\", \"flush\", \"worried\", \"camila\", \"agrees\", \"imma\", \"dinah\", \"alyph\", \"suspect\", \"lauren\", \"teatime\", \"cursing\", \"uniform\", \"whatsapp\", \"bezel\", \"hi\", \"work\", \"problem\", \"shift\", \"exhausting\", \"directly\", \"laser\", \"guaranteed\", \"dynamite\", \"beam\", \"gunpowder\", \"gelatine\", \"killer\", \"type\", \"loving\", \"brain\", \"relief\", \"funeral\", \"long\", \"spend\", \"longer\", \"ai\", \"forget\", \"mind\", \"high\", \"home\", \"night\", \"go\", \"right\", \"time\", \"late\", \"must\", \"never\", \"get\", \"need\", \"always\", \"hour\", \"put\", \"love\", \"ca\", \"let\", \"weak\", \"issues\", \"waaaaaaa\", \"feat\", \"award\", \"judge\", \"awards\", \"huntin\", \"youth\", \"season\", \"meanin\", \"searchin\", \"zynakal\", \"also\", \"yonnyboii\", \"arrow\", \"crying\", \"lambs\", \"cryin\", \"artist\", \"sip\", \"yaaaaa\", \"milky\", \"sparkling\", \"beneath\", \"twilight\", \"band\", \"fireflies\", \"moonlit\", \"tour\", \"tryin\", \"wasted\", \"heard\", \"wounds\", \"great\", \"music\", \"kiss\", \"light\", \"understand\", \"dark\", \"boy\", \"fall\", \"stars\", \"bad\", \"thought\", \"bring\", \"wrong\", \"saw\", \"pain\", \"hand\", \"give\", \"lost\", \"love\", \"run\", \"sad\", \"see\", \"tired\", \"feel\", \"let\", \"tell\", \"time\"], \"Freq\": [101.0, 115.0, 474.0, 139.0, 137.0, 103.0, 82.0, 150.0, 121.0, 73.0, 114.0, 66.0, 217.0, 221.0, 71.0, 189.0, 63.0, 90.0, 42.0, 103.0, 62.0, 54.0, 294.0, 119.0, 83.0, 65.0, 35.0, 109.0, 250.0, 99.0, 27.349237032862014, 13.726229427759012, 11.00311163205976, 10.994952801268703, 10.991833119954137, 8.271351428779225, 8.26631489794961, 7.366656067907435, 7.35825719448585, 6.457108354369819, 6.456259039898898, 7.224042376699562, 19.192352769317296, 5.547415305930446, 5.547225454031756, 5.547193157386921, 5.547175699741065, 5.54702905551587, 5.546769809474901, 5.54672354671338, 5.543629178985308, 5.54275149583987, 5.538176283302015, 5.492962726298141, 5.4510364440090555, 10.892962615527871, 4.635525649201174, 4.6350577842922185, 4.6330763414875005, 9.915673125890798, 8.27158186970453, 8.279365361109672, 10.99440201254193, 20.085192642887904, 68.43283351915844, 20.98309872528608, 11.899911772592926, 10.090995025934353, 66.51038359131869, 46.646456135075006, 8.002098665204512, 7.364160497432241, 64.94163953464927, 19.97918807148236, 45.31026887038985, 78.0346784014267, 46.46699851872804, 29.29169516861796, 31.92044304099276, 32.189730719859185, 24.217090959155307, 39.750818699847045, 43.12393964237003, 19.36074572972039, 21.89483300896723, 42.3814589810327, 17.75712827968794, 14.631362975541801, 22.47512864876806, 26.78113206716281, 22.466384113958515, 21.643654146147803, 22.1104104945914, 20.004011098125783, 20.19152716380014, 22.685241891239126, 25.51645830296442, 20.58103342932851, 79.5474967409938, 14.726134009491105, 15.17620800598128, 9.235213868756404, 19.29450977075028, 8.269504057956711, 7.406112816560675, 20.212900169145605, 6.492433619620405, 6.4700733771495464, 5.579409317977842, 5.5781485799868555, 5.578152022274885, 5.577843076924193, 5.57772001512712, 5.5775440281515865, 5.577327164005697, 5.576766931628815, 5.5391552017550465, 5.529900610386398, 4.661744812070841, 4.656083108833503, 9.154284816599146, 3.7501516416767497, 3.749568604141669, 3.747653401138979, 3.7475230244798428, 3.739596295718765, 3.738776600881622, 3.7358102091717713, 36.66344492497611, 19.303473488780394, 28.277563132729227, 42.069585814392006, 26.356170896161228, 15.448431027969573, 24.754618851900478, 104.52774724639654, 12.82332410428104, 70.68617989519572, 16.481993499272566, 12.732985557793784, 19.874189353857908, 20.868048475022906, 73.26693207704572, 14.875606761473687, 43.149710394732764, 9.996356247081389, 17.256900726857506, 75.39899578333763, 29.26010228970758, 24.29613190346499, 38.117353793342225, 30.347793019138276, 21.711730896303187, 21.735573904342967, 49.90638824297393, 32.853121227962994, 24.145788252610817, 25.450554828645224, 22.969575644200695, 26.63291880576495, 22.703787979684485, 20.541764319523498, 23.93297567973226, 20.60371517719937, 20.098731523198683, 25.698425373482856, 20.204752801030345, 18.378292269840454, 63.17999312402963, 10.136025517498215, 7.40646248290136, 6.493201894665132, 6.491527593147892, 6.4915124318272515, 6.491105944527912, 6.490673232241518, 6.490704374413645, 6.490600703761697, 6.4900167880343185, 11.960102852989559, 5.580728465805953, 5.580717402139539, 5.574516831762918, 11.980411646870479, 11.062136349390986, 11.694537160647162, 11.627860131061926, 4.664375377924446, 4.660397375200667, 4.658332567235573, 116.10933377073978, 8.316421181361298, 9.73105353069175, 3.7501723292159594, 3.7497793641755695, 7.407352493399511, 9.474276487135883, 106.58245159863492, 9.228419692095542, 12.237193607611418, 62.63040918282884, 11.093530937018214, 22.82785632021163, 49.467278483863886, 27.525789027664427, 10.142857946156672, 9.228730294285965, 12.892857621446337, 9.12447449731379, 8.690410804555793, 33.1502456105561, 18.357399150466733, 29.26493182539576, 30.325070370813958, 37.08580319278886, 26.87839735818341, 16.217323833466125, 32.041230245515685, 25.559259201556504, 24.98305034224897, 30.42651189886288, 20.54441555523262, 17.71565896569589, 23.626174429251105, 21.168237517598698, 19.32318838777247, 18.336850234048097, 18.036670836917573, 18.393856799657108, 15.663737303616196, 17.25077025924825, 18.257657329391257, 11.918962044161326, 10.099692471956484, 9.195477554357998, 9.194801440020969, 9.187247845321568, 8.287441646461525, 8.277258382480337, 8.272208299415482, 7.373938655372779, 7.371446475263436, 7.369792828019014, 7.367610376265182, 7.368186773180438, 6.466442128075904, 6.463739937032825, 6.462454942074961, 5.554542170085679, 5.550837139062257, 5.548856388457014, 5.549352709260845, 5.5492114429133315, 5.548163276832182, 5.547218227630367, 4.642948918710912, 4.638413664607718, 4.638229716181945, 4.594718170277754, 3.7338282061351387, 3.732346042638767, 3.732216107816455, 23.763678424331616, 7.370720502215519, 12.733630717006536, 83.43618362540064, 46.820432850045094, 16.40527151283519, 9.194430521429368, 24.46909004205284, 11.009252847710082, 12.839303988426757, 8.355424754191134, 44.46585976101073, 30.405546160358828, 9.162112256119338, 11.926669747603468, 22.94657422900307, 16.14005489918625, 15.831189250460676, 24.654718555295684, 81.85431479421483, 39.23573235853228, 15.712430333737627, 32.619233641126456, 21.75177367913426, 18.272525561658806, 42.4655010845588, 51.68308040110505, 13.751887615104145, 12.80085990059273, 27.720890274811367, 28.43976223360209, 33.38721794101102, 22.135774894296706, 22.836480151884192, 19.088192919591787, 18.667142149630127, 26.107105825177676, 20.278853685586938, 22.26089004122285, 17.876689701575792, 20.377524074432557, 18.808852692931552, 18.84060362654649, 18.406349363419903, 13.39230882472176, 8.983904849697964, 39.20258827980196, 8.090918373299985, 7.202900277124749, 7.203079293041865, 7.202971194968837, 7.202009328675715, 14.323363724417328, 6.314650148780019, 6.313538873048381, 6.313289627809933, 6.312491629933248, 5.427362919512549, 5.426668200049585, 5.426478512029718, 5.426010660815561, 5.425953857688015, 5.42485600815016, 5.423990190781797, 5.422935373916326, 5.4176296175420955, 5.415508967447022, 5.409861703784753, 4.535750734539819, 4.534556491815824, 4.5335502158048016, 8.98475104416772, 8.09356023512297, 3.647502671763364, 10.772374386014938, 11.633100128580242, 46.28200406582247, 29.69587914905201, 28.53143844412057, 11.631327871000787, 87.38425142215353, 9.855472071612947, 9.854821417606505, 24.113003381033426, 24.120513787279222, 12.543243215065566, 10.765843747653975, 8.09120548729013, 8.988454608083757, 75.2577682784994, 24.06437164158044, 16.10074115910066, 10.797263795198962, 28.739292448439073, 31.806903695966128, 21.040214442365155, 20.541740490017585, 16.100843060468865, 24.25002491808546, 14.31717252777613, 46.8266971738785, 24.04064790142595, 21.73692649019104, 16.971544809276864, 22.60746161649157, 22.383936834197787, 15.275130765723283, 24.728823644096405, 20.380948393263505, 17.389900876441683, 19.592483802687813, 21.12299002539433, 16.988215322296963, 17.00015155283209, 13.140655634406937, 12.128527686333964, 9.650080917385381, 8.786690996439402, 17.467930998948198, 26.839117615800628, 7.046083533021866, 7.045770613284228, 7.045358907920529, 7.04376473269759, 6.174535812261579, 6.173553871307932, 5.303246590414994, 5.280182217087486, 4.427803048497646, 4.4267090124773025, 4.424222217435656, 11.40043976430947, 3.5671622664565326, 3.5658233367284717, 3.565408082180604, 3.5652498477197, 3.5547977961049577, 3.5533325745735214, 17.483133337808884, 2.697700282926704, 2.697690522670237, 2.696961165323341, 2.6959123814011625, 2.6956955854014564, 6.064091116204051, 104.04567789571058, 20.80443030738206, 15.693290408526357, 13.76877841816596, 20.87717911837204, 11.377724985622688, 31.08188572219733, 15.821019631490858, 19.658734728385248, 29.559796795869417, 38.47538055615033, 50.835603717335026, 10.587714447387524, 83.6553687633847, 25.357979176423978, 40.06360261417569, 20.316670659170672, 22.94037193098358, 21.106667000669155, 18.922396136227338, 11.69141371316437, 27.5017857921458, 19.598855259195, 13.491955066596093, 19.06683846744747, 14.851414458956373, 12.72655102221022, 14.592445869883429, 13.764066284649843, 13.435013138837055, 17.466286720873864, 11.663503239526365, 10.83780241718916, 8.359738128951378, 8.358891490861563, 8.358376109382856, 8.354818043448299, 7.532491162178055, 6.70063098468098, 5.050598926350472, 5.048587845604852, 5.048437771226469, 5.048390268692135, 5.047537324956169, 5.046702877782244, 5.026629904202953, 14.98225729137765, 8.354970219708733, 3.3933181073934815, 3.3933096998652807, 6.705506510284595, 6.703925474606444, 6.701533112456921, 5.874022149298094, 2.5667788443064565, 2.566504758887112, 2.5660820704068192, 2.566045287470941, 2.5656663181372923, 2.5654346907353616, 21.301841442191414, 8.208598516744955, 17.845777321271118, 43.0004206881311, 8.365519986095034, 23.79617513825047, 6.70231206994472, 8.358359294326455, 54.75980169775318, 48.89277629342375, 43.178673738032124, 19.837846964123003, 30.52173864781077, 13.320952419235576, 48.48786300925307, 17.805503579683887, 21.19004653970604, 15.829495678706715, 10.84306216683155, 17.81588183249489, 13.883428667158057, 20.88593615565107, 17.2884843144844, 10.950264877413673, 10.849943728663863, 11.784120161352787, 10.517722774069684, 10.834530207213428, 10.151677492771066, 10.622758023881655, 8.459046228404457, 7.621171075016607, 5.946083566891733, 4.272032282019881, 4.2719694442250855, 8.4612419490557, 3.4374114860172345, 3.4347779020060853, 3.4333190245409426, 3.4290500569022013, 6.754166401213642, 9.293292799323453, 2.59713248679793, 2.597137289686704, 2.597013815421136, 2.5964614832121105, 6.10901076205443, 1.7605058843709873, 1.7605024823247724, 1.7595232933759462, 1.7591546716625315, 1.759109644580274, 1.7589829683888563, 1.7588158678835897, 1.758787851032407, 1.758701799275204, 1.7586557715911186, 1.7585979368054634, 1.7585062816780237, 1.7582567315821345, 71.03854166502911, 79.13610327273729, 22.711431352979844, 6.7851154159926885, 10.964867794791509, 10.970655275764338, 23.57192491056801, 6.787330348199026, 6.786260104483857, 16.843881421396873, 3.432796710386756, 2.596863324906213, 2.596580554829636, 98.7907216567543, 3.4329063763470984, 5.111073736898383, 5.948695137662668, 8.396938472703228, 6.446136731851248, 16.855448378527907, 12.637957301186344, 28.151953241728865, 12.980881958696465, 9.30494540797096, 9.812300164589349, 5.9454820050727735, 10.740159840604957, 18.397880098711248, 12.440059072136997, 14.770107717094204, 13.05469675578464, 19.27207629797201, 15.222354127918198, 10.289591238926057, 13.75691591671005, 12.801454839390967, 9.304061676436518, 11.069890962652535, 10.545170561189808, 10.131881982175724, 9.891972885019042, 9.815843095541734, 10.381975209779336, 8.774037468489375, 7.212236036139972, 6.404713414464233, 6.397980023843581, 11.927519407952714, 4.835129171983666, 4.8308164300609615, 4.8207674152641795, 4.042451329200238, 4.041949539923884, 4.0309806293966925, 3.249777793620899, 3.2468919668813525, 3.243755706989781, 3.241334442976963, 3.2403779360117975, 3.2384507698394605, 6.4144975362095495, 78.60565256131679, 5.622002134285029, 2.4562757365693213, 2.454929119976678, 2.4545613155132315, 2.4542950380033086, 2.4542104322087055, 2.454153669411963, 2.4541201347515567, 2.454092907068566, 2.454075832080928, 4.829819619971822, 6.420249499612808, 10.123302991647552, 6.408026885038319, 4.834420021596176, 5.606683870600377, 14.349129227727587, 4.826810114943437, 6.408732651194024, 16.588787979231473, 4.982849966388054, 9.381290482904136, 8.76046054588637, 10.378903557949098, 11.004013009886599, 14.252166679908557, 11.22257654354277, 11.046747858226684, 7.9049427490482875, 7.204299704948783, 9.60631851458284, 8.919465907346178, 8.379018858979618, 7.208580450498255, 5.613036996631469, 7.007064215310983, 7.083498628442433, 6.437046980244554, 6.470614867653772, 10.063740396204846, 10.62038658237547, 7.762658712401723, 6.218795560037466, 6.217673105927805, 5.446849070129406, 4.683331190172075, 4.680003597778911, 4.679566651773518, 4.679370418537563, 4.67855461156462, 4.677732525128127, 3.1478542613795835, 3.1477985311405723, 3.147598634884213, 3.146764251164933, 3.1458764920054736, 3.1455591174518562, 3.1446294952020595, 5.450385977974255, 2.3826343851557388, 2.3825781316280983, 2.3810744617520556, 2.3810132369824375, 2.380755778976865, 2.380761535151786, 2.380455411303697, 2.380374824854798, 2.3802733068607305, 2.3800600667443264, 7.748732432112482, 4.720844182134455, 9.286451652681151, 3.1480099397467742, 3.147355305671629, 3.1480703795834484, 14.282919281862808, 10.818122703273378, 6.099721232460088, 8.515025834959157, 18.52481517349216, 13.797969917357891, 9.466276650378362, 12.15160341843754, 9.295323488100825, 6.218455422428478, 6.996578811315767, 4.678864921721744, 7.448244925848232, 6.053903649952101, 10.6645605152991, 7.753255215734768, 14.351022157223083, 8.094721454552674, 6.061729431401979, 6.85373148131325, 5.453317440875105, 6.393829850334234, 6.238941125684901, 5.65114880030353, 5.479521642271567], \"Total\": [101.0, 115.0, 474.0, 139.0, 137.0, 103.0, 82.0, 150.0, 121.0, 73.0, 114.0, 66.0, 217.0, 221.0, 71.0, 189.0, 63.0, 90.0, 42.0, 103.0, 62.0, 54.0, 294.0, 119.0, 83.0, 65.0, 35.0, 109.0, 250.0, 99.0, 28.16004575707916, 14.51194329855233, 11.782583337304002, 11.78223482100665, 11.782119794468766, 9.052766260712476, 9.05182484288774, 8.142960212527912, 8.142677255566038, 7.233035891345163, 7.233013520140382, 8.140054507134566, 21.69051398457852, 6.323107525776694, 6.323097060260887, 6.323088911398916, 6.323077244119983, 6.323094454537983, 6.323084403419155, 6.323076190561681, 6.323037776137643, 6.32294690103064, 6.322736169515941, 6.322064011502778, 6.321130117014571, 12.64674552199245, 5.413071045215999, 5.413059999788806, 5.413013883893112, 11.661400514684772, 9.94232170250117, 9.967307912268682, 13.490029236084833, 26.233047837153087, 103.2935780920954, 28.064283714117693, 15.224954926864156, 12.612802162649329, 121.08614062932932, 83.04421007202885, 9.935927840103082, 9.053710217150787, 154.0986689883637, 40.79827464440072, 150.635074841147, 383.6613373598595, 179.46734376493833, 90.56694168548319, 107.0523426519147, 115.24920941532545, 69.62778607829493, 201.42573811509837, 250.92280569117838, 53.957491334068216, 71.69365544554246, 294.36621376572936, 48.14707708731421, 31.46457154708346, 108.05095486566115, 189.5884068966813, 134.71563531004878, 118.99528979840008, 135.4869695636571, 109.23205305864273, 119.64537049125934, 217.925084505213, 474.72999005848055, 221.50305130089777, 82.28092401144109, 15.507164649512138, 16.42166563477577, 10.015281370593579, 20.97227288404731, 9.097621578523793, 8.185130507803969, 22.5364894880411, 7.269905358116889, 7.268745824040805, 6.354922768764196, 6.35447484953734, 6.354775704755933, 6.354763666669709, 6.354750990565586, 6.354747205154663, 6.354685289884845, 6.354708089360844, 6.3526696798525215, 6.352260707147093, 5.439336065858642, 5.439046793385174, 10.924738770812953, 4.524461193953467, 4.524373416922292, 4.524272232984304, 4.524138879113879, 4.523737914553684, 4.52374429479144, 4.523611975319426, 46.284819439972566, 25.279658414336, 38.093829206558944, 59.76395269526154, 37.02116471129926, 21.600009952093455, 37.063326768523766, 189.5884068966813, 18.858957906862727, 217.925084505213, 29.714210319784602, 20.873872976921334, 40.53587099391608, 43.88604454156635, 294.36621376572936, 27.299070325484827, 135.4869695636571, 15.2682454204119, 36.471526923343646, 383.6613373598595, 88.64511019986465, 72.73263262662407, 164.05806500220024, 113.46633417343931, 60.723348163176425, 67.04115308665817, 474.72999005848055, 250.92280569117838, 112.46542252930239, 156.68182925180815, 107.0523426519147, 221.50305130089777, 118.99528979840008, 75.75744271813203, 201.42573811509837, 150.635074841147, 179.46734376493833, 26.4822746765865, 20.99160612512129, 19.161973777366008, 66.72859689097069, 10.926944553110356, 8.183223242382956, 7.268238767764729, 7.2682100690888145, 7.268207896909806, 7.268207252490417, 7.268144391200619, 7.2682107342619515, 7.268128632921391, 7.268139407189014, 13.582544911436958, 6.3533341657012965, 6.353334020431562, 6.352941974906595, 13.672278338901815, 12.712695558330603, 13.559158810860126, 13.552967650373049, 5.438332550634672, 5.43777392082261, 5.437686038527567, 137.00670608155772, 10.006887020890792, 11.716604118471457, 4.523360511963123, 4.523380331104327, 9.05312873552286, 11.692355596118933, 150.8169089799439, 11.669034664118891, 16.310408853846166, 119.64537049125934, 15.286348957565858, 40.45893832559354, 121.08614062932932, 57.72962950530031, 14.143171896783148, 12.319048469418448, 21.65120665489421, 12.548788076725563, 11.618150041895762, 108.05095486566115, 44.85372308397133, 105.40724839319844, 112.46542252930239, 164.05806500220024, 115.30218140654966, 42.61918358239435, 221.50305130089777, 156.68182925180815, 201.42573811509837, 383.6613373598595, 118.99528979840008, 86.27136694985576, 250.92280569117838, 179.46734376493833, 134.71563531004878, 113.46633417343931, 109.23205305864273, 131.1958115023436, 62.80337791981698, 150.635074841147, 474.72999005848055, 12.71094130996897, 10.889359288121716, 9.977692355042374, 9.977724641579997, 9.976817938276527, 9.066256554961983, 9.065446829099333, 9.066287474495002, 8.155115532812488, 8.15441146712712, 8.15507618622579, 8.154140264328035, 8.155113671504514, 7.24360170046689, 7.2429198470157585, 7.243089011928397, 6.332227099901721, 6.331000005471434, 6.331437264068978, 6.332219405195196, 6.332207155247248, 6.331465890499966, 6.3320809099521, 5.420713664146769, 5.420649151736659, 5.420665285275851, 5.412452438167326, 4.50926296242509, 4.509359446693173, 4.509262477894663, 29.06245420020347, 9.024955948423347, 16.115541178895477, 114.82751903354948, 63.72853283013558, 21.735395597741263, 11.718072690654166, 40.82818888949287, 15.39989083177596, 18.868845894705778, 10.885293422919641, 105.48797425697921, 63.87415379906665, 12.543636890883146, 18.12953903074876, 47.29309994299832, 29.439483732870652, 28.74252088295913, 58.724275009078475, 474.72999005848055, 156.68182925180815, 32.34628692460801, 131.1958115023436, 62.80337791981698, 45.25257302930768, 250.92280569117838, 383.6613373598595, 27.2212802438036, 24.091298009252448, 154.0986689883637, 189.5884068966813, 294.36621376572936, 99.87402403796524, 112.46542252930239, 71.69365544554246, 70.07333654182005, 221.50305130089777, 98.4649443852458, 164.05806500220024, 68.84957856578407, 179.46734376493833, 115.30218140654966, 149.72035360162903, 201.42573811509837, 14.206737956346203, 9.765426429083716, 42.718011506052015, 8.875288473104934, 7.984811558698375, 7.9852248305520925, 7.985398193857444, 7.985422703269314, 15.899365729079308, 7.094744150036257, 7.0950428331510915, 7.0950186457356015, 7.094661302936471, 6.204786733802756, 6.204697291378791, 6.204699552031022, 6.204918686819397, 6.204933267097145, 6.20456985890762, 6.204998793320777, 6.204656017901876, 6.205132075650099, 6.205123623331463, 6.205040195275047, 5.314720364336689, 5.314761072405913, 5.314487973047569, 10.67628028335761, 9.745441237842744, 4.424416244764911, 13.251180778619304, 15.091587316681682, 71.84442105163816, 45.44963341496341, 51.2326010263109, 17.76915247322951, 294.36621376572936, 14.29563351064105, 14.29569545358496, 54.09370502558498, 54.87037766300246, 21.31379728949483, 17.02449799319374, 11.383171942816595, 13.41088451934003, 383.6613373598595, 72.73263262662407, 39.66988900992159, 19.076072896694953, 131.1958115023436, 164.05806500220024, 71.81985895173372, 73.48334672223913, 43.89365194321112, 105.40724839319844, 34.86050492045389, 474.72999005848055, 134.71563531004878, 109.23205305864273, 63.87415379906665, 150.635074841147, 154.0986689883637, 50.37628626511369, 250.92280569117838, 135.4869695636571, 86.27136694985576, 149.72035360162903, 221.50305130089777, 98.4649443852458, 113.46633417343931, 13.919398184178174, 13.041196594352725, 10.437963362642233, 9.56772944320632, 19.180962925114862, 29.602545762376916, 7.826857176239073, 7.826865181825794, 7.826877121016539, 7.826284335439399, 6.956537527393585, 6.956550995322244, 6.086014507175395, 6.086331212781836, 5.215850567290823, 5.215840600478488, 5.215976529804146, 13.844862919429168, 4.345287026047199, 4.345281771900709, 4.345350560158431, 4.345325308128088, 4.345280955963335, 4.345240997695208, 21.676710419523957, 3.4748104847406354, 3.4748102375372816, 3.474776981666206, 3.474833658486199, 3.474928050919295, 7.869636782328183, 139.81442487740634, 31.157506756438423, 23.846620157260713, 21.051167175514575, 35.18180748828554, 17.571496258286686, 65.05537464418214, 29.57197496427795, 39.81990161187456, 68.84957856578407, 99.87402403796524, 201.42573811509837, 19.475756133917372, 474.72999005848055, 83.00250338007717, 179.46734376493833, 69.63358454972712, 115.24920941532545, 134.71563531004878, 109.23205305864273, 31.114226526208586, 383.6613373598595, 156.68182925180815, 51.022281145319916, 294.36621376572936, 115.30218140654966, 48.72393505603358, 250.92280569117838, 135.4869695636571, 96.00251112248466, 18.262499260646383, 12.46443184208202, 11.635290982710547, 9.149431804456414, 9.149457984273976, 9.149406747142326, 9.149618884539858, 8.320762487161407, 7.492479165595, 5.835113998416635, 5.8348224818037355, 5.835224455767008, 5.835187058686539, 5.835202034261185, 5.835263057162343, 5.837127730730618, 17.576633126126705, 10.01956674431525, 4.1780378335030015, 4.178047714237787, 8.361757794480418, 8.406543767726593, 8.40664436743819, 7.578073690524649, 3.349410121378372, 3.349430781647775, 3.349463822157962, 3.3494644881275204, 3.349463744706639, 3.3494789912852716, 31.312388976179378, 11.774600409362552, 27.480318016307532, 73.48334672223913, 12.631574620178913, 42.62020592736366, 10.201208792522898, 13.688428766815747, 221.50305130089777, 250.92280569117838, 217.925084505213, 62.949613045888206, 149.72035360162903, 33.26155167912566, 474.72999005848055, 69.62778607829493, 115.59942340013573, 71.84442105163816, 28.935775654027232, 131.1958115023436, 65.05537464418214, 383.6613373598595, 294.36621376572936, 46.3264085495671, 46.877181616655506, 113.46633417343931, 54.09370502558498, 69.63358454972712, 62.303570214242335, 115.30218140654966, 9.249179208015994, 8.410583598106411, 6.7336247336564155, 5.056414202780303, 5.056437458089706, 10.119066387528987, 4.217859580747296, 4.2179451164990756, 4.217822180537405, 4.2175072179691275, 8.489940137246515, 11.91073456882256, 3.37934096171847, 3.3794099922729632, 3.3794277296874418, 3.3794318629591253, 8.54869081429138, 2.5408185801509418, 2.5408189287708285, 2.5407987214592325, 2.540849654424691, 2.5408535661183156, 2.540852968668614, 2.5408463691737504, 2.5408720821773465, 2.540873233573352, 2.5408582039286305, 2.540870839788652, 2.5408713167189236, 2.540983010491199, 103.58942649784403, 115.59942340013573, 35.2509237400985, 10.267695577447673, 17.988704888755358, 19.307350959852165, 49.04177820767209, 12.145972462939653, 12.146037801730687, 39.31570492830426, 5.88058109350465, 4.147972051873045, 4.148064762920859, 474.72999005848055, 6.047487562836396, 10.361019507173138, 12.949248509299252, 21.902124934972363, 14.688336755131619, 70.07333654182005, 46.94249368341404, 217.925084505213, 56.09511163534852, 30.438890121202977, 36.75937141197345, 13.785278573613898, 50.37628626511369, 221.50305130089777, 83.00250338007717, 149.72035360162903, 107.0523426519147, 383.6613373598595, 179.46734376493833, 60.162997952291335, 201.42573811509837, 150.635074841147, 44.701115910939485, 154.0986689883637, 119.64537049125934, 118.99528979840008, 105.48797425697921, 134.71563531004878, 11.168731328260792, 9.585222614933784, 7.997991939089864, 7.206472638131934, 7.206712938919968, 13.649686578619713, 5.619921359576976, 5.620270290022898, 5.620979760252585, 4.8272435167935495, 4.827274483813113, 4.828116196126471, 4.03456998121421, 4.0348168819591725, 4.0352682597452585, 4.035160148107565, 4.035320330342421, 4.035443695583838, 8.116562068278663, 101.60764675878211, 7.327312880256764, 3.2419606521553854, 3.2420611106328345, 3.2421076286655977, 3.242222102328391, 3.242201397426345, 3.242191588028578, 3.24221559226441, 3.2422019369111483, 3.2422297215281994, 6.53470877556616, 9.029027321705286, 14.859404434825777, 11.506542798753811, 8.166798104377296, 10.812346474493312, 44.77169511035003, 9.243955268065491, 15.692176041739302, 109.23205305864273, 11.419299570233058, 57.956159449073375, 51.2326010263109, 83.04421007202885, 105.40724839319844, 221.50305130089777, 135.4869695636571, 156.68182925180815, 57.72962950530031, 43.89365194321112, 217.925084505213, 201.42573811509837, 149.72035360162903, 71.81985895173372, 17.384982296367518, 98.4649443852458, 474.72999005848055, 118.99528979840008, 250.92280569117838, 10.855579395527473, 11.667157407325353, 8.551740533845846, 7.014898440808979, 7.01496256844406, 6.247138052302121, 5.477140860567884, 5.478051369161163, 5.478124612306601, 5.4781963197467505, 5.478329294607843, 5.47847385999961, 3.9394873058527846, 3.939473188655049, 3.9394963598783255, 3.9396769924005905, 3.93993961953303, 3.9399967339178352, 3.9401660186704817, 7.160317855747658, 3.1702270223904776, 3.170237613879237, 3.1703599623110725, 3.170368147326057, 3.1703678588990174, 3.170383722312169, 3.1704145689528653, 3.1704127223323493, 3.1704134254305365, 3.170484644197224, 11.201728414047817, 7.29277910269723, 19.057374132298172, 4.829129590476125, 4.850412370893347, 4.853547736805426, 54.87037766300246, 35.47421298519225, 14.170064189430892, 24.311370647399727, 90.56694168548319, 62.949613045888206, 33.346754609036985, 75.75744271813203, 44.701115910939485, 18.662361114357818, 25.730940320266264, 9.972681756847651, 32.65439076292697, 19.66185240286442, 115.30218140654966, 45.39738316690078, 474.72999005848055, 103.2935780920954, 21.41475301589997, 113.46633417343931, 21.73648002682972, 131.1958115023436, 250.92280569117838, 86.27136694985576, 156.68182925180815], \"Category\": [\"Default\", \"Default\", \"Default\", \"Default\", \"Default\", \"Default\", \"Default\", \"Default\", \"Default\", \"Default\", \"Default\", \"Default\", \"Default\", \"Default\", \"Default\", \"Default\", \"Default\", \"Default\", \"Default\", \"Default\", \"Default\", \"Default\", \"Default\", \"Default\", \"Default\", \"Default\", \"Default\", \"Default\", \"Default\", \"Default\", \"Topic1\", \"Topic1\", \"Topic1\", \"Topic1\", \"Topic1\", \"Topic1\", \"Topic1\", \"Topic1\", \"Topic1\", \"Topic1\", \"Topic1\", \"Topic1\", \"Topic1\", \"Topic1\", \"Topic1\", \"Topic1\", \"Topic1\", \"Topic1\", \"Topic1\", \"Topic1\", \"Topic1\", \"Topic1\", \"Topic1\", \"Topic1\", \"Topic1\", \"Topic1\", \"Topic1\", \"Topic1\", \"Topic1\", \"Topic1\", \"Topic1\", \"Topic1\", \"Topic1\", \"Topic1\", \"Topic1\", \"Topic1\", \"Topic1\", \"Topic1\", \"Topic1\", \"Topic1\", \"Topic1\", \"Topic1\", \"Topic1\", \"Topic1\", \"Topic1\", \"Topic1\", \"Topic1\", \"Topic1\", \"Topic1\", \"Topic1\", \"Topic1\", \"Topic1\", \"Topic1\", \"Topic1\", \"Topic1\", \"Topic1\", \"Topic1\", \"Topic1\", \"Topic1\", \"Topic1\", \"Topic1\", \"Topic1\", \"Topic1\", \"Topic1\", \"Topic1\", \"Topic1\", \"Topic1\", \"Topic1\", \"Topic2\", \"Topic2\", \"Topic2\", \"Topic2\", \"Topic2\", \"Topic2\", \"Topic2\", \"Topic2\", \"Topic2\", \"Topic2\", \"Topic2\", \"Topic2\", \"Topic2\", \"Topic2\", \"Topic2\", \"Topic2\", \"Topic2\", \"Topic2\", \"Topic2\", \"Topic2\", \"Topic2\", \"Topic2\", \"Topic2\", \"Topic2\", \"Topic2\", \"Topic2\", \"Topic2\", \"Topic2\", \"Topic2\", \"Topic2\", \"Topic2\", \"Topic2\", \"Topic2\", \"Topic2\", \"Topic2\", \"Topic2\", \"Topic2\", \"Topic2\", \"Topic2\", \"Topic2\", \"Topic2\", \"Topic2\", \"Topic2\", \"Topic2\", \"Topic2\", \"Topic2\", \"Topic2\", \"Topic2\", \"Topic2\", \"Topic2\", \"Topic2\", \"Topic2\", \"Topic2\", \"Topic2\", \"Topic2\", \"Topic2\", \"Topic2\", \"Topic2\", \"Topic2\", \"Topic2\", \"Topic2\", \"Topic2\", \"Topic2\", \"Topic2\", \"Topic2\", \"Topic2\", \"Topic2\", \"Topic3\", \"Topic3\", \"Topic3\", \"Topic3\", \"Topic3\", \"Topic3\", \"Topic3\", \"Topic3\", \"Topic3\", \"Topic3\", \"Topic3\", \"Topic3\", \"Topic3\", \"Topic3\", \"Topic3\", \"Topic3\", \"Topic3\", \"Topic3\", \"Topic3\", \"Topic3\", \"Topic3\", \"Topic3\", \"Topic3\", \"Topic3\", \"Topic3\", \"Topic3\", \"Topic3\", \"Topic3\", \"Topic3\", \"Topic3\", \"Topic3\", \"Topic3\", \"Topic3\", \"Topic3\", \"Topic3\", \"Topic3\", \"Topic3\", \"Topic3\", \"Topic3\", \"Topic3\", \"Topic3\", \"Topic3\", \"Topic3\", \"Topic3\", \"Topic3\", \"Topic3\", \"Topic3\", \"Topic3\", \"Topic3\", \"Topic3\", \"Topic3\", \"Topic3\", \"Topic3\", \"Topic3\", \"Topic3\", \"Topic3\", \"Topic3\", \"Topic3\", \"Topic3\", \"Topic3\", \"Topic3\", \"Topic3\", \"Topic3\", \"Topic3\", \"Topic3\", \"Topic3\", \"Topic3\", \"Topic4\", \"Topic4\", \"Topic4\", \"Topic4\", \"Topic4\", \"Topic4\", \"Topic4\", \"Topic4\", \"Topic4\", \"Topic4\", \"Topic4\", \"Topic4\", \"Topic4\", \"Topic4\", \"Topic4\", \"Topic4\", \"Topic4\", \"Topic4\", \"Topic4\", \"Topic4\", \"Topic4\", \"Topic4\", \"Topic4\", \"Topic4\", \"Topic4\", \"Topic4\", \"Topic4\", \"Topic4\", \"Topic4\", \"Topic4\", \"Topic4\", \"Topic4\", \"Topic4\", \"Topic4\", \"Topic4\", \"Topic4\", \"Topic4\", \"Topic4\", \"Topic4\", \"Topic4\", \"Topic4\", \"Topic4\", \"Topic4\", \"Topic4\", \"Topic4\", \"Topic4\", \"Topic4\", \"Topic4\", \"Topic4\", \"Topic4\", \"Topic4\", \"Topic4\", \"Topic4\", \"Topic4\", \"Topic4\", \"Topic4\", \"Topic4\", \"Topic4\", \"Topic4\", \"Topic4\", \"Topic4\", \"Topic4\", \"Topic4\", \"Topic4\", \"Topic4\", \"Topic4\", \"Topic4\", \"Topic4\", \"Topic4\", \"Topic4\", \"Topic4\", \"Topic4\", \"Topic4\", \"Topic4\", \"Topic5\", \"Topic5\", \"Topic5\", \"Topic5\", \"Topic5\", \"Topic5\", \"Topic5\", \"Topic5\", \"Topic5\", \"Topic5\", \"Topic5\", \"Topic5\", \"Topic5\", \"Topic5\", \"Topic5\", \"Topic5\", \"Topic5\", \"Topic5\", \"Topic5\", \"Topic5\", \"Topic5\", \"Topic5\", \"Topic5\", \"Topic5\", \"Topic5\", \"Topic5\", \"Topic5\", \"Topic5\", \"Topic5\", \"Topic5\", \"Topic5\", \"Topic5\", \"Topic5\", \"Topic5\", \"Topic5\", \"Topic5\", \"Topic5\", \"Topic5\", \"Topic5\", \"Topic5\", \"Topic5\", \"Topic5\", \"Topic5\", \"Topic5\", \"Topic5\", \"Topic5\", \"Topic5\", \"Topic5\", \"Topic5\", \"Topic5\", \"Topic5\", \"Topic5\", \"Topic5\", \"Topic5\", \"Topic5\", \"Topic5\", \"Topic5\", \"Topic5\", \"Topic5\", \"Topic5\", \"Topic5\", \"Topic5\", \"Topic5\", \"Topic5\", \"Topic5\", \"Topic5\", \"Topic5\", \"Topic5\", \"Topic5\", \"Topic5\", \"Topic6\", \"Topic6\", \"Topic6\", \"Topic6\", \"Topic6\", \"Topic6\", \"Topic6\", \"Topic6\", \"Topic6\", \"Topic6\", \"Topic6\", \"Topic6\", \"Topic6\", \"Topic6\", \"Topic6\", \"Topic6\", \"Topic6\", \"Topic6\", \"Topic6\", \"Topic6\", \"Topic6\", \"Topic6\", \"Topic6\", \"Topic6\", \"Topic6\", \"Topic6\", \"Topic6\", \"Topic6\", \"Topic6\", \"Topic6\", \"Topic6\", \"Topic6\", \"Topic6\", \"Topic6\", \"Topic6\", \"Topic6\", \"Topic6\", \"Topic6\", \"Topic6\", \"Topic6\", \"Topic6\", \"Topic6\", \"Topic6\", \"Topic6\", \"Topic6\", \"Topic6\", \"Topic6\", \"Topic6\", \"Topic6\", \"Topic6\", \"Topic6\", \"Topic6\", \"Topic6\", \"Topic6\", \"Topic6\", \"Topic6\", \"Topic6\", \"Topic6\", \"Topic6\", \"Topic6\", \"Topic6\", \"Topic7\", \"Topic7\", \"Topic7\", \"Topic7\", \"Topic7\", \"Topic7\", \"Topic7\", \"Topic7\", \"Topic7\", \"Topic7\", \"Topic7\", \"Topic7\", \"Topic7\", \"Topic7\", \"Topic7\", \"Topic7\", \"Topic7\", \"Topic7\", \"Topic7\", \"Topic7\", \"Topic7\", \"Topic7\", \"Topic7\", \"Topic7\", \"Topic7\", \"Topic7\", \"Topic7\", \"Topic7\", \"Topic7\", \"Topic7\", \"Topic7\", \"Topic7\", \"Topic7\", \"Topic7\", \"Topic7\", \"Topic7\", \"Topic7\", \"Topic7\", \"Topic7\", \"Topic7\", \"Topic7\", \"Topic7\", \"Topic7\", \"Topic7\", \"Topic7\", \"Topic7\", \"Topic7\", \"Topic7\", \"Topic7\", \"Topic7\", \"Topic7\", \"Topic7\", \"Topic7\", \"Topic7\", \"Topic7\", \"Topic7\", \"Topic7\", \"Topic7\", \"Topic7\", \"Topic7\", \"Topic8\", \"Topic8\", \"Topic8\", \"Topic8\", \"Topic8\", \"Topic8\", \"Topic8\", \"Topic8\", \"Topic8\", \"Topic8\", \"Topic8\", \"Topic8\", \"Topic8\", \"Topic8\", \"Topic8\", \"Topic8\", \"Topic8\", \"Topic8\", \"Topic8\", \"Topic8\", \"Topic8\", \"Topic8\", \"Topic8\", \"Topic8\", \"Topic8\", \"Topic8\", \"Topic8\", \"Topic8\", \"Topic8\", \"Topic8\", \"Topic8\", \"Topic8\", \"Topic8\", \"Topic8\", \"Topic8\", \"Topic8\", \"Topic8\", \"Topic8\", \"Topic8\", \"Topic8\", \"Topic8\", \"Topic8\", \"Topic8\", \"Topic8\", \"Topic8\", \"Topic8\", \"Topic8\", \"Topic8\", \"Topic8\", \"Topic8\", \"Topic8\", \"Topic8\", \"Topic8\", \"Topic8\", \"Topic8\", \"Topic8\", \"Topic8\", \"Topic8\", \"Topic8\", \"Topic8\", \"Topic8\", \"Topic8\", \"Topic8\", \"Topic8\", \"Topic8\", \"Topic8\", \"Topic8\", \"Topic8\", \"Topic8\", \"Topic8\", \"Topic8\", \"Topic8\", \"Topic9\", \"Topic9\", \"Topic9\", \"Topic9\", \"Topic9\", \"Topic9\", \"Topic9\", \"Topic9\", \"Topic9\", \"Topic9\", \"Topic9\", \"Topic9\", \"Topic9\", \"Topic9\", \"Topic9\", \"Topic9\", \"Topic9\", \"Topic9\", \"Topic9\", \"Topic9\", \"Topic9\", \"Topic9\", \"Topic9\", \"Topic9\", \"Topic9\", \"Topic9\", \"Topic9\", \"Topic9\", \"Topic9\", \"Topic9\", \"Topic9\", \"Topic9\", \"Topic9\", \"Topic9\", \"Topic9\", \"Topic9\", \"Topic9\", \"Topic9\", \"Topic9\", \"Topic9\", \"Topic9\", \"Topic9\", \"Topic9\", \"Topic9\", \"Topic9\", \"Topic9\", \"Topic9\", \"Topic9\", \"Topic9\", \"Topic9\", \"Topic9\", \"Topic9\", \"Topic9\", \"Topic9\", \"Topic9\", \"Topic9\", \"Topic9\", \"Topic9\", \"Topic9\", \"Topic10\", \"Topic10\", \"Topic10\", \"Topic10\", \"Topic10\", \"Topic10\", \"Topic10\", \"Topic10\", \"Topic10\", \"Topic10\", \"Topic10\", \"Topic10\", \"Topic10\", \"Topic10\", \"Topic10\", \"Topic10\", \"Topic10\", \"Topic10\", \"Topic10\", \"Topic10\", \"Topic10\", \"Topic10\", \"Topic10\", \"Topic10\", \"Topic10\", \"Topic10\", \"Topic10\", \"Topic10\", \"Topic10\", \"Topic10\", \"Topic10\", \"Topic10\", \"Topic10\", \"Topic10\", \"Topic10\", \"Topic10\", \"Topic10\", \"Topic10\", \"Topic10\", \"Topic10\", \"Topic10\", \"Topic10\", \"Topic10\", \"Topic10\", \"Topic10\", \"Topic10\", \"Topic10\", \"Topic10\", \"Topic10\", \"Topic10\", \"Topic10\", \"Topic10\", \"Topic10\", \"Topic10\", \"Topic10\", \"Topic10\", \"Topic10\", \"Topic10\", \"Topic10\", \"Topic10\", \"Topic10\"], \"logprob\": [30.0, 29.0, 28.0, 27.0, 26.0, 25.0, 24.0, 23.0, 22.0, 21.0, 20.0, 19.0, 18.0, 17.0, 16.0, 15.0, 14.0, 13.0, 12.0, 11.0, 10.0, 9.0, 8.0, 7.0, 6.0, 5.0, 4.0, 3.0, 2.0, 1.0, -4.9206, -5.6099, -5.8311, -5.8318, -5.8321, -6.1164, -6.1171, -6.2323, -6.2334, -6.3641, -6.3642, -6.2518, -5.2747, -6.5159, -6.5159, -6.516, -6.516, -6.516, -6.516, -6.516, -6.5166, -6.5168, -6.5176, -6.5258, -6.5334, -5.8411, -6.6955, -6.6956, -6.696, -5.9351, -6.1164, -6.1155, -5.8319, -5.2293, -4.0034, -5.1855, -5.7527, -5.9176, -4.0319, -4.3866, -6.1495, -6.2326, -4.0558, -5.2346, -4.4157, -3.8721, -4.3905, -4.8519, -4.766, -4.7576, -5.0422, -4.5466, -4.4652, -5.266, -5.143, -4.4825, -5.3525, -5.5461, -5.1168, -4.9415, -5.1172, -5.1545, -5.1332, -5.2333, -5.224, -5.1075, -4.9899, -5.2049, -3.8387, -5.5254, -5.4953, -5.992, -5.2552, -6.1025, -6.2127, -5.2087, -6.3444, -6.3479, -6.496, -6.4962, -6.4962, -6.4962, -6.4963, -6.4963, -6.4963, -6.4964, -6.5032, -6.5049, -6.6757, -6.6769, -6.0008, -6.8932, -6.8934, -6.8939, -6.8939, -6.8961, -6.8963, -6.8971, -4.6133, -5.2548, -4.873, -4.4757, -4.9433, -5.4775, -5.006, -3.5656, -5.6638, -3.9568, -5.4128, -5.6708, -5.2256, -5.1768, -3.9209, -5.5153, -4.4504, -5.9128, -5.3668, -3.8922, -4.8388, -5.0247, -4.5744, -4.8023, -5.1372, -5.1361, -4.3049, -4.723, -5.0309, -4.9783, -5.0809, -4.9329, -5.0925, -5.1926, -5.0398, -5.1896, -5.2144, -4.9197, -5.1603, -5.255, -4.0202, -5.8501, -6.1638, -6.2954, -6.2957, -6.2957, -6.2957, -6.2958, -6.2958, -6.2958, -6.2959, -5.6846, -6.4469, -6.4469, -6.448, -5.6829, -5.7626, -5.7071, -5.7128, -6.6262, -6.6271, -6.6275, -3.4116, -6.0479, -5.8909, -6.8444, -6.8445, -6.1637, -5.9176, -3.4973, -5.9439, -5.6617, -4.0289, -5.7598, -5.0382, -4.2649, -4.8511, -5.8494, -5.9439, -5.6095, -5.9552, -6.004, -4.6651, -5.2561, -4.7898, -4.7542, -4.5529, -4.8749, -5.3801, -4.6992, -4.9252, -4.948, -4.7509, -5.1436, -5.2917, -5.0038, -5.1137, -5.2049, -5.2573, -5.2738, -5.2542, -5.4148, -5.3183, -5.2616, -5.6066, -5.7722, -5.866, -5.8661, -5.8669, -5.97, -5.9712, -5.9718, -6.0868, -6.0871, -6.0873, -6.0876, -6.0876, -6.2181, -6.2185, -6.2187, -6.3701, -6.3708, -6.3711, -6.3711, -6.3711, -6.3713, -6.3714, -6.5494, -6.5504, -6.5504, -6.5598, -6.7673, -6.7677, -6.7677, -4.9166, -6.0872, -5.5405, -3.6607, -4.2384, -5.2871, -5.8661, -4.8873, -5.686, -5.5322, -5.9618, -4.29, -4.6701, -5.8697, -5.606, -4.9516, -5.3034, -5.3228, -4.8798, -3.6798, -4.4151, -5.3303, -4.5998, -5.005, -5.1793, -4.336, -4.1396, -5.4636, -5.5352, -4.7626, -4.7369, -4.5766, -4.9875, -4.9564, -5.1357, -5.158, -4.8225, -5.0752, -4.9819, -5.2012, -5.0703, -5.1504, -5.1487, -5.172, -5.3973, -5.7966, -4.3232, -5.9013, -6.0175, -6.0175, -6.0175, -6.0176, -5.3301, -6.1491, -6.1493, -6.1493, -6.1495, -6.3005, -6.3007, -6.3007, -6.3008, -6.3008, -6.301, -6.3012, -6.3014, -6.3023, -6.3027, -6.3038, -6.48, -6.4803, -6.4805, -5.7965, -5.9009, -6.6979, -5.615, -5.5381, -4.1572, -4.601, -4.641, -5.5383, -3.5217, -5.704, -5.704, -4.8092, -4.8089, -5.4628, -5.6156, -5.9012, -5.7961, -3.6711, -4.8113, -5.2131, -5.6127, -4.6337, -4.5323, -4.9456, -4.9695, -5.2131, -4.8036, -5.3305, -4.1455, -4.8122, -4.913, -5.1605, -4.8737, -4.8836, -5.2658, -4.784, -4.9774, -5.1361, -5.0168, -4.9416, -5.1595, -5.1588, -5.2644, -5.3446, -5.5732, -5.6669, -4.9798, -4.5503, -5.8877, -5.8877, -5.8878, -5.888, -6.0197, -6.0199, -6.1718, -6.1762, -6.3523, -6.3525, -6.3531, -5.4065, -6.5684, -6.5688, -6.5689, -6.5689, -6.5719, -6.5723, -4.9789, -6.8478, -6.8478, -6.848, -6.8484, -6.8485, -6.0378, -3.1953, -4.805, -5.0869, -5.2178, -4.8015, -5.4085, -4.4035, -5.0788, -4.8616, -4.4537, -4.1901, -3.9116, -5.4805, -3.4135, -4.6071, -4.1497, -4.8287, -4.7073, -4.7906, -4.8998, -5.3813, -4.5259, -4.8647, -5.2381, -4.8922, -5.1421, -5.2965, -5.1597, -5.2181, -5.2423, -4.6383, -5.0421, -5.1156, -5.3752, -5.3753, -5.3753, -5.3758, -5.4794, -5.5964, -5.8791, -5.8795, -5.8795, -5.8795, -5.8797, -5.8799, -5.8838, -4.7917, -5.3757, -6.2768, -6.2768, -5.5957, -5.5959, -5.5963, -5.7281, -6.5559, -6.556, -6.5562, -6.5562, -6.5564, -6.5565, -4.4398, -5.3934, -4.6168, -3.7374, -5.3745, -4.3291, -5.5961, -5.3753, -3.4956, -3.609, -3.7332, -4.511, -4.0802, -4.9093, -3.6173, -4.6191, -4.4451, -4.7367, -5.1151, -4.6185, -4.8679, -4.4595, -4.6486, -5.1052, -5.1144, -5.0318, -5.1455, -5.1159, -5.181, -5.1356, -5.3143, -5.4186, -5.6668, -5.9974, -5.9974, -5.314, -6.2148, -6.2156, -6.216, -6.2172, -5.5394, -5.2202, -6.4951, -6.4951, -6.4951, -6.4954, -5.6397, -6.8839, -6.8839, -6.8845, -6.8847, -6.8847, -6.8848, -6.8849, -6.8849, -6.8849, -6.885, -6.885, -6.885, -6.8852, -3.1863, -3.0783, -4.3266, -5.5348, -5.0548, -5.0543, -4.2895, -5.5345, -5.5346, -4.6255, -6.2161, -6.4952, -6.4953, -2.8565, -6.2161, -5.8181, -5.6663, -5.3216, -5.586, -4.6248, -4.9128, -4.1119, -4.886, -5.219, -5.1659, -5.6669, -5.0755, -4.5373, -4.9286, -4.7569, -4.8804, -4.4909, -4.7267, -5.1184, -4.828, -4.9, -5.2191, -5.0453, -5.0938, -5.1338, -5.1578, -5.1655, -4.8464, -5.0146, -5.2107, -5.3294, -5.3304, -4.7076, -5.6105, -5.6114, -5.6135, -5.7896, -5.7897, -5.7924, -6.0078, -6.0087, -6.0097, -6.0104, -6.0107, -6.0113, -5.3279, -2.822, -5.4597, -6.2878, -6.2883, -6.2885, -6.2886, -6.2886, -6.2886, -6.2887, -6.2887, -6.2887, -5.6116, -5.327, -4.8716, -5.3289, -5.6107, -5.4625, -4.5227, -5.6122, -5.3288, -4.3777, -5.5804, -4.9477, -5.0162, -4.8467, -4.7882, -4.5295, -4.7685, -4.7843, -5.1189, -5.2118, -4.924, -4.9982, -5.0607, -5.2112, -5.4613, -5.2395, -5.2287, -5.3244, -5.3192, -4.7155, -4.6617, -4.9751, -5.1969, -5.197, -5.3294, -5.4804, -5.4811, -5.4812, -5.4813, -5.4814, -5.4816, -5.8777, -5.8777, -5.8778, -5.8781, -5.8783, -5.8784, -5.8787, -5.3287, -6.1562, -6.1562, -6.1569, -6.1569, -6.157, -6.157, -6.1571, -6.1572, -6.1572, -6.1573, -4.9769, -5.4724, -4.7959, -5.8777, -5.8779, -5.8776, -4.3654, -4.6432, -5.2162, -4.8826, -4.1053, -4.3999, -4.7767, -4.527, -4.7949, -5.1969, -5.079, -5.4814, -5.0165, -5.2237, -4.6575, -4.9763, -4.3606, -4.9332, -5.2224, -5.0996, -5.3282, -5.1691, -5.1936, -5.2926, -5.3234], \"loglift\": [30.0, 29.0, 28.0, 27.0, 26.0, 25.0, 24.0, 23.0, 22.0, 21.0, 20.0, 19.0, 18.0, 17.0, 16.0, 15.0, 14.0, 13.0, 12.0, 11.0, 10.0, 9.0, 8.0, 7.0, 6.0, 5.0, 4.0, 3.0, 2.0, 1.0, 1.8949, 1.8684, 1.8557, 1.8549, 1.8547, 1.8338, 1.8333, 1.8239, 1.8228, 1.8106, 1.8105, 1.8047, 1.8017, 1.7932, 1.7932, 1.7932, 1.7932, 1.7932, 1.7931, 1.7931, 1.7926, 1.7924, 1.7916, 1.7835, 1.776, 1.7748, 1.769, 1.7689, 1.7685, 1.7619, 1.7401, 1.7386, 1.7195, 1.6571, 1.5124, 1.6333, 1.6777, 1.701, 1.325, 1.3473, 1.7077, 1.7176, 1.06, 1.2102, 0.7228, 0.3315, 0.5729, 0.7953, 0.714, 0.6487, 0.868, 0.3013, 0.163, 0.8992, 0.738, -0.014, 0.9266, 1.1584, 0.3539, -0.0331, 0.133, 0.2197, 0.1113, 0.2266, 0.1448, -0.3383, -0.9993, -0.452, 1.9045, 1.8866, 1.8594, 1.8572, 1.8549, 1.8429, 1.8383, 1.8295, 1.8252, 1.8219, 1.8082, 1.808, 1.808, 1.8079, 1.8079, 1.8079, 1.8078, 1.8077, 1.8013, 1.7997, 1.784, 1.7829, 1.7615, 1.7506, 1.7505, 1.75, 1.75, 1.7479, 1.7477, 1.747, 1.7053, 1.6686, 1.6403, 1.5872, 1.5985, 1.6031, 1.5347, 1.3429, 1.5526, 0.8124, 1.349, 1.444, 1.2255, 1.1949, 0.5476, 1.3312, 0.7941, 1.5148, 1.19, 0.3113, 0.8299, 0.8418, 0.4788, 0.6195, 0.9098, 0.812, -0.3143, -0.0948, 0.3998, 0.1208, 0.3992, -0.18, 0.2818, 0.6332, -0.1919, -0.0511, -0.251, 1.9571, 1.949, 1.9454, 1.9325, 1.912, 1.8874, 1.8744, 1.8742, 1.8742, 1.8741, 1.874, 1.874, 1.874, 1.8739, 1.86, 1.8575, 1.8575, 1.8565, 1.8551, 1.8481, 1.8392, 1.834, 1.8337, 1.8329, 1.8325, 1.8217, 1.8021, 1.8015, 1.7997, 1.7996, 1.7865, 1.7768, 1.64, 1.7525, 1.6999, 1.3399, 1.6666, 1.4149, 1.092, 1.2465, 1.6547, 1.6983, 1.4688, 1.6685, 1.6968, 0.8056, 1.0938, 0.7057, 0.6765, 0.5002, 0.5309, 1.021, 0.0538, 0.174, -0.1, -0.5473, 0.2307, 0.4041, -0.3756, -0.1503, 0.0453, 0.1646, 0.1861, 0.0225, 0.5985, -0.1798, -1.271, 2.0043, 1.9933, 1.987, 1.9869, 1.9862, 1.9788, 1.9777, 1.977, 1.9679, 1.9677, 1.9674, 1.9672, 1.9671, 1.9551, 1.9548, 1.9546, 1.9376, 1.9371, 1.9367, 1.9366, 1.9366, 1.9365, 1.9363, 1.9137, 1.9128, 1.9127, 1.9048, 1.8799, 1.8795, 1.8795, 1.8673, 1.8661, 1.8331, 1.7493, 1.7603, 1.7873, 1.8261, 1.5567, 1.733, 1.6836, 1.8041, 1.2047, 1.3263, 1.7545, 1.6498, 1.3454, 1.4676, 1.4722, 1.2007, 0.3108, 0.684, 1.3466, 0.6768, 1.0083, 1.1618, 0.2922, 0.064, 1.3858, 1.4363, 0.3532, 0.1715, -0.108, 0.5619, 0.4743, 0.7453, 0.7458, -0.0696, 0.4885, 0.0712, 0.7202, -0.1069, 0.2554, -0.0041, -0.3241, 2.1023, 2.0779, 2.0755, 2.0688, 2.0583, 2.0583, 2.0582, 2.0581, 2.057, 2.0449, 2.0447, 2.0446, 2.0445, 2.0275, 2.0274, 2.0273, 2.0272, 2.0272, 2.0271, 2.0268, 2.0267, 2.0256, 2.0253, 2.0242, 2.0029, 2.0026, 2.0024, 1.9889, 1.9756, 1.9683, 1.9543, 1.9011, 1.7216, 1.7358, 1.576, 1.7376, 0.9468, 1.7894, 1.7894, 1.3534, 1.3394, 1.6312, 1.7031, 1.82, 1.7612, 0.5325, 1.0553, 1.2596, 1.5922, 0.6429, 0.5208, 0.9336, 0.8868, 1.1585, 0.6919, 1.2715, -0.1549, 0.4379, 0.5469, 0.836, 0.2648, 0.2321, 0.9681, -0.1558, 0.2671, 0.5598, 0.1277, -0.1887, 0.4042, 0.2631, 2.2556, 2.2406, 2.2347, 2.228, 2.2196, 2.2152, 2.2081, 2.2081, 2.208, 2.2078, 2.1939, 2.1938, 2.1755, 2.1711, 2.1494, 2.1491, 2.1486, 2.1189, 2.1159, 2.1155, 2.1154, 2.1153, 2.1124, 2.112, 2.0982, 2.0601, 2.06, 2.0598, 2.0594, 2.0593, 2.0526, 2.0177, 1.9093, 1.8948, 1.8886, 1.7913, 1.8786, 1.5746, 1.6877, 1.6073, 1.4677, 1.3593, 0.9364, 1.7037, 0.5772, 1.1274, 0.8137, 1.0814, 0.699, 0.4596, 0.5601, 1.3344, -0.3223, 0.2344, 0.983, -0.4237, 0.2637, 0.9707, -0.5314, 0.0264, 0.3467, 2.6102, 2.5883, 2.5838, 2.5645, 2.5644, 2.5643, 2.5639, 2.5552, 2.5431, 2.5104, 2.51, 2.5099, 2.5099, 2.5097, 2.5096, 2.5053, 2.4951, 2.4731, 2.4467, 2.4467, 2.434, 2.4284, 2.4281, 2.4, 2.3886, 2.3885, 2.3883, 2.3883, 2.3882, 2.3881, 2.2695, 2.294, 2.2231, 2.1189, 2.2427, 2.072, 2.2347, 2.1615, 1.2573, 1.0192, 1.036, 1.5, 1.0644, 1.7397, 0.3733, 1.2911, 0.9582, 1.1421, 1.6732, 0.6582, 1.1102, -0.2559, -0.18, 1.2124, 1.1914, 0.39, 1.0171, 0.7942, 0.8404, 0.2702, 2.6145, 2.6053, 2.5795, 2.5353, 2.5353, 2.5249, 2.4992, 2.4984, 2.498, 2.4969, 2.4751, 2.4557, 2.4406, 2.4405, 2.4405, 2.4403, 2.3678, 2.337, 2.337, 2.3364, 2.3362, 2.3361, 2.3361, 2.336, 2.336, 2.3359, 2.3359, 2.3359, 2.3358, 2.3356, 2.3266, 2.3249, 2.2642, 2.2896, 2.2088, 2.1386, 1.9712, 2.1219, 2.1217, 1.8562, 2.1656, 2.2355, 2.2354, 1.1341, 2.1376, 1.9972, 1.926, 1.7451, 1.8803, 1.279, 1.3916, 0.6573, 1.2403, 1.5187, 1.3831, 1.8629, 1.1583, 0.2156, 0.8059, 0.3877, 0.5997, -0.2873, 0.2366, 0.9379, 0.02, 0.2385, 1.1343, 0.0705, 0.275, 0.2404, 0.337, 0.0847, 2.8939, 2.8785, 2.8635, 2.849, 2.8479, 2.8321, 2.8165, 2.8156, 2.8133, 2.7895, 2.7894, 2.7865, 2.7506, 2.7497, 2.7486, 2.7479, 2.7475, 2.7469, 2.7316, 2.7102, 2.702, 2.6894, 2.6888, 2.6886, 2.6885, 2.6885, 2.6885, 2.6884, 2.6884, 2.6884, 2.6646, 2.6259, 2.5831, 2.3816, 2.4426, 2.3102, 1.829, 2.3171, 2.0714, 1.0822, 2.1376, 1.146, 1.2008, 0.8873, 0.7073, 0.2234, 0.476, 0.3148, 0.9786, 1.1598, -0.1548, -0.1503, 0.0839, 0.668, 1.8364, 0.3241, -1.2381, 0.0499, -0.691, 3.0532, 3.0349, 3.0321, 3.0085, 3.0083, 2.9918, 2.9723, 2.9715, 2.9714, 2.9713, 2.9711, 2.9709, 2.9046, 2.9046, 2.9045, 2.9042, 2.9038, 2.9037, 2.9034, 2.8561, 2.8433, 2.8433, 2.8426, 2.8426, 2.8425, 2.8425, 2.8424, 2.8423, 2.8423, 2.8422, 2.7604, 2.694, 2.41, 2.701, 2.6964, 2.696, 1.783, 1.9413, 2.286, 2.0798, 1.5419, 1.6111, 1.8697, 1.2988, 1.5584, 2.0299, 1.8266, 2.3721, 1.6509, 1.9509, 0.7483, 1.3616, -0.37, 0.5826, 1.8668, 0.3222, 1.7462, 0.1076, -0.5654, 0.4033, -0.2243]}, \"token.table\": {\"Topic\": [1, 5, 9, 9, 1, 2, 3, 5, 6, 7, 8, 9, 3, 7, 1, 2, 3, 4, 5, 6, 7, 9, 10, 1, 2, 3, 4, 5, 6, 7, 8, 9, 10, 9, 6, 3, 7, 1, 4, 5, 7, 10, 2, 1, 2, 4, 9, 1, 5, 1, 1, 2, 3, 4, 5, 6, 7, 8, 9, 10, 3, 10, 1, 3, 6, 10, 10, 1, 2, 3, 4, 5, 6, 7, 8, 7, 1, 3, 4, 6, 7, 9, 1, 2, 3, 4, 5, 6, 7, 8, 9, 1, 2, 3, 4, 5, 6, 7, 8, 9, 10, 1, 2, 3, 4, 5, 6, 10, 10, 9, 8, 1, 2, 3, 4, 5, 7, 8, 10, 5, 2, 4, 6, 10, 8, 1, 2, 3, 4, 5, 6, 8, 9, 10, 1, 2, 4, 5, 6, 8, 9, 9, 1, 2, 3, 6, 10, 7, 8, 3, 8, 1, 2, 3, 4, 5, 8, 9, 7, 1, 2, 3, 4, 5, 6, 7, 10, 3, 6, 8, 9, 1, 2, 4, 6, 7, 9, 10, 4, 8, 1, 2, 3, 5, 6, 8, 10, 3, 7, 8, 6, 8, 1, 2, 3, 4, 5, 6, 7, 8, 9, 10, 1, 1, 2, 3, 4, 5, 6, 7, 8, 9, 10, 6, 1, 9, 5, 6, 4, 8, 4, 6, 9, 1, 4, 5, 6, 7, 8, 9, 1, 2, 3, 5, 6, 8, 3, 8, 10, 1, 5, 3, 7, 1, 2, 3, 4, 6, 8, 9, 10, 1, 2, 3, 4, 5, 6, 8, 9, 10, 4, 6, 4, 7, 8, 1, 6, 5, 6, 6, 6, 3, 8, 4, 2, 3, 4, 5, 6, 8, 10, 10, 10, 9, 4, 6, 1, 3, 8, 2, 7, 8, 9, 10, 3, 4, 5, 6, 7, 8, 10, 1, 7, 1, 2, 3, 4, 5, 7, 8, 9, 7, 3, 7, 2, 4, 5, 6, 8, 4, 1, 1, 4, 7, 9, 1, 3, 9, 9, 2, 1, 1, 3, 4, 6, 7, 8, 8, 4, 9, 2, 1, 2, 4, 5, 8, 7, 1, 4, 5, 2, 10, 1, 1, 2, 3, 5, 7, 8, 9, 10, 1, 2, 3, 4, 5, 6, 7, 8, 3, 8, 7, 6, 9, 1, 4, 5, 1, 3, 4, 6, 7, 8, 9, 10, 2, 3, 5, 6, 8, 4, 3, 6, 10, 1, 2, 3, 4, 5, 6, 7, 8, 9, 10, 2, 4, 5, 6, 7, 1, 2, 3, 4, 5, 8, 9, 10, 1, 2, 3, 4, 7, 8, 1, 5, 7, 3, 8, 1, 3, 4, 5, 1, 2, 3, 4, 5, 7, 8, 10, 10, 2, 4, 5, 4, 9, 3, 4, 5, 6, 4, 7, 1, 7, 8, 9, 10, 2, 4, 5, 6, 7, 3, 7, 6, 7, 3, 4, 5, 6, 8, 1, 3, 7, 6, 1, 3, 4, 5, 2, 7, 9, 3, 5, 2, 1, 6, 9, 6, 9, 6, 1, 2, 3, 4, 5, 6, 7, 8, 9, 10, 5, 1, 2, 3, 4, 5, 6, 7, 8, 9, 1, 3, 4, 6, 7, 1, 2, 3, 4, 5, 6, 7, 8, 9, 10, 1, 2, 3, 4, 5, 6, 7, 8, 9, 10, 1, 2, 3, 5, 6, 10, 3, 8, 1, 2, 3, 4, 5, 6, 7, 9, 2, 5, 6, 8, 7, 6, 4, 10, 9, 1, 2, 7, 8, 9, 9, 2, 1, 2, 3, 4, 5, 6, 10, 1, 3, 5, 6, 7, 9, 10, 1, 2, 3, 4, 5, 6, 8, 1, 2, 3, 4, 5, 2, 1, 3, 4, 8, 10, 1, 2, 3, 4, 6, 7, 8, 9, 10, 6, 2, 2, 5, 6, 9, 4, 9, 1, 2, 3, 4, 5, 6, 7, 9, 10, 3, 6, 7, 8, 1, 2, 3, 4, 5, 6, 8, 9, 1, 2, 3, 4, 8, 9, 4, 3, 4, 9, 6, 6, 10, 1, 2, 3, 4, 5, 6, 7, 6, 9, 2, 9, 8, 6, 2, 3, 4, 5, 6, 1, 2, 2, 5, 10, 8, 10, 10, 2, 3, 5, 1, 2, 3, 4, 5, 6, 7, 8, 9, 10, 1, 3, 4, 5, 7, 1, 3, 4, 5, 6, 3, 9, 1, 2, 3, 5, 6, 10, 2, 8, 1, 3, 4, 7, 1, 2, 3, 4, 5, 6, 7, 8, 9, 3, 4, 5, 6, 4, 5, 10, 9, 1, 2, 3, 4, 5, 6, 7, 8, 9, 1, 2, 3, 4, 5, 6, 9, 10, 9, 2, 4, 6, 8, 3, 6, 7, 1, 2, 3, 4, 5, 6, 7, 8, 9, 10, 1, 2, 4, 5, 6, 2, 3, 6, 7, 1, 2, 3, 4, 5, 6, 7, 8, 9, 10, 1, 2, 3, 4, 5, 6, 7, 8, 10, 1, 2, 3, 4, 5, 6, 8, 4, 1, 2, 3, 4, 5, 6, 9, 4, 6, 7, 8, 9, 2, 4, 6, 8, 10, 4, 5, 6, 9, 10, 3, 6, 8, 1, 2, 3, 4, 5, 7, 10, 1, 1, 2, 3, 4, 5, 6, 7, 8, 9, 10, 2, 4, 9, 8, 1, 2, 3, 4, 5, 6, 7, 9, 10, 1, 2, 3, 5, 8, 1, 2, 3, 4, 5, 6, 7, 9, 6, 1, 1, 5, 2, 10, 1, 2, 4, 5, 6, 8, 3, 6, 8, 3, 6, 7, 4, 5, 6, 8, 10, 1, 2, 6, 8, 3, 10, 1, 2, 3, 4, 5, 6, 7, 8, 9, 2, 2, 3, 5, 9, 10, 2, 1, 3, 4, 6, 9, 2, 3, 10, 6, 6, 7, 1, 2, 3, 4, 5, 6, 4, 3, 10, 1, 2, 5, 6, 7, 9, 8, 1, 5, 4, 1, 2, 3, 4, 5, 6, 7, 8, 9, 10, 1, 2, 3, 4, 5, 6, 7, 8, 9, 10, 3, 1, 2, 3, 4, 5, 6, 7, 9, 10, 1, 5, 6, 1, 3, 10, 1, 3, 5, 6, 1, 2, 3, 4, 5, 6, 7, 9, 10, 2, 4, 5, 6, 9, 5, 8, 1, 4, 6, 7, 9, 1, 2, 3, 4, 5, 6, 8, 9, 10, 5, 4, 1, 3, 4, 5, 7, 9, 10, 3, 2, 5, 2, 8, 1, 2, 3, 4, 5, 6, 7, 9, 10, 4, 5, 3, 4, 3, 8, 1, 5, 1, 3, 4, 8, 9, 3, 6, 5, 8, 2, 8, 3, 7, 2, 4, 9, 3, 9, 1, 1, 3, 9, 1, 2, 3, 4, 5, 6, 7, 8, 9, 2, 4, 5, 6, 7, 10, 5, 1, 4, 5, 6, 1, 2, 3, 4, 5, 6, 7, 8, 9, 1, 2, 3, 5, 10, 2, 5, 6, 8, 9, 6, 1, 3, 8, 5, 1, 2, 3, 4, 5, 6, 7, 8, 9, 1, 4, 6, 9, 1, 6, 1, 2, 3, 4, 5, 6, 8, 9, 10, 4, 5, 1, 3, 4, 6, 7, 8, 10, 1, 2, 3, 4, 5, 6, 7, 8, 10, 7, 7, 3, 4, 5, 10, 2, 1, 2, 3, 4, 5, 6, 7, 8, 9, 10, 1, 6, 1, 4, 4, 10, 10, 1, 2, 3, 4, 5, 6, 7, 10, 3, 8, 8, 5, 8, 1, 6, 2, 3, 7, 5, 9, 1, 2, 3, 4, 5, 6, 8, 3, 5, 6, 4, 7, 1, 2, 3, 4, 5, 6, 10, 3, 7, 2, 3, 4, 8, 10, 1, 2, 3, 4, 5, 6, 7, 7, 6, 7, 5, 2, 8, 3, 5, 7, 10, 1, 3, 5, 6, 8, 1, 5, 1, 2, 4, 1, 1, 2, 5, 7, 8, 1, 2, 4, 5, 6, 7, 8, 9, 10, 2, 4, 5, 1, 5, 7, 2, 3, 10, 5, 4, 5, 9, 1, 5, 7, 3, 3, 4, 1, 2, 3, 4, 5, 9, 10, 3, 7, 1, 2, 4, 5, 6, 7, 8, 2, 2, 3, 4, 5, 6, 7, 10, 7, 3, 7, 1, 4, 3, 4, 7, 9, 1, 2, 5, 6, 7, 1, 4, 7, 1, 9, 4, 5, 5, 5, 2, 1, 2, 3, 4, 5, 6, 7, 8, 9, 10, 1, 2, 4, 5, 7, 8, 9, 5, 1, 3, 5, 6, 8, 10, 9, 1, 2, 3, 4, 5, 6, 8, 10, 9, 3, 4, 1, 3, 4, 5, 6, 7, 8, 9, 1, 2, 3, 4, 5, 6, 7, 8, 1, 2, 3, 4, 5, 6, 7, 1, 2, 4, 5, 6, 8, 10, 8, 1, 5, 1, 2, 3, 4, 5, 6, 7, 8, 9, 10, 2, 3, 5, 6, 8, 9, 10, 2, 3, 4, 6, 7, 8, 1, 3, 5, 8, 1, 3, 4, 5, 10, 8, 6, 3, 1, 1, 2, 3, 5, 6, 7, 8, 9, 1, 7, 10, 1, 3, 4, 6, 8, 9, 10, 3, 6, 7, 10, 1, 2, 9, 3, 4, 5, 8, 10, 4, 9, 7, 7, 1, 2, 3, 4, 5, 7, 9, 10, 1, 3, 4, 5, 6, 7, 9, 4, 10, 1, 2, 4, 5, 6, 9, 10, 1, 2, 5, 6, 8, 1, 2, 3, 4, 5, 6, 7, 8, 9, 10, 2, 3, 4, 6, 4, 10, 1, 2, 3, 4, 5, 6, 9, 1, 6, 7, 8, 10, 1, 1, 2, 3, 4, 5, 6, 7, 8, 9, 1, 9, 4, 5, 8, 5, 9, 1, 2, 3, 4, 5, 6, 7, 8, 8, 1, 2, 3, 4, 5, 6, 7, 8, 9, 10, 1, 2, 3, 5, 6, 7, 8, 9, 6, 8, 9, 1, 2, 3, 4, 5, 6, 7, 8, 10, 5, 9, 2, 3, 7, 5, 10, 4, 1, 2, 4, 5, 6, 10, 8, 10, 4, 1, 8, 6, 10, 10, 4, 3, 1, 10], \"Freq\": [0.07546497302440351, 0.8301147032684385, 0.07546497302440351, 0.8896369288281382, 0.18309643955206742, 0.045774109888016855, 0.16478679559686069, 0.20140608350727415, 0.17394161757446405, 0.0640837538432236, 0.01830964395520674, 0.1556319736192573, 0.11895495076574532, 0.8326846553602173, 0.07394575760909887, 0.018486439402274717, 0.05545931820682415, 0.018486439402274717, 0.4436745456545932, 0.1109186364136483, 0.20335083342502186, 0.05545931820682415, 0.7615231418859362, 0.1113898038337331, 0.09746607835451647, 0.15316098027138303, 0.0696186273960832, 0.2923982350635494, 0.027847450958433276, 0.041771176437649916, 0.041771176437649916, 0.09746607835451647, 0.05569490191686655, 0.8286249338861624, 0.8633564371853575, 0.7712720254121873, 0.1713937834249305, 0.8837996910960791, 0.0878489761046836, 0.7027918088374688, 0.0878489761046836, 0.0878489761046836, 0.8841200957886474, 0.7482820589301549, 0.10689743699002212, 0.07126495799334807, 0.03563247899667404, 0.8046410324851444, 0.10058012906064305, 0.9489024785473349, 0.0796135520988004, 0.06369084167904032, 0.2547633667161613, 0.35029962923472174, 0.03184542083952016, 0.11145897293832056, 0.03184542083952016, 0.06369084167904032, 0.01592271041976008, 0.7614837474713858, 0.13965860456841175, 0.6982930228420587, 0.3594212184557691, 0.051345888350824154, 0.5648047718590656, 0.8553146137928457, 0.9128850484742851, 0.20305688559037388, 0.32714720456226903, 0.02256187617670821, 0.11280938088354105, 0.13537125706024924, 0.07896656661847873, 0.07896656661847873, 0.03384281426506231, 0.9453996480488063, 0.07347864506358374, 0.12246440843930624, 0.58782916050867, 0.024492881687861248, 0.048985763375722496, 0.1469572901271675, 0.14267941779971258, 0.24799041665188137, 0.04416267693800627, 0.1121052568426313, 0.29555022258511887, 0.06454545090939379, 0.05775119291893128, 0.010191386985693754, 0.016985644976156258, 0.42180766665095776, 0.03893609230624226, 0.02595739487082817, 0.1817017640957972, 0.14276567178955493, 0.03893609230624226, 0.01946804615312113, 0.07138283589477747, 0.03893609230624226, 0.01946804615312113, 0.18480032453166736, 0.2772004867975011, 0.013200023180833385, 0.17160030135083398, 0.1584002781700006, 0.03960006954250015, 0.1584002781700006, 0.6308323269724837, 0.6168621250146945, 0.7871478962032726, 0.08457893444965844, 0.06343420083724383, 0.08457893444965844, 0.486328873085536, 0.06343420083724383, 0.04228946722482922, 0.14801313528690227, 0.02114473361241461, 0.8456964582675385, 0.9441818437018843, 0.7680443907109413, 0.17067653126909807, 0.6308416212289465, 0.7871370576681511, 0.11910365858300848, 0.07940243905533897, 0.05955182929150424, 0.07940243905533897, 0.29775914645752116, 0.019850609763834744, 0.2183567074021822, 0.019850609763834744, 0.09925304881917373, 0.10999189374965053, 0.3299756812489516, 0.12374088046835685, 0.3299756812489516, 0.04124696015611895, 0.04124696015611895, 0.013748986718706316, 0.7434126768471656, 0.37385447027983015, 0.3115453918998584, 0.29077569910653456, 0.020769692793323895, 0.020769692793323895, 0.8569240993351241, 0.7871382694828701, 0.9444443257469255, 0.8877289251258397, 0.04354356901623152, 0.07837842422921673, 0.07837842422921673, 0.7228232456694432, 0.008708713803246304, 0.03483485521298522, 0.03483485521298522, 0.8568683604513905, 0.320205137330461, 0.05520778229835535, 0.05520778229835535, 0.154581790435395, 0.12145712105638178, 0.03312466937901321, 0.03312466937901321, 0.20978957273375035, 0.08690707691178123, 0.08690707691178123, 0.2607212307353437, 0.5214424614706874, 0.1352632012177705, 0.033815800304442624, 0.10144740091332788, 0.541052804871082, 0.06763160060888525, 0.033815800304442624, 0.06763160060888525, 0.9020121767386141, 0.887723180006096, 0.2143351516718115, 0.10716757583590575, 0.10716757583590575, 0.16075136375385862, 0.053583787917952874, 0.053583787917952874, 0.32150272750771725, 0.05179374436604, 0.36255621056228, 0.56973118802644, 0.09882334611742712, 0.7905867689394169, 0.1848812674625361, 0.19328496143810595, 0.1764775734869663, 0.12605540963354736, 0.05042216385341894, 0.08403693975569823, 0.02521108192670947, 0.08403693975569823, 0.05042216385341894, 0.016807387951139646, 0.9489039869142899, 0.3521290469633749, 0.0555993232047434, 0.0555993232047434, 0.14826486187931573, 0.18533107734914467, 0.018533107734914466, 0.018533107734914466, 0.03706621546982893, 0.03706621546982893, 0.07413243093965786, 0.9339484242053488, 0.8575299328247382, 0.08575299328247382, 0.8208966433387355, 0.10261208041734193, 0.858431050262683, 0.7871313215760718, 0.7756270545811246, 0.11080386494016065, 0.889692164727437, 0.0639970215046823, 0.14932638351092536, 0.27732042652028993, 0.10666170250780382, 0.23465574551716842, 0.1279940430093646, 0.021332340501560767, 0.9588052602227205, 0.8254518929738156, 0.9527617791982765, 0.9040740695979742, 0.8944218865525018, 0.7910744333010878, 0.8255094792166875, 0.723244988751872, 0.2410816629172907, 0.2798057180902528, 0.6995142952256319, 0.8854149371240989, 0.07378457809367492, 0.0339679869753779, 0.10190396092613371, 0.0679359739507558, 0.5434877916060464, 0.1358719479015116, 0.0679359739507558, 0.0339679869753779, 0.0339679869753779, 0.1424137711896804, 0.5538313324043127, 0.04747125706322681, 0.14768835530781674, 0.04747125706322681, 0.026372920590681557, 0.015823752354408936, 0.010549168236272624, 0.010549168236272624, 0.12707066763812652, 0.7624240058287591, 0.38606239446134827, 0.09651559861533707, 0.4825779930766853, 0.9236900750487903, 0.9205375792260844, 0.0675617568858514, 0.912083717958994, 0.7668946017317035, 0.8215557150093897, 0.9443860468699927, 0.8877470589633646, 0.8583569382720788, 0.47851202402417475, 0.22786286858294036, 0.022786286858294036, 0.04557257371658807, 0.09114514743317614, 0.09114514743317614, 0.04557257371658807, 0.76138923735307, 0.7614329887511236, 0.743444997183257, 0.9475350767342916, 0.9205388651591143, 0.09993117718950545, 0.7994494175160436, 0.7112468078982548, 0.10916904230219324, 0.6550142538131595, 0.0727793615347955, 0.0727793615347955, 0.0727793615347955, 0.04113301608961143, 0.24679809653766857, 0.08226603217922286, 0.12339904826883429, 0.04113301608961143, 0.12339904826883429, 0.37019714480650284, 0.8596382417822118, 0.8568593996568636, 0.16716066754510234, 0.1002964005270614, 0.5265561027670723, 0.041790166886275584, 0.008358033377255117, 0.03343213350902047, 0.09193836714980629, 0.02507410013176535, 0.9342701988606876, 0.7746500060289675, 0.17214444578421498, 0.1032259691261379, 0.8258077530091033, 0.0344086563753793, 0.0344086563753793, 0.7871315587058689, 0.9183276752479053, 0.9489246223184319, 0.93361807483608, 0.9440685553782401, 0.8743736311098722, 0.8286302495584399, 0.8154170615565318, 0.07412882377786653, 0.07412882377786653, 0.6168826667926413, 0.9441735861035369, 0.9489033104031688, 0.13616245551432268, 0.06808122775716134, 0.06808122775716134, 0.20424368327148404, 0.06808122775716134, 0.4084873665429681, 0.7871540484920266, 0.8283172167808822, 0.6168666920809898, 0.8840831711288933, 0.045657670338791805, 0.2739460220327508, 0.045657670338791805, 0.228288351693959, 0.36526136271033444, 0.8956801022519809, 0.22063440185741987, 0.6619032055722596, 0.11031720092870993, 0.8874496629394264, 0.08874496629394264, 0.9335813450326873, 0.20882695710653185, 0.3281566468816929, 0.04474863366568539, 0.16407832344084644, 0.11932968977516105, 0.04474863366568539, 0.014916211221895131, 0.07458105610947566, 0.06630556260326109, 0.09945834390489164, 0.7094695198548937, 0.033152781301630546, 0.02652222504130444, 0.00663055626032611, 0.02652222504130444, 0.02652222504130444, 0.3307158517018857, 0.4960737775528286, 0.8956745774349545, 0.821512964903973, 0.6168915180039928, 0.9236919598517435, 0.9477175793420669, 0.8058410854220599, 0.03177144232073461, 0.03177144232073461, 0.27005725972624417, 0.015885721160367305, 0.3177144232073461, 0.06354288464146922, 0.04765716348110191, 0.22240009624514226, 0.6549541040669377, 0.06549541040669377, 0.06549541040669377, 0.06549541040669377, 0.13099082081338753, 0.9476521285380349, 0.7732133502678749, 0.11045905003826784, 0.8553224327661203, 0.030488778217805733, 0.07622194554451434, 0.1371995019801258, 0.2515324202968973, 0.22104364207909155, 0.05335536188116003, 0.1371995019801258, 0.022866583663354298, 0.022866583663354298, 0.045733167326708596, 0.48383012667059794, 0.06911858952437114, 0.03455929476218557, 0.03455929476218557, 0.3801522423840413, 0.08161184168189625, 0.0544078944545975, 0.0544078944545975, 0.24483552504568876, 0.24483552504568876, 0.2720394722729875, 0.0544078944545975, 0.02720394722729875, 0.15444911714866996, 0.07722455857433498, 0.07722455857433498, 0.07722455857433498, 0.15444911714866996, 0.46334735144600986, 0.19605519705330654, 0.09802759852665327, 0.6861931896865728, 0.8255201984242452, 0.7871392872330072, 0.05873888324929123, 0.23495553299716493, 0.05873888324929123, 0.6461277157422035, 0.04826747448113407, 0.038613979584907254, 0.038613979584907254, 0.1254954336509486, 0.04826747448113407, 0.009653494896226814, 0.6853981376321038, 0.019306989792453627, 0.6308326944034838, 0.8238183254362863, 0.09153536949292071, 0.8766643957144417, 0.8870629265428318, 0.8325570965366061, 0.600428429103806, 0.09237360447750861, 0.09237360447750861, 0.18474720895501723, 0.902009257951904, 0.9614503493332096, 0.08757104530357732, 0.17514209060715463, 0.17514209060715463, 0.43785522651788655, 0.08757104530357732, 0.03193624097991185, 0.03193624097991185, 0.1277449639196474, 0.09580872293973557, 0.6706610605781489, 0.8834868633414639, 0.07362390527845533, 0.09980471466666609, 0.7984377173333287, 0.3535360260597936, 0.09641891619812552, 0.12855855493083404, 0.3856756647925021, 0.06427927746541702, 0.8026239452433152, 0.1003279931554144, 0.8956657628377325, 0.920547330314169, 0.1094836919228666, 0.8466738842035018, 0.014597825589715547, 0.02189673838457332, 0.27746058703141824, 0.18497372468761217, 0.5549211740628365, 0.8842944230213448, 0.9216187398837907, 0.9192298360426293, 0.7881796732827248, 0.13136327888045413, 0.06568163944022706, 0.9205241198892272, 0.6168594368005842, 0.7668931362958217, 0.19858435359012197, 0.11915061215407317, 0.12411522099382623, 0.08936295911555488, 0.06453991491678963, 0.2531950508274055, 0.014893826519259147, 0.06950452375654269, 0.04468147955777744, 0.024823044198765246, 0.9013791522656026, 0.18283663338590428, 0.0166215121259913, 0.21607965763788686, 0.23270116976387817, 0.0332430242519826, 0.0332430242519826, 0.11635058488193908, 0.16621512125991297, 0.0166215121259913, 0.5533250927957262, 0.4046705902535908, 0.016517166949126156, 0.016517166949126156, 0.008258583474563078, 0.04336431400521602, 0.15611153041877768, 0.23416729562816652, 0.16478439321982088, 0.06938290240834563, 0.13009294201564806, 0.09540149081147525, 0.008672862801043204, 0.017345725602086408, 0.09540149081147525, 0.09480682038764712, 0.1218944833555463, 0.1444675358287956, 0.11737987286089643, 0.09480682038764712, 0.03160227346254904, 0.24830357720574245, 0.08126298890369753, 0.06320454692509808, 0.004514610494649862, 0.28156334756626133, 0.09385444918875378, 0.37541779675501513, 0.023463612297188446, 0.09385444918875378, 0.11731806148594223, 0.41165909236631554, 0.5763227293128418, 0.07113297420738925, 0.21339892262216772, 0.2667486532777097, 0.20450730084624408, 0.07113297420738925, 0.09780783953516022, 0.03556648710369462, 0.026674865327770966, 0.6893275897958993, 0.10605039843013835, 0.10605039843013835, 0.10605039843013835, 0.8568812882416275, 0.7668746163146933, 0.20616803758807428, 0.6185041127642229, 0.6168648257284687, 0.13141083607426604, 0.3942325082227981, 0.06570541803713302, 0.29567438116709854, 0.09855812705569952, 0.6168647230855101, 0.8793507106170604, 0.05085990778032267, 0.10171981556064534, 0.20343963112129068, 0.05085990778032267, 0.10171981556064534, 0.152579723340968, 0.305159446681936, 0.16424134627434436, 0.04692609893552696, 0.09385219787105392, 0.09385219787105392, 0.5631131872263235, 0.02346304946776348, 0.02346304946776348, 0.061571381633070785, 0.08209517551076105, 0.24628552653228314, 0.061571381633070785, 0.14366655714383184, 0.2668093204099734, 0.14366655714383184, 0.05483729826293337, 0.4661170352349336, 0.3564424387090669, 0.027418649131466685, 0.05483729826293337, 0.9445456155867854, 0.20989250524398614, 0.1574193789329896, 0.052473126310996536, 0.10494625262199307, 0.47225813679896883, 0.14219630347112844, 0.09479753564741895, 0.11375704277690274, 0.4171091568486434, 0.05687852138845137, 0.04739876782370948, 0.09479753564741895, 0.018959507129483792, 0.009479753564741896, 0.8633506794414271, 0.9441852312577272, 0.6944441244827395, 0.09259254993103194, 0.1388888248965479, 0.04629627496551597, 0.1232048731455185, 0.7392292388731111, 0.03903764321809241, 0.03903764321809241, 0.03903764321809241, 0.019518821609046205, 0.5660458266623399, 0.05855646482713861, 0.05855646482713861, 0.17566939448141583, 0.019518821609046205, 0.8842982975646161, 0.7945185202637988, 0.07222895638761807, 0.07222895638761807, 0.5659635988979159, 0.012041778699955657, 0.012041778699955657, 0.03612533609986697, 0.09633422959964526, 0.07225067219973394, 0.07225067219973394, 0.12041778699955658, 0.06730786308893899, 0.5384629047115119, 0.033653931544469495, 0.20192358926681697, 0.10096179463340849, 0.033653931544469495, 0.8283951951328208, 0.5176881889537784, 0.11504181976750631, 0.3451254593025189, 0.9406620508474514, 0.863364761487932, 0.9127333175712141, 0.027011575886341288, 0.7023009730448735, 0.027011575886341288, 0.054023151772682576, 0.027011575886341288, 0.027011575886341288, 0.08103472765902386, 0.8633564986058646, 0.8752196868051068, 0.8986267751224042, 0.8895246404116779, 0.7871309648877303, 0.9205386923044864, 0.11020789518828351, 0.22041579037656703, 0.5143035108786564, 0.11020789518828351, 0.036735965062761174, 0.8596681140978607, 0.9441760319172242, 0.9441499477367818, 0.8058123325001973, 0.9428174846679902, 0.7232288239124672, 0.2410762746374891, 0.8003664971286266, 0.9134274399202756, 0.060895162661351705, 0.9407832693421551, 0.2776591714801364, 0.13015273663131394, 0.10412218930505115, 0.08676849108754263, 0.05206109465252558, 0.19956752950134804, 0.017353698217508526, 0.0694147928700341, 0.043384245543771315, 0.017353698217508526, 0.07305440361601295, 0.1461088072320259, 0.07305440361601295, 0.07305440361601295, 0.5844352289281036, 0.028423781249242785, 0.028423781249242785, 0.05684756249848557, 0.28423781249242785, 0.5968994062340984, 0.1530290077714077, 0.7651450388570386, 0.036449539536312386, 0.05467430930446857, 0.10934861860893715, 0.4373944744357486, 0.09112384884078097, 0.2551467767541867, 0.11778646066217414, 0.824505224635219, 0.0654178445602642, 0.7195962901629062, 0.0654178445602642, 0.1308356891205284, 0.20330430096697238, 0.195484904775935, 0.07819396191037399, 0.13553620064464825, 0.195484904775935, 0.07298103111634906, 0.054735773337261796, 0.04952284254323686, 0.013032326985062332, 0.11382069976293588, 0.05691034988146794, 0.1707310496444038, 0.6260138486961473, 0.09366558140655216, 0.8429902326589694, 0.7614219509813842, 0.6168608864160499, 0.06390798111903405, 0.10651330186505675, 0.08521064149204541, 0.08521064149204541, 0.23432926410312488, 0.021302660373011352, 0.06390798111903405, 0.27693458484914757, 0.08521064149204541, 0.08661063725588151, 0.017322127451176304, 0.4850195686329365, 0.05196638235352891, 0.20786552941411565, 0.017322127451176304, 0.13857701960941043, 0.017322127451176304, 0.7435736680658952, 0.10599482401629874, 0.6889663561059418, 0.15899223602444812, 0.05299741200814937, 0.8255219882629303, 0.9205294693398111, 0.8565856754644229, 0.17136744458740819, 0.13151455049731325, 0.09564694581622782, 0.1673821551783987, 0.09963223522523731, 0.05977934113514238, 0.19527918104146513, 0.03188231527207594, 0.023911736454056955, 0.023911736454056955, 0.143720334186036, 0.6227881148061559, 0.095813556124024, 0.095813556124024, 0.047906778062012, 0.12262108313295769, 0.7357264987977462, 0.061310541566478846, 0.061310541566478846, 0.2036076407409117, 0.18509785521901062, 0.3054114611113675, 0.08329403484855478, 0.03701957104380212, 0.05552935656570319, 0.01850978552190106, 0.01850978552190106, 0.046274463804752655, 0.046274463804752655, 0.05637898156711315, 0.05637898156711315, 0.05637898156711315, 0.19732643548489603, 0.028189490783556575, 0.1127579631342263, 0.14094745391778288, 0.028189490783556575, 0.31008439861912235, 0.1301639753201322, 0.14017658880629624, 0.050063067430820084, 0.22027749669560837, 0.04005045394465607, 0.38047931247423267, 0.03003784045849205, 0.8824716697163413, 0.11167770145124865, 0.08934216116099893, 0.02233554029024973, 0.1340132417414984, 0.2233554029024973, 0.11167770145124865, 0.31269756406349625, 0.06372602482537286, 0.06372602482537286, 0.06372602482537286, 0.3823561489522372, 0.3823561489522372, 0.22236175559811303, 0.055590438899528256, 0.055590438899528256, 0.6114948278948108, 0.055590438899528256, 0.06418998848766093, 0.16047497121915233, 0.6739948791204398, 0.06418998848766093, 0.06418998848766093, 0.14508230568718114, 0.36270576421795286, 0.43524691706154345, 0.28636011798755606, 0.1101385069182908, 0.24230471522023977, 0.02202770138365816, 0.06608310415097449, 0.1101385069182908, 0.1762216110692653, 0.9489005169594984, 0.05476797452125815, 0.10532302792549646, 0.037916290053178724, 0.17272976579781418, 0.09900364624996666, 0.17694268691483403, 0.1011101068084766, 0.20853959529248298, 0.014745223909569503, 0.029490447819139006, 0.1345948963682978, 0.1345948963682978, 0.6729744818414889, 0.7113206557698796, 0.07314483442090497, 0.23162530899953238, 0.22552990613112364, 0.13409886310499244, 0.19505289178907992, 0.06095402868408747, 0.02438161147363499, 0.030477014342043734, 0.018286208605226242, 0.1312548542413034, 0.7350271837512989, 0.02625097084826068, 0.02625097084826068, 0.07875291254478203, 0.3446899772601203, 0.11489665908670676, 0.014362082385838346, 0.04308624715751504, 0.14362082385838346, 0.05744832954335338, 0.2585174829450902, 0.014362082385838346, 0.894354145563851, 0.9647226227376867, 0.279804505698036, 0.6995112642450899, 0.8841461561815406, 0.9126870129769951, 0.016732494336494687, 0.7027647621327768, 0.016732494336494687, 0.20078993203793624, 0.033464988672989374, 0.033464988672989374, 0.23751652145044447, 0.6650462600612446, 0.09500660858017779, 0.8255126632083362, 0.8624980425065036, 0.8743533584243194, 0.8584596012681975, 0.046132461090558824, 0.7842518385395, 0.13839738327167647, 0.6308431925004742, 0.03955749652981481, 0.7515924340664812, 0.11867248958944442, 0.07911499305962962, 0.7305759062757278, 0.16235020139460618, 0.10352652862155673, 0.15528979293233508, 0.20705305724311346, 0.12078095005848284, 0.06901768574770448, 0.12078095005848284, 0.051763264310778365, 0.03450884287385224, 0.15528979293233508, 0.9442164997217436, 0.15726507317550503, 0.052421691058501675, 0.5766386016435184, 0.052421691058501675, 0.15726507317550503, 0.9192787247355306, 0.04943283444328144, 0.5684775960977365, 0.19773133777312576, 0.12358208610820359, 0.04943283444328144, 0.07314069939277743, 0.8776883927133291, 0.6308325545045923, 0.8943555098220167, 0.8943564246005073, 0.8568705595404625, 0.3068611840654562, 0.09763764947537242, 0.19527529895074483, 0.2650164771474394, 0.09763764947537242, 0.041844706918016755, 0.9223960043394482, 0.20603485413706749, 0.6181045624112025, 0.13669402600090558, 0.22782337666817595, 0.3645174026690815, 0.06834701300045279, 0.022782337666817594, 0.15947636366772316, 0.8877242657523751, 0.8837077827490909, 0.8057965529066758, 0.9223877721250214, 0.12690325358537807, 0.10686589775610784, 0.08682854192683762, 0.12690325358537807, 0.1335823721951348, 0.0333955930487837, 0.20705267690245893, 0.1001867791463511, 0.05343294887805392, 0.02671647443902696, 0.1055408561718365, 0.32580003426958226, 0.00917746575407274, 0.07341972603258191, 0.06424226027850917, 0.045887328770363695, 0.1973155137125639, 0.12848452055701834, 0.045887328770363695, 0.00458873287703637, 0.9151689158295856, 0.05041607249013962, 0.17645625371548868, 0.07562410873520943, 0.07562410873520943, 0.403328579921117, 0.02520803624506981, 0.12604018122534905, 0.02520803624506981, 0.05041607249013962, 0.046818658675548436, 0.9129638441731944, 0.023409329337774218, 0.07070549713303344, 0.7070549713303345, 0.14141099426606688, 0.4767266567591445, 0.2224724398209341, 0.0635635542345526, 0.2224724398209341, 0.056922081654369024, 0.16127923135404557, 0.2751233946627836, 0.07589610887249203, 0.2276883266174761, 0.04743506804530752, 0.028461040827184512, 0.10435714969967655, 0.018974027218123007, 0.04150876385390037, 0.5396139301007048, 0.24905258312340223, 0.08301752770780074, 0.08301752770780074, 0.9407760634734563, 0.787135620912507, 0.0791666937867352, 0.0791666937867352, 0.0791666937867352, 0.6333335502938816, 0.0791666937867352, 0.08156311100836552, 0.02039077775209138, 0.02039077775209138, 0.1223446665125483, 0.18351699976882244, 0.02039077775209138, 0.4893786660501932, 0.04078155550418276, 0.02039077775209138, 0.8058294691678513, 0.9237956466353756, 0.948905219417737, 0.27561377780221324, 0.18374251853480886, 0.15311876544567404, 0.09187125926740443, 0.061247506178269615, 0.21436627162394364, 0.9194939092362293, 0.884224523072231, 0.9408244077994916, 0.8552093327438057, 0.9511825079297884, 0.06475787987730885, 0.0863438398364118, 0.19427363963192656, 0.02158595995910295, 0.06475787987730885, 0.1295157597546177, 0.23744555955013247, 0.1295157597546177, 0.06475787987730885, 0.29826518856616374, 0.6710966742738684, 0.919508769828483, 0.9223987496770766, 0.9817887744736336, 0.7871372427535559, 0.9489020875084344, 0.8058407918177632, 0.20874995705603822, 0.10437497852801911, 0.5566665521494353, 0.06958331901867941, 0.06958331901867941, 0.865276758145264, 0.07866152346775127, 0.8057857189500367, 0.787096958831448, 0.88410032316055, 0.7112612315719806, 0.1189535272686617, 0.8326746908806318, 0.06205190312253217, 0.8066747405929182, 0.12410380624506434, 0.1364756789210505, 0.818854073526303, 0.9489050613100729, 0.7623971154306589, 0.1524794230861318, 0.03811985577153295, 0.14218258170364426, 0.1726502777829966, 0.07109129085182213, 0.20311797386234895, 0.1726502777829966, 0.05077949346558724, 0.09140308823805703, 0.020311797386234894, 0.07109129085182213, 0.06959482624832136, 0.04175689574899282, 0.6402724014845566, 0.013918965249664274, 0.22270344399462838, 0.013918965249664274, 0.9150587587344674, 0.17211454663927106, 0.22948606218569476, 0.40160060882496584, 0.17211454663927106, 0.1712491596976883, 0.1427076330814069, 0.07135381654070345, 0.2711445028546731, 0.05708305323256277, 0.014270763308140692, 0.028541526616281385, 0.24260297623839178, 0.014270763308140692, 0.036631284072207324, 0.5494692610831099, 0.036631284072207324, 0.18315642036103663, 0.18315642036103663, 0.9059580764110917, 0.04768200402163641, 0.12244700887903831, 0.24489401775807662, 0.6122350443951915, 0.9580413010252827, 0.08395787801514708, 0.08395787801514708, 0.7556209021363237, 0.8058576361779095, 0.16237723871787932, 0.3173736938576732, 0.11071175367128135, 0.036903917890427115, 0.14761567156170846, 0.10333097009319593, 0.007380783578085423, 0.029523134312341694, 0.08118861935893966, 0.194806575758955, 0.714290777782835, 0.064935525252985, 0.8325848582636572, 0.7928452274953857, 0.15856904549907713, 0.6583177895083852, 0.03872457585343442, 0.04840571981679302, 0.04840571981679302, 0.029043431890075813, 0.058086863780151626, 0.01936228792671721, 0.01936228792671721, 0.07744915170686884, 0.9475339253219649, 0.8766190243282136, 0.09339355903451445, 0.1867871180690289, 0.28018067710354333, 0.046696779517257224, 0.046696779517257224, 0.046696779517257224, 0.28018067710354333, 0.27285755762538744, 0.2568071130591882, 0.11235311196339483, 0.04815133369859778, 0.0802522228309963, 0.03210088913239852, 0.1605044456619926, 0.03210088913239852, 0.01605044456619926, 0.8743687346015845, 0.8956655640427809, 0.10027393076224048, 0.10027393076224048, 0.3008217922867214, 0.5013696538112024, 0.9672948175262914, 0.2987352052465535, 0.13940976244839165, 0.11285552198203133, 0.0929398416322611, 0.1526868826815718, 0.03319280058295039, 0.05310848093272062, 0.08630128151567101, 0.013277120233180156, 0.013277120233180156, 0.052135025957984416, 0.886295441285735, 0.18373413763830007, 0.7349365505532003, 0.8283758476692478, 0.9126629290881303, 0.912709167062334, 0.07931868131249419, 0.2643956043749806, 0.15863736262498837, 0.07931868131249419, 0.149824175812489, 0.09694505493749289, 0.10575824174999224, 0.06169230768749547, 0.41165687787399696, 0.5763196290235958, 0.7871477882005309, 0.8765973023737527, 0.7871317064531933, 0.8697889888644639, 0.0790717262604058, 0.9441754694885358, 0.7697336884782556, 0.1710519307729457, 0.8058104390120461, 0.6169106335915335, 0.2470219520783314, 0.3622988630482194, 0.21408569180122056, 0.01646813013855543, 0.09880878083133256, 0.01646813013855543, 0.04940439041566628, 0.0662620822459568, 0.7951449869514815, 0.1325241644919136, 0.947555801216916, 0.7180404102479616, 0.022098190954851413, 0.28727648241306836, 0.13258914572910846, 0.39776743718732543, 0.04419638190970283, 0.06629457286455423, 0.022098190954851413, 0.8534896202761347, 0.08534896202761347, 0.3052215398880189, 0.15261076994400946, 0.07630538497200473, 0.4323971815080268, 0.025435128324001577, 0.013608525531368567, 0.06804262765684284, 0.013608525531368567, 0.013608525531368567, 0.2857790361587399, 0.027217051062737134, 0.5851665978488484, 0.8956616858339606, 0.11959207915112038, 0.8371445540578427, 0.8765999928951026, 0.23395395194975063, 0.7018618558492519, 0.717200732451004, 0.07968897027233378, 0.15937794054466756, 0.6308696462034193, 0.17020830558193012, 0.11347220372128673, 0.028368050930321683, 0.056736101860643366, 0.6524651713973988, 0.9489562491833897, 0.8058019294672758, 0.9336089601938677, 0.9444848075493343, 0.8870630218597447, 0.9489109843125171, 0.008650562179178013, 0.03460224871671205, 0.08650562179178013, 0.18166180576273827, 0.683394412155063, 0.060129485818761826, 0.15032371454690457, 0.060129485818761826, 0.12025897163752365, 0.030064742909380913, 0.3908416578219519, 0.060129485818761826, 0.060129485818761826, 0.060129485818761826, 0.9722788235688271, 0.01215348529461034, 0.01215348529461034, 0.8759589566899422, 0.046103102983681164, 0.046103102983681164, 0.8842491402498217, 0.9193994580961186, 0.6308415638375734, 0.845706333791665, 0.3245364038447818, 0.10817880128159392, 0.5408940064079696, 0.05689371751826319, 0.05689371751826319, 0.8534057627739479, 0.8255127387577277, 0.9441229538055037, 0.04495823589550017, 0.02998792571343658, 0.05997585142687316, 0.23990340570749263, 0.1799275542806195, 0.11995170285374632, 0.05997585142687316, 0.26989133142092925, 0.9393604338015261, 0.8743712364852471, 0.2495761144216683, 0.08913432657916726, 0.12478805721083415, 0.08913432657916726, 0.0713074612633338, 0.1426149225266676, 0.23174924910583486, 0.8842232759719708, 0.1095904929248908, 0.07827892351777914, 0.46967354110667486, 0.26614833996044907, 0.031311569407111654, 0.015655784703555827, 0.015655784703555827, 0.9627394294448288, 0.13195965635044749, 0.7917579381026849, 0.7731636900350128, 0.11045195571928755, 0.8255207645116602, 0.8823928543718059, 0.8956657421268063, 0.8284804750989927, 0.05627730424996752, 0.11255460849993504, 0.6753276509996102, 0.05627730424996752, 0.05627730424996752, 0.18403161709261362, 0.7361264683704545, 0.046007904273153405, 0.7908809513637748, 0.8953568409955844, 0.90209123346544, 0.8456608566146239, 0.8057846213492821, 0.8456637395317131, 0.9441717975206556, 0.16330695356457237, 0.12619173684535137, 0.14103782353303976, 0.07423043343844198, 0.17815304025226075, 0.15588391022072814, 0.022269130031532594, 0.07423043343844198, 0.02969217337537679, 0.022269130031532594, 0.13490424190000877, 0.6745212095000438, 0.02698084838000175, 0.107923393520007, 0.02698084838000175, 0.02698084838000175, 0.02698084838000175, 0.805846445890608, 0.7909977974573743, 0.22601763529511432, 0.05022614117669207, 0.5022614117669207, 0.12556535294173019, 0.10045228235338415, 0.7435281668949745, 0.13909597615365085, 0.081139319422963, 0.2086439642304763, 0.19705263288433872, 0.19705263288433872, 0.011591331346137572, 0.081139319422963, 0.06954798807682543, 0.9389453288208448, 0.825513058663005, 0.8583571341818697, 0.11619533723588733, 0.014524417154485917, 0.2614395087807465, 0.07262208577242958, 0.43573251463457746, 0.014524417154485917, 0.07262208577242958, 0.014524417154485917, 0.15624591299348692, 0.16666230719305272, 0.09374754779609216, 0.16666230719305272, 0.10416394199565795, 0.13541312459435534, 0.09374754779609216, 0.09374754779609216, 0.046917965223066155, 0.046917965223066155, 0.046917965223066155, 0.14075389566919846, 0.60993354789986, 0.046917965223066155, 0.09383593044613231, 0.13422483707015576, 0.3131912864970301, 0.022370806178359296, 0.04474161235671859, 0.06711241853507788, 0.20133725560523366, 0.20133725560523366, 0.7112675384569581, 0.80515882650744, 0.10064485331343, 0.04467652715970073, 0.15955902557035975, 0.16594138659317414, 0.24891207988976125, 0.08297069329658707, 0.12764722045628782, 0.019147083068443174, 0.04467652715970073, 0.0702059712509583, 0.031911805114071955, 0.046005608947064215, 0.13801682684119265, 0.09201121789412843, 0.09201121789412843, 0.2760336536823853, 0.09201121789412843, 0.23002804473532107, 0.2154132965722613, 0.05744354575260301, 0.2154132965722613, 0.28721772876301505, 0.15796975081965828, 0.05744354575260301, 0.17601902147281467, 0.08800951073640734, 0.6600713305230551, 0.0660071330523055, 0.031383116967887446, 0.18829870180732466, 0.737503248745355, 0.047074675451831166, 0.6308183840790706, 0.8649416148263873, 0.8624963727045986, 0.9443860252764944, 0.8295271985556469, 0.021457013485057023, 0.13589441873869448, 0.0071523378283523415, 0.0071523378283523415, 0.7438431341486434, 0.014304675656704683, 0.050066364798466385, 0.014304675656704683, 0.17854387520160267, 0.08927193760080133, 0.7141755008064107, 0.06688407993208624, 0.4013044795925174, 0.3344203996604312, 0.11147346655347706, 0.02229469331069541, 0.02229469331069541, 0.04458938662139082, 0.855408656548101, 0.9201609617016587, 0.7180387121422088, 0.6308384647336616, 0.11075390120883287, 0.11075390120883287, 0.6645234072529972, 0.21171393155986035, 0.1411426210399069, 0.07057131051995345, 0.1411426210399069, 0.4234278631197207, 0.8823898450722362, 0.7434649158613839, 0.8568650679852515, 0.9308693053109699, 0.11920113103001843, 0.15325859703859512, 0.06811493201715339, 0.4257183251072087, 0.10217239802573008, 0.034057466008576696, 0.034057466008576696, 0.08514366502144173, 0.04611456034814009, 0.015371520116046698, 0.10760064081232688, 0.10760064081232688, 0.47651712359744763, 0.21520128162465377, 0.030743040232093396, 0.8870439465483952, 0.9354820774014152, 0.49021680878225227, 0.04902168087822523, 0.14706504263467568, 0.024510840439112613, 0.1960867235129009, 0.04902168087822523, 0.04902168087822523, 0.04321071193966368, 0.7993981708837781, 0.10802677984915919, 0.02160535596983184, 0.04321071193966368, 0.2563140403986232, 0.11144088712983617, 0.11701293148632798, 0.11144088712983617, 0.03343226613895085, 0.22288177425967234, 0.027860221782459043, 0.08358066534737713, 0.027860221782459043, 0.005572044356491808, 0.041934663839375344, 0.2516079830362521, 0.041934663839375344, 0.6709546214300055, 0.2742438749118702, 0.6856096872796755, 0.09274634850647098, 0.06183089900431399, 0.12366179800862798, 0.4946471920345119, 0.12366179800862798, 0.06183089900431399, 0.06183089900431399, 0.08492857211569166, 0.08492857211569166, 0.6794285769255333, 0.08492857211569166, 0.9211852850636445, 0.8295297642252366, 0.0986780326146279, 0.49339016307313954, 0.17268655707559882, 0.04933901630731395, 0.024669508153656976, 0.024669508153656976, 0.04933901630731395, 0.04933901630731395, 0.024669508153656976, 0.9236998291982826, 0.743435403985743, 0.717495259013859, 0.07972169544598433, 0.15944339089196866, 0.8805382704288987, 0.06289559074492133, 0.09799640250813504, 0.25479064652115113, 0.039198561003254015, 0.25479064652115113, 0.039198561003254015, 0.25479064652115113, 0.039198561003254015, 0.019599280501627007, 0.8910505466707155, 0.06023914697011577, 0.12047829394023155, 0.036143488182069465, 0.09638263515218523, 0.14457395272827786, 0.3011957348505789, 0.036143488182069465, 0.14457395272827786, 0.048191317576092615, 0.012047829394023154, 0.01968355791910058, 0.04920889479775145, 0.05905067375730174, 0.01968355791910058, 0.01968355791910058, 0.00984177895955029, 0.02952533687865087, 0.7775005378044729, 0.1700512218264522, 0.5101536654793566, 0.1700512218264522, 0.2989191941744739, 0.21484817081290308, 0.08407102336157077, 0.16814204672314154, 0.018682449635904617, 0.018682449635904617, 0.04670612408976154, 0.12143592263338, 0.028023674453856923, 0.07326175544326105, 0.8791410653191325, 0.8253202351941168, 0.8850106534919167, 0.07375088779099306, 0.20707665455327026, 0.6212299636598108, 0.947536909784772, 0.0777274353407425, 0.2720460236925987, 0.03886371767037125, 0.155454870681485, 0.19431858835185623, 0.2720460236925987, 0.7910707950318796, 0.6308675385226773, 0.9476478439223193, 0.1947856736610764, 0.6817498578137674, 0.8633272275108971, 0.7615186627796903, 0.9127211142235621, 0.8583610796700154, 0.8255129854707369, 0.8599451015794384, 0.7615204129590633], \"Term\": [\"across\", \"across\", \"across\", \"agrees\", \"ai\", \"ai\", \"ai\", \"ai\", \"ai\", \"ai\", \"ai\", \"ai\", \"alcohol\", \"alcohol\", \"alone\", \"alone\", \"alone\", \"alone\", \"alone\", \"alone\", \"alone\", \"alone\", \"also\", \"always\", \"always\", \"always\", \"always\", \"always\", \"always\", \"always\", \"always\", \"always\", \"always\", \"alyph\", \"amazed\", \"amen\", \"amen\", \"andr\\u00e9\", \"angel\", \"angel\", \"angel\", \"angel\", \"anniversary\", \"anything\", \"anything\", \"anything\", \"anything\", \"anyway\", \"anyway\", \"apologies\", \"around\", \"around\", \"around\", \"around\", \"around\", \"around\", \"around\", \"around\", \"around\", \"arrow\", \"artist\", \"artist\", \"ass\", \"ass\", \"ass\", \"award\", \"awards\", \"away\", \"away\", \"away\", \"away\", \"away\", \"away\", \"away\", \"away\", \"ba\", \"babe\", \"babe\", \"babe\", \"babe\", \"babe\", \"babe\", \"baby\", \"baby\", \"baby\", \"baby\", \"baby\", \"baby\", \"baby\", \"baby\", \"baby\", \"back\", \"back\", \"back\", \"back\", \"back\", \"back\", \"back\", \"back\", \"back\", \"back\", \"bad\", \"bad\", \"bad\", \"bad\", \"bad\", \"bad\", \"bad\", \"band\", \"beam\", \"beating\", \"beautiful\", \"beautiful\", \"beautiful\", \"beautiful\", \"beautiful\", \"beautiful\", \"beautiful\", \"beautiful\", \"bebe\", \"bein\", \"belong\", \"belong\", \"beneath\", \"benny\", \"best\", \"best\", \"best\", \"best\", \"best\", \"best\", \"best\", \"best\", \"best\", \"better\", \"better\", \"better\", \"better\", \"better\", \"better\", \"better\", \"bezel\", \"bitch\", \"bitch\", \"bitch\", \"bitch\", \"bitch\", \"blah\", \"blanco\", \"bloody\", \"blown\", \"body\", \"body\", \"body\", \"body\", \"body\", \"body\", \"body\", \"bowie\", \"boy\", \"boy\", \"boy\", \"boy\", \"boy\", \"boy\", \"boy\", \"boy\", \"brain\", \"brain\", \"brain\", \"brain\", \"break\", \"break\", \"break\", \"break\", \"break\", \"break\", \"break\", \"breakin\", \"breaks\", \"bring\", \"bring\", \"bring\", \"bring\", \"bring\", \"bring\", \"bring\", \"brown\", \"brown\", \"brown\", \"bye\", \"bye\", \"ca\", \"ca\", \"ca\", \"ca\", \"ca\", \"ca\", \"ca\", \"ca\", \"ca\", \"ca\", \"cali\", \"call\", \"call\", \"call\", \"call\", \"call\", \"call\", \"call\", \"call\", \"call\", \"call\", \"called\", \"calling\", \"calling\", \"calls\", \"calls\", \"calm\", \"calming\", \"camera\", \"camera\", \"camila\", \"care\", \"care\", \"care\", \"care\", \"care\", \"care\", \"care\", \"cater\", \"cd\", \"celebrating\", \"cha\", \"chandelier\", \"charli\", \"chiba\", \"childhood\", \"childhood\", \"chris\", \"chris\", \"church\", \"church\", \"close\", \"close\", \"close\", \"close\", \"close\", \"close\", \"close\", \"close\", \"come\", \"come\", \"come\", \"come\", \"come\", \"come\", \"come\", \"come\", \"come\", \"comes\", \"comes\", \"coming\", \"coming\", \"coming\", \"complicated\", \"convey\", \"cool\", \"cool\", \"crawl\", \"cream\", \"crew\", \"cross\", \"crush\", \"cry\", \"cry\", \"cry\", \"cry\", \"cry\", \"cry\", \"cry\", \"cryin\", \"crying\", \"cursing\", \"curves\", \"cuzzo\", \"damn\", \"damn\", \"dancin\", \"dancing\", \"dancing\", \"dancing\", \"dancing\", \"dancing\", \"dark\", \"dark\", \"dark\", \"dark\", \"dark\", \"dark\", \"dark\", \"daughter\", \"david\", \"day\", \"day\", \"day\", \"day\", \"day\", \"day\", \"day\", \"day\", \"de\", \"deathless\", \"deathless\", \"deep\", \"deep\", \"deep\", \"deep\", \"dependin\", \"deserve\", \"desire\", \"dessert\", \"dey\", \"dice\", \"dinah\", \"dinner\", \"dinner\", \"dinner\", \"directly\", \"discoverin\", \"doctor\", \"done\", \"done\", \"done\", \"done\", \"done\", \"done\", \"drew\", \"du\", \"dynamite\", \"earthquake\", \"else\", \"else\", \"else\", \"else\", \"else\", \"embrace\", \"empty\", \"empty\", \"empty\", \"ending\", \"ending\", \"ends\", \"even\", \"even\", \"even\", \"even\", \"even\", \"even\", \"even\", \"even\", \"every\", \"every\", \"every\", \"every\", \"every\", \"every\", \"every\", \"every\", \"everyday\", \"everyday\", \"everywhere\", \"ew\", \"exhausting\", \"explain\", \"extraordinary\", \"fair\", \"fall\", \"fall\", \"fall\", \"fall\", \"fall\", \"fall\", \"fall\", \"fall\", \"falling\", \"falling\", \"falling\", \"falling\", \"falling\", \"fanta\", \"faster\", \"faster\", \"feat\", \"feel\", \"feel\", \"feel\", \"feel\", \"feel\", \"feel\", \"feel\", \"feel\", \"feel\", \"feel\", \"feelin\", \"feelin\", \"feelin\", \"feelin\", \"feelin\", \"feeling\", \"feeling\", \"feeling\", \"feeling\", \"feeling\", \"feeling\", \"feeling\", \"feeling\", \"fell\", \"fell\", \"fell\", \"fell\", \"fell\", \"fell\", \"felt\", \"felt\", \"felt\", \"fighting\", \"fights\", \"finally\", \"finally\", \"finally\", \"finally\", \"find\", \"find\", \"find\", \"find\", \"find\", \"find\", \"find\", \"find\", \"fireflies\", \"fix\", \"fix\", \"florida\", \"flowers\", \"flush\", \"fly\", \"fly\", \"fly\", \"fly\", \"fools\", \"foot\", \"forget\", \"forget\", \"forget\", \"forget\", \"forget\", \"found\", \"found\", \"found\", \"found\", \"found\", \"freaky\", \"freaky\", \"freddie\", \"freddie\", \"free\", \"free\", \"free\", \"free\", \"free\", \"freedom\", \"freedom\", \"fresher\", \"friday\", \"fuck\", \"fuck\", \"fuck\", \"fuck\", \"funeral\", \"funeral\", \"funeral\", \"funk\", \"gaga\", \"galileo\", \"gang\", \"gang\", \"gang\", \"gee\", \"gelatine\", \"gently\", \"get\", \"get\", \"get\", \"get\", \"get\", \"get\", \"get\", \"get\", \"get\", \"get\", \"ghosts\", \"girl\", \"girl\", \"girl\", \"girl\", \"girl\", \"girl\", \"girl\", \"girl\", \"girl\", \"girls\", \"girls\", \"girls\", \"girls\", \"girls\", \"give\", \"give\", \"give\", \"give\", \"give\", \"give\", \"give\", \"give\", \"give\", \"give\", \"go\", \"go\", \"go\", \"go\", \"go\", \"go\", \"go\", \"go\", \"go\", \"go\", \"god\", \"god\", \"god\", \"god\", \"god\", \"god\", \"gomez\", \"gomez\", \"good\", \"good\", \"good\", \"good\", \"good\", \"good\", \"good\", \"good\", \"goodbye\", \"goodbye\", \"goodbye\", \"goodbye\", \"gotye\", \"grave\", \"great\", \"great\", \"guaranteed\", \"guess\", \"guess\", \"guess\", \"guess\", \"guess\", \"gunpowder\", \"hailie\", \"hand\", \"hand\", \"hand\", \"hand\", \"hand\", \"hand\", \"hand\", \"hands\", \"hands\", \"hands\", \"hands\", \"hands\", \"hands\", \"hands\", \"hard\", \"hard\", \"hard\", \"hard\", \"hard\", \"hard\", \"hard\", \"hate\", \"hate\", \"hate\", \"hate\", \"hate\", \"hated\", \"heard\", \"heard\", \"heard\", \"heard\", \"heard\", \"heart\", \"heart\", \"heart\", \"heart\", \"heart\", \"heart\", \"heart\", \"heart\", \"heart\", \"heartbeat\", \"heartbreak\", \"hell\", \"hell\", \"hell\", \"hell\", \"hi\", \"hi\", \"high\", \"high\", \"high\", \"high\", \"high\", \"high\", \"high\", \"high\", \"high\", \"hol\", \"holdin\", \"holdin\", \"holdin\", \"home\", \"home\", \"home\", \"home\", \"home\", \"home\", \"home\", \"home\", \"hope\", \"hope\", \"hope\", \"hope\", \"hope\", \"hope\", \"hoping\", \"hour\", \"hour\", \"hour\", \"hu\", \"hungered\", \"huntin\", \"hurt\", \"hurt\", \"hurt\", \"hurt\", \"hurt\", \"hurt\", \"hurt\", \"hush\", \"hype\", \"imagine\", \"imma\", \"inna\", \"innovation\", \"inside\", \"inside\", \"inside\", \"inside\", \"inside\", \"inspire\", \"inspired\", \"irrelevant\", \"irreplaceable\", \"issues\", \"ivy\", \"ivy\", \"judge\", \"julia\", \"julia\", \"justin\", \"keep\", \"keep\", \"keep\", \"keep\", \"keep\", \"keep\", \"keep\", \"keep\", \"keep\", \"keep\", \"kick\", \"kick\", \"kick\", \"kick\", \"kick\", \"kids\", \"kids\", \"kids\", \"kids\", \"kids\", \"killer\", \"killer\", \"kiss\", \"kiss\", \"kiss\", \"kiss\", \"kiss\", \"kiss\", \"knees\", \"knees\", \"knife\", \"knife\", \"knife\", \"knife\", \"know\", \"know\", \"know\", \"know\", \"know\", \"know\", \"know\", \"know\", \"know\", \"knows\", \"knows\", \"knows\", \"knows\", \"lady\", \"lady\", \"lambs\", \"laser\", \"last\", \"last\", \"last\", \"last\", \"last\", \"last\", \"last\", \"last\", \"last\", \"late\", \"late\", \"late\", \"late\", \"late\", \"late\", \"late\", \"late\", \"lauren\", \"learn\", \"learn\", \"learn\", \"learn\", \"learns\", \"legend\", \"legs\", \"let\", \"let\", \"let\", \"let\", \"let\", \"let\", \"let\", \"let\", \"let\", \"let\", \"lie\", \"lie\", \"lie\", \"lie\", \"lie\", \"lies\", \"lies\", \"lies\", \"lies\", \"life\", \"life\", \"life\", \"life\", \"life\", \"life\", \"life\", \"life\", \"life\", \"life\", \"light\", \"light\", \"light\", \"light\", \"light\", \"light\", \"light\", \"light\", \"light\", \"little\", \"little\", \"little\", \"little\", \"little\", \"little\", \"little\", \"lockdown\", \"long\", \"long\", \"long\", \"long\", \"long\", \"long\", \"long\", \"longer\", \"longer\", \"longer\", \"longer\", \"longer\", \"lord\", \"lord\", \"lord\", \"lord\", \"lord\", \"lose\", \"lose\", \"lose\", \"lose\", \"lose\", \"losing\", \"losing\", \"losing\", \"lost\", \"lost\", \"lost\", \"lost\", \"lost\", \"lost\", \"lost\", \"lotta\", \"love\", \"love\", \"love\", \"love\", \"love\", \"love\", \"love\", \"love\", \"love\", \"love\", \"loving\", \"loving\", \"loving\", \"lungs\", \"make\", \"make\", \"make\", \"make\", \"make\", \"make\", \"make\", \"make\", \"make\", \"mama\", \"mama\", \"mama\", \"mama\", \"mama\", \"man\", \"man\", \"man\", \"man\", \"man\", \"man\", \"man\", \"man\", \"maren\", \"marry\", \"martin\", \"martin\", \"matters\", \"meanin\", \"meant\", \"meant\", \"meant\", \"meant\", \"meant\", \"meant\", \"meet\", \"meet\", \"meet\", \"megan\", \"meghan\", \"mercury\", \"mhmm\", \"middle\", \"middle\", \"middle\", \"milky\", \"million\", \"million\", \"million\", \"million\", \"minaj\", \"minaj\", \"mind\", \"mind\", \"mind\", \"mind\", \"mind\", \"mind\", \"mind\", \"mind\", \"mind\", \"missing\", \"mistakes\", \"mistakes\", \"mistakes\", \"mistakes\", \"mistakes\", \"momentary\", \"money\", \"money\", \"money\", \"money\", \"money\", \"mood\", \"mood\", \"moonlit\", \"morris\", \"motivation\", \"movin\", \"much\", \"much\", \"much\", \"much\", \"much\", \"much\", \"mummy\", \"music\", \"music\", \"must\", \"must\", \"must\", \"must\", \"must\", \"must\", \"mustang\", \"nas\", \"near\", \"neat\", \"need\", \"need\", \"need\", \"need\", \"need\", \"need\", \"need\", \"need\", \"need\", \"need\", \"never\", \"never\", \"never\", \"never\", \"never\", \"never\", \"never\", \"never\", \"never\", \"never\", \"neverland\", \"new\", \"new\", \"new\", \"new\", \"new\", \"new\", \"new\", \"new\", \"new\", \"next\", \"next\", \"next\", \"nicki\", \"nicki\", \"nicki\", \"nigga\", \"nigga\", \"nigga\", \"nigga\", \"night\", \"night\", \"night\", \"night\", \"night\", \"night\", \"night\", \"night\", \"night\", \"nights\", \"nights\", \"nights\", \"nights\", \"nights\", \"noon\", \"notice\", \"number\", \"number\", \"number\", \"number\", \"number\", \"old\", \"old\", \"old\", \"old\", \"old\", \"old\", \"old\", \"old\", \"old\", \"option\", \"ordinary\", \"overseas\", \"pain\", \"pain\", \"pain\", \"pain\", \"pain\", \"pain\", \"pan\", \"parents\", \"patience\", \"payback\", \"pearls\", \"people\", \"people\", \"people\", \"people\", \"people\", \"people\", \"people\", \"people\", \"people\", \"person\", \"person\", \"peter\", \"petras\", \"pickin\", \"pieces\", \"piffing\", \"pity\", \"play\", \"play\", \"play\", \"play\", \"play\", \"players\", \"players\", \"poured\", \"praise\", \"prayin\", \"prepared\", \"pressure\", \"pressure\", \"pretend\", \"pretend\", \"pretend\", \"problem\", \"problem\", \"psychology\", \"pussy\", \"pussy\", \"pussy\", \"put\", \"put\", \"put\", \"put\", \"put\", \"put\", \"put\", \"put\", \"put\", \"rain\", \"rain\", \"rain\", \"rain\", \"rain\", \"rain\", \"rare\", \"ready\", \"ready\", \"ready\", \"ready\", \"really\", \"really\", \"really\", \"really\", \"really\", \"really\", \"really\", \"really\", \"really\", \"reason\", \"reason\", \"reason\", \"reason\", \"reason\", \"reasons\", \"reasons\", \"relief\", \"relief\", \"relief\", \"rembau\", \"repeating\", \"repeating\", \"repeating\", \"rexha\", \"right\", \"right\", \"right\", \"right\", \"right\", \"right\", \"right\", \"right\", \"right\", \"rockin\", \"rockin\", \"rockin\", \"royal\", \"rude\", \"rude\", \"run\", \"run\", \"run\", \"run\", \"run\", \"run\", \"run\", \"run\", \"run\", \"rush\", \"sabronzo\", \"sad\", \"sad\", \"sad\", \"sad\", \"sad\", \"sad\", \"sad\", \"said\", \"said\", \"said\", \"said\", \"said\", \"said\", \"said\", \"said\", \"said\", \"sanchez\", \"savin\", \"saw\", \"saw\", \"saw\", \"saw\", \"saxe\", \"say\", \"say\", \"say\", \"say\", \"say\", \"say\", \"say\", \"say\", \"say\", \"say\", \"saying\", \"saying\", \"scars\", \"scars\", \"scream\", \"searchin\", \"season\", \"see\", \"see\", \"see\", \"see\", \"see\", \"see\", \"see\", \"see\", \"selena\", \"selena\", \"seventeen\", \"shaan\", \"shade\", \"shake\", \"shake\", \"shape\", \"sharpen\", \"sharpen\", \"sheeran\", \"shift\", \"shit\", \"shit\", \"shit\", \"shit\", \"shit\", \"shit\", \"shit\", \"shoot\", \"shoot\", \"shoot\", \"shop\", \"shoulders\", \"show\", \"show\", \"show\", \"show\", \"show\", \"show\", \"show\", \"shrine\", \"shrine\", \"sick\", \"sick\", \"sick\", \"sick\", \"sick\", \"side\", \"side\", \"side\", \"side\", \"side\", \"side\", \"side\", \"sideways\", \"sign\", \"sign\", \"singh\", \"singin\", \"singin\", \"sins\", \"sins\", \"sins\", \"sip\", \"skin\", \"skin\", \"skin\", \"skin\", \"skin\", \"slaughter\", \"slept\", \"slippers\", \"snare\", \"softly\", \"soldiers\", \"somebody\", \"somebody\", \"somebody\", \"somebody\", \"somebody\", \"someone\", \"someone\", \"someone\", \"someone\", \"someone\", \"someone\", \"someone\", \"someone\", \"someone\", \"sorry\", \"sorry\", \"sorry\", \"sound\", \"sound\", \"sound\", \"sour\", \"spaceships\", \"sparkling\", \"special\", \"spend\", \"spend\", \"spend\", \"spinnin\", \"spinnin\", \"spinnin\", \"stallion\", \"star\", \"star\", \"stars\", \"stars\", \"stars\", \"stars\", \"stars\", \"stars\", \"stars\", \"staying\", \"stephen\", \"still\", \"still\", \"still\", \"still\", \"still\", \"still\", \"still\", \"stomach\", \"stop\", \"stop\", \"stop\", \"stop\", \"stop\", \"stop\", \"stop\", \"stranger\", \"streets\", \"streets\", \"stress\", \"stress\", \"superhero\", \"surrender\", \"surrounded\", \"suspect\", \"swear\", \"swear\", \"swear\", \"swear\", \"swear\", \"sweet\", \"sweet\", \"sweet\", \"swift\", \"swipe\", \"swirlin\", \"syasya\", \"symphony\", \"tabby\", \"tables\", \"take\", \"take\", \"take\", \"take\", \"take\", \"take\", \"take\", \"take\", \"take\", \"take\", \"talk\", \"talk\", \"talk\", \"talk\", \"talk\", \"talk\", \"talk\", \"taught\", \"taylor\", \"tears\", \"tears\", \"tears\", \"tears\", \"tears\", \"teatime\", \"tell\", \"tell\", \"tell\", \"tell\", \"tell\", \"tell\", \"tell\", \"tell\", \"temasek\", \"thee\", \"thighs\", \"thing\", \"thing\", \"thing\", \"thing\", \"thing\", \"thing\", \"thing\", \"thing\", \"think\", \"think\", \"think\", \"think\", \"think\", \"think\", \"think\", \"think\", \"thinking\", \"thinking\", \"thinking\", \"thinking\", \"thinking\", \"thinking\", \"thinking\", \"thought\", \"thought\", \"thought\", \"thought\", \"thought\", \"thought\", \"thought\", \"tick\", \"till\", \"till\", \"time\", \"time\", \"time\", \"time\", \"time\", \"time\", \"time\", \"time\", \"time\", \"time\", \"tired\", \"tired\", \"tired\", \"tired\", \"tired\", \"tired\", \"tired\", \"tonight\", \"tonight\", \"tonight\", \"tonight\", \"tonight\", \"tonight\", \"top\", \"top\", \"top\", \"top\", \"touch\", \"touch\", \"touch\", \"touch\", \"tour\", \"trade\", \"trainor\", \"translate\", \"trees\", \"try\", \"try\", \"try\", \"try\", \"try\", \"try\", \"try\", \"try\", \"tryin\", \"tryin\", \"tryin\", \"turn\", \"turn\", \"turn\", \"turn\", \"turn\", \"turn\", \"turn\", \"turnin\", \"turnt\", \"twice\", \"twilight\", \"type\", \"type\", \"type\", \"understand\", \"understand\", \"understand\", \"understand\", \"understand\", \"unholy\", \"uniform\", \"unless\", \"untouchable\", \"us\", \"us\", \"us\", \"us\", \"us\", \"us\", \"us\", \"us\", \"used\", \"used\", \"used\", \"used\", \"used\", \"used\", \"used\", \"usher\", \"waaaaaaa\", \"wake\", \"wake\", \"wake\", \"wake\", \"wake\", \"wake\", \"wake\", \"walk\", \"walk\", \"walk\", \"walk\", \"walk\", \"want\", \"want\", \"want\", \"want\", \"want\", \"want\", \"want\", \"want\", \"want\", \"want\", \"wanted\", \"wanted\", \"wanted\", \"wanted\", \"wasted\", \"wasted\", \"watch\", \"watch\", \"watch\", \"watch\", \"watch\", \"watch\", \"watch\", \"wave\", \"wave\", \"wave\", \"wave\", \"weak\", \"weed\", \"well\", \"well\", \"well\", \"well\", \"well\", \"well\", \"well\", \"well\", \"well\", \"whatever\", \"whatsapp\", \"whenever\", \"whenever\", \"whenever\", \"willing\", \"willing\", \"wish\", \"wish\", \"wish\", \"wish\", \"wish\", \"wish\", \"wish\", \"wish\", \"wizkid\", \"wo\", \"wo\", \"wo\", \"wo\", \"wo\", \"wo\", \"wo\", \"wo\", \"wo\", \"wo\", \"work\", \"work\", \"work\", \"work\", \"work\", \"work\", \"work\", \"work\", \"works\", \"works\", \"works\", \"world\", \"world\", \"world\", \"world\", \"world\", \"world\", \"world\", \"world\", \"world\", \"worried\", \"worried\", \"worse\", \"worship\", \"worship\", \"wounds\", \"wounds\", \"wrestle\", \"wrong\", \"wrong\", \"wrong\", \"wrong\", \"wrong\", \"wrong\", \"xcx\", \"yaaaaa\", \"yanga\", \"years\", \"years\", \"yep\", \"yonnyboii\", \"youth\", \"youtube\", \"yuki\", \"zayn\", \"zynakal\"]}, \"R\": 30, \"lambda.step\": 0.01, \"plot.opts\": {\"xlab\": \"PC1\", \"ylab\": \"PC2\"}, \"topic.order\": [8, 2, 1, 10, 5, 6, 4, 7, 3, 9]};\n",
       "\n",
       "function LDAvis_load_lib(url, callback){\n",
       "  var s = document.createElement('script');\n",
       "  s.src = url;\n",
       "  s.async = true;\n",
       "  s.onreadystatechange = s.onload = callback;\n",
       "  s.onerror = function(){console.warn(\"failed to load library \" + url);};\n",
       "  document.getElementsByTagName(\"head\")[0].appendChild(s);\n",
       "}\n",
       "\n",
       "if(typeof(LDAvis) !== \"undefined\"){\n",
       "   // already loaded: just create the visualization\n",
       "   !function(LDAvis){\n",
       "       new LDAvis(\"#\" + \"ldavis_el1303220032978499367381934483\", ldavis_el1303220032978499367381934483_data);\n",
       "   }(LDAvis);\n",
       "}else if(typeof define === \"function\" && define.amd){\n",
       "   // require.js is available: use it to load d3/LDAvis\n",
       "   require.config({paths: {d3: \"https://d3js.org/d3.v5\"}});\n",
       "   require([\"d3\"], function(d3){\n",
       "      window.d3 = d3;\n",
       "      LDAvis_load_lib(\"https://cdn.jsdelivr.net/gh/bmabey/pyLDAvis@3.4.0/pyLDAvis/js/ldavis.v3.0.0.js\", function(){\n",
       "        new LDAvis(\"#\" + \"ldavis_el1303220032978499367381934483\", ldavis_el1303220032978499367381934483_data);\n",
       "      });\n",
       "    });\n",
       "}else{\n",
       "    // require.js not available: dynamically load d3 & LDAvis\n",
       "    LDAvis_load_lib(\"https://d3js.org/d3.v5.js\", function(){\n",
       "         LDAvis_load_lib(\"https://cdn.jsdelivr.net/gh/bmabey/pyLDAvis@3.4.0/pyLDAvis/js/ldavis.v3.0.0.js\", function(){\n",
       "                 new LDAvis(\"#\" + \"ldavis_el1303220032978499367381934483\", ldavis_el1303220032978499367381934483_data);\n",
       "            })\n",
       "         });\n",
       "}\n",
       "</script>"
      ],
      "text/plain": [
       "<IPython.core.display.HTML object>"
      ]
     },
     "execution_count": 33,
     "metadata": {},
     "output_type": "execute_result"
    }
   ],
   "source": [
    "# PyLDAviz \n",
    "import pyLDAvis.gensim_models\n",
    "import pyLDAvis\n",
    "\n",
    "# Prepare the data for visualization\n",
    "vis_data = pyLDAvis.gensim_models.prepare(lda_model, corpus, dictionary)\n",
    "\n",
    "# Display the visualization\n",
    "pyLDAvis.display(vis_data)"
   ]
  },
  {
   "cell_type": "code",
   "execution_count": 34,
   "metadata": {},
   "outputs": [],
   "source": [
    "html_path = \"./static/charts/pylDAvis.html\"\n",
    "pyLDAvis.save_html(vis_data, html_path)\n"
   ]
  },
  {
   "cell_type": "markdown",
   "metadata": {},
   "source": [
    "# Extract themes for EACH song using LDA"
   ]
  },
  {
   "cell_type": "code",
   "execution_count": 35,
   "metadata": {},
   "outputs": [],
   "source": [
    "#Function to get the dominant topic for a single document\n",
    "def get_dominant_topic(lda_model, corpus_document):\n",
    "    topic_distribution = lda_model.get_document_topics(corpus_document)\n",
    "    dominant_topic = max(topic_distribution, key=lambda x:x[1])\n",
    "    return dominant_topic[0], dominant_topic[1]\n",
    "\n",
    "#apply the function to each doument in the corpus\n",
    "dominant_topics = [get_dominant_topic(lda_model, doc) for doc in corpus]\n",
    "\n",
    "#create a dataframe with the results\n",
    "theme_df = pd.DataFrame(dominant_topics, columns=['Dominant_Topic', 'Topic_Probability'])\n",
    "\n",
    "#add theme df to original df\n",
    "song_theme = pd.concat([song_theme, theme_df], axis=1)\n",
    "\n",
    "#function to get the top N words for a given topic\n",
    "def get_topic_words(lda_model, topic_id, n_words=5):\n",
    "    return [word for word, _ in lda_model.show_topic(topic_id, topn=n_words)]\n",
    "\n",
    "# add a column with the top words for each song's 'dominatn topic\n",
    "song_theme['Topic_Words'] = song_theme['Dominant_Topic'].apply(lambda x:get_topic_words(lda_model, x))\n",
    "\n",
    "\n",
    "# song_theme[['artist','song', 'translated_lyrics', 'Dominant_Topic', 'Topic_Probability', 'Topic_Words']]\n",
    "\n"
   ]
  },
  {
   "cell_type": "code",
   "execution_count": 43,
   "metadata": {},
   "outputs": [],
   "source": [
    "#save df to a csv file \n",
    "csv_path = './Dataset/LDA_sentiment.csv'\n",
    "song_theme.to_csv(csv_path)"
   ]
  },
  {
   "cell_type": "code",
   "execution_count": 44,
   "metadata": {},
   "outputs": [
    {
     "data": {
      "text/html": [
       "<div>\n",
       "<style scoped>\n",
       "    .dataframe tbody tr th:only-of-type {\n",
       "        vertical-align: middle;\n",
       "    }\n",
       "\n",
       "    .dataframe tbody tr th {\n",
       "        vertical-align: top;\n",
       "    }\n",
       "\n",
       "    .dataframe thead th {\n",
       "        text-align: right;\n",
       "    }\n",
       "</style>\n",
       "<table border=\"1\" class=\"dataframe\">\n",
       "  <thead>\n",
       "    <tr style=\"text-align: right;\">\n",
       "      <th></th>\n",
       "      <th>Unnamed: 0</th>\n",
       "      <th>year</th>\n",
       "      <th>artist</th>\n",
       "      <th>song</th>\n",
       "      <th>lyrics</th>\n",
       "      <th>translated_lyrics</th>\n",
       "      <th>tokens</th>\n",
       "      <th>Dominant_Topic</th>\n",
       "      <th>Topic_Probability</th>\n",
       "      <th>Topic_Words</th>\n",
       "    </tr>\n",
       "  </thead>\n",
       "  <tbody>\n",
       "    <tr>\n",
       "      <th>0</th>\n",
       "      <td>0</td>\n",
       "      <td>2014</td>\n",
       "      <td>Ed Sheeran</td>\n",
       "      <td>Thinking out Loud</td>\n",
       "      <td>[Verse 1]\\nWhen your legs don't work like they...</td>\n",
       "      <td>[Verse 1]\\nWhen your legs don't work like they...</td>\n",
       "      <td>['legs', 'work', 'used', 'ca', 'sweep', 'feet'...</td>\n",
       "      <td>7</td>\n",
       "      <td>0.522821</td>\n",
       "      <td>['know', 'run', 'girls', 'back', 'home']</td>\n",
       "    </tr>\n",
       "    <tr>\n",
       "      <th>1</th>\n",
       "      <td>1</td>\n",
       "      <td>2014</td>\n",
       "      <td>Norah Jones</td>\n",
       "      <td>Come Away With Me</td>\n",
       "      <td>[Verse 1]\\nCome away with me in the night\\nCom...</td>\n",
       "      <td>[Verse 1]\\nCome away with me in the night\\nCom...</td>\n",
       "      <td>['come', 'away', 'night', 'come', 'away', 'wri...</td>\n",
       "      <td>1</td>\n",
       "      <td>0.983014</td>\n",
       "      <td>['come', 'sorry', 'know', 'baby', 'never']</td>\n",
       "    </tr>\n",
       "    <tr>\n",
       "      <th>2</th>\n",
       "      <td>2</td>\n",
       "      <td>2014</td>\n",
       "      <td>Troye Sivan</td>\n",
       "      <td>Happy Little Pill</td>\n",
       "      <td>[Verse 1]\\nIn the crowd, alone\\nAnd every seco...</td>\n",
       "      <td>[Verse 1]\\nIn the crowd, alone\\nAnd every seco...</td>\n",
       "      <td>['crowd', 'alone', 'every', 'passing', 'remind...</td>\n",
       "      <td>7</td>\n",
       "      <td>0.993958</td>\n",
       "      <td>['know', 'run', 'girls', 'back', 'home']</td>\n",
       "    </tr>\n",
       "    <tr>\n",
       "      <th>3</th>\n",
       "      <td>3</td>\n",
       "      <td>2014</td>\n",
       "      <td>The Script</td>\n",
       "      <td>Superheroes</td>\n",
       "      <td>[Verse 1]\\nAll her life, she has seen\\nOh the ...</td>\n",
       "      <td>[Verse 1]\\nAll her life, she has seen\\nOh the ...</td>\n",
       "      <td>['life', 'seen', 'meanest', 'side', 'took', 'a...</td>\n",
       "      <td>0</td>\n",
       "      <td>0.995753</td>\n",
       "      <td>['fuck', 'every', 'star', 'day', 'girls']</td>\n",
       "    </tr>\n",
       "    <tr>\n",
       "      <th>4</th>\n",
       "      <td>4</td>\n",
       "      <td>2014</td>\n",
       "      <td>Ellie Goulding</td>\n",
       "      <td>How Long Will I Love You</td>\n",
       "      <td>[Intro]\\nMm\\nMm\\n[Verse 1]\\nHow long will I lo...</td>\n",
       "      <td>[Intro]\\nMm\\nMm\\n[Verse 1]\\nHow long will I lo...</td>\n",
       "      <td>['long', 'love', 'long', 'stars', 'longer', 'l...</td>\n",
       "      <td>2</td>\n",
       "      <td>0.981243</td>\n",
       "      <td>['work', 'ai', 'long', 'go', 'worried']</td>\n",
       "    </tr>\n",
       "  </tbody>\n",
       "</table>\n",
       "</div>"
      ],
      "text/plain": [
       "   Unnamed: 0  year          artist                      song  \\\n",
       "0           0  2014      Ed Sheeran         Thinking out Loud   \n",
       "1           1  2014     Norah Jones         Come Away With Me   \n",
       "2           2  2014     Troye Sivan         Happy Little Pill   \n",
       "3           3  2014      The Script               Superheroes   \n",
       "4           4  2014  Ellie Goulding  How Long Will I Love You   \n",
       "\n",
       "                                              lyrics  \\\n",
       "0  [Verse 1]\\nWhen your legs don't work like they...   \n",
       "1  [Verse 1]\\nCome away with me in the night\\nCom...   \n",
       "2  [Verse 1]\\nIn the crowd, alone\\nAnd every seco...   \n",
       "3  [Verse 1]\\nAll her life, she has seen\\nOh the ...   \n",
       "4  [Intro]\\nMm\\nMm\\n[Verse 1]\\nHow long will I lo...   \n",
       "\n",
       "                                   translated_lyrics  \\\n",
       "0  [Verse 1]\\nWhen your legs don't work like they...   \n",
       "1  [Verse 1]\\nCome away with me in the night\\nCom...   \n",
       "2  [Verse 1]\\nIn the crowd, alone\\nAnd every seco...   \n",
       "3  [Verse 1]\\nAll her life, she has seen\\nOh the ...   \n",
       "4  [Intro]\\nMm\\nMm\\n[Verse 1]\\nHow long will I lo...   \n",
       "\n",
       "                                              tokens  Dominant_Topic  \\\n",
       "0  ['legs', 'work', 'used', 'ca', 'sweep', 'feet'...               7   \n",
       "1  ['come', 'away', 'night', 'come', 'away', 'wri...               1   \n",
       "2  ['crowd', 'alone', 'every', 'passing', 'remind...               7   \n",
       "3  ['life', 'seen', 'meanest', 'side', 'took', 'a...               0   \n",
       "4  ['long', 'love', 'long', 'stars', 'longer', 'l...               2   \n",
       "\n",
       "   Topic_Probability                                 Topic_Words  \n",
       "0           0.522821    ['know', 'run', 'girls', 'back', 'home']  \n",
       "1           0.983014  ['come', 'sorry', 'know', 'baby', 'never']  \n",
       "2           0.993958    ['know', 'run', 'girls', 'back', 'home']  \n",
       "3           0.995753   ['fuck', 'every', 'star', 'day', 'girls']  \n",
       "4           0.981243     ['work', 'ai', 'long', 'go', 'worried']  "
      ]
     },
     "execution_count": 44,
     "metadata": {},
     "output_type": "execute_result"
    }
   ],
   "source": [
    "lda_theme = pd.read_csv(r'./Dataset/LDA_sentiment.csv')\n",
    "lda_theme.head()"
   ]
  },
  {
   "cell_type": "markdown",
   "metadata": {},
   "source": [
    "# LDA SENTIMENT\n",
    "\n",
    "**Understanding the column in dataframe**:\n",
    "\n",
    "- Tokens: \n",
    "    - Tokenized form of the song lyrics\n",
    "\n",
    "- Dominant Topic\n",
    "    - The topic that has the highest probability for the song\n",
    "    - This is useful to understand the primary theme of each song\n",
    "\n",
    "- Topic probability\n",
    "    - The probability of the dominant topic within the song\n",
    "    - It's useful to understand how strongly the topis is represented\n",
    "\n",
    "- Topic words   \n",
    "    - The words associated with each topic.\n",
    "    - It's usefu to interpret what each topic represents"
   ]
  },
  {
   "cell_type": "code",
   "execution_count": 38,
   "metadata": {},
   "outputs": [
    {
     "data": {
      "text/plain": [
       "Index(['Unnamed: 0', 'year', 'artist', 'song', 'play_count', 'tokens',\n",
       "       'Dominant_Topic', 'Topic_Probability', 'Topic_Words'],\n",
       "      dtype='object')"
      ]
     },
     "execution_count": 38,
     "metadata": {},
     "output_type": "execute_result"
    }
   ],
   "source": [
    "lda_theme.columns"
   ]
  },
  {
   "cell_type": "markdown",
   "metadata": {},
   "source": [
    "# Visualize Topic Distribution\n",
    "\n",
    "1) Topic Frequency Distribution: To see how many songs are associated with each topic\n",
    "\n",
    "2) Topic Probability Analysis: \n",
    "    - To see the average probability of each topic\n",
    "    - It represents how strongly each topic is associated with the songs\n",
    "    - It allows us to see which themes are more prevalent/significant in the dataset\n",
    "\n",
    "3) Topic Trends Over Years: To analyze how the prevalence of topics has changed over time\n",
    "\n",
    "4) Heatmap showing the probability of dominant topic for each year from 2014 to 2024\n",
    " \n"
   ]
  },
  {
   "cell_type": "code",
   "execution_count": 75,
   "metadata": {},
   "outputs": [
    {
     "data": {
      "image/png": "[encoded data removed]",
      "text/plain": [
       "<Figure size 370x450 with 1 Axes>"
      ]
     },
     "metadata": {},
     "output_type": "display_data"
    }
   ],
   "source": [
    "import matplotlib.pyplot as plt\n",
    "\n",
    "# topic freq distr\n",
    "topic_distr = lda_theme['Dominant_Topic'].value_counts()\n",
    "\n",
    "topic_distr.plot(kind='bar', figsize=(3.7,4.5), width=0.8)\n",
    "plt.xlabel('Topic')\n",
    "plt.ylabel('Number of Songs')\n",
    "plt.title('Number of Songs per Topic')\n",
    "\n",
    "plt.savefig(\"./static/charts/lda_topic_song_number.png\")\n",
    "\n",
    "plt.show()"
   ]
  },
  {
   "cell_type": "code",
   "execution_count": 46,
   "metadata": {},
   "outputs": [
    {
     "data": {
      "image/png": "[encoded data removed]",
      "text/plain": [
       "<Figure size 400x200 with 1 Axes>"
      ]
     },
     "metadata": {},
     "output_type": "display_data"
    }
   ],
   "source": [
    "average_topic_prob = lda_theme.groupby('Dominant_Topic')['Topic_Probability'].mean()\n",
    "\n",
    "average_topic_prob.plot(kind='bar', figsize=(4,2))\n",
    "plt.xlabel('Topic')\n",
    "plt.ylabel('Average Probability')\n",
    "plt.title('Average Topic Probability per Topic')\n",
    "plt.show()"
   ]
  },
  {
   "cell_type": "code",
   "execution_count": 63,
   "metadata": {},
   "outputs": [
    {
     "data": {
      "application/vnd.plotly.v1+json": {
       "config": {
        "plotlyServerURL": "https://plot.ly"
       },
       "data": [
        {
         "hovertemplate": "Dominant_Topic=0<br>year=%{x}<br>Number_of_songs=%{y}<extra></extra>",
         "legendgroup": "0",
         "line": {
          "color": "#636efa",
          "dash": "solid"
         },
         "marker": {
          "symbol": "circle"
         },
         "mode": "lines+markers",
         "name": "0",
         "orientation": "v",
         "showlegend": true,
         "type": "scatter",
         "x": [
          2014,
          2015,
          2016,
          2017,
          2018,
          2019,
          2020,
          2021,
          2022,
          2023,
          2024
         ],
         "xaxis": "x",
         "y": [
          1,
          2,
          2,
          1,
          1,
          2,
          0,
          2,
          5,
          1,
          3
         ],
         "yaxis": "y"
        },
        {
         "hovertemplate": "Dominant_Topic=1<br>year=%{x}<br>Number_of_songs=%{y}<extra></extra>",
         "legendgroup": "1",
         "line": {
          "color": "#EF553B",
          "dash": "solid"
         },
         "marker": {
          "symbol": "circle"
         },
         "mode": "lines+markers",
         "name": "1",
         "orientation": "v",
         "showlegend": true,
         "type": "scatter",
         "x": [
          2014,
          2015,
          2016,
          2017,
          2018,
          2019,
          2020,
          2021,
          2022,
          2023,
          2024
         ],
         "xaxis": "x",
         "y": [
          2,
          2,
          1,
          4,
          4,
          2,
          3,
          2,
          0,
          2,
          1
         ],
         "yaxis": "y"
        },
        {
         "hovertemplate": "Dominant_Topic=2<br>year=%{x}<br>Number_of_songs=%{y}<extra></extra>",
         "legendgroup": "2",
         "line": {
          "color": "#00cc96",
          "dash": "solid"
         },
         "marker": {
          "symbol": "circle"
         },
         "mode": "lines+markers",
         "name": "2",
         "orientation": "v",
         "showlegend": true,
         "type": "scatter",
         "x": [
          2014,
          2015,
          2016,
          2017,
          2018,
          2019,
          2020,
          2021,
          2022,
          2023,
          2024
         ],
         "xaxis": "x",
         "y": [
          1,
          1,
          0,
          0,
          1,
          1,
          2,
          0,
          3,
          1,
          0
         ],
         "yaxis": "y"
        },
        {
         "hovertemplate": "Dominant_Topic=3<br>year=%{x}<br>Number_of_songs=%{y}<extra></extra>",
         "legendgroup": "3",
         "line": {
          "color": "#ab63fa",
          "dash": "solid"
         },
         "marker": {
          "symbol": "circle"
         },
         "mode": "lines+markers",
         "name": "3",
         "orientation": "v",
         "showlegend": true,
         "type": "scatter",
         "x": [
          2014,
          2015,
          2016,
          2017,
          2018,
          2019,
          2020,
          2021,
          2022,
          2023,
          2024
         ],
         "xaxis": "x",
         "y": [
          0,
          1,
          2,
          0,
          1,
          3,
          1,
          2,
          1,
          2,
          0
         ],
         "yaxis": "y"
        },
        {
         "hovertemplate": "Dominant_Topic=4<br>year=%{x}<br>Number_of_songs=%{y}<extra></extra>",
         "legendgroup": "4",
         "line": {
          "color": "#FFA15A",
          "dash": "solid"
         },
         "marker": {
          "symbol": "circle"
         },
         "mode": "lines+markers",
         "name": "4",
         "orientation": "v",
         "showlegend": true,
         "type": "scatter",
         "x": [
          2014,
          2015,
          2016,
          2017,
          2018,
          2019,
          2020,
          2021,
          2022,
          2023,
          2024
         ],
         "xaxis": "x",
         "y": [
          0,
          0,
          2,
          2,
          1,
          1,
          4,
          5,
          1,
          1,
          1
         ],
         "yaxis": "y"
        },
        {
         "hovertemplate": "Dominant_Topic=5<br>year=%{x}<br>Number_of_songs=%{y}<extra></extra>",
         "legendgroup": "5",
         "line": {
          "color": "#19d3f3",
          "dash": "solid"
         },
         "marker": {
          "symbol": "circle"
         },
         "mode": "lines+markers",
         "name": "5",
         "orientation": "v",
         "showlegend": true,
         "type": "scatter",
         "x": [
          2014,
          2015,
          2016,
          2017,
          2018,
          2019,
          2020,
          2021,
          2022,
          2023,
          2024
         ],
         "xaxis": "x",
         "y": [
          5,
          3,
          0,
          1,
          2,
          2,
          0,
          1,
          1,
          2,
          3
         ],
         "yaxis": "y"
        },
        {
         "hovertemplate": "Dominant_Topic=6<br>year=%{x}<br>Number_of_songs=%{y}<extra></extra>",
         "legendgroup": "6",
         "line": {
          "color": "#FF6692",
          "dash": "solid"
         },
         "marker": {
          "symbol": "circle"
         },
         "mode": "lines+markers",
         "name": "6",
         "orientation": "v",
         "showlegend": true,
         "type": "scatter",
         "x": [
          2014,
          2015,
          2016,
          2017,
          2018,
          2019,
          2020,
          2021,
          2022,
          2023,
          2024
         ],
         "xaxis": "x",
         "y": [
          1,
          2,
          1,
          0,
          1,
          1,
          1,
          2,
          1,
          0,
          0
         ],
         "yaxis": "y"
        },
        {
         "hovertemplate": "Dominant_Topic=7<br>year=%{x}<br>Number_of_songs=%{y}<extra></extra>",
         "legendgroup": "7",
         "line": {
          "color": "#B6E880",
          "dash": "solid"
         },
         "marker": {
          "symbol": "circle"
         },
         "mode": "lines+markers",
         "name": "7",
         "orientation": "v",
         "showlegend": true,
         "type": "scatter",
         "x": [
          2014,
          2015,
          2016,
          2017,
          2018,
          2019,
          2020,
          2021,
          2022,
          2023,
          2024
         ],
         "xaxis": "x",
         "y": [
          4,
          1,
          2,
          3,
          2,
          2,
          1,
          0,
          1,
          1,
          3
         ],
         "yaxis": "y"
        },
        {
         "hovertemplate": "Dominant_Topic=8<br>year=%{x}<br>Number_of_songs=%{y}<extra></extra>",
         "legendgroup": "8",
         "line": {
          "color": "#FF97FF",
          "dash": "solid"
         },
         "marker": {
          "symbol": "circle"
         },
         "mode": "lines+markers",
         "name": "8",
         "orientation": "v",
         "showlegend": true,
         "type": "scatter",
         "x": [
          2014,
          2015,
          2016,
          2017,
          2018,
          2019,
          2020,
          2021,
          2022,
          2023,
          2024
         ],
         "xaxis": "x",
         "y": [
          0,
          2,
          2,
          2,
          0,
          1,
          0,
          0,
          0,
          1,
          1
         ],
         "yaxis": "y"
        },
        {
         "hovertemplate": "Dominant_Topic=9<br>year=%{x}<br>Number_of_songs=%{y}<extra></extra>",
         "legendgroup": "9",
         "line": {
          "color": "#FECB52",
          "dash": "solid"
         },
         "marker": {
          "symbol": "circle"
         },
         "mode": "lines+markers",
         "name": "9",
         "orientation": "v",
         "showlegend": true,
         "type": "scatter",
         "x": [
          2014,
          2015,
          2016,
          2017,
          2018,
          2019,
          2020,
          2021,
          2022,
          2023,
          2024
         ],
         "xaxis": "x",
         "y": [
          1,
          1,
          3,
          2,
          2,
          0,
          3,
          1,
          2,
          4,
          3
         ],
         "yaxis": "y"
        }
       ],
       "layout": {
        "font": {
         "color": "white"
        },
        "height": 400,
        "legend": {
         "font": {
          "color": "white"
         },
         "title": {
          "text": "Topic"
         },
         "tracegroupgap": 0
        },
        "paper_bgcolor": "rgb(30, 30, 30)",
        "plot_bgcolor": "rgb(30, 30, 30)",
        "template": {
         "data": {
          "bar": [
           {
            "error_x": {
             "color": "#2a3f5f"
            },
            "error_y": {
             "color": "#2a3f5f"
            },
            "marker": {
             "line": {
              "color": "#E5ECF6",
              "width": 0.5
             },
             "pattern": {
              "fillmode": "overlay",
              "size": 10,
              "solidity": 0.2
             }
            },
            "type": "bar"
           }
          ],
          "barpolar": [
           {
            "marker": {
             "line": {
              "color": "#E5ECF6",
              "width": 0.5
             },
             "pattern": {
              "fillmode": "overlay",
              "size": 10,
              "solidity": 0.2
             }
            },
            "type": "barpolar"
           }
          ],
          "carpet": [
           {
            "aaxis": {
             "endlinecolor": "#2a3f5f",
             "gridcolor": "white",
             "linecolor": "white",
             "minorgridcolor": "white",
             "startlinecolor": "#2a3f5f"
            },
            "baxis": {
             "endlinecolor": "#2a3f5f",
             "gridcolor": "white",
             "linecolor": "white",
             "minorgridcolor": "white",
             "startlinecolor": "#2a3f5f"
            },
            "type": "carpet"
           }
          ],
          "choropleth": [
           {
            "colorbar": {
             "outlinewidth": 0,
             "ticks": ""
            },
            "type": "choropleth"
           }
          ],
          "contour": [
           {
            "colorbar": {
             "outlinewidth": 0,
             "ticks": ""
            },
            "colorscale": [
             [
              0,
              "#0d0887"
             ],
             [
              0.1111111111111111,
              "#46039f"
             ],
             [
              0.2222222222222222,
              "#7201a8"
             ],
             [
              0.3333333333333333,
              "#9c179e"
             ],
             [
              0.4444444444444444,
              "#bd3786"
             ],
             [
              0.5555555555555556,
              "#d8576b"
             ],
             [
              0.6666666666666666,
              "#ed7953"
             ],
             [
              0.7777777777777778,
              "#fb9f3a"
             ],
             [
              0.8888888888888888,
              "#fdca26"
             ],
             [
              1,
              "#f0f921"
             ]
            ],
            "type": "contour"
           }
          ],
          "contourcarpet": [
           {
            "colorbar": {
             "outlinewidth": 0,
             "ticks": ""
            },
            "type": "contourcarpet"
           }
          ],
          "heatmap": [
           {
            "colorbar": {
             "outlinewidth": 0,
             "ticks": ""
            },
            "colorscale": [
             [
              0,
              "#0d0887"
             ],
             [
              0.1111111111111111,
              "#46039f"
             ],
             [
              0.2222222222222222,
              "#7201a8"
             ],
             [
              0.3333333333333333,
              "#9c179e"
             ],
             [
              0.4444444444444444,
              "#bd3786"
             ],
             [
              0.5555555555555556,
              "#d8576b"
             ],
             [
              0.6666666666666666,
              "#ed7953"
             ],
             [
              0.7777777777777778,
              "#fb9f3a"
             ],
             [
              0.8888888888888888,
              "#fdca26"
             ],
             [
              1,
              "#f0f921"
             ]
            ],
            "type": "heatmap"
           }
          ],
          "heatmapgl": [
           {
            "colorbar": {
             "outlinewidth": 0,
             "ticks": ""
            },
            "colorscale": [
             [
              0,
              "#0d0887"
             ],
             [
              0.1111111111111111,
              "#46039f"
             ],
             [
              0.2222222222222222,
              "#7201a8"
             ],
             [
              0.3333333333333333,
              "#9c179e"
             ],
             [
              0.4444444444444444,
              "#bd3786"
             ],
             [
              0.5555555555555556,
              "#d8576b"
             ],
             [
              0.6666666666666666,
              "#ed7953"
             ],
             [
              0.7777777777777778,
              "#fb9f3a"
             ],
             [
              0.8888888888888888,
              "#fdca26"
             ],
             [
              1,
              "#f0f921"
             ]
            ],
            "type": "heatmapgl"
           }
          ],
          "histogram": [
           {
            "marker": {
             "pattern": {
              "fillmode": "overlay",
              "size": 10,
              "solidity": 0.2
             }
            },
            "type": "histogram"
           }
          ],
          "histogram2d": [
           {
            "colorbar": {
             "outlinewidth": 0,
             "ticks": ""
            },
            "colorscale": [
             [
              0,
              "#0d0887"
             ],
             [
              0.1111111111111111,
              "#46039f"
             ],
             [
              0.2222222222222222,
              "#7201a8"
             ],
             [
              0.3333333333333333,
              "#9c179e"
             ],
             [
              0.4444444444444444,
              "#bd3786"
             ],
             [
              0.5555555555555556,
              "#d8576b"
             ],
             [
              0.6666666666666666,
              "#ed7953"
             ],
             [
              0.7777777777777778,
              "#fb9f3a"
             ],
             [
              0.8888888888888888,
              "#fdca26"
             ],
             [
              1,
              "#f0f921"
             ]
            ],
            "type": "histogram2d"
           }
          ],
          "histogram2dcontour": [
           {
            "colorbar": {
             "outlinewidth": 0,
             "ticks": ""
            },
            "colorscale": [
             [
              0,
              "#0d0887"
             ],
             [
              0.1111111111111111,
              "#46039f"
             ],
             [
              0.2222222222222222,
              "#7201a8"
             ],
             [
              0.3333333333333333,
              "#9c179e"
             ],
             [
              0.4444444444444444,
              "#bd3786"
             ],
             [
              0.5555555555555556,
              "#d8576b"
             ],
             [
              0.6666666666666666,
              "#ed7953"
             ],
             [
              0.7777777777777778,
              "#fb9f3a"
             ],
             [
              0.8888888888888888,
              "#fdca26"
             ],
             [
              1,
              "#f0f921"
             ]
            ],
            "type": "histogram2dcontour"
           }
          ],
          "mesh3d": [
           {
            "colorbar": {
             "outlinewidth": 0,
             "ticks": ""
            },
            "type": "mesh3d"
           }
          ],
          "parcoords": [
           {
            "line": {
             "colorbar": {
              "outlinewidth": 0,
              "ticks": ""
             }
            },
            "type": "parcoords"
           }
          ],
          "pie": [
           {
            "automargin": true,
            "type": "pie"
           }
          ],
          "scatter": [
           {
            "fillpattern": {
             "fillmode": "overlay",
             "size": 10,
             "solidity": 0.2
            },
            "type": "scatter"
           }
          ],
          "scatter3d": [
           {
            "line": {
             "colorbar": {
              "outlinewidth": 0,
              "ticks": ""
             }
            },
            "marker": {
             "colorbar": {
              "outlinewidth": 0,
              "ticks": ""
             }
            },
            "type": "scatter3d"
           }
          ],
          "scattercarpet": [
           {
            "marker": {
             "colorbar": {
              "outlinewidth": 0,
              "ticks": ""
             }
            },
            "type": "scattercarpet"
           }
          ],
          "scattergeo": [
           {
            "marker": {
             "colorbar": {
              "outlinewidth": 0,
              "ticks": ""
             }
            },
            "type": "scattergeo"
           }
          ],
          "scattergl": [
           {
            "marker": {
             "colorbar": {
              "outlinewidth": 0,
              "ticks": ""
             }
            },
            "type": "scattergl"
           }
          ],
          "scattermapbox": [
           {
            "marker": {
             "colorbar": {
              "outlinewidth": 0,
              "ticks": ""
             }
            },
            "type": "scattermapbox"
           }
          ],
          "scatterpolar": [
           {
            "marker": {
             "colorbar": {
              "outlinewidth": 0,
              "ticks": ""
             }
            },
            "type": "scatterpolar"
           }
          ],
          "scatterpolargl": [
           {
            "marker": {
             "colorbar": {
              "outlinewidth": 0,
              "ticks": ""
             }
            },
            "type": "scatterpolargl"
           }
          ],
          "scatterternary": [
           {
            "marker": {
             "colorbar": {
              "outlinewidth": 0,
              "ticks": ""
             }
            },
            "type": "scatterternary"
           }
          ],
          "surface": [
           {
            "colorbar": {
             "outlinewidth": 0,
             "ticks": ""
            },
            "colorscale": [
             [
              0,
              "#0d0887"
             ],
             [
              0.1111111111111111,
              "#46039f"
             ],
             [
              0.2222222222222222,
              "#7201a8"
             ],
             [
              0.3333333333333333,
              "#9c179e"
             ],
             [
              0.4444444444444444,
              "#bd3786"
             ],
             [
              0.5555555555555556,
              "#d8576b"
             ],
             [
              0.6666666666666666,
              "#ed7953"
             ],
             [
              0.7777777777777778,
              "#fb9f3a"
             ],
             [
              0.8888888888888888,
              "#fdca26"
             ],
             [
              1,
              "#f0f921"
             ]
            ],
            "type": "surface"
           }
          ],
          "table": [
           {
            "cells": {
             "fill": {
              "color": "#EBF0F8"
             },
             "line": {
              "color": "white"
             }
            },
            "header": {
             "fill": {
              "color": "#C8D4E3"
             },
             "line": {
              "color": "white"
             }
            },
            "type": "table"
           }
          ]
         },
         "layout": {
          "annotationdefaults": {
           "arrowcolor": "#2a3f5f",
           "arrowhead": 0,
           "arrowwidth": 1
          },
          "autotypenumbers": "strict",
          "coloraxis": {
           "colorbar": {
            "outlinewidth": 0,
            "ticks": ""
           }
          },
          "colorscale": {
           "diverging": [
            [
             0,
             "#8e0152"
            ],
            [
             0.1,
             "#c51b7d"
            ],
            [
             0.2,
             "#de77ae"
            ],
            [
             0.3,
             "#f1b6da"
            ],
            [
             0.4,
             "#fde0ef"
            ],
            [
             0.5,
             "#f7f7f7"
            ],
            [
             0.6,
             "#e6f5d0"
            ],
            [
             0.7,
             "#b8e186"
            ],
            [
             0.8,
             "#7fbc41"
            ],
            [
             0.9,
             "#4d9221"
            ],
            [
             1,
             "#276419"
            ]
           ],
           "sequential": [
            [
             0,
             "#0d0887"
            ],
            [
             0.1111111111111111,
             "#46039f"
            ],
            [
             0.2222222222222222,
             "#7201a8"
            ],
            [
             0.3333333333333333,
             "#9c179e"
            ],
            [
             0.4444444444444444,
             "#bd3786"
            ],
            [
             0.5555555555555556,
             "#d8576b"
            ],
            [
             0.6666666666666666,
             "#ed7953"
            ],
            [
             0.7777777777777778,
             "#fb9f3a"
            ],
            [
             0.8888888888888888,
             "#fdca26"
            ],
            [
             1,
             "#f0f921"
            ]
           ],
           "sequentialminus": [
            [
             0,
             "#0d0887"
            ],
            [
             0.1111111111111111,
             "#46039f"
            ],
            [
             0.2222222222222222,
             "#7201a8"
            ],
            [
             0.3333333333333333,
             "#9c179e"
            ],
            [
             0.4444444444444444,
             "#bd3786"
            ],
            [
             0.5555555555555556,
             "#d8576b"
            ],
            [
             0.6666666666666666,
             "#ed7953"
            ],
            [
             0.7777777777777778,
             "#fb9f3a"
            ],
            [
             0.8888888888888888,
             "#fdca26"
            ],
            [
             1,
             "#f0f921"
            ]
           ]
          },
          "colorway": [
           "#636efa",
           "#EF553B",
           "#00cc96",
           "#ab63fa",
           "#FFA15A",
           "#19d3f3",
           "#FF6692",
           "#B6E880",
           "#FF97FF",
           "#FECB52"
          ],
          "font": {
           "color": "#2a3f5f"
          },
          "geo": {
           "bgcolor": "white",
           "lakecolor": "white",
           "landcolor": "#E5ECF6",
           "showlakes": true,
           "showland": true,
           "subunitcolor": "white"
          },
          "hoverlabel": {
           "align": "left"
          },
          "hovermode": "closest",
          "mapbox": {
           "style": "light"
          },
          "paper_bgcolor": "white",
          "plot_bgcolor": "#E5ECF6",
          "polar": {
           "angularaxis": {
            "gridcolor": "white",
            "linecolor": "white",
            "ticks": ""
           },
           "bgcolor": "#E5ECF6",
           "radialaxis": {
            "gridcolor": "white",
            "linecolor": "white",
            "ticks": ""
           }
          },
          "scene": {
           "xaxis": {
            "backgroundcolor": "#E5ECF6",
            "gridcolor": "white",
            "gridwidth": 2,
            "linecolor": "white",
            "showbackground": true,
            "ticks": "",
            "zerolinecolor": "white"
           },
           "yaxis": {
            "backgroundcolor": "#E5ECF6",
            "gridcolor": "white",
            "gridwidth": 2,
            "linecolor": "white",
            "showbackground": true,
            "ticks": "",
            "zerolinecolor": "white"
           },
           "zaxis": {
            "backgroundcolor": "#E5ECF6",
            "gridcolor": "white",
            "gridwidth": 2,
            "linecolor": "white",
            "showbackground": true,
            "ticks": "",
            "zerolinecolor": "white"
           }
          },
          "shapedefaults": {
           "line": {
            "color": "#2a3f5f"
           }
          },
          "ternary": {
           "aaxis": {
            "gridcolor": "white",
            "linecolor": "white",
            "ticks": ""
           },
           "baxis": {
            "gridcolor": "white",
            "linecolor": "white",
            "ticks": ""
           },
           "bgcolor": "#E5ECF6",
           "caxis": {
            "gridcolor": "white",
            "linecolor": "white",
            "ticks": ""
           }
          },
          "title": {
           "x": 0.05
          },
          "xaxis": {
           "automargin": true,
           "gridcolor": "white",
           "linecolor": "white",
           "ticks": "",
           "title": {
            "standoff": 15
           },
           "zerolinecolor": "white",
           "zerolinewidth": 2
          },
          "yaxis": {
           "automargin": true,
           "gridcolor": "white",
           "linecolor": "white",
           "ticks": "",
           "title": {
            "standoff": 15
           },
           "zerolinecolor": "white",
           "zerolinewidth": 2
          }
         }
        },
        "title": {
         "font": {
          "color": "white",
          "size": 25
         },
         "text": "Topic Trends over Years"
        },
        "width": 830,
        "xaxis": {
         "anchor": "y",
         "domain": [
          0,
          1
         ],
         "gridcolor": "rgb(169, 169, 169)",
         "linecolor": "white",
         "linewidth": 2,
         "range": [
          2014,
          2024
         ],
         "showgrid": true,
         "showline": true,
         "tickangle": 45,
         "title": {
          "text": "Year"
         },
         "type": "linear"
        },
        "yaxis": {
         "anchor": "x",
         "domain": [
          0,
          1
         ],
         "gridcolor": "rgb(169, 169, 169)",
         "linecolor": "white",
         "linewidth": 2,
         "showgrid": true,
         "showline": true,
         "title": {
          "text": "Number of Songs"
         }
        }
       }
      }
     },
     "metadata": {},
     "output_type": "display_data"
    }
   ],
   "source": [
    "import pandas as pd\n",
    "import matplotlib.pyplot as plt\n",
    "import plotly.express as px\n",
    "\n",
    "topic_year_trends = lda_theme.groupby(['year', 'Dominant_Topic']).size().unstack(fill_value=0)\n",
    "\n",
    "topic_year_trends_df = topic_year_trends.reset_index()\n",
    "\n",
    "# melt the df to long format \n",
    "topic_long_df = topic_year_trends_df.melt(id_vars=['year'], var_name='Dominant_Topic', value_name='Number_of_songs')\n",
    "\n",
    "\n",
    "fig = px.line(\n",
    "    topic_long_df,\n",
    "    x='year',\n",
    "    y='Number_of_songs',\n",
    "    color='Dominant_Topic',\n",
    "    title='Topic Trends over Years',\n",
    "    markers=True\n",
    ")\n",
    "\n",
    "# treat x-axis as linear scale\n",
    "fig.update_xaxes(type='linear', range=[lda_theme['year'].min(), lda_theme['year'].max()])\n",
    "\n",
    "fig.update_layout(\n",
    "    legend_title_text='Topic', xaxis_title='Year', yaxis_title='Number of Songs',\n",
    "    plot_bgcolor='rgb(30, 30, 30)',  # Dark background for the plot area\n",
    "    paper_bgcolor='rgb(30, 30, 30)',  # Dark background for the entire paper\n",
    "    font=dict(color='white'),  # White text color\n",
    "    title=dict(\n",
    "        font=dict(size=25, color='white')  # White color for the title\n",
    "    ),\n",
    "    xaxis=dict(\n",
    "        showgrid=True,\n",
    "        gridcolor='rgb(169, 169, 169)',  # Light gridlines\n",
    "        tickangle=45,\n",
    "        showline=True,\n",
    "        linewidth=2,\n",
    "        linecolor='white'\n",
    "    ),\n",
    "    yaxis=dict(\n",
    "        showgrid=True,\n",
    "        gridcolor='rgb(169, 169, 169)',  # Light gridlines\n",
    "        showline=True,\n",
    "        linewidth=2,\n",
    "        linecolor='white'\n",
    "    ),\n",
    "    legend=dict(\n",
    "        font=dict(color='white')  # White legend text\n",
    "    ), \n",
    "    width=830,\n",
    "    height=400\n",
    ")\n",
    "\n",
    "fig.write_html(\"./static/charts/lda_topic_trend.html\")\n",
    "\n",
    "fig.show()"
   ]
  },
  {
   "cell_type": "code",
   "execution_count": 42,
   "metadata": {},
   "outputs": [
    {
     "name": "stdout",
     "output_type": "stream",
     "text": [
      "Topic 4: ['love', 'know', 'body', 'touch', 'used']\n",
      "Topic 7: ['every', 'love', 'day', 'baby', 'want']\n",
      "Topic 9: ['girls', 'run', 'world', 'know', 'little']\n",
      "Topic 5: ['somebody', 'love', 'fuck', 'find', 'come']\n",
      "Topic 3: ['try', 'never', 'get', 'fall', 'meant']\n",
      "Topic 8: ['go', 'let', 'want', 'need', 'never']\n",
      "Topic 0: ['star', 'dancing', 'make', 'know', 'money']\n",
      "Topic 1: ['baby', 'know', 'side', 'rain', 'come']\n",
      "Topic 6: ['work', 'lose', 'night', 'kiss', 'always']\n",
      "Topic 2: ['know', 'wake', 'middle', 'good', 'let']\n"
     ]
    }
   ],
   "source": [
    "# Text and topic interpretation\n",
    "for idx, row in lda_theme[['Dominant_Topic', 'Topic_Words']].drop_duplicates().iterrows():\n",
    "    print(f\"Topic {row['Dominant_Topic']}: {row['Topic_Words']}\")"
   ]
  },
  {
   "cell_type": "markdown",
   "metadata": {},
   "source": [
    "\n",
    "**Heatmap showing the probability of dominant topic for each year from 2014 to 2024**\n",
    "\n",
    "- It's important to normalize the data to ensure the values represent the relative importance or dominance of eahc topic within that year, regarldess of number of songs. \n",
    "- I'll include the song play count into the heatmap to give more weight to the songs that I listened to more often. \n",
    "- This will lead to a more accurate refelction of how dominant each topic truly was in my listening habits. \n",
    "- calculate weighted probability:\n",
    "    * sum of play counts for that topic / total play counts for that year "
   ]
  },
  {
   "cell_type": "code",
   "execution_count": null,
   "metadata": {},
   "outputs": [],
   "source": [
    "\n"
   ]
  },
  {
   "cell_type": "code",
   "execution_count": null,
   "metadata": {},
   "outputs": [],
   "source": []
  },
  {
   "cell_type": "code",
   "execution_count": null,
   "metadata": {},
   "outputs": [],
   "source": []
  },
  {
   "cell_type": "code",
   "execution_count": null,
   "metadata": {},
   "outputs": [],
   "source": []
  }
 ],
 "metadata": {
  "kernelspec": {
   "display_name": "base",
   "language": "python",
   "name": "python3"
  },
  "language_info": {
   "codemirror_mode": {
    "name": "ipython",
    "version": 3
   },
   "file_extension": ".py",
   "mimetype": "text/x-python",
   "name": "python",
   "nbconvert_exporter": "python",
   "pygments_lexer": "ipython3",
   "version": "3.12.3"
  }
 },
 "nbformat": 4,
 "nbformat_minor": 2
}
