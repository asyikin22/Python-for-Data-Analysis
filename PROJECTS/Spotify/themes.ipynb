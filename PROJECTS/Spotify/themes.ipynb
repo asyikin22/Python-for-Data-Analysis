{
 "cells": [
  {
   "cell_type": "code",
   "execution_count": 16,
   "metadata": {},
   "outputs": [
    {
     "data": {
      "text/plain": [
       "Index(['year', 'artist', 'song', 'lyrics'], dtype='object')"
      ]
     },
     "execution_count": 16,
     "metadata": {},
     "output_type": "execute_result"
    }
   ],
   "source": [
    "import pandas as pd\n",
    "\n",
    "song_theme = pd.read_json('./Dataset/top_songs_lyrics.json')\n",
    "song_theme.columns"
   ]
  },
  {
   "cell_type": "markdown",
   "metadata": {},
   "source": [
    "# Latent Dirichlet Allocation (LDA) - 165 songs\n",
    "\n",
    "**Three major ideas**\n",
    "- Translate songs in native language to english\n",
    "- pre-processing: Clean and tokenize the translated lyrics, remove stopwords (common and custom)\n",
    "- Topic Modelling: Create an LDA model to identify topics within the song lyrics\n",
    "\n",
    "**Detailed Steps**\n",
    "1) Importing libraries\n",
    "    - googletrans: handle text transaltion\n",
    "    - string: provides constants for string manipulation \n",
    "    - nltk: A toolkit for natural language processing (NLP)\n",
    "    - gensim: Used for topic modelling\n",
    "\n",
    "2) Initialize Translator\n",
    "\n",
    "3) Define Translation Function\n",
    "\n",
    "4) Translate Lyrics\n",
    "\n",
    "5) Define Stopwords\n",
    "    - default_stopwords: default set of english stopwords from NLTK\n",
    "    - custom_stopwords: I manually added them.\n",
    "\n",
    "6) Pre-process Lyrics Function\n",
    "    - Remove punctuation\n",
    "    - convert lyrics to lowercase\n",
    "    - tokenize lyrics into words\n",
    "    - filter out non-alphabetic words and stopwords\n",
    "\n",
    "7) Apply pre-preprocessing\n",
    "    \n",
    "8) Perform Topic Modelling with LDA\n",
    "    - dictionary: maps each unqiue word to an ID\n",
    "    - corpus: transform the tokens into a bag-of-words format\n",
    "    - lda_model: creates an LDA model with 10 topics and trains it on the corpus for 15 passes \n",
    "    - extracts and prints the top 5 words for each topic found by the LDA model\n"
   ]
  },
  {
   "cell_type": "code",
   "execution_count": 139,
   "metadata": {},
   "outputs": [
    {
     "name": "stdout",
     "output_type": "stream",
     "text": [
      "(0, '0.019*\"star\" + 0.018*\"love\" + 0.016*\"home\" + 0.013*\"next\" + 0.011*\"thank\"')\n",
      "(1, '0.019*\"know\" + 0.013*\"side\" + 0.012*\"want\" + 0.011*\"let\" + 0.011*\"got\"')\n",
      "(2, '0.025*\"low\" + 0.022*\"love\" + 0.018*\"try\" + 0.017*\"girls\" + 0.014*\"know\"')\n",
      "(3, '0.022*\"love\" + 0.022*\"got\" + 0.015*\"one\" + 0.014*\"somebody\" + 0.013*\"baby\"')\n",
      "(4, '0.017*\"every\" + 0.015*\"know\" + 0.013*\"let\" + 0.013*\"love\" + 0.013*\"baby\"')\n"
     ]
    }
   ],
   "source": [
    "from deep_translator import GoogleTranslator\n",
    "import string\n",
    "import nltk\n",
    "from nltk.corpus import stopwords\n",
    "from nltk.tokenize import word_tokenize\n",
    "from gensim import corpora, models\n",
    "\n",
    "# #download stopwords\n",
    "# nltk.download('stopwords')\n",
    "# nltk.download('punkt')\n",
    "\n",
    "#initilaize translator \n",
    "translator = GoogleTranslator(source='auto', target='en')\n",
    "\n",
    "#define function to translate lyrics to english\n",
    "def translate_lyrics(lyrics):\n",
    "    try:\n",
    "        return translator.translate(lyrics)\n",
    "    except Exception as e:\n",
    "        print (f'Error in Transaltion: {e}')\n",
    "        return lyrics\n",
    "\n",
    "#translate lyrics to english\n",
    "song_theme['translated_lyrics'] = song_theme['lyrics'].apply(translate_lyrics)\n",
    "\n",
    "# get the list of stopwords - default & custom\n",
    "default_stopwords = set(stopwords.words('english'))\n",
    "custom_stopwords = default_stopwords.union(\n",
    "    {'verse', 'chorus', '–', 'im', 'oh', 'na', 'yeah','ooh', 'wan', 'ill', 'youre', '2', '1', \n",
    "     'ft', 'like', 'prechorus','la',  'woah', 'gettin', 'postchorus', 'mmm', 'mxrxgxa', 'da',\n",
    "     'ah', 'gon', 'ya', \"’\", 'thats', 'outro', 'ive', 'hey', 'montenero','gioielli','del', 'zyrtck',\n",
    "     'bridge', 'dj', 'ta', 'em', 'youd', 'didnt', 'nothin', 'ayy','redrum', 'ohoh', 'ariana', 'vacca', 'bout', 'grande', \n",
    "     '21', 'youve', 'youll', 'somethin', 'beyoncé', 'id', 'smack', 'yo', 'freestyle','di', 'intro', 'woo', 'might', 'il', 'non', 'uh', 'mm',\n",
    "     'hes', 'ima', 'e', 'x', 'itll','could', 'ee', 'comin', 'lil', 'shes', '3', 'halo', 'whats', 'thank',\n",
    "     'gionni', 'gunz', 'ride', 'blow', 'black','mutha', 'uhoh', 'pai', 'zeno', 'wouldnt', 'air',\n",
    "     'egreen', 'toni', 'georgia', 'throw', 'nah','doesnt', 'cassel', 'oohoohoohooh', 'huh','goin', 'cleanin', 'claver', 'closet', \n",
    "     'nex', 'michaels', 'per', 'line','shall', 'ele', 'fit', 'ho', 'jp', 'joe', 'smokestackstudio', 'getting', 'aleaka',\n",
    "     })\n",
    "\n",
    "#pre-process the lyrics function\n",
    "def preprocess_lyrics(lyrics):\n",
    "    translator = str.maketrans('', '', string.punctuation)\n",
    "    tokens = word_tokenize(lyrics.lower())\n",
    "    tokens = [word for word in tokens if word.isalpha() and word not in custom_stopwords]\n",
    "    return tokens\n",
    "\n",
    "#apply pre-processing using the TRANSLATED lyrics\n",
    "song_theme['tokens'] = song_theme['translated_lyrics'].apply(preprocess_lyrics)\n",
    "\n",
    "#PERFORM TOPIC MODELLING\n",
    "\n",
    "#create dictionary and corpus for LDA\n",
    "dictionary = corpora.Dictionary(song_theme['tokens'])\n",
    "corpus = [dictionary.doc2bow(text) for text in song_theme['tokens']]\n",
    "\n",
    "#build LDA model\n",
    "lda_model = models.LdaModel(corpus, num_topics=5, id2word=dictionary, passes=15, random_state=42)\n",
    "\n",
    "#print topics \n",
    "topics = lda_model.print_topics(num_words=5)\n",
    "for topic in topics:\n",
    "    print(topic)"
   ]
  },
  {
   "cell_type": "markdown",
   "metadata": {},
   "source": [
    "# Visualize distribution of Topics from LDA model\n",
    "\n",
    "1) Visualize topic distibution per document\n",
    "    - a document refers to individual unit of text that's being analzyed.\n",
    "    - i have 165 songs in my data frame, it means i have 165 documents\n",
    "    - aka 'Corpus'\n",
    "    \n",
    "2) Visualize topic distribution using pyLDAvis"
   ]
  },
  {
   "cell_type": "code",
   "execution_count": 133,
   "metadata": {},
   "outputs": [
    {
     "data": {
      "application/vnd.plotly.v1+json": {
       "config": {
        "plotlyServerURL": "https://plot.ly"
       },
       "data": [
        {
         "name": "Topic 1",
         "orientation": "h",
         "type": "bar",
         "x": [
          0.017,
          0.017,
          0.016,
          0.015,
          0.013
         ],
         "xaxis": "x",
         "y": [
          "work",
          "want",
          "back",
          "baby",
          "side"
         ],
         "yaxis": "y"
        },
        {
         "name": "Topic 2",
         "orientation": "h",
         "type": "bar",
         "x": [
          0.029,
          0.021,
          0.019,
          0.013,
          0.012
         ],
         "xaxis": "x2",
         "y": [
          "love",
          "know",
          "girls",
          "fuck",
          "go"
         ],
         "yaxis": "y2"
        },
        {
         "name": "Topic 3",
         "orientation": "h",
         "type": "bar",
         "x": [
          0.024,
          0.01,
          0.01,
          0.01,
          0.01
         ],
         "xaxis": "x3",
         "y": [
          "never",
          "tonight",
          "love",
          "alone",
          "take"
         ],
         "yaxis": "y3"
        },
        {
         "name": "Topic 4",
         "orientation": "h",
         "type": "bar",
         "x": [
          0.023,
          0.021,
          0.021,
          0.018,
          0.015
         ],
         "xaxis": "x4",
         "y": [
          "love",
          "try",
          "somebody",
          "baby",
          "find"
         ],
         "yaxis": "y4"
        },
        {
         "name": "Topic 5",
         "orientation": "h",
         "type": "bar",
         "x": [
          0.021,
          0.021,
          0.015,
          0.015,
          0.012
         ],
         "xaxis": "x5",
         "y": [
          "know",
          "love",
          "come",
          "let",
          "go"
         ],
         "yaxis": "y5"
        }
       ],
       "layout": {
        "annotations": [
         {
          "font": {
           "size": 16
          },
          "showarrow": false,
          "text": "Topic 1",
          "x": 0.08399999999999999,
          "xanchor": "center",
          "xref": "paper",
          "y": 1,
          "yanchor": "bottom",
          "yref": "paper"
         },
         {
          "font": {
           "size": 16
          },
          "showarrow": false,
          "text": "Topic 2",
          "x": 0.292,
          "xanchor": "center",
          "xref": "paper",
          "y": 1,
          "yanchor": "bottom",
          "yref": "paper"
         },
         {
          "font": {
           "size": 16
          },
          "showarrow": false,
          "text": "Topic 3",
          "x": 0.5,
          "xanchor": "center",
          "xref": "paper",
          "y": 1,
          "yanchor": "bottom",
          "yref": "paper"
         },
         {
          "font": {
           "size": 16
          },
          "showarrow": false,
          "text": "Topic 4",
          "x": 0.708,
          "xanchor": "center",
          "xref": "paper",
          "y": 1,
          "yanchor": "bottom",
          "yref": "paper"
         },
         {
          "font": {
           "size": 16
          },
          "showarrow": false,
          "text": "Topic 5",
          "x": 0.9159999999999999,
          "xanchor": "center",
          "xref": "paper",
          "y": 1,
          "yanchor": "bottom",
          "yref": "paper"
         }
        ],
        "font": {
         "color": "white"
        },
        "height": 300,
        "showlegend": false,
        "template": {
         "data": {
          "bar": [
           {
            "error_x": {
             "color": "#f2f5fa"
            },
            "error_y": {
             "color": "#f2f5fa"
            },
            "marker": {
             "line": {
              "color": "rgb(17,17,17)",
              "width": 0.5
             },
             "pattern": {
              "fillmode": "overlay",
              "size": 10,
              "solidity": 0.2
             }
            },
            "type": "bar"
           }
          ],
          "barpolar": [
           {
            "marker": {
             "line": {
              "color": "rgb(17,17,17)",
              "width": 0.5
             },
             "pattern": {
              "fillmode": "overlay",
              "size": 10,
              "solidity": 0.2
             }
            },
            "type": "barpolar"
           }
          ],
          "carpet": [
           {
            "aaxis": {
             "endlinecolor": "#A2B1C6",
             "gridcolor": "#506784",
             "linecolor": "#506784",
             "minorgridcolor": "#506784",
             "startlinecolor": "#A2B1C6"
            },
            "baxis": {
             "endlinecolor": "#A2B1C6",
             "gridcolor": "#506784",
             "linecolor": "#506784",
             "minorgridcolor": "#506784",
             "startlinecolor": "#A2B1C6"
            },
            "type": "carpet"
           }
          ],
          "choropleth": [
           {
            "colorbar": {
             "outlinewidth": 0,
             "ticks": ""
            },
            "type": "choropleth"
           }
          ],
          "contour": [
           {
            "colorbar": {
             "outlinewidth": 0,
             "ticks": ""
            },
            "colorscale": [
             [
              0,
              "#0d0887"
             ],
             [
              0.1111111111111111,
              "#46039f"
             ],
             [
              0.2222222222222222,
              "#7201a8"
             ],
             [
              0.3333333333333333,
              "#9c179e"
             ],
             [
              0.4444444444444444,
              "#bd3786"
             ],
             [
              0.5555555555555556,
              "#d8576b"
             ],
             [
              0.6666666666666666,
              "#ed7953"
             ],
             [
              0.7777777777777778,
              "#fb9f3a"
             ],
             [
              0.8888888888888888,
              "#fdca26"
             ],
             [
              1,
              "#f0f921"
             ]
            ],
            "type": "contour"
           }
          ],
          "contourcarpet": [
           {
            "colorbar": {
             "outlinewidth": 0,
             "ticks": ""
            },
            "type": "contourcarpet"
           }
          ],
          "heatmap": [
           {
            "colorbar": {
             "outlinewidth": 0,
             "ticks": ""
            },
            "colorscale": [
             [
              0,
              "#0d0887"
             ],
             [
              0.1111111111111111,
              "#46039f"
             ],
             [
              0.2222222222222222,
              "#7201a8"
             ],
             [
              0.3333333333333333,
              "#9c179e"
             ],
             [
              0.4444444444444444,
              "#bd3786"
             ],
             [
              0.5555555555555556,
              "#d8576b"
             ],
             [
              0.6666666666666666,
              "#ed7953"
             ],
             [
              0.7777777777777778,
              "#fb9f3a"
             ],
             [
              0.8888888888888888,
              "#fdca26"
             ],
             [
              1,
              "#f0f921"
             ]
            ],
            "type": "heatmap"
           }
          ],
          "heatmapgl": [
           {
            "colorbar": {
             "outlinewidth": 0,
             "ticks": ""
            },
            "colorscale": [
             [
              0,
              "#0d0887"
             ],
             [
              0.1111111111111111,
              "#46039f"
             ],
             [
              0.2222222222222222,
              "#7201a8"
             ],
             [
              0.3333333333333333,
              "#9c179e"
             ],
             [
              0.4444444444444444,
              "#bd3786"
             ],
             [
              0.5555555555555556,
              "#d8576b"
             ],
             [
              0.6666666666666666,
              "#ed7953"
             ],
             [
              0.7777777777777778,
              "#fb9f3a"
             ],
             [
              0.8888888888888888,
              "#fdca26"
             ],
             [
              1,
              "#f0f921"
             ]
            ],
            "type": "heatmapgl"
           }
          ],
          "histogram": [
           {
            "marker": {
             "pattern": {
              "fillmode": "overlay",
              "size": 10,
              "solidity": 0.2
             }
            },
            "type": "histogram"
           }
          ],
          "histogram2d": [
           {
            "colorbar": {
             "outlinewidth": 0,
             "ticks": ""
            },
            "colorscale": [
             [
              0,
              "#0d0887"
             ],
             [
              0.1111111111111111,
              "#46039f"
             ],
             [
              0.2222222222222222,
              "#7201a8"
             ],
             [
              0.3333333333333333,
              "#9c179e"
             ],
             [
              0.4444444444444444,
              "#bd3786"
             ],
             [
              0.5555555555555556,
              "#d8576b"
             ],
             [
              0.6666666666666666,
              "#ed7953"
             ],
             [
              0.7777777777777778,
              "#fb9f3a"
             ],
             [
              0.8888888888888888,
              "#fdca26"
             ],
             [
              1,
              "#f0f921"
             ]
            ],
            "type": "histogram2d"
           }
          ],
          "histogram2dcontour": [
           {
            "colorbar": {
             "outlinewidth": 0,
             "ticks": ""
            },
            "colorscale": [
             [
              0,
              "#0d0887"
             ],
             [
              0.1111111111111111,
              "#46039f"
             ],
             [
              0.2222222222222222,
              "#7201a8"
             ],
             [
              0.3333333333333333,
              "#9c179e"
             ],
             [
              0.4444444444444444,
              "#bd3786"
             ],
             [
              0.5555555555555556,
              "#d8576b"
             ],
             [
              0.6666666666666666,
              "#ed7953"
             ],
             [
              0.7777777777777778,
              "#fb9f3a"
             ],
             [
              0.8888888888888888,
              "#fdca26"
             ],
             [
              1,
              "#f0f921"
             ]
            ],
            "type": "histogram2dcontour"
           }
          ],
          "mesh3d": [
           {
            "colorbar": {
             "outlinewidth": 0,
             "ticks": ""
            },
            "type": "mesh3d"
           }
          ],
          "parcoords": [
           {
            "line": {
             "colorbar": {
              "outlinewidth": 0,
              "ticks": ""
             }
            },
            "type": "parcoords"
           }
          ],
          "pie": [
           {
            "automargin": true,
            "type": "pie"
           }
          ],
          "scatter": [
           {
            "marker": {
             "line": {
              "color": "#283442"
             }
            },
            "type": "scatter"
           }
          ],
          "scatter3d": [
           {
            "line": {
             "colorbar": {
              "outlinewidth": 0,
              "ticks": ""
             }
            },
            "marker": {
             "colorbar": {
              "outlinewidth": 0,
              "ticks": ""
             }
            },
            "type": "scatter3d"
           }
          ],
          "scattercarpet": [
           {
            "marker": {
             "colorbar": {
              "outlinewidth": 0,
              "ticks": ""
             }
            },
            "type": "scattercarpet"
           }
          ],
          "scattergeo": [
           {
            "marker": {
             "colorbar": {
              "outlinewidth": 0,
              "ticks": ""
             }
            },
            "type": "scattergeo"
           }
          ],
          "scattergl": [
           {
            "marker": {
             "line": {
              "color": "#283442"
             }
            },
            "type": "scattergl"
           }
          ],
          "scattermapbox": [
           {
            "marker": {
             "colorbar": {
              "outlinewidth": 0,
              "ticks": ""
             }
            },
            "type": "scattermapbox"
           }
          ],
          "scatterpolar": [
           {
            "marker": {
             "colorbar": {
              "outlinewidth": 0,
              "ticks": ""
             }
            },
            "type": "scatterpolar"
           }
          ],
          "scatterpolargl": [
           {
            "marker": {
             "colorbar": {
              "outlinewidth": 0,
              "ticks": ""
             }
            },
            "type": "scatterpolargl"
           }
          ],
          "scatterternary": [
           {
            "marker": {
             "colorbar": {
              "outlinewidth": 0,
              "ticks": ""
             }
            },
            "type": "scatterternary"
           }
          ],
          "surface": [
           {
            "colorbar": {
             "outlinewidth": 0,
             "ticks": ""
            },
            "colorscale": [
             [
              0,
              "#0d0887"
             ],
             [
              0.1111111111111111,
              "#46039f"
             ],
             [
              0.2222222222222222,
              "#7201a8"
             ],
             [
              0.3333333333333333,
              "#9c179e"
             ],
             [
              0.4444444444444444,
              "#bd3786"
             ],
             [
              0.5555555555555556,
              "#d8576b"
             ],
             [
              0.6666666666666666,
              "#ed7953"
             ],
             [
              0.7777777777777778,
              "#fb9f3a"
             ],
             [
              0.8888888888888888,
              "#fdca26"
             ],
             [
              1,
              "#f0f921"
             ]
            ],
            "type": "surface"
           }
          ],
          "table": [
           {
            "cells": {
             "fill": {
              "color": "#506784"
             },
             "line": {
              "color": "rgb(17,17,17)"
             }
            },
            "header": {
             "fill": {
              "color": "#2a3f5f"
             },
             "line": {
              "color": "rgb(17,17,17)"
             }
            },
            "type": "table"
           }
          ]
         },
         "layout": {
          "annotationdefaults": {
           "arrowcolor": "#f2f5fa",
           "arrowhead": 0,
           "arrowwidth": 1
          },
          "autotypenumbers": "strict",
          "coloraxis": {
           "colorbar": {
            "outlinewidth": 0,
            "ticks": ""
           }
          },
          "colorscale": {
           "diverging": [
            [
             0,
             "#8e0152"
            ],
            [
             0.1,
             "#c51b7d"
            ],
            [
             0.2,
             "#de77ae"
            ],
            [
             0.3,
             "#f1b6da"
            ],
            [
             0.4,
             "#fde0ef"
            ],
            [
             0.5,
             "#f7f7f7"
            ],
            [
             0.6,
             "#e6f5d0"
            ],
            [
             0.7,
             "#b8e186"
            ],
            [
             0.8,
             "#7fbc41"
            ],
            [
             0.9,
             "#4d9221"
            ],
            [
             1,
             "#276419"
            ]
           ],
           "sequential": [
            [
             0,
             "#0d0887"
            ],
            [
             0.1111111111111111,
             "#46039f"
            ],
            [
             0.2222222222222222,
             "#7201a8"
            ],
            [
             0.3333333333333333,
             "#9c179e"
            ],
            [
             0.4444444444444444,
             "#bd3786"
            ],
            [
             0.5555555555555556,
             "#d8576b"
            ],
            [
             0.6666666666666666,
             "#ed7953"
            ],
            [
             0.7777777777777778,
             "#fb9f3a"
            ],
            [
             0.8888888888888888,
             "#fdca26"
            ],
            [
             1,
             "#f0f921"
            ]
           ],
           "sequentialminus": [
            [
             0,
             "#0d0887"
            ],
            [
             0.1111111111111111,
             "#46039f"
            ],
            [
             0.2222222222222222,
             "#7201a8"
            ],
            [
             0.3333333333333333,
             "#9c179e"
            ],
            [
             0.4444444444444444,
             "#bd3786"
            ],
            [
             0.5555555555555556,
             "#d8576b"
            ],
            [
             0.6666666666666666,
             "#ed7953"
            ],
            [
             0.7777777777777778,
             "#fb9f3a"
            ],
            [
             0.8888888888888888,
             "#fdca26"
            ],
            [
             1,
             "#f0f921"
            ]
           ]
          },
          "colorway": [
           "#636efa",
           "#EF553B",
           "#00cc96",
           "#ab63fa",
           "#FFA15A",
           "#19d3f3",
           "#FF6692",
           "#B6E880",
           "#FF97FF",
           "#FECB52"
          ],
          "font": {
           "color": "#f2f5fa"
          },
          "geo": {
           "bgcolor": "rgb(17,17,17)",
           "lakecolor": "rgb(17,17,17)",
           "landcolor": "rgb(17,17,17)",
           "showlakes": true,
           "showland": true,
           "subunitcolor": "#506784"
          },
          "hoverlabel": {
           "align": "left"
          },
          "hovermode": "closest",
          "mapbox": {
           "style": "dark"
          },
          "paper_bgcolor": "rgb(17,17,17)",
          "plot_bgcolor": "rgb(17,17,17)",
          "polar": {
           "angularaxis": {
            "gridcolor": "#506784",
            "linecolor": "#506784",
            "ticks": ""
           },
           "bgcolor": "rgb(17,17,17)",
           "radialaxis": {
            "gridcolor": "#506784",
            "linecolor": "#506784",
            "ticks": ""
           }
          },
          "scene": {
           "xaxis": {
            "backgroundcolor": "rgb(17,17,17)",
            "gridcolor": "#506784",
            "gridwidth": 2,
            "linecolor": "#506784",
            "showbackground": true,
            "ticks": "",
            "zerolinecolor": "#C8D4E3"
           },
           "yaxis": {
            "backgroundcolor": "rgb(17,17,17)",
            "gridcolor": "#506784",
            "gridwidth": 2,
            "linecolor": "#506784",
            "showbackground": true,
            "ticks": "",
            "zerolinecolor": "#C8D4E3"
           },
           "zaxis": {
            "backgroundcolor": "rgb(17,17,17)",
            "gridcolor": "#506784",
            "gridwidth": 2,
            "linecolor": "#506784",
            "showbackground": true,
            "ticks": "",
            "zerolinecolor": "#C8D4E3"
           }
          },
          "shapedefaults": {
           "line": {
            "color": "#f2f5fa"
           }
          },
          "sliderdefaults": {
           "bgcolor": "#C8D4E3",
           "bordercolor": "rgb(17,17,17)",
           "borderwidth": 1,
           "tickwidth": 0
          },
          "ternary": {
           "aaxis": {
            "gridcolor": "#506784",
            "linecolor": "#506784",
            "ticks": ""
           },
           "baxis": {
            "gridcolor": "#506784",
            "linecolor": "#506784",
            "ticks": ""
           },
           "bgcolor": "rgb(17,17,17)",
           "caxis": {
            "gridcolor": "#506784",
            "linecolor": "#506784",
            "ticks": ""
           }
          },
          "title": {
           "x": 0.05
          },
          "updatemenudefaults": {
           "bgcolor": "#506784",
           "borderwidth": 0
          },
          "xaxis": {
           "automargin": true,
           "gridcolor": "#283442",
           "linecolor": "#506784",
           "ticks": "",
           "title": {
            "standoff": 15
           },
           "zerolinecolor": "#283442",
           "zerolinewidth": 2
          },
          "yaxis": {
           "automargin": true,
           "gridcolor": "#283442",
           "linecolor": "#506784",
           "ticks": "",
           "title": {
            "standoff": 15
           },
           "zerolinecolor": "#283442",
           "zerolinewidth": 2
          }
         }
        },
        "title": {
         "text": "LDA Topic Modeling Results"
        },
        "xaxis": {
         "anchor": "y",
         "domain": [
          0,
          0.16799999999999998
         ],
         "showgrid": false,
         "title": {
          "font": {
           "color": "white"
          }
         },
         "zeroline": false
        },
        "xaxis2": {
         "anchor": "y2",
         "domain": [
          0.208,
          0.376
         ]
        },
        "xaxis3": {
         "anchor": "y3",
         "domain": [
          0.416,
          0.584
         ]
        },
        "xaxis4": {
         "anchor": "y4",
         "domain": [
          0.624,
          0.792
         ]
        },
        "xaxis5": {
         "anchor": "y5",
         "domain": [
          0.832,
          1
         ]
        },
        "yaxis": {
         "anchor": "x",
         "domain": [
          0,
          1
         ],
         "showgrid": false,
         "title": {
          "font": {
           "color": "white"
          }
         },
         "zeroline": false
        },
        "yaxis2": {
         "anchor": "x2",
         "domain": [
          0,
          1
         ]
        },
        "yaxis3": {
         "anchor": "x3",
         "domain": [
          0,
          1
         ]
        },
        "yaxis4": {
         "anchor": "x4",
         "domain": [
          0,
          1
         ]
        },
        "yaxis5": {
         "anchor": "x5",
         "domain": [
          0,
          1
         ]
        }
       }
      }
     },
     "metadata": {},
     "output_type": "display_data"
    }
   ],
   "source": [
    "import plotly.graph_objects as go\n",
    "from plotly.subplots import make_subplots\n",
    "\n",
    "def plot_topics_plotly(lda_model, num_topics=5, num_words=5):\n",
    "    # Create a subplot grid: 1 row, 5 columns (for 5 topics)\n",
    "    fig = make_subplots(\n",
    "        rows=1, cols=num_topics,  # Adjusted for 1 row and 5 columns\n",
    "        subplot_titles=[f'Topic {i+1}' for i in range(num_topics)]  # Titles adjusted to start from 1\n",
    "    )\n",
    "\n",
    "    for idx in range(num_topics):\n",
    "        topic = lda_model.print_topics(num_words=num_words)[idx][1]\n",
    "        words = topic.split(\" + \")\n",
    "        words = [word.split(\"*\")[1].strip().replace('\"', '') for word in words]\n",
    "        weights = [float(word.split(\"*\")[0]) for word in topic.split(\" + \")]\n",
    "\n",
    "        # Add a bar trace for each topic\n",
    "        fig.add_trace(\n",
    "            go.Bar(x=weights, y=words, orientation='h', name=f'Topic {idx + 1}'),\n",
    "            row=1, col=idx + 1  # Update row/column to fit 1 row layout\n",
    "        )\n",
    "\n",
    "    # Update layout\n",
    "    fig.update_layout(\n",
    "        title_text='LDA Topic Modeling Results', height=300,  # Adjusted height for better visualization\n",
    "        template='plotly_dark',\n",
    "        font=dict(color='white'),  # Change font color to white for readability\n",
    "        xaxis=dict(showgrid=False, zeroline=False, title_font=dict(color='white')), \n",
    "        yaxis=dict(showgrid=False, zeroline=False, title_font=dict(color='white')),\n",
    "        showlegend=False  # Hide legend since it's unnecessary for this plot\n",
    "    )\n",
    "\n",
    "    # Save the figure as an HTML file\n",
    "    # fig.write_html(\"./static/charts/lda_topics.html\")\n",
    "\n",
    "    fig.show()\n",
    "\n",
    "# Call the function with 5 topics\n",
    "plot_topics_plotly(lda_model, num_topics=5)\n"
   ]
  }
 ],
 "metadata": {
  "kernelspec": {
   "display_name": "base",
   "language": "python",
   "name": "python3"
  },
  "language_info": {
   "codemirror_mode": {
    "name": "ipython",
    "version": 3
   },
   "file_extension": ".py",
   "mimetype": "text/x-python",
   "name": "python",
   "nbconvert_exporter": "python",
   "pygments_lexer": "ipython3",
   "version": "3.12.3"
  }
 },
 "nbformat": 4,
 "nbformat_minor": 2
}
