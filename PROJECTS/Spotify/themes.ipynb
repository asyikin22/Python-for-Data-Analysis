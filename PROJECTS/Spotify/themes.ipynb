{
 "cells": [
  {
   "cell_type": "code",
   "execution_count": 2,
   "metadata": {},
   "outputs": [
    {
     "data": {
      "text/plain": [
       "Index(['year', 'artist', 'song', 'lyrics'], dtype='object')"
      ]
     },
     "execution_count": 2,
     "metadata": {},
     "output_type": "execute_result"
    }
   ],
   "source": [
    "import pandas as pd\n",
    "\n",
    "song_theme = pd.read_json('./Dataset/top_songs_lyrics.json')\n",
    "song_theme.columns"
   ]
  },
  {
   "cell_type": "markdown",
   "metadata": {},
   "source": [
    "# Latent Dirichlet Allocation (LDA) - 165 songs\n",
    "\n",
    "**Three major ideas**\n",
    "- Translate songs in native language to english\n",
    "- pre-processing: Clean and tokenize the translated lyrics, remove stopwords (common and custom)\n",
    "- Topic Modelling: Create an LDA model to identify topics within the song lyrics\n",
    "\n",
    "**Detailed Steps**\n",
    "1) Importing libraries\n",
    "    - googletrans: handle text transaltion\n",
    "    - string: provides constants for string manipulation \n",
    "    - nltk: A toolkit for natural language processing (NLP)\n",
    "    - gensim: Used for topic modelling\n",
    "\n",
    "2) Initialize Translator\n",
    "\n",
    "3) Define Translation Function\n",
    "\n",
    "4) Translate Lyrics\n",
    "\n",
    "5) Define Stopwords\n",
    "    - default_stopwords: default set of english stopwords from NLTK\n",
    "    - custom_stopwords: I manually added them.\n",
    "\n",
    "6) Pre-process Lyrics Function\n",
    "    - Remove punctuation\n",
    "    - convert lyrics to lowercase\n",
    "    - tokenize lyrics into words\n",
    "    - filter out non-alphabetic words and stopwords\n",
    "\n",
    "7) Apply pre-preprocessing\n",
    "    \n",
    "8) Perform Topic Modelling with LDA\n",
    "    - dictionary: maps each unqiue word to an ID\n",
    "    - corpus: transform the tokens into a bag-of-words format\n",
    "    - lda_model: creates an LDA model with 10 topics and trains it on the corpus for 15 passes \n",
    "    - extracts and prints the top 5 words for each topic found by the LDA model\n"
   ]
  },
  {
   "cell_type": "code",
   "execution_count": 3,
   "metadata": {},
   "outputs": [
    {
     "name": "stdout",
     "output_type": "stream",
     "text": [
      "(0, '0.023*\"home\" + 0.022*\"alone\" + 0.019*\"baby\" + 0.012*\"dancing\" + 0.012*\"million\"')\n",
      "(1, '0.031*\"baby\" + 0.028*\"know\" + 0.022*\"side\" + 0.018*\"sorry\" + 0.017*\"body\"')\n",
      "(2, '0.065*\"girls\" + 0.029*\"run\" + 0.024*\"world\" + 0.019*\"love\" + 0.018*\"every\"')\n",
      "(3, '0.054*\"work\" + 0.019*\"let\" + 0.018*\"want\" + 0.017*\"know\" + 0.015*\"go\"')\n",
      "(4, '0.042*\"love\" + 0.025*\"go\" + 0.024*\"somebody\" + 0.021*\"let\" + 0.020*\"every\"')\n",
      "(5, '0.047*\"love\" + 0.031*\"know\" + 0.029*\"come\" + 0.016*\"right\" + 0.016*\"star\"')\n",
      "(6, '0.022*\"let\" + 0.022*\"rain\" + 0.015*\"never\" + 0.013*\"baby\" + 0.012*\"take\"')\n",
      "(7, '0.053*\"try\" + 0.048*\"fuck\" + 0.027*\"get\" + 0.016*\"love\" + 0.014*\"thought\"')\n",
      "(8, '0.017*\"back\" + 0.017*\"high\" + 0.014*\"get\" + 0.012*\"need\" + 0.012*\"make\"')\n",
      "(9, '0.019*\"never\" + 0.014*\"meant\" + 0.013*\"next\" + 0.009*\"skin\" + 0.009*\"mama\"')\n"
     ]
    }
   ],
   "source": [
    "from deep_translator import GoogleTranslator\n",
    "import string\n",
    "import nltk\n",
    "from nltk.corpus import stopwords\n",
    "from nltk.tokenize import word_tokenize\n",
    "from gensim import corpora, models\n",
    "\n",
    "# #download stopwords\n",
    "# nltk.download('stopwords')\n",
    "# nltk.download('punkt')\n",
    "\n",
    "#initilaize translator \n",
    "translator = GoogleTranslator(source='auto', target='en')\n",
    "\n",
    "#define function to translate lyrics to english\n",
    "def translate_lyrics(lyrics):\n",
    "    try:\n",
    "        return translator.translate(lyrics)\n",
    "    except Exception as e:\n",
    "        print (f'Error in Transaltion: {e}')\n",
    "        return lyrics\n",
    "\n",
    "#translate lyrics to english\n",
    "song_theme['translated_lyrics'] = song_theme['lyrics'].apply(translate_lyrics)\n",
    "\n",
    "# get the list of stopwords - default & custom\n",
    "default_stopwords = set(stopwords.words('english'))\n",
    "custom_stopwords = default_stopwords.union(\n",
    "    {'verse', 'chorus', '–', 'im', 'oh', 'na', 'yeah', 'got', 'ooh', 'wan', 'cause', 'ill', 'youre', '2', '1', \n",
    "     'ft', 'like', 'one', 'prechorus','la', 'aint', 'low', 'two', 'woah', 'gettin', 'postchorus', 'mmm', 'mxrxgxa', 'da', 'thank',\n",
    "     'ah', 'gon', 'ya', \"’\", 'thats', 'another', 'outro', 'ive', 'hey', 'montenero', 'whats', 'gioielli', 'clap', 'del', 'blue', 'zyrtck',\n",
    "     'bridge', 'dj', 'would', 'way', 'ta', 'em', 'yes', 'youd', 'didnt', 'nothin', 'nothing', 'ayy',\n",
    "     'maybe', 'redrum', 'ohoh', 'ariana', 'vacca', 'bout', 'grande', '21', 'youve', 'youll', 'somethin', 'beyoncé',\n",
    "     'id', 'smack', 'yo', 'freestyle', 'without', 'di', 'intro', 'woo', 'might', 'il', 'non', 'uh', 'knew', 'mm',\n",
    "     'anybody', 'hes', 'ima', 'e', 'x', 'itll', 'refrain', 'could', 'ee', 'comin', 'lil', 'shes', '3', 'halo', 'whats', \n",
    "     'gionni', 'sometimes', 'gunz', 'ride', 'blow', 'black','mutha', 'uhoh', 'pai', 'zeno', 'wouldnt', 'air',\n",
    "     'egreen', 'toni', 'georgia', 'throw', 'nah', 'cease', 'goes', 'dust', 'bet', 'bum', 'apart', 'doesnt', 'cassel', 'oohoohoohooh', \n",
    "     'huh', 'closet', 'goin', 'cleanin', 'claver', 'closet', 'nex', 'lot', 'michaels', 'less', 'things', 'per', 'second', 'line',\n",
    "     'bites', 'shall', 'everybody', 'ele', 'fit', 'ho', 'jp', 'joe', 'smokestackstudio', 'getting', 'aleaka', 'three',\n",
    "     })\n",
    "\n",
    "#pre-process the lyrics function\n",
    "def preprocess_lyrics(lyrics):\n",
    "    translator = str.maketrans('', '', string.punctuation)\n",
    "    tokens = word_tokenize(lyrics.lower())\n",
    "    tokens = [word for word in tokens if word.isalpha() and word not in custom_stopwords]\n",
    "    return tokens\n",
    "\n",
    "#apply pre-processing using the TRANSLATED lyrics\n",
    "song_theme['tokens'] = song_theme['translated_lyrics'].apply(preprocess_lyrics)\n",
    "\n",
    "#PERFORM TOPIC MODELLING\n",
    "\n",
    "#create dictionary and corpus for LDA\n",
    "dictionary = corpora.Dictionary(song_theme['tokens'])\n",
    "corpus = [dictionary.doc2bow(text) for text in song_theme['tokens']]\n",
    "\n",
    "#build LDA model\n",
    "lda_model = models.LdaModel(corpus, num_topics=10, id2word=dictionary, passes=15)\n",
    "\n",
    "#print topics \n",
    "topics = lda_model.print_topics(num_words=5)\n",
    "for topic in topics:\n",
    "    print(topic)"
   ]
  },
  {
   "cell_type": "markdown",
   "metadata": {},
   "source": [
    "# Visualize distribution of Topics from LDA model\n",
    "\n",
    "1) Visualize topic distibution per document\n",
    "    - a document refers to individual unit of text that's being analzyed.\n",
    "    - i have 165 songs in my data frame, it means i have 165 documents\n",
    "    - aka 'Corpus'\n",
    "    \n",
    "2) Visualize topic distribution using pyLDAvis"
   ]
  },
  {
   "cell_type": "code",
   "execution_count": 4,
   "metadata": {},
   "outputs": [
    {
     "data": {
      "application/vnd.plotly.v1+json": {
       "config": {
        "plotlyServerURL": "https://plot.ly"
       },
       "data": [
        {
         "name": "Topic 1",
         "orientation": "h",
         "type": "bar",
         "x": [
          0.023,
          0.022,
          0.019,
          0.012,
          0.012
         ],
         "xaxis": "x",
         "y": [
          "home",
          "alone",
          "baby",
          "dancing",
          "million"
         ],
         "yaxis": "y"
        },
        {
         "name": "Topic 2",
         "orientation": "h",
         "type": "bar",
         "x": [
          0.031,
          0.028,
          0.022,
          0.018,
          0.017
         ],
         "xaxis": "x2",
         "y": [
          "baby",
          "know",
          "side",
          "sorry",
          "body"
         ],
         "yaxis": "y2"
        },
        {
         "name": "Topic 3",
         "orientation": "h",
         "type": "bar",
         "x": [
          0.065,
          0.029,
          0.024,
          0.019,
          0.018
         ],
         "xaxis": "x3",
         "y": [
          "girls",
          "run",
          "world",
          "love",
          "every"
         ],
         "yaxis": "y3"
        },
        {
         "name": "Topic 4",
         "orientation": "h",
         "type": "bar",
         "x": [
          0.054,
          0.019,
          0.018,
          0.017,
          0.015
         ],
         "xaxis": "x4",
         "y": [
          "work",
          "let",
          "want",
          "know",
          "go"
         ],
         "yaxis": "y4"
        },
        {
         "name": "Topic 5",
         "orientation": "h",
         "type": "bar",
         "x": [
          0.042,
          0.025,
          0.024,
          0.021,
          0.02
         ],
         "xaxis": "x5",
         "y": [
          "love",
          "go",
          "somebody",
          "let",
          "every"
         ],
         "yaxis": "y5"
        },
        {
         "name": "Topic 6",
         "orientation": "h",
         "type": "bar",
         "x": [
          0.047,
          0.031,
          0.029,
          0.016,
          0.016
         ],
         "xaxis": "x6",
         "y": [
          "love",
          "know",
          "come",
          "right",
          "star"
         ],
         "yaxis": "y6"
        },
        {
         "name": "Topic 7",
         "orientation": "h",
         "type": "bar",
         "x": [
          0.022,
          0.022,
          0.015,
          0.013,
          0.012
         ],
         "xaxis": "x7",
         "y": [
          "let",
          "rain",
          "never",
          "baby",
          "take"
         ],
         "yaxis": "y7"
        },
        {
         "name": "Topic 8",
         "orientation": "h",
         "type": "bar",
         "x": [
          0.053,
          0.048,
          0.027,
          0.016,
          0.014
         ],
         "xaxis": "x8",
         "y": [
          "try",
          "fuck",
          "get",
          "love",
          "thought"
         ],
         "yaxis": "y8"
        },
        {
         "name": "Topic 9",
         "orientation": "h",
         "type": "bar",
         "x": [
          0.017,
          0.017,
          0.014,
          0.012,
          0.012
         ],
         "xaxis": "x9",
         "y": [
          "back",
          "high",
          "get",
          "need",
          "make"
         ],
         "yaxis": "y9"
        },
        {
         "name": "Topic 10",
         "orientation": "h",
         "type": "bar",
         "x": [
          0.019,
          0.014,
          0.013,
          0.009,
          0.009
         ],
         "xaxis": "x10",
         "y": [
          "never",
          "meant",
          "next",
          "skin",
          "mama"
         ],
         "yaxis": "y10"
        }
       ],
       "layout": {
        "annotations": [
         {
          "font": {
           "size": 16
          },
          "showarrow": false,
          "text": "Topic 0",
          "x": 0.08399999999999999,
          "xanchor": "center",
          "xref": "paper",
          "y": 1,
          "yanchor": "bottom",
          "yref": "paper"
         },
         {
          "font": {
           "size": 16
          },
          "showarrow": false,
          "text": "Topic 1",
          "x": 0.292,
          "xanchor": "center",
          "xref": "paper",
          "y": 1,
          "yanchor": "bottom",
          "yref": "paper"
         },
         {
          "font": {
           "size": 16
          },
          "showarrow": false,
          "text": "Topic 2",
          "x": 0.5,
          "xanchor": "center",
          "xref": "paper",
          "y": 1,
          "yanchor": "bottom",
          "yref": "paper"
         },
         {
          "font": {
           "size": 16
          },
          "showarrow": false,
          "text": "Topic 3",
          "x": 0.708,
          "xanchor": "center",
          "xref": "paper",
          "y": 1,
          "yanchor": "bottom",
          "yref": "paper"
         },
         {
          "font": {
           "size": 16
          },
          "showarrow": false,
          "text": "Topic 4",
          "x": 0.9159999999999999,
          "xanchor": "center",
          "xref": "paper",
          "y": 1,
          "yanchor": "bottom",
          "yref": "paper"
         },
         {
          "font": {
           "size": 16
          },
          "showarrow": false,
          "text": "Topic 5",
          "x": 0.08399999999999999,
          "xanchor": "center",
          "xref": "paper",
          "y": 0.375,
          "yanchor": "bottom",
          "yref": "paper"
         },
         {
          "font": {
           "size": 16
          },
          "showarrow": false,
          "text": "Topic 6",
          "x": 0.292,
          "xanchor": "center",
          "xref": "paper",
          "y": 0.375,
          "yanchor": "bottom",
          "yref": "paper"
         },
         {
          "font": {
           "size": 16
          },
          "showarrow": false,
          "text": "Topic 7",
          "x": 0.5,
          "xanchor": "center",
          "xref": "paper",
          "y": 0.375,
          "yanchor": "bottom",
          "yref": "paper"
         },
         {
          "font": {
           "size": 16
          },
          "showarrow": false,
          "text": "Topic 8",
          "x": 0.708,
          "xanchor": "center",
          "xref": "paper",
          "y": 0.375,
          "yanchor": "bottom",
          "yref": "paper"
         },
         {
          "font": {
           "size": 16
          },
          "showarrow": false,
          "text": "Topic 9",
          "x": 0.9159999999999999,
          "xanchor": "center",
          "xref": "paper",
          "y": 0.375,
          "yanchor": "bottom",
          "yref": "paper"
         }
        ],
        "font": {
         "color": "white"
        },
        "height": 400,
        "template": {
         "data": {
          "bar": [
           {
            "error_x": {
             "color": "#f2f5fa"
            },
            "error_y": {
             "color": "#f2f5fa"
            },
            "marker": {
             "line": {
              "color": "rgb(17,17,17)",
              "width": 0.5
             },
             "pattern": {
              "fillmode": "overlay",
              "size": 10,
              "solidity": 0.2
             }
            },
            "type": "bar"
           }
          ],
          "barpolar": [
           {
            "marker": {
             "line": {
              "color": "rgb(17,17,17)",
              "width": 0.5
             },
             "pattern": {
              "fillmode": "overlay",
              "size": 10,
              "solidity": 0.2
             }
            },
            "type": "barpolar"
           }
          ],
          "carpet": [
           {
            "aaxis": {
             "endlinecolor": "#A2B1C6",
             "gridcolor": "#506784",
             "linecolor": "#506784",
             "minorgridcolor": "#506784",
             "startlinecolor": "#A2B1C6"
            },
            "baxis": {
             "endlinecolor": "#A2B1C6",
             "gridcolor": "#506784",
             "linecolor": "#506784",
             "minorgridcolor": "#506784",
             "startlinecolor": "#A2B1C6"
            },
            "type": "carpet"
           }
          ],
          "choropleth": [
           {
            "colorbar": {
             "outlinewidth": 0,
             "ticks": ""
            },
            "type": "choropleth"
           }
          ],
          "contour": [
           {
            "colorbar": {
             "outlinewidth": 0,
             "ticks": ""
            },
            "colorscale": [
             [
              0,
              "#0d0887"
             ],
             [
              0.1111111111111111,
              "#46039f"
             ],
             [
              0.2222222222222222,
              "#7201a8"
             ],
             [
              0.3333333333333333,
              "#9c179e"
             ],
             [
              0.4444444444444444,
              "#bd3786"
             ],
             [
              0.5555555555555556,
              "#d8576b"
             ],
             [
              0.6666666666666666,
              "#ed7953"
             ],
             [
              0.7777777777777778,
              "#fb9f3a"
             ],
             [
              0.8888888888888888,
              "#fdca26"
             ],
             [
              1,
              "#f0f921"
             ]
            ],
            "type": "contour"
           }
          ],
          "contourcarpet": [
           {
            "colorbar": {
             "outlinewidth": 0,
             "ticks": ""
            },
            "type": "contourcarpet"
           }
          ],
          "heatmap": [
           {
            "colorbar": {
             "outlinewidth": 0,
             "ticks": ""
            },
            "colorscale": [
             [
              0,
              "#0d0887"
             ],
             [
              0.1111111111111111,
              "#46039f"
             ],
             [
              0.2222222222222222,
              "#7201a8"
             ],
             [
              0.3333333333333333,
              "#9c179e"
             ],
             [
              0.4444444444444444,
              "#bd3786"
             ],
             [
              0.5555555555555556,
              "#d8576b"
             ],
             [
              0.6666666666666666,
              "#ed7953"
             ],
             [
              0.7777777777777778,
              "#fb9f3a"
             ],
             [
              0.8888888888888888,
              "#fdca26"
             ],
             [
              1,
              "#f0f921"
             ]
            ],
            "type": "heatmap"
           }
          ],
          "heatmapgl": [
           {
            "colorbar": {
             "outlinewidth": 0,
             "ticks": ""
            },
            "colorscale": [
             [
              0,
              "#0d0887"
             ],
             [
              0.1111111111111111,
              "#46039f"
             ],
             [
              0.2222222222222222,
              "#7201a8"
             ],
             [
              0.3333333333333333,
              "#9c179e"
             ],
             [
              0.4444444444444444,
              "#bd3786"
             ],
             [
              0.5555555555555556,
              "#d8576b"
             ],
             [
              0.6666666666666666,
              "#ed7953"
             ],
             [
              0.7777777777777778,
              "#fb9f3a"
             ],
             [
              0.8888888888888888,
              "#fdca26"
             ],
             [
              1,
              "#f0f921"
             ]
            ],
            "type": "heatmapgl"
           }
          ],
          "histogram": [
           {
            "marker": {
             "pattern": {
              "fillmode": "overlay",
              "size": 10,
              "solidity": 0.2
             }
            },
            "type": "histogram"
           }
          ],
          "histogram2d": [
           {
            "colorbar": {
             "outlinewidth": 0,
             "ticks": ""
            },
            "colorscale": [
             [
              0,
              "#0d0887"
             ],
             [
              0.1111111111111111,
              "#46039f"
             ],
             [
              0.2222222222222222,
              "#7201a8"
             ],
             [
              0.3333333333333333,
              "#9c179e"
             ],
             [
              0.4444444444444444,
              "#bd3786"
             ],
             [
              0.5555555555555556,
              "#d8576b"
             ],
             [
              0.6666666666666666,
              "#ed7953"
             ],
             [
              0.7777777777777778,
              "#fb9f3a"
             ],
             [
              0.8888888888888888,
              "#fdca26"
             ],
             [
              1,
              "#f0f921"
             ]
            ],
            "type": "histogram2d"
           }
          ],
          "histogram2dcontour": [
           {
            "colorbar": {
             "outlinewidth": 0,
             "ticks": ""
            },
            "colorscale": [
             [
              0,
              "#0d0887"
             ],
             [
              0.1111111111111111,
              "#46039f"
             ],
             [
              0.2222222222222222,
              "#7201a8"
             ],
             [
              0.3333333333333333,
              "#9c179e"
             ],
             [
              0.4444444444444444,
              "#bd3786"
             ],
             [
              0.5555555555555556,
              "#d8576b"
             ],
             [
              0.6666666666666666,
              "#ed7953"
             ],
             [
              0.7777777777777778,
              "#fb9f3a"
             ],
             [
              0.8888888888888888,
              "#fdca26"
             ],
             [
              1,
              "#f0f921"
             ]
            ],
            "type": "histogram2dcontour"
           }
          ],
          "mesh3d": [
           {
            "colorbar": {
             "outlinewidth": 0,
             "ticks": ""
            },
            "type": "mesh3d"
           }
          ],
          "parcoords": [
           {
            "line": {
             "colorbar": {
              "outlinewidth": 0,
              "ticks": ""
             }
            },
            "type": "parcoords"
           }
          ],
          "pie": [
           {
            "automargin": true,
            "type": "pie"
           }
          ],
          "scatter": [
           {
            "marker": {
             "line": {
              "color": "#283442"
             }
            },
            "type": "scatter"
           }
          ],
          "scatter3d": [
           {
            "line": {
             "colorbar": {
              "outlinewidth": 0,
              "ticks": ""
             }
            },
            "marker": {
             "colorbar": {
              "outlinewidth": 0,
              "ticks": ""
             }
            },
            "type": "scatter3d"
           }
          ],
          "scattercarpet": [
           {
            "marker": {
             "colorbar": {
              "outlinewidth": 0,
              "ticks": ""
             }
            },
            "type": "scattercarpet"
           }
          ],
          "scattergeo": [
           {
            "marker": {
             "colorbar": {
              "outlinewidth": 0,
              "ticks": ""
             }
            },
            "type": "scattergeo"
           }
          ],
          "scattergl": [
           {
            "marker": {
             "line": {
              "color": "#283442"
             }
            },
            "type": "scattergl"
           }
          ],
          "scattermapbox": [
           {
            "marker": {
             "colorbar": {
              "outlinewidth": 0,
              "ticks": ""
             }
            },
            "type": "scattermapbox"
           }
          ],
          "scatterpolar": [
           {
            "marker": {
             "colorbar": {
              "outlinewidth": 0,
              "ticks": ""
             }
            },
            "type": "scatterpolar"
           }
          ],
          "scatterpolargl": [
           {
            "marker": {
             "colorbar": {
              "outlinewidth": 0,
              "ticks": ""
             }
            },
            "type": "scatterpolargl"
           }
          ],
          "scatterternary": [
           {
            "marker": {
             "colorbar": {
              "outlinewidth": 0,
              "ticks": ""
             }
            },
            "type": "scatterternary"
           }
          ],
          "surface": [
           {
            "colorbar": {
             "outlinewidth": 0,
             "ticks": ""
            },
            "colorscale": [
             [
              0,
              "#0d0887"
             ],
             [
              0.1111111111111111,
              "#46039f"
             ],
             [
              0.2222222222222222,
              "#7201a8"
             ],
             [
              0.3333333333333333,
              "#9c179e"
             ],
             [
              0.4444444444444444,
              "#bd3786"
             ],
             [
              0.5555555555555556,
              "#d8576b"
             ],
             [
              0.6666666666666666,
              "#ed7953"
             ],
             [
              0.7777777777777778,
              "#fb9f3a"
             ],
             [
              0.8888888888888888,
              "#fdca26"
             ],
             [
              1,
              "#f0f921"
             ]
            ],
            "type": "surface"
           }
          ],
          "table": [
           {
            "cells": {
             "fill": {
              "color": "#506784"
             },
             "line": {
              "color": "rgb(17,17,17)"
             }
            },
            "header": {
             "fill": {
              "color": "#2a3f5f"
             },
             "line": {
              "color": "rgb(17,17,17)"
             }
            },
            "type": "table"
           }
          ]
         },
         "layout": {
          "annotationdefaults": {
           "arrowcolor": "#f2f5fa",
           "arrowhead": 0,
           "arrowwidth": 1
          },
          "autotypenumbers": "strict",
          "coloraxis": {
           "colorbar": {
            "outlinewidth": 0,
            "ticks": ""
           }
          },
          "colorscale": {
           "diverging": [
            [
             0,
             "#8e0152"
            ],
            [
             0.1,
             "#c51b7d"
            ],
            [
             0.2,
             "#de77ae"
            ],
            [
             0.3,
             "#f1b6da"
            ],
            [
             0.4,
             "#fde0ef"
            ],
            [
             0.5,
             "#f7f7f7"
            ],
            [
             0.6,
             "#e6f5d0"
            ],
            [
             0.7,
             "#b8e186"
            ],
            [
             0.8,
             "#7fbc41"
            ],
            [
             0.9,
             "#4d9221"
            ],
            [
             1,
             "#276419"
            ]
           ],
           "sequential": [
            [
             0,
             "#0d0887"
            ],
            [
             0.1111111111111111,
             "#46039f"
            ],
            [
             0.2222222222222222,
             "#7201a8"
            ],
            [
             0.3333333333333333,
             "#9c179e"
            ],
            [
             0.4444444444444444,
             "#bd3786"
            ],
            [
             0.5555555555555556,
             "#d8576b"
            ],
            [
             0.6666666666666666,
             "#ed7953"
            ],
            [
             0.7777777777777778,
             "#fb9f3a"
            ],
            [
             0.8888888888888888,
             "#fdca26"
            ],
            [
             1,
             "#f0f921"
            ]
           ],
           "sequentialminus": [
            [
             0,
             "#0d0887"
            ],
            [
             0.1111111111111111,
             "#46039f"
            ],
            [
             0.2222222222222222,
             "#7201a8"
            ],
            [
             0.3333333333333333,
             "#9c179e"
            ],
            [
             0.4444444444444444,
             "#bd3786"
            ],
            [
             0.5555555555555556,
             "#d8576b"
            ],
            [
             0.6666666666666666,
             "#ed7953"
            ],
            [
             0.7777777777777778,
             "#fb9f3a"
            ],
            [
             0.8888888888888888,
             "#fdca26"
            ],
            [
             1,
             "#f0f921"
            ]
           ]
          },
          "colorway": [
           "#636efa",
           "#EF553B",
           "#00cc96",
           "#ab63fa",
           "#FFA15A",
           "#19d3f3",
           "#FF6692",
           "#B6E880",
           "#FF97FF",
           "#FECB52"
          ],
          "font": {
           "color": "#f2f5fa"
          },
          "geo": {
           "bgcolor": "rgb(17,17,17)",
           "lakecolor": "rgb(17,17,17)",
           "landcolor": "rgb(17,17,17)",
           "showlakes": true,
           "showland": true,
           "subunitcolor": "#506784"
          },
          "hoverlabel": {
           "align": "left"
          },
          "hovermode": "closest",
          "mapbox": {
           "style": "dark"
          },
          "paper_bgcolor": "rgb(17,17,17)",
          "plot_bgcolor": "rgb(17,17,17)",
          "polar": {
           "angularaxis": {
            "gridcolor": "#506784",
            "linecolor": "#506784",
            "ticks": ""
           },
           "bgcolor": "rgb(17,17,17)",
           "radialaxis": {
            "gridcolor": "#506784",
            "linecolor": "#506784",
            "ticks": ""
           }
          },
          "scene": {
           "xaxis": {
            "backgroundcolor": "rgb(17,17,17)",
            "gridcolor": "#506784",
            "gridwidth": 2,
            "linecolor": "#506784",
            "showbackground": true,
            "ticks": "",
            "zerolinecolor": "#C8D4E3"
           },
           "yaxis": {
            "backgroundcolor": "rgb(17,17,17)",
            "gridcolor": "#506784",
            "gridwidth": 2,
            "linecolor": "#506784",
            "showbackground": true,
            "ticks": "",
            "zerolinecolor": "#C8D4E3"
           },
           "zaxis": {
            "backgroundcolor": "rgb(17,17,17)",
            "gridcolor": "#506784",
            "gridwidth": 2,
            "linecolor": "#506784",
            "showbackground": true,
            "ticks": "",
            "zerolinecolor": "#C8D4E3"
           }
          },
          "shapedefaults": {
           "line": {
            "color": "#f2f5fa"
           }
          },
          "sliderdefaults": {
           "bgcolor": "#C8D4E3",
           "bordercolor": "rgb(17,17,17)",
           "borderwidth": 1,
           "tickwidth": 0
          },
          "ternary": {
           "aaxis": {
            "gridcolor": "#506784",
            "linecolor": "#506784",
            "ticks": ""
           },
           "baxis": {
            "gridcolor": "#506784",
            "linecolor": "#506784",
            "ticks": ""
           },
           "bgcolor": "rgb(17,17,17)",
           "caxis": {
            "gridcolor": "#506784",
            "linecolor": "#506784",
            "ticks": ""
           }
          },
          "title": {
           "x": 0.05
          },
          "updatemenudefaults": {
           "bgcolor": "#506784",
           "borderwidth": 0
          },
          "xaxis": {
           "automargin": true,
           "gridcolor": "#283442",
           "linecolor": "#506784",
           "ticks": "",
           "title": {
            "standoff": 15
           },
           "zerolinecolor": "#283442",
           "zerolinewidth": 2
          },
          "yaxis": {
           "automargin": true,
           "gridcolor": "#283442",
           "linecolor": "#506784",
           "ticks": "",
           "title": {
            "standoff": 15
           },
           "zerolinecolor": "#283442",
           "zerolinewidth": 2
          }
         }
        },
        "title": {
         "text": "LDA Topic Modeling Results"
        },
        "xaxis": {
         "anchor": "y",
         "domain": [
          0,
          0.16799999999999998
         ],
         "showgrid": false,
         "title": {
          "font": {
           "color": "white"
          }
         },
         "zeroline": false
        },
        "xaxis10": {
         "anchor": "y10",
         "domain": [
          0.832,
          1
         ]
        },
        "xaxis2": {
         "anchor": "y2",
         "domain": [
          0.208,
          0.376
         ]
        },
        "xaxis3": {
         "anchor": "y3",
         "domain": [
          0.416,
          0.584
         ]
        },
        "xaxis4": {
         "anchor": "y4",
         "domain": [
          0.624,
          0.792
         ]
        },
        "xaxis5": {
         "anchor": "y5",
         "domain": [
          0.832,
          1
         ]
        },
        "xaxis6": {
         "anchor": "y6",
         "domain": [
          0,
          0.16799999999999998
         ]
        },
        "xaxis7": {
         "anchor": "y7",
         "domain": [
          0.208,
          0.376
         ]
        },
        "xaxis8": {
         "anchor": "y8",
         "domain": [
          0.416,
          0.584
         ]
        },
        "xaxis9": {
         "anchor": "y9",
         "domain": [
          0.624,
          0.792
         ]
        },
        "yaxis": {
         "anchor": "x",
         "domain": [
          0.625,
          1
         ],
         "showgrid": false,
         "title": {
          "font": {
           "color": "white"
          }
         },
         "zeroline": false
        },
        "yaxis10": {
         "anchor": "x10",
         "domain": [
          0,
          0.375
         ]
        },
        "yaxis2": {
         "anchor": "x2",
         "domain": [
          0.625,
          1
         ]
        },
        "yaxis3": {
         "anchor": "x3",
         "domain": [
          0.625,
          1
         ]
        },
        "yaxis4": {
         "anchor": "x4",
         "domain": [
          0.625,
          1
         ]
        },
        "yaxis5": {
         "anchor": "x5",
         "domain": [
          0.625,
          1
         ]
        },
        "yaxis6": {
         "anchor": "x6",
         "domain": [
          0,
          0.375
         ]
        },
        "yaxis7": {
         "anchor": "x7",
         "domain": [
          0,
          0.375
         ]
        },
        "yaxis8": {
         "anchor": "x8",
         "domain": [
          0,
          0.375
         ]
        },
        "yaxis9": {
         "anchor": "x9",
         "domain": [
          0,
          0.375
         ]
        }
       }
      }
     },
     "metadata": {},
     "output_type": "display_data"
    }
   ],
   "source": [
    "\n",
    "import plotly.graph_objects as go\n",
    "from plotly.subplots import make_subplots\n",
    "\n",
    "def plot_topics_plotly(lda_model, num_topics=10, num_words=5):\n",
    "    # Create a subplot grid: 2 rows, 5 columns\n",
    "    fig = make_subplots(rows=2, cols=5, subplot_titles=[f'Topic {i}' for i in range(num_topics)])\n",
    "\n",
    "    for idx in range(num_topics):\n",
    "        topic = lda_model.print_topics(num_words=num_words)[idx][1]\n",
    "        words = topic.split(\" + \")\n",
    "        words = [word.split(\"*\")[1].strip().replace('\"', '') for word in words]\n",
    "        weights = [float(word.split(\"*\")[0]) for word in topic.split(\" + \")]\n",
    "\n",
    "        # Add a bar trace for each topic\n",
    "        fig.add_trace(\n",
    "            go.Bar(x=weights, y=words, orientation='h', name=f'Topic {idx + 1}'),\n",
    "            row=(idx // 5) + 1, col=(idx % 5) + 1  # Calculate row and column index\n",
    "        )\n",
    "\n",
    "    # Update layout\n",
    "    fig.update_layout(\n",
    "        title_text='LDA Topic Modeling Results', height=400,\n",
    "        template='plotly_dark',\n",
    "        font=dict(color='white'),  # Change font color to white for readability\n",
    "        xaxis=dict(showgrid=False, zeroline=False, title_font=dict(color='white')), \n",
    "        yaxis=dict(showgrid=False, zeroline=False, title_font=dict(color='white')),\n",
    "    )\n",
    "    \n",
    "    fig.write_html(\"./static/charts/lda_topics.html\")\n",
    "\n",
    "    fig.show()\n",
    "\n",
    "plot_topics_plotly(lda_model)\n"
   ]
  },
  {
   "cell_type": "markdown",
   "metadata": {},
   "source": [
    "# PyLDAvis\n",
    "\n",
    "1) Topic Circles\n",
    "    - each circle represents a topic\n",
    "    - larger circle = more dominant topics\n",
    "\n",
    "2) Distance between circles\n",
    "    - It shows similairty between topics\n",
    "\n",
    "3) Top words for selected topics\n",
    "    - Right panel shows the top words associated with it\n",
    "\n",
    "4) Relevance metrics\n",
    "    - Lower lambda values emphaiszes more exclusive words\n",
    "    - higher values includes more common words"
   ]
  },
  {
   "cell_type": "code",
   "execution_count": 5,
   "metadata": {},
   "outputs": [
    {
     "data": {
      "text/html": [
       "\n",
       "<link rel=\"stylesheet\" type=\"text/css\" href=\"https://cdn.jsdelivr.net/gh/bmabey/pyLDAvis@3.4.0/pyLDAvis/js/ldavis.v1.0.0.css\">\n",
       "\n",
       "\n",
       "<div id=\"ldavis_el2580815021029284641905053013\" style=\"background-color:white;\"></div>\n",
       "<script type=\"text/javascript\">\n",
       "\n",
       "var ldavis_el2580815021029284641905053013_data = {\"mdsDat\": {\"x\": [0.0028519763252200375, -0.04173133030249538, -0.002006025150863032, 0.02113985783530765, -0.20247793803206773, 0.02202047196563725, 0.11069063419567174, 0.10383743908218604, -0.05958593818291632, 0.045260852264319675], \"y\": [-0.03560548971035115, -0.09071939584436309, 0.03684897545828775, 0.05017745707762885, 0.03329535655861772, 0.0970890420958886, 0.09050251483454731, -0.16140902506140625, -0.07237576536104304, 0.05219632995219331], \"topics\": [1, 2, 3, 4, 5, 6, 7, 8, 9, 10], \"cluster\": [1, 1, 1, 1, 1, 1, 1, 1, 1, 1], \"Freq\": [16.258761282553145, 14.660426040076432, 12.096819279244716, 11.902313434040188, 11.715588962549367, 8.372094307376639, 7.065153041363835, 6.2019828005296365, 6.041247001406905, 5.6856138508591325]}, \"tinfo\": {\"Term\": [\"girls\", \"try\", \"work\", \"fuck\", \"love\", \"somebody\", \"rain\", \"run\", \"side\", \"world\", \"every\", \"home\", \"sorry\", \"star\", \"let\", \"baby\", \"come\", \"alone\", \"day\", \"get\", \"find\", \"high\", \"know\", \"next\", \"touch\", \"right\", \"want\", \"meant\", \"body\", \"go\", \"untouchable\", \"marry\", \"swipe\", \"swing\", \"swirlin\", \"waaaaaaa\", \"breakin\", \"fools\", \"hype\", \"mornin\", \"chandelier\", \"florida\", \"flow\", \"lick\", \"bebe\", \"holdin\", \"till\", \"blah\", \"rexha\", \"weak\", \"players\", \"future\", \"alyph\", \"drum\", \"explain\", \"complicated\", \"type\", \"hol\", \"toe\", \"softly\", \"deep\", \"somebody\", \"freaky\", \"find\", \"rude\", \"faster\", \"sign\", \"belong\", \"every\", \"lord\", \"sound\", \"learn\", \"go\", \"love\", \"day\", \"let\", \"fall\", \"still\", \"tonight\", \"need\", \"girl\", \"someone\", \"know\", \"keep\", \"really\", \"want\", \"say\", \"time\", \"boy\", \"bad\", \"watch\", \"show\", \"make\", \"us\", \"good\", \"back\", \"body\", \"baby\", \"wo\", \"get\", \"never\", \"give\", \"pickin\", \"star\", \"julia\", \"saxe\", \"gomez\", \"selena\", \"ba\", \"yuki\", \"chiba\", \"megan\", \"mercury\", \"thee\", \"stallion\", \"turnin\", \"de\", \"meghan\", \"trainor\", \"caring\", \"ending\", \"shape\", \"discoverin\", \"irrelevant\", \"david\", \"option\", \"bowie\", \"irreplaceable\", \"honey\", \"figured\", \"xcx\", \"charli\", \"freddie\", \"worried\", \"stop\", \"loving\", \"brand\", \"tears\", \"calls\", \"come\", \"old\", \"top\", \"fine\", \"left\", \"love\", \"right\", \"thinking\", \"know\", \"lovin\", \"lose\", \"time\", \"must\", \"baby\", \"sick\", \"world\", \"start\", \"ca\", \"ai\", \"put\", \"think\", \"used\", \"get\", \"always\", \"take\", \"heart\", \"body\", \"feel\", \"good\", \"make\", \"night\", \"need\", \"next\", \"temasek\", \"trade\", \"pearls\", \"hailie\", \"singh\", \"shaan\", \"flush\", \"royal\", \"judge\", \"wizkid\", \"slept\", \"taught\", \"imma\", \"ex\", \"snare\", \"hated\", \"slaughter\", \"earth\", \"noon\", \"suspect\", \"patience\", \"grave\", \"crawl\", \"gently\", \"prayin\", \"yonnyboii\", \"zynakal\", \"whatsapp\", \"uniform\", \"skin\", \"meant\", \"issues\", \"mama\", \"funeral\", \"gang\", \"danced\", \"fuckin\", \"shit\", \"brown\", \"never\", \"beautiful\", \"hurt\", \"hope\", \"pain\", \"cry\", \"tonight\", \"sick\", \"night\", \"easy\", \"make\", \"see\", \"sorry\", \"look\", \"time\", \"even\", \"away\", \"said\", \"take\", \"know\", \"life\", \"get\", \"try\", \"thing\", \"love\", \"world\", \"cater\", \"church\", \"worship\", \"sins\", \"deathless\", \"sharpen\", \"amen\", \"shrine\", \"dessert\", \"slippers\", \"lady\", \"rembau\", \"gaga\", \"stephen\", \"sanchez\", \"darkness\", \"inspire\", \"rain\", \"willing\", \"offer\", \"cares\", \"stressed\", \"death\", \"unless\", \"command\", \"cream\", \"desire\", \"momma\", \"asked\", \"galileo\", \"lies\", \"dinner\", \"anything\", \"knife\", \"wanted\", \"found\", \"saying\", \"let\", \"nobody\", \"man\", \"kiss\", \"take\", \"never\", \"wake\", \"want\", \"gets\", \"good\", \"baby\", \"tell\", \"much\", \"keep\", \"back\", \"boy\", \"life\", \"fall\", \"wo\", \"away\", \"used\", \"go\", \"better\", \"give\", \"say\", \"us\", \"love\", \"know\", \"turnt\", \"dey\", \"dice\", \"unholy\", \"foot\", \"lockdown\", \"payback\", \"thighs\", \"youtube\", \"mhmm\", \"award\", \"feat\", \"motivation\", \"ed\", \"sabronzo\", \"tabby\", \"shop\", \"movin\", \"tables\", \"bein\", \"wrestle\", \"inspired\", \"curves\", \"legs\", \"sheeran\", \"ew\", \"fanta\", \"yanga\", \"gotye\", \"awards\", \"spinnin\", \"side\", \"syasya\", \"deserve\", \"sorry\", \"touch\", \"hands\", \"camera\", \"swear\", \"alcohol\", \"body\", \"thousand\", \"talk\", \"baby\", \"bad\", \"walk\", \"know\", \"best\", \"little\", \"kick\", \"around\", \"hate\", \"better\", \"feelin\", \"feel\", \"put\", \"feeling\", \"give\", \"care\", \"never\", \"tell\", \"ai\", \"girl\", \"used\", \"want\", \"let\", \"go\", \"love\", \"make\", \"say\", \"ends\", \"nas\", \"special\", \"rare\", \"symphony\", \"poured\", \"apologies\", \"piffing\", \"overseas\", \"doctor\", \"psychology\", \"lotta\", \"cali\", \"bloody\", \"mother\", \"soldiers\", \"shoot\", \"freedom\", \"wings\", \"claiming\", \"hallelujah\", \"swish\", \"comfortable\", \"hah\", \"tick\", \"k\", \"across\", \"repeating\", \"moves\", \"locked\", \"trees\", \"high\", \"pussy\", \"chris\", \"martin\", \"nasty\", \"weed\", \"g\", \"block\", \"back\", \"hoes\", \"nigga\", \"living\", \"get\", \"said\", \"need\", \"make\", \"god\", \"ai\", \"bitch\", \"sky\", \"say\", \"smoke\", \"wo\", \"never\", \"know\", \"fuck\", \"life\", \"ca\", \"care\", \"want\", \"time\", \"tell\", \"go\", \"let\", \"baby\", \"hu\", \"crush\", \"du\", \"translate\", \"crew\", \"rush\", \"huntin\", \"meanin\", \"searchin\", \"youth\", \"season\", \"momentary\", \"spaceships\", \"convey\", \"usher\", \"po\", \"funk\", \"lambs\", \"crying\", \"cryin\", \"tryin\", \"wealth\", \"sincere\", \"hole\", \"buss\", \"cross\", \"afford\", \"tricking\", \"quite\", \"extraordinary\", \"try\", \"fuck\", \"accept\", \"thought\", \"please\", \"coming\", \"wasted\", \"unapologetic\", \"stars\", \"get\", \"single\", \"change\", \"saw\", \"break\", \"really\", \"heart\", \"god\", \"light\", \"free\", \"hate\", \"think\", \"much\", \"dark\", \"love\", \"little\", \"words\", \"lost\", \"reason\", \"see\", \"night\", \"want\", \"stay\", \"never\", \"time\", \"touch\", \"go\", \"tell\", \"give\", \"let\", \"celebrating\", \"staying\", \"called\", \"girls\", \"surrender\", \"fighting\", \"learns\", \"superhero\", \"cool\", \"greatest\", \"unstoppable\", \"struggling\", \"stronger\", \"steel\", \"taken\", \"mustang\", \"lungs\", \"bye\", \"barber\", \"devour\", \"nation\", \"persuasion\", \"endless\", \"physique\", \"dresses\", \"sweatpants\", \"parted\", \"flag\", \"motorbike\", \"circles\", \"playing\", \"kids\", \"power\", \"scared\", \"smart\", \"run\", \"singin\", \"whenever\", \"world\", \"empty\", \"hour\", \"late\", \"crazy\", \"day\", \"ready\", \"every\", \"wish\", \"fell\", \"life\", \"thing\", \"love\", \"pain\", \"inside\", \"hard\", \"feel\", \"turn\", \"make\", \"take\", \"get\", \"know\", \"little\", \"good\", \"loud\", \"andr\\u00e9\", \"ghosts\", \"morris\", \"maren\", \"camila\", \"shake\", \"middle\", \"dinah\", \"work\", \"gee\", \"lauren\", \"thanks\", \"forgiven\", \"rising\", \"yep\", \"surrounded\", \"embrace\", \"savin\", \"everywhere\", \"continue\", \"shh\", \"hoping\", \"scream\", \"aggressive\", \"intentions\", \"awakened\", \"ign\", \"missed\", \"rule\", \"send\", \"voices\", \"meet\", \"treat\", \"lover\", \"ready\", \"long\", \"wake\", \"want\", \"see\", \"close\", \"right\", \"let\", \"ai\", \"go\", \"kids\", \"feel\", \"know\", \"home\", \"baby\", \"new\", \"love\", \"ca\", \"put\", \"need\", \"sorry\", \"make\", \"say\", \"get\", \"better\", \"neverland\", \"reasons\", \"zayn\", \"agrees\", \"taylor\", \"pity\", \"swift\", \"calling\", \"pan\", \"peter\", \"captain\", \"bored\", \"teatime\", \"kanye\", \"stranger\", \"problem\", \"rip\", \"doorway\", \"worst\", \"leather\", \"worn\", \"ehh\", \"exhausting\", \"directly\", \"chi\", \"luqman\", \"million\", \"hi\", \"shootout\", \"hidden\", \"dancing\", \"alone\", \"boys\", \"home\", \"lost\", \"movies\", \"stare\", \"hanging\", \"name\", \"gone\", \"baby\", \"givin\", \"even\", \"good\", \"leave\", \"away\", \"back\", \"keep\", \"tonight\", \"never\", \"go\", \"run\", \"come\", \"give\", \"get\", \"always\", \"say\", \"make\", \"think\"], \"Freq\": [109.0, 136.0, 103.0, 128.0, 490.0, 125.0, 73.0, 97.0, 76.0, 104.0, 148.0, 84.0, 79.0, 61.0, 254.0, 290.0, 184.0, 50.0, 117.0, 199.0, 109.0, 51.0, 383.0, 42.0, 62.0, 134.0, 178.0, 58.0, 113.0, 227.0, 19.55885320896118, 13.993582935863328, 12.1422959409246, 10.288147149376593, 9.363256270404303, 9.360235107192677, 9.360258429134484, 9.359382884569134, 8.434904026568773, 7.507934579532904, 7.507027453171356, 7.50306029369517, 6.579613917493572, 6.579457952007735, 6.578047460402178, 13.070168141457927, 8.936300509989696, 5.6531789316241206, 5.650983753851505, 11.213852352816989, 11.208984869212282, 10.291874773075467, 4.727383841533008, 4.7247139650698555, 4.682045986659533, 4.6444257510291385, 8.424716224989266, 3.8013732664170723, 3.799000501775069, 3.7989800950759878, 24.188581277913816, 100.4674814326278, 11.211429786111752, 82.56293906984811, 10.288839033650211, 7.507090130889964, 7.5061640554506965, 9.360531490203146, 82.92541646339843, 15.48868071581153, 15.338992719311399, 13.89375822269487, 102.49460906656088, 175.439493821274, 54.85090603261298, 87.72158934403978, 33.21254022142914, 29.00459724404291, 31.34689176907496, 48.404546402499754, 26.385648127816395, 18.6431229943813, 74.59652135156738, 36.88379867394479, 26.64774594033277, 42.936402299553734, 38.92604281315931, 38.397248878600216, 29.20497742455645, 26.417731345762697, 16.932423579899964, 19.52915077257438, 31.650329666940003, 20.509715985378673, 24.162279958040585, 25.70470184490619, 24.03410256586743, 27.363478842943778, 19.528515249660128, 20.16999692004201, 20.191198508640035, 19.74711569721066, 25.624111371774642, 59.31251714373725, 15.58200171611097, 14.67267754356475, 11.94192478344792, 11.939964681833143, 11.935591473447202, 9.202236343283037, 9.202037441599286, 9.201381153664789, 9.201164727603613, 8.291743294762698, 8.29142697975021, 7.3857899362138175, 7.377911852343252, 6.4710792081571675, 6.470499151264462, 6.469895874571671, 20.144506674538377, 5.561169721405017, 5.561005430366675, 5.5582094159488165, 5.55808324043137, 5.5577406388527475, 5.55727668096047, 5.556764092920844, 5.554425026644292, 5.5530454200316575, 4.6493408772156, 4.648953150365113, 9.201733393650994, 12.860804999002967, 49.89248783783963, 13.704365440393428, 11.94043959246131, 31.099692471954558, 8.292977887152157, 110.75754916037468, 34.8441577398328, 29.74889944067823, 15.581309503202755, 28.822928862017786, 178.7281391845276, 60.07749827676243, 14.634665416496253, 115.22044030021581, 12.662945139488315, 18.149063647812756, 43.494891410983676, 20.592803030712535, 49.32107396807932, 18.484913083813698, 28.81245629406973, 13.561839678811161, 27.508795075872893, 25.409351878892, 23.50323586120527, 22.993088967353938, 19.944450134313737, 26.212225973219194, 19.372424663781352, 22.689144412889533, 20.567746675872954, 20.85557581285905, 21.12016236806886, 20.22505922780151, 20.842216979949402, 19.693108503560325, 19.67531249828714, 40.00110625377426, 9.892353902234484, 8.999380297086704, 8.108791862932144, 8.107773881495813, 7.222272462530185, 7.221919639418729, 7.218661086625024, 7.217974238354772, 6.32698381721257, 6.325788701222333, 5.438953712115149, 5.436906904269801, 5.435401622060683, 5.43523027149221, 5.434509442307536, 5.43438689411616, 5.433908992319701, 5.41057350308747, 4.547645171774093, 4.545375318990459, 4.544430360370229, 4.523574393393605, 4.5158314443933385, 4.4986342097026135, 3.6548208657503207, 3.654205232800722, 3.6539463994525643, 3.6538238512611882, 3.6537363684815034, 29.497226754597275, 44.9588088803654, 10.530161205989502, 27.710209506996485, 9.000767730592612, 10.78287292856384, 6.3291810086791935, 9.891769719705682, 25.89562867681143, 11.673514864583662, 58.93098005304522, 19.707436651067557, 16.64699258844702, 13.871375104523217, 14.246666107395612, 17.019109629312677, 20.88199201908377, 15.086739381766844, 23.97156278635202, 9.81679191652873, 25.178585110603905, 20.715397332633493, 17.020697333314224, 15.239471301128917, 20.611324636728714, 14.91780507320864, 16.12371253426818, 14.290474013070396, 17.914706271854637, 22.94909297732567, 16.205077303360287, 18.161819819527338, 15.939864219269202, 13.852324102500994, 18.414769408502636, 13.986933349502952, 27.015890254157593, 12.66219231317447, 12.661877886296775, 11.766068598012566, 10.867585258521895, 10.8657733914235, 10.86484718374305, 10.864120160510009, 10.860137894307886, 10.859172561110979, 9.971434511184986, 9.965220667798858, 9.07349466068653, 9.068867179149407, 9.06777948979195, 7.272316653388543, 7.271083843933688, 66.00903157120082, 14.460100850042847, 11.147718265357625, 6.3761523899641315, 6.37112084854798, 11.764386912178015, 5.4773307925993775, 5.4761609396573645, 5.475852559450394, 5.475357088137464, 5.475487980774333, 5.473942522874349, 4.582793794972993, 13.44261262832871, 10.861203531101523, 20.644625708258268, 11.324871490136953, 16.227731928159034, 20.19414162552222, 12.664474397843355, 68.271021374833, 20.646048454311188, 27.76981761506041, 23.65553622943304, 37.029842819761065, 46.68499874926286, 18.00047920108152, 36.89142670176459, 15.62971619346545, 27.22405222916031, 40.78836228661764, 23.73058181548641, 21.723674728936196, 25.704146848286445, 27.987466460744, 22.51418089085959, 23.17831021188631, 19.85072487425261, 19.867159013909887, 19.34129784529014, 18.042931097808545, 24.080950103970586, 17.772735972152464, 18.88143786606535, 18.687223070619403, 16.76219786490684, 19.655754600652564, 18.366001157775347, 12.58611067335074, 11.696753403051284, 9.023517521661798, 8.135947895018454, 8.130948374570105, 8.12466466357522, 7.23549995183645, 7.235648396981414, 7.235590279306734, 7.230219645995974, 7.221132282357505, 7.211383217483226, 7.160874756908895, 6.340879881020216, 7.120399647665711, 6.245673326913628, 5.453658260212001, 5.450323496047399, 5.449917372537589, 5.449399565062581, 5.449335845684319, 5.4490571609310345, 5.449026001454851, 5.4486951508369454, 5.448327188932799, 5.447468377752141, 5.446498932925707, 5.4451170626729315, 5.44436363354094, 5.432611609529055, 16.173506067868946, 64.94781505403363, 6.180888924756534, 9.022161209181624, 52.78198479587432, 41.95775694427972, 28.103483598770946, 7.235351506691484, 12.506960002140598, 7.237548074709197, 52.42615338083792, 8.127037685255816, 20.63019483087611, 94.39756727845442, 32.58367851044072, 22.084594541225755, 85.03769196405159, 22.287208159843978, 33.72934172820705, 9.759652794265387, 24.03641152553868, 16.63995012229269, 23.28936413435427, 14.251089624814465, 29.36151138872038, 24.74634623005595, 14.80334897728692, 23.746965899671324, 16.06596316204541, 24.797708250213827, 17.76795116865998, 17.737921836174284, 14.513114911640177, 14.04592863149161, 16.45060273818629, 17.15557993503209, 16.54889022926385, 16.843447409651223, 15.061644929951859, 14.78844704532869, 10.396117355728876, 7.810397629934591, 6.094141554884765, 12.106391885778857, 5.241444644131502, 5.241140913345581, 5.241014817533304, 5.241011815252059, 5.240722095111947, 5.240692572679707, 5.240597500440292, 5.240595498919462, 5.2400010472330125, 5.238224697496569, 5.236394306697721, 5.236168134843954, 11.256658226614107, 7.814563295161602, 3.522585591242528, 3.5209360878886726, 3.520629104631403, 3.520593577636674, 3.5192040218005882, 3.518297332864691, 3.5185084933122344, 3.51770613364959, 10.398202940433523, 9.523963660989171, 6.098121078674606, 2.663255890649427, 5.260883414430478, 36.538123021668326, 17.249096503574467, 9.579846122557065, 9.578561146184336, 5.23682013025426, 5.240908736929325, 5.233427052067549, 6.093348952636166, 37.601358907747375, 6.95493461739455, 12.101589236547763, 10.409836780256711, 30.363893613060537, 16.419507150801195, 25.794921938844595, 24.991005092994698, 12.961152364507639, 20.322928114891425, 12.962686530223678, 8.679843266991583, 19.65129978676604, 6.958127543498282, 13.665465527783589, 18.84089200886511, 22.618396296792486, 15.536705365246977, 14.056783865977344, 13.72363372613911, 10.380638594391652, 14.647909024807522, 13.319071324614596, 11.433610681655509, 12.170680734831892, 10.54400672756123, 9.736912467394031, 8.477983954845074, 6.796080536540297, 5.960515481855052, 5.119837190863403, 5.119748514703163, 5.11664231549019, 5.113873930220987, 5.113793277141912, 5.1137257143531585, 5.112934807457305, 5.112800948682085, 4.279734872645884, 4.277407334573303, 3.441680762596191, 3.439985569999606, 3.4381197813614164, 3.437924271541459, 3.43716355676683, 3.4371295642387376, 3.4366555690488845, 9.298867615534038, 2.6024466262141632, 2.602364072931654, 2.601172856512432, 2.600064193375719, 2.5998156889933326, 2.5959865679406895, 2.5930581433156257, 5.119631546625133, 4.281406207132691, 96.86267579041336, 86.60592153568949, 9.317216824424811, 24.804985372511656, 15.105848771282368, 6.794874540761035, 5.113186901112844, 6.421970595848375, 15.528165184017826, 49.34143230670152, 6.7999831321257105, 15.388697008262296, 5.953585228798592, 11.29122078136197, 18.36008987790413, 22.71853666625092, 12.596613246369472, 12.002042125565799, 10.163859642861166, 10.807047257382624, 16.774137865385747, 14.480060263934828, 9.28173200323626, 28.968049021129957, 15.27982970860325, 9.129557800520645, 10.942827349407036, 9.00823107808047, 15.197751054685238, 14.395209846608175, 15.970812928959134, 10.693262231237135, 16.37403609759266, 11.626612599156022, 10.165541111766284, 11.68864706272039, 10.510742201952583, 10.24729124162398, 10.046378087635963, 18.12762678698711, 16.488390244863034, 12.379359446526959, 102.9022548451199, 7.461116044132861, 5.819517172434239, 5.818886278830618, 5.817446566282756, 23.75101648577648, 3.3628945809173354, 3.3627403789554635, 3.360111532047781, 2.5407803509363904, 2.5403891005259194, 2.540322934539876, 2.5376266242738743, 3.108197235901106, 7.437216222753877, 1.7225621298983667, 1.7225619445594702, 1.7225619445594702, 1.7225613885427806, 1.7225612032038842, 1.7223871699800888, 1.7223501022007925, 1.7223365724613495, 1.7219746055965226, 1.721659344133609, 1.7216406249050644, 1.7212221296768109, 3.3629616735978614, 20.234823284768623, 9.919424478252152, 6.254462710461561, 4.183367634969944, 46.067471362301646, 4.9632974347396, 6.641072976320087, 37.67278179728336, 8.27928867180235, 8.280139748014989, 20.425529595691433, 9.921362381753754, 24.85093611438687, 10.741680492488905, 28.093758891219164, 14.037842321017182, 5.813257907222291, 18.44421972453315, 13.426521987576319, 30.559113168827068, 8.497343590289857, 7.457570140365391, 9.102246008423386, 12.537055417275381, 8.278633313464393, 10.283619857970299, 9.498480552498364, 9.197502046303034, 8.849560887806247, 8.045457706446403, 7.858676131995469, 9.04930427881251, 7.444153779499825, 7.43826182299169, 6.637698821994486, 6.637335584572793, 4.993550488718222, 9.895827284712738, 17.286630658169173, 4.174760623857146, 84.32439902025473, 3.356248783662774, 3.3562061772852796, 3.3562022055043266, 2.5384890543524836, 2.5382326939455235, 2.5380270640134617, 2.537729180441994, 2.537729180441994, 2.537711849034199, 2.5373206286103382, 2.53060163898651, 2.5288249891520764, 4.988659421010219, 4.967418697545084, 1.720625156059928, 1.7205830912889266, 1.719229436125978, 1.7191758170831137, 1.7191458481904691, 1.7191037834194678, 6.6331796574120725, 3.347550222304919, 11.532082606022593, 7.442003962791317, 6.63249506680419, 12.36747595955079, 14.930148465983514, 13.379101566811286, 27.965806523087235, 20.297448597363946, 9.087795891240091, 22.018786688104917, 29.50301284885158, 16.29770486226751, 23.67237630577723, 8.436912705092036, 16.413549436249863, 26.971500769349365, 11.495645487560651, 16.323606651216373, 8.271760275934357, 16.496094598723072, 11.196601433912612, 9.65806492260004, 10.414803292562901, 9.069906989828212, 9.806876722775481, 8.770914208261564, 8.89220156643338, 7.4907572129172175, 8.995274246164822, 17.089911977406683, 6.536184728897554, 4.941218195539824, 4.928821041130543, 4.924706893100468, 4.919028913465999, 8.950396153017072, 4.132673080033917, 4.132571814971312, 3.3226973406569758, 3.3215854638621956, 3.3208827251055926, 3.317718701622647, 9.804468409555213, 5.7522857625884125, 2.513155545860393, 2.5130863933763656, 2.512451957564674, 2.5121610753714188, 2.5121213169407985, 2.511994735612542, 2.511271268101513, 2.5110760440126985, 2.507186004401376, 2.4954627044187596, 17.10777948409053, 5.750997181657542, 1.7023018927611673, 1.701469004612021, 17.906459071752284, 31.559380453832198, 10.610311990672825, 33.39510263464011, 16.886851739787843, 4.062344494054547, 3.3216021148288655, 3.3227629250767166, 10.432876571312171, 8.116716233414982, 27.185314232195587, 4.134506045630202, 11.873357134983907, 14.681098864644706, 8.1604688571421, 12.426142043176082, 14.906103037440722, 13.05225916784551, 10.618332999188715, 12.89344700516613, 12.829882449626888, 9.760836760198188, 11.602098615672519, 10.151551353294009, 10.954157170933422, 8.535088421965314, 9.597382715789992, 7.8259618108425535, 7.307066037427222], \"Total\": [109.0, 136.0, 103.0, 128.0, 490.0, 125.0, 73.0, 97.0, 76.0, 104.0, 148.0, 84.0, 79.0, 61.0, 254.0, 290.0, 184.0, 50.0, 117.0, 199.0, 109.0, 51.0, 383.0, 42.0, 62.0, 134.0, 178.0, 58.0, 113.0, 227.0, 20.34029138355104, 14.776275290150213, 12.921872118961897, 11.067320793139451, 10.140044475273017, 10.139766852397745, 10.140105025074176, 10.140091242581537, 9.212686353189078, 8.285485974087923, 8.285476436283224, 8.284849401428929, 7.358023409503366, 7.358015085558103, 7.357629173270144, 14.670255265814067, 10.1258602080698, 6.430666987866898, 6.430332649518169, 12.88785287139525, 12.892263486587591, 11.959033027151882, 5.503478492250112, 5.5033594854960395, 5.502114549868391, 5.500913080780937, 10.071091890648479, 4.576239593976277, 4.576084910768472, 4.576169308339269, 29.462913151753984, 125.46954186641693, 13.747429651037734, 109.78064755434097, 12.891069479767971, 9.183584523106624, 9.183412399132772, 11.819191028655279, 148.56609817124928, 21.68189293617661, 21.456343980143323, 19.220338982390313, 227.5384660847846, 490.65746576907713, 117.84932986924154, 254.1268966517184, 68.08983444954877, 57.90791779473772, 70.41005808571208, 152.55724499749635, 61.473243639057465, 35.11787630779748, 383.5814198679238, 115.26776020472451, 68.92104334368703, 178.18521386734042, 149.89847600798268, 159.01638379644763, 92.62955241218998, 77.23686518732907, 32.11469391505223, 45.74609821462363, 160.49764945826067, 58.88643483652661, 110.63091662577997, 145.79897868155217, 113.81898531662719, 290.44177114583283, 85.6944243166972, 199.74663291673426, 217.92701087150826, 116.14570779057024, 26.408168411951905, 61.879482546683455, 16.373575381585727, 15.461499582382164, 12.724857197509895, 12.72464923436961, 12.72534087403179, 9.988675002275711, 9.988683007571781, 9.988652448247942, 9.988815289887881, 9.076524559475837, 9.076532307851437, 8.164472921526745, 8.164443097348867, 7.25222577340079, 7.252169189544903, 7.251828267766095, 22.61399713593208, 6.3398846472099475, 6.3398755426035684, 6.339894012174707, 6.3400617101179435, 6.339889700376419, 6.340077317385006, 6.339751119587473, 6.339290287323008, 6.337878987415054, 5.427637927763346, 5.4275959897845505, 10.808907771577843, 15.348407265399448, 63.90923111765484, 16.402022589693424, 14.404373039492333, 41.40869439723686, 9.895354409961374, 184.98385508896712, 51.03304167255319, 45.467381993361215, 22.53400682687284, 48.280654132956585, 490.65746576907713, 134.54594445594162, 21.728019111990868, 383.5814198679238, 18.161303268976894, 32.28484141601788, 159.01638379644763, 44.095633269678345, 290.44177114583283, 40.41117620555472, 104.75735954296134, 23.51808857742816, 119.86328131858326, 110.35640904790218, 98.83695810259768, 95.23474027068205, 67.59970582334721, 199.74663291673426, 72.30934113829323, 134.7648050543145, 104.07994633169781, 113.81898531662719, 129.40209847890026, 110.63091662577997, 160.49764945826067, 104.75018058248266, 152.55724499749635, 42.77188418401011, 10.680110928375843, 9.788442466627492, 8.896330302767089, 8.896198078197838, 8.004056993760885, 8.00406918989318, 8.003791004701277, 8.003822615604058, 7.111823509231702, 7.112057185717628, 6.219812988019626, 6.219849354972211, 6.219593788915318, 6.219789864277867, 6.219809462510232, 6.2197930541935005, 6.219456018098117, 6.220040905522254, 5.327678760920104, 5.327551797062554, 5.32773101415949, 5.327663601081522, 5.327915564911404, 5.3282649757008205, 4.4353644740881855, 4.435526556667038, 4.435535530364933, 4.435436987275209, 4.435422558836703, 36.12616463239602, 58.790788781532555, 13.360747312871524, 37.31367788830114, 11.585224918377218, 15.029692946173544, 8.009433430769146, 15.09592515274866, 60.003590097740755, 20.581714026871907, 217.92701087150826, 46.54833320711548, 36.43993616931862, 28.665462279058765, 31.258974927521436, 43.908482692159176, 70.41005808571208, 40.41117620555472, 104.75018058248266, 20.4821591716454, 160.49764945826067, 111.62736217349257, 79.59048095975349, 65.60921600648638, 159.01638379644763, 65.32405155429757, 86.02123014419587, 61.587154268913096, 134.7648050543145, 383.5814198679238, 105.71827788374436, 199.74663291673426, 136.79751237670678, 68.23738902682754, 490.65746576907713, 104.75735954296134, 27.83171395693653, 13.450434106918348, 13.450474596121444, 12.551722457994128, 11.652865859822267, 11.652828427878596, 11.652735041469374, 11.652727268367249, 11.652922089047271, 11.652915820564319, 10.75390258916734, 10.754090019292502, 9.855404149743643, 9.855394153667566, 9.855386240372368, 8.057692849096318, 8.057658587856569, 73.45011798091689, 16.139806361681696, 12.497002335919433, 7.158793771896111, 7.159052188039384, 13.442922823577476, 6.260064179373255, 6.260006386736853, 6.259969479781837, 6.260001228152983, 6.260161523947032, 6.2590011219859285, 5.361255207599241, 16.00772182876683, 13.371809570139002, 27.849519275799704, 15.300260734639831, 23.993477100075147, 33.10730549570899, 19.545046034064274, 254.1268966517184, 41.97121111271497, 71.075267898681, 57.84675178568071, 134.7648050543145, 217.92701087150826, 39.768612108465426, 178.18521386734042, 30.312569728189217, 110.63091662577997, 290.44177114583283, 85.70742579274359, 71.55142730694087, 115.26776020472451, 145.79897868155217, 92.62955241218998, 105.71827788374436, 68.08983444954877, 85.6944243166972, 86.02123014419587, 67.59970582334721, 227.5384660847846, 70.9643157077573, 116.14570779057024, 149.89847600798268, 58.88643483652661, 490.65746576907713, 383.5814198679238, 13.384129869139922, 12.49092872044498, 9.808497477525316, 8.914469466409763, 8.914360217458931, 8.914352729221983, 8.020004711598995, 8.020262170425202, 8.020303988661894, 8.02018959343786, 8.020532537335377, 8.020700636165603, 8.021182136050367, 7.126244070861774, 8.01543579688677, 7.121996725792052, 6.232005627669416, 6.231956454783473, 6.231825748385972, 6.231803477495325, 6.231936843459328, 6.2317792964903544, 6.231971530707018, 6.231735404129655, 6.232062359906094, 6.231830030863757, 6.2319365162281155, 6.2319008785124534, 6.2319741670259425, 6.232254502105118, 18.712545826862687, 76.83717629005918, 7.119489306300128, 10.706805532791446, 79.59048095975349, 62.0773354319231, 44.57362609896669, 8.918513906730594, 17.86163389792557, 8.93173149089859, 113.81898531662719, 10.535755555979925, 36.16916683933405, 290.44177114583283, 77.23686518732907, 45.25425670226924, 383.5814198679238, 51.1455823021189, 98.10371921098229, 14.157942889283012, 62.619737630674194, 35.22101182820383, 70.9643157077573, 29.91612751556757, 129.40209847890026, 98.83695810259768, 36.810916352713676, 116.14570779057024, 48.00877131801164, 217.92701087150826, 85.70742579274359, 110.35640904790218, 61.473243639057465, 67.59970582334721, 178.18521386734042, 254.1268966517184, 227.5384660847846, 490.65746576907713, 160.49764945826067, 149.89847600798268, 11.182170082645174, 8.603242612703635, 6.884420396815107, 13.793695957162933, 6.0247515361656045, 6.024729126263871, 6.02468673973271, 6.0246953978564495, 6.0246782358403275, 6.024675289868819, 6.024679484975265, 6.02467983958393, 6.024644180345517, 6.024990653140813, 6.024305908739338, 6.024565661969925, 13.681054001429024, 9.501915263729469, 4.305555635762568, 4.3057113621547725, 4.305619872940337, 4.305599663267949, 4.304879912943298, 4.304664829938319, 4.305626220718783, 4.305716143960394, 13.000389011764984, 12.031823254796665, 7.776055804929481, 3.445965495160344, 6.836436217849027, 51.3960741032514, 25.23202142173247, 13.569128731771897, 13.569054360310005, 6.864126648663258, 6.916150784390111, 6.951566665984568, 8.681790427817642, 145.79897868155217, 11.313630344545356, 30.88940765748018, 23.845772235153326, 199.74663291673426, 61.587154268913096, 152.55724499749635, 160.49764945826067, 39.81646857921611, 110.35640904790218, 47.01546951620828, 20.379948199471805, 149.89847600798268, 12.018117659615635, 85.6944243166972, 217.92701087150826, 383.5814198679238, 128.0861005032295, 105.71827788374436, 119.86328131858326, 48.00877131801164, 178.18521386734042, 159.01638379644763, 85.70742579274359, 227.5384660847846, 254.1268966517184, 290.44177114583283, 9.264022240756347, 7.584536251021711, 6.74493708424766, 5.905337236716431, 5.905343581688134, 5.905240250325628, 5.905747269330551, 5.905665122598185, 5.9056881624035995, 5.905804544302891, 5.9057573270884305, 5.0657058029380995, 5.0657166968768506, 4.225926305454648, 4.225870344819309, 4.226033795068738, 4.226044325502671, 4.226146345934287, 4.226177832989376, 4.226248912965859, 11.81483074791081, 3.38623021229789, 3.3862356302937857, 3.3863079401924785, 3.3863117117040016, 3.3863872667496286, 3.3860394061504953, 3.3864379225431485, 6.79689562478133, 5.957087890455092, 136.79751237670678, 128.0861005032295, 13.56507538523422, 44.44753917919638, 25.783615345963355, 10.242329267976704, 7.730615716255388, 10.405012848042327, 33.56368612050281, 199.74663291673426, 11.756565652997459, 42.07630437134196, 10.134677670715682, 29.558240313334608, 68.92104334368703, 104.07994633169781, 39.81646857921611, 37.17939725781638, 30.09604767250263, 35.22101182820383, 95.23474027068205, 71.55142730694087, 25.285859137319505, 490.65746576907713, 98.10371921098229, 26.79708948582027, 43.817868474168876, 26.763861205037234, 111.62736217349257, 104.75018058248266, 178.18521386734042, 48.07536548581724, 217.92701087150826, 159.01638379644763, 62.0773354319231, 227.5384660847846, 85.70742579274359, 116.14570779057024, 254.1268966517184, 18.915700070254726, 17.274911836937292, 13.17332436444534, 109.52378513748977, 8.250784472185424, 6.610575045046623, 6.610655418610431, 6.6108429828955675, 27.941404666806104, 4.148794533939501, 4.148803379327267, 4.149200561221402, 3.3286759306248754, 3.3287260139917603, 3.328713802656636, 3.3289694587644427, 4.1720713483717455, 10.024664848162018, 2.5080010648736644, 2.508000879534768, 2.508000879534768, 2.5080003235180786, 2.508000138179182, 2.508006294812568, 2.508006113281106, 2.5080058436364676, 2.5080178889632796, 2.5080165757119137, 2.5080442418772737, 2.5081095178724304, 4.967996735634066, 33.087440565400875, 16.762031824338354, 10.208785070360022, 6.647542189134532, 97.97505830774755, 8.509478516283869, 12.050264596211955, 104.75735954296134, 17.0256193180334, 17.170389655772585, 55.16017925926906, 26.73347485285431, 117.84932986924154, 32.245910159484, 148.56609817124928, 49.422483982988474, 12.83114788042225, 105.71827788374436, 68.23738902682754, 490.65746576907713, 31.258974927521436, 26.1130449602698, 47.653429812782676, 129.40209847890026, 43.40663698045977, 160.49764945826067, 134.7648050543145, 199.74663291673426, 383.5814198679238, 98.10371921098229, 110.63091662577997, 9.887574716452622, 8.24459101946122, 8.244621745889894, 7.424028255076305, 7.424065244271578, 5.785265770763532, 11.602263715724193, 20.539410328712833, 4.965624677885637, 103.95759792587857, 4.145972517843031, 4.145954146542961, 4.145980633062965, 3.3261428560296746, 3.326159537567667, 3.326258249012188, 3.3261583845439673, 3.3261666465986437, 3.3261763689333406, 3.326182056750886, 3.3269298255469337, 3.326953367903903, 6.605701591179855, 6.71449203057534, 2.506443745792334, 2.5064463235334986, 2.5064956308304516, 2.506569455477971, 2.5065481057377927, 2.5065141881809825, 10.018718588580173, 5.040713512981228, 20.210773810254867, 14.45763279409768, 12.857308064424409, 32.245910159484, 43.93394416672245, 39.768612108465426, 178.18521386734042, 111.62736217349257, 28.6481561523566, 134.54594445594162, 254.1268966517184, 110.35640904790218, 227.5384660847846, 33.087440565400875, 129.40209847890026, 383.5814198679238, 84.52488710934946, 290.44177114583283, 38.81001993109962, 490.65746576907713, 119.86328131858326, 98.83695810259768, 152.55724499749635, 79.59048095975349, 160.49764945826067, 149.89847600798268, 199.74663291673426, 70.9643157077573, 9.787839438362617, 18.757946020814156, 7.3583534525804914, 5.733306120033355, 5.73470649972656, 5.734348608859212, 5.735967764385217, 10.618579842886621, 4.9221014497372675, 4.922092923608225, 4.1111102321704935, 4.1112161534316956, 4.111278149547474, 4.111587577743256, 12.386660929705394, 7.442418136658118, 3.3000440970587817, 3.300045944884303, 3.300156172851375, 3.3001833710501254, 3.3001900340605737, 3.300202013030191, 3.3002468160651404, 3.3002750252784643, 3.300661787042531, 3.3012134032669325, 23.27627835840334, 8.327958770700752, 2.4891091970669073, 2.48919334546098, 27.644252195098066, 50.646213962735594, 18.530284556547514, 84.52488710934946, 43.817868474168876, 6.697202871022789, 5.022691131241748, 5.037627800745268, 38.422922803549184, 29.64930263685612, 290.44177114583283, 8.39159474814424, 65.32405155429757, 110.63091662577997, 34.070860813386716, 86.02123014419587, 145.79897868155217, 115.26776020472451, 70.41005808571208, 217.92701087150826, 227.5384660847846, 97.97505830774755, 184.98385508896712, 116.14570779057024, 199.74663291673426, 72.30934113829323, 149.89847600798268, 160.49764945826067, 95.23474027068205], \"Category\": [\"Default\", \"Default\", \"Default\", \"Default\", \"Default\", \"Default\", \"Default\", \"Default\", \"Default\", \"Default\", \"Default\", \"Default\", \"Default\", \"Default\", \"Default\", \"Default\", \"Default\", \"Default\", \"Default\", \"Default\", \"Default\", \"Default\", \"Default\", \"Default\", \"Default\", \"Default\", \"Default\", \"Default\", \"Default\", \"Default\", \"Topic1\", \"Topic1\", \"Topic1\", \"Topic1\", \"Topic1\", \"Topic1\", \"Topic1\", \"Topic1\", \"Topic1\", \"Topic1\", \"Topic1\", \"Topic1\", \"Topic1\", \"Topic1\", \"Topic1\", \"Topic1\", \"Topic1\", \"Topic1\", \"Topic1\", \"Topic1\", \"Topic1\", \"Topic1\", \"Topic1\", \"Topic1\", \"Topic1\", \"Topic1\", \"Topic1\", \"Topic1\", \"Topic1\", \"Topic1\", \"Topic1\", \"Topic1\", \"Topic1\", \"Topic1\", \"Topic1\", \"Topic1\", \"Topic1\", \"Topic1\", \"Topic1\", \"Topic1\", \"Topic1\", \"Topic1\", \"Topic1\", \"Topic1\", \"Topic1\", \"Topic1\", \"Topic1\", \"Topic1\", \"Topic1\", \"Topic1\", \"Topic1\", \"Topic1\", \"Topic1\", \"Topic1\", \"Topic1\", \"Topic1\", \"Topic1\", \"Topic1\", \"Topic1\", \"Topic1\", \"Topic1\", \"Topic1\", \"Topic1\", \"Topic1\", \"Topic1\", \"Topic1\", \"Topic1\", \"Topic1\", \"Topic1\", \"Topic1\", \"Topic1\", \"Topic1\", \"Topic2\", \"Topic2\", \"Topic2\", \"Topic2\", \"Topic2\", \"Topic2\", \"Topic2\", \"Topic2\", \"Topic2\", \"Topic2\", \"Topic2\", \"Topic2\", \"Topic2\", \"Topic2\", \"Topic2\", \"Topic2\", \"Topic2\", \"Topic2\", \"Topic2\", \"Topic2\", \"Topic2\", \"Topic2\", \"Topic2\", \"Topic2\", \"Topic2\", \"Topic2\", \"Topic2\", \"Topic2\", \"Topic2\", \"Topic2\", \"Topic2\", \"Topic2\", \"Topic2\", \"Topic2\", \"Topic2\", \"Topic2\", \"Topic2\", \"Topic2\", \"Topic2\", \"Topic2\", \"Topic2\", \"Topic2\", \"Topic2\", \"Topic2\", \"Topic2\", \"Topic2\", \"Topic2\", \"Topic2\", \"Topic2\", \"Topic2\", \"Topic2\", \"Topic2\", \"Topic2\", \"Topic2\", \"Topic2\", \"Topic2\", \"Topic2\", \"Topic2\", \"Topic2\", \"Topic2\", \"Topic2\", \"Topic2\", \"Topic2\", \"Topic2\", \"Topic2\", \"Topic2\", \"Topic2\", \"Topic2\", \"Topic2\", \"Topic3\", \"Topic3\", \"Topic3\", \"Topic3\", \"Topic3\", \"Topic3\", \"Topic3\", \"Topic3\", \"Topic3\", \"Topic3\", \"Topic3\", \"Topic3\", \"Topic3\", \"Topic3\", \"Topic3\", \"Topic3\", \"Topic3\", \"Topic3\", \"Topic3\", \"Topic3\", \"Topic3\", \"Topic3\", \"Topic3\", \"Topic3\", \"Topic3\", \"Topic3\", \"Topic3\", \"Topic3\", \"Topic3\", \"Topic3\", \"Topic3\", \"Topic3\", \"Topic3\", \"Topic3\", \"Topic3\", \"Topic3\", \"Topic3\", \"Topic3\", \"Topic3\", \"Topic3\", \"Topic3\", \"Topic3\", \"Topic3\", \"Topic3\", \"Topic3\", \"Topic3\", \"Topic3\", \"Topic3\", \"Topic3\", \"Topic3\", \"Topic3\", \"Topic3\", \"Topic3\", \"Topic3\", \"Topic3\", \"Topic3\", \"Topic3\", \"Topic3\", \"Topic3\", \"Topic3\", \"Topic3\", \"Topic3\", \"Topic3\", \"Topic3\", \"Topic3\", \"Topic3\", \"Topic4\", \"Topic4\", \"Topic4\", \"Topic4\", \"Topic4\", \"Topic4\", \"Topic4\", \"Topic4\", \"Topic4\", \"Topic4\", \"Topic4\", \"Topic4\", \"Topic4\", \"Topic4\", \"Topic4\", \"Topic4\", \"Topic4\", \"Topic4\", \"Topic4\", \"Topic4\", \"Topic4\", \"Topic4\", \"Topic4\", \"Topic4\", \"Topic4\", \"Topic4\", \"Topic4\", \"Topic4\", \"Topic4\", \"Topic4\", \"Topic4\", \"Topic4\", \"Topic4\", \"Topic4\", \"Topic4\", \"Topic4\", \"Topic4\", \"Topic4\", \"Topic4\", \"Topic4\", \"Topic4\", \"Topic4\", \"Topic4\", \"Topic4\", \"Topic4\", \"Topic4\", \"Topic4\", \"Topic4\", \"Topic4\", \"Topic4\", \"Topic4\", \"Topic4\", \"Topic4\", \"Topic4\", \"Topic4\", \"Topic4\", \"Topic4\", \"Topic4\", \"Topic4\", \"Topic4\", \"Topic4\", \"Topic4\", \"Topic4\", \"Topic4\", \"Topic4\", \"Topic5\", \"Topic5\", \"Topic5\", \"Topic5\", \"Topic5\", \"Topic5\", \"Topic5\", \"Topic5\", \"Topic5\", \"Topic5\", \"Topic5\", \"Topic5\", \"Topic5\", \"Topic5\", \"Topic5\", \"Topic5\", \"Topic5\", \"Topic5\", \"Topic5\", \"Topic5\", \"Topic5\", \"Topic5\", \"Topic5\", \"Topic5\", \"Topic5\", \"Topic5\", \"Topic5\", \"Topic5\", \"Topic5\", \"Topic5\", \"Topic5\", \"Topic5\", \"Topic5\", \"Topic5\", \"Topic5\", \"Topic5\", \"Topic5\", \"Topic5\", \"Topic5\", \"Topic5\", \"Topic5\", \"Topic5\", \"Topic5\", \"Topic5\", \"Topic5\", \"Topic5\", \"Topic5\", \"Topic5\", \"Topic5\", \"Topic5\", \"Topic5\", \"Topic5\", \"Topic5\", \"Topic5\", \"Topic5\", \"Topic5\", \"Topic5\", \"Topic5\", \"Topic5\", \"Topic5\", \"Topic5\", \"Topic5\", \"Topic5\", \"Topic5\", \"Topic5\", \"Topic5\", \"Topic5\", \"Topic5\", \"Topic5\", \"Topic5\", \"Topic6\", \"Topic6\", \"Topic6\", \"Topic6\", \"Topic6\", \"Topic6\", \"Topic6\", \"Topic6\", \"Topic6\", \"Topic6\", \"Topic6\", \"Topic6\", \"Topic6\", \"Topic6\", \"Topic6\", \"Topic6\", \"Topic6\", \"Topic6\", \"Topic6\", \"Topic6\", \"Topic6\", \"Topic6\", \"Topic6\", \"Topic6\", \"Topic6\", \"Topic6\", \"Topic6\", \"Topic6\", \"Topic6\", \"Topic6\", \"Topic6\", \"Topic6\", \"Topic6\", \"Topic6\", \"Topic6\", \"Topic6\", \"Topic6\", \"Topic6\", \"Topic6\", \"Topic6\", \"Topic6\", \"Topic6\", \"Topic6\", \"Topic6\", \"Topic6\", \"Topic6\", \"Topic6\", \"Topic6\", \"Topic6\", \"Topic6\", \"Topic6\", \"Topic6\", \"Topic6\", \"Topic6\", \"Topic6\", \"Topic6\", \"Topic6\", \"Topic6\", \"Topic6\", \"Topic6\", \"Topic6\", \"Topic6\", \"Topic6\", \"Topic6\", \"Topic6\", \"Topic6\", \"Topic7\", \"Topic7\", \"Topic7\", \"Topic7\", \"Topic7\", \"Topic7\", \"Topic7\", \"Topic7\", \"Topic7\", \"Topic7\", \"Topic7\", \"Topic7\", \"Topic7\", \"Topic7\", \"Topic7\", \"Topic7\", \"Topic7\", \"Topic7\", \"Topic7\", \"Topic7\", \"Topic7\", \"Topic7\", \"Topic7\", \"Topic7\", \"Topic7\", \"Topic7\", \"Topic7\", \"Topic7\", \"Topic7\", \"Topic7\", \"Topic7\", \"Topic7\", \"Topic7\", \"Topic7\", \"Topic7\", \"Topic7\", \"Topic7\", \"Topic7\", \"Topic7\", \"Topic7\", \"Topic7\", \"Topic7\", \"Topic7\", \"Topic7\", \"Topic7\", \"Topic7\", \"Topic7\", \"Topic7\", \"Topic7\", \"Topic7\", \"Topic7\", \"Topic7\", \"Topic7\", \"Topic7\", \"Topic7\", \"Topic7\", \"Topic7\", \"Topic7\", \"Topic7\", \"Topic7\", \"Topic7\", \"Topic7\", \"Topic7\", \"Topic7\", \"Topic7\", \"Topic7\", \"Topic7\", \"Topic7\", \"Topic7\", \"Topic8\", \"Topic8\", \"Topic8\", \"Topic8\", \"Topic8\", \"Topic8\", \"Topic8\", \"Topic8\", \"Topic8\", \"Topic8\", \"Topic8\", \"Topic8\", \"Topic8\", \"Topic8\", \"Topic8\", \"Topic8\", \"Topic8\", \"Topic8\", \"Topic8\", \"Topic8\", \"Topic8\", \"Topic8\", \"Topic8\", \"Topic8\", \"Topic8\", \"Topic8\", \"Topic8\", \"Topic8\", \"Topic8\", \"Topic8\", \"Topic8\", \"Topic8\", \"Topic8\", \"Topic8\", \"Topic8\", \"Topic8\", \"Topic8\", \"Topic8\", \"Topic8\", \"Topic8\", \"Topic8\", \"Topic8\", \"Topic8\", \"Topic8\", \"Topic8\", \"Topic8\", \"Topic8\", \"Topic8\", \"Topic8\", \"Topic8\", \"Topic8\", \"Topic8\", \"Topic8\", \"Topic8\", \"Topic8\", \"Topic8\", \"Topic8\", \"Topic8\", \"Topic8\", \"Topic8\", \"Topic8\", \"Topic8\", \"Topic9\", \"Topic9\", \"Topic9\", \"Topic9\", \"Topic9\", \"Topic9\", \"Topic9\", \"Topic9\", \"Topic9\", \"Topic9\", \"Topic9\", \"Topic9\", \"Topic9\", \"Topic9\", \"Topic9\", \"Topic9\", \"Topic9\", \"Topic9\", \"Topic9\", \"Topic9\", \"Topic9\", \"Topic9\", \"Topic9\", \"Topic9\", \"Topic9\", \"Topic9\", \"Topic9\", \"Topic9\", \"Topic9\", \"Topic9\", \"Topic9\", \"Topic9\", \"Topic9\", \"Topic9\", \"Topic9\", \"Topic9\", \"Topic9\", \"Topic9\", \"Topic9\", \"Topic9\", \"Topic9\", \"Topic9\", \"Topic9\", \"Topic9\", \"Topic9\", \"Topic9\", \"Topic9\", \"Topic9\", \"Topic9\", \"Topic9\", \"Topic9\", \"Topic9\", \"Topic9\", \"Topic9\", \"Topic9\", \"Topic9\", \"Topic9\", \"Topic9\", \"Topic9\", \"Topic9\", \"Topic10\", \"Topic10\", \"Topic10\", \"Topic10\", \"Topic10\", \"Topic10\", \"Topic10\", \"Topic10\", \"Topic10\", \"Topic10\", \"Topic10\", \"Topic10\", \"Topic10\", \"Topic10\", \"Topic10\", \"Topic10\", \"Topic10\", \"Topic10\", \"Topic10\", \"Topic10\", \"Topic10\", \"Topic10\", \"Topic10\", \"Topic10\", \"Topic10\", \"Topic10\", \"Topic10\", \"Topic10\", \"Topic10\", \"Topic10\", \"Topic10\", \"Topic10\", \"Topic10\", \"Topic10\", \"Topic10\", \"Topic10\", \"Topic10\", \"Topic10\", \"Topic10\", \"Topic10\", \"Topic10\", \"Topic10\", \"Topic10\", \"Topic10\", \"Topic10\", \"Topic10\", \"Topic10\", \"Topic10\", \"Topic10\", \"Topic10\", \"Topic10\", \"Topic10\", \"Topic10\", \"Topic10\", \"Topic10\", \"Topic10\", \"Topic10\", \"Topic10\", \"Topic10\"], \"logprob\": [30.0, 29.0, 28.0, 27.0, 26.0, 25.0, 24.0, 23.0, 22.0, 21.0, 20.0, 19.0, 18.0, 17.0, 16.0, 15.0, 14.0, 13.0, 12.0, 11.0, 10.0, 9.0, 8.0, 7.0, 6.0, 5.0, 4.0, 3.0, 2.0, 1.0, -5.3631, -5.6979, -5.8398, -6.0055, -6.0997, -6.1001, -6.1001, -6.1002, -6.2042, -6.3206, -6.3207, -6.3212, -6.4526, -6.4526, -6.4528, -5.7662, -6.1464, -6.6043, -6.6047, -5.9194, -5.9198, -6.0052, -6.7832, -6.7837, -6.7928, -6.8009, -6.2054, -7.0012, -7.0018, -7.0018, -5.1507, -3.7267, -5.9196, -3.923, -6.0055, -6.3207, -6.3208, -6.1, -3.9186, -5.5964, -5.6061, -5.7051, -3.7067, -3.1692, -4.3319, -3.8624, -4.8336, -4.9691, -4.8914, -4.4569, -5.0637, -5.4111, -4.0244, -4.7288, -5.0538, -4.5768, -4.6749, -4.6886, -4.9622, -5.0625, -5.5073, -5.3646, -4.8818, -5.3156, -5.1517, -5.0899, -5.1571, -5.0273, -5.3647, -5.3323, -5.3313, -5.3535, -4.9895, -4.1502, -5.4869, -5.5471, -5.753, -5.7532, -5.7535, -6.0136, -6.0136, -6.0137, -6.0137, -6.1178, -6.1178, -6.2335, -6.2346, -6.3657, -6.3658, -6.3659, -5.2301, -6.5173, -6.5173, -6.5178, -6.5178, -6.5179, -6.518, -6.518, -6.5185, -6.5187, -6.6963, -6.6964, -6.0137, -5.6789, -4.3232, -5.6153, -5.7531, -4.7959, -6.1177, -3.5257, -4.6822, -4.8403, -5.487, -4.8719, -3.0472, -4.1374, -5.5497, -3.4862, -5.6944, -5.3344, -4.4604, -5.2081, -4.3347, -5.3161, -4.8723, -5.6258, -4.9186, -4.9979, -5.0759, -5.0979, -5.2401, -4.9668, -5.2692, -5.1112, -5.2093, -5.1954, -5.1828, -5.2261, -5.1961, -5.2528, -5.2537, -4.3519, -5.7491, -5.8437, -5.9479, -5.948, -6.0637, -6.0637, -6.0642, -6.0643, -6.196, -6.1962, -6.3473, -6.3476, -6.3479, -6.3479, -6.3481, -6.3481, -6.3482, -6.3525, -6.5262, -6.5267, -6.5269, -6.5315, -6.5333, -6.5371, -6.7448, -6.745, -6.745, -6.7451, -6.7451, -4.6566, -4.2351, -5.6866, -4.719, -5.8435, -5.6629, -6.1957, -5.7491, -4.7868, -5.5835, -3.9645, -5.0599, -5.2286, -5.411, -5.3843, -5.2065, -5.002, -5.327, -4.864, -5.7568, -4.8149, -5.01, -5.2064, -5.317, -5.015, -5.3383, -5.2606, -5.3813, -5.1552, -4.9076, -5.2555, -5.1415, -5.272, -5.4124, -5.1277, -5.4027, -4.7282, -5.486, -5.486, -5.5594, -5.6389, -5.639, -5.6391, -5.6392, -5.6395, -5.6396, -5.7249, -5.7255, -5.8193, -5.8198, -5.8199, -6.0406, -6.0407, -3.8348, -5.3532, -5.6134, -6.1721, -6.1729, -5.5596, -6.324, -6.3242, -6.3243, -6.3244, -6.3244, -6.3246, -6.5023, -5.4262, -5.6394, -4.9972, -5.5976, -5.2379, -5.0192, -5.4858, -3.8012, -4.9971, -4.7007, -4.861, -4.4129, -4.1812, -5.1342, -4.4167, -5.2755, -4.7205, -4.3162, -4.8579, -4.9462, -4.778, -4.6929, -4.9105, -4.8814, -5.0364, -5.0356, -5.0624, -5.1319, -4.8432, -5.147, -5.0865, -5.0968, -5.2055, -5.0463, -5.1141, -5.4762, -5.5495, -5.809, -5.9125, -5.9132, -5.9139, -6.0298, -6.0298, -6.0298, -6.0306, -6.0318, -6.0332, -6.0402, -6.1618, -6.0459, -6.1769, -6.3125, -6.3132, -6.3132, -6.3133, -6.3133, -6.3134, -6.3134, -6.3135, -6.3135, -6.3137, -6.3139, -6.3141, -6.3142, -6.3164, -5.2255, -3.8352, -6.1874, -5.8091, -4.0427, -4.2722, -4.6729, -6.0298, -5.4825, -6.0295, -4.0494, -5.9136, -4.9821, -3.4613, -4.525, -4.9139, -3.5657, -4.9048, -4.4905, -5.7306, -4.8293, -5.197, -4.8608, -5.352, -4.6291, -4.8002, -5.314, -4.8414, -5.2321, -4.7981, -5.1314, -5.1331, -5.3338, -5.3665, -5.2085, -5.1665, -5.2025, -5.1849, -5.2967, -5.315, -5.3314, -5.6174, -5.8655, -5.1791, -6.0162, -6.0163, -6.0163, -6.0163, -6.0164, -6.0164, -6.0164, -6.0164, -6.0165, -6.0168, -6.0172, -6.0172, -5.2519, -5.6168, -6.4136, -6.4141, -6.4142, -6.4142, -6.4146, -6.4148, -6.4148, -6.415, -5.3312, -5.419, -5.8648, -6.6933, -6.0125, -4.0745, -4.8251, -5.4132, -5.4133, -6.0171, -6.0163, -6.0177, -5.8656, -4.0458, -5.7334, -5.1795, -5.3301, -4.2596, -4.8743, -4.4226, -4.4543, -5.1109, -4.6611, -5.1107, -5.5118, -4.6947, -5.7329, -5.0579, -4.7368, -4.554, -4.9296, -5.0297, -5.0537, -5.3329, -4.9885, -5.0836, -5.2363, -5.1738, -5.3173, -5.3969, -5.3656, -5.5867, -5.7179, -5.87, -5.87, -5.8706, -5.8711, -5.8711, -5.8712, -5.8713, -5.8713, -6.0492, -6.0497, -6.2671, -6.2676, -6.2682, -6.2682, -6.2684, -6.2684, -6.2686, -5.2732, -6.5466, -6.5467, -6.5471, -6.5475, -6.5476, -6.5491, -6.5502, -5.87, -6.0488, -2.9298, -3.0417, -5.2712, -4.292, -4.788, -5.5869, -5.8713, -5.6434, -4.7604, -3.6043, -5.5862, -4.7694, -5.7191, -5.0791, -4.5929, -4.3799, -4.9697, -5.018, -5.1842, -5.1229, -4.6832, -4.8303, -5.275, -4.1369, -4.7765, -5.2916, -5.1104, -5.3049, -4.7819, -4.8362, -4.7323, -5.1335, -4.7074, -5.0498, -5.1841, -5.0445, -5.1507, -5.1761, -5.1959, -4.4753, -4.5701, -4.8567, -2.739, -5.3631, -5.6116, -5.6117, -5.6119, -4.2052, -6.16, -6.16, -6.1608, -6.4403, -6.4405, -6.4405, -6.4415, -6.2387, -5.3663, -6.829, -6.829, -6.829, -6.829, -6.829, -6.8291, -6.8291, -6.8291, -6.8293, -6.8295, -6.8295, -6.8297, -6.16, -4.3654, -5.0783, -5.5395, -5.9417, -3.5427, -5.7707, -5.4795, -3.7438, -5.259, -5.2589, -4.356, -5.0781, -4.1599, -4.9986, -4.0372, -4.731, -5.6126, -4.458, -4.7755, -3.9531, -5.233, -5.3635, -5.1643, -4.8441, -5.2591, -5.0422, -5.1216, -5.1538, -5.1924, -5.2877, -5.3112, -5.1438, -5.3391, -5.3399, -5.4538, -5.4538, -5.7384, -5.0544, -4.4966, -5.9175, -2.9118, -6.1357, -6.1357, -6.1357, -6.4149, -6.4151, -6.4151, -6.4152, -6.4152, -6.4153, -6.4154, -6.4181, -6.4188, -5.7394, -5.7436, -6.8038, -6.8039, -6.8046, -6.8047, -6.8047, -6.8047, -5.4544, -6.1383, -4.9014, -5.3394, -5.4545, -4.8314, -4.6431, -4.7528, -4.0155, -4.336, -5.1396, -4.2546, -3.962, -4.5555, -4.1822, -5.2139, -4.5484, -4.0517, -4.9046, -4.5539, -5.2337, -4.5434, -4.9309, -5.0787, -5.0033, -5.1416, -5.0634, -5.1751, -5.1613, -5.3328, -5.0891, -4.4474, -5.4085, -5.6882, -5.6907, -5.6916, -5.6927, -5.0941, -5.8669, -5.8669, -6.0851, -6.0854, -6.0856, -6.0866, -5.003, -5.5362, -6.3643, -6.3643, -6.3646, -6.3647, -6.3647, -6.3648, -6.3651, -6.3651, -6.3667, -6.3714, -4.4463, -5.5365, -6.7539, -6.7544, -4.4007, -3.834, -4.924, -3.7774, -4.4593, -5.8841, -6.0854, -6.0851, -4.9409, -5.1919, -3.9832, -5.8665, -4.8116, -4.5993, -5.1865, -4.766, -4.5841, -4.7169, -4.9233, -4.7291, -4.7341, -5.0075, -4.8347, -4.9682, -4.8921, -5.1417, -5.0244, -5.2284, -5.297], \"loglift\": [30.0, 29.0, 28.0, 27.0, 26.0, 25.0, 24.0, 23.0, 22.0, 21.0, 20.0, 19.0, 18.0, 17.0, 16.0, 15.0, 14.0, 13.0, 12.0, 11.0, 10.0, 9.0, 8.0, 7.0, 6.0, 5.0, 4.0, 3.0, 2.0, 1.0, 1.7774, 1.7621, 1.7543, 1.7435, 1.7368, 1.7365, 1.7365, 1.7364, 1.7283, 1.718, 1.7179, 1.7174, 1.7047, 1.7047, 1.7045, 1.701, 1.6916, 1.6877, 1.6873, 1.6774, 1.6766, 1.6664, 1.6645, 1.664, 1.6551, 1.6473, 1.638, 1.631, 1.6304, 1.6304, 1.6193, 1.5943, 1.6126, 1.5316, 1.5911, 1.615, 1.6149, 1.5833, 1.2334, 1.4802, 1.4809, 1.492, 1.019, 0.7881, 1.0518, 0.7529, 1.0986, 1.1251, 1.0073, 0.6686, 0.9708, 1.1833, 0.1791, 0.6771, 0.8663, 0.3934, 0.4682, 0.3955, 0.6623, 0.7437, 1.1765, 0.9653, 0.193, 0.7618, 0.2951, 0.081, 0.2614, -0.5457, 0.3376, -0.4763, -0.5624, 0.0447, 1.8899, 1.8777, 1.8705, 1.8677, 1.8565, 1.8564, 1.8559, 1.838, 1.838, 1.8379, 1.8379, 1.8296, 1.8295, 1.8198, 1.8187, 1.8061, 1.806, 1.8059, 1.8044, 1.789, 1.7889, 1.7884, 1.7884, 1.7883, 1.7882, 1.7882, 1.7878, 1.7878, 1.7652, 1.7652, 1.759, 1.7432, 1.6724, 1.7403, 1.7324, 1.6337, 1.7434, 1.4071, 1.5384, 1.4958, 1.5511, 1.4042, 0.9101, 1.1137, 1.5248, 0.7173, 1.5594, 1.344, 0.6237, 1.1586, 0.147, 1.1379, 0.6292, 1.3695, 0.4482, 0.4514, 0.4837, 0.4989, 0.6994, -0.1108, 0.6029, 0.1384, 0.2986, 0.223, 0.1073, 0.2207, -0.1213, 0.2487, -0.1282, 2.0453, 2.0356, 2.0282, 2.0195, 2.0194, 2.0094, 2.0094, 2.009, 2.0089, 1.9953, 1.9951, 1.9781, 1.9777, 1.9775, 1.9774, 1.9773, 1.9772, 1.9772, 1.9728, 1.9539, 1.9534, 1.9532, 1.9486, 1.9469, 1.943, 1.9187, 1.9185, 1.9184, 1.9184, 1.9184, 1.9095, 1.844, 1.8742, 1.8147, 1.8598, 1.7802, 1.8768, 1.6895, 1.2719, 1.5451, 0.8044, 1.2527, 1.3288, 1.3864, 1.3264, 1.1645, 0.8968, 1.1269, 0.6375, 1.3768, 0.2599, 0.4279, 0.5698, 0.6524, 0.0691, 0.6354, 0.4379, 0.6514, 0.0943, -0.704, 0.2368, -0.2855, -0.0375, 0.5177, -1.1704, 0.0987, 2.0987, 2.068, 2.068, 2.0638, 2.0587, 2.0585, 2.0584, 2.0584, 2.058, 2.0579, 2.0529, 2.0523, 2.0458, 2.0453, 2.0451, 2.0259, 2.0257, 2.0216, 2.0185, 2.0142, 2.0127, 2.0118, 1.9951, 1.9949, 1.9947, 1.9946, 1.9945, 1.9945, 1.9944, 1.9715, 1.9538, 1.9205, 1.8291, 1.8276, 1.7374, 1.6341, 1.6945, 0.8141, 1.419, 1.1886, 1.2342, 0.8366, 0.5877, 1.3358, 0.5536, 1.466, 0.7263, 0.1654, 0.8443, 0.9364, 0.6278, 0.478, 0.714, 0.6109, 0.8958, 0.6667, 0.6361, 0.8076, -0.1175, 0.7439, 0.3118, 0.0463, 0.872, -1.0889, -0.9106, 2.0828, 2.0786, 2.0608, 2.0529, 2.0523, 2.0515, 2.0413, 2.0413, 2.0413, 2.0406, 2.0393, 2.0379, 2.0308, 2.0275, 2.0258, 2.013, 2.0108, 2.0102, 2.0102, 2.0101, 2.0101, 2.01, 2.01, 2.01, 2.0099, 2.0097, 2.0095, 2.0093, 2.0091, 2.0069, 1.9984, 1.9761, 2.0029, 1.9731, 1.7335, 1.7525, 1.683, 1.9351, 1.7879, 1.9339, 1.369, 1.8847, 1.5828, 1.0204, 1.2812, 1.4268, 0.6378, 1.3136, 1.0766, 1.7722, 1.1867, 1.3944, 1.0301, 1.4027, 0.661, 0.7595, 1.2333, 0.5569, 1.0496, -0.0292, 0.5707, 0.3162, 0.7007, 0.573, -0.2382, -0.5513, -0.4768, -1.2275, -0.2219, -0.1719, 2.4074, 2.3836, 2.3583, 2.3498, 2.341, 2.3409, 2.3409, 2.3409, 2.3409, 2.3409, 2.3408, 2.3408, 2.3407, 2.3403, 2.3401, 2.34, 2.2852, 2.2848, 2.2796, 2.2791, 2.279, 2.279, 2.2788, 2.2785, 2.2784, 2.2781, 2.2569, 2.2465, 2.2372, 2.2226, 2.2183, 2.1391, 2.0999, 2.1321, 2.132, 2.2097, 2.2029, 2.1964, 2.1262, 1.1251, 1.9937, 1.5432, 1.6514, 0.5965, 1.1583, 0.7029, 0.6205, 1.3579, 0.7883, 1.1919, 1.6267, 0.4485, 1.9338, 0.6444, 0.0321, -0.3505, 0.3708, 0.4626, 0.313, 0.9488, -0.0183, 0.0005, 0.4659, -0.448, -0.702, -0.9152, 2.5613, 2.5402, 2.5264, 2.5073, 2.5072, 2.5067, 2.506, 2.506, 2.506, 2.5058, 2.5058, 2.4814, 2.4808, 2.4447, 2.4442, 2.4437, 2.4436, 2.4434, 2.4433, 2.4432, 2.4105, 2.3867, 2.3867, 2.3862, 2.3858, 2.3857, 2.3843, 2.3831, 2.3666, 2.3197, 2.3048, 2.2587, 2.2744, 2.0667, 2.1153, 2.2396, 2.2366, 2.1674, 1.8792, 1.2517, 2.1025, 1.6441, 2.118, 1.6877, 1.3272, 1.128, 1.4991, 1.5193, 1.5644, 1.4686, 0.9135, 1.0524, 1.6478, -0.1796, 0.7905, 1.5732, 1.2626, 1.5611, 0.656, 0.6653, 0.2379, 1.1468, 0.0615, 0.0343, 0.8406, -0.3187, 0.5515, 0.2222, -0.5806, 2.7377, 2.7337, 2.7181, 2.7179, 2.6797, 2.6528, 2.6527, 2.6525, 2.6178, 2.5703, 2.5702, 2.5694, 2.5102, 2.51, 2.51, 2.5089, 2.4859, 2.4817, 2.4046, 2.4046, 2.4046, 2.4046, 2.4046, 2.4045, 2.4045, 2.4045, 2.4043, 2.4041, 2.4041, 2.4038, 2.3901, 2.2886, 2.2557, 2.2903, 2.3172, 2.0257, 2.2412, 2.1845, 1.7576, 2.0593, 2.051, 1.7868, 1.7891, 1.2238, 1.681, 1.1148, 1.5217, 1.9886, 1.0343, 1.1545, 0.0042, 1.4777, 1.5271, 1.1249, 0.4461, 1.1234, 0.0326, 0.1279, -0.2978, -0.9889, 0.2794, 0.1357, 2.718, 2.7044, 2.7036, 2.6946, 2.6945, 2.6594, 2.6475, 2.6341, 2.6331, 2.5972, 2.5952, 2.5952, 2.5952, 2.5363, 2.5362, 2.5361, 2.536, 2.536, 2.536, 2.5358, 2.533, 2.5323, 2.5258, 2.5052, 2.4304, 2.4304, 2.4296, 2.4295, 2.4295, 2.4295, 2.3942, 2.3972, 2.2455, 2.1425, 2.1446, 1.8482, 1.7273, 1.7172, 0.9547, 1.1019, 1.6584, 0.9966, 0.6532, 0.8939, 0.5435, 1.44, 0.7417, 0.1518, 0.8115, -0.0722, 1.2607, -0.5861, 0.4358, 0.4809, 0.1222, 0.6346, 0.0114, -0.032, -0.3053, 0.5581, 2.7828, 2.7741, 2.7487, 2.7186, 2.7158, 2.715, 2.7136, 2.6963, 2.6924, 2.6924, 2.6543, 2.654, 2.6537, 2.6527, 2.6334, 2.6096, 2.5948, 2.5948, 2.5945, 2.5944, 2.5944, 2.5943, 2.594, 2.5939, 2.5923, 2.5874, 2.5593, 2.497, 2.4873, 2.4868, 2.433, 2.3942, 2.3097, 1.9386, 1.9137, 2.3673, 2.4537, 2.4511, 1.5635, 1.5717, 0.4985, 2.1594, 1.1622, 0.8476, 1.4381, 0.9324, 0.5868, 0.6889, 0.9755, 0.0398, -0.0083, 0.5609, 0.0981, 0.43, -0.0361, 0.7305, 0.1188, -0.1536, 0.2997]}, \"token.table\": {\"Topic\": [2, 7, 8, 10, 1, 3, 6, 7, 9, 10, 1, 2, 3, 4, 5, 6, 8, 9, 2, 5, 1, 2, 3, 4, 5, 6, 7, 8, 9, 10, 1, 2, 3, 4, 5, 6, 7, 8, 9, 10, 1, 4, 9, 2, 3, 4, 6, 6, 1, 2, 3, 4, 5, 6, 7, 8, 9, 10, 4, 9, 5, 5, 1, 2, 3, 4, 5, 6, 7, 8, 9, 10, 2, 1, 2, 3, 4, 5, 6, 7, 8, 9, 10, 1, 2, 3, 4, 5, 6, 7, 8, 9, 10, 1, 3, 4, 5, 6, 9, 10, 8, 1, 3, 4, 7, 8, 9, 10, 1, 5, 1, 7, 1, 2, 3, 4, 5, 7, 8, 9, 1, 2, 3, 4, 5, 6, 8, 9, 10, 1, 3, 5, 6, 7, 9, 1, 4, 6, 6, 1, 2, 3, 4, 5, 6, 7, 8, 9, 10, 2, 1, 2, 3, 4, 5, 6, 7, 8, 9, 10, 3, 4, 7, 10, 2, 7, 1, 3, 5, 6, 7, 9, 1, 1, 3, 4, 7, 2, 6, 8, 1, 2, 3, 4, 5, 6, 7, 8, 9, 10, 6, 8, 8, 10, 2, 9, 4, 5, 9, 10, 1, 2, 3, 4, 5, 6, 7, 9, 4, 2, 4, 8, 1, 1, 2, 3, 4, 6, 7, 8, 10, 2, 10, 2, 6, 10, 4, 8, 6, 2, 3, 6, 9, 10, 1, 2, 3, 4, 5, 6, 7, 8, 9, 10, 6, 1, 2, 7, 9, 4, 1, 9, 7, 8, 9, 3, 1, 2, 3, 4, 5, 8, 10, 4, 7, 7, 7, 1, 2, 3, 4, 6, 8, 7, 7, 5, 3, 4, 2, 3, 7, 10, 1, 2, 3, 4, 7, 10, 4, 2, 1, 2, 3, 4, 6, 8, 9, 10, 2, 3, 4, 4, 1, 2, 3, 4, 4, 5, 4, 4, 8, 5, 5, 9, 4, 6, 10, 2, 6, 10, 8, 1, 7, 3, 2, 3, 4, 5, 6, 5, 10, 9, 3, 4, 8, 10, 2, 7, 8, 6, 1, 2, 3, 5, 6, 7, 8, 9, 10, 1, 2, 3, 4, 5, 6, 8, 9, 10, 9, 5, 3, 10, 1, 3, 7, 1, 2, 3, 4, 6, 7, 9, 5, 1, 4, 5, 1, 2, 3, 4, 5, 6, 7, 8, 9, 10, 1, 4, 5, 6, 2, 5, 6, 7, 8, 1, 4, 6, 7, 8, 8, 2, 1, 2, 3, 4, 6, 7, 8, 9, 10, 2, 4, 5, 6, 10, 8, 1, 1, 3, 1, 5, 9, 2, 3, 4, 5, 9, 1, 5, 6, 2, 8, 1, 4, 7, 9, 10, 4, 6, 1, 3, 4, 5, 6, 7, 8, 3, 5, 7, 3, 4, 7, 1, 3, 1, 6, 4, 4, 3, 5, 6, 10, 9, 3, 1, 2, 3, 4, 5, 6, 7, 8, 9, 10, 2, 4, 5, 6, 9, 1, 2, 3, 5, 6, 7, 9, 1, 6, 8, 9, 1, 2, 3, 4, 5, 6, 7, 9, 10, 3, 6, 10, 1, 2, 3, 4, 5, 6, 7, 8, 9, 10, 3, 4, 6, 7, 2, 1, 2, 3, 4, 5, 6, 9, 10, 1, 2, 3, 4, 5, 7, 8, 9, 10, 5, 3, 8, 6, 3, 6, 1, 2, 3, 4, 5, 9, 1, 10, 1, 2, 4, 5, 6, 7, 8, 9, 10, 1, 2, 4, 5, 7, 3, 1, 2, 3, 4, 5, 6, 7, 8, 10, 3, 10, 10, 1, 2, 3, 4, 5, 6, 10, 3, 5, 6, 1, 1, 8, 7, 1, 2, 3, 4, 6, 9, 10, 2, 2, 3, 6, 7, 8, 8, 9, 1, 3, 8, 7, 7, 1, 2, 3, 5, 6, 8, 9, 10, 1, 9, 3, 1, 3, 4, 7, 8, 4, 5, 9, 2, 2, 3, 5, 3, 2, 6, 10, 1, 2, 3, 4, 5, 6, 7, 8, 9, 10, 2, 5, 6, 7, 4, 5, 8, 9, 10, 1, 2, 3, 4, 5, 7, 8, 1, 3, 4, 1, 2, 3, 4, 5, 6, 7, 8, 9, 10, 4, 7, 1, 2, 3, 4, 6, 7, 8, 9, 9, 1, 2, 3, 9, 8, 10, 1, 2, 3, 4, 5, 6, 9, 10, 1, 2, 3, 4, 5, 6, 7, 10, 5, 1, 2, 3, 4, 5, 6, 7, 8, 9, 10, 1, 4, 7, 8, 1, 2, 3, 4, 5, 6, 7, 8, 9, 10, 1, 2, 3, 5, 6, 7, 8, 9, 10, 1, 2, 3, 4, 5, 6, 7, 8, 9, 10, 2, 6, 7, 8, 10, 5, 6, 1, 3, 4, 5, 6, 7, 8, 9, 10, 1, 2, 3, 4, 5, 6, 7, 8, 9, 10, 1, 3, 5, 6, 10, 1, 2, 3, 4, 10, 3, 4, 6, 7, 10, 6, 9, 1, 2, 3, 4, 5, 6, 7, 8, 9, 10, 1, 2, 4, 9, 1, 2, 4, 1, 2, 8, 10, 1, 2, 3, 4, 5, 6, 7, 8, 9, 10, 3, 4, 6, 9, 1, 2, 3, 4, 5, 6, 10, 9, 1, 6, 10, 7, 1, 2, 3, 4, 6, 7, 9, 2, 4, 5, 7, 9, 2, 2, 2, 5, 8, 9, 1, 2, 5, 6, 10, 9, 7, 4, 1, 9, 6, 5, 8, 3, 6, 2, 6, 10, 5, 1, 2, 3, 4, 5, 6, 7, 8, 9, 10, 2, 3, 5, 6, 8, 9, 10, 8, 1, 2, 3, 4, 5, 7, 10, 6, 6, 7, 8, 1, 2, 3, 4, 5, 6, 7, 8, 9, 10, 1, 2, 3, 4, 5, 6, 7, 8, 9, 10, 10, 1, 2, 3, 4, 6, 7, 8, 9, 10, 3, 4, 6, 1, 2, 3, 5, 6, 1, 2, 3, 4, 5, 7, 8, 9, 10, 1, 3, 4, 5, 7, 9, 3, 4, 9, 2, 3, 4, 6, 8, 10, 2, 6, 1, 3, 4, 5, 6, 8, 9, 10, 8, 3, 5, 3, 8, 10, 8, 2, 6, 10, 1, 4, 8, 9, 1, 2, 3, 6, 7, 8, 7, 6, 1, 6, 8, 9, 3, 4, 10, 6, 1, 3, 5, 6, 1, 2, 3, 4, 5, 6, 7, 8, 9, 3, 7, 1, 3, 4, 6, 9, 3, 6, 3, 4, 7, 8, 9, 10, 1, 2, 3, 4, 5, 6, 7, 8, 9, 10, 2, 3, 4, 6, 7, 10, 6, 10, 4, 4, 6, 10, 1, 1, 2, 3, 4, 5, 6, 7, 8, 9, 10, 9, 3, 1, 2, 9, 1, 2, 3, 4, 5, 6, 7, 8, 10, 7, 5, 1, 2, 3, 4, 5, 6, 8, 9, 10, 4, 9, 6, 7, 10, 2, 1, 2, 3, 4, 5, 6, 7, 8, 9, 10, 2, 4, 7, 2, 8, 1, 9, 7, 7, 1, 2, 3, 4, 5, 6, 7, 8, 9, 10, 2, 3, 9, 10, 3, 4, 9, 2, 4, 5, 9, 1, 2, 3, 4, 5, 6, 7, 8, 9, 6, 9, 10, 5, 1, 2, 3, 4, 5, 7, 8, 10, 4, 2, 3, 4, 6, 7, 1, 2, 3, 4, 5, 8, 1, 4, 7, 3, 2, 3, 8, 3, 7, 8, 9, 4, 3, 4, 8, 9, 2, 4, 6, 3, 3, 4, 6, 8, 9, 2, 5, 6, 8, 3, 1, 6, 1, 2, 5, 6, 10, 1, 2, 3, 4, 6, 7, 10, 3, 5, 9, 1, 7, 9, 10, 7, 6, 3, 5, 6, 2, 2, 3, 7, 2, 10, 2, 3, 6, 7, 9, 1, 2, 3, 5, 7, 1, 2, 3, 4, 5, 6, 7, 8, 9, 10, 8, 8, 4, 1, 2, 3, 4, 5, 6, 7, 8, 9, 10, 1, 2, 3, 4, 5, 6, 7, 8, 9, 10, 5, 10, 4, 8, 8, 8, 8, 9, 3, 3, 4, 5, 8, 10, 1, 1, 1, 6, 5, 6, 5, 5, 1, 2, 3, 4, 5, 6, 7, 8, 9, 10, 8, 1, 2, 3, 5, 6, 9, 10, 3, 10, 1, 2, 7, 8, 9, 10, 1, 2, 3, 4, 5, 6, 7, 8, 9, 10, 3, 9, 2, 5, 1, 2, 3, 5, 6, 7, 8, 9, 10, 1, 2, 3, 4, 5, 6, 7, 8, 9, 10, 1, 2, 3, 5, 10, 2, 3, 4, 5, 6, 7, 9, 5, 10, 6, 1, 1, 2, 3, 4, 5, 6, 7, 8, 10, 1, 1, 2, 3, 5, 7, 10, 2, 5, 6, 7, 8, 1, 2, 5, 7, 8, 3, 2, 7, 1, 2, 5, 9, 10, 6, 10, 7, 1, 2, 3, 4, 7, 8, 10, 4, 7, 10, 1, 2, 4, 5, 6, 7, 8, 9, 10, 2, 5, 1, 6, 1, 7, 5, 3, 4, 8, 1, 1, 2, 4, 5, 6, 7, 8, 9, 10, 1, 2, 3, 4, 5, 6, 10, 7, 5, 9, 1, 1, 2, 3, 4, 5, 7, 9, 10, 1, 2, 3, 5, 9, 10, 1, 2, 3, 4, 5, 6, 7, 8, 9, 2, 3, 4, 5, 6, 10, 1, 4, 7, 1, 2, 3, 4, 5, 6, 8, 10, 1, 5, 7, 3, 6, 3, 1, 2, 8, 3, 4, 6, 1, 2, 3, 4, 6, 8, 9, 3, 1, 2, 3, 4, 5, 6, 7, 8, 9, 2, 3, 4, 6, 7, 8, 10, 1, 2, 3, 4, 8, 9, 1, 2, 3, 4, 5, 6, 7, 8, 10, 2, 3, 9, 4, 10, 5, 2, 5, 9, 3, 7, 5, 2, 10, 3], \"Freq\": [0.1474374408694425, 0.6634684839124911, 0.07371872043472125, 0.07371872043472125, 0.076920775147192, 0.076920775147192, 0.76920775147192, 0.8859908702039077, 0.7979433024808471, 0.8720971626700637, 0.14498478283263924, 0.2265387231759988, 0.08155394034335957, 0.027184646781119856, 0.16310788068671914, 0.18123097854079903, 0.018123097854079905, 0.14498478283263924, 0.11196037420280684, 0.7837226194196478, 0.019744812529042716, 0.03948962505808543, 0.03948962505808543, 0.05923443758712815, 0.019744812529042716, 0.03948962505808543, 0.09872406264521359, 0.019744812529042716, 0.05923443758712815, 0.6318340009293669, 0.11063577504737349, 0.26275996573751204, 0.15212419069013855, 0.04148841564276506, 0.13829471880921687, 0.08297683128553011, 0.02765894376184337, 0.02765894376184337, 0.04148841564276506, 0.12446524692829518, 0.9085163150979694, 0.9439843917203609, 0.8490415089695312, 0.17953631265530792, 0.03590726253106158, 0.7540525131522933, 0.03590726253106158, 0.8299186689699702, 0.2874493040223587, 0.06387762311607971, 0.04790821733705978, 0.031938811558039855, 0.38326573869647823, 0.11178584045313948, 0.015969405779019927, 0.015969405779019927, 0.031938811558039855, 0.015969405779019927, 0.7988495132931918, 0.7979267848703013, 0.8727600028321282, 0.8022778913009908, 0.06975022317098123, 0.18600059512261663, 0.18600059512261663, 0.22087570670810724, 0.034875111585490615, 0.01162503719516354, 0.06975022317098123, 0.034875111585490615, 0.034875111585490615, 0.13950044634196246, 0.9430002794257581, 0.09296183497807935, 0.16870851533058845, 0.034430309251140497, 0.14116426792967604, 0.3236449069607207, 0.034430309251140497, 0.0275442474009124, 0.02410121647579835, 0.0550884948018248, 0.09296183497807935, 0.17832772379556977, 0.013717517215043828, 0.08230510329026297, 0.1920452410106136, 0.041152551645131485, 0.26063282708583274, 0.054870068860175314, 0.0480113102526534, 0.027435034430087657, 0.10288137911282871, 0.3366268159244942, 0.07768311136719097, 0.05178874091146065, 0.42725711251955034, 0.025894370455730325, 0.05178874091146065, 0.012947185227865162, 0.7974478272802272, 0.19334741718795292, 0.42966092708433984, 0.10741523177108496, 0.06444913906265097, 0.10741523177108496, 0.02148304635421699, 0.10741523177108496, 0.9513934224125631, 0.8023359558844096, 0.7614734357182117, 0.1692163190484915, 0.11731218474662722, 0.05865609237331361, 0.13686421553773176, 0.019552030791104534, 0.4301446774042998, 0.09776015395552268, 0.05865609237331361, 0.05865609237331361, 0.04227476824203439, 0.014091589414011462, 0.08454953648406878, 0.2536486094522063, 0.3241065565222636, 0.04227476824203439, 0.08454953648406878, 0.09864112589808023, 0.04227476824203439, 0.2126959509901856, 0.23396554608920414, 0.23396554608920414, 0.27650473628724126, 0.02126959509901856, 0.02126959509901856, 0.9330291883128979, 0.23036722858360262, 0.6911016857508079, 0.829876806098199, 0.21086113123602035, 0.18450348983151782, 0.008785880468167515, 0.026357641404502544, 0.45686578434471076, 0.008785880468167515, 0.008785880468167515, 0.04392940234083757, 0.04392940234083757, 0.7297110850023912, 0.9463606987169563, 0.3130750310759746, 0.06477414436054647, 0.021591381453515492, 0.24830088671542816, 0.11875259799433521, 0.07556983508730422, 0.043182762907030985, 0.03238707218027324, 0.010795690726757746, 0.07556983508730422, 0.05396571201852692, 0.2698285600926346, 0.05396571201852692, 0.5936228322037962, 0.8330803407478905, 0.13884672345798174, 0.2029890797421124, 0.03383151329035207, 0.2029890797421124, 0.1014945398710562, 0.3721466461938727, 0.06766302658070414, 0.887564771542804, 0.04858681831330372, 0.5830418197596446, 0.340107728193126, 0.8859196244785131, 0.09975395837630881, 0.09975395837630881, 0.6982777086341616, 0.125142577735142, 0.23359947843893175, 0.06674270812540907, 0.10845690070378973, 0.11679973921946588, 0.11679973921946588, 0.08342838515676133, 0.0500570310940568, 0.09177122367243747, 0.008342838515676134, 0.8299245316946249, 0.9109317942848101, 0.09417455203954597, 0.8475709683559137, 0.8084601792480142, 0.10105752240600177, 0.11212630382796436, 0.7848841267957506, 0.86426452960347, 0.7297298857433278, 0.12497716219929496, 0.10414763516607912, 0.020829527033215826, 0.12497716219929496, 0.3332724325314532, 0.20829527033215825, 0.04165905406643165, 0.020829527033215826, 0.8381300245796595, 0.8273775630718683, 0.9701163227595891, 0.9515904742169876, 0.9655449582798783, 0.11883172903857697, 0.07129903742314618, 0.07129903742314618, 0.09506538323086158, 0.023766345807715396, 0.3564951871157309, 0.14259807484629236, 0.09506538323086158, 0.9212181616705919, 0.9089086351643647, 0.9010196832933507, 0.736966993067518, 0.2210900979202554, 0.9665115561819181, 0.7974133448911562, 0.9289986400756365, 0.3141563440291308, 0.2443438231337684, 0.0698125208953624, 0.3141563440291308, 0.0349062604476812, 0.10271166632818869, 0.6000523664436287, 0.05405877175167826, 0.032435263051006955, 0.07568228045234957, 0.032435263051006955, 0.016217631525503477, 0.016217631525503477, 0.016217631525503477, 0.06487052610201391, 0.9291780678883448, 0.09763404142127746, 0.09763404142127746, 0.6834382899489423, 0.09763404142127746, 0.798721229836691, 0.9089400116989623, 0.9017322748930576, 0.7099035295830234, 0.8589403534358305, 0.10736754417947882, 0.9384533105083364, 0.14962514308434255, 0.11221885731325693, 0.1870314288554282, 0.03740628577108564, 0.07481257154217127, 0.3740628577108564, 0.07481257154217127, 0.7987259388642023, 0.8466907862066634, 0.8858998583701573, 0.9229305218307885, 0.09109857036153718, 0.3643942814461487, 0.387168924036533, 0.022774642590384295, 0.11387321295192147, 0.022774642590384295, 0.7098493396345381, 0.709861278572359, 0.8023143198526053, 0.7491166574842011, 0.12485277624736685, 0.21704331003983288, 0.07234777001327762, 0.07234777001327762, 0.6511299301194986, 0.0395477960455809, 0.0790955920911618, 0.395477960455809, 0.0790955920911618, 0.3559301644102281, 0.0395477960455809, 0.8687350251610869, 0.946363028363707, 0.4666976049929572, 0.14425198699782313, 0.008485410999871948, 0.050912465999231694, 0.03394164399948779, 0.2121352749967987, 0.042427054999359747, 0.050912465999231694, 0.8573762982404787, 0.07438858447108726, 0.8926630136530472, 0.9439737942858097, 0.8145834010501176, 0.0339409750437549, 0.1018229251312647, 0.0339409750437549, 0.09339853954919858, 0.8405868559427871, 0.7987218880267302, 0.9439692392982735, 0.7974478862108686, 0.960697180215156, 0.9175717300862986, 0.8055381265148698, 0.822626133157358, 0.14956838784679236, 0.909015150865153, 0.9463908178765299, 0.8299202462260618, 0.9090782522742051, 0.7974462220841617, 0.9085359612028562, 0.8895561107623362, 0.8038532343992977, 0.04882297767631628, 0.48822977676316276, 0.1952919107052651, 0.1952919107052651, 0.09764595535263255, 0.841958251827659, 0.90903526152493, 0.9019391746555503, 0.35241008787532613, 0.058735014645887686, 0.4698801171671015, 0.058735014645887686, 0.884408000928831, 0.08844080009288309, 0.7974481219335211, 0.8942807993521837, 0.15308297268867296, 0.16839126995754028, 0.22962445903300946, 0.04592489180660189, 0.04592489180660189, 0.030616594537734593, 0.030616594537734593, 0.10715808088207109, 0.18369956722640757, 0.5586738900844491, 0.10096516085863538, 0.020193032171727077, 0.06057909651518123, 0.013462021447818051, 0.013462021447818051, 0.18846830026945272, 0.013462021447818051, 0.026924042895636102, 0.9019349959847025, 0.8023325371900394, 0.803885679276162, 0.9090229207695677, 0.9087415310391163, 0.1678672563489079, 0.6714690253956316, 0.48465384395157224, 0.058745920478978454, 0.058745920478978454, 0.29372960239489226, 0.058745920478978454, 0.014686480119744614, 0.014686480119744614, 0.8023188276998454, 0.8711195481319269, 0.10888994351649087, 0.8727417114206668, 0.11591774921985391, 0.1622848489077955, 0.06955064953191235, 0.03863924973995131, 0.22410764849171758, 0.06182279958392209, 0.06955064953191235, 0.1004620493238734, 0.12364559916784418, 0.023183549843970783, 0.43454822129753057, 0.0334267862536562, 0.46797500755118676, 0.0334267862536562, 0.19016098194697523, 0.407487818457804, 0.1629951273831216, 0.19016098194697523, 0.054331709127707205, 0.07793534992498986, 0.31174139969995945, 0.07793534992498986, 0.07793534992498986, 0.46761209954993915, 0.9076366214911766, 0.9466889493967982, 0.7560531099884006, 0.02732722084295424, 0.02732722084295424, 0.00910907361431808, 0.045545368071590396, 0.045545368071590396, 0.06376351530022656, 0.01821814722863616, 0.00910907361431808, 0.7100379494391235, 0.13313211551983564, 0.08875474367989043, 0.044377371839945216, 0.044377371839945216, 0.7974428954610435, 0.9656180350870591, 0.9513424476142662, 0.8745855552560444, 0.8875659779278984, 0.8974283969736672, 0.9019456258655763, 0.1208192554515932, 0.1208192554515932, 0.604096277257966, 0.0906144415886949, 0.0302048138628983, 0.8001495755368101, 0.07274087050334636, 0.07274087050334636, 0.8326465717161184, 0.09251628574623538, 0.16613477139618799, 0.2325886799546632, 0.33226954279237597, 0.0996808628377128, 0.16613477139618799, 0.1052419404135481, 0.8419355233083848, 0.062457986999130265, 0.02342174512467385, 0.0468434902493477, 0.062457986999130265, 0.12491597399826053, 0.6792306086155416, 0.007807248374891283, 0.6624304174016923, 0.26497216696067694, 0.06624304174016923, 0.7768515556157766, 0.17263367902572813, 0.7098837042233725, 0.8361880076169973, 0.08361880076169972, 0.1438524649261013, 0.7192623246305065, 0.9132045589661695, 0.9326174200610364, 0.7318845461044847, 0.1330699174735427, 0.06653495873677134, 0.06653495873677134, 0.7235937978577748, 0.75071341576324, 0.10012684423239883, 0.1301648975021185, 0.09011415980915895, 0.07509513317429913, 0.055069764327819355, 0.15019026634859825, 0.24531076836937712, 0.045057079904579474, 0.045057079904579474, 0.055069764327819355, 0.09896884450578751, 0.5278338373642, 0.1649480741763125, 0.1649480741763125, 0.8490383447232903, 0.4229482366777327, 0.04880171961666146, 0.21147411833886634, 0.2440085980833073, 0.016267239872220486, 0.04880171961666146, 0.016267239872220486, 0.02739131044671233, 0.018260873631141553, 0.94043499200379, 0.018260873631141553, 0.17219749554639832, 0.15497774599175848, 0.06887899821855933, 0.1635876207690784, 0.20663699465567797, 0.04304937388659958, 0.08609874777319916, 0.017219749554639834, 0.08609874777319916, 0.11916686041364725, 0.35750058124094175, 0.476667441654589, 0.4482758531122079, 0.04834347435523811, 0.02197430652510823, 0.10547667132051951, 0.07471264218536798, 0.052738335660259754, 0.052738335660259754, 0.030764029135151524, 0.10547667132051951, 0.0571331969652814, 0.07534570761923315, 0.27626759460385486, 0.3264980663500103, 0.3264980663500103, 0.9430361232146683, 0.16863803041980005, 0.16863803041980005, 0.10118281825188002, 0.10118281825188002, 0.06745521216792001, 0.10118281825188002, 0.033727606083960006, 0.26982084867168005, 0.2169375499362658, 0.18078129161355483, 0.018078129161355483, 0.24405474367829902, 0.09039064580677741, 0.018078129161355483, 0.07231251664542193, 0.018078129161355483, 0.13558596871016612, 0.8023139804486911, 0.9384976932449328, 0.7231016083005056, 0.9292244943626228, 0.89926055261807, 0.9290183801730674, 0.022434791322108346, 0.04486958264421669, 0.022434791322108346, 0.20191312189897512, 0.6281741570190337, 0.06730437396632503, 0.19850613017739416, 0.5955183905321825, 0.14689393874692944, 0.14689393874692944, 0.14689393874692944, 0.020984848392418494, 0.08393939356967398, 0.14689393874692944, 0.18886363553176644, 0.020984848392418494, 0.08393939356967398, 0.0851764286225786, 0.0851764286225786, 0.028392142874192866, 0.48266642886127875, 0.31231357161612155, 0.8038852669911432, 0.17294397849355975, 0.20176797490915305, 0.08647198924677987, 0.11529598566237317, 0.07686399044158211, 0.028823996415593293, 0.22098397251954857, 0.05764799283118659, 0.038431995220791056, 0.24015488729799644, 0.7204646618939893, 0.8034731426737022, 0.09728369505334829, 0.038913478021339314, 0.019456739010669657, 0.09728369505334829, 0.038913478021339314, 0.7198993433947772, 0.019456739010669657, 0.26516687470228256, 0.08838895823409418, 0.6187227076386592, 0.874080108319769, 0.8861468164288699, 0.06816513972529768, 0.885920611174387, 0.20112419645124371, 0.011830835085367277, 0.14197002102440734, 0.07098501051220367, 0.035492505256101835, 0.13013918593904006, 0.3904175578171202, 0.9464781904684971, 0.0348851865797587, 0.48839261211662177, 0.1395407463190348, 0.2093111194785522, 0.1046555597392761, 0.15138437396797216, 0.7569218698398609, 0.1164795930724619, 0.34943877921738575, 0.4659183722898476, 0.8635557851755387, 0.8466329106167081, 0.19209693363551494, 0.0548848381815757, 0.46652112454339345, 0.1646545145447271, 0.02744241909078785, 0.02744241909078785, 0.0548848381815757, 0.02744241909078785, 0.8683677803956398, 0.7979032839601188, 0.8039110221170872, 0.19147518060828783, 0.15318014448663025, 0.19147518060828783, 0.11488510836497269, 0.26806525285160293, 0.8687387190305468, 0.8023390691669594, 0.7979424818403736, 0.946388060822153, 0.9464093916024924, 0.8233072404118279, 0.14969222552942327, 0.8436654807605295, 0.9771842512780768, 0.9289976083562265, 0.7296451658331506, 0.32099174942139175, 0.04337726343532321, 0.12145633761890498, 0.22556176986368068, 0.026026358061193924, 0.07807907418358177, 0.034701810748258566, 0.026026358061193924, 0.026026358061193924, 0.11278088493184034, 0.07063173003452072, 0.7063173003452072, 0.07063173003452072, 0.14126346006904145, 0.03022294813113129, 0.06044589626226258, 0.6044589626226258, 0.24178358504905031, 0.03022294813113129, 0.3111669963196739, 0.12100938745765097, 0.017287055351092994, 0.4148893284262319, 0.06914822140437198, 0.03457411070218599, 0.03457411070218599, 0.13071672664191888, 0.06535836332095944, 0.7189419965305539, 0.19552563319105573, 0.29980597089295213, 0.05996119417859042, 0.046926151965853376, 0.22159571761652982, 0.05996119417859042, 0.00521401688509482, 0.023463075982926688, 0.07038922794878007, 0.01824905909783187, 0.9298949769243061, 0.7098665674193023, 0.018129020126996073, 0.19941922139695678, 0.16316118114296466, 0.10877412076197643, 0.036258040253992145, 0.09064510063498035, 0.3625804025399214, 0.018129020126996073, 0.7235970042026402, 0.7283950617534274, 0.15608465609002015, 0.05202821869667339, 0.05202821869667339, 0.9076255862782828, 0.909040396456938, 0.2641553452169846, 0.029350593912998286, 0.11740237565199314, 0.08805178173899486, 0.14675296956499143, 0.08805178173899486, 0.05870118782599657, 0.2348047513039863, 0.062136689195190234, 0.6006546622201723, 0.041424459463460156, 0.041424459463460156, 0.062136689195190234, 0.020712229731730078, 0.10356114865865039, 0.062136689195190234, 0.8023447203304866, 0.34628369196435055, 0.07083075517452625, 0.019675209770701734, 0.2675828528815436, 0.0668957132203859, 0.04328546149554382, 0.03935041954140347, 0.019675209770701734, 0.11805125862421041, 0.011805125862421042, 0.9513435238450659, 0.8121080650363518, 0.06246985115664244, 0.06246985115664244, 0.12296832922586727, 0.07567281798514909, 0.15134563597029818, 0.21755935170730364, 0.009459102248143636, 0.1324274314740109, 0.02837730674443091, 0.17026384046658546, 0.06621371573700545, 0.018918204496287273, 0.21517293420667613, 0.1344830838791726, 0.026896616775834516, 0.026896616775834516, 0.08068985032750356, 0.32275940131001424, 0.08068985032750356, 0.05379323355166903, 0.08068985032750356, 0.07135305426031575, 0.020386586931518784, 0.07135305426031575, 0.17328598891790967, 0.34657197783581933, 0.020386586931518784, 0.1528994019863909, 0.08154634772607514, 0.05096646732879696, 0.020386586931518784, 0.1258084649310461, 0.41936154977015366, 0.20968077488507683, 0.08387230995403074, 0.1258084649310461, 0.8974291508317076, 0.8705832963833572, 0.06828433132740072, 0.18209155020640194, 0.1138072188790012, 0.13656866265480144, 0.06828433132740072, 0.022761443775800243, 0.045522887551600486, 0.34142165663700363, 0.022761443775800243, 0.21338465618330063, 0.04572528346785013, 0.22862641733925068, 0.09145056693570026, 0.015241761155950044, 0.10669232809165032, 0.10669232809165032, 0.060967044623800176, 0.04572528346785013, 0.10669232809165032, 0.6918215141156907, 0.046121434274379376, 0.046121434274379376, 0.046121434274379376, 0.13836430282313814, 0.06194857748341656, 0.557537197350749, 0.03097428874170828, 0.21682002119195798, 0.09292286622512484, 0.06846521988554814, 0.13693043977109629, 0.13693043977109629, 0.2510391395803432, 0.3879695793514395, 0.8299196194872497, 0.9102333239539798, 0.3566642968036727, 0.3648166235877566, 0.03668547052837776, 0.04076163392041974, 0.034647388832356775, 0.0061142450880629605, 0.05910436918460862, 0.06318053257665059, 0.03260930713633579, 0.0061142450880629605, 0.0777767783885458, 0.0777767783885458, 0.3111071135541832, 0.5444374487198206, 0.05506212771129692, 0.7158076602468599, 0.22024851084518768, 0.12193618128880913, 0.853553269021664, 0.7190672808533882, 0.6058378407226775, 0.1993798669825503, 0.13084303770729863, 0.15576552108011743, 0.07476745011845637, 0.09345931264807046, 0.15576552108011743, 0.012461241686409394, 0.06230620843204697, 0.06230620843204697, 0.04984496674563758, 0.7503950718505495, 0.13399911997331243, 0.08039947198398746, 0.026799823994662485, 0.196974283937378, 0.08441755025887629, 0.07034795854906357, 0.393948567874756, 0.196974283937378, 0.042208775129438145, 0.02813918341962543, 0.9428796447338893, 0.9474647517789768, 0.73697103235509, 0.221091309706527, 0.8466446871271733, 0.05102840193466437, 0.10205680386932874, 0.7654260290199655, 0.01700946731155479, 0.01700946731155479, 0.03401893462310958, 0.03401893462310958, 0.09895712152224512, 0.04947856076112256, 0.09895712152224512, 0.14843568228336768, 0.5937427291334707, 0.9010224398766266, 0.8273322132367119, 0.9010077510504271, 0.8727973221141078, 0.14606066834383188, 0.8276771206150473, 0.04296219458292284, 0.04296219458292284, 0.12888658374876852, 0.04296219458292284, 0.7303573079096882, 0.7979100801703176, 0.7896234316805385, 0.7987014361967293, 0.9655438467965847, 0.9428843425014758, 0.8299711328979164, 0.8726893220064447, 0.7974340988909342, 0.128599900140386, 0.7715994008423159, 0.14931606810460576, 0.14931606810460576, 0.5972642724184231, 0.8023162607566267, 0.2515673086825188, 0.041927884780419804, 0.041927884780419804, 0.3074711550564119, 0.041927884780419804, 0.027951923186946538, 0.19566346230862575, 0.06987980796736634, 0.013975961593473269, 0.013975961593473269, 0.47623763268278796, 0.06803394752611257, 0.11338991254352095, 0.1814238600696335, 0.04535596501740838, 0.02267798250870419, 0.09071193003481676, 0.9011797906711524, 0.2082090433594247, 0.18218291293949662, 0.07807839125978426, 0.10410452167971235, 0.052052260839856174, 0.10410452167971235, 0.2602613041992809, 0.9298819480212169, 0.7284247881664182, 0.14568495763328365, 0.7974478862108686, 0.31463599123586516, 0.1310983296816105, 0.07865899780896629, 0.09832374726120786, 0.0262196659363221, 0.17042782858609365, 0.0524393318726442, 0.019664749452241573, 0.06554916484080525, 0.04588441538856367, 0.0917738462984388, 0.0458869231492194, 0.2707328465803945, 0.2156685388013312, 0.1147173078730485, 0.08718515398351685, 0.07341907703875104, 0.01376607694476582, 0.02753215388953164, 0.05965300009398522, 0.9195083405971346, 0.025766541779038626, 0.38649812668557937, 0.025766541779038626, 0.025766541779038626, 0.07729962533711587, 0.05153308355807725, 0.05153308355807725, 0.206132334232309, 0.15459925067423175, 0.9351937788832235, 0.02337984447208059, 0.02337984447208059, 0.09712067104898076, 0.03237355701632692, 0.1618677850816346, 0.3237355701632692, 0.388482684195923, 0.13365132090608745, 0.19093045843726777, 0.22911655012472135, 0.12410479798422407, 0.02863956876559017, 0.13365132090608745, 0.05727913753118034, 0.047732614609316944, 0.05727913753118034, 0.11912927617390758, 0.04765171046956303, 0.5003429599304118, 0.23825855234781515, 0.07147756570434455, 0.023825855234781514, 0.9384950227623121, 0.8802110861725069, 0.08001918965204609, 0.6858301769385589, 0.019595147912530253, 0.11757088747518152, 0.05878544373759076, 0.05878544373759076, 0.039190295825060506, 0.94638870446654, 0.8299198404083061, 0.03199081231290048, 0.44787137238060665, 0.09597243693870143, 0.06398162462580095, 0.06398162462580095, 0.2559264985032038, 0.03199081231290048, 0.8126610231110764, 0.7974424779030284, 0.9384858182050707, 0.872817442348406, 0.899247187068999, 0.7974480630028449, 0.8126624308156563, 0.7974461643643789, 0.9845438575828237, 0.8299174762891698, 0.8719386178013857, 0.8532248826161365, 0.07756589841964877, 0.6038651310863049, 0.20128837702876828, 0.11635296135728598, 0.03878432045242866, 0.11635296135728598, 0.07756864090485732, 0.5817648067864299, 0.03878432045242866, 0.7098854731120776, 0.8299128301392467, 0.059658638670999714, 0.23863455468399886, 0.5965863867099971, 0.059658638670999714, 0.9018424581268066, 0.13436493107991804, 0.8061895864795082, 0.8299196683357717, 0.03963217941542705, 0.19816089707713527, 0.03963217941542705, 0.6737470500622599, 0.14164741882755338, 0.2428241465615201, 0.05058836386698336, 0.11129440050736338, 0.2529418193349168, 0.07082370941377669, 0.030353018320190012, 0.01011767277339667, 0.10117672773396671, 0.14712599033506155, 0.7356299516753076, 0.027229364022527795, 0.013614682011263897, 0.8985690127434172, 0.04084404603379169, 0.027229364022527795, 0.07249688575894045, 0.8699626291072855, 0.031011684739371055, 0.06202336947874211, 0.06202336947874211, 0.34112853213308164, 0.3721402168724527, 0.12404673895748422, 0.3917526301126885, 0.058037426683361266, 0.029018713341680633, 0.0870561400250419, 0.029018713341680633, 0.058037426683361266, 0.2611684200751257, 0.029018713341680633, 0.029018713341680633, 0.029018713341680633, 0.2989105323298537, 0.11209144962369515, 0.03736381654123171, 0.07472763308246343, 0.3362743488710854, 0.14945526616492685, 0.053310740892973135, 0.9062825951805433, 0.9298787700363594, 0.08311292302281245, 0.8311292302281246, 0.08311292302281245, 0.9330777001792568, 0.08918886443232421, 0.44594432216162105, 0.029729621477441404, 0.05945924295488281, 0.10405367517104491, 0.022297216108081053, 0.029729621477441404, 0.052026837585522456, 0.16351291812592772, 0.9090787613031593, 0.9019411023783367, 0.8745821011016623, 0.7757308278955914, 0.15514616557911828, 0.7979208773006915, 0.04082671721853615, 0.05103339652317019, 0.05103339652317019, 0.030620037913902113, 0.09186011374170634, 0.10206679304634038, 0.07144675513243827, 0.46950724801316573, 0.10206679304634038, 0.8467056018126086, 0.873314960955564, 0.1623715224174212, 0.06494860896696848, 0.22732013138438967, 0.09742291345045272, 0.04871145672522636, 0.25979443586787393, 0.04871145672522636, 0.03247430448348424, 0.06494860896696848, 0.9132062184566346, 0.9019365383087184, 0.29601336100392706, 0.5920267220078541, 0.09867112033464236, 0.9701516932479158, 0.2601760941046732, 0.1267524561022767, 0.09339654660167757, 0.1267524561022767, 0.10006772850179739, 0.1334236380023965, 0.026684727600479304, 0.020013545700359476, 0.06004063710107843, 0.06671181900119826, 0.15349158015649697, 0.6651301806781535, 0.15349158015649697, 0.2938645469880778, 0.5877290939761556, 0.1489315938490009, 0.7446579692450046, 0.8466413841202569, 0.8466314687645702, 0.0447918852747675, 0.16125078698916298, 0.1881259181540235, 0.089583770549535, 0.11645890171439549, 0.0447918852747675, 0.1343756558243025, 0.026875131164860497, 0.17916754109907, 0.008958377054953498, 0.9430515355651367, 0.1996263276902196, 0.6986921469157686, 0.0998131638451098, 0.8745551586234377, 0.08619007673862218, 0.8619007673862219, 0.9463894587798969, 0.9439768265774214, 0.8023026265217508, 0.9017258940091802, 0.14999102529264938, 0.16665669476961043, 0.43330740640098714, 0.016665669476961045, 0.11665968633872731, 0.06666267790784418, 0.016665669476961045, 0.016665669476961045, 0.016665669476961045, 0.8040316191172858, 0.1461875671122338, 0.8035003053930864, 0.8023099301773017, 0.4371957561531797, 0.17487830246127187, 0.06557936342297695, 0.04371957561531797, 0.10929893903829492, 0.06557936342297695, 0.021859787807658983, 0.08743915123063593, 0.9439850214173332, 0.4454213336538769, 0.3711844447115641, 0.09898251858975043, 0.02474562964743761, 0.04949125929487522, 0.026029066873176472, 0.03904360030976471, 0.03904360030976471, 0.026029066873176472, 0.8459446733782353, 0.026029066873176472, 0.8711358754568698, 0.10889198443210872, 0.8859395291814716, 0.8745564912214466, 0.23503202883381977, 0.11751601441690988, 0.5875800720845494, 0.08505885387923977, 0.5954119771546784, 0.17011770775847954, 0.17011770775847954, 0.9560440840019739, 0.8027422865142553, 0.02768076850049156, 0.08304230550147468, 0.05536153700098312, 0.441610543457282, 0.09813567632384045, 0.441610543457282, 0.8039288300215328, 0.8038826906260389, 0.9439697470900721, 0.15043153868726236, 0.6017261547490494, 0.15043153868726236, 0.08320770592555359, 0.08320770592555359, 0.5824539414788751, 0.16641541185110717, 0.8038831462824373, 0.8740935333644013, 0.8299353481301571, 0.7970061778536383, 0.04782037067121829, 0.07173055600682744, 0.023910185335609145, 0.04782037067121829, 0.5410349940717027, 0.02847552600377383, 0.1993286820264168, 0.02847552600377383, 0.11390210401509532, 0.08542657801132149, 0.02847552600377383, 0.21359338195978975, 0.6659087790511091, 0.11307884927282986, 0.6990939376196468, 0.04660626250797645, 0.04660626250797645, 0.1864250500319058, 0.7896217335774238, 0.8715330636658591, 0.053440082886234315, 0.855041326179749, 0.053440082886234315, 0.8813938769412842, 0.9534662794810687, 0.016160445414933368, 0.016160445414933368, 0.1990964552408725, 0.5972893657226175, 0.2681469480940663, 0.029794105343785144, 0.11917642137514058, 0.4767056855005623, 0.08938231603135544, 0.1700818494169233, 0.5952864729592315, 0.08504092470846165, 0.08504092470846165, 0.08504092470846165, 0.18720606508244017, 0.16640539118439127, 0.041601347796097816, 0.020800673898048908, 0.06240202169414673, 0.18720606508244017, 0.228807412878538, 0.020800673898048908, 0.020800673898048908, 0.06240202169414673, 0.9261986487125642, 0.9012456980208002, 0.9132054852063688, 0.5007950743937011, 0.10361277401248986, 0.03453759133749662, 0.03453759133749662, 0.03453759133749662, 0.05180638700624493, 0.06907518267499324, 0.05180638700624493, 0.03453759133749662, 0.10361277401248986, 0.04694157553667164, 0.7823595922778606, 0.015647191845557212, 0.015647191845557212, 0.015647191845557212, 0.015647191845557212, 0.015647191845557212, 0.031294383691114425, 0.06258876738222885, 0.015647191845557212, 0.16146401450318607, 0.8073200725159303, 0.8380997710876015, 0.9012592581930393, 0.7230308479272182, 0.9075998349263446, 0.848404175820857, 0.9019414150391744, 0.9385173885605099, 0.055985919637292464, 0.1679577589118774, 0.7278169552848021, 0.7974463078204445, 0.871692485973359, 0.9035610503130012, 0.9286580063264117, 0.8875700715067799, 0.9290227408100458, 0.8427570773497085, 0.8299097431629856, 0.8424603704563944, 0.8023330885487272, 0.11130502503197717, 0.17066770504903167, 0.1335660300383726, 0.274552395078877, 0.08904402002558173, 0.03710167501065906, 0.05936268001705449, 0.0667830150191863, 0.029681340008527245, 0.022261005006395433, 0.9012490042267105, 0.05529571662195424, 0.1382392915548856, 0.02764785831097712, 0.5806050245305194, 0.02764785831097712, 0.05529571662195424, 0.11059143324390848, 0.8038779903894214, 0.8718842019619327, 0.09659807096615232, 0.7486350499876805, 0.07244855322461424, 0.04829903548307616, 0.02414951774153808, 0.7297000813068821, 0.12834360498237382, 0.07000560271765845, 0.011667600452943074, 0.2800224108706338, 0.21001680815297533, 0.12834360498237382, 0.12834360498237382, 0.03500280135882922, 0.011667600452943074, 0.023335200905886148, 0.9363198628799945, 0.7235923815166646, 0.8813946293626285, 0.872789423993217, 0.2637850049175137, 0.01465472249541743, 0.205166114935844, 0.13189250245875686, 0.01465472249541743, 0.13189250245875686, 0.19051139244042659, 0.01465472249541743, 0.02930944499083486, 0.17850628826919201, 0.2415085076583186, 0.042001479592751065, 0.10500369898187766, 0.10500369898187766, 0.021000739796375532, 0.17850628826919201, 0.021000739796375532, 0.042001479592751065, 0.07350258928731436, 0.13807057074726217, 0.690352853736311, 0.09204704716484145, 0.046023523582420726, 0.046023523582420726, 0.08999373359846646, 0.08999373359846646, 0.022498433399616616, 0.04499686679923323, 0.11249216699808308, 0.5624608349904154, 0.06749530019884985, 0.7593190595105758, 0.18982976487764394, 0.929017010522627, 0.8888133763517151, 0.23896908666117528, 0.2704123875376457, 0.1320618636811758, 0.10690722297999947, 0.01886598052588226, 0.08175258227882312, 0.07546392210352904, 0.03144330087647043, 0.044020621227058604, 0.8741096544312748, 0.4402780063362944, 0.028405032666857705, 0.2982528430020059, 0.028405032666857705, 0.05681006533371541, 0.15622767966771736, 0.6598136660778129, 0.04398757773852086, 0.17595031095408345, 0.04398757773852086, 0.0659813666077813, 0.08054469421425527, 0.06443575537140421, 0.6765754313997442, 0.16108938842851053, 0.016108938842851053, 0.9194516932274373, 0.8273386683600689, 0.8466916959310136, 0.06916761645850138, 0.06916761645850138, 0.2766704658340055, 0.4841733152095097, 0.06916761645850138, 0.7313752137328019, 0.1462750427465604, 0.885886606699425, 0.058480595597162344, 0.029240297798581172, 0.11696119119432469, 0.058480595597162344, 0.7090772216155935, 0.007310074449645293, 0.02193022334893588, 0.0846393842905306, 0.7617544586147753, 0.0846393842905306, 0.207341564011317, 0.069113854670439, 0.23037951556813002, 0.023037951556813, 0.069113854670439, 0.069113854670439, 0.184303612454504, 0.046075903113626, 0.11518975778406501, 0.8573731663122486, 0.9712996008783792, 0.7943527957905346, 0.09929409947381683, 0.28832256565300074, 0.5766451313060015, 0.8974173987744827, 0.9018306479121793, 0.7987138560775251, 0.7231000666236569, 0.9832700831500265, 0.3566186348060917, 0.0509455192580131, 0.2886912757954076, 0.03396367950534207, 0.1018910385160262, 0.1018910385160262, 0.016981839752671035, 0.016981839752671035, 0.03396367950534207, 0.10355074648242595, 0.29585927566407416, 0.07396481891601854, 0.26627334809766673, 0.2071014929648519, 0.029585927566407415, 0.014792963783203708, 0.7099129304044645, 0.19838461309588892, 0.5951538392876667, 0.887594372830355, 0.025145458867726816, 0.025145458867726816, 0.025145458867726816, 0.4526182596190827, 0.025145458867726816, 0.05029091773545363, 0.32689096528044864, 0.05029091773545363, 0.044194737594700384, 0.2651684255682023, 0.044194737594700384, 0.48614211354170417, 0.022097368797350192, 0.11048684398675096, 0.24132193163914076, 0.05612137945096297, 0.06173351739605926, 0.20764910396856298, 0.08979420712154075, 0.08418206917644445, 0.08979420712154075, 0.011224275890192594, 0.1571398624626963, 0.04167799422439143, 0.04167799422439143, 0.6668479075902629, 0.04167799422439143, 0.16671197689756573, 0.04167799422439143, 0.12935580252647552, 0.12935580252647552, 0.6467790126323776, 0.5293527020673879, 0.031138394239258117, 0.031138394239258117, 0.09341518271777435, 0.06227678847851623, 0.031138394239258117, 0.06227678847851623, 0.15569197119629058, 0.85351688211887, 0.07759244382898818, 0.8859409466919278, 0.14458909748714846, 0.7229454874357423, 0.9018277142648107, 0.3319429186025853, 0.08298572965064632, 0.5809001075545243, 0.0619586119926537, 0.8674205678971518, 0.9290322407578295, 0.060701117350407126, 0.1416359404842833, 0.060701117350407126, 0.30350558675203565, 0.02023370578346904, 0.2832718809685666, 0.12140223470081425, 0.8436377609630513, 0.23338741300235427, 0.11669370650117714, 0.12836307715129486, 0.23338741300235427, 0.05834685325058857, 0.163371189101648, 0.04667748260047086, 0.011669370650117715, 0.035008111950353145, 0.18658742781173154, 0.03731748556234631, 0.18658742781173154, 0.11195245668703893, 0.33585737006111677, 0.03731748556234631, 0.07463497112469263, 0.048096532622511956, 0.03847722609800956, 0.02885791957350717, 0.03847722609800956, 0.03847722609800956, 0.8080217480582008, 0.15273389926784425, 0.2768301924229677, 0.13364216185936373, 0.01909173740848053, 0.009545868704240266, 0.03818347481696106, 0.009545868704240266, 0.3627430107611301, 0.909038561124549, 0.8469934225231591, 0.06515334019408917, 0.06515334019408917, 0.9665086467468337, 0.9090478883028023, 0.8023187855710867, 0.9212110436519907, 0.8023234158360832, 0.9019143359932807, 0.9018095030876552, 0.8466246999019488, 0.8727848732287115, 0.9010204054040739, 0.9512997772001804, 0.9018076786031067], \"Term\": [\"accept\", \"accept\", \"accept\", \"accept\", \"across\", \"across\", \"across\", \"afford\", \"aggressive\", \"agrees\", \"ai\", \"ai\", \"ai\", \"ai\", \"ai\", \"ai\", \"ai\", \"ai\", \"alcohol\", \"alcohol\", \"alone\", \"alone\", \"alone\", \"alone\", \"alone\", \"alone\", \"alone\", \"alone\", \"alone\", \"alone\", \"always\", \"always\", \"always\", \"always\", \"always\", \"always\", \"always\", \"always\", \"always\", \"always\", \"alyph\", \"amen\", \"andr\\u00e9\", \"anything\", \"anything\", \"anything\", \"anything\", \"apologies\", \"around\", \"around\", \"around\", \"around\", \"around\", \"around\", \"around\", \"around\", \"around\", \"around\", \"asked\", \"awakened\", \"award\", \"awards\", \"away\", \"away\", \"away\", \"away\", \"away\", \"away\", \"away\", \"away\", \"away\", \"away\", \"ba\", \"baby\", \"baby\", \"baby\", \"baby\", \"baby\", \"baby\", \"baby\", \"baby\", \"baby\", \"baby\", \"back\", \"back\", \"back\", \"back\", \"back\", \"back\", \"back\", \"back\", \"back\", \"back\", \"bad\", \"bad\", \"bad\", \"bad\", \"bad\", \"bad\", \"bad\", \"barber\", \"beautiful\", \"beautiful\", \"beautiful\", \"beautiful\", \"beautiful\", \"beautiful\", \"beautiful\", \"bebe\", \"bein\", \"belong\", \"belong\", \"best\", \"best\", \"best\", \"best\", \"best\", \"best\", \"best\", \"best\", \"better\", \"better\", \"better\", \"better\", \"better\", \"better\", \"better\", \"better\", \"better\", \"bitch\", \"bitch\", \"bitch\", \"bitch\", \"bitch\", \"bitch\", \"blah\", \"block\", \"block\", \"bloody\", \"body\", \"body\", \"body\", \"body\", \"body\", \"body\", \"body\", \"body\", \"body\", \"bored\", \"bowie\", \"boy\", \"boy\", \"boy\", \"boy\", \"boy\", \"boy\", \"boy\", \"boy\", \"boy\", \"boy\", \"boys\", \"boys\", \"boys\", \"boys\", \"brand\", \"brand\", \"break\", \"break\", \"break\", \"break\", \"break\", \"break\", \"breakin\", \"brown\", \"brown\", \"brown\", \"buss\", \"bye\", \"bye\", \"bye\", \"ca\", \"ca\", \"ca\", \"ca\", \"ca\", \"ca\", \"ca\", \"ca\", \"ca\", \"ca\", \"cali\", \"called\", \"calling\", \"calling\", \"calls\", \"calls\", \"camera\", \"camera\", \"camila\", \"captain\", \"care\", \"care\", \"care\", \"care\", \"care\", \"care\", \"care\", \"care\", \"cares\", \"caring\", \"cater\", \"celebrating\", \"chandelier\", \"change\", \"change\", \"change\", \"change\", \"change\", \"change\", \"change\", \"change\", \"charli\", \"chi\", \"chiba\", \"chris\", \"chris\", \"church\", \"circles\", \"claiming\", \"close\", \"close\", \"close\", \"close\", \"close\", \"come\", \"come\", \"come\", \"come\", \"come\", \"come\", \"come\", \"come\", \"come\", \"come\", \"comfortable\", \"coming\", \"coming\", \"coming\", \"coming\", \"command\", \"complicated\", \"continue\", \"convey\", \"cool\", \"cool\", \"crawl\", \"crazy\", \"crazy\", \"crazy\", \"crazy\", \"crazy\", \"crazy\", \"crazy\", \"cream\", \"crew\", \"cross\", \"crush\", \"cry\", \"cry\", \"cry\", \"cry\", \"cry\", \"cry\", \"cryin\", \"crying\", \"curves\", \"danced\", \"danced\", \"dancing\", \"dancing\", \"dancing\", \"dancing\", \"dark\", \"dark\", \"dark\", \"dark\", \"dark\", \"dark\", \"darkness\", \"david\", \"day\", \"day\", \"day\", \"day\", \"day\", \"day\", \"day\", \"day\", \"de\", \"death\", \"death\", \"deathless\", \"deep\", \"deep\", \"deep\", \"deep\", \"deserve\", \"deserve\", \"desire\", \"dessert\", \"devour\", \"dey\", \"dice\", \"dinah\", \"dinner\", \"dinner\", \"directly\", \"discoverin\", \"doctor\", \"doorway\", \"dresses\", \"drum\", \"du\", \"earth\", \"easy\", \"easy\", \"easy\", \"easy\", \"easy\", \"ed\", \"ehh\", \"embrace\", \"empty\", \"empty\", \"empty\", \"empty\", \"ending\", \"ending\", \"endless\", \"ends\", \"even\", \"even\", \"even\", \"even\", \"even\", \"even\", \"even\", \"even\", \"even\", \"every\", \"every\", \"every\", \"every\", \"every\", \"every\", \"every\", \"every\", \"every\", \"everywhere\", \"ew\", \"ex\", \"exhausting\", \"explain\", \"extraordinary\", \"extraordinary\", \"fall\", \"fall\", \"fall\", \"fall\", \"fall\", \"fall\", \"fall\", \"fanta\", \"faster\", \"faster\", \"feat\", \"feel\", \"feel\", \"feel\", \"feel\", \"feel\", \"feel\", \"feel\", \"feel\", \"feel\", \"feel\", \"feelin\", \"feelin\", \"feelin\", \"feelin\", \"feeling\", \"feeling\", \"feeling\", \"feeling\", \"feeling\", \"fell\", \"fell\", \"fell\", \"fell\", \"fell\", \"fighting\", \"figured\", \"find\", \"find\", \"find\", \"find\", \"find\", \"find\", \"find\", \"find\", \"find\", \"fine\", \"fine\", \"fine\", \"fine\", \"fine\", \"flag\", \"florida\", \"flow\", \"flush\", \"fools\", \"foot\", \"forgiven\", \"found\", \"found\", \"found\", \"found\", \"found\", \"freaky\", \"freaky\", \"freaky\", \"freddie\", \"freddie\", \"free\", \"free\", \"free\", \"free\", \"free\", \"freedom\", \"freedom\", \"fuck\", \"fuck\", \"fuck\", \"fuck\", \"fuck\", \"fuck\", \"fuck\", \"fuckin\", \"fuckin\", \"fuckin\", \"funeral\", \"funeral\", \"funk\", \"future\", \"future\", \"g\", \"g\", \"gaga\", \"galileo\", \"gang\", \"gang\", \"gang\", \"gang\", \"gee\", \"gently\", \"get\", \"get\", \"get\", \"get\", \"get\", \"get\", \"get\", \"get\", \"get\", \"get\", \"gets\", \"gets\", \"gets\", \"gets\", \"ghosts\", \"girl\", \"girl\", \"girl\", \"girl\", \"girl\", \"girl\", \"girl\", \"girls\", \"girls\", \"girls\", \"girls\", \"give\", \"give\", \"give\", \"give\", \"give\", \"give\", \"give\", \"give\", \"give\", \"givin\", \"givin\", \"givin\", \"go\", \"go\", \"go\", \"go\", \"go\", \"go\", \"go\", \"go\", \"go\", \"go\", \"god\", \"god\", \"god\", \"god\", \"gomez\", \"gone\", \"gone\", \"gone\", \"gone\", \"gone\", \"gone\", \"gone\", \"gone\", \"good\", \"good\", \"good\", \"good\", \"good\", \"good\", \"good\", \"good\", \"good\", \"gotye\", \"grave\", \"greatest\", \"hah\", \"hailie\", \"hallelujah\", \"hands\", \"hands\", \"hands\", \"hands\", \"hands\", \"hands\", \"hanging\", \"hanging\", \"hard\", \"hard\", \"hard\", \"hard\", \"hard\", \"hard\", \"hard\", \"hard\", \"hard\", \"hate\", \"hate\", \"hate\", \"hate\", \"hate\", \"hated\", \"heart\", \"heart\", \"heart\", \"heart\", \"heart\", \"heart\", \"heart\", \"heart\", \"heart\", \"hi\", \"hi\", \"hidden\", \"high\", \"high\", \"high\", \"high\", \"high\", \"high\", \"high\", \"hoes\", \"hoes\", \"hoes\", \"hol\", \"holdin\", \"holdin\", \"hole\", \"home\", \"home\", \"home\", \"home\", \"home\", \"home\", \"home\", \"honey\", \"hope\", \"hope\", \"hope\", \"hope\", \"hope\", \"hoping\", \"hoping\", \"hour\", \"hour\", \"hour\", \"hu\", \"huntin\", \"hurt\", \"hurt\", \"hurt\", \"hurt\", \"hurt\", \"hurt\", \"hurt\", \"hurt\", \"hype\", \"ign\", \"imma\", \"inside\", \"inside\", \"inside\", \"inside\", \"inside\", \"inspire\", \"inspired\", \"intentions\", \"irrelevant\", \"irreplaceable\", \"issues\", \"issues\", \"judge\", \"julia\", \"k\", \"kanye\", \"keep\", \"keep\", \"keep\", \"keep\", \"keep\", \"keep\", \"keep\", \"keep\", \"keep\", \"keep\", \"kick\", \"kick\", \"kick\", \"kick\", \"kids\", \"kids\", \"kids\", \"kids\", \"kids\", \"kiss\", \"kiss\", \"kiss\", \"kiss\", \"kiss\", \"kiss\", \"kiss\", \"knife\", \"knife\", \"knife\", \"know\", \"know\", \"know\", \"know\", \"know\", \"know\", \"know\", \"know\", \"know\", \"know\", \"lady\", \"lambs\", \"late\", \"late\", \"late\", \"late\", \"late\", \"late\", \"late\", \"late\", \"lauren\", \"learn\", \"learn\", \"learn\", \"learn\", \"learns\", \"leather\", \"leave\", \"leave\", \"leave\", \"leave\", \"leave\", \"leave\", \"leave\", \"leave\", \"left\", \"left\", \"left\", \"left\", \"left\", \"left\", \"left\", \"left\", \"legs\", \"let\", \"let\", \"let\", \"let\", \"let\", \"let\", \"let\", \"let\", \"let\", \"let\", \"lick\", \"lies\", \"lies\", \"lies\", \"life\", \"life\", \"life\", \"life\", \"life\", \"life\", \"life\", \"life\", \"life\", \"life\", \"light\", \"light\", \"light\", \"light\", \"light\", \"light\", \"light\", \"light\", \"light\", \"little\", \"little\", \"little\", \"little\", \"little\", \"little\", \"little\", \"little\", \"little\", \"little\", \"living\", \"living\", \"living\", \"living\", \"living\", \"lockdown\", \"locked\", \"long\", \"long\", \"long\", \"long\", \"long\", \"long\", \"long\", \"long\", \"long\", \"look\", \"look\", \"look\", \"look\", \"look\", \"look\", \"look\", \"look\", \"look\", \"look\", \"lord\", \"lord\", \"lord\", \"lord\", \"lord\", \"lose\", \"lose\", \"lose\", \"lose\", \"lose\", \"lost\", \"lost\", \"lost\", \"lost\", \"lost\", \"lotta\", \"loud\", \"love\", \"love\", \"love\", \"love\", \"love\", \"love\", \"love\", \"love\", \"love\", \"love\", \"lover\", \"lover\", \"lover\", \"lover\", \"lovin\", \"lovin\", \"lovin\", \"loving\", \"loving\", \"lungs\", \"luqman\", \"make\", \"make\", \"make\", \"make\", \"make\", \"make\", \"make\", \"make\", \"make\", \"make\", \"mama\", \"mama\", \"mama\", \"mama\", \"man\", \"man\", \"man\", \"man\", \"man\", \"man\", \"man\", \"maren\", \"marry\", \"martin\", \"martin\", \"meanin\", \"meant\", \"meant\", \"meant\", \"meant\", \"meant\", \"meant\", \"meant\", \"meet\", \"meet\", \"meet\", \"meet\", \"meet\", \"megan\", \"meghan\", \"mercury\", \"mhmm\", \"middle\", \"middle\", \"million\", \"million\", \"million\", \"million\", \"million\", \"missed\", \"momentary\", \"momma\", \"mornin\", \"morris\", \"mother\", \"motivation\", \"motorbike\", \"moves\", \"moves\", \"movies\", \"movies\", \"movies\", \"movin\", \"much\", \"much\", \"much\", \"much\", \"much\", \"much\", \"much\", \"much\", \"much\", \"much\", \"must\", \"must\", \"must\", \"must\", \"must\", \"must\", \"must\", \"mustang\", \"name\", \"name\", \"name\", \"name\", \"name\", \"name\", \"name\", \"nas\", \"nasty\", \"nasty\", \"nation\", \"need\", \"need\", \"need\", \"need\", \"need\", \"need\", \"need\", \"need\", \"need\", \"need\", \"never\", \"never\", \"never\", \"never\", \"never\", \"never\", \"never\", \"never\", \"never\", \"never\", \"neverland\", \"new\", \"new\", \"new\", \"new\", \"new\", \"new\", \"new\", \"new\", \"new\", \"next\", \"next\", \"next\", \"nigga\", \"nigga\", \"nigga\", \"nigga\", \"nigga\", \"night\", \"night\", \"night\", \"night\", \"night\", \"night\", \"night\", \"night\", \"night\", \"nobody\", \"nobody\", \"nobody\", \"nobody\", \"nobody\", \"nobody\", \"noon\", \"offer\", \"offer\", \"old\", \"old\", \"old\", \"old\", \"old\", \"old\", \"option\", \"overseas\", \"pain\", \"pain\", \"pain\", \"pain\", \"pain\", \"pain\", \"pain\", \"pan\", \"parted\", \"patience\", \"payback\", \"pearls\", \"persuasion\", \"peter\", \"physique\", \"pickin\", \"piffing\", \"pity\", \"players\", \"players\", \"playing\", \"playing\", \"please\", \"please\", \"please\", \"please\", \"please\", \"please\", \"po\", \"poured\", \"power\", \"power\", \"power\", \"power\", \"prayin\", \"problem\", \"problem\", \"psychology\", \"pussy\", \"pussy\", \"pussy\", \"pussy\", \"put\", \"put\", \"put\", \"put\", \"put\", \"put\", \"put\", \"put\", \"put\", \"quite\", \"quite\", \"rain\", \"rain\", \"rain\", \"rain\", \"rain\", \"rare\", \"rare\", \"ready\", \"ready\", \"ready\", \"ready\", \"ready\", \"ready\", \"really\", \"really\", \"really\", \"really\", \"really\", \"really\", \"really\", \"really\", \"really\", \"really\", \"reason\", \"reason\", \"reason\", \"reason\", \"reason\", \"reason\", \"reasons\", \"reasons\", \"rembau\", \"repeating\", \"repeating\", \"repeating\", \"rexha\", \"right\", \"right\", \"right\", \"right\", \"right\", \"right\", \"right\", \"right\", \"right\", \"rip\", \"rising\", \"royal\", \"rude\", \"rude\", \"rule\", \"run\", \"run\", \"run\", \"run\", \"run\", \"run\", \"run\", \"run\", \"run\", \"rush\", \"sabronzo\", \"said\", \"said\", \"said\", \"said\", \"said\", \"said\", \"said\", \"said\", \"said\", \"sanchez\", \"savin\", \"saw\", \"saw\", \"saw\", \"saxe\", \"say\", \"say\", \"say\", \"say\", \"say\", \"say\", \"say\", \"say\", \"say\", \"say\", \"saying\", \"saying\", \"saying\", \"scared\", \"scared\", \"scream\", \"scream\", \"searchin\", \"season\", \"see\", \"see\", \"see\", \"see\", \"see\", \"see\", \"see\", \"see\", \"see\", \"see\", \"selena\", \"send\", \"send\", \"send\", \"shaan\", \"shake\", \"shake\", \"shape\", \"sharpen\", \"sheeran\", \"shh\", \"shit\", \"shit\", \"shit\", \"shit\", \"shit\", \"shit\", \"shit\", \"shit\", \"shit\", \"shoot\", \"shoot\", \"shootout\", \"shop\", \"show\", \"show\", \"show\", \"show\", \"show\", \"show\", \"show\", \"show\", \"shrine\", \"sick\", \"sick\", \"sick\", \"sick\", \"sick\", \"side\", \"side\", \"side\", \"side\", \"side\", \"side\", \"sign\", \"sign\", \"sincere\", \"singh\", \"singin\", \"singin\", \"singin\", \"single\", \"single\", \"single\", \"single\", \"sins\", \"skin\", \"skin\", \"skin\", \"skin\", \"sky\", \"sky\", \"sky\", \"slaughter\", \"slept\", \"slippers\", \"smart\", \"smart\", \"smart\", \"smoke\", \"smoke\", \"smoke\", \"smoke\", \"snare\", \"softly\", \"soldiers\", \"somebody\", \"somebody\", \"somebody\", \"somebody\", \"somebody\", \"someone\", \"someone\", \"someone\", \"someone\", \"someone\", \"someone\", \"someone\", \"sorry\", \"sorry\", \"sorry\", \"sound\", \"sound\", \"sound\", \"sound\", \"spaceships\", \"special\", \"spinnin\", \"spinnin\", \"spinnin\", \"stallion\", \"star\", \"star\", \"star\", \"stare\", \"stare\", \"stars\", \"stars\", \"stars\", \"stars\", \"stars\", \"start\", \"start\", \"start\", \"start\", \"start\", \"stay\", \"stay\", \"stay\", \"stay\", \"stay\", \"stay\", \"stay\", \"stay\", \"stay\", \"stay\", \"staying\", \"steel\", \"stephen\", \"still\", \"still\", \"still\", \"still\", \"still\", \"still\", \"still\", \"still\", \"still\", \"still\", \"stop\", \"stop\", \"stop\", \"stop\", \"stop\", \"stop\", \"stop\", \"stop\", \"stop\", \"stop\", \"stranger\", \"stranger\", \"stressed\", \"stronger\", \"struggling\", \"superhero\", \"surrender\", \"surrounded\", \"suspect\", \"swear\", \"swear\", \"swear\", \"sweatpants\", \"swift\", \"swing\", \"swipe\", \"swirlin\", \"swish\", \"syasya\", \"symphony\", \"tabby\", \"tables\", \"take\", \"take\", \"take\", \"take\", \"take\", \"take\", \"take\", \"take\", \"take\", \"take\", \"taken\", \"talk\", \"talk\", \"talk\", \"talk\", \"talk\", \"talk\", \"talk\", \"taught\", \"taylor\", \"tears\", \"tears\", \"tears\", \"tears\", \"tears\", \"teatime\", \"tell\", \"tell\", \"tell\", \"tell\", \"tell\", \"tell\", \"tell\", \"tell\", \"tell\", \"tell\", \"temasek\", \"thanks\", \"thee\", \"thighs\", \"thing\", \"thing\", \"thing\", \"thing\", \"thing\", \"thing\", \"thing\", \"thing\", \"thing\", \"think\", \"think\", \"think\", \"think\", \"think\", \"think\", \"think\", \"think\", \"think\", \"think\", \"thinking\", \"thinking\", \"thinking\", \"thinking\", \"thinking\", \"thought\", \"thought\", \"thought\", \"thought\", \"thought\", \"thought\", \"thought\", \"thousand\", \"thousand\", \"tick\", \"till\", \"time\", \"time\", \"time\", \"time\", \"time\", \"time\", \"time\", \"time\", \"time\", \"toe\", \"tonight\", \"tonight\", \"tonight\", \"tonight\", \"tonight\", \"tonight\", \"top\", \"top\", \"top\", \"top\", \"top\", \"touch\", \"touch\", \"touch\", \"touch\", \"touch\", \"trade\", \"trainor\", \"translate\", \"treat\", \"treat\", \"treat\", \"treat\", \"treat\", \"trees\", \"trees\", \"tricking\", \"try\", \"try\", \"try\", \"try\", \"try\", \"try\", \"try\", \"tryin\", \"tryin\", \"tryin\", \"turn\", \"turn\", \"turn\", \"turn\", \"turn\", \"turn\", \"turn\", \"turn\", \"turn\", \"turnin\", \"turnt\", \"type\", \"type\", \"unapologetic\", \"unapologetic\", \"unholy\", \"uniform\", \"unless\", \"unstoppable\", \"untouchable\", \"us\", \"us\", \"us\", \"us\", \"us\", \"us\", \"us\", \"us\", \"us\", \"used\", \"used\", \"used\", \"used\", \"used\", \"used\", \"used\", \"usher\", \"voices\", \"voices\", \"waaaaaaa\", \"wake\", \"wake\", \"wake\", \"wake\", \"wake\", \"wake\", \"wake\", \"wake\", \"walk\", \"walk\", \"walk\", \"walk\", \"walk\", \"walk\", \"want\", \"want\", \"want\", \"want\", \"want\", \"want\", \"want\", \"want\", \"want\", \"wanted\", \"wanted\", \"wanted\", \"wanted\", \"wanted\", \"wanted\", \"wasted\", \"wasted\", \"wasted\", \"watch\", \"watch\", \"watch\", \"watch\", \"watch\", \"watch\", \"watch\", \"watch\", \"weak\", \"weak\", \"wealth\", \"weed\", \"weed\", \"whatsapp\", \"whenever\", \"whenever\", \"whenever\", \"willing\", \"willing\", \"wings\", \"wish\", \"wish\", \"wish\", \"wish\", \"wish\", \"wish\", \"wish\", \"wizkid\", \"wo\", \"wo\", \"wo\", \"wo\", \"wo\", \"wo\", \"wo\", \"wo\", \"wo\", \"words\", \"words\", \"words\", \"words\", \"words\", \"words\", \"words\", \"work\", \"work\", \"work\", \"work\", \"work\", \"work\", \"world\", \"world\", \"world\", \"world\", \"world\", \"world\", \"world\", \"world\", \"worn\", \"worried\", \"worried\", \"worried\", \"worship\", \"worst\", \"wrestle\", \"xcx\", \"yanga\", \"yep\", \"yonnyboii\", \"youth\", \"youtube\", \"yuki\", \"zayn\", \"zynakal\"]}, \"R\": 30, \"lambda.step\": 0.01, \"plot.opts\": {\"xlab\": \"PC1\", \"ylab\": \"PC2\"}, \"topic.order\": [5, 6, 10, 7, 2, 9, 8, 3, 4, 1]};\n",
       "\n",
       "function LDAvis_load_lib(url, callback){\n",
       "  var s = document.createElement('script');\n",
       "  s.src = url;\n",
       "  s.async = true;\n",
       "  s.onreadystatechange = s.onload = callback;\n",
       "  s.onerror = function(){console.warn(\"failed to load library \" + url);};\n",
       "  document.getElementsByTagName(\"head\")[0].appendChild(s);\n",
       "}\n",
       "\n",
       "if(typeof(LDAvis) !== \"undefined\"){\n",
       "   // already loaded: just create the visualization\n",
       "   !function(LDAvis){\n",
       "       new LDAvis(\"#\" + \"ldavis_el2580815021029284641905053013\", ldavis_el2580815021029284641905053013_data);\n",
       "   }(LDAvis);\n",
       "}else if(typeof define === \"function\" && define.amd){\n",
       "   // require.js is available: use it to load d3/LDAvis\n",
       "   require.config({paths: {d3: \"https://d3js.org/d3.v5\"}});\n",
       "   require([\"d3\"], function(d3){\n",
       "      window.d3 = d3;\n",
       "      LDAvis_load_lib(\"https://cdn.jsdelivr.net/gh/bmabey/pyLDAvis@3.4.0/pyLDAvis/js/ldavis.v3.0.0.js\", function(){\n",
       "        new LDAvis(\"#\" + \"ldavis_el2580815021029284641905053013\", ldavis_el2580815021029284641905053013_data);\n",
       "      });\n",
       "    });\n",
       "}else{\n",
       "    // require.js not available: dynamically load d3 & LDAvis\n",
       "    LDAvis_load_lib(\"https://d3js.org/d3.v5.js\", function(){\n",
       "         LDAvis_load_lib(\"https://cdn.jsdelivr.net/gh/bmabey/pyLDAvis@3.4.0/pyLDAvis/js/ldavis.v3.0.0.js\", function(){\n",
       "                 new LDAvis(\"#\" + \"ldavis_el2580815021029284641905053013\", ldavis_el2580815021029284641905053013_data);\n",
       "            })\n",
       "         });\n",
       "}\n",
       "</script>"
      ],
      "text/plain": [
       "<IPython.core.display.HTML object>"
      ]
     },
     "execution_count": 5,
     "metadata": {},
     "output_type": "execute_result"
    }
   ],
   "source": [
    "# PyLDAviz \n",
    "import pyLDAvis.gensim_models\n",
    "import pyLDAvis\n",
    "\n",
    "# Prepare the data for visualization\n",
    "vis_data = pyLDAvis.gensim_models.prepare(lda_model, corpus, dictionary)\n",
    "\n",
    "# Display the visualization\n",
    "pyLDAvis.display(vis_data)"
   ]
  },
  {
   "cell_type": "code",
   "execution_count": 6,
   "metadata": {},
   "outputs": [],
   "source": [
    "html_path = \"./static/charts/pylDAvis.html\"\n",
    "pyLDAvis.save_html(vis_data, html_path)\n"
   ]
  },
  {
   "cell_type": "markdown",
   "metadata": {},
   "source": [
    "# Extract themes for EACH song using LDA"
   ]
  },
  {
   "cell_type": "code",
   "execution_count": 7,
   "metadata": {},
   "outputs": [],
   "source": [
    "#Function to get the dominant topic for a single document\n",
    "def get_dominant_topic(lda_model, corpus_document):\n",
    "    topic_distribution = lda_model.get_document_topics(corpus_document)\n",
    "    dominant_topic = max(topic_distribution, key=lambda x:x[1])\n",
    "    return dominant_topic[0], dominant_topic[1]\n",
    "\n",
    "#apply the function to each doument in the corpus\n",
    "dominant_topics = [get_dominant_topic(lda_model, doc) for doc in corpus]\n",
    "\n",
    "#create a dataframe with the results\n",
    "theme_df = pd.DataFrame(dominant_topics, columns=['Dominant_Topic', 'Topic_Probability'])\n",
    "\n",
    "#add theme df to original df\n",
    "song_theme = pd.concat([song_theme, theme_df], axis=1)\n",
    "\n",
    "#function to get the top N words for a given topic\n",
    "def get_topic_words(lda_model, topic_id, n_words=5):\n",
    "    return [word for word, _ in lda_model.show_topic(topic_id, topn=n_words)]\n",
    "\n",
    "# add a column with the top words for each song's 'dominatn topic\n",
    "song_theme['Topic_Words'] = song_theme['Dominant_Topic'].apply(lambda x:get_topic_words(lda_model, x))\n",
    "\n",
    "\n",
    "# song_theme[['artist','song', 'translated_lyrics', 'Dominant_Topic', 'Topic_Probability', 'Topic_Words']]\n",
    "\n"
   ]
  },
  {
   "cell_type": "code",
   "execution_count": 8,
   "metadata": {},
   "outputs": [],
   "source": [
    "#save df to a csv file \n",
    "csv_path = './Dataset/LDA_sentiment.csv'\n",
    "song_theme.to_csv(csv_path)"
   ]
  },
  {
   "cell_type": "code",
   "execution_count": 9,
   "metadata": {},
   "outputs": [
    {
     "data": {
      "text/html": [
       "<div>\n",
       "<style scoped>\n",
       "    .dataframe tbody tr th:only-of-type {\n",
       "        vertical-align: middle;\n",
       "    }\n",
       "\n",
       "    .dataframe tbody tr th {\n",
       "        vertical-align: top;\n",
       "    }\n",
       "\n",
       "    .dataframe thead th {\n",
       "        text-align: right;\n",
       "    }\n",
       "</style>\n",
       "<table border=\"1\" class=\"dataframe\">\n",
       "  <thead>\n",
       "    <tr style=\"text-align: right;\">\n",
       "      <th></th>\n",
       "      <th>Unnamed: 0</th>\n",
       "      <th>year</th>\n",
       "      <th>artist</th>\n",
       "      <th>song</th>\n",
       "      <th>lyrics</th>\n",
       "      <th>translated_lyrics</th>\n",
       "      <th>tokens</th>\n",
       "      <th>Dominant_Topic</th>\n",
       "      <th>Topic_Probability</th>\n",
       "      <th>Topic_Words</th>\n",
       "    </tr>\n",
       "  </thead>\n",
       "  <tbody>\n",
       "    <tr>\n",
       "      <th>0</th>\n",
       "      <td>0</td>\n",
       "      <td>2014</td>\n",
       "      <td>Ed Sheeran</td>\n",
       "      <td>Thinking out Loud</td>\n",
       "      <td>[Verse 1]\\nWhen your legs don't work like they...</td>\n",
       "      <td>[Verse 1]\\nWhen your legs don't work like they...</td>\n",
       "      <td>['legs', 'work', 'used', 'ca', 'sweep', 'feet'...</td>\n",
       "      <td>5</td>\n",
       "      <td>0.340629</td>\n",
       "      <td>['love', 'know', 'come', 'right', 'star']</td>\n",
       "    </tr>\n",
       "    <tr>\n",
       "      <th>1</th>\n",
       "      <td>1</td>\n",
       "      <td>2014</td>\n",
       "      <td>Norah Jones</td>\n",
       "      <td>Come Away With Me</td>\n",
       "      <td>[Verse 1]\\nCome away with me in the night\\nCom...</td>\n",
       "      <td>[Verse 1]\\nCome away with me in the night\\nCom...</td>\n",
       "      <td>['come', 'away', 'night', 'come', 'away', 'wri...</td>\n",
       "      <td>9</td>\n",
       "      <td>0.407598</td>\n",
       "      <td>['never', 'meant', 'next', 'skin', 'mama']</td>\n",
       "    </tr>\n",
       "    <tr>\n",
       "      <th>2</th>\n",
       "      <td>2</td>\n",
       "      <td>2014</td>\n",
       "      <td>Troye Sivan</td>\n",
       "      <td>Happy Little Pill</td>\n",
       "      <td>[Verse 1]\\nIn the crowd, alone\\nAnd every seco...</td>\n",
       "      <td>[Verse 1]\\nIn the crowd, alone\\nAnd every seco...</td>\n",
       "      <td>['crowd', 'alone', 'every', 'passing', 'remind...</td>\n",
       "      <td>9</td>\n",
       "      <td>0.993958</td>\n",
       "      <td>['never', 'meant', 'next', 'skin', 'mama']</td>\n",
       "    </tr>\n",
       "    <tr>\n",
       "      <th>3</th>\n",
       "      <td>3</td>\n",
       "      <td>2014</td>\n",
       "      <td>The Script</td>\n",
       "      <td>Superheroes</td>\n",
       "      <td>[Verse 1]\\nAll her life, she has seen\\nOh the ...</td>\n",
       "      <td>[Verse 1]\\nAll her life, she has seen\\nOh the ...</td>\n",
       "      <td>['life', 'seen', 'meanest', 'side', 'took', 'a...</td>\n",
       "      <td>2</td>\n",
       "      <td>0.995754</td>\n",
       "      <td>['girls', 'run', 'world', 'love', 'every']</td>\n",
       "    </tr>\n",
       "    <tr>\n",
       "      <th>4</th>\n",
       "      <td>4</td>\n",
       "      <td>2014</td>\n",
       "      <td>Ellie Goulding</td>\n",
       "      <td>How Long Will I Love You</td>\n",
       "      <td>[Intro]\\nMm\\nMm\\n[Verse 1]\\nHow long will I lo...</td>\n",
       "      <td>[Intro]\\nMm\\nMm\\n[Verse 1]\\nHow long will I lo...</td>\n",
       "      <td>['long', 'love', 'long', 'stars', 'longer', 'l...</td>\n",
       "      <td>3</td>\n",
       "      <td>0.981244</td>\n",
       "      <td>['work', 'let', 'want', 'know', 'go']</td>\n",
       "    </tr>\n",
       "  </tbody>\n",
       "</table>\n",
       "</div>"
      ],
      "text/plain": [
       "   Unnamed: 0  year          artist                      song  \\\n",
       "0           0  2014      Ed Sheeran         Thinking out Loud   \n",
       "1           1  2014     Norah Jones         Come Away With Me   \n",
       "2           2  2014     Troye Sivan         Happy Little Pill   \n",
       "3           3  2014      The Script               Superheroes   \n",
       "4           4  2014  Ellie Goulding  How Long Will I Love You   \n",
       "\n",
       "                                              lyrics  \\\n",
       "0  [Verse 1]\\nWhen your legs don't work like they...   \n",
       "1  [Verse 1]\\nCome away with me in the night\\nCom...   \n",
       "2  [Verse 1]\\nIn the crowd, alone\\nAnd every seco...   \n",
       "3  [Verse 1]\\nAll her life, she has seen\\nOh the ...   \n",
       "4  [Intro]\\nMm\\nMm\\n[Verse 1]\\nHow long will I lo...   \n",
       "\n",
       "                                   translated_lyrics  \\\n",
       "0  [Verse 1]\\nWhen your legs don't work like they...   \n",
       "1  [Verse 1]\\nCome away with me in the night\\nCom...   \n",
       "2  [Verse 1]\\nIn the crowd, alone\\nAnd every seco...   \n",
       "3  [Verse 1]\\nAll her life, she has seen\\nOh the ...   \n",
       "4  [Intro]\\nMm\\nMm\\n[Verse 1]\\nHow long will I lo...   \n",
       "\n",
       "                                              tokens  Dominant_Topic  \\\n",
       "0  ['legs', 'work', 'used', 'ca', 'sweep', 'feet'...               5   \n",
       "1  ['come', 'away', 'night', 'come', 'away', 'wri...               9   \n",
       "2  ['crowd', 'alone', 'every', 'passing', 'remind...               9   \n",
       "3  ['life', 'seen', 'meanest', 'side', 'took', 'a...               2   \n",
       "4  ['long', 'love', 'long', 'stars', 'longer', 'l...               3   \n",
       "\n",
       "   Topic_Probability                                 Topic_Words  \n",
       "0           0.340629   ['love', 'know', 'come', 'right', 'star']  \n",
       "1           0.407598  ['never', 'meant', 'next', 'skin', 'mama']  \n",
       "2           0.993958  ['never', 'meant', 'next', 'skin', 'mama']  \n",
       "3           0.995754  ['girls', 'run', 'world', 'love', 'every']  \n",
       "4           0.981244       ['work', 'let', 'want', 'know', 'go']  "
      ]
     },
     "execution_count": 9,
     "metadata": {},
     "output_type": "execute_result"
    }
   ],
   "source": [
    "lda_theme = pd.read_csv(r'./Dataset/LDA_sentiment.csv')\n",
    "lda_theme.head()"
   ]
  },
  {
   "cell_type": "markdown",
   "metadata": {},
   "source": [
    "# LDA SENTIMENT\n",
    "\n",
    "**Understanding the column in dataframe**:\n",
    "\n",
    "- Tokens: \n",
    "    - Tokenized form of the song lyrics\n",
    "\n",
    "- Dominant Topic\n",
    "    - The topic that has the highest probability for the song\n",
    "    - This is useful to understand the primary theme of each song\n",
    "\n",
    "- Topic probability\n",
    "    - The probability of the dominant topic within the song\n",
    "    - It's useful to understand how strongly the topis is represented\n",
    "\n",
    "- Topic words   \n",
    "    - The words associated with each topic.\n",
    "    - It's usefu to interpret what each topic represents"
   ]
  },
  {
   "cell_type": "code",
   "execution_count": 10,
   "metadata": {},
   "outputs": [
    {
     "data": {
      "text/plain": [
       "Index(['Unnamed: 0', 'year', 'artist', 'song', 'lyrics', 'translated_lyrics',\n",
       "       'tokens', 'Dominant_Topic', 'Topic_Probability', 'Topic_Words'],\n",
       "      dtype='object')"
      ]
     },
     "execution_count": 10,
     "metadata": {},
     "output_type": "execute_result"
    }
   ],
   "source": [
    "lda_theme.columns"
   ]
  },
  {
   "cell_type": "markdown",
   "metadata": {},
   "source": [
    "# Visualize Topic Distribution\n",
    "\n",
    "1) Topic Frequency Distribution: To see how many songs are associated with each topic\n",
    "\n",
    "2) Topic Probability Analysis: \n",
    "    - To see the average probability of each topic\n",
    "    - It represents how strongly each topic is associated with the songs\n",
    "    - It allows us to see which themes are more prevalent/significant in the dataset\n",
    "\n",
    "3) Topic Trends Over Years: To analyze how the prevalence of topics has changed over time\n",
    "\n",
    "4) Heatmap showing the probability of dominant topic for each year from 2014 to 2024\n",
    " \n"
   ]
  },
  {
   "cell_type": "code",
   "execution_count": 11,
   "metadata": {},
   "outputs": [
    {
     "name": "stderr",
     "output_type": "stream",
     "text": [
      "c:\\Users\\ASYIKIN\\anaconda3\\Lib\\site-packages\\IPython\\core\\pylabtools.py:77: DeprecationWarning:\n",
      "\n",
      "backend2gui is deprecated since IPython 8.24, backends are managed in matplotlib and can be externally registered.\n",
      "\n",
      "c:\\Users\\ASYIKIN\\anaconda3\\Lib\\site-packages\\IPython\\core\\pylabtools.py:77: DeprecationWarning:\n",
      "\n",
      "backend2gui is deprecated since IPython 8.24, backends are managed in matplotlib and can be externally registered.\n",
      "\n",
      "c:\\Users\\ASYIKIN\\anaconda3\\Lib\\site-packages\\IPython\\core\\pylabtools.py:77: DeprecationWarning:\n",
      "\n",
      "backend2gui is deprecated since IPython 8.24, backends are managed in matplotlib and can be externally registered.\n",
      "\n"
     ]
    },
    {
     "data": {
      "image/png": "[encoded data removed]",
      "text/plain": [
       "<Figure size 370x450 with 1 Axes>"
      ]
     },
     "metadata": {},
     "output_type": "display_data"
    }
   ],
   "source": [
    "import matplotlib.pyplot as plt\n",
    "\n",
    "# topic freq distr\n",
    "topic_distr = lda_theme['Dominant_Topic'].value_counts()\n",
    "\n",
    "topic_distr.plot(kind='bar', figsize=(3.7,4.5), width=0.8)\n",
    "plt.xlabel('Topic')\n",
    "plt.ylabel('Number of Songs')\n",
    "plt.title('Number of Songs per Topic')\n",
    "\n",
    "# plt.savefig(\"./static/charts/lda_topic_song_number.png\")\n",
    "\n",
    "plt.show()"
   ]
  },
  {
   "cell_type": "code",
   "execution_count": 20,
   "metadata": {},
   "outputs": [
    {
     "data": {
      "application/vnd.plotly.v1+json": {
       "config": {
        "plotlyServerURL": "https://plot.ly"
       },
       "data": [
        {
         "alignmentgroup": "True",
         "hovertemplate": "Topic=%{x}<br>Number of Songs=%{y}<extra></extra>",
         "legendgroup": "",
         "marker": {
          "color": "#636efa",
          "pattern": {
           "shape": ""
          }
         },
         "name": "",
         "offsetgroup": "",
         "orientation": "v",
         "showlegend": false,
         "textposition": "auto",
         "type": "bar",
         "x": [
          4,
          5,
          9,
          1,
          6,
          7,
          3,
          2,
          8,
          0
         ],
         "xaxis": "x",
         "y": [
          27,
          24,
          18,
          17,
          17,
          14,
          13,
          12,
          12,
          11
         ],
         "yaxis": "y"
        }
       ],
       "layout": {
        "barmode": "relative",
        "font": {
         "color": "white"
        },
        "height": 400,
        "legend": {
         "tracegroupgap": 0
        },
        "paper_bgcolor": "rgb(30, 30, 30)",
        "plot_bgcolor": "rgb(30, 30, 30)",
        "template": {
         "data": {
          "bar": [
           {
            "error_x": {
             "color": "#2a3f5f"
            },
            "error_y": {
             "color": "#2a3f5f"
            },
            "marker": {
             "line": {
              "color": "#E5ECF6",
              "width": 0.5
             },
             "pattern": {
              "fillmode": "overlay",
              "size": 10,
              "solidity": 0.2
             }
            },
            "type": "bar"
           }
          ],
          "barpolar": [
           {
            "marker": {
             "line": {
              "color": "#E5ECF6",
              "width": 0.5
             },
             "pattern": {
              "fillmode": "overlay",
              "size": 10,
              "solidity": 0.2
             }
            },
            "type": "barpolar"
           }
          ],
          "carpet": [
           {
            "aaxis": {
             "endlinecolor": "#2a3f5f",
             "gridcolor": "white",
             "linecolor": "white",
             "minorgridcolor": "white",
             "startlinecolor": "#2a3f5f"
            },
            "baxis": {
             "endlinecolor": "#2a3f5f",
             "gridcolor": "white",
             "linecolor": "white",
             "minorgridcolor": "white",
             "startlinecolor": "#2a3f5f"
            },
            "type": "carpet"
           }
          ],
          "choropleth": [
           {
            "colorbar": {
             "outlinewidth": 0,
             "ticks": ""
            },
            "type": "choropleth"
           }
          ],
          "contour": [
           {
            "colorbar": {
             "outlinewidth": 0,
             "ticks": ""
            },
            "colorscale": [
             [
              0,
              "#0d0887"
             ],
             [
              0.1111111111111111,
              "#46039f"
             ],
             [
              0.2222222222222222,
              "#7201a8"
             ],
             [
              0.3333333333333333,
              "#9c179e"
             ],
             [
              0.4444444444444444,
              "#bd3786"
             ],
             [
              0.5555555555555556,
              "#d8576b"
             ],
             [
              0.6666666666666666,
              "#ed7953"
             ],
             [
              0.7777777777777778,
              "#fb9f3a"
             ],
             [
              0.8888888888888888,
              "#fdca26"
             ],
             [
              1,
              "#f0f921"
             ]
            ],
            "type": "contour"
           }
          ],
          "contourcarpet": [
           {
            "colorbar": {
             "outlinewidth": 0,
             "ticks": ""
            },
            "type": "contourcarpet"
           }
          ],
          "heatmap": [
           {
            "colorbar": {
             "outlinewidth": 0,
             "ticks": ""
            },
            "colorscale": [
             [
              0,
              "#0d0887"
             ],
             [
              0.1111111111111111,
              "#46039f"
             ],
             [
              0.2222222222222222,
              "#7201a8"
             ],
             [
              0.3333333333333333,
              "#9c179e"
             ],
             [
              0.4444444444444444,
              "#bd3786"
             ],
             [
              0.5555555555555556,
              "#d8576b"
             ],
             [
              0.6666666666666666,
              "#ed7953"
             ],
             [
              0.7777777777777778,
              "#fb9f3a"
             ],
             [
              0.8888888888888888,
              "#fdca26"
             ],
             [
              1,
              "#f0f921"
             ]
            ],
            "type": "heatmap"
           }
          ],
          "heatmapgl": [
           {
            "colorbar": {
             "outlinewidth": 0,
             "ticks": ""
            },
            "colorscale": [
             [
              0,
              "#0d0887"
             ],
             [
              0.1111111111111111,
              "#46039f"
             ],
             [
              0.2222222222222222,
              "#7201a8"
             ],
             [
              0.3333333333333333,
              "#9c179e"
             ],
             [
              0.4444444444444444,
              "#bd3786"
             ],
             [
              0.5555555555555556,
              "#d8576b"
             ],
             [
              0.6666666666666666,
              "#ed7953"
             ],
             [
              0.7777777777777778,
              "#fb9f3a"
             ],
             [
              0.8888888888888888,
              "#fdca26"
             ],
             [
              1,
              "#f0f921"
             ]
            ],
            "type": "heatmapgl"
           }
          ],
          "histogram": [
           {
            "marker": {
             "pattern": {
              "fillmode": "overlay",
              "size": 10,
              "solidity": 0.2
             }
            },
            "type": "histogram"
           }
          ],
          "histogram2d": [
           {
            "colorbar": {
             "outlinewidth": 0,
             "ticks": ""
            },
            "colorscale": [
             [
              0,
              "#0d0887"
             ],
             [
              0.1111111111111111,
              "#46039f"
             ],
             [
              0.2222222222222222,
              "#7201a8"
             ],
             [
              0.3333333333333333,
              "#9c179e"
             ],
             [
              0.4444444444444444,
              "#bd3786"
             ],
             [
              0.5555555555555556,
              "#d8576b"
             ],
             [
              0.6666666666666666,
              "#ed7953"
             ],
             [
              0.7777777777777778,
              "#fb9f3a"
             ],
             [
              0.8888888888888888,
              "#fdca26"
             ],
             [
              1,
              "#f0f921"
             ]
            ],
            "type": "histogram2d"
           }
          ],
          "histogram2dcontour": [
           {
            "colorbar": {
             "outlinewidth": 0,
             "ticks": ""
            },
            "colorscale": [
             [
              0,
              "#0d0887"
             ],
             [
              0.1111111111111111,
              "#46039f"
             ],
             [
              0.2222222222222222,
              "#7201a8"
             ],
             [
              0.3333333333333333,
              "#9c179e"
             ],
             [
              0.4444444444444444,
              "#bd3786"
             ],
             [
              0.5555555555555556,
              "#d8576b"
             ],
             [
              0.6666666666666666,
              "#ed7953"
             ],
             [
              0.7777777777777778,
              "#fb9f3a"
             ],
             [
              0.8888888888888888,
              "#fdca26"
             ],
             [
              1,
              "#f0f921"
             ]
            ],
            "type": "histogram2dcontour"
           }
          ],
          "mesh3d": [
           {
            "colorbar": {
             "outlinewidth": 0,
             "ticks": ""
            },
            "type": "mesh3d"
           }
          ],
          "parcoords": [
           {
            "line": {
             "colorbar": {
              "outlinewidth": 0,
              "ticks": ""
             }
            },
            "type": "parcoords"
           }
          ],
          "pie": [
           {
            "automargin": true,
            "type": "pie"
           }
          ],
          "scatter": [
           {
            "fillpattern": {
             "fillmode": "overlay",
             "size": 10,
             "solidity": 0.2
            },
            "type": "scatter"
           }
          ],
          "scatter3d": [
           {
            "line": {
             "colorbar": {
              "outlinewidth": 0,
              "ticks": ""
             }
            },
            "marker": {
             "colorbar": {
              "outlinewidth": 0,
              "ticks": ""
             }
            },
            "type": "scatter3d"
           }
          ],
          "scattercarpet": [
           {
            "marker": {
             "colorbar": {
              "outlinewidth": 0,
              "ticks": ""
             }
            },
            "type": "scattercarpet"
           }
          ],
          "scattergeo": [
           {
            "marker": {
             "colorbar": {
              "outlinewidth": 0,
              "ticks": ""
             }
            },
            "type": "scattergeo"
           }
          ],
          "scattergl": [
           {
            "marker": {
             "colorbar": {
              "outlinewidth": 0,
              "ticks": ""
             }
            },
            "type": "scattergl"
           }
          ],
          "scattermapbox": [
           {
            "marker": {
             "colorbar": {
              "outlinewidth": 0,
              "ticks": ""
             }
            },
            "type": "scattermapbox"
           }
          ],
          "scatterpolar": [
           {
            "marker": {
             "colorbar": {
              "outlinewidth": 0,
              "ticks": ""
             }
            },
            "type": "scatterpolar"
           }
          ],
          "scatterpolargl": [
           {
            "marker": {
             "colorbar": {
              "outlinewidth": 0,
              "ticks": ""
             }
            },
            "type": "scatterpolargl"
           }
          ],
          "scatterternary": [
           {
            "marker": {
             "colorbar": {
              "outlinewidth": 0,
              "ticks": ""
             }
            },
            "type": "scatterternary"
           }
          ],
          "surface": [
           {
            "colorbar": {
             "outlinewidth": 0,
             "ticks": ""
            },
            "colorscale": [
             [
              0,
              "#0d0887"
             ],
             [
              0.1111111111111111,
              "#46039f"
             ],
             [
              0.2222222222222222,
              "#7201a8"
             ],
             [
              0.3333333333333333,
              "#9c179e"
             ],
             [
              0.4444444444444444,
              "#bd3786"
             ],
             [
              0.5555555555555556,
              "#d8576b"
             ],
             [
              0.6666666666666666,
              "#ed7953"
             ],
             [
              0.7777777777777778,
              "#fb9f3a"
             ],
             [
              0.8888888888888888,
              "#fdca26"
             ],
             [
              1,
              "#f0f921"
             ]
            ],
            "type": "surface"
           }
          ],
          "table": [
           {
            "cells": {
             "fill": {
              "color": "#EBF0F8"
             },
             "line": {
              "color": "white"
             }
            },
            "header": {
             "fill": {
              "color": "#C8D4E3"
             },
             "line": {
              "color": "white"
             }
            },
            "type": "table"
           }
          ]
         },
         "layout": {
          "annotationdefaults": {
           "arrowcolor": "#2a3f5f",
           "arrowhead": 0,
           "arrowwidth": 1
          },
          "autotypenumbers": "strict",
          "coloraxis": {
           "colorbar": {
            "outlinewidth": 0,
            "ticks": ""
           }
          },
          "colorscale": {
           "diverging": [
            [
             0,
             "#8e0152"
            ],
            [
             0.1,
             "#c51b7d"
            ],
            [
             0.2,
             "#de77ae"
            ],
            [
             0.3,
             "#f1b6da"
            ],
            [
             0.4,
             "#fde0ef"
            ],
            [
             0.5,
             "#f7f7f7"
            ],
            [
             0.6,
             "#e6f5d0"
            ],
            [
             0.7,
             "#b8e186"
            ],
            [
             0.8,
             "#7fbc41"
            ],
            [
             0.9,
             "#4d9221"
            ],
            [
             1,
             "#276419"
            ]
           ],
           "sequential": [
            [
             0,
             "#0d0887"
            ],
            [
             0.1111111111111111,
             "#46039f"
            ],
            [
             0.2222222222222222,
             "#7201a8"
            ],
            [
             0.3333333333333333,
             "#9c179e"
            ],
            [
             0.4444444444444444,
             "#bd3786"
            ],
            [
             0.5555555555555556,
             "#d8576b"
            ],
            [
             0.6666666666666666,
             "#ed7953"
            ],
            [
             0.7777777777777778,
             "#fb9f3a"
            ],
            [
             0.8888888888888888,
             "#fdca26"
            ],
            [
             1,
             "#f0f921"
            ]
           ],
           "sequentialminus": [
            [
             0,
             "#0d0887"
            ],
            [
             0.1111111111111111,
             "#46039f"
            ],
            [
             0.2222222222222222,
             "#7201a8"
            ],
            [
             0.3333333333333333,
             "#9c179e"
            ],
            [
             0.4444444444444444,
             "#bd3786"
            ],
            [
             0.5555555555555556,
             "#d8576b"
            ],
            [
             0.6666666666666666,
             "#ed7953"
            ],
            [
             0.7777777777777778,
             "#fb9f3a"
            ],
            [
             0.8888888888888888,
             "#fdca26"
            ],
            [
             1,
             "#f0f921"
            ]
           ]
          },
          "colorway": [
           "#636efa",
           "#EF553B",
           "#00cc96",
           "#ab63fa",
           "#FFA15A",
           "#19d3f3",
           "#FF6692",
           "#B6E880",
           "#FF97FF",
           "#FECB52"
          ],
          "font": {
           "color": "#2a3f5f"
          },
          "geo": {
           "bgcolor": "white",
           "lakecolor": "white",
           "landcolor": "#E5ECF6",
           "showlakes": true,
           "showland": true,
           "subunitcolor": "white"
          },
          "hoverlabel": {
           "align": "left"
          },
          "hovermode": "closest",
          "mapbox": {
           "style": "light"
          },
          "paper_bgcolor": "white",
          "plot_bgcolor": "#E5ECF6",
          "polar": {
           "angularaxis": {
            "gridcolor": "white",
            "linecolor": "white",
            "ticks": ""
           },
           "bgcolor": "#E5ECF6",
           "radialaxis": {
            "gridcolor": "white",
            "linecolor": "white",
            "ticks": ""
           }
          },
          "scene": {
           "xaxis": {
            "backgroundcolor": "#E5ECF6",
            "gridcolor": "white",
            "gridwidth": 2,
            "linecolor": "white",
            "showbackground": true,
            "ticks": "",
            "zerolinecolor": "white"
           },
           "yaxis": {
            "backgroundcolor": "#E5ECF6",
            "gridcolor": "white",
            "gridwidth": 2,
            "linecolor": "white",
            "showbackground": true,
            "ticks": "",
            "zerolinecolor": "white"
           },
           "zaxis": {
            "backgroundcolor": "#E5ECF6",
            "gridcolor": "white",
            "gridwidth": 2,
            "linecolor": "white",
            "showbackground": true,
            "ticks": "",
            "zerolinecolor": "white"
           }
          },
          "shapedefaults": {
           "line": {
            "color": "#2a3f5f"
           }
          },
          "ternary": {
           "aaxis": {
            "gridcolor": "white",
            "linecolor": "white",
            "ticks": ""
           },
           "baxis": {
            "gridcolor": "white",
            "linecolor": "white",
            "ticks": ""
           },
           "bgcolor": "#E5ECF6",
           "caxis": {
            "gridcolor": "white",
            "linecolor": "white",
            "ticks": ""
           }
          },
          "title": {
           "x": 0.05
          },
          "xaxis": {
           "automargin": true,
           "gridcolor": "white",
           "linecolor": "white",
           "ticks": "",
           "title": {
            "standoff": 15
           },
           "zerolinecolor": "white",
           "zerolinewidth": 2
          },
          "yaxis": {
           "automargin": true,
           "gridcolor": "white",
           "linecolor": "white",
           "ticks": "",
           "title": {
            "standoff": 15
           },
           "zerolinecolor": "white",
           "zerolinewidth": 2
          }
         }
        },
        "title": {
         "font": {
          "color": "white",
          "size": 20
         },
         "text": "Number of Songs per Topic",
         "x": 0.5,
         "xanchor": "center"
        },
        "width": 370,
        "xaxis": {
         "anchor": "y",
         "domain": [
          0,
          1
         ],
         "tickmode": "array",
         "ticktext": [
          "4",
          "5",
          "9",
          "1",
          "6",
          "7",
          "3",
          "2",
          "8",
          "0"
         ],
         "tickvals": [
          4,
          5,
          9,
          1,
          6,
          7,
          3,
          2,
          8,
          0
         ],
         "title": {
          "text": "Topic"
         }
        },
        "yaxis": {
         "anchor": "x",
         "domain": [
          0,
          1
         ],
         "title": {
          "text": "Number of Songs"
         }
        }
       }
      }
     },
     "metadata": {},
     "output_type": "display_data"
    }
   ],
   "source": [
    "import plotly.express as px\n",
    "\n",
    "# Assuming lda_theme['Dominant_Topic'] contains the topic data\n",
    "topic_distr = lda_theme['Dominant_Topic'].value_counts().reset_index()\n",
    "topic_distr.columns = ['Topic', 'Number of Songs']\n",
    "\n",
    "# Sort the data in descending order by the 'Number of Songs' column\n",
    "topic_distr = topic_distr.sort_values(by='Number of Songs', ascending=False)\n",
    "\n",
    "# Create a bar chart using plotly.express\n",
    "fig = px.bar(topic_distr, x='Topic', y='Number of Songs', \n",
    "             labels={'Topic': 'Topic', 'Number of Songs': 'Number of Songs'},\n",
    "             title='Number of Songs per Topic')\n",
    "\n",
    "# Customize the figure layout if needed\n",
    "fig.update_layout(\n",
    "    xaxis_title=\"Topic\",\n",
    "    yaxis_title=\"Number of Songs\",\n",
    "    width=370,  # Adjust the width (in pixels)\n",
    "    height=400,  # Adjust the height (in pixels)\n",
    "    xaxis={'tickmode': 'array', 'tickvals': topic_distr['Topic'], 'ticktext': topic_distr['Topic'].astype(str)},\n",
    "    \n",
    "    # Dark mode styling\n",
    "    plot_bgcolor='rgb(30, 30, 30)',  # Dark background for the plot area\n",
    "    paper_bgcolor='rgb(30, 30, 30)',  # Dark background for the overall area\n",
    "    font=dict(color='white'),  # Change font color to white for contrast\n",
    "    \n",
    "    # Title styling: Center the title and set color to white\n",
    "    title=dict(\n",
    "        text='Number of Songs per Topic',\n",
    "        x=0.5,  # Center the title horizontally\n",
    "        xanchor='center',  # Anchor the title to the center\n",
    "        font=dict(size=20, color='white')  # Set title font size and color\n",
    "    ),\n",
    ")\n",
    "\n",
    "fig.write_html(\"./static/charts/lda_topic_number.html\")\n",
    "\n",
    "# Show the plot\n",
    "fig.show()\n"
   ]
  },
  {
   "cell_type": "code",
   "execution_count": null,
   "metadata": {},
   "outputs": [
    {
     "data": {
      "image/png": "[encoded data removed]",
      "text/plain": [
       "<Figure size 400x200 with 1 Axes>"
      ]
     },
     "metadata": {},
     "output_type": "display_data"
    }
   ],
   "source": [
    "average_topic_prob = lda_theme.groupby('Dominant_Topic')['Topic_Probability'].mean()\n",
    "\n",
    "average_topic_prob.plot(kind='bar', figsize=(4,2))\n",
    "plt.xlabel('Topic')\n",
    "plt.ylabel('Average Probability')\n",
    "plt.title('Average Topic Probability per Topic')\n",
    "plt.show()"
   ]
  },
  {
   "cell_type": "code",
   "execution_count": null,
   "metadata": {},
   "outputs": [
    {
     "data": {
      "application/vnd.plotly.v1+json": {
       "config": {
        "plotlyServerURL": "https://plot.ly"
       },
       "data": [
        {
         "hovertemplate": "Dominant_Topic=0<br>year=%{x}<br>Number_of_songs=%{y}<extra></extra>",
         "legendgroup": "0",
         "line": {
          "color": "#636efa",
          "dash": "solid"
         },
         "marker": {
          "symbol": "circle"
         },
         "mode": "lines+markers",
         "name": "0",
         "orientation": "v",
         "showlegend": true,
         "type": "scatter",
         "x": [
          2014,
          2015,
          2016,
          2017,
          2018,
          2019,
          2020,
          2021,
          2022,
          2023,
          2024
         ],
         "xaxis": "x",
         "y": [
          1,
          2,
          2,
          1,
          1,
          2,
          0,
          2,
          5,
          1,
          3
         ],
         "yaxis": "y"
        },
        {
         "hovertemplate": "Dominant_Topic=1<br>year=%{x}<br>Number_of_songs=%{y}<extra></extra>",
         "legendgroup": "1",
         "line": {
          "color": "#EF553B",
          "dash": "solid"
         },
         "marker": {
          "symbol": "circle"
         },
         "mode": "lines+markers",
         "name": "1",
         "orientation": "v",
         "showlegend": true,
         "type": "scatter",
         "x": [
          2014,
          2015,
          2016,
          2017,
          2018,
          2019,
          2020,
          2021,
          2022,
          2023,
          2024
         ],
         "xaxis": "x",
         "y": [
          2,
          2,
          1,
          4,
          4,
          2,
          3,
          2,
          0,
          2,
          1
         ],
         "yaxis": "y"
        },
        {
         "hovertemplate": "Dominant_Topic=2<br>year=%{x}<br>Number_of_songs=%{y}<extra></extra>",
         "legendgroup": "2",
         "line": {
          "color": "#00cc96",
          "dash": "solid"
         },
         "marker": {
          "symbol": "circle"
         },
         "mode": "lines+markers",
         "name": "2",
         "orientation": "v",
         "showlegend": true,
         "type": "scatter",
         "x": [
          2014,
          2015,
          2016,
          2017,
          2018,
          2019,
          2020,
          2021,
          2022,
          2023,
          2024
         ],
         "xaxis": "x",
         "y": [
          1,
          1,
          0,
          0,
          1,
          1,
          2,
          0,
          3,
          1,
          0
         ],
         "yaxis": "y"
        },
        {
         "hovertemplate": "Dominant_Topic=3<br>year=%{x}<br>Number_of_songs=%{y}<extra></extra>",
         "legendgroup": "3",
         "line": {
          "color": "#ab63fa",
          "dash": "solid"
         },
         "marker": {
          "symbol": "circle"
         },
         "mode": "lines+markers",
         "name": "3",
         "orientation": "v",
         "showlegend": true,
         "type": "scatter",
         "x": [
          2014,
          2015,
          2016,
          2017,
          2018,
          2019,
          2020,
          2021,
          2022,
          2023,
          2024
         ],
         "xaxis": "x",
         "y": [
          0,
          1,
          2,
          0,
          1,
          3,
          1,
          2,
          1,
          2,
          0
         ],
         "yaxis": "y"
        },
        {
         "hovertemplate": "Dominant_Topic=4<br>year=%{x}<br>Number_of_songs=%{y}<extra></extra>",
         "legendgroup": "4",
         "line": {
          "color": "#FFA15A",
          "dash": "solid"
         },
         "marker": {
          "symbol": "circle"
         },
         "mode": "lines+markers",
         "name": "4",
         "orientation": "v",
         "showlegend": true,
         "type": "scatter",
         "x": [
          2014,
          2015,
          2016,
          2017,
          2018,
          2019,
          2020,
          2021,
          2022,
          2023,
          2024
         ],
         "xaxis": "x",
         "y": [
          0,
          0,
          2,
          2,
          1,
          1,
          4,
          5,
          1,
          1,
          1
         ],
         "yaxis": "y"
        },
        {
         "hovertemplate": "Dominant_Topic=5<br>year=%{x}<br>Number_of_songs=%{y}<extra></extra>",
         "legendgroup": "5",
         "line": {
          "color": "#19d3f3",
          "dash": "solid"
         },
         "marker": {
          "symbol": "circle"
         },
         "mode": "lines+markers",
         "name": "5",
         "orientation": "v",
         "showlegend": true,
         "type": "scatter",
         "x": [
          2014,
          2015,
          2016,
          2017,
          2018,
          2019,
          2020,
          2021,
          2022,
          2023,
          2024
         ],
         "xaxis": "x",
         "y": [
          5,
          3,
          0,
          1,
          2,
          2,
          0,
          1,
          1,
          2,
          3
         ],
         "yaxis": "y"
        },
        {
         "hovertemplate": "Dominant_Topic=6<br>year=%{x}<br>Number_of_songs=%{y}<extra></extra>",
         "legendgroup": "6",
         "line": {
          "color": "#FF6692",
          "dash": "solid"
         },
         "marker": {
          "symbol": "circle"
         },
         "mode": "lines+markers",
         "name": "6",
         "orientation": "v",
         "showlegend": true,
         "type": "scatter",
         "x": [
          2014,
          2015,
          2016,
          2017,
          2018,
          2019,
          2020,
          2021,
          2022,
          2023,
          2024
         ],
         "xaxis": "x",
         "y": [
          1,
          2,
          1,
          0,
          1,
          1,
          1,
          2,
          1,
          0,
          0
         ],
         "yaxis": "y"
        },
        {
         "hovertemplate": "Dominant_Topic=7<br>year=%{x}<br>Number_of_songs=%{y}<extra></extra>",
         "legendgroup": "7",
         "line": {
          "color": "#B6E880",
          "dash": "solid"
         },
         "marker": {
          "symbol": "circle"
         },
         "mode": "lines+markers",
         "name": "7",
         "orientation": "v",
         "showlegend": true,
         "type": "scatter",
         "x": [
          2014,
          2015,
          2016,
          2017,
          2018,
          2019,
          2020,
          2021,
          2022,
          2023,
          2024
         ],
         "xaxis": "x",
         "y": [
          4,
          1,
          2,
          3,
          2,
          2,
          1,
          0,
          1,
          1,
          3
         ],
         "yaxis": "y"
        },
        {
         "hovertemplate": "Dominant_Topic=8<br>year=%{x}<br>Number_of_songs=%{y}<extra></extra>",
         "legendgroup": "8",
         "line": {
          "color": "#FF97FF",
          "dash": "solid"
         },
         "marker": {
          "symbol": "circle"
         },
         "mode": "lines+markers",
         "name": "8",
         "orientation": "v",
         "showlegend": true,
         "type": "scatter",
         "x": [
          2014,
          2015,
          2016,
          2017,
          2018,
          2019,
          2020,
          2021,
          2022,
          2023,
          2024
         ],
         "xaxis": "x",
         "y": [
          0,
          2,
          2,
          2,
          0,
          1,
          0,
          0,
          0,
          1,
          1
         ],
         "yaxis": "y"
        },
        {
         "hovertemplate": "Dominant_Topic=9<br>year=%{x}<br>Number_of_songs=%{y}<extra></extra>",
         "legendgroup": "9",
         "line": {
          "color": "#FECB52",
          "dash": "solid"
         },
         "marker": {
          "symbol": "circle"
         },
         "mode": "lines+markers",
         "name": "9",
         "orientation": "v",
         "showlegend": true,
         "type": "scatter",
         "x": [
          2014,
          2015,
          2016,
          2017,
          2018,
          2019,
          2020,
          2021,
          2022,
          2023,
          2024
         ],
         "xaxis": "x",
         "y": [
          1,
          1,
          3,
          2,
          2,
          0,
          3,
          1,
          2,
          4,
          3
         ],
         "yaxis": "y"
        }
       ],
       "layout": {
        "font": {
         "color": "white"
        },
        "height": 400,
        "legend": {
         "font": {
          "color": "white"
         },
         "title": {
          "text": "Topic"
         },
         "tracegroupgap": 0
        },
        "paper_bgcolor": "rgb(30, 30, 30)",
        "plot_bgcolor": "rgb(30, 30, 30)",
        "template": {
         "data": {
          "bar": [
           {
            "error_x": {
             "color": "#2a3f5f"
            },
            "error_y": {
             "color": "#2a3f5f"
            },
            "marker": {
             "line": {
              "color": "#E5ECF6",
              "width": 0.5
             },
             "pattern": {
              "fillmode": "overlay",
              "size": 10,
              "solidity": 0.2
             }
            },
            "type": "bar"
           }
          ],
          "barpolar": [
           {
            "marker": {
             "line": {
              "color": "#E5ECF6",
              "width": 0.5
             },
             "pattern": {
              "fillmode": "overlay",
              "size": 10,
              "solidity": 0.2
             }
            },
            "type": "barpolar"
           }
          ],
          "carpet": [
           {
            "aaxis": {
             "endlinecolor": "#2a3f5f",
             "gridcolor": "white",
             "linecolor": "white",
             "minorgridcolor": "white",
             "startlinecolor": "#2a3f5f"
            },
            "baxis": {
             "endlinecolor": "#2a3f5f",
             "gridcolor": "white",
             "linecolor": "white",
             "minorgridcolor": "white",
             "startlinecolor": "#2a3f5f"
            },
            "type": "carpet"
           }
          ],
          "choropleth": [
           {
            "colorbar": {
             "outlinewidth": 0,
             "ticks": ""
            },
            "type": "choropleth"
           }
          ],
          "contour": [
           {
            "colorbar": {
             "outlinewidth": 0,
             "ticks": ""
            },
            "colorscale": [
             [
              0,
              "#0d0887"
             ],
             [
              0.1111111111111111,
              "#46039f"
             ],
             [
              0.2222222222222222,
              "#7201a8"
             ],
             [
              0.3333333333333333,
              "#9c179e"
             ],
             [
              0.4444444444444444,
              "#bd3786"
             ],
             [
              0.5555555555555556,
              "#d8576b"
             ],
             [
              0.6666666666666666,
              "#ed7953"
             ],
             [
              0.7777777777777778,
              "#fb9f3a"
             ],
             [
              0.8888888888888888,
              "#fdca26"
             ],
             [
              1,
              "#f0f921"
             ]
            ],
            "type": "contour"
           }
          ],
          "contourcarpet": [
           {
            "colorbar": {
             "outlinewidth": 0,
             "ticks": ""
            },
            "type": "contourcarpet"
           }
          ],
          "heatmap": [
           {
            "colorbar": {
             "outlinewidth": 0,
             "ticks": ""
            },
            "colorscale": [
             [
              0,
              "#0d0887"
             ],
             [
              0.1111111111111111,
              "#46039f"
             ],
             [
              0.2222222222222222,
              "#7201a8"
             ],
             [
              0.3333333333333333,
              "#9c179e"
             ],
             [
              0.4444444444444444,
              "#bd3786"
             ],
             [
              0.5555555555555556,
              "#d8576b"
             ],
             [
              0.6666666666666666,
              "#ed7953"
             ],
             [
              0.7777777777777778,
              "#fb9f3a"
             ],
             [
              0.8888888888888888,
              "#fdca26"
             ],
             [
              1,
              "#f0f921"
             ]
            ],
            "type": "heatmap"
           }
          ],
          "heatmapgl": [
           {
            "colorbar": {
             "outlinewidth": 0,
             "ticks": ""
            },
            "colorscale": [
             [
              0,
              "#0d0887"
             ],
             [
              0.1111111111111111,
              "#46039f"
             ],
             [
              0.2222222222222222,
              "#7201a8"
             ],
             [
              0.3333333333333333,
              "#9c179e"
             ],
             [
              0.4444444444444444,
              "#bd3786"
             ],
             [
              0.5555555555555556,
              "#d8576b"
             ],
             [
              0.6666666666666666,
              "#ed7953"
             ],
             [
              0.7777777777777778,
              "#fb9f3a"
             ],
             [
              0.8888888888888888,
              "#fdca26"
             ],
             [
              1,
              "#f0f921"
             ]
            ],
            "type": "heatmapgl"
           }
          ],
          "histogram": [
           {
            "marker": {
             "pattern": {
              "fillmode": "overlay",
              "size": 10,
              "solidity": 0.2
             }
            },
            "type": "histogram"
           }
          ],
          "histogram2d": [
           {
            "colorbar": {
             "outlinewidth": 0,
             "ticks": ""
            },
            "colorscale": [
             [
              0,
              "#0d0887"
             ],
             [
              0.1111111111111111,
              "#46039f"
             ],
             [
              0.2222222222222222,
              "#7201a8"
             ],
             [
              0.3333333333333333,
              "#9c179e"
             ],
             [
              0.4444444444444444,
              "#bd3786"
             ],
             [
              0.5555555555555556,
              "#d8576b"
             ],
             [
              0.6666666666666666,
              "#ed7953"
             ],
             [
              0.7777777777777778,
              "#fb9f3a"
             ],
             [
              0.8888888888888888,
              "#fdca26"
             ],
             [
              1,
              "#f0f921"
             ]
            ],
            "type": "histogram2d"
           }
          ],
          "histogram2dcontour": [
           {
            "colorbar": {
             "outlinewidth": 0,
             "ticks": ""
            },
            "colorscale": [
             [
              0,
              "#0d0887"
             ],
             [
              0.1111111111111111,
              "#46039f"
             ],
             [
              0.2222222222222222,
              "#7201a8"
             ],
             [
              0.3333333333333333,
              "#9c179e"
             ],
             [
              0.4444444444444444,
              "#bd3786"
             ],
             [
              0.5555555555555556,
              "#d8576b"
             ],
             [
              0.6666666666666666,
              "#ed7953"
             ],
             [
              0.7777777777777778,
              "#fb9f3a"
             ],
             [
              0.8888888888888888,
              "#fdca26"
             ],
             [
              1,
              "#f0f921"
             ]
            ],
            "type": "histogram2dcontour"
           }
          ],
          "mesh3d": [
           {
            "colorbar": {
             "outlinewidth": 0,
             "ticks": ""
            },
            "type": "mesh3d"
           }
          ],
          "parcoords": [
           {
            "line": {
             "colorbar": {
              "outlinewidth": 0,
              "ticks": ""
             }
            },
            "type": "parcoords"
           }
          ],
          "pie": [
           {
            "automargin": true,
            "type": "pie"
           }
          ],
          "scatter": [
           {
            "fillpattern": {
             "fillmode": "overlay",
             "size": 10,
             "solidity": 0.2
            },
            "type": "scatter"
           }
          ],
          "scatter3d": [
           {
            "line": {
             "colorbar": {
              "outlinewidth": 0,
              "ticks": ""
             }
            },
            "marker": {
             "colorbar": {
              "outlinewidth": 0,
              "ticks": ""
             }
            },
            "type": "scatter3d"
           }
          ],
          "scattercarpet": [
           {
            "marker": {
             "colorbar": {
              "outlinewidth": 0,
              "ticks": ""
             }
            },
            "type": "scattercarpet"
           }
          ],
          "scattergeo": [
           {
            "marker": {
             "colorbar": {
              "outlinewidth": 0,
              "ticks": ""
             }
            },
            "type": "scattergeo"
           }
          ],
          "scattergl": [
           {
            "marker": {
             "colorbar": {
              "outlinewidth": 0,
              "ticks": ""
             }
            },
            "type": "scattergl"
           }
          ],
          "scattermapbox": [
           {
            "marker": {
             "colorbar": {
              "outlinewidth": 0,
              "ticks": ""
             }
            },
            "type": "scattermapbox"
           }
          ],
          "scatterpolar": [
           {
            "marker": {
             "colorbar": {
              "outlinewidth": 0,
              "ticks": ""
             }
            },
            "type": "scatterpolar"
           }
          ],
          "scatterpolargl": [
           {
            "marker": {
             "colorbar": {
              "outlinewidth": 0,
              "ticks": ""
             }
            },
            "type": "scatterpolargl"
           }
          ],
          "scatterternary": [
           {
            "marker": {
             "colorbar": {
              "outlinewidth": 0,
              "ticks": ""
             }
            },
            "type": "scatterternary"
           }
          ],
          "surface": [
           {
            "colorbar": {
             "outlinewidth": 0,
             "ticks": ""
            },
            "colorscale": [
             [
              0,
              "#0d0887"
             ],
             [
              0.1111111111111111,
              "#46039f"
             ],
             [
              0.2222222222222222,
              "#7201a8"
             ],
             [
              0.3333333333333333,
              "#9c179e"
             ],
             [
              0.4444444444444444,
              "#bd3786"
             ],
             [
              0.5555555555555556,
              "#d8576b"
             ],
             [
              0.6666666666666666,
              "#ed7953"
             ],
             [
              0.7777777777777778,
              "#fb9f3a"
             ],
             [
              0.8888888888888888,
              "#fdca26"
             ],
             [
              1,
              "#f0f921"
             ]
            ],
            "type": "surface"
           }
          ],
          "table": [
           {
            "cells": {
             "fill": {
              "color": "#EBF0F8"
             },
             "line": {
              "color": "white"
             }
            },
            "header": {
             "fill": {
              "color": "#C8D4E3"
             },
             "line": {
              "color": "white"
             }
            },
            "type": "table"
           }
          ]
         },
         "layout": {
          "annotationdefaults": {
           "arrowcolor": "#2a3f5f",
           "arrowhead": 0,
           "arrowwidth": 1
          },
          "autotypenumbers": "strict",
          "coloraxis": {
           "colorbar": {
            "outlinewidth": 0,
            "ticks": ""
           }
          },
          "colorscale": {
           "diverging": [
            [
             0,
             "#8e0152"
            ],
            [
             0.1,
             "#c51b7d"
            ],
            [
             0.2,
             "#de77ae"
            ],
            [
             0.3,
             "#f1b6da"
            ],
            [
             0.4,
             "#fde0ef"
            ],
            [
             0.5,
             "#f7f7f7"
            ],
            [
             0.6,
             "#e6f5d0"
            ],
            [
             0.7,
             "#b8e186"
            ],
            [
             0.8,
             "#7fbc41"
            ],
            [
             0.9,
             "#4d9221"
            ],
            [
             1,
             "#276419"
            ]
           ],
           "sequential": [
            [
             0,
             "#0d0887"
            ],
            [
             0.1111111111111111,
             "#46039f"
            ],
            [
             0.2222222222222222,
             "#7201a8"
            ],
            [
             0.3333333333333333,
             "#9c179e"
            ],
            [
             0.4444444444444444,
             "#bd3786"
            ],
            [
             0.5555555555555556,
             "#d8576b"
            ],
            [
             0.6666666666666666,
             "#ed7953"
            ],
            [
             0.7777777777777778,
             "#fb9f3a"
            ],
            [
             0.8888888888888888,
             "#fdca26"
            ],
            [
             1,
             "#f0f921"
            ]
           ],
           "sequentialminus": [
            [
             0,
             "#0d0887"
            ],
            [
             0.1111111111111111,
             "#46039f"
            ],
            [
             0.2222222222222222,
             "#7201a8"
            ],
            [
             0.3333333333333333,
             "#9c179e"
            ],
            [
             0.4444444444444444,
             "#bd3786"
            ],
            [
             0.5555555555555556,
             "#d8576b"
            ],
            [
             0.6666666666666666,
             "#ed7953"
            ],
            [
             0.7777777777777778,
             "#fb9f3a"
            ],
            [
             0.8888888888888888,
             "#fdca26"
            ],
            [
             1,
             "#f0f921"
            ]
           ]
          },
          "colorway": [
           "#636efa",
           "#EF553B",
           "#00cc96",
           "#ab63fa",
           "#FFA15A",
           "#19d3f3",
           "#FF6692",
           "#B6E880",
           "#FF97FF",
           "#FECB52"
          ],
          "font": {
           "color": "#2a3f5f"
          },
          "geo": {
           "bgcolor": "white",
           "lakecolor": "white",
           "landcolor": "#E5ECF6",
           "showlakes": true,
           "showland": true,
           "subunitcolor": "white"
          },
          "hoverlabel": {
           "align": "left"
          },
          "hovermode": "closest",
          "mapbox": {
           "style": "light"
          },
          "paper_bgcolor": "white",
          "plot_bgcolor": "#E5ECF6",
          "polar": {
           "angularaxis": {
            "gridcolor": "white",
            "linecolor": "white",
            "ticks": ""
           },
           "bgcolor": "#E5ECF6",
           "radialaxis": {
            "gridcolor": "white",
            "linecolor": "white",
            "ticks": ""
           }
          },
          "scene": {
           "xaxis": {
            "backgroundcolor": "#E5ECF6",
            "gridcolor": "white",
            "gridwidth": 2,
            "linecolor": "white",
            "showbackground": true,
            "ticks": "",
            "zerolinecolor": "white"
           },
           "yaxis": {
            "backgroundcolor": "#E5ECF6",
            "gridcolor": "white",
            "gridwidth": 2,
            "linecolor": "white",
            "showbackground": true,
            "ticks": "",
            "zerolinecolor": "white"
           },
           "zaxis": {
            "backgroundcolor": "#E5ECF6",
            "gridcolor": "white",
            "gridwidth": 2,
            "linecolor": "white",
            "showbackground": true,
            "ticks": "",
            "zerolinecolor": "white"
           }
          },
          "shapedefaults": {
           "line": {
            "color": "#2a3f5f"
           }
          },
          "ternary": {
           "aaxis": {
            "gridcolor": "white",
            "linecolor": "white",
            "ticks": ""
           },
           "baxis": {
            "gridcolor": "white",
            "linecolor": "white",
            "ticks": ""
           },
           "bgcolor": "#E5ECF6",
           "caxis": {
            "gridcolor": "white",
            "linecolor": "white",
            "ticks": ""
           }
          },
          "title": {
           "x": 0.05
          },
          "xaxis": {
           "automargin": true,
           "gridcolor": "white",
           "linecolor": "white",
           "ticks": "",
           "title": {
            "standoff": 15
           },
           "zerolinecolor": "white",
           "zerolinewidth": 2
          },
          "yaxis": {
           "automargin": true,
           "gridcolor": "white",
           "linecolor": "white",
           "ticks": "",
           "title": {
            "standoff": 15
           },
           "zerolinecolor": "white",
           "zerolinewidth": 2
          }
         }
        },
        "title": {
         "font": {
          "color": "white",
          "size": 25
         },
         "text": "Topic Trends over Years"
        },
        "width": 830,
        "xaxis": {
         "anchor": "y",
         "domain": [
          0,
          1
         ],
         "gridcolor": "rgb(169, 169, 169)",
         "linecolor": "white",
         "linewidth": 2,
         "range": [
          2014,
          2024
         ],
         "showgrid": true,
         "showline": true,
         "tickangle": 45,
         "title": {
          "text": "Year"
         },
         "type": "linear"
        },
        "yaxis": {
         "anchor": "x",
         "domain": [
          0,
          1
         ],
         "gridcolor": "rgb(169, 169, 169)",
         "linecolor": "white",
         "linewidth": 2,
         "showgrid": true,
         "showline": true,
         "title": {
          "text": "Number of Songs"
         }
        }
       }
      }
     },
     "metadata": {},
     "output_type": "display_data"
    }
   ],
   "source": [
    "import pandas as pd\n",
    "import matplotlib.pyplot as plt\n",
    "import plotly.express as px\n",
    "\n",
    "topic_year_trends = lda_theme.groupby(['year', 'Dominant_Topic']).size().unstack(fill_value=0)\n",
    "\n",
    "topic_year_trends_df = topic_year_trends.reset_index()\n",
    "\n",
    "# melt the df to long format \n",
    "topic_long_df = topic_year_trends_df.melt(id_vars=['year'], var_name='Dominant_Topic', value_name='Number_of_songs')\n",
    "\n",
    "\n",
    "fig = px.line(\n",
    "    topic_long_df,\n",
    "    x='year',\n",
    "    y='Number_of_songs',\n",
    "    color='Dominant_Topic',\n",
    "    title='Topic Trends over Years',\n",
    "    markers=True\n",
    ")\n",
    "\n",
    "# treat x-axis as linear scale\n",
    "fig.update_xaxes(type='linear', range=[lda_theme['year'].min(), lda_theme['year'].max()])\n",
    "\n",
    "fig.update_layout(\n",
    "    legend_title_text='Topic', xaxis_title='Year', yaxis_title='Number of Songs',\n",
    "    plot_bgcolor='rgb(30, 30, 30)',  # Dark background for the plot area\n",
    "    paper_bgcolor='rgb(30, 30, 30)',  # Dark background for the entire paper\n",
    "    font=dict(color='white'),  # White text color\n",
    "    title=dict(\n",
    "        font=dict(size=25, color='white')  # White color for the title\n",
    "    ),\n",
    "    xaxis=dict(\n",
    "        showgrid=True,\n",
    "        gridcolor='rgb(169, 169, 169)',  # Light gridlines\n",
    "        tickangle=45,\n",
    "        showline=True,\n",
    "        linewidth=2,\n",
    "        linecolor='white'\n",
    "    ),\n",
    "    yaxis=dict(\n",
    "        showgrid=True,\n",
    "        gridcolor='rgb(169, 169, 169)',  # Light gridlines\n",
    "        showline=True,\n",
    "        linewidth=2,\n",
    "        linecolor='white'\n",
    "    ),\n",
    "    legend=dict(\n",
    "        font=dict(color='white')  # White legend text\n",
    "    ), \n",
    "    width=830,\n",
    "    height=400\n",
    ")\n",
    "\n",
    "fig.write_html(\"./static/charts/lda_topic_trend.html\")\n",
    "\n",
    "fig.show()"
   ]
  },
  {
   "cell_type": "code",
   "execution_count": null,
   "metadata": {},
   "outputs": [
    {
     "name": "stdout",
     "output_type": "stream",
     "text": [
      "Topic 4: ['love', 'know', 'body', 'touch', 'used']\n",
      "Topic 7: ['every', 'love', 'day', 'baby', 'want']\n",
      "Topic 9: ['girls', 'run', 'world', 'know', 'little']\n",
      "Topic 5: ['somebody', 'love', 'fuck', 'find', 'come']\n",
      "Topic 3: ['try', 'never', 'get', 'fall', 'meant']\n",
      "Topic 8: ['go', 'let', 'want', 'need', 'never']\n",
      "Topic 0: ['star', 'dancing', 'make', 'know', 'money']\n",
      "Topic 1: ['baby', 'know', 'side', 'rain', 'come']\n",
      "Topic 6: ['work', 'lose', 'night', 'kiss', 'always']\n",
      "Topic 2: ['know', 'wake', 'middle', 'good', 'let']\n"
     ]
    }
   ],
   "source": [
    "# Text and topic interpretation\n",
    "for idx, row in lda_theme[['Dominant_Topic', 'Topic_Words']].drop_duplicates().iterrows():\n",
    "    print(f\"Topic {row['Dominant_Topic']}: {row['Topic_Words']}\")"
   ]
  },
  {
   "cell_type": "markdown",
   "metadata": {},
   "source": [
    "\n",
    "**Heatmap showing the probability of dominant topic for each year from 2014 to 2024**\n",
    "\n",
    "- It's important to normalize the data to ensure the values represent the relative importance or dominance of eahc topic within that year, regarldess of number of songs. \n",
    "- I'll include the song play count into the heatmap to give more weight to the songs that I listened to more often. \n",
    "- This will lead to a more accurate refelction of how dominant each topic truly was in my listening habits. \n",
    "- calculate weighted probability:\n",
    "    * sum of play counts for that topic / total play counts for that year "
   ]
  },
  {
   "cell_type": "code",
   "execution_count": null,
   "metadata": {},
   "outputs": [],
   "source": [
    "\n"
   ]
  },
  {
   "cell_type": "code",
   "execution_count": null,
   "metadata": {},
   "outputs": [],
   "source": []
  },
  {
   "cell_type": "code",
   "execution_count": null,
   "metadata": {},
   "outputs": [],
   "source": []
  },
  {
   "cell_type": "code",
   "execution_count": null,
   "metadata": {},
   "outputs": [],
   "source": []
  }
 ],
 "metadata": {
  "kernelspec": {
   "display_name": "base",
   "language": "python",
   "name": "python3"
  },
  "language_info": {
   "codemirror_mode": {
    "name": "ipython",
    "version": 3
   },
   "file_extension": ".py",
   "mimetype": "text/x-python",
   "name": "python",
   "nbconvert_exporter": "python",
   "pygments_lexer": "ipython3",
   "version": "3.12.3"
  }
 },
 "nbformat": 4,
 "nbformat_minor": 2
}
