{
 "cells": [
  {
   "cell_type": "code",
   "execution_count": 2,
   "metadata": {},
   "outputs": [
    {
     "name": "stdout",
     "output_type": "stream",
     "text": [
      "   year          artist                      song  \\\n",
      "0  2014      Ed Sheeran         Thinking out Loud   \n",
      "1  2014     Norah Jones         Come Away With Me   \n",
      "2  2014     Troye Sivan         Happy Little Pill   \n",
      "3  2014      The Script               Superheroes   \n",
      "4  2014  Ellie Goulding  How Long Will I Love You   \n",
      "\n",
      "                                              lyrics  \n",
      "0  [Verse 1]\\nWhen your legs don't work like they...  \n",
      "1  [Verse 1]\\nCome away with me in the night\\nCom...  \n",
      "2  [Verse 1]\\nIn the crowd, alone\\nAnd every seco...  \n",
      "3  [Verse 1]\\nAll her life, she has seen\\nOh the ...  \n",
      "4  [Intro]\\nMm\\nMm\\n[Verse 1]\\nHow long will I lo...  \n",
      "Index(['year', 'artist', 'song', 'lyrics'], dtype='object')\n"
     ]
    }
   ],
   "source": [
    "import pandas as pd\n",
    "\n",
    "top_song = pd.read_json(r'./Dataset/top_songs_lyrics.json')\n",
    "\n",
    "print(top_song.head())\n",
    "print(top_song.columns)"
   ]
  },
  {
   "cell_type": "markdown",
   "metadata": {},
   "source": [
    "# Basic Sentiment Analysis with VADER\n",
    "\n",
    "**Objective**\n",
    "- to determine the overall sentiment of each song's lyrics (positive, neutral, negative)\n",
    "\n",
    "**Method**\n",
    "- use Python packag, VADER to calculate sentiment polarity scores for each song's lyrics\n",
    "\n",
    "**Steps**\n",
    "1) Donwload VADER lexicon\n",
    "2) Itializes VADER sentiment analyzer\n",
    "3) Defines a funciton get_sentiment_score to compute the sentiment score of lyrics\n",
    "4) Applies the function to the lyrics column to get sentiment scores\n",
    "5) Label the sentiment based on the score using sentiment_label\n",
    "6) print results (omit the lyrics)\n",
    "\n",
    "**Notes**\n",
    "- I have a mix of english and malay songs in the list, I'd have to use:\n",
    "    * language detection library to automatically detect the language of a given text\n",
    "    * Amazon Translate\n",
    "\n",
    "**Setting up**\n",
    "- Install nltk in vs code: https://www.nltk.org/\n"
   ]
  },
  {
   "cell_type": "code",
   "execution_count": 3,
   "metadata": {},
   "outputs": [
    {
     "name": "stdout",
     "output_type": "stream",
     "text": [
      "I'm so hungry and thirsty.Can I have food?\n"
     ]
    }
   ],
   "source": [
    "# testing - text transation \n",
    "from googletrans import Translator\n",
    "\n",
    "translator = Translator()\n",
    "\n",
    "malay_words1 = 'Saya sangat lapar dan dahaga. Bolehkah bagi saya makanan?'\n",
    "malay_words2 = 'Nama saya Asyikin. Saya suka mengembara dan beriadah'\n",
    "\n",
    "try:\n",
    "    translated_sentence = translator.translate(malay_words1, dest='en').text\n",
    "    print(translated_sentence)\n",
    "    \n",
    "except Exception as e:\n",
    "    print(f'Error: {e}')"
   ]
  },
  {
   "cell_type": "code",
   "execution_count": 4,
   "metadata": {},
   "outputs": [
    {
     "name": "stdout",
     "output_type": "stream",
     "text": [
      "{'neg': 0.66, 'neu': 0.34, 'pos': 0.0, 'compound': -0.5974}\n"
     ]
    },
    {
     "name": "stderr",
     "output_type": "stream",
     "text": [
      "[nltk_data] Downloading package vader_lexicon to\n",
      "[nltk_data]     C:\\Users\\ASYIKIN\\AppData\\Roaming\\nltk_data...\n",
      "[nltk_data]   Package vader_lexicon is already up-to-date!\n"
     ]
    }
   ],
   "source": [
    "#testing - nltk \n",
    "import nltk \n",
    "nltk.download('vader_lexicon')\n",
    "\n",
    "from nltk.sentiment.vader import SentimentIntensityAnalyzer\n",
    "\n",
    "sia = SentimentIntensityAnalyzer()\n",
    "\n",
    "sample_text = 'I am so angry!'\n",
    "print(sia.polarity_scores(sample_text))"
   ]
  },
  {
   "cell_type": "code",
   "execution_count": 5,
   "metadata": {},
   "outputs": [
    {
     "data": {
      "text/html": [
       "<div>\n",
       "<style scoped>\n",
       "    .dataframe tbody tr th:only-of-type {\n",
       "        vertical-align: middle;\n",
       "    }\n",
       "\n",
       "    .dataframe tbody tr th {\n",
       "        vertical-align: top;\n",
       "    }\n",
       "\n",
       "    .dataframe thead th {\n",
       "        text-align: right;\n",
       "    }\n",
       "</style>\n",
       "<table border=\"1\" class=\"dataframe\">\n",
       "  <thead>\n",
       "    <tr style=\"text-align: right;\">\n",
       "      <th></th>\n",
       "      <th>year</th>\n",
       "      <th>artist</th>\n",
       "      <th>song</th>\n",
       "      <th>sentiment</th>\n",
       "      <th>sentiment_label</th>\n",
       "    </tr>\n",
       "  </thead>\n",
       "  <tbody>\n",
       "    <tr>\n",
       "      <th>0</th>\n",
       "      <td>2014</td>\n",
       "      <td>Ed Sheeran</td>\n",
       "      <td>Thinking out Loud</td>\n",
       "      <td>0.9967</td>\n",
       "      <td>positive</td>\n",
       "    </tr>\n",
       "    <tr>\n",
       "      <th>1</th>\n",
       "      <td>2014</td>\n",
       "      <td>Norah Jones</td>\n",
       "      <td>Come Away With Me</td>\n",
       "      <td>0.1635</td>\n",
       "      <td>positive</td>\n",
       "    </tr>\n",
       "    <tr>\n",
       "      <th>2</th>\n",
       "      <td>2014</td>\n",
       "      <td>Troye Sivan</td>\n",
       "      <td>Happy Little Pill</td>\n",
       "      <td>0.4848</td>\n",
       "      <td>positive</td>\n",
       "    </tr>\n",
       "    <tr>\n",
       "      <th>3</th>\n",
       "      <td>2014</td>\n",
       "      <td>The Script</td>\n",
       "      <td>Superheroes</td>\n",
       "      <td>-0.9961</td>\n",
       "      <td>negative</td>\n",
       "    </tr>\n",
       "    <tr>\n",
       "      <th>4</th>\n",
       "      <td>2014</td>\n",
       "      <td>Ellie Goulding</td>\n",
       "      <td>How Long Will I Love You</td>\n",
       "      <td>0.9447</td>\n",
       "      <td>positive</td>\n",
       "    </tr>\n",
       "    <tr>\n",
       "      <th>...</th>\n",
       "      <td>...</td>\n",
       "      <td>...</td>\n",
       "      <td>...</td>\n",
       "      <td>...</td>\n",
       "      <td>...</td>\n",
       "    </tr>\n",
       "    <tr>\n",
       "      <th>160</th>\n",
       "      <td>2024</td>\n",
       "      <td>Rossa</td>\n",
       "      <td>Takkan Berpaling DariMu</td>\n",
       "      <td>0.9933</td>\n",
       "      <td>positive</td>\n",
       "    </tr>\n",
       "    <tr>\n",
       "      <th>161</th>\n",
       "      <td>2024</td>\n",
       "      <td>Hozier</td>\n",
       "      <td>Too Sweet</td>\n",
       "      <td>0.9985</td>\n",
       "      <td>positive</td>\n",
       "    </tr>\n",
       "    <tr>\n",
       "      <th>162</th>\n",
       "      <td>2024</td>\n",
       "      <td>Hozier</td>\n",
       "      <td>Work Song</td>\n",
       "      <td>-0.7612</td>\n",
       "      <td>negative</td>\n",
       "    </tr>\n",
       "    <tr>\n",
       "      <th>163</th>\n",
       "      <td>2024</td>\n",
       "      <td>Coi Leray</td>\n",
       "      <td>Players</td>\n",
       "      <td>0.9837</td>\n",
       "      <td>positive</td>\n",
       "    </tr>\n",
       "    <tr>\n",
       "      <th>164</th>\n",
       "      <td>2024</td>\n",
       "      <td>Ariana Grande</td>\n",
       "      <td>R.E.M</td>\n",
       "      <td>0.9956</td>\n",
       "      <td>positive</td>\n",
       "    </tr>\n",
       "  </tbody>\n",
       "</table>\n",
       "<p>165 rows × 5 columns</p>\n",
       "</div>"
      ],
      "text/plain": [
       "     year          artist                      song  sentiment sentiment_label\n",
       "0    2014      Ed Sheeran         Thinking out Loud     0.9967        positive\n",
       "1    2014     Norah Jones         Come Away With Me     0.1635        positive\n",
       "2    2014     Troye Sivan         Happy Little Pill     0.4848        positive\n",
       "3    2014      The Script               Superheroes    -0.9961        negative\n",
       "4    2014  Ellie Goulding  How Long Will I Love You     0.9447        positive\n",
       "..    ...             ...                       ...        ...             ...\n",
       "160  2024           Rossa   Takkan Berpaling DariMu     0.9933        positive\n",
       "161  2024          Hozier                 Too Sweet     0.9985        positive\n",
       "162  2024          Hozier                 Work Song    -0.7612        negative\n",
       "163  2024       Coi Leray                   Players     0.9837        positive\n",
       "164  2024   Ariana Grande                     R.E.M     0.9956        positive\n",
       "\n",
       "[165 rows x 5 columns]"
      ]
     },
     "execution_count": 5,
     "metadata": {},
     "output_type": "execute_result"
    }
   ],
   "source": [
    "import nltk \n",
    "from nltk.sentiment.vader import SentimentIntensityAnalyzer\n",
    "import pandas as pd\n",
    "from googletrans import Translator\n",
    "\n",
    "# # donwlonad VADER lexicon\n",
    "# nltk.download('vader_lexicon')\n",
    "\n",
    "#initialize VADER sentiment analyzer \n",
    "sia = SentimentIntensityAnalyzer()\n",
    "\n",
    "#initialize google translator\n",
    "translator = Translator()\n",
    "\n",
    "# function to translate lyrics to English\n",
    "def translate_lyrics(lyrics):\n",
    "    try:\n",
    "        return translator.translate(lyrics, dest='en').text\n",
    "    except Exception as e:\n",
    "        print(f'Error in Translation: {e}')\n",
    "        return lyrics\n",
    "\n",
    "#create a funciton to get sentiment score\n",
    "def get_sentiment_score(lyrics):\n",
    "    return sia.polarity_scores(lyrics)['compound']\n",
    "\n",
    "#label the sentiment\n",
    "def sentiment_label(score):\n",
    "    if score >= 0.05:\n",
    "        return 'positive'\n",
    "    elif score <= -0.05:\n",
    "        return 'negative'\n",
    "    else:\n",
    "        return 'neutral'\n",
    "\n",
    "# apply translation function to the 'lyrics' column\n",
    "top_song['translated_lyrics'] = top_song['lyrics'].apply(translate_lyrics)\n",
    "\n",
    "#apply sentiment analysis to the translated lyrics\n",
    "top_song['sentiment'] = top_song['translated_lyrics'].apply(get_sentiment_score)\n",
    "\n",
    "#apply the labeling function\n",
    "top_song['sentiment_label'] = top_song['sentiment'].apply(sentiment_label)\n",
    "\n",
    "top_song[['year', 'artist', 'song', 'sentiment', 'sentiment_label']]"
   ]
  },
  {
   "cell_type": "code",
   "execution_count": 6,
   "metadata": {},
   "outputs": [],
   "source": [
    "# #Save to csv file \n",
    "# top_song_no_lyrics = top_song.drop(columns=['lyrics', 'translated_lyrics'])\n",
    "\n",
    "# top_song_no_lyrics.to_csv('top_song_sentiment.csv', index=False)"
   ]
  },
  {
   "cell_type": "code",
   "execution_count": 7,
   "metadata": {},
   "outputs": [
    {
     "name": "stdout",
     "output_type": "stream",
     "text": [
      "     song  \\\n",
      "135  Sial   \n",
      "\n",
      "                                                                                                                                                                                                                                                                                                                                                                                                                                                                                                                                                                                                                                                                                                                                                                                                                                                                                                                                                                                                                                                                                                                                                                                                                                                                                                                                                                               translated_lyrics  \n",
      "135  [Lyrics \"Sial\"]\\n[VERSE 1]\\nUntil now I didn't think of me\\nI once gave a feeling to someone like you\\nIf from the beginning I didn't convince myself\\nThe perfect speech, not as good as I guess\\n[PRE-CHORUS]\\nIf 'I know everything will be in vain\\nI will not feel your love for a moment\\n[Chorus]\\nHow about I already love you?\\nWho came to give hope, then go and disappear\\nI never thought of, my heart broke out because of your\\nWithout a few reasons, leaving without saying goodbye\\nI will not feel your love for a moment\\n[VERSE 2]\\nIf from the beginning I didn't convince myself\\nThe perfect speech, not as good as I guess\\n[PRE-CHORUS]\\nIf 'I know everything will be in vain\\nI will not feel your love for a moment [Chorus]\\nHow about I already love you?\\nWho came to give hope, then go and disappear\\nI never thought of, my heart broke out because of your\\nWithout a few reasons, leaving without saying goodbye\\nI will not have a moment of love for your moment\\n[Bridge]\\nDamn it 'I met with pseudo love\\nCheck your speech and way\\nAs if my love (Cintaiku)\\nAre you satisfied with me?\\n[Chorus]\\nHow about I already love you?(Love you)\\nWho came to give hope, then go and disappear\\nI never thought of, my heart broke out because of your\\nWithout a few reasons, leaving without saying goodbye\\nI will not feel your love for a moment  \n"
     ]
    }
   ],
   "source": [
    "# Replace 'Your Song Title' with the title of the song you want to view\n",
    "song_title = 'Sial'\n",
    "specific_song = top_song[top_song['song'] == song_title]\n",
    "\n",
    "# Set pandas display options to show more text in the output\n",
    "pd.set_option('display.max_colwidth', None)  # Show full content of all columns\n",
    "\n",
    "# Display the original and translated lyrics of the specific song\n",
    "print(specific_song[['song', 'translated_lyrics']])\n"
   ]
  },
  {
   "cell_type": "markdown",
   "metadata": {},
   "source": [
    "# Issues\n",
    "Malay songs\n",
    "- Songs written in my native language were given neutral rating. \n",
    "- VADER sentiment analyzer is optimized for english, it does not understand foreign language hence the weird rating. \n",
    "- I used googletrans to translate the words before apply sentiment analysis to the songs.\n",
    "\n",
    "Missign Songs\n",
    "1) 2022 - Luqman\n",
    "2) 2024 - Aina\n",
    "- They're missing from the scraped lists bcs they're not found in Genius website, i think.\n",
    "- I inserted them manually inot json file."
   ]
  },
  {
   "cell_type": "code",
   "execution_count": 8,
   "metadata": {},
   "outputs": [
    {
     "data": {
      "text/html": [
       "<div>\n",
       "<style scoped>\n",
       "    .dataframe tbody tr th:only-of-type {\n",
       "        vertical-align: middle;\n",
       "    }\n",
       "\n",
       "    .dataframe tbody tr th {\n",
       "        vertical-align: top;\n",
       "    }\n",
       "\n",
       "    .dataframe thead th {\n",
       "        text-align: right;\n",
       "    }\n",
       "</style>\n",
       "<table border=\"1\" class=\"dataframe\">\n",
       "  <thead>\n",
       "    <tr style=\"text-align: right;\">\n",
       "      <th></th>\n",
       "      <th>year</th>\n",
       "      <th>artist</th>\n",
       "      <th>song</th>\n",
       "      <th>sentiment</th>\n",
       "      <th>sentiment_label</th>\n",
       "    </tr>\n",
       "  </thead>\n",
       "  <tbody>\n",
       "    <tr>\n",
       "      <th>0</th>\n",
       "      <td>2014</td>\n",
       "      <td>Ed Sheeran</td>\n",
       "      <td>Thinking out Loud</td>\n",
       "      <td>0.9967</td>\n",
       "      <td>positive</td>\n",
       "    </tr>\n",
       "    <tr>\n",
       "      <th>1</th>\n",
       "      <td>2014</td>\n",
       "      <td>Norah Jones</td>\n",
       "      <td>Come Away With Me</td>\n",
       "      <td>0.1635</td>\n",
       "      <td>positive</td>\n",
       "    </tr>\n",
       "    <tr>\n",
       "      <th>2</th>\n",
       "      <td>2014</td>\n",
       "      <td>Troye Sivan</td>\n",
       "      <td>Happy Little Pill</td>\n",
       "      <td>0.4848</td>\n",
       "      <td>positive</td>\n",
       "    </tr>\n",
       "    <tr>\n",
       "      <th>3</th>\n",
       "      <td>2014</td>\n",
       "      <td>The Script</td>\n",
       "      <td>Superheroes</td>\n",
       "      <td>-0.9961</td>\n",
       "      <td>negative</td>\n",
       "    </tr>\n",
       "    <tr>\n",
       "      <th>4</th>\n",
       "      <td>2014</td>\n",
       "      <td>Ellie Goulding</td>\n",
       "      <td>How Long Will I Love You</td>\n",
       "      <td>0.9447</td>\n",
       "      <td>positive</td>\n",
       "    </tr>\n",
       "  </tbody>\n",
       "</table>\n",
       "</div>"
      ],
      "text/plain": [
       "   year          artist                      song  sentiment sentiment_label\n",
       "0  2014      Ed Sheeran         Thinking out Loud     0.9967        positive\n",
       "1  2014     Norah Jones         Come Away With Me     0.1635        positive\n",
       "2  2014     Troye Sivan         Happy Little Pill     0.4848        positive\n",
       "3  2014      The Script               Superheroes    -0.9961        negative\n",
       "4  2014  Ellie Goulding  How Long Will I Love You     0.9447        positive"
      ]
     },
     "execution_count": 8,
     "metadata": {},
     "output_type": "execute_result"
    }
   ],
   "source": [
    "song_sentiment=pd.read_csv('./top_song_sentiment.csv')\n",
    "# song_sentiment=song_sentiment.drop(['Unnamed: 5', 'Unnamed: 6', 'Unnamed: 7', 'Unnamed: 8', 'Unnamed: 9'], axis=1)\n",
    "song_sentiment.head()"
   ]
  },
  {
   "cell_type": "code",
   "execution_count": 9,
   "metadata": {},
   "outputs": [
    {
     "data": {
      "text/plain": [
       "Index(['year', 'artist', 'song', 'sentiment', 'sentiment_label'], dtype='object')"
      ]
     },
     "execution_count": 9,
     "metadata": {},
     "output_type": "execute_result"
    }
   ],
   "source": [
    "song_sentiment.columns"
   ]
  },
  {
   "cell_type": "code",
   "execution_count": 10,
   "metadata": {},
   "outputs": [
    {
     "data": {
      "application/vnd.plotly.v1+json": {
       "config": {
        "plotlyServerURL": "https://plot.ly"
       },
       "data": [
        {
         "alignmentgroup": "True",
         "hovertemplate": "Number of Songs=%{x}<br>Sentiment Label=%{y}<extra></extra>",
         "legendgroup": "",
         "marker": {
          "color": "#636efa",
          "pattern": {
           "shape": ""
          }
         },
         "name": "",
         "offsetgroup": "",
         "orientation": "h",
         "showlegend": false,
         "textposition": "auto",
         "type": "bar",
         "x": [
          115,
          49,
          1
         ],
         "xaxis": "x",
         "y": [
          "positive",
          "negative",
          "neutral"
         ],
         "yaxis": "y"
        }
       ],
       "layout": {
        "barmode": "relative",
        "legend": {
         "tracegroupgap": 0
        },
        "template": {
         "data": {
          "bar": [
           {
            "error_x": {
             "color": "#2a3f5f"
            },
            "error_y": {
             "color": "#2a3f5f"
            },
            "marker": {
             "line": {
              "color": "#E5ECF6",
              "width": 0.5
             },
             "pattern": {
              "fillmode": "overlay",
              "size": 10,
              "solidity": 0.2
             }
            },
            "type": "bar"
           }
          ],
          "barpolar": [
           {
            "marker": {
             "line": {
              "color": "#E5ECF6",
              "width": 0.5
             },
             "pattern": {
              "fillmode": "overlay",
              "size": 10,
              "solidity": 0.2
             }
            },
            "type": "barpolar"
           }
          ],
          "carpet": [
           {
            "aaxis": {
             "endlinecolor": "#2a3f5f",
             "gridcolor": "white",
             "linecolor": "white",
             "minorgridcolor": "white",
             "startlinecolor": "#2a3f5f"
            },
            "baxis": {
             "endlinecolor": "#2a3f5f",
             "gridcolor": "white",
             "linecolor": "white",
             "minorgridcolor": "white",
             "startlinecolor": "#2a3f5f"
            },
            "type": "carpet"
           }
          ],
          "choropleth": [
           {
            "colorbar": {
             "outlinewidth": 0,
             "ticks": ""
            },
            "type": "choropleth"
           }
          ],
          "contour": [
           {
            "colorbar": {
             "outlinewidth": 0,
             "ticks": ""
            },
            "colorscale": [
             [
              0,
              "#0d0887"
             ],
             [
              0.1111111111111111,
              "#46039f"
             ],
             [
              0.2222222222222222,
              "#7201a8"
             ],
             [
              0.3333333333333333,
              "#9c179e"
             ],
             [
              0.4444444444444444,
              "#bd3786"
             ],
             [
              0.5555555555555556,
              "#d8576b"
             ],
             [
              0.6666666666666666,
              "#ed7953"
             ],
             [
              0.7777777777777778,
              "#fb9f3a"
             ],
             [
              0.8888888888888888,
              "#fdca26"
             ],
             [
              1,
              "#f0f921"
             ]
            ],
            "type": "contour"
           }
          ],
          "contourcarpet": [
           {
            "colorbar": {
             "outlinewidth": 0,
             "ticks": ""
            },
            "type": "contourcarpet"
           }
          ],
          "heatmap": [
           {
            "colorbar": {
             "outlinewidth": 0,
             "ticks": ""
            },
            "colorscale": [
             [
              0,
              "#0d0887"
             ],
             [
              0.1111111111111111,
              "#46039f"
             ],
             [
              0.2222222222222222,
              "#7201a8"
             ],
             [
              0.3333333333333333,
              "#9c179e"
             ],
             [
              0.4444444444444444,
              "#bd3786"
             ],
             [
              0.5555555555555556,
              "#d8576b"
             ],
             [
              0.6666666666666666,
              "#ed7953"
             ],
             [
              0.7777777777777778,
              "#fb9f3a"
             ],
             [
              0.8888888888888888,
              "#fdca26"
             ],
             [
              1,
              "#f0f921"
             ]
            ],
            "type": "heatmap"
           }
          ],
          "heatmapgl": [
           {
            "colorbar": {
             "outlinewidth": 0,
             "ticks": ""
            },
            "colorscale": [
             [
              0,
              "#0d0887"
             ],
             [
              0.1111111111111111,
              "#46039f"
             ],
             [
              0.2222222222222222,
              "#7201a8"
             ],
             [
              0.3333333333333333,
              "#9c179e"
             ],
             [
              0.4444444444444444,
              "#bd3786"
             ],
             [
              0.5555555555555556,
              "#d8576b"
             ],
             [
              0.6666666666666666,
              "#ed7953"
             ],
             [
              0.7777777777777778,
              "#fb9f3a"
             ],
             [
              0.8888888888888888,
              "#fdca26"
             ],
             [
              1,
              "#f0f921"
             ]
            ],
            "type": "heatmapgl"
           }
          ],
          "histogram": [
           {
            "marker": {
             "pattern": {
              "fillmode": "overlay",
              "size": 10,
              "solidity": 0.2
             }
            },
            "type": "histogram"
           }
          ],
          "histogram2d": [
           {
            "colorbar": {
             "outlinewidth": 0,
             "ticks": ""
            },
            "colorscale": [
             [
              0,
              "#0d0887"
             ],
             [
              0.1111111111111111,
              "#46039f"
             ],
             [
              0.2222222222222222,
              "#7201a8"
             ],
             [
              0.3333333333333333,
              "#9c179e"
             ],
             [
              0.4444444444444444,
              "#bd3786"
             ],
             [
              0.5555555555555556,
              "#d8576b"
             ],
             [
              0.6666666666666666,
              "#ed7953"
             ],
             [
              0.7777777777777778,
              "#fb9f3a"
             ],
             [
              0.8888888888888888,
              "#fdca26"
             ],
             [
              1,
              "#f0f921"
             ]
            ],
            "type": "histogram2d"
           }
          ],
          "histogram2dcontour": [
           {
            "colorbar": {
             "outlinewidth": 0,
             "ticks": ""
            },
            "colorscale": [
             [
              0,
              "#0d0887"
             ],
             [
              0.1111111111111111,
              "#46039f"
             ],
             [
              0.2222222222222222,
              "#7201a8"
             ],
             [
              0.3333333333333333,
              "#9c179e"
             ],
             [
              0.4444444444444444,
              "#bd3786"
             ],
             [
              0.5555555555555556,
              "#d8576b"
             ],
             [
              0.6666666666666666,
              "#ed7953"
             ],
             [
              0.7777777777777778,
              "#fb9f3a"
             ],
             [
              0.8888888888888888,
              "#fdca26"
             ],
             [
              1,
              "#f0f921"
             ]
            ],
            "type": "histogram2dcontour"
           }
          ],
          "mesh3d": [
           {
            "colorbar": {
             "outlinewidth": 0,
             "ticks": ""
            },
            "type": "mesh3d"
           }
          ],
          "parcoords": [
           {
            "line": {
             "colorbar": {
              "outlinewidth": 0,
              "ticks": ""
             }
            },
            "type": "parcoords"
           }
          ],
          "pie": [
           {
            "automargin": true,
            "type": "pie"
           }
          ],
          "scatter": [
           {
            "fillpattern": {
             "fillmode": "overlay",
             "size": 10,
             "solidity": 0.2
            },
            "type": "scatter"
           }
          ],
          "scatter3d": [
           {
            "line": {
             "colorbar": {
              "outlinewidth": 0,
              "ticks": ""
             }
            },
            "marker": {
             "colorbar": {
              "outlinewidth": 0,
              "ticks": ""
             }
            },
            "type": "scatter3d"
           }
          ],
          "scattercarpet": [
           {
            "marker": {
             "colorbar": {
              "outlinewidth": 0,
              "ticks": ""
             }
            },
            "type": "scattercarpet"
           }
          ],
          "scattergeo": [
           {
            "marker": {
             "colorbar": {
              "outlinewidth": 0,
              "ticks": ""
             }
            },
            "type": "scattergeo"
           }
          ],
          "scattergl": [
           {
            "marker": {
             "colorbar": {
              "outlinewidth": 0,
              "ticks": ""
             }
            },
            "type": "scattergl"
           }
          ],
          "scattermapbox": [
           {
            "marker": {
             "colorbar": {
              "outlinewidth": 0,
              "ticks": ""
             }
            },
            "type": "scattermapbox"
           }
          ],
          "scatterpolar": [
           {
            "marker": {
             "colorbar": {
              "outlinewidth": 0,
              "ticks": ""
             }
            },
            "type": "scatterpolar"
           }
          ],
          "scatterpolargl": [
           {
            "marker": {
             "colorbar": {
              "outlinewidth": 0,
              "ticks": ""
             }
            },
            "type": "scatterpolargl"
           }
          ],
          "scatterternary": [
           {
            "marker": {
             "colorbar": {
              "outlinewidth": 0,
              "ticks": ""
             }
            },
            "type": "scatterternary"
           }
          ],
          "surface": [
           {
            "colorbar": {
             "outlinewidth": 0,
             "ticks": ""
            },
            "colorscale": [
             [
              0,
              "#0d0887"
             ],
             [
              0.1111111111111111,
              "#46039f"
             ],
             [
              0.2222222222222222,
              "#7201a8"
             ],
             [
              0.3333333333333333,
              "#9c179e"
             ],
             [
              0.4444444444444444,
              "#bd3786"
             ],
             [
              0.5555555555555556,
              "#d8576b"
             ],
             [
              0.6666666666666666,
              "#ed7953"
             ],
             [
              0.7777777777777778,
              "#fb9f3a"
             ],
             [
              0.8888888888888888,
              "#fdca26"
             ],
             [
              1,
              "#f0f921"
             ]
            ],
            "type": "surface"
           }
          ],
          "table": [
           {
            "cells": {
             "fill": {
              "color": "#EBF0F8"
             },
             "line": {
              "color": "white"
             }
            },
            "header": {
             "fill": {
              "color": "#C8D4E3"
             },
             "line": {
              "color": "white"
             }
            },
            "type": "table"
           }
          ]
         },
         "layout": {
          "annotationdefaults": {
           "arrowcolor": "#2a3f5f",
           "arrowhead": 0,
           "arrowwidth": 1
          },
          "autotypenumbers": "strict",
          "coloraxis": {
           "colorbar": {
            "outlinewidth": 0,
            "ticks": ""
           }
          },
          "colorscale": {
           "diverging": [
            [
             0,
             "#8e0152"
            ],
            [
             0.1,
             "#c51b7d"
            ],
            [
             0.2,
             "#de77ae"
            ],
            [
             0.3,
             "#f1b6da"
            ],
            [
             0.4,
             "#fde0ef"
            ],
            [
             0.5,
             "#f7f7f7"
            ],
            [
             0.6,
             "#e6f5d0"
            ],
            [
             0.7,
             "#b8e186"
            ],
            [
             0.8,
             "#7fbc41"
            ],
            [
             0.9,
             "#4d9221"
            ],
            [
             1,
             "#276419"
            ]
           ],
           "sequential": [
            [
             0,
             "#0d0887"
            ],
            [
             0.1111111111111111,
             "#46039f"
            ],
            [
             0.2222222222222222,
             "#7201a8"
            ],
            [
             0.3333333333333333,
             "#9c179e"
            ],
            [
             0.4444444444444444,
             "#bd3786"
            ],
            [
             0.5555555555555556,
             "#d8576b"
            ],
            [
             0.6666666666666666,
             "#ed7953"
            ],
            [
             0.7777777777777778,
             "#fb9f3a"
            ],
            [
             0.8888888888888888,
             "#fdca26"
            ],
            [
             1,
             "#f0f921"
            ]
           ],
           "sequentialminus": [
            [
             0,
             "#0d0887"
            ],
            [
             0.1111111111111111,
             "#46039f"
            ],
            [
             0.2222222222222222,
             "#7201a8"
            ],
            [
             0.3333333333333333,
             "#9c179e"
            ],
            [
             0.4444444444444444,
             "#bd3786"
            ],
            [
             0.5555555555555556,
             "#d8576b"
            ],
            [
             0.6666666666666666,
             "#ed7953"
            ],
            [
             0.7777777777777778,
             "#fb9f3a"
            ],
            [
             0.8888888888888888,
             "#fdca26"
            ],
            [
             1,
             "#f0f921"
            ]
           ]
          },
          "colorway": [
           "#636efa",
           "#EF553B",
           "#00cc96",
           "#ab63fa",
           "#FFA15A",
           "#19d3f3",
           "#FF6692",
           "#B6E880",
           "#FF97FF",
           "#FECB52"
          ],
          "font": {
           "color": "#2a3f5f"
          },
          "geo": {
           "bgcolor": "white",
           "lakecolor": "white",
           "landcolor": "#E5ECF6",
           "showlakes": true,
           "showland": true,
           "subunitcolor": "white"
          },
          "hoverlabel": {
           "align": "left"
          },
          "hovermode": "closest",
          "mapbox": {
           "style": "light"
          },
          "paper_bgcolor": "white",
          "plot_bgcolor": "#E5ECF6",
          "polar": {
           "angularaxis": {
            "gridcolor": "white",
            "linecolor": "white",
            "ticks": ""
           },
           "bgcolor": "#E5ECF6",
           "radialaxis": {
            "gridcolor": "white",
            "linecolor": "white",
            "ticks": ""
           }
          },
          "scene": {
           "xaxis": {
            "backgroundcolor": "#E5ECF6",
            "gridcolor": "white",
            "gridwidth": 2,
            "linecolor": "white",
            "showbackground": true,
            "ticks": "",
            "zerolinecolor": "white"
           },
           "yaxis": {
            "backgroundcolor": "#E5ECF6",
            "gridcolor": "white",
            "gridwidth": 2,
            "linecolor": "white",
            "showbackground": true,
            "ticks": "",
            "zerolinecolor": "white"
           },
           "zaxis": {
            "backgroundcolor": "#E5ECF6",
            "gridcolor": "white",
            "gridwidth": 2,
            "linecolor": "white",
            "showbackground": true,
            "ticks": "",
            "zerolinecolor": "white"
           }
          },
          "shapedefaults": {
           "line": {
            "color": "#2a3f5f"
           }
          },
          "ternary": {
           "aaxis": {
            "gridcolor": "white",
            "linecolor": "white",
            "ticks": ""
           },
           "baxis": {
            "gridcolor": "white",
            "linecolor": "white",
            "ticks": ""
           },
           "bgcolor": "#E5ECF6",
           "caxis": {
            "gridcolor": "white",
            "linecolor": "white",
            "ticks": ""
           }
          },
          "title": {
           "x": 0.05
          },
          "xaxis": {
           "automargin": true,
           "gridcolor": "white",
           "linecolor": "white",
           "ticks": "",
           "title": {
            "standoff": 15
           },
           "zerolinecolor": "white",
           "zerolinewidth": 2
          },
          "yaxis": {
           "automargin": true,
           "gridcolor": "white",
           "linecolor": "white",
           "ticks": "",
           "title": {
            "standoff": 15
           },
           "zerolinecolor": "white",
           "zerolinewidth": 2
          }
         }
        },
        "title": {
         "text": "Distribution of Sentiment Labels"
        },
        "xaxis": {
         "anchor": "y",
         "domain": [
          0,
          1
         ],
         "title": {
          "text": "Number of Songs"
         }
        },
        "yaxis": {
         "anchor": "x",
         "domain": [
          0,
          1
         ],
         "title": {
          "text": "Sentiment Label"
         }
        }
       }
      }
     },
     "metadata": {},
     "output_type": "display_data"
    }
   ],
   "source": [
    "#sentiment distribution\n",
    "import plotly.express as px\n",
    "import seaborn as sns\n",
    "import matplotlib.pyplot as plt\n",
    "\n",
    "#group by sentiment_label and count occurances\n",
    "sentiment_counts = song_sentiment['sentiment_label'].value_counts().reset_index()\n",
    "sentiment_counts.columns = ['sentiment_label', 'count']\n",
    "\n",
    "# Create a bar chart for sentiment labels\n",
    "fig = px.bar(\n",
    "    sentiment_counts, x='count', y='sentiment_label',\n",
    "    orientation='h',\n",
    "    title='Distribution of Sentiment Labels',\n",
    "    labels={'sentiment_label': 'Sentiment Label', 'count': 'Number of Songs'})\n",
    "\n",
    "fig.show()"
   ]
  },
  {
   "cell_type": "code",
   "execution_count": 11,
   "metadata": {},
   "outputs": [],
   "source": [
    "# #line chart for sentiment over time\n",
    "\n",
    "# #group data by year and sentiment label and count the number of songs for each sentiment\n",
    "# sentiment_over_time = song_sentiment.groupby(['year', 'sentiment_label']).size().reset_index(name='count')\n",
    "\n",
    "# fig = px.line(\n",
    "# sentiment_over_time, x='year', y='count', color='sentiment_label',\n",
    "# title='Sentiment Trends Over the Years',\n",
    "# labels={'year': 'Year', 'count': 'Number of Songs'})\n",
    "\n",
    "# fig.show()"
   ]
  },
  {
   "cell_type": "code",
   "execution_count": 12,
   "metadata": {},
   "outputs": [],
   "source": [
    "# # piechart for sentiment proprotion\n",
    "# fig = px.pie(\n",
    "#     song_sentiment, names='sentiment_label', title='Sentiment Label Proportions',\n",
    "#     labels={'sentiment_label': 'Sentiment Label'})\n",
    "\n",
    "# fig.show()"
   ]
  },
  {
   "cell_type": "code",
   "execution_count": 13,
   "metadata": {},
   "outputs": [],
   "source": [
    "# #scatter plot - Year vs. Sentiment Score\n",
    "# fig = px.scatter(\n",
    "#     song_sentiment, x='year', y='sentiment', title='Sentiment Scores over the Year',\n",
    "#     labels={'year': 'Year', 'sentiment': 'Sentiment Score'})\n",
    "\n",
    "# fig.update_layout(\n",
    "#     xaxis=dict(\n",
    "#         tickmode='linear',\n",
    "#         tick0=song_sentiment['year'].min(),\n",
    "#         dtick=1)\n",
    "# )\n",
    "\n",
    "# fig.show()"
   ]
  },
  {
   "cell_type": "code",
   "execution_count": 14,
   "metadata": {},
   "outputs": [
    {
     "data": {
      "image/png": "[encoded data removed]",
      "text/plain": [
       "<Figure size 1000x600 with 1 Axes>"
      ]
     },
     "metadata": {},
     "output_type": "display_data"
    }
   ],
   "source": [
    "#stacked chart\n",
    "\n",
    "#aggregate data by year and sentiment label\n",
    "aggregated_data = song_sentiment.groupby(['year', 'sentiment_label']).size().unstack(fill_value=0)\n",
    "\n",
    "ax = aggregated_data.plot(kind='bar', stacked=True, figsize=(10,6))\n",
    "\n",
    "plt.xlabel('Year')\n",
    "plt.ylabel('Count')\n",
    "plt.title('Sentiment Distribution by Year')\n",
    "plt.legend(title='Sentiment Label')\n",
    "\n",
    "plt.tight_layout()\n",
    "\n",
    "# fig.write_html(\"./static/charts/sentimentDistr.html\")\n",
    "\n",
    "plt.show()"
   ]
  },
  {
   "cell_type": "code",
   "execution_count": 15,
   "metadata": {},
   "outputs": [
    {
     "data": {
      "application/vnd.plotly.v1+json": {
       "config": {
        "plotlyServerURL": "https://plot.ly"
       },
       "data": [
        {
         "alignmentgroup": "True",
         "hovertemplate": "artist=%{x}<br>Average Sentiment Score=%{text}<extra></extra>",
         "legendgroup": "",
         "marker": {
          "color": "#636efa",
          "pattern": {
           "shape": ""
          }
         },
         "name": "",
         "offsetgroup": "",
         "orientation": "v",
         "showlegend": false,
         "text": [
          -0.9807,
          -0.9879,
          0.9905,
          -0.9628,
          0.9994,
          0.0028000000000000247,
          0.9986,
          0.9775,
          0.9985,
          0.9989,
          0.69272,
          0.4328,
          0.9929,
          0.725925,
          0.9995,
          -0.4373,
          0.9837,
          0.9823,
          -0.994,
          0.9992,
          0.9382,
          -0.9828,
          0.9987,
          0.9856,
          0.9936,
          -0.9991,
          0.996,
          -0.9873,
          0.9996,
          0.9961666666666668,
          0.9863,
          0.9447,
          -0.9992,
          0.9844,
          -0.9382,
          0.9844,
          0.8938,
          0.8959,
          -0.9971,
          0.9891,
          0.9329,
          0.9987666666666667,
          -0.297375,
          0.8487,
          0.9946,
          -0.9977,
          -0.9644,
          0.6775,
          -0.9999,
          0.493,
          0.9936,
          0.9879,
          -0.5032,
          0.9965,
          0.99245,
          0.9992,
          0.9969,
          -0.9992,
          -0.8922,
          -0.0010000000000000009,
          -0.996,
          0.9371,
          0.9752,
          -0.9902,
          0.9988,
          0.988,
          -0.0016000000000000458,
          0.9956,
          0.9975,
          0.9956,
          -0.9974,
          0.1635,
          0.9911,
          -0.9985,
          0.9876,
          0.9481,
          0.8812,
          0.5678888888888889,
          0.9785,
          0.6150666666666667,
          0.9897,
          0.9892,
          0.8752,
          -0.9424,
          0.9491,
          0.9918,
          0.9668,
          0.7615,
          0.9395,
          0.9907,
          -0.9743,
          -0.9948,
          0.9898,
          -0.9961,
          0.99725,
          -0.9582,
          -0.804,
          0.4848,
          0.998,
          0.9276,
          0.9467333333333333,
          -0.9809,
          -0.9767,
          -0.9962,
          -0.8703,
          -0.7756
         ],
         "textposition": "auto",
         "type": "bar",
         "x": [
          "21 Savage",
          "AJR",
          "ALYPH",
          "Adam Levine",
          "Adele",
          "Aina Abdul",
          "Alessia Cara",
          "Amir Jahari",
          "Andmesh",
          "Anne-Marie",
          "Ariana Grande",
          "Bebe Rexha",
          "Bee Gees",
          "Beyoncé",
          "Blue Ivy",
          "Cardi B",
          "Coi Leray",
          "Colbie Caillat",
          "Coldplay",
          "DOLLA",
          "Daniela Andrade",
          "Demi Lovato",
          "Destiny's Child",
          "Dewa 19",
          "Dido",
          "Drake",
          "Drax Project",
          "Dua Lipa",
          "Echosmith",
          "Ed Sheeran",
          "Ella",
          "Ellie Goulding",
          "Eminem",
          "Fifth Harmony",
          "Gary Jules",
          "George Ezra",
          "Ghea Indrawari",
          "Giveon",
          "GloRilla",
          "Gotye",
          "Guba",
          "Hailee Steinfeld",
          "Hozier",
          "JP Saxe",
          "James Arthur",
          "Jessica Mauboy",
          "Joe Flizzow",
          "John Lennon",
          "Jon Bellion",
          "Julia Michaels",
          "Justin Timberlake",
          "Kanye West",
          "Katy Perry",
          "Kesha",
          "Lady Gaga",
          "Lana Del Rey",
          "Lil Nas X",
          "Lily Allen",
          "Lukas Graham",
          "Luqman Podolski",
          "MAGIC!",
          "Macklemore",
          "Madonna",
          "Mahalini",
          "Mariah Carey",
          "Megan Thee Stallion",
          "Meghan Trainor",
          "Miley Cyrus",
          "NF",
          "Natalie Taylor",
          "Nicki Minaj",
          "Norah Jones",
          "Normani",
          "Olivia O'Brien",
          "OneRepublic",
          "Outkast",
          "Passenger",
          "Queen",
          "Rema",
          "Rihanna",
          "Rossa",
          "Ruth B.",
          "SZA",
          "Saixse",
          "Sam Smith",
          "Sarah",
          "Selena Gomez",
          "Shila Amzah",
          "Sia",
          "Sixpence None The Richer",
          "Stephen Sanchez",
          "Taylor Swift",
          "The Righteous Brothers",
          "The Script",
          "Tom Odell",
          "Tones And I",
          "Tove Lo",
          "Troye Sivan",
          "Twenty One Pilots",
          "W.A.R.I.S",
          "Yuna",
          "ZAYN",
          "Zedd",
          "Zynakal",
          "gnash",
          "mgk"
         ],
         "xaxis": "x",
         "y": [
          -0.9807,
          -0.9879,
          0.9905,
          -0.9628,
          0.9994,
          0.0028000000000000247,
          0.9986,
          0.9775,
          0.9985,
          0.9989,
          0.69272,
          0.4328,
          0.9929,
          0.725925,
          0.9995,
          -0.4373,
          0.9837,
          0.9823,
          -0.994,
          0.9992,
          0.9382,
          -0.9828,
          0.9987,
          0.9856,
          0.9936,
          -0.9991,
          0.996,
          -0.9873,
          0.9996,
          0.9961666666666668,
          0.9863,
          0.9447,
          -0.9992,
          0.9844,
          -0.9382,
          0.9844,
          0.8938,
          0.8959,
          -0.9971,
          0.9891,
          0.9329,
          0.9987666666666667,
          -0.297375,
          0.8487,
          0.9946,
          -0.9977,
          -0.9644,
          0.6775,
          -0.9999,
          0.493,
          0.9936,
          0.9879,
          -0.5032,
          0.9965,
          0.99245,
          0.9992,
          0.9969,
          -0.9992,
          -0.8922,
          -0.0010000000000000009,
          -0.996,
          0.9371,
          0.9752,
          -0.9902,
          0.9988,
          0.988,
          -0.0016000000000000458,
          0.9956,
          0.9975,
          0.9956,
          -0.9974,
          0.1635,
          0.9911,
          -0.9985,
          0.9876,
          0.9481,
          0.8812,
          0.5678888888888889,
          0.9785,
          0.6150666666666667,
          0.9897,
          0.9892,
          0.8752,
          -0.9424,
          0.9491,
          0.9918,
          0.9668,
          0.7615,
          0.9395,
          0.9907,
          -0.9743,
          -0.9948,
          0.9898,
          -0.9961,
          0.99725,
          -0.9582,
          -0.804,
          0.4848,
          0.998,
          0.9276,
          0.9467333333333333,
          -0.9809,
          -0.9767,
          -0.9962,
          -0.8703,
          -0.7756
         ],
         "yaxis": "y"
        }
       ],
       "layout": {
        "barmode": "relative",
        "height": 800,
        "legend": {
         "tracegroupgap": 0
        },
        "template": {
         "data": {
          "bar": [
           {
            "error_x": {
             "color": "#2a3f5f"
            },
            "error_y": {
             "color": "#2a3f5f"
            },
            "marker": {
             "line": {
              "color": "#E5ECF6",
              "width": 0.5
             },
             "pattern": {
              "fillmode": "overlay",
              "size": 10,
              "solidity": 0.2
             }
            },
            "type": "bar"
           }
          ],
          "barpolar": [
           {
            "marker": {
             "line": {
              "color": "#E5ECF6",
              "width": 0.5
             },
             "pattern": {
              "fillmode": "overlay",
              "size": 10,
              "solidity": 0.2
             }
            },
            "type": "barpolar"
           }
          ],
          "carpet": [
           {
            "aaxis": {
             "endlinecolor": "#2a3f5f",
             "gridcolor": "white",
             "linecolor": "white",
             "minorgridcolor": "white",
             "startlinecolor": "#2a3f5f"
            },
            "baxis": {
             "endlinecolor": "#2a3f5f",
             "gridcolor": "white",
             "linecolor": "white",
             "minorgridcolor": "white",
             "startlinecolor": "#2a3f5f"
            },
            "type": "carpet"
           }
          ],
          "choropleth": [
           {
            "colorbar": {
             "outlinewidth": 0,
             "ticks": ""
            },
            "type": "choropleth"
           }
          ],
          "contour": [
           {
            "colorbar": {
             "outlinewidth": 0,
             "ticks": ""
            },
            "colorscale": [
             [
              0,
              "#0d0887"
             ],
             [
              0.1111111111111111,
              "#46039f"
             ],
             [
              0.2222222222222222,
              "#7201a8"
             ],
             [
              0.3333333333333333,
              "#9c179e"
             ],
             [
              0.4444444444444444,
              "#bd3786"
             ],
             [
              0.5555555555555556,
              "#d8576b"
             ],
             [
              0.6666666666666666,
              "#ed7953"
             ],
             [
              0.7777777777777778,
              "#fb9f3a"
             ],
             [
              0.8888888888888888,
              "#fdca26"
             ],
             [
              1,
              "#f0f921"
             ]
            ],
            "type": "contour"
           }
          ],
          "contourcarpet": [
           {
            "colorbar": {
             "outlinewidth": 0,
             "ticks": ""
            },
            "type": "contourcarpet"
           }
          ],
          "heatmap": [
           {
            "colorbar": {
             "outlinewidth": 0,
             "ticks": ""
            },
            "colorscale": [
             [
              0,
              "#0d0887"
             ],
             [
              0.1111111111111111,
              "#46039f"
             ],
             [
              0.2222222222222222,
              "#7201a8"
             ],
             [
              0.3333333333333333,
              "#9c179e"
             ],
             [
              0.4444444444444444,
              "#bd3786"
             ],
             [
              0.5555555555555556,
              "#d8576b"
             ],
             [
              0.6666666666666666,
              "#ed7953"
             ],
             [
              0.7777777777777778,
              "#fb9f3a"
             ],
             [
              0.8888888888888888,
              "#fdca26"
             ],
             [
              1,
              "#f0f921"
             ]
            ],
            "type": "heatmap"
           }
          ],
          "heatmapgl": [
           {
            "colorbar": {
             "outlinewidth": 0,
             "ticks": ""
            },
            "colorscale": [
             [
              0,
              "#0d0887"
             ],
             [
              0.1111111111111111,
              "#46039f"
             ],
             [
              0.2222222222222222,
              "#7201a8"
             ],
             [
              0.3333333333333333,
              "#9c179e"
             ],
             [
              0.4444444444444444,
              "#bd3786"
             ],
             [
              0.5555555555555556,
              "#d8576b"
             ],
             [
              0.6666666666666666,
              "#ed7953"
             ],
             [
              0.7777777777777778,
              "#fb9f3a"
             ],
             [
              0.8888888888888888,
              "#fdca26"
             ],
             [
              1,
              "#f0f921"
             ]
            ],
            "type": "heatmapgl"
           }
          ],
          "histogram": [
           {
            "marker": {
             "pattern": {
              "fillmode": "overlay",
              "size": 10,
              "solidity": 0.2
             }
            },
            "type": "histogram"
           }
          ],
          "histogram2d": [
           {
            "colorbar": {
             "outlinewidth": 0,
             "ticks": ""
            },
            "colorscale": [
             [
              0,
              "#0d0887"
             ],
             [
              0.1111111111111111,
              "#46039f"
             ],
             [
              0.2222222222222222,
              "#7201a8"
             ],
             [
              0.3333333333333333,
              "#9c179e"
             ],
             [
              0.4444444444444444,
              "#bd3786"
             ],
             [
              0.5555555555555556,
              "#d8576b"
             ],
             [
              0.6666666666666666,
              "#ed7953"
             ],
             [
              0.7777777777777778,
              "#fb9f3a"
             ],
             [
              0.8888888888888888,
              "#fdca26"
             ],
             [
              1,
              "#f0f921"
             ]
            ],
            "type": "histogram2d"
           }
          ],
          "histogram2dcontour": [
           {
            "colorbar": {
             "outlinewidth": 0,
             "ticks": ""
            },
            "colorscale": [
             [
              0,
              "#0d0887"
             ],
             [
              0.1111111111111111,
              "#46039f"
             ],
             [
              0.2222222222222222,
              "#7201a8"
             ],
             [
              0.3333333333333333,
              "#9c179e"
             ],
             [
              0.4444444444444444,
              "#bd3786"
             ],
             [
              0.5555555555555556,
              "#d8576b"
             ],
             [
              0.6666666666666666,
              "#ed7953"
             ],
             [
              0.7777777777777778,
              "#fb9f3a"
             ],
             [
              0.8888888888888888,
              "#fdca26"
             ],
             [
              1,
              "#f0f921"
             ]
            ],
            "type": "histogram2dcontour"
           }
          ],
          "mesh3d": [
           {
            "colorbar": {
             "outlinewidth": 0,
             "ticks": ""
            },
            "type": "mesh3d"
           }
          ],
          "parcoords": [
           {
            "line": {
             "colorbar": {
              "outlinewidth": 0,
              "ticks": ""
             }
            },
            "type": "parcoords"
           }
          ],
          "pie": [
           {
            "automargin": true,
            "type": "pie"
           }
          ],
          "scatter": [
           {
            "fillpattern": {
             "fillmode": "overlay",
             "size": 10,
             "solidity": 0.2
            },
            "type": "scatter"
           }
          ],
          "scatter3d": [
           {
            "line": {
             "colorbar": {
              "outlinewidth": 0,
              "ticks": ""
             }
            },
            "marker": {
             "colorbar": {
              "outlinewidth": 0,
              "ticks": ""
             }
            },
            "type": "scatter3d"
           }
          ],
          "scattercarpet": [
           {
            "marker": {
             "colorbar": {
              "outlinewidth": 0,
              "ticks": ""
             }
            },
            "type": "scattercarpet"
           }
          ],
          "scattergeo": [
           {
            "marker": {
             "colorbar": {
              "outlinewidth": 0,
              "ticks": ""
             }
            },
            "type": "scattergeo"
           }
          ],
          "scattergl": [
           {
            "marker": {
             "colorbar": {
              "outlinewidth": 0,
              "ticks": ""
             }
            },
            "type": "scattergl"
           }
          ],
          "scattermapbox": [
           {
            "marker": {
             "colorbar": {
              "outlinewidth": 0,
              "ticks": ""
             }
            },
            "type": "scattermapbox"
           }
          ],
          "scatterpolar": [
           {
            "marker": {
             "colorbar": {
              "outlinewidth": 0,
              "ticks": ""
             }
            },
            "type": "scatterpolar"
           }
          ],
          "scatterpolargl": [
           {
            "marker": {
             "colorbar": {
              "outlinewidth": 0,
              "ticks": ""
             }
            },
            "type": "scatterpolargl"
           }
          ],
          "scatterternary": [
           {
            "marker": {
             "colorbar": {
              "outlinewidth": 0,
              "ticks": ""
             }
            },
            "type": "scatterternary"
           }
          ],
          "surface": [
           {
            "colorbar": {
             "outlinewidth": 0,
             "ticks": ""
            },
            "colorscale": [
             [
              0,
              "#0d0887"
             ],
             [
              0.1111111111111111,
              "#46039f"
             ],
             [
              0.2222222222222222,
              "#7201a8"
             ],
             [
              0.3333333333333333,
              "#9c179e"
             ],
             [
              0.4444444444444444,
              "#bd3786"
             ],
             [
              0.5555555555555556,
              "#d8576b"
             ],
             [
              0.6666666666666666,
              "#ed7953"
             ],
             [
              0.7777777777777778,
              "#fb9f3a"
             ],
             [
              0.8888888888888888,
              "#fdca26"
             ],
             [
              1,
              "#f0f921"
             ]
            ],
            "type": "surface"
           }
          ],
          "table": [
           {
            "cells": {
             "fill": {
              "color": "#EBF0F8"
             },
             "line": {
              "color": "white"
             }
            },
            "header": {
             "fill": {
              "color": "#C8D4E3"
             },
             "line": {
              "color": "white"
             }
            },
            "type": "table"
           }
          ]
         },
         "layout": {
          "annotationdefaults": {
           "arrowcolor": "#2a3f5f",
           "arrowhead": 0,
           "arrowwidth": 1
          },
          "autotypenumbers": "strict",
          "coloraxis": {
           "colorbar": {
            "outlinewidth": 0,
            "ticks": ""
           }
          },
          "colorscale": {
           "diverging": [
            [
             0,
             "#8e0152"
            ],
            [
             0.1,
             "#c51b7d"
            ],
            [
             0.2,
             "#de77ae"
            ],
            [
             0.3,
             "#f1b6da"
            ],
            [
             0.4,
             "#fde0ef"
            ],
            [
             0.5,
             "#f7f7f7"
            ],
            [
             0.6,
             "#e6f5d0"
            ],
            [
             0.7,
             "#b8e186"
            ],
            [
             0.8,
             "#7fbc41"
            ],
            [
             0.9,
             "#4d9221"
            ],
            [
             1,
             "#276419"
            ]
           ],
           "sequential": [
            [
             0,
             "#0d0887"
            ],
            [
             0.1111111111111111,
             "#46039f"
            ],
            [
             0.2222222222222222,
             "#7201a8"
            ],
            [
             0.3333333333333333,
             "#9c179e"
            ],
            [
             0.4444444444444444,
             "#bd3786"
            ],
            [
             0.5555555555555556,
             "#d8576b"
            ],
            [
             0.6666666666666666,
             "#ed7953"
            ],
            [
             0.7777777777777778,
             "#fb9f3a"
            ],
            [
             0.8888888888888888,
             "#fdca26"
            ],
            [
             1,
             "#f0f921"
            ]
           ],
           "sequentialminus": [
            [
             0,
             "#0d0887"
            ],
            [
             0.1111111111111111,
             "#46039f"
            ],
            [
             0.2222222222222222,
             "#7201a8"
            ],
            [
             0.3333333333333333,
             "#9c179e"
            ],
            [
             0.4444444444444444,
             "#bd3786"
            ],
            [
             0.5555555555555556,
             "#d8576b"
            ],
            [
             0.6666666666666666,
             "#ed7953"
            ],
            [
             0.7777777777777778,
             "#fb9f3a"
            ],
            [
             0.8888888888888888,
             "#fdca26"
            ],
            [
             1,
             "#f0f921"
            ]
           ]
          },
          "colorway": [
           "#636efa",
           "#EF553B",
           "#00cc96",
           "#ab63fa",
           "#FFA15A",
           "#19d3f3",
           "#FF6692",
           "#B6E880",
           "#FF97FF",
           "#FECB52"
          ],
          "font": {
           "color": "#2a3f5f"
          },
          "geo": {
           "bgcolor": "white",
           "lakecolor": "white",
           "landcolor": "#E5ECF6",
           "showlakes": true,
           "showland": true,
           "subunitcolor": "white"
          },
          "hoverlabel": {
           "align": "left"
          },
          "hovermode": "closest",
          "mapbox": {
           "style": "light"
          },
          "paper_bgcolor": "white",
          "plot_bgcolor": "#E5ECF6",
          "polar": {
           "angularaxis": {
            "gridcolor": "white",
            "linecolor": "white",
            "ticks": ""
           },
           "bgcolor": "#E5ECF6",
           "radialaxis": {
            "gridcolor": "white",
            "linecolor": "white",
            "ticks": ""
           }
          },
          "scene": {
           "xaxis": {
            "backgroundcolor": "#E5ECF6",
            "gridcolor": "white",
            "gridwidth": 2,
            "linecolor": "white",
            "showbackground": true,
            "ticks": "",
            "zerolinecolor": "white"
           },
           "yaxis": {
            "backgroundcolor": "#E5ECF6",
            "gridcolor": "white",
            "gridwidth": 2,
            "linecolor": "white",
            "showbackground": true,
            "ticks": "",
            "zerolinecolor": "white"
           },
           "zaxis": {
            "backgroundcolor": "#E5ECF6",
            "gridcolor": "white",
            "gridwidth": 2,
            "linecolor": "white",
            "showbackground": true,
            "ticks": "",
            "zerolinecolor": "white"
           }
          },
          "shapedefaults": {
           "line": {
            "color": "#2a3f5f"
           }
          },
          "ternary": {
           "aaxis": {
            "gridcolor": "white",
            "linecolor": "white",
            "ticks": ""
           },
           "baxis": {
            "gridcolor": "white",
            "linecolor": "white",
            "ticks": ""
           },
           "bgcolor": "#E5ECF6",
           "caxis": {
            "gridcolor": "white",
            "linecolor": "white",
            "ticks": ""
           }
          },
          "title": {
           "x": 0.05
          },
          "xaxis": {
           "automargin": true,
           "gridcolor": "white",
           "linecolor": "white",
           "ticks": "",
           "title": {
            "standoff": 15
           },
           "zerolinecolor": "white",
           "zerolinewidth": 2
          },
          "yaxis": {
           "automargin": true,
           "gridcolor": "white",
           "linecolor": "white",
           "ticks": "",
           "title": {
            "standoff": 15
           },
           "zerolinecolor": "white",
           "zerolinewidth": 2
          }
         }
        },
        "title": {
         "text": "Average Sentiment Scores by Artist"
        },
        "width": 1500,
        "xaxis": {
         "anchor": "y",
         "domain": [
          0,
          1
         ],
         "title": {
          "text": "Artist"
         }
        },
        "yaxis": {
         "anchor": "x",
         "domain": [
          0,
          1
         ],
         "title": {
          "text": "Average Sentiment Score"
         }
        }
       }
      }
     },
     "metadata": {},
     "output_type": "display_data"
    }
   ],
   "source": [
    "#Top Artist by Sentiment\n",
    "artist_sentiment=song_sentiment.groupby('artist')['sentiment'].mean().reset_index()\n",
    "\n",
    "fig = px.bar(\n",
    "    artist_sentiment, x='artist', y='sentiment',\n",
    "    title='Average Sentiment Scores by Artist',\n",
    "    labels={'sentiment': 'Average Sentiment Score'},\n",
    "    text='sentiment')\n",
    "\n",
    "fig.update_layout(\n",
    "    xaxis_title='Artist', yaxis_title='Average Sentiment Score',\n",
    "    width=1500, height=800)\n",
    "\n",
    "fig.show()"
   ]
  },
  {
   "cell_type": "code",
   "execution_count": 16,
   "metadata": {},
   "outputs": [
    {
     "data": {
      "application/vnd.plotly.v1+json": {
       "config": {
        "plotlyServerURL": "https://plot.ly"
       },
       "data": [
        {
         "hovertemplate": "<b>%{hovertext}</b><br><br>artist=Colbie Caillat<br>year=%{x}<br>Average Sentiment Score=%{y}<br>Number of Songs=%{marker.size}<extra></extra>",
         "hovertext": [
          "Colbie Caillat",
          "Colbie Caillat"
         ],
         "legendgroup": "Colbie Caillat",
         "marker": {
          "color": "#636efa",
          "size": [
           1,
           1
          ],
          "sizemode": "area",
          "sizeref": 0.02,
          "symbol": "circle"
         },
         "mode": "markers",
         "name": "Colbie Caillat",
         "orientation": "v",
         "showlegend": true,
         "type": "scatter",
         "x": [
          2014,
          2017
         ],
         "xaxis": "x",
         "y": [
          0.9823,
          0.9823
         ],
         "yaxis": "y"
        },
        {
         "hovertemplate": "<b>%{hovertext}</b><br><br>artist=Echosmith<br>year=%{x}<br>Average Sentiment Score=%{y}<br>Number of Songs=%{marker.size}<extra></extra>",
         "hovertext": [
          "Echosmith"
         ],
         "legendgroup": "Echosmith",
         "marker": {
          "color": "#EF553B",
          "size": [
           1
          ],
          "sizemode": "area",
          "sizeref": 0.02,
          "symbol": "circle"
         },
         "mode": "markers",
         "name": "Echosmith",
         "orientation": "v",
         "showlegend": true,
         "type": "scatter",
         "x": [
          2014
         ],
         "xaxis": "x",
         "y": [
          0.9996
         ],
         "yaxis": "y"
        },
        {
         "hovertemplate": "<b>%{hovertext}</b><br><br>artist=Ed Sheeran<br>year=%{x}<br>Average Sentiment Score=%{y}<br>Number of Songs=%{marker.size}<extra></extra>",
         "hovertext": [
          "Ed Sheeran",
          "Ed Sheeran",
          "Ed Sheeran"
         ],
         "legendgroup": "Ed Sheeran",
         "marker": {
          "color": "#00cc96",
          "size": [
           1,
           1,
           1
          ],
          "sizemode": "area",
          "sizeref": 0.02,
          "symbol": "circle"
         },
         "mode": "markers",
         "name": "Ed Sheeran",
         "orientation": "v",
         "showlegend": true,
         "type": "scatter",
         "x": [
          2014,
          2017,
          2021
         ],
         "xaxis": "x",
         "y": [
          0.9967,
          0.9995,
          0.9923
         ],
         "yaxis": "y"
        },
        {
         "hovertemplate": "<b>%{hovertext}</b><br><br>artist=Ellie Goulding<br>year=%{x}<br>Average Sentiment Score=%{y}<br>Number of Songs=%{marker.size}<extra></extra>",
         "hovertext": [
          "Ellie Goulding"
         ],
         "legendgroup": "Ellie Goulding",
         "marker": {
          "color": "#ab63fa",
          "size": [
           1
          ],
          "sizemode": "area",
          "sizeref": 0.02,
          "symbol": "circle"
         },
         "mode": "markers",
         "name": "Ellie Goulding",
         "orientation": "v",
         "showlegend": true,
         "type": "scatter",
         "x": [
          2014
         ],
         "xaxis": "x",
         "y": [
          0.9447
         ],
         "yaxis": "y"
        },
        {
         "hovertemplate": "<b>%{hovertext}</b><br><br>artist=Guba<br>year=%{x}<br>Average Sentiment Score=%{y}<br>Number of Songs=%{marker.size}<extra></extra>",
         "hovertext": [
          "Guba"
         ],
         "legendgroup": "Guba",
         "marker": {
          "color": "#FFA15A",
          "size": [
           1
          ],
          "sizemode": "area",
          "sizeref": 0.02,
          "symbol": "circle"
         },
         "mode": "markers",
         "name": "Guba",
         "orientation": "v",
         "showlegend": true,
         "type": "scatter",
         "x": [
          2014
         ],
         "xaxis": "x",
         "y": [
          0.9329
         ],
         "yaxis": "y"
        },
        {
         "hovertemplate": "<b>%{hovertext}</b><br><br>artist=Justin Timberlake<br>year=%{x}<br>Average Sentiment Score=%{y}<br>Number of Songs=%{marker.size}<extra></extra>",
         "hovertext": [
          "Justin Timberlake"
         ],
         "legendgroup": "Justin Timberlake",
         "marker": {
          "color": "#19d3f3",
          "size": [
           1
          ],
          "sizemode": "area",
          "sizeref": 0.02,
          "symbol": "circle"
         },
         "mode": "markers",
         "name": "Justin Timberlake",
         "orientation": "v",
         "showlegend": true,
         "type": "scatter",
         "x": [
          2014
         ],
         "xaxis": "x",
         "y": [
          0.9936
         ],
         "yaxis": "y"
        },
        {
         "hovertemplate": "<b>%{hovertext}</b><br><br>artist=Lana Del Rey<br>year=%{x}<br>Average Sentiment Score=%{y}<br>Number of Songs=%{marker.size}<extra></extra>",
         "hovertext": [
          "Lana Del Rey"
         ],
         "legendgroup": "Lana Del Rey",
         "marker": {
          "color": "#FF6692",
          "size": [
           1
          ],
          "sizemode": "area",
          "sizeref": 0.02,
          "symbol": "circle"
         },
         "mode": "markers",
         "name": "Lana Del Rey",
         "orientation": "v",
         "showlegend": true,
         "type": "scatter",
         "x": [
          2014
         ],
         "xaxis": "x",
         "y": [
          0.9992
         ],
         "yaxis": "y"
        },
        {
         "hovertemplate": "<b>%{hovertext}</b><br><br>artist=MAGIC!<br>year=%{x}<br>Average Sentiment Score=%{y}<br>Number of Songs=%{marker.size}<extra></extra>",
         "hovertext": [
          "MAGIC!"
         ],
         "legendgroup": "MAGIC!",
         "marker": {
          "color": "#B6E880",
          "size": [
           1
          ],
          "sizemode": "area",
          "sizeref": 0.02,
          "symbol": "circle"
         },
         "mode": "markers",
         "name": "MAGIC!",
         "orientation": "v",
         "showlegend": true,
         "type": "scatter",
         "x": [
          2014
         ],
         "xaxis": "x",
         "y": [
          -0.996
         ],
         "yaxis": "y"
        },
        {
         "hovertemplate": "<b>%{hovertext}</b><br><br>artist=Norah Jones<br>year=%{x}<br>Average Sentiment Score=%{y}<br>Number of Songs=%{marker.size}<extra></extra>",
         "hovertext": [
          "Norah Jones",
          "Norah Jones"
         ],
         "legendgroup": "Norah Jones",
         "marker": {
          "color": "#FF97FF",
          "size": [
           1,
           1
          ],
          "sizemode": "area",
          "sizeref": 0.02,
          "symbol": "circle"
         },
         "mode": "markers",
         "name": "Norah Jones",
         "orientation": "v",
         "showlegend": true,
         "type": "scatter",
         "x": [
          2014,
          2017
         ],
         "xaxis": "x",
         "y": [
          0.1635,
          0.1635
         ],
         "yaxis": "y"
        },
        {
         "hovertemplate": "<b>%{hovertext}</b><br><br>artist=Passenger<br>year=%{x}<br>Average Sentiment Score=%{y}<br>Number of Songs=%{marker.size}<extra></extra>",
         "hovertext": [
          "Passenger"
         ],
         "legendgroup": "Passenger",
         "marker": {
          "color": "#FECB52",
          "size": [
           1
          ],
          "sizemode": "area",
          "sizeref": 0.02,
          "symbol": "circle"
         },
         "mode": "markers",
         "name": "Passenger",
         "orientation": "v",
         "showlegend": true,
         "type": "scatter",
         "x": [
          2014
         ],
         "xaxis": "x",
         "y": [
          0.8812
         ],
         "yaxis": "y"
        },
        {
         "hovertemplate": "<b>%{hovertext}</b><br><br>artist=Sia<br>year=%{x}<br>Average Sentiment Score=%{y}<br>Number of Songs=%{marker.size}<extra></extra>",
         "hovertext": [
          "Sia"
         ],
         "legendgroup": "Sia",
         "marker": {
          "color": "#636efa",
          "size": [
           1
          ],
          "sizemode": "area",
          "sizeref": 0.02,
          "symbol": "circle"
         },
         "mode": "markers",
         "name": "Sia",
         "orientation": "v",
         "showlegend": true,
         "type": "scatter",
         "x": [
          2014
         ],
         "xaxis": "x",
         "y": [
          0.9395
         ],
         "yaxis": "y"
        },
        {
         "hovertemplate": "<b>%{hovertext}</b><br><br>artist=The Script<br>year=%{x}<br>Average Sentiment Score=%{y}<br>Number of Songs=%{marker.size}<extra></extra>",
         "hovertext": [
          "The Script"
         ],
         "legendgroup": "The Script",
         "marker": {
          "color": "#EF553B",
          "size": [
           1
          ],
          "sizemode": "area",
          "sizeref": 0.02,
          "symbol": "circle"
         },
         "mode": "markers",
         "name": "The Script",
         "orientation": "v",
         "showlegend": true,
         "type": "scatter",
         "x": [
          2014
         ],
         "xaxis": "x",
         "y": [
          -0.9961
         ],
         "yaxis": "y"
        },
        {
         "hovertemplate": "<b>%{hovertext}</b><br><br>artist=Tom Odell<br>year=%{x}<br>Average Sentiment Score=%{y}<br>Number of Songs=%{marker.size}<extra></extra>",
         "hovertext": [
          "Tom Odell",
          "Tom Odell"
         ],
         "legendgroup": "Tom Odell",
         "marker": {
          "color": "#00cc96",
          "size": [
           1,
           1
          ],
          "sizemode": "area",
          "sizeref": 0.02,
          "symbol": "circle"
         },
         "mode": "markers",
         "name": "Tom Odell",
         "orientation": "v",
         "showlegend": true,
         "type": "scatter",
         "x": [
          2014,
          2023
         ],
         "xaxis": "x",
         "y": [
          0.9959,
          0.9986
         ],
         "yaxis": "y"
        },
        {
         "hovertemplate": "<b>%{hovertext}</b><br><br>artist=Troye Sivan<br>year=%{x}<br>Average Sentiment Score=%{y}<br>Number of Songs=%{marker.size}<extra></extra>",
         "hovertext": [
          "Troye Sivan"
         ],
         "legendgroup": "Troye Sivan",
         "marker": {
          "color": "#ab63fa",
          "size": [
           1
          ],
          "sizemode": "area",
          "sizeref": 0.02,
          "symbol": "circle"
         },
         "mode": "markers",
         "name": "Troye Sivan",
         "orientation": "v",
         "showlegend": true,
         "type": "scatter",
         "x": [
          2014
         ],
         "xaxis": "x",
         "y": [
          0.4848
         ],
         "yaxis": "y"
        },
        {
         "hovertemplate": "<b>%{hovertext}</b><br><br>artist=Yuna<br>year=%{x}<br>Average Sentiment Score=%{y}<br>Number of Songs=%{marker.size}<extra></extra>",
         "hovertext": [
          "Yuna",
          "Yuna",
          "Yuna",
          "Yuna",
          "Yuna"
         ],
         "legendgroup": "Yuna",
         "marker": {
          "color": "#FFA15A",
          "size": [
           1,
           4,
           2,
           1,
           1
          ],
          "sizemode": "area",
          "sizeref": 0.02,
          "symbol": "circle"
         },
         "mode": "markers",
         "name": "Yuna",
         "orientation": "v",
         "showlegend": true,
         "type": "scatter",
         "x": [
          2014,
          2015,
          2016,
          2017,
          2019
         ],
         "xaxis": "x",
         "y": [
          0.7571,
          0.966,
          0.96385,
          0.9906,
          0.9812
         ],
         "yaxis": "y"
        },
        {
         "hovertemplate": "<b>%{hovertext}</b><br><br>artist=Adam Levine<br>year=%{x}<br>Average Sentiment Score=%{y}<br>Number of Songs=%{marker.size}<extra></extra>",
         "hovertext": [
          "Adam Levine",
          "Adam Levine"
         ],
         "legendgroup": "Adam Levine",
         "marker": {
          "color": "#19d3f3",
          "size": [
           1,
           1
          ],
          "sizemode": "area",
          "sizeref": 0.02,
          "symbol": "circle"
         },
         "mode": "markers",
         "name": "Adam Levine",
         "orientation": "v",
         "showlegend": true,
         "type": "scatter",
         "x": [
          2015,
          2016
         ],
         "xaxis": "x",
         "y": [
          -0.9628,
          -0.9628
         ],
         "yaxis": "y"
        },
        {
         "hovertemplate": "<b>%{hovertext}</b><br><br>artist=Bee Gees<br>year=%{x}<br>Average Sentiment Score=%{y}<br>Number of Songs=%{marker.size}<extra></extra>",
         "hovertext": [
          "Bee Gees",
          "Bee Gees"
         ],
         "legendgroup": "Bee Gees",
         "marker": {
          "color": "#FF6692",
          "size": [
           1,
           1
          ],
          "sizemode": "area",
          "sizeref": 0.02,
          "symbol": "circle"
         },
         "mode": "markers",
         "name": "Bee Gees",
         "orientation": "v",
         "showlegend": true,
         "type": "scatter",
         "x": [
          2015,
          2016
         ],
         "xaxis": "x",
         "y": [
          0.9929,
          0.9929
         ],
         "yaxis": "y"
        },
        {
         "hovertemplate": "<b>%{hovertext}</b><br><br>artist=Dido<br>year=%{x}<br>Average Sentiment Score=%{y}<br>Number of Songs=%{marker.size}<extra></extra>",
         "hovertext": [
          "Dido"
         ],
         "legendgroup": "Dido",
         "marker": {
          "color": "#B6E880",
          "size": [
           1
          ],
          "sizemode": "area",
          "sizeref": 0.02,
          "symbol": "circle"
         },
         "mode": "markers",
         "name": "Dido",
         "orientation": "v",
         "showlegend": true,
         "type": "scatter",
         "x": [
          2015
         ],
         "xaxis": "x",
         "y": [
          0.9936
         ],
         "yaxis": "y"
        },
        {
         "hovertemplate": "<b>%{hovertext}</b><br><br>artist=Eminem<br>year=%{x}<br>Average Sentiment Score=%{y}<br>Number of Songs=%{marker.size}<extra></extra>",
         "hovertext": [
          "Eminem",
          "Eminem",
          "Eminem"
         ],
         "legendgroup": "Eminem",
         "marker": {
          "color": "#FF97FF",
          "size": [
           1,
           1,
           1
          ],
          "sizemode": "area",
          "sizeref": 0.02,
          "symbol": "circle"
         },
         "mode": "markers",
         "name": "Eminem",
         "orientation": "v",
         "showlegend": true,
         "type": "scatter",
         "x": [
          2015,
          2019,
          2020
         ],
         "xaxis": "x",
         "y": [
          -0.9992,
          -0.9992,
          -0.9992
         ],
         "yaxis": "y"
        },
        {
         "hovertemplate": "<b>%{hovertext}</b><br><br>artist=Gary Jules<br>year=%{x}<br>Average Sentiment Score=%{y}<br>Number of Songs=%{marker.size}<extra></extra>",
         "hovertext": [
          "Gary Jules"
         ],
         "legendgroup": "Gary Jules",
         "marker": {
          "color": "#FECB52",
          "size": [
           1
          ],
          "sizemode": "area",
          "sizeref": 0.02,
          "symbol": "circle"
         },
         "mode": "markers",
         "name": "Gary Jules",
         "orientation": "v",
         "showlegend": true,
         "type": "scatter",
         "x": [
          2015
         ],
         "xaxis": "x",
         "y": [
          -0.9382
         ],
         "yaxis": "y"
        },
        {
         "hovertemplate": "<b>%{hovertext}</b><br><br>artist=Gotye<br>year=%{x}<br>Average Sentiment Score=%{y}<br>Number of Songs=%{marker.size}<extra></extra>",
         "hovertext": [
          "Gotye"
         ],
         "legendgroup": "Gotye",
         "marker": {
          "color": "#636efa",
          "size": [
           1
          ],
          "sizemode": "area",
          "sizeref": 0.02,
          "symbol": "circle"
         },
         "mode": "markers",
         "name": "Gotye",
         "orientation": "v",
         "showlegend": true,
         "type": "scatter",
         "x": [
          2015
         ],
         "xaxis": "x",
         "y": [
          0.9891
         ],
         "yaxis": "y"
        },
        {
         "hovertemplate": "<b>%{hovertext}</b><br><br>artist=Hozier<br>year=%{x}<br>Average Sentiment Score=%{y}<br>Number of Songs=%{marker.size}<extra></extra>",
         "hovertext": [
          "Hozier",
          "Hozier",
          "Hozier"
         ],
         "legendgroup": "Hozier",
         "marker": {
          "color": "#EF553B",
          "size": [
           1,
           1,
           2
          ],
          "sizemode": "area",
          "sizeref": 0.02,
          "symbol": "circle"
         },
         "mode": "markers",
         "name": "Hozier",
         "orientation": "v",
         "showlegend": true,
         "type": "scatter",
         "x": [
          2015,
          2019,
          2024
         ],
         "xaxis": "x",
         "y": [
          -0.7134,
          -0.7134,
          0.11865000000000003
         ],
         "yaxis": "y"
        },
        {
         "hovertemplate": "<b>%{hovertext}</b><br><br>artist=John Lennon<br>year=%{x}<br>Average Sentiment Score=%{y}<br>Number of Songs=%{marker.size}<extra></extra>",
         "hovertext": [
          "John Lennon"
         ],
         "legendgroup": "John Lennon",
         "marker": {
          "color": "#00cc96",
          "size": [
           1
          ],
          "sizemode": "area",
          "sizeref": 0.02,
          "symbol": "circle"
         },
         "mode": "markers",
         "name": "John Lennon",
         "orientation": "v",
         "showlegend": true,
         "type": "scatter",
         "x": [
          2015
         ],
         "xaxis": "x",
         "y": [
          0.6775
         ],
         "yaxis": "y"
        },
        {
         "hovertemplate": "<b>%{hovertext}</b><br><br>artist=Meghan Trainor<br>year=%{x}<br>Average Sentiment Score=%{y}<br>Number of Songs=%{marker.size}<extra></extra>",
         "hovertext": [
          "Meghan Trainor",
          "Meghan Trainor"
         ],
         "legendgroup": "Meghan Trainor",
         "marker": {
          "color": "#ab63fa",
          "size": [
           1,
           1
          ],
          "sizemode": "area",
          "sizeref": 0.02,
          "symbol": "circle"
         },
         "mode": "markers",
         "name": "Meghan Trainor",
         "orientation": "v",
         "showlegend": true,
         "type": "scatter",
         "x": [
          2015,
          2016
         ],
         "xaxis": "x",
         "y": [
          0.9963,
          -0.9995
         ],
         "yaxis": "y"
        },
        {
         "hovertemplate": "<b>%{hovertext}</b><br><br>artist=Sixpence None The Richer<br>year=%{x}<br>Average Sentiment Score=%{y}<br>Number of Songs=%{marker.size}<extra></extra>",
         "hovertext": [
          "Sixpence None The Richer"
         ],
         "legendgroup": "Sixpence None The Richer",
         "marker": {
          "color": "#FFA15A",
          "size": [
           1
          ],
          "sizemode": "area",
          "sizeref": 0.02,
          "symbol": "circle"
         },
         "mode": "markers",
         "name": "Sixpence None The Richer",
         "orientation": "v",
         "showlegend": true,
         "type": "scatter",
         "x": [
          2015
         ],
         "xaxis": "x",
         "y": [
          0.9907
         ],
         "yaxis": "y"
        },
        {
         "hovertemplate": "<b>%{hovertext}</b><br><br>artist=Tove Lo<br>year=%{x}<br>Average Sentiment Score=%{y}<br>Number of Songs=%{marker.size}<extra></extra>",
         "hovertext": [
          "Tove Lo"
         ],
         "legendgroup": "Tove Lo",
         "marker": {
          "color": "#19d3f3",
          "size": [
           1
          ],
          "sizemode": "area",
          "sizeref": 0.02,
          "symbol": "circle"
         },
         "mode": "markers",
         "name": "Tove Lo",
         "orientation": "v",
         "showlegend": true,
         "type": "scatter",
         "x": [
          2015
         ],
         "xaxis": "x",
         "y": [
          -0.804
         ],
         "yaxis": "y"
        },
        {
         "hovertemplate": "<b>%{hovertext}</b><br><br>artist=Adele<br>year=%{x}<br>Average Sentiment Score=%{y}<br>Number of Songs=%{marker.size}<extra></extra>",
         "hovertext": [
          "Adele"
         ],
         "legendgroup": "Adele",
         "marker": {
          "color": "#FF6692",
          "size": [
           1
          ],
          "sizemode": "area",
          "sizeref": 0.02,
          "symbol": "circle"
         },
         "mode": "markers",
         "name": "Adele",
         "orientation": "v",
         "showlegend": true,
         "type": "scatter",
         "x": [
          2016
         ],
         "xaxis": "x",
         "y": [
          0.9994
         ],
         "yaxis": "y"
        },
        {
         "hovertemplate": "<b>%{hovertext}</b><br><br>artist=Beyoncé<br>year=%{x}<br>Average Sentiment Score=%{y}<br>Number of Songs=%{marker.size}<extra></extra>",
         "hovertext": [
          "Beyoncé",
          "Beyoncé",
          "Beyoncé",
          "Beyoncé",
          "Beyoncé"
         ],
         "legendgroup": "Beyoncé",
         "marker": {
          "color": "#B6E880",
          "size": [
           2,
           1,
           1,
           3,
           1
          ],
          "sizemode": "area",
          "sizeref": 0.02,
          "symbol": "circle"
         },
         "mode": "markers",
         "name": "Beyoncé",
         "orientation": "v",
         "showlegend": true,
         "type": "scatter",
         "x": [
          2016,
          2018,
          2020,
          2021,
          2022
         ],
         "xaxis": "x",
         "y": [
          0.9683999999999999,
          0.9974,
          0.9876,
          0.9598,
          -0.9938
         ],
         "yaxis": "y"
        },
        {
         "hovertemplate": "<b>%{hovertext}</b><br><br>artist=Coldplay<br>year=%{x}<br>Average Sentiment Score=%{y}<br>Number of Songs=%{marker.size}<extra></extra>",
         "hovertext": [
          "Coldplay"
         ],
         "legendgroup": "Coldplay",
         "marker": {
          "color": "#FF97FF",
          "size": [
           1
          ],
          "sizemode": "area",
          "sizeref": 0.02,
          "symbol": "circle"
         },
         "mode": "markers",
         "name": "Coldplay",
         "orientation": "v",
         "showlegend": true,
         "type": "scatter",
         "x": [
          2016
         ],
         "xaxis": "x",
         "y": [
          -0.994
         ],
         "yaxis": "y"
        },
        {
         "hovertemplate": "<b>%{hovertext}</b><br><br>artist=Destiny's Child<br>year=%{x}<br>Average Sentiment Score=%{y}<br>Number of Songs=%{marker.size}<extra></extra>",
         "hovertext": [
          "Destiny's Child",
          "Destiny's Child"
         ],
         "legendgroup": "Destiny's Child",
         "marker": {
          "color": "#FECB52",
          "size": [
           1,
           1
          ],
          "sizemode": "area",
          "sizeref": 0.02,
          "symbol": "circle"
         },
         "mode": "markers",
         "name": "Destiny's Child",
         "orientation": "v",
         "showlegend": true,
         "type": "scatter",
         "x": [
          2016,
          2019
         ],
         "xaxis": "x",
         "y": [
          0.9987,
          0.9987
         ],
         "yaxis": "y"
        },
        {
         "hovertemplate": "<b>%{hovertext}</b><br><br>artist=Lily Allen<br>year=%{x}<br>Average Sentiment Score=%{y}<br>Number of Songs=%{marker.size}<extra></extra>",
         "hovertext": [
          "Lily Allen",
          "Lily Allen"
         ],
         "legendgroup": "Lily Allen",
         "marker": {
          "color": "#636efa",
          "size": [
           1,
           1
          ],
          "sizemode": "area",
          "sizeref": 0.02,
          "symbol": "circle"
         },
         "mode": "markers",
         "name": "Lily Allen",
         "orientation": "v",
         "showlegend": true,
         "type": "scatter",
         "x": [
          2016,
          2022
         ],
         "xaxis": "x",
         "y": [
          -0.9992,
          -0.9992
         ],
         "yaxis": "y"
        },
        {
         "hovertemplate": "<b>%{hovertext}</b><br><br>artist=Madonna<br>year=%{x}<br>Average Sentiment Score=%{y}<br>Number of Songs=%{marker.size}<extra></extra>",
         "hovertext": [
          "Madonna"
         ],
         "legendgroup": "Madonna",
         "marker": {
          "color": "#EF553B",
          "size": [
           1
          ],
          "sizemode": "area",
          "sizeref": 0.02,
          "symbol": "circle"
         },
         "mode": "markers",
         "name": "Madonna",
         "orientation": "v",
         "showlegend": true,
         "type": "scatter",
         "x": [
          2016
         ],
         "xaxis": "x",
         "y": [
          0.9752
         ],
         "yaxis": "y"
        },
        {
         "hovertemplate": "<b>%{hovertext}</b><br><br>artist=Ruth B.<br>year=%{x}<br>Average Sentiment Score=%{y}<br>Number of Songs=%{marker.size}<extra></extra>",
         "hovertext": [
          "Ruth B."
         ],
         "legendgroup": "Ruth B.",
         "marker": {
          "color": "#00cc96",
          "size": [
           1
          ],
          "sizemode": "area",
          "sizeref": 0.02,
          "symbol": "circle"
         },
         "mode": "markers",
         "name": "Ruth B.",
         "orientation": "v",
         "showlegend": true,
         "type": "scatter",
         "x": [
          2016
         ],
         "xaxis": "x",
         "y": [
          0.9892
         ],
         "yaxis": "y"
        },
        {
         "hovertemplate": "<b>%{hovertext}</b><br><br>artist=Selena Gomez<br>year=%{x}<br>Average Sentiment Score=%{y}<br>Number of Songs=%{marker.size}<extra></extra>",
         "hovertext": [
          "Selena Gomez",
          "Selena Gomez"
         ],
         "legendgroup": "Selena Gomez",
         "marker": {
          "color": "#ab63fa",
          "size": [
           1,
           1
          ],
          "sizemode": "area",
          "sizeref": 0.02,
          "symbol": "circle"
         },
         "mode": "markers",
         "name": "Selena Gomez",
         "orientation": "v",
         "showlegend": true,
         "type": "scatter",
         "x": [
          2016,
          2020
         ],
         "xaxis": "x",
         "y": [
          0.9913,
          0.9423
         ],
         "yaxis": "y"
        },
        {
         "hovertemplate": "<b>%{hovertext}</b><br><br>artist=gnash<br>year=%{x}<br>Average Sentiment Score=%{y}<br>Number of Songs=%{marker.size}<extra></extra>",
         "hovertext": [
          "gnash"
         ],
         "legendgroup": "gnash",
         "marker": {
          "color": "#FFA15A",
          "size": [
           1
          ],
          "sizemode": "area",
          "sizeref": 0.02,
          "symbol": "circle"
         },
         "mode": "markers",
         "name": "gnash",
         "orientation": "v",
         "showlegend": true,
         "type": "scatter",
         "x": [
          2016
         ],
         "xaxis": "x",
         "y": [
          -0.8703
         ],
         "yaxis": "y"
        },
        {
         "hovertemplate": "<b>%{hovertext}</b><br><br>artist=AJR<br>year=%{x}<br>Average Sentiment Score=%{y}<br>Number of Songs=%{marker.size}<extra></extra>",
         "hovertext": [
          "AJR"
         ],
         "legendgroup": "AJR",
         "marker": {
          "color": "#19d3f3",
          "size": [
           1
          ],
          "sizemode": "area",
          "sizeref": 0.02,
          "symbol": "circle"
         },
         "mode": "markers",
         "name": "AJR",
         "orientation": "v",
         "showlegend": true,
         "type": "scatter",
         "x": [
          2017
         ],
         "xaxis": "x",
         "y": [
          -0.9879
         ],
         "yaxis": "y"
        },
        {
         "hovertemplate": "<b>%{hovertext}</b><br><br>artist=Alessia Cara<br>year=%{x}<br>Average Sentiment Score=%{y}<br>Number of Songs=%{marker.size}<extra></extra>",
         "hovertext": [
          "Alessia Cara"
         ],
         "legendgroup": "Alessia Cara",
         "marker": {
          "color": "#FF6692",
          "size": [
           1
          ],
          "sizemode": "area",
          "sizeref": 0.02,
          "symbol": "circle"
         },
         "mode": "markers",
         "name": "Alessia Cara",
         "orientation": "v",
         "showlegend": true,
         "type": "scatter",
         "x": [
          2017
         ],
         "xaxis": "x",
         "y": [
          0.9986
         ],
         "yaxis": "y"
        },
        {
         "hovertemplate": "<b>%{hovertext}</b><br><br>artist=Ariana Grande<br>year=%{x}<br>Average Sentiment Score=%{y}<br>Number of Songs=%{marker.size}<extra></extra>",
         "hovertext": [
          "Ariana Grande",
          "Ariana Grande",
          "Ariana Grande",
          "Ariana Grande"
         ],
         "legendgroup": "Ariana Grande",
         "marker": {
          "color": "#B6E880",
          "size": [
           1,
           1,
           2,
           1
          ],
          "sizemode": "area",
          "sizeref": 0.02,
          "symbol": "circle"
         },
         "mode": "markers",
         "name": "Ariana Grande",
         "orientation": "v",
         "showlegend": true,
         "type": "scatter",
         "x": [
          2017,
          2019,
          2021,
          2024
         ],
         "xaxis": "x",
         "y": [
          -0.5168,
          0.997,
          0.9939,
          0.9956
         ],
         "yaxis": "y"
        },
        {
         "hovertemplate": "<b>%{hovertext}</b><br><br>artist=James Arthur<br>year=%{x}<br>Average Sentiment Score=%{y}<br>Number of Songs=%{marker.size}<extra></extra>",
         "hovertext": [
          "James Arthur"
         ],
         "legendgroup": "James Arthur",
         "marker": {
          "color": "#FF97FF",
          "size": [
           1
          ],
          "sizemode": "area",
          "sizeref": 0.02,
          "symbol": "circle"
         },
         "mode": "markers",
         "name": "James Arthur",
         "orientation": "v",
         "showlegend": true,
         "type": "scatter",
         "x": [
          2017
         ],
         "xaxis": "x",
         "y": [
          0.9946
         ],
         "yaxis": "y"
        },
        {
         "hovertemplate": "<b>%{hovertext}</b><br><br>artist=Jon Bellion<br>year=%{x}<br>Average Sentiment Score=%{y}<br>Number of Songs=%{marker.size}<extra></extra>",
         "hovertext": [
          "Jon Bellion"
         ],
         "legendgroup": "Jon Bellion",
         "marker": {
          "color": "#FECB52",
          "size": [
           1
          ],
          "sizemode": "area",
          "sizeref": 0.02,
          "symbol": "circle"
         },
         "mode": "markers",
         "name": "Jon Bellion",
         "orientation": "v",
         "showlegend": true,
         "type": "scatter",
         "x": [
          2017
         ],
         "xaxis": "x",
         "y": [
          -0.9999
         ],
         "yaxis": "y"
        },
        {
         "hovertemplate": "<b>%{hovertext}</b><br><br>artist=Julia Michaels<br>year=%{x}<br>Average Sentiment Score=%{y}<br>Number of Songs=%{marker.size}<extra></extra>",
         "hovertext": [
          "Julia Michaels",
          "Julia Michaels"
         ],
         "legendgroup": "Julia Michaels",
         "marker": {
          "color": "#636efa",
          "size": [
           1,
           1
          ],
          "sizemode": "area",
          "sizeref": 0.02,
          "symbol": "circle"
         },
         "mode": "markers",
         "name": "Julia Michaels",
         "orientation": "v",
         "showlegend": true,
         "type": "scatter",
         "x": [
          2017,
          2019
         ],
         "xaxis": "x",
         "y": [
          -0.0129,
          0.9989
         ],
         "yaxis": "y"
        },
        {
         "hovertemplate": "<b>%{hovertext}</b><br><br>artist=Lady Gaga<br>year=%{x}<br>Average Sentiment Score=%{y}<br>Number of Songs=%{marker.size}<extra></extra>",
         "hovertext": [
          "Lady Gaga",
          "Lady Gaga"
         ],
         "legendgroup": "Lady Gaga",
         "marker": {
          "color": "#EF553B",
          "size": [
           1,
           1
          ],
          "sizemode": "area",
          "sizeref": 0.02,
          "symbol": "circle"
         },
         "mode": "markers",
         "name": "Lady Gaga",
         "orientation": "v",
         "showlegend": true,
         "type": "scatter",
         "x": [
          2017,
          2021
         ],
         "xaxis": "x",
         "y": [
          0.9926,
          0.9923
         ],
         "yaxis": "y"
        },
        {
         "hovertemplate": "<b>%{hovertext}</b><br><br>artist=Lukas Graham<br>year=%{x}<br>Average Sentiment Score=%{y}<br>Number of Songs=%{marker.size}<extra></extra>",
         "hovertext": [
          "Lukas Graham"
         ],
         "legendgroup": "Lukas Graham",
         "marker": {
          "color": "#00cc96",
          "size": [
           1
          ],
          "sizemode": "area",
          "sizeref": 0.02,
          "symbol": "circle"
         },
         "mode": "markers",
         "name": "Lukas Graham",
         "orientation": "v",
         "showlegend": true,
         "type": "scatter",
         "x": [
          2017
         ],
         "xaxis": "x",
         "y": [
          -0.8922
         ],
         "yaxis": "y"
        },
        {
         "hovertemplate": "<b>%{hovertext}</b><br><br>artist=Olivia O'Brien<br>year=%{x}<br>Average Sentiment Score=%{y}<br>Number of Songs=%{marker.size}<extra></extra>",
         "hovertext": [
          "Olivia O'Brien"
         ],
         "legendgroup": "Olivia O'Brien",
         "marker": {
          "color": "#ab63fa",
          "size": [
           1
          ],
          "sizemode": "area",
          "sizeref": 0.02,
          "symbol": "circle"
         },
         "mode": "markers",
         "name": "Olivia O'Brien",
         "orientation": "v",
         "showlegend": true,
         "type": "scatter",
         "x": [
          2017
         ],
         "xaxis": "x",
         "y": [
          -0.9985
         ],
         "yaxis": "y"
        },
        {
         "hovertemplate": "<b>%{hovertext}</b><br><br>artist=ZAYN<br>year=%{x}<br>Average Sentiment Score=%{y}<br>Number of Songs=%{marker.size}<extra></extra>",
         "hovertext": [
          "ZAYN"
         ],
         "legendgroup": "ZAYN",
         "marker": {
          "color": "#FFA15A",
          "size": [
           1
          ],
          "sizemode": "area",
          "sizeref": 0.02,
          "symbol": "circle"
         },
         "mode": "markers",
         "name": "ZAYN",
         "orientation": "v",
         "showlegend": true,
         "type": "scatter",
         "x": [
          2017
         ],
         "xaxis": "x",
         "y": [
          -0.9809
         ],
         "yaxis": "y"
        },
        {
         "hovertemplate": "<b>%{hovertext}</b><br><br>artist=mgk<br>year=%{x}<br>Average Sentiment Score=%{y}<br>Number of Songs=%{marker.size}<extra></extra>",
         "hovertext": [
          "mgk"
         ],
         "legendgroup": "mgk",
         "marker": {
          "color": "#19d3f3",
          "size": [
           1
          ],
          "sizemode": "area",
          "sizeref": 0.02,
          "symbol": "circle"
         },
         "mode": "markers",
         "name": "mgk",
         "orientation": "v",
         "showlegend": true,
         "type": "scatter",
         "x": [
          2017
         ],
         "xaxis": "x",
         "y": [
          -0.7756
         ],
         "yaxis": "y"
        },
        {
         "hovertemplate": "<b>%{hovertext}</b><br><br>artist=Bebe Rexha<br>year=%{x}<br>Average Sentiment Score=%{y}<br>Number of Songs=%{marker.size}<extra></extra>",
         "hovertext": [
          "Bebe Rexha"
         ],
         "legendgroup": "Bebe Rexha",
         "marker": {
          "color": "#FF6692",
          "size": [
           1
          ],
          "sizemode": "area",
          "sizeref": 0.02,
          "symbol": "circle"
         },
         "mode": "markers",
         "name": "Bebe Rexha",
         "orientation": "v",
         "showlegend": true,
         "type": "scatter",
         "x": [
          2018
         ],
         "xaxis": "x",
         "y": [
          0.4328
         ],
         "yaxis": "y"
        },
        {
         "hovertemplate": "<b>%{hovertext}</b><br><br>artist=Demi Lovato<br>year=%{x}<br>Average Sentiment Score=%{y}<br>Number of Songs=%{marker.size}<extra></extra>",
         "hovertext": [
          "Demi Lovato",
          "Demi Lovato"
         ],
         "legendgroup": "Demi Lovato",
         "marker": {
          "color": "#B6E880",
          "size": [
           1,
           1
          ],
          "sizemode": "area",
          "sizeref": 0.02,
          "symbol": "circle"
         },
         "mode": "markers",
         "name": "Demi Lovato",
         "orientation": "v",
         "showlegend": true,
         "type": "scatter",
         "x": [
          2018,
          2021
         ],
         "xaxis": "x",
         "y": [
          -0.9828,
          -0.9828
         ],
         "yaxis": "y"
        },
        {
         "hovertemplate": "<b>%{hovertext}</b><br><br>artist=Hailee Steinfeld<br>year=%{x}<br>Average Sentiment Score=%{y}<br>Number of Songs=%{marker.size}<extra></extra>",
         "hovertext": [
          "Hailee Steinfeld",
          "Hailee Steinfeld"
         ],
         "legendgroup": "Hailee Steinfeld",
         "marker": {
          "color": "#FF97FF",
          "size": [
           1,
           2
          ],
          "sizemode": "area",
          "sizeref": 0.02,
          "symbol": "circle"
         },
         "mode": "markers",
         "name": "Hailee Steinfeld",
         "orientation": "v",
         "showlegend": true,
         "type": "scatter",
         "x": [
          2018,
          2021
         ],
         "xaxis": "x",
         "y": [
          0.9996,
          0.9983500000000001
         ],
         "yaxis": "y"
        },
        {
         "hovertemplate": "<b>%{hovertext}</b><br><br>artist=Kesha<br>year=%{x}<br>Average Sentiment Score=%{y}<br>Number of Songs=%{marker.size}<extra></extra>",
         "hovertext": [
          "Kesha"
         ],
         "legendgroup": "Kesha",
         "marker": {
          "color": "#FECB52",
          "size": [
           1
          ],
          "sizemode": "area",
          "sizeref": 0.02,
          "symbol": "circle"
         },
         "mode": "markers",
         "name": "Kesha",
         "orientation": "v",
         "showlegend": true,
         "type": "scatter",
         "x": [
          2018
         ],
         "xaxis": "x",
         "y": [
          0.9965
         ],
         "yaxis": "y"
        },
        {
         "hovertemplate": "<b>%{hovertext}</b><br><br>artist=NF<br>year=%{x}<br>Average Sentiment Score=%{y}<br>Number of Songs=%{marker.size}<extra></extra>",
         "hovertext": [
          "NF"
         ],
         "legendgroup": "NF",
         "marker": {
          "color": "#636efa",
          "size": [
           1
          ],
          "sizemode": "area",
          "sizeref": 0.02,
          "symbol": "circle"
         },
         "mode": "markers",
         "name": "NF",
         "orientation": "v",
         "showlegend": true,
         "type": "scatter",
         "x": [
          2018
         ],
         "xaxis": "x",
         "y": [
          0.9975
         ],
         "yaxis": "y"
        },
        {
         "hovertemplate": "<b>%{hovertext}</b><br><br>artist=Queen<br>year=%{x}<br>Average Sentiment Score=%{y}<br>Number of Songs=%{marker.size}<extra></extra>",
         "hovertext": [
          "Queen",
          "Queen"
         ],
         "legendgroup": "Queen",
         "marker": {
          "color": "#EF553B",
          "size": [
           8,
           1
          ],
          "sizemode": "area",
          "sizeref": 0.02,
          "symbol": "circle"
         },
         "mode": "markers",
         "name": "Queen",
         "orientation": "v",
         "showlegend": true,
         "type": "scatter",
         "x": [
          2018,
          2019
         ],
         "xaxis": "x",
         "y": [
          0.5140125,
          0.9989
         ],
         "yaxis": "y"
        },
        {
         "hovertemplate": "<b>%{hovertext}</b><br><br>artist=Twenty One Pilots<br>year=%{x}<br>Average Sentiment Score=%{y}<br>Number of Songs=%{marker.size}<extra></extra>",
         "hovertext": [
          "Twenty One Pilots"
         ],
         "legendgroup": "Twenty One Pilots",
         "marker": {
          "color": "#00cc96",
          "size": [
           1
          ],
          "sizemode": "area",
          "sizeref": 0.02,
          "symbol": "circle"
         },
         "mode": "markers",
         "name": "Twenty One Pilots",
         "orientation": "v",
         "showlegend": true,
         "type": "scatter",
         "x": [
          2018
         ],
         "xaxis": "x",
         "y": [
          0.998
         ],
         "yaxis": "y"
        },
        {
         "hovertemplate": "<b>%{hovertext}</b><br><br>artist=Drax Project<br>year=%{x}<br>Average Sentiment Score=%{y}<br>Number of Songs=%{marker.size}<extra></extra>",
         "hovertext": [
          "Drax Project"
         ],
         "legendgroup": "Drax Project",
         "marker": {
          "color": "#ab63fa",
          "size": [
           1
          ],
          "sizemode": "area",
          "sizeref": 0.02,
          "symbol": "circle"
         },
         "mode": "markers",
         "name": "Drax Project",
         "orientation": "v",
         "showlegend": true,
         "type": "scatter",
         "x": [
          2019
         ],
         "xaxis": "x",
         "y": [
          0.996
         ],
         "yaxis": "y"
        },
        {
         "hovertemplate": "<b>%{hovertext}</b><br><br>artist=Ella<br>year=%{x}<br>Average Sentiment Score=%{y}<br>Number of Songs=%{marker.size}<extra></extra>",
         "hovertext": [
          "Ella"
         ],
         "legendgroup": "Ella",
         "marker": {
          "color": "#FFA15A",
          "size": [
           1
          ],
          "sizemode": "area",
          "sizeref": 0.02,
          "symbol": "circle"
         },
         "mode": "markers",
         "name": "Ella",
         "orientation": "v",
         "showlegend": true,
         "type": "scatter",
         "x": [
          2019
         ],
         "xaxis": "x",
         "y": [
          0.9863
         ],
         "yaxis": "y"
        },
        {
         "hovertemplate": "<b>%{hovertext}</b><br><br>artist=Fifth Harmony<br>year=%{x}<br>Average Sentiment Score=%{y}<br>Number of Songs=%{marker.size}<extra></extra>",
         "hovertext": [
          "Fifth Harmony"
         ],
         "legendgroup": "Fifth Harmony",
         "marker": {
          "color": "#19d3f3",
          "size": [
           1
          ],
          "sizemode": "area",
          "sizeref": 0.02,
          "symbol": "circle"
         },
         "mode": "markers",
         "name": "Fifth Harmony",
         "orientation": "v",
         "showlegend": true,
         "type": "scatter",
         "x": [
          2019
         ],
         "xaxis": "x",
         "y": [
          0.9844
         ],
         "yaxis": "y"
        },
        {
         "hovertemplate": "<b>%{hovertext}</b><br><br>artist=JP Saxe<br>year=%{x}<br>Average Sentiment Score=%{y}<br>Number of Songs=%{marker.size}<extra></extra>",
         "hovertext": [
          "JP Saxe",
          "JP Saxe"
         ],
         "legendgroup": "JP Saxe",
         "marker": {
          "color": "#FF6692",
          "size": [
           1,
           1
          ],
          "sizemode": "area",
          "sizeref": 0.02,
          "symbol": "circle"
         },
         "mode": "markers",
         "name": "JP Saxe",
         "orientation": "v",
         "showlegend": true,
         "type": "scatter",
         "x": [
          2019,
          2020
         ],
         "xaxis": "x",
         "y": [
          0.8487,
          0.8487
         ],
         "yaxis": "y"
        },
        {
         "hovertemplate": "<b>%{hovertext}</b><br><br>artist=Miley Cyrus<br>year=%{x}<br>Average Sentiment Score=%{y}<br>Number of Songs=%{marker.size}<extra></extra>",
         "hovertext": [
          "Miley Cyrus"
         ],
         "legendgroup": "Miley Cyrus",
         "marker": {
          "color": "#B6E880",
          "size": [
           1
          ],
          "sizemode": "area",
          "sizeref": 0.02,
          "symbol": "circle"
         },
         "mode": "markers",
         "name": "Miley Cyrus",
         "orientation": "v",
         "showlegend": true,
         "type": "scatter",
         "x": [
          2019
         ],
         "xaxis": "x",
         "y": [
          0.9956
         ],
         "yaxis": "y"
        },
        {
         "hovertemplate": "<b>%{hovertext}</b><br><br>artist=Normani<br>year=%{x}<br>Average Sentiment Score=%{y}<br>Number of Songs=%{marker.size}<extra></extra>",
         "hovertext": [
          "Normani"
         ],
         "legendgroup": "Normani",
         "marker": {
          "color": "#FF97FF",
          "size": [
           1
          ],
          "sizemode": "area",
          "sizeref": 0.02,
          "symbol": "circle"
         },
         "mode": "markers",
         "name": "Normani",
         "orientation": "v",
         "showlegend": true,
         "type": "scatter",
         "x": [
          2019
         ],
         "xaxis": "x",
         "y": [
          0.9911
         ],
         "yaxis": "y"
        },
        {
         "hovertemplate": "<b>%{hovertext}</b><br><br>artist=Shila Amzah<br>year=%{x}<br>Average Sentiment Score=%{y}<br>Number of Songs=%{marker.size}<extra></extra>",
         "hovertext": [
          "Shila Amzah"
         ],
         "legendgroup": "Shila Amzah",
         "marker": {
          "color": "#FECB52",
          "size": [
           1
          ],
          "sizemode": "area",
          "sizeref": 0.02,
          "symbol": "circle"
         },
         "mode": "markers",
         "name": "Shila Amzah",
         "orientation": "v",
         "showlegend": true,
         "type": "scatter",
         "x": [
          2019
         ],
         "xaxis": "x",
         "y": [
          0.7615
         ],
         "yaxis": "y"
        },
        {
         "hovertemplate": "<b>%{hovertext}</b><br><br>artist=Tones And I<br>year=%{x}<br>Average Sentiment Score=%{y}<br>Number of Songs=%{marker.size}<extra></extra>",
         "hovertext": [
          "Tones And I"
         ],
         "legendgroup": "Tones And I",
         "marker": {
          "color": "#636efa",
          "size": [
           1
          ],
          "sizemode": "area",
          "sizeref": 0.02,
          "symbol": "circle"
         },
         "mode": "markers",
         "name": "Tones And I",
         "orientation": "v",
         "showlegend": true,
         "type": "scatter",
         "x": [
          2019
         ],
         "xaxis": "x",
         "y": [
          -0.9582
         ],
         "yaxis": "y"
        },
        {
         "hovertemplate": "<b>%{hovertext}</b><br><br>artist=Andmesh<br>year=%{x}<br>Average Sentiment Score=%{y}<br>Number of Songs=%{marker.size}<extra></extra>",
         "hovertext": [
          "Andmesh"
         ],
         "legendgroup": "Andmesh",
         "marker": {
          "color": "#EF553B",
          "size": [
           1
          ],
          "sizemode": "area",
          "sizeref": 0.02,
          "symbol": "circle"
         },
         "mode": "markers",
         "name": "Andmesh",
         "orientation": "v",
         "showlegend": true,
         "type": "scatter",
         "x": [
          2020
         ],
         "xaxis": "x",
         "y": [
          0.9985
         ],
         "yaxis": "y"
        },
        {
         "hovertemplate": "<b>%{hovertext}</b><br><br>artist=Blue Ivy<br>year=%{x}<br>Average Sentiment Score=%{y}<br>Number of Songs=%{marker.size}<extra></extra>",
         "hovertext": [
          "Blue Ivy"
         ],
         "legendgroup": "Blue Ivy",
         "marker": {
          "color": "#00cc96",
          "size": [
           1
          ],
          "sizemode": "area",
          "sizeref": 0.02,
          "symbol": "circle"
         },
         "mode": "markers",
         "name": "Blue Ivy",
         "orientation": "v",
         "showlegend": true,
         "type": "scatter",
         "x": [
          2020
         ],
         "xaxis": "x",
         "y": [
          0.9995
         ],
         "yaxis": "y"
        },
        {
         "hovertemplate": "<b>%{hovertext}</b><br><br>artist=Jessica Mauboy<br>year=%{x}<br>Average Sentiment Score=%{y}<br>Number of Songs=%{marker.size}<extra></extra>",
         "hovertext": [
          "Jessica Mauboy"
         ],
         "legendgroup": "Jessica Mauboy",
         "marker": {
          "color": "#ab63fa",
          "size": [
           1
          ],
          "sizemode": "area",
          "sizeref": 0.02,
          "symbol": "circle"
         },
         "mode": "markers",
         "name": "Jessica Mauboy",
         "orientation": "v",
         "showlegend": true,
         "type": "scatter",
         "x": [
          2020
         ],
         "xaxis": "x",
         "y": [
          -0.9977
         ],
         "yaxis": "y"
        },
        {
         "hovertemplate": "<b>%{hovertext}</b><br><br>artist=Natalie Taylor<br>year=%{x}<br>Average Sentiment Score=%{y}<br>Number of Songs=%{marker.size}<extra></extra>",
         "hovertext": [
          "Natalie Taylor"
         ],
         "legendgroup": "Natalie Taylor",
         "marker": {
          "color": "#FFA15A",
          "size": [
           1
          ],
          "sizemode": "area",
          "sizeref": 0.02,
          "symbol": "circle"
         },
         "mode": "markers",
         "name": "Natalie Taylor",
         "orientation": "v",
         "showlegend": true,
         "type": "scatter",
         "x": [
          2020
         ],
         "xaxis": "x",
         "y": [
          0.9956
         ],
         "yaxis": "y"
        },
        {
         "hovertemplate": "<b>%{hovertext}</b><br><br>artist=Outkast<br>year=%{x}<br>Average Sentiment Score=%{y}<br>Number of Songs=%{marker.size}<extra></extra>",
         "hovertext": [
          "Outkast"
         ],
         "legendgroup": "Outkast",
         "marker": {
          "color": "#19d3f3",
          "size": [
           1
          ],
          "sizemode": "area",
          "sizeref": 0.02,
          "symbol": "circle"
         },
         "mode": "markers",
         "name": "Outkast",
         "orientation": "v",
         "showlegend": true,
         "type": "scatter",
         "x": [
          2020
         ],
         "xaxis": "x",
         "y": [
          0.9481
         ],
         "yaxis": "y"
        },
        {
         "hovertemplate": "<b>%{hovertext}</b><br><br>artist=Rihanna<br>year=%{x}<br>Average Sentiment Score=%{y}<br>Number of Songs=%{marker.size}<extra></extra>",
         "hovertext": [
          "Rihanna"
         ],
         "legendgroup": "Rihanna",
         "marker": {
          "color": "#FF6692",
          "size": [
           6
          ],
          "sizemode": "area",
          "sizeref": 0.02,
          "symbol": "circle"
         },
         "mode": "markers",
         "name": "Rihanna",
         "orientation": "v",
         "showlegend": true,
         "type": "scatter",
         "x": [
          2020
         ],
         "xaxis": "x",
         "y": [
          0.6150666666666667
         ],
         "yaxis": "y"
        },
        {
         "hovertemplate": "<b>%{hovertext}</b><br><br>artist=Anne-Marie<br>year=%{x}<br>Average Sentiment Score=%{y}<br>Number of Songs=%{marker.size}<extra></extra>",
         "hovertext": [
          "Anne-Marie"
         ],
         "legendgroup": "Anne-Marie",
         "marker": {
          "color": "#B6E880",
          "size": [
           1
          ],
          "sizemode": "area",
          "sizeref": 0.02,
          "symbol": "circle"
         },
         "mode": "markers",
         "name": "Anne-Marie",
         "orientation": "v",
         "showlegend": true,
         "type": "scatter",
         "x": [
          2021
         ],
         "xaxis": "x",
         "y": [
          0.9989
         ],
         "yaxis": "y"
        },
        {
         "hovertemplate": "<b>%{hovertext}</b><br><br>artist=Dua Lipa<br>year=%{x}<br>Average Sentiment Score=%{y}<br>Number of Songs=%{marker.size}<extra></extra>",
         "hovertext": [
          "Dua Lipa"
         ],
         "legendgroup": "Dua Lipa",
         "marker": {
          "color": "#FF97FF",
          "size": [
           1
          ],
          "sizemode": "area",
          "sizeref": 0.02,
          "symbol": "circle"
         },
         "mode": "markers",
         "name": "Dua Lipa",
         "orientation": "v",
         "showlegend": true,
         "type": "scatter",
         "x": [
          2021
         ],
         "xaxis": "x",
         "y": [
          -0.9873
         ],
         "yaxis": "y"
        },
        {
         "hovertemplate": "<b>%{hovertext}</b><br><br>artist=Katy Perry<br>year=%{x}<br>Average Sentiment Score=%{y}<br>Number of Songs=%{marker.size}<extra></extra>",
         "hovertext": [
          "Katy Perry"
         ],
         "legendgroup": "Katy Perry",
         "marker": {
          "color": "#FECB52",
          "size": [
           1
          ],
          "sizemode": "area",
          "sizeref": 0.02,
          "symbol": "circle"
         },
         "mode": "markers",
         "name": "Katy Perry",
         "orientation": "v",
         "showlegend": true,
         "type": "scatter",
         "x": [
          2021
         ],
         "xaxis": "x",
         "y": [
          -0.5032
         ],
         "yaxis": "y"
        },
        {
         "hovertemplate": "<b>%{hovertext}</b><br><br>artist=Sam Smith<br>year=%{x}<br>Average Sentiment Score=%{y}<br>Number of Songs=%{marker.size}<extra></extra>",
         "hovertext": [
          "Sam Smith",
          "Sam Smith"
         ],
         "legendgroup": "Sam Smith",
         "marker": {
          "color": "#636efa",
          "size": [
           1,
           1
          ],
          "sizemode": "area",
          "sizeref": 0.02,
          "symbol": "circle"
         },
         "mode": "markers",
         "name": "Sam Smith",
         "orientation": "v",
         "showlegend": true,
         "type": "scatter",
         "x": [
          2021,
          2022
         ],
         "xaxis": "x",
         "y": [
          0.9046,
          0.9936
         ],
         "yaxis": "y"
        },
        {
         "hovertemplate": "<b>%{hovertext}</b><br><br>artist=Zedd<br>year=%{x}<br>Average Sentiment Score=%{y}<br>Number of Songs=%{marker.size}<extra></extra>",
         "hovertext": [
          "Zedd"
         ],
         "legendgroup": "Zedd",
         "marker": {
          "color": "#EF553B",
          "size": [
           1
          ],
          "sizemode": "area",
          "sizeref": 0.02,
          "symbol": "circle"
         },
         "mode": "markers",
         "name": "Zedd",
         "orientation": "v",
         "showlegend": true,
         "type": "scatter",
         "x": [
          2021
         ],
         "xaxis": "x",
         "y": [
          -0.9767
         ],
         "yaxis": "y"
        },
        {
         "hovertemplate": "<b>%{hovertext}</b><br><br>artist=ALYPH<br>year=%{x}<br>Average Sentiment Score=%{y}<br>Number of Songs=%{marker.size}<extra></extra>",
         "hovertext": [
          "ALYPH"
         ],
         "legendgroup": "ALYPH",
         "marker": {
          "color": "#00cc96",
          "size": [
           1
          ],
          "sizemode": "area",
          "sizeref": 0.02,
          "symbol": "circle"
         },
         "mode": "markers",
         "name": "ALYPH",
         "orientation": "v",
         "showlegend": true,
         "type": "scatter",
         "x": [
          2022
         ],
         "xaxis": "x",
         "y": [
          0.9905
         ],
         "yaxis": "y"
        },
        {
         "hovertemplate": "<b>%{hovertext}</b><br><br>artist=Cardi B<br>year=%{x}<br>Average Sentiment Score=%{y}<br>Number of Songs=%{marker.size}<extra></extra>",
         "hovertext": [
          "Cardi B"
         ],
         "legendgroup": "Cardi B",
         "marker": {
          "color": "#ab63fa",
          "size": [
           1
          ],
          "sizemode": "area",
          "sizeref": 0.02,
          "symbol": "circle"
         },
         "mode": "markers",
         "name": "Cardi B",
         "orientation": "v",
         "showlegend": true,
         "type": "scatter",
         "x": [
          2022
         ],
         "xaxis": "x",
         "y": [
          -0.4373
         ],
         "yaxis": "y"
        },
        {
         "hovertemplate": "<b>%{hovertext}</b><br><br>artist=Dewa 19<br>year=%{x}<br>Average Sentiment Score=%{y}<br>Number of Songs=%{marker.size}<extra></extra>",
         "hovertext": [
          "Dewa 19"
         ],
         "legendgroup": "Dewa 19",
         "marker": {
          "color": "#FFA15A",
          "size": [
           1
          ],
          "sizemode": "area",
          "sizeref": 0.02,
          "symbol": "circle"
         },
         "mode": "markers",
         "name": "Dewa 19",
         "orientation": "v",
         "showlegend": true,
         "type": "scatter",
         "x": [
          2022
         ],
         "xaxis": "x",
         "y": [
          0.9856
         ],
         "yaxis": "y"
        },
        {
         "hovertemplate": "<b>%{hovertext}</b><br><br>artist=Lil Nas X<br>year=%{x}<br>Average Sentiment Score=%{y}<br>Number of Songs=%{marker.size}<extra></extra>",
         "hovertext": [
          "Lil Nas X"
         ],
         "legendgroup": "Lil Nas X",
         "marker": {
          "color": "#19d3f3",
          "size": [
           1
          ],
          "sizemode": "area",
          "sizeref": 0.02,
          "symbol": "circle"
         },
         "mode": "markers",
         "name": "Lil Nas X",
         "orientation": "v",
         "showlegend": true,
         "type": "scatter",
         "x": [
          2022
         ],
         "xaxis": "x",
         "y": [
          0.9969
         ],
         "yaxis": "y"
        },
        {
         "hovertemplate": "<b>%{hovertext}</b><br><br>artist=Luqman Podolski<br>year=%{x}<br>Average Sentiment Score=%{y}<br>Number of Songs=%{marker.size}<extra></extra>",
         "hovertext": [
          "Luqman Podolski"
         ],
         "legendgroup": "Luqman Podolski",
         "marker": {
          "color": "#FF6692",
          "size": [
           2
          ],
          "sizemode": "area",
          "sizeref": 0.02,
          "symbol": "circle"
         },
         "mode": "markers",
         "name": "Luqman Podolski",
         "orientation": "v",
         "showlegend": true,
         "type": "scatter",
         "x": [
          2022
         ],
         "xaxis": "x",
         "y": [
          -0.0010000000000000009
         ],
         "yaxis": "y"
        },
        {
         "hovertemplate": "<b>%{hovertext}</b><br><br>artist=Nicki Minaj<br>year=%{x}<br>Average Sentiment Score=%{y}<br>Number of Songs=%{marker.size}<extra></extra>",
         "hovertext": [
          "Nicki Minaj"
         ],
         "legendgroup": "Nicki Minaj",
         "marker": {
          "color": "#B6E880",
          "size": [
           1
          ],
          "sizemode": "area",
          "sizeref": 0.02,
          "symbol": "circle"
         },
         "mode": "markers",
         "name": "Nicki Minaj",
         "orientation": "v",
         "showlegend": true,
         "type": "scatter",
         "x": [
          2022
         ],
         "xaxis": "x",
         "y": [
          -0.9974
         ],
         "yaxis": "y"
        },
        {
         "hovertemplate": "<b>%{hovertext}</b><br><br>artist=OneRepublic<br>year=%{x}<br>Average Sentiment Score=%{y}<br>Number of Songs=%{marker.size}<extra></extra>",
         "hovertext": [
          "OneRepublic"
         ],
         "legendgroup": "OneRepublic",
         "marker": {
          "color": "#FF97FF",
          "size": [
           1
          ],
          "sizemode": "area",
          "sizeref": 0.02,
          "symbol": "circle"
         },
         "mode": "markers",
         "name": "OneRepublic",
         "orientation": "v",
         "showlegend": true,
         "type": "scatter",
         "x": [
          2022
         ],
         "xaxis": "x",
         "y": [
          0.9876
         ],
         "yaxis": "y"
        },
        {
         "hovertemplate": "<b>%{hovertext}</b><br><br>artist=Rema<br>year=%{x}<br>Average Sentiment Score=%{y}<br>Number of Songs=%{marker.size}<extra></extra>",
         "hovertext": [
          "Rema"
         ],
         "legendgroup": "Rema",
         "marker": {
          "color": "#FECB52",
          "size": [
           1
          ],
          "sizemode": "area",
          "sizeref": 0.02,
          "symbol": "circle"
         },
         "mode": "markers",
         "name": "Rema",
         "orientation": "v",
         "showlegend": true,
         "type": "scatter",
         "x": [
          2022
         ],
         "xaxis": "x",
         "y": [
          0.9785
         ],
         "yaxis": "y"
        },
        {
         "hovertemplate": "<b>%{hovertext}</b><br><br>artist=Stephen Sanchez<br>year=%{x}<br>Average Sentiment Score=%{y}<br>Number of Songs=%{marker.size}<extra></extra>",
         "hovertext": [
          "Stephen Sanchez",
          "Stephen Sanchez"
         ],
         "legendgroup": "Stephen Sanchez",
         "marker": {
          "color": "#636efa",
          "size": [
           1,
           1
          ],
          "sizemode": "area",
          "sizeref": 0.02,
          "symbol": "circle"
         },
         "mode": "markers",
         "name": "Stephen Sanchez",
         "orientation": "v",
         "showlegend": true,
         "type": "scatter",
         "x": [
          2022,
          2023
         ],
         "xaxis": "x",
         "y": [
          -0.9743,
          -0.9743
         ],
         "yaxis": "y"
        },
        {
         "hovertemplate": "<b>%{hovertext}</b><br><br>artist=Taylor Swift<br>year=%{x}<br>Average Sentiment Score=%{y}<br>Number of Songs=%{marker.size}<extra></extra>",
         "hovertext": [
          "Taylor Swift"
         ],
         "legendgroup": "Taylor Swift",
         "marker": {
          "color": "#EF553B",
          "size": [
           1
          ],
          "sizemode": "area",
          "sizeref": 0.02,
          "symbol": "circle"
         },
         "mode": "markers",
         "name": "Taylor Swift",
         "orientation": "v",
         "showlegend": true,
         "type": "scatter",
         "x": [
          2022
         ],
         "xaxis": "x",
         "y": [
          -0.9948
         ],
         "yaxis": "y"
        },
        {
         "hovertemplate": "<b>%{hovertext}</b><br><br>artist=W.A.R.I.S<br>year=%{x}<br>Average Sentiment Score=%{y}<br>Number of Songs=%{marker.size}<extra></extra>",
         "hovertext": [
          "W.A.R.I.S"
         ],
         "legendgroup": "W.A.R.I.S",
         "marker": {
          "color": "#00cc96",
          "size": [
           1
          ],
          "sizemode": "area",
          "sizeref": 0.02,
          "symbol": "circle"
         },
         "mode": "markers",
         "name": "W.A.R.I.S",
         "orientation": "v",
         "showlegend": true,
         "type": "scatter",
         "x": [
          2022
         ],
         "xaxis": "x",
         "y": [
          0.9276
         ],
         "yaxis": "y"
        },
        {
         "hovertemplate": "<b>%{hovertext}</b><br><br>artist=Aina Abdul<br>year=%{x}<br>Average Sentiment Score=%{y}<br>Number of Songs=%{marker.size}<extra></extra>",
         "hovertext": [
          "Aina Abdul",
          "Aina Abdul"
         ],
         "legendgroup": "Aina Abdul",
         "marker": {
          "color": "#ab63fa",
          "size": [
           1,
           1
          ],
          "sizemode": "area",
          "sizeref": 0.02,
          "symbol": "circle"
         },
         "mode": "markers",
         "name": "Aina Abdul",
         "orientation": "v",
         "showlegend": true,
         "type": "scatter",
         "x": [
          2023,
          2024
         ],
         "xaxis": "x",
         "y": [
          0.9847,
          -0.9791
         ],
         "yaxis": "y"
        },
        {
         "hovertemplate": "<b>%{hovertext}</b><br><br>artist=Amir Jahari<br>year=%{x}<br>Average Sentiment Score=%{y}<br>Number of Songs=%{marker.size}<extra></extra>",
         "hovertext": [
          "Amir Jahari"
         ],
         "legendgroup": "Amir Jahari",
         "marker": {
          "color": "#FFA15A",
          "size": [
           1
          ],
          "sizemode": "area",
          "sizeref": 0.02,
          "symbol": "circle"
         },
         "mode": "markers",
         "name": "Amir Jahari",
         "orientation": "v",
         "showlegend": true,
         "type": "scatter",
         "x": [
          2023
         ],
         "xaxis": "x",
         "y": [
          0.9775
         ],
         "yaxis": "y"
        },
        {
         "hovertemplate": "<b>%{hovertext}</b><br><br>artist=Daniela Andrade<br>year=%{x}<br>Average Sentiment Score=%{y}<br>Number of Songs=%{marker.size}<extra></extra>",
         "hovertext": [
          "Daniela Andrade"
         ],
         "legendgroup": "Daniela Andrade",
         "marker": {
          "color": "#19d3f3",
          "size": [
           1
          ],
          "sizemode": "area",
          "sizeref": 0.02,
          "symbol": "circle"
         },
         "mode": "markers",
         "name": "Daniela Andrade",
         "orientation": "v",
         "showlegend": true,
         "type": "scatter",
         "x": [
          2023
         ],
         "xaxis": "x",
         "y": [
          0.9382
         ],
         "yaxis": "y"
        },
        {
         "hovertemplate": "<b>%{hovertext}</b><br><br>artist=Drake<br>year=%{x}<br>Average Sentiment Score=%{y}<br>Number of Songs=%{marker.size}<extra></extra>",
         "hovertext": [
          "Drake"
         ],
         "legendgroup": "Drake",
         "marker": {
          "color": "#FF6692",
          "size": [
           1
          ],
          "sizemode": "area",
          "sizeref": 0.02,
          "symbol": "circle"
         },
         "mode": "markers",
         "name": "Drake",
         "orientation": "v",
         "showlegend": true,
         "type": "scatter",
         "x": [
          2023
         ],
         "xaxis": "x",
         "y": [
          -0.9991
         ],
         "yaxis": "y"
        },
        {
         "hovertemplate": "<b>%{hovertext}</b><br><br>artist=George Ezra<br>year=%{x}<br>Average Sentiment Score=%{y}<br>Number of Songs=%{marker.size}<extra></extra>",
         "hovertext": [
          "George Ezra"
         ],
         "legendgroup": "George Ezra",
         "marker": {
          "color": "#B6E880",
          "size": [
           1
          ],
          "sizemode": "area",
          "sizeref": 0.02,
          "symbol": "circle"
         },
         "mode": "markers",
         "name": "George Ezra",
         "orientation": "v",
         "showlegend": true,
         "type": "scatter",
         "x": [
          2023
         ],
         "xaxis": "x",
         "y": [
          0.9844
         ],
         "yaxis": "y"
        },
        {
         "hovertemplate": "<b>%{hovertext}</b><br><br>artist=Giveon<br>year=%{x}<br>Average Sentiment Score=%{y}<br>Number of Songs=%{marker.size}<extra></extra>",
         "hovertext": [
          "Giveon"
         ],
         "legendgroup": "Giveon",
         "marker": {
          "color": "#FF97FF",
          "size": [
           1
          ],
          "sizemode": "area",
          "sizeref": 0.02,
          "symbol": "circle"
         },
         "mode": "markers",
         "name": "Giveon",
         "orientation": "v",
         "showlegend": true,
         "type": "scatter",
         "x": [
          2023
         ],
         "xaxis": "x",
         "y": [
          0.8959
         ],
         "yaxis": "y"
        },
        {
         "hovertemplate": "<b>%{hovertext}</b><br><br>artist=Joe Flizzow<br>year=%{x}<br>Average Sentiment Score=%{y}<br>Number of Songs=%{marker.size}<extra></extra>",
         "hovertext": [
          "Joe Flizzow"
         ],
         "legendgroup": "Joe Flizzow",
         "marker": {
          "color": "#FECB52",
          "size": [
           1
          ],
          "sizemode": "area",
          "sizeref": 0.02,
          "symbol": "circle"
         },
         "mode": "markers",
         "name": "Joe Flizzow",
         "orientation": "v",
         "showlegend": true,
         "type": "scatter",
         "x": [
          2023
         ],
         "xaxis": "x",
         "y": [
          -0.9644
         ],
         "yaxis": "y"
        },
        {
         "hovertemplate": "<b>%{hovertext}</b><br><br>artist=Mahalini<br>year=%{x}<br>Average Sentiment Score=%{y}<br>Number of Songs=%{marker.size}<extra></extra>",
         "hovertext": [
          "Mahalini"
         ],
         "legendgroup": "Mahalini",
         "marker": {
          "color": "#636efa",
          "size": [
           1
          ],
          "sizemode": "area",
          "sizeref": 0.02,
          "symbol": "circle"
         },
         "mode": "markers",
         "name": "Mahalini",
         "orientation": "v",
         "showlegend": true,
         "type": "scatter",
         "x": [
          2023
         ],
         "xaxis": "x",
         "y": [
          -0.9902
         ],
         "yaxis": "y"
        },
        {
         "hovertemplate": "<b>%{hovertext}</b><br><br>artist=Mariah Carey<br>year=%{x}<br>Average Sentiment Score=%{y}<br>Number of Songs=%{marker.size}<extra></extra>",
         "hovertext": [
          "Mariah Carey",
          "Mariah Carey"
         ],
         "legendgroup": "Mariah Carey",
         "marker": {
          "color": "#EF553B",
          "size": [
           1,
           1
          ],
          "sizemode": "area",
          "sizeref": 0.02,
          "symbol": "circle"
         },
         "mode": "markers",
         "name": "Mariah Carey",
         "orientation": "v",
         "showlegend": true,
         "type": "scatter",
         "x": [
          2023,
          2024
         ],
         "xaxis": "x",
         "y": [
          0.9988,
          0.9988
         ],
         "yaxis": "y"
        },
        {
         "hovertemplate": "<b>%{hovertext}</b><br><br>artist=Saixse<br>year=%{x}<br>Average Sentiment Score=%{y}<br>Number of Songs=%{marker.size}<extra></extra>",
         "hovertext": [
          "Saixse"
         ],
         "legendgroup": "Saixse",
         "marker": {
          "color": "#00cc96",
          "size": [
           1
          ],
          "sizemode": "area",
          "sizeref": 0.02,
          "symbol": "circle"
         },
         "mode": "markers",
         "name": "Saixse",
         "orientation": "v",
         "showlegend": true,
         "type": "scatter",
         "x": [
          2023
         ],
         "xaxis": "x",
         "y": [
          -0.9424
         ],
         "yaxis": "y"
        },
        {
         "hovertemplate": "<b>%{hovertext}</b><br><br>artist=Sarah<br>year=%{x}<br>Average Sentiment Score=%{y}<br>Number of Songs=%{marker.size}<extra></extra>",
         "hovertext": [
          "Sarah"
         ],
         "legendgroup": "Sarah",
         "marker": {
          "color": "#ab63fa",
          "size": [
           1
          ],
          "sizemode": "area",
          "sizeref": 0.02,
          "symbol": "circle"
         },
         "mode": "markers",
         "name": "Sarah",
         "orientation": "v",
         "showlegend": true,
         "type": "scatter",
         "x": [
          2023
         ],
         "xaxis": "x",
         "y": [
          0.9918
         ],
         "yaxis": "y"
        },
        {
         "hovertemplate": "<b>%{hovertext}</b><br><br>artist=The Righteous Brothers<br>year=%{x}<br>Average Sentiment Score=%{y}<br>Number of Songs=%{marker.size}<extra></extra>",
         "hovertext": [
          "The Righteous Brothers"
         ],
         "legendgroup": "The Righteous Brothers",
         "marker": {
          "color": "#FFA15A",
          "size": [
           1
          ],
          "sizemode": "area",
          "sizeref": 0.02,
          "symbol": "circle"
         },
         "mode": "markers",
         "name": "The Righteous Brothers",
         "orientation": "v",
         "showlegend": true,
         "type": "scatter",
         "x": [
          2023
         ],
         "xaxis": "x",
         "y": [
          0.9898
         ],
         "yaxis": "y"
        },
        {
         "hovertemplate": "<b>%{hovertext}</b><br><br>artist=Zynakal<br>year=%{x}<br>Average Sentiment Score=%{y}<br>Number of Songs=%{marker.size}<extra></extra>",
         "hovertext": [
          "Zynakal"
         ],
         "legendgroup": "Zynakal",
         "marker": {
          "color": "#19d3f3",
          "size": [
           1
          ],
          "sizemode": "area",
          "sizeref": 0.02,
          "symbol": "circle"
         },
         "mode": "markers",
         "name": "Zynakal",
         "orientation": "v",
         "showlegend": true,
         "type": "scatter",
         "x": [
          2023
         ],
         "xaxis": "x",
         "y": [
          -0.9962
         ],
         "yaxis": "y"
        },
        {
         "hovertemplate": "<b>%{hovertext}</b><br><br>artist=21 Savage<br>year=%{x}<br>Average Sentiment Score=%{y}<br>Number of Songs=%{marker.size}<extra></extra>",
         "hovertext": [
          "21 Savage"
         ],
         "legendgroup": "21 Savage",
         "marker": {
          "color": "#FF6692",
          "size": [
           1
          ],
          "sizemode": "area",
          "sizeref": 0.02,
          "symbol": "circle"
         },
         "mode": "markers",
         "name": "21 Savage",
         "orientation": "v",
         "showlegend": true,
         "type": "scatter",
         "x": [
          2024
         ],
         "xaxis": "x",
         "y": [
          -0.9807
         ],
         "yaxis": "y"
        },
        {
         "hovertemplate": "<b>%{hovertext}</b><br><br>artist=Coi Leray<br>year=%{x}<br>Average Sentiment Score=%{y}<br>Number of Songs=%{marker.size}<extra></extra>",
         "hovertext": [
          "Coi Leray"
         ],
         "legendgroup": "Coi Leray",
         "marker": {
          "color": "#B6E880",
          "size": [
           1
          ],
          "sizemode": "area",
          "sizeref": 0.02,
          "symbol": "circle"
         },
         "mode": "markers",
         "name": "Coi Leray",
         "orientation": "v",
         "showlegend": true,
         "type": "scatter",
         "x": [
          2024
         ],
         "xaxis": "x",
         "y": [
          0.9837
         ],
         "yaxis": "y"
        },
        {
         "hovertemplate": "<b>%{hovertext}</b><br><br>artist=DOLLA<br>year=%{x}<br>Average Sentiment Score=%{y}<br>Number of Songs=%{marker.size}<extra></extra>",
         "hovertext": [
          "DOLLA"
         ],
         "legendgroup": "DOLLA",
         "marker": {
          "color": "#FF97FF",
          "size": [
           1
          ],
          "sizemode": "area",
          "sizeref": 0.02,
          "symbol": "circle"
         },
         "mode": "markers",
         "name": "DOLLA",
         "orientation": "v",
         "showlegend": true,
         "type": "scatter",
         "x": [
          2024
         ],
         "xaxis": "x",
         "y": [
          0.9992
         ],
         "yaxis": "y"
        },
        {
         "hovertemplate": "<b>%{hovertext}</b><br><br>artist=Ghea Indrawari<br>year=%{x}<br>Average Sentiment Score=%{y}<br>Number of Songs=%{marker.size}<extra></extra>",
         "hovertext": [
          "Ghea Indrawari"
         ],
         "legendgroup": "Ghea Indrawari",
         "marker": {
          "color": "#FECB52",
          "size": [
           1
          ],
          "sizemode": "area",
          "sizeref": 0.02,
          "symbol": "circle"
         },
         "mode": "markers",
         "name": "Ghea Indrawari",
         "orientation": "v",
         "showlegend": true,
         "type": "scatter",
         "x": [
          2024
         ],
         "xaxis": "x",
         "y": [
          0.8938
         ],
         "yaxis": "y"
        },
        {
         "hovertemplate": "<b>%{hovertext}</b><br><br>artist=GloRilla<br>year=%{x}<br>Average Sentiment Score=%{y}<br>Number of Songs=%{marker.size}<extra></extra>",
         "hovertext": [
          "GloRilla"
         ],
         "legendgroup": "GloRilla",
         "marker": {
          "color": "#636efa",
          "size": [
           1
          ],
          "sizemode": "area",
          "sizeref": 0.02,
          "symbol": "circle"
         },
         "mode": "markers",
         "name": "GloRilla",
         "orientation": "v",
         "showlegend": true,
         "type": "scatter",
         "x": [
          2024
         ],
         "xaxis": "x",
         "y": [
          -0.9971
         ],
         "yaxis": "y"
        },
        {
         "hovertemplate": "<b>%{hovertext}</b><br><br>artist=Kanye West<br>year=%{x}<br>Average Sentiment Score=%{y}<br>Number of Songs=%{marker.size}<extra></extra>",
         "hovertext": [
          "Kanye West"
         ],
         "legendgroup": "Kanye West",
         "marker": {
          "color": "#EF553B",
          "size": [
           1
          ],
          "sizemode": "area",
          "sizeref": 0.02,
          "symbol": "circle"
         },
         "mode": "markers",
         "name": "Kanye West",
         "orientation": "v",
         "showlegend": true,
         "type": "scatter",
         "x": [
          2024
         ],
         "xaxis": "x",
         "y": [
          0.9879
         ],
         "yaxis": "y"
        },
        {
         "hovertemplate": "<b>%{hovertext}</b><br><br>artist=Macklemore<br>year=%{x}<br>Average Sentiment Score=%{y}<br>Number of Songs=%{marker.size}<extra></extra>",
         "hovertext": [
          "Macklemore"
         ],
         "legendgroup": "Macklemore",
         "marker": {
          "color": "#00cc96",
          "size": [
           1
          ],
          "sizemode": "area",
          "sizeref": 0.02,
          "symbol": "circle"
         },
         "mode": "markers",
         "name": "Macklemore",
         "orientation": "v",
         "showlegend": true,
         "type": "scatter",
         "x": [
          2024
         ],
         "xaxis": "x",
         "y": [
          0.9371
         ],
         "yaxis": "y"
        },
        {
         "hovertemplate": "<b>%{hovertext}</b><br><br>artist=Megan Thee Stallion<br>year=%{x}<br>Average Sentiment Score=%{y}<br>Number of Songs=%{marker.size}<extra></extra>",
         "hovertext": [
          "Megan Thee Stallion"
         ],
         "legendgroup": "Megan Thee Stallion",
         "marker": {
          "color": "#ab63fa",
          "size": [
           1
          ],
          "sizemode": "area",
          "sizeref": 0.02,
          "symbol": "circle"
         },
         "mode": "markers",
         "name": "Megan Thee Stallion",
         "orientation": "v",
         "showlegend": true,
         "type": "scatter",
         "x": [
          2024
         ],
         "xaxis": "x",
         "y": [
          0.988
         ],
         "yaxis": "y"
        },
        {
         "hovertemplate": "<b>%{hovertext}</b><br><br>artist=Rossa<br>year=%{x}<br>Average Sentiment Score=%{y}<br>Number of Songs=%{marker.size}<extra></extra>",
         "hovertext": [
          "Rossa"
         ],
         "legendgroup": "Rossa",
         "marker": {
          "color": "#FFA15A",
          "size": [
           1
          ],
          "sizemode": "area",
          "sizeref": 0.02,
          "symbol": "circle"
         },
         "mode": "markers",
         "name": "Rossa",
         "orientation": "v",
         "showlegend": true,
         "type": "scatter",
         "x": [
          2024
         ],
         "xaxis": "x",
         "y": [
          0.9897
         ],
         "yaxis": "y"
        },
        {
         "hovertemplate": "<b>%{hovertext}</b><br><br>artist=SZA<br>year=%{x}<br>Average Sentiment Score=%{y}<br>Number of Songs=%{marker.size}<extra></extra>",
         "hovertext": [
          "SZA"
         ],
         "legendgroup": "SZA",
         "marker": {
          "color": "#19d3f3",
          "size": [
           1
          ],
          "sizemode": "area",
          "sizeref": 0.02,
          "symbol": "circle"
         },
         "mode": "markers",
         "name": "SZA",
         "orientation": "v",
         "showlegend": true,
         "type": "scatter",
         "x": [
          2024
         ],
         "xaxis": "x",
         "y": [
          0.8752
         ],
         "yaxis": "y"
        }
       ],
       "layout": {
        "font": {
         "color": "white"
        },
        "legend": {
         "bgcolor": "rgba(0, 0, 0, 0)",
         "font": {
          "color": "white"
         },
         "itemsizing": "constant",
         "title": {
          "text": "artist"
         },
         "tracegroupgap": 0
        },
        "paper_bgcolor": "rgb(30, 30, 30)",
        "plot_bgcolor": "rgb(30, 30, 30)",
        "template": {
         "data": {
          "bar": [
           {
            "error_x": {
             "color": "#2a3f5f"
            },
            "error_y": {
             "color": "#2a3f5f"
            },
            "marker": {
             "line": {
              "color": "#E5ECF6",
              "width": 0.5
             },
             "pattern": {
              "fillmode": "overlay",
              "size": 10,
              "solidity": 0.2
             }
            },
            "type": "bar"
           }
          ],
          "barpolar": [
           {
            "marker": {
             "line": {
              "color": "#E5ECF6",
              "width": 0.5
             },
             "pattern": {
              "fillmode": "overlay",
              "size": 10,
              "solidity": 0.2
             }
            },
            "type": "barpolar"
           }
          ],
          "carpet": [
           {
            "aaxis": {
             "endlinecolor": "#2a3f5f",
             "gridcolor": "white",
             "linecolor": "white",
             "minorgridcolor": "white",
             "startlinecolor": "#2a3f5f"
            },
            "baxis": {
             "endlinecolor": "#2a3f5f",
             "gridcolor": "white",
             "linecolor": "white",
             "minorgridcolor": "white",
             "startlinecolor": "#2a3f5f"
            },
            "type": "carpet"
           }
          ],
          "choropleth": [
           {
            "colorbar": {
             "outlinewidth": 0,
             "ticks": ""
            },
            "type": "choropleth"
           }
          ],
          "contour": [
           {
            "colorbar": {
             "outlinewidth": 0,
             "ticks": ""
            },
            "colorscale": [
             [
              0,
              "#0d0887"
             ],
             [
              0.1111111111111111,
              "#46039f"
             ],
             [
              0.2222222222222222,
              "#7201a8"
             ],
             [
              0.3333333333333333,
              "#9c179e"
             ],
             [
              0.4444444444444444,
              "#bd3786"
             ],
             [
              0.5555555555555556,
              "#d8576b"
             ],
             [
              0.6666666666666666,
              "#ed7953"
             ],
             [
              0.7777777777777778,
              "#fb9f3a"
             ],
             [
              0.8888888888888888,
              "#fdca26"
             ],
             [
              1,
              "#f0f921"
             ]
            ],
            "type": "contour"
           }
          ],
          "contourcarpet": [
           {
            "colorbar": {
             "outlinewidth": 0,
             "ticks": ""
            },
            "type": "contourcarpet"
           }
          ],
          "heatmap": [
           {
            "colorbar": {
             "outlinewidth": 0,
             "ticks": ""
            },
            "colorscale": [
             [
              0,
              "#0d0887"
             ],
             [
              0.1111111111111111,
              "#46039f"
             ],
             [
              0.2222222222222222,
              "#7201a8"
             ],
             [
              0.3333333333333333,
              "#9c179e"
             ],
             [
              0.4444444444444444,
              "#bd3786"
             ],
             [
              0.5555555555555556,
              "#d8576b"
             ],
             [
              0.6666666666666666,
              "#ed7953"
             ],
             [
              0.7777777777777778,
              "#fb9f3a"
             ],
             [
              0.8888888888888888,
              "#fdca26"
             ],
             [
              1,
              "#f0f921"
             ]
            ],
            "type": "heatmap"
           }
          ],
          "heatmapgl": [
           {
            "colorbar": {
             "outlinewidth": 0,
             "ticks": ""
            },
            "colorscale": [
             [
              0,
              "#0d0887"
             ],
             [
              0.1111111111111111,
              "#46039f"
             ],
             [
              0.2222222222222222,
              "#7201a8"
             ],
             [
              0.3333333333333333,
              "#9c179e"
             ],
             [
              0.4444444444444444,
              "#bd3786"
             ],
             [
              0.5555555555555556,
              "#d8576b"
             ],
             [
              0.6666666666666666,
              "#ed7953"
             ],
             [
              0.7777777777777778,
              "#fb9f3a"
             ],
             [
              0.8888888888888888,
              "#fdca26"
             ],
             [
              1,
              "#f0f921"
             ]
            ],
            "type": "heatmapgl"
           }
          ],
          "histogram": [
           {
            "marker": {
             "pattern": {
              "fillmode": "overlay",
              "size": 10,
              "solidity": 0.2
             }
            },
            "type": "histogram"
           }
          ],
          "histogram2d": [
           {
            "colorbar": {
             "outlinewidth": 0,
             "ticks": ""
            },
            "colorscale": [
             [
              0,
              "#0d0887"
             ],
             [
              0.1111111111111111,
              "#46039f"
             ],
             [
              0.2222222222222222,
              "#7201a8"
             ],
             [
              0.3333333333333333,
              "#9c179e"
             ],
             [
              0.4444444444444444,
              "#bd3786"
             ],
             [
              0.5555555555555556,
              "#d8576b"
             ],
             [
              0.6666666666666666,
              "#ed7953"
             ],
             [
              0.7777777777777778,
              "#fb9f3a"
             ],
             [
              0.8888888888888888,
              "#fdca26"
             ],
             [
              1,
              "#f0f921"
             ]
            ],
            "type": "histogram2d"
           }
          ],
          "histogram2dcontour": [
           {
            "colorbar": {
             "outlinewidth": 0,
             "ticks": ""
            },
            "colorscale": [
             [
              0,
              "#0d0887"
             ],
             [
              0.1111111111111111,
              "#46039f"
             ],
             [
              0.2222222222222222,
              "#7201a8"
             ],
             [
              0.3333333333333333,
              "#9c179e"
             ],
             [
              0.4444444444444444,
              "#bd3786"
             ],
             [
              0.5555555555555556,
              "#d8576b"
             ],
             [
              0.6666666666666666,
              "#ed7953"
             ],
             [
              0.7777777777777778,
              "#fb9f3a"
             ],
             [
              0.8888888888888888,
              "#fdca26"
             ],
             [
              1,
              "#f0f921"
             ]
            ],
            "type": "histogram2dcontour"
           }
          ],
          "mesh3d": [
           {
            "colorbar": {
             "outlinewidth": 0,
             "ticks": ""
            },
            "type": "mesh3d"
           }
          ],
          "parcoords": [
           {
            "line": {
             "colorbar": {
              "outlinewidth": 0,
              "ticks": ""
             }
            },
            "type": "parcoords"
           }
          ],
          "pie": [
           {
            "automargin": true,
            "type": "pie"
           }
          ],
          "scatter": [
           {
            "fillpattern": {
             "fillmode": "overlay",
             "size": 10,
             "solidity": 0.2
            },
            "type": "scatter"
           }
          ],
          "scatter3d": [
           {
            "line": {
             "colorbar": {
              "outlinewidth": 0,
              "ticks": ""
             }
            },
            "marker": {
             "colorbar": {
              "outlinewidth": 0,
              "ticks": ""
             }
            },
            "type": "scatter3d"
           }
          ],
          "scattercarpet": [
           {
            "marker": {
             "colorbar": {
              "outlinewidth": 0,
              "ticks": ""
             }
            },
            "type": "scattercarpet"
           }
          ],
          "scattergeo": [
           {
            "marker": {
             "colorbar": {
              "outlinewidth": 0,
              "ticks": ""
             }
            },
            "type": "scattergeo"
           }
          ],
          "scattergl": [
           {
            "marker": {
             "colorbar": {
              "outlinewidth": 0,
              "ticks": ""
             }
            },
            "type": "scattergl"
           }
          ],
          "scattermapbox": [
           {
            "marker": {
             "colorbar": {
              "outlinewidth": 0,
              "ticks": ""
             }
            },
            "type": "scattermapbox"
           }
          ],
          "scatterpolar": [
           {
            "marker": {
             "colorbar": {
              "outlinewidth": 0,
              "ticks": ""
             }
            },
            "type": "scatterpolar"
           }
          ],
          "scatterpolargl": [
           {
            "marker": {
             "colorbar": {
              "outlinewidth": 0,
              "ticks": ""
             }
            },
            "type": "scatterpolargl"
           }
          ],
          "scatterternary": [
           {
            "marker": {
             "colorbar": {
              "outlinewidth": 0,
              "ticks": ""
             }
            },
            "type": "scatterternary"
           }
          ],
          "surface": [
           {
            "colorbar": {
             "outlinewidth": 0,
             "ticks": ""
            },
            "colorscale": [
             [
              0,
              "#0d0887"
             ],
             [
              0.1111111111111111,
              "#46039f"
             ],
             [
              0.2222222222222222,
              "#7201a8"
             ],
             [
              0.3333333333333333,
              "#9c179e"
             ],
             [
              0.4444444444444444,
              "#bd3786"
             ],
             [
              0.5555555555555556,
              "#d8576b"
             ],
             [
              0.6666666666666666,
              "#ed7953"
             ],
             [
              0.7777777777777778,
              "#fb9f3a"
             ],
             [
              0.8888888888888888,
              "#fdca26"
             ],
             [
              1,
              "#f0f921"
             ]
            ],
            "type": "surface"
           }
          ],
          "table": [
           {
            "cells": {
             "fill": {
              "color": "#EBF0F8"
             },
             "line": {
              "color": "white"
             }
            },
            "header": {
             "fill": {
              "color": "#C8D4E3"
             },
             "line": {
              "color": "white"
             }
            },
            "type": "table"
           }
          ]
         },
         "layout": {
          "annotationdefaults": {
           "arrowcolor": "#2a3f5f",
           "arrowhead": 0,
           "arrowwidth": 1
          },
          "autotypenumbers": "strict",
          "coloraxis": {
           "colorbar": {
            "outlinewidth": 0,
            "ticks": ""
           }
          },
          "colorscale": {
           "diverging": [
            [
             0,
             "#8e0152"
            ],
            [
             0.1,
             "#c51b7d"
            ],
            [
             0.2,
             "#de77ae"
            ],
            [
             0.3,
             "#f1b6da"
            ],
            [
             0.4,
             "#fde0ef"
            ],
            [
             0.5,
             "#f7f7f7"
            ],
            [
             0.6,
             "#e6f5d0"
            ],
            [
             0.7,
             "#b8e186"
            ],
            [
             0.8,
             "#7fbc41"
            ],
            [
             0.9,
             "#4d9221"
            ],
            [
             1,
             "#276419"
            ]
           ],
           "sequential": [
            [
             0,
             "#0d0887"
            ],
            [
             0.1111111111111111,
             "#46039f"
            ],
            [
             0.2222222222222222,
             "#7201a8"
            ],
            [
             0.3333333333333333,
             "#9c179e"
            ],
            [
             0.4444444444444444,
             "#bd3786"
            ],
            [
             0.5555555555555556,
             "#d8576b"
            ],
            [
             0.6666666666666666,
             "#ed7953"
            ],
            [
             0.7777777777777778,
             "#fb9f3a"
            ],
            [
             0.8888888888888888,
             "#fdca26"
            ],
            [
             1,
             "#f0f921"
            ]
           ],
           "sequentialminus": [
            [
             0,
             "#0d0887"
            ],
            [
             0.1111111111111111,
             "#46039f"
            ],
            [
             0.2222222222222222,
             "#7201a8"
            ],
            [
             0.3333333333333333,
             "#9c179e"
            ],
            [
             0.4444444444444444,
             "#bd3786"
            ],
            [
             0.5555555555555556,
             "#d8576b"
            ],
            [
             0.6666666666666666,
             "#ed7953"
            ],
            [
             0.7777777777777778,
             "#fb9f3a"
            ],
            [
             0.8888888888888888,
             "#fdca26"
            ],
            [
             1,
             "#f0f921"
            ]
           ]
          },
          "colorway": [
           "#636efa",
           "#EF553B",
           "#00cc96",
           "#ab63fa",
           "#FFA15A",
           "#19d3f3",
           "#FF6692",
           "#B6E880",
           "#FF97FF",
           "#FECB52"
          ],
          "font": {
           "color": "#2a3f5f"
          },
          "geo": {
           "bgcolor": "white",
           "lakecolor": "white",
           "landcolor": "#E5ECF6",
           "showlakes": true,
           "showland": true,
           "subunitcolor": "white"
          },
          "hoverlabel": {
           "align": "left"
          },
          "hovermode": "closest",
          "mapbox": {
           "style": "light"
          },
          "paper_bgcolor": "white",
          "plot_bgcolor": "#E5ECF6",
          "polar": {
           "angularaxis": {
            "gridcolor": "white",
            "linecolor": "white",
            "ticks": ""
           },
           "bgcolor": "#E5ECF6",
           "radialaxis": {
            "gridcolor": "white",
            "linecolor": "white",
            "ticks": ""
           }
          },
          "scene": {
           "xaxis": {
            "backgroundcolor": "#E5ECF6",
            "gridcolor": "white",
            "gridwidth": 2,
            "linecolor": "white",
            "showbackground": true,
            "ticks": "",
            "zerolinecolor": "white"
           },
           "yaxis": {
            "backgroundcolor": "#E5ECF6",
            "gridcolor": "white",
            "gridwidth": 2,
            "linecolor": "white",
            "showbackground": true,
            "ticks": "",
            "zerolinecolor": "white"
           },
           "zaxis": {
            "backgroundcolor": "#E5ECF6",
            "gridcolor": "white",
            "gridwidth": 2,
            "linecolor": "white",
            "showbackground": true,
            "ticks": "",
            "zerolinecolor": "white"
           }
          },
          "shapedefaults": {
           "line": {
            "color": "#2a3f5f"
           }
          },
          "ternary": {
           "aaxis": {
            "gridcolor": "white",
            "linecolor": "white",
            "ticks": ""
           },
           "baxis": {
            "gridcolor": "white",
            "linecolor": "white",
            "ticks": ""
           },
           "bgcolor": "#E5ECF6",
           "caxis": {
            "gridcolor": "white",
            "linecolor": "white",
            "ticks": ""
           }
          },
          "title": {
           "x": 0.05
          },
          "xaxis": {
           "automargin": true,
           "gridcolor": "white",
           "linecolor": "white",
           "ticks": "",
           "title": {
            "standoff": 15
           },
           "zerolinecolor": "white",
           "zerolinewidth": 2
          },
          "yaxis": {
           "automargin": true,
           "gridcolor": "white",
           "linecolor": "white",
           "ticks": "",
           "title": {
            "standoff": 15
           },
           "zerolinecolor": "white",
           "zerolinewidth": 2
          }
         }
        },
        "title": {
         "font": {
          "color": "white",
          "size": 24
         },
         "text": "Average Sentiment Scores by Artist (2014-2024)",
         "x": 0.5,
         "xanchor": "center"
        },
        "xaxis": {
         "anchor": "y",
         "domain": [
          0,
          1
         ],
         "gridcolor": "rgb(70, 70, 70)",
         "showgrid": true,
         "title": {
          "font": {
           "color": "white"
          },
          "text": "Year"
         },
         "zerolinecolor": "rgb(120, 120, 120)"
        },
        "yaxis": {
         "anchor": "x",
         "domain": [
          0,
          1
         ],
         "gridcolor": "rgb(70, 70, 70)",
         "showgrid": true,
         "title": {
          "font": {
           "color": "white"
          },
          "text": "Average Sentiment Score"
         },
         "zerolinecolor": "rgb(120, 120, 120)"
        }
       }
      }
     },
     "metadata": {},
     "output_type": "display_data"
    }
   ],
   "source": [
    "import plotly.express as px\n",
    "\n",
    "# Aggregate number of songs per artist per year\n",
    "song_counts = song_sentiment.groupby(['year', 'artist']).size().reset_index(name='count')\n",
    "\n",
    "# Merge with average sentiment scores\n",
    "sentiment_bubble_data = song_sentiment.groupby(['year', 'artist'])['sentiment'].mean().reset_index()\n",
    "sentiment_bubble_data = pd.merge(sentiment_bubble_data, song_counts, on=['year', 'artist'])\n",
    "\n",
    "# Create bubble chart\n",
    "fig = px.scatter(sentiment_bubble_data, x='year', y='sentiment', size='count',\n",
    "                 color='artist', hover_name='artist', \n",
    "                 title='Average Sentiment Scores by Artist (2014-2024)',\n",
    "                 labels={'sentiment': 'Average Sentiment Score', 'count': 'Number of Songs'})\n",
    "\n",
    "fig.update_layout(\n",
    "    title={\n",
    "        'text': 'Average Sentiment Scores by Artist (2014-2024)',\n",
    "        'x': 0.5,\n",
    "        'xanchor': 'center',\n",
    "        'font': {'size': 24, 'color': 'white'}\n",
    "    },\n",
    "    plot_bgcolor='rgb(30, 30, 30)',  # Dark background\n",
    "    paper_bgcolor='rgb(30, 30, 30)',  # Dark paper background\n",
    "    font=dict(color='white'),  # White font color for labels\n",
    "    xaxis=dict(\n",
    "        showgrid=True,\n",
    "        gridcolor='rgb(70, 70, 70)',  # Subtle grid lines\n",
    "        zerolinecolor='rgb(120, 120, 120)',  # Zero line\n",
    "        title=dict(text='Year', font=dict(color='white'))\n",
    "    ),\n",
    "    yaxis=dict(\n",
    "        showgrid=True,\n",
    "        gridcolor='rgb(70, 70, 70)',\n",
    "        zerolinecolor='rgb(120, 120, 120)',\n",
    "        title=dict(text='Average Sentiment Score', font=dict(color='white'))\n",
    "    ),\n",
    "    legend=dict(\n",
    "        font=dict(color='white'),\n",
    "        bgcolor='rgba(0, 0, 0, 0)'  # Transparent background\n",
    "    ),\n",
    ")\n",
    "\n",
    "\n",
    "fig.write_html(\"./static/charts/sentimentScore.html\")\n",
    "\n",
    "fig.show()\n",
    "\n"
   ]
  },
  {
   "cell_type": "code",
   "execution_count": 17,
   "metadata": {},
   "outputs": [
    {
     "data": {
      "application/vnd.plotly.v1+json": {
       "config": {
        "plotlyServerURL": "https://plot.ly"
       },
       "data": [
        {
         "alignmentgroup": "True",
         "customdata": [
          [
           "Jon Bellion",
           2017
          ],
          [
           "Meghan Trainor",
           2016
          ],
          [
           "Lily Allen",
           2016
          ],
          [
           "Eminem",
           2015
          ],
          [
           "Drake",
           2023
          ],
          [
           "Olivia O'Brien",
           2017
          ],
          [
           "Jessica Mauboy",
           2020
          ],
          [
           "Nicki Minaj",
           2022
          ],
          [
           "GloRilla",
           2024
          ],
          [
           "Rihanna",
           2020
          ],
          [
           "Zynakal",
           2023
          ],
          [
           "The Script",
           2014
          ],
          [
           "MAGIC!",
           2014
          ],
          [
           "Taylor Swift",
           2022
          ],
          [
           "Coldplay",
           2016
          ]
         ],
         "hovertemplate": "Negative Sentiment Score=%{marker.color}<br>Song=%{y}<br>artist=%{customdata[0]}<br>year=%{customdata[1]}<extra></extra>",
         "legendgroup": "",
         "marker": {
          "color": [
           -0.9999,
           -0.9995,
           -0.9992,
           -0.9992,
           -0.9991,
           -0.9985,
           -0.9977,
           -0.9974,
           -0.9971,
           -0.997,
           -0.9962,
           -0.9961,
           -0.996,
           -0.9948,
           -0.994
          ],
          "coloraxis": "coloraxis",
          "pattern": {
           "shape": ""
          }
         },
         "name": "",
         "offsetgroup": "",
         "orientation": "h",
         "showlegend": false,
         "textposition": "auto",
         "type": "bar",
         "x": [
          -0.9999,
          -0.9995,
          -0.9992,
          -0.9992,
          -0.9991,
          -0.9985,
          -0.9977,
          -0.9974,
          -0.9971,
          -0.997,
          -0.9962,
          -0.9961,
          -0.996,
          -0.9948,
          -0.994
         ],
         "xaxis": "x",
         "y": [
          "All Time Low",
          "NO",
          "Fuck You",
          "Cleanin' Out My Closet",
          "Rich Flex",
          "Empty",
          "Little Things",
          "Super Freaky Girl",
          "TGIF",
          "Needed Me",
          "Sakit",
          "Superheroes",
          "Rude",
          "Anti-Hero",
          "Hymn for the Weekend"
         ],
         "yaxis": "y"
        }
       ],
       "layout": {
        "barmode": "relative",
        "coloraxis": {
         "colorbar": {
          "title": {
           "text": "Negative Sentiment Score"
          }
         },
         "colorscale": [
          [
           0,
           "rgb(103,0,13)"
          ],
          [
           0.125,
           "rgb(165,15,21)"
          ],
          [
           0.25,
           "rgb(203,24,29)"
          ],
          [
           0.375,
           "rgb(239,59,44)"
          ],
          [
           0.5,
           "rgb(251,106,74)"
          ],
          [
           0.625,
           "rgb(252,146,114)"
          ],
          [
           0.75,
           "rgb(252,187,161)"
          ],
          [
           0.875,
           "rgb(254,224,210)"
          ],
          [
           1,
           "rgb(255,245,240)"
          ]
         ],
         "showscale": false
        },
        "font": {
         "color": "white"
        },
        "height": 400,
        "legend": {
         "tracegroupgap": 0
        },
        "paper_bgcolor": "rgb(30, 30, 30)",
        "plot_bgcolor": "rgb(30, 30, 30)",
        "showlegend": false,
        "template": {
         "data": {
          "bar": [
           {
            "error_x": {
             "color": "#2a3f5f"
            },
            "error_y": {
             "color": "#2a3f5f"
            },
            "marker": {
             "line": {
              "color": "#E5ECF6",
              "width": 0.5
             },
             "pattern": {
              "fillmode": "overlay",
              "size": 10,
              "solidity": 0.2
             }
            },
            "type": "bar"
           }
          ],
          "barpolar": [
           {
            "marker": {
             "line": {
              "color": "#E5ECF6",
              "width": 0.5
             },
             "pattern": {
              "fillmode": "overlay",
              "size": 10,
              "solidity": 0.2
             }
            },
            "type": "barpolar"
           }
          ],
          "carpet": [
           {
            "aaxis": {
             "endlinecolor": "#2a3f5f",
             "gridcolor": "white",
             "linecolor": "white",
             "minorgridcolor": "white",
             "startlinecolor": "#2a3f5f"
            },
            "baxis": {
             "endlinecolor": "#2a3f5f",
             "gridcolor": "white",
             "linecolor": "white",
             "minorgridcolor": "white",
             "startlinecolor": "#2a3f5f"
            },
            "type": "carpet"
           }
          ],
          "choropleth": [
           {
            "colorbar": {
             "outlinewidth": 0,
             "ticks": ""
            },
            "type": "choropleth"
           }
          ],
          "contour": [
           {
            "colorbar": {
             "outlinewidth": 0,
             "ticks": ""
            },
            "colorscale": [
             [
              0,
              "#0d0887"
             ],
             [
              0.1111111111111111,
              "#46039f"
             ],
             [
              0.2222222222222222,
              "#7201a8"
             ],
             [
              0.3333333333333333,
              "#9c179e"
             ],
             [
              0.4444444444444444,
              "#bd3786"
             ],
             [
              0.5555555555555556,
              "#d8576b"
             ],
             [
              0.6666666666666666,
              "#ed7953"
             ],
             [
              0.7777777777777778,
              "#fb9f3a"
             ],
             [
              0.8888888888888888,
              "#fdca26"
             ],
             [
              1,
              "#f0f921"
             ]
            ],
            "type": "contour"
           }
          ],
          "contourcarpet": [
           {
            "colorbar": {
             "outlinewidth": 0,
             "ticks": ""
            },
            "type": "contourcarpet"
           }
          ],
          "heatmap": [
           {
            "colorbar": {
             "outlinewidth": 0,
             "ticks": ""
            },
            "colorscale": [
             [
              0,
              "#0d0887"
             ],
             [
              0.1111111111111111,
              "#46039f"
             ],
             [
              0.2222222222222222,
              "#7201a8"
             ],
             [
              0.3333333333333333,
              "#9c179e"
             ],
             [
              0.4444444444444444,
              "#bd3786"
             ],
             [
              0.5555555555555556,
              "#d8576b"
             ],
             [
              0.6666666666666666,
              "#ed7953"
             ],
             [
              0.7777777777777778,
              "#fb9f3a"
             ],
             [
              0.8888888888888888,
              "#fdca26"
             ],
             [
              1,
              "#f0f921"
             ]
            ],
            "type": "heatmap"
           }
          ],
          "heatmapgl": [
           {
            "colorbar": {
             "outlinewidth": 0,
             "ticks": ""
            },
            "colorscale": [
             [
              0,
              "#0d0887"
             ],
             [
              0.1111111111111111,
              "#46039f"
             ],
             [
              0.2222222222222222,
              "#7201a8"
             ],
             [
              0.3333333333333333,
              "#9c179e"
             ],
             [
              0.4444444444444444,
              "#bd3786"
             ],
             [
              0.5555555555555556,
              "#d8576b"
             ],
             [
              0.6666666666666666,
              "#ed7953"
             ],
             [
              0.7777777777777778,
              "#fb9f3a"
             ],
             [
              0.8888888888888888,
              "#fdca26"
             ],
             [
              1,
              "#f0f921"
             ]
            ],
            "type": "heatmapgl"
           }
          ],
          "histogram": [
           {
            "marker": {
             "pattern": {
              "fillmode": "overlay",
              "size": 10,
              "solidity": 0.2
             }
            },
            "type": "histogram"
           }
          ],
          "histogram2d": [
           {
            "colorbar": {
             "outlinewidth": 0,
             "ticks": ""
            },
            "colorscale": [
             [
              0,
              "#0d0887"
             ],
             [
              0.1111111111111111,
              "#46039f"
             ],
             [
              0.2222222222222222,
              "#7201a8"
             ],
             [
              0.3333333333333333,
              "#9c179e"
             ],
             [
              0.4444444444444444,
              "#bd3786"
             ],
             [
              0.5555555555555556,
              "#d8576b"
             ],
             [
              0.6666666666666666,
              "#ed7953"
             ],
             [
              0.7777777777777778,
              "#fb9f3a"
             ],
             [
              0.8888888888888888,
              "#fdca26"
             ],
             [
              1,
              "#f0f921"
             ]
            ],
            "type": "histogram2d"
           }
          ],
          "histogram2dcontour": [
           {
            "colorbar": {
             "outlinewidth": 0,
             "ticks": ""
            },
            "colorscale": [
             [
              0,
              "#0d0887"
             ],
             [
              0.1111111111111111,
              "#46039f"
             ],
             [
              0.2222222222222222,
              "#7201a8"
             ],
             [
              0.3333333333333333,
              "#9c179e"
             ],
             [
              0.4444444444444444,
              "#bd3786"
             ],
             [
              0.5555555555555556,
              "#d8576b"
             ],
             [
              0.6666666666666666,
              "#ed7953"
             ],
             [
              0.7777777777777778,
              "#fb9f3a"
             ],
             [
              0.8888888888888888,
              "#fdca26"
             ],
             [
              1,
              "#f0f921"
             ]
            ],
            "type": "histogram2dcontour"
           }
          ],
          "mesh3d": [
           {
            "colorbar": {
             "outlinewidth": 0,
             "ticks": ""
            },
            "type": "mesh3d"
           }
          ],
          "parcoords": [
           {
            "line": {
             "colorbar": {
              "outlinewidth": 0,
              "ticks": ""
             }
            },
            "type": "parcoords"
           }
          ],
          "pie": [
           {
            "automargin": true,
            "type": "pie"
           }
          ],
          "scatter": [
           {
            "fillpattern": {
             "fillmode": "overlay",
             "size": 10,
             "solidity": 0.2
            },
            "type": "scatter"
           }
          ],
          "scatter3d": [
           {
            "line": {
             "colorbar": {
              "outlinewidth": 0,
              "ticks": ""
             }
            },
            "marker": {
             "colorbar": {
              "outlinewidth": 0,
              "ticks": ""
             }
            },
            "type": "scatter3d"
           }
          ],
          "scattercarpet": [
           {
            "marker": {
             "colorbar": {
              "outlinewidth": 0,
              "ticks": ""
             }
            },
            "type": "scattercarpet"
           }
          ],
          "scattergeo": [
           {
            "marker": {
             "colorbar": {
              "outlinewidth": 0,
              "ticks": ""
             }
            },
            "type": "scattergeo"
           }
          ],
          "scattergl": [
           {
            "marker": {
             "colorbar": {
              "outlinewidth": 0,
              "ticks": ""
             }
            },
            "type": "scattergl"
           }
          ],
          "scattermapbox": [
           {
            "marker": {
             "colorbar": {
              "outlinewidth": 0,
              "ticks": ""
             }
            },
            "type": "scattermapbox"
           }
          ],
          "scatterpolar": [
           {
            "marker": {
             "colorbar": {
              "outlinewidth": 0,
              "ticks": ""
             }
            },
            "type": "scatterpolar"
           }
          ],
          "scatterpolargl": [
           {
            "marker": {
             "colorbar": {
              "outlinewidth": 0,
              "ticks": ""
             }
            },
            "type": "scatterpolargl"
           }
          ],
          "scatterternary": [
           {
            "marker": {
             "colorbar": {
              "outlinewidth": 0,
              "ticks": ""
             }
            },
            "type": "scatterternary"
           }
          ],
          "surface": [
           {
            "colorbar": {
             "outlinewidth": 0,
             "ticks": ""
            },
            "colorscale": [
             [
              0,
              "#0d0887"
             ],
             [
              0.1111111111111111,
              "#46039f"
             ],
             [
              0.2222222222222222,
              "#7201a8"
             ],
             [
              0.3333333333333333,
              "#9c179e"
             ],
             [
              0.4444444444444444,
              "#bd3786"
             ],
             [
              0.5555555555555556,
              "#d8576b"
             ],
             [
              0.6666666666666666,
              "#ed7953"
             ],
             [
              0.7777777777777778,
              "#fb9f3a"
             ],
             [
              0.8888888888888888,
              "#fdca26"
             ],
             [
              1,
              "#f0f921"
             ]
            ],
            "type": "surface"
           }
          ],
          "table": [
           {
            "cells": {
             "fill": {
              "color": "#EBF0F8"
             },
             "line": {
              "color": "white"
             }
            },
            "header": {
             "fill": {
              "color": "#C8D4E3"
             },
             "line": {
              "color": "white"
             }
            },
            "type": "table"
           }
          ]
         },
         "layout": {
          "annotationdefaults": {
           "arrowcolor": "#2a3f5f",
           "arrowhead": 0,
           "arrowwidth": 1
          },
          "autotypenumbers": "strict",
          "coloraxis": {
           "colorbar": {
            "outlinewidth": 0,
            "ticks": ""
           }
          },
          "colorscale": {
           "diverging": [
            [
             0,
             "#8e0152"
            ],
            [
             0.1,
             "#c51b7d"
            ],
            [
             0.2,
             "#de77ae"
            ],
            [
             0.3,
             "#f1b6da"
            ],
            [
             0.4,
             "#fde0ef"
            ],
            [
             0.5,
             "#f7f7f7"
            ],
            [
             0.6,
             "#e6f5d0"
            ],
            [
             0.7,
             "#b8e186"
            ],
            [
             0.8,
             "#7fbc41"
            ],
            [
             0.9,
             "#4d9221"
            ],
            [
             1,
             "#276419"
            ]
           ],
           "sequential": [
            [
             0,
             "#0d0887"
            ],
            [
             0.1111111111111111,
             "#46039f"
            ],
            [
             0.2222222222222222,
             "#7201a8"
            ],
            [
             0.3333333333333333,
             "#9c179e"
            ],
            [
             0.4444444444444444,
             "#bd3786"
            ],
            [
             0.5555555555555556,
             "#d8576b"
            ],
            [
             0.6666666666666666,
             "#ed7953"
            ],
            [
             0.7777777777777778,
             "#fb9f3a"
            ],
            [
             0.8888888888888888,
             "#fdca26"
            ],
            [
             1,
             "#f0f921"
            ]
           ],
           "sequentialminus": [
            [
             0,
             "#0d0887"
            ],
            [
             0.1111111111111111,
             "#46039f"
            ],
            [
             0.2222222222222222,
             "#7201a8"
            ],
            [
             0.3333333333333333,
             "#9c179e"
            ],
            [
             0.4444444444444444,
             "#bd3786"
            ],
            [
             0.5555555555555556,
             "#d8576b"
            ],
            [
             0.6666666666666666,
             "#ed7953"
            ],
            [
             0.7777777777777778,
             "#fb9f3a"
            ],
            [
             0.8888888888888888,
             "#fdca26"
            ],
            [
             1,
             "#f0f921"
            ]
           ]
          },
          "colorway": [
           "#636efa",
           "#EF553B",
           "#00cc96",
           "#ab63fa",
           "#FFA15A",
           "#19d3f3",
           "#FF6692",
           "#B6E880",
           "#FF97FF",
           "#FECB52"
          ],
          "font": {
           "color": "#2a3f5f"
          },
          "geo": {
           "bgcolor": "white",
           "lakecolor": "white",
           "landcolor": "#E5ECF6",
           "showlakes": true,
           "showland": true,
           "subunitcolor": "white"
          },
          "hoverlabel": {
           "align": "left"
          },
          "hovermode": "closest",
          "mapbox": {
           "style": "light"
          },
          "paper_bgcolor": "white",
          "plot_bgcolor": "#E5ECF6",
          "polar": {
           "angularaxis": {
            "gridcolor": "white",
            "linecolor": "white",
            "ticks": ""
           },
           "bgcolor": "#E5ECF6",
           "radialaxis": {
            "gridcolor": "white",
            "linecolor": "white",
            "ticks": ""
           }
          },
          "scene": {
           "xaxis": {
            "backgroundcolor": "#E5ECF6",
            "gridcolor": "white",
            "gridwidth": 2,
            "linecolor": "white",
            "showbackground": true,
            "ticks": "",
            "zerolinecolor": "white"
           },
           "yaxis": {
            "backgroundcolor": "#E5ECF6",
            "gridcolor": "white",
            "gridwidth": 2,
            "linecolor": "white",
            "showbackground": true,
            "ticks": "",
            "zerolinecolor": "white"
           },
           "zaxis": {
            "backgroundcolor": "#E5ECF6",
            "gridcolor": "white",
            "gridwidth": 2,
            "linecolor": "white",
            "showbackground": true,
            "ticks": "",
            "zerolinecolor": "white"
           }
          },
          "shapedefaults": {
           "line": {
            "color": "#2a3f5f"
           }
          },
          "ternary": {
           "aaxis": {
            "gridcolor": "white",
            "linecolor": "white",
            "ticks": ""
           },
           "baxis": {
            "gridcolor": "white",
            "linecolor": "white",
            "ticks": ""
           },
           "bgcolor": "#E5ECF6",
           "caxis": {
            "gridcolor": "white",
            "linecolor": "white",
            "ticks": ""
           }
          },
          "title": {
           "x": 0.05
          },
          "xaxis": {
           "automargin": true,
           "gridcolor": "white",
           "linecolor": "white",
           "ticks": "",
           "title": {
            "standoff": 15
           },
           "zerolinecolor": "white",
           "zerolinewidth": 2
          },
          "yaxis": {
           "automargin": true,
           "gridcolor": "white",
           "linecolor": "white",
           "ticks": "",
           "title": {
            "standoff": 15
           },
           "zerolinecolor": "white",
           "zerolinewidth": 2
          }
         }
        },
        "title": {
         "font": {
          "color": "white",
          "size": 24
         },
         "text": "Songs with Strong Negative Sentiment",
         "x": 0.5,
         "xanchor": "center"
        },
        "width": 550,
        "xaxis": {
         "anchor": "y",
         "domain": [
          0,
          1
         ],
         "dtick": 0.2,
         "gridcolor": "rgb(70, 70, 70)",
         "range": [
          -1,
          0
         ],
         "showgrid": true,
         "tick0": -1,
         "tickmode": "linear",
         "title": {
          "text": "Negative Sentiment Score"
         },
         "zerolinecolor": "rgb(120, 120, 120)"
        },
        "yaxis": {
         "anchor": "x",
         "categoryorder": "total ascending",
         "domain": [
          0,
          1
         ],
         "gridcolor": "rgb(70, 70, 70)",
         "showgrid": true,
         "title": {
          "text": "Song"
         },
         "zerolinecolor": "rgb(120, 120, 120)"
        }
       }
      }
     },
     "metadata": {},
     "output_type": "display_data"
    }
   ],
   "source": [
    "# artist with the highest negative scores\n",
    "\n",
    "#filter for negative sentiment\n",
    "negative_songs = song_sentiment[song_sentiment['sentiment'] < 0]\n",
    "\n",
    "#remove duplicates, eminem and lily allen appears multiple times for different years\n",
    "negative_songs_unique = negative_songs.loc[negative_songs.groupby('song')['sentiment'].idxmin()]\n",
    "\n",
    "#sort negative songs\n",
    "negative_songs_sorted = negative_songs_unique.sort_values(by='sentiment', ascending=True)\n",
    "\n",
    "#top 15 songs\n",
    "nega_song_sorted = negative_songs_sorted.head(15)\n",
    "\n",
    "fig = px.bar(\n",
    "    nega_song_sorted,\n",
    "    x='sentiment',\n",
    "    y='song',\n",
    "    title='Songs with Strong Negative Sentiment', \n",
    "    labels={'sentiment': 'Negative Sentiment Score', 'song': 'Song'},\n",
    "    orientation='h',\n",
    "    color='sentiment',\n",
    "    color_continuous_scale=px.colors.sequential.Reds[::-1],            # REVERSE THE RED COLOR SCALE \n",
    "    hover_data={'artist': True, 'year': True}\n",
    ")\n",
    "\n",
    "#update layout\n",
    "fig.update_layout(\n",
    "    xaxis_title='Negative Sentiment Score',\n",
    "    yaxis_title='Song', \n",
    "    yaxis=dict(\n",
    "        categoryorder='total ascending',\n",
    "        showgrid=True,\n",
    "        gridcolor='rgb(70, 70, 70)',  # Subtle grid lines in dark mode\n",
    "        zerolinecolor='rgb(120, 120, 120)',  # Zero line\n",
    "        ),\n",
    "    xaxis=dict(\n",
    "        tickmode='linear',\n",
    "        tick0=-1,\n",
    "        dtick=0.2,\n",
    "        range=[-1, 0], \n",
    "        showgrid=True,\n",
    "        gridcolor='rgb(70, 70, 70)',  # Subtle grid lines in dark mode\n",
    "        zerolinecolor='rgb(120, 120, 120)',  # Zero line\n",
    "    ),\n",
    "    width=550,\n",
    "    height=400,\n",
    "    showlegend=False,\n",
    "    coloraxis_showscale=False, \n",
    "    plot_bgcolor='rgb(30, 30, 30)',  # Dark background for the plot\n",
    "    paper_bgcolor='rgb(30, 30, 30)',  # Dark paper background\n",
    "    font=dict(color='white'),  # White font color for labels and text\n",
    "    title=dict(\n",
    "        font=dict(size=24, color='white'),  # Title in white color\n",
    "        x=0.5,  # Center the title\n",
    "        xanchor='center'\n",
    "    ),\n",
    ")\n",
    "\n",
    "fig.write_html(\"./static/charts/negativeScore.html\")\n",
    "\n",
    "fig.show()"
   ]
  },
  {
   "cell_type": "code",
   "execution_count": 18,
   "metadata": {},
   "outputs": [
    {
     "data": {
      "application/vnd.plotly.v1+json": {
       "config": {
        "plotlyServerURL": "https://plot.ly"
       },
       "data": [
        {
         "alignmentgroup": "True",
         "customdata": [
          [
           "Beyoncé"
          ],
          [
           "Ariana Grande"
          ],
          [
           "Hailee Steinfeld"
          ],
          [
           "Echosmith"
          ],
          [
           "Blue Ivy"
          ],
          [
           "Ed Sheeran"
          ],
          [
           "Adele"
          ],
          [
           "Lana Del Rey"
          ],
          [
           "DOLLA"
          ],
          [
           "Queen"
          ],
          [
           "Rihanna"
          ],
          [
           "Julia Michaels"
          ],
          [
           "Anne-Marie"
          ],
          [
           "Queen"
          ],
          [
           "Mariah Carey"
          ]
         ],
         "hovertemplate": "Positive Sentiment Score=%{marker.color}<br>Song=%{y}<br>artist=%{customdata[0]}<extra></extra>",
         "legendgroup": "",
         "marker": {
          "color": [
           0.9997,
           0.9996,
           0.9996,
           0.9996,
           0.9995,
           0.9995,
           0.9994,
           0.9992,
           0.9992,
           0.999,
           0.999,
           0.9989,
           0.9989,
           0.9989,
           0.9988
          ],
          "coloraxis": "coloraxis",
          "pattern": {
           "shape": ""
          }
         },
         "name": "",
         "offsetgroup": "",
         "orientation": "h",
         "showlegend": false,
         "textposition": "auto",
         "type": "bar",
         "x": [
          0.9997,
          0.9996,
          0.9996,
          0.9996,
          0.9995,
          0.9995,
          0.9994,
          0.9992,
          0.9992,
          0.999,
          0.999,
          0.9989,
          0.9989,
          0.9989,
          0.9988
         ],
         "xaxis": "x",
         "y": [
          "Love On Top",
          "thank u, next",
          "Most Girls",
          "Cool Kids",
          "BROWN SKIN GIRL",
          "Shape of You",
          "Send My Love",
          "Young And Beautiful",
          "best side",
          "Under Pressure",
          "Love On The Brain",
          "Anxiety",
          "2002",
          "Somebody To Love",
          "Touch My Body"
         ],
         "yaxis": "y"
        }
       ],
       "layout": {
        "barmode": "relative",
        "coloraxis": {
         "colorbar": {
          "title": {
           "text": "Positive Sentiment Score"
          }
         },
         "colorscale": [
          [
           0,
           "rgb(0,68,27)"
          ],
          [
           0.125,
           "rgb(0,109,44)"
          ],
          [
           0.25,
           "rgb(35,139,69)"
          ],
          [
           0.375,
           "rgb(65,171,93)"
          ],
          [
           0.5,
           "rgb(116,196,118)"
          ],
          [
           0.625,
           "rgb(161,217,155)"
          ],
          [
           0.75,
           "rgb(199,233,192)"
          ],
          [
           0.875,
           "rgb(229,245,224)"
          ],
          [
           1,
           "rgb(247,252,245)"
          ]
         ],
         "showscale": false
        },
        "font": {
         "color": "white"
        },
        "height": 400,
        "legend": {
         "tracegroupgap": 0
        },
        "paper_bgcolor": "rgb(30, 30, 30)",
        "plot_bgcolor": "rgb(30, 30, 30)",
        "showlegend": false,
        "template": {
         "data": {
          "bar": [
           {
            "error_x": {
             "color": "#2a3f5f"
            },
            "error_y": {
             "color": "#2a3f5f"
            },
            "marker": {
             "line": {
              "color": "#E5ECF6",
              "width": 0.5
             },
             "pattern": {
              "fillmode": "overlay",
              "size": 10,
              "solidity": 0.2
             }
            },
            "type": "bar"
           }
          ],
          "barpolar": [
           {
            "marker": {
             "line": {
              "color": "#E5ECF6",
              "width": 0.5
             },
             "pattern": {
              "fillmode": "overlay",
              "size": 10,
              "solidity": 0.2
             }
            },
            "type": "barpolar"
           }
          ],
          "carpet": [
           {
            "aaxis": {
             "endlinecolor": "#2a3f5f",
             "gridcolor": "white",
             "linecolor": "white",
             "minorgridcolor": "white",
             "startlinecolor": "#2a3f5f"
            },
            "baxis": {
             "endlinecolor": "#2a3f5f",
             "gridcolor": "white",
             "linecolor": "white",
             "minorgridcolor": "white",
             "startlinecolor": "#2a3f5f"
            },
            "type": "carpet"
           }
          ],
          "choropleth": [
           {
            "colorbar": {
             "outlinewidth": 0,
             "ticks": ""
            },
            "type": "choropleth"
           }
          ],
          "contour": [
           {
            "colorbar": {
             "outlinewidth": 0,
             "ticks": ""
            },
            "colorscale": [
             [
              0,
              "#0d0887"
             ],
             [
              0.1111111111111111,
              "#46039f"
             ],
             [
              0.2222222222222222,
              "#7201a8"
             ],
             [
              0.3333333333333333,
              "#9c179e"
             ],
             [
              0.4444444444444444,
              "#bd3786"
             ],
             [
              0.5555555555555556,
              "#d8576b"
             ],
             [
              0.6666666666666666,
              "#ed7953"
             ],
             [
              0.7777777777777778,
              "#fb9f3a"
             ],
             [
              0.8888888888888888,
              "#fdca26"
             ],
             [
              1,
              "#f0f921"
             ]
            ],
            "type": "contour"
           }
          ],
          "contourcarpet": [
           {
            "colorbar": {
             "outlinewidth": 0,
             "ticks": ""
            },
            "type": "contourcarpet"
           }
          ],
          "heatmap": [
           {
            "colorbar": {
             "outlinewidth": 0,
             "ticks": ""
            },
            "colorscale": [
             [
              0,
              "#0d0887"
             ],
             [
              0.1111111111111111,
              "#46039f"
             ],
             [
              0.2222222222222222,
              "#7201a8"
             ],
             [
              0.3333333333333333,
              "#9c179e"
             ],
             [
              0.4444444444444444,
              "#bd3786"
             ],
             [
              0.5555555555555556,
              "#d8576b"
             ],
             [
              0.6666666666666666,
              "#ed7953"
             ],
             [
              0.7777777777777778,
              "#fb9f3a"
             ],
             [
              0.8888888888888888,
              "#fdca26"
             ],
             [
              1,
              "#f0f921"
             ]
            ],
            "type": "heatmap"
           }
          ],
          "heatmapgl": [
           {
            "colorbar": {
             "outlinewidth": 0,
             "ticks": ""
            },
            "colorscale": [
             [
              0,
              "#0d0887"
             ],
             [
              0.1111111111111111,
              "#46039f"
             ],
             [
              0.2222222222222222,
              "#7201a8"
             ],
             [
              0.3333333333333333,
              "#9c179e"
             ],
             [
              0.4444444444444444,
              "#bd3786"
             ],
             [
              0.5555555555555556,
              "#d8576b"
             ],
             [
              0.6666666666666666,
              "#ed7953"
             ],
             [
              0.7777777777777778,
              "#fb9f3a"
             ],
             [
              0.8888888888888888,
              "#fdca26"
             ],
             [
              1,
              "#f0f921"
             ]
            ],
            "type": "heatmapgl"
           }
          ],
          "histogram": [
           {
            "marker": {
             "pattern": {
              "fillmode": "overlay",
              "size": 10,
              "solidity": 0.2
             }
            },
            "type": "histogram"
           }
          ],
          "histogram2d": [
           {
            "colorbar": {
             "outlinewidth": 0,
             "ticks": ""
            },
            "colorscale": [
             [
              0,
              "#0d0887"
             ],
             [
              0.1111111111111111,
              "#46039f"
             ],
             [
              0.2222222222222222,
              "#7201a8"
             ],
             [
              0.3333333333333333,
              "#9c179e"
             ],
             [
              0.4444444444444444,
              "#bd3786"
             ],
             [
              0.5555555555555556,
              "#d8576b"
             ],
             [
              0.6666666666666666,
              "#ed7953"
             ],
             [
              0.7777777777777778,
              "#fb9f3a"
             ],
             [
              0.8888888888888888,
              "#fdca26"
             ],
             [
              1,
              "#f0f921"
             ]
            ],
            "type": "histogram2d"
           }
          ],
          "histogram2dcontour": [
           {
            "colorbar": {
             "outlinewidth": 0,
             "ticks": ""
            },
            "colorscale": [
             [
              0,
              "#0d0887"
             ],
             [
              0.1111111111111111,
              "#46039f"
             ],
             [
              0.2222222222222222,
              "#7201a8"
             ],
             [
              0.3333333333333333,
              "#9c179e"
             ],
             [
              0.4444444444444444,
              "#bd3786"
             ],
             [
              0.5555555555555556,
              "#d8576b"
             ],
             [
              0.6666666666666666,
              "#ed7953"
             ],
             [
              0.7777777777777778,
              "#fb9f3a"
             ],
             [
              0.8888888888888888,
              "#fdca26"
             ],
             [
              1,
              "#f0f921"
             ]
            ],
            "type": "histogram2dcontour"
           }
          ],
          "mesh3d": [
           {
            "colorbar": {
             "outlinewidth": 0,
             "ticks": ""
            },
            "type": "mesh3d"
           }
          ],
          "parcoords": [
           {
            "line": {
             "colorbar": {
              "outlinewidth": 0,
              "ticks": ""
             }
            },
            "type": "parcoords"
           }
          ],
          "pie": [
           {
            "automargin": true,
            "type": "pie"
           }
          ],
          "scatter": [
           {
            "fillpattern": {
             "fillmode": "overlay",
             "size": 10,
             "solidity": 0.2
            },
            "type": "scatter"
           }
          ],
          "scatter3d": [
           {
            "line": {
             "colorbar": {
              "outlinewidth": 0,
              "ticks": ""
             }
            },
            "marker": {
             "colorbar": {
              "outlinewidth": 0,
              "ticks": ""
             }
            },
            "type": "scatter3d"
           }
          ],
          "scattercarpet": [
           {
            "marker": {
             "colorbar": {
              "outlinewidth": 0,
              "ticks": ""
             }
            },
            "type": "scattercarpet"
           }
          ],
          "scattergeo": [
           {
            "marker": {
             "colorbar": {
              "outlinewidth": 0,
              "ticks": ""
             }
            },
            "type": "scattergeo"
           }
          ],
          "scattergl": [
           {
            "marker": {
             "colorbar": {
              "outlinewidth": 0,
              "ticks": ""
             }
            },
            "type": "scattergl"
           }
          ],
          "scattermapbox": [
           {
            "marker": {
             "colorbar": {
              "outlinewidth": 0,
              "ticks": ""
             }
            },
            "type": "scattermapbox"
           }
          ],
          "scatterpolar": [
           {
            "marker": {
             "colorbar": {
              "outlinewidth": 0,
              "ticks": ""
             }
            },
            "type": "scatterpolar"
           }
          ],
          "scatterpolargl": [
           {
            "marker": {
             "colorbar": {
              "outlinewidth": 0,
              "ticks": ""
             }
            },
            "type": "scatterpolargl"
           }
          ],
          "scatterternary": [
           {
            "marker": {
             "colorbar": {
              "outlinewidth": 0,
              "ticks": ""
             }
            },
            "type": "scatterternary"
           }
          ],
          "surface": [
           {
            "colorbar": {
             "outlinewidth": 0,
             "ticks": ""
            },
            "colorscale": [
             [
              0,
              "#0d0887"
             ],
             [
              0.1111111111111111,
              "#46039f"
             ],
             [
              0.2222222222222222,
              "#7201a8"
             ],
             [
              0.3333333333333333,
              "#9c179e"
             ],
             [
              0.4444444444444444,
              "#bd3786"
             ],
             [
              0.5555555555555556,
              "#d8576b"
             ],
             [
              0.6666666666666666,
              "#ed7953"
             ],
             [
              0.7777777777777778,
              "#fb9f3a"
             ],
             [
              0.8888888888888888,
              "#fdca26"
             ],
             [
              1,
              "#f0f921"
             ]
            ],
            "type": "surface"
           }
          ],
          "table": [
           {
            "cells": {
             "fill": {
              "color": "#EBF0F8"
             },
             "line": {
              "color": "white"
             }
            },
            "header": {
             "fill": {
              "color": "#C8D4E3"
             },
             "line": {
              "color": "white"
             }
            },
            "type": "table"
           }
          ]
         },
         "layout": {
          "annotationdefaults": {
           "arrowcolor": "#2a3f5f",
           "arrowhead": 0,
           "arrowwidth": 1
          },
          "autotypenumbers": "strict",
          "coloraxis": {
           "colorbar": {
            "outlinewidth": 0,
            "ticks": ""
           }
          },
          "colorscale": {
           "diverging": [
            [
             0,
             "#8e0152"
            ],
            [
             0.1,
             "#c51b7d"
            ],
            [
             0.2,
             "#de77ae"
            ],
            [
             0.3,
             "#f1b6da"
            ],
            [
             0.4,
             "#fde0ef"
            ],
            [
             0.5,
             "#f7f7f7"
            ],
            [
             0.6,
             "#e6f5d0"
            ],
            [
             0.7,
             "#b8e186"
            ],
            [
             0.8,
             "#7fbc41"
            ],
            [
             0.9,
             "#4d9221"
            ],
            [
             1,
             "#276419"
            ]
           ],
           "sequential": [
            [
             0,
             "#0d0887"
            ],
            [
             0.1111111111111111,
             "#46039f"
            ],
            [
             0.2222222222222222,
             "#7201a8"
            ],
            [
             0.3333333333333333,
             "#9c179e"
            ],
            [
             0.4444444444444444,
             "#bd3786"
            ],
            [
             0.5555555555555556,
             "#d8576b"
            ],
            [
             0.6666666666666666,
             "#ed7953"
            ],
            [
             0.7777777777777778,
             "#fb9f3a"
            ],
            [
             0.8888888888888888,
             "#fdca26"
            ],
            [
             1,
             "#f0f921"
            ]
           ],
           "sequentialminus": [
            [
             0,
             "#0d0887"
            ],
            [
             0.1111111111111111,
             "#46039f"
            ],
            [
             0.2222222222222222,
             "#7201a8"
            ],
            [
             0.3333333333333333,
             "#9c179e"
            ],
            [
             0.4444444444444444,
             "#bd3786"
            ],
            [
             0.5555555555555556,
             "#d8576b"
            ],
            [
             0.6666666666666666,
             "#ed7953"
            ],
            [
             0.7777777777777778,
             "#fb9f3a"
            ],
            [
             0.8888888888888888,
             "#fdca26"
            ],
            [
             1,
             "#f0f921"
            ]
           ]
          },
          "colorway": [
           "#636efa",
           "#EF553B",
           "#00cc96",
           "#ab63fa",
           "#FFA15A",
           "#19d3f3",
           "#FF6692",
           "#B6E880",
           "#FF97FF",
           "#FECB52"
          ],
          "font": {
           "color": "#2a3f5f"
          },
          "geo": {
           "bgcolor": "white",
           "lakecolor": "white",
           "landcolor": "#E5ECF6",
           "showlakes": true,
           "showland": true,
           "subunitcolor": "white"
          },
          "hoverlabel": {
           "align": "left"
          },
          "hovermode": "closest",
          "mapbox": {
           "style": "light"
          },
          "paper_bgcolor": "white",
          "plot_bgcolor": "#E5ECF6",
          "polar": {
           "angularaxis": {
            "gridcolor": "white",
            "linecolor": "white",
            "ticks": ""
           },
           "bgcolor": "#E5ECF6",
           "radialaxis": {
            "gridcolor": "white",
            "linecolor": "white",
            "ticks": ""
           }
          },
          "scene": {
           "xaxis": {
            "backgroundcolor": "#E5ECF6",
            "gridcolor": "white",
            "gridwidth": 2,
            "linecolor": "white",
            "showbackground": true,
            "ticks": "",
            "zerolinecolor": "white"
           },
           "yaxis": {
            "backgroundcolor": "#E5ECF6",
            "gridcolor": "white",
            "gridwidth": 2,
            "linecolor": "white",
            "showbackground": true,
            "ticks": "",
            "zerolinecolor": "white"
           },
           "zaxis": {
            "backgroundcolor": "#E5ECF6",
            "gridcolor": "white",
            "gridwidth": 2,
            "linecolor": "white",
            "showbackground": true,
            "ticks": "",
            "zerolinecolor": "white"
           }
          },
          "shapedefaults": {
           "line": {
            "color": "#2a3f5f"
           }
          },
          "ternary": {
           "aaxis": {
            "gridcolor": "white",
            "linecolor": "white",
            "ticks": ""
           },
           "baxis": {
            "gridcolor": "white",
            "linecolor": "white",
            "ticks": ""
           },
           "bgcolor": "#E5ECF6",
           "caxis": {
            "gridcolor": "white",
            "linecolor": "white",
            "ticks": ""
           }
          },
          "title": {
           "x": 0.05
          },
          "xaxis": {
           "automargin": true,
           "gridcolor": "white",
           "linecolor": "white",
           "ticks": "",
           "title": {
            "standoff": 15
           },
           "zerolinecolor": "white",
           "zerolinewidth": 2
          },
          "yaxis": {
           "automargin": true,
           "gridcolor": "white",
           "linecolor": "white",
           "ticks": "",
           "title": {
            "standoff": 15
           },
           "zerolinecolor": "white",
           "zerolinewidth": 2
          }
         }
        },
        "title": {
         "font": {
          "color": "white",
          "size": 24
         },
         "text": "Songs with Strong Positive Sentiment",
         "x": 0.5,
         "xanchor": "center"
        },
        "width": 550,
        "xaxis": {
         "anchor": "y",
         "domain": [
          0,
          1
         ],
         "dtick": 0.2,
         "gridcolor": "rgb(70, 70, 70)",
         "range": [
          0,
          1
         ],
         "showgrid": true,
         "tick0": 0,
         "tickmode": "linear",
         "title": {
          "text": "Positive Sentiment Score"
         },
         "zerolinecolor": "rgb(120, 120, 120)"
        },
        "yaxis": {
         "anchor": "x",
         "categoryorder": "total ascending",
         "domain": [
          0,
          1
         ],
         "gridcolor": "rgb(70, 70, 70)",
         "showgrid": true,
         "title": {
          "text": "Song"
         },
         "zerolinecolor": "rgb(120, 120, 120)"
        }
       }
      }
     },
     "metadata": {},
     "output_type": "display_data"
    }
   ],
   "source": [
    "# artist with the highest positive scores\n",
    "\n",
    "#filter for positive sentiment\n",
    "positive_songs = song_sentiment[song_sentiment['sentiment'] > 0]\n",
    "\n",
    "#remove duplicates, eminem and lily allen appears multiple times for different years\n",
    "positive_songs_unique = positive_songs.loc[positive_songs.groupby('song')['sentiment'].idxmin()]\n",
    "\n",
    "#sort positive songs\n",
    "positive_songs_sorted = positive_songs_unique.sort_values(by='sentiment', ascending=False)\n",
    "\n",
    "#top 15 songs\n",
    "posi_song_sorted = positive_songs_sorted.head(15)\n",
    "\n",
    "fig = px.bar(\n",
    "    posi_song_sorted,\n",
    "    x='sentiment',\n",
    "    y='song',\n",
    "    title='Songs with Strong Positive Sentiment', \n",
    "    labels={'sentiment': 'Positive Sentiment Score', 'song': 'Song'},\n",
    "    orientation='h',\n",
    "    color='sentiment',\n",
    "    color_continuous_scale=px.colors.sequential.Greens[::-1],            # REVERSE THE Green COLOR SCALE \n",
    "    hover_data={'artist': True}\n",
    ")\n",
    "\n",
    "#update layout\n",
    "fig.update_layout(\n",
    "    xaxis_title='Positive Sentiment Score',\n",
    "    yaxis_title='Song', \n",
    "    yaxis=dict(categoryorder='total ascending',\n",
    "        showgrid=True,\n",
    "        gridcolor='rgb(70, 70, 70)',  # Subtle grid lines in dark mode\n",
    "        zerolinecolor='rgb(120, 120, 120)',  # Zero line\n",
    "    ),\n",
    "    xaxis=dict(\n",
    "        tickmode='linear',\n",
    "        tick0=0,\n",
    "        dtick=0.2,\n",
    "        range=[0, 1],\n",
    "        showgrid=True,\n",
    "        gridcolor='rgb(70, 70, 70)',  # Subtle grid lines in dark mode\n",
    "        zerolinecolor='rgb(120, 120, 120)',  # Zero line\n",
    "    ),\n",
    "    width=550,\n",
    "    height=400,\n",
    "    showlegend=False,\n",
    "    coloraxis_showscale=False, \n",
    "    plot_bgcolor='rgb(30, 30, 30)',  # Dark background for the plot\n",
    "    paper_bgcolor='rgb(30, 30, 30)',  # Dark paper background\n",
    "    font=dict(color='white'),  # White font color for labels and text\n",
    "    title=dict(\n",
    "        font=dict(size=24, color='white'),  # Title in white color\n",
    "        x=0.5,  # Center the title\n",
    "        xanchor='center'\n",
    "    ),\n",
    ")\n",
    "\n",
    "fig.write_html(\"./static/charts/positiveScore.html\")\n",
    "\n",
    "\n",
    "fig.show()"
   ]
  },
  {
   "cell_type": "code",
   "execution_count": 19,
   "metadata": {},
   "outputs": [
    {
     "data": {
      "image/png": "[encoded data removed]",
      "text/plain": [
       "<Figure size 400x400 with 1 Axes>"
      ]
     },
     "metadata": {},
     "output_type": "display_data"
    }
   ],
   "source": [
    "#stacked chart\n",
    "\n",
    "#aggregate data by year and sentiment label\n",
    "aggregated_data = song_sentiment.groupby(['year', 'sentiment_label']).size().unstack(fill_value=0)\n",
    "\n",
    "ax = aggregated_data.plot(kind='bar', stacked=True, figsize=(4,4), width=0.8)\n",
    "\n",
    "plt.xlabel('Year')\n",
    "plt.ylabel('Count')\n",
    "plt.title('Sentiment Distribution by Year')\n",
    "plt.legend(title='Sentiment Label')\n",
    "\n",
    "# Adjust spacing to reduce gaps further\n",
    "plt.subplots_adjust(left=0.1, right=0.9, top=0.9, bottom=0.2)\n",
    "plt.tight_layout()\n",
    "\n",
    "# fig.write_html(\"./static/charts/sentimentDistr.html\")\n",
    "\n",
    "plt.show()"
   ]
  },
  {
   "cell_type": "code",
   "execution_count": null,
   "metadata": {},
   "outputs": [],
   "source": []
  }
 ],
 "metadata": {
  "kernelspec": {
   "display_name": "base",
   "language": "python",
   "name": "python3"
  },
  "language_info": {
   "codemirror_mode": {
    "name": "ipython",
    "version": 3
   },
   "file_extension": ".py",
   "mimetype": "text/x-python",
   "name": "python",
   "nbconvert_exporter": "python",
   "pygments_lexer": "ipython3",
   "version": "3.12.3"
  }
 },
 "nbformat": 4,
 "nbformat_minor": 2
}
