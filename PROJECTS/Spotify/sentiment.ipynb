{
 "cells": [
  {
   "cell_type": "markdown",
   "metadata": {},
   "source": [
    "# Sentiment Analysis - Lyrics Extraction\n",
    "\n",
    "- Website: https://genius.com/\n",
    "\n",
    "- Genius API client: https://genius.com/developers?ref=genius.engineering\n",
    "\n",
    "\n",
    "**Extract Lyrics**\n",
    "- requests module\n",
    "- create an .env file to store you API token \n",
    "- use python-dotenv package to load the env variable from the .env file\n",
    "- install in conda environment:\n",
    "    - conda install -c conda-forge python-dotenv\n",
    "- install in vs code terminal:\n",
    "    - pip install python-dotenv\n"
   ]
  },
  {
   "cell_type": "code",
   "execution_count": 3,
   "metadata": {},
   "outputs": [
    {
     "ename": "KeyError",
     "evalue": "'response'",
     "output_type": "error",
     "traceback": [
      "\u001b[1;31m---------------------------------------------------------------------------\u001b[0m",
      "\u001b[1;31mKeyError\u001b[0m                                  Traceback (most recent call last)",
      "Cell \u001b[1;32mIn[3], line 50\u001b[0m\n\u001b[0;32m     48\u001b[0m song_title \u001b[38;5;241m=\u001b[39m \u001b[38;5;124m'\u001b[39m\u001b[38;5;124mHow Deep Is Your Love\u001b[39m\u001b[38;5;124m'\u001b[39m\n\u001b[0;32m     49\u001b[0m artist_name \u001b[38;5;241m=\u001b[39m \u001b[38;5;124m'\u001b[39m\u001b[38;5;124mBee Gees\u001b[39m\u001b[38;5;124m'\u001b[39m\n\u001b[1;32m---> 50\u001b[0m song_id \u001b[38;5;241m=\u001b[39m search_song(song_title, artist_name)\n\u001b[0;32m     51\u001b[0m lyrics \u001b[38;5;241m=\u001b[39m get_lyrics(song_id)\n\u001b[0;32m     53\u001b[0m lyrics\n",
      "Cell \u001b[1;32mIn[3], line 21\u001b[0m, in \u001b[0;36msearch_song\u001b[1;34m(song_title, artist_name)\u001b[0m\n\u001b[0;32m     19\u001b[0m response \u001b[38;5;241m=\u001b[39m requests\u001b[38;5;241m.\u001b[39mget(search_url, headers\u001b[38;5;241m=\u001b[39mheaders, params\u001b[38;5;241m=\u001b[39mparams)\n\u001b[0;32m     20\u001b[0m response_json\u001b[38;5;241m=\u001b[39m response\u001b[38;5;241m.\u001b[39mjson()\n\u001b[1;32m---> 21\u001b[0m song_hit \u001b[38;5;241m=\u001b[39m response_json[\u001b[38;5;124m'\u001b[39m\u001b[38;5;124mresponse\u001b[39m\u001b[38;5;124m'\u001b[39m][\u001b[38;5;124m'\u001b[39m\u001b[38;5;124mhits\u001b[39m\u001b[38;5;124m'\u001b[39m][\u001b[38;5;241m0\u001b[39m][\u001b[38;5;124m'\u001b[39m\u001b[38;5;124mresult\u001b[39m\u001b[38;5;124m'\u001b[39m]\n\u001b[0;32m     23\u001b[0m \u001b[38;5;28;01mreturn\u001b[39;00m song_hit[\u001b[38;5;124m'\u001b[39m\u001b[38;5;124mid\u001b[39m\u001b[38;5;124m'\u001b[39m]\n",
      "\u001b[1;31mKeyError\u001b[0m: 'response'"
     ]
    }
   ],
   "source": [
    "import os \n",
    "from dotenv import load_dotenv\n",
    "import requests\n",
    "from bs4 import BeautifulSoup\n",
    "\n",
    "#load environment variables from .env file\n",
    "load_dotenv()\n",
    "\n",
    "# genius API token from environment variable \n",
    "TOKEN = os.getenv('GENIUS_API_TOKEN')\n",
    "BASE_URL = \"https://api.genius.com\"\n",
    "\n",
    "# function to search for a song\n",
    "def search_song(song_title, artist_name):\n",
    "    search_url = f'{BASE_URL}/search'\n",
    "    headers = {'Authorization':f\"Bearer {TOKEN}\"}\n",
    "    params = {'q': f\"{song_title} {artist_name}\"}\n",
    "    \n",
    "    response = requests.get(search_url, headers=headers, params=params)\n",
    "    response_json= response.json()\n",
    "    song_hit = response_json['response']['hits'][0]['result']\n",
    "    \n",
    "    return song_hit['id']\n",
    "\n",
    "# function to get song lyrics\n",
    "def get_lyrics(song_id):\n",
    "    song_url = f'{BASE_URL}/songs/{song_id}'\n",
    "    headers = {'Authorization': f'Bearer {TOKEN}'}\n",
    "    \n",
    "    response = requests.get(song_url, headers=headers)\n",
    "    song_info = response.json()['response']['song']\n",
    "    lyrics_path = song_info['path']\n",
    "    \n",
    "    lyrics_url = f'https://genius.com{lyrics_path}'\n",
    "    lyrics_response = requests.get(lyrics_url)\n",
    "    lyrics_html = lyrics_response.text\n",
    "    \n",
    "    # extract lyrics from HTML\n",
    "    soup = BeautifulSoup(lyrics_html, 'html.parser')\n",
    "    \n",
    "     # Genius lyrics are usually inside <div> tags with class \"Lyrics__Container\"\n",
    "    lyrics = \"\"\n",
    "    for div in soup.find_all(\"div\", class_=lambda x: x and 'Lyrics__Container' in x):\n",
    "        lyrics += div.get_text(separator=\"\\n\")\n",
    "    \n",
    "    return lyrics if lyrics else \"Lyrics not found\"\n",
    "    \n",
    "song_title = 'How Deep Is Your Love'\n",
    "artist_name = 'Bee Gees'\n",
    "song_id = search_song(song_title, artist_name)\n",
    "lyrics = get_lyrics(song_id)\n",
    "\n",
    "lyrics"
   ]
  },
  {
   "cell_type": "code",
   "execution_count": null,
   "metadata": {},
   "outputs": [],
   "source": []
  }
 ],
 "metadata": {
  "kernelspec": {
   "display_name": "base",
   "language": "python",
   "name": "python3"
  },
  "language_info": {
   "codemirror_mode": {
    "name": "ipython",
    "version": 3
   },
   "file_extension": ".py",
   "mimetype": "text/x-python",
   "name": "python",
   "nbconvert_exporter": "python",
   "pygments_lexer": "ipython3",
   "version": "3.12.3"
  }
 },
 "nbformat": 4,
 "nbformat_minor": 2
}
