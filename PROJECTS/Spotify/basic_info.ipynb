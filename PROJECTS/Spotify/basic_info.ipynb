{
 "cells": [
  {
   "cell_type": "code",
   "execution_count": 25,
   "metadata": {},
   "outputs": [
    {
     "data": {
      "text/html": [
       "<div>\n",
       "<style scoped>\n",
       "    .dataframe tbody tr th:only-of-type {\n",
       "        vertical-align: middle;\n",
       "    }\n",
       "\n",
       "    .dataframe tbody tr th {\n",
       "        vertical-align: top;\n",
       "    }\n",
       "\n",
       "    .dataframe thead th {\n",
       "        text-align: right;\n",
       "    }\n",
       "</style>\n",
       "<table border=\"1\" class=\"dataframe\">\n",
       "  <thead>\n",
       "    <tr style=\"text-align: right;\">\n",
       "      <th></th>\n",
       "      <th>duration</th>\n",
       "      <th>country</th>\n",
       "      <th>song</th>\n",
       "      <th>artist</th>\n",
       "      <th>album</th>\n",
       "      <th>date</th>\n",
       "      <th>time</th>\n",
       "    </tr>\n",
       "  </thead>\n",
       "  <tbody>\n",
       "    <tr>\n",
       "      <th>0</th>\n",
       "      <td>29381</td>\n",
       "      <td>AU</td>\n",
       "      <td>Up and Away</td>\n",
       "      <td>Envy</td>\n",
       "      <td>The Magic Soup And The Bittersweet Faces</td>\n",
       "      <td>2014-08-26</td>\n",
       "      <td>11:22:33</td>\n",
       "    </tr>\n",
       "    <tr>\n",
       "      <th>1</th>\n",
       "      <td>13458</td>\n",
       "      <td>AU</td>\n",
       "      <td>Keep It Down Low</td>\n",
       "      <td>Envy</td>\n",
       "      <td>The Magic Soup And The Bittersweet Faces</td>\n",
       "      <td>2014-08-26</td>\n",
       "      <td>11:22:47</td>\n",
       "    </tr>\n",
       "    <tr>\n",
       "      <th>2</th>\n",
       "      <td>3436</td>\n",
       "      <td>AU</td>\n",
       "      <td>No Love In The Club</td>\n",
       "      <td>Envy</td>\n",
       "      <td>The Magic Soup And The Bittersweet Faces</td>\n",
       "      <td>2014-08-26</td>\n",
       "      <td>11:22:49</td>\n",
       "    </tr>\n",
       "    <tr>\n",
       "      <th>3</th>\n",
       "      <td>247520</td>\n",
       "      <td>AU</td>\n",
       "      <td>Am I Wrong</td>\n",
       "      <td>Nico &amp; Vinz</td>\n",
       "      <td>Am I Wrong</td>\n",
       "      <td>2014-08-26</td>\n",
       "      <td>11:26:56</td>\n",
       "    </tr>\n",
       "    <tr>\n",
       "      <th>4</th>\n",
       "      <td>177352</td>\n",
       "      <td>AU</td>\n",
       "      <td>So Everything</td>\n",
       "      <td>Envy</td>\n",
       "      <td>The Magic Soup And The Bittersweet Faces</td>\n",
       "      <td>2014-08-26</td>\n",
       "      <td>11:29:54</td>\n",
       "    </tr>\n",
       "  </tbody>\n",
       "</table>\n",
       "</div>"
      ],
      "text/plain": [
       "   duration country                 song       artist  \\\n",
       "0     29381      AU          Up and Away         Envy   \n",
       "1     13458      AU     Keep It Down Low         Envy   \n",
       "2      3436      AU  No Love In The Club         Envy   \n",
       "3    247520      AU           Am I Wrong  Nico & Vinz   \n",
       "4    177352      AU        So Everything         Envy   \n",
       "\n",
       "                                      album        date      time  \n",
       "0  The Magic Soup And The Bittersweet Faces  2014-08-26  11:22:33  \n",
       "1  The Magic Soup And The Bittersweet Faces  2014-08-26  11:22:47  \n",
       "2  The Magic Soup And The Bittersweet Faces  2014-08-26  11:22:49  \n",
       "3                                Am I Wrong  2014-08-26  11:26:56  \n",
       "4  The Magic Soup And The Bittersweet Faces  2014-08-26  11:29:54  "
      ]
     },
     "execution_count": 25,
     "metadata": {},
     "output_type": "execute_result"
    }
   ],
   "source": [
    "import pandas as pd\n",
    "\n",
    "big_data = pd.read_csv(r'./Dataset/big_data.csv')\n",
    "big_data2 = pd.read_csv(r'./Dataset/big_data2.csv')\n",
    "big_data.head()"
   ]
  },
  {
   "cell_type": "markdown",
   "metadata": {},
   "source": [
    "# Basic info about our data\n",
    "- df.info()\n",
    "    * info about dataframes (column names, data types, non-null counts)\n",
    "\n",
    "- df.describe()\n",
    "    * Summary statistics fro numeric columns\n",
    "\n",
    "- df.isnull()\n",
    "    * check for missing values \n",
    "\n",
    "- df.duplicated()\n",
    "    * check for duplicates\n",
    "\n",
    "- Count unique values\n",
    "    1) countries\n",
    "    2) artist"
   ]
  },
  {
   "cell_type": "code",
   "execution_count": 4,
   "metadata": {},
   "outputs": [
    {
     "name": "stdout",
     "output_type": "stream",
     "text": [
      "<class 'pandas.core.frame.DataFrame'>\n",
      "RangeIndex: 84288 entries, 0 to 84287\n",
      "Data columns (total 7 columns):\n",
      " #   Column    Non-Null Count  Dtype \n",
      "---  ------    --------------  ----- \n",
      " 0   duration  84288 non-null  int64 \n",
      " 1   country   84288 non-null  object\n",
      " 2   song      83012 non-null  object\n",
      " 3   artist    83012 non-null  object\n",
      " 4   album     83012 non-null  object\n",
      " 5   date      84288 non-null  object\n",
      " 6   time      84288 non-null  object\n",
      "dtypes: int64(1), object(6)\n",
      "memory usage: 4.5+ MB\n"
     ]
    }
   ],
   "source": [
    "big_data.info()"
   ]
  },
  {
   "cell_type": "code",
   "execution_count": 5,
   "metadata": {},
   "outputs": [
    {
     "data": {
      "text/html": [
       "<div>\n",
       "<style scoped>\n",
       "    .dataframe tbody tr th:only-of-type {\n",
       "        vertical-align: middle;\n",
       "    }\n",
       "\n",
       "    .dataframe tbody tr th {\n",
       "        vertical-align: top;\n",
       "    }\n",
       "\n",
       "    .dataframe thead th {\n",
       "        text-align: right;\n",
       "    }\n",
       "</style>\n",
       "<table border=\"1\" class=\"dataframe\">\n",
       "  <thead>\n",
       "    <tr style=\"text-align: right;\">\n",
       "      <th></th>\n",
       "      <th>duration</th>\n",
       "    </tr>\n",
       "  </thead>\n",
       "  <tbody>\n",
       "    <tr>\n",
       "      <th>count</th>\n",
       "      <td>8.428800e+04</td>\n",
       "    </tr>\n",
       "    <tr>\n",
       "      <th>mean</th>\n",
       "      <td>1.637796e+05</td>\n",
       "    </tr>\n",
       "    <tr>\n",
       "      <th>std</th>\n",
       "      <td>1.403979e+05</td>\n",
       "    </tr>\n",
       "    <tr>\n",
       "      <th>min</th>\n",
       "      <td>0.000000e+00</td>\n",
       "    </tr>\n",
       "    <tr>\n",
       "      <th>25%</th>\n",
       "      <td>5.408575e+04</td>\n",
       "    </tr>\n",
       "    <tr>\n",
       "      <th>50%</th>\n",
       "      <td>1.982260e+05</td>\n",
       "    </tr>\n",
       "    <tr>\n",
       "      <th>75%</th>\n",
       "      <td>2.333370e+05</td>\n",
       "    </tr>\n",
       "    <tr>\n",
       "      <th>max</th>\n",
       "      <td>1.457236e+07</td>\n",
       "    </tr>\n",
       "  </tbody>\n",
       "</table>\n",
       "</div>"
      ],
      "text/plain": [
       "           duration\n",
       "count  8.428800e+04\n",
       "mean   1.637796e+05\n",
       "std    1.403979e+05\n",
       "min    0.000000e+00\n",
       "25%    5.408575e+04\n",
       "50%    1.982260e+05\n",
       "75%    2.333370e+05\n",
       "max    1.457236e+07"
      ]
     },
     "execution_count": 5,
     "metadata": {},
     "output_type": "execute_result"
    }
   ],
   "source": [
    "big_data.describe()"
   ]
  },
  {
   "cell_type": "markdown",
   "metadata": {},
   "source": [
    "# Missing data!\n",
    "\n",
    "- I found out that I ahve more than 1k missing data for song, artist and album\n",
    "\n",
    "- we gonna calculate the missing percentage and decide what to do with it:\n",
    "    - it shows that the percentage is VERY minimal, 1.5% for each column\n",
    "\n",
    "- I think I'm going to fill the missing values with 'Unknown' instead of deleting it - save it to big_data2\n",
    "    - check and see in big_data2 if there are missing values\n",
    "    - if it returns 0 we are good to go!"
   ]
  },
  {
   "cell_type": "code",
   "execution_count": 19,
   "metadata": {},
   "outputs": [
    {
     "name": "stdout",
     "output_type": "stream",
     "text": [
      "duration       0\n",
      "country        0\n",
      "song        1276\n",
      "artist      1276\n",
      "album       1276\n",
      "date           0\n",
      "time           0\n",
      "dtype: int64\n",
      "      duration country song artist album        date      time\n",
      "8078    222249      MY  NaN    NaN   NaN  2015-02-26  02:18:04\n",
      "8146    140669      MY  NaN    NaN   NaN  2015-02-27  14:32:32\n",
      "8164    249573      MY  NaN    NaN   NaN  2015-02-28  10:10:24\n",
      "8216    242912      MY  NaN    NaN   NaN  2015-03-02  02:40:57\n",
      "8217    242912      MY  NaN    NaN   NaN  2015-03-02  02:45:00\n",
      "\n",
      "Total rows: 84288\n",
      "\n",
      "Missing Percentage: \n",
      "duration    0.000000\n",
      "country     0.000000\n",
      "song        1.513857\n",
      "artist      1.513857\n",
      "album       1.513857\n",
      "date        0.000000\n",
      "time        0.000000\n",
      "dtype: float64\n"
     ]
    }
   ],
   "source": [
    "# check for missing values\n",
    "missing_values_count = big_data.isnull().sum()\n",
    "print(missing_values_count)\n",
    "\n",
    "# view rows with missing values\n",
    "rows_missing_values = big_data[big_data.isnull().any(axis=1)]\n",
    "print(rows_missing_values.head())\n",
    "\n",
    "# get the total number of rows\n",
    "total_rows = len(big_data)\n",
    "missing_pct = (missing_values_count/total_rows) * 100\n",
    "print(f'\\nTotal rows: {total_rows}')\n",
    "print(f'\\nMissing Percentage: \\n{missing_pct}')"
   ]
  },
  {
   "cell_type": "code",
   "execution_count": 26,
   "metadata": {},
   "outputs": [
    {
     "data": {
      "text/plain": [
       "Unnamed: 0    0\n",
       "duration      0\n",
       "country       0\n",
       "song          0\n",
       "artist        0\n",
       "album         0\n",
       "date          0\n",
       "time          0\n",
       "dtype: int64"
      ]
     },
     "execution_count": 26,
     "metadata": {},
     "output_type": "execute_result"
    }
   ],
   "source": [
    "# # fill missing values with 'unknown'\n",
    "# big_data['song'] = big_data['song'].fillna('Unknown Song')\n",
    "# big_data['artist'] = big_data['artist'].fillna('Unknown Artist')\n",
    "# big_data['album'] = big_data['album'].fillna('Unknown Album')\n",
    "\n",
    "# # save cleaned df to a new csv file\n",
    "# big_data.to_csv('./Dataset/big_data2.csv')\n",
    "\n",
    "# check the new data for missing values\n",
    "# All good!\n",
    "big_data2.isnull().sum()"
   ]
  },
  {
   "cell_type": "code",
   "execution_count": 24,
   "metadata": {},
   "outputs": [
    {
     "data": {
      "text/plain": [
       "241"
      ]
     },
     "execution_count": 24,
     "metadata": {},
     "output_type": "execute_result"
    }
   ],
   "source": [
    "# check for duplicates \n",
    "big_data.duplicated().sum()"
   ]
  },
  {
   "cell_type": "code",
   "execution_count": 8,
   "metadata": {},
   "outputs": [
    {
     "data": {
      "text/plain": [
       "country\n",
       "MY    44143\n",
       "AU    37035\n",
       "ID      669\n",
       "TH      643\n",
       "AE      609\n",
       "FR      589\n",
       "TR      149\n",
       "DE      134\n",
       "IT      103\n",
       "CZ       86\n",
       "HU       52\n",
       "IN       47\n",
       "BG       16\n",
       "RO       12\n",
       "SG        1\n",
       "Name: count, dtype: int64"
      ]
     },
     "execution_count": 8,
     "metadata": {},
     "output_type": "execute_result"
    }
   ],
   "source": [
    "# count unique values\n",
    "big_data['country'].value_counts()"
   ]
  },
  {
   "cell_type": "markdown",
   "metadata": {},
   "source": [
    "**Unique values for countries**\n",
    "- These are the country codes and their full names based on the ISO 3166-1 alpha-2 standard\n",
    "    - MY: Malaysia\n",
    "    - AU: Australia\n",
    "    - ID: Indonesia\n",
    "    - TH: Thailand\n",
    "    - AE: United Arab Emirates\n",
    "    - FR: France\n",
    "    - TR: Turkey\n",
    "    - DE: Germany\n",
    "    - IT: Italy\n",
    "    - CZ: Czech Republic\n",
    "    - HU: Hungary\n",
    "    - IN: India\n",
    "    - BG: Bulgaria\n",
    "    - RO: Romania\n",
    "    - SG: Singapore"
   ]
  },
  {
   "cell_type": "code",
   "execution_count": 9,
   "metadata": {},
   "outputs": [
    {
     "data": {
      "text/plain": [
       "artist\n",
       "Yuna              4528\n",
       "Beyoncé           3495\n",
       "Queen             2794\n",
       "Rihanna           1772\n",
       "Eminem            1514\n",
       "                  ... \n",
       "Asiahn               1\n",
       "Curtis Stigers       1\n",
       "Regard               1\n",
       "Alex Skrindo         1\n",
       "Fahimi               1\n",
       "Name: count, Length: 2793, dtype: int64"
      ]
     },
     "execution_count": 9,
     "metadata": {},
     "output_type": "execute_result"
    }
   ],
   "source": [
    "big_data['artist'].value_counts()"
   ]
  },
  {
   "cell_type": "code",
   "execution_count": 10,
   "metadata": {},
   "outputs": [
    {
     "data": {
      "text/plain": [
       "song\n",
       "How Deep Is Your Love     614\n",
       "Thinking out Loud         565\n",
       "Come Away With Me         454\n",
       "Try                       422\n",
       "Issues                    393\n",
       "                         ... \n",
       "Our Lips Are Sealed         1\n",
       "Keep On                     1\n",
       "International Smile         1\n",
       "Mama Said (Rerecorded)      1\n",
       "Angau                       1\n",
       "Name: count, Length: 8394, dtype: int64"
      ]
     },
     "execution_count": 10,
     "metadata": {},
     "output_type": "execute_result"
    }
   ],
   "source": [
    "big_data['song'].value_counts()"
   ]
  },
  {
   "cell_type": "code",
   "execution_count": null,
   "metadata": {},
   "outputs": [],
   "source": []
  }
 ],
 "metadata": {
  "kernelspec": {
   "display_name": "base",
   "language": "python",
   "name": "python3"
  },
  "language_info": {
   "codemirror_mode": {
    "name": "ipython",
    "version": 3
   },
   "file_extension": ".py",
   "mimetype": "text/x-python",
   "name": "python",
   "nbconvert_exporter": "python",
   "pygments_lexer": "ipython3",
   "version": "3.12.3"
  }
 },
 "nbformat": 4,
 "nbformat_minor": 2
}
