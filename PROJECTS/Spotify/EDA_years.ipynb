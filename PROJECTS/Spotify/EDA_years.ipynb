{
 "cells": [
  {
   "cell_type": "markdown",
   "metadata": {},
   "source": [
    "# Analysis by year (2014 - 2024)"
   ]
  },
  {
   "cell_type": "code",
   "execution_count": 2,
   "metadata": {},
   "outputs": [
    {
     "data": {
      "text/html": [
       "<div>\n",
       "<style scoped>\n",
       "    .dataframe tbody tr th:only-of-type {\n",
       "        vertical-align: middle;\n",
       "    }\n",
       "\n",
       "    .dataframe tbody tr th {\n",
       "        vertical-align: top;\n",
       "    }\n",
       "\n",
       "    .dataframe thead th {\n",
       "        text-align: right;\n",
       "    }\n",
       "</style>\n",
       "<table border=\"1\" class=\"dataframe\">\n",
       "  <thead>\n",
       "    <tr style=\"text-align: right;\">\n",
       "      <th></th>\n",
       "      <th>duration</th>\n",
       "      <th>country</th>\n",
       "      <th>song</th>\n",
       "      <th>artist</th>\n",
       "      <th>album</th>\n",
       "      <th>date</th>\n",
       "      <th>time</th>\n",
       "      <th>duration_minutes</th>\n",
       "      <th>year</th>\n",
       "    </tr>\n",
       "  </thead>\n",
       "  <tbody>\n",
       "    <tr>\n",
       "      <th>0</th>\n",
       "      <td>29381</td>\n",
       "      <td>AU</td>\n",
       "      <td>Up and Away</td>\n",
       "      <td>Envy</td>\n",
       "      <td>The Magic Soup And The Bittersweet Faces</td>\n",
       "      <td>2014-08-26</td>\n",
       "      <td>11:22:33</td>\n",
       "      <td>0.489683</td>\n",
       "      <td>2014</td>\n",
       "    </tr>\n",
       "    <tr>\n",
       "      <th>1</th>\n",
       "      <td>13458</td>\n",
       "      <td>AU</td>\n",
       "      <td>Keep It Down Low</td>\n",
       "      <td>Envy</td>\n",
       "      <td>The Magic Soup And The Bittersweet Faces</td>\n",
       "      <td>2014-08-26</td>\n",
       "      <td>11:22:47</td>\n",
       "      <td>0.224300</td>\n",
       "      <td>2014</td>\n",
       "    </tr>\n",
       "    <tr>\n",
       "      <th>2</th>\n",
       "      <td>3436</td>\n",
       "      <td>AU</td>\n",
       "      <td>No Love In The Club</td>\n",
       "      <td>Envy</td>\n",
       "      <td>The Magic Soup And The Bittersweet Faces</td>\n",
       "      <td>2014-08-26</td>\n",
       "      <td>11:22:49</td>\n",
       "      <td>0.057267</td>\n",
       "      <td>2014</td>\n",
       "    </tr>\n",
       "    <tr>\n",
       "      <th>3</th>\n",
       "      <td>247520</td>\n",
       "      <td>AU</td>\n",
       "      <td>Am I Wrong</td>\n",
       "      <td>Nico &amp; Vinz</td>\n",
       "      <td>Am I Wrong</td>\n",
       "      <td>2014-08-26</td>\n",
       "      <td>11:26:56</td>\n",
       "      <td>4.125333</td>\n",
       "      <td>2014</td>\n",
       "    </tr>\n",
       "    <tr>\n",
       "      <th>4</th>\n",
       "      <td>177352</td>\n",
       "      <td>AU</td>\n",
       "      <td>So Everything</td>\n",
       "      <td>Envy</td>\n",
       "      <td>The Magic Soup And The Bittersweet Faces</td>\n",
       "      <td>2014-08-26</td>\n",
       "      <td>11:29:54</td>\n",
       "      <td>2.955867</td>\n",
       "      <td>2014</td>\n",
       "    </tr>\n",
       "  </tbody>\n",
       "</table>\n",
       "</div>"
      ],
      "text/plain": [
       "   duration country                 song       artist  \\\n",
       "0     29381      AU          Up and Away         Envy   \n",
       "1     13458      AU     Keep It Down Low         Envy   \n",
       "2      3436      AU  No Love In The Club         Envy   \n",
       "3    247520      AU           Am I Wrong  Nico & Vinz   \n",
       "4    177352      AU        So Everything         Envy   \n",
       "\n",
       "                                      album       date      time  \\\n",
       "0  The Magic Soup And The Bittersweet Faces 2014-08-26  11:22:33   \n",
       "1  The Magic Soup And The Bittersweet Faces 2014-08-26  11:22:47   \n",
       "2  The Magic Soup And The Bittersweet Faces 2014-08-26  11:22:49   \n",
       "3                                Am I Wrong 2014-08-26  11:26:56   \n",
       "4  The Magic Soup And The Bittersweet Faces 2014-08-26  11:29:54   \n",
       "\n",
       "   duration_minutes  year  \n",
       "0          0.489683  2014  \n",
       "1          0.224300  2014  \n",
       "2          0.057267  2014  \n",
       "3          4.125333  2014  \n",
       "4          2.955867  2014  "
      ]
     },
     "execution_count": 2,
     "metadata": {},
     "output_type": "execute_result"
    }
   ],
   "source": [
    "import pandas as pd\n",
    "import plotly.express as px\n",
    "\n",
    "df_year = pd.read_csv(r'./Dataset/big_data2.csv', encoding='latin1')\n",
    "df_year = df_year.drop(columns=['Unnamed: 0'])\n",
    "\n",
    "# remove rows with unknown value\n",
    "df_year = df_year[~df_year[['song', 'artist', 'album']].isin(['Unknown Song', 'Unknown Artist', 'Unknown Album']).any(axis=1)]\n",
    "\n",
    "#convert miliseconds to minutes\n",
    "df_year['duration_minutes'] = df_year['duration'] / 60000\n",
    "\n",
    "# convert date column to date time format\n",
    "df_year['date'] = pd.to_datetime(df_year['date'], dayfirst=True, errors='coerce')\n",
    "\n",
    "#extract years from 'date' column\n",
    "df_year['year'] = df_year['date'].dt.year\n",
    "\n",
    "df_year.head()"
   ]
  },
  {
   "cell_type": "code",
   "execution_count": 3,
   "metadata": {},
   "outputs": [
    {
     "data": {
      "text/plain": [
       "Index(['duration', 'country', 'song', 'artist', 'album', 'date', 'time',\n",
       "       'duration_minutes', 'year'],\n",
       "      dtype='object')"
      ]
     },
     "execution_count": 3,
     "metadata": {},
     "output_type": "execute_result"
    }
   ],
   "source": [
    "df_year.columns"
   ]
  },
  {
   "cell_type": "code",
   "execution_count": 4,
   "metadata": {},
   "outputs": [
    {
     "data": {
      "text/html": [
       "<div>\n",
       "<style scoped>\n",
       "    .dataframe tbody tr th:only-of-type {\n",
       "        vertical-align: middle;\n",
       "    }\n",
       "\n",
       "    .dataframe tbody tr th {\n",
       "        vertical-align: top;\n",
       "    }\n",
       "\n",
       "    .dataframe thead th {\n",
       "        text-align: right;\n",
       "    }\n",
       "</style>\n",
       "<table border=\"1\" class=\"dataframe\">\n",
       "  <thead>\n",
       "    <tr style=\"text-align: right;\">\n",
       "      <th></th>\n",
       "      <th>year</th>\n",
       "      <th>total_songs</th>\n",
       "      <th>total_minutes</th>\n",
       "      <th>avg_duration_per_song</th>\n",
       "    </tr>\n",
       "  </thead>\n",
       "  <tbody>\n",
       "    <tr>\n",
       "      <th>0</th>\n",
       "      <td>2014</td>\n",
       "      <td>7026</td>\n",
       "      <td>22971.571683</td>\n",
       "      <td>3.269509</td>\n",
       "    </tr>\n",
       "    <tr>\n",
       "      <th>1</th>\n",
       "      <td>2015</td>\n",
       "      <td>9665</td>\n",
       "      <td>28320.232650</td>\n",
       "      <td>2.930184</td>\n",
       "    </tr>\n",
       "    <tr>\n",
       "      <th>2</th>\n",
       "      <td>2016</td>\n",
       "      <td>9025</td>\n",
       "      <td>28434.380850</td>\n",
       "      <td>3.150624</td>\n",
       "    </tr>\n",
       "    <tr>\n",
       "      <th>3</th>\n",
       "      <td>2017</td>\n",
       "      <td>9336</td>\n",
       "      <td>25305.800717</td>\n",
       "      <td>2.710561</td>\n",
       "    </tr>\n",
       "    <tr>\n",
       "      <th>4</th>\n",
       "      <td>2018</td>\n",
       "      <td>4316</td>\n",
       "      <td>10417.603450</td>\n",
       "      <td>2.413717</td>\n",
       "    </tr>\n",
       "    <tr>\n",
       "      <th>5</th>\n",
       "      <td>2019</td>\n",
       "      <td>2943</td>\n",
       "      <td>8757.580333</td>\n",
       "      <td>2.975732</td>\n",
       "    </tr>\n",
       "    <tr>\n",
       "      <th>6</th>\n",
       "      <td>2020</td>\n",
       "      <td>2774</td>\n",
       "      <td>7305.782533</td>\n",
       "      <td>2.633663</td>\n",
       "    </tr>\n",
       "    <tr>\n",
       "      <th>7</th>\n",
       "      <td>2021</td>\n",
       "      <td>1216</td>\n",
       "      <td>3092.199517</td>\n",
       "      <td>2.542927</td>\n",
       "    </tr>\n",
       "    <tr>\n",
       "      <th>8</th>\n",
       "      <td>2022</td>\n",
       "      <td>7492</td>\n",
       "      <td>14586.241167</td>\n",
       "      <td>1.946909</td>\n",
       "    </tr>\n",
       "    <tr>\n",
       "      <th>9</th>\n",
       "      <td>2023</td>\n",
       "      <td>16487</td>\n",
       "      <td>36117.104550</td>\n",
       "      <td>2.190641</td>\n",
       "    </tr>\n",
       "    <tr>\n",
       "      <th>10</th>\n",
       "      <td>2024</td>\n",
       "      <td>12716</td>\n",
       "      <td>36200.688533</td>\n",
       "      <td>2.846861</td>\n",
       "    </tr>\n",
       "  </tbody>\n",
       "</table>\n",
       "</div>"
      ],
      "text/plain": [
       "    year  total_songs  total_minutes  avg_duration_per_song\n",
       "0   2014         7026   22971.571683               3.269509\n",
       "1   2015         9665   28320.232650               2.930184\n",
       "2   2016         9025   28434.380850               3.150624\n",
       "3   2017         9336   25305.800717               2.710561\n",
       "4   2018         4316   10417.603450               2.413717\n",
       "5   2019         2943    8757.580333               2.975732\n",
       "6   2020         2774    7305.782533               2.633663\n",
       "7   2021         1216    3092.199517               2.542927\n",
       "8   2022         7492   14586.241167               1.946909\n",
       "9   2023        16487   36117.104550               2.190641\n",
       "10  2024        12716   36200.688533               2.846861"
      ]
     },
     "execution_count": 4,
     "metadata": {},
     "output_type": "execute_result"
    }
   ],
   "source": [
    "#group by years and calculate summary statistics\n",
    "yearly_summary = df_year.groupby('year').agg(\n",
    "    total_songs =('song', 'count'),\n",
    "    total_minutes=('duration_minutes', 'sum'),\n",
    "    avg_duration_per_song=('duration_minutes', 'mean')\n",
    ").reset_index()\n",
    "\n",
    "yearly_summary"
   ]
  },
  {
   "cell_type": "code",
   "execution_count": 5,
   "metadata": {},
   "outputs": [
    {
     "data": {
      "application/vnd.plotly.v1+json": {
       "config": {
        "plotlyServerURL": "https://plot.ly"
       },
       "data": [
        {
         "alignmentgroup": "True",
         "hovertemplate": "year=%{x}<br>Total Songs=%{y}<extra></extra>",
         "legendgroup": "",
         "marker": {
          "color": "#636efa",
          "pattern": {
           "shape": ""
          }
         },
         "name": "",
         "offsetgroup": "",
         "orientation": "v",
         "showlegend": false,
         "textposition": "auto",
         "type": "bar",
         "x": [
          2014,
          2015,
          2016,
          2017,
          2018,
          2019,
          2020,
          2021,
          2022,
          2023,
          2024
         ],
         "xaxis": "x",
         "y": [
          7026,
          9665,
          9025,
          9336,
          4316,
          2943,
          2774,
          1216,
          7492,
          16487,
          12716
         ],
         "yaxis": "y"
        }
       ],
       "layout": {
        "barmode": "relative",
        "legend": {
         "tracegroupgap": 0
        },
        "template": {
         "data": {
          "bar": [
           {
            "error_x": {
             "color": "#2a3f5f"
            },
            "error_y": {
             "color": "#2a3f5f"
            },
            "marker": {
             "line": {
              "color": "#E5ECF6",
              "width": 0.5
             },
             "pattern": {
              "fillmode": "overlay",
              "size": 10,
              "solidity": 0.2
             }
            },
            "type": "bar"
           }
          ],
          "barpolar": [
           {
            "marker": {
             "line": {
              "color": "#E5ECF6",
              "width": 0.5
             },
             "pattern": {
              "fillmode": "overlay",
              "size": 10,
              "solidity": 0.2
             }
            },
            "type": "barpolar"
           }
          ],
          "carpet": [
           {
            "aaxis": {
             "endlinecolor": "#2a3f5f",
             "gridcolor": "white",
             "linecolor": "white",
             "minorgridcolor": "white",
             "startlinecolor": "#2a3f5f"
            },
            "baxis": {
             "endlinecolor": "#2a3f5f",
             "gridcolor": "white",
             "linecolor": "white",
             "minorgridcolor": "white",
             "startlinecolor": "#2a3f5f"
            },
            "type": "carpet"
           }
          ],
          "choropleth": [
           {
            "colorbar": {
             "outlinewidth": 0,
             "ticks": ""
            },
            "type": "choropleth"
           }
          ],
          "contour": [
           {
            "colorbar": {
             "outlinewidth": 0,
             "ticks": ""
            },
            "colorscale": [
             [
              0,
              "#0d0887"
             ],
             [
              0.1111111111111111,
              "#46039f"
             ],
             [
              0.2222222222222222,
              "#7201a8"
             ],
             [
              0.3333333333333333,
              "#9c179e"
             ],
             [
              0.4444444444444444,
              "#bd3786"
             ],
             [
              0.5555555555555556,
              "#d8576b"
             ],
             [
              0.6666666666666666,
              "#ed7953"
             ],
             [
              0.7777777777777778,
              "#fb9f3a"
             ],
             [
              0.8888888888888888,
              "#fdca26"
             ],
             [
              1,
              "#f0f921"
             ]
            ],
            "type": "contour"
           }
          ],
          "contourcarpet": [
           {
            "colorbar": {
             "outlinewidth": 0,
             "ticks": ""
            },
            "type": "contourcarpet"
           }
          ],
          "heatmap": [
           {
            "colorbar": {
             "outlinewidth": 0,
             "ticks": ""
            },
            "colorscale": [
             [
              0,
              "#0d0887"
             ],
             [
              0.1111111111111111,
              "#46039f"
             ],
             [
              0.2222222222222222,
              "#7201a8"
             ],
             [
              0.3333333333333333,
              "#9c179e"
             ],
             [
              0.4444444444444444,
              "#bd3786"
             ],
             [
              0.5555555555555556,
              "#d8576b"
             ],
             [
              0.6666666666666666,
              "#ed7953"
             ],
             [
              0.7777777777777778,
              "#fb9f3a"
             ],
             [
              0.8888888888888888,
              "#fdca26"
             ],
             [
              1,
              "#f0f921"
             ]
            ],
            "type": "heatmap"
           }
          ],
          "heatmapgl": [
           {
            "colorbar": {
             "outlinewidth": 0,
             "ticks": ""
            },
            "colorscale": [
             [
              0,
              "#0d0887"
             ],
             [
              0.1111111111111111,
              "#46039f"
             ],
             [
              0.2222222222222222,
              "#7201a8"
             ],
             [
              0.3333333333333333,
              "#9c179e"
             ],
             [
              0.4444444444444444,
              "#bd3786"
             ],
             [
              0.5555555555555556,
              "#d8576b"
             ],
             [
              0.6666666666666666,
              "#ed7953"
             ],
             [
              0.7777777777777778,
              "#fb9f3a"
             ],
             [
              0.8888888888888888,
              "#fdca26"
             ],
             [
              1,
              "#f0f921"
             ]
            ],
            "type": "heatmapgl"
           }
          ],
          "histogram": [
           {
            "marker": {
             "pattern": {
              "fillmode": "overlay",
              "size": 10,
              "solidity": 0.2
             }
            },
            "type": "histogram"
           }
          ],
          "histogram2d": [
           {
            "colorbar": {
             "outlinewidth": 0,
             "ticks": ""
            },
            "colorscale": [
             [
              0,
              "#0d0887"
             ],
             [
              0.1111111111111111,
              "#46039f"
             ],
             [
              0.2222222222222222,
              "#7201a8"
             ],
             [
              0.3333333333333333,
              "#9c179e"
             ],
             [
              0.4444444444444444,
              "#bd3786"
             ],
             [
              0.5555555555555556,
              "#d8576b"
             ],
             [
              0.6666666666666666,
              "#ed7953"
             ],
             [
              0.7777777777777778,
              "#fb9f3a"
             ],
             [
              0.8888888888888888,
              "#fdca26"
             ],
             [
              1,
              "#f0f921"
             ]
            ],
            "type": "histogram2d"
           }
          ],
          "histogram2dcontour": [
           {
            "colorbar": {
             "outlinewidth": 0,
             "ticks": ""
            },
            "colorscale": [
             [
              0,
              "#0d0887"
             ],
             [
              0.1111111111111111,
              "#46039f"
             ],
             [
              0.2222222222222222,
              "#7201a8"
             ],
             [
              0.3333333333333333,
              "#9c179e"
             ],
             [
              0.4444444444444444,
              "#bd3786"
             ],
             [
              0.5555555555555556,
              "#d8576b"
             ],
             [
              0.6666666666666666,
              "#ed7953"
             ],
             [
              0.7777777777777778,
              "#fb9f3a"
             ],
             [
              0.8888888888888888,
              "#fdca26"
             ],
             [
              1,
              "#f0f921"
             ]
            ],
            "type": "histogram2dcontour"
           }
          ],
          "mesh3d": [
           {
            "colorbar": {
             "outlinewidth": 0,
             "ticks": ""
            },
            "type": "mesh3d"
           }
          ],
          "parcoords": [
           {
            "line": {
             "colorbar": {
              "outlinewidth": 0,
              "ticks": ""
             }
            },
            "type": "parcoords"
           }
          ],
          "pie": [
           {
            "automargin": true,
            "type": "pie"
           }
          ],
          "scatter": [
           {
            "fillpattern": {
             "fillmode": "overlay",
             "size": 10,
             "solidity": 0.2
            },
            "type": "scatter"
           }
          ],
          "scatter3d": [
           {
            "line": {
             "colorbar": {
              "outlinewidth": 0,
              "ticks": ""
             }
            },
            "marker": {
             "colorbar": {
              "outlinewidth": 0,
              "ticks": ""
             }
            },
            "type": "scatter3d"
           }
          ],
          "scattercarpet": [
           {
            "marker": {
             "colorbar": {
              "outlinewidth": 0,
              "ticks": ""
             }
            },
            "type": "scattercarpet"
           }
          ],
          "scattergeo": [
           {
            "marker": {
             "colorbar": {
              "outlinewidth": 0,
              "ticks": ""
             }
            },
            "type": "scattergeo"
           }
          ],
          "scattergl": [
           {
            "marker": {
             "colorbar": {
              "outlinewidth": 0,
              "ticks": ""
             }
            },
            "type": "scattergl"
           }
          ],
          "scattermapbox": [
           {
            "marker": {
             "colorbar": {
              "outlinewidth": 0,
              "ticks": ""
             }
            },
            "type": "scattermapbox"
           }
          ],
          "scatterpolar": [
           {
            "marker": {
             "colorbar": {
              "outlinewidth": 0,
              "ticks": ""
             }
            },
            "type": "scatterpolar"
           }
          ],
          "scatterpolargl": [
           {
            "marker": {
             "colorbar": {
              "outlinewidth": 0,
              "ticks": ""
             }
            },
            "type": "scatterpolargl"
           }
          ],
          "scatterternary": [
           {
            "marker": {
             "colorbar": {
              "outlinewidth": 0,
              "ticks": ""
             }
            },
            "type": "scatterternary"
           }
          ],
          "surface": [
           {
            "colorbar": {
             "outlinewidth": 0,
             "ticks": ""
            },
            "colorscale": [
             [
              0,
              "#0d0887"
             ],
             [
              0.1111111111111111,
              "#46039f"
             ],
             [
              0.2222222222222222,
              "#7201a8"
             ],
             [
              0.3333333333333333,
              "#9c179e"
             ],
             [
              0.4444444444444444,
              "#bd3786"
             ],
             [
              0.5555555555555556,
              "#d8576b"
             ],
             [
              0.6666666666666666,
              "#ed7953"
             ],
             [
              0.7777777777777778,
              "#fb9f3a"
             ],
             [
              0.8888888888888888,
              "#fdca26"
             ],
             [
              1,
              "#f0f921"
             ]
            ],
            "type": "surface"
           }
          ],
          "table": [
           {
            "cells": {
             "fill": {
              "color": "#EBF0F8"
             },
             "line": {
              "color": "white"
             }
            },
            "header": {
             "fill": {
              "color": "#C8D4E3"
             },
             "line": {
              "color": "white"
             }
            },
            "type": "table"
           }
          ]
         },
         "layout": {
          "annotationdefaults": {
           "arrowcolor": "#2a3f5f",
           "arrowhead": 0,
           "arrowwidth": 1
          },
          "autotypenumbers": "strict",
          "coloraxis": {
           "colorbar": {
            "outlinewidth": 0,
            "ticks": ""
           }
          },
          "colorscale": {
           "diverging": [
            [
             0,
             "#8e0152"
            ],
            [
             0.1,
             "#c51b7d"
            ],
            [
             0.2,
             "#de77ae"
            ],
            [
             0.3,
             "#f1b6da"
            ],
            [
             0.4,
             "#fde0ef"
            ],
            [
             0.5,
             "#f7f7f7"
            ],
            [
             0.6,
             "#e6f5d0"
            ],
            [
             0.7,
             "#b8e186"
            ],
            [
             0.8,
             "#7fbc41"
            ],
            [
             0.9,
             "#4d9221"
            ],
            [
             1,
             "#276419"
            ]
           ],
           "sequential": [
            [
             0,
             "#0d0887"
            ],
            [
             0.1111111111111111,
             "#46039f"
            ],
            [
             0.2222222222222222,
             "#7201a8"
            ],
            [
             0.3333333333333333,
             "#9c179e"
            ],
            [
             0.4444444444444444,
             "#bd3786"
            ],
            [
             0.5555555555555556,
             "#d8576b"
            ],
            [
             0.6666666666666666,
             "#ed7953"
            ],
            [
             0.7777777777777778,
             "#fb9f3a"
            ],
            [
             0.8888888888888888,
             "#fdca26"
            ],
            [
             1,
             "#f0f921"
            ]
           ],
           "sequentialminus": [
            [
             0,
             "#0d0887"
            ],
            [
             0.1111111111111111,
             "#46039f"
            ],
            [
             0.2222222222222222,
             "#7201a8"
            ],
            [
             0.3333333333333333,
             "#9c179e"
            ],
            [
             0.4444444444444444,
             "#bd3786"
            ],
            [
             0.5555555555555556,
             "#d8576b"
            ],
            [
             0.6666666666666666,
             "#ed7953"
            ],
            [
             0.7777777777777778,
             "#fb9f3a"
            ],
            [
             0.8888888888888888,
             "#fdca26"
            ],
            [
             1,
             "#f0f921"
            ]
           ]
          },
          "colorway": [
           "#636efa",
           "#EF553B",
           "#00cc96",
           "#ab63fa",
           "#FFA15A",
           "#19d3f3",
           "#FF6692",
           "#B6E880",
           "#FF97FF",
           "#FECB52"
          ],
          "font": {
           "color": "#2a3f5f"
          },
          "geo": {
           "bgcolor": "white",
           "lakecolor": "white",
           "landcolor": "#E5ECF6",
           "showlakes": true,
           "showland": true,
           "subunitcolor": "white"
          },
          "hoverlabel": {
           "align": "left"
          },
          "hovermode": "closest",
          "mapbox": {
           "style": "light"
          },
          "paper_bgcolor": "white",
          "plot_bgcolor": "#E5ECF6",
          "polar": {
           "angularaxis": {
            "gridcolor": "white",
            "linecolor": "white",
            "ticks": ""
           },
           "bgcolor": "#E5ECF6",
           "radialaxis": {
            "gridcolor": "white",
            "linecolor": "white",
            "ticks": ""
           }
          },
          "scene": {
           "xaxis": {
            "backgroundcolor": "#E5ECF6",
            "gridcolor": "white",
            "gridwidth": 2,
            "linecolor": "white",
            "showbackground": true,
            "ticks": "",
            "zerolinecolor": "white"
           },
           "yaxis": {
            "backgroundcolor": "#E5ECF6",
            "gridcolor": "white",
            "gridwidth": 2,
            "linecolor": "white",
            "showbackground": true,
            "ticks": "",
            "zerolinecolor": "white"
           },
           "zaxis": {
            "backgroundcolor": "#E5ECF6",
            "gridcolor": "white",
            "gridwidth": 2,
            "linecolor": "white",
            "showbackground": true,
            "ticks": "",
            "zerolinecolor": "white"
           }
          },
          "shapedefaults": {
           "line": {
            "color": "#2a3f5f"
           }
          },
          "ternary": {
           "aaxis": {
            "gridcolor": "white",
            "linecolor": "white",
            "ticks": ""
           },
           "baxis": {
            "gridcolor": "white",
            "linecolor": "white",
            "ticks": ""
           },
           "bgcolor": "#E5ECF6",
           "caxis": {
            "gridcolor": "white",
            "linecolor": "white",
            "ticks": ""
           }
          },
          "title": {
           "x": 0.05
          },
          "xaxis": {
           "automargin": true,
           "gridcolor": "white",
           "linecolor": "white",
           "ticks": "",
           "title": {
            "standoff": 15
           },
           "zerolinecolor": "white",
           "zerolinewidth": 2
          },
          "yaxis": {
           "automargin": true,
           "gridcolor": "white",
           "linecolor": "white",
           "ticks": "",
           "title": {
            "standoff": 15
           },
           "zerolinecolor": "white",
           "zerolinewidth": 2
          }
         }
        },
        "title": {
         "text": "Total Songs Played by Year"
        },
        "xaxis": {
         "anchor": "y",
         "domain": [
          0,
          1
         ],
         "dtick": 1,
         "range": [
          2014,
          2024
         ],
         "tick0": 2014,
         "tickmode": "linear",
         "title": {
          "text": "year"
         }
        },
        "yaxis": {
         "anchor": "x",
         "domain": [
          0,
          1
         ],
         "title": {
          "text": "Number of Songs"
         }
        }
       }
      }
     },
     "metadata": {},
     "output_type": "display_data"
    }
   ],
   "source": [
    "# line plot\n",
    "import plotly.express as px\n",
    "\n",
    "# fig = px.line(\n",
    "#     yearly_summary,\n",
    "#     x='year',\n",
    "#     y='total_songs',\n",
    "#     title='Total Songs played by Year',\n",
    "#     labels={'total_songs': 'Total Songs'}\n",
    "# )\n",
    "\n",
    "# fig.update_layout(\n",
    "#     xaxis_title='year',\n",
    "#     yaxis_title='Number of Songs',\n",
    "#     xaxis=dict(\n",
    "#         tickmode='linear', \n",
    "#         tick0=2014,\n",
    "#         dtick=1,\n",
    "#         range=[2014, 2024]\n",
    "#     ))\n",
    "\n",
    "# fig.show()\n",
    "\n",
    "# bar chart\n",
    "fig = px.bar(\n",
    "    yearly_summary, \n",
    "    x='year',\n",
    "    y='total_songs',\n",
    "    title='Total Songs Played by Year',\n",
    "    labels={'total_songs': 'Total Songs'}\n",
    ")\n",
    "\n",
    "fig.update_layout(\n",
    "    xaxis_title='year',\n",
    "    yaxis_title='Number of Songs',\n",
    "    xaxis=dict(\n",
    "        tickmode='linear', \n",
    "        tick0=2014,\n",
    "        dtick=1,\n",
    "        range=[2014, 2024]\n",
    "))\n",
    "\n",
    "fig.show()"
   ]
  },
  {
   "cell_type": "code",
   "execution_count": 6,
   "metadata": {},
   "outputs": [
    {
     "data": {
      "application/vnd.plotly.v1+json": {
       "config": {
        "plotlyServerURL": "https://plot.ly"
       },
       "data": [
        {
         "hovertemplate": "year=%{x}<br>Total Duration (minutes)=%{y}<extra></extra>",
         "legendgroup": "",
         "line": {
          "color": "#636efa",
          "dash": "solid"
         },
         "marker": {
          "symbol": "circle"
         },
         "mode": "lines",
         "name": "",
         "orientation": "v",
         "showlegend": false,
         "type": "scatter",
         "x": [
          2014,
          2015,
          2016,
          2017,
          2018,
          2019,
          2020,
          2021,
          2022,
          2023,
          2024
         ],
         "xaxis": "x",
         "y": [
          22971.57168333333,
          28320.23265,
          28434.38085,
          25305.80071666667,
          10417.60345,
          8757.580333333333,
          7305.782533333333,
          3092.1995166666666,
          14586.241166666667,
          36117.10455,
          36200.688533333334
         ],
         "yaxis": "y"
        }
       ],
       "layout": {
        "legend": {
         "tracegroupgap": 0
        },
        "template": {
         "data": {
          "bar": [
           {
            "error_x": {
             "color": "#2a3f5f"
            },
            "error_y": {
             "color": "#2a3f5f"
            },
            "marker": {
             "line": {
              "color": "#E5ECF6",
              "width": 0.5
             },
             "pattern": {
              "fillmode": "overlay",
              "size": 10,
              "solidity": 0.2
             }
            },
            "type": "bar"
           }
          ],
          "barpolar": [
           {
            "marker": {
             "line": {
              "color": "#E5ECF6",
              "width": 0.5
             },
             "pattern": {
              "fillmode": "overlay",
              "size": 10,
              "solidity": 0.2
             }
            },
            "type": "barpolar"
           }
          ],
          "carpet": [
           {
            "aaxis": {
             "endlinecolor": "#2a3f5f",
             "gridcolor": "white",
             "linecolor": "white",
             "minorgridcolor": "white",
             "startlinecolor": "#2a3f5f"
            },
            "baxis": {
             "endlinecolor": "#2a3f5f",
             "gridcolor": "white",
             "linecolor": "white",
             "minorgridcolor": "white",
             "startlinecolor": "#2a3f5f"
            },
            "type": "carpet"
           }
          ],
          "choropleth": [
           {
            "colorbar": {
             "outlinewidth": 0,
             "ticks": ""
            },
            "type": "choropleth"
           }
          ],
          "contour": [
           {
            "colorbar": {
             "outlinewidth": 0,
             "ticks": ""
            },
            "colorscale": [
             [
              0,
              "#0d0887"
             ],
             [
              0.1111111111111111,
              "#46039f"
             ],
             [
              0.2222222222222222,
              "#7201a8"
             ],
             [
              0.3333333333333333,
              "#9c179e"
             ],
             [
              0.4444444444444444,
              "#bd3786"
             ],
             [
              0.5555555555555556,
              "#d8576b"
             ],
             [
              0.6666666666666666,
              "#ed7953"
             ],
             [
              0.7777777777777778,
              "#fb9f3a"
             ],
             [
              0.8888888888888888,
              "#fdca26"
             ],
             [
              1,
              "#f0f921"
             ]
            ],
            "type": "contour"
           }
          ],
          "contourcarpet": [
           {
            "colorbar": {
             "outlinewidth": 0,
             "ticks": ""
            },
            "type": "contourcarpet"
           }
          ],
          "heatmap": [
           {
            "colorbar": {
             "outlinewidth": 0,
             "ticks": ""
            },
            "colorscale": [
             [
              0,
              "#0d0887"
             ],
             [
              0.1111111111111111,
              "#46039f"
             ],
             [
              0.2222222222222222,
              "#7201a8"
             ],
             [
              0.3333333333333333,
              "#9c179e"
             ],
             [
              0.4444444444444444,
              "#bd3786"
             ],
             [
              0.5555555555555556,
              "#d8576b"
             ],
             [
              0.6666666666666666,
              "#ed7953"
             ],
             [
              0.7777777777777778,
              "#fb9f3a"
             ],
             [
              0.8888888888888888,
              "#fdca26"
             ],
             [
              1,
              "#f0f921"
             ]
            ],
            "type": "heatmap"
           }
          ],
          "heatmapgl": [
           {
            "colorbar": {
             "outlinewidth": 0,
             "ticks": ""
            },
            "colorscale": [
             [
              0,
              "#0d0887"
             ],
             [
              0.1111111111111111,
              "#46039f"
             ],
             [
              0.2222222222222222,
              "#7201a8"
             ],
             [
              0.3333333333333333,
              "#9c179e"
             ],
             [
              0.4444444444444444,
              "#bd3786"
             ],
             [
              0.5555555555555556,
              "#d8576b"
             ],
             [
              0.6666666666666666,
              "#ed7953"
             ],
             [
              0.7777777777777778,
              "#fb9f3a"
             ],
             [
              0.8888888888888888,
              "#fdca26"
             ],
             [
              1,
              "#f0f921"
             ]
            ],
            "type": "heatmapgl"
           }
          ],
          "histogram": [
           {
            "marker": {
             "pattern": {
              "fillmode": "overlay",
              "size": 10,
              "solidity": 0.2
             }
            },
            "type": "histogram"
           }
          ],
          "histogram2d": [
           {
            "colorbar": {
             "outlinewidth": 0,
             "ticks": ""
            },
            "colorscale": [
             [
              0,
              "#0d0887"
             ],
             [
              0.1111111111111111,
              "#46039f"
             ],
             [
              0.2222222222222222,
              "#7201a8"
             ],
             [
              0.3333333333333333,
              "#9c179e"
             ],
             [
              0.4444444444444444,
              "#bd3786"
             ],
             [
              0.5555555555555556,
              "#d8576b"
             ],
             [
              0.6666666666666666,
              "#ed7953"
             ],
             [
              0.7777777777777778,
              "#fb9f3a"
             ],
             [
              0.8888888888888888,
              "#fdca26"
             ],
             [
              1,
              "#f0f921"
             ]
            ],
            "type": "histogram2d"
           }
          ],
          "histogram2dcontour": [
           {
            "colorbar": {
             "outlinewidth": 0,
             "ticks": ""
            },
            "colorscale": [
             [
              0,
              "#0d0887"
             ],
             [
              0.1111111111111111,
              "#46039f"
             ],
             [
              0.2222222222222222,
              "#7201a8"
             ],
             [
              0.3333333333333333,
              "#9c179e"
             ],
             [
              0.4444444444444444,
              "#bd3786"
             ],
             [
              0.5555555555555556,
              "#d8576b"
             ],
             [
              0.6666666666666666,
              "#ed7953"
             ],
             [
              0.7777777777777778,
              "#fb9f3a"
             ],
             [
              0.8888888888888888,
              "#fdca26"
             ],
             [
              1,
              "#f0f921"
             ]
            ],
            "type": "histogram2dcontour"
           }
          ],
          "mesh3d": [
           {
            "colorbar": {
             "outlinewidth": 0,
             "ticks": ""
            },
            "type": "mesh3d"
           }
          ],
          "parcoords": [
           {
            "line": {
             "colorbar": {
              "outlinewidth": 0,
              "ticks": ""
             }
            },
            "type": "parcoords"
           }
          ],
          "pie": [
           {
            "automargin": true,
            "type": "pie"
           }
          ],
          "scatter": [
           {
            "fillpattern": {
             "fillmode": "overlay",
             "size": 10,
             "solidity": 0.2
            },
            "type": "scatter"
           }
          ],
          "scatter3d": [
           {
            "line": {
             "colorbar": {
              "outlinewidth": 0,
              "ticks": ""
             }
            },
            "marker": {
             "colorbar": {
              "outlinewidth": 0,
              "ticks": ""
             }
            },
            "type": "scatter3d"
           }
          ],
          "scattercarpet": [
           {
            "marker": {
             "colorbar": {
              "outlinewidth": 0,
              "ticks": ""
             }
            },
            "type": "scattercarpet"
           }
          ],
          "scattergeo": [
           {
            "marker": {
             "colorbar": {
              "outlinewidth": 0,
              "ticks": ""
             }
            },
            "type": "scattergeo"
           }
          ],
          "scattergl": [
           {
            "marker": {
             "colorbar": {
              "outlinewidth": 0,
              "ticks": ""
             }
            },
            "type": "scattergl"
           }
          ],
          "scattermapbox": [
           {
            "marker": {
             "colorbar": {
              "outlinewidth": 0,
              "ticks": ""
             }
            },
            "type": "scattermapbox"
           }
          ],
          "scatterpolar": [
           {
            "marker": {
             "colorbar": {
              "outlinewidth": 0,
              "ticks": ""
             }
            },
            "type": "scatterpolar"
           }
          ],
          "scatterpolargl": [
           {
            "marker": {
             "colorbar": {
              "outlinewidth": 0,
              "ticks": ""
             }
            },
            "type": "scatterpolargl"
           }
          ],
          "scatterternary": [
           {
            "marker": {
             "colorbar": {
              "outlinewidth": 0,
              "ticks": ""
             }
            },
            "type": "scatterternary"
           }
          ],
          "surface": [
           {
            "colorbar": {
             "outlinewidth": 0,
             "ticks": ""
            },
            "colorscale": [
             [
              0,
              "#0d0887"
             ],
             [
              0.1111111111111111,
              "#46039f"
             ],
             [
              0.2222222222222222,
              "#7201a8"
             ],
             [
              0.3333333333333333,
              "#9c179e"
             ],
             [
              0.4444444444444444,
              "#bd3786"
             ],
             [
              0.5555555555555556,
              "#d8576b"
             ],
             [
              0.6666666666666666,
              "#ed7953"
             ],
             [
              0.7777777777777778,
              "#fb9f3a"
             ],
             [
              0.8888888888888888,
              "#fdca26"
             ],
             [
              1,
              "#f0f921"
             ]
            ],
            "type": "surface"
           }
          ],
          "table": [
           {
            "cells": {
             "fill": {
              "color": "#EBF0F8"
             },
             "line": {
              "color": "white"
             }
            },
            "header": {
             "fill": {
              "color": "#C8D4E3"
             },
             "line": {
              "color": "white"
             }
            },
            "type": "table"
           }
          ]
         },
         "layout": {
          "annotationdefaults": {
           "arrowcolor": "#2a3f5f",
           "arrowhead": 0,
           "arrowwidth": 1
          },
          "autotypenumbers": "strict",
          "coloraxis": {
           "colorbar": {
            "outlinewidth": 0,
            "ticks": ""
           }
          },
          "colorscale": {
           "diverging": [
            [
             0,
             "#8e0152"
            ],
            [
             0.1,
             "#c51b7d"
            ],
            [
             0.2,
             "#de77ae"
            ],
            [
             0.3,
             "#f1b6da"
            ],
            [
             0.4,
             "#fde0ef"
            ],
            [
             0.5,
             "#f7f7f7"
            ],
            [
             0.6,
             "#e6f5d0"
            ],
            [
             0.7,
             "#b8e186"
            ],
            [
             0.8,
             "#7fbc41"
            ],
            [
             0.9,
             "#4d9221"
            ],
            [
             1,
             "#276419"
            ]
           ],
           "sequential": [
            [
             0,
             "#0d0887"
            ],
            [
             0.1111111111111111,
             "#46039f"
            ],
            [
             0.2222222222222222,
             "#7201a8"
            ],
            [
             0.3333333333333333,
             "#9c179e"
            ],
            [
             0.4444444444444444,
             "#bd3786"
            ],
            [
             0.5555555555555556,
             "#d8576b"
            ],
            [
             0.6666666666666666,
             "#ed7953"
            ],
            [
             0.7777777777777778,
             "#fb9f3a"
            ],
            [
             0.8888888888888888,
             "#fdca26"
            ],
            [
             1,
             "#f0f921"
            ]
           ],
           "sequentialminus": [
            [
             0,
             "#0d0887"
            ],
            [
             0.1111111111111111,
             "#46039f"
            ],
            [
             0.2222222222222222,
             "#7201a8"
            ],
            [
             0.3333333333333333,
             "#9c179e"
            ],
            [
             0.4444444444444444,
             "#bd3786"
            ],
            [
             0.5555555555555556,
             "#d8576b"
            ],
            [
             0.6666666666666666,
             "#ed7953"
            ],
            [
             0.7777777777777778,
             "#fb9f3a"
            ],
            [
             0.8888888888888888,
             "#fdca26"
            ],
            [
             1,
             "#f0f921"
            ]
           ]
          },
          "colorway": [
           "#636efa",
           "#EF553B",
           "#00cc96",
           "#ab63fa",
           "#FFA15A",
           "#19d3f3",
           "#FF6692",
           "#B6E880",
           "#FF97FF",
           "#FECB52"
          ],
          "font": {
           "color": "#2a3f5f"
          },
          "geo": {
           "bgcolor": "white",
           "lakecolor": "white",
           "landcolor": "#E5ECF6",
           "showlakes": true,
           "showland": true,
           "subunitcolor": "white"
          },
          "hoverlabel": {
           "align": "left"
          },
          "hovermode": "closest",
          "mapbox": {
           "style": "light"
          },
          "paper_bgcolor": "white",
          "plot_bgcolor": "#E5ECF6",
          "polar": {
           "angularaxis": {
            "gridcolor": "white",
            "linecolor": "white",
            "ticks": ""
           },
           "bgcolor": "#E5ECF6",
           "radialaxis": {
            "gridcolor": "white",
            "linecolor": "white",
            "ticks": ""
           }
          },
          "scene": {
           "xaxis": {
            "backgroundcolor": "#E5ECF6",
            "gridcolor": "white",
            "gridwidth": 2,
            "linecolor": "white",
            "showbackground": true,
            "ticks": "",
            "zerolinecolor": "white"
           },
           "yaxis": {
            "backgroundcolor": "#E5ECF6",
            "gridcolor": "white",
            "gridwidth": 2,
            "linecolor": "white",
            "showbackground": true,
            "ticks": "",
            "zerolinecolor": "white"
           },
           "zaxis": {
            "backgroundcolor": "#E5ECF6",
            "gridcolor": "white",
            "gridwidth": 2,
            "linecolor": "white",
            "showbackground": true,
            "ticks": "",
            "zerolinecolor": "white"
           }
          },
          "shapedefaults": {
           "line": {
            "color": "#2a3f5f"
           }
          },
          "ternary": {
           "aaxis": {
            "gridcolor": "white",
            "linecolor": "white",
            "ticks": ""
           },
           "baxis": {
            "gridcolor": "white",
            "linecolor": "white",
            "ticks": ""
           },
           "bgcolor": "#E5ECF6",
           "caxis": {
            "gridcolor": "white",
            "linecolor": "white",
            "ticks": ""
           }
          },
          "title": {
           "x": 0.05
          },
          "xaxis": {
           "automargin": true,
           "gridcolor": "white",
           "linecolor": "white",
           "ticks": "",
           "title": {
            "standoff": 15
           },
           "zerolinecolor": "white",
           "zerolinewidth": 2
          },
          "yaxis": {
           "automargin": true,
           "gridcolor": "white",
           "linecolor": "white",
           "ticks": "",
           "title": {
            "standoff": 15
           },
           "zerolinecolor": "white",
           "zerolinewidth": 2
          }
         }
        },
        "title": {
         "text": "Total Duration played by Year (minutes)"
        },
        "xaxis": {
         "anchor": "y",
         "domain": [
          0,
          1
         ],
         "dtick": 1,
         "range": [
          2014,
          2024
         ],
         "tick0": 2014,
         "tickmode": "linear",
         "title": {
          "text": "Year"
         }
        },
        "yaxis": {
         "anchor": "x",
         "domain": [
          0,
          1
         ],
         "title": {
          "text": "Total Duration (Minutes)"
         }
        }
       }
      }
     },
     "metadata": {},
     "output_type": "display_data"
    }
   ],
   "source": [
    "# total duration per year\n",
    "fig = px.line(\n",
    "    yearly_summary,\n",
    "    x='year', \n",
    "    y='total_minutes',\n",
    "    title='Total Duration played by Year (minutes)',\n",
    "    labels={'total_minutes': 'Total Duration (minutes)'}\n",
    ")\n",
    "\n",
    "fig.update_layout(\n",
    "    xaxis_title='Year', yaxis_title='Total Duration (Minutes)',\n",
    "    xaxis=dict(\n",
    "        tickmode='linear', \n",
    "        tick0=2014,\n",
    "        dtick=1,\n",
    "        range=[2014, 2024]\n",
    "))\n",
    "\n",
    "fig.show()"
   ]
  },
  {
   "cell_type": "code",
   "execution_count": 7,
   "metadata": {},
   "outputs": [
    {
     "data": {
      "application/vnd.plotly.v1+json": {
       "config": {
        "plotlyServerURL": "https://plot.ly"
       },
       "data": [
        {
         "marker": {
          "color": "pink"
         },
         "name": "Total Songs",
         "type": "bar",
         "x": [
          2014,
          2015,
          2016,
          2017,
          2018,
          2019,
          2020,
          2021,
          2022,
          2023,
          2024
         ],
         "xaxis": "x",
         "y": [
          7026,
          9665,
          9025,
          9336,
          4316,
          2943,
          2774,
          1216,
          7492,
          16487,
          12716
         ],
         "yaxis": "y"
        },
        {
         "mode": "lines",
         "name": "Total Duration (minutes)",
         "type": "scatter",
         "x": [
          2014,
          2015,
          2016,
          2017,
          2018,
          2019,
          2020,
          2021,
          2022,
          2023,
          2024
         ],
         "xaxis": "x2",
         "y": [
          22971.57168333333,
          28320.23265,
          28434.38085,
          25305.80071666667,
          10417.60345,
          8757.580333333333,
          7305.782533333333,
          3092.1995166666666,
          14586.241166666667,
          36117.10455,
          36200.688533333334
         ],
         "yaxis": "y2"
        }
       ],
       "layout": {
        "annotations": [
         {
          "font": {
           "size": 16
          },
          "showarrow": false,
          "text": "Total Songs Played by Year",
          "x": 0.5,
          "xanchor": "center",
          "xref": "paper",
          "y": 1,
          "yanchor": "bottom",
          "yref": "paper"
         },
         {
          "font": {
           "size": 16
          },
          "showarrow": false,
          "text": "Total Duration Played by Year (minutes)",
          "x": 0.5,
          "xanchor": "center",
          "xref": "paper",
          "y": 0.375,
          "yanchor": "bottom",
          "yref": "paper"
         }
        ],
        "paper_bgcolor": "rgb(30,30,30)",
        "plot_bgcolor": "rgb(30,30,30)",
        "showlegend": false,
        "template": {
         "data": {
          "bar": [
           {
            "error_x": {
             "color": "#f2f5fa"
            },
            "error_y": {
             "color": "#f2f5fa"
            },
            "marker": {
             "line": {
              "color": "rgb(17,17,17)",
              "width": 0.5
             },
             "pattern": {
              "fillmode": "overlay",
              "size": 10,
              "solidity": 0.2
             }
            },
            "type": "bar"
           }
          ],
          "barpolar": [
           {
            "marker": {
             "line": {
              "color": "rgb(17,17,17)",
              "width": 0.5
             },
             "pattern": {
              "fillmode": "overlay",
              "size": 10,
              "solidity": 0.2
             }
            },
            "type": "barpolar"
           }
          ],
          "carpet": [
           {
            "aaxis": {
             "endlinecolor": "#A2B1C6",
             "gridcolor": "#506784",
             "linecolor": "#506784",
             "minorgridcolor": "#506784",
             "startlinecolor": "#A2B1C6"
            },
            "baxis": {
             "endlinecolor": "#A2B1C6",
             "gridcolor": "#506784",
             "linecolor": "#506784",
             "minorgridcolor": "#506784",
             "startlinecolor": "#A2B1C6"
            },
            "type": "carpet"
           }
          ],
          "choropleth": [
           {
            "colorbar": {
             "outlinewidth": 0,
             "ticks": ""
            },
            "type": "choropleth"
           }
          ],
          "contour": [
           {
            "colorbar": {
             "outlinewidth": 0,
             "ticks": ""
            },
            "colorscale": [
             [
              0,
              "#0d0887"
             ],
             [
              0.1111111111111111,
              "#46039f"
             ],
             [
              0.2222222222222222,
              "#7201a8"
             ],
             [
              0.3333333333333333,
              "#9c179e"
             ],
             [
              0.4444444444444444,
              "#bd3786"
             ],
             [
              0.5555555555555556,
              "#d8576b"
             ],
             [
              0.6666666666666666,
              "#ed7953"
             ],
             [
              0.7777777777777778,
              "#fb9f3a"
             ],
             [
              0.8888888888888888,
              "#fdca26"
             ],
             [
              1,
              "#f0f921"
             ]
            ],
            "type": "contour"
           }
          ],
          "contourcarpet": [
           {
            "colorbar": {
             "outlinewidth": 0,
             "ticks": ""
            },
            "type": "contourcarpet"
           }
          ],
          "heatmap": [
           {
            "colorbar": {
             "outlinewidth": 0,
             "ticks": ""
            },
            "colorscale": [
             [
              0,
              "#0d0887"
             ],
             [
              0.1111111111111111,
              "#46039f"
             ],
             [
              0.2222222222222222,
              "#7201a8"
             ],
             [
              0.3333333333333333,
              "#9c179e"
             ],
             [
              0.4444444444444444,
              "#bd3786"
             ],
             [
              0.5555555555555556,
              "#d8576b"
             ],
             [
              0.6666666666666666,
              "#ed7953"
             ],
             [
              0.7777777777777778,
              "#fb9f3a"
             ],
             [
              0.8888888888888888,
              "#fdca26"
             ],
             [
              1,
              "#f0f921"
             ]
            ],
            "type": "heatmap"
           }
          ],
          "heatmapgl": [
           {
            "colorbar": {
             "outlinewidth": 0,
             "ticks": ""
            },
            "colorscale": [
             [
              0,
              "#0d0887"
             ],
             [
              0.1111111111111111,
              "#46039f"
             ],
             [
              0.2222222222222222,
              "#7201a8"
             ],
             [
              0.3333333333333333,
              "#9c179e"
             ],
             [
              0.4444444444444444,
              "#bd3786"
             ],
             [
              0.5555555555555556,
              "#d8576b"
             ],
             [
              0.6666666666666666,
              "#ed7953"
             ],
             [
              0.7777777777777778,
              "#fb9f3a"
             ],
             [
              0.8888888888888888,
              "#fdca26"
             ],
             [
              1,
              "#f0f921"
             ]
            ],
            "type": "heatmapgl"
           }
          ],
          "histogram": [
           {
            "marker": {
             "pattern": {
              "fillmode": "overlay",
              "size": 10,
              "solidity": 0.2
             }
            },
            "type": "histogram"
           }
          ],
          "histogram2d": [
           {
            "colorbar": {
             "outlinewidth": 0,
             "ticks": ""
            },
            "colorscale": [
             [
              0,
              "#0d0887"
             ],
             [
              0.1111111111111111,
              "#46039f"
             ],
             [
              0.2222222222222222,
              "#7201a8"
             ],
             [
              0.3333333333333333,
              "#9c179e"
             ],
             [
              0.4444444444444444,
              "#bd3786"
             ],
             [
              0.5555555555555556,
              "#d8576b"
             ],
             [
              0.6666666666666666,
              "#ed7953"
             ],
             [
              0.7777777777777778,
              "#fb9f3a"
             ],
             [
              0.8888888888888888,
              "#fdca26"
             ],
             [
              1,
              "#f0f921"
             ]
            ],
            "type": "histogram2d"
           }
          ],
          "histogram2dcontour": [
           {
            "colorbar": {
             "outlinewidth": 0,
             "ticks": ""
            },
            "colorscale": [
             [
              0,
              "#0d0887"
             ],
             [
              0.1111111111111111,
              "#46039f"
             ],
             [
              0.2222222222222222,
              "#7201a8"
             ],
             [
              0.3333333333333333,
              "#9c179e"
             ],
             [
              0.4444444444444444,
              "#bd3786"
             ],
             [
              0.5555555555555556,
              "#d8576b"
             ],
             [
              0.6666666666666666,
              "#ed7953"
             ],
             [
              0.7777777777777778,
              "#fb9f3a"
             ],
             [
              0.8888888888888888,
              "#fdca26"
             ],
             [
              1,
              "#f0f921"
             ]
            ],
            "type": "histogram2dcontour"
           }
          ],
          "mesh3d": [
           {
            "colorbar": {
             "outlinewidth": 0,
             "ticks": ""
            },
            "type": "mesh3d"
           }
          ],
          "parcoords": [
           {
            "line": {
             "colorbar": {
              "outlinewidth": 0,
              "ticks": ""
             }
            },
            "type": "parcoords"
           }
          ],
          "pie": [
           {
            "automargin": true,
            "type": "pie"
           }
          ],
          "scatter": [
           {
            "marker": {
             "line": {
              "color": "#283442"
             }
            },
            "type": "scatter"
           }
          ],
          "scatter3d": [
           {
            "line": {
             "colorbar": {
              "outlinewidth": 0,
              "ticks": ""
             }
            },
            "marker": {
             "colorbar": {
              "outlinewidth": 0,
              "ticks": ""
             }
            },
            "type": "scatter3d"
           }
          ],
          "scattercarpet": [
           {
            "marker": {
             "colorbar": {
              "outlinewidth": 0,
              "ticks": ""
             }
            },
            "type": "scattercarpet"
           }
          ],
          "scattergeo": [
           {
            "marker": {
             "colorbar": {
              "outlinewidth": 0,
              "ticks": ""
             }
            },
            "type": "scattergeo"
           }
          ],
          "scattergl": [
           {
            "marker": {
             "line": {
              "color": "#283442"
             }
            },
            "type": "scattergl"
           }
          ],
          "scattermapbox": [
           {
            "marker": {
             "colorbar": {
              "outlinewidth": 0,
              "ticks": ""
             }
            },
            "type": "scattermapbox"
           }
          ],
          "scatterpolar": [
           {
            "marker": {
             "colorbar": {
              "outlinewidth": 0,
              "ticks": ""
             }
            },
            "type": "scatterpolar"
           }
          ],
          "scatterpolargl": [
           {
            "marker": {
             "colorbar": {
              "outlinewidth": 0,
              "ticks": ""
             }
            },
            "type": "scatterpolargl"
           }
          ],
          "scatterternary": [
           {
            "marker": {
             "colorbar": {
              "outlinewidth": 0,
              "ticks": ""
             }
            },
            "type": "scatterternary"
           }
          ],
          "surface": [
           {
            "colorbar": {
             "outlinewidth": 0,
             "ticks": ""
            },
            "colorscale": [
             [
              0,
              "#0d0887"
             ],
             [
              0.1111111111111111,
              "#46039f"
             ],
             [
              0.2222222222222222,
              "#7201a8"
             ],
             [
              0.3333333333333333,
              "#9c179e"
             ],
             [
              0.4444444444444444,
              "#bd3786"
             ],
             [
              0.5555555555555556,
              "#d8576b"
             ],
             [
              0.6666666666666666,
              "#ed7953"
             ],
             [
              0.7777777777777778,
              "#fb9f3a"
             ],
             [
              0.8888888888888888,
              "#fdca26"
             ],
             [
              1,
              "#f0f921"
             ]
            ],
            "type": "surface"
           }
          ],
          "table": [
           {
            "cells": {
             "fill": {
              "color": "#506784"
             },
             "line": {
              "color": "rgb(17,17,17)"
             }
            },
            "header": {
             "fill": {
              "color": "#2a3f5f"
             },
             "line": {
              "color": "rgb(17,17,17)"
             }
            },
            "type": "table"
           }
          ]
         },
         "layout": {
          "annotationdefaults": {
           "arrowcolor": "#f2f5fa",
           "arrowhead": 0,
           "arrowwidth": 1
          },
          "autotypenumbers": "strict",
          "coloraxis": {
           "colorbar": {
            "outlinewidth": 0,
            "ticks": ""
           }
          },
          "colorscale": {
           "diverging": [
            [
             0,
             "#8e0152"
            ],
            [
             0.1,
             "#c51b7d"
            ],
            [
             0.2,
             "#de77ae"
            ],
            [
             0.3,
             "#f1b6da"
            ],
            [
             0.4,
             "#fde0ef"
            ],
            [
             0.5,
             "#f7f7f7"
            ],
            [
             0.6,
             "#e6f5d0"
            ],
            [
             0.7,
             "#b8e186"
            ],
            [
             0.8,
             "#7fbc41"
            ],
            [
             0.9,
             "#4d9221"
            ],
            [
             1,
             "#276419"
            ]
           ],
           "sequential": [
            [
             0,
             "#0d0887"
            ],
            [
             0.1111111111111111,
             "#46039f"
            ],
            [
             0.2222222222222222,
             "#7201a8"
            ],
            [
             0.3333333333333333,
             "#9c179e"
            ],
            [
             0.4444444444444444,
             "#bd3786"
            ],
            [
             0.5555555555555556,
             "#d8576b"
            ],
            [
             0.6666666666666666,
             "#ed7953"
            ],
            [
             0.7777777777777778,
             "#fb9f3a"
            ],
            [
             0.8888888888888888,
             "#fdca26"
            ],
            [
             1,
             "#f0f921"
            ]
           ],
           "sequentialminus": [
            [
             0,
             "#0d0887"
            ],
            [
             0.1111111111111111,
             "#46039f"
            ],
            [
             0.2222222222222222,
             "#7201a8"
            ],
            [
             0.3333333333333333,
             "#9c179e"
            ],
            [
             0.4444444444444444,
             "#bd3786"
            ],
            [
             0.5555555555555556,
             "#d8576b"
            ],
            [
             0.6666666666666666,
             "#ed7953"
            ],
            [
             0.7777777777777778,
             "#fb9f3a"
            ],
            [
             0.8888888888888888,
             "#fdca26"
            ],
            [
             1,
             "#f0f921"
            ]
           ]
          },
          "colorway": [
           "#636efa",
           "#EF553B",
           "#00cc96",
           "#ab63fa",
           "#FFA15A",
           "#19d3f3",
           "#FF6692",
           "#B6E880",
           "#FF97FF",
           "#FECB52"
          ],
          "font": {
           "color": "#f2f5fa"
          },
          "geo": {
           "bgcolor": "rgb(17,17,17)",
           "lakecolor": "rgb(17,17,17)",
           "landcolor": "rgb(17,17,17)",
           "showlakes": true,
           "showland": true,
           "subunitcolor": "#506784"
          },
          "hoverlabel": {
           "align": "left"
          },
          "hovermode": "closest",
          "mapbox": {
           "style": "dark"
          },
          "paper_bgcolor": "rgb(17,17,17)",
          "plot_bgcolor": "rgb(17,17,17)",
          "polar": {
           "angularaxis": {
            "gridcolor": "#506784",
            "linecolor": "#506784",
            "ticks": ""
           },
           "bgcolor": "rgb(17,17,17)",
           "radialaxis": {
            "gridcolor": "#506784",
            "linecolor": "#506784",
            "ticks": ""
           }
          },
          "scene": {
           "xaxis": {
            "backgroundcolor": "rgb(17,17,17)",
            "gridcolor": "#506784",
            "gridwidth": 2,
            "linecolor": "#506784",
            "showbackground": true,
            "ticks": "",
            "zerolinecolor": "#C8D4E3"
           },
           "yaxis": {
            "backgroundcolor": "rgb(17,17,17)",
            "gridcolor": "#506784",
            "gridwidth": 2,
            "linecolor": "#506784",
            "showbackground": true,
            "ticks": "",
            "zerolinecolor": "#C8D4E3"
           },
           "zaxis": {
            "backgroundcolor": "rgb(17,17,17)",
            "gridcolor": "#506784",
            "gridwidth": 2,
            "linecolor": "#506784",
            "showbackground": true,
            "ticks": "",
            "zerolinecolor": "#C8D4E3"
           }
          },
          "shapedefaults": {
           "line": {
            "color": "#f2f5fa"
           }
          },
          "sliderdefaults": {
           "bgcolor": "#C8D4E3",
           "bordercolor": "rgb(17,17,17)",
           "borderwidth": 1,
           "tickwidth": 0
          },
          "ternary": {
           "aaxis": {
            "gridcolor": "#506784",
            "linecolor": "#506784",
            "ticks": ""
           },
           "baxis": {
            "gridcolor": "#506784",
            "linecolor": "#506784",
            "ticks": ""
           },
           "bgcolor": "rgb(17,17,17)",
           "caxis": {
            "gridcolor": "#506784",
            "linecolor": "#506784",
            "ticks": ""
           }
          },
          "title": {
           "x": 0.05
          },
          "updatemenudefaults": {
           "bgcolor": "#506784",
           "borderwidth": 0
          },
          "xaxis": {
           "automargin": true,
           "gridcolor": "#283442",
           "linecolor": "#506784",
           "ticks": "",
           "title": {
            "standoff": 15
           },
           "zerolinecolor": "#283442",
           "zerolinewidth": 2
          },
          "yaxis": {
           "automargin": true,
           "gridcolor": "#283442",
           "linecolor": "#506784",
           "ticks": "",
           "title": {
            "standoff": 15
           },
           "zerolinecolor": "#283442",
           "zerolinewidth": 2
          }
         }
        },
        "title": {
         "text": "Yearly Summary of Songs and Duration"
        },
        "xaxis": {
         "anchor": "y",
         "domain": [
          0,
          1
         ],
         "dtick": 1,
         "gridcolor": "gray",
         "matches": "x2",
         "range": [
          2014,
          2024
         ],
         "showgrid": true,
         "showticklabels": false,
         "tick0": 2014,
         "tickmode": "linear",
         "title": {
          "text": "Year"
         }
        },
        "xaxis2": {
         "anchor": "y2",
         "domain": [
          0,
          1
         ],
         "title": {
          "text": "Year"
         }
        },
        "yaxis": {
         "anchor": "x",
         "domain": [
          0.625,
          1
         ],
         "gridcolor": "gray",
         "showgrid": true,
         "title": {
          "text": "Number of Songs"
         }
        },
        "yaxis2": {
         "anchor": "x2",
         "domain": [
          0,
          0.375
         ],
         "gridcolor": "gray",
         "showgrid": true,
         "title": {
          "text": "Total Duration (Minutes)"
         }
        }
       }
      }
     },
     "metadata": {},
     "output_type": "display_data"
    }
   ],
   "source": [
    "import plotly.graph_objects as go\n",
    "from plotly.subplots import make_subplots\n",
    "\n",
    "# Create subplots: two rows, one column\n",
    "fig = make_subplots(\n",
    "    rows=2, cols=1,\n",
    "    subplot_titles=('Total Songs Played by Year', 'Total Duration Played by Year (minutes)'),\n",
    "    shared_xaxes=True\n",
    ")\n",
    "\n",
    "# Bar chart for total songs\n",
    "bar_trace = go.Bar(\n",
    "    x=yearly_summary['year'],\n",
    "    y=yearly_summary['total_songs'],\n",
    "    name='Total Songs',\n",
    "    marker=dict(color='pink')\n",
    ")\n",
    "\n",
    "# Line chart for total duration\n",
    "line_trace = go.Scatter(\n",
    "    x=yearly_summary['year'],\n",
    "    y=yearly_summary['total_minutes'],\n",
    "    mode='lines',\n",
    "    name='Total Duration (minutes)'\n",
    ")\n",
    "\n",
    "# Add traces to the subplots\n",
    "fig.add_trace(bar_trace, row=1, col=1)\n",
    "fig.add_trace(line_trace, row=2, col=1)\n",
    "\n",
    "# Update layout for the combined figure\n",
    "fig.update_layout(\n",
    "    title_text='Yearly Summary of Songs and Duration',\n",
    "    xaxis_title='Year',\n",
    "    yaxis_title='Total Songs',\n",
    "    xaxis2_title='Year',\n",
    "    yaxis2_title='Total Duration (Minutes)',\n",
    "    xaxis=dict(\n",
    "        tickmode='linear', \n",
    "        tick0=2014,\n",
    "        dtick=1,\n",
    "        range=[2014, 2024],\n",
    "        showgrid=True,\n",
    "        gridcolor='gray'\n",
    "    ),\n",
    "    yaxis=dict(\n",
    "        title='Number of Songs',\n",
    "        showgrid=True,\n",
    "        gridcolor='gray'\n",
    "    ),\n",
    "    yaxis2=dict(\n",
    "        title='Total Duration (Minutes)',\n",
    "        showgrid=True,\n",
    "        gridcolor='gray'\n",
    "    ),\n",
    "    plot_bgcolor='rgb(30,30,30)',\n",
    "    paper_bgcolor='rgb(30,30,30)',\n",
    "    template='plotly_dark',\n",
    "    showlegend=False\n",
    ")\n",
    "\n",
    "fig.write_html(\"./charts/section2-duration.html\")\n",
    "\n",
    "fig.show()\n"
   ]
  },
  {
   "cell_type": "code",
   "execution_count": 8,
   "metadata": {},
   "outputs": [
    {
     "data": {
      "text/html": [
       "<div>\n",
       "<style scoped>\n",
       "    .dataframe tbody tr th:only-of-type {\n",
       "        vertical-align: middle;\n",
       "    }\n",
       "\n",
       "    .dataframe tbody tr th {\n",
       "        vertical-align: top;\n",
       "    }\n",
       "\n",
       "    .dataframe thead th {\n",
       "        text-align: right;\n",
       "    }\n",
       "</style>\n",
       "<table border=\"1\" class=\"dataframe\">\n",
       "  <thead>\n",
       "    <tr style=\"text-align: right;\">\n",
       "      <th></th>\n",
       "      <th>year</th>\n",
       "      <th>artist</th>\n",
       "      <th>song_count</th>\n",
       "    </tr>\n",
       "  </thead>\n",
       "  <tbody>\n",
       "    <tr>\n",
       "      <th>0</th>\n",
       "      <td>2014</td>\n",
       "      <td>Yuna</td>\n",
       "      <td>860</td>\n",
       "    </tr>\n",
       "    <tr>\n",
       "      <th>1</th>\n",
       "      <td>2014</td>\n",
       "      <td>Beyoncé</td>\n",
       "      <td>673</td>\n",
       "    </tr>\n",
       "    <tr>\n",
       "      <th>2</th>\n",
       "      <td>2014</td>\n",
       "      <td>Ed Sheeran</td>\n",
       "      <td>553</td>\n",
       "    </tr>\n",
       "    <tr>\n",
       "      <th>3</th>\n",
       "      <td>2014</td>\n",
       "      <td>Norah Jones</td>\n",
       "      <td>274</td>\n",
       "    </tr>\n",
       "    <tr>\n",
       "      <th>4</th>\n",
       "      <td>2014</td>\n",
       "      <td>Destiny's Child</td>\n",
       "      <td>248</td>\n",
       "    </tr>\n",
       "  </tbody>\n",
       "</table>\n",
       "</div>"
      ],
      "text/plain": [
       "   year           artist  song_count\n",
       "0  2014             Yuna         860\n",
       "1  2014          Beyoncé         673\n",
       "2  2014       Ed Sheeran         553\n",
       "3  2014      Norah Jones         274\n",
       "4  2014  Destiny's Child         248"
      ]
     },
     "execution_count": 8,
     "metadata": {},
     "output_type": "execute_result"
    }
   ],
   "source": [
    "# top 15 artist per year\n",
    "top_artist_per_year = df_year.groupby(['year', 'artist']).size().reset_index(name='song_count')\n",
    "top_artist_per_year = top_artist_per_year.sort_values(['year', 'song_count'], ascending=[True, False])\n",
    "\n",
    "top_artist_per_year = top_artist_per_year.groupby('year').head(15).reset_index(drop=True)\n",
    "\n",
    "top_artist_per_year.head()"
   ]
  },
  {
   "cell_type": "markdown",
   "metadata": {},
   "source": [
    "**Extract and Store the top15 artist for each year in csv file**"
   ]
  },
  {
   "cell_type": "code",
   "execution_count": 9,
   "metadata": {},
   "outputs": [],
   "source": [
    "years = range(2014, 2025)\n",
    "\n",
    "filtered_artist_DF = []\n",
    "\n",
    "for year in years:\n",
    "    filtered_artist = top_artist_per_year[top_artist_per_year['year'] == year]    \n",
    "    filtered_artist_DF.append(filtered_artist)\n",
    "    \n",
    "combined_artist_year = pd.concat(filtered_artist_DF)\n",
    "\n",
    "# combined_artist_year.to_csv('top_artist_2014_2024.csv', index=False)"
   ]
  },
  {
   "cell_type": "code",
   "execution_count": 10,
   "metadata": {},
   "outputs": [],
   "source": [
    "# fig = px.bar(\n",
    "#     top_artist_per_year, \n",
    "#     x='artist', y='song_count', color='year',\n",
    "#     title = 'Top 15 artist per Year (2014 - 2024)', \n",
    "#     facet_col='year', \n",
    "#     labels={'song_count': 'Number of Songs Played'}\n",
    "# )\n",
    "\n",
    "# fig.update_layout(xaxis_title='Artist', yaxis_title='Number of Songs Played')\n",
    "    \n",
    "# fig.show()\n"
   ]
  },
  {
   "cell_type": "code",
   "execution_count": 11,
   "metadata": {},
   "outputs": [],
   "source": [
    "# import dash \n",
    "# from dash import dcc, html\n",
    "# import plotly.express as px\n",
    "# import pandas as pd\n",
    "\n",
    "# #create plotly figure\n",
    "# def create_figure_artist(year):\n",
    "#     filtered_df = top_artist_per_year[top_artist_per_year['year'] == year]\n",
    "#     fig = px.bar(\n",
    "#         filtered_df,\n",
    "#         x='song_count', y='artist',\n",
    "#         orientation='h',\n",
    "#         title= f'Top Artist for {year}',\n",
    "#         color='artist',\n",
    "#         labels={'song_count': 'song count'}\n",
    "#     )\n",
    "    \n",
    "#     fig.update_layout(\n",
    "#         xaxis_title='Song Count', yaxis_title='Artist', showlegend=False,\n",
    "#         title={\n",
    "#             'text': f'Top Artist for {year}', \n",
    "#             'x': 0.5,\n",
    "#             'xanchor':'center', \n",
    "#             'font': {\n",
    "#                 'size': 30, \n",
    "#                 'weight': 'bold',\n",
    "#                 'color': 'pink'\n",
    "#             }},\n",
    "#             plot_bgcolor='rgb(30, 30, 30)', \n",
    "#             paper_bgcolor='rgb(30, 30, 30)',\n",
    "#             font={'color': 'white'},\n",
    "#             xaxis=dict(\n",
    "#                 tickfont={'color': 'white'},\n",
    "#             ),\n",
    "#             yaxis=dict(\n",
    "#                 tickfont={'color': 'white'},\n",
    "#             ),\n",
    "#         )\n",
    "    \n",
    "#     return fig\n",
    "\n",
    "# #initialize dash app\n",
    "# app = dash.Dash(__name__)\n",
    "\n",
    "# app.layout = html.Div([\n",
    "#     #outer container that holds both te dropdown and the chart\n",
    "#     html.Div([\n",
    "#         html.Div([\n",
    "#             html.Label('Select Year', style={'color': 'pink', 'fontSize': 18, 'textAlign': 'center'}),  # Label for dropdown\n",
    "#             dcc.Dropdown(\n",
    "#                 id='year-dropdown',\n",
    "#                 options=[{'label': year, 'value': year} for year in top_artist_per_year['year'].unique()], \n",
    "#                 value=2014,\n",
    "#                 style={'backgroundColor': 'white', 'color': 'black', 'width': '150px'},  \n",
    "#                 clearable=False\n",
    "#             ),\n",
    "#         ], style={'display': 'flex', 'justifyContent': 'center', 'alignItems': 'center', 'flexDirection':'column', 'marginBottom': '20px'}),\n",
    "        \n",
    "#         #chart container\n",
    "#         dcc.Graph(id='bar-chart')\n",
    "#     ], style={'width': '100%', 'display': 'flex', 'flexDirection':'column', 'alignItems': 'center'})    \n",
    "# ])\n",
    "\n",
    "# @app.callback(\n",
    "#     dash.Output('bar-chart', 'figure'),\n",
    "#     [dash.Input('year-dropdown', 'value')]\n",
    "# )\n",
    "\n",
    "# def update_chart_artist (selected_year):\n",
    "#     return create_figure_artist(selected_year)\n",
    "\n",
    "# if __name__ == '__main__':\n",
    "#     app.run_server(debug=True, port=8060)\n",
    "    \n",
    "# # default browser: http://127.0.0.1:8060"
   ]
  },
  {
   "cell_type": "code",
   "execution_count": 12,
   "metadata": {},
   "outputs": [
    {
     "data": {
      "text/html": [
       "<div>\n",
       "<style scoped>\n",
       "    .dataframe tbody tr th:only-of-type {\n",
       "        vertical-align: middle;\n",
       "    }\n",
       "\n",
       "    .dataframe tbody tr th {\n",
       "        vertical-align: top;\n",
       "    }\n",
       "\n",
       "    .dataframe thead th {\n",
       "        text-align: right;\n",
       "    }\n",
       "</style>\n",
       "<table border=\"1\" class=\"dataframe\">\n",
       "  <thead>\n",
       "    <tr style=\"text-align: right;\">\n",
       "      <th></th>\n",
       "      <th>year</th>\n",
       "      <th>song</th>\n",
       "      <th>artist</th>\n",
       "      <th>play_count</th>\n",
       "    </tr>\n",
       "  </thead>\n",
       "  <tbody>\n",
       "    <tr>\n",
       "      <th>0</th>\n",
       "      <td>2014</td>\n",
       "      <td>Thinking out Loud</td>\n",
       "      <td>Ed Sheeran</td>\n",
       "      <td>473</td>\n",
       "    </tr>\n",
       "    <tr>\n",
       "      <th>1</th>\n",
       "      <td>2014</td>\n",
       "      <td>Come Away With Me</td>\n",
       "      <td>Norah Jones</td>\n",
       "      <td>242</td>\n",
       "    </tr>\n",
       "    <tr>\n",
       "      <th>2</th>\n",
       "      <td>2014</td>\n",
       "      <td>Happy Little Pill</td>\n",
       "      <td>Troye Sivan</td>\n",
       "      <td>242</td>\n",
       "    </tr>\n",
       "    <tr>\n",
       "      <th>3</th>\n",
       "      <td>2014</td>\n",
       "      <td>Superheroes</td>\n",
       "      <td>The Script</td>\n",
       "      <td>232</td>\n",
       "    </tr>\n",
       "    <tr>\n",
       "      <th>4</th>\n",
       "      <td>2014</td>\n",
       "      <td>How Long Will I Love You - Bonus Track</td>\n",
       "      <td>Ellie Goulding</td>\n",
       "      <td>189</td>\n",
       "    </tr>\n",
       "  </tbody>\n",
       "</table>\n",
       "</div>"
      ],
      "text/plain": [
       "   year                                    song          artist  play_count\n",
       "0  2014                       Thinking out Loud      Ed Sheeran         473\n",
       "1  2014                       Come Away With Me     Norah Jones         242\n",
       "2  2014                       Happy Little Pill     Troye Sivan         242\n",
       "3  2014                             Superheroes      The Script         232\n",
       "4  2014  How Long Will I Love You - Bonus Track  Ellie Goulding         189"
      ]
     },
     "execution_count": 12,
     "metadata": {},
     "output_type": "execute_result"
    }
   ],
   "source": [
    "# top 15 songs per year\n",
    "top_songs_per_year = df_year.groupby(['year', 'song', 'artist']).size().reset_index(name='play_count')\n",
    "top_songs_per_year = top_songs_per_year.sort_values(['year', 'play_count'], ascending=[True, False])\n",
    "\n",
    "top_songs_per_year = top_songs_per_year.groupby('year').head(15).reset_index(drop=True)\n",
    "\n",
    "top_songs_per_year.head()"
   ]
  },
  {
   "cell_type": "markdown",
   "metadata": {},
   "source": [
    "**Extract and Store the top 15 songs for each year in csv file**"
   ]
  },
  {
   "cell_type": "code",
   "execution_count": 13,
   "metadata": {},
   "outputs": [],
   "source": [
    "years = range(2014, 2025)\n",
    "\n",
    "filtered_song_DF = []\n",
    "\n",
    "for year in years:\n",
    "    filtered_song = top_songs_per_year[top_songs_per_year['year'] == year]    \n",
    "    filtered_song_DF.append(filtered_song)\n",
    "    \n",
    "combined_song_year = pd.concat(filtered_song_DF)\n",
    "\n",
    "# combined_song_year.to_csv('top_song_2014_2024.csv', index=False)"
   ]
  },
  {
   "cell_type": "code",
   "execution_count": 14,
   "metadata": {},
   "outputs": [
    {
     "data": {
      "text/html": [
       "\n",
       "        <iframe\n",
       "            width=\"100%\"\n",
       "            height=\"650\"\n",
       "            src=\"http://127.0.0.1:8051/\"\n",
       "            frameborder=\"0\"\n",
       "            allowfullscreen\n",
       "            \n",
       "        ></iframe>\n",
       "        "
      ],
      "text/plain": [
       "<IPython.lib.display.IFrame at 0x291aebefe30>"
      ]
     },
     "metadata": {},
     "output_type": "display_data"
    }
   ],
   "source": [
    "import dash \n",
    "from dash import dcc, html\n",
    "import plotly.express as px\n",
    "import pandas as pd\n",
    "\n",
    "#create plotly figure\n",
    "def create_figure_song (year):\n",
    "    filtered_df = top_songs_per_year[top_songs_per_year['year'] == year]\n",
    "    fig = px.bar(\n",
    "        filtered_df,\n",
    "        x='play_count', y='song',\n",
    "        orientation='h',\n",
    "        color='song',\n",
    "        title= f'Top Songs for {year}',\n",
    "        labels={'song_count': 'Number of Times Songs Played'},\n",
    "        hover_data={'artist': True, 'play_count': True},\n",
    "        text='artist'\n",
    "    )\n",
    "    \n",
    "    fig.update_layout(\n",
    "        xaxis_title='Song count', yaxis_title='Song', showlegend=False,\n",
    "        title={\n",
    "            'text': f'Top Songs for {year}', \n",
    "            'x': 0.5,\n",
    "            'xanchor':'center', \n",
    "            'font': {\n",
    "                'size': 30, \n",
    "                'weight': 'bold'}\n",
    "            })\n",
    "    \n",
    "    #update text font size\n",
    "    fig.update_traces(textfont_color='white')\n",
    "    \n",
    "    return fig\n",
    "\n",
    "#initialize dash app\n",
    "app = dash.Dash(__name__)\n",
    "\n",
    "app.layout = html.Div([\n",
    "    dcc.Dropdown(\n",
    "        id='year-dropdown',\n",
    "        options=[{'label': year, 'value': year} for year in top_songs_per_year['year'].unique()], \n",
    "        value=2014\n",
    "    ),\n",
    "    dcc.Graph(id='bar-chart')\n",
    "])\n",
    "\n",
    "@app.callback(\n",
    "    dash.Output('bar-chart', 'figure'),\n",
    "    [dash.Input('year-dropdown', 'value')]\n",
    ")\n",
    "\n",
    "def update_chart_song(selected_year):\n",
    "    return create_figure_song(selected_year)\n",
    "\n",
    "if __name__ == '__main__':\n",
    "    app.run_server(debug=True, port=8051)"
   ]
  },
  {
   "cell_type": "code",
   "execution_count": 34,
   "metadata": {},
   "outputs": [
    {
     "data": {
      "text/html": [
       "<div>\n",
       "<style scoped>\n",
       "    .dataframe tbody tr th:only-of-type {\n",
       "        vertical-align: middle;\n",
       "    }\n",
       "\n",
       "    .dataframe tbody tr th {\n",
       "        vertical-align: top;\n",
       "    }\n",
       "\n",
       "    .dataframe thead th {\n",
       "        text-align: right;\n",
       "    }\n",
       "</style>\n",
       "<table border=\"1\" class=\"dataframe\">\n",
       "  <thead>\n",
       "    <tr style=\"text-align: right;\">\n",
       "      <th></th>\n",
       "      <th>country</th>\n",
       "      <th>total_songs</th>\n",
       "      <th>total_minutes</th>\n",
       "      <th>distinct_artists</th>\n",
       "      <th>distinct_songs</th>\n",
       "      <th>country_name</th>\n",
       "    </tr>\n",
       "  </thead>\n",
       "  <tbody>\n",
       "    <tr>\n",
       "      <th>0</th>\n",
       "      <td>AE</td>\n",
       "      <td>609</td>\n",
       "      <td>1522.718533</td>\n",
       "      <td>144</td>\n",
       "      <td>[Who Wants To Live Forever - Remastered 2011, ...</td>\n",
       "      <td>UAE</td>\n",
       "    </tr>\n",
       "    <tr>\n",
       "      <th>1</th>\n",
       "      <td>AU</td>\n",
       "      <td>37001</td>\n",
       "      <td>95630.450367</td>\n",
       "      <td>1747</td>\n",
       "      <td>[Up and Away, Keep It Down Low, No Love In The...</td>\n",
       "      <td>Australia</td>\n",
       "    </tr>\n",
       "    <tr>\n",
       "      <th>2</th>\n",
       "      <td>BG</td>\n",
       "      <td>16</td>\n",
       "      <td>61.513867</td>\n",
       "      <td>9</td>\n",
       "      <td>[A Kind Of Magic - Remastered 2011, Sial, Heav...</td>\n",
       "      <td>Bulgaria</td>\n",
       "    </tr>\n",
       "    <tr>\n",
       "      <th>3</th>\n",
       "      <td>CZ</td>\n",
       "      <td>86</td>\n",
       "      <td>288.384183</td>\n",
       "      <td>26</td>\n",
       "      <td>[Sial, No Scrubs, Blue, Ke Hujung Dunia, Terus...</td>\n",
       "      <td>Czechia</td>\n",
       "    </tr>\n",
       "    <tr>\n",
       "      <th>4</th>\n",
       "      <td>DE</td>\n",
       "      <td>134</td>\n",
       "      <td>355.464833</td>\n",
       "      <td>63</td>\n",
       "      <td>[Budapest, Sial, Night Changes, Unstoppable, A...</td>\n",
       "      <td>Germany</td>\n",
       "    </tr>\n",
       "    <tr>\n",
       "      <th>5</th>\n",
       "      <td>FR</td>\n",
       "      <td>589</td>\n",
       "      <td>1380.346717</td>\n",
       "      <td>135</td>\n",
       "      <td>[La Vie En Rose, Take Me to Church, Sial, Ke H...</td>\n",
       "      <td>France</td>\n",
       "    </tr>\n",
       "    <tr>\n",
       "      <th>6</th>\n",
       "      <td>HU</td>\n",
       "      <td>52</td>\n",
       "      <td>179.775133</td>\n",
       "      <td>9</td>\n",
       "      <td>[Lose You To Love Me, Budapest, La Vie En Rose...</td>\n",
       "      <td>Hungary</td>\n",
       "    </tr>\n",
       "    <tr>\n",
       "      <th>7</th>\n",
       "      <td>ID</td>\n",
       "      <td>669</td>\n",
       "      <td>2050.555633</td>\n",
       "      <td>163</td>\n",
       "      <td>[I Say a Little Prayer, Heartless, Sumpah, Ter...</td>\n",
       "      <td>Indonesia</td>\n",
       "    </tr>\n",
       "    <tr>\n",
       "      <th>8</th>\n",
       "      <td>IN</td>\n",
       "      <td>47</td>\n",
       "      <td>121.568517</td>\n",
       "      <td>10</td>\n",
       "      <td>[Bohemian Rhapsody - Remastered 2011, Fat Bott...</td>\n",
       "      <td>India</td>\n",
       "    </tr>\n",
       "    <tr>\n",
       "      <th>9</th>\n",
       "      <td>IT</td>\n",
       "      <td>87</td>\n",
       "      <td>137.371800</td>\n",
       "      <td>21</td>\n",
       "      <td>[Influencer, Felpa champion, Bello sfigo, RosÃ...</td>\n",
       "      <td>Italy</td>\n",
       "    </tr>\n",
       "    <tr>\n",
       "      <th>10</th>\n",
       "      <td>MY</td>\n",
       "      <td>42902</td>\n",
       "      <td>117491.706167</td>\n",
       "      <td>1890</td>\n",
       "      <td>[Someone Who Can, Take Me to Church, Lift Off,...</td>\n",
       "      <td>Malaysia</td>\n",
       "    </tr>\n",
       "    <tr>\n",
       "      <th>11</th>\n",
       "      <td>RO</td>\n",
       "      <td>12</td>\n",
       "      <td>35.635167</td>\n",
       "      <td>3</td>\n",
       "      <td>[Budapest, Sial, Face It Alone]</td>\n",
       "      <td>Romania</td>\n",
       "    </tr>\n",
       "    <tr>\n",
       "      <th>12</th>\n",
       "      <td>TH</td>\n",
       "      <td>643</td>\n",
       "      <td>1860.201267</td>\n",
       "      <td>141</td>\n",
       "      <td>[Sial, Blue, RING RING - Acoustic, Sakit, Chen...</td>\n",
       "      <td>Thailand</td>\n",
       "    </tr>\n",
       "    <tr>\n",
       "      <th>13</th>\n",
       "      <td>TR</td>\n",
       "      <td>149</td>\n",
       "      <td>393.493800</td>\n",
       "      <td>27</td>\n",
       "      <td>[Ke Hujung Dunia, Kisah Cinta Kita, Mungkin Ak...</td>\n",
       "      <td>Turkey</td>\n",
       "    </tr>\n",
       "  </tbody>\n",
       "</table>\n",
       "</div>"
      ],
      "text/plain": [
       "   country  total_songs  total_minutes  distinct_artists  \\\n",
       "0       AE          609    1522.718533               144   \n",
       "1       AU        37001   95630.450367              1747   \n",
       "2       BG           16      61.513867                 9   \n",
       "3       CZ           86     288.384183                26   \n",
       "4       DE          134     355.464833                63   \n",
       "5       FR          589    1380.346717               135   \n",
       "6       HU           52     179.775133                 9   \n",
       "7       ID          669    2050.555633               163   \n",
       "8       IN           47     121.568517                10   \n",
       "9       IT           87     137.371800                21   \n",
       "10      MY        42902  117491.706167              1890   \n",
       "11      RO           12      35.635167                 3   \n",
       "12      TH          643    1860.201267               141   \n",
       "13      TR          149     393.493800                27   \n",
       "\n",
       "                                       distinct_songs country_name  \n",
       "0   [Who Wants To Live Forever - Remastered 2011, ...          UAE  \n",
       "1   [Up and Away, Keep It Down Low, No Love In The...    Australia  \n",
       "2   [A Kind Of Magic - Remastered 2011, Sial, Heav...     Bulgaria  \n",
       "3   [Sial, No Scrubs, Blue, Ke Hujung Dunia, Terus...      Czechia  \n",
       "4   [Budapest, Sial, Night Changes, Unstoppable, A...      Germany  \n",
       "5   [La Vie En Rose, Take Me to Church, Sial, Ke H...       France  \n",
       "6   [Lose You To Love Me, Budapest, La Vie En Rose...      Hungary  \n",
       "7   [I Say a Little Prayer, Heartless, Sumpah, Ter...    Indonesia  \n",
       "8   [Bohemian Rhapsody - Remastered 2011, Fat Bott...        India  \n",
       "9   [Influencer, Felpa champion, Bello sfigo, RosÃ...        Italy  \n",
       "10  [Someone Who Can, Take Me to Church, Lift Off,...     Malaysia  \n",
       "11                    [Budapest, Sial, Face It Alone]      Romania  \n",
       "12  [Sial, Blue, RING RING - Acoustic, Sakit, Chen...     Thailand  \n",
       "13  [Ke Hujung Dunia, Kisah Cinta Kita, Mungkin Ak...       Turkey  "
      ]
     },
     "execution_count": 34,
     "metadata": {},
     "output_type": "execute_result"
    }
   ],
   "source": [
    "# summary statistics by country\n",
    "\n",
    "country_summary = df_year.groupby('country').agg(\n",
    "   total_songs=('song', 'count'),\n",
    "   total_minutes=('duration_minutes', 'sum'),\n",
    "   distinct_artists=('artist', 'nunique'),\n",
    "   distinct_songs=('song', 'unique') \n",
    ").reset_index()\n",
    "\n",
    "# create a mapping of ISO alpha-2 codes to country names\n",
    "iso_to_country = {\n",
    "    'MY': 'Malaysia',\n",
    "    'AU': 'Australia',\n",
    "    'ID': 'Indonesia',\n",
    "    'TH': 'Thailand',\n",
    "    'AE': 'UAE',\n",
    "    'FR': 'France',\n",
    "    'TR': 'Turkey',\n",
    "    'DE': 'Germany',\n",
    "    'IT': 'Italy',\n",
    "    'CZ': 'Czechia',\n",
    "    'HU': 'Hungary',\n",
    "    'IN': 'India',\n",
    "    'BG': 'Bulgaria',\n",
    "    'RO': 'Romania',\n",
    "    'SG': 'Singapore'\n",
    "}\n",
    "\n",
    "country_summary['country_name'] = country_summary['country'].map(iso_to_country)\n",
    "\n",
    "country_summary\n"
   ]
  },
  {
   "cell_type": "code",
   "execution_count": 35,
   "metadata": {},
   "outputs": [],
   "source": [
    "#save df to a csv file\n",
    "csv_file_path = './Dataset/country_summary.csv'\n",
    "country_summary.to_csv(csv_file_path, index=False)"
   ]
  },
  {
   "cell_type": "code",
   "execution_count": 17,
   "metadata": {},
   "outputs": [
    {
     "data": {
      "text/plain": [
       "Index(['country', 'total_songs', 'total_minutes', 'distinct_artists',\n",
       "       'distinct_songs', 'country_name'],\n",
       "      dtype='object')"
      ]
     },
     "execution_count": 17,
     "metadata": {},
     "output_type": "execute_result"
    }
   ],
   "source": [
    "# countries = country_summary['country']\n",
    "# countries\n",
    "\n",
    "country_summary.columns"
   ]
  },
  {
   "cell_type": "code",
   "execution_count": 36,
   "metadata": {},
   "outputs": [
    {
     "data": {
      "text/html": [
       "<div>\n",
       "<style scoped>\n",
       "    .dataframe tbody tr th:only-of-type {\n",
       "        vertical-align: middle;\n",
       "    }\n",
       "\n",
       "    .dataframe tbody tr th {\n",
       "        vertical-align: top;\n",
       "    }\n",
       "\n",
       "    .dataframe thead th {\n",
       "        text-align: right;\n",
       "    }\n",
       "</style>\n",
       "<table border=\"1\" class=\"dataframe\">\n",
       "  <thead>\n",
       "    <tr style=\"text-align: right;\">\n",
       "      <th></th>\n",
       "      <th>country_name</th>\n",
       "      <th>total_minutes</th>\n",
       "    </tr>\n",
       "  </thead>\n",
       "  <tbody>\n",
       "    <tr>\n",
       "      <th>9</th>\n",
       "      <td>Malaysia</td>\n",
       "      <td>117491.706167</td>\n",
       "    </tr>\n",
       "    <tr>\n",
       "      <th>0</th>\n",
       "      <td>Australia</td>\n",
       "      <td>95630.450367</td>\n",
       "    </tr>\n",
       "    <tr>\n",
       "      <th>7</th>\n",
       "      <td>Indonesia</td>\n",
       "      <td>2050.555633</td>\n",
       "    </tr>\n",
       "    <tr>\n",
       "      <th>11</th>\n",
       "      <td>Thailand</td>\n",
       "      <td>1860.201267</td>\n",
       "    </tr>\n",
       "    <tr>\n",
       "      <th>13</th>\n",
       "      <td>UAE</td>\n",
       "      <td>1522.718533</td>\n",
       "    </tr>\n",
       "    <tr>\n",
       "      <th>3</th>\n",
       "      <td>France</td>\n",
       "      <td>1380.346717</td>\n",
       "    </tr>\n",
       "    <tr>\n",
       "      <th>12</th>\n",
       "      <td>Turkey</td>\n",
       "      <td>393.493800</td>\n",
       "    </tr>\n",
       "    <tr>\n",
       "      <th>4</th>\n",
       "      <td>Germany</td>\n",
       "      <td>355.464833</td>\n",
       "    </tr>\n",
       "    <tr>\n",
       "      <th>2</th>\n",
       "      <td>Czechia</td>\n",
       "      <td>288.384183</td>\n",
       "    </tr>\n",
       "    <tr>\n",
       "      <th>5</th>\n",
       "      <td>Hungary</td>\n",
       "      <td>179.775133</td>\n",
       "    </tr>\n",
       "    <tr>\n",
       "      <th>8</th>\n",
       "      <td>Italy</td>\n",
       "      <td>137.371800</td>\n",
       "    </tr>\n",
       "    <tr>\n",
       "      <th>6</th>\n",
       "      <td>India</td>\n",
       "      <td>121.568517</td>\n",
       "    </tr>\n",
       "    <tr>\n",
       "      <th>1</th>\n",
       "      <td>Bulgaria</td>\n",
       "      <td>61.513867</td>\n",
       "    </tr>\n",
       "    <tr>\n",
       "      <th>10</th>\n",
       "      <td>Romania</td>\n",
       "      <td>35.635167</td>\n",
       "    </tr>\n",
       "  </tbody>\n",
       "</table>\n",
       "</div>"
      ],
      "text/plain": [
       "   country_name  total_minutes\n",
       "9      Malaysia  117491.706167\n",
       "0     Australia   95630.450367\n",
       "7     Indonesia    2050.555633\n",
       "11     Thailand    1860.201267\n",
       "13          UAE    1522.718533\n",
       "3        France    1380.346717\n",
       "12       Turkey     393.493800\n",
       "4       Germany     355.464833\n",
       "2       Czechia     288.384183\n",
       "5       Hungary     179.775133\n",
       "8         Italy     137.371800\n",
       "6         India     121.568517\n",
       "1      Bulgaria      61.513867\n",
       "10      Romania      35.635167"
      ]
     },
     "execution_count": 36,
     "metadata": {},
     "output_type": "execute_result"
    }
   ],
   "source": [
    "# How much I use spotify while traveling/living in a country\n",
    "\n",
    "# aggregate total minutes by country\n",
    "agg_df = country_summary.groupby('country_name')['total_minutes'].sum().reset_index()\n",
    "agg_df_sorted = agg_df.sort_values(by='total_minutes', ascending=False)\n",
    "\n",
    "agg_df_sorted"
   ]
  },
  {
   "cell_type": "code",
   "execution_count": 19,
   "metadata": {},
   "outputs": [],
   "source": [
    "# spotify usage - bar\n",
    "\n",
    "# fig = px.bar(\n",
    "#     agg_df_sorted, x='total_minutes', y='country_name', orientation='h',\n",
    "#     title='Total Spotify Usage by Country',\n",
    "#     labels={'total_minutes': 'Total Minutes', 'country_name': 'Country'})\n",
    "\n",
    "# fig.show()"
   ]
  },
  {
   "cell_type": "code",
   "execution_count": 40,
   "metadata": {},
   "outputs": [
    {
     "data": {
      "application/vnd.plotly.v1+json": {
       "config": {
        "plotlyServerURL": "https://plot.ly"
       },
       "data": [
        {
         "hovertemplate": "<b>%{hovertext}</b><br><br>Country=%{x}<br>Total Minutes=%{y}<br>Total Songs=%{marker.color}<extra></extra>",
         "hovertext": [
          "UAE",
          "Australia",
          "Bulgaria",
          "Czechia",
          "Germany",
          "France",
          "Hungary",
          "Indonesia",
          "India",
          "Italy",
          "Malaysia",
          "Romania",
          "Thailand",
          "Turkey"
         ],
         "legendgroup": "",
         "marker": {
          "color": [
           609,
           37001,
           16,
           86,
           134,
           589,
           52,
           669,
           47,
           87,
           42902,
           12,
           643,
           149
          ],
          "coloraxis": "coloraxis",
          "size": [
           609,
           37001,
           16,
           86,
           134,
           589,
           52,
           669,
           47,
           87,
           42902,
           12,
           643,
           149
          ],
          "sizemode": "area",
          "sizeref": 4.2902,
          "symbol": "circle"
         },
         "mode": "markers",
         "name": "",
         "orientation": "v",
         "showlegend": false,
         "type": "scatter",
         "x": [
          "UAE",
          "Australia",
          "Bulgaria",
          "Czechia",
          "Germany",
          "France",
          "Hungary",
          "Indonesia",
          "India",
          "Italy",
          "Malaysia",
          "Romania",
          "Thailand",
          "Turkey"
         ],
         "xaxis": "x",
         "y": [
          1522.7185333333334,
          95630.45036666667,
          61.51386666666667,
          288.38418333333334,
          355.46483333333333,
          1380.3467166666667,
          179.77513333333334,
          2050.5556333333334,
          121.56851666666667,
          137.3718,
          117491.70616666667,
          35.63516666666666,
          1860.2012666666667,
          393.4938
         ],
         "yaxis": "y"
        }
       ],
       "layout": {
        "coloraxis": {
         "colorbar": {
          "title": {
           "text": "Total Songs"
          }
         },
         "colorscale": [
          [
           0,
           "#0d0887"
          ],
          [
           0.1111111111111111,
           "#46039f"
          ],
          [
           0.2222222222222222,
           "#7201a8"
          ],
          [
           0.3333333333333333,
           "#9c179e"
          ],
          [
           0.4444444444444444,
           "#bd3786"
          ],
          [
           0.5555555555555556,
           "#d8576b"
          ],
          [
           0.6666666666666666,
           "#ed7953"
          ],
          [
           0.7777777777777778,
           "#fb9f3a"
          ],
          [
           0.8888888888888888,
           "#fdca26"
          ],
          [
           1,
           "#f0f921"
          ]
         ]
        },
        "font": {
         "color": "white"
        },
        "height": 450,
        "legend": {
         "itemsizing": "constant",
         "tracegroupgap": 0
        },
        "paper_bgcolor": "rgb(30, 30, 30)",
        "plot_bgcolor": "rgb(30, 30, 30)",
        "template": {
         "data": {
          "bar": [
           {
            "error_x": {
             "color": "#2a3f5f"
            },
            "error_y": {
             "color": "#2a3f5f"
            },
            "marker": {
             "line": {
              "color": "#E5ECF6",
              "width": 0.5
             },
             "pattern": {
              "fillmode": "overlay",
              "size": 10,
              "solidity": 0.2
             }
            },
            "type": "bar"
           }
          ],
          "barpolar": [
           {
            "marker": {
             "line": {
              "color": "#E5ECF6",
              "width": 0.5
             },
             "pattern": {
              "fillmode": "overlay",
              "size": 10,
              "solidity": 0.2
             }
            },
            "type": "barpolar"
           }
          ],
          "carpet": [
           {
            "aaxis": {
             "endlinecolor": "#2a3f5f",
             "gridcolor": "white",
             "linecolor": "white",
             "minorgridcolor": "white",
             "startlinecolor": "#2a3f5f"
            },
            "baxis": {
             "endlinecolor": "#2a3f5f",
             "gridcolor": "white",
             "linecolor": "white",
             "minorgridcolor": "white",
             "startlinecolor": "#2a3f5f"
            },
            "type": "carpet"
           }
          ],
          "choropleth": [
           {
            "colorbar": {
             "outlinewidth": 0,
             "ticks": ""
            },
            "type": "choropleth"
           }
          ],
          "contour": [
           {
            "colorbar": {
             "outlinewidth": 0,
             "ticks": ""
            },
            "colorscale": [
             [
              0,
              "#0d0887"
             ],
             [
              0.1111111111111111,
              "#46039f"
             ],
             [
              0.2222222222222222,
              "#7201a8"
             ],
             [
              0.3333333333333333,
              "#9c179e"
             ],
             [
              0.4444444444444444,
              "#bd3786"
             ],
             [
              0.5555555555555556,
              "#d8576b"
             ],
             [
              0.6666666666666666,
              "#ed7953"
             ],
             [
              0.7777777777777778,
              "#fb9f3a"
             ],
             [
              0.8888888888888888,
              "#fdca26"
             ],
             [
              1,
              "#f0f921"
             ]
            ],
            "type": "contour"
           }
          ],
          "contourcarpet": [
           {
            "colorbar": {
             "outlinewidth": 0,
             "ticks": ""
            },
            "type": "contourcarpet"
           }
          ],
          "heatmap": [
           {
            "colorbar": {
             "outlinewidth": 0,
             "ticks": ""
            },
            "colorscale": [
             [
              0,
              "#0d0887"
             ],
             [
              0.1111111111111111,
              "#46039f"
             ],
             [
              0.2222222222222222,
              "#7201a8"
             ],
             [
              0.3333333333333333,
              "#9c179e"
             ],
             [
              0.4444444444444444,
              "#bd3786"
             ],
             [
              0.5555555555555556,
              "#d8576b"
             ],
             [
              0.6666666666666666,
              "#ed7953"
             ],
             [
              0.7777777777777778,
              "#fb9f3a"
             ],
             [
              0.8888888888888888,
              "#fdca26"
             ],
             [
              1,
              "#f0f921"
             ]
            ],
            "type": "heatmap"
           }
          ],
          "heatmapgl": [
           {
            "colorbar": {
             "outlinewidth": 0,
             "ticks": ""
            },
            "colorscale": [
             [
              0,
              "#0d0887"
             ],
             [
              0.1111111111111111,
              "#46039f"
             ],
             [
              0.2222222222222222,
              "#7201a8"
             ],
             [
              0.3333333333333333,
              "#9c179e"
             ],
             [
              0.4444444444444444,
              "#bd3786"
             ],
             [
              0.5555555555555556,
              "#d8576b"
             ],
             [
              0.6666666666666666,
              "#ed7953"
             ],
             [
              0.7777777777777778,
              "#fb9f3a"
             ],
             [
              0.8888888888888888,
              "#fdca26"
             ],
             [
              1,
              "#f0f921"
             ]
            ],
            "type": "heatmapgl"
           }
          ],
          "histogram": [
           {
            "marker": {
             "pattern": {
              "fillmode": "overlay",
              "size": 10,
              "solidity": 0.2
             }
            },
            "type": "histogram"
           }
          ],
          "histogram2d": [
           {
            "colorbar": {
             "outlinewidth": 0,
             "ticks": ""
            },
            "colorscale": [
             [
              0,
              "#0d0887"
             ],
             [
              0.1111111111111111,
              "#46039f"
             ],
             [
              0.2222222222222222,
              "#7201a8"
             ],
             [
              0.3333333333333333,
              "#9c179e"
             ],
             [
              0.4444444444444444,
              "#bd3786"
             ],
             [
              0.5555555555555556,
              "#d8576b"
             ],
             [
              0.6666666666666666,
              "#ed7953"
             ],
             [
              0.7777777777777778,
              "#fb9f3a"
             ],
             [
              0.8888888888888888,
              "#fdca26"
             ],
             [
              1,
              "#f0f921"
             ]
            ],
            "type": "histogram2d"
           }
          ],
          "histogram2dcontour": [
           {
            "colorbar": {
             "outlinewidth": 0,
             "ticks": ""
            },
            "colorscale": [
             [
              0,
              "#0d0887"
             ],
             [
              0.1111111111111111,
              "#46039f"
             ],
             [
              0.2222222222222222,
              "#7201a8"
             ],
             [
              0.3333333333333333,
              "#9c179e"
             ],
             [
              0.4444444444444444,
              "#bd3786"
             ],
             [
              0.5555555555555556,
              "#d8576b"
             ],
             [
              0.6666666666666666,
              "#ed7953"
             ],
             [
              0.7777777777777778,
              "#fb9f3a"
             ],
             [
              0.8888888888888888,
              "#fdca26"
             ],
             [
              1,
              "#f0f921"
             ]
            ],
            "type": "histogram2dcontour"
           }
          ],
          "mesh3d": [
           {
            "colorbar": {
             "outlinewidth": 0,
             "ticks": ""
            },
            "type": "mesh3d"
           }
          ],
          "parcoords": [
           {
            "line": {
             "colorbar": {
              "outlinewidth": 0,
              "ticks": ""
             }
            },
            "type": "parcoords"
           }
          ],
          "pie": [
           {
            "automargin": true,
            "type": "pie"
           }
          ],
          "scatter": [
           {
            "fillpattern": {
             "fillmode": "overlay",
             "size": 10,
             "solidity": 0.2
            },
            "type": "scatter"
           }
          ],
          "scatter3d": [
           {
            "line": {
             "colorbar": {
              "outlinewidth": 0,
              "ticks": ""
             }
            },
            "marker": {
             "colorbar": {
              "outlinewidth": 0,
              "ticks": ""
             }
            },
            "type": "scatter3d"
           }
          ],
          "scattercarpet": [
           {
            "marker": {
             "colorbar": {
              "outlinewidth": 0,
              "ticks": ""
             }
            },
            "type": "scattercarpet"
           }
          ],
          "scattergeo": [
           {
            "marker": {
             "colorbar": {
              "outlinewidth": 0,
              "ticks": ""
             }
            },
            "type": "scattergeo"
           }
          ],
          "scattergl": [
           {
            "marker": {
             "colorbar": {
              "outlinewidth": 0,
              "ticks": ""
             }
            },
            "type": "scattergl"
           }
          ],
          "scattermapbox": [
           {
            "marker": {
             "colorbar": {
              "outlinewidth": 0,
              "ticks": ""
             }
            },
            "type": "scattermapbox"
           }
          ],
          "scatterpolar": [
           {
            "marker": {
             "colorbar": {
              "outlinewidth": 0,
              "ticks": ""
             }
            },
            "type": "scatterpolar"
           }
          ],
          "scatterpolargl": [
           {
            "marker": {
             "colorbar": {
              "outlinewidth": 0,
              "ticks": ""
             }
            },
            "type": "scatterpolargl"
           }
          ],
          "scatterternary": [
           {
            "marker": {
             "colorbar": {
              "outlinewidth": 0,
              "ticks": ""
             }
            },
            "type": "scatterternary"
           }
          ],
          "surface": [
           {
            "colorbar": {
             "outlinewidth": 0,
             "ticks": ""
            },
            "colorscale": [
             [
              0,
              "#0d0887"
             ],
             [
              0.1111111111111111,
              "#46039f"
             ],
             [
              0.2222222222222222,
              "#7201a8"
             ],
             [
              0.3333333333333333,
              "#9c179e"
             ],
             [
              0.4444444444444444,
              "#bd3786"
             ],
             [
              0.5555555555555556,
              "#d8576b"
             ],
             [
              0.6666666666666666,
              "#ed7953"
             ],
             [
              0.7777777777777778,
              "#fb9f3a"
             ],
             [
              0.8888888888888888,
              "#fdca26"
             ],
             [
              1,
              "#f0f921"
             ]
            ],
            "type": "surface"
           }
          ],
          "table": [
           {
            "cells": {
             "fill": {
              "color": "#EBF0F8"
             },
             "line": {
              "color": "white"
             }
            },
            "header": {
             "fill": {
              "color": "#C8D4E3"
             },
             "line": {
              "color": "white"
             }
            },
            "type": "table"
           }
          ]
         },
         "layout": {
          "annotationdefaults": {
           "arrowcolor": "#2a3f5f",
           "arrowhead": 0,
           "arrowwidth": 1
          },
          "autotypenumbers": "strict",
          "coloraxis": {
           "colorbar": {
            "outlinewidth": 0,
            "ticks": ""
           }
          },
          "colorscale": {
           "diverging": [
            [
             0,
             "#8e0152"
            ],
            [
             0.1,
             "#c51b7d"
            ],
            [
             0.2,
             "#de77ae"
            ],
            [
             0.3,
             "#f1b6da"
            ],
            [
             0.4,
             "#fde0ef"
            ],
            [
             0.5,
             "#f7f7f7"
            ],
            [
             0.6,
             "#e6f5d0"
            ],
            [
             0.7,
             "#b8e186"
            ],
            [
             0.8,
             "#7fbc41"
            ],
            [
             0.9,
             "#4d9221"
            ],
            [
             1,
             "#276419"
            ]
           ],
           "sequential": [
            [
             0,
             "#0d0887"
            ],
            [
             0.1111111111111111,
             "#46039f"
            ],
            [
             0.2222222222222222,
             "#7201a8"
            ],
            [
             0.3333333333333333,
             "#9c179e"
            ],
            [
             0.4444444444444444,
             "#bd3786"
            ],
            [
             0.5555555555555556,
             "#d8576b"
            ],
            [
             0.6666666666666666,
             "#ed7953"
            ],
            [
             0.7777777777777778,
             "#fb9f3a"
            ],
            [
             0.8888888888888888,
             "#fdca26"
            ],
            [
             1,
             "#f0f921"
            ]
           ],
           "sequentialminus": [
            [
             0,
             "#0d0887"
            ],
            [
             0.1111111111111111,
             "#46039f"
            ],
            [
             0.2222222222222222,
             "#7201a8"
            ],
            [
             0.3333333333333333,
             "#9c179e"
            ],
            [
             0.4444444444444444,
             "#bd3786"
            ],
            [
             0.5555555555555556,
             "#d8576b"
            ],
            [
             0.6666666666666666,
             "#ed7953"
            ],
            [
             0.7777777777777778,
             "#fb9f3a"
            ],
            [
             0.8888888888888888,
             "#fdca26"
            ],
            [
             1,
             "#f0f921"
            ]
           ]
          },
          "colorway": [
           "#636efa",
           "#EF553B",
           "#00cc96",
           "#ab63fa",
           "#FFA15A",
           "#19d3f3",
           "#FF6692",
           "#B6E880",
           "#FF97FF",
           "#FECB52"
          ],
          "font": {
           "color": "#2a3f5f"
          },
          "geo": {
           "bgcolor": "white",
           "lakecolor": "white",
           "landcolor": "#E5ECF6",
           "showlakes": true,
           "showland": true,
           "subunitcolor": "white"
          },
          "hoverlabel": {
           "align": "left"
          },
          "hovermode": "closest",
          "mapbox": {
           "style": "light"
          },
          "paper_bgcolor": "white",
          "plot_bgcolor": "#E5ECF6",
          "polar": {
           "angularaxis": {
            "gridcolor": "white",
            "linecolor": "white",
            "ticks": ""
           },
           "bgcolor": "#E5ECF6",
           "radialaxis": {
            "gridcolor": "white",
            "linecolor": "white",
            "ticks": ""
           }
          },
          "scene": {
           "xaxis": {
            "backgroundcolor": "#E5ECF6",
            "gridcolor": "white",
            "gridwidth": 2,
            "linecolor": "white",
            "showbackground": true,
            "ticks": "",
            "zerolinecolor": "white"
           },
           "yaxis": {
            "backgroundcolor": "#E5ECF6",
            "gridcolor": "white",
            "gridwidth": 2,
            "linecolor": "white",
            "showbackground": true,
            "ticks": "",
            "zerolinecolor": "white"
           },
           "zaxis": {
            "backgroundcolor": "#E5ECF6",
            "gridcolor": "white",
            "gridwidth": 2,
            "linecolor": "white",
            "showbackground": true,
            "ticks": "",
            "zerolinecolor": "white"
           }
          },
          "shapedefaults": {
           "line": {
            "color": "#2a3f5f"
           }
          },
          "ternary": {
           "aaxis": {
            "gridcolor": "white",
            "linecolor": "white",
            "ticks": ""
           },
           "baxis": {
            "gridcolor": "white",
            "linecolor": "white",
            "ticks": ""
           },
           "bgcolor": "#E5ECF6",
           "caxis": {
            "gridcolor": "white",
            "linecolor": "white",
            "ticks": ""
           }
          },
          "title": {
           "x": 0.05
          },
          "xaxis": {
           "automargin": true,
           "gridcolor": "white",
           "linecolor": "white",
           "ticks": "",
           "title": {
            "standoff": 15
           },
           "zerolinecolor": "white",
           "zerolinewidth": 2
          },
          "yaxis": {
           "automargin": true,
           "gridcolor": "white",
           "linecolor": "white",
           "ticks": "",
           "title": {
            "standoff": 15
           },
           "zerolinecolor": "white",
           "zerolinewidth": 2
          }
         }
        },
        "title": {
         "font": {
          "size": 25,
          "weight": "bold"
         },
         "text": "Total Spotify Usage based on Location",
         "x": 0.5,
         "xanchor": "center"
        },
        "width": 550,
        "xaxis": {
         "anchor": "y",
         "domain": [
          0,
          1
         ],
         "gridcolor": "rgb(169, 169, 169)",
         "showgrid": true,
         "tickangle": 45,
         "title": {
          "text": "Country"
         }
        },
        "yaxis": {
         "anchor": "x",
         "domain": [
          0,
          1
         ],
         "gridcolor": "rgb(169, 169, 169)",
         "showgrid": true,
         "title": {
          "text": "Total Minutes"
         }
        }
       }
      }
     },
     "metadata": {},
     "output_type": "display_data"
    }
   ],
   "source": [
    "# spotiy usage - bubbles \n",
    "\n",
    "fig = px.scatter(\n",
    "    country_summary, x='country_name', y='total_minutes', \n",
    "    size='total_songs', color='total_songs', size_max=100,\n",
    "    hover_name='country_name', title='Total Spotify Usage based on Location (Country)',\n",
    "    labels= {\n",
    "        'total_minutes': 'Total Minutes',\n",
    "        'country_name': 'Country',\n",
    "        'total_songs': 'Total Songs'\n",
    "    }\n",
    ")\n",
    "\n",
    "fig.update_layout(\n",
    "    title={\n",
    "        'text': f'Total Spotify Usage based on Location', \n",
    "        'x': 0.5,\n",
    "        'xanchor':'center', \n",
    "        'font': {\n",
    "            'size': 25, \n",
    "            'weight': 'bold'}\n",
    "    },\n",
    "    plot_bgcolor='rgb(30, 30, 30)',  # Dark background\n",
    "    paper_bgcolor='rgb(30, 30, 30)',  # Dark paper background\n",
    "    font=dict(color='white'),  # White font color\n",
    "    height=450,  # Adjust height\n",
    "    width=550,\n",
    "    xaxis=dict(\n",
    "        showgrid=True,\n",
    "        gridcolor='rgb(169, 169, 169)',\n",
    "        tickangle=45\n",
    "    ),\n",
    "    yaxis=dict(\n",
    "        showgrid=True,\n",
    "        gridcolor='rgb(169, 169, 169)'\n",
    "    )\n",
    ")\n",
    "\n",
    "fig.show()"
   ]
  },
  {
   "cell_type": "code",
   "execution_count": 21,
   "metadata": {},
   "outputs": [
    {
     "name": "stdout",
     "output_type": "stream",
     "text": [
      "Index(['country', 'total_songs', 'total_minutes', 'distinct_artists',\n",
      "       'distinct_songs', 'country_name'],\n",
      "      dtype='object')\n",
      "country              object\n",
      "total_songs           int64\n",
      "total_minutes       float64\n",
      "distinct_artists      int64\n",
      "distinct_songs       object\n",
      "country_name         object\n",
      "dtype: object\n"
     ]
    }
   ],
   "source": [
    "print(country_summary.columns)\n",
    "\n",
    "#check the column contain single values (strings & integers) and not array\n",
    "print(country_summary.dtypes)\n",
    "\n",
    "# print(country_summary[['distinct_songs', 'total_songs']].head())"
   ]
  },
  {
   "cell_type": "markdown",
   "metadata": {},
   "source": [
    "# Error\n",
    "\n",
    "- I was trying to create a dashboard where we can select a countyr from a dropdown to see top 15 songs played while I was in that particular country\n",
    "- I was using country_summary data frames - it has total distinct songs played and duration of spotify consumption BUT it does not contain the list of songs played in eahc country, i cannot use this dataframe to create dashboard as I wanted to see individual song \n",
    "\n",
    "**Solution**\n",
    "- idk if it's going to work but I'm going to create another df/csv file that has proper spelling of the country\n",
    "- and take it from there\n",
    "- **update**: It works! 🥳🥳🥳\n",
    "\n"
   ]
  },
  {
   "cell_type": "code",
   "execution_count": 22,
   "metadata": {},
   "outputs": [
    {
     "data": {
      "text/html": [
       "<div>\n",
       "<style scoped>\n",
       "    .dataframe tbody tr th:only-of-type {\n",
       "        vertical-align: middle;\n",
       "    }\n",
       "\n",
       "    .dataframe tbody tr th {\n",
       "        vertical-align: top;\n",
       "    }\n",
       "\n",
       "    .dataframe thead th {\n",
       "        text-align: right;\n",
       "    }\n",
       "</style>\n",
       "<table border=\"1\" class=\"dataframe\">\n",
       "  <thead>\n",
       "    <tr style=\"text-align: right;\">\n",
       "      <th></th>\n",
       "      <th>duration</th>\n",
       "      <th>country</th>\n",
       "      <th>song</th>\n",
       "      <th>artist</th>\n",
       "      <th>album</th>\n",
       "      <th>date</th>\n",
       "      <th>time</th>\n",
       "      <th>duration_minutes</th>\n",
       "      <th>year</th>\n",
       "      <th>country_name</th>\n",
       "    </tr>\n",
       "  </thead>\n",
       "  <tbody>\n",
       "    <tr>\n",
       "      <th>0</th>\n",
       "      <td>29381</td>\n",
       "      <td>AU</td>\n",
       "      <td>Up and Away</td>\n",
       "      <td>Envy</td>\n",
       "      <td>The Magic Soup And The Bittersweet Faces</td>\n",
       "      <td>2014-08-26</td>\n",
       "      <td>11:22:33</td>\n",
       "      <td>0.489683</td>\n",
       "      <td>2014</td>\n",
       "      <td>Australia</td>\n",
       "    </tr>\n",
       "  </tbody>\n",
       "</table>\n",
       "</div>"
      ],
      "text/plain": [
       "   duration country         song artist  \\\n",
       "0     29381      AU  Up and Away   Envy   \n",
       "\n",
       "                                      album       date      time  \\\n",
       "0  The Magic Soup And The Bittersweet Faces 2014-08-26  11:22:33   \n",
       "\n",
       "   duration_minutes  year country_name  \n",
       "0          0.489683  2014    Australia  "
      ]
     },
     "execution_count": 22,
     "metadata": {},
     "output_type": "execute_result"
    }
   ],
   "source": [
    "df_year['country_name'] = df_year['country'].map(iso_to_country)\n",
    "\n",
    "df_year.head(1)"
   ]
  },
  {
   "cell_type": "code",
   "execution_count": 23,
   "metadata": {},
   "outputs": [
    {
     "data": {
      "text/plain": [
       "Index(['duration', 'country', 'song', 'artist', 'album', 'date', 'time',\n",
       "       'duration_minutes', 'year', 'country_name'],\n",
       "      dtype='object')"
      ]
     },
     "execution_count": 23,
     "metadata": {},
     "output_type": "execute_result"
    }
   ],
   "source": [
    "\n",
    "# #save df to a csv file \n",
    "# csv_path = './Dataset/country_year_name.csv'\n",
    "# df_year.to_csv(csv_path)\n",
    "\n",
    "df_year.columns"
   ]
  },
  {
   "cell_type": "code",
   "execution_count": 42,
   "metadata": {},
   "outputs": [
    {
     "data": {
      "text/html": [
       "\n",
       "        <iframe\n",
       "            width=\"100%\"\n",
       "            height=\"650\"\n",
       "            src=\"http://127.0.0.1:8059/\"\n",
       "            frameborder=\"0\"\n",
       "            allowfullscreen\n",
       "            \n",
       "        ></iframe>\n",
       "        "
      ],
      "text/plain": [
       "<IPython.lib.display.IFrame at 0x291af71a090>"
      ]
     },
     "metadata": {},
     "output_type": "display_data"
    }
   ],
   "source": [
    "import dash\n",
    "from dash import dcc, html, Input, Output\n",
    "import plotly.express as px\n",
    "import pandas as pd\n",
    "\n",
    "#initialize the dash app\n",
    "app = dash.Dash(__name__)\n",
    "\n",
    "#define the app layout \n",
    "app.layout = html. Div([\n",
    "    html.H1(\"Top 15 songs I listened to by Location\"),\n",
    "    \n",
    "    dcc.Dropdown(\n",
    "        id='country-dropdown',\n",
    "        options= [{'label': country, 'value': country} for country in df_year['country_name'].unique()],\n",
    "        value=df_year['country_name'].unique()[0]\n",
    "    ),\n",
    "    \n",
    "    dcc.Graph(id='top-songs-graph')\n",
    "])\n",
    "\n",
    "#define callback to update graph based on the selected county \n",
    "@app.callback(\n",
    "    Output('top-songs-graph', 'figure'),\n",
    "    Input('country-dropdown', 'value')\n",
    ")\n",
    "\n",
    "def update_graph_ctry(selected_country2):\n",
    "    filtered_ctry = df_year[df_year['country_name'] == selected_country2]\n",
    "    \n",
    "    #get top 15 songs with artists name\n",
    "    # top_songs = filtered_ctry['song'].value_counts().head(15)\n",
    "    top_songs = filtered_ctry.groupby(['song', 'artist']).size().reset_index(name='count')\n",
    "    top_songs = top_songs.sort_values(by='count', ascending=False).head(15)\n",
    "    \n",
    "    #create horizontal bar chart\n",
    "    fig = px.bar(\n",
    "        top_songs, \n",
    "        y='song',\n",
    "        x='count',\n",
    "        color='song',\n",
    "        labels={'song': 'Song', 'count': 'Frequency'},\n",
    "        title=f'Top 15 songs in {selected_country2}',\n",
    "        text='artist',\n",
    "        hover_data={'song': True, 'count': True, 'artist': True},\n",
    "        orientation = 'h'\n",
    "    )\n",
    "    \n",
    "    fig.update_layout(\n",
    "        showlegend=False,\n",
    "        title={\n",
    "            'text': f'Top 15 songs in {selected_country2}', \n",
    "            'x': 0.5,\n",
    "            'xanchor':'center', \n",
    "            'font': {\n",
    "                'size': 30, \n",
    "                'weight': 'bold'}\n",
    "        },\n",
    "        width=600\n",
    "    ), \n",
    "    \n",
    "    \n",
    "    #update text font size\n",
    "    fig.update_traces(textfont_color='white')\n",
    "    \n",
    "    return fig\n",
    "\n",
    "#run the app\n",
    "if __name__ == '__main__':\n",
    "    app.run_server(debug=True, port=8059)"
   ]
  },
  {
   "cell_type": "markdown",
   "metadata": {},
   "source": [
    "**race bar chart for top 15 artist each year**\n",
    "\n",
    "- it looks suck to be honest"
   ]
  },
  {
   "cell_type": "code",
   "execution_count": 25,
   "metadata": {},
   "outputs": [
    {
     "data": {
      "text/html": [
       "<div>\n",
       "<style scoped>\n",
       "    .dataframe tbody tr th:only-of-type {\n",
       "        vertical-align: middle;\n",
       "    }\n",
       "\n",
       "    .dataframe tbody tr th {\n",
       "        vertical-align: top;\n",
       "    }\n",
       "\n",
       "    .dataframe thead th {\n",
       "        text-align: right;\n",
       "    }\n",
       "</style>\n",
       "<table border=\"1\" class=\"dataframe\">\n",
       "  <thead>\n",
       "    <tr style=\"text-align: right;\">\n",
       "      <th></th>\n",
       "      <th>year</th>\n",
       "      <th>artist</th>\n",
       "      <th>song_count</th>\n",
       "    </tr>\n",
       "  </thead>\n",
       "  <tbody>\n",
       "    <tr>\n",
       "      <th>0</th>\n",
       "      <td>2014</td>\n",
       "      <td>Yuna</td>\n",
       "      <td>860</td>\n",
       "    </tr>\n",
       "    <tr>\n",
       "      <th>1</th>\n",
       "      <td>2014</td>\n",
       "      <td>Beyoncé</td>\n",
       "      <td>673</td>\n",
       "    </tr>\n",
       "    <tr>\n",
       "      <th>2</th>\n",
       "      <td>2014</td>\n",
       "      <td>Ed Sheeran</td>\n",
       "      <td>553</td>\n",
       "    </tr>\n",
       "    <tr>\n",
       "      <th>3</th>\n",
       "      <td>2014</td>\n",
       "      <td>Norah Jones</td>\n",
       "      <td>274</td>\n",
       "    </tr>\n",
       "    <tr>\n",
       "      <th>4</th>\n",
       "      <td>2014</td>\n",
       "      <td>Destiny's Child</td>\n",
       "      <td>248</td>\n",
       "    </tr>\n",
       "  </tbody>\n",
       "</table>\n",
       "</div>"
      ],
      "text/plain": [
       "   year           artist  song_count\n",
       "0  2014             Yuna         860\n",
       "1  2014          Beyoncé         673\n",
       "2  2014       Ed Sheeran         553\n",
       "3  2014      Norah Jones         274\n",
       "4  2014  Destiny's Child         248"
      ]
     },
     "execution_count": 25,
     "metadata": {},
     "output_type": "execute_result"
    }
   ],
   "source": [
    "import pandas as pd\n",
    "import plotly.express as px\n",
    "\n",
    "race_chart = pd.read_csv(r'./Dataset/top_artist_2014_2024.csv')\n",
    "\n",
    "race_chart.head()"
   ]
  },
  {
   "cell_type": "code",
   "execution_count": 26,
   "metadata": {},
   "outputs": [
    {
     "data": {
      "application/vnd.plotly.v1+json": {
       "config": {
        "plotlyServerURL": "https://plot.ly"
       },
       "data": [
        {
         "alignmentgroup": "True",
         "hovertemplate": "artist=%{y}<br>year=2014<br>Song Count=%{x}<extra></extra>",
         "legendgroup": "Yuna",
         "marker": {
          "color": "#636efa",
          "pattern": {
           "shape": ""
          }
         },
         "name": "Yuna",
         "offsetgroup": "Yuna",
         "orientation": "h",
         "showlegend": true,
         "textposition": "auto",
         "type": "bar",
         "x": [
          860
         ],
         "xaxis": "x",
         "y": [
          "Yuna"
         ],
         "yaxis": "y"
        },
        {
         "alignmentgroup": "True",
         "hovertemplate": "artist=%{y}<br>year=2014<br>Song Count=%{x}<extra></extra>",
         "legendgroup": "Beyoncé",
         "marker": {
          "color": "#EF553B",
          "pattern": {
           "shape": ""
          }
         },
         "name": "Beyoncé",
         "offsetgroup": "Beyoncé",
         "orientation": "h",
         "showlegend": true,
         "textposition": "auto",
         "type": "bar",
         "x": [
          673
         ],
         "xaxis": "x",
         "y": [
          "Beyoncé"
         ],
         "yaxis": "y"
        },
        {
         "alignmentgroup": "True",
         "hovertemplate": "artist=%{y}<br>year=2014<br>Song Count=%{x}<extra></extra>",
         "legendgroup": "Ed Sheeran",
         "marker": {
          "color": "#00cc96",
          "pattern": {
           "shape": ""
          }
         },
         "name": "Ed Sheeran",
         "offsetgroup": "Ed Sheeran",
         "orientation": "h",
         "showlegend": true,
         "textposition": "auto",
         "type": "bar",
         "x": [
          553
         ],
         "xaxis": "x",
         "y": [
          "Ed Sheeran"
         ],
         "yaxis": "y"
        },
        {
         "alignmentgroup": "True",
         "hovertemplate": "artist=%{y}<br>year=2014<br>Song Count=%{x}<extra></extra>",
         "legendgroup": "Norah Jones",
         "marker": {
          "color": "#ab63fa",
          "pattern": {
           "shape": ""
          }
         },
         "name": "Norah Jones",
         "offsetgroup": "Norah Jones",
         "orientation": "h",
         "showlegend": true,
         "textposition": "auto",
         "type": "bar",
         "x": [
          274
         ],
         "xaxis": "x",
         "y": [
          "Norah Jones"
         ],
         "yaxis": "y"
        },
        {
         "alignmentgroup": "True",
         "hovertemplate": "artist=%{y}<br>year=2014<br>Song Count=%{x}<extra></extra>",
         "legendgroup": "Destiny's Child",
         "marker": {
          "color": "#FFA15A",
          "pattern": {
           "shape": ""
          }
         },
         "name": "Destiny's Child",
         "offsetgroup": "Destiny's Child",
         "orientation": "h",
         "showlegend": true,
         "textposition": "auto",
         "type": "bar",
         "x": [
          248
         ],
         "xaxis": "x",
         "y": [
          "Destiny's Child"
         ],
         "yaxis": "y"
        },
        {
         "alignmentgroup": "True",
         "hovertemplate": "artist=%{y}<br>year=2014<br>Song Count=%{x}<extra></extra>",
         "legendgroup": "Troye Sivan",
         "marker": {
          "color": "#19d3f3",
          "pattern": {
           "shape": ""
          }
         },
         "name": "Troye Sivan",
         "offsetgroup": "Troye Sivan",
         "orientation": "h",
         "showlegend": true,
         "textposition": "auto",
         "type": "bar",
         "x": [
          244
         ],
         "xaxis": "x",
         "y": [
          "Troye Sivan"
         ],
         "yaxis": "y"
        },
        {
         "alignmentgroup": "True",
         "hovertemplate": "artist=%{y}<br>year=2014<br>Song Count=%{x}<extra></extra>",
         "legendgroup": "The Script",
         "marker": {
          "color": "#FF6692",
          "pattern": {
           "shape": ""
          }
         },
         "name": "The Script",
         "offsetgroup": "The Script",
         "orientation": "h",
         "showlegend": true,
         "textposition": "auto",
         "type": "bar",
         "x": [
          234
         ],
         "xaxis": "x",
         "y": [
          "The Script"
         ],
         "yaxis": "y"
        },
        {
         "alignmentgroup": "True",
         "hovertemplate": "artist=%{y}<br>year=2014<br>Song Count=%{x}<extra></extra>",
         "legendgroup": "Ellie Goulding",
         "marker": {
          "color": "#B6E880",
          "pattern": {
           "shape": ""
          }
         },
         "name": "Ellie Goulding",
         "offsetgroup": "Ellie Goulding",
         "orientation": "h",
         "showlegend": true,
         "textposition": "auto",
         "type": "bar",
         "x": [
          213
         ],
         "xaxis": "x",
         "y": [
          "Ellie Goulding"
         ],
         "yaxis": "y"
        },
        {
         "alignmentgroup": "True",
         "hovertemplate": "artist=%{y}<br>year=2014<br>Song Count=%{x}<extra></extra>",
         "legendgroup": "Colbie Caillat",
         "marker": {
          "color": "#FF97FF",
          "pattern": {
           "shape": ""
          }
         },
         "name": "Colbie Caillat",
         "offsetgroup": "Colbie Caillat",
         "orientation": "h",
         "showlegend": true,
         "textposition": "auto",
         "type": "bar",
         "x": [
          205
         ],
         "xaxis": "x",
         "y": [
          "Colbie Caillat"
         ],
         "yaxis": "y"
        },
        {
         "alignmentgroup": "True",
         "hovertemplate": "artist=%{y}<br>year=2014<br>Song Count=%{x}<extra></extra>",
         "legendgroup": "Alicia Keys",
         "marker": {
          "color": "#FECB52",
          "pattern": {
           "shape": ""
          }
         },
         "name": "Alicia Keys",
         "offsetgroup": "Alicia Keys",
         "orientation": "h",
         "showlegend": true,
         "textposition": "auto",
         "type": "bar",
         "x": [
          188
         ],
         "xaxis": "x",
         "y": [
          "Alicia Keys"
         ],
         "yaxis": "y"
        },
        {
         "alignmentgroup": "True",
         "hovertemplate": "artist=%{y}<br>year=2014<br>Song Count=%{x}<extra></extra>",
         "legendgroup": "Sia",
         "marker": {
          "color": "#636efa",
          "pattern": {
           "shape": ""
          }
         },
         "name": "Sia",
         "offsetgroup": "Sia",
         "orientation": "h",
         "showlegend": true,
         "textposition": "auto",
         "type": "bar",
         "x": [
          157
         ],
         "xaxis": "x",
         "y": [
          "Sia"
         ],
         "yaxis": "y"
        },
        {
         "alignmentgroup": "True",
         "hovertemplate": "artist=%{y}<br>year=2014<br>Song Count=%{x}<extra></extra>",
         "legendgroup": "Justin Timberlake",
         "marker": {
          "color": "#EF553B",
          "pattern": {
           "shape": ""
          }
         },
         "name": "Justin Timberlake",
         "offsetgroup": "Justin Timberlake",
         "orientation": "h",
         "showlegend": true,
         "textposition": "auto",
         "type": "bar",
         "x": [
          149
         ],
         "xaxis": "x",
         "y": [
          "Justin Timberlake"
         ],
         "yaxis": "y"
        },
        {
         "alignmentgroup": "True",
         "hovertemplate": "artist=%{y}<br>year=2014<br>Song Count=%{x}<extra></extra>",
         "legendgroup": "Passenger",
         "marker": {
          "color": "#00cc96",
          "pattern": {
           "shape": ""
          }
         },
         "name": "Passenger",
         "offsetgroup": "Passenger",
         "orientation": "h",
         "showlegend": true,
         "textposition": "auto",
         "type": "bar",
         "x": [
          147
         ],
         "xaxis": "x",
         "y": [
          "Passenger"
         ],
         "yaxis": "y"
        },
        {
         "alignmentgroup": "True",
         "hovertemplate": "artist=%{y}<br>year=2014<br>Song Count=%{x}<extra></extra>",
         "legendgroup": "Guba",
         "marker": {
          "color": "#ab63fa",
          "pattern": {
           "shape": ""
          }
         },
         "name": "Guba",
         "offsetgroup": "Guba",
         "orientation": "h",
         "showlegend": true,
         "textposition": "auto",
         "type": "bar",
         "x": [
          114
         ],
         "xaxis": "x",
         "y": [
          "Guba"
         ],
         "yaxis": "y"
        },
        {
         "alignmentgroup": "True",
         "hovertemplate": "artist=%{y}<br>year=2014<br>Song Count=%{x}<extra></extra>",
         "legendgroup": "Taylor Swift",
         "marker": {
          "color": "#FFA15A",
          "pattern": {
           "shape": ""
          }
         },
         "name": "Taylor Swift",
         "offsetgroup": "Taylor Swift",
         "orientation": "h",
         "showlegend": true,
         "textposition": "auto",
         "type": "bar",
         "x": [
          95
         ],
         "xaxis": "x",
         "y": [
          "Taylor Swift"
         ],
         "yaxis": "y"
        }
       ],
       "frames": [
        {
         "data": [
          {
           "alignmentgroup": "True",
           "hovertemplate": "artist=%{y}<br>year=2014<br>Song Count=%{x}<extra></extra>",
           "legendgroup": "Yuna",
           "marker": {
            "color": "#636efa",
            "pattern": {
             "shape": ""
            }
           },
           "name": "Yuna",
           "offsetgroup": "Yuna",
           "orientation": "h",
           "showlegend": true,
           "textposition": "auto",
           "type": "bar",
           "x": [
            860
           ],
           "xaxis": "x",
           "y": [
            "Yuna"
           ],
           "yaxis": "y"
          },
          {
           "alignmentgroup": "True",
           "hovertemplate": "artist=%{y}<br>year=2014<br>Song Count=%{x}<extra></extra>",
           "legendgroup": "Beyoncé",
           "marker": {
            "color": "#EF553B",
            "pattern": {
             "shape": ""
            }
           },
           "name": "Beyoncé",
           "offsetgroup": "Beyoncé",
           "orientation": "h",
           "showlegend": true,
           "textposition": "auto",
           "type": "bar",
           "x": [
            673
           ],
           "xaxis": "x",
           "y": [
            "Beyoncé"
           ],
           "yaxis": "y"
          },
          {
           "alignmentgroup": "True",
           "hovertemplate": "artist=%{y}<br>year=2014<br>Song Count=%{x}<extra></extra>",
           "legendgroup": "Ed Sheeran",
           "marker": {
            "color": "#00cc96",
            "pattern": {
             "shape": ""
            }
           },
           "name": "Ed Sheeran",
           "offsetgroup": "Ed Sheeran",
           "orientation": "h",
           "showlegend": true,
           "textposition": "auto",
           "type": "bar",
           "x": [
            553
           ],
           "xaxis": "x",
           "y": [
            "Ed Sheeran"
           ],
           "yaxis": "y"
          },
          {
           "alignmentgroup": "True",
           "hovertemplate": "artist=%{y}<br>year=2014<br>Song Count=%{x}<extra></extra>",
           "legendgroup": "Norah Jones",
           "marker": {
            "color": "#ab63fa",
            "pattern": {
             "shape": ""
            }
           },
           "name": "Norah Jones",
           "offsetgroup": "Norah Jones",
           "orientation": "h",
           "showlegend": true,
           "textposition": "auto",
           "type": "bar",
           "x": [
            274
           ],
           "xaxis": "x",
           "y": [
            "Norah Jones"
           ],
           "yaxis": "y"
          },
          {
           "alignmentgroup": "True",
           "hovertemplate": "artist=%{y}<br>year=2014<br>Song Count=%{x}<extra></extra>",
           "legendgroup": "Destiny's Child",
           "marker": {
            "color": "#FFA15A",
            "pattern": {
             "shape": ""
            }
           },
           "name": "Destiny's Child",
           "offsetgroup": "Destiny's Child",
           "orientation": "h",
           "showlegend": true,
           "textposition": "auto",
           "type": "bar",
           "x": [
            248
           ],
           "xaxis": "x",
           "y": [
            "Destiny's Child"
           ],
           "yaxis": "y"
          },
          {
           "alignmentgroup": "True",
           "hovertemplate": "artist=%{y}<br>year=2014<br>Song Count=%{x}<extra></extra>",
           "legendgroup": "Troye Sivan",
           "marker": {
            "color": "#19d3f3",
            "pattern": {
             "shape": ""
            }
           },
           "name": "Troye Sivan",
           "offsetgroup": "Troye Sivan",
           "orientation": "h",
           "showlegend": true,
           "textposition": "auto",
           "type": "bar",
           "x": [
            244
           ],
           "xaxis": "x",
           "y": [
            "Troye Sivan"
           ],
           "yaxis": "y"
          },
          {
           "alignmentgroup": "True",
           "hovertemplate": "artist=%{y}<br>year=2014<br>Song Count=%{x}<extra></extra>",
           "legendgroup": "The Script",
           "marker": {
            "color": "#FF6692",
            "pattern": {
             "shape": ""
            }
           },
           "name": "The Script",
           "offsetgroup": "The Script",
           "orientation": "h",
           "showlegend": true,
           "textposition": "auto",
           "type": "bar",
           "x": [
            234
           ],
           "xaxis": "x",
           "y": [
            "The Script"
           ],
           "yaxis": "y"
          },
          {
           "alignmentgroup": "True",
           "hovertemplate": "artist=%{y}<br>year=2014<br>Song Count=%{x}<extra></extra>",
           "legendgroup": "Ellie Goulding",
           "marker": {
            "color": "#B6E880",
            "pattern": {
             "shape": ""
            }
           },
           "name": "Ellie Goulding",
           "offsetgroup": "Ellie Goulding",
           "orientation": "h",
           "showlegend": true,
           "textposition": "auto",
           "type": "bar",
           "x": [
            213
           ],
           "xaxis": "x",
           "y": [
            "Ellie Goulding"
           ],
           "yaxis": "y"
          },
          {
           "alignmentgroup": "True",
           "hovertemplate": "artist=%{y}<br>year=2014<br>Song Count=%{x}<extra></extra>",
           "legendgroup": "Colbie Caillat",
           "marker": {
            "color": "#FF97FF",
            "pattern": {
             "shape": ""
            }
           },
           "name": "Colbie Caillat",
           "offsetgroup": "Colbie Caillat",
           "orientation": "h",
           "showlegend": true,
           "textposition": "auto",
           "type": "bar",
           "x": [
            205
           ],
           "xaxis": "x",
           "y": [
            "Colbie Caillat"
           ],
           "yaxis": "y"
          },
          {
           "alignmentgroup": "True",
           "hovertemplate": "artist=%{y}<br>year=2014<br>Song Count=%{x}<extra></extra>",
           "legendgroup": "Alicia Keys",
           "marker": {
            "color": "#FECB52",
            "pattern": {
             "shape": ""
            }
           },
           "name": "Alicia Keys",
           "offsetgroup": "Alicia Keys",
           "orientation": "h",
           "showlegend": true,
           "textposition": "auto",
           "type": "bar",
           "x": [
            188
           ],
           "xaxis": "x",
           "y": [
            "Alicia Keys"
           ],
           "yaxis": "y"
          },
          {
           "alignmentgroup": "True",
           "hovertemplate": "artist=%{y}<br>year=2014<br>Song Count=%{x}<extra></extra>",
           "legendgroup": "Sia",
           "marker": {
            "color": "#636efa",
            "pattern": {
             "shape": ""
            }
           },
           "name": "Sia",
           "offsetgroup": "Sia",
           "orientation": "h",
           "showlegend": true,
           "textposition": "auto",
           "type": "bar",
           "x": [
            157
           ],
           "xaxis": "x",
           "y": [
            "Sia"
           ],
           "yaxis": "y"
          },
          {
           "alignmentgroup": "True",
           "hovertemplate": "artist=%{y}<br>year=2014<br>Song Count=%{x}<extra></extra>",
           "legendgroup": "Justin Timberlake",
           "marker": {
            "color": "#EF553B",
            "pattern": {
             "shape": ""
            }
           },
           "name": "Justin Timberlake",
           "offsetgroup": "Justin Timberlake",
           "orientation": "h",
           "showlegend": true,
           "textposition": "auto",
           "type": "bar",
           "x": [
            149
           ],
           "xaxis": "x",
           "y": [
            "Justin Timberlake"
           ],
           "yaxis": "y"
          },
          {
           "alignmentgroup": "True",
           "hovertemplate": "artist=%{y}<br>year=2014<br>Song Count=%{x}<extra></extra>",
           "legendgroup": "Passenger",
           "marker": {
            "color": "#00cc96",
            "pattern": {
             "shape": ""
            }
           },
           "name": "Passenger",
           "offsetgroup": "Passenger",
           "orientation": "h",
           "showlegend": true,
           "textposition": "auto",
           "type": "bar",
           "x": [
            147
           ],
           "xaxis": "x",
           "y": [
            "Passenger"
           ],
           "yaxis": "y"
          },
          {
           "alignmentgroup": "True",
           "hovertemplate": "artist=%{y}<br>year=2014<br>Song Count=%{x}<extra></extra>",
           "legendgroup": "Guba",
           "marker": {
            "color": "#ab63fa",
            "pattern": {
             "shape": ""
            }
           },
           "name": "Guba",
           "offsetgroup": "Guba",
           "orientation": "h",
           "showlegend": true,
           "textposition": "auto",
           "type": "bar",
           "x": [
            114
           ],
           "xaxis": "x",
           "y": [
            "Guba"
           ],
           "yaxis": "y"
          },
          {
           "alignmentgroup": "True",
           "hovertemplate": "artist=%{y}<br>year=2014<br>Song Count=%{x}<extra></extra>",
           "legendgroup": "Taylor Swift",
           "marker": {
            "color": "#FFA15A",
            "pattern": {
             "shape": ""
            }
           },
           "name": "Taylor Swift",
           "offsetgroup": "Taylor Swift",
           "orientation": "h",
           "showlegend": true,
           "textposition": "auto",
           "type": "bar",
           "x": [
            95
           ],
           "xaxis": "x",
           "y": [
            "Taylor Swift"
           ],
           "yaxis": "y"
          }
         ],
         "name": "2014"
        },
        {
         "data": [
          {
           "alignmentgroup": "True",
           "hovertemplate": "artist=%{y}<br>year=2015<br>Song Count=%{x}<extra></extra>",
           "legendgroup": "Yuna",
           "marker": {
            "color": "#636efa",
            "pattern": {
             "shape": ""
            }
           },
           "name": "Yuna",
           "offsetgroup": "Yuna",
           "orientation": "h",
           "showlegend": true,
           "textposition": "auto",
           "type": "bar",
           "x": [
            2019
           ],
           "xaxis": "x",
           "y": [
            "Yuna"
           ],
           "yaxis": "y"
          },
          {
           "alignmentgroup": "True",
           "hovertemplate": "artist=%{y}<br>year=2015<br>Song Count=%{x}<extra></extra>",
           "legendgroup": "Beyoncé",
           "marker": {
            "color": "#EF553B",
            "pattern": {
             "shape": ""
            }
           },
           "name": "Beyoncé",
           "offsetgroup": "Beyoncé",
           "orientation": "h",
           "showlegend": true,
           "textposition": "auto",
           "type": "bar",
           "x": [
            518
           ],
           "xaxis": "x",
           "y": [
            "Beyoncé"
           ],
           "yaxis": "y"
          },
          {
           "alignmentgroup": "True",
           "hovertemplate": "artist=%{y}<br>year=2015<br>Song Count=%{x}<extra></extra>",
           "legendgroup": "Destiny's Child",
           "marker": {
            "color": "#FFA15A",
            "pattern": {
             "shape": ""
            }
           },
           "name": "Destiny's Child",
           "offsetgroup": "Destiny's Child",
           "orientation": "h",
           "showlegend": true,
           "textposition": "auto",
           "type": "bar",
           "x": [
            472
           ],
           "xaxis": "x",
           "y": [
            "Destiny's Child"
           ],
           "yaxis": "y"
          },
          {
           "alignmentgroup": "True",
           "hovertemplate": "artist=%{y}<br>year=2015<br>Song Count=%{x}<extra></extra>",
           "legendgroup": "Alicia Keys",
           "marker": {
            "color": "#FECB52",
            "pattern": {
             "shape": ""
            }
           },
           "name": "Alicia Keys",
           "offsetgroup": "Alicia Keys",
           "orientation": "h",
           "showlegend": true,
           "textposition": "auto",
           "type": "bar",
           "x": [
            194
           ],
           "xaxis": "x",
           "y": [
            "Alicia Keys"
           ],
           "yaxis": "y"
          },
          {
           "alignmentgroup": "True",
           "hovertemplate": "artist=%{y}<br>year=2015<br>Song Count=%{x}<extra></extra>",
           "legendgroup": "Eminem",
           "marker": {
            "color": "#19d3f3",
            "pattern": {
             "shape": ""
            }
           },
           "name": "Eminem",
           "offsetgroup": "Eminem",
           "orientation": "h",
           "showlegend": true,
           "textposition": "auto",
           "type": "bar",
           "x": [
            515
           ],
           "xaxis": "x",
           "y": [
            "Eminem"
           ],
           "yaxis": "y"
          },
          {
           "alignmentgroup": "True",
           "hovertemplate": "artist=%{y}<br>year=2015<br>Song Count=%{x}<extra></extra>",
           "legendgroup": "Bee Gees",
           "marker": {
            "color": "#FF6692",
            "pattern": {
             "shape": ""
            }
           },
           "name": "Bee Gees",
           "offsetgroup": "Bee Gees",
           "orientation": "h",
           "showlegend": true,
           "textposition": "auto",
           "type": "bar",
           "x": [
            435
           ],
           "xaxis": "x",
           "y": [
            "Bee Gees"
           ],
           "yaxis": "y"
          },
          {
           "alignmentgroup": "True",
           "hovertemplate": "artist=%{y}<br>year=2015<br>Song Count=%{x}<extra></extra>",
           "legendgroup": "Daniela Andrade",
           "marker": {
            "color": "#B6E880",
            "pattern": {
             "shape": ""
            }
           },
           "name": "Daniela Andrade",
           "offsetgroup": "Daniela Andrade",
           "orientation": "h",
           "showlegend": true,
           "textposition": "auto",
           "type": "bar",
           "x": [
            408
           ],
           "xaxis": "x",
           "y": [
            "Daniela Andrade"
           ],
           "yaxis": "y"
          },
          {
           "alignmentgroup": "True",
           "hovertemplate": "artist=%{y}<br>year=2015<br>Song Count=%{x}<extra></extra>",
           "legendgroup": "Dido",
           "marker": {
            "color": "#FF97FF",
            "pattern": {
             "shape": ""
            }
           },
           "name": "Dido",
           "offsetgroup": "Dido",
           "orientation": "h",
           "showlegend": true,
           "textposition": "auto",
           "type": "bar",
           "x": [
            386
           ],
           "xaxis": "x",
           "y": [
            "Dido"
           ],
           "yaxis": "y"
          },
          {
           "alignmentgroup": "True",
           "hovertemplate": "artist=%{y}<br>year=2015<br>Song Count=%{x}<extra></extra>",
           "legendgroup": "Meghan Trainor",
           "marker": {
            "color": "#FECB52",
            "pattern": {
             "shape": ""
            }
           },
           "name": "Meghan Trainor",
           "offsetgroup": "Meghan Trainor",
           "orientation": "h",
           "showlegend": true,
           "textposition": "auto",
           "type": "bar",
           "x": [
            285
           ],
           "xaxis": "x",
           "y": [
            "Meghan Trainor"
           ],
           "yaxis": "y"
          },
          {
           "alignmentgroup": "True",
           "hovertemplate": "artist=%{y}<br>year=2015<br>Song Count=%{x}<extra></extra>",
           "legendgroup": "Hozier",
           "marker": {
            "color": "#636efa",
            "pattern": {
             "shape": ""
            }
           },
           "name": "Hozier",
           "offsetgroup": "Hozier",
           "orientation": "h",
           "showlegend": true,
           "textposition": "auto",
           "type": "bar",
           "x": [
            232
           ],
           "xaxis": "x",
           "y": [
            "Hozier"
           ],
           "yaxis": "y"
          },
          {
           "alignmentgroup": "True",
           "hovertemplate": "artist=%{y}<br>year=2015<br>Song Count=%{x}<extra></extra>",
           "legendgroup": "Adam Levine",
           "marker": {
            "color": "#EF553B",
            "pattern": {
             "shape": ""
            }
           },
           "name": "Adam Levine",
           "offsetgroup": "Adam Levine",
           "orientation": "h",
           "showlegend": true,
           "textposition": "auto",
           "type": "bar",
           "x": [
            231
           ],
           "xaxis": "x",
           "y": [
            "Adam Levine"
           ],
           "yaxis": "y"
          },
          {
           "alignmentgroup": "True",
           "hovertemplate": "artist=%{y}<br>year=2015<br>Song Count=%{x}<extra></extra>",
           "legendgroup": "Coldplay",
           "marker": {
            "color": "#00cc96",
            "pattern": {
             "shape": ""
            }
           },
           "name": "Coldplay",
           "offsetgroup": "Coldplay",
           "orientation": "h",
           "showlegend": true,
           "textposition": "auto",
           "type": "bar",
           "x": [
            193
           ],
           "xaxis": "x",
           "y": [
            "Coldplay"
           ],
           "yaxis": "y"
          },
          {
           "alignmentgroup": "True",
           "hovertemplate": "artist=%{y}<br>year=2015<br>Song Count=%{x}<extra></extra>",
           "legendgroup": "John Lennon",
           "marker": {
            "color": "#ab63fa",
            "pattern": {
             "shape": ""
            }
           },
           "name": "John Lennon",
           "offsetgroup": "John Lennon",
           "orientation": "h",
           "showlegend": true,
           "textposition": "auto",
           "type": "bar",
           "x": [
            187
           ],
           "xaxis": "x",
           "y": [
            "John Lennon"
           ],
           "yaxis": "y"
          },
          {
           "alignmentgroup": "True",
           "hovertemplate": "artist=%{y}<br>year=2015<br>Song Count=%{x}<extra></extra>",
           "legendgroup": "Avril Lavigne",
           "marker": {
            "color": "#FFA15A",
            "pattern": {
             "shape": ""
            }
           },
           "name": "Avril Lavigne",
           "offsetgroup": "Avril Lavigne",
           "orientation": "h",
           "showlegend": true,
           "textposition": "auto",
           "type": "bar",
           "x": [
            144
           ],
           "xaxis": "x",
           "y": [
            "Avril Lavigne"
           ],
           "yaxis": "y"
          },
          {
           "alignmentgroup": "True",
           "hovertemplate": "artist=%{y}<br>year=2015<br>Song Count=%{x}<extra></extra>",
           "legendgroup": "Paris Music",
           "marker": {
            "color": "#19d3f3",
            "pattern": {
             "shape": ""
            }
           },
           "name": "Paris Music",
           "offsetgroup": "Paris Music",
           "orientation": "h",
           "showlegend": true,
           "textposition": "auto",
           "type": "bar",
           "x": [
            143
           ],
           "xaxis": "x",
           "y": [
            "Paris Music"
           ],
           "yaxis": "y"
          }
         ],
         "name": "2015"
        },
        {
         "data": [
          {
           "alignmentgroup": "True",
           "hovertemplate": "artist=%{y}<br>year=2016<br>Song Count=%{x}<extra></extra>",
           "legendgroup": "Yuna",
           "marker": {
            "color": "#636efa",
            "pattern": {
             "shape": ""
            }
           },
           "name": "Yuna",
           "offsetgroup": "Yuna",
           "orientation": "h",
           "showlegend": true,
           "textposition": "auto",
           "type": "bar",
           "x": [
            1012
           ],
           "xaxis": "x",
           "y": [
            "Yuna"
           ],
           "yaxis": "y"
          },
          {
           "alignmentgroup": "True",
           "hovertemplate": "artist=%{y}<br>year=2016<br>Song Count=%{x}<extra></extra>",
           "legendgroup": "Beyoncé",
           "marker": {
            "color": "#EF553B",
            "pattern": {
             "shape": ""
            }
           },
           "name": "Beyoncé",
           "offsetgroup": "Beyoncé",
           "orientation": "h",
           "showlegend": true,
           "textposition": "auto",
           "type": "bar",
           "x": [
            486
           ],
           "xaxis": "x",
           "y": [
            "Beyoncé"
           ],
           "yaxis": "y"
          },
          {
           "alignmentgroup": "True",
           "hovertemplate": "artist=%{y}<br>year=2016<br>Song Count=%{x}<extra></extra>",
           "legendgroup": "Destiny's Child",
           "marker": {
            "color": "#FFA15A",
            "pattern": {
             "shape": ""
            }
           },
           "name": "Destiny's Child",
           "offsetgroup": "Destiny's Child",
           "orientation": "h",
           "showlegend": true,
           "textposition": "auto",
           "type": "bar",
           "x": [
            277
           ],
           "xaxis": "x",
           "y": [
            "Destiny's Child"
           ],
           "yaxis": "y"
          },
          {
           "alignmentgroup": "True",
           "hovertemplate": "artist=%{y}<br>year=2016<br>Song Count=%{x}<extra></extra>",
           "legendgroup": "Sia",
           "marker": {
            "color": "#636efa",
            "pattern": {
             "shape": ""
            }
           },
           "name": "Sia",
           "offsetgroup": "Sia",
           "orientation": "h",
           "showlegend": true,
           "textposition": "auto",
           "type": "bar",
           "x": [
            140
           ],
           "xaxis": "x",
           "y": [
            "Sia"
           ],
           "yaxis": "y"
          },
          {
           "alignmentgroup": "True",
           "hovertemplate": "artist=%{y}<br>year=2016<br>Song Count=%{x}<extra></extra>",
           "legendgroup": "Bee Gees",
           "marker": {
            "color": "#FF6692",
            "pattern": {
             "shape": ""
            }
           },
           "name": "Bee Gees",
           "offsetgroup": "Bee Gees",
           "orientation": "h",
           "showlegend": true,
           "textposition": "auto",
           "type": "bar",
           "x": [
            152
           ],
           "xaxis": "x",
           "y": [
            "Bee Gees"
           ],
           "yaxis": "y"
          },
          {
           "alignmentgroup": "True",
           "hovertemplate": "artist=%{y}<br>year=2016<br>Song Count=%{x}<extra></extra>",
           "legendgroup": "Meghan Trainor",
           "marker": {
            "color": "#FECB52",
            "pattern": {
             "shape": ""
            }
           },
           "name": "Meghan Trainor",
           "offsetgroup": "Meghan Trainor",
           "orientation": "h",
           "showlegend": true,
           "textposition": "auto",
           "type": "bar",
           "x": [
            206
           ],
           "xaxis": "x",
           "y": [
            "Meghan Trainor"
           ],
           "yaxis": "y"
          },
          {
           "alignmentgroup": "True",
           "hovertemplate": "artist=%{y}<br>year=2016<br>Song Count=%{x}<extra></extra>",
           "legendgroup": "Adam Levine",
           "marker": {
            "color": "#EF553B",
            "pattern": {
             "shape": ""
            }
           },
           "name": "Adam Levine",
           "offsetgroup": "Adam Levine",
           "orientation": "h",
           "showlegend": true,
           "textposition": "auto",
           "type": "bar",
           "x": [
            107
           ],
           "xaxis": "x",
           "y": [
            "Adam Levine"
           ],
           "yaxis": "y"
          },
          {
           "alignmentgroup": "True",
           "hovertemplate": "artist=%{y}<br>year=2016<br>Song Count=%{x}<extra></extra>",
           "legendgroup": "Coldplay",
           "marker": {
            "color": "#00cc96",
            "pattern": {
             "shape": ""
            }
           },
           "name": "Coldplay",
           "offsetgroup": "Coldplay",
           "orientation": "h",
           "showlegend": true,
           "textposition": "auto",
           "type": "bar",
           "x": [
            206
           ],
           "xaxis": "x",
           "y": [
            "Coldplay"
           ],
           "yaxis": "y"
          },
          {
           "alignmentgroup": "True",
           "hovertemplate": "artist=%{y}<br>year=2016<br>Song Count=%{x}<extra></extra>",
           "legendgroup": "Pentatonix",
           "marker": {
            "color": "#FF6692",
            "pattern": {
             "shape": ""
            }
           },
           "name": "Pentatonix",
           "offsetgroup": "Pentatonix",
           "orientation": "h",
           "showlegend": true,
           "textposition": "auto",
           "type": "bar",
           "x": [
            852
           ],
           "xaxis": "x",
           "y": [
            "Pentatonix"
           ],
           "yaxis": "y"
          },
          {
           "alignmentgroup": "True",
           "hovertemplate": "artist=%{y}<br>year=2016<br>Song Count=%{x}<extra></extra>",
           "legendgroup": "Selena Gomez",
           "marker": {
            "color": "#B6E880",
            "pattern": {
             "shape": ""
            }
           },
           "name": "Selena Gomez",
           "offsetgroup": "Selena Gomez",
           "orientation": "h",
           "showlegend": true,
           "textposition": "auto",
           "type": "bar",
           "x": [
            325
           ],
           "xaxis": "x",
           "y": [
            "Selena Gomez"
           ],
           "yaxis": "y"
          },
          {
           "alignmentgroup": "True",
           "hovertemplate": "artist=%{y}<br>year=2016<br>Song Count=%{x}<extra></extra>",
           "legendgroup": "Rihanna",
           "marker": {
            "color": "#FF97FF",
            "pattern": {
             "shape": ""
            }
           },
           "name": "Rihanna",
           "offsetgroup": "Rihanna",
           "orientation": "h",
           "showlegend": true,
           "textposition": "auto",
           "type": "bar",
           "x": [
            232
           ],
           "xaxis": "x",
           "y": [
            "Rihanna"
           ],
           "yaxis": "y"
          },
          {
           "alignmentgroup": "True",
           "hovertemplate": "artist=%{y}<br>year=2016<br>Song Count=%{x}<extra></extra>",
           "legendgroup": "Madonna",
           "marker": {
            "color": "#FECB52",
            "pattern": {
             "shape": ""
            }
           },
           "name": "Madonna",
           "offsetgroup": "Madonna",
           "orientation": "h",
           "showlegend": true,
           "textposition": "auto",
           "type": "bar",
           "x": [
            170
           ],
           "xaxis": "x",
           "y": [
            "Madonna"
           ],
           "yaxis": "y"
          },
          {
           "alignmentgroup": "True",
           "hovertemplate": "artist=%{y}<br>year=2016<br>Song Count=%{x}<extra></extra>",
           "legendgroup": "Adele",
           "marker": {
            "color": "#636efa",
            "pattern": {
             "shape": ""
            }
           },
           "name": "Adele",
           "offsetgroup": "Adele",
           "orientation": "h",
           "showlegend": true,
           "textposition": "auto",
           "type": "bar",
           "x": [
            144
           ],
           "xaxis": "x",
           "y": [
            "Adele"
           ],
           "yaxis": "y"
          },
          {
           "alignmentgroup": "True",
           "hovertemplate": "artist=%{y}<br>year=2016<br>Song Count=%{x}<extra></extra>",
           "legendgroup": "Twenty One Pilots",
           "marker": {
            "color": "#EF553B",
            "pattern": {
             "shape": ""
            }
           },
           "name": "Twenty One Pilots",
           "offsetgroup": "Twenty One Pilots",
           "orientation": "h",
           "showlegend": true,
           "textposition": "auto",
           "type": "bar",
           "x": [
            143
           ],
           "xaxis": "x",
           "y": [
            "Twenty One Pilots"
           ],
           "yaxis": "y"
          },
          {
           "alignmentgroup": "True",
           "hovertemplate": "artist=%{y}<br>year=2016<br>Song Count=%{x}<extra></extra>",
           "legendgroup": "Dato' Sri Siti Nurhaliza",
           "marker": {
            "color": "#00cc96",
            "pattern": {
             "shape": ""
            }
           },
           "name": "Dato' Sri Siti Nurhaliza",
           "offsetgroup": "Dato' Sri Siti Nurhaliza",
           "orientation": "h",
           "showlegend": true,
           "textposition": "auto",
           "type": "bar",
           "x": [
            125
           ],
           "xaxis": "x",
           "y": [
            "Dato' Sri Siti Nurhaliza"
           ],
           "yaxis": "y"
          }
         ],
         "name": "2016"
        },
        {
         "data": [
          {
           "alignmentgroup": "True",
           "hovertemplate": "artist=%{y}<br>year=2017<br>Song Count=%{x}<extra></extra>",
           "legendgroup": "Yuna",
           "marker": {
            "color": "#636efa",
            "pattern": {
             "shape": ""
            }
           },
           "name": "Yuna",
           "offsetgroup": "Yuna",
           "orientation": "h",
           "showlegend": true,
           "textposition": "auto",
           "type": "bar",
           "x": [
            296
           ],
           "xaxis": "x",
           "y": [
            "Yuna"
           ],
           "yaxis": "y"
          },
          {
           "alignmentgroup": "True",
           "hovertemplate": "artist=%{y}<br>year=2017<br>Song Count=%{x}<extra></extra>",
           "legendgroup": "Beyoncé",
           "marker": {
            "color": "#EF553B",
            "pattern": {
             "shape": ""
            }
           },
           "name": "Beyoncé",
           "offsetgroup": "Beyoncé",
           "orientation": "h",
           "showlegend": true,
           "textposition": "auto",
           "type": "bar",
           "x": [
            348
           ],
           "xaxis": "x",
           "y": [
            "Beyoncé"
           ],
           "yaxis": "y"
          },
          {
           "alignmentgroup": "True",
           "hovertemplate": "artist=%{y}<br>year=2017<br>Song Count=%{x}<extra></extra>",
           "legendgroup": "Ed Sheeran",
           "marker": {
            "color": "#00cc96",
            "pattern": {
             "shape": ""
            }
           },
           "name": "Ed Sheeran",
           "offsetgroup": "Ed Sheeran",
           "orientation": "h",
           "showlegend": true,
           "textposition": "auto",
           "type": "bar",
           "x": [
            140
           ],
           "xaxis": "x",
           "y": [
            "Ed Sheeran"
           ],
           "yaxis": "y"
          },
          {
           "alignmentgroup": "True",
           "hovertemplate": "artist=%{y}<br>year=2017<br>Song Count=%{x}<extra></extra>",
           "legendgroup": "Colbie Caillat",
           "marker": {
            "color": "#FF97FF",
            "pattern": {
             "shape": ""
            }
           },
           "name": "Colbie Caillat",
           "offsetgroup": "Colbie Caillat",
           "orientation": "h",
           "showlegend": true,
           "textposition": "auto",
           "type": "bar",
           "x": [
            110
           ],
           "xaxis": "x",
           "y": [
            "Colbie Caillat"
           ],
           "yaxis": "y"
          },
          {
           "alignmentgroup": "True",
           "hovertemplate": "artist=%{y}<br>year=2017<br>Song Count=%{x}<extra></extra>",
           "legendgroup": "Queen",
           "marker": {
            "color": "#ab63fa",
            "pattern": {
             "shape": ""
            }
           },
           "name": "Queen",
           "offsetgroup": "Queen",
           "orientation": "h",
           "showlegend": true,
           "textposition": "auto",
           "type": "bar",
           "x": [
            1467
           ],
           "xaxis": "x",
           "y": [
            "Queen"
           ],
           "yaxis": "y"
          },
          {
           "alignmentgroup": "True",
           "hovertemplate": "artist=%{y}<br>year=2017<br>Song Count=%{x}<extra></extra>",
           "legendgroup": "ZAYN",
           "marker": {
            "color": "#FFA15A",
            "pattern": {
             "shape": ""
            }
           },
           "name": "ZAYN",
           "offsetgroup": "ZAYN",
           "orientation": "h",
           "showlegend": true,
           "textposition": "auto",
           "type": "bar",
           "x": [
            366
           ],
           "xaxis": "x",
           "y": [
            "ZAYN"
           ],
           "yaxis": "y"
          },
          {
           "alignmentgroup": "True",
           "hovertemplate": "artist=%{y}<br>year=2017<br>Song Count=%{x}<extra></extra>",
           "legendgroup": "Julia Michaels",
           "marker": {
            "color": "#19d3f3",
            "pattern": {
             "shape": ""
            }
           },
           "name": "Julia Michaels",
           "offsetgroup": "Julia Michaels",
           "orientation": "h",
           "showlegend": true,
           "textposition": "auto",
           "type": "bar",
           "x": [
            348
           ],
           "xaxis": "x",
           "y": [
            "Julia Michaels"
           ],
           "yaxis": "y"
          },
          {
           "alignmentgroup": "True",
           "hovertemplate": "artist=%{y}<br>year=2017<br>Song Count=%{x}<extra></extra>",
           "legendgroup": "mgk",
           "marker": {
            "color": "#FF6692",
            "pattern": {
             "shape": ""
            }
           },
           "name": "mgk",
           "offsetgroup": "mgk",
           "orientation": "h",
           "showlegend": true,
           "textposition": "auto",
           "type": "bar",
           "x": [
            291
           ],
           "xaxis": "x",
           "y": [
            "mgk"
           ],
           "yaxis": "y"
          },
          {
           "alignmentgroup": "True",
           "hovertemplate": "artist=%{y}<br>year=2017<br>Song Count=%{x}<extra></extra>",
           "legendgroup": "Solange",
           "marker": {
            "color": "#B6E880",
            "pattern": {
             "shape": ""
            }
           },
           "name": "Solange",
           "offsetgroup": "Solange",
           "orientation": "h",
           "showlegend": true,
           "textposition": "auto",
           "type": "bar",
           "x": [
            278
           ],
           "xaxis": "x",
           "y": [
            "Solange"
           ],
           "yaxis": "y"
          },
          {
           "alignmentgroup": "True",
           "hovertemplate": "artist=%{y}<br>year=2017<br>Song Count=%{x}<extra></extra>",
           "legendgroup": "Alessia Cara",
           "marker": {
            "color": "#FF97FF",
            "pattern": {
             "shape": ""
            }
           },
           "name": "Alessia Cara",
           "offsetgroup": "Alessia Cara",
           "orientation": "h",
           "showlegend": true,
           "textposition": "auto",
           "type": "bar",
           "x": [
            254
           ],
           "xaxis": "x",
           "y": [
            "Alessia Cara"
           ],
           "yaxis": "y"
          },
          {
           "alignmentgroup": "True",
           "hovertemplate": "artist=%{y}<br>year=2017<br>Song Count=%{x}<extra></extra>",
           "legendgroup": "Jon Bellion",
           "marker": {
            "color": "#FECB52",
            "pattern": {
             "shape": ""
            }
           },
           "name": "Jon Bellion",
           "offsetgroup": "Jon Bellion",
           "orientation": "h",
           "showlegend": true,
           "textposition": "auto",
           "type": "bar",
           "x": [
            218
           ],
           "xaxis": "x",
           "y": [
            "Jon Bellion"
           ],
           "yaxis": "y"
          },
          {
           "alignmentgroup": "True",
           "hovertemplate": "artist=%{y}<br>year=2017<br>Song Count=%{x}<extra></extra>",
           "legendgroup": "Ariana Grande",
           "marker": {
            "color": "#636efa",
            "pattern": {
             "shape": ""
            }
           },
           "name": "Ariana Grande",
           "offsetgroup": "Ariana Grande",
           "orientation": "h",
           "showlegend": true,
           "textposition": "auto",
           "type": "bar",
           "x": [
            147
           ],
           "xaxis": "x",
           "y": [
            "Ariana Grande"
           ],
           "yaxis": "y"
          },
          {
           "alignmentgroup": "True",
           "hovertemplate": "artist=%{y}<br>year=2017<br>Song Count=%{x}<extra></extra>",
           "legendgroup": "James Arthur",
           "marker": {
            "color": "#EF553B",
            "pattern": {
             "shape": ""
            }
           },
           "name": "James Arthur",
           "offsetgroup": "James Arthur",
           "orientation": "h",
           "showlegend": true,
           "textposition": "auto",
           "type": "bar",
           "x": [
            141
           ],
           "xaxis": "x",
           "y": [
            "James Arthur"
           ],
           "yaxis": "y"
          },
          {
           "alignmentgroup": "True",
           "hovertemplate": "artist=%{y}<br>year=2017<br>Song Count=%{x}<extra></extra>",
           "legendgroup": "Britney Spears",
           "marker": {
            "color": "#00cc96",
            "pattern": {
             "shape": ""
            }
           },
           "name": "Britney Spears",
           "offsetgroup": "Britney Spears",
           "orientation": "h",
           "showlegend": true,
           "textposition": "auto",
           "type": "bar",
           "x": [
            124
           ],
           "xaxis": "x",
           "y": [
            "Britney Spears"
           ],
           "yaxis": "y"
          },
          {
           "alignmentgroup": "True",
           "hovertemplate": "artist=%{y}<br>year=2017<br>Song Count=%{x}<extra></extra>",
           "legendgroup": "Lady Gaga",
           "marker": {
            "color": "#ab63fa",
            "pattern": {
             "shape": ""
            }
           },
           "name": "Lady Gaga",
           "offsetgroup": "Lady Gaga",
           "orientation": "h",
           "showlegend": true,
           "textposition": "auto",
           "type": "bar",
           "x": [
            124
           ],
           "xaxis": "x",
           "y": [
            "Lady Gaga"
           ],
           "yaxis": "y"
          }
         ],
         "name": "2017"
        },
        {
         "data": [
          {
           "alignmentgroup": "True",
           "hovertemplate": "artist=%{y}<br>year=2018<br>Song Count=%{x}<extra></extra>",
           "legendgroup": "Beyoncé",
           "marker": {
            "color": "#EF553B",
            "pattern": {
             "shape": ""
            }
           },
           "name": "Beyoncé",
           "offsetgroup": "Beyoncé",
           "orientation": "h",
           "showlegend": true,
           "textposition": "auto",
           "type": "bar",
           "x": [
            200
           ],
           "xaxis": "x",
           "y": [
            "Beyoncé"
           ],
           "yaxis": "y"
          },
          {
           "alignmentgroup": "True",
           "hovertemplate": "artist=%{y}<br>year=2018<br>Song Count=%{x}<extra></extra>",
           "legendgroup": "Destiny's Child",
           "marker": {
            "color": "#FFA15A",
            "pattern": {
             "shape": ""
            }
           },
           "name": "Destiny's Child",
           "offsetgroup": "Destiny's Child",
           "orientation": "h",
           "showlegend": true,
           "textposition": "auto",
           "type": "bar",
           "x": [
            73
           ],
           "xaxis": "x",
           "y": [
            "Destiny's Child"
           ],
           "yaxis": "y"
          },
          {
           "alignmentgroup": "True",
           "hovertemplate": "artist=%{y}<br>year=2018<br>Song Count=%{x}<extra></extra>",
           "legendgroup": "Alicia Keys",
           "marker": {
            "color": "#FECB52",
            "pattern": {
             "shape": ""
            }
           },
           "name": "Alicia Keys",
           "offsetgroup": "Alicia Keys",
           "orientation": "h",
           "showlegend": true,
           "textposition": "auto",
           "type": "bar",
           "x": [
            67
           ],
           "xaxis": "x",
           "y": [
            "Alicia Keys"
           ],
           "yaxis": "y"
          },
          {
           "alignmentgroup": "True",
           "hovertemplate": "artist=%{y}<br>year=2018<br>Song Count=%{x}<extra></extra>",
           "legendgroup": "Eminem",
           "marker": {
            "color": "#19d3f3",
            "pattern": {
             "shape": ""
            }
           },
           "name": "Eminem",
           "offsetgroup": "Eminem",
           "orientation": "h",
           "showlegend": true,
           "textposition": "auto",
           "type": "bar",
           "x": [
            69
           ],
           "xaxis": "x",
           "y": [
            "Eminem"
           ],
           "yaxis": "y"
          },
          {
           "alignmentgroup": "True",
           "hovertemplate": "artist=%{y}<br>year=2018<br>Song Count=%{x}<extra></extra>",
           "legendgroup": "Meghan Trainor",
           "marker": {
            "color": "#FECB52",
            "pattern": {
             "shape": ""
            }
           },
           "name": "Meghan Trainor",
           "offsetgroup": "Meghan Trainor",
           "orientation": "h",
           "showlegend": true,
           "textposition": "auto",
           "type": "bar",
           "x": [
            47
           ],
           "xaxis": "x",
           "y": [
            "Meghan Trainor"
           ],
           "yaxis": "y"
          },
          {
           "alignmentgroup": "True",
           "hovertemplate": "artist=%{y}<br>year=2018<br>Song Count=%{x}<extra></extra>",
           "legendgroup": "Rihanna",
           "marker": {
            "color": "#FF97FF",
            "pattern": {
             "shape": ""
            }
           },
           "name": "Rihanna",
           "offsetgroup": "Rihanna",
           "orientation": "h",
           "showlegend": true,
           "textposition": "auto",
           "type": "bar",
           "x": [
            47
           ],
           "xaxis": "x",
           "y": [
            "Rihanna"
           ],
           "yaxis": "y"
          },
          {
           "alignmentgroup": "True",
           "hovertemplate": "artist=%{y}<br>year=2018<br>Song Count=%{x}<extra></extra>",
           "legendgroup": "Queen",
           "marker": {
            "color": "#ab63fa",
            "pattern": {
             "shape": ""
            }
           },
           "name": "Queen",
           "offsetgroup": "Queen",
           "orientation": "h",
           "showlegend": true,
           "textposition": "auto",
           "type": "bar",
           "x": [
            764
           ],
           "xaxis": "x",
           "y": [
            "Queen"
           ],
           "yaxis": "y"
          },
          {
           "alignmentgroup": "True",
           "hovertemplate": "artist=%{y}<br>year=2018<br>Song Count=%{x}<extra></extra>",
           "legendgroup": "Alessia Cara",
           "marker": {
            "color": "#FF97FF",
            "pattern": {
             "shape": ""
            }
           },
           "name": "Alessia Cara",
           "offsetgroup": "Alessia Cara",
           "orientation": "h",
           "showlegend": true,
           "textposition": "auto",
           "type": "bar",
           "x": [
            68
           ],
           "xaxis": "x",
           "y": [
            "Alessia Cara"
           ],
           "yaxis": "y"
          },
          {
           "alignmentgroup": "True",
           "hovertemplate": "artist=%{y}<br>year=2018<br>Song Count=%{x}<extra></extra>",
           "legendgroup": "Britney Spears",
           "marker": {
            "color": "#00cc96",
            "pattern": {
             "shape": ""
            }
           },
           "name": "Britney Spears",
           "offsetgroup": "Britney Spears",
           "orientation": "h",
           "showlegend": true,
           "textposition": "auto",
           "type": "bar",
           "x": [
            49
           ],
           "xaxis": "x",
           "y": [
            "Britney Spears"
           ],
           "yaxis": "y"
          },
          {
           "alignmentgroup": "True",
           "hovertemplate": "artist=%{y}<br>year=2018<br>Song Count=%{x}<extra></extra>",
           "legendgroup": "NF",
           "marker": {
            "color": "#FFA15A",
            "pattern": {
             "shape": ""
            }
           },
           "name": "NF",
           "offsetgroup": "NF",
           "orientation": "h",
           "showlegend": true,
           "textposition": "auto",
           "type": "bar",
           "x": [
            95
           ],
           "xaxis": "x",
           "y": [
            "NF"
           ],
           "yaxis": "y"
          },
          {
           "alignmentgroup": "True",
           "hovertemplate": "artist=%{y}<br>year=2018<br>Song Count=%{x}<extra></extra>",
           "legendgroup": "Demi Lovato",
           "marker": {
            "color": "#19d3f3",
            "pattern": {
             "shape": ""
            }
           },
           "name": "Demi Lovato",
           "offsetgroup": "Demi Lovato",
           "orientation": "h",
           "showlegend": true,
           "textposition": "auto",
           "type": "bar",
           "x": [
            92
           ],
           "xaxis": "x",
           "y": [
            "Demi Lovato"
           ],
           "yaxis": "y"
          },
          {
           "alignmentgroup": "True",
           "hovertemplate": "artist=%{y}<br>year=2018<br>Song Count=%{x}<extra></extra>",
           "legendgroup": "Little Mix",
           "marker": {
            "color": "#FF6692",
            "pattern": {
             "shape": ""
            }
           },
           "name": "Little Mix",
           "offsetgroup": "Little Mix",
           "orientation": "h",
           "showlegend": true,
           "textposition": "auto",
           "type": "bar",
           "x": [
            59
           ],
           "xaxis": "x",
           "y": [
            "Little Mix"
           ],
           "yaxis": "y"
          },
          {
           "alignmentgroup": "True",
           "hovertemplate": "artist=%{y}<br>year=2018<br>Song Count=%{x}<extra></extra>",
           "legendgroup": "Hailee Steinfeld",
           "marker": {
            "color": "#B6E880",
            "pattern": {
             "shape": ""
            }
           },
           "name": "Hailee Steinfeld",
           "offsetgroup": "Hailee Steinfeld",
           "orientation": "h",
           "showlegend": true,
           "textposition": "auto",
           "type": "bar",
           "x": [
            55
           ],
           "xaxis": "x",
           "y": [
            "Hailee Steinfeld"
           ],
           "yaxis": "y"
          },
          {
           "alignmentgroup": "True",
           "hovertemplate": "artist=%{y}<br>year=2018<br>Song Count=%{x}<extra></extra>",
           "legendgroup": "Bebe Rexha",
           "marker": {
            "color": "#FF97FF",
            "pattern": {
             "shape": ""
            }
           },
           "name": "Bebe Rexha",
           "offsetgroup": "Bebe Rexha",
           "orientation": "h",
           "showlegend": true,
           "textposition": "auto",
           "type": "bar",
           "x": [
            54
           ],
           "xaxis": "x",
           "y": [
            "Bebe Rexha"
           ],
           "yaxis": "y"
          },
          {
           "alignmentgroup": "True",
           "hovertemplate": "artist=%{y}<br>year=2018<br>Song Count=%{x}<extra></extra>",
           "legendgroup": "Miley Cyrus",
           "marker": {
            "color": "#FECB52",
            "pattern": {
             "shape": ""
            }
           },
           "name": "Miley Cyrus",
           "offsetgroup": "Miley Cyrus",
           "orientation": "h",
           "showlegend": true,
           "textposition": "auto",
           "type": "bar",
           "x": [
            46
           ],
           "xaxis": "x",
           "y": [
            "Miley Cyrus"
           ],
           "yaxis": "y"
          }
         ],
         "name": "2018"
        },
        {
         "data": [
          {
           "alignmentgroup": "True",
           "hovertemplate": "artist=%{y}<br>year=2019<br>Song Count=%{x}<extra></extra>",
           "legendgroup": "Yuna",
           "marker": {
            "color": "#636efa",
            "pattern": {
             "shape": ""
            }
           },
           "name": "Yuna",
           "offsetgroup": "Yuna",
           "orientation": "h",
           "showlegend": true,
           "textposition": "auto",
           "type": "bar",
           "x": [
            126
           ],
           "xaxis": "x",
           "y": [
            "Yuna"
           ],
           "yaxis": "y"
          },
          {
           "alignmentgroup": "True",
           "hovertemplate": "artist=%{y}<br>year=2019<br>Song Count=%{x}<extra></extra>",
           "legendgroup": "Beyoncé",
           "marker": {
            "color": "#EF553B",
            "pattern": {
             "shape": ""
            }
           },
           "name": "Beyoncé",
           "offsetgroup": "Beyoncé",
           "orientation": "h",
           "showlegend": true,
           "textposition": "auto",
           "type": "bar",
           "x": [
            96
           ],
           "xaxis": "x",
           "y": [
            "Beyoncé"
           ],
           "yaxis": "y"
          },
          {
           "alignmentgroup": "True",
           "hovertemplate": "artist=%{y}<br>year=2019<br>Song Count=%{x}<extra></extra>",
           "legendgroup": "Destiny's Child",
           "marker": {
            "color": "#FFA15A",
            "pattern": {
             "shape": ""
            }
           },
           "name": "Destiny's Child",
           "offsetgroup": "Destiny's Child",
           "orientation": "h",
           "showlegend": true,
           "textposition": "auto",
           "type": "bar",
           "x": [
            143
           ],
           "xaxis": "x",
           "y": [
            "Destiny's Child"
           ],
           "yaxis": "y"
          },
          {
           "alignmentgroup": "True",
           "hovertemplate": "artist=%{y}<br>year=2019<br>Song Count=%{x}<extra></extra>",
           "legendgroup": "Eminem",
           "marker": {
            "color": "#19d3f3",
            "pattern": {
             "shape": ""
            }
           },
           "name": "Eminem",
           "offsetgroup": "Eminem",
           "orientation": "h",
           "showlegend": true,
           "textposition": "auto",
           "type": "bar",
           "x": [
            49
           ],
           "xaxis": "x",
           "y": [
            "Eminem"
           ],
           "yaxis": "y"
          },
          {
           "alignmentgroup": "True",
           "hovertemplate": "artist=%{y}<br>year=2019<br>Song Count=%{x}<extra></extra>",
           "legendgroup": "Hozier",
           "marker": {
            "color": "#636efa",
            "pattern": {
             "shape": ""
            }
           },
           "name": "Hozier",
           "offsetgroup": "Hozier",
           "orientation": "h",
           "showlegend": true,
           "textposition": "auto",
           "type": "bar",
           "x": [
            48
           ],
           "xaxis": "x",
           "y": [
            "Hozier"
           ],
           "yaxis": "y"
          },
          {
           "alignmentgroup": "True",
           "hovertemplate": "artist=%{y}<br>year=2019<br>Song Count=%{x}<extra></extra>",
           "legendgroup": "Queen",
           "marker": {
            "color": "#ab63fa",
            "pattern": {
             "shape": ""
            }
           },
           "name": "Queen",
           "offsetgroup": "Queen",
           "orientation": "h",
           "showlegend": true,
           "textposition": "auto",
           "type": "bar",
           "x": [
            395
           ],
           "xaxis": "x",
           "y": [
            "Queen"
           ],
           "yaxis": "y"
          },
          {
           "alignmentgroup": "True",
           "hovertemplate": "artist=%{y}<br>year=2019<br>Song Count=%{x}<extra></extra>",
           "legendgroup": "Julia Michaels",
           "marker": {
            "color": "#19d3f3",
            "pattern": {
             "shape": ""
            }
           },
           "name": "Julia Michaels",
           "offsetgroup": "Julia Michaels",
           "orientation": "h",
           "showlegend": true,
           "textposition": "auto",
           "type": "bar",
           "x": [
            258
           ],
           "xaxis": "x",
           "y": [
            "Julia Michaels"
           ],
           "yaxis": "y"
          },
          {
           "alignmentgroup": "True",
           "hovertemplate": "artist=%{y}<br>year=2019<br>Song Count=%{x}<extra></extra>",
           "legendgroup": "Ariana Grande",
           "marker": {
            "color": "#636efa",
            "pattern": {
             "shape": ""
            }
           },
           "name": "Ariana Grande",
           "offsetgroup": "Ariana Grande",
           "orientation": "h",
           "showlegend": true,
           "textposition": "auto",
           "type": "bar",
           "x": [
            292
           ],
           "xaxis": "x",
           "y": [
            "Ariana Grande"
           ],
           "yaxis": "y"
          },
          {
           "alignmentgroup": "True",
           "hovertemplate": "artist=%{y}<br>year=2019<br>Song Count=%{x}<extra></extra>",
           "legendgroup": "Miley Cyrus",
           "marker": {
            "color": "#FECB52",
            "pattern": {
             "shape": ""
            }
           },
           "name": "Miley Cyrus",
           "offsetgroup": "Miley Cyrus",
           "orientation": "h",
           "showlegend": true,
           "textposition": "auto",
           "type": "bar",
           "x": [
            64
           ],
           "xaxis": "x",
           "y": [
            "Miley Cyrus"
           ],
           "yaxis": "y"
          },
          {
           "alignmentgroup": "True",
           "hovertemplate": "artist=%{y}<br>year=2019<br>Song Count=%{x}<extra></extra>",
           "legendgroup": "Drax Project",
           "marker": {
            "color": "#636efa",
            "pattern": {
             "shape": ""
            }
           },
           "name": "Drax Project",
           "offsetgroup": "Drax Project",
           "orientation": "h",
           "showlegend": true,
           "textposition": "auto",
           "type": "bar",
           "x": [
            164
           ],
           "xaxis": "x",
           "y": [
            "Drax Project"
           ],
           "yaxis": "y"
          },
          {
           "alignmentgroup": "True",
           "hovertemplate": "artist=%{y}<br>year=2019<br>Song Count=%{x}<extra></extra>",
           "legendgroup": "Tones And I",
           "marker": {
            "color": "#EF553B",
            "pattern": {
             "shape": ""
            }
           },
           "name": "Tones And I",
           "offsetgroup": "Tones And I",
           "orientation": "h",
           "showlegend": true,
           "textposition": "auto",
           "type": "bar",
           "x": [
            108
           ],
           "xaxis": "x",
           "y": [
            "Tones And I"
           ],
           "yaxis": "y"
          },
          {
           "alignmentgroup": "True",
           "hovertemplate": "artist=%{y}<br>year=2019<br>Song Count=%{x}<extra></extra>",
           "legendgroup": "Fifth Harmony",
           "marker": {
            "color": "#00cc96",
            "pattern": {
             "shape": ""
            }
           },
           "name": "Fifth Harmony",
           "offsetgroup": "Fifth Harmony",
           "orientation": "h",
           "showlegend": true,
           "textposition": "auto",
           "type": "bar",
           "x": [
            87
           ],
           "xaxis": "x",
           "y": [
            "Fifth Harmony"
           ],
           "yaxis": "y"
          },
          {
           "alignmentgroup": "True",
           "hovertemplate": "artist=%{y}<br>year=2019<br>Song Count=%{x}<extra></extra>",
           "legendgroup": "Ella",
           "marker": {
            "color": "#ab63fa",
            "pattern": {
             "shape": ""
            }
           },
           "name": "Ella",
           "offsetgroup": "Ella",
           "orientation": "h",
           "showlegend": true,
           "textposition": "auto",
           "type": "bar",
           "x": [
            77
           ],
           "xaxis": "x",
           "y": [
            "Ella"
           ],
           "yaxis": "y"
          },
          {
           "alignmentgroup": "True",
           "hovertemplate": "artist=%{y}<br>year=2019<br>Song Count=%{x}<extra></extra>",
           "legendgroup": "Normani",
           "marker": {
            "color": "#FFA15A",
            "pattern": {
             "shape": ""
            }
           },
           "name": "Normani",
           "offsetgroup": "Normani",
           "orientation": "h",
           "showlegend": true,
           "textposition": "auto",
           "type": "bar",
           "x": [
            64
           ],
           "xaxis": "x",
           "y": [
            "Normani"
           ],
           "yaxis": "y"
          },
          {
           "alignmentgroup": "True",
           "hovertemplate": "artist=%{y}<br>year=2019<br>Song Count=%{x}<extra></extra>",
           "legendgroup": "JP Saxe",
           "marker": {
            "color": "#19d3f3",
            "pattern": {
             "shape": ""
            }
           },
           "name": "JP Saxe",
           "offsetgroup": "JP Saxe",
           "orientation": "h",
           "showlegend": true,
           "textposition": "auto",
           "type": "bar",
           "x": [
            48
           ],
           "xaxis": "x",
           "y": [
            "JP Saxe"
           ],
           "yaxis": "y"
          }
         ],
         "name": "2019"
        },
        {
         "data": [
          {
           "alignmentgroup": "True",
           "hovertemplate": "artist=%{y}<br>year=2020<br>Song Count=%{x}<extra></extra>",
           "legendgroup": "Yuna",
           "marker": {
            "color": "#636efa",
            "pattern": {
             "shape": ""
            }
           },
           "name": "Yuna",
           "offsetgroup": "Yuna",
           "orientation": "h",
           "showlegend": true,
           "textposition": "auto",
           "type": "bar",
           "x": [
            136
           ],
           "xaxis": "x",
           "y": [
            "Yuna"
           ],
           "yaxis": "y"
          },
          {
           "alignmentgroup": "True",
           "hovertemplate": "artist=%{y}<br>year=2020<br>Song Count=%{x}<extra></extra>",
           "legendgroup": "Beyoncé",
           "marker": {
            "color": "#EF553B",
            "pattern": {
             "shape": ""
            }
           },
           "name": "Beyoncé",
           "offsetgroup": "Beyoncé",
           "orientation": "h",
           "showlegend": true,
           "textposition": "auto",
           "type": "bar",
           "x": [
            485
           ],
           "xaxis": "x",
           "y": [
            "Beyoncé"
           ],
           "yaxis": "y"
          },
          {
           "alignmentgroup": "True",
           "hovertemplate": "artist=%{y}<br>year=2020<br>Song Count=%{x}<extra></extra>",
           "legendgroup": "Destiny's Child",
           "marker": {
            "color": "#FFA15A",
            "pattern": {
             "shape": ""
            }
           },
           "name": "Destiny's Child",
           "offsetgroup": "Destiny's Child",
           "orientation": "h",
           "showlegend": true,
           "textposition": "auto",
           "type": "bar",
           "x": [
            122
           ],
           "xaxis": "x",
           "y": [
            "Destiny's Child"
           ],
           "yaxis": "y"
          },
          {
           "alignmentgroup": "True",
           "hovertemplate": "artist=%{y}<br>year=2020<br>Song Count=%{x}<extra></extra>",
           "legendgroup": "Eminem",
           "marker": {
            "color": "#19d3f3",
            "pattern": {
             "shape": ""
            }
           },
           "name": "Eminem",
           "offsetgroup": "Eminem",
           "orientation": "h",
           "showlegend": true,
           "textposition": "auto",
           "type": "bar",
           "x": [
            50
           ],
           "xaxis": "x",
           "y": [
            "Eminem"
           ],
           "yaxis": "y"
          },
          {
           "alignmentgroup": "True",
           "hovertemplate": "artist=%{y}<br>year=2020<br>Song Count=%{x}<extra></extra>",
           "legendgroup": "Selena Gomez",
           "marker": {
            "color": "#B6E880",
            "pattern": {
             "shape": ""
            }
           },
           "name": "Selena Gomez",
           "offsetgroup": "Selena Gomez",
           "orientation": "h",
           "showlegend": true,
           "textposition": "auto",
           "type": "bar",
           "x": [
            55
           ],
           "xaxis": "x",
           "y": [
            "Selena Gomez"
           ],
           "yaxis": "y"
          },
          {
           "alignmentgroup": "True",
           "hovertemplate": "artist=%{y}<br>year=2020<br>Song Count=%{x}<extra></extra>",
           "legendgroup": "Rihanna",
           "marker": {
            "color": "#FF97FF",
            "pattern": {
             "shape": ""
            }
           },
           "name": "Rihanna",
           "offsetgroup": "Rihanna",
           "orientation": "h",
           "showlegend": true,
           "textposition": "auto",
           "type": "bar",
           "x": [
            418
           ],
           "xaxis": "x",
           "y": [
            "Rihanna"
           ],
           "yaxis": "y"
          },
          {
           "alignmentgroup": "True",
           "hovertemplate": "artist=%{y}<br>year=2020<br>Song Count=%{x}<extra></extra>",
           "legendgroup": "Adele",
           "marker": {
            "color": "#636efa",
            "pattern": {
             "shape": ""
            }
           },
           "name": "Adele",
           "offsetgroup": "Adele",
           "orientation": "h",
           "showlegend": true,
           "textposition": "auto",
           "type": "bar",
           "x": [
            67
           ],
           "xaxis": "x",
           "y": [
            "Adele"
           ],
           "yaxis": "y"
          },
          {
           "alignmentgroup": "True",
           "hovertemplate": "artist=%{y}<br>year=2020<br>Song Count=%{x}<extra></extra>",
           "legendgroup": "Queen",
           "marker": {
            "color": "#ab63fa",
            "pattern": {
             "shape": ""
            }
           },
           "name": "Queen",
           "offsetgroup": "Queen",
           "orientation": "h",
           "showlegend": true,
           "textposition": "auto",
           "type": "bar",
           "x": [
            79
           ],
           "xaxis": "x",
           "y": [
            "Queen"
           ],
           "yaxis": "y"
          },
          {
           "alignmentgroup": "True",
           "hovertemplate": "artist=%{y}<br>year=2020<br>Song Count=%{x}<extra></extra>",
           "legendgroup": "Lady Gaga",
           "marker": {
            "color": "#ab63fa",
            "pattern": {
             "shape": ""
            }
           },
           "name": "Lady Gaga",
           "offsetgroup": "Lady Gaga",
           "orientation": "h",
           "showlegend": true,
           "textposition": "auto",
           "type": "bar",
           "x": [
            41
           ],
           "xaxis": "x",
           "y": [
            "Lady Gaga"
           ],
           "yaxis": "y"
          },
          {
           "alignmentgroup": "True",
           "hovertemplate": "artist=%{y}<br>year=2020<br>Song Count=%{x}<extra></extra>",
           "legendgroup": "JP Saxe",
           "marker": {
            "color": "#19d3f3",
            "pattern": {
             "shape": ""
            }
           },
           "name": "JP Saxe",
           "offsetgroup": "JP Saxe",
           "orientation": "h",
           "showlegend": true,
           "textposition": "auto",
           "type": "bar",
           "x": [
            68
           ],
           "xaxis": "x",
           "y": [
            "JP Saxe"
           ],
           "yaxis": "y"
          },
          {
           "alignmentgroup": "True",
           "hovertemplate": "artist=%{y}<br>year=2020<br>Song Count=%{x}<extra></extra>",
           "legendgroup": "Jessica Mauboy",
           "marker": {
            "color": "#FF6692",
            "pattern": {
             "shape": ""
            }
           },
           "name": "Jessica Mauboy",
           "offsetgroup": "Jessica Mauboy",
           "orientation": "h",
           "showlegend": true,
           "textposition": "auto",
           "type": "bar",
           "x": [
            93
           ],
           "xaxis": "x",
           "y": [
            "Jessica Mauboy"
           ],
           "yaxis": "y"
          },
          {
           "alignmentgroup": "True",
           "hovertemplate": "artist=%{y}<br>year=2020<br>Song Count=%{x}<extra></extra>",
           "legendgroup": "Outkast",
           "marker": {
            "color": "#B6E880",
            "pattern": {
             "shape": ""
            }
           },
           "name": "Outkast",
           "offsetgroup": "Outkast",
           "orientation": "h",
           "showlegend": true,
           "textposition": "auto",
           "type": "bar",
           "x": [
            77
           ],
           "xaxis": "x",
           "y": [
            "Outkast"
           ],
           "yaxis": "y"
          },
          {
           "alignmentgroup": "True",
           "hovertemplate": "artist=%{y}<br>year=2020<br>Song Count=%{x}<extra></extra>",
           "legendgroup": "Blue Ivy",
           "marker": {
            "color": "#FF97FF",
            "pattern": {
             "shape": ""
            }
           },
           "name": "Blue Ivy",
           "offsetgroup": "Blue Ivy",
           "orientation": "h",
           "showlegend": true,
           "textposition": "auto",
           "type": "bar",
           "x": [
            62
           ],
           "xaxis": "x",
           "y": [
            "Blue Ivy"
           ],
           "yaxis": "y"
          },
          {
           "alignmentgroup": "True",
           "hovertemplate": "artist=%{y}<br>year=2020<br>Song Count=%{x}<extra></extra>",
           "legendgroup": "Andmesh",
           "marker": {
            "color": "#FECB52",
            "pattern": {
             "shape": ""
            }
           },
           "name": "Andmesh",
           "offsetgroup": "Andmesh",
           "orientation": "h",
           "showlegend": true,
           "textposition": "auto",
           "type": "bar",
           "x": [
            46
           ],
           "xaxis": "x",
           "y": [
            "Andmesh"
           ],
           "yaxis": "y"
          },
          {
           "alignmentgroup": "True",
           "hovertemplate": "artist=%{y}<br>year=2020<br>Song Count=%{x}<extra></extra>",
           "legendgroup": "Natalie Taylor",
           "marker": {
            "color": "#636efa",
            "pattern": {
             "shape": ""
            }
           },
           "name": "Natalie Taylor",
           "offsetgroup": "Natalie Taylor",
           "orientation": "h",
           "showlegend": true,
           "textposition": "auto",
           "type": "bar",
           "x": [
            41
           ],
           "xaxis": "x",
           "y": [
            "Natalie Taylor"
           ],
           "yaxis": "y"
          }
         ],
         "name": "2020"
        },
        {
         "data": [
          {
           "alignmentgroup": "True",
           "hovertemplate": "artist=%{y}<br>year=2021<br>Song Count=%{x}<extra></extra>",
           "legendgroup": "Yuna",
           "marker": {
            "color": "#636efa",
            "pattern": {
             "shape": ""
            }
           },
           "name": "Yuna",
           "offsetgroup": "Yuna",
           "orientation": "h",
           "showlegend": true,
           "textposition": "auto",
           "type": "bar",
           "x": [
            31
           ],
           "xaxis": "x",
           "y": [
            "Yuna"
           ],
           "yaxis": "y"
          },
          {
           "alignmentgroup": "True",
           "hovertemplate": "artist=%{y}<br>year=2021<br>Song Count=%{x}<extra></extra>",
           "legendgroup": "Beyoncé",
           "marker": {
            "color": "#EF553B",
            "pattern": {
             "shape": ""
            }
           },
           "name": "Beyoncé",
           "offsetgroup": "Beyoncé",
           "orientation": "h",
           "showlegend": true,
           "textposition": "auto",
           "type": "bar",
           "x": [
            171
           ],
           "xaxis": "x",
           "y": [
            "Beyoncé"
           ],
           "yaxis": "y"
          },
          {
           "alignmentgroup": "True",
           "hovertemplate": "artist=%{y}<br>year=2021<br>Song Count=%{x}<extra></extra>",
           "legendgroup": "Ed Sheeran",
           "marker": {
            "color": "#00cc96",
            "pattern": {
             "shape": ""
            }
           },
           "name": "Ed Sheeran",
           "offsetgroup": "Ed Sheeran",
           "orientation": "h",
           "showlegend": true,
           "textposition": "auto",
           "type": "bar",
           "x": [
            24
           ],
           "xaxis": "x",
           "y": [
            "Ed Sheeran"
           ],
           "yaxis": "y"
          },
          {
           "alignmentgroup": "True",
           "hovertemplate": "artist=%{y}<br>year=2021<br>Song Count=%{x}<extra></extra>",
           "legendgroup": "Destiny's Child",
           "marker": {
            "color": "#FFA15A",
            "pattern": {
             "shape": ""
            }
           },
           "name": "Destiny's Child",
           "offsetgroup": "Destiny's Child",
           "orientation": "h",
           "showlegend": true,
           "textposition": "auto",
           "type": "bar",
           "x": [
            38
           ],
           "xaxis": "x",
           "y": [
            "Destiny's Child"
           ],
           "yaxis": "y"
          },
          {
           "alignmentgroup": "True",
           "hovertemplate": "artist=%{y}<br>year=2021<br>Song Count=%{x}<extra></extra>",
           "legendgroup": "Taylor Swift",
           "marker": {
            "color": "#FFA15A",
            "pattern": {
             "shape": ""
            }
           },
           "name": "Taylor Swift",
           "offsetgroup": "Taylor Swift",
           "orientation": "h",
           "showlegend": true,
           "textposition": "auto",
           "type": "bar",
           "x": [
            39
           ],
           "xaxis": "x",
           "y": [
            "Taylor Swift"
           ],
           "yaxis": "y"
          },
          {
           "alignmentgroup": "True",
           "hovertemplate": "artist=%{y}<br>year=2021<br>Song Count=%{x}<extra></extra>",
           "legendgroup": "Coldplay",
           "marker": {
            "color": "#00cc96",
            "pattern": {
             "shape": ""
            }
           },
           "name": "Coldplay",
           "offsetgroup": "Coldplay",
           "orientation": "h",
           "showlegend": true,
           "textposition": "auto",
           "type": "bar",
           "x": [
            18
           ],
           "xaxis": "x",
           "y": [
            "Coldplay"
           ],
           "yaxis": "y"
          },
          {
           "alignmentgroup": "True",
           "hovertemplate": "artist=%{y}<br>year=2021<br>Song Count=%{x}<extra></extra>",
           "legendgroup": "Rihanna",
           "marker": {
            "color": "#FF97FF",
            "pattern": {
             "shape": ""
            }
           },
           "name": "Rihanna",
           "offsetgroup": "Rihanna",
           "orientation": "h",
           "showlegend": true,
           "textposition": "auto",
           "type": "bar",
           "x": [
            27
           ],
           "xaxis": "x",
           "y": [
            "Rihanna"
           ],
           "yaxis": "y"
          },
          {
           "alignmentgroup": "True",
           "hovertemplate": "artist=%{y}<br>year=2021<br>Song Count=%{x}<extra></extra>",
           "legendgroup": "Queen",
           "marker": {
            "color": "#ab63fa",
            "pattern": {
             "shape": ""
            }
           },
           "name": "Queen",
           "offsetgroup": "Queen",
           "orientation": "h",
           "showlegend": true,
           "textposition": "auto",
           "type": "bar",
           "x": [
            23
           ],
           "xaxis": "x",
           "y": [
            "Queen"
           ],
           "yaxis": "y"
          },
          {
           "alignmentgroup": "True",
           "hovertemplate": "artist=%{y}<br>year=2021<br>Song Count=%{x}<extra></extra>",
           "legendgroup": "Ariana Grande",
           "marker": {
            "color": "#636efa",
            "pattern": {
             "shape": ""
            }
           },
           "name": "Ariana Grande",
           "offsetgroup": "Ariana Grande",
           "orientation": "h",
           "showlegend": true,
           "textposition": "auto",
           "type": "bar",
           "x": [
            46
           ],
           "xaxis": "x",
           "y": [
            "Ariana Grande"
           ],
           "yaxis": "y"
          },
          {
           "alignmentgroup": "True",
           "hovertemplate": "artist=%{y}<br>year=2021<br>Song Count=%{x}<extra></extra>",
           "legendgroup": "Lady Gaga",
           "marker": {
            "color": "#ab63fa",
            "pattern": {
             "shape": ""
            }
           },
           "name": "Lady Gaga",
           "offsetgroup": "Lady Gaga",
           "orientation": "h",
           "showlegend": true,
           "textposition": "auto",
           "type": "bar",
           "x": [
            35
           ],
           "xaxis": "x",
           "y": [
            "Lady Gaga"
           ],
           "yaxis": "y"
          },
          {
           "alignmentgroup": "True",
           "hovertemplate": "artist=%{y}<br>year=2021<br>Song Count=%{x}<extra></extra>",
           "legendgroup": "Hailee Steinfeld",
           "marker": {
            "color": "#B6E880",
            "pattern": {
             "shape": ""
            }
           },
           "name": "Hailee Steinfeld",
           "offsetgroup": "Hailee Steinfeld",
           "orientation": "h",
           "showlegend": true,
           "textposition": "auto",
           "type": "bar",
           "x": [
            17
           ],
           "xaxis": "x",
           "y": [
            "Hailee Steinfeld"
           ],
           "yaxis": "y"
          },
          {
           "alignmentgroup": "True",
           "hovertemplate": "artist=%{y}<br>year=2021<br>Song Count=%{x}<extra></extra>",
           "legendgroup": "Dua Lipa",
           "marker": {
            "color": "#EF553B",
            "pattern": {
             "shape": ""
            }
           },
           "name": "Dua Lipa",
           "offsetgroup": "Dua Lipa",
           "orientation": "h",
           "showlegend": true,
           "textposition": "auto",
           "type": "bar",
           "x": [
            21
           ],
           "xaxis": "x",
           "y": [
            "Dua Lipa"
           ],
           "yaxis": "y"
          },
          {
           "alignmentgroup": "True",
           "hovertemplate": "artist=%{y}<br>year=2021<br>Song Count=%{x}<extra></extra>",
           "legendgroup": "Lizzo",
           "marker": {
            "color": "#00cc96",
            "pattern": {
             "shape": ""
            }
           },
           "name": "Lizzo",
           "offsetgroup": "Lizzo",
           "orientation": "h",
           "showlegend": true,
           "textposition": "auto",
           "type": "bar",
           "x": [
            18
           ],
           "xaxis": "x",
           "y": [
            "Lizzo"
           ],
           "yaxis": "y"
          },
          {
           "alignmentgroup": "True",
           "hovertemplate": "artist=%{y}<br>year=2021<br>Song Count=%{x}<extra></extra>",
           "legendgroup": "Shawn Mendes",
           "marker": {
            "color": "#ab63fa",
            "pattern": {
             "shape": ""
            }
           },
           "name": "Shawn Mendes",
           "offsetgroup": "Shawn Mendes",
           "orientation": "h",
           "showlegend": true,
           "textposition": "auto",
           "type": "bar",
           "x": [
            18
           ],
           "xaxis": "x",
           "y": [
            "Shawn Mendes"
           ],
           "yaxis": "y"
          },
          {
           "alignmentgroup": "True",
           "hovertemplate": "artist=%{y}<br>year=2021<br>Song Count=%{x}<extra></extra>",
           "legendgroup": "FRE",
           "marker": {
            "color": "#FFA15A",
            "pattern": {
             "shape": ""
            }
           },
           "name": "FRE",
           "offsetgroup": "FRE",
           "orientation": "h",
           "showlegend": true,
           "textposition": "auto",
           "type": "bar",
           "x": [
            17
           ],
           "xaxis": "x",
           "y": [
            "FRE"
           ],
           "yaxis": "y"
          }
         ],
         "name": "2021"
        },
        {
         "data": [
          {
           "alignmentgroup": "True",
           "hovertemplate": "artist=%{y}<br>year=2022<br>Song Count=%{x}<extra></extra>",
           "legendgroup": "Beyoncé",
           "marker": {
            "color": "#EF553B",
            "pattern": {
             "shape": ""
            }
           },
           "name": "Beyoncé",
           "offsetgroup": "Beyoncé",
           "orientation": "h",
           "showlegend": true,
           "textposition": "auto",
           "type": "bar",
           "x": [
            233
           ],
           "xaxis": "x",
           "y": [
            "Beyoncé"
           ],
           "yaxis": "y"
          },
          {
           "alignmentgroup": "True",
           "hovertemplate": "artist=%{y}<br>year=2022<br>Song Count=%{x}<extra></extra>",
           "legendgroup": "Taylor Swift",
           "marker": {
            "color": "#FFA15A",
            "pattern": {
             "shape": ""
            }
           },
           "name": "Taylor Swift",
           "offsetgroup": "Taylor Swift",
           "orientation": "h",
           "showlegend": true,
           "textposition": "auto",
           "type": "bar",
           "x": [
            265
           ],
           "xaxis": "x",
           "y": [
            "Taylor Swift"
           ],
           "yaxis": "y"
          },
          {
           "alignmentgroup": "True",
           "hovertemplate": "artist=%{y}<br>year=2022<br>Song Count=%{x}<extra></extra>",
           "legendgroup": "Rihanna",
           "marker": {
            "color": "#FF97FF",
            "pattern": {
             "shape": ""
            }
           },
           "name": "Rihanna",
           "offsetgroup": "Rihanna",
           "orientation": "h",
           "showlegend": true,
           "textposition": "auto",
           "type": "bar",
           "x": [
            345
           ],
           "xaxis": "x",
           "y": [
            "Rihanna"
           ],
           "yaxis": "y"
          },
          {
           "alignmentgroup": "True",
           "hovertemplate": "artist=%{y}<br>year=2022<br>Song Count=%{x}<extra></extra>",
           "legendgroup": "Ariana Grande",
           "marker": {
            "color": "#636efa",
            "pattern": {
             "shape": ""
            }
           },
           "name": "Ariana Grande",
           "offsetgroup": "Ariana Grande",
           "orientation": "h",
           "showlegend": true,
           "textposition": "auto",
           "type": "bar",
           "x": [
            145
           ],
           "xaxis": "x",
           "y": [
            "Ariana Grande"
           ],
           "yaxis": "y"
          },
          {
           "alignmentgroup": "True",
           "hovertemplate": "artist=%{y}<br>year=2022<br>Song Count=%{x}<extra></extra>",
           "legendgroup": "Lady Gaga",
           "marker": {
            "color": "#ab63fa",
            "pattern": {
             "shape": ""
            }
           },
           "name": "Lady Gaga",
           "offsetgroup": "Lady Gaga",
           "orientation": "h",
           "showlegend": true,
           "textposition": "auto",
           "type": "bar",
           "x": [
            83
           ],
           "xaxis": "x",
           "y": [
            "Lady Gaga"
           ],
           "yaxis": "y"
          },
          {
           "alignmentgroup": "True",
           "hovertemplate": "artist=%{y}<br>year=2022<br>Song Count=%{x}<extra></extra>",
           "legendgroup": "Little Mix",
           "marker": {
            "color": "#FF6692",
            "pattern": {
             "shape": ""
            }
           },
           "name": "Little Mix",
           "offsetgroup": "Little Mix",
           "orientation": "h",
           "showlegend": true,
           "textposition": "auto",
           "type": "bar",
           "x": [
            87
           ],
           "xaxis": "x",
           "y": [
            "Little Mix"
           ],
           "yaxis": "y"
          },
          {
           "alignmentgroup": "True",
           "hovertemplate": "artist=%{y}<br>year=2022<br>Song Count=%{x}<extra></extra>",
           "legendgroup": "Lizzo",
           "marker": {
            "color": "#00cc96",
            "pattern": {
             "shape": ""
            }
           },
           "name": "Lizzo",
           "offsetgroup": "Lizzo",
           "orientation": "h",
           "showlegend": true,
           "textposition": "auto",
           "type": "bar",
           "x": [
            90
           ],
           "xaxis": "x",
           "y": [
            "Lizzo"
           ],
           "yaxis": "y"
          },
          {
           "alignmentgroup": "True",
           "hovertemplate": "artist=%{y}<br>year=2022<br>Song Count=%{x}<extra></extra>",
           "legendgroup": "Sam Smith",
           "marker": {
            "color": "#19d3f3",
            "pattern": {
             "shape": ""
            }
           },
           "name": "Sam Smith",
           "offsetgroup": "Sam Smith",
           "orientation": "h",
           "showlegend": true,
           "textposition": "auto",
           "type": "bar",
           "x": [
            286
           ],
           "xaxis": "x",
           "y": [
            "Sam Smith"
           ],
           "yaxis": "y"
          },
          {
           "alignmentgroup": "True",
           "hovertemplate": "artist=%{y}<br>year=2022<br>Song Count=%{x}<extra></extra>",
           "legendgroup": "Luqman Podolski",
           "marker": {
            "color": "#FF6692",
            "pattern": {
             "shape": ""
            }
           },
           "name": "Luqman Podolski",
           "offsetgroup": "Luqman Podolski",
           "orientation": "h",
           "showlegend": true,
           "textposition": "auto",
           "type": "bar",
           "x": [
            225
           ],
           "xaxis": "x",
           "y": [
            "Luqman Podolski"
           ],
           "yaxis": "y"
          },
          {
           "alignmentgroup": "True",
           "hovertemplate": "artist=%{y}<br>year=2022<br>Song Count=%{x}<extra></extra>",
           "legendgroup": "Cardi B",
           "marker": {
            "color": "#B6E880",
            "pattern": {
             "shape": ""
            }
           },
           "name": "Cardi B",
           "offsetgroup": "Cardi B",
           "orientation": "h",
           "showlegend": true,
           "textposition": "auto",
           "type": "bar",
           "x": [
            207
           ],
           "xaxis": "x",
           "y": [
            "Cardi B"
           ],
           "yaxis": "y"
          },
          {
           "alignmentgroup": "True",
           "hovertemplate": "artist=%{y}<br>year=2022<br>Song Count=%{x}<extra></extra>",
           "legendgroup": "W.A.R.I.S",
           "marker": {
            "color": "#FF97FF",
            "pattern": {
             "shape": ""
            }
           },
           "name": "W.A.R.I.S",
           "offsetgroup": "W.A.R.I.S",
           "orientation": "h",
           "showlegend": true,
           "textposition": "auto",
           "type": "bar",
           "x": [
            167
           ],
           "xaxis": "x",
           "y": [
            "W.A.R.I.S"
           ],
           "yaxis": "y"
          },
          {
           "alignmentgroup": "True",
           "hovertemplate": "artist=%{y}<br>year=2022<br>Song Count=%{x}<extra></extra>",
           "legendgroup": "Rema",
           "marker": {
            "color": "#FECB52",
            "pattern": {
             "shape": ""
            }
           },
           "name": "Rema",
           "offsetgroup": "Rema",
           "orientation": "h",
           "showlegend": true,
           "textposition": "auto",
           "type": "bar",
           "x": [
            134
           ],
           "xaxis": "x",
           "y": [
            "Rema"
           ],
           "yaxis": "y"
          },
          {
           "alignmentgroup": "True",
           "hovertemplate": "artist=%{y}<br>year=2022<br>Song Count=%{x}<extra></extra>",
           "legendgroup": "Stephen Sanchez",
           "marker": {
            "color": "#636efa",
            "pattern": {
             "shape": ""
            }
           },
           "name": "Stephen Sanchez",
           "offsetgroup": "Stephen Sanchez",
           "orientation": "h",
           "showlegend": true,
           "textposition": "auto",
           "type": "bar",
           "x": [
            132
           ],
           "xaxis": "x",
           "y": [
            "Stephen Sanchez"
           ],
           "yaxis": "y"
          },
          {
           "alignmentgroup": "True",
           "hovertemplate": "artist=%{y}<br>year=2022<br>Song Count=%{x}<extra></extra>",
           "legendgroup": "Nicki Minaj",
           "marker": {
            "color": "#EF553B",
            "pattern": {
             "shape": ""
            }
           },
           "name": "Nicki Minaj",
           "offsetgroup": "Nicki Minaj",
           "orientation": "h",
           "showlegend": true,
           "textposition": "auto",
           "type": "bar",
           "x": [
            107
           ],
           "xaxis": "x",
           "y": [
            "Nicki Minaj"
           ],
           "yaxis": "y"
          },
          {
           "alignmentgroup": "True",
           "hovertemplate": "artist=%{y}<br>year=2022<br>Song Count=%{x}<extra></extra>",
           "legendgroup": "ALYPH",
           "marker": {
            "color": "#00cc96",
            "pattern": {
             "shape": ""
            }
           },
           "name": "ALYPH",
           "offsetgroup": "ALYPH",
           "orientation": "h",
           "showlegend": true,
           "textposition": "auto",
           "type": "bar",
           "x": [
            102
           ],
           "xaxis": "x",
           "y": [
            "ALYPH"
           ],
           "yaxis": "y"
          }
         ],
         "name": "2022"
        },
        {
         "data": [
          {
           "alignmentgroup": "True",
           "hovertemplate": "artist=%{y}<br>year=2023<br>Song Count=%{x}<extra></extra>",
           "legendgroup": "Taylor Swift",
           "marker": {
            "color": "#FFA15A",
            "pattern": {
             "shape": ""
            }
           },
           "name": "Taylor Swift",
           "offsetgroup": "Taylor Swift",
           "orientation": "h",
           "showlegend": true,
           "textposition": "auto",
           "type": "bar",
           "x": [
            227
           ],
           "xaxis": "x",
           "y": [
            "Taylor Swift"
           ],
           "yaxis": "y"
          },
          {
           "alignmentgroup": "True",
           "hovertemplate": "artist=%{y}<br>year=2023<br>Song Count=%{x}<extra></extra>",
           "legendgroup": "Eminem",
           "marker": {
            "color": "#19d3f3",
            "pattern": {
             "shape": ""
            }
           },
           "name": "Eminem",
           "offsetgroup": "Eminem",
           "orientation": "h",
           "showlegend": true,
           "textposition": "auto",
           "type": "bar",
           "x": [
            292
           ],
           "xaxis": "x",
           "y": [
            "Eminem"
           ],
           "yaxis": "y"
          },
          {
           "alignmentgroup": "True",
           "hovertemplate": "artist=%{y}<br>year=2023<br>Song Count=%{x}<extra></extra>",
           "legendgroup": "Daniela Andrade",
           "marker": {
            "color": "#B6E880",
            "pattern": {
             "shape": ""
            }
           },
           "name": "Daniela Andrade",
           "offsetgroup": "Daniela Andrade",
           "orientation": "h",
           "showlegend": true,
           "textposition": "auto",
           "type": "bar",
           "x": [
            243
           ],
           "xaxis": "x",
           "y": [
            "Daniela Andrade"
           ],
           "yaxis": "y"
          },
          {
           "alignmentgroup": "True",
           "hovertemplate": "artist=%{y}<br>year=2023<br>Song Count=%{x}<extra></extra>",
           "legendgroup": "Rihanna",
           "marker": {
            "color": "#FF97FF",
            "pattern": {
             "shape": ""
            }
           },
           "name": "Rihanna",
           "offsetgroup": "Rihanna",
           "orientation": "h",
           "showlegend": true,
           "textposition": "auto",
           "type": "bar",
           "x": [
            238
           ],
           "xaxis": "x",
           "y": [
            "Rihanna"
           ],
           "yaxis": "y"
          },
          {
           "alignmentgroup": "True",
           "hovertemplate": "artist=%{y}<br>year=2023<br>Song Count=%{x}<extra></extra>",
           "legendgroup": "Adele",
           "marker": {
            "color": "#636efa",
            "pattern": {
             "shape": ""
            }
           },
           "name": "Adele",
           "offsetgroup": "Adele",
           "orientation": "h",
           "showlegend": true,
           "textposition": "auto",
           "type": "bar",
           "x": [
            286
           ],
           "xaxis": "x",
           "y": [
            "Adele"
           ],
           "yaxis": "y"
          },
          {
           "alignmentgroup": "True",
           "hovertemplate": "artist=%{y}<br>year=2023<br>Song Count=%{x}<extra></extra>",
           "legendgroup": "Ariana Grande",
           "marker": {
            "color": "#636efa",
            "pattern": {
             "shape": ""
            }
           },
           "name": "Ariana Grande",
           "offsetgroup": "Ariana Grande",
           "orientation": "h",
           "showlegend": true,
           "textposition": "auto",
           "type": "bar",
           "x": [
            227
           ],
           "xaxis": "x",
           "y": [
            "Ariana Grande"
           ],
           "yaxis": "y"
          },
          {
           "alignmentgroup": "True",
           "hovertemplate": "artist=%{y}<br>year=2023<br>Song Count=%{x}<extra></extra>",
           "legendgroup": "Britney Spears",
           "marker": {
            "color": "#00cc96",
            "pattern": {
             "shape": ""
            }
           },
           "name": "Britney Spears",
           "offsetgroup": "Britney Spears",
           "orientation": "h",
           "showlegend": true,
           "textposition": "auto",
           "type": "bar",
           "x": [
            448
           ],
           "xaxis": "x",
           "y": [
            "Britney Spears"
           ],
           "yaxis": "y"
          },
          {
           "alignmentgroup": "True",
           "hovertemplate": "artist=%{y}<br>year=2023<br>Song Count=%{x}<extra></extra>",
           "legendgroup": "Ella",
           "marker": {
            "color": "#ab63fa",
            "pattern": {
             "shape": ""
            }
           },
           "name": "Ella",
           "offsetgroup": "Ella",
           "orientation": "h",
           "showlegend": true,
           "textposition": "auto",
           "type": "bar",
           "x": [
            267
           ],
           "xaxis": "x",
           "y": [
            "Ella"
           ],
           "yaxis": "y"
          },
          {
           "alignmentgroup": "True",
           "hovertemplate": "artist=%{y}<br>year=2023<br>Song Count=%{x}<extra></extra>",
           "legendgroup": "Luqman Podolski",
           "marker": {
            "color": "#FF6692",
            "pattern": {
             "shape": ""
            }
           },
           "name": "Luqman Podolski",
           "offsetgroup": "Luqman Podolski",
           "orientation": "h",
           "showlegend": true,
           "textposition": "auto",
           "type": "bar",
           "x": [
            427
           ],
           "xaxis": "x",
           "y": [
            "Luqman Podolski"
           ],
           "yaxis": "y"
          },
          {
           "alignmentgroup": "True",
           "hovertemplate": "artist=%{y}<br>year=2023<br>Song Count=%{x}<extra></extra>",
           "legendgroup": "Aina Abdul",
           "marker": {
            "color": "#ab63fa",
            "pattern": {
             "shape": ""
            }
           },
           "name": "Aina Abdul",
           "offsetgroup": "Aina Abdul",
           "orientation": "h",
           "showlegend": true,
           "textposition": "auto",
           "type": "bar",
           "x": [
            570
           ],
           "xaxis": "x",
           "y": [
            "Aina Abdul"
           ],
           "yaxis": "y"
          },
          {
           "alignmentgroup": "True",
           "hovertemplate": "artist=%{y}<br>year=2023<br>Song Count=%{x}<extra></extra>",
           "legendgroup": "Drake",
           "marker": {
            "color": "#FFA15A",
            "pattern": {
             "shape": ""
            }
           },
           "name": "Drake",
           "offsetgroup": "Drake",
           "orientation": "h",
           "showlegend": true,
           "textposition": "auto",
           "type": "bar",
           "x": [
            286
           ],
           "xaxis": "x",
           "y": [
            "Drake"
           ],
           "yaxis": "y"
          },
          {
           "alignmentgroup": "True",
           "hovertemplate": "artist=%{y}<br>year=2023<br>Song Count=%{x}<extra></extra>",
           "legendgroup": "Sarah",
           "marker": {
            "color": "#19d3f3",
            "pattern": {
             "shape": ""
            }
           },
           "name": "Sarah",
           "offsetgroup": "Sarah",
           "orientation": "h",
           "showlegend": true,
           "textposition": "auto",
           "type": "bar",
           "x": [
            283
           ],
           "xaxis": "x",
           "y": [
            "Sarah"
           ],
           "yaxis": "y"
          },
          {
           "alignmentgroup": "True",
           "hovertemplate": "artist=%{y}<br>year=2023<br>Song Count=%{x}<extra></extra>",
           "legendgroup": "Mahalini",
           "marker": {
            "color": "#FF6692",
            "pattern": {
             "shape": ""
            }
           },
           "name": "Mahalini",
           "offsetgroup": "Mahalini",
           "orientation": "h",
           "showlegend": true,
           "textposition": "auto",
           "type": "bar",
           "x": [
            281
           ],
           "xaxis": "x",
           "y": [
            "Mahalini"
           ],
           "yaxis": "y"
          },
          {
           "alignmentgroup": "True",
           "hovertemplate": "artist=%{y}<br>year=2023<br>Song Count=%{x}<extra></extra>",
           "legendgroup": "Joe Flizzow",
           "marker": {
            "color": "#B6E880",
            "pattern": {
             "shape": ""
            }
           },
           "name": "Joe Flizzow",
           "offsetgroup": "Joe Flizzow",
           "orientation": "h",
           "showlegend": true,
           "textposition": "auto",
           "type": "bar",
           "x": [
            265
           ],
           "xaxis": "x",
           "y": [
            "Joe Flizzow"
           ],
           "yaxis": "y"
          },
          {
           "alignmentgroup": "True",
           "hovertemplate": "artist=%{y}<br>year=2023<br>Song Count=%{x}<extra></extra>",
           "legendgroup": "The Righteous Brothers",
           "marker": {
            "color": "#FF97FF",
            "pattern": {
             "shape": ""
            }
           },
           "name": "The Righteous Brothers",
           "offsetgroup": "The Righteous Brothers",
           "orientation": "h",
           "showlegend": true,
           "textposition": "auto",
           "type": "bar",
           "x": [
            254
           ],
           "xaxis": "x",
           "y": [
            "The Righteous Brothers"
           ],
           "yaxis": "y"
          }
         ],
         "name": "2023"
        },
        {
         "data": [
          {
           "alignmentgroup": "True",
           "hovertemplate": "artist=%{y}<br>year=2024<br>Song Count=%{x}<extra></extra>",
           "legendgroup": "Beyoncé",
           "marker": {
            "color": "#EF553B",
            "pattern": {
             "shape": ""
            }
           },
           "name": "Beyoncé",
           "offsetgroup": "Beyoncé",
           "orientation": "h",
           "showlegend": true,
           "textposition": "auto",
           "type": "bar",
           "x": [
            179
           ],
           "xaxis": "x",
           "y": [
            "Beyoncé"
           ],
           "yaxis": "y"
          },
          {
           "alignmentgroup": "True",
           "hovertemplate": "artist=%{y}<br>year=2024<br>Song Count=%{x}<extra></extra>",
           "legendgroup": "Eminem",
           "marker": {
            "color": "#19d3f3",
            "pattern": {
             "shape": ""
            }
           },
           "name": "Eminem",
           "offsetgroup": "Eminem",
           "orientation": "h",
           "showlegend": true,
           "textposition": "auto",
           "type": "bar",
           "x": [
            230
           ],
           "xaxis": "x",
           "y": [
            "Eminem"
           ],
           "yaxis": "y"
          },
          {
           "alignmentgroup": "True",
           "hovertemplate": "artist=%{y}<br>year=2024<br>Song Count=%{x}<extra></extra>",
           "legendgroup": "Hozier",
           "marker": {
            "color": "#636efa",
            "pattern": {
             "shape": ""
            }
           },
           "name": "Hozier",
           "offsetgroup": "Hozier",
           "orientation": "h",
           "showlegend": true,
           "textposition": "auto",
           "type": "bar",
           "x": [
            807
           ],
           "xaxis": "x",
           "y": [
            "Hozier"
           ],
           "yaxis": "y"
          },
          {
           "alignmentgroup": "True",
           "hovertemplate": "artist=%{y}<br>year=2024<br>Song Count=%{x}<extra></extra>",
           "legendgroup": "Rihanna",
           "marker": {
            "color": "#FF97FF",
            "pattern": {
             "shape": ""
            }
           },
           "name": "Rihanna",
           "offsetgroup": "Rihanna",
           "orientation": "h",
           "showlegend": true,
           "textposition": "auto",
           "type": "bar",
           "x": [
            295
           ],
           "xaxis": "x",
           "y": [
            "Rihanna"
           ],
           "yaxis": "y"
          },
          {
           "alignmentgroup": "True",
           "hovertemplate": "artist=%{y}<br>year=2024<br>Song Count=%{x}<extra></extra>",
           "legendgroup": "Ariana Grande",
           "marker": {
            "color": "#636efa",
            "pattern": {
             "shape": ""
            }
           },
           "name": "Ariana Grande",
           "offsetgroup": "Ariana Grande",
           "orientation": "h",
           "showlegend": true,
           "textposition": "auto",
           "type": "bar",
           "x": [
            335
           ],
           "xaxis": "x",
           "y": [
            "Ariana Grande"
           ],
           "yaxis": "y"
          },
          {
           "alignmentgroup": "True",
           "hovertemplate": "artist=%{y}<br>year=2024<br>Song Count=%{x}<extra></extra>",
           "legendgroup": "Britney Spears",
           "marker": {
            "color": "#00cc96",
            "pattern": {
             "shape": ""
            }
           },
           "name": "Britney Spears",
           "offsetgroup": "Britney Spears",
           "orientation": "h",
           "showlegend": true,
           "textposition": "auto",
           "type": "bar",
           "x": [
            429
           ],
           "xaxis": "x",
           "y": [
            "Britney Spears"
           ],
           "yaxis": "y"
          },
          {
           "alignmentgroup": "True",
           "hovertemplate": "artist=%{y}<br>year=2024<br>Song Count=%{x}<extra></extra>",
           "legendgroup": "Aina Abdul",
           "marker": {
            "color": "#ab63fa",
            "pattern": {
             "shape": ""
            }
           },
           "name": "Aina Abdul",
           "offsetgroup": "Aina Abdul",
           "orientation": "h",
           "showlegend": true,
           "textposition": "auto",
           "type": "bar",
           "x": [
            395
           ],
           "xaxis": "x",
           "y": [
            "Aina Abdul"
           ],
           "yaxis": "y"
          },
          {
           "alignmentgroup": "True",
           "hovertemplate": "artist=%{y}<br>year=2024<br>Song Count=%{x}<extra></extra>",
           "legendgroup": "Joe Flizzow",
           "marker": {
            "color": "#B6E880",
            "pattern": {
             "shape": ""
            }
           },
           "name": "Joe Flizzow",
           "offsetgroup": "Joe Flizzow",
           "orientation": "h",
           "showlegend": true,
           "textposition": "auto",
           "type": "bar",
           "x": [
            180
           ],
           "xaxis": "x",
           "y": [
            "Joe Flizzow"
           ],
           "yaxis": "y"
          },
          {
           "alignmentgroup": "True",
           "hovertemplate": "artist=%{y}<br>year=2024<br>Song Count=%{x}<extra></extra>",
           "legendgroup": "Mariah Carey",
           "marker": {
            "color": "#FECB52",
            "pattern": {
             "shape": ""
            }
           },
           "name": "Mariah Carey",
           "offsetgroup": "Mariah Carey",
           "orientation": "h",
           "showlegend": true,
           "textposition": "auto",
           "type": "bar",
           "x": [
            793
           ],
           "xaxis": "x",
           "y": [
            "Mariah Carey"
           ],
           "yaxis": "y"
          },
          {
           "alignmentgroup": "True",
           "hovertemplate": "artist=%{y}<br>year=2024<br>Song Count=%{x}<extra></extra>",
           "legendgroup": "Rossa",
           "marker": {
            "color": "#636efa",
            "pattern": {
             "shape": ""
            }
           },
           "name": "Rossa",
           "offsetgroup": "Rossa",
           "orientation": "h",
           "showlegend": true,
           "textposition": "auto",
           "type": "bar",
           "x": [
            710
           ],
           "xaxis": "x",
           "y": [
            "Rossa"
           ],
           "yaxis": "y"
          },
          {
           "alignmentgroup": "True",
           "hovertemplate": "artist=%{y}<br>year=2024<br>Song Count=%{x}<extra></extra>",
           "legendgroup": "DOLLA",
           "marker": {
            "color": "#EF553B",
            "pattern": {
             "shape": ""
            }
           },
           "name": "DOLLA",
           "offsetgroup": "DOLLA",
           "orientation": "h",
           "showlegend": true,
           "textposition": "auto",
           "type": "bar",
           "x": [
            579
           ],
           "xaxis": "x",
           "y": [
            "DOLLA"
           ],
           "yaxis": "y"
          },
          {
           "alignmentgroup": "True",
           "hovertemplate": "artist=%{y}<br>year=2024<br>Song Count=%{x}<extra></extra>",
           "legendgroup": "Post Malone",
           "marker": {
            "color": "#00cc96",
            "pattern": {
             "shape": ""
            }
           },
           "name": "Post Malone",
           "offsetgroup": "Post Malone",
           "orientation": "h",
           "showlegend": true,
           "textposition": "auto",
           "type": "bar",
           "x": [
            393
           ],
           "xaxis": "x",
           "y": [
            "Post Malone"
           ],
           "yaxis": "y"
          },
          {
           "alignmentgroup": "True",
           "hovertemplate": "artist=%{y}<br>year=2024<br>Song Count=%{x}<extra></extra>",
           "legendgroup": "SZA",
           "marker": {
            "color": "#ab63fa",
            "pattern": {
             "shape": ""
            }
           },
           "name": "SZA",
           "offsetgroup": "SZA",
           "orientation": "h",
           "showlegend": true,
           "textposition": "auto",
           "type": "bar",
           "x": [
            315
           ],
           "xaxis": "x",
           "y": [
            "SZA"
           ],
           "yaxis": "y"
          },
          {
           "alignmentgroup": "True",
           "hovertemplate": "artist=%{y}<br>year=2024<br>Song Count=%{x}<extra></extra>",
           "legendgroup": "Kanye West",
           "marker": {
            "color": "#FFA15A",
            "pattern": {
             "shape": ""
            }
           },
           "name": "Kanye West",
           "offsetgroup": "Kanye West",
           "orientation": "h",
           "showlegend": true,
           "textposition": "auto",
           "type": "bar",
           "x": [
            303
           ],
           "xaxis": "x",
           "y": [
            "Kanye West"
           ],
           "yaxis": "y"
          },
          {
           "alignmentgroup": "True",
           "hovertemplate": "artist=%{y}<br>year=2024<br>Song Count=%{x}<extra></extra>",
           "legendgroup": "21 Savage",
           "marker": {
            "color": "#19d3f3",
            "pattern": {
             "shape": ""
            }
           },
           "name": "21 Savage",
           "offsetgroup": "21 Savage",
           "orientation": "h",
           "showlegend": true,
           "textposition": "auto",
           "type": "bar",
           "x": [
            169
           ],
           "xaxis": "x",
           "y": [
            "21 Savage"
           ],
           "yaxis": "y"
          }
         ],
         "name": "2024"
        }
       ],
       "layout": {
        "barmode": "relative",
        "height": 700,
        "legend": {
         "title": {
          "text": "artist"
         },
         "tracegroupgap": 0
        },
        "sliders": [
         {
          "active": 0,
          "currentvalue": {
           "prefix": "year="
          },
          "len": 0.9,
          "pad": {
           "b": 10,
           "t": 60
          },
          "steps": [
           {
            "args": [
             [
              "2014"
             ],
             {
              "frame": {
               "duration": 0,
               "redraw": true
              },
              "fromcurrent": true,
              "mode": "immediate",
              "transition": {
               "duration": 0,
               "easing": "linear"
              }
             }
            ],
            "label": "2014",
            "method": "animate"
           },
           {
            "args": [
             [
              "2015"
             ],
             {
              "frame": {
               "duration": 0,
               "redraw": true
              },
              "fromcurrent": true,
              "mode": "immediate",
              "transition": {
               "duration": 0,
               "easing": "linear"
              }
             }
            ],
            "label": "2015",
            "method": "animate"
           },
           {
            "args": [
             [
              "2016"
             ],
             {
              "frame": {
               "duration": 0,
               "redraw": true
              },
              "fromcurrent": true,
              "mode": "immediate",
              "transition": {
               "duration": 0,
               "easing": "linear"
              }
             }
            ],
            "label": "2016",
            "method": "animate"
           },
           {
            "args": [
             [
              "2017"
             ],
             {
              "frame": {
               "duration": 0,
               "redraw": true
              },
              "fromcurrent": true,
              "mode": "immediate",
              "transition": {
               "duration": 0,
               "easing": "linear"
              }
             }
            ],
            "label": "2017",
            "method": "animate"
           },
           {
            "args": [
             [
              "2018"
             ],
             {
              "frame": {
               "duration": 0,
               "redraw": true
              },
              "fromcurrent": true,
              "mode": "immediate",
              "transition": {
               "duration": 0,
               "easing": "linear"
              }
             }
            ],
            "label": "2018",
            "method": "animate"
           },
           {
            "args": [
             [
              "2019"
             ],
             {
              "frame": {
               "duration": 0,
               "redraw": true
              },
              "fromcurrent": true,
              "mode": "immediate",
              "transition": {
               "duration": 0,
               "easing": "linear"
              }
             }
            ],
            "label": "2019",
            "method": "animate"
           },
           {
            "args": [
             [
              "2020"
             ],
             {
              "frame": {
               "duration": 0,
               "redraw": true
              },
              "fromcurrent": true,
              "mode": "immediate",
              "transition": {
               "duration": 0,
               "easing": "linear"
              }
             }
            ],
            "label": "2020",
            "method": "animate"
           },
           {
            "args": [
             [
              "2021"
             ],
             {
              "frame": {
               "duration": 0,
               "redraw": true
              },
              "fromcurrent": true,
              "mode": "immediate",
              "transition": {
               "duration": 0,
               "easing": "linear"
              }
             }
            ],
            "label": "2021",
            "method": "animate"
           },
           {
            "args": [
             [
              "2022"
             ],
             {
              "frame": {
               "duration": 0,
               "redraw": true
              },
              "fromcurrent": true,
              "mode": "immediate",
              "transition": {
               "duration": 0,
               "easing": "linear"
              }
             }
            ],
            "label": "2022",
            "method": "animate"
           },
           {
            "args": [
             [
              "2023"
             ],
             {
              "frame": {
               "duration": 0,
               "redraw": true
              },
              "fromcurrent": true,
              "mode": "immediate",
              "transition": {
               "duration": 0,
               "easing": "linear"
              }
             }
            ],
            "label": "2023",
            "method": "animate"
           },
           {
            "args": [
             [
              "2024"
             ],
             {
              "frame": {
               "duration": 0,
               "redraw": true
              },
              "fromcurrent": true,
              "mode": "immediate",
              "transition": {
               "duration": 0,
               "easing": "linear"
              }
             }
            ],
            "label": "2024",
            "method": "animate"
           }
          ],
          "x": 0.1,
          "xanchor": "left",
          "y": 0,
          "yanchor": "top"
         }
        ],
        "template": {
         "data": {
          "bar": [
           {
            "error_x": {
             "color": "#f2f5fa"
            },
            "error_y": {
             "color": "#f2f5fa"
            },
            "marker": {
             "line": {
              "color": "rgb(17,17,17)",
              "width": 0.5
             },
             "pattern": {
              "fillmode": "overlay",
              "size": 10,
              "solidity": 0.2
             }
            },
            "type": "bar"
           }
          ],
          "barpolar": [
           {
            "marker": {
             "line": {
              "color": "rgb(17,17,17)",
              "width": 0.5
             },
             "pattern": {
              "fillmode": "overlay",
              "size": 10,
              "solidity": 0.2
             }
            },
            "type": "barpolar"
           }
          ],
          "carpet": [
           {
            "aaxis": {
             "endlinecolor": "#A2B1C6",
             "gridcolor": "#506784",
             "linecolor": "#506784",
             "minorgridcolor": "#506784",
             "startlinecolor": "#A2B1C6"
            },
            "baxis": {
             "endlinecolor": "#A2B1C6",
             "gridcolor": "#506784",
             "linecolor": "#506784",
             "minorgridcolor": "#506784",
             "startlinecolor": "#A2B1C6"
            },
            "type": "carpet"
           }
          ],
          "choropleth": [
           {
            "colorbar": {
             "outlinewidth": 0,
             "ticks": ""
            },
            "type": "choropleth"
           }
          ],
          "contour": [
           {
            "colorbar": {
             "outlinewidth": 0,
             "ticks": ""
            },
            "colorscale": [
             [
              0,
              "#0d0887"
             ],
             [
              0.1111111111111111,
              "#46039f"
             ],
             [
              0.2222222222222222,
              "#7201a8"
             ],
             [
              0.3333333333333333,
              "#9c179e"
             ],
             [
              0.4444444444444444,
              "#bd3786"
             ],
             [
              0.5555555555555556,
              "#d8576b"
             ],
             [
              0.6666666666666666,
              "#ed7953"
             ],
             [
              0.7777777777777778,
              "#fb9f3a"
             ],
             [
              0.8888888888888888,
              "#fdca26"
             ],
             [
              1,
              "#f0f921"
             ]
            ],
            "type": "contour"
           }
          ],
          "contourcarpet": [
           {
            "colorbar": {
             "outlinewidth": 0,
             "ticks": ""
            },
            "type": "contourcarpet"
           }
          ],
          "heatmap": [
           {
            "colorbar": {
             "outlinewidth": 0,
             "ticks": ""
            },
            "colorscale": [
             [
              0,
              "#0d0887"
             ],
             [
              0.1111111111111111,
              "#46039f"
             ],
             [
              0.2222222222222222,
              "#7201a8"
             ],
             [
              0.3333333333333333,
              "#9c179e"
             ],
             [
              0.4444444444444444,
              "#bd3786"
             ],
             [
              0.5555555555555556,
              "#d8576b"
             ],
             [
              0.6666666666666666,
              "#ed7953"
             ],
             [
              0.7777777777777778,
              "#fb9f3a"
             ],
             [
              0.8888888888888888,
              "#fdca26"
             ],
             [
              1,
              "#f0f921"
             ]
            ],
            "type": "heatmap"
           }
          ],
          "heatmapgl": [
           {
            "colorbar": {
             "outlinewidth": 0,
             "ticks": ""
            },
            "colorscale": [
             [
              0,
              "#0d0887"
             ],
             [
              0.1111111111111111,
              "#46039f"
             ],
             [
              0.2222222222222222,
              "#7201a8"
             ],
             [
              0.3333333333333333,
              "#9c179e"
             ],
             [
              0.4444444444444444,
              "#bd3786"
             ],
             [
              0.5555555555555556,
              "#d8576b"
             ],
             [
              0.6666666666666666,
              "#ed7953"
             ],
             [
              0.7777777777777778,
              "#fb9f3a"
             ],
             [
              0.8888888888888888,
              "#fdca26"
             ],
             [
              1,
              "#f0f921"
             ]
            ],
            "type": "heatmapgl"
           }
          ],
          "histogram": [
           {
            "marker": {
             "pattern": {
              "fillmode": "overlay",
              "size": 10,
              "solidity": 0.2
             }
            },
            "type": "histogram"
           }
          ],
          "histogram2d": [
           {
            "colorbar": {
             "outlinewidth": 0,
             "ticks": ""
            },
            "colorscale": [
             [
              0,
              "#0d0887"
             ],
             [
              0.1111111111111111,
              "#46039f"
             ],
             [
              0.2222222222222222,
              "#7201a8"
             ],
             [
              0.3333333333333333,
              "#9c179e"
             ],
             [
              0.4444444444444444,
              "#bd3786"
             ],
             [
              0.5555555555555556,
              "#d8576b"
             ],
             [
              0.6666666666666666,
              "#ed7953"
             ],
             [
              0.7777777777777778,
              "#fb9f3a"
             ],
             [
              0.8888888888888888,
              "#fdca26"
             ],
             [
              1,
              "#f0f921"
             ]
            ],
            "type": "histogram2d"
           }
          ],
          "histogram2dcontour": [
           {
            "colorbar": {
             "outlinewidth": 0,
             "ticks": ""
            },
            "colorscale": [
             [
              0,
              "#0d0887"
             ],
             [
              0.1111111111111111,
              "#46039f"
             ],
             [
              0.2222222222222222,
              "#7201a8"
             ],
             [
              0.3333333333333333,
              "#9c179e"
             ],
             [
              0.4444444444444444,
              "#bd3786"
             ],
             [
              0.5555555555555556,
              "#d8576b"
             ],
             [
              0.6666666666666666,
              "#ed7953"
             ],
             [
              0.7777777777777778,
              "#fb9f3a"
             ],
             [
              0.8888888888888888,
              "#fdca26"
             ],
             [
              1,
              "#f0f921"
             ]
            ],
            "type": "histogram2dcontour"
           }
          ],
          "mesh3d": [
           {
            "colorbar": {
             "outlinewidth": 0,
             "ticks": ""
            },
            "type": "mesh3d"
           }
          ],
          "parcoords": [
           {
            "line": {
             "colorbar": {
              "outlinewidth": 0,
              "ticks": ""
             }
            },
            "type": "parcoords"
           }
          ],
          "pie": [
           {
            "automargin": true,
            "type": "pie"
           }
          ],
          "scatter": [
           {
            "marker": {
             "line": {
              "color": "#283442"
             }
            },
            "type": "scatter"
           }
          ],
          "scatter3d": [
           {
            "line": {
             "colorbar": {
              "outlinewidth": 0,
              "ticks": ""
             }
            },
            "marker": {
             "colorbar": {
              "outlinewidth": 0,
              "ticks": ""
             }
            },
            "type": "scatter3d"
           }
          ],
          "scattercarpet": [
           {
            "marker": {
             "colorbar": {
              "outlinewidth": 0,
              "ticks": ""
             }
            },
            "type": "scattercarpet"
           }
          ],
          "scattergeo": [
           {
            "marker": {
             "colorbar": {
              "outlinewidth": 0,
              "ticks": ""
             }
            },
            "type": "scattergeo"
           }
          ],
          "scattergl": [
           {
            "marker": {
             "line": {
              "color": "#283442"
             }
            },
            "type": "scattergl"
           }
          ],
          "scattermapbox": [
           {
            "marker": {
             "colorbar": {
              "outlinewidth": 0,
              "ticks": ""
             }
            },
            "type": "scattermapbox"
           }
          ],
          "scatterpolar": [
           {
            "marker": {
             "colorbar": {
              "outlinewidth": 0,
              "ticks": ""
             }
            },
            "type": "scatterpolar"
           }
          ],
          "scatterpolargl": [
           {
            "marker": {
             "colorbar": {
              "outlinewidth": 0,
              "ticks": ""
             }
            },
            "type": "scatterpolargl"
           }
          ],
          "scatterternary": [
           {
            "marker": {
             "colorbar": {
              "outlinewidth": 0,
              "ticks": ""
             }
            },
            "type": "scatterternary"
           }
          ],
          "surface": [
           {
            "colorbar": {
             "outlinewidth": 0,
             "ticks": ""
            },
            "colorscale": [
             [
              0,
              "#0d0887"
             ],
             [
              0.1111111111111111,
              "#46039f"
             ],
             [
              0.2222222222222222,
              "#7201a8"
             ],
             [
              0.3333333333333333,
              "#9c179e"
             ],
             [
              0.4444444444444444,
              "#bd3786"
             ],
             [
              0.5555555555555556,
              "#d8576b"
             ],
             [
              0.6666666666666666,
              "#ed7953"
             ],
             [
              0.7777777777777778,
              "#fb9f3a"
             ],
             [
              0.8888888888888888,
              "#fdca26"
             ],
             [
              1,
              "#f0f921"
             ]
            ],
            "type": "surface"
           }
          ],
          "table": [
           {
            "cells": {
             "fill": {
              "color": "#506784"
             },
             "line": {
              "color": "rgb(17,17,17)"
             }
            },
            "header": {
             "fill": {
              "color": "#2a3f5f"
             },
             "line": {
              "color": "rgb(17,17,17)"
             }
            },
            "type": "table"
           }
          ]
         },
         "layout": {
          "annotationdefaults": {
           "arrowcolor": "#f2f5fa",
           "arrowhead": 0,
           "arrowwidth": 1
          },
          "autotypenumbers": "strict",
          "coloraxis": {
           "colorbar": {
            "outlinewidth": 0,
            "ticks": ""
           }
          },
          "colorscale": {
           "diverging": [
            [
             0,
             "#8e0152"
            ],
            [
             0.1,
             "#c51b7d"
            ],
            [
             0.2,
             "#de77ae"
            ],
            [
             0.3,
             "#f1b6da"
            ],
            [
             0.4,
             "#fde0ef"
            ],
            [
             0.5,
             "#f7f7f7"
            ],
            [
             0.6,
             "#e6f5d0"
            ],
            [
             0.7,
             "#b8e186"
            ],
            [
             0.8,
             "#7fbc41"
            ],
            [
             0.9,
             "#4d9221"
            ],
            [
             1,
             "#276419"
            ]
           ],
           "sequential": [
            [
             0,
             "#0d0887"
            ],
            [
             0.1111111111111111,
             "#46039f"
            ],
            [
             0.2222222222222222,
             "#7201a8"
            ],
            [
             0.3333333333333333,
             "#9c179e"
            ],
            [
             0.4444444444444444,
             "#bd3786"
            ],
            [
             0.5555555555555556,
             "#d8576b"
            ],
            [
             0.6666666666666666,
             "#ed7953"
            ],
            [
             0.7777777777777778,
             "#fb9f3a"
            ],
            [
             0.8888888888888888,
             "#fdca26"
            ],
            [
             1,
             "#f0f921"
            ]
           ],
           "sequentialminus": [
            [
             0,
             "#0d0887"
            ],
            [
             0.1111111111111111,
             "#46039f"
            ],
            [
             0.2222222222222222,
             "#7201a8"
            ],
            [
             0.3333333333333333,
             "#9c179e"
            ],
            [
             0.4444444444444444,
             "#bd3786"
            ],
            [
             0.5555555555555556,
             "#d8576b"
            ],
            [
             0.6666666666666666,
             "#ed7953"
            ],
            [
             0.7777777777777778,
             "#fb9f3a"
            ],
            [
             0.8888888888888888,
             "#fdca26"
            ],
            [
             1,
             "#f0f921"
            ]
           ]
          },
          "colorway": [
           "#636efa",
           "#EF553B",
           "#00cc96",
           "#ab63fa",
           "#FFA15A",
           "#19d3f3",
           "#FF6692",
           "#B6E880",
           "#FF97FF",
           "#FECB52"
          ],
          "font": {
           "color": "#f2f5fa"
          },
          "geo": {
           "bgcolor": "rgb(17,17,17)",
           "lakecolor": "rgb(17,17,17)",
           "landcolor": "rgb(17,17,17)",
           "showlakes": true,
           "showland": true,
           "subunitcolor": "#506784"
          },
          "hoverlabel": {
           "align": "left"
          },
          "hovermode": "closest",
          "mapbox": {
           "style": "dark"
          },
          "paper_bgcolor": "rgb(17,17,17)",
          "plot_bgcolor": "rgb(17,17,17)",
          "polar": {
           "angularaxis": {
            "gridcolor": "#506784",
            "linecolor": "#506784",
            "ticks": ""
           },
           "bgcolor": "rgb(17,17,17)",
           "radialaxis": {
            "gridcolor": "#506784",
            "linecolor": "#506784",
            "ticks": ""
           }
          },
          "scene": {
           "xaxis": {
            "backgroundcolor": "rgb(17,17,17)",
            "gridcolor": "#506784",
            "gridwidth": 2,
            "linecolor": "#506784",
            "showbackground": true,
            "ticks": "",
            "zerolinecolor": "#C8D4E3"
           },
           "yaxis": {
            "backgroundcolor": "rgb(17,17,17)",
            "gridcolor": "#506784",
            "gridwidth": 2,
            "linecolor": "#506784",
            "showbackground": true,
            "ticks": "",
            "zerolinecolor": "#C8D4E3"
           },
           "zaxis": {
            "backgroundcolor": "rgb(17,17,17)",
            "gridcolor": "#506784",
            "gridwidth": 2,
            "linecolor": "#506784",
            "showbackground": true,
            "ticks": "",
            "zerolinecolor": "#C8D4E3"
           }
          },
          "shapedefaults": {
           "line": {
            "color": "#f2f5fa"
           }
          },
          "sliderdefaults": {
           "bgcolor": "#C8D4E3",
           "bordercolor": "rgb(17,17,17)",
           "borderwidth": 1,
           "tickwidth": 0
          },
          "ternary": {
           "aaxis": {
            "gridcolor": "#506784",
            "linecolor": "#506784",
            "ticks": ""
           },
           "baxis": {
            "gridcolor": "#506784",
            "linecolor": "#506784",
            "ticks": ""
           },
           "bgcolor": "rgb(17,17,17)",
           "caxis": {
            "gridcolor": "#506784",
            "linecolor": "#506784",
            "ticks": ""
           }
          },
          "title": {
           "x": 0.05
          },
          "updatemenudefaults": {
           "bgcolor": "#506784",
           "borderwidth": 0
          },
          "xaxis": {
           "automargin": true,
           "gridcolor": "#283442",
           "linecolor": "#506784",
           "ticks": "",
           "title": {
            "standoff": 15
           },
           "zerolinecolor": "#283442",
           "zerolinewidth": 2
          },
          "yaxis": {
           "automargin": true,
           "gridcolor": "#283442",
           "linecolor": "#506784",
           "ticks": "",
           "title": {
            "standoff": 15
           },
           "zerolinecolor": "#283442",
           "zerolinewidth": 2
          }
         }
        },
        "title": {
         "text": "Top 15 Artists by Year"
        },
        "updatemenus": [
         {
          "buttons": [
           {
            "args": [
             null,
             {
              "frame": {
               "duration": 500,
               "redraw": true
              },
              "fromcurrent": true,
              "mode": "immediate",
              "transition": {
               "duration": 500,
               "easing": "linear"
              }
             }
            ],
            "label": "&#9654;",
            "method": "animate"
           },
           {
            "args": [
             [
              null
             ],
             {
              "frame": {
               "duration": 0,
               "redraw": true
              },
              "fromcurrent": true,
              "mode": "immediate",
              "transition": {
               "duration": 0,
               "easing": "linear"
              }
             }
            ],
            "label": "&#9724;",
            "method": "animate"
           }
          ],
          "direction": "left",
          "pad": {
           "r": 10,
           "t": 70
          },
          "showactive": false,
          "type": "buttons",
          "x": 0.1,
          "xanchor": "right",
          "y": 0,
          "yanchor": "top"
         }
        ],
        "xaxis": {
         "anchor": "y",
         "domain": [
          0,
          1
         ],
         "range": [
          0,
          2019
         ],
         "title": {
          "text": "Song Count"
         }
        },
        "yaxis": {
         "anchor": "x",
         "categoryarray": [
          "21 Savage",
          "Kanye West",
          "SZA",
          "Post Malone",
          "DOLLA",
          "Rossa",
          "Mariah Carey",
          "The Righteous Brothers",
          "Joe Flizzow",
          "Mahalini",
          "Sarah",
          "Drake",
          "Aina Abdul",
          "ALYPH",
          "Nicki Minaj",
          "Stephen Sanchez",
          "Rema",
          "W.A.R.I.S",
          "Cardi B",
          "Luqman Podolski",
          "Sam Smith",
          "FRE",
          "Shawn Mendes",
          "Lizzo",
          "Dua Lipa",
          "Natalie Taylor",
          "Andmesh",
          "Blue Ivy",
          "Outkast",
          "Jessica Mauboy",
          "JP Saxe",
          "Normani",
          "Ella",
          "Fifth Harmony",
          "Tones And I",
          "Drax Project",
          "Miley Cyrus",
          "Bebe Rexha",
          "Hailee Steinfeld",
          "Little Mix",
          "Demi Lovato",
          "NF",
          "Lady Gaga",
          "Britney Spears",
          "James Arthur",
          "Ariana Grande",
          "Jon Bellion",
          "Alessia Cara",
          "Solange",
          "mgk",
          "Julia Michaels",
          "ZAYN",
          "Queen",
          "Dato' Sri Siti Nurhaliza",
          "Twenty One Pilots",
          "Adele",
          "Madonna",
          "Rihanna",
          "Selena Gomez",
          "Pentatonix",
          "Paris Music",
          "Avril Lavigne",
          "John Lennon",
          "Coldplay",
          "Adam Levine",
          "Hozier",
          "Meghan Trainor",
          "Dido",
          "Daniela Andrade",
          "Bee Gees",
          "Eminem",
          "Taylor Swift",
          "Guba",
          "Passenger",
          "Justin Timberlake",
          "Sia",
          "Alicia Keys",
          "Colbie Caillat",
          "Ellie Goulding",
          "The Script",
          "Troye Sivan",
          "Destiny's Child",
          "Norah Jones",
          "Ed Sheeran",
          "Beyoncé",
          "Yuna"
         ],
         "categoryorder": "array",
         "domain": [
          0,
          1
         ],
         "title": {
          "text": "artist"
         }
        }
       }
      }
     },
     "metadata": {},
     "output_type": "display_data"
    }
   ],
   "source": [
    "fig = px.bar(\n",
    "    race_chart,\n",
    "    x='song_count',\n",
    "    y='artist',\n",
    "    color='artist',\n",
    "    animation_frame='year',\n",
    "    range_x=[0, race_chart['song_count'].max()],\n",
    "    title='Top 15 Artists by Year',\n",
    "    labels={'song_count': 'Song Count'},\n",
    "    orientation='h',\n",
    "    height=700,\n",
    "    template='plotly_dark'\n",
    ")\n",
    "\n",
    "fig.show()"
   ]
  },
  {
   "cell_type": "code",
   "execution_count": null,
   "metadata": {},
   "outputs": [],
   "source": []
  }
 ],
 "metadata": {
  "kernelspec": {
   "display_name": "base",
   "language": "python",
   "name": "python3"
  },
  "language_info": {
   "codemirror_mode": {
    "name": "ipython",
    "version": 3
   },
   "file_extension": ".py",
   "mimetype": "text/x-python",
   "name": "python",
   "nbconvert_exporter": "python",
   "pygments_lexer": "ipython3",
   "version": "3.12.3"
  }
 },
 "nbformat": 4,
 "nbformat_minor": 2
}
