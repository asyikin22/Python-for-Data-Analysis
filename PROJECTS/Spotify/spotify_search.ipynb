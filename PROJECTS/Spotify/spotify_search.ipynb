{
 "cells": [
  {
   "cell_type": "code",
   "execution_count": 17,
   "metadata": {},
   "outputs": [
    {
     "name": "stdout",
     "output_type": "stream",
     "text": [
      "BQDQkvX2w9SHwin1oqB-uS8ujlAu874xXvAGPu2sQe8dnJl8hT-Q6aLvBPTIUx2uZvVoJhAGgoEo8tr_ZF92LbJ77hqvjEdf4ntOosLtyAw7SObCghY\n"
     ]
    }
   ],
   "source": [
    "import os\n",
    "from dotenv import load_dotenv\n",
    "import base64\n",
    "from requests import post, get\n",
    "import json\n",
    "\n",
    "load_dotenv()\n",
    "\n",
    "client_id = os.getenv('client_id')\n",
    "client_secret = os.getenv('secret_id')\n",
    "\n",
    "# print(client_id, client_secret)\n",
    "\n",
    "def get_token():\n",
    "    auth_string = client_id + \":\" + client_secret\n",
    "    auth_bytes = auth_string.encode(\"utf-8\")\n",
    "    auth_base64 = str(base64.b64encode(auth_bytes), \"utf-8\")\n",
    "    \n",
    "    url = \"https://accounts.spotify.com/api/token\"\n",
    "    headers = {\n",
    "        \"Authorization\": \"Basic \" + auth_base64,\n",
    "        \"Content-Type\": \"application/x-www-form-urlencoded\"\n",
    "    }\n",
    "    data = {\"grant_type\" : \"client_credentials\"}\n",
    "    result = post(url, headers=headers, data=data)\n",
    "    json_result = json.loads(result.content)\n",
    "    token = json_result[\"access_token\"]\n",
    "    return token\n",
    "\n",
    "def get_auth_header(token):\n",
    "    return {\"Authorization\": \"Bearer \" + token}\n",
    "\n",
    "def search_for_artist(token, artist_name):\n",
    "    url = \"https://api.spotify.com/v1/search\"\n",
    "    headers = get_auth_header(token)\n",
    "    query = f\"q={artist_name}&type=artist&limit=1\"\n",
    "    \n",
    "    query_url = url + \"?\" + query\n",
    "    result = get(query_url, headers=headers)\n",
    "    json_result = json.loads(result.content)[\"artists\"][\"items\"]\n",
    "    if len(json_result) == 0:\n",
    "        print(\"No Artist with this name exists...\")\n",
    "        return None\n",
    "    \n",
    "    return json_result[0]\n",
    "\n",
    "def get_songs_by_artist(token, artist_id):\n",
    "    url = f\"https://api.spotify.com/v1/artists/{artist_id}/top-tracks?country=US\"\n",
    "    headers = get_auth_header(token)\n",
    "    result = get(url, headers=headers)\n",
    "    json_result = json.loads(result.content)[\"tracks\"]\n",
    "    return json_result\n",
    "    \n",
    "token = get_token()\n",
    "print(token)\n",
    "\n",
    "# result = search_for_artist(token, \"Britney\")\n",
    "# artist_id = result[\"id\"]\n",
    "# songs = get_songs_by_artist(token, artist_id)\n",
    "# # print(songs)\n",
    "\n",
    "# for idx, song in enumerate(songs):\n",
    "#     print(f\"{idx + 1}, {song['name']}\")"
   ]
  },
  {
   "cell_type": "code",
   "execution_count": 18,
   "metadata": {},
   "outputs": [
    {
     "name": "stdout",
     "output_type": "stream",
     "text": [
      "1, Toxic\n",
      "2, My Only Wish (This Year)\n",
      "3, ...Baby One More Time\n",
      "4, Gimme More\n",
      "5, Oops!...I Did It Again\n",
      "6, Womanizer\n",
      "7, Circus\n",
      "8, Hold Me Closer\n",
      "9, Criminal\n",
      "10, If U Seek Amy\n"
     ]
    }
   ],
   "source": [
    "result = search_for_artist(token, \"Britney\")\n",
    "artist_id = result[\"id\"]\n",
    "songs = get_songs_by_artist(token, artist_id)\n",
    "# print(songs)\n",
    "\n",
    "for idx, song in enumerate(songs):\n",
    "    print(f\"{idx + 1}, {song['name']}\")"
   ]
  },
  {
   "cell_type": "code",
   "execution_count": 19,
   "metadata": {},
   "outputs": [
    {
     "name": "stdout",
     "output_type": "stream",
     "text": [
      "Error fetching audio features: 403\n"
     ]
    }
   ],
   "source": [
    "def get_audio_features(token, track_id):\n",
    "    url = f\"https://api.spotify.com/v1/audio-features/{track_id}\"\n",
    "    headers = get_auth_header(token)  # Use the existing function to get the header with Bearer token\n",
    "    result = get(url, headers=headers)\n",
    "    \n",
    "    if result.status_code == 200:  # Check if the request is successful\n",
    "        json_result = json.loads(result.content)\n",
    "        return json_result  # This contains all the audio features for the track\n",
    "    else:\n",
    "        print(\"Error fetching audio features:\", result.status_code)\n",
    "        return None\n",
    "\n",
    "# Example usage\n",
    "track_id = \"34gCuhDGsG4bRPIf9bb02f\"  # Replace this with the actual track ID\n",
    "audio_features = get_audio_features(token, track_id)\n",
    "\n",
    "if audio_features:\n",
    "    print(\"Audio Features for Track ID\", track_id)\n",
    "    for feature, value in audio_features.items():\n",
    "        print(f\"{feature}: {value}\")\n"
   ]
  },
  {
   "cell_type": "code",
   "execution_count": 13,
   "metadata": {},
   "outputs": [],
   "source": []
  },
  {
   "cell_type": "code",
   "execution_count": null,
   "metadata": {},
   "outputs": [],
   "source": []
  }
 ],
 "metadata": {
  "kernelspec": {
   "display_name": "base",
   "language": "python",
   "name": "python3"
  },
  "language_info": {
   "codemirror_mode": {
    "name": "ipython",
    "version": 3
   },
   "file_extension": ".py",
   "mimetype": "text/x-python",
   "name": "python",
   "nbconvert_exporter": "python",
   "pygments_lexer": "ipython3",
   "version": "3.12.3"
  }
 },
 "nbformat": 4,
 "nbformat_minor": 2
}
