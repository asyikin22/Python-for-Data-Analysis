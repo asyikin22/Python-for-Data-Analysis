{
 "cells": [
  {
   "cell_type": "code",
   "execution_count": 22,
   "metadata": {},
   "outputs": [
    {
     "data": {
      "text/html": [
       "<div>\n",
       "<style scoped>\n",
       "    .dataframe tbody tr th:only-of-type {\n",
       "        vertical-align: middle;\n",
       "    }\n",
       "\n",
       "    .dataframe tbody tr th {\n",
       "        vertical-align: top;\n",
       "    }\n",
       "\n",
       "    .dataframe thead th {\n",
       "        text-align: right;\n",
       "    }\n",
       "</style>\n",
       "<table border=\"1\" class=\"dataframe\">\n",
       "  <thead>\n",
       "    <tr style=\"text-align: right;\">\n",
       "      <th></th>\n",
       "      <th>Region</th>\n",
       "      <th>Countries</th>\n",
       "      <th>Capital_city</th>\n",
       "      <th>Latitude</th>\n",
       "      <th>Longitude</th>\n",
       "      <th>Diversity</th>\n",
       "      <th>Safety</th>\n",
       "      <th>Hospitality</th>\n",
       "      <th>History</th>\n",
       "      <th>Nature</th>\n",
       "      <th>Return</th>\n",
       "    </tr>\n",
       "  </thead>\n",
       "  <tbody>\n",
       "    <tr>\n",
       "      <th>0</th>\n",
       "      <td>Caucasia</td>\n",
       "      <td>Azerbaijan</td>\n",
       "      <td>Baku</td>\n",
       "      <td>40.4093</td>\n",
       "      <td>49.8671</td>\n",
       "      <td>Low</td>\n",
       "      <td>3</td>\n",
       "      <td>2</td>\n",
       "      <td>2</td>\n",
       "      <td>4</td>\n",
       "      <td>Yes</td>\n",
       "    </tr>\n",
       "    <tr>\n",
       "      <th>1</th>\n",
       "      <td>Central Europe</td>\n",
       "      <td>Hungary</td>\n",
       "      <td>Budapest</td>\n",
       "      <td>47.4979</td>\n",
       "      <td>19.0402</td>\n",
       "      <td>Low</td>\n",
       "      <td>4</td>\n",
       "      <td>2</td>\n",
       "      <td>3</td>\n",
       "      <td>4</td>\n",
       "      <td>Yes</td>\n",
       "    </tr>\n",
       "    <tr>\n",
       "      <th>2</th>\n",
       "      <td>Central Europe</td>\n",
       "      <td>Czech Republic</td>\n",
       "      <td>Prague</td>\n",
       "      <td>50.0755</td>\n",
       "      <td>14.4378</td>\n",
       "      <td>Low</td>\n",
       "      <td>3</td>\n",
       "      <td>1</td>\n",
       "      <td>3</td>\n",
       "      <td>3</td>\n",
       "      <td>No</td>\n",
       "    </tr>\n",
       "    <tr>\n",
       "      <th>3</th>\n",
       "      <td>Central Europe</td>\n",
       "      <td>Switzerland</td>\n",
       "      <td>Bern</td>\n",
       "      <td>46.9479</td>\n",
       "      <td>7.4474</td>\n",
       "      <td>Low</td>\n",
       "      <td>4</td>\n",
       "      <td>3</td>\n",
       "      <td>2</td>\n",
       "      <td>5</td>\n",
       "      <td>Yes</td>\n",
       "    </tr>\n",
       "    <tr>\n",
       "      <th>4</th>\n",
       "      <td>Middle East</td>\n",
       "      <td>Iran</td>\n",
       "      <td>Tehran</td>\n",
       "      <td>35.6892</td>\n",
       "      <td>51.3890</td>\n",
       "      <td>Low</td>\n",
       "      <td>4</td>\n",
       "      <td>5</td>\n",
       "      <td>3</td>\n",
       "      <td>5</td>\n",
       "      <td>Yes</td>\n",
       "    </tr>\n",
       "    <tr>\n",
       "      <th>5</th>\n",
       "      <td>Middle East</td>\n",
       "      <td>United Arab Emirates</td>\n",
       "      <td>Dubai</td>\n",
       "      <td>24.4539</td>\n",
       "      <td>54.3773</td>\n",
       "      <td>Medium</td>\n",
       "      <td>4</td>\n",
       "      <td>2</td>\n",
       "      <td>1</td>\n",
       "      <td>1</td>\n",
       "      <td>No</td>\n",
       "    </tr>\n",
       "    <tr>\n",
       "      <th>6</th>\n",
       "      <td>Middle East</td>\n",
       "      <td>Turkey</td>\n",
       "      <td>Istabul</td>\n",
       "      <td>41.0082</td>\n",
       "      <td>28.9784</td>\n",
       "      <td>Low</td>\n",
       "      <td>4</td>\n",
       "      <td>5</td>\n",
       "      <td>3</td>\n",
       "      <td>3</td>\n",
       "      <td>Yes</td>\n",
       "    </tr>\n",
       "    <tr>\n",
       "      <th>7</th>\n",
       "      <td>Oceania</td>\n",
       "      <td>Australia</td>\n",
       "      <td>Melbourne</td>\n",
       "      <td>-37.8136</td>\n",
       "      <td>144.9631</td>\n",
       "      <td>High</td>\n",
       "      <td>4</td>\n",
       "      <td>3</td>\n",
       "      <td>2</td>\n",
       "      <td>5</td>\n",
       "      <td>Yes</td>\n",
       "    </tr>\n",
       "    <tr>\n",
       "      <th>8</th>\n",
       "      <td>South Asia</td>\n",
       "      <td>India</td>\n",
       "      <td>Kerala</td>\n",
       "      <td>8.5241</td>\n",
       "      <td>76.9366</td>\n",
       "      <td>Low</td>\n",
       "      <td>2</td>\n",
       "      <td>5</td>\n",
       "      <td>2</td>\n",
       "      <td>3</td>\n",
       "      <td>Undecided</td>\n",
       "    </tr>\n",
       "    <tr>\n",
       "      <th>9</th>\n",
       "      <td>Southeast Asia</td>\n",
       "      <td>Singapore</td>\n",
       "      <td>Singapore</td>\n",
       "      <td>1.3521</td>\n",
       "      <td>103.8198</td>\n",
       "      <td>Medium</td>\n",
       "      <td>5</td>\n",
       "      <td>2</td>\n",
       "      <td>1</td>\n",
       "      <td>3</td>\n",
       "      <td>Undecided</td>\n",
       "    </tr>\n",
       "    <tr>\n",
       "      <th>10</th>\n",
       "      <td>Southeast Asia</td>\n",
       "      <td>Indonesia</td>\n",
       "      <td>Denpasar</td>\n",
       "      <td>-8.3405</td>\n",
       "      <td>115.0920</td>\n",
       "      <td>Low</td>\n",
       "      <td>4</td>\n",
       "      <td>5</td>\n",
       "      <td>1</td>\n",
       "      <td>4</td>\n",
       "      <td>Yes</td>\n",
       "    </tr>\n",
       "    <tr>\n",
       "      <th>11</th>\n",
       "      <td>Southeast Asia</td>\n",
       "      <td>Thailand</td>\n",
       "      <td>Bangkok</td>\n",
       "      <td>13.7563</td>\n",
       "      <td>100.5018</td>\n",
       "      <td>Low</td>\n",
       "      <td>4</td>\n",
       "      <td>3</td>\n",
       "      <td>1</td>\n",
       "      <td>5</td>\n",
       "      <td>Yes</td>\n",
       "    </tr>\n",
       "    <tr>\n",
       "      <th>12</th>\n",
       "      <td>Southeast Europe</td>\n",
       "      <td>Bulgaria</td>\n",
       "      <td>Sofia</td>\n",
       "      <td>42.6977</td>\n",
       "      <td>23.3219</td>\n",
       "      <td>Low</td>\n",
       "      <td>4</td>\n",
       "      <td>4</td>\n",
       "      <td>2</td>\n",
       "      <td>4</td>\n",
       "      <td>No</td>\n",
       "    </tr>\n",
       "    <tr>\n",
       "      <th>13</th>\n",
       "      <td>Southeast Europe</td>\n",
       "      <td>Romania</td>\n",
       "      <td>Bucharest</td>\n",
       "      <td>44.4268</td>\n",
       "      <td>26.1025</td>\n",
       "      <td>Low</td>\n",
       "      <td>2</td>\n",
       "      <td>2</td>\n",
       "      <td>2</td>\n",
       "      <td>3</td>\n",
       "      <td>No</td>\n",
       "    </tr>\n",
       "    <tr>\n",
       "      <th>14</th>\n",
       "      <td>Western Europe</td>\n",
       "      <td>Germany</td>\n",
       "      <td>Berlin</td>\n",
       "      <td>52.5200</td>\n",
       "      <td>13.4050</td>\n",
       "      <td>Low</td>\n",
       "      <td>3</td>\n",
       "      <td>1</td>\n",
       "      <td>5</td>\n",
       "      <td>3</td>\n",
       "      <td>No</td>\n",
       "    </tr>\n",
       "    <tr>\n",
       "      <th>15</th>\n",
       "      <td>Western Europe</td>\n",
       "      <td>France</td>\n",
       "      <td>Paris</td>\n",
       "      <td>48.8566</td>\n",
       "      <td>2.3522</td>\n",
       "      <td>High</td>\n",
       "      <td>4</td>\n",
       "      <td>2</td>\n",
       "      <td>5</td>\n",
       "      <td>4</td>\n",
       "      <td>Yes</td>\n",
       "    </tr>\n",
       "  </tbody>\n",
       "</table>\n",
       "</div>"
      ],
      "text/plain": [
       "              Region             Countries Capital_city  Latitude  Longitude  \\\n",
       "0           Caucasia            Azerbaijan         Baku   40.4093    49.8671   \n",
       "1     Central Europe               Hungary     Budapest   47.4979    19.0402   \n",
       "2     Central Europe        Czech Republic       Prague   50.0755    14.4378   \n",
       "3     Central Europe           Switzerland         Bern   46.9479     7.4474   \n",
       "4        Middle East                  Iran       Tehran   35.6892    51.3890   \n",
       "5        Middle East  United Arab Emirates        Dubai   24.4539    54.3773   \n",
       "6        Middle East                Turkey      Istabul   41.0082    28.9784   \n",
       "7            Oceania             Australia    Melbourne  -37.8136   144.9631   \n",
       "8         South Asia                 India       Kerala    8.5241    76.9366   \n",
       "9     Southeast Asia             Singapore    Singapore    1.3521   103.8198   \n",
       "10    Southeast Asia             Indonesia     Denpasar   -8.3405   115.0920   \n",
       "11    Southeast Asia              Thailand      Bangkok   13.7563   100.5018   \n",
       "12  Southeast Europe              Bulgaria        Sofia   42.6977    23.3219   \n",
       "13  Southeast Europe               Romania    Bucharest   44.4268    26.1025   \n",
       "14    Western Europe               Germany       Berlin   52.5200    13.4050   \n",
       "15    Western Europe                France        Paris   48.8566     2.3522   \n",
       "\n",
       "   Diversity  Safety  Hospitality  History  Nature     Return  \n",
       "0        Low       3            2        2       4        Yes  \n",
       "1        Low       4            2        3       4        Yes  \n",
       "2        Low       3            1        3       3         No  \n",
       "3        Low       4            3        2       5        Yes  \n",
       "4        Low       4            5        3       5        Yes  \n",
       "5     Medium       4            2        1       1         No  \n",
       "6        Low       4            5        3       3        Yes  \n",
       "7       High       4            3        2       5        Yes  \n",
       "8        Low       2            5        2       3  Undecided  \n",
       "9     Medium       5            2        1       3  Undecided  \n",
       "10       Low       4            5        1       4        Yes  \n",
       "11       Low       4            3        1       5        Yes  \n",
       "12       Low       4            4        2       4         No  \n",
       "13       Low       2            2        2       3         No  \n",
       "14       Low       3            1        5       3         No  \n",
       "15      High       4            2        5       4        Yes  "
      ]
     },
     "execution_count": 22,
     "metadata": {},
     "output_type": "execute_result"
    }
   ],
   "source": [
    "import pandas as pd\n",
    "import matplotlib.pyplot as plt\n",
    "import seaborn as sns\n",
    "\n",
    "trav = pd.read_excel(r\"C:\\Users\\ASYIKIN\\OneDrive\\Desktop\\PYTHON FOR DATA ANALYSIS\\PROJECTS\\Travel\\Travel_map.xlsx\")\n",
    "\n",
    "trav"
   ]
  },
  {
   "cell_type": "code",
   "execution_count": 23,
   "metadata": {},
   "outputs": [
    {
     "data": {
      "text/plain": [
       "Index(['Region', 'Countries', 'Capital_city', 'Latitude', 'Longitude',\n",
       "       'Diversity', 'Safety', 'Hospitality', 'History', 'Nature', 'Return'],\n",
       "      dtype='object')"
      ]
     },
     "execution_count": 23,
     "metadata": {},
     "output_type": "execute_result"
    }
   ],
   "source": [
    "trav.columns"
   ]
  },
  {
   "cell_type": "code",
   "execution_count": 24,
   "metadata": {},
   "outputs": [
    {
     "data": {
      "text/html": [
       "<div>\n",
       "<style scoped>\n",
       "    .dataframe tbody tr th:only-of-type {\n",
       "        vertical-align: middle;\n",
       "    }\n",
       "\n",
       "    .dataframe tbody tr th {\n",
       "        vertical-align: top;\n",
       "    }\n",
       "\n",
       "    .dataframe thead th {\n",
       "        text-align: right;\n",
       "    }\n",
       "</style>\n",
       "<table border=\"1\" class=\"dataframe\">\n",
       "  <thead>\n",
       "    <tr style=\"text-align: right;\">\n",
       "      <th></th>\n",
       "      <th>Countries</th>\n",
       "      <th>Latitude</th>\n",
       "      <th>Longitude</th>\n",
       "    </tr>\n",
       "  </thead>\n",
       "  <tbody>\n",
       "    <tr>\n",
       "      <th>0</th>\n",
       "      <td>Azerbaijan</td>\n",
       "      <td>40.4093</td>\n",
       "      <td>49.8671</td>\n",
       "    </tr>\n",
       "    <tr>\n",
       "      <th>1</th>\n",
       "      <td>Hungary</td>\n",
       "      <td>47.4979</td>\n",
       "      <td>19.0402</td>\n",
       "    </tr>\n",
       "    <tr>\n",
       "      <th>2</th>\n",
       "      <td>Czech Republic</td>\n",
       "      <td>50.0755</td>\n",
       "      <td>14.4378</td>\n",
       "    </tr>\n",
       "    <tr>\n",
       "      <th>3</th>\n",
       "      <td>Switzerland</td>\n",
       "      <td>46.9479</td>\n",
       "      <td>7.4474</td>\n",
       "    </tr>\n",
       "    <tr>\n",
       "      <th>4</th>\n",
       "      <td>Iran</td>\n",
       "      <td>35.6892</td>\n",
       "      <td>51.3890</td>\n",
       "    </tr>\n",
       "    <tr>\n",
       "      <th>5</th>\n",
       "      <td>United Arab Emirates</td>\n",
       "      <td>24.4539</td>\n",
       "      <td>54.3773</td>\n",
       "    </tr>\n",
       "    <tr>\n",
       "      <th>6</th>\n",
       "      <td>Turkey</td>\n",
       "      <td>41.0082</td>\n",
       "      <td>28.9784</td>\n",
       "    </tr>\n",
       "    <tr>\n",
       "      <th>7</th>\n",
       "      <td>Australia</td>\n",
       "      <td>-37.8136</td>\n",
       "      <td>144.9631</td>\n",
       "    </tr>\n",
       "    <tr>\n",
       "      <th>8</th>\n",
       "      <td>India</td>\n",
       "      <td>8.5241</td>\n",
       "      <td>76.9366</td>\n",
       "    </tr>\n",
       "    <tr>\n",
       "      <th>9</th>\n",
       "      <td>Singapore</td>\n",
       "      <td>1.3521</td>\n",
       "      <td>103.8198</td>\n",
       "    </tr>\n",
       "    <tr>\n",
       "      <th>10</th>\n",
       "      <td>Indonesia</td>\n",
       "      <td>-8.3405</td>\n",
       "      <td>115.0920</td>\n",
       "    </tr>\n",
       "    <tr>\n",
       "      <th>11</th>\n",
       "      <td>Thailand</td>\n",
       "      <td>13.7563</td>\n",
       "      <td>100.5018</td>\n",
       "    </tr>\n",
       "    <tr>\n",
       "      <th>12</th>\n",
       "      <td>Bulgaria</td>\n",
       "      <td>42.6977</td>\n",
       "      <td>23.3219</td>\n",
       "    </tr>\n",
       "    <tr>\n",
       "      <th>13</th>\n",
       "      <td>Romania</td>\n",
       "      <td>44.4268</td>\n",
       "      <td>26.1025</td>\n",
       "    </tr>\n",
       "    <tr>\n",
       "      <th>14</th>\n",
       "      <td>Germany</td>\n",
       "      <td>52.5200</td>\n",
       "      <td>13.4050</td>\n",
       "    </tr>\n",
       "    <tr>\n",
       "      <th>15</th>\n",
       "      <td>France</td>\n",
       "      <td>48.8566</td>\n",
       "      <td>2.3522</td>\n",
       "    </tr>\n",
       "  </tbody>\n",
       "</table>\n",
       "</div>"
      ],
      "text/plain": [
       "               Countries  Latitude  Longitude\n",
       "0             Azerbaijan   40.4093    49.8671\n",
       "1                Hungary   47.4979    19.0402\n",
       "2         Czech Republic   50.0755    14.4378\n",
       "3            Switzerland   46.9479     7.4474\n",
       "4                   Iran   35.6892    51.3890\n",
       "5   United Arab Emirates   24.4539    54.3773\n",
       "6                 Turkey   41.0082    28.9784\n",
       "7              Australia  -37.8136   144.9631\n",
       "8                  India    8.5241    76.9366\n",
       "9              Singapore    1.3521   103.8198\n",
       "10             Indonesia   -8.3405   115.0920\n",
       "11              Thailand   13.7563   100.5018\n",
       "12              Bulgaria   42.6977    23.3219\n",
       "13               Romania   44.4268    26.1025\n",
       "14               Germany   52.5200    13.4050\n",
       "15                France   48.8566     2.3522"
      ]
     },
     "execution_count": 24,
     "metadata": {},
     "output_type": "execute_result"
    }
   ],
   "source": [
    "#select the relevant columns to create map - country & coordinates\n",
    "\n",
    "trav2 = trav[['Countries', 'Latitude', 'Longitude']]\n",
    "trav2"
   ]
  },
  {
   "cell_type": "code",
   "execution_count": 25,
   "metadata": {},
   "outputs": [
    {
     "name": "stdout",
     "output_type": "stream",
     "text": [
      "0.17.0\n"
     ]
    }
   ],
   "source": [
    "import folium\n",
    "print(folium.__version__)"
   ]
  },
  {
   "cell_type": "markdown",
   "metadata": {},
   "source": [
    "# Create map using Folium\n",
    "\n",
    "**Tile layers/ Map textures**\n",
    "\n",
    "1) Open street Map - standard\n",
    "\n",
    "2) Stamen Toner\n",
    "    - Black and white map style\n",
    "    - detailed information + clear contrast\n",
    "\n",
    "3) Stamen Terrain\n",
    "    - Styled with terrain features\n",
    "    - it provides good visual for geographical feature\n",
    "\n",
    "4) Stamen watercolour - artistic look\n",
    "\n",
    "5)  CartoDB positron - clean and bright map\n",
    "\n",
    "6) CartoDB Dark Matter - dark-themed map that highlight colored data point\n",
    "\n",
    "7) Mapbox Bright - bright and vibrant map\n",
    "\n",
    "8) Mapbox dark - contrastive visual\n",
    "\n",
    "9) OpentopoMap - emphasizes elevation and terrain\n",
    "\n",
    "\n",
    "**Basic map**\n"
   ]
  },
  {
   "cell_type": "code",
   "execution_count": 26,
   "metadata": {},
   "outputs": [
    {
     "data": {
      "text/html": [
       "<div style=\"width:100%;\"><div style=\"position:relative;width:100%;height:0;padding-bottom:60%;\"><span style=\"color:#565656\">Make this Notebook Trusted to load map: File -> Trust Notebook</span><iframe srcdoc=\"&lt;!DOCTYPE html&gt;\n",
       "&lt;html&gt;\n",
       "&lt;head&gt;\n",
       "    \n",
       "    &lt;meta http-equiv=&quot;content-type&quot; content=&quot;text/html; charset=UTF-8&quot; /&gt;\n",
       "    \n",
       "        &lt;script&gt;\n",
       "            L_NO_TOUCH = false;\n",
       "            L_DISABLE_3D = false;\n",
       "        &lt;/script&gt;\n",
       "    \n",
       "    &lt;style&gt;html, body {width: 100%;height: 100%;margin: 0;padding: 0;}&lt;/style&gt;\n",
       "    &lt;style&gt;#map {position:absolute;top:0;bottom:0;right:0;left:0;}&lt;/style&gt;\n",
       "    &lt;script src=&quot;https://cdn.jsdelivr.net/npm/leaflet@1.9.3/dist/leaflet.js&quot;&gt;&lt;/script&gt;\n",
       "    &lt;script src=&quot;https://code.jquery.com/jquery-3.7.1.min.js&quot;&gt;&lt;/script&gt;\n",
       "    &lt;script src=&quot;https://cdn.jsdelivr.net/npm/bootstrap@5.2.2/dist/js/bootstrap.bundle.min.js&quot;&gt;&lt;/script&gt;\n",
       "    &lt;script src=&quot;https://cdnjs.cloudflare.com/ajax/libs/Leaflet.awesome-markers/2.0.2/leaflet.awesome-markers.js&quot;&gt;&lt;/script&gt;\n",
       "    &lt;link rel=&quot;stylesheet&quot; href=&quot;https://cdn.jsdelivr.net/npm/leaflet@1.9.3/dist/leaflet.css&quot;/&gt;\n",
       "    &lt;link rel=&quot;stylesheet&quot; href=&quot;https://cdn.jsdelivr.net/npm/bootstrap@5.2.2/dist/css/bootstrap.min.css&quot;/&gt;\n",
       "    &lt;link rel=&quot;stylesheet&quot; href=&quot;https://netdna.bootstrapcdn.com/bootstrap/3.0.0/css/bootstrap-glyphicons.css&quot;/&gt;\n",
       "    &lt;link rel=&quot;stylesheet&quot; href=&quot;https://cdn.jsdelivr.net/npm/@fortawesome/fontawesome-free@6.2.0/css/all.min.css&quot;/&gt;\n",
       "    &lt;link rel=&quot;stylesheet&quot; href=&quot;https://cdnjs.cloudflare.com/ajax/libs/Leaflet.awesome-markers/2.0.2/leaflet.awesome-markers.css&quot;/&gt;\n",
       "    &lt;link rel=&quot;stylesheet&quot; href=&quot;https://cdn.jsdelivr.net/gh/python-visualization/folium/folium/templates/leaflet.awesome.rotate.min.css&quot;/&gt;\n",
       "    \n",
       "            &lt;meta name=&quot;viewport&quot; content=&quot;width=device-width,\n",
       "                initial-scale=1.0, maximum-scale=1.0, user-scalable=no&quot; /&gt;\n",
       "            &lt;style&gt;\n",
       "                #map_c8064cf46d0ad81c740c77ad727e8ee6 {\n",
       "                    position: relative;\n",
       "                    width: 100.0%;\n",
       "                    height: 100.0%;\n",
       "                    left: 0.0%;\n",
       "                    top: 0.0%;\n",
       "                }\n",
       "                .leaflet-container { font-size: 1rem; }\n",
       "            &lt;/style&gt;\n",
       "        \n",
       "&lt;/head&gt;\n",
       "&lt;body&gt;\n",
       "    \n",
       "    \n",
       "            &lt;div class=&quot;folium-map&quot; id=&quot;map_c8064cf46d0ad81c740c77ad727e8ee6&quot; &gt;&lt;/div&gt;\n",
       "        \n",
       "&lt;/body&gt;\n",
       "&lt;script&gt;\n",
       "    \n",
       "    \n",
       "            var map_c8064cf46d0ad81c740c77ad727e8ee6 = L.map(\n",
       "                &quot;map_c8064cf46d0ad81c740c77ad727e8ee6&quot;,\n",
       "                {\n",
       "                    center: [0.0, 0.0],\n",
       "                    crs: L.CRS.EPSG3857,\n",
       "                    zoom: 2,\n",
       "                    zoomControl: true,\n",
       "                    preferCanvas: false,\n",
       "                }\n",
       "            );\n",
       "\n",
       "            \n",
       "\n",
       "        \n",
       "    \n",
       "            var tile_layer_d5857b8a3fbe699dc361f2e03430e175 = L.tileLayer(\n",
       "                &quot;https://tile.openstreetmap.org/{z}/{x}/{y}.png&quot;,\n",
       "                {&quot;attribution&quot;: &quot;\\u0026copy; \\u003ca href=\\&quot;https://www.openstreetmap.org/copyright\\&quot;\\u003eOpenStreetMap\\u003c/a\\u003e contributors&quot;, &quot;detectRetina&quot;: false, &quot;maxNativeZoom&quot;: 19, &quot;maxZoom&quot;: 19, &quot;minZoom&quot;: 0, &quot;noWrap&quot;: false, &quot;opacity&quot;: 1, &quot;subdomains&quot;: &quot;abc&quot;, &quot;tms&quot;: false}\n",
       "            );\n",
       "        \n",
       "    \n",
       "            tile_layer_d5857b8a3fbe699dc361f2e03430e175.addTo(map_c8064cf46d0ad81c740c77ad727e8ee6);\n",
       "        \n",
       "    \n",
       "            var marker_9ae906347f30288ef6c86dff31f00286 = L.marker(\n",
       "                [40.4093, 49.8671],\n",
       "                {}\n",
       "            ).addTo(map_c8064cf46d0ad81c740c77ad727e8ee6);\n",
       "        \n",
       "    \n",
       "            var icon_81879031483599d2004b0805733b5ed0 = L.AwesomeMarkers.icon(\n",
       "                {&quot;extraClasses&quot;: &quot;fa-rotate-0&quot;, &quot;icon&quot;: &quot;info-sign&quot;, &quot;iconColor&quot;: &quot;white&quot;, &quot;markerColor&quot;: &quot;blue&quot;, &quot;prefix&quot;: &quot;glyphicon&quot;}\n",
       "            );\n",
       "            marker_9ae906347f30288ef6c86dff31f00286.setIcon(icon_81879031483599d2004b0805733b5ed0);\n",
       "        \n",
       "    \n",
       "        var popup_2db2e1baa88be5576e32a9339ebb4d00 = L.popup({&quot;maxWidth&quot;: &quot;100%&quot;});\n",
       "\n",
       "        \n",
       "            \n",
       "                var html_e08c701aa487f7a6654a23ec579460ff = $(`&lt;div id=&quot;html_e08c701aa487f7a6654a23ec579460ff&quot; style=&quot;width: 100.0%; height: 100.0%;&quot;&gt;Azerbaijan&lt;/div&gt;`)[0];\n",
       "                popup_2db2e1baa88be5576e32a9339ebb4d00.setContent(html_e08c701aa487f7a6654a23ec579460ff);\n",
       "            \n",
       "        \n",
       "\n",
       "        marker_9ae906347f30288ef6c86dff31f00286.bindPopup(popup_2db2e1baa88be5576e32a9339ebb4d00)\n",
       "        ;\n",
       "\n",
       "        \n",
       "    \n",
       "    \n",
       "            var marker_6131d54ee091d873026d16d367461826 = L.marker(\n",
       "                [47.4979, 19.0402],\n",
       "                {}\n",
       "            ).addTo(map_c8064cf46d0ad81c740c77ad727e8ee6);\n",
       "        \n",
       "    \n",
       "            var icon_1b37712eb596f22f3e701d039e162f79 = L.AwesomeMarkers.icon(\n",
       "                {&quot;extraClasses&quot;: &quot;fa-rotate-0&quot;, &quot;icon&quot;: &quot;info-sign&quot;, &quot;iconColor&quot;: &quot;white&quot;, &quot;markerColor&quot;: &quot;blue&quot;, &quot;prefix&quot;: &quot;glyphicon&quot;}\n",
       "            );\n",
       "            marker_6131d54ee091d873026d16d367461826.setIcon(icon_1b37712eb596f22f3e701d039e162f79);\n",
       "        \n",
       "    \n",
       "        var popup_496db60dd346f15142b9d1ef0ec8b37d = L.popup({&quot;maxWidth&quot;: &quot;100%&quot;});\n",
       "\n",
       "        \n",
       "            \n",
       "                var html_07ad9112dc3cc427f8647b1df35602aa = $(`&lt;div id=&quot;html_07ad9112dc3cc427f8647b1df35602aa&quot; style=&quot;width: 100.0%; height: 100.0%;&quot;&gt;Hungary&lt;/div&gt;`)[0];\n",
       "                popup_496db60dd346f15142b9d1ef0ec8b37d.setContent(html_07ad9112dc3cc427f8647b1df35602aa);\n",
       "            \n",
       "        \n",
       "\n",
       "        marker_6131d54ee091d873026d16d367461826.bindPopup(popup_496db60dd346f15142b9d1ef0ec8b37d)\n",
       "        ;\n",
       "\n",
       "        \n",
       "    \n",
       "    \n",
       "            var marker_817bea66703a893a9c5d2bbe361f7cef = L.marker(\n",
       "                [50.0755, 14.4378],\n",
       "                {}\n",
       "            ).addTo(map_c8064cf46d0ad81c740c77ad727e8ee6);\n",
       "        \n",
       "    \n",
       "            var icon_c0934bef9602ad3b6bc0de32720d603e = L.AwesomeMarkers.icon(\n",
       "                {&quot;extraClasses&quot;: &quot;fa-rotate-0&quot;, &quot;icon&quot;: &quot;info-sign&quot;, &quot;iconColor&quot;: &quot;white&quot;, &quot;markerColor&quot;: &quot;blue&quot;, &quot;prefix&quot;: &quot;glyphicon&quot;}\n",
       "            );\n",
       "            marker_817bea66703a893a9c5d2bbe361f7cef.setIcon(icon_c0934bef9602ad3b6bc0de32720d603e);\n",
       "        \n",
       "    \n",
       "        var popup_a7dc20d9ae26e4ccea0b33054bb2d4a0 = L.popup({&quot;maxWidth&quot;: &quot;100%&quot;});\n",
       "\n",
       "        \n",
       "            \n",
       "                var html_710318029008bd2dfec653ec4393cc91 = $(`&lt;div id=&quot;html_710318029008bd2dfec653ec4393cc91&quot; style=&quot;width: 100.0%; height: 100.0%;&quot;&gt;Czech Republic&lt;/div&gt;`)[0];\n",
       "                popup_a7dc20d9ae26e4ccea0b33054bb2d4a0.setContent(html_710318029008bd2dfec653ec4393cc91);\n",
       "            \n",
       "        \n",
       "\n",
       "        marker_817bea66703a893a9c5d2bbe361f7cef.bindPopup(popup_a7dc20d9ae26e4ccea0b33054bb2d4a0)\n",
       "        ;\n",
       "\n",
       "        \n",
       "    \n",
       "    \n",
       "            var marker_a7eb097662e074ede8a62a1bae9a355a = L.marker(\n",
       "                [46.9479, 7.4474],\n",
       "                {}\n",
       "            ).addTo(map_c8064cf46d0ad81c740c77ad727e8ee6);\n",
       "        \n",
       "    \n",
       "            var icon_325647d237b629c998bb2e1d74cfbbc8 = L.AwesomeMarkers.icon(\n",
       "                {&quot;extraClasses&quot;: &quot;fa-rotate-0&quot;, &quot;icon&quot;: &quot;info-sign&quot;, &quot;iconColor&quot;: &quot;white&quot;, &quot;markerColor&quot;: &quot;blue&quot;, &quot;prefix&quot;: &quot;glyphicon&quot;}\n",
       "            );\n",
       "            marker_a7eb097662e074ede8a62a1bae9a355a.setIcon(icon_325647d237b629c998bb2e1d74cfbbc8);\n",
       "        \n",
       "    \n",
       "        var popup_f80a3bb88cf3cf01316c308faf5f873e = L.popup({&quot;maxWidth&quot;: &quot;100%&quot;});\n",
       "\n",
       "        \n",
       "            \n",
       "                var html_0beb2c7ee822a23b5ef3be8309be4c50 = $(`&lt;div id=&quot;html_0beb2c7ee822a23b5ef3be8309be4c50&quot; style=&quot;width: 100.0%; height: 100.0%;&quot;&gt;Switzerland&lt;/div&gt;`)[0];\n",
       "                popup_f80a3bb88cf3cf01316c308faf5f873e.setContent(html_0beb2c7ee822a23b5ef3be8309be4c50);\n",
       "            \n",
       "        \n",
       "\n",
       "        marker_a7eb097662e074ede8a62a1bae9a355a.bindPopup(popup_f80a3bb88cf3cf01316c308faf5f873e)\n",
       "        ;\n",
       "\n",
       "        \n",
       "    \n",
       "    \n",
       "            var marker_b254dbee602048abe946920c24efdb44 = L.marker(\n",
       "                [35.6892, 51.389],\n",
       "                {}\n",
       "            ).addTo(map_c8064cf46d0ad81c740c77ad727e8ee6);\n",
       "        \n",
       "    \n",
       "            var icon_028b24fabd3b1df7b71600c37643f6d6 = L.AwesomeMarkers.icon(\n",
       "                {&quot;extraClasses&quot;: &quot;fa-rotate-0&quot;, &quot;icon&quot;: &quot;info-sign&quot;, &quot;iconColor&quot;: &quot;white&quot;, &quot;markerColor&quot;: &quot;blue&quot;, &quot;prefix&quot;: &quot;glyphicon&quot;}\n",
       "            );\n",
       "            marker_b254dbee602048abe946920c24efdb44.setIcon(icon_028b24fabd3b1df7b71600c37643f6d6);\n",
       "        \n",
       "    \n",
       "        var popup_381d674d2651e25278d34557fb6b7965 = L.popup({&quot;maxWidth&quot;: &quot;100%&quot;});\n",
       "\n",
       "        \n",
       "            \n",
       "                var html_8c835d1edab6ed3255b9cdc19b43950a = $(`&lt;div id=&quot;html_8c835d1edab6ed3255b9cdc19b43950a&quot; style=&quot;width: 100.0%; height: 100.0%;&quot;&gt;Iran&lt;/div&gt;`)[0];\n",
       "                popup_381d674d2651e25278d34557fb6b7965.setContent(html_8c835d1edab6ed3255b9cdc19b43950a);\n",
       "            \n",
       "        \n",
       "\n",
       "        marker_b254dbee602048abe946920c24efdb44.bindPopup(popup_381d674d2651e25278d34557fb6b7965)\n",
       "        ;\n",
       "\n",
       "        \n",
       "    \n",
       "    \n",
       "            var marker_c6d358675915ce818c093057c78d8f48 = L.marker(\n",
       "                [24.4539, 54.3773],\n",
       "                {}\n",
       "            ).addTo(map_c8064cf46d0ad81c740c77ad727e8ee6);\n",
       "        \n",
       "    \n",
       "            var icon_5ccaf18f0408718bd5a0982494750319 = L.AwesomeMarkers.icon(\n",
       "                {&quot;extraClasses&quot;: &quot;fa-rotate-0&quot;, &quot;icon&quot;: &quot;info-sign&quot;, &quot;iconColor&quot;: &quot;white&quot;, &quot;markerColor&quot;: &quot;blue&quot;, &quot;prefix&quot;: &quot;glyphicon&quot;}\n",
       "            );\n",
       "            marker_c6d358675915ce818c093057c78d8f48.setIcon(icon_5ccaf18f0408718bd5a0982494750319);\n",
       "        \n",
       "    \n",
       "        var popup_8b40e44e5704c6c558c7330f6fa13ea1 = L.popup({&quot;maxWidth&quot;: &quot;100%&quot;});\n",
       "\n",
       "        \n",
       "            \n",
       "                var html_fe2ad5f334a9a98a4d9ec563f3c75b9e = $(`&lt;div id=&quot;html_fe2ad5f334a9a98a4d9ec563f3c75b9e&quot; style=&quot;width: 100.0%; height: 100.0%;&quot;&gt;United Arab Emirates&lt;/div&gt;`)[0];\n",
       "                popup_8b40e44e5704c6c558c7330f6fa13ea1.setContent(html_fe2ad5f334a9a98a4d9ec563f3c75b9e);\n",
       "            \n",
       "        \n",
       "\n",
       "        marker_c6d358675915ce818c093057c78d8f48.bindPopup(popup_8b40e44e5704c6c558c7330f6fa13ea1)\n",
       "        ;\n",
       "\n",
       "        \n",
       "    \n",
       "    \n",
       "            var marker_24f1972a45f337da35c7d98fba166d76 = L.marker(\n",
       "                [41.0082, 28.9784],\n",
       "                {}\n",
       "            ).addTo(map_c8064cf46d0ad81c740c77ad727e8ee6);\n",
       "        \n",
       "    \n",
       "            var icon_f3e7f9bd2920215f0a0110758aa7441d = L.AwesomeMarkers.icon(\n",
       "                {&quot;extraClasses&quot;: &quot;fa-rotate-0&quot;, &quot;icon&quot;: &quot;info-sign&quot;, &quot;iconColor&quot;: &quot;white&quot;, &quot;markerColor&quot;: &quot;blue&quot;, &quot;prefix&quot;: &quot;glyphicon&quot;}\n",
       "            );\n",
       "            marker_24f1972a45f337da35c7d98fba166d76.setIcon(icon_f3e7f9bd2920215f0a0110758aa7441d);\n",
       "        \n",
       "    \n",
       "        var popup_f0e6cda343ac243a4242410772f2cc72 = L.popup({&quot;maxWidth&quot;: &quot;100%&quot;});\n",
       "\n",
       "        \n",
       "            \n",
       "                var html_898c5e2801f61ef5d4e046f4cf92d227 = $(`&lt;div id=&quot;html_898c5e2801f61ef5d4e046f4cf92d227&quot; style=&quot;width: 100.0%; height: 100.0%;&quot;&gt;Turkey&lt;/div&gt;`)[0];\n",
       "                popup_f0e6cda343ac243a4242410772f2cc72.setContent(html_898c5e2801f61ef5d4e046f4cf92d227);\n",
       "            \n",
       "        \n",
       "\n",
       "        marker_24f1972a45f337da35c7d98fba166d76.bindPopup(popup_f0e6cda343ac243a4242410772f2cc72)\n",
       "        ;\n",
       "\n",
       "        \n",
       "    \n",
       "    \n",
       "            var marker_118c5e851e065e684e4d61c728bc5653 = L.marker(\n",
       "                [-37.8136, 144.9631],\n",
       "                {}\n",
       "            ).addTo(map_c8064cf46d0ad81c740c77ad727e8ee6);\n",
       "        \n",
       "    \n",
       "            var icon_0a0bbb5232e82c6e7d57a060d886363f = L.AwesomeMarkers.icon(\n",
       "                {&quot;extraClasses&quot;: &quot;fa-rotate-0&quot;, &quot;icon&quot;: &quot;info-sign&quot;, &quot;iconColor&quot;: &quot;white&quot;, &quot;markerColor&quot;: &quot;blue&quot;, &quot;prefix&quot;: &quot;glyphicon&quot;}\n",
       "            );\n",
       "            marker_118c5e851e065e684e4d61c728bc5653.setIcon(icon_0a0bbb5232e82c6e7d57a060d886363f);\n",
       "        \n",
       "    \n",
       "        var popup_5eb4bb4bd35d2f4415b6d71fe0bec338 = L.popup({&quot;maxWidth&quot;: &quot;100%&quot;});\n",
       "\n",
       "        \n",
       "            \n",
       "                var html_ae62d765ef66fac0bad7e23bf60e83b5 = $(`&lt;div id=&quot;html_ae62d765ef66fac0bad7e23bf60e83b5&quot; style=&quot;width: 100.0%; height: 100.0%;&quot;&gt;Australia&lt;/div&gt;`)[0];\n",
       "                popup_5eb4bb4bd35d2f4415b6d71fe0bec338.setContent(html_ae62d765ef66fac0bad7e23bf60e83b5);\n",
       "            \n",
       "        \n",
       "\n",
       "        marker_118c5e851e065e684e4d61c728bc5653.bindPopup(popup_5eb4bb4bd35d2f4415b6d71fe0bec338)\n",
       "        ;\n",
       "\n",
       "        \n",
       "    \n",
       "    \n",
       "            var marker_969bc7a6aef3eb6b586445a8c2369561 = L.marker(\n",
       "                [8.5241, 76.9366],\n",
       "                {}\n",
       "            ).addTo(map_c8064cf46d0ad81c740c77ad727e8ee6);\n",
       "        \n",
       "    \n",
       "            var icon_d7ebd74ed4a1a0c257d41d71cf533cf3 = L.AwesomeMarkers.icon(\n",
       "                {&quot;extraClasses&quot;: &quot;fa-rotate-0&quot;, &quot;icon&quot;: &quot;info-sign&quot;, &quot;iconColor&quot;: &quot;white&quot;, &quot;markerColor&quot;: &quot;blue&quot;, &quot;prefix&quot;: &quot;glyphicon&quot;}\n",
       "            );\n",
       "            marker_969bc7a6aef3eb6b586445a8c2369561.setIcon(icon_d7ebd74ed4a1a0c257d41d71cf533cf3);\n",
       "        \n",
       "    \n",
       "        var popup_dc0743f052606cade8c8a0450795a479 = L.popup({&quot;maxWidth&quot;: &quot;100%&quot;});\n",
       "\n",
       "        \n",
       "            \n",
       "                var html_898f6ae812200ed6ad0df807f9784af1 = $(`&lt;div id=&quot;html_898f6ae812200ed6ad0df807f9784af1&quot; style=&quot;width: 100.0%; height: 100.0%;&quot;&gt;India&lt;/div&gt;`)[0];\n",
       "                popup_dc0743f052606cade8c8a0450795a479.setContent(html_898f6ae812200ed6ad0df807f9784af1);\n",
       "            \n",
       "        \n",
       "\n",
       "        marker_969bc7a6aef3eb6b586445a8c2369561.bindPopup(popup_dc0743f052606cade8c8a0450795a479)\n",
       "        ;\n",
       "\n",
       "        \n",
       "    \n",
       "    \n",
       "            var marker_cdc256a612a9b6db559d573009fe83b1 = L.marker(\n",
       "                [1.3521, 103.8198],\n",
       "                {}\n",
       "            ).addTo(map_c8064cf46d0ad81c740c77ad727e8ee6);\n",
       "        \n",
       "    \n",
       "            var icon_4ddccacc619cdd4d1ce2f1b77cf6867a = L.AwesomeMarkers.icon(\n",
       "                {&quot;extraClasses&quot;: &quot;fa-rotate-0&quot;, &quot;icon&quot;: &quot;info-sign&quot;, &quot;iconColor&quot;: &quot;white&quot;, &quot;markerColor&quot;: &quot;blue&quot;, &quot;prefix&quot;: &quot;glyphicon&quot;}\n",
       "            );\n",
       "            marker_cdc256a612a9b6db559d573009fe83b1.setIcon(icon_4ddccacc619cdd4d1ce2f1b77cf6867a);\n",
       "        \n",
       "    \n",
       "        var popup_0b0da17d2be0f4e8e5edb4468923fb02 = L.popup({&quot;maxWidth&quot;: &quot;100%&quot;});\n",
       "\n",
       "        \n",
       "            \n",
       "                var html_999a385c645c5c5ddd375d0dba973c08 = $(`&lt;div id=&quot;html_999a385c645c5c5ddd375d0dba973c08&quot; style=&quot;width: 100.0%; height: 100.0%;&quot;&gt;Singapore&lt;/div&gt;`)[0];\n",
       "                popup_0b0da17d2be0f4e8e5edb4468923fb02.setContent(html_999a385c645c5c5ddd375d0dba973c08);\n",
       "            \n",
       "        \n",
       "\n",
       "        marker_cdc256a612a9b6db559d573009fe83b1.bindPopup(popup_0b0da17d2be0f4e8e5edb4468923fb02)\n",
       "        ;\n",
       "\n",
       "        \n",
       "    \n",
       "    \n",
       "            var marker_25afb70120c8ecedc2a26356e484378f = L.marker(\n",
       "                [-8.3405, 115.092],\n",
       "                {}\n",
       "            ).addTo(map_c8064cf46d0ad81c740c77ad727e8ee6);\n",
       "        \n",
       "    \n",
       "            var icon_cb12fb748dfc69e2c960f7796f73d219 = L.AwesomeMarkers.icon(\n",
       "                {&quot;extraClasses&quot;: &quot;fa-rotate-0&quot;, &quot;icon&quot;: &quot;info-sign&quot;, &quot;iconColor&quot;: &quot;white&quot;, &quot;markerColor&quot;: &quot;blue&quot;, &quot;prefix&quot;: &quot;glyphicon&quot;}\n",
       "            );\n",
       "            marker_25afb70120c8ecedc2a26356e484378f.setIcon(icon_cb12fb748dfc69e2c960f7796f73d219);\n",
       "        \n",
       "    \n",
       "        var popup_0bf1cfdd91f9fad94faedc9b7061ef49 = L.popup({&quot;maxWidth&quot;: &quot;100%&quot;});\n",
       "\n",
       "        \n",
       "            \n",
       "                var html_8099b70fef894f82135c4492c7706f07 = $(`&lt;div id=&quot;html_8099b70fef894f82135c4492c7706f07&quot; style=&quot;width: 100.0%; height: 100.0%;&quot;&gt;Indonesia&lt;/div&gt;`)[0];\n",
       "                popup_0bf1cfdd91f9fad94faedc9b7061ef49.setContent(html_8099b70fef894f82135c4492c7706f07);\n",
       "            \n",
       "        \n",
       "\n",
       "        marker_25afb70120c8ecedc2a26356e484378f.bindPopup(popup_0bf1cfdd91f9fad94faedc9b7061ef49)\n",
       "        ;\n",
       "\n",
       "        \n",
       "    \n",
       "    \n",
       "            var marker_82b1cd0de8ecbc534a54730972673721 = L.marker(\n",
       "                [13.7563, 100.5018],\n",
       "                {}\n",
       "            ).addTo(map_c8064cf46d0ad81c740c77ad727e8ee6);\n",
       "        \n",
       "    \n",
       "            var icon_adf213ba760885303d1bf0d119d97653 = L.AwesomeMarkers.icon(\n",
       "                {&quot;extraClasses&quot;: &quot;fa-rotate-0&quot;, &quot;icon&quot;: &quot;info-sign&quot;, &quot;iconColor&quot;: &quot;white&quot;, &quot;markerColor&quot;: &quot;blue&quot;, &quot;prefix&quot;: &quot;glyphicon&quot;}\n",
       "            );\n",
       "            marker_82b1cd0de8ecbc534a54730972673721.setIcon(icon_adf213ba760885303d1bf0d119d97653);\n",
       "        \n",
       "    \n",
       "        var popup_ff34b6b2363cc8f232c505794055199c = L.popup({&quot;maxWidth&quot;: &quot;100%&quot;});\n",
       "\n",
       "        \n",
       "            \n",
       "                var html_f03361ac62a054ca2b6c2ac38d0c7948 = $(`&lt;div id=&quot;html_f03361ac62a054ca2b6c2ac38d0c7948&quot; style=&quot;width: 100.0%; height: 100.0%;&quot;&gt;Thailand&lt;/div&gt;`)[0];\n",
       "                popup_ff34b6b2363cc8f232c505794055199c.setContent(html_f03361ac62a054ca2b6c2ac38d0c7948);\n",
       "            \n",
       "        \n",
       "\n",
       "        marker_82b1cd0de8ecbc534a54730972673721.bindPopup(popup_ff34b6b2363cc8f232c505794055199c)\n",
       "        ;\n",
       "\n",
       "        \n",
       "    \n",
       "    \n",
       "            var marker_817feee0a42bfe9cacddfadf4ddc6cd4 = L.marker(\n",
       "                [42.6977, 23.3219],\n",
       "                {}\n",
       "            ).addTo(map_c8064cf46d0ad81c740c77ad727e8ee6);\n",
       "        \n",
       "    \n",
       "            var icon_78c6ef153822f1ea7ae8423526c3f4be = L.AwesomeMarkers.icon(\n",
       "                {&quot;extraClasses&quot;: &quot;fa-rotate-0&quot;, &quot;icon&quot;: &quot;info-sign&quot;, &quot;iconColor&quot;: &quot;white&quot;, &quot;markerColor&quot;: &quot;blue&quot;, &quot;prefix&quot;: &quot;glyphicon&quot;}\n",
       "            );\n",
       "            marker_817feee0a42bfe9cacddfadf4ddc6cd4.setIcon(icon_78c6ef153822f1ea7ae8423526c3f4be);\n",
       "        \n",
       "    \n",
       "        var popup_caff493a2e478088e36396604595fd4f = L.popup({&quot;maxWidth&quot;: &quot;100%&quot;});\n",
       "\n",
       "        \n",
       "            \n",
       "                var html_5050c613f794ceb2bbc3d577f6debcc7 = $(`&lt;div id=&quot;html_5050c613f794ceb2bbc3d577f6debcc7&quot; style=&quot;width: 100.0%; height: 100.0%;&quot;&gt;Bulgaria&lt;/div&gt;`)[0];\n",
       "                popup_caff493a2e478088e36396604595fd4f.setContent(html_5050c613f794ceb2bbc3d577f6debcc7);\n",
       "            \n",
       "        \n",
       "\n",
       "        marker_817feee0a42bfe9cacddfadf4ddc6cd4.bindPopup(popup_caff493a2e478088e36396604595fd4f)\n",
       "        ;\n",
       "\n",
       "        \n",
       "    \n",
       "    \n",
       "            var marker_3ae1704736484a292e0dc4acebf3b227 = L.marker(\n",
       "                [44.4268, 26.1025],\n",
       "                {}\n",
       "            ).addTo(map_c8064cf46d0ad81c740c77ad727e8ee6);\n",
       "        \n",
       "    \n",
       "            var icon_26df40eadd8e7a1d12a4b6a9305de116 = L.AwesomeMarkers.icon(\n",
       "                {&quot;extraClasses&quot;: &quot;fa-rotate-0&quot;, &quot;icon&quot;: &quot;info-sign&quot;, &quot;iconColor&quot;: &quot;white&quot;, &quot;markerColor&quot;: &quot;blue&quot;, &quot;prefix&quot;: &quot;glyphicon&quot;}\n",
       "            );\n",
       "            marker_3ae1704736484a292e0dc4acebf3b227.setIcon(icon_26df40eadd8e7a1d12a4b6a9305de116);\n",
       "        \n",
       "    \n",
       "        var popup_fcced5f0b8e34b5174337ac708fdf99d = L.popup({&quot;maxWidth&quot;: &quot;100%&quot;});\n",
       "\n",
       "        \n",
       "            \n",
       "                var html_b6d094b5b156a4198ddbc6d6d4fb0f7d = $(`&lt;div id=&quot;html_b6d094b5b156a4198ddbc6d6d4fb0f7d&quot; style=&quot;width: 100.0%; height: 100.0%;&quot;&gt;Romania&lt;/div&gt;`)[0];\n",
       "                popup_fcced5f0b8e34b5174337ac708fdf99d.setContent(html_b6d094b5b156a4198ddbc6d6d4fb0f7d);\n",
       "            \n",
       "        \n",
       "\n",
       "        marker_3ae1704736484a292e0dc4acebf3b227.bindPopup(popup_fcced5f0b8e34b5174337ac708fdf99d)\n",
       "        ;\n",
       "\n",
       "        \n",
       "    \n",
       "    \n",
       "            var marker_886925d1cb872f8ee21a5f9b9ec9cf89 = L.marker(\n",
       "                [52.52, 13.405],\n",
       "                {}\n",
       "            ).addTo(map_c8064cf46d0ad81c740c77ad727e8ee6);\n",
       "        \n",
       "    \n",
       "            var icon_5a79ebc750606b7ca0e0ac2655908e4f = L.AwesomeMarkers.icon(\n",
       "                {&quot;extraClasses&quot;: &quot;fa-rotate-0&quot;, &quot;icon&quot;: &quot;info-sign&quot;, &quot;iconColor&quot;: &quot;white&quot;, &quot;markerColor&quot;: &quot;blue&quot;, &quot;prefix&quot;: &quot;glyphicon&quot;}\n",
       "            );\n",
       "            marker_886925d1cb872f8ee21a5f9b9ec9cf89.setIcon(icon_5a79ebc750606b7ca0e0ac2655908e4f);\n",
       "        \n",
       "    \n",
       "        var popup_a381f2daec454681c6a85da7cafeab6c = L.popup({&quot;maxWidth&quot;: &quot;100%&quot;});\n",
       "\n",
       "        \n",
       "            \n",
       "                var html_a46d078188e6a5869caf8267760cace4 = $(`&lt;div id=&quot;html_a46d078188e6a5869caf8267760cace4&quot; style=&quot;width: 100.0%; height: 100.0%;&quot;&gt;Germany&lt;/div&gt;`)[0];\n",
       "                popup_a381f2daec454681c6a85da7cafeab6c.setContent(html_a46d078188e6a5869caf8267760cace4);\n",
       "            \n",
       "        \n",
       "\n",
       "        marker_886925d1cb872f8ee21a5f9b9ec9cf89.bindPopup(popup_a381f2daec454681c6a85da7cafeab6c)\n",
       "        ;\n",
       "\n",
       "        \n",
       "    \n",
       "    \n",
       "            var marker_baa1b5a31d3019c011767e479da94b1d = L.marker(\n",
       "                [48.8566, 2.3522],\n",
       "                {}\n",
       "            ).addTo(map_c8064cf46d0ad81c740c77ad727e8ee6);\n",
       "        \n",
       "    \n",
       "            var icon_3935b640f1d388d0dcfc216b64a15d0b = L.AwesomeMarkers.icon(\n",
       "                {&quot;extraClasses&quot;: &quot;fa-rotate-0&quot;, &quot;icon&quot;: &quot;info-sign&quot;, &quot;iconColor&quot;: &quot;white&quot;, &quot;markerColor&quot;: &quot;blue&quot;, &quot;prefix&quot;: &quot;glyphicon&quot;}\n",
       "            );\n",
       "            marker_baa1b5a31d3019c011767e479da94b1d.setIcon(icon_3935b640f1d388d0dcfc216b64a15d0b);\n",
       "        \n",
       "    \n",
       "        var popup_3479f465e376474cc8d22e1b66b608ab = L.popup({&quot;maxWidth&quot;: &quot;100%&quot;});\n",
       "\n",
       "        \n",
       "            \n",
       "                var html_f518fe9c22910c45abc1893a9048ce09 = $(`&lt;div id=&quot;html_f518fe9c22910c45abc1893a9048ce09&quot; style=&quot;width: 100.0%; height: 100.0%;&quot;&gt;France&lt;/div&gt;`)[0];\n",
       "                popup_3479f465e376474cc8d22e1b66b608ab.setContent(html_f518fe9c22910c45abc1893a9048ce09);\n",
       "            \n",
       "        \n",
       "\n",
       "        marker_baa1b5a31d3019c011767e479da94b1d.bindPopup(popup_3479f465e376474cc8d22e1b66b608ab)\n",
       "        ;\n",
       "\n",
       "        \n",
       "    \n",
       "    \n",
       "            var tile_layer_0bcc9bce3977f48900d5a52e4f1a3346 = L.tileLayer(\n",
       "                &quot;https://{s}.basemaps.cartocdn.com/light_all/{z}/{x}/{y}{r}.png&quot;,\n",
       "                {&quot;attribution&quot;: &quot;\\u0026copy; \\u003ca href=\\&quot;https://www.openstreetmap.org/copyright\\&quot;\\u003eOpenStreetMap\\u003c/a\\u003e contributors \\u0026copy; \\u003ca href=\\&quot;https://carto.com/attributions\\&quot;\\u003eCARTO\\u003c/a\\u003e&quot;, &quot;detectRetina&quot;: false, &quot;maxNativeZoom&quot;: 20, &quot;maxZoom&quot;: 20, &quot;minZoom&quot;: 0, &quot;noWrap&quot;: false, &quot;opacity&quot;: 1, &quot;subdomains&quot;: &quot;abcd&quot;, &quot;tms&quot;: false}\n",
       "            );\n",
       "        \n",
       "    \n",
       "            tile_layer_0bcc9bce3977f48900d5a52e4f1a3346.addTo(map_c8064cf46d0ad81c740c77ad727e8ee6);\n",
       "        \n",
       "    \n",
       "            map_c8064cf46d0ad81c740c77ad727e8ee6.fitBounds(\n",
       "                [[-37.8136, 2.3522], [52.52, 144.9631]],\n",
       "                {}\n",
       "            );\n",
       "        \n",
       "&lt;/script&gt;\n",
       "&lt;/html&gt;\" style=\"position:absolute;width:100%;height:100%;left:0;top:0;border:none !important;\" allowfullscreen webkitallowfullscreen mozallowfullscreen></iframe></div></div>"
      ],
      "text/plain": [
       "<folium.folium.Map at 0x1a21c0ff350>"
      ]
     },
     "execution_count": 26,
     "metadata": {},
     "output_type": "execute_result"
    }
   ],
   "source": [
    "# #calculate for central location using mean()\n",
    "# central_lat = trav2['Latitude'].mean()\n",
    "# central_long = trav2['Longitude'].mean()\n",
    "# central_location = [central_lat, central_long]\n",
    "\n",
    "# #create a folium map\n",
    "# m = folium.Map(location=central_location, zoom_start=2.5)\n",
    "\n",
    "# cretae folium map with a default location\n",
    "m = folium.Map(location=[0,0], zoom_start=2)\n",
    "\n",
    "#add marker for each station\n",
    "for idx, row in trav2.iterrows():\n",
    "    folium.Marker(\n",
    "        location=[row['Latitude'], row['Longitude']],\n",
    "        popup=row['Countries'],\n",
    "        # tooltip='Click me!'\n",
    "        icon=folium.Icon(icon='info-sign', color='blue')\n",
    "    ).add_to(m)\n",
    "\n",
    "#Add tile layers\n",
    "folium.TileLayer('cartodb positron').add_to(m)\n",
    "\n",
    "# Find min and max latitude and longitude\n",
    "min_lat = trav2['Latitude'].min()\n",
    "max_lat = trav2['Latitude'].max()\n",
    "min_long = trav2['Longitude'].min()\n",
    "max_long = trav2['Longitude'].max()\n",
    "\n",
    "# Adjust the map bounds\n",
    "bounds = [[min_lat, min_long], [max_lat, max_long]]\n",
    "m.fit_bounds(bounds)\n",
    "\n",
    "m"
   ]
  },
  {
   "cell_type": "markdown",
   "metadata": {},
   "source": [
    "# Folium Map Visualization\n",
    "\n",
    "- comapred to the previous map example, this map will show more than coordinates. \n",
    "- It will show the ratings in regards to diversity, safety perception, hospitality, historical aspect and if I will return"
   ]
  },
  {
   "cell_type": "code",
   "execution_count": 27,
   "metadata": {},
   "outputs": [
    {
     "data": {
      "text/html": [
       "<div style=\"width:100%;\"><div style=\"position:relative;width:100%;height:0;padding-bottom:60%;\"><span style=\"color:#565656\">Make this Notebook Trusted to load map: File -> Trust Notebook</span><iframe srcdoc=\"&lt;!DOCTYPE html&gt;\n",
       "&lt;html&gt;\n",
       "&lt;head&gt;\n",
       "    \n",
       "    &lt;meta http-equiv=&quot;content-type&quot; content=&quot;text/html; charset=UTF-8&quot; /&gt;\n",
       "    \n",
       "        &lt;script&gt;\n",
       "            L_NO_TOUCH = false;\n",
       "            L_DISABLE_3D = false;\n",
       "        &lt;/script&gt;\n",
       "    \n",
       "    &lt;style&gt;html, body {width: 100%;height: 100%;margin: 0;padding: 0;}&lt;/style&gt;\n",
       "    &lt;style&gt;#map {position:absolute;top:0;bottom:0;right:0;left:0;}&lt;/style&gt;\n",
       "    &lt;script src=&quot;https://cdn.jsdelivr.net/npm/leaflet@1.9.3/dist/leaflet.js&quot;&gt;&lt;/script&gt;\n",
       "    &lt;script src=&quot;https://code.jquery.com/jquery-3.7.1.min.js&quot;&gt;&lt;/script&gt;\n",
       "    &lt;script src=&quot;https://cdn.jsdelivr.net/npm/bootstrap@5.2.2/dist/js/bootstrap.bundle.min.js&quot;&gt;&lt;/script&gt;\n",
       "    &lt;script src=&quot;https://cdnjs.cloudflare.com/ajax/libs/Leaflet.awesome-markers/2.0.2/leaflet.awesome-markers.js&quot;&gt;&lt;/script&gt;\n",
       "    &lt;link rel=&quot;stylesheet&quot; href=&quot;https://cdn.jsdelivr.net/npm/leaflet@1.9.3/dist/leaflet.css&quot;/&gt;\n",
       "    &lt;link rel=&quot;stylesheet&quot; href=&quot;https://cdn.jsdelivr.net/npm/bootstrap@5.2.2/dist/css/bootstrap.min.css&quot;/&gt;\n",
       "    &lt;link rel=&quot;stylesheet&quot; href=&quot;https://netdna.bootstrapcdn.com/bootstrap/3.0.0/css/bootstrap-glyphicons.css&quot;/&gt;\n",
       "    &lt;link rel=&quot;stylesheet&quot; href=&quot;https://cdn.jsdelivr.net/npm/@fortawesome/fontawesome-free@6.2.0/css/all.min.css&quot;/&gt;\n",
       "    &lt;link rel=&quot;stylesheet&quot; href=&quot;https://cdnjs.cloudflare.com/ajax/libs/Leaflet.awesome-markers/2.0.2/leaflet.awesome-markers.css&quot;/&gt;\n",
       "    &lt;link rel=&quot;stylesheet&quot; href=&quot;https://cdn.jsdelivr.net/gh/python-visualization/folium/folium/templates/leaflet.awesome.rotate.min.css&quot;/&gt;\n",
       "    \n",
       "            &lt;meta name=&quot;viewport&quot; content=&quot;width=device-width,\n",
       "                initial-scale=1.0, maximum-scale=1.0, user-scalable=no&quot; /&gt;\n",
       "            &lt;style&gt;\n",
       "                #map_9b6ca1031f882cc6ec2e4070a9c1699c {\n",
       "                    position: relative;\n",
       "                    width: 100.0%;\n",
       "                    height: 100.0%;\n",
       "                    left: 0.0%;\n",
       "                    top: 0.0%;\n",
       "                }\n",
       "                .leaflet-container { font-size: 1rem; }\n",
       "            &lt;/style&gt;\n",
       "        \n",
       "&lt;/head&gt;\n",
       "&lt;body&gt;\n",
       "    \n",
       "    \n",
       "            &lt;div class=&quot;folium-map&quot; id=&quot;map_9b6ca1031f882cc6ec2e4070a9c1699c&quot; &gt;&lt;/div&gt;\n",
       "        \n",
       "&lt;/body&gt;\n",
       "&lt;script&gt;\n",
       "    \n",
       "    \n",
       "            var map_9b6ca1031f882cc6ec2e4070a9c1699c = L.map(\n",
       "                &quot;map_9b6ca1031f882cc6ec2e4070a9c1699c&quot;,\n",
       "                {\n",
       "                    center: [0.0, 0.0],\n",
       "                    crs: L.CRS.EPSG3857,\n",
       "                    zoom: 3,\n",
       "                    zoomControl: true,\n",
       "                    preferCanvas: false,\n",
       "                }\n",
       "            );\n",
       "\n",
       "            \n",
       "\n",
       "        \n",
       "    \n",
       "            var tile_layer_3e82761e4bccc09938079396b44a6a5f = L.tileLayer(\n",
       "                &quot;https://tile.openstreetmap.org/{z}/{x}/{y}.png&quot;,\n",
       "                {&quot;attribution&quot;: &quot;\\u0026copy; \\u003ca href=\\&quot;https://www.openstreetmap.org/copyright\\&quot;\\u003eOpenStreetMap\\u003c/a\\u003e contributors&quot;, &quot;detectRetina&quot;: false, &quot;maxNativeZoom&quot;: 19, &quot;maxZoom&quot;: 19, &quot;minZoom&quot;: 0, &quot;noWrap&quot;: false, &quot;opacity&quot;: 1, &quot;subdomains&quot;: &quot;abc&quot;, &quot;tms&quot;: false}\n",
       "            );\n",
       "        \n",
       "    \n",
       "            tile_layer_3e82761e4bccc09938079396b44a6a5f.addTo(map_9b6ca1031f882cc6ec2e4070a9c1699c);\n",
       "        \n",
       "    \n",
       "            var marker_a5534cb8b73566b7b694937cc8a0e570 = L.marker(\n",
       "                [40.4093, 49.8671],\n",
       "                {}\n",
       "            ).addTo(map_9b6ca1031f882cc6ec2e4070a9c1699c);\n",
       "        \n",
       "    \n",
       "            var icon_27e2988dd8e291a9de18d848392d811c = L.AwesomeMarkers.icon(\n",
       "                {&quot;extraClasses&quot;: &quot;fa-rotate-0&quot;, &quot;icon&quot;: &quot;info-sign&quot;, &quot;iconColor&quot;: &quot;white&quot;, &quot;markerColor&quot;: &quot;blue&quot;, &quot;prefix&quot;: &quot;glyphicon&quot;}\n",
       "            );\n",
       "            marker_a5534cb8b73566b7b694937cc8a0e570.setIcon(icon_27e2988dd8e291a9de18d848392d811c);\n",
       "        \n",
       "    \n",
       "        var popup_af5a73fdb173869f5b1284311e858b03 = L.popup({&quot;maxWidth&quot;: &quot;100%&quot;});\n",
       "\n",
       "        \n",
       "            \n",
       "                var html_97fb705d7fcad0394a1b9b35c3efeaa3 = $(`&lt;div id=&quot;html_97fb705d7fcad0394a1b9b35c3efeaa3&quot; style=&quot;width: 100.0%; height: 100.0%;&quot;&gt;Country: Azerbaijan&lt;br&gt;Capital: Baku&lt;br&gt;Diversity: Low&lt;br&gt;Safety: 3&lt;br&gt;Hospitality: 2&lt;br&gt;History: 2&lt;br&gt;Will I return?: Yes&lt;br&gt;&lt;/div&gt;`)[0];\n",
       "                popup_af5a73fdb173869f5b1284311e858b03.setContent(html_97fb705d7fcad0394a1b9b35c3efeaa3);\n",
       "            \n",
       "        \n",
       "\n",
       "        marker_a5534cb8b73566b7b694937cc8a0e570.bindPopup(popup_af5a73fdb173869f5b1284311e858b03)\n",
       "        ;\n",
       "\n",
       "        \n",
       "    \n",
       "    \n",
       "            var marker_38ae35964bbb0b247cca42f22e9a41bc = L.marker(\n",
       "                [47.4979, 19.0402],\n",
       "                {}\n",
       "            ).addTo(map_9b6ca1031f882cc6ec2e4070a9c1699c);\n",
       "        \n",
       "    \n",
       "            var icon_0c1bb2bdc1f65b4d0b29ab28b940254f = L.AwesomeMarkers.icon(\n",
       "                {&quot;extraClasses&quot;: &quot;fa-rotate-0&quot;, &quot;icon&quot;: &quot;info-sign&quot;, &quot;iconColor&quot;: &quot;white&quot;, &quot;markerColor&quot;: &quot;blue&quot;, &quot;prefix&quot;: &quot;glyphicon&quot;}\n",
       "            );\n",
       "            marker_38ae35964bbb0b247cca42f22e9a41bc.setIcon(icon_0c1bb2bdc1f65b4d0b29ab28b940254f);\n",
       "        \n",
       "    \n",
       "        var popup_d25bbcb790c49f304a07175e05f14f37 = L.popup({&quot;maxWidth&quot;: &quot;100%&quot;});\n",
       "\n",
       "        \n",
       "            \n",
       "                var html_659caf58bb14494a251ea4c752982978 = $(`&lt;div id=&quot;html_659caf58bb14494a251ea4c752982978&quot; style=&quot;width: 100.0%; height: 100.0%;&quot;&gt;Country: Hungary&lt;br&gt;Capital: Budapest&lt;br&gt;Diversity: Low&lt;br&gt;Safety: 4&lt;br&gt;Hospitality: 2&lt;br&gt;History: 3&lt;br&gt;Will I return?: Yes&lt;br&gt;&lt;/div&gt;`)[0];\n",
       "                popup_d25bbcb790c49f304a07175e05f14f37.setContent(html_659caf58bb14494a251ea4c752982978);\n",
       "            \n",
       "        \n",
       "\n",
       "        marker_38ae35964bbb0b247cca42f22e9a41bc.bindPopup(popup_d25bbcb790c49f304a07175e05f14f37)\n",
       "        ;\n",
       "\n",
       "        \n",
       "    \n",
       "    \n",
       "            var marker_b95620622c97119a70a94196e48d1e5f = L.marker(\n",
       "                [50.0755, 14.4378],\n",
       "                {}\n",
       "            ).addTo(map_9b6ca1031f882cc6ec2e4070a9c1699c);\n",
       "        \n",
       "    \n",
       "            var icon_daa785e9ae8c0257c3d225e3ec9d13ed = L.AwesomeMarkers.icon(\n",
       "                {&quot;extraClasses&quot;: &quot;fa-rotate-0&quot;, &quot;icon&quot;: &quot;info-sign&quot;, &quot;iconColor&quot;: &quot;white&quot;, &quot;markerColor&quot;: &quot;blue&quot;, &quot;prefix&quot;: &quot;glyphicon&quot;}\n",
       "            );\n",
       "            marker_b95620622c97119a70a94196e48d1e5f.setIcon(icon_daa785e9ae8c0257c3d225e3ec9d13ed);\n",
       "        \n",
       "    \n",
       "        var popup_07eb9a4764f53ae0c648ee6e6ffdb569 = L.popup({&quot;maxWidth&quot;: &quot;100%&quot;});\n",
       "\n",
       "        \n",
       "            \n",
       "                var html_aa4bd8d7a18ae8dce6ed1228f5a03c71 = $(`&lt;div id=&quot;html_aa4bd8d7a18ae8dce6ed1228f5a03c71&quot; style=&quot;width: 100.0%; height: 100.0%;&quot;&gt;Country: Czech Republic&lt;br&gt;Capital: Prague&lt;br&gt;Diversity: Low&lt;br&gt;Safety: 3&lt;br&gt;Hospitality: 1&lt;br&gt;History: 3&lt;br&gt;Will I return?: No&lt;br&gt;&lt;/div&gt;`)[0];\n",
       "                popup_07eb9a4764f53ae0c648ee6e6ffdb569.setContent(html_aa4bd8d7a18ae8dce6ed1228f5a03c71);\n",
       "            \n",
       "        \n",
       "\n",
       "        marker_b95620622c97119a70a94196e48d1e5f.bindPopup(popup_07eb9a4764f53ae0c648ee6e6ffdb569)\n",
       "        ;\n",
       "\n",
       "        \n",
       "    \n",
       "    \n",
       "            var marker_9f2780b27f33c7bce6f4f6dd192e7e8d = L.marker(\n",
       "                [46.9479, 7.4474],\n",
       "                {}\n",
       "            ).addTo(map_9b6ca1031f882cc6ec2e4070a9c1699c);\n",
       "        \n",
       "    \n",
       "            var icon_96a7df858e5e3b7da12cdcb30345f8ac = L.AwesomeMarkers.icon(\n",
       "                {&quot;extraClasses&quot;: &quot;fa-rotate-0&quot;, &quot;icon&quot;: &quot;info-sign&quot;, &quot;iconColor&quot;: &quot;white&quot;, &quot;markerColor&quot;: &quot;blue&quot;, &quot;prefix&quot;: &quot;glyphicon&quot;}\n",
       "            );\n",
       "            marker_9f2780b27f33c7bce6f4f6dd192e7e8d.setIcon(icon_96a7df858e5e3b7da12cdcb30345f8ac);\n",
       "        \n",
       "    \n",
       "        var popup_ad7345065fa9790c517c3e815d68da2f = L.popup({&quot;maxWidth&quot;: &quot;100%&quot;});\n",
       "\n",
       "        \n",
       "            \n",
       "                var html_4777b04c6663c416d5f948aaee7fb589 = $(`&lt;div id=&quot;html_4777b04c6663c416d5f948aaee7fb589&quot; style=&quot;width: 100.0%; height: 100.0%;&quot;&gt;Country: Switzerland&lt;br&gt;Capital: Bern&lt;br&gt;Diversity: Low&lt;br&gt;Safety: 4&lt;br&gt;Hospitality: 3&lt;br&gt;History: 2&lt;br&gt;Will I return?: Yes&lt;br&gt;&lt;/div&gt;`)[0];\n",
       "                popup_ad7345065fa9790c517c3e815d68da2f.setContent(html_4777b04c6663c416d5f948aaee7fb589);\n",
       "            \n",
       "        \n",
       "\n",
       "        marker_9f2780b27f33c7bce6f4f6dd192e7e8d.bindPopup(popup_ad7345065fa9790c517c3e815d68da2f)\n",
       "        ;\n",
       "\n",
       "        \n",
       "    \n",
       "    \n",
       "            var marker_f0283b84f6443c103d78a088e88ec4fc = L.marker(\n",
       "                [35.6892, 51.389],\n",
       "                {}\n",
       "            ).addTo(map_9b6ca1031f882cc6ec2e4070a9c1699c);\n",
       "        \n",
       "    \n",
       "            var icon_25de235314104eb4c9514c8727fef24a = L.AwesomeMarkers.icon(\n",
       "                {&quot;extraClasses&quot;: &quot;fa-rotate-0&quot;, &quot;icon&quot;: &quot;info-sign&quot;, &quot;iconColor&quot;: &quot;white&quot;, &quot;markerColor&quot;: &quot;blue&quot;, &quot;prefix&quot;: &quot;glyphicon&quot;}\n",
       "            );\n",
       "            marker_f0283b84f6443c103d78a088e88ec4fc.setIcon(icon_25de235314104eb4c9514c8727fef24a);\n",
       "        \n",
       "    \n",
       "        var popup_4f17c3923b42cdb4c4eca4373dc4973a = L.popup({&quot;maxWidth&quot;: &quot;100%&quot;});\n",
       "\n",
       "        \n",
       "            \n",
       "                var html_aa5e5c56831dc78989a20650c00fb1a1 = $(`&lt;div id=&quot;html_aa5e5c56831dc78989a20650c00fb1a1&quot; style=&quot;width: 100.0%; height: 100.0%;&quot;&gt;Country: Iran&lt;br&gt;Capital: Tehran&lt;br&gt;Diversity: Low&lt;br&gt;Safety: 4&lt;br&gt;Hospitality: 5&lt;br&gt;History: 3&lt;br&gt;Will I return?: Yes&lt;br&gt;&lt;/div&gt;`)[0];\n",
       "                popup_4f17c3923b42cdb4c4eca4373dc4973a.setContent(html_aa5e5c56831dc78989a20650c00fb1a1);\n",
       "            \n",
       "        \n",
       "\n",
       "        marker_f0283b84f6443c103d78a088e88ec4fc.bindPopup(popup_4f17c3923b42cdb4c4eca4373dc4973a)\n",
       "        ;\n",
       "\n",
       "        \n",
       "    \n",
       "    \n",
       "            var marker_7e660c59a8288c3c9a1c6ba8855f7928 = L.marker(\n",
       "                [24.4539, 54.3773],\n",
       "                {}\n",
       "            ).addTo(map_9b6ca1031f882cc6ec2e4070a9c1699c);\n",
       "        \n",
       "    \n",
       "            var icon_2bffc06fd87f7720c2cdbaa0fd261f92 = L.AwesomeMarkers.icon(\n",
       "                {&quot;extraClasses&quot;: &quot;fa-rotate-0&quot;, &quot;icon&quot;: &quot;info-sign&quot;, &quot;iconColor&quot;: &quot;white&quot;, &quot;markerColor&quot;: &quot;blue&quot;, &quot;prefix&quot;: &quot;glyphicon&quot;}\n",
       "            );\n",
       "            marker_7e660c59a8288c3c9a1c6ba8855f7928.setIcon(icon_2bffc06fd87f7720c2cdbaa0fd261f92);\n",
       "        \n",
       "    \n",
       "        var popup_68936eaf7645233cf8bb38e38a1ec186 = L.popup({&quot;maxWidth&quot;: &quot;100%&quot;});\n",
       "\n",
       "        \n",
       "            \n",
       "                var html_81add4e12a7a2140b4704a172bbf77e4 = $(`&lt;div id=&quot;html_81add4e12a7a2140b4704a172bbf77e4&quot; style=&quot;width: 100.0%; height: 100.0%;&quot;&gt;Country: United Arab Emirates&lt;br&gt;Capital: Dubai&lt;br&gt;Diversity: Medium&lt;br&gt;Safety: 4&lt;br&gt;Hospitality: 2&lt;br&gt;History: 1&lt;br&gt;Will I return?: No&lt;br&gt;&lt;/div&gt;`)[0];\n",
       "                popup_68936eaf7645233cf8bb38e38a1ec186.setContent(html_81add4e12a7a2140b4704a172bbf77e4);\n",
       "            \n",
       "        \n",
       "\n",
       "        marker_7e660c59a8288c3c9a1c6ba8855f7928.bindPopup(popup_68936eaf7645233cf8bb38e38a1ec186)\n",
       "        ;\n",
       "\n",
       "        \n",
       "    \n",
       "    \n",
       "            var marker_ff8142ce747e67d4c6e4eca910420eed = L.marker(\n",
       "                [41.0082, 28.9784],\n",
       "                {}\n",
       "            ).addTo(map_9b6ca1031f882cc6ec2e4070a9c1699c);\n",
       "        \n",
       "    \n",
       "            var icon_8d41a9be4a4514c531923c013cfd6ad4 = L.AwesomeMarkers.icon(\n",
       "                {&quot;extraClasses&quot;: &quot;fa-rotate-0&quot;, &quot;icon&quot;: &quot;info-sign&quot;, &quot;iconColor&quot;: &quot;white&quot;, &quot;markerColor&quot;: &quot;blue&quot;, &quot;prefix&quot;: &quot;glyphicon&quot;}\n",
       "            );\n",
       "            marker_ff8142ce747e67d4c6e4eca910420eed.setIcon(icon_8d41a9be4a4514c531923c013cfd6ad4);\n",
       "        \n",
       "    \n",
       "        var popup_24d85e5e30f438da686dc851e0ff64d9 = L.popup({&quot;maxWidth&quot;: &quot;100%&quot;});\n",
       "\n",
       "        \n",
       "            \n",
       "                var html_dfa2cc43070d8f6ecbb2c7978e97ec6a = $(`&lt;div id=&quot;html_dfa2cc43070d8f6ecbb2c7978e97ec6a&quot; style=&quot;width: 100.0%; height: 100.0%;&quot;&gt;Country: Turkey&lt;br&gt;Capital: Istabul&lt;br&gt;Diversity: Low&lt;br&gt;Safety: 4&lt;br&gt;Hospitality: 5&lt;br&gt;History: 3&lt;br&gt;Will I return?: Yes&lt;br&gt;&lt;/div&gt;`)[0];\n",
       "                popup_24d85e5e30f438da686dc851e0ff64d9.setContent(html_dfa2cc43070d8f6ecbb2c7978e97ec6a);\n",
       "            \n",
       "        \n",
       "\n",
       "        marker_ff8142ce747e67d4c6e4eca910420eed.bindPopup(popup_24d85e5e30f438da686dc851e0ff64d9)\n",
       "        ;\n",
       "\n",
       "        \n",
       "    \n",
       "    \n",
       "            var marker_631aa69c973cfc2e147b8854a7674688 = L.marker(\n",
       "                [-37.8136, 144.9631],\n",
       "                {}\n",
       "            ).addTo(map_9b6ca1031f882cc6ec2e4070a9c1699c);\n",
       "        \n",
       "    \n",
       "            var icon_fdd5b14fb8f6cd62c526f53ec375ea28 = L.AwesomeMarkers.icon(\n",
       "                {&quot;extraClasses&quot;: &quot;fa-rotate-0&quot;, &quot;icon&quot;: &quot;info-sign&quot;, &quot;iconColor&quot;: &quot;white&quot;, &quot;markerColor&quot;: &quot;blue&quot;, &quot;prefix&quot;: &quot;glyphicon&quot;}\n",
       "            );\n",
       "            marker_631aa69c973cfc2e147b8854a7674688.setIcon(icon_fdd5b14fb8f6cd62c526f53ec375ea28);\n",
       "        \n",
       "    \n",
       "        var popup_f380aac07b731ed75600ca33811f2e6d = L.popup({&quot;maxWidth&quot;: &quot;100%&quot;});\n",
       "\n",
       "        \n",
       "            \n",
       "                var html_5ce0eb68939787ef046cc0b3494d0e64 = $(`&lt;div id=&quot;html_5ce0eb68939787ef046cc0b3494d0e64&quot; style=&quot;width: 100.0%; height: 100.0%;&quot;&gt;Country: Australia&lt;br&gt;Capital: Melbourne&lt;br&gt;Diversity: High&lt;br&gt;Safety: 4&lt;br&gt;Hospitality: 3&lt;br&gt;History: 2&lt;br&gt;Will I return?: Yes&lt;br&gt;&lt;/div&gt;`)[0];\n",
       "                popup_f380aac07b731ed75600ca33811f2e6d.setContent(html_5ce0eb68939787ef046cc0b3494d0e64);\n",
       "            \n",
       "        \n",
       "\n",
       "        marker_631aa69c973cfc2e147b8854a7674688.bindPopup(popup_f380aac07b731ed75600ca33811f2e6d)\n",
       "        ;\n",
       "\n",
       "        \n",
       "    \n",
       "    \n",
       "            var marker_b5e5f67e0e6c79be810a373628752c15 = L.marker(\n",
       "                [8.5241, 76.9366],\n",
       "                {}\n",
       "            ).addTo(map_9b6ca1031f882cc6ec2e4070a9c1699c);\n",
       "        \n",
       "    \n",
       "            var icon_620473e4bac09e7692e8428b4c13790f = L.AwesomeMarkers.icon(\n",
       "                {&quot;extraClasses&quot;: &quot;fa-rotate-0&quot;, &quot;icon&quot;: &quot;info-sign&quot;, &quot;iconColor&quot;: &quot;white&quot;, &quot;markerColor&quot;: &quot;blue&quot;, &quot;prefix&quot;: &quot;glyphicon&quot;}\n",
       "            );\n",
       "            marker_b5e5f67e0e6c79be810a373628752c15.setIcon(icon_620473e4bac09e7692e8428b4c13790f);\n",
       "        \n",
       "    \n",
       "        var popup_3c3deda5311d6c5005c1614e153a8f7b = L.popup({&quot;maxWidth&quot;: &quot;100%&quot;});\n",
       "\n",
       "        \n",
       "            \n",
       "                var html_69cd75443e7ad710a07dc629f79fc470 = $(`&lt;div id=&quot;html_69cd75443e7ad710a07dc629f79fc470&quot; style=&quot;width: 100.0%; height: 100.0%;&quot;&gt;Country: India&lt;br&gt;Capital: Kerala&lt;br&gt;Diversity: Low&lt;br&gt;Safety: 2&lt;br&gt;Hospitality: 5&lt;br&gt;History: 2&lt;br&gt;Will I return?: Undecided&lt;br&gt;&lt;/div&gt;`)[0];\n",
       "                popup_3c3deda5311d6c5005c1614e153a8f7b.setContent(html_69cd75443e7ad710a07dc629f79fc470);\n",
       "            \n",
       "        \n",
       "\n",
       "        marker_b5e5f67e0e6c79be810a373628752c15.bindPopup(popup_3c3deda5311d6c5005c1614e153a8f7b)\n",
       "        ;\n",
       "\n",
       "        \n",
       "    \n",
       "    \n",
       "            var marker_2a379059a117ca6580b450424e67601d = L.marker(\n",
       "                [1.3521, 103.8198],\n",
       "                {}\n",
       "            ).addTo(map_9b6ca1031f882cc6ec2e4070a9c1699c);\n",
       "        \n",
       "    \n",
       "            var icon_141f044f21bcf90cb4f109c923793566 = L.AwesomeMarkers.icon(\n",
       "                {&quot;extraClasses&quot;: &quot;fa-rotate-0&quot;, &quot;icon&quot;: &quot;info-sign&quot;, &quot;iconColor&quot;: &quot;white&quot;, &quot;markerColor&quot;: &quot;blue&quot;, &quot;prefix&quot;: &quot;glyphicon&quot;}\n",
       "            );\n",
       "            marker_2a379059a117ca6580b450424e67601d.setIcon(icon_141f044f21bcf90cb4f109c923793566);\n",
       "        \n",
       "    \n",
       "        var popup_42e099d732e12e0570fefc18528c68cb = L.popup({&quot;maxWidth&quot;: &quot;100%&quot;});\n",
       "\n",
       "        \n",
       "            \n",
       "                var html_30474d932e9002ddebdaad79903469b8 = $(`&lt;div id=&quot;html_30474d932e9002ddebdaad79903469b8&quot; style=&quot;width: 100.0%; height: 100.0%;&quot;&gt;Country: Singapore&lt;br&gt;Capital: Singapore&lt;br&gt;Diversity: Medium&lt;br&gt;Safety: 5&lt;br&gt;Hospitality: 2&lt;br&gt;History: 1&lt;br&gt;Will I return?: Undecided&lt;br&gt;&lt;/div&gt;`)[0];\n",
       "                popup_42e099d732e12e0570fefc18528c68cb.setContent(html_30474d932e9002ddebdaad79903469b8);\n",
       "            \n",
       "        \n",
       "\n",
       "        marker_2a379059a117ca6580b450424e67601d.bindPopup(popup_42e099d732e12e0570fefc18528c68cb)\n",
       "        ;\n",
       "\n",
       "        \n",
       "    \n",
       "    \n",
       "            var marker_a1fbddf027c247c4b0b9b943798dd290 = L.marker(\n",
       "                [-8.3405, 115.092],\n",
       "                {}\n",
       "            ).addTo(map_9b6ca1031f882cc6ec2e4070a9c1699c);\n",
       "        \n",
       "    \n",
       "            var icon_b368e4283f39df3b73f909b21564dc6e = L.AwesomeMarkers.icon(\n",
       "                {&quot;extraClasses&quot;: &quot;fa-rotate-0&quot;, &quot;icon&quot;: &quot;info-sign&quot;, &quot;iconColor&quot;: &quot;white&quot;, &quot;markerColor&quot;: &quot;blue&quot;, &quot;prefix&quot;: &quot;glyphicon&quot;}\n",
       "            );\n",
       "            marker_a1fbddf027c247c4b0b9b943798dd290.setIcon(icon_b368e4283f39df3b73f909b21564dc6e);\n",
       "        \n",
       "    \n",
       "        var popup_3b95cb9616a8204816ef31c9c7c2f0cd = L.popup({&quot;maxWidth&quot;: &quot;100%&quot;});\n",
       "\n",
       "        \n",
       "            \n",
       "                var html_12fd5644f2fc413bd6a75b3d850e10db = $(`&lt;div id=&quot;html_12fd5644f2fc413bd6a75b3d850e10db&quot; style=&quot;width: 100.0%; height: 100.0%;&quot;&gt;Country: Indonesia&lt;br&gt;Capital: Denpasar&lt;br&gt;Diversity: Low&lt;br&gt;Safety: 4&lt;br&gt;Hospitality: 5&lt;br&gt;History: 1&lt;br&gt;Will I return?: Yes&lt;br&gt;&lt;/div&gt;`)[0];\n",
       "                popup_3b95cb9616a8204816ef31c9c7c2f0cd.setContent(html_12fd5644f2fc413bd6a75b3d850e10db);\n",
       "            \n",
       "        \n",
       "\n",
       "        marker_a1fbddf027c247c4b0b9b943798dd290.bindPopup(popup_3b95cb9616a8204816ef31c9c7c2f0cd)\n",
       "        ;\n",
       "\n",
       "        \n",
       "    \n",
       "    \n",
       "            var marker_95b35b05b13a859cc96fd87b61a9c75e = L.marker(\n",
       "                [13.7563, 100.5018],\n",
       "                {}\n",
       "            ).addTo(map_9b6ca1031f882cc6ec2e4070a9c1699c);\n",
       "        \n",
       "    \n",
       "            var icon_c251d2368eac1a9a415ab070d17f8240 = L.AwesomeMarkers.icon(\n",
       "                {&quot;extraClasses&quot;: &quot;fa-rotate-0&quot;, &quot;icon&quot;: &quot;info-sign&quot;, &quot;iconColor&quot;: &quot;white&quot;, &quot;markerColor&quot;: &quot;blue&quot;, &quot;prefix&quot;: &quot;glyphicon&quot;}\n",
       "            );\n",
       "            marker_95b35b05b13a859cc96fd87b61a9c75e.setIcon(icon_c251d2368eac1a9a415ab070d17f8240);\n",
       "        \n",
       "    \n",
       "        var popup_5316d7ecef7ff48370b921a36594547c = L.popup({&quot;maxWidth&quot;: &quot;100%&quot;});\n",
       "\n",
       "        \n",
       "            \n",
       "                var html_d4de9fc1f8dcf014a93bff313319f121 = $(`&lt;div id=&quot;html_d4de9fc1f8dcf014a93bff313319f121&quot; style=&quot;width: 100.0%; height: 100.0%;&quot;&gt;Country: Thailand&lt;br&gt;Capital: Bangkok&lt;br&gt;Diversity: Low&lt;br&gt;Safety: 4&lt;br&gt;Hospitality: 3&lt;br&gt;History: 1&lt;br&gt;Will I return?: Yes&lt;br&gt;&lt;/div&gt;`)[0];\n",
       "                popup_5316d7ecef7ff48370b921a36594547c.setContent(html_d4de9fc1f8dcf014a93bff313319f121);\n",
       "            \n",
       "        \n",
       "\n",
       "        marker_95b35b05b13a859cc96fd87b61a9c75e.bindPopup(popup_5316d7ecef7ff48370b921a36594547c)\n",
       "        ;\n",
       "\n",
       "        \n",
       "    \n",
       "    \n",
       "            var marker_c41bdf38d47b192009d28d019781e367 = L.marker(\n",
       "                [42.6977, 23.3219],\n",
       "                {}\n",
       "            ).addTo(map_9b6ca1031f882cc6ec2e4070a9c1699c);\n",
       "        \n",
       "    \n",
       "            var icon_94bb80bd1416e9b51cad5d0b16cb1478 = L.AwesomeMarkers.icon(\n",
       "                {&quot;extraClasses&quot;: &quot;fa-rotate-0&quot;, &quot;icon&quot;: &quot;info-sign&quot;, &quot;iconColor&quot;: &quot;white&quot;, &quot;markerColor&quot;: &quot;blue&quot;, &quot;prefix&quot;: &quot;glyphicon&quot;}\n",
       "            );\n",
       "            marker_c41bdf38d47b192009d28d019781e367.setIcon(icon_94bb80bd1416e9b51cad5d0b16cb1478);\n",
       "        \n",
       "    \n",
       "        var popup_892bb77cba00979b745130d24fdda60e = L.popup({&quot;maxWidth&quot;: &quot;100%&quot;});\n",
       "\n",
       "        \n",
       "            \n",
       "                var html_296c93b6f1f51628e1d48c099821c7f6 = $(`&lt;div id=&quot;html_296c93b6f1f51628e1d48c099821c7f6&quot; style=&quot;width: 100.0%; height: 100.0%;&quot;&gt;Country: Bulgaria&lt;br&gt;Capital: Sofia&lt;br&gt;Diversity: Low&lt;br&gt;Safety: 4&lt;br&gt;Hospitality: 4&lt;br&gt;History: 2&lt;br&gt;Will I return?: No&lt;br&gt;&lt;/div&gt;`)[0];\n",
       "                popup_892bb77cba00979b745130d24fdda60e.setContent(html_296c93b6f1f51628e1d48c099821c7f6);\n",
       "            \n",
       "        \n",
       "\n",
       "        marker_c41bdf38d47b192009d28d019781e367.bindPopup(popup_892bb77cba00979b745130d24fdda60e)\n",
       "        ;\n",
       "\n",
       "        \n",
       "    \n",
       "    \n",
       "            var marker_a69b76918684d76246776c70cfbdc9c2 = L.marker(\n",
       "                [44.4268, 26.1025],\n",
       "                {}\n",
       "            ).addTo(map_9b6ca1031f882cc6ec2e4070a9c1699c);\n",
       "        \n",
       "    \n",
       "            var icon_d0887f99292942c56faefaf8436daec1 = L.AwesomeMarkers.icon(\n",
       "                {&quot;extraClasses&quot;: &quot;fa-rotate-0&quot;, &quot;icon&quot;: &quot;info-sign&quot;, &quot;iconColor&quot;: &quot;white&quot;, &quot;markerColor&quot;: &quot;blue&quot;, &quot;prefix&quot;: &quot;glyphicon&quot;}\n",
       "            );\n",
       "            marker_a69b76918684d76246776c70cfbdc9c2.setIcon(icon_d0887f99292942c56faefaf8436daec1);\n",
       "        \n",
       "    \n",
       "        var popup_0e269fdd0bd255a92281f7032a1e0303 = L.popup({&quot;maxWidth&quot;: &quot;100%&quot;});\n",
       "\n",
       "        \n",
       "            \n",
       "                var html_10a815f191792b0e48a41dfa8c6562c4 = $(`&lt;div id=&quot;html_10a815f191792b0e48a41dfa8c6562c4&quot; style=&quot;width: 100.0%; height: 100.0%;&quot;&gt;Country: Romania&lt;br&gt;Capital: Bucharest&lt;br&gt;Diversity: Low&lt;br&gt;Safety: 2&lt;br&gt;Hospitality: 2&lt;br&gt;History: 2&lt;br&gt;Will I return?: No&lt;br&gt;&lt;/div&gt;`)[0];\n",
       "                popup_0e269fdd0bd255a92281f7032a1e0303.setContent(html_10a815f191792b0e48a41dfa8c6562c4);\n",
       "            \n",
       "        \n",
       "\n",
       "        marker_a69b76918684d76246776c70cfbdc9c2.bindPopup(popup_0e269fdd0bd255a92281f7032a1e0303)\n",
       "        ;\n",
       "\n",
       "        \n",
       "    \n",
       "    \n",
       "            var marker_0c5cf2af0c013991239901a4ad54b921 = L.marker(\n",
       "                [52.52, 13.405],\n",
       "                {}\n",
       "            ).addTo(map_9b6ca1031f882cc6ec2e4070a9c1699c);\n",
       "        \n",
       "    \n",
       "            var icon_08945440cbbf7f629e7ebaf15fbf0840 = L.AwesomeMarkers.icon(\n",
       "                {&quot;extraClasses&quot;: &quot;fa-rotate-0&quot;, &quot;icon&quot;: &quot;info-sign&quot;, &quot;iconColor&quot;: &quot;white&quot;, &quot;markerColor&quot;: &quot;blue&quot;, &quot;prefix&quot;: &quot;glyphicon&quot;}\n",
       "            );\n",
       "            marker_0c5cf2af0c013991239901a4ad54b921.setIcon(icon_08945440cbbf7f629e7ebaf15fbf0840);\n",
       "        \n",
       "    \n",
       "        var popup_24a03eadba9049c70324d90d4fd62d31 = L.popup({&quot;maxWidth&quot;: &quot;100%&quot;});\n",
       "\n",
       "        \n",
       "            \n",
       "                var html_ab0ed3c5e0779eb48e5745f9a356a06f = $(`&lt;div id=&quot;html_ab0ed3c5e0779eb48e5745f9a356a06f&quot; style=&quot;width: 100.0%; height: 100.0%;&quot;&gt;Country: Germany&lt;br&gt;Capital: Berlin&lt;br&gt;Diversity: Low&lt;br&gt;Safety: 3&lt;br&gt;Hospitality: 1&lt;br&gt;History: 5&lt;br&gt;Will I return?: No&lt;br&gt;&lt;/div&gt;`)[0];\n",
       "                popup_24a03eadba9049c70324d90d4fd62d31.setContent(html_ab0ed3c5e0779eb48e5745f9a356a06f);\n",
       "            \n",
       "        \n",
       "\n",
       "        marker_0c5cf2af0c013991239901a4ad54b921.bindPopup(popup_24a03eadba9049c70324d90d4fd62d31)\n",
       "        ;\n",
       "\n",
       "        \n",
       "    \n",
       "    \n",
       "            var marker_39ddcb5f6a11c9792990cdad35256e41 = L.marker(\n",
       "                [48.8566, 2.3522],\n",
       "                {}\n",
       "            ).addTo(map_9b6ca1031f882cc6ec2e4070a9c1699c);\n",
       "        \n",
       "    \n",
       "            var icon_65501dad01fbd180a89a5cd821422723 = L.AwesomeMarkers.icon(\n",
       "                {&quot;extraClasses&quot;: &quot;fa-rotate-0&quot;, &quot;icon&quot;: &quot;info-sign&quot;, &quot;iconColor&quot;: &quot;white&quot;, &quot;markerColor&quot;: &quot;blue&quot;, &quot;prefix&quot;: &quot;glyphicon&quot;}\n",
       "            );\n",
       "            marker_39ddcb5f6a11c9792990cdad35256e41.setIcon(icon_65501dad01fbd180a89a5cd821422723);\n",
       "        \n",
       "    \n",
       "        var popup_b6960fad55c0d6756e912c3e054f27c6 = L.popup({&quot;maxWidth&quot;: &quot;100%&quot;});\n",
       "\n",
       "        \n",
       "            \n",
       "                var html_92878ca72bd3bb53ed173df316a34aff = $(`&lt;div id=&quot;html_92878ca72bd3bb53ed173df316a34aff&quot; style=&quot;width: 100.0%; height: 100.0%;&quot;&gt;Country: France&lt;br&gt;Capital: Paris&lt;br&gt;Diversity: High&lt;br&gt;Safety: 4&lt;br&gt;Hospitality: 2&lt;br&gt;History: 5&lt;br&gt;Will I return?: Yes&lt;br&gt;&lt;/div&gt;`)[0];\n",
       "                popup_b6960fad55c0d6756e912c3e054f27c6.setContent(html_92878ca72bd3bb53ed173df316a34aff);\n",
       "            \n",
       "        \n",
       "\n",
       "        marker_39ddcb5f6a11c9792990cdad35256e41.bindPopup(popup_b6960fad55c0d6756e912c3e054f27c6)\n",
       "        ;\n",
       "\n",
       "        \n",
       "    \n",
       "    \n",
       "            var tile_layer_ef93c79e7612d9d3a7495b79a354c226 = L.tileLayer(\n",
       "                &quot;https://{s}.basemaps.cartocdn.com/light_all/{z}/{x}/{y}{r}.png&quot;,\n",
       "                {&quot;attribution&quot;: &quot;\\u0026copy; \\u003ca href=\\&quot;https://www.openstreetmap.org/copyright\\&quot;\\u003eOpenStreetMap\\u003c/a\\u003e contributors \\u0026copy; \\u003ca href=\\&quot;https://carto.com/attributions\\&quot;\\u003eCARTO\\u003c/a\\u003e&quot;, &quot;detectRetina&quot;: false, &quot;maxNativeZoom&quot;: 20, &quot;maxZoom&quot;: 20, &quot;minZoom&quot;: 0, &quot;noWrap&quot;: false, &quot;opacity&quot;: 1, &quot;subdomains&quot;: &quot;abcd&quot;, &quot;tms&quot;: false}\n",
       "            );\n",
       "        \n",
       "    \n",
       "            tile_layer_ef93c79e7612d9d3a7495b79a354c226.addTo(map_9b6ca1031f882cc6ec2e4070a9c1699c);\n",
       "        \n",
       "    \n",
       "            map_9b6ca1031f882cc6ec2e4070a9c1699c.fitBounds(\n",
       "                [[-37.8136, 2.3522], [52.52, 144.9631]],\n",
       "                {}\n",
       "            );\n",
       "        \n",
       "&lt;/script&gt;\n",
       "&lt;/html&gt;\" style=\"position:absolute;width:100%;height:100%;left:0;top:0;border:none !important;\" allowfullscreen webkitallowfullscreen mozallowfullscreen></iframe></div></div>"
      ],
      "text/plain": [
       "<folium.folium.Map at 0x1a21c1fdfa0>"
      ]
     },
     "execution_count": 27,
     "metadata": {},
     "output_type": "execute_result"
    }
   ],
   "source": [
    "# cretae folium map with default location\n",
    "m2 = folium.Map(location=[0,0], zoom_start=3)\n",
    "\n",
    "# add marker for each country\n",
    "for idx, row in trav.iterrows():\n",
    "    folium.Marker(\n",
    "        location=[row['Latitude'], row['Longitude']],\n",
    "        popup=(\n",
    "            f\"Country: {row['Countries']}<br>\"\n",
    "            f\"Capital: {row['Capital_city']}<br>\"\n",
    "            f\"Diversity: {row['Diversity']}<br>\"\n",
    "            f\"Safety: {row['Safety']}<br>\"\n",
    "            f\"Hospitality: {row['Hospitality']}<br>\"\n",
    "            f\"History: {row['History']}<br>\"\n",
    "            f\"Will I return?: {row['Return']}<br>\"\n",
    "        ),\n",
    "        icon=folium.Icon(icon='info-sign', color='blue')\n",
    "    ).add_to(m2)\n",
    "\n",
    "#add tile layers\n",
    "folium.TileLayer('cartodb positron').add_to(m2)\n",
    "\n",
    "#find min and max lat and long\n",
    "min_lat = trav['Latitude'].min()\n",
    "max_lat = trav['Latitude'].max()\n",
    "min_long = trav['Longitude'].min()\n",
    "max_long = trav['Longitude'].max()\n",
    "\n",
    "#adjust the map bounds\n",
    "bounds = [[min_lat, min_long], [max_lat, max_long]]\n",
    "m2.fit_bounds(bounds)\n",
    "\n",
    "m2\n",
    "\n"
   ]
  },
  {
   "cell_type": "markdown",
   "metadata": {},
   "source": [
    "# Plotly\n"
   ]
  },
  {
   "cell_type": "code",
   "execution_count": 64,
   "metadata": {},
   "outputs": [],
   "source": [
    "#THIS MAP IS SO UGLY!!!\n",
    "\n",
    "# import plotly.express as px \n",
    "# import pandas as pd\n",
    "\n",
    "# #cretae a scatter mapbox plot\n",
    "# fig = px.scatter_geo(trav, lat='Latitude', lon='Longitude', text='Countries',title='Geographic Data Visualization')\n",
    "\n",
    "# fig.update_layout(mapbox_style=\"open-street-map\", \n",
    "# width=700,\n",
    "# height=700)\n",
    "\n",
    "# fig.show()"
   ]
  },
  {
   "cell_type": "markdown",
   "metadata": {},
   "source": [
    "# Geopandas\n",
    "\n",
    "- install geopandas\n",
    "- Activate environment: conda active base\n",
    "- install geopandas: conda install -c conda-forge geopandas\n",
    "- reload window"
   ]
  },
  {
   "cell_type": "code",
   "execution_count": 85,
   "metadata": {},
   "outputs": [
    {
     "name": "stderr",
     "output_type": "stream",
     "text": [
      "C:\\Users\\ASYIKIN\\AppData\\Local\\Temp\\ipykernel_19000\\1448688262.py:7: FutureWarning:\n",
      "\n",
      "The geopandas.dataset module is deprecated and will be removed in GeoPandas 1.0. You can get the original 'naturalearth_lowres' data from https://www.naturalearthdata.com/downloads/110m-cultural-vectors/.\n",
      "\n"
     ]
    },
    {
     "data": {
      "image/png": "[encoded data removed]",
      "text/plain": [
       "<Figure size 1000x800 with 1 Axes>"
      ]
     },
     "metadata": {},
     "output_type": "display_data"
    }
   ],
   "source": [
    "import geopandas as gpd\n",
    "\n",
    "#convert to geodataframe\n",
    "gdf = gpd.GeoDataFrame(trav, geometry=gpd.points_from_xy(trav.Longitude, trav.Latitude))\n",
    "\n",
    "#plot world map\n",
    "world = gpd.read_file(gpd.datasets.get_path('naturalearth_lowres'))\n",
    "ax = world.plot(figsize=(10,8), facecolor='lightgray', edgecolor='White')\n",
    "\n",
    "#plot points with customizations\n",
    "gdf.plot(ax=ax, column='Countries', cmap='tab20', legend=True, markersize=60)\n",
    "\n",
    "#add gridlines\n",
    "ax.grid(True)\n",
    "\n",
    "plt.show()"
   ]
  },
  {
   "cell_type": "code",
   "execution_count": 47,
   "metadata": {},
   "outputs": [
    {
     "name": "stdout",
     "output_type": "stream",
     "text": [
      "Index(['Countries', 'Latitude', 'Longitude'], dtype='object')\n",
      "Index(['Region', 'Countries', 'Capital_city', 'Latitude', 'Longitude',\n",
      "       'Diversity', 'Safety', 'Hospitality', 'History', 'Nature', 'Return'],\n",
      "      dtype='object')\n"
     ]
    }
   ],
   "source": [
    "print(trav2.columns)\n",
    "print(trav.columns)"
   ]
  },
  {
   "cell_type": "code",
   "execution_count": 63,
   "metadata": {},
   "outputs": [
    {
     "data": {
      "application/vnd.plotly.v1+json": {
       "config": {
        "plotlyServerURL": "https://plot.ly"
       },
       "data": [
        {
         "customdata": [
          [
           "Low",
           3,
           2,
           2,
           "Yes"
          ]
         ],
         "hovertemplate": "Countries=Azerbaijan<br>Latitude=%{lat}<br>Longitude=%{lon}<br>Diversity=%{customdata[0]}<br>Safety=%{customdata[1]}<br>Hospitality=%{customdata[2]}<br>History=%{customdata[3]}<br>Return=%{customdata[4]}<extra></extra>",
         "lat": [
          40.4093
         ],
         "legendgroup": "Azerbaijan",
         "lon": [
          49.8671
         ],
         "marker": {
          "color": "#636efa",
          "size": 15
         },
         "mode": "markers",
         "name": "Azerbaijan",
         "showlegend": true,
         "subplot": "mapbox",
         "type": "scattermapbox"
        },
        {
         "customdata": [
          [
           "Low",
           4,
           2,
           3,
           "Yes"
          ]
         ],
         "hovertemplate": "Countries=Hungary<br>Latitude=%{lat}<br>Longitude=%{lon}<br>Diversity=%{customdata[0]}<br>Safety=%{customdata[1]}<br>Hospitality=%{customdata[2]}<br>History=%{customdata[3]}<br>Return=%{customdata[4]}<extra></extra>",
         "lat": [
          47.4979
         ],
         "legendgroup": "Hungary",
         "lon": [
          19.0402
         ],
         "marker": {
          "color": "#EF553B",
          "size": 15
         },
         "mode": "markers",
         "name": "Hungary",
         "showlegend": true,
         "subplot": "mapbox",
         "type": "scattermapbox"
        },
        {
         "customdata": [
          [
           "Low",
           3,
           1,
           3,
           "No"
          ]
         ],
         "hovertemplate": "Countries=Czech Republic<br>Latitude=%{lat}<br>Longitude=%{lon}<br>Diversity=%{customdata[0]}<br>Safety=%{customdata[1]}<br>Hospitality=%{customdata[2]}<br>History=%{customdata[3]}<br>Return=%{customdata[4]}<extra></extra>",
         "lat": [
          50.0755
         ],
         "legendgroup": "Czech Republic",
         "lon": [
          14.4378
         ],
         "marker": {
          "color": "#00cc96",
          "size": 15
         },
         "mode": "markers",
         "name": "Czech Republic",
         "showlegend": true,
         "subplot": "mapbox",
         "type": "scattermapbox"
        },
        {
         "customdata": [
          [
           "Low",
           4,
           3,
           2,
           "Yes"
          ]
         ],
         "hovertemplate": "Countries=Switzerland<br>Latitude=%{lat}<br>Longitude=%{lon}<br>Diversity=%{customdata[0]}<br>Safety=%{customdata[1]}<br>Hospitality=%{customdata[2]}<br>History=%{customdata[3]}<br>Return=%{customdata[4]}<extra></extra>",
         "lat": [
          46.9479
         ],
         "legendgroup": "Switzerland",
         "lon": [
          7.4474
         ],
         "marker": {
          "color": "#ab63fa",
          "size": 15
         },
         "mode": "markers",
         "name": "Switzerland",
         "showlegend": true,
         "subplot": "mapbox",
         "type": "scattermapbox"
        },
        {
         "customdata": [
          [
           "Low",
           4,
           5,
           3,
           "Yes"
          ]
         ],
         "hovertemplate": "Countries=Iran<br>Latitude=%{lat}<br>Longitude=%{lon}<br>Diversity=%{customdata[0]}<br>Safety=%{customdata[1]}<br>Hospitality=%{customdata[2]}<br>History=%{customdata[3]}<br>Return=%{customdata[4]}<extra></extra>",
         "lat": [
          35.6892
         ],
         "legendgroup": "Iran",
         "lon": [
          51.389
         ],
         "marker": {
          "color": "#FFA15A",
          "size": 15
         },
         "mode": "markers",
         "name": "Iran",
         "showlegend": true,
         "subplot": "mapbox",
         "type": "scattermapbox"
        },
        {
         "customdata": [
          [
           "Medium",
           4,
           2,
           1,
           "No"
          ]
         ],
         "hovertemplate": "Countries=United Arab Emirates<br>Latitude=%{lat}<br>Longitude=%{lon}<br>Diversity=%{customdata[0]}<br>Safety=%{customdata[1]}<br>Hospitality=%{customdata[2]}<br>History=%{customdata[3]}<br>Return=%{customdata[4]}<extra></extra>",
         "lat": [
          24.4539
         ],
         "legendgroup": "United Arab Emirates",
         "lon": [
          54.3773
         ],
         "marker": {
          "color": "#19d3f3",
          "size": 15
         },
         "mode": "markers",
         "name": "United Arab Emirates",
         "showlegend": true,
         "subplot": "mapbox",
         "type": "scattermapbox"
        },
        {
         "customdata": [
          [
           "Low",
           4,
           5,
           3,
           "Yes"
          ]
         ],
         "hovertemplate": "Countries=Turkey<br>Latitude=%{lat}<br>Longitude=%{lon}<br>Diversity=%{customdata[0]}<br>Safety=%{customdata[1]}<br>Hospitality=%{customdata[2]}<br>History=%{customdata[3]}<br>Return=%{customdata[4]}<extra></extra>",
         "lat": [
          41.0082
         ],
         "legendgroup": "Turkey",
         "lon": [
          28.9784
         ],
         "marker": {
          "color": "#FF6692",
          "size": 15
         },
         "mode": "markers",
         "name": "Turkey",
         "showlegend": true,
         "subplot": "mapbox",
         "type": "scattermapbox"
        },
        {
         "customdata": [
          [
           "High",
           4,
           3,
           2,
           "Yes"
          ]
         ],
         "hovertemplate": "Countries=Australia<br>Latitude=%{lat}<br>Longitude=%{lon}<br>Diversity=%{customdata[0]}<br>Safety=%{customdata[1]}<br>Hospitality=%{customdata[2]}<br>History=%{customdata[3]}<br>Return=%{customdata[4]}<extra></extra>",
         "lat": [
          -37.8136
         ],
         "legendgroup": "Australia",
         "lon": [
          144.9631
         ],
         "marker": {
          "color": "#B6E880",
          "size": 15
         },
         "mode": "markers",
         "name": "Australia",
         "showlegend": true,
         "subplot": "mapbox",
         "type": "scattermapbox"
        },
        {
         "customdata": [
          [
           "Low",
           2,
           5,
           2,
           "Undecided"
          ]
         ],
         "hovertemplate": "Countries=India<br>Latitude=%{lat}<br>Longitude=%{lon}<br>Diversity=%{customdata[0]}<br>Safety=%{customdata[1]}<br>Hospitality=%{customdata[2]}<br>History=%{customdata[3]}<br>Return=%{customdata[4]}<extra></extra>",
         "lat": [
          8.5241
         ],
         "legendgroup": "India",
         "lon": [
          76.9366
         ],
         "marker": {
          "color": "#FF97FF",
          "size": 15
         },
         "mode": "markers",
         "name": "India",
         "showlegend": true,
         "subplot": "mapbox",
         "type": "scattermapbox"
        },
        {
         "customdata": [
          [
           "Medium",
           5,
           2,
           1,
           "Undecided"
          ]
         ],
         "hovertemplate": "Countries=Singapore<br>Latitude=%{lat}<br>Longitude=%{lon}<br>Diversity=%{customdata[0]}<br>Safety=%{customdata[1]}<br>Hospitality=%{customdata[2]}<br>History=%{customdata[3]}<br>Return=%{customdata[4]}<extra></extra>",
         "lat": [
          1.3521
         ],
         "legendgroup": "Singapore",
         "lon": [
          103.8198
         ],
         "marker": {
          "color": "#FECB52",
          "size": 15
         },
         "mode": "markers",
         "name": "Singapore",
         "showlegend": true,
         "subplot": "mapbox",
         "type": "scattermapbox"
        },
        {
         "customdata": [
          [
           "Low",
           4,
           5,
           1,
           "Yes"
          ]
         ],
         "hovertemplate": "Countries=Indonesia<br>Latitude=%{lat}<br>Longitude=%{lon}<br>Diversity=%{customdata[0]}<br>Safety=%{customdata[1]}<br>Hospitality=%{customdata[2]}<br>History=%{customdata[3]}<br>Return=%{customdata[4]}<extra></extra>",
         "lat": [
          -8.3405
         ],
         "legendgroup": "Indonesia",
         "lon": [
          115.092
         ],
         "marker": {
          "color": "#636efa",
          "size": 15
         },
         "mode": "markers",
         "name": "Indonesia",
         "showlegend": true,
         "subplot": "mapbox",
         "type": "scattermapbox"
        },
        {
         "customdata": [
          [
           "Low",
           4,
           3,
           1,
           "Yes"
          ]
         ],
         "hovertemplate": "Countries=Thailand<br>Latitude=%{lat}<br>Longitude=%{lon}<br>Diversity=%{customdata[0]}<br>Safety=%{customdata[1]}<br>Hospitality=%{customdata[2]}<br>History=%{customdata[3]}<br>Return=%{customdata[4]}<extra></extra>",
         "lat": [
          13.7563
         ],
         "legendgroup": "Thailand",
         "lon": [
          100.5018
         ],
         "marker": {
          "color": "#EF553B",
          "size": 15
         },
         "mode": "markers",
         "name": "Thailand",
         "showlegend": true,
         "subplot": "mapbox",
         "type": "scattermapbox"
        },
        {
         "customdata": [
          [
           "Low",
           4,
           4,
           2,
           "No"
          ]
         ],
         "hovertemplate": "Countries=Bulgaria<br>Latitude=%{lat}<br>Longitude=%{lon}<br>Diversity=%{customdata[0]}<br>Safety=%{customdata[1]}<br>Hospitality=%{customdata[2]}<br>History=%{customdata[3]}<br>Return=%{customdata[4]}<extra></extra>",
         "lat": [
          42.6977
         ],
         "legendgroup": "Bulgaria",
         "lon": [
          23.3219
         ],
         "marker": {
          "color": "#00cc96",
          "size": 15
         },
         "mode": "markers",
         "name": "Bulgaria",
         "showlegend": true,
         "subplot": "mapbox",
         "type": "scattermapbox"
        },
        {
         "customdata": [
          [
           "Low",
           2,
           2,
           2,
           "No"
          ]
         ],
         "hovertemplate": "Countries=Romania<br>Latitude=%{lat}<br>Longitude=%{lon}<br>Diversity=%{customdata[0]}<br>Safety=%{customdata[1]}<br>Hospitality=%{customdata[2]}<br>History=%{customdata[3]}<br>Return=%{customdata[4]}<extra></extra>",
         "lat": [
          44.4268
         ],
         "legendgroup": "Romania",
         "lon": [
          26.1025
         ],
         "marker": {
          "color": "#ab63fa",
          "size": 15
         },
         "mode": "markers",
         "name": "Romania",
         "showlegend": true,
         "subplot": "mapbox",
         "type": "scattermapbox"
        },
        {
         "customdata": [
          [
           "Low",
           3,
           1,
           5,
           "No"
          ]
         ],
         "hovertemplate": "Countries=Germany<br>Latitude=%{lat}<br>Longitude=%{lon}<br>Diversity=%{customdata[0]}<br>Safety=%{customdata[1]}<br>Hospitality=%{customdata[2]}<br>History=%{customdata[3]}<br>Return=%{customdata[4]}<extra></extra>",
         "lat": [
          52.52
         ],
         "legendgroup": "Germany",
         "lon": [
          13.405
         ],
         "marker": {
          "color": "#FFA15A",
          "size": 15
         },
         "mode": "markers",
         "name": "Germany",
         "showlegend": true,
         "subplot": "mapbox",
         "type": "scattermapbox"
        },
        {
         "customdata": [
          [
           "High",
           4,
           2,
           5,
           "Yes"
          ]
         ],
         "hovertemplate": "Countries=France<br>Latitude=%{lat}<br>Longitude=%{lon}<br>Diversity=%{customdata[0]}<br>Safety=%{customdata[1]}<br>Hospitality=%{customdata[2]}<br>History=%{customdata[3]}<br>Return=%{customdata[4]}<extra></extra>",
         "lat": [
          48.8566
         ],
         "legendgroup": "France",
         "lon": [
          2.3522
         ],
         "marker": {
          "color": "#19d3f3",
          "size": 15
         },
         "mode": "markers",
         "name": "France",
         "showlegend": true,
         "subplot": "mapbox",
         "type": "scattermapbox"
        }
       ],
       "layout": {
        "height": 400,
        "legend": {
         "title": {
          "text": "Countries"
         },
         "tracegroupgap": 0
        },
        "mapbox": {
         "center": {
          "lat": 7.353200000000001,
          "lon": 73.65765
         },
         "domain": {
          "x": [
           0,
           1
          ],
          "y": [
           0,
           1
          ]
         },
         "style": "open-street-map",
         "zoom": 1
        },
        "margin": {
         "b": 0,
         "l": 0,
         "r": 0,
         "t": 0
        },
        "template": {
         "data": {
          "bar": [
           {
            "error_x": {
             "color": "#2a3f5f"
            },
            "error_y": {
             "color": "#2a3f5f"
            },
            "marker": {
             "line": {
              "color": "#E5ECF6",
              "width": 0.5
             },
             "pattern": {
              "fillmode": "overlay",
              "size": 10,
              "solidity": 0.2
             }
            },
            "type": "bar"
           }
          ],
          "barpolar": [
           {
            "marker": {
             "line": {
              "color": "#E5ECF6",
              "width": 0.5
             },
             "pattern": {
              "fillmode": "overlay",
              "size": 10,
              "solidity": 0.2
             }
            },
            "type": "barpolar"
           }
          ],
          "carpet": [
           {
            "aaxis": {
             "endlinecolor": "#2a3f5f",
             "gridcolor": "white",
             "linecolor": "white",
             "minorgridcolor": "white",
             "startlinecolor": "#2a3f5f"
            },
            "baxis": {
             "endlinecolor": "#2a3f5f",
             "gridcolor": "white",
             "linecolor": "white",
             "minorgridcolor": "white",
             "startlinecolor": "#2a3f5f"
            },
            "type": "carpet"
           }
          ],
          "choropleth": [
           {
            "colorbar": {
             "outlinewidth": 0,
             "ticks": ""
            },
            "type": "choropleth"
           }
          ],
          "contour": [
           {
            "colorbar": {
             "outlinewidth": 0,
             "ticks": ""
            },
            "colorscale": [
             [
              0,
              "#0d0887"
             ],
             [
              0.1111111111111111,
              "#46039f"
             ],
             [
              0.2222222222222222,
              "#7201a8"
             ],
             [
              0.3333333333333333,
              "#9c179e"
             ],
             [
              0.4444444444444444,
              "#bd3786"
             ],
             [
              0.5555555555555556,
              "#d8576b"
             ],
             [
              0.6666666666666666,
              "#ed7953"
             ],
             [
              0.7777777777777778,
              "#fb9f3a"
             ],
             [
              0.8888888888888888,
              "#fdca26"
             ],
             [
              1,
              "#f0f921"
             ]
            ],
            "type": "contour"
           }
          ],
          "contourcarpet": [
           {
            "colorbar": {
             "outlinewidth": 0,
             "ticks": ""
            },
            "type": "contourcarpet"
           }
          ],
          "heatmap": [
           {
            "colorbar": {
             "outlinewidth": 0,
             "ticks": ""
            },
            "colorscale": [
             [
              0,
              "#0d0887"
             ],
             [
              0.1111111111111111,
              "#46039f"
             ],
             [
              0.2222222222222222,
              "#7201a8"
             ],
             [
              0.3333333333333333,
              "#9c179e"
             ],
             [
              0.4444444444444444,
              "#bd3786"
             ],
             [
              0.5555555555555556,
              "#d8576b"
             ],
             [
              0.6666666666666666,
              "#ed7953"
             ],
             [
              0.7777777777777778,
              "#fb9f3a"
             ],
             [
              0.8888888888888888,
              "#fdca26"
             ],
             [
              1,
              "#f0f921"
             ]
            ],
            "type": "heatmap"
           }
          ],
          "heatmapgl": [
           {
            "colorbar": {
             "outlinewidth": 0,
             "ticks": ""
            },
            "colorscale": [
             [
              0,
              "#0d0887"
             ],
             [
              0.1111111111111111,
              "#46039f"
             ],
             [
              0.2222222222222222,
              "#7201a8"
             ],
             [
              0.3333333333333333,
              "#9c179e"
             ],
             [
              0.4444444444444444,
              "#bd3786"
             ],
             [
              0.5555555555555556,
              "#d8576b"
             ],
             [
              0.6666666666666666,
              "#ed7953"
             ],
             [
              0.7777777777777778,
              "#fb9f3a"
             ],
             [
              0.8888888888888888,
              "#fdca26"
             ],
             [
              1,
              "#f0f921"
             ]
            ],
            "type": "heatmapgl"
           }
          ],
          "histogram": [
           {
            "marker": {
             "pattern": {
              "fillmode": "overlay",
              "size": 10,
              "solidity": 0.2
             }
            },
            "type": "histogram"
           }
          ],
          "histogram2d": [
           {
            "colorbar": {
             "outlinewidth": 0,
             "ticks": ""
            },
            "colorscale": [
             [
              0,
              "#0d0887"
             ],
             [
              0.1111111111111111,
              "#46039f"
             ],
             [
              0.2222222222222222,
              "#7201a8"
             ],
             [
              0.3333333333333333,
              "#9c179e"
             ],
             [
              0.4444444444444444,
              "#bd3786"
             ],
             [
              0.5555555555555556,
              "#d8576b"
             ],
             [
              0.6666666666666666,
              "#ed7953"
             ],
             [
              0.7777777777777778,
              "#fb9f3a"
             ],
             [
              0.8888888888888888,
              "#fdca26"
             ],
             [
              1,
              "#f0f921"
             ]
            ],
            "type": "histogram2d"
           }
          ],
          "histogram2dcontour": [
           {
            "colorbar": {
             "outlinewidth": 0,
             "ticks": ""
            },
            "colorscale": [
             [
              0,
              "#0d0887"
             ],
             [
              0.1111111111111111,
              "#46039f"
             ],
             [
              0.2222222222222222,
              "#7201a8"
             ],
             [
              0.3333333333333333,
              "#9c179e"
             ],
             [
              0.4444444444444444,
              "#bd3786"
             ],
             [
              0.5555555555555556,
              "#d8576b"
             ],
             [
              0.6666666666666666,
              "#ed7953"
             ],
             [
              0.7777777777777778,
              "#fb9f3a"
             ],
             [
              0.8888888888888888,
              "#fdca26"
             ],
             [
              1,
              "#f0f921"
             ]
            ],
            "type": "histogram2dcontour"
           }
          ],
          "mesh3d": [
           {
            "colorbar": {
             "outlinewidth": 0,
             "ticks": ""
            },
            "type": "mesh3d"
           }
          ],
          "parcoords": [
           {
            "line": {
             "colorbar": {
              "outlinewidth": 0,
              "ticks": ""
             }
            },
            "type": "parcoords"
           }
          ],
          "pie": [
           {
            "automargin": true,
            "type": "pie"
           }
          ],
          "scatter": [
           {
            "fillpattern": {
             "fillmode": "overlay",
             "size": 10,
             "solidity": 0.2
            },
            "type": "scatter"
           }
          ],
          "scatter3d": [
           {
            "line": {
             "colorbar": {
              "outlinewidth": 0,
              "ticks": ""
             }
            },
            "marker": {
             "colorbar": {
              "outlinewidth": 0,
              "ticks": ""
             }
            },
            "type": "scatter3d"
           }
          ],
          "scattercarpet": [
           {
            "marker": {
             "colorbar": {
              "outlinewidth": 0,
              "ticks": ""
             }
            },
            "type": "scattercarpet"
           }
          ],
          "scattergeo": [
           {
            "marker": {
             "colorbar": {
              "outlinewidth": 0,
              "ticks": ""
             }
            },
            "type": "scattergeo"
           }
          ],
          "scattergl": [
           {
            "marker": {
             "colorbar": {
              "outlinewidth": 0,
              "ticks": ""
             }
            },
            "type": "scattergl"
           }
          ],
          "scattermapbox": [
           {
            "marker": {
             "colorbar": {
              "outlinewidth": 0,
              "ticks": ""
             }
            },
            "type": "scattermapbox"
           }
          ],
          "scatterpolar": [
           {
            "marker": {
             "colorbar": {
              "outlinewidth": 0,
              "ticks": ""
             }
            },
            "type": "scatterpolar"
           }
          ],
          "scatterpolargl": [
           {
            "marker": {
             "colorbar": {
              "outlinewidth": 0,
              "ticks": ""
             }
            },
            "type": "scatterpolargl"
           }
          ],
          "scatterternary": [
           {
            "marker": {
             "colorbar": {
              "outlinewidth": 0,
              "ticks": ""
             }
            },
            "type": "scatterternary"
           }
          ],
          "surface": [
           {
            "colorbar": {
             "outlinewidth": 0,
             "ticks": ""
            },
            "colorscale": [
             [
              0,
              "#0d0887"
             ],
             [
              0.1111111111111111,
              "#46039f"
             ],
             [
              0.2222222222222222,
              "#7201a8"
             ],
             [
              0.3333333333333333,
              "#9c179e"
             ],
             [
              0.4444444444444444,
              "#bd3786"
             ],
             [
              0.5555555555555556,
              "#d8576b"
             ],
             [
              0.6666666666666666,
              "#ed7953"
             ],
             [
              0.7777777777777778,
              "#fb9f3a"
             ],
             [
              0.8888888888888888,
              "#fdca26"
             ],
             [
              1,
              "#f0f921"
             ]
            ],
            "type": "surface"
           }
          ],
          "table": [
           {
            "cells": {
             "fill": {
              "color": "#EBF0F8"
             },
             "line": {
              "color": "white"
             }
            },
            "header": {
             "fill": {
              "color": "#C8D4E3"
             },
             "line": {
              "color": "white"
             }
            },
            "type": "table"
           }
          ]
         },
         "layout": {
          "annotationdefaults": {
           "arrowcolor": "#2a3f5f",
           "arrowhead": 0,
           "arrowwidth": 1
          },
          "autotypenumbers": "strict",
          "coloraxis": {
           "colorbar": {
            "outlinewidth": 0,
            "ticks": ""
           }
          },
          "colorscale": {
           "diverging": [
            [
             0,
             "#8e0152"
            ],
            [
             0.1,
             "#c51b7d"
            ],
            [
             0.2,
             "#de77ae"
            ],
            [
             0.3,
             "#f1b6da"
            ],
            [
             0.4,
             "#fde0ef"
            ],
            [
             0.5,
             "#f7f7f7"
            ],
            [
             0.6,
             "#e6f5d0"
            ],
            [
             0.7,
             "#b8e186"
            ],
            [
             0.8,
             "#7fbc41"
            ],
            [
             0.9,
             "#4d9221"
            ],
            [
             1,
             "#276419"
            ]
           ],
           "sequential": [
            [
             0,
             "#0d0887"
            ],
            [
             0.1111111111111111,
             "#46039f"
            ],
            [
             0.2222222222222222,
             "#7201a8"
            ],
            [
             0.3333333333333333,
             "#9c179e"
            ],
            [
             0.4444444444444444,
             "#bd3786"
            ],
            [
             0.5555555555555556,
             "#d8576b"
            ],
            [
             0.6666666666666666,
             "#ed7953"
            ],
            [
             0.7777777777777778,
             "#fb9f3a"
            ],
            [
             0.8888888888888888,
             "#fdca26"
            ],
            [
             1,
             "#f0f921"
            ]
           ],
           "sequentialminus": [
            [
             0,
             "#0d0887"
            ],
            [
             0.1111111111111111,
             "#46039f"
            ],
            [
             0.2222222222222222,
             "#7201a8"
            ],
            [
             0.3333333333333333,
             "#9c179e"
            ],
            [
             0.4444444444444444,
             "#bd3786"
            ],
            [
             0.5555555555555556,
             "#d8576b"
            ],
            [
             0.6666666666666666,
             "#ed7953"
            ],
            [
             0.7777777777777778,
             "#fb9f3a"
            ],
            [
             0.8888888888888888,
             "#fdca26"
            ],
            [
             1,
             "#f0f921"
            ]
           ]
          },
          "colorway": [
           "#636efa",
           "#EF553B",
           "#00cc96",
           "#ab63fa",
           "#FFA15A",
           "#19d3f3",
           "#FF6692",
           "#B6E880",
           "#FF97FF",
           "#FECB52"
          ],
          "font": {
           "color": "#2a3f5f"
          },
          "geo": {
           "bgcolor": "white",
           "lakecolor": "white",
           "landcolor": "#E5ECF6",
           "showlakes": true,
           "showland": true,
           "subunitcolor": "white"
          },
          "hoverlabel": {
           "align": "left"
          },
          "hovermode": "closest",
          "mapbox": {
           "style": "light"
          },
          "paper_bgcolor": "white",
          "plot_bgcolor": "#E5ECF6",
          "polar": {
           "angularaxis": {
            "gridcolor": "white",
            "linecolor": "white",
            "ticks": ""
           },
           "bgcolor": "#E5ECF6",
           "radialaxis": {
            "gridcolor": "white",
            "linecolor": "white",
            "ticks": ""
           }
          },
          "scene": {
           "xaxis": {
            "backgroundcolor": "#E5ECF6",
            "gridcolor": "white",
            "gridwidth": 2,
            "linecolor": "white",
            "showbackground": true,
            "ticks": "",
            "zerolinecolor": "white"
           },
           "yaxis": {
            "backgroundcolor": "#E5ECF6",
            "gridcolor": "white",
            "gridwidth": 2,
            "linecolor": "white",
            "showbackground": true,
            "ticks": "",
            "zerolinecolor": "white"
           },
           "zaxis": {
            "backgroundcolor": "#E5ECF6",
            "gridcolor": "white",
            "gridwidth": 2,
            "linecolor": "white",
            "showbackground": true,
            "ticks": "",
            "zerolinecolor": "white"
           }
          },
          "shapedefaults": {
           "line": {
            "color": "#2a3f5f"
           }
          },
          "ternary": {
           "aaxis": {
            "gridcolor": "white",
            "linecolor": "white",
            "ticks": ""
           },
           "baxis": {
            "gridcolor": "white",
            "linecolor": "white",
            "ticks": ""
           },
           "bgcolor": "#E5ECF6",
           "caxis": {
            "gridcolor": "white",
            "linecolor": "white",
            "ticks": ""
           }
          },
          "title": {
           "x": 0.05
          },
          "xaxis": {
           "automargin": true,
           "gridcolor": "white",
           "linecolor": "white",
           "ticks": "",
           "title": {
            "standoff": 15
           },
           "zerolinecolor": "white",
           "zerolinewidth": 2
          },
          "yaxis": {
           "automargin": true,
           "gridcolor": "white",
           "linecolor": "white",
           "ticks": "",
           "title": {
            "standoff": 15
           },
           "zerolinecolor": "white",
           "zerolinewidth": 2
          }
         }
        },
        "title": {
         "text": "Countries I've visited"
        }
       }
      }
     },
     "metadata": {},
     "output_type": "display_data"
    }
   ],
   "source": [
    "import plotly.express as px\n",
    "import pandas as pd\n",
    "\n",
    "#calculate bounds\n",
    "min_lat = trav['Latitude'].min()\n",
    "max_lat = trav['Latitude'].max()\n",
    "min_long = trav['Longitude'].min()\n",
    "max_long = trav['Longitude'].max()\n",
    "\n",
    "#calculate the center of the map\n",
    "center_lat = (min_lat + max_lat)/2\n",
    "center_lon = (min_long + max_long)/2\n",
    "\n",
    "fig = px.scatter_mapbox(trav,\n",
    "lon='Longitude',\n",
    "lat='Latitude', \n",
    "zoom=1,\n",
    "color='Countries',\n",
    "height=400,\n",
    "title=\"Countries I've visited\",\n",
    "hover_data=['Diversity','Safety', 'Hospitality', 'History', 'Return']\n",
    ")\n",
    "\n",
    "#update marker size\n",
    "fig.update_traces(marker=dict(size=15))\n",
    "fig.update_layout(mapbox_style='open-street-map')\n",
    "fig.update_layout(margin={\"r\":0, \"t\":0, \"l\":0, \"b\":0})\n",
    "\n",
    "\n",
    "#fit the map to the data points\n",
    "fig.update_layout(mapbox_center={\"lat\": center_lat, \"lon\": center_lon})\n",
    "\n",
    "fig.show()"
   ]
  },
  {
   "cell_type": "code",
   "execution_count": null,
   "metadata": {},
   "outputs": [],
   "source": []
  },
  {
   "cell_type": "code",
   "execution_count": null,
   "metadata": {},
   "outputs": [],
   "source": []
  }
 ],
 "metadata": {
  "kernelspec": {
   "display_name": "base",
   "language": "python",
   "name": "python3"
  },
  "language_info": {
   "codemirror_mode": {
    "name": "ipython",
    "version": 3
   },
   "file_extension": ".py",
   "mimetype": "text/x-python",
   "name": "python",
   "nbconvert_exporter": "python",
   "pygments_lexer": "ipython3",
   "version": "3.12.3"
  }
 },
 "nbformat": 4,
 "nbformat_minor": 2
}
