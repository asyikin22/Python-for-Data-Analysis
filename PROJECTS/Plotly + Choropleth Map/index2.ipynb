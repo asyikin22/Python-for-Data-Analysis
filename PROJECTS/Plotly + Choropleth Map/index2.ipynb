{
 "cells": [
  {
   "cell_type": "code",
   "execution_count": 1,
   "metadata": {},
   "outputs": [
    {
     "data": {
      "text/html": [
       "<div>\n",
       "<style scoped>\n",
       "    .dataframe tbody tr th:only-of-type {\n",
       "        vertical-align: middle;\n",
       "    }\n",
       "\n",
       "    .dataframe tbody tr th {\n",
       "        vertical-align: top;\n",
       "    }\n",
       "\n",
       "    .dataframe thead th {\n",
       "        text-align: right;\n",
       "    }\n",
       "</style>\n",
       "<table border=\"1\" class=\"dataframe\">\n",
       "  <thead>\n",
       "    <tr style=\"text-align: right;\">\n",
       "      <th></th>\n",
       "      <th>Year</th>\n",
       "      <th>Total Population</th>\n",
       "      <th>Total Male</th>\n",
       "      <th>Total Female</th>\n",
       "    </tr>\n",
       "  </thead>\n",
       "  <tbody>\n",
       "    <tr>\n",
       "      <th>0</th>\n",
       "      <td>1991</td>\n",
       "      <td>18547.1</td>\n",
       "      <td>9416.5</td>\n",
       "      <td>9130.9</td>\n",
       "    </tr>\n",
       "    <tr>\n",
       "      <th>1</th>\n",
       "      <td>1992</td>\n",
       "      <td>19067.3</td>\n",
       "      <td>9687.1</td>\n",
       "      <td>9380.2</td>\n",
       "    </tr>\n",
       "    <tr>\n",
       "      <th>2</th>\n",
       "      <td>1993</td>\n",
       "      <td>19601.6</td>\n",
       "      <td>9963.4</td>\n",
       "      <td>9637.7</td>\n",
       "    </tr>\n",
       "    <tr>\n",
       "      <th>3</th>\n",
       "      <td>1994</td>\n",
       "      <td>20141.7</td>\n",
       "      <td>10242.7</td>\n",
       "      <td>9898.9</td>\n",
       "    </tr>\n",
       "    <tr>\n",
       "      <th>4</th>\n",
       "      <td>1995</td>\n",
       "      <td>20681.7</td>\n",
       "      <td>10521.2</td>\n",
       "      <td>10160.5</td>\n",
       "    </tr>\n",
       "  </tbody>\n",
       "</table>\n",
       "</div>"
      ],
      "text/plain": [
       "   Year  Total Population  Total Male  Total Female\n",
       "0  1991           18547.1      9416.5        9130.9\n",
       "1  1992           19067.3      9687.1        9380.2\n",
       "2  1993           19601.6      9963.4        9637.7\n",
       "3  1994           20141.7     10242.7        9898.9\n",
       "4  1995           20681.7     10521.2       10160.5"
      ]
     },
     "execution_count": 1,
     "metadata": {},
     "output_type": "execute_result"
    }
   ],
   "source": [
    "import pandas as pd\n",
    "\n",
    "all_df = pd.read_csv(r\"./Dataset_pop/combined_pop.csv\")\n",
    "all_df.head()"
   ]
  },
  {
   "cell_type": "code",
   "execution_count": 133,
   "metadata": {},
   "outputs": [
    {
     "name": "stdout",
     "output_type": "stream",
     "text": [
      "   Year  Bumi_M   Chi_M  Ind_M  Other_M  Bumi_F   Chi_F  Ind_F  Other_F\n",
      "0  1980  3955.7  2249.4  614.6    172.2  3971.1  2210.7  575.0    130.5\n",
      "1  1981  4099.7  2280.8  625.3    182.8  4101.0  2240.1  587.6    139.6\n",
      "2  1982  4251.1  2312.1  636.4    194.4  4238.2  2269.4  600.3    149.3\n",
      "3  1983  4406.5  2341.3  646.8    205.9  4380.1  2296.2  612.0    158.9\n",
      "4  1984  4567.1  2369.2  656.2    217.6  4526.1  2321.5  623.7    168.8\n"
     ]
    }
   ],
   "source": [
    "pop_gen_eth = pd.read_csv(r'./Dataset_pop/comb_eth_FM.csv')\n",
    "print(pop_gen_eth.head())"
   ]
  },
  {
   "cell_type": "code",
   "execution_count": 162,
   "metadata": {},
   "outputs": [
    {
     "data": {
      "application/vnd.plotly.v1+json": {
       "config": {
        "plotlyServerURL": "https://plot.ly"
       },
       "data": [
        {
         "marker": {
          "color": [
           "#1f77b4",
           "#ff7f0e",
           "#2ca02c",
           "#d62728",
           "#9467bd",
           "#8c564b",
           "#e377c2",
           "#7f7f7f"
          ]
         },
         "name": "Ethnicity Breakdown for 1980",
         "type": "bar",
         "x": [
          "Bumi Male",
          "Chinese Male",
          "Indian Male",
          "Other Male",
          "Bumi Female",
          "Chinese Female",
          "Indian Female",
          "Other Female"
         ],
         "y": [
          3955.7,
          2249.4,
          614.6,
          172.2,
          3971.1,
          2210.7,
          575,
          130.5
         ]
        }
       ],
       "layout": {
        "font": {
         "color": "white"
        },
        "height": 400,
        "paper_bgcolor": "rgb(30, 30, 30)",
        "plot_bgcolor": "rgb(30, 30, 30)",
        "template": {
         "data": {
          "bar": [
           {
            "error_x": {
             "color": "#2a3f5f"
            },
            "error_y": {
             "color": "#2a3f5f"
            },
            "marker": {
             "line": {
              "color": "#E5ECF6",
              "width": 0.5
             },
             "pattern": {
              "fillmode": "overlay",
              "size": 10,
              "solidity": 0.2
             }
            },
            "type": "bar"
           }
          ],
          "barpolar": [
           {
            "marker": {
             "line": {
              "color": "#E5ECF6",
              "width": 0.5
             },
             "pattern": {
              "fillmode": "overlay",
              "size": 10,
              "solidity": 0.2
             }
            },
            "type": "barpolar"
           }
          ],
          "carpet": [
           {
            "aaxis": {
             "endlinecolor": "#2a3f5f",
             "gridcolor": "white",
             "linecolor": "white",
             "minorgridcolor": "white",
             "startlinecolor": "#2a3f5f"
            },
            "baxis": {
             "endlinecolor": "#2a3f5f",
             "gridcolor": "white",
             "linecolor": "white",
             "minorgridcolor": "white",
             "startlinecolor": "#2a3f5f"
            },
            "type": "carpet"
           }
          ],
          "choropleth": [
           {
            "colorbar": {
             "outlinewidth": 0,
             "ticks": ""
            },
            "type": "choropleth"
           }
          ],
          "contour": [
           {
            "colorbar": {
             "outlinewidth": 0,
             "ticks": ""
            },
            "colorscale": [
             [
              0,
              "#0d0887"
             ],
             [
              0.1111111111111111,
              "#46039f"
             ],
             [
              0.2222222222222222,
              "#7201a8"
             ],
             [
              0.3333333333333333,
              "#9c179e"
             ],
             [
              0.4444444444444444,
              "#bd3786"
             ],
             [
              0.5555555555555556,
              "#d8576b"
             ],
             [
              0.6666666666666666,
              "#ed7953"
             ],
             [
              0.7777777777777778,
              "#fb9f3a"
             ],
             [
              0.8888888888888888,
              "#fdca26"
             ],
             [
              1,
              "#f0f921"
             ]
            ],
            "type": "contour"
           }
          ],
          "contourcarpet": [
           {
            "colorbar": {
             "outlinewidth": 0,
             "ticks": ""
            },
            "type": "contourcarpet"
           }
          ],
          "heatmap": [
           {
            "colorbar": {
             "outlinewidth": 0,
             "ticks": ""
            },
            "colorscale": [
             [
              0,
              "#0d0887"
             ],
             [
              0.1111111111111111,
              "#46039f"
             ],
             [
              0.2222222222222222,
              "#7201a8"
             ],
             [
              0.3333333333333333,
              "#9c179e"
             ],
             [
              0.4444444444444444,
              "#bd3786"
             ],
             [
              0.5555555555555556,
              "#d8576b"
             ],
             [
              0.6666666666666666,
              "#ed7953"
             ],
             [
              0.7777777777777778,
              "#fb9f3a"
             ],
             [
              0.8888888888888888,
              "#fdca26"
             ],
             [
              1,
              "#f0f921"
             ]
            ],
            "type": "heatmap"
           }
          ],
          "heatmapgl": [
           {
            "colorbar": {
             "outlinewidth": 0,
             "ticks": ""
            },
            "colorscale": [
             [
              0,
              "#0d0887"
             ],
             [
              0.1111111111111111,
              "#46039f"
             ],
             [
              0.2222222222222222,
              "#7201a8"
             ],
             [
              0.3333333333333333,
              "#9c179e"
             ],
             [
              0.4444444444444444,
              "#bd3786"
             ],
             [
              0.5555555555555556,
              "#d8576b"
             ],
             [
              0.6666666666666666,
              "#ed7953"
             ],
             [
              0.7777777777777778,
              "#fb9f3a"
             ],
             [
              0.8888888888888888,
              "#fdca26"
             ],
             [
              1,
              "#f0f921"
             ]
            ],
            "type": "heatmapgl"
           }
          ],
          "histogram": [
           {
            "marker": {
             "pattern": {
              "fillmode": "overlay",
              "size": 10,
              "solidity": 0.2
             }
            },
            "type": "histogram"
           }
          ],
          "histogram2d": [
           {
            "colorbar": {
             "outlinewidth": 0,
             "ticks": ""
            },
            "colorscale": [
             [
              0,
              "#0d0887"
             ],
             [
              0.1111111111111111,
              "#46039f"
             ],
             [
              0.2222222222222222,
              "#7201a8"
             ],
             [
              0.3333333333333333,
              "#9c179e"
             ],
             [
              0.4444444444444444,
              "#bd3786"
             ],
             [
              0.5555555555555556,
              "#d8576b"
             ],
             [
              0.6666666666666666,
              "#ed7953"
             ],
             [
              0.7777777777777778,
              "#fb9f3a"
             ],
             [
              0.8888888888888888,
              "#fdca26"
             ],
             [
              1,
              "#f0f921"
             ]
            ],
            "type": "histogram2d"
           }
          ],
          "histogram2dcontour": [
           {
            "colorbar": {
             "outlinewidth": 0,
             "ticks": ""
            },
            "colorscale": [
             [
              0,
              "#0d0887"
             ],
             [
              0.1111111111111111,
              "#46039f"
             ],
             [
              0.2222222222222222,
              "#7201a8"
             ],
             [
              0.3333333333333333,
              "#9c179e"
             ],
             [
              0.4444444444444444,
              "#bd3786"
             ],
             [
              0.5555555555555556,
              "#d8576b"
             ],
             [
              0.6666666666666666,
              "#ed7953"
             ],
             [
              0.7777777777777778,
              "#fb9f3a"
             ],
             [
              0.8888888888888888,
              "#fdca26"
             ],
             [
              1,
              "#f0f921"
             ]
            ],
            "type": "histogram2dcontour"
           }
          ],
          "mesh3d": [
           {
            "colorbar": {
             "outlinewidth": 0,
             "ticks": ""
            },
            "type": "mesh3d"
           }
          ],
          "parcoords": [
           {
            "line": {
             "colorbar": {
              "outlinewidth": 0,
              "ticks": ""
             }
            },
            "type": "parcoords"
           }
          ],
          "pie": [
           {
            "automargin": true,
            "type": "pie"
           }
          ],
          "scatter": [
           {
            "fillpattern": {
             "fillmode": "overlay",
             "size": 10,
             "solidity": 0.2
            },
            "type": "scatter"
           }
          ],
          "scatter3d": [
           {
            "line": {
             "colorbar": {
              "outlinewidth": 0,
              "ticks": ""
             }
            },
            "marker": {
             "colorbar": {
              "outlinewidth": 0,
              "ticks": ""
             }
            },
            "type": "scatter3d"
           }
          ],
          "scattercarpet": [
           {
            "marker": {
             "colorbar": {
              "outlinewidth": 0,
              "ticks": ""
             }
            },
            "type": "scattercarpet"
           }
          ],
          "scattergeo": [
           {
            "marker": {
             "colorbar": {
              "outlinewidth": 0,
              "ticks": ""
             }
            },
            "type": "scattergeo"
           }
          ],
          "scattergl": [
           {
            "marker": {
             "colorbar": {
              "outlinewidth": 0,
              "ticks": ""
             }
            },
            "type": "scattergl"
           }
          ],
          "scattermapbox": [
           {
            "marker": {
             "colorbar": {
              "outlinewidth": 0,
              "ticks": ""
             }
            },
            "type": "scattermapbox"
           }
          ],
          "scatterpolar": [
           {
            "marker": {
             "colorbar": {
              "outlinewidth": 0,
              "ticks": ""
             }
            },
            "type": "scatterpolar"
           }
          ],
          "scatterpolargl": [
           {
            "marker": {
             "colorbar": {
              "outlinewidth": 0,
              "ticks": ""
             }
            },
            "type": "scatterpolargl"
           }
          ],
          "scatterternary": [
           {
            "marker": {
             "colorbar": {
              "outlinewidth": 0,
              "ticks": ""
             }
            },
            "type": "scatterternary"
           }
          ],
          "surface": [
           {
            "colorbar": {
             "outlinewidth": 0,
             "ticks": ""
            },
            "colorscale": [
             [
              0,
              "#0d0887"
             ],
             [
              0.1111111111111111,
              "#46039f"
             ],
             [
              0.2222222222222222,
              "#7201a8"
             ],
             [
              0.3333333333333333,
              "#9c179e"
             ],
             [
              0.4444444444444444,
              "#bd3786"
             ],
             [
              0.5555555555555556,
              "#d8576b"
             ],
             [
              0.6666666666666666,
              "#ed7953"
             ],
             [
              0.7777777777777778,
              "#fb9f3a"
             ],
             [
              0.8888888888888888,
              "#fdca26"
             ],
             [
              1,
              "#f0f921"
             ]
            ],
            "type": "surface"
           }
          ],
          "table": [
           {
            "cells": {
             "fill": {
              "color": "#EBF0F8"
             },
             "line": {
              "color": "white"
             }
            },
            "header": {
             "fill": {
              "color": "#C8D4E3"
             },
             "line": {
              "color": "white"
             }
            },
            "type": "table"
           }
          ]
         },
         "layout": {
          "annotationdefaults": {
           "arrowcolor": "#2a3f5f",
           "arrowhead": 0,
           "arrowwidth": 1
          },
          "autotypenumbers": "strict",
          "coloraxis": {
           "colorbar": {
            "outlinewidth": 0,
            "ticks": ""
           }
          },
          "colorscale": {
           "diverging": [
            [
             0,
             "#8e0152"
            ],
            [
             0.1,
             "#c51b7d"
            ],
            [
             0.2,
             "#de77ae"
            ],
            [
             0.3,
             "#f1b6da"
            ],
            [
             0.4,
             "#fde0ef"
            ],
            [
             0.5,
             "#f7f7f7"
            ],
            [
             0.6,
             "#e6f5d0"
            ],
            [
             0.7,
             "#b8e186"
            ],
            [
             0.8,
             "#7fbc41"
            ],
            [
             0.9,
             "#4d9221"
            ],
            [
             1,
             "#276419"
            ]
           ],
           "sequential": [
            [
             0,
             "#0d0887"
            ],
            [
             0.1111111111111111,
             "#46039f"
            ],
            [
             0.2222222222222222,
             "#7201a8"
            ],
            [
             0.3333333333333333,
             "#9c179e"
            ],
            [
             0.4444444444444444,
             "#bd3786"
            ],
            [
             0.5555555555555556,
             "#d8576b"
            ],
            [
             0.6666666666666666,
             "#ed7953"
            ],
            [
             0.7777777777777778,
             "#fb9f3a"
            ],
            [
             0.8888888888888888,
             "#fdca26"
            ],
            [
             1,
             "#f0f921"
            ]
           ],
           "sequentialminus": [
            [
             0,
             "#0d0887"
            ],
            [
             0.1111111111111111,
             "#46039f"
            ],
            [
             0.2222222222222222,
             "#7201a8"
            ],
            [
             0.3333333333333333,
             "#9c179e"
            ],
            [
             0.4444444444444444,
             "#bd3786"
            ],
            [
             0.5555555555555556,
             "#d8576b"
            ],
            [
             0.6666666666666666,
             "#ed7953"
            ],
            [
             0.7777777777777778,
             "#fb9f3a"
            ],
            [
             0.8888888888888888,
             "#fdca26"
            ],
            [
             1,
             "#f0f921"
            ]
           ]
          },
          "colorway": [
           "#636efa",
           "#EF553B",
           "#00cc96",
           "#ab63fa",
           "#FFA15A",
           "#19d3f3",
           "#FF6692",
           "#B6E880",
           "#FF97FF",
           "#FECB52"
          ],
          "font": {
           "color": "#2a3f5f"
          },
          "geo": {
           "bgcolor": "white",
           "lakecolor": "white",
           "landcolor": "#E5ECF6",
           "showlakes": true,
           "showland": true,
           "subunitcolor": "white"
          },
          "hoverlabel": {
           "align": "left"
          },
          "hovermode": "closest",
          "mapbox": {
           "style": "light"
          },
          "paper_bgcolor": "white",
          "plot_bgcolor": "#E5ECF6",
          "polar": {
           "angularaxis": {
            "gridcolor": "white",
            "linecolor": "white",
            "ticks": ""
           },
           "bgcolor": "#E5ECF6",
           "radialaxis": {
            "gridcolor": "white",
            "linecolor": "white",
            "ticks": ""
           }
          },
          "scene": {
           "xaxis": {
            "backgroundcolor": "#E5ECF6",
            "gridcolor": "white",
            "gridwidth": 2,
            "linecolor": "white",
            "showbackground": true,
            "ticks": "",
            "zerolinecolor": "white"
           },
           "yaxis": {
            "backgroundcolor": "#E5ECF6",
            "gridcolor": "white",
            "gridwidth": 2,
            "linecolor": "white",
            "showbackground": true,
            "ticks": "",
            "zerolinecolor": "white"
           },
           "zaxis": {
            "backgroundcolor": "#E5ECF6",
            "gridcolor": "white",
            "gridwidth": 2,
            "linecolor": "white",
            "showbackground": true,
            "ticks": "",
            "zerolinecolor": "white"
           }
          },
          "shapedefaults": {
           "line": {
            "color": "#2a3f5f"
           }
          },
          "ternary": {
           "aaxis": {
            "gridcolor": "white",
            "linecolor": "white",
            "ticks": ""
           },
           "baxis": {
            "gridcolor": "white",
            "linecolor": "white",
            "ticks": ""
           },
           "bgcolor": "#E5ECF6",
           "caxis": {
            "gridcolor": "white",
            "linecolor": "white",
            "ticks": ""
           }
          },
          "title": {
           "x": 0.05
          },
          "xaxis": {
           "automargin": true,
           "gridcolor": "white",
           "linecolor": "white",
           "ticks": "",
           "title": {
            "standoff": 15
           },
           "zerolinecolor": "white",
           "zerolinewidth": 2
          },
          "yaxis": {
           "automargin": true,
           "gridcolor": "white",
           "linecolor": "white",
           "ticks": "",
           "title": {
            "standoff": 15
           },
           "zerolinecolor": "white",
           "zerolinewidth": 2
          }
         }
        },
        "title": {
         "text": "Ethnicity Breakdown by Year",
         "x": 0.5
        },
        "updatemenus": [
         {
          "buttons": [
           {
            "args": [
             {
              "type": "bar",
              "x": [
               [
                "Bumi Male",
                "Chinese Male",
                "Indian Male",
                "Other Male",
                "Bumi Female",
                "Chinese Female",
                "Indian Female",
                "Other Female"
               ]
              ],
              "y": [
               [
                3955.7,
                2249.4,
                614.6,
                172.2,
                3971.1,
                2210.7,
                575,
                130.5
               ]
              ]
             },
             {
              "title": "Ethnicity Breakdown for 1980"
             }
            ],
            "label": "1980",
            "method": "update"
           },
           {
            "args": [
             {
              "type": "bar",
              "x": [
               [
                "Bumi Male",
                "Chinese Male",
                "Indian Male",
                "Other Male",
                "Bumi Female",
                "Chinese Female",
                "Indian Female",
                "Other Female"
               ]
              ],
              "y": [
               [
                4099.7,
                2280.8,
                625.3,
                182.8,
                4101,
                2240.1,
                587.6,
                139.6
               ]
              ]
             },
             {
              "title": "Ethnicity Breakdown for 1981"
             }
            ],
            "label": "1981",
            "method": "update"
           },
           {
            "args": [
             {
              "type": "bar",
              "x": [
               [
                "Bumi Male",
                "Chinese Male",
                "Indian Male",
                "Other Male",
                "Bumi Female",
                "Chinese Female",
                "Indian Female",
                "Other Female"
               ]
              ],
              "y": [
               [
                4251.1,
                2312.1,
                636.4,
                194.4,
                4238.2,
                2269.4,
                600.3,
                149.3
               ]
              ]
             },
             {
              "title": "Ethnicity Breakdown for 1982"
             }
            ],
            "label": "1982",
            "method": "update"
           },
           {
            "args": [
             {
              "type": "bar",
              "x": [
               [
                "Bumi Male",
                "Chinese Male",
                "Indian Male",
                "Other Male",
                "Bumi Female",
                "Chinese Female",
                "Indian Female",
                "Other Female"
               ]
              ],
              "y": [
               [
                4406.5,
                2341.3,
                646.8,
                205.9,
                4380.1,
                2296.2,
                612,
                158.9
               ]
              ]
             },
             {
              "title": "Ethnicity Breakdown for 1983"
             }
            ],
            "label": "1983",
            "method": "update"
           },
           {
            "args": [
             {
              "type": "bar",
              "x": [
               [
                "Bumi Male",
                "Chinese Male",
                "Indian Male",
                "Other Male",
                "Bumi Female",
                "Chinese Female",
                "Indian Female",
                "Other Female"
               ]
              ],
              "y": [
               [
                4567.1,
                2369.2,
                656.2,
                217.6,
                4526.1,
                2321.5,
                623.7,
                168.8
               ]
              ]
             },
             {
              "title": "Ethnicity Breakdown for 1984"
             }
            ],
            "label": "1984",
            "method": "update"
           },
           {
            "args": [
             {
              "type": "bar",
              "x": [
               [
                "Bumi Male",
                "Chinese Male",
                "Indian Male",
                "Other Male",
                "Bumi Female",
                "Chinese Female",
                "Indian Female",
                "Other Female"
               ]
              ],
              "y": [
               [
                4739.3,
                2398.3,
                666,
                229.5,
                4686.4,
                2348.9,
                635.6,
                179
               ]
              ]
             },
             {
              "title": "Ethnicity Breakdown for 1985"
             }
            ],
            "label": "1985",
            "method": "update"
           },
           {
            "args": [
             {
              "type": "bar",
              "x": [
               [
                "Bumi Male",
                "Chinese Male",
                "Indian Male",
                "Other Male",
                "Bumi Female",
                "Chinese Female",
                "Indian Female",
                "Other Female"
               ]
              ],
              "y": [
               [
                4919.8,
                2426.4,
                676.1,
                241.9,
                4854.1,
                2374,
                647.6,
                189.3
               ]
              ]
             },
             {
              "title": "Ethnicity Breakdown for 1986"
             }
            ],
            "label": "1986",
            "method": "update"
           },
           {
            "args": [
             {
              "type": "bar",
              "x": [
               [
                "Bumi Male",
                "Chinese Male",
                "Indian Male",
                "Other Male",
                "Bumi Female",
                "Chinese Female",
                "Indian Female",
                "Other Female"
               ]
              ],
              "y": [
               [
                5103.9,
                2450.5,
                686.6,
                253.9,
                5024.1,
                2394.8,
                660.3,
                199.8
               ]
              ]
             },
             {
              "title": "Ethnicity Breakdown for 1987"
             }
            ],
            "label": "1987",
            "method": "update"
           },
           {
            "args": [
             {
              "type": "bar",
              "x": [
               [
                "Bumi Male",
                "Chinese Male",
                "Indian Male",
                "Other Male",
                "Bumi Female",
                "Chinese Female",
                "Indian Female",
                "Other Female"
               ]
              ],
              "y": [
               [
                5287,
                2475.8,
                696.4,
                266.5,
                5193.5,
                2417.4,
                671.6,
                210.5
               ]
              ]
             },
             {
              "title": "Ethnicity Breakdown for 1988"
             }
            ],
            "label": "1988",
            "method": "update"
           },
           {
            "args": [
             {
              "type": "bar",
              "x": [
               [
                "Bumi Male",
                "Chinese Male",
                "Indian Male",
                "Other Male",
                "Bumi Female",
                "Chinese Female",
                "Indian Female",
                "Other Female"
               ]
              ],
              "y": [
               [
                5465.9,
                2505,
                705.4,
                280.2,
                5358.8,
                2443.2,
                682.2,
                221.4
               ]
              ]
             },
             {
              "title": "Ethnicity Breakdown for 1989"
             }
            ],
            "label": "1989",
            "method": "update"
           },
           {
            "args": [
             {
              "type": "bar",
              "x": [
               [
                "Bumi Male",
                "Chinese Male",
                "Indian Male",
                "Other Male",
                "Bumi Female",
                "Chinese Female",
                "Indian Female",
                "Other Female"
               ]
              ],
              "y": [
               [
                5650,
                2526.6,
                715.1,
                293.3,
                5528.4,
                2463.1,
                693.4,
                232
               ]
              ]
             },
             {
              "title": "Ethnicity Breakdown for 1990"
             }
            ],
            "label": "1990",
            "method": "update"
           },
           {
            "args": [
             {
              "type": "bar",
              "x": [
               [
                "Bumi Male",
                "Chinese Male",
                "Indian Male",
                "Other Male",
                "Bumi Female",
                "Chinese Female",
                "Indian Female",
                "Other Female"
               ]
              ],
              "y": [
               [
                5590.4,
                2545.1,
                709.9,
                98.2,
                5531.5,
                2475.9,
                696.9,
                96.5
               ]
              ]
             },
             {
              "title": "Ethnicity Breakdown for 1991"
             }
            ],
            "label": "1991",
            "method": "update"
           },
           {
            "args": [
             {
              "type": "bar",
              "x": [
               [
                "Bumi Male",
                "Chinese Male",
                "Indian Male",
                "Other Male",
                "Bumi Female",
                "Chinese Female",
                "Indian Female",
                "Other Female"
               ]
              ],
              "y": [
               [
                5762.7,
                2588.6,
                725.2,
                105.7,
                5695.6,
                2510.2,
                713,
                103.5
               ]
              ]
             },
             {
              "title": "Ethnicity Breakdown for 1992"
             }
            ],
            "label": "1992",
            "method": "update"
           },
           {
            "args": [
             {
              "type": "bar",
              "x": [
               [
                "Bumi Male",
                "Chinese Male",
                "Indian Male",
                "Other Male",
                "Bumi Female",
                "Chinese Female",
                "Indian Female",
                "Other Female"
               ]
              ],
              "y": [
               [
                5939.5,
                2633.6,
                740.8,
                111.2,
                5864.2,
                2547.7,
                729.3,
                108.5
               ]
              ]
             },
             {
              "title": "Ethnicity Breakdown for 1993"
             }
            ],
            "label": "1993",
            "method": "update"
           },
           {
            "args": [
             {
              "type": "bar",
              "x": [
               [
                "Bumi Male",
                "Chinese Male",
                "Indian Male",
                "Other Male",
                "Bumi Female",
                "Chinese Female",
                "Indian Female",
                "Other Female"
               ]
              ],
              "y": [
               [
                6118.5,
                2679.2,
                756.2,
                115.6,
                6036,
                2585.1,
                745.7,
                112.9
               ]
              ]
             },
             {
              "title": "Ethnicity Breakdown for 1994"
             }
            ],
            "label": "1994",
            "method": "update"
           },
           {
            "args": [
             {
              "type": "bar",
              "x": [
               [
                "Bumi Male",
                "Chinese Male",
                "Indian Male",
                "Other Male",
                "Bumi Female",
                "Chinese Female",
                "Indian Female",
                "Other Female"
               ]
              ],
              "y": [
               [
                6298.8,
                2724.3,
                770.6,
                119.7,
                6210.1,
                2621.5,
                761.7,
                116.8
               ]
              ]
             },
             {
              "title": "Ethnicity Breakdown for 1995"
             }
            ],
            "label": "1995",
            "method": "update"
           },
           {
            "args": [
             {
              "type": "bar",
              "x": [
               [
                "Bumi Male",
                "Chinese Male",
                "Indian Male",
                "Other Male",
                "Bumi Female",
                "Chinese Female",
                "Indian Female",
                "Other Female"
               ]
              ],
              "y": [
               [
                6480.2,
                2768.4,
                786.1,
                123.3,
                6385.1,
                2657.8,
                777.3,
                120.5
               ]
              ]
             },
             {
              "title": "Ethnicity Breakdown for 1996"
             }
            ],
            "label": "1996",
            "method": "update"
           },
           {
            "args": [
             {
              "type": "bar",
              "x": [
               [
                "Bumi Male",
                "Chinese Male",
                "Indian Male",
                "Other Male",
                "Bumi Female",
                "Chinese Female",
                "Indian Female",
                "Other Female"
               ]
              ],
              "y": [
               [
                6662.9,
                2812.7,
                801,
                127,
                6562.2,
                2693.9,
                793.4,
                124.5
               ]
              ]
             },
             {
              "title": "Ethnicity Breakdown for 1997"
             }
            ],
            "label": "1997",
            "method": "update"
           },
           {
            "args": [
             {
              "type": "bar",
              "x": [
               [
                "Bumi Male",
                "Chinese Male",
                "Indian Male",
                "Other Male",
                "Bumi Female",
                "Chinese Female",
                "Indian Female",
                "Other Female"
               ]
              ],
              "y": [
               [
                6851.8,
                2857.7,
                816.8,
                130.5,
                6745.1,
                2731.3,
                810,
                128.8
               ]
              ]
             },
             {
              "title": "Ethnicity Breakdown for 1998"
             }
            ],
            "label": "1998",
            "method": "update"
           },
           {
            "args": [
             {
              "type": "bar",
              "x": [
               [
                "Bumi Male",
                "Chinese Male",
                "Indian Male",
                "Other Male",
                "Bumi Female",
                "Chinese Female",
                "Indian Female",
                "Other Female"
               ]
              ],
              "y": [
               [
                7041.1,
                2904,
                832.9,
                134.5,
                6930.6,
                2770.7,
                828,
                133
               ]
              ]
             },
             {
              "title": "Ethnicity Breakdown for 1999"
             }
            ],
            "label": "1999",
            "method": "update"
           },
           {
            "args": [
             {
              "type": "bar",
              "x": [
               [
                "Bumi Male",
                "Chinese Male",
                "Indian Male",
                "Other Male",
                "Bumi Female",
                "Chinese Female",
                "Indian Female",
                "Other Female"
               ]
              ],
              "y": [
               [
                7231.4,
                2950.5,
                850.3,
                137.9,
                7117.9,
                2811.4,
                845.7,
                136.7
               ]
              ]
             },
             {
              "title": "Ethnicity Breakdown for 2000"
             }
            ],
            "label": "2000",
            "method": "update"
           },
           {
            "args": [
             {
              "type": "bar",
              "x": [
               [
                "Bumi Male",
                "Chinese Male",
                "Indian Male",
                "Other Male",
                "Bumi Female",
                "Chinese Female",
                "Indian Female",
                "Other Female"
               ]
              ],
              "y": [
               [
                7397,
                2997.9,
                864.1,
                138.9,
                7277.3,
                2851.4,
                859,
                137
               ]
              ]
             },
             {
              "title": "Ethnicity Breakdown for 2001"
             }
            ],
            "label": "2001",
            "method": "update"
           },
           {
            "args": [
             {
              "type": "bar",
              "x": [
               [
                "Bumi Male",
                "Chinese Male",
                "Indian Male",
                "Other Male",
                "Bumi Female",
                "Chinese Female",
                "Indian Female",
                "Other Female"
               ]
              ],
              "y": [
               [
                7560.2,
                3037.9,
                877,
                139.4,
                7434.1,
                2885,
                871.2,
                137.2
               ]
              ]
             },
             {
              "title": "Ethnicity Breakdown for 2002"
             }
            ],
            "label": "2002",
            "method": "update"
           },
           {
            "args": [
             {
              "type": "bar",
              "x": [
               [
                "Bumi Male",
                "Chinese Male",
                "Indian Male",
                "Other Male",
                "Bumi Female",
                "Chinese Female",
                "Indian Female",
                "Other Female"
               ]
              ],
              "y": [
               [
                7718.1,
                3077.1,
                889.3,
                140.1,
                7586,
                2916.9,
                882.8,
                137.1
               ]
              ]
             },
             {
              "title": "Ethnicity Breakdown for 2003"
             }
            ],
            "label": "2003",
            "method": "update"
           },
           {
            "args": [
             {
              "type": "bar",
              "x": [
               [
                "Bumi Male",
                "Chinese Male",
                "Indian Male",
                "Other Male",
                "Bumi Female",
                "Chinese Female",
                "Indian Female",
                "Other Female"
               ]
              ],
              "y": [
               [
                7877.6,
                3113.5,
                901.4,
                140.4,
                7746.2,
                2948,
                895.5,
                137
               ]
              ]
             },
             {
              "title": "Ethnicity Breakdown for 2004"
             }
            ],
            "label": "2004",
            "method": "update"
           },
           {
            "args": [
             {
              "type": "bar",
              "x": [
               [
                "Bumi Male",
                "Chinese Male",
                "Indian Male",
                "Other Male",
                "Bumi Female",
                "Chinese Female",
                "Indian Female",
                "Other Female"
               ]
              ],
              "y": [
               [
                8041.6,
                3149.4,
                912.7,
                140.7,
                7905.3,
                2977.9,
                906.5,
                136.8
               ]
              ]
             },
             {
              "title": "Ethnicity Breakdown for 2005"
             }
            ],
            "label": "2005",
            "method": "update"
           },
           {
            "args": [
             {
              "type": "bar",
              "x": [
               [
                "Bumi Male",
                "Chinese Male",
                "Indian Male",
                "Other Male",
                "Bumi Female",
                "Chinese Female",
                "Indian Female",
                "Other Female"
               ]
              ],
              "y": [
               [
                8206.7,
                3184.1,
                924.3,
                141.2,
                8066.9,
                3007.2,
                917.2,
                136.8
               ]
              ]
             },
             {
              "title": "Ethnicity Breakdown for 2006"
             }
            ],
            "label": "2006",
            "method": "update"
           },
           {
            "args": [
             {
              "type": "bar",
              "x": [
               [
                "Bumi Male",
                "Chinese Male",
                "Indian Male",
                "Other Male",
                "Bumi Female",
                "Chinese Female",
                "Indian Female",
                "Other Female"
               ]
              ],
              "y": [
               [
                8375,
                3218.7,
                934.8,
                142,
                8232.3,
                3035.1,
                927.7,
                137.3
               ]
              ]
             },
             {
              "title": "Ethnicity Breakdown for 2007"
             }
            ],
            "label": "2007",
            "method": "update"
           },
           {
            "args": [
             {
              "type": "bar",
              "x": [
               [
                "Bumi Male",
                "Chinese Male",
                "Indian Male",
                "Other Male",
                "Bumi Female",
                "Chinese Female",
                "Indian Female",
                "Other Female"
               ]
              ],
              "y": [
               [
                8544.1,
                3251.9,
                945.8,
                143.3,
                8398.9,
                3062.8,
                938.2,
                137.7
               ]
              ]
             },
             {
              "title": "Ethnicity Breakdown for 2008"
             }
            ],
            "label": "2008",
            "method": "update"
           },
           {
            "args": [
             {
              "type": "bar",
              "x": [
               [
                "Bumi Male",
                "Chinese Male",
                "Indian Male",
                "Other Male",
                "Bumi Female",
                "Chinese Female",
                "Indian Female",
                "Other Female"
               ]
              ],
              "y": [
               [
                8720.7,
                3283.6,
                956.3,
                142,
                8572.2,
                3089.2,
                948.2,
                136.1
               ]
              ]
             },
             {
              "title": "Ethnicity Breakdown for 2009"
             }
            ],
            "label": "2009",
            "method": "update"
           },
           {
            "args": [
             {
              "type": "bar",
              "x": [
               [
                "Bumi Male",
                "Chinese Male",
                "Indian Male",
                "Other Male",
                "Bumi Female",
                "Chinese Female",
                "Indian Female",
                "Other Female"
               ]
              ],
              "y": [
               [
                8915,
                3314.1,
                966.1,
                118.9,
                8761.3,
                3116.4,
                958.7,
                113.1
               ]
              ]
             },
             {
              "title": "Ethnicity Breakdown for 2010"
             }
            ],
            "label": "2010",
            "method": "update"
           },
           {
            "args": [
             {
              "type": "bar",
              "x": [
               [
                "Bumi Male",
                "Chinese Male",
                "Indian Male",
                "Other Male",
                "Bumi Female",
                "Chinese Female",
                "Indian Female",
                "Other Female"
               ]
              ],
              "y": [
               [
                9058.3,
                3333.9,
                973.1,
                123.7,
                8905.9,
                3137.3,
                966.8,
                118
               ]
              ]
             },
             {
              "title": "Ethnicity Breakdown for 2011"
             }
            ],
            "label": "2011",
            "method": "update"
           },
           {
            "args": [
             {
              "type": "bar",
              "x": [
               [
                "Bumi Male",
                "Chinese Male",
                "Indian Male",
                "Other Male",
                "Bumi Female",
                "Chinese Female",
                "Indian Female",
                "Other Female"
               ]
              ],
              "y": [
               [
                9203.3,
                3352.2,
                978.3,
                127.5,
                9046.6,
                3158.5,
                973.6,
                121.4
               ]
              ]
             },
             {
              "title": "Ethnicity Breakdown for 2012"
             }
            ],
            "label": "2012",
            "method": "update"
           },
           {
            "args": [
             {
              "type": "bar",
              "x": [
               [
                "Bumi Male",
                "Chinese Male",
                "Indian Male",
                "Other Male",
                "Bumi Female",
                "Chinese Female",
                "Indian Female",
                "Other Female"
               ]
              ],
              "y": [
               [
                9354.3,
                3372.8,
                983.6,
                131.4,
                9194.9,
                3181.7,
                981.6,
                125.4
               ]
              ]
             },
             {
              "title": "Ethnicity Breakdown for 2013"
             }
            ],
            "label": "2013",
            "method": "update"
           },
           {
            "args": [
             {
              "type": "bar",
              "x": [
               [
                "Bumi Male",
                "Chinese Male",
                "Indian Male",
                "Other Male",
                "Bumi Female",
                "Chinese Female",
                "Indian Female",
                "Other Female"
               ]
              ],
              "y": [
               [
                9513.2,
                3387,
                987.8,
                136.2,
                9353.5,
                3199.1,
                989.7,
                129.6
               ]
              ]
             },
             {
              "title": "Ethnicity Breakdown for 2014"
             }
            ],
            "label": "2014",
            "method": "update"
           },
           {
            "args": [
             {
              "type": "bar",
              "x": [
               [
                "Bumi Male",
                "Chinese Male",
                "Indian Male",
                "Other Male",
                "Bumi Female",
                "Chinese Female",
                "Indian Female",
                "Other Female"
               ]
              ],
              "y": [
               [
                9668.8,
                3401.8,
                990.8,
                139.6,
                9513.9,
                3217.1,
                995.5,
                132.6
               ]
              ]
             },
             {
              "title": "Ethnicity Breakdown for 2015"
             }
            ],
            "label": "2015",
            "method": "update"
           },
           {
            "args": [
             {
              "type": "bar",
              "x": [
               [
                "Bumi Male",
                "Chinese Male",
                "Indian Male",
                "Other Male",
                "Bumi Female",
                "Chinese Female",
                "Indian Female",
                "Other Female"
               ]
              ],
              "y": [
               [
                9822.8,
                3413.6,
                991.6,
                144.2,
                9662.4,
                3232.2,
                1000,
                136.5
               ]
              ]
             },
             {
              "title": "Ethnicity Breakdown for 2016"
             }
            ],
            "label": "2016",
            "method": "update"
           },
           {
            "args": [
             {
              "type": "bar",
              "x": [
               [
                "Bumi Male",
                "Chinese Male",
                "Indian Male",
                "Other Male",
                "Bumi Female",
                "Chinese Female",
                "Indian Female",
                "Other Female"
               ]
              ],
              "y": [
               [
                9969.5,
                3421.4,
                994.9,
                147.6,
                9811.5,
                3243.7,
                1006.1,
                140.4
               ]
              ]
             },
             {
              "title": "Ethnicity Breakdown for 2017"
             }
            ],
            "label": "2017",
            "method": "update"
           },
           {
            "args": [
             {
              "type": "bar",
              "x": [
               [
                "Bumi Male",
                "Chinese Male",
                "Indian Male",
                "Other Male",
                "Bumi Female",
                "Chinese Female",
                "Indian Female",
                "Other Female"
               ]
              ],
              "y": [
               [
                10116.2,
                3427.4,
                997.5,
                150.6,
                9959.5,
                3254.8,
                1010.7,
                143.2
               ]
              ]
             },
             {
              "title": "Ethnicity Breakdown for 2018"
             }
            ],
            "label": "2018",
            "method": "update"
           },
           {
            "args": [
             {
              "type": "bar",
              "x": [
               [
                "Bumi Male",
                "Chinese Male",
                "Indian Male",
                "Other Male",
                "Bumi Female",
                "Chinese Female",
                "Indian Female",
                "Other Female"
               ]
              ],
              "y": [
               [
                10262.7,
                3433.5,
                999.9,
                153.7,
                10106.8,
                3265.3,
                1015,
                146.1
               ]
              ]
             },
             {
              "title": "Ethnicity Breakdown for 2019"
             }
            ],
            "label": "2019",
            "method": "update"
           },
           {
            "args": [
             {
              "type": "bar",
              "x": [
               [
                "Bumi Male",
                "Chinese Male",
                "Indian Male",
                "Other Male",
                "Bumi Female",
                "Chinese Female",
                "Indian Female",
                "Other Female"
               ]
              ],
              "y": [
               [
                10452,
                3517.8,
                1007.6,
                116.7,
                10197.7,
                3374.7,
                991.6,
                98.7
               ]
              ]
             },
             {
              "title": "Ethnicity Breakdown for 2020"
             }
            ],
            "label": "2020",
            "method": "update"
           },
           {
            "args": [
             {
              "type": "bar",
              "x": [
               [
                "Bumi Male",
                "Chinese Male",
                "Indian Male",
                "Other Male",
                "Bumi Female",
                "Chinese Female",
                "Indian Female",
                "Other Female"
               ]
              ],
              "y": [
               [
                10580.4,
                3514.2,
                1008,
                118.9,
                10322,
                3377.7,
                994.6,
                101.2
               ]
              ]
             },
             {
              "title": "Ethnicity Breakdown for 2021"
             }
            ],
            "label": "2021",
            "method": "update"
           },
           {
            "args": [
             {
              "type": "bar",
              "x": [
               [
                "Bumi Male",
                "Chinese Male",
                "Indian Male",
                "Other Male",
                "Bumi Female",
                "Chinese Female",
                "Indian Female",
                "Other Female"
               ]
              ],
              "y": [
               [
                10677.3,
                3501,
                1005.1,
                120.2,
                10424.7,
                3372.6,
                994.9,
                102.9
               ]
              ]
             },
             {
              "title": "Ethnicity Breakdown for 2022"
             }
            ],
            "label": "2022",
            "method": "update"
           },
           {
            "args": [
             {
              "type": "bar",
              "x": [
               [
                "Bumi Male",
                "Chinese Male",
                "Indian Male",
                "Other Male",
                "Bumi Female",
                "Chinese Female",
                "Indian Female",
                "Other Female"
               ]
              ],
              "y": [
               [
                10787,
                3491.7,
                1004.2,
                121.9,
                10538.5,
                3370.6,
                996.8,
                104.4
               ]
              ]
             },
             {
              "title": "Ethnicity Breakdown for 2023"
             }
            ],
            "label": "2023",
            "method": "update"
           }
          ],
          "type": "dropdown",
          "x": 1,
          "xanchor": "right",
          "y": 1.15,
          "yanchor": "top"
         }
        ],
        "width": 550,
        "xaxis": {
         "color": "white",
         "showgrid": false,
         "title": {
          "text": "Ethnicity"
         }
        },
        "yaxis": {
         "color": "white",
         "gridcolor": "rgb(50, 50, 50)",
         "showgrid": true,
         "title": {
          "text": "Population"
         }
        }
       }
      }
     },
     "metadata": {},
     "output_type": "display_data"
    }
   ],
   "source": [
    "import plotly.graph_objects as go\n",
    "import pandas as pd\n",
    "\n",
    "# Load the data\n",
    "pop_gen_eth = pd.read_csv(r'./Dataset_pop/comb_eth_FM.csv')\n",
    "\n",
    "# Create a figure\n",
    "fig = go.Figure()\n",
    "\n",
    "# Create a bar chart for the first year as a starting point\n",
    "default_year = pop_gen_eth['Year'].iloc[0]  # Starting year (e.g., the first year in the dataset)\n",
    "ethnicities = ['Bumi_M', 'Chi_M', 'Ind_M', 'Other_M', 'Bumi_F', 'Chi_F', 'Ind_F', 'Other_F']\n",
    "ethnicity_labels = ['Bumi Male', 'Chinese Male', 'Indian Male', 'Other Male', \n",
    "                    'Bumi Female', 'Chinese Female', 'Indian Female', 'Other Female']\n",
    "\n",
    "# Initialize the bars for the first year\n",
    "bar_values = pop_gen_eth[pop_gen_eth['Year'] == default_year][ethnicities].values.flatten()\n",
    "\n",
    "# Define custom colors for each ethnicity\n",
    "colors = ['#1f77b4', '#ff7f0e', '#2ca02c', '#d62728', '#9467bd', '#8c564b', '#e377c2', '#7f7f7f']  # List of colors\n",
    "\n",
    "# Add the bar chart for the initial year with custom colors\n",
    "fig.add_trace(go.Bar(\n",
    "    x=ethnicity_labels,\n",
    "    y=bar_values,\n",
    "    name=f\"Ethnicity Breakdown for {default_year}\",\n",
    "    marker=dict(color=colors)  # Set custom colors for the bars\n",
    "))\n",
    "\n",
    "# Create dropdown buttons for each year\n",
    "buttons = []\n",
    "\n",
    "# Create a button for each unique year\n",
    "for year in pop_gen_eth['Year'].unique():\n",
    "    bar_values = pop_gen_eth[pop_gen_eth['Year'] == year][ethnicities].values.flatten()  # Values for the selected year\n",
    "    buttons.append(\n",
    "        {'label': f'{year}', \n",
    "         'method': 'update', \n",
    "         'args': [{'type': 'bar', 'x': [ethnicity_labels], 'y': [bar_values]},\n",
    "                  {'title': f'Ethnicity Breakdown for {year}'}]}\n",
    "    )\n",
    "\n",
    "# Add the dropdown to the layout\n",
    "fig.update_layout(\n",
    "    updatemenus=[dict(\n",
    "        type=\"dropdown\",\n",
    "        x=1,\n",
    "        xanchor=\"right\",\n",
    "        y=1.15,\n",
    "        yanchor=\"top\",\n",
    "        buttons=buttons,\n",
    "    )],\n",
    "    title=\"Ethnicity Breakdown by Year\",\n",
    "    title_x=0.5,\n",
    "    xaxis_title=\"Ethnicity\",\n",
    "    yaxis_title=\"Population\",\n",
    "    height=400,\n",
    "    width=550,\n",
    "    # Dark mode settings\n",
    "    plot_bgcolor='rgb(30, 30, 30)',  # Dark background\n",
    "    paper_bgcolor='rgb(30, 30, 30)',  # Dark background for the paper\n",
    "    font=dict(color='white'),  # White font color for better visibility\n",
    "    \n",
    "    xaxis=dict(\n",
    "        showgrid=False,  # Hide gridlines for a cleaner look\n",
    "        color='white'    # White color for the x-axis labels\n",
    "    ),\n",
    "    yaxis=dict(\n",
    "        showgrid=True,   # Show gridlines\n",
    "        gridcolor='rgb(50, 50, 50)',  # Dark gridlines\n",
    "        color='white'    # White color for the y-axis labels\n",
    "    ),\n",
    ")\n",
    "\n",
    "fig.show()\n",
    "\n"
   ]
  },
  {
   "cell_type": "code",
   "execution_count": 149,
   "metadata": {},
   "outputs": [
    {
     "name": "stdout",
     "output_type": "stream",
     "text": [
      "Index(['State', 'Year', 'Total_pop', 'Tot_Male', 'Tot_Fem', 'Bumi_M', 'Chi_M',\n",
      "       'Ind_M', 'Other_M', 'Bumi_F', 'Chi_F', 'Ind_F', 'Other_F'],\n",
      "      dtype='object')\n",
      "        State  Year  Total_pop  Tot_Male  Tot_Fem  Bumi_M  Chi_M  Ind_M  \\\n",
      "0  Terengganu  1980      541.7     271.0    270.7   253.9   14.5    1.7   \n",
      "1  Terengganu  1981      560.8     281.9    278.8   264.3   14.6    1.7   \n",
      "2  Terengganu  1982      581.4     293.7    287.8   275.4   14.7    1.7   \n",
      "3  Terengganu  1983      602.9     305.7    297.3   286.9   14.8    1.6   \n",
      "4  Terengganu  1984      625.8     318.2    307.6   298.8   15.0    1.6   \n",
      "\n",
      "   Other_M  Bumi_F  Chi_F  Ind_F  Other_F  \n",
      "0      0.8   257.0   12.4    1.0      0.4  \n",
      "1      1.3   264.7   12.5    1.0      0.7  \n",
      "2      1.8   273.1   12.6    1.0      1.0  \n",
      "3      2.3   282.2   12.7    1.0      1.3  \n",
      "4      2.8   292.1   12.8    1.1      1.6  \n"
     ]
    }
   ],
   "source": [
    "state_eth_gen = pd.read_excel(r\"./Dataset_pop/comb_state_ethno_gen.xlsx\")\n",
    "print(state_eth_gen.columns)\n",
    "print(state_eth_gen.head())"
   ]
  },
  {
   "cell_type": "code",
   "execution_count": 3,
   "metadata": {},
   "outputs": [
    {
     "data": {
      "text/html": [
       "<div>\n",
       "<style scoped>\n",
       "    .dataframe tbody tr th:only-of-type {\n",
       "        vertical-align: middle;\n",
       "    }\n",
       "\n",
       "    .dataframe tbody tr th {\n",
       "        vertical-align: top;\n",
       "    }\n",
       "\n",
       "    .dataframe thead th {\n",
       "        text-align: right;\n",
       "    }\n",
       "</style>\n",
       "<table border=\"1\" class=\"dataframe\">\n",
       "  <thead>\n",
       "    <tr style=\"text-align: right;\">\n",
       "      <th></th>\n",
       "      <th>Year</th>\n",
       "      <th>Johor</th>\n",
       "      <th>Kedah</th>\n",
       "      <th>Kelantan</th>\n",
       "      <th>Melaka</th>\n",
       "      <th>Negeri Sembilan</th>\n",
       "      <th>Pahang</th>\n",
       "      <th>Pulau Pinang</th>\n",
       "      <th>Perak</th>\n",
       "      <th>Perlis</th>\n",
       "      <th>Selangor</th>\n",
       "      <th>Terengganu</th>\n",
       "      <th>Sabah</th>\n",
       "      <th>Sarawak</th>\n",
       "      <th>Kuala Lumpur</th>\n",
       "    </tr>\n",
       "  </thead>\n",
       "  <tbody>\n",
       "    <tr>\n",
       "      <th>36</th>\n",
       "      <td>2016</td>\n",
       "      <td>3651.8</td>\n",
       "      <td>2119.7</td>\n",
       "      <td>1796.7</td>\n",
       "      <td>901.1</td>\n",
       "      <td>1099.3</td>\n",
       "      <td>1626.7</td>\n",
       "      <td>1717.7</td>\n",
       "      <td>2482.1</td>\n",
       "      <td>251.0</td>\n",
       "      <td>6291.5</td>\n",
       "      <td>1183.4</td>\n",
       "      <td>3802.8</td>\n",
       "      <td>2738.7</td>\n",
       "      <td>1789.7</td>\n",
       "    </tr>\n",
       "    <tr>\n",
       "      <th>37</th>\n",
       "      <td>2017</td>\n",
       "      <td>3697.0</td>\n",
       "      <td>2143.9</td>\n",
       "      <td>1829.0</td>\n",
       "      <td>913.1</td>\n",
       "      <td>1114.0</td>\n",
       "      <td>1647.0</td>\n",
       "      <td>1744.1</td>\n",
       "      <td>2493.2</td>\n",
       "      <td>252.0</td>\n",
       "      <td>6380.7</td>\n",
       "      <td>1208.0</td>\n",
       "      <td>3855.9</td>\n",
       "      <td>2766.3</td>\n",
       "      <td>1793.2</td>\n",
       "    </tr>\n",
       "    <tr>\n",
       "      <th>38</th>\n",
       "      <td>2018</td>\n",
       "      <td>3749.4</td>\n",
       "      <td>2163.0</td>\n",
       "      <td>1860.5</td>\n",
       "      <td>922.4</td>\n",
       "      <td>1122.9</td>\n",
       "      <td>1664.7</td>\n",
       "      <td>1762.8</td>\n",
       "      <td>2503.5</td>\n",
       "      <td>253.5</td>\n",
       "      <td>6475.0</td>\n",
       "      <td>1228.3</td>\n",
       "      <td>3898.4</td>\n",
       "      <td>2791.7</td>\n",
       "      <td>1790.0</td>\n",
       "    </tr>\n",
       "    <tr>\n",
       "      <th>39</th>\n",
       "      <td>2019</td>\n",
       "      <td>3761.2</td>\n",
       "      <td>2173.7</td>\n",
       "      <td>1883.8</td>\n",
       "      <td>928.4</td>\n",
       "      <td>1126.2</td>\n",
       "      <td>1671.4</td>\n",
       "      <td>1768.8</td>\n",
       "      <td>2508.8</td>\n",
       "      <td>254.0</td>\n",
       "      <td>6506.1</td>\n",
       "      <td>1244.5</td>\n",
       "      <td>3904.4</td>\n",
       "      <td>2806.0</td>\n",
       "      <td>1782.5</td>\n",
       "    </tr>\n",
       "    <tr>\n",
       "      <th>40</th>\n",
       "      <td>2020</td>\n",
       "      <td>4009.7</td>\n",
       "      <td>2131.4</td>\n",
       "      <td>1792.5</td>\n",
       "      <td>998.4</td>\n",
       "      <td>1200.0</td>\n",
       "      <td>1591.3</td>\n",
       "      <td>1740.4</td>\n",
       "      <td>2496.0</td>\n",
       "      <td>284.9</td>\n",
       "      <td>6994.4</td>\n",
       "      <td>1149.4</td>\n",
       "      <td>3418.8</td>\n",
       "      <td>2453.7</td>\n",
       "      <td>1982.1</td>\n",
       "    </tr>\n",
       "  </tbody>\n",
       "</table>\n",
       "</div>"
      ],
      "text/plain": [
       "    Year   Johor   Kedah  Kelantan  Melaka  Negeri Sembilan  Pahang  \\\n",
       "36  2016  3651.8  2119.7    1796.7   901.1           1099.3  1626.7   \n",
       "37  2017  3697.0  2143.9    1829.0   913.1           1114.0  1647.0   \n",
       "38  2018  3749.4  2163.0    1860.5   922.4           1122.9  1664.7   \n",
       "39  2019  3761.2  2173.7    1883.8   928.4           1126.2  1671.4   \n",
       "40  2020  4009.7  2131.4    1792.5   998.4           1200.0  1591.3   \n",
       "\n",
       "    Pulau Pinang   Perak  Perlis  Selangor  Terengganu   Sabah  Sarawak  \\\n",
       "36        1717.7  2482.1   251.0    6291.5      1183.4  3802.8   2738.7   \n",
       "37        1744.1  2493.2   252.0    6380.7      1208.0  3855.9   2766.3   \n",
       "38        1762.8  2503.5   253.5    6475.0      1228.3  3898.4   2791.7   \n",
       "39        1768.8  2508.8   254.0    6506.1      1244.5  3904.4   2806.0   \n",
       "40        1740.4  2496.0   284.9    6994.4      1149.4  3418.8   2453.7   \n",
       "\n",
       "    Kuala Lumpur  \n",
       "36        1789.7  \n",
       "37        1793.2  \n",
       "38        1790.0  \n",
       "39        1782.5  \n",
       "40        1982.1  "
      ]
     },
     "execution_count": 3,
     "metadata": {},
     "output_type": "execute_result"
    }
   ],
   "source": [
    "# Population of each state inside this excel file can be found in separate sheets.\n",
    "\n",
    "# states_pop = pd.read_excel(r'./Dataset_pop/States_pop.xlsx', sheet_name='Johor')\n",
    "states_pop = pd.read_excel(r'./Dataset_pop/States_pop.xlsx')\n",
    "states_pop.tail()"
   ]
  },
  {
   "cell_type": "markdown",
   "metadata": {},
   "source": [
    "**Reshape data into long format**\n",
    "- we need to shape the data into long format so that each row corresponds to a combination of year, state and population.\n",
    "- for now, my data frame does not contain its own column for state\n",
    "- We will use melt() function to convert wide format data into long format where each row represents a state, year and population.\n",
    "- cross-refer: Jupyter notes on states in Python for Data Analysis repo"
   ]
  },
  {
   "cell_type": "code",
   "execution_count": 11,
   "metadata": {},
   "outputs": [
    {
     "data": {
      "text/html": [
       "<div>\n",
       "<style scoped>\n",
       "    .dataframe tbody tr th:only-of-type {\n",
       "        vertical-align: middle;\n",
       "    }\n",
       "\n",
       "    .dataframe tbody tr th {\n",
       "        vertical-align: top;\n",
       "    }\n",
       "\n",
       "    .dataframe thead th {\n",
       "        text-align: right;\n",
       "    }\n",
       "</style>\n",
       "<table border=\"1\" class=\"dataframe\">\n",
       "  <thead>\n",
       "    <tr style=\"text-align: right;\">\n",
       "      <th></th>\n",
       "      <th>Year</th>\n",
       "      <th>State</th>\n",
       "      <th>Population</th>\n",
       "    </tr>\n",
       "  </thead>\n",
       "  <tbody>\n",
       "    <tr>\n",
       "      <th>0</th>\n",
       "      <td>1980</td>\n",
       "      <td>Johor</td>\n",
       "      <td>1646.2</td>\n",
       "    </tr>\n",
       "    <tr>\n",
       "      <th>1</th>\n",
       "      <td>1981</td>\n",
       "      <td>Johor</td>\n",
       "      <td>1689.3</td>\n",
       "    </tr>\n",
       "    <tr>\n",
       "      <th>2</th>\n",
       "      <td>1982</td>\n",
       "      <td>Johor</td>\n",
       "      <td>1734.6</td>\n",
       "    </tr>\n",
       "    <tr>\n",
       "      <th>3</th>\n",
       "      <td>1983</td>\n",
       "      <td>Johor</td>\n",
       "      <td>1780.2</td>\n",
       "    </tr>\n",
       "    <tr>\n",
       "      <th>4</th>\n",
       "      <td>1984</td>\n",
       "      <td>Johor</td>\n",
       "      <td>1825.8</td>\n",
       "    </tr>\n",
       "  </tbody>\n",
       "</table>\n",
       "</div>"
      ],
      "text/plain": [
       "   Year  State  Population\n",
       "0  1980  Johor      1646.2\n",
       "1  1981  Johor      1689.3\n",
       "2  1982  Johor      1734.6\n",
       "3  1983  Johor      1780.2\n",
       "4  1984  Johor      1825.8"
      ]
     },
     "execution_count": 11,
     "metadata": {},
     "output_type": "execute_result"
    }
   ],
   "source": [
    "states_pop_long = states_pop.melt(id_vars=['Year'], var_name='State', value_name='Population')\n",
    "states_pop_long.head()\n",
    "\n",
    "                      "
   ]
  },
  {
   "cell_type": "code",
   "execution_count": 12,
   "metadata": {},
   "outputs": [
    {
     "data": {
      "text/plain": [
       "Index(['Year', 'State', 'Population'], dtype='object')"
      ]
     },
     "execution_count": 12,
     "metadata": {},
     "output_type": "execute_result"
    }
   ],
   "source": [
    "states_pop_long.columns"
   ]
  },
  {
   "cell_type": "code",
   "execution_count": 18,
   "metadata": {},
   "outputs": [
    {
     "name": "stdout",
     "output_type": "stream",
     "text": [
      "['Johor' 'Kedah' 'Kelantan' 'Melaka' 'Negeri Sembilan' 'Pahang'\n",
      " 'Pulau Pinang' 'Perak' 'Perlis' 'Selangor' 'Terengganu' 'Sabah' 'Sarawak'\n",
      " 'Kuala Lumpur']\n"
     ]
    }
   ],
   "source": [
    "# states_pop_long.to_csv('melted_states.csv', index=False)\n",
    "\n",
    "print(states_pop_long['State'].unique())"
   ]
  },
  {
   "cell_type": "markdown",
   "metadata": {},
   "source": [
    "# create map using mapbox \n",
    "- assign latitude and longitude to states"
   ]
  },
  {
   "cell_type": "code",
   "execution_count": 20,
   "metadata": {},
   "outputs": [
    {
     "data": {
      "text/html": [
       "<div>\n",
       "<style scoped>\n",
       "    .dataframe tbody tr th:only-of-type {\n",
       "        vertical-align: middle;\n",
       "    }\n",
       "\n",
       "    .dataframe tbody tr th {\n",
       "        vertical-align: top;\n",
       "    }\n",
       "\n",
       "    .dataframe thead th {\n",
       "        text-align: right;\n",
       "    }\n",
       "</style>\n",
       "<table border=\"1\" class=\"dataframe\">\n",
       "  <thead>\n",
       "    <tr style=\"text-align: right;\">\n",
       "      <th></th>\n",
       "      <th>Year</th>\n",
       "      <th>State</th>\n",
       "      <th>Population</th>\n",
       "      <th>Latitude</th>\n",
       "      <th>Longitude</th>\n",
       "    </tr>\n",
       "  </thead>\n",
       "  <tbody>\n",
       "    <tr>\n",
       "      <th>0</th>\n",
       "      <td>1980</td>\n",
       "      <td>Johor</td>\n",
       "      <td>1646.2</td>\n",
       "      <td>1.4927</td>\n",
       "      <td>103.7414</td>\n",
       "    </tr>\n",
       "    <tr>\n",
       "      <th>1</th>\n",
       "      <td>1981</td>\n",
       "      <td>Johor</td>\n",
       "      <td>1689.3</td>\n",
       "      <td>1.4927</td>\n",
       "      <td>103.7414</td>\n",
       "    </tr>\n",
       "    <tr>\n",
       "      <th>2</th>\n",
       "      <td>1982</td>\n",
       "      <td>Johor</td>\n",
       "      <td>1734.6</td>\n",
       "      <td>1.4927</td>\n",
       "      <td>103.7414</td>\n",
       "    </tr>\n",
       "    <tr>\n",
       "      <th>3</th>\n",
       "      <td>1983</td>\n",
       "      <td>Johor</td>\n",
       "      <td>1780.2</td>\n",
       "      <td>1.4927</td>\n",
       "      <td>103.7414</td>\n",
       "    </tr>\n",
       "    <tr>\n",
       "      <th>4</th>\n",
       "      <td>1984</td>\n",
       "      <td>Johor</td>\n",
       "      <td>1825.8</td>\n",
       "      <td>1.4927</td>\n",
       "      <td>103.7414</td>\n",
       "    </tr>\n",
       "  </tbody>\n",
       "</table>\n",
       "</div>"
      ],
      "text/plain": [
       "   Year  State  Population  Latitude  Longitude\n",
       "0  1980  Johor      1646.2    1.4927   103.7414\n",
       "1  1981  Johor      1689.3    1.4927   103.7414\n",
       "2  1982  Johor      1734.6    1.4927   103.7414\n",
       "3  1983  Johor      1780.2    1.4927   103.7414\n",
       "4  1984  Johor      1825.8    1.4927   103.7414"
      ]
     },
     "execution_count": 20,
     "metadata": {},
     "output_type": "execute_result"
    }
   ],
   "source": [
    "melted_states = pd.read_csv('melted_states.csv')\n",
    "\n",
    "state_coords = {\n",
    "    'Johor': {'latitude': 1.4927, 'longitude': 103.7414},\n",
    "    'Kedah': {'latitude': 6.1183, 'longitude': 100.3670},\n",
    "    'Kelantan': {'latitude': 5.4541, 'longitude': 102.1998},\n",
    "    'Melaka': {'latitude': 2.1896, 'longitude': 102.2502},\n",
    "    'Negeri Sembilan': {'latitude': 2.7250, 'longitude': 102.2435},\n",
    "    'Pahang': {'latitude': 3.8483, 'longitude': 103.3380},\n",
    "    'Perak': {'latitude': 4.5963, 'longitude': 101.0921},\n",
    "    'Perlis': {'latitude': 6.4396, 'longitude': 100.2007},\n",
    "    'Pulau Pinang': {'latitude': 5.4142, 'longitude': 100.3280},\n",
    "    'Sabah': {'latitude': 5.9804, 'longitude': 116.0760},\n",
    "    'Sarawak': {'latitude': 1.5530, 'longitude': 110.3591},\n",
    "    'Selangor': {'latitude': 3.0734, 'longitude': 101.5187},\n",
    "    'Terengganu': {'latitude': 5.4409, 'longitude': 103.1277},\n",
    "    'Kuala Lumpur': {'latitude': 3.1390, 'longitude': 101.6869},\n",
    "}\n",
    "\n",
    "# Function to get coordinates for each state\n",
    "def get_coordinates(state):\n",
    "    if state in state_coords:\n",
    "        return state_coords[state]['latitude'], state_coords[state]['longitude']\n",
    "    else:\n",
    "        return None, None  # Return None if the state is not found\n",
    "\n",
    "# Apply the function to the DataFrame\n",
    "melted_states[['Latitude', 'Longitude']] = melted_states['State'].apply(lambda state: pd.Series(get_coordinates(state)))\n",
    "\n",
    "# Save the updated DataFrame to a new CSV file\n",
    "# melted_states.to_csv('states_coords.csv', index=False)\n",
    "\n",
    "melted_states.head()"
   ]
  },
  {
   "cell_type": "code",
   "execution_count": 29,
   "metadata": {},
   "outputs": [
    {
     "name": "stdout",
     "output_type": "stream",
     "text": [
      "   Year  State  Population  Latitude  Longitude\n",
      "0  1980  Johor      1646.2    1.4927   103.7414\n",
      "1  1981  Johor      1689.3    1.4927   103.7414\n",
      "2  1982  Johor      1734.6    1.4927   103.7414\n",
      "3  1983  Johor      1780.2    1.4927   103.7414\n",
      "4  1984  Johor      1825.8    1.4927   103.7414\n"
     ]
    }
   ],
   "source": [
    "states_data = pd.read_csv('states_coords.csv')\n",
    "print(states_data.head())"
   ]
  },
  {
   "cell_type": "code",
   "execution_count": 23,
   "metadata": {},
   "outputs": [
    {
     "data": {
      "text/plain": [
       "Index(['Year', 'State', 'Population', 'Latitude', 'Longitude'], dtype='object')"
      ]
     },
     "execution_count": 23,
     "metadata": {},
     "output_type": "execute_result"
    }
   ],
   "source": [
    "states_data.columns"
   ]
  },
  {
   "cell_type": "code",
   "execution_count": 79,
   "metadata": {},
   "outputs": [
    {
     "name": "stdout",
     "output_type": "stream",
     "text": [
      "<class 'pandas.core.frame.DataFrame'>\n",
      "Index(['Year', 'State', 'Population', 'Latitude', 'Longitude'], dtype='object')\n"
     ]
    }
   ],
   "source": [
    "# Check the type of states_data\n",
    "print(type(states_data))\n",
    "print(states_data.columns)"
   ]
  },
  {
   "cell_type": "code",
   "execution_count": 131,
   "metadata": {},
   "outputs": [
    {
     "data": {
      "application/vnd.plotly.v1+json": {
       "config": {
        "plotlyServerURL": "https://plot.ly"
       },
       "data": [
        {
         "customdata": [
          [
           1980,
           1646.2
          ],
          [
           1980,
           1119.9
          ],
          [
           1980,
           895.7
          ],
          [
           1980,
           466.9
          ],
          [
           1980,
           576.7
          ],
          [
           1980,
           802.1
          ],
          [
           1980,
           960.7
          ],
          [
           1980,
           1807.4
          ],
          [
           1980,
           148.7
          ],
          [
           1980,
           1524.1
          ],
          [
           1980,
           541.7
          ],
          [
           1980,
           1055.1
          ],
          [
           1980,
           1351.1
          ],
          [
           1980,
           982.9
          ]
         ],
         "hovertemplate": "<b>%{hovertext}</b><br><br>Year=%{customdata[0]}<br>Population=%{marker.color}<br>Latitude=%{lat}<br>Longitude=%{lon}<extra></extra>",
         "hovertext": [
          "Johor",
          "Kedah",
          "Kelantan",
          "Melaka",
          "Negeri Sembilan",
          "Pahang",
          "Pulau Pinang",
          "Perak",
          "Perlis",
          "Selangor",
          "Terengganu",
          "Sabah",
          "Sarawak",
          "Kuala Lumpur"
         ],
         "lat": [
          1.4927,
          6.1183,
          5.4541,
          2.1896,
          2.725,
          3.8483,
          5.4142,
          4.5963,
          6.4396,
          3.0734,
          5.4409,
          5.9804,
          1.553,
          3.139
         ],
         "legendgroup": "",
         "lon": [
          103.7414,
          100.367,
          102.1998,
          102.2502,
          102.2435,
          103.338,
          100.328,
          101.0921,
          100.2007,
          101.5187,
          103.1277,
          116.076,
          110.3591,
          101.6869
         ],
         "marker": {
          "color": [
           1646.2,
           1119.9,
           895.7,
           466.9,
           576.7,
           802.1,
           960.7,
           1807.4,
           148.7,
           1524.1,
           541.7,
           1055.1,
           1351.1,
           982.9
          ],
          "coloraxis": "coloraxis",
          "size": [
           1646.2,
           1119.9,
           895.7,
           466.9,
           576.7,
           802.1,
           960.7,
           1807.4,
           148.7,
           1524.1,
           541.7,
           1055.1,
           1351.1,
           982.9
          ],
          "sizemode": "area",
          "sizeref": 7.7715555555555556
         },
         "mode": "markers",
         "name": "",
         "showlegend": false,
         "subplot": "mapbox",
         "type": "scattermapbox"
        }
       ],
       "frames": [
        {
         "data": [
          {
           "customdata": [
            [
             1980,
             1646.2
            ],
            [
             1980,
             1119.9
            ],
            [
             1980,
             895.7
            ],
            [
             1980,
             466.9
            ],
            [
             1980,
             576.7
            ],
            [
             1980,
             802.1
            ],
            [
             1980,
             960.7
            ],
            [
             1980,
             1807.4
            ],
            [
             1980,
             148.7
            ],
            [
             1980,
             1524.1
            ],
            [
             1980,
             541.7
            ],
            [
             1980,
             1055.1
            ],
            [
             1980,
             1351.1
            ],
            [
             1980,
             982.9
            ]
           ],
           "hovertemplate": "<b>%{hovertext}</b><br><br>Year=%{customdata[0]}<br>Population=%{marker.color}<br>Latitude=%{lat}<br>Longitude=%{lon}<extra></extra>",
           "hovertext": [
            "Johor",
            "Kedah",
            "Kelantan",
            "Melaka",
            "Negeri Sembilan",
            "Pahang",
            "Pulau Pinang",
            "Perak",
            "Perlis",
            "Selangor",
            "Terengganu",
            "Sabah",
            "Sarawak",
            "Kuala Lumpur"
           ],
           "lat": [
            1.4927,
            6.1183,
            5.4541,
            2.1896,
            2.725,
            3.8483,
            5.4142,
            4.5963,
            6.4396,
            3.0734,
            5.4409,
            5.9804,
            1.553,
            3.139
           ],
           "legendgroup": "",
           "lon": [
            103.7414,
            100.367,
            102.1998,
            102.2502,
            102.2435,
            103.338,
            100.328,
            101.0921,
            100.2007,
            101.5187,
            103.1277,
            116.076,
            110.3591,
            101.6869
           ],
           "marker": {
            "color": [
             1646.2,
             1119.9,
             895.7,
             466.9,
             576.7,
             802.1,
             960.7,
             1807.4,
             148.7,
             1524.1,
             541.7,
             1055.1,
             1351.1,
             982.9
            ],
            "coloraxis": "coloraxis",
            "size": [
             1646.2,
             1119.9,
             895.7,
             466.9,
             576.7,
             802.1,
             960.7,
             1807.4,
             148.7,
             1524.1,
             541.7,
             1055.1,
             1351.1,
             982.9
            ],
            "sizemode": "area",
            "sizeref": 7.7715555555555556
           },
           "mode": "markers",
           "name": "",
           "showlegend": false,
           "subplot": "mapbox",
           "type": "scattermapbox"
          }
         ],
         "name": "1980"
        },
        {
         "data": [
          {
           "customdata": [
            [
             1981,
             1689.3
            ],
            [
             1981,
             1140.2
            ],
            [
             1981,
             920.5
            ],
            [
             1981,
             472.6
            ],
            [
             1981,
             587.2
            ],
            [
             1981,
             820.6
            ],
            [
             1981,
             975.4
            ],
            [
             1981,
             1838.2
            ],
            [
             1981,
             151.6
            ],
            [
             1981,
             1594.6
            ],
            [
             1981,
             560.8
            ],
            [
             1981,
             1119.6
            ],
            [
             1981,
             1380.2
            ],
            [
             1981,
             1006.1
            ]
           ],
           "hovertemplate": "<b>%{hovertext}</b><br><br>Year=%{customdata[0]}<br>Population=%{marker.color}<br>Latitude=%{lat}<br>Longitude=%{lon}<extra></extra>",
           "hovertext": [
            "Johor",
            "Kedah",
            "Kelantan",
            "Melaka",
            "Negeri Sembilan",
            "Pahang",
            "Pulau Pinang",
            "Perak",
            "Perlis",
            "Selangor",
            "Terengganu",
            "Sabah",
            "Sarawak",
            "Kuala Lumpur"
           ],
           "lat": [
            1.4927,
            6.1183,
            5.4541,
            2.1896,
            2.725,
            3.8483,
            5.4142,
            4.5963,
            6.4396,
            3.0734,
            5.4409,
            5.9804,
            1.553,
            3.139
           ],
           "legendgroup": "",
           "lon": [
            103.7414,
            100.367,
            102.1998,
            102.2502,
            102.2435,
            103.338,
            100.328,
            101.0921,
            100.2007,
            101.5187,
            103.1277,
            116.076,
            110.3591,
            101.6869
           ],
           "marker": {
            "color": [
             1689.3,
             1140.2,
             920.5,
             472.6,
             587.2,
             820.6,
             975.4,
             1838.2,
             151.6,
             1594.6,
             560.8,
             1119.6,
             1380.2,
             1006.1
            ],
            "coloraxis": "coloraxis",
            "size": [
             1689.3,
             1140.2,
             920.5,
             472.6,
             587.2,
             820.6,
             975.4,
             1838.2,
             151.6,
             1594.6,
             560.8,
             1119.6,
             1380.2,
             1006.1
            ],
            "sizemode": "area",
            "sizeref": 7.7715555555555556
           },
           "mode": "markers",
           "name": "",
           "showlegend": false,
           "subplot": "mapbox",
           "type": "scattermapbox"
          }
         ],
         "name": "1981"
        },
        {
         "data": [
          {
           "customdata": [
            [
             1982,
             1734.6
            ],
            [
             1982,
             1161.8
            ],
            [
             1982,
             947.1
            ],
            [
             1982,
             478.7
            ],
            [
             1982,
             598.9
            ],
            [
             1982,
             842.3
            ],
            [
             1982,
             990.9
            ],
            [
             1982,
             1866.8
            ],
            [
             1982,
             154.9
            ],
            [
             1982,
             1668.3
            ],
            [
             1982,
             581.4
            ],
            [
             1982,
             1186.5
            ],
            [
             1982,
             1410.4
            ],
            [
             1982,
             1028.5
            ]
           ],
           "hovertemplate": "<b>%{hovertext}</b><br><br>Year=%{customdata[0]}<br>Population=%{marker.color}<br>Latitude=%{lat}<br>Longitude=%{lon}<extra></extra>",
           "hovertext": [
            "Johor",
            "Kedah",
            "Kelantan",
            "Melaka",
            "Negeri Sembilan",
            "Pahang",
            "Pulau Pinang",
            "Perak",
            "Perlis",
            "Selangor",
            "Terengganu",
            "Sabah",
            "Sarawak",
            "Kuala Lumpur"
           ],
           "lat": [
            1.4927,
            6.1183,
            5.4541,
            2.1896,
            2.725,
            3.8483,
            5.4142,
            4.5963,
            6.4396,
            3.0734,
            5.4409,
            5.9804,
            1.553,
            3.139
           ],
           "legendgroup": "",
           "lon": [
            103.7414,
            100.367,
            102.1998,
            102.2502,
            102.2435,
            103.338,
            100.328,
            101.0921,
            100.2007,
            101.5187,
            103.1277,
            116.076,
            110.3591,
            101.6869
           ],
           "marker": {
            "color": [
             1734.6,
             1161.8,
             947.1,
             478.7,
             598.9,
             842.3,
             990.9,
             1866.8,
             154.9,
             1668.3,
             581.4,
             1186.5,
             1410.4,
             1028.5
            ],
            "coloraxis": "coloraxis",
            "size": [
             1734.6,
             1161.8,
             947.1,
             478.7,
             598.9,
             842.3,
             990.9,
             1866.8,
             154.9,
             1668.3,
             581.4,
             1186.5,
             1410.4,
             1028.5
            ],
            "sizemode": "area",
            "sizeref": 7.7715555555555556
           },
           "mode": "markers",
           "name": "",
           "showlegend": false,
           "subplot": "mapbox",
           "type": "scattermapbox"
          }
         ],
         "name": "1982"
        },
        {
         "data": [
          {
           "customdata": [
            [
             1983,
             1780.2
            ],
            [
             1983,
             1183.9
            ],
            [
             1983,
             974.6
            ],
            [
             1983,
             484.8
            ],
            [
             1983,
             611.3
            ],
            [
             1983,
             864.8
            ],
            [
             1983,
             1006.2
            ],
            [
             1983,
             1891.1
            ],
            [
             1983,
             158.2
            ],
            [
             1983,
             1743.8
            ],
            [
             1983,
             602.9
            ],
            [
             1983,
             1255.1
            ],
            [
             1983,
             1440.6
            ],
            [
             1983,
             1050.7
            ]
           ],
           "hovertemplate": "<b>%{hovertext}</b><br><br>Year=%{customdata[0]}<br>Population=%{marker.color}<br>Latitude=%{lat}<br>Longitude=%{lon}<extra></extra>",
           "hovertext": [
            "Johor",
            "Kedah",
            "Kelantan",
            "Melaka",
            "Negeri Sembilan",
            "Pahang",
            "Pulau Pinang",
            "Perak",
            "Perlis",
            "Selangor",
            "Terengganu",
            "Sabah",
            "Sarawak",
            "Kuala Lumpur"
           ],
           "lat": [
            1.4927,
            6.1183,
            5.4541,
            2.1896,
            2.725,
            3.8483,
            5.4142,
            4.5963,
            6.4396,
            3.0734,
            5.4409,
            5.9804,
            1.553,
            3.139
           ],
           "legendgroup": "",
           "lon": [
            103.7414,
            100.367,
            102.1998,
            102.2502,
            102.2435,
            103.338,
            100.328,
            101.0921,
            100.2007,
            101.5187,
            103.1277,
            116.076,
            110.3591,
            101.6869
           ],
           "marker": {
            "color": [
             1780.2,
             1183.9,
             974.6,
             484.8,
             611.3,
             864.8,
             1006.2,
             1891.1,
             158.2,
             1743.8,
             602.9,
             1255.1,
             1440.6,
             1050.7
            ],
            "coloraxis": "coloraxis",
            "size": [
             1780.2,
             1183.9,
             974.6,
             484.8,
             611.3,
             864.8,
             1006.2,
             1891.1,
             158.2,
             1743.8,
             602.9,
             1255.1,
             1440.6,
             1050.7
            ],
            "sizemode": "area",
            "sizeref": 7.7715555555555556
           },
           "mode": "markers",
           "name": "",
           "showlegend": false,
           "subplot": "mapbox",
           "type": "scattermapbox"
          }
         ],
         "name": "1983"
        },
        {
         "data": [
          {
           "customdata": [
            [
             1984,
             1825.8
            ],
            [
             1984,
             1206.1
            ],
            [
             1984,
             1002.6
            ],
            [
             1984,
             491.2
            ],
            [
             1984,
             623.8
            ],
            [
             1984,
             888.7
            ],
            [
             1984,
             1021.1
            ],
            [
             1984,
             1912.3
            ],
            [
             1984,
             161.7
            ],
            [
             1984,
             1822
            ],
            [
             1984,
             625.8
            ],
            [
             1984,
             1325.7
            ],
            [
             1984,
             1471.4
            ],
            [
             1984,
             1072.2
            ]
           ],
           "hovertemplate": "<b>%{hovertext}</b><br><br>Year=%{customdata[0]}<br>Population=%{marker.color}<br>Latitude=%{lat}<br>Longitude=%{lon}<extra></extra>",
           "hovertext": [
            "Johor",
            "Kedah",
            "Kelantan",
            "Melaka",
            "Negeri Sembilan",
            "Pahang",
            "Pulau Pinang",
            "Perak",
            "Perlis",
            "Selangor",
            "Terengganu",
            "Sabah",
            "Sarawak",
            "Kuala Lumpur"
           ],
           "lat": [
            1.4927,
            6.1183,
            5.4541,
            2.1896,
            2.725,
            3.8483,
            5.4142,
            4.5963,
            6.4396,
            3.0734,
            5.4409,
            5.9804,
            1.553,
            3.139
           ],
           "legendgroup": "",
           "lon": [
            103.7414,
            100.367,
            102.1998,
            102.2502,
            102.2435,
            103.338,
            100.328,
            101.0921,
            100.2007,
            101.5187,
            103.1277,
            116.076,
            110.3591,
            101.6869
           ],
           "marker": {
            "color": [
             1825.8,
             1206.1,
             1002.6,
             491.2,
             623.8,
             888.7,
             1021.1,
             1912.3,
             161.7,
             1822,
             625.8,
             1325.7,
             1471.4,
             1072.2
            ],
            "coloraxis": "coloraxis",
            "size": [
             1825.8,
             1206.1,
             1002.6,
             491.2,
             623.8,
             888.7,
             1021.1,
             1912.3,
             161.7,
             1822,
             625.8,
             1325.7,
             1471.4,
             1072.2
            ],
            "sizemode": "area",
            "sizeref": 7.7715555555555556
           },
           "mode": "markers",
           "name": "",
           "showlegend": false,
           "subplot": "mapbox",
           "type": "scattermapbox"
          }
         ],
         "name": "1984"
        },
        {
         "data": [
          {
           "customdata": [
            [
             1985,
             1875.5
            ],
            [
             1985,
             1230.8
            ],
            [
             1985,
             1032.9
            ],
            [
             1985,
             498.6
            ],
            [
             1985,
             638.4
            ],
            [
             1985,
             915.2
            ],
            [
             1985,
             1037.9
            ],
            [
             1985,
             1931.5
            ],
            [
             1985,
             165.9
            ],
            [
             1985,
             1906.1
            ],
            [
             1985,
             651.6
            ],
            [
             1985,
             1398.7
            ],
            [
             1985,
             1503.9
            ],
            [
             1985,
             1095.9
            ]
           ],
           "hovertemplate": "<b>%{hovertext}</b><br><br>Year=%{customdata[0]}<br>Population=%{marker.color}<br>Latitude=%{lat}<br>Longitude=%{lon}<extra></extra>",
           "hovertext": [
            "Johor",
            "Kedah",
            "Kelantan",
            "Melaka",
            "Negeri Sembilan",
            "Pahang",
            "Pulau Pinang",
            "Perak",
            "Perlis",
            "Selangor",
            "Terengganu",
            "Sabah",
            "Sarawak",
            "Kuala Lumpur"
           ],
           "lat": [
            1.4927,
            6.1183,
            5.4541,
            2.1896,
            2.725,
            3.8483,
            5.4142,
            4.5963,
            6.4396,
            3.0734,
            5.4409,
            5.9804,
            1.553,
            3.139
           ],
           "legendgroup": "",
           "lon": [
            103.7414,
            100.367,
            102.1998,
            102.2502,
            102.2435,
            103.338,
            100.328,
            101.0921,
            100.2007,
            101.5187,
            103.1277,
            116.076,
            110.3591,
            101.6869
           ],
           "marker": {
            "color": [
             1875.5,
             1230.8,
             1032.9,
             498.6,
             638.4,
             915.2,
             1037.9,
             1931.5,
             165.9,
             1906.1,
             651.6,
             1398.7,
             1503.9,
             1095.9
            ],
            "coloraxis": "coloraxis",
            "size": [
             1875.5,
             1230.8,
             1032.9,
             498.6,
             638.4,
             915.2,
             1037.9,
             1931.5,
             165.9,
             1906.1,
             651.6,
             1398.7,
             1503.9,
             1095.9
            ],
            "sizemode": "area",
            "sizeref": 7.7715555555555556
           },
           "mode": "markers",
           "name": "",
           "showlegend": false,
           "subplot": "mapbox",
           "type": "scattermapbox"
          }
         ],
         "name": "1985"
        },
        {
         "data": [
          {
           "customdata": [
            [
             1986,
             1926.5
            ],
            [
             1986,
             1256.2
            ],
            [
             1986,
             1062.8
            ],
            [
             1986,
             505.6
            ],
            [
             1986,
             653.7
            ],
            [
             1986,
             943.5
            ],
            [
             1986,
             1054.8
            ],
            [
             1986,
             1950.8
            ],
            [
             1986,
             170.2
            ],
            [
             1986,
             1992.6
            ],
            [
             1986,
             678.3
            ],
            [
             1986,
             1474.4
            ],
            [
             1986,
             1539.5
            ],
            [
             1986,
             1120.5
            ]
           ],
           "hovertemplate": "<b>%{hovertext}</b><br><br>Year=%{customdata[0]}<br>Population=%{marker.color}<br>Latitude=%{lat}<br>Longitude=%{lon}<extra></extra>",
           "hovertext": [
            "Johor",
            "Kedah",
            "Kelantan",
            "Melaka",
            "Negeri Sembilan",
            "Pahang",
            "Pulau Pinang",
            "Perak",
            "Perlis",
            "Selangor",
            "Terengganu",
            "Sabah",
            "Sarawak",
            "Kuala Lumpur"
           ],
           "lat": [
            1.4927,
            6.1183,
            5.4541,
            2.1896,
            2.725,
            3.8483,
            5.4142,
            4.5963,
            6.4396,
            3.0734,
            5.4409,
            5.9804,
            1.553,
            3.139
           ],
           "legendgroup": "",
           "lon": [
            103.7414,
            100.367,
            102.1998,
            102.2502,
            102.2435,
            103.338,
            100.328,
            101.0921,
            100.2007,
            101.5187,
            103.1277,
            116.076,
            110.3591,
            101.6869
           ],
           "marker": {
            "color": [
             1926.5,
             1256.2,
             1062.8,
             505.6,
             653.7,
             943.5,
             1054.8,
             1950.8,
             170.2,
             1992.6,
             678.3,
             1474.4,
             1539.5,
             1120.5
            ],
            "coloraxis": "coloraxis",
            "size": [
             1926.5,
             1256.2,
             1062.8,
             505.6,
             653.7,
             943.5,
             1054.8,
             1950.8,
             170.2,
             1992.6,
             678.3,
             1474.4,
             1539.5,
             1120.5
            ],
            "sizemode": "area",
            "sizeref": 7.7715555555555556
           },
           "mode": "markers",
           "name": "",
           "showlegend": false,
           "subplot": "mapbox",
           "type": "scattermapbox"
          }
         ],
         "name": "1986"
        },
        {
         "data": [
          {
           "customdata": [
            [
             1987,
             1977.9
            ],
            [
             1987,
             1281.1
            ],
            [
             1987,
             1093.2
            ],
            [
             1987,
             513.1
            ],
            [
             1987,
             668.9
            ],
            [
             1987,
             971
            ],
            [
             1987,
             1070.5
            ],
            [
             1987,
             1967.5
            ],
            [
             1987,
             174.5
            ],
            [
             1987,
             2079.7
            ],
            [
             1987,
             704.3
            ],
            [
             1987,
             1550.8
            ],
            [
             1987,
             1576
            ],
            [
             1987,
             1144.9
            ]
           ],
           "hovertemplate": "<b>%{hovertext}</b><br><br>Year=%{customdata[0]}<br>Population=%{marker.color}<br>Latitude=%{lat}<br>Longitude=%{lon}<extra></extra>",
           "hovertext": [
            "Johor",
            "Kedah",
            "Kelantan",
            "Melaka",
            "Negeri Sembilan",
            "Pahang",
            "Pulau Pinang",
            "Perak",
            "Perlis",
            "Selangor",
            "Terengganu",
            "Sabah",
            "Sarawak",
            "Kuala Lumpur"
           ],
           "lat": [
            1.4927,
            6.1183,
            5.4541,
            2.1896,
            2.725,
            3.8483,
            5.4142,
            4.5963,
            6.4396,
            3.0734,
            5.4409,
            5.9804,
            1.553,
            3.139
           ],
           "legendgroup": "",
           "lon": [
            103.7414,
            100.367,
            102.1998,
            102.2502,
            102.2435,
            103.338,
            100.328,
            101.0921,
            100.2007,
            101.5187,
            103.1277,
            116.076,
            110.3591,
            101.6869
           ],
           "marker": {
            "color": [
             1977.9,
             1281.1,
             1093.2,
             513.1,
             668.9,
             971,
             1070.5,
             1967.5,
             174.5,
             2079.7,
             704.3,
             1550.8,
             1576,
             1144.9
            ],
            "coloraxis": "coloraxis",
            "size": [
             1977.9,
             1281.1,
             1093.2,
             513.1,
             668.9,
             971,
             1070.5,
             1967.5,
             174.5,
             2079.7,
             704.3,
             1550.8,
             1576,
             1144.9
            ],
            "sizemode": "area",
            "sizeref": 7.7715555555555556
           },
           "mode": "markers",
           "name": "",
           "showlegend": false,
           "subplot": "mapbox",
           "type": "scattermapbox"
          }
         ],
         "name": "1987"
        },
        {
         "data": [
          {
           "customdata": [
            [
             1988,
             2031
            ],
            [
             1988,
             1305.4
            ],
            [
             1988,
             1124
            ],
            [
             1988,
             520.5
            ],
            [
             1988,
             683.5
            ],
            [
             1988,
             998.4
            ],
            [
             1988,
             1086.6
            ],
            [
             1988,
             1979.5
            ],
            [
             1988,
             178.8
            ],
            [
             1988,
             2166.9
            ],
            [
             1988,
             730.9
            ],
            [
             1988,
             1629.5
            ],
            [
             1988,
             1614.6
            ],
            [
             1988,
             1169.6
            ]
           ],
           "hovertemplate": "<b>%{hovertext}</b><br><br>Year=%{customdata[0]}<br>Population=%{marker.color}<br>Latitude=%{lat}<br>Longitude=%{lon}<extra></extra>",
           "hovertext": [
            "Johor",
            "Kedah",
            "Kelantan",
            "Melaka",
            "Negeri Sembilan",
            "Pahang",
            "Pulau Pinang",
            "Perak",
            "Perlis",
            "Selangor",
            "Terengganu",
            "Sabah",
            "Sarawak",
            "Kuala Lumpur"
           ],
           "lat": [
            1.4927,
            6.1183,
            5.4541,
            2.1896,
            2.725,
            3.8483,
            5.4142,
            4.5963,
            6.4396,
            3.0734,
            5.4409,
            5.9804,
            1.553,
            3.139
           ],
           "legendgroup": "",
           "lon": [
            103.7414,
            100.367,
            102.1998,
            102.2502,
            102.2435,
            103.338,
            100.328,
            101.0921,
            100.2007,
            101.5187,
            103.1277,
            116.076,
            110.3591,
            101.6869
           ],
           "marker": {
            "color": [
             2031,
             1305.4,
             1124,
             520.5,
             683.5,
             998.4,
             1086.6,
             1979.5,
             178.8,
             2166.9,
             730.9,
             1629.5,
             1614.6,
             1169.6
            ],
            "coloraxis": "coloraxis",
            "size": [
             2031,
             1305.4,
             1124,
             520.5,
             683.5,
             998.4,
             1086.6,
             1979.5,
             178.8,
             2166.9,
             730.9,
             1629.5,
             1614.6,
             1169.6
            ],
            "sizemode": "area",
            "sizeref": 7.7715555555555556
           },
           "mode": "markers",
           "name": "",
           "showlegend": false,
           "subplot": "mapbox",
           "type": "scattermapbox"
          }
         ],
         "name": "1988"
        },
        {
         "data": [
          {
           "customdata": [
            [
             1989,
             2085.5
            ],
            [
             1989,
             1328.8
            ],
            [
             1989,
             1154.5
            ],
            [
             1989,
             527.4
            ],
            [
             1989,
             698.2
            ],
            [
             1989,
             1025.9
            ],
            [
             1989,
             1103.4
            ],
            [
             1989,
             1987.7
            ],
            [
             1989,
             182.9
            ],
            [
             1989,
             2254.9
            ],
            [
             1989,
             757.3
            ],
            [
             1989,
             1708.9
            ],
            [
             1989,
             1652.5
            ],
            [
             1989,
             1194.1
            ]
           ],
           "hovertemplate": "<b>%{hovertext}</b><br><br>Year=%{customdata[0]}<br>Population=%{marker.color}<br>Latitude=%{lat}<br>Longitude=%{lon}<extra></extra>",
           "hovertext": [
            "Johor",
            "Kedah",
            "Kelantan",
            "Melaka",
            "Negeri Sembilan",
            "Pahang",
            "Pulau Pinang",
            "Perak",
            "Perlis",
            "Selangor",
            "Terengganu",
            "Sabah",
            "Sarawak",
            "Kuala Lumpur"
           ],
           "lat": [
            1.4927,
            6.1183,
            5.4541,
            2.1896,
            2.725,
            3.8483,
            5.4142,
            4.5963,
            6.4396,
            3.0734,
            5.4409,
            5.9804,
            1.553,
            3.139
           ],
           "legendgroup": "",
           "lon": [
            103.7414,
            100.367,
            102.1998,
            102.2502,
            102.2435,
            103.338,
            100.328,
            101.0921,
            100.2007,
            101.5187,
            103.1277,
            116.076,
            110.3591,
            101.6869
           ],
           "marker": {
            "color": [
             2085.5,
             1328.8,
             1154.5,
             527.4,
             698.2,
             1025.9,
             1103.4,
             1987.7,
             182.9,
             2254.9,
             757.3,
             1708.9,
             1652.5,
             1194.1
            ],
            "coloraxis": "coloraxis",
            "size": [
             2085.5,
             1328.8,
             1154.5,
             527.4,
             698.2,
             1025.9,
             1103.4,
             1987.7,
             182.9,
             2254.9,
             757.3,
             1708.9,
             1652.5,
             1194.1
            ],
            "sizemode": "area",
            "sizeref": 7.7715555555555556
           },
           "mode": "markers",
           "name": "",
           "showlegend": false,
           "subplot": "mapbox",
           "type": "scattermapbox"
          }
         ],
         "name": "1989"
        },
        {
         "data": [
          {
           "customdata": [
            [
             1990,
             2139.6
            ],
            [
             1990,
             1352.2
            ],
            [
             1990,
             1187.2
            ],
            [
             1990,
             534.2
            ],
            [
             1990,
             713.4
            ],
            [
             1990,
             1054.3
            ],
            [
             1990,
             1118.5
            ],
            [
             1990,
             1992.9
            ],
            [
             1990,
             187
            ],
            [
             1990,
             2345.4
            ],
            [
             1990,
             784.6
            ],
            [
             1990,
             1787.6
            ],
            [
             1990,
             1687.8
            ],
            [
             1990,
             1217.8
            ]
           ],
           "hovertemplate": "<b>%{hovertext}</b><br><br>Year=%{customdata[0]}<br>Population=%{marker.color}<br>Latitude=%{lat}<br>Longitude=%{lon}<extra></extra>",
           "hovertext": [
            "Johor",
            "Kedah",
            "Kelantan",
            "Melaka",
            "Negeri Sembilan",
            "Pahang",
            "Pulau Pinang",
            "Perak",
            "Perlis",
            "Selangor",
            "Terengganu",
            "Sabah",
            "Sarawak",
            "Kuala Lumpur"
           ],
           "lat": [
            1.4927,
            6.1183,
            5.4541,
            2.1896,
            2.725,
            3.8483,
            5.4142,
            4.5963,
            6.4396,
            3.0734,
            5.4409,
            5.9804,
            1.553,
            3.139
           ],
           "legendgroup": "",
           "lon": [
            103.7414,
            100.367,
            102.1998,
            102.2502,
            102.2435,
            103.338,
            100.328,
            101.0921,
            100.2007,
            101.5187,
            103.1277,
            116.076,
            110.3591,
            101.6869
           ],
           "marker": {
            "color": [
             2139.6,
             1352.2,
             1187.2,
             534.2,
             713.4,
             1054.3,
             1118.5,
             1992.9,
             187,
             2345.4,
             784.6,
             1787.6,
             1687.8,
             1217.8
            ],
            "coloraxis": "coloraxis",
            "size": [
             2139.6,
             1352.2,
             1187.2,
             534.2,
             713.4,
             1054.3,
             1118.5,
             1992.9,
             187,
             2345.4,
             784.6,
             1787.6,
             1687.8,
             1217.8
            ],
            "sizemode": "area",
            "sizeref": 7.7715555555555556
           },
           "mode": "markers",
           "name": "",
           "showlegend": false,
           "subplot": "mapbox",
           "type": "scattermapbox"
          }
         ],
         "name": "1990"
        },
        {
         "data": [
          {
           "customdata": [
            [
             1991,
             2188.1
            ],
            [
             1991,
             1371.3
            ],
            [
             1991,
             1227
            ],
            [
             1991,
             540.2
            ],
            [
             1991,
             726.2
            ],
            [
             1991,
             1079.6
            ],
            [
             1991,
             1133.6
            ],
            [
             1991,
             1995.3
            ],
            [
             1991,
             190.7
            ],
            [
             1991,
             2431.2
            ],
            [
             1991,
             810.7
            ],
            [
             1991,
             1814.5
            ],
            [
             1991,
             1723.8
            ],
            [
             1991,
             1262.1
            ]
           ],
           "hovertemplate": "<b>%{hovertext}</b><br><br>Year=%{customdata[0]}<br>Population=%{marker.color}<br>Latitude=%{lat}<br>Longitude=%{lon}<extra></extra>",
           "hovertext": [
            "Johor",
            "Kedah",
            "Kelantan",
            "Melaka",
            "Negeri Sembilan",
            "Pahang",
            "Pulau Pinang",
            "Perak",
            "Perlis",
            "Selangor",
            "Terengganu",
            "Sabah",
            "Sarawak",
            "Kuala Lumpur"
           ],
           "lat": [
            1.4927,
            6.1183,
            5.4541,
            2.1896,
            2.725,
            3.8483,
            5.4142,
            4.5963,
            6.4396,
            3.0734,
            5.4409,
            5.9804,
            1.553,
            3.139
           ],
           "legendgroup": "",
           "lon": [
            103.7414,
            100.367,
            102.1998,
            102.2502,
            102.2435,
            103.338,
            100.328,
            101.0921,
            100.2007,
            101.5187,
            103.1277,
            116.076,
            110.3591,
            101.6869
           ],
           "marker": {
            "color": [
             2188.1,
             1371.3,
             1227,
             540.2,
             726.2,
             1079.6,
             1133.6,
             1995.3,
             190.7,
             2431.2,
             810.7,
             1814.5,
             1723.8,
             1262.1
            ],
            "coloraxis": "coloraxis",
            "size": [
             2188.1,
             1371.3,
             1227,
             540.2,
             726.2,
             1079.6,
             1133.6,
             1995.3,
             190.7,
             2431.2,
             810.7,
             1814.5,
             1723.8,
             1262.1
            ],
            "sizemode": "area",
            "sizeref": 7.7715555555555556
           },
           "mode": "markers",
           "name": "",
           "showlegend": false,
           "subplot": "mapbox",
           "type": "scattermapbox"
          }
         ],
         "name": "1991"
        },
        {
         "data": [
          {
           "customdata": [
            [
             1992,
             2249.1
            ],
            [
             1992,
             1402.1
            ],
            [
             1992,
             1243.5
            ],
            [
             1992,
             551.8
            ],
            [
             1992,
             741.7
            ],
            [
             1992,
             1104.2
            ],
            [
             1992,
             1154
            ],
            [
             1992,
             2007.1
            ],
            [
             1992,
             192.7
            ],
            [
             1992,
             2605.6
            ],
            [
             1992,
             823.8
            ],
            [
             1992,
             1896.6
            ],
            [
             1992,
             1758.4
            ],
            [
             1992,
             1281.5
            ]
           ],
           "hovertemplate": "<b>%{hovertext}</b><br><br>Year=%{customdata[0]}<br>Population=%{marker.color}<br>Latitude=%{lat}<br>Longitude=%{lon}<extra></extra>",
           "hovertext": [
            "Johor",
            "Kedah",
            "Kelantan",
            "Melaka",
            "Negeri Sembilan",
            "Pahang",
            "Pulau Pinang",
            "Perak",
            "Perlis",
            "Selangor",
            "Terengganu",
            "Sabah",
            "Sarawak",
            "Kuala Lumpur"
           ],
           "lat": [
            1.4927,
            6.1183,
            5.4541,
            2.1896,
            2.725,
            3.8483,
            5.4142,
            4.5963,
            6.4396,
            3.0734,
            5.4409,
            5.9804,
            1.553,
            3.139
           ],
           "legendgroup": "",
           "lon": [
            103.7414,
            100.367,
            102.1998,
            102.2502,
            102.2435,
            103.338,
            100.328,
            101.0921,
            100.2007,
            101.5187,
            103.1277,
            116.076,
            110.3591,
            101.6869
           ],
           "marker": {
            "color": [
             2249.1,
             1402.1,
             1243.5,
             551.8,
             741.7,
             1104.2,
             1154,
             2007.1,
             192.7,
             2605.6,
             823.8,
             1896.6,
             1758.4,
             1281.5
            ],
            "coloraxis": "coloraxis",
            "size": [
             2249.1,
             1402.1,
             1243.5,
             551.8,
             741.7,
             1104.2,
             1154,
             2007.1,
             192.7,
             2605.6,
             823.8,
             1896.6,
             1758.4,
             1281.5
            ],
            "sizemode": "area",
            "sizeref": 7.7715555555555556
           },
           "mode": "markers",
           "name": "",
           "showlegend": false,
           "subplot": "mapbox",
           "type": "scattermapbox"
          }
         ],
         "name": "1992"
        },
        {
         "data": [
          {
           "customdata": [
            [
             1993,
             2313.4
            ],
            [
             1993,
             1434.1
            ],
            [
             1993,
             1259.1
            ],
            [
             1993,
             563.3
            ],
            [
             1993,
             757
            ],
            [
             1993,
             1128
            ],
            [
             1993,
             1174.7
            ],
            [
             1993,
             2018.4
            ],
            [
             1993,
             194.7
            ],
            [
             1993,
             2788.7
            ],
            [
             1993,
             836.5
            ],
            [
             1993,
             1981.9
            ],
            [
             1993,
             1795.2
            ],
            [
             1993,
             1298.7
            ]
           ],
           "hovertemplate": "<b>%{hovertext}</b><br><br>Year=%{customdata[0]}<br>Population=%{marker.color}<br>Latitude=%{lat}<br>Longitude=%{lon}<extra></extra>",
           "hovertext": [
            "Johor",
            "Kedah",
            "Kelantan",
            "Melaka",
            "Negeri Sembilan",
            "Pahang",
            "Pulau Pinang",
            "Perak",
            "Perlis",
            "Selangor",
            "Terengganu",
            "Sabah",
            "Sarawak",
            "Kuala Lumpur"
           ],
           "lat": [
            1.4927,
            6.1183,
            5.4541,
            2.1896,
            2.725,
            3.8483,
            5.4142,
            4.5963,
            6.4396,
            3.0734,
            5.4409,
            5.9804,
            1.553,
            3.139
           ],
           "legendgroup": "",
           "lon": [
            103.7414,
            100.367,
            102.1998,
            102.2502,
            102.2435,
            103.338,
            100.328,
            101.0921,
            100.2007,
            101.5187,
            103.1277,
            116.076,
            110.3591,
            101.6869
           ],
           "marker": {
            "color": [
             2313.4,
             1434.1,
             1259.1,
             563.3,
             757,
             1128,
             1174.7,
             2018.4,
             194.7,
             2788.7,
             836.5,
             1981.9,
             1795.2,
             1298.7
            ],
            "coloraxis": "coloraxis",
            "size": [
             2313.4,
             1434.1,
             1259.1,
             563.3,
             757,
             1128,
             1174.7,
             2018.4,
             194.7,
             2788.7,
             836.5,
             1981.9,
             1795.2,
             1298.7
            ],
            "sizemode": "area",
            "sizeref": 7.7715555555555556
           },
           "mode": "markers",
           "name": "",
           "showlegend": false,
           "subplot": "mapbox",
           "type": "scattermapbox"
          }
         ],
         "name": "1993"
        },
        {
         "data": [
          {
           "customdata": [
            [
             1994,
             2378.1
            ],
            [
             1994,
             1466.6
            ],
            [
             1994,
             1273.7
            ],
            [
             1994,
             574.9
            ],
            [
             1994,
             772.4
            ],
            [
             1994,
             1152.3
            ],
            [
             1994,
             1195.9
            ],
            [
             1994,
             2028.4
            ],
            [
             1994,
             196.7
            ],
            [
             1994,
             2978.5
            ],
            [
             1994,
             848.6
            ],
            [
             1994,
             2068.9
            ],
            [
             1994,
             1831.9
            ],
            [
             1994,
             1314.4
            ]
           ],
           "hovertemplate": "<b>%{hovertext}</b><br><br>Year=%{customdata[0]}<br>Population=%{marker.color}<br>Latitude=%{lat}<br>Longitude=%{lon}<extra></extra>",
           "hovertext": [
            "Johor",
            "Kedah",
            "Kelantan",
            "Melaka",
            "Negeri Sembilan",
            "Pahang",
            "Pulau Pinang",
            "Perak",
            "Perlis",
            "Selangor",
            "Terengganu",
            "Sabah",
            "Sarawak",
            "Kuala Lumpur"
           ],
           "lat": [
            1.4927,
            6.1183,
            5.4541,
            2.1896,
            2.725,
            3.8483,
            5.4142,
            4.5963,
            6.4396,
            3.0734,
            5.4409,
            5.9804,
            1.553,
            3.139
           ],
           "legendgroup": "",
           "lon": [
            103.7414,
            100.367,
            102.1998,
            102.2502,
            102.2435,
            103.338,
            100.328,
            101.0921,
            100.2007,
            101.5187,
            103.1277,
            116.076,
            110.3591,
            101.6869
           ],
           "marker": {
            "color": [
             2378.1,
             1466.6,
             1273.7,
             574.9,
             772.4,
             1152.3,
             1195.9,
             2028.4,
             196.7,
             2978.5,
             848.6,
             2068.9,
             1831.9,
             1314.4
            ],
            "coloraxis": "coloraxis",
            "size": [
             2378.1,
             1466.6,
             1273.7,
             574.9,
             772.4,
             1152.3,
             1195.9,
             2028.4,
             196.7,
             2978.5,
             848.6,
             2068.9,
             1831.9,
             1314.4
            ],
            "sizemode": "area",
            "sizeref": 7.7715555555555556
           },
           "mode": "markers",
           "name": "",
           "showlegend": false,
           "subplot": "mapbox",
           "type": "scattermapbox"
          }
         ],
         "name": "1994"
        },
        {
         "data": [
          {
           "customdata": [
            [
             1995,
             2441.4
            ],
            [
             1995,
             1500.2
            ],
            [
             1995,
             1287.7
            ],
            [
             1995,
             586.1
            ],
            [
             1995,
             787.5
            ],
            [
             1995,
             1176.5
            ],
            [
             1995,
             1216.6
            ],
            [
             1995,
             2038.1
            ],
            [
             1995,
             198.8
            ],
            [
             1995,
             3173.2
            ],
            [
             1995,
             860
            ],
            [
             1995,
             2155.9
            ],
            [
             1995,
             1868.1
            ],
            [
             1995,
             1328.9
            ]
           ],
           "hovertemplate": "<b>%{hovertext}</b><br><br>Year=%{customdata[0]}<br>Population=%{marker.color}<br>Latitude=%{lat}<br>Longitude=%{lon}<extra></extra>",
           "hovertext": [
            "Johor",
            "Kedah",
            "Kelantan",
            "Melaka",
            "Negeri Sembilan",
            "Pahang",
            "Pulau Pinang",
            "Perak",
            "Perlis",
            "Selangor",
            "Terengganu",
            "Sabah",
            "Sarawak",
            "Kuala Lumpur"
           ],
           "lat": [
            1.4927,
            6.1183,
            5.4541,
            2.1896,
            2.725,
            3.8483,
            5.4142,
            4.5963,
            6.4396,
            3.0734,
            5.4409,
            5.9804,
            1.553,
            3.139
           ],
           "legendgroup": "",
           "lon": [
            103.7414,
            100.367,
            102.1998,
            102.2502,
            102.2435,
            103.338,
            100.328,
            101.0921,
            100.2007,
            101.5187,
            103.1277,
            116.076,
            110.3591,
            101.6869
           ],
           "marker": {
            "color": [
             2441.4,
             1500.2,
             1287.7,
             586.1,
             787.5,
             1176.5,
             1216.6,
             2038.1,
             198.8,
             3173.2,
             860,
             2155.9,
             1868.1,
             1328.9
            ],
            "coloraxis": "coloraxis",
            "size": [
             2441.4,
             1500.2,
             1287.7,
             586.1,
             787.5,
             1176.5,
             1216.6,
             2038.1,
             198.8,
             3173.2,
             860,
             2155.9,
             1868.1,
             1328.9
            ],
            "sizemode": "area",
            "sizeref": 7.7715555555555556
           },
           "mode": "markers",
           "name": "",
           "showlegend": false,
           "subplot": "mapbox",
           "type": "scattermapbox"
          }
         ],
         "name": "1995"
        },
        {
         "data": [
          {
           "customdata": [
            [
             1996,
             2503.9
            ],
            [
             1996,
             1533.2
            ],
            [
             1996,
             1301.1
            ],
            [
             1996,
             597.3
            ],
            [
             1996,
             802.6
            ],
            [
             1996,
             1200.6
            ],
            [
             1996,
             1237.5
            ],
            [
             1996,
             2047
            ],
            [
             1996,
             200.4
            ],
            [
             1996,
             3371.1
            ],
            [
             1996,
             870.7
            ],
            [
             1996,
             2245
            ],
            [
             1996,
             1904.5
            ],
            [
             1996,
             1342.5
            ]
           ],
           "hovertemplate": "<b>%{hovertext}</b><br><br>Year=%{customdata[0]}<br>Population=%{marker.color}<br>Latitude=%{lat}<br>Longitude=%{lon}<extra></extra>",
           "hovertext": [
            "Johor",
            "Kedah",
            "Kelantan",
            "Melaka",
            "Negeri Sembilan",
            "Pahang",
            "Pulau Pinang",
            "Perak",
            "Perlis",
            "Selangor",
            "Terengganu",
            "Sabah",
            "Sarawak",
            "Kuala Lumpur"
           ],
           "lat": [
            1.4927,
            6.1183,
            5.4541,
            2.1896,
            2.725,
            3.8483,
            5.4142,
            4.5963,
            6.4396,
            3.0734,
            5.4409,
            5.9804,
            1.553,
            3.139
           ],
           "legendgroup": "",
           "lon": [
            103.7414,
            100.367,
            102.1998,
            102.2502,
            102.2435,
            103.338,
            100.328,
            101.0921,
            100.2007,
            101.5187,
            103.1277,
            116.076,
            110.3591,
            101.6869
           ],
           "marker": {
            "color": [
             2503.9,
             1533.2,
             1301.1,
             597.3,
             802.6,
             1200.6,
             1237.5,
             2047,
             200.4,
             3371.1,
             870.7,
             2245,
             1904.5,
             1342.5
            ],
            "coloraxis": "coloraxis",
            "size": [
             2503.9,
             1533.2,
             1301.1,
             597.3,
             802.6,
             1200.6,
             1237.5,
             2047,
             200.4,
             3371.1,
             870.7,
             2245,
             1904.5,
             1342.5
            ],
            "sizemode": "area",
            "sizeref": 7.7715555555555556
           },
           "mode": "markers",
           "name": "",
           "showlegend": false,
           "subplot": "mapbox",
           "type": "scattermapbox"
          }
         ],
         "name": "1996"
        },
        {
         "data": [
          {
           "customdata": [
            [
             1997,
             2567.5
            ],
            [
             1997,
             1566.9
            ],
            [
             1997,
             1314.4
            ],
            [
             1997,
             608.8
            ],
            [
             1997,
             818
            ],
            [
             1997,
             1224.7
            ],
            [
             1997,
             1259
            ],
            [
             1997,
             2055.3
            ],
            [
             1997,
             202.1
            ],
            [
             1997,
             3571.9
            ],
            [
             1997,
             880.4
            ],
            [
             1997,
             2333.7
            ],
            [
             1997,
             1942.4
            ],
            [
             1997,
             1356.4
            ]
           ],
           "hovertemplate": "<b>%{hovertext}</b><br><br>Year=%{customdata[0]}<br>Population=%{marker.color}<br>Latitude=%{lat}<br>Longitude=%{lon}<extra></extra>",
           "hovertext": [
            "Johor",
            "Kedah",
            "Kelantan",
            "Melaka",
            "Negeri Sembilan",
            "Pahang",
            "Pulau Pinang",
            "Perak",
            "Perlis",
            "Selangor",
            "Terengganu",
            "Sabah",
            "Sarawak",
            "Kuala Lumpur"
           ],
           "lat": [
            1.4927,
            6.1183,
            5.4541,
            2.1896,
            2.725,
            3.8483,
            5.4142,
            4.5963,
            6.4396,
            3.0734,
            5.4409,
            5.9804,
            1.553,
            3.139
           ],
           "legendgroup": "",
           "lon": [
            103.7414,
            100.367,
            102.1998,
            102.2502,
            102.2435,
            103.338,
            100.328,
            101.0921,
            100.2007,
            101.5187,
            103.1277,
            116.076,
            110.3591,
            101.6869
           ],
           "marker": {
            "color": [
             2567.5,
             1566.9,
             1314.4,
             608.8,
             818,
             1224.7,
             1259,
             2055.3,
             202.1,
             3571.9,
             880.4,
             2333.7,
             1942.4,
             1356.4
            ],
            "coloraxis": "coloraxis",
            "size": [
             2567.5,
             1566.9,
             1314.4,
             608.8,
             818,
             1224.7,
             1259,
             2055.3,
             202.1,
             3571.9,
             880.4,
             2333.7,
             1942.4,
             1356.4
            ],
            "sizemode": "area",
            "sizeref": 7.7715555555555556
           },
           "mode": "markers",
           "name": "",
           "showlegend": false,
           "subplot": "mapbox",
           "type": "scattermapbox"
          }
         ],
         "name": "1997"
        },
        {
         "data": [
          {
           "customdata": [
            [
             1998,
             2631.7
            ],
            [
             1998,
             1601.2
            ],
            [
             1998,
             1328.9
            ],
            [
             1998,
             620.5
            ],
            [
             1998,
             833.5
            ],
            [
             1998,
             1248.8
            ],
            [
             1998,
             1282.7
            ],
            [
             1998,
             2066.2
            ],
            [
             1998,
             203.8
            ],
            [
             1998,
             3777.5
            ],
            [
             1998,
             889.6
            ],
            [
             1998,
             2423.5
            ],
            [
             1998,
             1982.1
            ],
            [
             1998,
             1373
            ]
           ],
           "hovertemplate": "<b>%{hovertext}</b><br><br>Year=%{customdata[0]}<br>Population=%{marker.color}<br>Latitude=%{lat}<br>Longitude=%{lon}<extra></extra>",
           "hovertext": [
            "Johor",
            "Kedah",
            "Kelantan",
            "Melaka",
            "Negeri Sembilan",
            "Pahang",
            "Pulau Pinang",
            "Perak",
            "Perlis",
            "Selangor",
            "Terengganu",
            "Sabah",
            "Sarawak",
            "Kuala Lumpur"
           ],
           "lat": [
            1.4927,
            6.1183,
            5.4541,
            2.1896,
            2.725,
            3.8483,
            5.4142,
            4.5963,
            6.4396,
            3.0734,
            5.4409,
            5.9804,
            1.553,
            3.139
           ],
           "legendgroup": "",
           "lon": [
            103.7414,
            100.367,
            102.1998,
            102.2502,
            102.2435,
            103.338,
            100.328,
            101.0921,
            100.2007,
            101.5187,
            103.1277,
            116.076,
            110.3591,
            101.6869
           ],
           "marker": {
            "color": [
             2631.7,
             1601.2,
             1328.9,
             620.5,
             833.5,
             1248.8,
             1282.7,
             2066.2,
             203.8,
             3777.5,
             889.6,
             2423.5,
             1982.1,
             1373
            ],
            "coloraxis": "coloraxis",
            "size": [
             2631.7,
             1601.2,
             1328.9,
             620.5,
             833.5,
             1248.8,
             1282.7,
             2066.2,
             203.8,
             3777.5,
             889.6,
             2423.5,
             1982.1,
             1373
            ],
            "sizemode": "area",
            "sizeref": 7.7715555555555556
           },
           "mode": "markers",
           "name": "",
           "showlegend": false,
           "subplot": "mapbox",
           "type": "scattermapbox"
          }
         ],
         "name": "1998"
        },
        {
         "data": [
          {
           "customdata": [
            [
             1999,
             2699.4
            ],
            [
             1999,
             1636.5
            ],
            [
             1999,
             1344.7
            ],
            [
             1999,
             633.1
            ],
            [
             1999,
             849.5
            ],
            [
             1999,
             1272.5
            ],
            [
             1999,
             1307.5
            ],
            [
             1999,
             2076.7
            ],
            [
             1999,
             205.7
            ],
            [
             1999,
             3981.9
            ],
            [
             1999,
             896.6
            ],
            [
             1999,
             2513.5
            ],
            [
             1999,
             2024.5
            ],
            [
             1999,
             1394
            ]
           ],
           "hovertemplate": "<b>%{hovertext}</b><br><br>Year=%{customdata[0]}<br>Population=%{marker.color}<br>Latitude=%{lat}<br>Longitude=%{lon}<extra></extra>",
           "hovertext": [
            "Johor",
            "Kedah",
            "Kelantan",
            "Melaka",
            "Negeri Sembilan",
            "Pahang",
            "Pulau Pinang",
            "Perak",
            "Perlis",
            "Selangor",
            "Terengganu",
            "Sabah",
            "Sarawak",
            "Kuala Lumpur"
           ],
           "lat": [
            1.4927,
            6.1183,
            5.4541,
            2.1896,
            2.725,
            3.8483,
            5.4142,
            4.5963,
            6.4396,
            3.0734,
            5.4409,
            5.9804,
            1.553,
            3.139
           ],
           "legendgroup": "",
           "lon": [
            103.7414,
            100.367,
            102.1998,
            102.2502,
            102.2435,
            103.338,
            100.328,
            101.0921,
            100.2007,
            101.5187,
            103.1277,
            116.076,
            110.3591,
            101.6869
           ],
           "marker": {
            "color": [
             2699.4,
             1636.5,
             1344.7,
             633.1,
             849.5,
             1272.5,
             1307.5,
             2076.7,
             205.7,
             3981.9,
             896.6,
             2513.5,
             2024.5,
             1394
            ],
            "coloraxis": "coloraxis",
            "size": [
             2699.4,
             1636.5,
             1344.7,
             633.1,
             849.5,
             1272.5,
             1307.5,
             2076.7,
             205.7,
             3981.9,
             896.6,
             2513.5,
             2024.5,
             1394
            ],
            "sizemode": "area",
            "sizeref": 7.7715555555555556
           },
           "mode": "markers",
           "name": "",
           "showlegend": false,
           "subplot": "mapbox",
           "type": "scattermapbox"
          }
         ],
         "name": "1999"
        },
        {
         "data": [
          {
           "customdata": [
            [
             2000,
             2762.5
            ],
            [
             2000,
             1671.9
            ],
            [
             2000,
             1361.4
            ],
            [
             2000,
             646.6
            ],
            [
             2000,
             866.1
            ],
            [
             2000,
             1295.8
            ],
            [
             2000,
             1332.7
            ],
            [
             2000,
             2091.7
            ],
            [
             2000,
             207.6
            ],
            [
             2000,
             4188.9
            ],
            [
             2000,
             902.6
            ],
            [
             2000,
             2603.5
            ],
            [
             2000,
             2071.5
            ],
            [
             2000,
             1416
            ]
           ],
           "hovertemplate": "<b>%{hovertext}</b><br><br>Year=%{customdata[0]}<br>Population=%{marker.color}<br>Latitude=%{lat}<br>Longitude=%{lon}<extra></extra>",
           "hovertext": [
            "Johor",
            "Kedah",
            "Kelantan",
            "Melaka",
            "Negeri Sembilan",
            "Pahang",
            "Pulau Pinang",
            "Perak",
            "Perlis",
            "Selangor",
            "Terengganu",
            "Sabah",
            "Sarawak",
            "Kuala Lumpur"
           ],
           "lat": [
            1.4927,
            6.1183,
            5.4541,
            2.1896,
            2.725,
            3.8483,
            5.4142,
            4.5963,
            6.4396,
            3.0734,
            5.4409,
            5.9804,
            1.553,
            3.139
           ],
           "legendgroup": "",
           "lon": [
            103.7414,
            100.367,
            102.1998,
            102.2502,
            102.2435,
            103.338,
            100.328,
            101.0921,
            100.2007,
            101.5187,
            103.1277,
            116.076,
            110.3591,
            101.6869
           ],
           "marker": {
            "color": [
             2762.5,
             1671.9,
             1361.4,
             646.6,
             866.1,
             1295.8,
             1332.7,
             2091.7,
             207.6,
             4188.9,
             902.6,
             2603.5,
             2071.5,
             1416
            ],
            "coloraxis": "coloraxis",
            "size": [
             2762.5,
             1671.9,
             1361.4,
             646.6,
             866.1,
             1295.8,
             1332.7,
             2091.7,
             207.6,
             4188.9,
             902.6,
             2603.5,
             2071.5,
             1416
            ],
            "sizemode": "area",
            "sizeref": 7.7715555555555556
           },
           "mode": "markers",
           "name": "",
           "showlegend": false,
           "subplot": "mapbox",
           "type": "scattermapbox"
          }
         ],
         "name": "2000"
        },
        {
         "data": [
          {
           "customdata": [
            [
             2001,
             2829.9
            ],
            [
             2001,
             1703.9
            ],
            [
             2001,
             1390
            ],
            [
             2001,
             665.8
            ],
            [
             2001,
             883.7
            ],
            [
             2001,
             1317.3
            ],
            [
             2001,
             1361
            ],
            [
             2001,
             2129
            ],
            [
             2001,
             210.4
            ],
            [
             2001,
             4317.5
            ],
            [
             2001,
             920
            ],
            [
             2001,
             2663.3
            ],
            [
             2001,
             2115.6
            ],
            [
             2001,
             1446.2
            ]
           ],
           "hovertemplate": "<b>%{hovertext}</b><br><br>Year=%{customdata[0]}<br>Population=%{marker.color}<br>Latitude=%{lat}<br>Longitude=%{lon}<extra></extra>",
           "hovertext": [
            "Johor",
            "Kedah",
            "Kelantan",
            "Melaka",
            "Negeri Sembilan",
            "Pahang",
            "Pulau Pinang",
            "Perak",
            "Perlis",
            "Selangor",
            "Terengganu",
            "Sabah",
            "Sarawak",
            "Kuala Lumpur"
           ],
           "lat": [
            1.4927,
            6.1183,
            5.4541,
            2.1896,
            2.725,
            3.8483,
            5.4142,
            4.5963,
            6.4396,
            3.0734,
            5.4409,
            5.9804,
            1.553,
            3.139
           ],
           "legendgroup": "",
           "lon": [
            103.7414,
            100.367,
            102.1998,
            102.2502,
            102.2435,
            103.338,
            100.328,
            101.0921,
            100.2007,
            101.5187,
            103.1277,
            116.076,
            110.3591,
            101.6869
           ],
           "marker": {
            "color": [
             2829.9,
             1703.9,
             1390,
             665.8,
             883.7,
             1317.3,
             1361,
             2129,
             210.4,
             4317.5,
             920,
             2663.3,
             2115.6,
             1446.2
            ],
            "coloraxis": "coloraxis",
            "size": [
             2829.9,
             1703.9,
             1390,
             665.8,
             883.7,
             1317.3,
             1361,
             2129,
             210.4,
             4317.5,
             920,
             2663.3,
             2115.6,
             1446.2
            ],
            "sizemode": "area",
            "sizeref": 7.7715555555555556
           },
           "mode": "markers",
           "name": "",
           "showlegend": false,
           "subplot": "mapbox",
           "type": "scattermapbox"
          }
         ],
         "name": "2001"
        },
        {
         "data": [
          {
           "customdata": [
            [
             2002,
             2893.6
            ],
            [
             2002,
             1734.8
            ],
            [
             2002,
             1416.7
            ],
            [
             2002,
             684.1
            ],
            [
             2002,
             900.3
            ],
            [
             2002,
             1338.7
            ],
            [
             2002,
             1387.3
            ],
            [
             2002,
             2161.8
            ],
            [
             2002,
             213.2
            ],
            [
             2002,
             4446.3
            ],
            [
             2002,
             936.6
            ],
            [
             2002,
             2719.1
            ],
            [
             2002,
             2158.3
            ],
            [
             2002,
             1474.1
            ]
           ],
           "hovertemplate": "<b>%{hovertext}</b><br><br>Year=%{customdata[0]}<br>Population=%{marker.color}<br>Latitude=%{lat}<br>Longitude=%{lon}<extra></extra>",
           "hovertext": [
            "Johor",
            "Kedah",
            "Kelantan",
            "Melaka",
            "Negeri Sembilan",
            "Pahang",
            "Pulau Pinang",
            "Perak",
            "Perlis",
            "Selangor",
            "Terengganu",
            "Sabah",
            "Sarawak",
            "Kuala Lumpur"
           ],
           "lat": [
            1.4927,
            6.1183,
            5.4541,
            2.1896,
            2.725,
            3.8483,
            5.4142,
            4.5963,
            6.4396,
            3.0734,
            5.4409,
            5.9804,
            1.553,
            3.139
           ],
           "legendgroup": "",
           "lon": [
            103.7414,
            100.367,
            102.1998,
            102.2502,
            102.2435,
            103.338,
            100.328,
            101.0921,
            100.2007,
            101.5187,
            103.1277,
            116.076,
            110.3591,
            101.6869
           ],
           "marker": {
            "color": [
             2893.6,
             1734.8,
             1416.7,
             684.1,
             900.3,
             1338.7,
             1387.3,
             2161.8,
             213.2,
             4446.3,
             936.6,
             2719.1,
             2158.3,
             1474.1
            ],
            "coloraxis": "coloraxis",
            "size": [
             2893.6,
             1734.8,
             1416.7,
             684.1,
             900.3,
             1338.7,
             1387.3,
             2161.8,
             213.2,
             4446.3,
             936.6,
             2719.1,
             2158.3,
             1474.1
            ],
            "sizemode": "area",
            "sizeref": 7.7715555555555556
           },
           "mode": "markers",
           "name": "",
           "showlegend": false,
           "subplot": "mapbox",
           "type": "scattermapbox"
          }
         ],
         "name": "2002"
        },
        {
         "data": [
          {
           "customdata": [
            [
             2003,
             2954
            ],
            [
             2003,
             1763.7
            ],
            [
             2003,
             1440.5
            ],
            [
             2003,
             701.8
            ],
            [
             2003,
             916.8
            ],
            [
             2003,
             1360
            ],
            [
             2003,
             1412.2
            ],
            [
             2003,
             2192.1
            ],
            [
             2003,
             216
            ],
            [
             2003,
             4577.3
            ],
            [
             2003,
             951.4
            ],
            [
             2003,
             2774
            ],
            [
             2003,
             2199
            ],
            [
             2003,
             1500.5
            ]
           ],
           "hovertemplate": "<b>%{hovertext}</b><br><br>Year=%{customdata[0]}<br>Population=%{marker.color}<br>Latitude=%{lat}<br>Longitude=%{lon}<extra></extra>",
           "hovertext": [
            "Johor",
            "Kedah",
            "Kelantan",
            "Melaka",
            "Negeri Sembilan",
            "Pahang",
            "Pulau Pinang",
            "Perak",
            "Perlis",
            "Selangor",
            "Terengganu",
            "Sabah",
            "Sarawak",
            "Kuala Lumpur"
           ],
           "lat": [
            1.4927,
            6.1183,
            5.4541,
            2.1896,
            2.725,
            3.8483,
            5.4142,
            4.5963,
            6.4396,
            3.0734,
            5.4409,
            5.9804,
            1.553,
            3.139
           ],
           "legendgroup": "",
           "lon": [
            103.7414,
            100.367,
            102.1998,
            102.2502,
            102.2435,
            103.338,
            100.328,
            101.0921,
            100.2007,
            101.5187,
            103.1277,
            116.076,
            110.3591,
            101.6869
           ],
           "marker": {
            "color": [
             2954,
             1763.7,
             1440.5,
             701.8,
             916.8,
             1360,
             1412.2,
             2192.1,
             216,
             4577.3,
             951.4,
             2774,
             2199,
             1500.5
            ],
            "coloraxis": "coloraxis",
            "size": [
             2954,
             1763.7,
             1440.5,
             701.8,
             916.8,
             1360,
             1412.2,
             2192.1,
             216,
             4577.3,
             951.4,
             2774,
             2199,
             1500.5
            ],
            "sizemode": "area",
            "sizeref": 7.7715555555555556
           },
           "mode": "markers",
           "name": "",
           "showlegend": false,
           "subplot": "mapbox",
           "type": "scattermapbox"
          }
         ],
         "name": "2003"
        },
        {
         "data": [
          {
           "customdata": [
            [
             2004,
             3014.6
            ],
            [
             2004,
             1792.4
            ],
            [
             2004,
             1463.8
            ],
            [
             2004,
             719.8
            ],
            [
             2004,
             933.7
            ],
            [
             2004,
             1380.2
            ],
            [
             2004,
             1436.6
            ],
            [
             2004,
             2222.1
            ],
            [
             2004,
             218.8
            ],
            [
             2004,
             4712.8
            ],
            [
             2004,
             966.6
            ],
            [
             2004,
             2833.4
            ],
            [
             2004,
             2240.4
            ],
            [
             2004,
             1526.4
            ]
           ],
           "hovertemplate": "<b>%{hovertext}</b><br><br>Year=%{customdata[0]}<br>Population=%{marker.color}<br>Latitude=%{lat}<br>Longitude=%{lon}<extra></extra>",
           "hovertext": [
            "Johor",
            "Kedah",
            "Kelantan",
            "Melaka",
            "Negeri Sembilan",
            "Pahang",
            "Pulau Pinang",
            "Perak",
            "Perlis",
            "Selangor",
            "Terengganu",
            "Sabah",
            "Sarawak",
            "Kuala Lumpur"
           ],
           "lat": [
            1.4927,
            6.1183,
            5.4541,
            2.1896,
            2.725,
            3.8483,
            5.4142,
            4.5963,
            6.4396,
            3.0734,
            5.4409,
            5.9804,
            1.553,
            3.139
           ],
           "legendgroup": "",
           "lon": [
            103.7414,
            100.367,
            102.1998,
            102.2502,
            102.2435,
            103.338,
            100.328,
            101.0921,
            100.2007,
            101.5187,
            103.1277,
            116.076,
            110.3591,
            101.6869
           ],
           "marker": {
            "color": [
             3014.6,
             1792.4,
             1463.8,
             719.8,
             933.7,
             1380.2,
             1436.6,
             2222.1,
             218.8,
             4712.8,
             966.6,
             2833.4,
             2240.4,
             1526.4
            ],
            "coloraxis": "coloraxis",
            "size": [
             3014.6,
             1792.4,
             1463.8,
             719.8,
             933.7,
             1380.2,
             1436.6,
             2222.1,
             218.8,
             4712.8,
             966.6,
             2833.4,
             2240.4,
             1526.4
            ],
            "sizemode": "area",
            "sizeref": 7.7715555555555556
           },
           "mode": "markers",
           "name": "",
           "showlegend": false,
           "subplot": "mapbox",
           "type": "scattermapbox"
          }
         ],
         "name": "2004"
        },
        {
         "data": [
          {
           "customdata": [
            [
             2005,
             3074.4
            ],
            [
             2005,
             1820.3
            ],
            [
             2005,
             1486.3
            ],
            [
             2005,
             737.3
            ],
            [
             2005,
             950.3
            ],
            [
             2005,
             1400.8
            ],
            [
             2005,
             1460.4
            ],
            [
             2005,
             2251.1
            ],
            [
             2005,
             221.6
            ],
            [
             2005,
             4849.6
            ],
            [
             2005,
             981.4
            ],
            [
             2005,
             2897
            ],
            [
             2005,
             2282.4
            ],
            [
             2005,
             1551.8
            ]
           ],
           "hovertemplate": "<b>%{hovertext}</b><br><br>Year=%{customdata[0]}<br>Population=%{marker.color}<br>Latitude=%{lat}<br>Longitude=%{lon}<extra></extra>",
           "hovertext": [
            "Johor",
            "Kedah",
            "Kelantan",
            "Melaka",
            "Negeri Sembilan",
            "Pahang",
            "Pulau Pinang",
            "Perak",
            "Perlis",
            "Selangor",
            "Terengganu",
            "Sabah",
            "Sarawak",
            "Kuala Lumpur"
           ],
           "lat": [
            1.4927,
            6.1183,
            5.4541,
            2.1896,
            2.725,
            3.8483,
            5.4142,
            4.5963,
            6.4396,
            3.0734,
            5.4409,
            5.9804,
            1.553,
            3.139
           ],
           "legendgroup": "",
           "lon": [
            103.7414,
            100.367,
            102.1998,
            102.2502,
            102.2435,
            103.338,
            100.328,
            101.0921,
            100.2007,
            101.5187,
            103.1277,
            116.076,
            110.3591,
            101.6869
           ],
           "marker": {
            "color": [
             3074.4,
             1820.3,
             1486.3,
             737.3,
             950.3,
             1400.8,
             1460.4,
             2251.1,
             221.6,
             4849.6,
             981.4,
             2897,
             2282.4,
             1551.8
            ],
            "coloraxis": "coloraxis",
            "size": [
             3074.4,
             1820.3,
             1486.3,
             737.3,
             950.3,
             1400.8,
             1460.4,
             2251.1,
             221.6,
             4849.6,
             981.4,
             2897,
             2282.4,
             1551.8
            ],
            "sizemode": "area",
            "sizeref": 7.7715555555555556
           },
           "mode": "markers",
           "name": "",
           "showlegend": false,
           "subplot": "mapbox",
           "type": "scattermapbox"
          }
         ],
         "name": "2005"
        },
        {
         "data": [
          {
           "customdata": [
            [
             2006,
             3134.4
            ],
            [
             2006,
             1847.5
            ],
            [
             2006,
             1507.6
            ],
            [
             2006,
             755
            ],
            [
             2006,
             967
            ],
            [
             2006,
             1421.2
            ],
            [
             2006,
             1484.1
            ],
            [
             2006,
             2279.3
            ],
            [
             2006,
             224.4
            ],
            [
             2006,
             4986.2
            ],
            [
             2006,
             995.9
            ],
            [
             2006,
             2962.9
            ],
            [
             2006,
             2324.9
            ],
            [
             2006,
             1577.5
            ]
           ],
           "hovertemplate": "<b>%{hovertext}</b><br><br>Year=%{customdata[0]}<br>Population=%{marker.color}<br>Latitude=%{lat}<br>Longitude=%{lon}<extra></extra>",
           "hovertext": [
            "Johor",
            "Kedah",
            "Kelantan",
            "Melaka",
            "Negeri Sembilan",
            "Pahang",
            "Pulau Pinang",
            "Perak",
            "Perlis",
            "Selangor",
            "Terengganu",
            "Sabah",
            "Sarawak",
            "Kuala Lumpur"
           ],
           "lat": [
            1.4927,
            6.1183,
            5.4541,
            2.1896,
            2.725,
            3.8483,
            5.4142,
            4.5963,
            6.4396,
            3.0734,
            5.4409,
            5.9804,
            1.553,
            3.139
           ],
           "legendgroup": "",
           "lon": [
            103.7414,
            100.367,
            102.1998,
            102.2502,
            102.2435,
            103.338,
            100.328,
            101.0921,
            100.2007,
            101.5187,
            103.1277,
            116.076,
            110.3591,
            101.6869
           ],
           "marker": {
            "color": [
             3134.4,
             1847.5,
             1507.6,
             755,
             967,
             1421.2,
             1484.1,
             2279.3,
             224.4,
             4986.2,
             995.9,
             2962.9,
             2324.9,
             1577.5
            ],
            "coloraxis": "coloraxis",
            "size": [
             3134.4,
             1847.5,
             1507.6,
             755,
             967,
             1421.2,
             1484.1,
             2279.3,
             224.4,
             4986.2,
             995.9,
             2962.9,
             2324.9,
             1577.5
            ],
            "sizemode": "area",
            "sizeref": 7.7715555555555556
           },
           "mode": "markers",
           "name": "",
           "showlegend": false,
           "subplot": "mapbox",
           "type": "scattermapbox"
          }
         ],
         "name": "2006"
        },
        {
         "data": [
          {
           "customdata": [
            [
             2007,
             3193.5
            ],
            [
             2007,
             1874.2
            ],
            [
             2007,
             1529.1
            ],
            [
             2007,
             772.8
            ],
            [
             2007,
             983.5
            ],
            [
             2007,
             1441.4
            ],
            [
             2007,
             1507.8
            ],
            [
             2007,
             2306.4
            ],
            [
             2007,
             227.2
            ],
            [
             2007,
             5127.1
            ],
            [
             2007,
             1010.4
            ],
            [
             2007,
             3032.3
            ],
            [
             2007,
             2366.1
            ],
            [
             2007,
             1603.3
            ]
           ],
           "hovertemplate": "<b>%{hovertext}</b><br><br>Year=%{customdata[0]}<br>Population=%{marker.color}<br>Latitude=%{lat}<br>Longitude=%{lon}<extra></extra>",
           "hovertext": [
            "Johor",
            "Kedah",
            "Kelantan",
            "Melaka",
            "Negeri Sembilan",
            "Pahang",
            "Pulau Pinang",
            "Perak",
            "Perlis",
            "Selangor",
            "Terengganu",
            "Sabah",
            "Sarawak",
            "Kuala Lumpur"
           ],
           "lat": [
            1.4927,
            6.1183,
            5.4541,
            2.1896,
            2.725,
            3.8483,
            5.4142,
            4.5963,
            6.4396,
            3.0734,
            5.4409,
            5.9804,
            1.553,
            3.139
           ],
           "legendgroup": "",
           "lon": [
            103.7414,
            100.367,
            102.1998,
            102.2502,
            102.2435,
            103.338,
            100.328,
            101.0921,
            100.2007,
            101.5187,
            103.1277,
            116.076,
            110.3591,
            101.6869
           ],
           "marker": {
            "color": [
             3193.5,
             1874.2,
             1529.1,
             772.8,
             983.5,
             1441.4,
             1507.8,
             2306.4,
             227.2,
             5127.1,
             1010.4,
             3032.3,
             2366.1,
             1603.3
            ],
            "coloraxis": "coloraxis",
            "size": [
             3193.5,
             1874.2,
             1529.1,
             772.8,
             983.5,
             1441.4,
             1507.8,
             2306.4,
             227.2,
             5127.1,
             1010.4,
             3032.3,
             2366.1,
             1603.3
            ],
            "sizemode": "area",
            "sizeref": 7.7715555555555556
           },
           "mode": "markers",
           "name": "",
           "showlegend": false,
           "subplot": "mapbox",
           "type": "scattermapbox"
          }
         ],
         "name": "2007"
        },
        {
         "data": [
          {
           "customdata": [
            [
             2008,
             3252.3
            ],
            [
             2008,
             1900.2
            ],
            [
             2008,
             1549.8
            ],
            [
             2008,
             790.5
            ],
            [
             2008,
             999.6
            ],
            [
             2008,
             1461.6
            ],
            [
             2008,
             1531.3
            ],
            [
             2008,
             2331.6
            ],
            [
             2008,
             230.1
            ],
            [
             2008,
             5268.5
            ],
            [
             2008,
             1025.2
            ],
            [
             2008,
             3105.1
            ],
            [
             2008,
             2408.4
            ],
            [
             2008,
             1628.9
            ]
           ],
           "hovertemplate": "<b>%{hovertext}</b><br><br>Year=%{customdata[0]}<br>Population=%{marker.color}<br>Latitude=%{lat}<br>Longitude=%{lon}<extra></extra>",
           "hovertext": [
            "Johor",
            "Kedah",
            "Kelantan",
            "Melaka",
            "Negeri Sembilan",
            "Pahang",
            "Pulau Pinang",
            "Perak",
            "Perlis",
            "Selangor",
            "Terengganu",
            "Sabah",
            "Sarawak",
            "Kuala Lumpur"
           ],
           "lat": [
            1.4927,
            6.1183,
            5.4541,
            2.1896,
            2.725,
            3.8483,
            5.4142,
            4.5963,
            6.4396,
            3.0734,
            5.4409,
            5.9804,
            1.553,
            3.139
           ],
           "legendgroup": "",
           "lon": [
            103.7414,
            100.367,
            102.1998,
            102.2502,
            102.2435,
            103.338,
            100.328,
            101.0921,
            100.2007,
            101.5187,
            103.1277,
            116.076,
            110.3591,
            101.6869
           ],
           "marker": {
            "color": [
             3252.3,
             1900.2,
             1549.8,
             790.5,
             999.6,
             1461.6,
             1531.3,
             2331.6,
             230.1,
             5268.5,
             1025.2,
             3105.1,
             2408.4,
             1628.9
            ],
            "coloraxis": "coloraxis",
            "size": [
             3252.3,
             1900.2,
             1549.8,
             790.5,
             999.6,
             1461.6,
             1531.3,
             2331.6,
             230.1,
             5268.5,
             1025.2,
             3105.1,
             2408.4,
             1628.9
            ],
            "sizemode": "area",
            "sizeref": 7.7715555555555556
           },
           "mode": "markers",
           "name": "",
           "showlegend": false,
           "subplot": "mapbox",
           "type": "scattermapbox"
          }
         ],
         "name": "2008"
        },
        {
         "data": [
          {
           "customdata": [
            [
             2009,
             3309.4
            ],
            [
             2009,
             1925.3
            ],
            [
             2009,
             1570
            ],
            [
             2009,
             807.8
            ],
            [
             2009,
             1014.9
            ],
            [
             2009,
             1481.7
            ],
            [
             2009,
             1554.3
            ],
            [
             2009,
             2355.7
            ],
            [
             2009,
             233
            ],
            [
             2009,
             5417.8
            ],
            [
             2009,
             1040.7
            ],
            [
             2009,
             3181.1
            ],
            [
             2009,
             2450.8
            ],
            [
             2009,
             1652.8
            ]
           ],
           "hovertemplate": "<b>%{hovertext}</b><br><br>Year=%{customdata[0]}<br>Population=%{marker.color}<br>Latitude=%{lat}<br>Longitude=%{lon}<extra></extra>",
           "hovertext": [
            "Johor",
            "Kedah",
            "Kelantan",
            "Melaka",
            "Negeri Sembilan",
            "Pahang",
            "Pulau Pinang",
            "Perak",
            "Perlis",
            "Selangor",
            "Terengganu",
            "Sabah",
            "Sarawak",
            "Kuala Lumpur"
           ],
           "lat": [
            1.4927,
            6.1183,
            5.4541,
            2.1896,
            2.725,
            3.8483,
            5.4142,
            4.5963,
            6.4396,
            3.0734,
            5.4409,
            5.9804,
            1.553,
            3.139
           ],
           "legendgroup": "",
           "lon": [
            103.7414,
            100.367,
            102.1998,
            102.2502,
            102.2435,
            103.338,
            100.328,
            101.0921,
            100.2007,
            101.5187,
            103.1277,
            116.076,
            110.3591,
            101.6869
           ],
           "marker": {
            "color": [
             3309.4,
             1925.3,
             1570,
             807.8,
             1014.9,
             1481.7,
             1554.3,
             2355.7,
             233,
             5417.8,
             1040.7,
             3181.1,
             2450.8,
             1652.8
            ],
            "coloraxis": "coloraxis",
            "size": [
             3309.4,
             1925.3,
             1570,
             807.8,
             1014.9,
             1481.7,
             1554.3,
             2355.7,
             233,
             5417.8,
             1040.7,
             3181.1,
             2450.8,
             1652.8
            ],
            "sizemode": "area",
            "sizeref": 7.7715555555555556
           },
           "mode": "markers",
           "name": "",
           "showlegend": false,
           "subplot": "mapbox",
           "type": "scattermapbox"
          }
         ],
         "name": "2009"
        },
        {
         "data": [
          {
           "customdata": [
            [
             2010,
             3362.9
            ],
            [
             2010,
             1949.3
            ],
            [
             2010,
             1589.9
            ],
            [
             2010,
             823.6
            ],
            [
             2010,
             1029.5
            ],
            [
             2010,
             1501.9
            ],
            [
             2010,
             1575.9
            ],
            [
             2010,
             2379
            ],
            [
             2010,
             235.8
            ],
            [
             2010,
             5502.1
            ],
            [
             2010,
             1055.4
            ],
            [
             2010,
             3260
            ],
            [
             2010,
             2487.1
            ],
            [
             2010,
             1674.8
            ]
           ],
           "hovertemplate": "<b>%{hovertext}</b><br><br>Year=%{customdata[0]}<br>Population=%{marker.color}<br>Latitude=%{lat}<br>Longitude=%{lon}<extra></extra>",
           "hovertext": [
            "Johor",
            "Kedah",
            "Kelantan",
            "Melaka",
            "Negeri Sembilan",
            "Pahang",
            "Pulau Pinang",
            "Perak",
            "Perlis",
            "Selangor",
            "Terengganu",
            "Sabah",
            "Sarawak",
            "Kuala Lumpur"
           ],
           "lat": [
            1.4927,
            6.1183,
            5.4541,
            2.1896,
            2.725,
            3.8483,
            5.4142,
            4.5963,
            6.4396,
            3.0734,
            5.4409,
            5.9804,
            1.553,
            3.139
           ],
           "legendgroup": "",
           "lon": [
            103.7414,
            100.367,
            102.1998,
            102.2502,
            102.2435,
            103.338,
            100.328,
            101.0921,
            100.2007,
            101.5187,
            103.1277,
            116.076,
            110.3591,
            101.6869
           ],
           "marker": {
            "color": [
             3362.9,
             1949.3,
             1589.9,
             823.6,
             1029.5,
             1501.9,
             1575.9,
             2379,
             235.8,
             5502.1,
             1055.4,
             3260,
             2487.1,
             1674.8
            ],
            "coloraxis": "coloraxis",
            "size": [
             3362.9,
             1949.3,
             1589.9,
             823.6,
             1029.5,
             1501.9,
             1575.9,
             2379,
             235.8,
             5502.1,
             1055.4,
             3260,
             2487.1,
             1674.8
            ],
            "sizemode": "area",
            "sizeref": 7.7715555555555556
           },
           "mode": "markers",
           "name": "",
           "showlegend": false,
           "subplot": "mapbox",
           "type": "scattermapbox"
          }
         ],
         "name": "2010"
        },
        {
         "data": [
          {
           "customdata": [
            [
             2011,
             3410.5
            ],
            [
             2011,
             1971.8
            ],
            [
             2011,
             1618.8
            ],
            [
             2011,
             833.2
            ],
            [
             2011,
             1047.4
            ],
            [
             2011,
             1526.8
            ],
            [
             2011,
             1601
            ],
            [
             2011,
             2402.7
            ],
            [
             2011,
             237.3
            ],
            [
             2011,
             5600.3
            ],
            [
             2011,
             1079
            ],
            [
             2011,
             3345.5
            ],
            [
             2011,
             2527.9
            ],
            [
             2011,
             1693
            ]
           ],
           "hovertemplate": "<b>%{hovertext}</b><br><br>Year=%{customdata[0]}<br>Population=%{marker.color}<br>Latitude=%{lat}<br>Longitude=%{lon}<extra></extra>",
           "hovertext": [
            "Johor",
            "Kedah",
            "Kelantan",
            "Melaka",
            "Negeri Sembilan",
            "Pahang",
            "Pulau Pinang",
            "Perak",
            "Perlis",
            "Selangor",
            "Terengganu",
            "Sabah",
            "Sarawak",
            "Kuala Lumpur"
           ],
           "lat": [
            1.4927,
            6.1183,
            5.4541,
            2.1896,
            2.725,
            3.8483,
            5.4142,
            4.5963,
            6.4396,
            3.0734,
            5.4409,
            5.9804,
            1.553,
            3.139
           ],
           "legendgroup": "",
           "lon": [
            103.7414,
            100.367,
            102.1998,
            102.2502,
            102.2435,
            103.338,
            100.328,
            101.0921,
            100.2007,
            101.5187,
            103.1277,
            116.076,
            110.3591,
            101.6869
           ],
           "marker": {
            "color": [
             3410.5,
             1971.8,
             1618.8,
             833.2,
             1047.4,
             1526.8,
             1601,
             2402.7,
             237.3,
             5600.3,
             1079,
             3345.5,
             2527.9,
             1693
            ],
            "coloraxis": "coloraxis",
            "size": [
             3410.5,
             1971.8,
             1618.8,
             833.2,
             1047.4,
             1526.8,
             1601,
             2402.7,
             237.3,
             5600.3,
             1079,
             3345.5,
             2527.9,
             1693
            ],
            "sizemode": "area",
            "sizeref": 7.7715555555555556
           },
           "mode": "markers",
           "name": "",
           "showlegend": false,
           "subplot": "mapbox",
           "type": "scattermapbox"
          }
         ],
         "name": "2011"
        },
        {
         "data": [
          {
           "customdata": [
            [
             2012,
             3450.4
            ],
            [
             2012,
             2001.1
            ],
            [
             2012,
             1651
            ],
            [
             2012,
             843.2
            ],
            [
             2012,
             1057.7
            ],
            [
             2012,
             1547.1
            ],
            [
             2012,
             1623.2
            ],
            [
             2012,
             2427
            ],
            [
             2012,
             239.4
            ],
            [
             2012,
             5702.4
            ],
            [
             2012,
             1094.1
            ],
            [
             2012,
             3432.7
            ],
            [
             2012,
             2569.7
            ],
            [
             2012,
             1702.1
            ]
           ],
           "hovertemplate": "<b>%{hovertext}</b><br><br>Year=%{customdata[0]}<br>Population=%{marker.color}<br>Latitude=%{lat}<br>Longitude=%{lon}<extra></extra>",
           "hovertext": [
            "Johor",
            "Kedah",
            "Kelantan",
            "Melaka",
            "Negeri Sembilan",
            "Pahang",
            "Pulau Pinang",
            "Perak",
            "Perlis",
            "Selangor",
            "Terengganu",
            "Sabah",
            "Sarawak",
            "Kuala Lumpur"
           ],
           "lat": [
            1.4927,
            6.1183,
            5.4541,
            2.1896,
            2.725,
            3.8483,
            5.4142,
            4.5963,
            6.4396,
            3.0734,
            5.4409,
            5.9804,
            1.553,
            3.139
           ],
           "legendgroup": "",
           "lon": [
            103.7414,
            100.367,
            102.1998,
            102.2502,
            102.2435,
            103.338,
            100.328,
            101.0921,
            100.2007,
            101.5187,
            103.1277,
            116.076,
            110.3591,
            101.6869
           ],
           "marker": {
            "color": [
             3450.4,
             2001.1,
             1651,
             843.2,
             1057.7,
             1547.1,
             1623.2,
             2427,
             239.4,
             5702.4,
             1094.1,
             3432.7,
             2569.7,
             1702.1
            ],
            "coloraxis": "coloraxis",
            "size": [
             3450.4,
             2001.1,
             1651,
             843.2,
             1057.7,
             1547.1,
             1623.2,
             2427,
             239.4,
             5702.4,
             1094.1,
             3432.7,
             2569.7,
             1702.1
            ],
            "sizemode": "area",
            "sizeref": 7.7715555555555556
           },
           "mode": "markers",
           "name": "",
           "showlegend": false,
           "subplot": "mapbox",
           "type": "scattermapbox"
          }
         ],
         "name": "2012"
        },
        {
         "data": [
          {
           "customdata": [
            [
             2013,
             3474.4
            ],
            [
             2013,
             2039.8
            ],
            [
             2013,
             1683.5
            ],
            [
             2013,
             856.7
            ],
            [
             2013,
             1072.2
            ],
            [
             2013,
             1568.7
            ],
            [
             2013,
             1662.6
            ],
            [
             2013,
             2447.2
            ],
            [
             2013,
             242.1
            ],
            [
             2013,
             5904.7
            ],
            [
             2013,
             1113.4
            ],
            [
             2013,
             3611.5
            ],
            [
             2013,
             2642.5
            ],
            [
             2013,
             1723.4
            ]
           ],
           "hovertemplate": "<b>%{hovertext}</b><br><br>Year=%{customdata[0]}<br>Population=%{marker.color}<br>Latitude=%{lat}<br>Longitude=%{lon}<extra></extra>",
           "hovertext": [
            "Johor",
            "Kedah",
            "Kelantan",
            "Melaka",
            "Negeri Sembilan",
            "Pahang",
            "Pulau Pinang",
            "Perak",
            "Perlis",
            "Selangor",
            "Terengganu",
            "Sabah",
            "Sarawak",
            "Kuala Lumpur"
           ],
           "lat": [
            1.4927,
            6.1183,
            5.4541,
            2.1896,
            2.725,
            3.8483,
            5.4142,
            4.5963,
            6.4396,
            3.0734,
            5.4409,
            5.9804,
            1.553,
            3.139
           ],
           "legendgroup": "",
           "lon": [
            103.7414,
            100.367,
            102.1998,
            102.2502,
            102.2435,
            103.338,
            100.328,
            101.0921,
            100.2007,
            101.5187,
            103.1277,
            116.076,
            110.3591,
            101.6869
           ],
           "marker": {
            "color": [
             3474.4,
             2039.8,
             1683.5,
             856.7,
             1072.2,
             1568.7,
             1662.6,
             2447.2,
             242.1,
             5904.7,
             1113.4,
             3611.5,
             2642.5,
             1723.4
            ],
            "coloraxis": "coloraxis",
            "size": [
             3474.4,
             2039.8,
             1683.5,
             856.7,
             1072.2,
             1568.7,
             1662.6,
             2447.2,
             242.1,
             5904.7,
             1113.4,
             3611.5,
             2642.5,
             1723.4
            ],
            "sizemode": "area",
            "sizeref": 7.7715555555555556
           },
           "mode": "markers",
           "name": "",
           "showlegend": false,
           "subplot": "mapbox",
           "type": "scattermapbox"
          }
         ],
         "name": "2013"
        },
        {
         "data": [
          {
           "customdata": [
            [
             2014,
             3559.8
            ],
            [
             2014,
             2062.7
            ],
            [
             2014,
             1723.4
            ],
            [
             2014,
             871.7
            ],
            [
             2014,
             1079.6
            ],
            [
             2014,
             1591.7
            ],
            [
             2014,
             1678.1
            ],
            [
             2014,
             2458.8
            ],
            [
             2014,
             245.1
            ],
            [
             2014,
             6051.3
            ],
            [
             2014,
             1140.4
            ],
            [
             2014,
             3669.9
            ],
            [
             2014,
             2664
            ],
            [
             2014,
             1737.4
            ]
           ],
           "hovertemplate": "<b>%{hovertext}</b><br><br>Year=%{customdata[0]}<br>Population=%{marker.color}<br>Latitude=%{lat}<br>Longitude=%{lon}<extra></extra>",
           "hovertext": [
            "Johor",
            "Kedah",
            "Kelantan",
            "Melaka",
            "Negeri Sembilan",
            "Pahang",
            "Pulau Pinang",
            "Perak",
            "Perlis",
            "Selangor",
            "Terengganu",
            "Sabah",
            "Sarawak",
            "Kuala Lumpur"
           ],
           "lat": [
            1.4927,
            6.1183,
            5.4541,
            2.1896,
            2.725,
            3.8483,
            5.4142,
            4.5963,
            6.4396,
            3.0734,
            5.4409,
            5.9804,
            1.553,
            3.139
           ],
           "legendgroup": "",
           "lon": [
            103.7414,
            100.367,
            102.1998,
            102.2502,
            102.2435,
            103.338,
            100.328,
            101.0921,
            100.2007,
            101.5187,
            103.1277,
            116.076,
            110.3591,
            101.6869
           ],
           "marker": {
            "color": [
             3559.8,
             2062.7,
             1723.4,
             871.7,
             1079.6,
             1591.7,
             1678.1,
             2458.8,
             245.1,
             6051.3,
             1140.4,
             3669.9,
             2664,
             1737.4
            ],
            "coloraxis": "coloraxis",
            "size": [
             3559.8,
             2062.7,
             1723.4,
             871.7,
             1079.6,
             1591.7,
             1678.1,
             2458.8,
             245.1,
             6051.3,
             1140.4,
             3669.9,
             2664,
             1737.4
            ],
            "sizemode": "area",
            "sizeref": 7.7715555555555556
           },
           "mode": "markers",
           "name": "",
           "showlegend": false,
           "subplot": "mapbox",
           "type": "scattermapbox"
          }
         ],
         "name": "2014"
        },
        {
         "data": [
          {
           "customdata": [
            [
             2015,
             3610.3
            ],
            [
             2015,
             2096.5
            ],
            [
             2015,
             1760.6
            ],
            [
             2015,
             889
            ],
            [
             2015,
             1088.8
            ],
            [
             2015,
             1607.9
            ],
            [
             2015,
             1698.1
            ],
            [
             2015,
             2466.9
            ],
            [
             2015,
             248.5
            ],
            [
             2015,
             6178
            ],
            [
             2015,
             1161
            ],
            [
             2015,
             3720.5
            ],
            [
             2015,
             2701.5
            ],
            [
             2015,
             1780.4
            ]
           ],
           "hovertemplate": "<b>%{hovertext}</b><br><br>Year=%{customdata[0]}<br>Population=%{marker.color}<br>Latitude=%{lat}<br>Longitude=%{lon}<extra></extra>",
           "hovertext": [
            "Johor",
            "Kedah",
            "Kelantan",
            "Melaka",
            "Negeri Sembilan",
            "Pahang",
            "Pulau Pinang",
            "Perak",
            "Perlis",
            "Selangor",
            "Terengganu",
            "Sabah",
            "Sarawak",
            "Kuala Lumpur"
           ],
           "lat": [
            1.4927,
            6.1183,
            5.4541,
            2.1896,
            2.725,
            3.8483,
            5.4142,
            4.5963,
            6.4396,
            3.0734,
            5.4409,
            5.9804,
            1.553,
            3.139
           ],
           "legendgroup": "",
           "lon": [
            103.7414,
            100.367,
            102.1998,
            102.2502,
            102.2435,
            103.338,
            100.328,
            101.0921,
            100.2007,
            101.5187,
            103.1277,
            116.076,
            110.3591,
            101.6869
           ],
           "marker": {
            "color": [
             3610.3,
             2096.5,
             1760.6,
             889,
             1088.8,
             1607.9,
             1698.1,
             2466.9,
             248.5,
             6178,
             1161,
             3720.5,
             2701.5,
             1780.4
            ],
            "coloraxis": "coloraxis",
            "size": [
             3610.3,
             2096.5,
             1760.6,
             889,
             1088.8,
             1607.9,
             1698.1,
             2466.9,
             248.5,
             6178,
             1161,
             3720.5,
             2701.5,
             1780.4
            ],
            "sizemode": "area",
            "sizeref": 7.7715555555555556
           },
           "mode": "markers",
           "name": "",
           "showlegend": false,
           "subplot": "mapbox",
           "type": "scattermapbox"
          }
         ],
         "name": "2015"
        },
        {
         "data": [
          {
           "customdata": [
            [
             2016,
             3651.8
            ],
            [
             2016,
             2119.7
            ],
            [
             2016,
             1796.7
            ],
            [
             2016,
             901.1
            ],
            [
             2016,
             1099.3
            ],
            [
             2016,
             1626.7
            ],
            [
             2016,
             1717.7
            ],
            [
             2016,
             2482.1
            ],
            [
             2016,
             251
            ],
            [
             2016,
             6291.5
            ],
            [
             2016,
             1183.4
            ],
            [
             2016,
             3802.8
            ],
            [
             2016,
             2738.7
            ],
            [
             2016,
             1789.7
            ]
           ],
           "hovertemplate": "<b>%{hovertext}</b><br><br>Year=%{customdata[0]}<br>Population=%{marker.color}<br>Latitude=%{lat}<br>Longitude=%{lon}<extra></extra>",
           "hovertext": [
            "Johor",
            "Kedah",
            "Kelantan",
            "Melaka",
            "Negeri Sembilan",
            "Pahang",
            "Pulau Pinang",
            "Perak",
            "Perlis",
            "Selangor",
            "Terengganu",
            "Sabah",
            "Sarawak",
            "Kuala Lumpur"
           ],
           "lat": [
            1.4927,
            6.1183,
            5.4541,
            2.1896,
            2.725,
            3.8483,
            5.4142,
            4.5963,
            6.4396,
            3.0734,
            5.4409,
            5.9804,
            1.553,
            3.139
           ],
           "legendgroup": "",
           "lon": [
            103.7414,
            100.367,
            102.1998,
            102.2502,
            102.2435,
            103.338,
            100.328,
            101.0921,
            100.2007,
            101.5187,
            103.1277,
            116.076,
            110.3591,
            101.6869
           ],
           "marker": {
            "color": [
             3651.8,
             2119.7,
             1796.7,
             901.1,
             1099.3,
             1626.7,
             1717.7,
             2482.1,
             251,
             6291.5,
             1183.4,
             3802.8,
             2738.7,
             1789.7
            ],
            "coloraxis": "coloraxis",
            "size": [
             3651.8,
             2119.7,
             1796.7,
             901.1,
             1099.3,
             1626.7,
             1717.7,
             2482.1,
             251,
             6291.5,
             1183.4,
             3802.8,
             2738.7,
             1789.7
            ],
            "sizemode": "area",
            "sizeref": 7.7715555555555556
           },
           "mode": "markers",
           "name": "",
           "showlegend": false,
           "subplot": "mapbox",
           "type": "scattermapbox"
          }
         ],
         "name": "2016"
        },
        {
         "data": [
          {
           "customdata": [
            [
             2017,
             3697
            ],
            [
             2017,
             2143.9
            ],
            [
             2017,
             1829
            ],
            [
             2017,
             913.1
            ],
            [
             2017,
             1114
            ],
            [
             2017,
             1647
            ],
            [
             2017,
             1744.1
            ],
            [
             2017,
             2493.2
            ],
            [
             2017,
             252
            ],
            [
             2017,
             6380.7
            ],
            [
             2017,
             1208
            ],
            [
             2017,
             3855.9
            ],
            [
             2017,
             2766.3
            ],
            [
             2017,
             1793.2
            ]
           ],
           "hovertemplate": "<b>%{hovertext}</b><br><br>Year=%{customdata[0]}<br>Population=%{marker.color}<br>Latitude=%{lat}<br>Longitude=%{lon}<extra></extra>",
           "hovertext": [
            "Johor",
            "Kedah",
            "Kelantan",
            "Melaka",
            "Negeri Sembilan",
            "Pahang",
            "Pulau Pinang",
            "Perak",
            "Perlis",
            "Selangor",
            "Terengganu",
            "Sabah",
            "Sarawak",
            "Kuala Lumpur"
           ],
           "lat": [
            1.4927,
            6.1183,
            5.4541,
            2.1896,
            2.725,
            3.8483,
            5.4142,
            4.5963,
            6.4396,
            3.0734,
            5.4409,
            5.9804,
            1.553,
            3.139
           ],
           "legendgroup": "",
           "lon": [
            103.7414,
            100.367,
            102.1998,
            102.2502,
            102.2435,
            103.338,
            100.328,
            101.0921,
            100.2007,
            101.5187,
            103.1277,
            116.076,
            110.3591,
            101.6869
           ],
           "marker": {
            "color": [
             3697,
             2143.9,
             1829,
             913.1,
             1114,
             1647,
             1744.1,
             2493.2,
             252,
             6380.7,
             1208,
             3855.9,
             2766.3,
             1793.2
            ],
            "coloraxis": "coloraxis",
            "size": [
             3697,
             2143.9,
             1829,
             913.1,
             1114,
             1647,
             1744.1,
             2493.2,
             252,
             6380.7,
             1208,
             3855.9,
             2766.3,
             1793.2
            ],
            "sizemode": "area",
            "sizeref": 7.7715555555555556
           },
           "mode": "markers",
           "name": "",
           "showlegend": false,
           "subplot": "mapbox",
           "type": "scattermapbox"
          }
         ],
         "name": "2017"
        },
        {
         "data": [
          {
           "customdata": [
            [
             2018,
             3749.4
            ],
            [
             2018,
             2163
            ],
            [
             2018,
             1860.5
            ],
            [
             2018,
             922.4
            ],
            [
             2018,
             1122.9
            ],
            [
             2018,
             1664.7
            ],
            [
             2018,
             1762.8
            ],
            [
             2018,
             2503.5
            ],
            [
             2018,
             253.5
            ],
            [
             2018,
             6475
            ],
            [
             2018,
             1228.3
            ],
            [
             2018,
             3898.4
            ],
            [
             2018,
             2791.7
            ],
            [
             2018,
             1790
            ]
           ],
           "hovertemplate": "<b>%{hovertext}</b><br><br>Year=%{customdata[0]}<br>Population=%{marker.color}<br>Latitude=%{lat}<br>Longitude=%{lon}<extra></extra>",
           "hovertext": [
            "Johor",
            "Kedah",
            "Kelantan",
            "Melaka",
            "Negeri Sembilan",
            "Pahang",
            "Pulau Pinang",
            "Perak",
            "Perlis",
            "Selangor",
            "Terengganu",
            "Sabah",
            "Sarawak",
            "Kuala Lumpur"
           ],
           "lat": [
            1.4927,
            6.1183,
            5.4541,
            2.1896,
            2.725,
            3.8483,
            5.4142,
            4.5963,
            6.4396,
            3.0734,
            5.4409,
            5.9804,
            1.553,
            3.139
           ],
           "legendgroup": "",
           "lon": [
            103.7414,
            100.367,
            102.1998,
            102.2502,
            102.2435,
            103.338,
            100.328,
            101.0921,
            100.2007,
            101.5187,
            103.1277,
            116.076,
            110.3591,
            101.6869
           ],
           "marker": {
            "color": [
             3749.4,
             2163,
             1860.5,
             922.4,
             1122.9,
             1664.7,
             1762.8,
             2503.5,
             253.5,
             6475,
             1228.3,
             3898.4,
             2791.7,
             1790
            ],
            "coloraxis": "coloraxis",
            "size": [
             3749.4,
             2163,
             1860.5,
             922.4,
             1122.9,
             1664.7,
             1762.8,
             2503.5,
             253.5,
             6475,
             1228.3,
             3898.4,
             2791.7,
             1790
            ],
            "sizemode": "area",
            "sizeref": 7.7715555555555556
           },
           "mode": "markers",
           "name": "",
           "showlegend": false,
           "subplot": "mapbox",
           "type": "scattermapbox"
          }
         ],
         "name": "2018"
        },
        {
         "data": [
          {
           "customdata": [
            [
             2019,
             3761.2
            ],
            [
             2019,
             2173.7
            ],
            [
             2019,
             1883.8
            ],
            [
             2019,
             928.4
            ],
            [
             2019,
             1126.2
            ],
            [
             2019,
             1671.4
            ],
            [
             2019,
             1768.8
            ],
            [
             2019,
             2508.8
            ],
            [
             2019,
             254
            ],
            [
             2019,
             6506.1
            ],
            [
             2019,
             1244.5
            ],
            [
             2019,
             3904.4
            ],
            [
             2019,
             2806
            ],
            [
             2019,
             1782.5
            ]
           ],
           "hovertemplate": "<b>%{hovertext}</b><br><br>Year=%{customdata[0]}<br>Population=%{marker.color}<br>Latitude=%{lat}<br>Longitude=%{lon}<extra></extra>",
           "hovertext": [
            "Johor",
            "Kedah",
            "Kelantan",
            "Melaka",
            "Negeri Sembilan",
            "Pahang",
            "Pulau Pinang",
            "Perak",
            "Perlis",
            "Selangor",
            "Terengganu",
            "Sabah",
            "Sarawak",
            "Kuala Lumpur"
           ],
           "lat": [
            1.4927,
            6.1183,
            5.4541,
            2.1896,
            2.725,
            3.8483,
            5.4142,
            4.5963,
            6.4396,
            3.0734,
            5.4409,
            5.9804,
            1.553,
            3.139
           ],
           "legendgroup": "",
           "lon": [
            103.7414,
            100.367,
            102.1998,
            102.2502,
            102.2435,
            103.338,
            100.328,
            101.0921,
            100.2007,
            101.5187,
            103.1277,
            116.076,
            110.3591,
            101.6869
           ],
           "marker": {
            "color": [
             3761.2,
             2173.7,
             1883.8,
             928.4,
             1126.2,
             1671.4,
             1768.8,
             2508.8,
             254,
             6506.1,
             1244.5,
             3904.4,
             2806,
             1782.5
            ],
            "coloraxis": "coloraxis",
            "size": [
             3761.2,
             2173.7,
             1883.8,
             928.4,
             1126.2,
             1671.4,
             1768.8,
             2508.8,
             254,
             6506.1,
             1244.5,
             3904.4,
             2806,
             1782.5
            ],
            "sizemode": "area",
            "sizeref": 7.7715555555555556
           },
           "mode": "markers",
           "name": "",
           "showlegend": false,
           "subplot": "mapbox",
           "type": "scattermapbox"
          }
         ],
         "name": "2019"
        },
        {
         "data": [
          {
           "customdata": [
            [
             2020,
             4009.7
            ],
            [
             2020,
             2131.4
            ],
            [
             2020,
             1792.5
            ],
            [
             2020,
             998.4
            ],
            [
             2020,
             1200
            ],
            [
             2020,
             1591.3
            ],
            [
             2020,
             1740.4
            ],
            [
             2020,
             2496
            ],
            [
             2020,
             284.9
            ],
            [
             2020,
             6994.4
            ],
            [
             2020,
             1149.4
            ],
            [
             2020,
             3418.8
            ],
            [
             2020,
             2453.7
            ],
            [
             2020,
             1982.1
            ]
           ],
           "hovertemplate": "<b>%{hovertext}</b><br><br>Year=%{customdata[0]}<br>Population=%{marker.color}<br>Latitude=%{lat}<br>Longitude=%{lon}<extra></extra>",
           "hovertext": [
            "Johor",
            "Kedah",
            "Kelantan",
            "Melaka",
            "Negeri Sembilan",
            "Pahang",
            "Pulau Pinang",
            "Perak",
            "Perlis",
            "Selangor",
            "Terengganu",
            "Sabah",
            "Sarawak",
            "Kuala Lumpur"
           ],
           "lat": [
            1.4927,
            6.1183,
            5.4541,
            2.1896,
            2.725,
            3.8483,
            5.4142,
            4.5963,
            6.4396,
            3.0734,
            5.4409,
            5.9804,
            1.553,
            3.139
           ],
           "legendgroup": "",
           "lon": [
            103.7414,
            100.367,
            102.1998,
            102.2502,
            102.2435,
            103.338,
            100.328,
            101.0921,
            100.2007,
            101.5187,
            103.1277,
            116.076,
            110.3591,
            101.6869
           ],
           "marker": {
            "color": [
             4009.7,
             2131.4,
             1792.5,
             998.4,
             1200,
             1591.3,
             1740.4,
             2496,
             284.9,
             6994.4,
             1149.4,
             3418.8,
             2453.7,
             1982.1
            ],
            "coloraxis": "coloraxis",
            "size": [
             4009.7,
             2131.4,
             1792.5,
             998.4,
             1200,
             1591.3,
             1740.4,
             2496,
             284.9,
             6994.4,
             1149.4,
             3418.8,
             2453.7,
             1982.1
            ],
            "sizemode": "area",
            "sizeref": 7.7715555555555556
           },
           "mode": "markers",
           "name": "",
           "showlegend": false,
           "subplot": "mapbox",
           "type": "scattermapbox"
          }
         ],
         "name": "2020"
        }
       ],
       "layout": {
        "coloraxis": {
         "colorbar": {
          "title": {
           "text": "Population"
          }
         },
         "colorscale": [
          [
           0,
           "#440154"
          ],
          [
           0.1111111111111111,
           "#482878"
          ],
          [
           0.2222222222222222,
           "#3e4989"
          ],
          [
           0.3333333333333333,
           "#31688e"
          ],
          [
           0.4444444444444444,
           "#26828e"
          ],
          [
           0.5555555555555556,
           "#1f9e89"
          ],
          [
           0.6666666666666666,
           "#35b779"
          ],
          [
           0.7777777777777778,
           "#6ece58"
          ],
          [
           0.8888888888888888,
           "#b5de2b"
          ],
          [
           1,
           "#fde725"
          ]
         ]
        },
        "height": 500,
        "legend": {
         "itemsizing": "constant",
         "tracegroupgap": 0
        },
        "mapbox": {
         "center": {
          "lat": 4.2105,
          "lon": 108.4
         },
         "domain": {
          "x": [
           0,
           1
          ],
          "y": [
           0,
           1
          ]
         },
         "style": "carto-positron",
         "zoom": 4.8
        },
        "margin": {
         "b": 0,
         "l": 30,
         "r": 30,
         "t": 45
        },
        "sliders": [
         {
          "active": 0,
          "currentvalue": {
           "prefix": "Year="
          },
          "len": 0.9,
          "pad": {
           "b": 10,
           "t": 60
          },
          "steps": [
           {
            "args": [
             [
              "1980"
             ],
             {
              "frame": {
               "duration": 0,
               "redraw": true
              },
              "fromcurrent": true,
              "mode": "immediate",
              "transition": {
               "duration": 0,
               "easing": "linear"
              }
             }
            ],
            "label": "1980",
            "method": "animate"
           },
           {
            "args": [
             [
              "1981"
             ],
             {
              "frame": {
               "duration": 0,
               "redraw": true
              },
              "fromcurrent": true,
              "mode": "immediate",
              "transition": {
               "duration": 0,
               "easing": "linear"
              }
             }
            ],
            "label": "1981",
            "method": "animate"
           },
           {
            "args": [
             [
              "1982"
             ],
             {
              "frame": {
               "duration": 0,
               "redraw": true
              },
              "fromcurrent": true,
              "mode": "immediate",
              "transition": {
               "duration": 0,
               "easing": "linear"
              }
             }
            ],
            "label": "1982",
            "method": "animate"
           },
           {
            "args": [
             [
              "1983"
             ],
             {
              "frame": {
               "duration": 0,
               "redraw": true
              },
              "fromcurrent": true,
              "mode": "immediate",
              "transition": {
               "duration": 0,
               "easing": "linear"
              }
             }
            ],
            "label": "1983",
            "method": "animate"
           },
           {
            "args": [
             [
              "1984"
             ],
             {
              "frame": {
               "duration": 0,
               "redraw": true
              },
              "fromcurrent": true,
              "mode": "immediate",
              "transition": {
               "duration": 0,
               "easing": "linear"
              }
             }
            ],
            "label": "1984",
            "method": "animate"
           },
           {
            "args": [
             [
              "1985"
             ],
             {
              "frame": {
               "duration": 0,
               "redraw": true
              },
              "fromcurrent": true,
              "mode": "immediate",
              "transition": {
               "duration": 0,
               "easing": "linear"
              }
             }
            ],
            "label": "1985",
            "method": "animate"
           },
           {
            "args": [
             [
              "1986"
             ],
             {
              "frame": {
               "duration": 0,
               "redraw": true
              },
              "fromcurrent": true,
              "mode": "immediate",
              "transition": {
               "duration": 0,
               "easing": "linear"
              }
             }
            ],
            "label": "1986",
            "method": "animate"
           },
           {
            "args": [
             [
              "1987"
             ],
             {
              "frame": {
               "duration": 0,
               "redraw": true
              },
              "fromcurrent": true,
              "mode": "immediate",
              "transition": {
               "duration": 0,
               "easing": "linear"
              }
             }
            ],
            "label": "1987",
            "method": "animate"
           },
           {
            "args": [
             [
              "1988"
             ],
             {
              "frame": {
               "duration": 0,
               "redraw": true
              },
              "fromcurrent": true,
              "mode": "immediate",
              "transition": {
               "duration": 0,
               "easing": "linear"
              }
             }
            ],
            "label": "1988",
            "method": "animate"
           },
           {
            "args": [
             [
              "1989"
             ],
             {
              "frame": {
               "duration": 0,
               "redraw": true
              },
              "fromcurrent": true,
              "mode": "immediate",
              "transition": {
               "duration": 0,
               "easing": "linear"
              }
             }
            ],
            "label": "1989",
            "method": "animate"
           },
           {
            "args": [
             [
              "1990"
             ],
             {
              "frame": {
               "duration": 0,
               "redraw": true
              },
              "fromcurrent": true,
              "mode": "immediate",
              "transition": {
               "duration": 0,
               "easing": "linear"
              }
             }
            ],
            "label": "1990",
            "method": "animate"
           },
           {
            "args": [
             [
              "1991"
             ],
             {
              "frame": {
               "duration": 0,
               "redraw": true
              },
              "fromcurrent": true,
              "mode": "immediate",
              "transition": {
               "duration": 0,
               "easing": "linear"
              }
             }
            ],
            "label": "1991",
            "method": "animate"
           },
           {
            "args": [
             [
              "1992"
             ],
             {
              "frame": {
               "duration": 0,
               "redraw": true
              },
              "fromcurrent": true,
              "mode": "immediate",
              "transition": {
               "duration": 0,
               "easing": "linear"
              }
             }
            ],
            "label": "1992",
            "method": "animate"
           },
           {
            "args": [
             [
              "1993"
             ],
             {
              "frame": {
               "duration": 0,
               "redraw": true
              },
              "fromcurrent": true,
              "mode": "immediate",
              "transition": {
               "duration": 0,
               "easing": "linear"
              }
             }
            ],
            "label": "1993",
            "method": "animate"
           },
           {
            "args": [
             [
              "1994"
             ],
             {
              "frame": {
               "duration": 0,
               "redraw": true
              },
              "fromcurrent": true,
              "mode": "immediate",
              "transition": {
               "duration": 0,
               "easing": "linear"
              }
             }
            ],
            "label": "1994",
            "method": "animate"
           },
           {
            "args": [
             [
              "1995"
             ],
             {
              "frame": {
               "duration": 0,
               "redraw": true
              },
              "fromcurrent": true,
              "mode": "immediate",
              "transition": {
               "duration": 0,
               "easing": "linear"
              }
             }
            ],
            "label": "1995",
            "method": "animate"
           },
           {
            "args": [
             [
              "1996"
             ],
             {
              "frame": {
               "duration": 0,
               "redraw": true
              },
              "fromcurrent": true,
              "mode": "immediate",
              "transition": {
               "duration": 0,
               "easing": "linear"
              }
             }
            ],
            "label": "1996",
            "method": "animate"
           },
           {
            "args": [
             [
              "1997"
             ],
             {
              "frame": {
               "duration": 0,
               "redraw": true
              },
              "fromcurrent": true,
              "mode": "immediate",
              "transition": {
               "duration": 0,
               "easing": "linear"
              }
             }
            ],
            "label": "1997",
            "method": "animate"
           },
           {
            "args": [
             [
              "1998"
             ],
             {
              "frame": {
               "duration": 0,
               "redraw": true
              },
              "fromcurrent": true,
              "mode": "immediate",
              "transition": {
               "duration": 0,
               "easing": "linear"
              }
             }
            ],
            "label": "1998",
            "method": "animate"
           },
           {
            "args": [
             [
              "1999"
             ],
             {
              "frame": {
               "duration": 0,
               "redraw": true
              },
              "fromcurrent": true,
              "mode": "immediate",
              "transition": {
               "duration": 0,
               "easing": "linear"
              }
             }
            ],
            "label": "1999",
            "method": "animate"
           },
           {
            "args": [
             [
              "2000"
             ],
             {
              "frame": {
               "duration": 0,
               "redraw": true
              },
              "fromcurrent": true,
              "mode": "immediate",
              "transition": {
               "duration": 0,
               "easing": "linear"
              }
             }
            ],
            "label": "2000",
            "method": "animate"
           },
           {
            "args": [
             [
              "2001"
             ],
             {
              "frame": {
               "duration": 0,
               "redraw": true
              },
              "fromcurrent": true,
              "mode": "immediate",
              "transition": {
               "duration": 0,
               "easing": "linear"
              }
             }
            ],
            "label": "2001",
            "method": "animate"
           },
           {
            "args": [
             [
              "2002"
             ],
             {
              "frame": {
               "duration": 0,
               "redraw": true
              },
              "fromcurrent": true,
              "mode": "immediate",
              "transition": {
               "duration": 0,
               "easing": "linear"
              }
             }
            ],
            "label": "2002",
            "method": "animate"
           },
           {
            "args": [
             [
              "2003"
             ],
             {
              "frame": {
               "duration": 0,
               "redraw": true
              },
              "fromcurrent": true,
              "mode": "immediate",
              "transition": {
               "duration": 0,
               "easing": "linear"
              }
             }
            ],
            "label": "2003",
            "method": "animate"
           },
           {
            "args": [
             [
              "2004"
             ],
             {
              "frame": {
               "duration": 0,
               "redraw": true
              },
              "fromcurrent": true,
              "mode": "immediate",
              "transition": {
               "duration": 0,
               "easing": "linear"
              }
             }
            ],
            "label": "2004",
            "method": "animate"
           },
           {
            "args": [
             [
              "2005"
             ],
             {
              "frame": {
               "duration": 0,
               "redraw": true
              },
              "fromcurrent": true,
              "mode": "immediate",
              "transition": {
               "duration": 0,
               "easing": "linear"
              }
             }
            ],
            "label": "2005",
            "method": "animate"
           },
           {
            "args": [
             [
              "2006"
             ],
             {
              "frame": {
               "duration": 0,
               "redraw": true
              },
              "fromcurrent": true,
              "mode": "immediate",
              "transition": {
               "duration": 0,
               "easing": "linear"
              }
             }
            ],
            "label": "2006",
            "method": "animate"
           },
           {
            "args": [
             [
              "2007"
             ],
             {
              "frame": {
               "duration": 0,
               "redraw": true
              },
              "fromcurrent": true,
              "mode": "immediate",
              "transition": {
               "duration": 0,
               "easing": "linear"
              }
             }
            ],
            "label": "2007",
            "method": "animate"
           },
           {
            "args": [
             [
              "2008"
             ],
             {
              "frame": {
               "duration": 0,
               "redraw": true
              },
              "fromcurrent": true,
              "mode": "immediate",
              "transition": {
               "duration": 0,
               "easing": "linear"
              }
             }
            ],
            "label": "2008",
            "method": "animate"
           },
           {
            "args": [
             [
              "2009"
             ],
             {
              "frame": {
               "duration": 0,
               "redraw": true
              },
              "fromcurrent": true,
              "mode": "immediate",
              "transition": {
               "duration": 0,
               "easing": "linear"
              }
             }
            ],
            "label": "2009",
            "method": "animate"
           },
           {
            "args": [
             [
              "2010"
             ],
             {
              "frame": {
               "duration": 0,
               "redraw": true
              },
              "fromcurrent": true,
              "mode": "immediate",
              "transition": {
               "duration": 0,
               "easing": "linear"
              }
             }
            ],
            "label": "2010",
            "method": "animate"
           },
           {
            "args": [
             [
              "2011"
             ],
             {
              "frame": {
               "duration": 0,
               "redraw": true
              },
              "fromcurrent": true,
              "mode": "immediate",
              "transition": {
               "duration": 0,
               "easing": "linear"
              }
             }
            ],
            "label": "2011",
            "method": "animate"
           },
           {
            "args": [
             [
              "2012"
             ],
             {
              "frame": {
               "duration": 0,
               "redraw": true
              },
              "fromcurrent": true,
              "mode": "immediate",
              "transition": {
               "duration": 0,
               "easing": "linear"
              }
             }
            ],
            "label": "2012",
            "method": "animate"
           },
           {
            "args": [
             [
              "2013"
             ],
             {
              "frame": {
               "duration": 0,
               "redraw": true
              },
              "fromcurrent": true,
              "mode": "immediate",
              "transition": {
               "duration": 0,
               "easing": "linear"
              }
             }
            ],
            "label": "2013",
            "method": "animate"
           },
           {
            "args": [
             [
              "2014"
             ],
             {
              "frame": {
               "duration": 0,
               "redraw": true
              },
              "fromcurrent": true,
              "mode": "immediate",
              "transition": {
               "duration": 0,
               "easing": "linear"
              }
             }
            ],
            "label": "2014",
            "method": "animate"
           },
           {
            "args": [
             [
              "2015"
             ],
             {
              "frame": {
               "duration": 0,
               "redraw": true
              },
              "fromcurrent": true,
              "mode": "immediate",
              "transition": {
               "duration": 0,
               "easing": "linear"
              }
             }
            ],
            "label": "2015",
            "method": "animate"
           },
           {
            "args": [
             [
              "2016"
             ],
             {
              "frame": {
               "duration": 0,
               "redraw": true
              },
              "fromcurrent": true,
              "mode": "immediate",
              "transition": {
               "duration": 0,
               "easing": "linear"
              }
             }
            ],
            "label": "2016",
            "method": "animate"
           },
           {
            "args": [
             [
              "2017"
             ],
             {
              "frame": {
               "duration": 0,
               "redraw": true
              },
              "fromcurrent": true,
              "mode": "immediate",
              "transition": {
               "duration": 0,
               "easing": "linear"
              }
             }
            ],
            "label": "2017",
            "method": "animate"
           },
           {
            "args": [
             [
              "2018"
             ],
             {
              "frame": {
               "duration": 0,
               "redraw": true
              },
              "fromcurrent": true,
              "mode": "immediate",
              "transition": {
               "duration": 0,
               "easing": "linear"
              }
             }
            ],
            "label": "2018",
            "method": "animate"
           },
           {
            "args": [
             [
              "2019"
             ],
             {
              "frame": {
               "duration": 0,
               "redraw": true
              },
              "fromcurrent": true,
              "mode": "immediate",
              "transition": {
               "duration": 0,
               "easing": "linear"
              }
             }
            ],
            "label": "2019",
            "method": "animate"
           },
           {
            "args": [
             [
              "2020"
             ],
             {
              "frame": {
               "duration": 0,
               "redraw": true
              },
              "fromcurrent": true,
              "mode": "immediate",
              "transition": {
               "duration": 0,
               "easing": "linear"
              }
             }
            ],
            "label": "2020",
            "method": "animate"
           }
          ],
          "x": 0.1,
          "xanchor": "left",
          "y": 0,
          "yanchor": "top"
         }
        ],
        "template": {
         "data": {
          "bar": [
           {
            "error_x": {
             "color": "#2a3f5f"
            },
            "error_y": {
             "color": "#2a3f5f"
            },
            "marker": {
             "line": {
              "color": "#E5ECF6",
              "width": 0.5
             },
             "pattern": {
              "fillmode": "overlay",
              "size": 10,
              "solidity": 0.2
             }
            },
            "type": "bar"
           }
          ],
          "barpolar": [
           {
            "marker": {
             "line": {
              "color": "#E5ECF6",
              "width": 0.5
             },
             "pattern": {
              "fillmode": "overlay",
              "size": 10,
              "solidity": 0.2
             }
            },
            "type": "barpolar"
           }
          ],
          "carpet": [
           {
            "aaxis": {
             "endlinecolor": "#2a3f5f",
             "gridcolor": "white",
             "linecolor": "white",
             "minorgridcolor": "white",
             "startlinecolor": "#2a3f5f"
            },
            "baxis": {
             "endlinecolor": "#2a3f5f",
             "gridcolor": "white",
             "linecolor": "white",
             "minorgridcolor": "white",
             "startlinecolor": "#2a3f5f"
            },
            "type": "carpet"
           }
          ],
          "choropleth": [
           {
            "colorbar": {
             "outlinewidth": 0,
             "ticks": ""
            },
            "type": "choropleth"
           }
          ],
          "contour": [
           {
            "colorbar": {
             "outlinewidth": 0,
             "ticks": ""
            },
            "colorscale": [
             [
              0,
              "#0d0887"
             ],
             [
              0.1111111111111111,
              "#46039f"
             ],
             [
              0.2222222222222222,
              "#7201a8"
             ],
             [
              0.3333333333333333,
              "#9c179e"
             ],
             [
              0.4444444444444444,
              "#bd3786"
             ],
             [
              0.5555555555555556,
              "#d8576b"
             ],
             [
              0.6666666666666666,
              "#ed7953"
             ],
             [
              0.7777777777777778,
              "#fb9f3a"
             ],
             [
              0.8888888888888888,
              "#fdca26"
             ],
             [
              1,
              "#f0f921"
             ]
            ],
            "type": "contour"
           }
          ],
          "contourcarpet": [
           {
            "colorbar": {
             "outlinewidth": 0,
             "ticks": ""
            },
            "type": "contourcarpet"
           }
          ],
          "heatmap": [
           {
            "colorbar": {
             "outlinewidth": 0,
             "ticks": ""
            },
            "colorscale": [
             [
              0,
              "#0d0887"
             ],
             [
              0.1111111111111111,
              "#46039f"
             ],
             [
              0.2222222222222222,
              "#7201a8"
             ],
             [
              0.3333333333333333,
              "#9c179e"
             ],
             [
              0.4444444444444444,
              "#bd3786"
             ],
             [
              0.5555555555555556,
              "#d8576b"
             ],
             [
              0.6666666666666666,
              "#ed7953"
             ],
             [
              0.7777777777777778,
              "#fb9f3a"
             ],
             [
              0.8888888888888888,
              "#fdca26"
             ],
             [
              1,
              "#f0f921"
             ]
            ],
            "type": "heatmap"
           }
          ],
          "heatmapgl": [
           {
            "colorbar": {
             "outlinewidth": 0,
             "ticks": ""
            },
            "colorscale": [
             [
              0,
              "#0d0887"
             ],
             [
              0.1111111111111111,
              "#46039f"
             ],
             [
              0.2222222222222222,
              "#7201a8"
             ],
             [
              0.3333333333333333,
              "#9c179e"
             ],
             [
              0.4444444444444444,
              "#bd3786"
             ],
             [
              0.5555555555555556,
              "#d8576b"
             ],
             [
              0.6666666666666666,
              "#ed7953"
             ],
             [
              0.7777777777777778,
              "#fb9f3a"
             ],
             [
              0.8888888888888888,
              "#fdca26"
             ],
             [
              1,
              "#f0f921"
             ]
            ],
            "type": "heatmapgl"
           }
          ],
          "histogram": [
           {
            "marker": {
             "pattern": {
              "fillmode": "overlay",
              "size": 10,
              "solidity": 0.2
             }
            },
            "type": "histogram"
           }
          ],
          "histogram2d": [
           {
            "colorbar": {
             "outlinewidth": 0,
             "ticks": ""
            },
            "colorscale": [
             [
              0,
              "#0d0887"
             ],
             [
              0.1111111111111111,
              "#46039f"
             ],
             [
              0.2222222222222222,
              "#7201a8"
             ],
             [
              0.3333333333333333,
              "#9c179e"
             ],
             [
              0.4444444444444444,
              "#bd3786"
             ],
             [
              0.5555555555555556,
              "#d8576b"
             ],
             [
              0.6666666666666666,
              "#ed7953"
             ],
             [
              0.7777777777777778,
              "#fb9f3a"
             ],
             [
              0.8888888888888888,
              "#fdca26"
             ],
             [
              1,
              "#f0f921"
             ]
            ],
            "type": "histogram2d"
           }
          ],
          "histogram2dcontour": [
           {
            "colorbar": {
             "outlinewidth": 0,
             "ticks": ""
            },
            "colorscale": [
             [
              0,
              "#0d0887"
             ],
             [
              0.1111111111111111,
              "#46039f"
             ],
             [
              0.2222222222222222,
              "#7201a8"
             ],
             [
              0.3333333333333333,
              "#9c179e"
             ],
             [
              0.4444444444444444,
              "#bd3786"
             ],
             [
              0.5555555555555556,
              "#d8576b"
             ],
             [
              0.6666666666666666,
              "#ed7953"
             ],
             [
              0.7777777777777778,
              "#fb9f3a"
             ],
             [
              0.8888888888888888,
              "#fdca26"
             ],
             [
              1,
              "#f0f921"
             ]
            ],
            "type": "histogram2dcontour"
           }
          ],
          "mesh3d": [
           {
            "colorbar": {
             "outlinewidth": 0,
             "ticks": ""
            },
            "type": "mesh3d"
           }
          ],
          "parcoords": [
           {
            "line": {
             "colorbar": {
              "outlinewidth": 0,
              "ticks": ""
             }
            },
            "type": "parcoords"
           }
          ],
          "pie": [
           {
            "automargin": true,
            "type": "pie"
           }
          ],
          "scatter": [
           {
            "fillpattern": {
             "fillmode": "overlay",
             "size": 10,
             "solidity": 0.2
            },
            "type": "scatter"
           }
          ],
          "scatter3d": [
           {
            "line": {
             "colorbar": {
              "outlinewidth": 0,
              "ticks": ""
             }
            },
            "marker": {
             "colorbar": {
              "outlinewidth": 0,
              "ticks": ""
             }
            },
            "type": "scatter3d"
           }
          ],
          "scattercarpet": [
           {
            "marker": {
             "colorbar": {
              "outlinewidth": 0,
              "ticks": ""
             }
            },
            "type": "scattercarpet"
           }
          ],
          "scattergeo": [
           {
            "marker": {
             "colorbar": {
              "outlinewidth": 0,
              "ticks": ""
             }
            },
            "type": "scattergeo"
           }
          ],
          "scattergl": [
           {
            "marker": {
             "colorbar": {
              "outlinewidth": 0,
              "ticks": ""
             }
            },
            "type": "scattergl"
           }
          ],
          "scattermapbox": [
           {
            "marker": {
             "colorbar": {
              "outlinewidth": 0,
              "ticks": ""
             }
            },
            "type": "scattermapbox"
           }
          ],
          "scatterpolar": [
           {
            "marker": {
             "colorbar": {
              "outlinewidth": 0,
              "ticks": ""
             }
            },
            "type": "scatterpolar"
           }
          ],
          "scatterpolargl": [
           {
            "marker": {
             "colorbar": {
              "outlinewidth": 0,
              "ticks": ""
             }
            },
            "type": "scatterpolargl"
           }
          ],
          "scatterternary": [
           {
            "marker": {
             "colorbar": {
              "outlinewidth": 0,
              "ticks": ""
             }
            },
            "type": "scatterternary"
           }
          ],
          "surface": [
           {
            "colorbar": {
             "outlinewidth": 0,
             "ticks": ""
            },
            "colorscale": [
             [
              0,
              "#0d0887"
             ],
             [
              0.1111111111111111,
              "#46039f"
             ],
             [
              0.2222222222222222,
              "#7201a8"
             ],
             [
              0.3333333333333333,
              "#9c179e"
             ],
             [
              0.4444444444444444,
              "#bd3786"
             ],
             [
              0.5555555555555556,
              "#d8576b"
             ],
             [
              0.6666666666666666,
              "#ed7953"
             ],
             [
              0.7777777777777778,
              "#fb9f3a"
             ],
             [
              0.8888888888888888,
              "#fdca26"
             ],
             [
              1,
              "#f0f921"
             ]
            ],
            "type": "surface"
           }
          ],
          "table": [
           {
            "cells": {
             "fill": {
              "color": "#EBF0F8"
             },
             "line": {
              "color": "white"
             }
            },
            "header": {
             "fill": {
              "color": "#C8D4E3"
             },
             "line": {
              "color": "white"
             }
            },
            "type": "table"
           }
          ]
         },
         "layout": {
          "annotationdefaults": {
           "arrowcolor": "#2a3f5f",
           "arrowhead": 0,
           "arrowwidth": 1
          },
          "autotypenumbers": "strict",
          "coloraxis": {
           "colorbar": {
            "outlinewidth": 0,
            "ticks": ""
           }
          },
          "colorscale": {
           "diverging": [
            [
             0,
             "#8e0152"
            ],
            [
             0.1,
             "#c51b7d"
            ],
            [
             0.2,
             "#de77ae"
            ],
            [
             0.3,
             "#f1b6da"
            ],
            [
             0.4,
             "#fde0ef"
            ],
            [
             0.5,
             "#f7f7f7"
            ],
            [
             0.6,
             "#e6f5d0"
            ],
            [
             0.7,
             "#b8e186"
            ],
            [
             0.8,
             "#7fbc41"
            ],
            [
             0.9,
             "#4d9221"
            ],
            [
             1,
             "#276419"
            ]
           ],
           "sequential": [
            [
             0,
             "#0d0887"
            ],
            [
             0.1111111111111111,
             "#46039f"
            ],
            [
             0.2222222222222222,
             "#7201a8"
            ],
            [
             0.3333333333333333,
             "#9c179e"
            ],
            [
             0.4444444444444444,
             "#bd3786"
            ],
            [
             0.5555555555555556,
             "#d8576b"
            ],
            [
             0.6666666666666666,
             "#ed7953"
            ],
            [
             0.7777777777777778,
             "#fb9f3a"
            ],
            [
             0.8888888888888888,
             "#fdca26"
            ],
            [
             1,
             "#f0f921"
            ]
           ],
           "sequentialminus": [
            [
             0,
             "#0d0887"
            ],
            [
             0.1111111111111111,
             "#46039f"
            ],
            [
             0.2222222222222222,
             "#7201a8"
            ],
            [
             0.3333333333333333,
             "#9c179e"
            ],
            [
             0.4444444444444444,
             "#bd3786"
            ],
            [
             0.5555555555555556,
             "#d8576b"
            ],
            [
             0.6666666666666666,
             "#ed7953"
            ],
            [
             0.7777777777777778,
             "#fb9f3a"
            ],
            [
             0.8888888888888888,
             "#fdca26"
            ],
            [
             1,
             "#f0f921"
            ]
           ]
          },
          "colorway": [
           "#636efa",
           "#EF553B",
           "#00cc96",
           "#ab63fa",
           "#FFA15A",
           "#19d3f3",
           "#FF6692",
           "#B6E880",
           "#FF97FF",
           "#FECB52"
          ],
          "font": {
           "color": "#2a3f5f"
          },
          "geo": {
           "bgcolor": "white",
           "lakecolor": "white",
           "landcolor": "#E5ECF6",
           "showlakes": true,
           "showland": true,
           "subunitcolor": "white"
          },
          "hoverlabel": {
           "align": "left"
          },
          "hovermode": "closest",
          "mapbox": {
           "style": "light"
          },
          "paper_bgcolor": "white",
          "plot_bgcolor": "#E5ECF6",
          "polar": {
           "angularaxis": {
            "gridcolor": "white",
            "linecolor": "white",
            "ticks": ""
           },
           "bgcolor": "#E5ECF6",
           "radialaxis": {
            "gridcolor": "white",
            "linecolor": "white",
            "ticks": ""
           }
          },
          "scene": {
           "xaxis": {
            "backgroundcolor": "#E5ECF6",
            "gridcolor": "white",
            "gridwidth": 2,
            "linecolor": "white",
            "showbackground": true,
            "ticks": "",
            "zerolinecolor": "white"
           },
           "yaxis": {
            "backgroundcolor": "#E5ECF6",
            "gridcolor": "white",
            "gridwidth": 2,
            "linecolor": "white",
            "showbackground": true,
            "ticks": "",
            "zerolinecolor": "white"
           },
           "zaxis": {
            "backgroundcolor": "#E5ECF6",
            "gridcolor": "white",
            "gridwidth": 2,
            "linecolor": "white",
            "showbackground": true,
            "ticks": "",
            "zerolinecolor": "white"
           }
          },
          "shapedefaults": {
           "line": {
            "color": "#2a3f5f"
           }
          },
          "ternary": {
           "aaxis": {
            "gridcolor": "white",
            "linecolor": "white",
            "ticks": ""
           },
           "baxis": {
            "gridcolor": "white",
            "linecolor": "white",
            "ticks": ""
           },
           "bgcolor": "#E5ECF6",
           "caxis": {
            "gridcolor": "white",
            "linecolor": "white",
            "ticks": ""
           }
          },
          "title": {
           "x": 0.05
          },
          "xaxis": {
           "automargin": true,
           "gridcolor": "white",
           "linecolor": "white",
           "ticks": "",
           "title": {
            "standoff": 15
           },
           "zerolinecolor": "white",
           "zerolinewidth": 2
          },
          "yaxis": {
           "automargin": true,
           "gridcolor": "white",
           "linecolor": "white",
           "ticks": "",
           "title": {
            "standoff": 15
           },
           "zerolinecolor": "white",
           "zerolinewidth": 2
          }
         }
        },
        "title": {
         "text": "Population of Malaysian States Over Time",
         "x": 0.5,
         "xanchor": "center",
         "y": 0.95,
         "yanchor": "top"
        },
        "updatemenus": [
         {
          "buttons": [
           {
            "args": [
             null,
             {
              "frame": {
               "duration": 500,
               "redraw": true
              },
              "fromcurrent": true,
              "mode": "immediate",
              "transition": {
               "duration": 500,
               "easing": "linear"
              }
             }
            ],
            "label": "&#9654;",
            "method": "animate"
           },
           {
            "args": [
             [
              null
             ],
             {
              "frame": {
               "duration": 0,
               "redraw": true
              },
              "fromcurrent": true,
              "mode": "immediate",
              "transition": {
               "duration": 0,
               "easing": "linear"
              }
             }
            ],
            "label": "&#9724;",
            "method": "animate"
           }
          ],
          "direction": "left",
          "pad": {
           "r": 10,
           "t": 70
          },
          "showactive": false,
          "type": "buttons",
          "x": 0.1,
          "xanchor": "right",
          "y": 0,
          "yanchor": "top"
         }
        ],
        "width": 900
       }
      }
     },
     "metadata": {},
     "output_type": "display_data"
    }
   ],
   "source": [
    "import plotly.express as px\n",
    "import pandas as pd\n",
    "\n",
    "# Create a Plotly scatter_mapbox plot\n",
    "fig = px.scatter_mapbox(\n",
    "    states_data,\n",
    "    lat='Latitude',\n",
    "    lon='Longitude',\n",
    "    hover_name='State',\n",
    "    hover_data=['Year', 'Population'],\n",
    "    color='Population',  # Color by population\n",
    "    size='Population',   # Size by population\n",
    "    color_continuous_scale='Viridis',  # Color scale\n",
    "    size_max=30,         # Max size of markers\n",
    "    animation_frame='Year',  # Animate by year\n",
    "    title=\"Population of Malaysian States Over Time\"\n",
    ")\n",
    "\n",
    "fig.update_layout(\n",
    "    mapbox_style=\"carto-positron\",  # Dark map style\n",
    "    mapbox_zoom=4.8,       # Zoom level\n",
    "    mapbox_center={\"lat\": 4.2105, \"lon\": 108.4},  # Adjusted to center Malaysia more inclusively\n",
    "    height=500,\n",
    "    width=900,\n",
    "    title_x=0.5,  # This centers the title horizontally\n",
    "    title_y=0.95,  # Adjust this value to move the title up or down\n",
    "    title_xanchor='center',  # Ensures title is anchored at the center\n",
    "    title_yanchor='top',  # Ensures title is anchored at the top\n",
    "    margin=dict(t=45, b=0, l=30, r=30)  # Reduce top, bottom, left, right margins\n",
    ")\n",
    "\n",
    "fig.show()"
   ]
  },
  {
   "cell_type": "code",
   "execution_count": null,
   "metadata": {},
   "outputs": [],
   "source": []
  },
  {
   "cell_type": "code",
   "execution_count": null,
   "metadata": {},
   "outputs": [],
   "source": []
  }
 ],
 "metadata": {
  "kernelspec": {
   "display_name": "base",
   "language": "python",
   "name": "python3"
  },
  "language_info": {
   "codemirror_mode": {
    "name": "ipython",
    "version": 3
   },
   "file_extension": ".py",
   "mimetype": "text/x-python",
   "name": "python",
   "nbconvert_exporter": "python",
   "pygments_lexer": "ipython3",
   "version": "3.12.3"
  }
 },
 "nbformat": 4,
 "nbformat_minor": 2
}
