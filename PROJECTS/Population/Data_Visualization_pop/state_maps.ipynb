{
 "cells": [
  {
   "cell_type": "markdown",
   "metadata": {},
   "source": [
    "# Chloropleth Maps with go.Chloropeth\n",
    "\n",
    "* For this kind of map we dont need to know the exact coordinates of the location, we need geographical boundary information\n",
    "    - it's provided in GeoJSON file or a shapefile whcih contains geographic shapes of the areas\n",
    "\n",
    "* Gegographical Boundaries - GeoJSON file\n",
    "    - It's a file that format that encodes a variety of geographic data structures\n",
    "    - It includes polygons for each geographic unit which outline the boundaries of states/regions"
   ]
  },
  {
   "cell_type": "code",
   "execution_count": 3,
   "metadata": {},
   "outputs": [
    {
     "data": {
      "text/html": [
       "<div>\n",
       "<style scoped>\n",
       "    .dataframe tbody tr th:only-of-type {\n",
       "        vertical-align: middle;\n",
       "    }\n",
       "\n",
       "    .dataframe tbody tr th {\n",
       "        vertical-align: top;\n",
       "    }\n",
       "\n",
       "    .dataframe thead th {\n",
       "        text-align: right;\n",
       "    }\n",
       "</style>\n",
       "<table border=\"1\" class=\"dataframe\">\n",
       "  <thead>\n",
       "    <tr style=\"text-align: right;\">\n",
       "      <th></th>\n",
       "      <th>Year</th>\n",
       "      <th>Johor</th>\n",
       "      <th>Kedah</th>\n",
       "      <th>Kelantan</th>\n",
       "      <th>Melaka</th>\n",
       "      <th>N_9</th>\n",
       "      <th>Pahang</th>\n",
       "      <th>Penang</th>\n",
       "      <th>Perak</th>\n",
       "      <th>Perlis</th>\n",
       "      <th>Selangor</th>\n",
       "      <th>T'ganu</th>\n",
       "      <th>Sabah</th>\n",
       "      <th>Sarawak</th>\n",
       "      <th>KL</th>\n",
       "    </tr>\n",
       "  </thead>\n",
       "  <tbody>\n",
       "    <tr>\n",
       "      <th>0</th>\n",
       "      <td>1980</td>\n",
       "      <td>1646.2</td>\n",
       "      <td>1119.9</td>\n",
       "      <td>895.7</td>\n",
       "      <td>466.9</td>\n",
       "      <td>576.7</td>\n",
       "      <td>802.1</td>\n",
       "      <td>960.7</td>\n",
       "      <td>1807.4</td>\n",
       "      <td>148.7</td>\n",
       "      <td>1524.1</td>\n",
       "      <td>541.7</td>\n",
       "      <td>1055.1</td>\n",
       "      <td>1351.1</td>\n",
       "      <td>982.9</td>\n",
       "    </tr>\n",
       "    <tr>\n",
       "      <th>1</th>\n",
       "      <td>1981</td>\n",
       "      <td>1689.3</td>\n",
       "      <td>1140.2</td>\n",
       "      <td>920.5</td>\n",
       "      <td>472.6</td>\n",
       "      <td>587.2</td>\n",
       "      <td>820.6</td>\n",
       "      <td>975.4</td>\n",
       "      <td>1838.2</td>\n",
       "      <td>151.6</td>\n",
       "      <td>1594.6</td>\n",
       "      <td>560.8</td>\n",
       "      <td>1119.6</td>\n",
       "      <td>1380.2</td>\n",
       "      <td>1006.1</td>\n",
       "    </tr>\n",
       "    <tr>\n",
       "      <th>2</th>\n",
       "      <td>1982</td>\n",
       "      <td>1734.6</td>\n",
       "      <td>1161.8</td>\n",
       "      <td>947.1</td>\n",
       "      <td>478.7</td>\n",
       "      <td>598.9</td>\n",
       "      <td>842.3</td>\n",
       "      <td>990.9</td>\n",
       "      <td>1866.8</td>\n",
       "      <td>154.9</td>\n",
       "      <td>1668.3</td>\n",
       "      <td>581.4</td>\n",
       "      <td>1186.5</td>\n",
       "      <td>1410.4</td>\n",
       "      <td>1028.5</td>\n",
       "    </tr>\n",
       "  </tbody>\n",
       "</table>\n",
       "</div>"
      ],
      "text/plain": [
       "   Year   Johor   Kedah  Kelantan  Melaka    N_9  Pahang  Penang   Perak  \\\n",
       "0  1980  1646.2  1119.9     895.7   466.9  576.7   802.1   960.7  1807.4   \n",
       "1  1981  1689.3  1140.2     920.5   472.6  587.2   820.6   975.4  1838.2   \n",
       "2  1982  1734.6  1161.8     947.1   478.7  598.9   842.3   990.9  1866.8   \n",
       "\n",
       "   Perlis  Selangor  T'ganu   Sabah  Sarawak      KL  \n",
       "0   148.7    1524.1   541.7  1055.1   1351.1   982.9  \n",
       "1   151.6    1594.6   560.8  1119.6   1380.2  1006.1  \n",
       "2   154.9    1668.3   581.4  1186.5   1410.4  1028.5  "
      ]
     },
     "execution_count": 3,
     "metadata": {},
     "output_type": "execute_result"
    }
   ],
   "source": [
    "import pandas as pd\n",
    "import matplotlib.pyplot as plt\n",
    "import seaborn as sns\n",
    "\n",
    "state = pd.read_excel(r\"C:\\Users\\ASYIKIN\\OneDrive\\Desktop\\PYTHON FOR DATA ANALYSIS\\PROJECTS\\Population\\Dataset_pop\\States_pop.xlsx\")\n",
    "\n",
    "state.head(3)"
   ]
  },
  {
   "cell_type": "code",
   "execution_count": 4,
   "metadata": {},
   "outputs": [
    {
     "data": {
      "text/plain": [
       "Index(['Year', 'Johor', 'Kedah', 'Kelantan', 'Melaka', 'N_9', 'Pahang',\n",
       "       'Penang', 'Perak', 'Perlis', 'Selangor', 'T'ganu', 'Sabah', 'Sarawak',\n",
       "       'KL'],\n",
       "      dtype='object')"
      ]
     },
     "execution_count": 4,
     "metadata": {},
     "output_type": "execute_result"
    }
   ],
   "source": [
    "state.columns"
   ]
  },
  {
   "cell_type": "code",
   "execution_count": null,
   "metadata": {},
   "outputs": [],
   "source": [
    "import plotly.graph_objects as go\n",
    "\n",
    "fig = go.Figure(data=go.Choropleth(\n",
    "    locations=state['']\n",
    ")\n",
    ")"
   ]
  }
 ],
 "metadata": {
  "kernelspec": {
   "display_name": "base",
   "language": "python",
   "name": "python3"
  },
  "language_info": {
   "codemirror_mode": {
    "name": "ipython",
    "version": 3
   },
   "file_extension": ".py",
   "mimetype": "text/x-python",
   "name": "python",
   "nbconvert_exporter": "python",
   "pygments_lexer": "ipython3",
   "version": "3.12.3"
  }
 },
 "nbformat": 4,
 "nbformat_minor": 2
}
