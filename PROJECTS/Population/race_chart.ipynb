{
 "cells": [
  {
   "cell_type": "code",
   "execution_count": 64,
   "metadata": {},
   "outputs": [
    {
     "data": {
      "text/plain": [
       "Index(['State', 'Year', 'Total_pop', 'Tot_Male', 'Tot_Fem', 'Bumi_M', 'Chi_M',\n",
       "       'Ind_M', 'Other_M', 'Bumi_F', 'Chi_F', 'Ind_F', 'Other_F'],\n",
       "      dtype='object')"
      ]
     },
     "execution_count": 64,
     "metadata": {},
     "output_type": "execute_result"
    }
   ],
   "source": [
    "import pandas as pd\n",
    "\n",
    "pop_state = pd.read_excel(r'./Dataset_pop/comb_state_ethno_gen.xlsx')\n",
    "pop_state.columns\n"
   ]
  },
  {
   "cell_type": "code",
   "execution_count": 65,
   "metadata": {},
   "outputs": [
    {
     "data": {
      "text/html": [
       "<div>\n",
       "<style scoped>\n",
       "    .dataframe tbody tr th:only-of-type {\n",
       "        vertical-align: middle;\n",
       "    }\n",
       "\n",
       "    .dataframe tbody tr th {\n",
       "        vertical-align: top;\n",
       "    }\n",
       "\n",
       "    .dataframe thead th {\n",
       "        text-align: right;\n",
       "    }\n",
       "</style>\n",
       "<table border=\"1\" class=\"dataframe\">\n",
       "  <thead>\n",
       "    <tr style=\"text-align: right;\">\n",
       "      <th></th>\n",
       "      <th>Year</th>\n",
       "      <th>Johor</th>\n",
       "      <th>Kedah</th>\n",
       "      <th>Kelantan</th>\n",
       "      <th>Melaka</th>\n",
       "      <th>Negeri Sembilan</th>\n",
       "      <th>Pahang</th>\n",
       "      <th>Penang</th>\n",
       "      <th>Perak</th>\n",
       "      <th>Perlis</th>\n",
       "      <th>Selangor</th>\n",
       "      <th>Terengganu</th>\n",
       "      <th>Sabah</th>\n",
       "      <th>Sarawak</th>\n",
       "      <th>Kuala Lumpur</th>\n",
       "    </tr>\n",
       "  </thead>\n",
       "  <tbody>\n",
       "    <tr>\n",
       "      <th>0</th>\n",
       "      <td>1980</td>\n",
       "      <td>1646.2</td>\n",
       "      <td>1119.9</td>\n",
       "      <td>895.7</td>\n",
       "      <td>466.9</td>\n",
       "      <td>576.7</td>\n",
       "      <td>802.1</td>\n",
       "      <td>960.7</td>\n",
       "      <td>1807.4</td>\n",
       "      <td>148.7</td>\n",
       "      <td>1524.1</td>\n",
       "      <td>541.7</td>\n",
       "      <td>1055.1</td>\n",
       "      <td>1351.1</td>\n",
       "      <td>982.9</td>\n",
       "    </tr>\n",
       "    <tr>\n",
       "      <th>1</th>\n",
       "      <td>1981</td>\n",
       "      <td>1689.3</td>\n",
       "      <td>1140.2</td>\n",
       "      <td>920.5</td>\n",
       "      <td>472.6</td>\n",
       "      <td>587.2</td>\n",
       "      <td>820.6</td>\n",
       "      <td>975.4</td>\n",
       "      <td>1838.2</td>\n",
       "      <td>151.6</td>\n",
       "      <td>1594.6</td>\n",
       "      <td>560.8</td>\n",
       "      <td>1119.6</td>\n",
       "      <td>1380.2</td>\n",
       "      <td>1006.1</td>\n",
       "    </tr>\n",
       "    <tr>\n",
       "      <th>2</th>\n",
       "      <td>1982</td>\n",
       "      <td>1734.6</td>\n",
       "      <td>1161.8</td>\n",
       "      <td>947.1</td>\n",
       "      <td>478.7</td>\n",
       "      <td>598.9</td>\n",
       "      <td>842.3</td>\n",
       "      <td>990.9</td>\n",
       "      <td>1866.8</td>\n",
       "      <td>154.9</td>\n",
       "      <td>1668.3</td>\n",
       "      <td>581.4</td>\n",
       "      <td>1186.5</td>\n",
       "      <td>1410.4</td>\n",
       "      <td>1028.5</td>\n",
       "    </tr>\n",
       "    <tr>\n",
       "      <th>3</th>\n",
       "      <td>1983</td>\n",
       "      <td>1780.2</td>\n",
       "      <td>1183.9</td>\n",
       "      <td>974.6</td>\n",
       "      <td>484.8</td>\n",
       "      <td>611.3</td>\n",
       "      <td>864.8</td>\n",
       "      <td>1006.2</td>\n",
       "      <td>1891.1</td>\n",
       "      <td>158.2</td>\n",
       "      <td>1743.8</td>\n",
       "      <td>602.9</td>\n",
       "      <td>1255.1</td>\n",
       "      <td>1440.6</td>\n",
       "      <td>1050.7</td>\n",
       "    </tr>\n",
       "    <tr>\n",
       "      <th>4</th>\n",
       "      <td>1984</td>\n",
       "      <td>1825.8</td>\n",
       "      <td>1206.1</td>\n",
       "      <td>1002.6</td>\n",
       "      <td>491.2</td>\n",
       "      <td>623.8</td>\n",
       "      <td>888.7</td>\n",
       "      <td>1021.1</td>\n",
       "      <td>1912.3</td>\n",
       "      <td>161.7</td>\n",
       "      <td>1822.0</td>\n",
       "      <td>625.8</td>\n",
       "      <td>1325.7</td>\n",
       "      <td>1471.4</td>\n",
       "      <td>1072.2</td>\n",
       "    </tr>\n",
       "  </tbody>\n",
       "</table>\n",
       "</div>"
      ],
      "text/plain": [
       "   Year   Johor   Kedah  Kelantan  Melaka  Negeri Sembilan  Pahang  Penang  \\\n",
       "0  1980  1646.2  1119.9     895.7   466.9            576.7   802.1   960.7   \n",
       "1  1981  1689.3  1140.2     920.5   472.6            587.2   820.6   975.4   \n",
       "2  1982  1734.6  1161.8     947.1   478.7            598.9   842.3   990.9   \n",
       "3  1983  1780.2  1183.9     974.6   484.8            611.3   864.8  1006.2   \n",
       "4  1984  1825.8  1206.1    1002.6   491.2            623.8   888.7  1021.1   \n",
       "\n",
       "    Perak  Perlis  Selangor  Terengganu   Sabah  Sarawak  Kuala Lumpur  \n",
       "0  1807.4   148.7    1524.1       541.7  1055.1   1351.1         982.9  \n",
       "1  1838.2   151.6    1594.6       560.8  1119.6   1380.2        1006.1  \n",
       "2  1866.8   154.9    1668.3       581.4  1186.5   1410.4        1028.5  \n",
       "3  1891.1   158.2    1743.8       602.9  1255.1   1440.6        1050.7  \n",
       "4  1912.3   161.7    1822.0       625.8  1325.7   1471.4        1072.2  "
      ]
     },
     "execution_count": 65,
     "metadata": {},
     "output_type": "execute_result"
    }
   ],
   "source": [
    "# df= pd.read_csv(r'./Dataset_pop/comb_eth_FM.csv')\n",
    "\n",
    "state_df = pd.read_excel(r'./Dataset_pop/States_pop_2.xlsx')\n",
    "state_df.head()"
   ]
  },
  {
   "cell_type": "code",
   "execution_count": 66,
   "metadata": {},
   "outputs": [
    {
     "data": {
      "text/plain": [
       "Index(['Year', 'Johor', 'Kedah', 'Kelantan', 'Melaka', 'Negeri Sembilan',\n",
       "       'Pahang', 'Penang', 'Perak', 'Perlis', 'Selangor', 'Terengganu',\n",
       "       'Sabah', 'Sarawak', 'Kuala Lumpur'],\n",
       "      dtype='object')"
      ]
     },
     "execution_count": 66,
     "metadata": {},
     "output_type": "execute_result"
    }
   ],
   "source": [
    "state_df.columns"
   ]
  },
  {
   "cell_type": "markdown",
   "metadata": {},
   "source": [
    "# animated race chart\n",
    "\n",
    "- We have to melt the dataframe to get the 'state' and 'population' columns for each year\n",
    "- convert it to a long format df"
   ]
  },
  {
   "cell_type": "code",
   "execution_count": 67,
   "metadata": {},
   "outputs": [
    {
     "data": {
      "application/vnd.plotly.v1+json": {
       "config": {
        "plotlyServerURL": "https://plot.ly"
       },
       "data": [
        {
         "alignmentgroup": "True",
         "hovertemplate": "State=%{y}<br>Year=1980<br>Population=%{x}<extra></extra>",
         "legendgroup": "Johor",
         "marker": {
          "color": "#636efa",
          "pattern": {
           "shape": ""
          }
         },
         "name": "Johor",
         "offsetgroup": "Johor",
         "orientation": "h",
         "showlegend": true,
         "textposition": "auto",
         "type": "bar",
         "x": [
          1646.2
         ],
         "xaxis": "x",
         "y": [
          "Johor"
         ],
         "yaxis": "y"
        },
        {
         "alignmentgroup": "True",
         "hovertemplate": "State=%{y}<br>Year=1980<br>Population=%{x}<extra></extra>",
         "legendgroup": "Kedah",
         "marker": {
          "color": "#EF553B",
          "pattern": {
           "shape": ""
          }
         },
         "name": "Kedah",
         "offsetgroup": "Kedah",
         "orientation": "h",
         "showlegend": true,
         "textposition": "auto",
         "type": "bar",
         "x": [
          1119.9
         ],
         "xaxis": "x",
         "y": [
          "Kedah"
         ],
         "yaxis": "y"
        },
        {
         "alignmentgroup": "True",
         "hovertemplate": "State=%{y}<br>Year=1980<br>Population=%{x}<extra></extra>",
         "legendgroup": "Kelantan",
         "marker": {
          "color": "#00cc96",
          "pattern": {
           "shape": ""
          }
         },
         "name": "Kelantan",
         "offsetgroup": "Kelantan",
         "orientation": "h",
         "showlegend": true,
         "textposition": "auto",
         "type": "bar",
         "x": [
          895.7
         ],
         "xaxis": "x",
         "y": [
          "Kelantan"
         ],
         "yaxis": "y"
        },
        {
         "alignmentgroup": "True",
         "hovertemplate": "State=%{y}<br>Year=1980<br>Population=%{x}<extra></extra>",
         "legendgroup": "Melaka",
         "marker": {
          "color": "#ab63fa",
          "pattern": {
           "shape": ""
          }
         },
         "name": "Melaka",
         "offsetgroup": "Melaka",
         "orientation": "h",
         "showlegend": true,
         "textposition": "auto",
         "type": "bar",
         "x": [
          466.9
         ],
         "xaxis": "x",
         "y": [
          "Melaka"
         ],
         "yaxis": "y"
        },
        {
         "alignmentgroup": "True",
         "hovertemplate": "State=%{y}<br>Year=1980<br>Population=%{x}<extra></extra>",
         "legendgroup": "Negeri Sembilan",
         "marker": {
          "color": "#FFA15A",
          "pattern": {
           "shape": ""
          }
         },
         "name": "Negeri Sembilan",
         "offsetgroup": "Negeri Sembilan",
         "orientation": "h",
         "showlegend": true,
         "textposition": "auto",
         "type": "bar",
         "x": [
          576.7
         ],
         "xaxis": "x",
         "y": [
          "Negeri Sembilan"
         ],
         "yaxis": "y"
        },
        {
         "alignmentgroup": "True",
         "hovertemplate": "State=%{y}<br>Year=1980<br>Population=%{x}<extra></extra>",
         "legendgroup": "Pahang",
         "marker": {
          "color": "#19d3f3",
          "pattern": {
           "shape": ""
          }
         },
         "name": "Pahang",
         "offsetgroup": "Pahang",
         "orientation": "h",
         "showlegend": true,
         "textposition": "auto",
         "type": "bar",
         "x": [
          802.1
         ],
         "xaxis": "x",
         "y": [
          "Pahang"
         ],
         "yaxis": "y"
        },
        {
         "alignmentgroup": "True",
         "hovertemplate": "State=%{y}<br>Year=1980<br>Population=%{x}<extra></extra>",
         "legendgroup": "Penang",
         "marker": {
          "color": "#FF6692",
          "pattern": {
           "shape": ""
          }
         },
         "name": "Penang",
         "offsetgroup": "Penang",
         "orientation": "h",
         "showlegend": true,
         "textposition": "auto",
         "type": "bar",
         "x": [
          960.7
         ],
         "xaxis": "x",
         "y": [
          "Penang"
         ],
         "yaxis": "y"
        },
        {
         "alignmentgroup": "True",
         "hovertemplate": "State=%{y}<br>Year=1980<br>Population=%{x}<extra></extra>",
         "legendgroup": "Perak",
         "marker": {
          "color": "#B6E880",
          "pattern": {
           "shape": ""
          }
         },
         "name": "Perak",
         "offsetgroup": "Perak",
         "orientation": "h",
         "showlegend": true,
         "textposition": "auto",
         "type": "bar",
         "x": [
          1807.4
         ],
         "xaxis": "x",
         "y": [
          "Perak"
         ],
         "yaxis": "y"
        },
        {
         "alignmentgroup": "True",
         "hovertemplate": "State=%{y}<br>Year=1980<br>Population=%{x}<extra></extra>",
         "legendgroup": "Perlis",
         "marker": {
          "color": "#FF97FF",
          "pattern": {
           "shape": ""
          }
         },
         "name": "Perlis",
         "offsetgroup": "Perlis",
         "orientation": "h",
         "showlegend": true,
         "textposition": "auto",
         "type": "bar",
         "x": [
          148.7
         ],
         "xaxis": "x",
         "y": [
          "Perlis"
         ],
         "yaxis": "y"
        },
        {
         "alignmentgroup": "True",
         "hovertemplate": "State=%{y}<br>Year=1980<br>Population=%{x}<extra></extra>",
         "legendgroup": "Selangor",
         "marker": {
          "color": "#FECB52",
          "pattern": {
           "shape": ""
          }
         },
         "name": "Selangor",
         "offsetgroup": "Selangor",
         "orientation": "h",
         "showlegend": true,
         "textposition": "auto",
         "type": "bar",
         "x": [
          1524.1
         ],
         "xaxis": "x",
         "y": [
          "Selangor"
         ],
         "yaxis": "y"
        },
        {
         "alignmentgroup": "True",
         "hovertemplate": "State=%{y}<br>Year=1980<br>Population=%{x}<extra></extra>",
         "legendgroup": "Terengganu",
         "marker": {
          "color": "#636efa",
          "pattern": {
           "shape": ""
          }
         },
         "name": "Terengganu",
         "offsetgroup": "Terengganu",
         "orientation": "h",
         "showlegend": true,
         "textposition": "auto",
         "type": "bar",
         "x": [
          541.7
         ],
         "xaxis": "x",
         "y": [
          "Terengganu"
         ],
         "yaxis": "y"
        },
        {
         "alignmentgroup": "True",
         "hovertemplate": "State=%{y}<br>Year=1980<br>Population=%{x}<extra></extra>",
         "legendgroup": "Sabah",
         "marker": {
          "color": "#EF553B",
          "pattern": {
           "shape": ""
          }
         },
         "name": "Sabah",
         "offsetgroup": "Sabah",
         "orientation": "h",
         "showlegend": true,
         "textposition": "auto",
         "type": "bar",
         "x": [
          1055.1
         ],
         "xaxis": "x",
         "y": [
          "Sabah"
         ],
         "yaxis": "y"
        },
        {
         "alignmentgroup": "True",
         "hovertemplate": "State=%{y}<br>Year=1980<br>Population=%{x}<extra></extra>",
         "legendgroup": "Sarawak",
         "marker": {
          "color": "#00cc96",
          "pattern": {
           "shape": ""
          }
         },
         "name": "Sarawak",
         "offsetgroup": "Sarawak",
         "orientation": "h",
         "showlegend": true,
         "textposition": "auto",
         "type": "bar",
         "x": [
          1351.1
         ],
         "xaxis": "x",
         "y": [
          "Sarawak"
         ],
         "yaxis": "y"
        },
        {
         "alignmentgroup": "True",
         "hovertemplate": "State=%{y}<br>Year=1980<br>Population=%{x}<extra></extra>",
         "legendgroup": "Kuala Lumpur",
         "marker": {
          "color": "#ab63fa",
          "pattern": {
           "shape": ""
          }
         },
         "name": "Kuala Lumpur",
         "offsetgroup": "Kuala Lumpur",
         "orientation": "h",
         "showlegend": true,
         "textposition": "auto",
         "type": "bar",
         "x": [
          982.9
         ],
         "xaxis": "x",
         "y": [
          "Kuala Lumpur"
         ],
         "yaxis": "y"
        }
       ],
       "frames": [
        {
         "data": [
          {
           "alignmentgroup": "True",
           "hovertemplate": "State=%{y}<br>Year=1980<br>Population=%{x}<extra></extra>",
           "legendgroup": "Johor",
           "marker": {
            "color": "#636efa",
            "pattern": {
             "shape": ""
            }
           },
           "name": "Johor",
           "offsetgroup": "Johor",
           "orientation": "h",
           "showlegend": true,
           "textposition": "auto",
           "type": "bar",
           "x": [
            1646.2
           ],
           "xaxis": "x",
           "y": [
            "Johor"
           ],
           "yaxis": "y"
          },
          {
           "alignmentgroup": "True",
           "hovertemplate": "State=%{y}<br>Year=1980<br>Population=%{x}<extra></extra>",
           "legendgroup": "Kedah",
           "marker": {
            "color": "#EF553B",
            "pattern": {
             "shape": ""
            }
           },
           "name": "Kedah",
           "offsetgroup": "Kedah",
           "orientation": "h",
           "showlegend": true,
           "textposition": "auto",
           "type": "bar",
           "x": [
            1119.9
           ],
           "xaxis": "x",
           "y": [
            "Kedah"
           ],
           "yaxis": "y"
          },
          {
           "alignmentgroup": "True",
           "hovertemplate": "State=%{y}<br>Year=1980<br>Population=%{x}<extra></extra>",
           "legendgroup": "Kelantan",
           "marker": {
            "color": "#00cc96",
            "pattern": {
             "shape": ""
            }
           },
           "name": "Kelantan",
           "offsetgroup": "Kelantan",
           "orientation": "h",
           "showlegend": true,
           "textposition": "auto",
           "type": "bar",
           "x": [
            895.7
           ],
           "xaxis": "x",
           "y": [
            "Kelantan"
           ],
           "yaxis": "y"
          },
          {
           "alignmentgroup": "True",
           "hovertemplate": "State=%{y}<br>Year=1980<br>Population=%{x}<extra></extra>",
           "legendgroup": "Melaka",
           "marker": {
            "color": "#ab63fa",
            "pattern": {
             "shape": ""
            }
           },
           "name": "Melaka",
           "offsetgroup": "Melaka",
           "orientation": "h",
           "showlegend": true,
           "textposition": "auto",
           "type": "bar",
           "x": [
            466.9
           ],
           "xaxis": "x",
           "y": [
            "Melaka"
           ],
           "yaxis": "y"
          },
          {
           "alignmentgroup": "True",
           "hovertemplate": "State=%{y}<br>Year=1980<br>Population=%{x}<extra></extra>",
           "legendgroup": "Negeri Sembilan",
           "marker": {
            "color": "#FFA15A",
            "pattern": {
             "shape": ""
            }
           },
           "name": "Negeri Sembilan",
           "offsetgroup": "Negeri Sembilan",
           "orientation": "h",
           "showlegend": true,
           "textposition": "auto",
           "type": "bar",
           "x": [
            576.7
           ],
           "xaxis": "x",
           "y": [
            "Negeri Sembilan"
           ],
           "yaxis": "y"
          },
          {
           "alignmentgroup": "True",
           "hovertemplate": "State=%{y}<br>Year=1980<br>Population=%{x}<extra></extra>",
           "legendgroup": "Pahang",
           "marker": {
            "color": "#19d3f3",
            "pattern": {
             "shape": ""
            }
           },
           "name": "Pahang",
           "offsetgroup": "Pahang",
           "orientation": "h",
           "showlegend": true,
           "textposition": "auto",
           "type": "bar",
           "x": [
            802.1
           ],
           "xaxis": "x",
           "y": [
            "Pahang"
           ],
           "yaxis": "y"
          },
          {
           "alignmentgroup": "True",
           "hovertemplate": "State=%{y}<br>Year=1980<br>Population=%{x}<extra></extra>",
           "legendgroup": "Penang",
           "marker": {
            "color": "#FF6692",
            "pattern": {
             "shape": ""
            }
           },
           "name": "Penang",
           "offsetgroup": "Penang",
           "orientation": "h",
           "showlegend": true,
           "textposition": "auto",
           "type": "bar",
           "x": [
            960.7
           ],
           "xaxis": "x",
           "y": [
            "Penang"
           ],
           "yaxis": "y"
          },
          {
           "alignmentgroup": "True",
           "hovertemplate": "State=%{y}<br>Year=1980<br>Population=%{x}<extra></extra>",
           "legendgroup": "Perak",
           "marker": {
            "color": "#B6E880",
            "pattern": {
             "shape": ""
            }
           },
           "name": "Perak",
           "offsetgroup": "Perak",
           "orientation": "h",
           "showlegend": true,
           "textposition": "auto",
           "type": "bar",
           "x": [
            1807.4
           ],
           "xaxis": "x",
           "y": [
            "Perak"
           ],
           "yaxis": "y"
          },
          {
           "alignmentgroup": "True",
           "hovertemplate": "State=%{y}<br>Year=1980<br>Population=%{x}<extra></extra>",
           "legendgroup": "Perlis",
           "marker": {
            "color": "#FF97FF",
            "pattern": {
             "shape": ""
            }
           },
           "name": "Perlis",
           "offsetgroup": "Perlis",
           "orientation": "h",
           "showlegend": true,
           "textposition": "auto",
           "type": "bar",
           "x": [
            148.7
           ],
           "xaxis": "x",
           "y": [
            "Perlis"
           ],
           "yaxis": "y"
          },
          {
           "alignmentgroup": "True",
           "hovertemplate": "State=%{y}<br>Year=1980<br>Population=%{x}<extra></extra>",
           "legendgroup": "Selangor",
           "marker": {
            "color": "#FECB52",
            "pattern": {
             "shape": ""
            }
           },
           "name": "Selangor",
           "offsetgroup": "Selangor",
           "orientation": "h",
           "showlegend": true,
           "textposition": "auto",
           "type": "bar",
           "x": [
            1524.1
           ],
           "xaxis": "x",
           "y": [
            "Selangor"
           ],
           "yaxis": "y"
          },
          {
           "alignmentgroup": "True",
           "hovertemplate": "State=%{y}<br>Year=1980<br>Population=%{x}<extra></extra>",
           "legendgroup": "Terengganu",
           "marker": {
            "color": "#636efa",
            "pattern": {
             "shape": ""
            }
           },
           "name": "Terengganu",
           "offsetgroup": "Terengganu",
           "orientation": "h",
           "showlegend": true,
           "textposition": "auto",
           "type": "bar",
           "x": [
            541.7
           ],
           "xaxis": "x",
           "y": [
            "Terengganu"
           ],
           "yaxis": "y"
          },
          {
           "alignmentgroup": "True",
           "hovertemplate": "State=%{y}<br>Year=1980<br>Population=%{x}<extra></extra>",
           "legendgroup": "Sabah",
           "marker": {
            "color": "#EF553B",
            "pattern": {
             "shape": ""
            }
           },
           "name": "Sabah",
           "offsetgroup": "Sabah",
           "orientation": "h",
           "showlegend": true,
           "textposition": "auto",
           "type": "bar",
           "x": [
            1055.1
           ],
           "xaxis": "x",
           "y": [
            "Sabah"
           ],
           "yaxis": "y"
          },
          {
           "alignmentgroup": "True",
           "hovertemplate": "State=%{y}<br>Year=1980<br>Population=%{x}<extra></extra>",
           "legendgroup": "Sarawak",
           "marker": {
            "color": "#00cc96",
            "pattern": {
             "shape": ""
            }
           },
           "name": "Sarawak",
           "offsetgroup": "Sarawak",
           "orientation": "h",
           "showlegend": true,
           "textposition": "auto",
           "type": "bar",
           "x": [
            1351.1
           ],
           "xaxis": "x",
           "y": [
            "Sarawak"
           ],
           "yaxis": "y"
          },
          {
           "alignmentgroup": "True",
           "hovertemplate": "State=%{y}<br>Year=1980<br>Population=%{x}<extra></extra>",
           "legendgroup": "Kuala Lumpur",
           "marker": {
            "color": "#ab63fa",
            "pattern": {
             "shape": ""
            }
           },
           "name": "Kuala Lumpur",
           "offsetgroup": "Kuala Lumpur",
           "orientation": "h",
           "showlegend": true,
           "textposition": "auto",
           "type": "bar",
           "x": [
            982.9
           ],
           "xaxis": "x",
           "y": [
            "Kuala Lumpur"
           ],
           "yaxis": "y"
          }
         ],
         "layout": {
          "annotations": [
           {
            "font": {
             "color": "fuchsia",
             "size": 50,
             "weight": "bold"
            },
            "text": "1980",
            "x": 0.98,
            "xref": "paper",
            "y": 0.5,
            "yref": "paper"
           }
          ]
         },
         "name": "1980"
        },
        {
         "data": [
          {
           "alignmentgroup": "True",
           "hovertemplate": "State=%{y}<br>Year=1981<br>Population=%{x}<extra></extra>",
           "legendgroup": "Johor",
           "marker": {
            "color": "#636efa",
            "pattern": {
             "shape": ""
            }
           },
           "name": "Johor",
           "offsetgroup": "Johor",
           "orientation": "h",
           "showlegend": true,
           "textposition": "auto",
           "type": "bar",
           "x": [
            1689.3
           ],
           "xaxis": "x",
           "y": [
            "Johor"
           ],
           "yaxis": "y"
          },
          {
           "alignmentgroup": "True",
           "hovertemplate": "State=%{y}<br>Year=1981<br>Population=%{x}<extra></extra>",
           "legendgroup": "Kedah",
           "marker": {
            "color": "#EF553B",
            "pattern": {
             "shape": ""
            }
           },
           "name": "Kedah",
           "offsetgroup": "Kedah",
           "orientation": "h",
           "showlegend": true,
           "textposition": "auto",
           "type": "bar",
           "x": [
            1140.2
           ],
           "xaxis": "x",
           "y": [
            "Kedah"
           ],
           "yaxis": "y"
          },
          {
           "alignmentgroup": "True",
           "hovertemplate": "State=%{y}<br>Year=1981<br>Population=%{x}<extra></extra>",
           "legendgroup": "Kelantan",
           "marker": {
            "color": "#00cc96",
            "pattern": {
             "shape": ""
            }
           },
           "name": "Kelantan",
           "offsetgroup": "Kelantan",
           "orientation": "h",
           "showlegend": true,
           "textposition": "auto",
           "type": "bar",
           "x": [
            920.5
           ],
           "xaxis": "x",
           "y": [
            "Kelantan"
           ],
           "yaxis": "y"
          },
          {
           "alignmentgroup": "True",
           "hovertemplate": "State=%{y}<br>Year=1981<br>Population=%{x}<extra></extra>",
           "legendgroup": "Melaka",
           "marker": {
            "color": "#ab63fa",
            "pattern": {
             "shape": ""
            }
           },
           "name": "Melaka",
           "offsetgroup": "Melaka",
           "orientation": "h",
           "showlegend": true,
           "textposition": "auto",
           "type": "bar",
           "x": [
            472.6
           ],
           "xaxis": "x",
           "y": [
            "Melaka"
           ],
           "yaxis": "y"
          },
          {
           "alignmentgroup": "True",
           "hovertemplate": "State=%{y}<br>Year=1981<br>Population=%{x}<extra></extra>",
           "legendgroup": "Negeri Sembilan",
           "marker": {
            "color": "#FFA15A",
            "pattern": {
             "shape": ""
            }
           },
           "name": "Negeri Sembilan",
           "offsetgroup": "Negeri Sembilan",
           "orientation": "h",
           "showlegend": true,
           "textposition": "auto",
           "type": "bar",
           "x": [
            587.2
           ],
           "xaxis": "x",
           "y": [
            "Negeri Sembilan"
           ],
           "yaxis": "y"
          },
          {
           "alignmentgroup": "True",
           "hovertemplate": "State=%{y}<br>Year=1981<br>Population=%{x}<extra></extra>",
           "legendgroup": "Pahang",
           "marker": {
            "color": "#19d3f3",
            "pattern": {
             "shape": ""
            }
           },
           "name": "Pahang",
           "offsetgroup": "Pahang",
           "orientation": "h",
           "showlegend": true,
           "textposition": "auto",
           "type": "bar",
           "x": [
            820.6
           ],
           "xaxis": "x",
           "y": [
            "Pahang"
           ],
           "yaxis": "y"
          },
          {
           "alignmentgroup": "True",
           "hovertemplate": "State=%{y}<br>Year=1981<br>Population=%{x}<extra></extra>",
           "legendgroup": "Penang",
           "marker": {
            "color": "#FF6692",
            "pattern": {
             "shape": ""
            }
           },
           "name": "Penang",
           "offsetgroup": "Penang",
           "orientation": "h",
           "showlegend": true,
           "textposition": "auto",
           "type": "bar",
           "x": [
            975.4
           ],
           "xaxis": "x",
           "y": [
            "Penang"
           ],
           "yaxis": "y"
          },
          {
           "alignmentgroup": "True",
           "hovertemplate": "State=%{y}<br>Year=1981<br>Population=%{x}<extra></extra>",
           "legendgroup": "Perak",
           "marker": {
            "color": "#B6E880",
            "pattern": {
             "shape": ""
            }
           },
           "name": "Perak",
           "offsetgroup": "Perak",
           "orientation": "h",
           "showlegend": true,
           "textposition": "auto",
           "type": "bar",
           "x": [
            1838.2
           ],
           "xaxis": "x",
           "y": [
            "Perak"
           ],
           "yaxis": "y"
          },
          {
           "alignmentgroup": "True",
           "hovertemplate": "State=%{y}<br>Year=1981<br>Population=%{x}<extra></extra>",
           "legendgroup": "Perlis",
           "marker": {
            "color": "#FF97FF",
            "pattern": {
             "shape": ""
            }
           },
           "name": "Perlis",
           "offsetgroup": "Perlis",
           "orientation": "h",
           "showlegend": true,
           "textposition": "auto",
           "type": "bar",
           "x": [
            151.6
           ],
           "xaxis": "x",
           "y": [
            "Perlis"
           ],
           "yaxis": "y"
          },
          {
           "alignmentgroup": "True",
           "hovertemplate": "State=%{y}<br>Year=1981<br>Population=%{x}<extra></extra>",
           "legendgroup": "Selangor",
           "marker": {
            "color": "#FECB52",
            "pattern": {
             "shape": ""
            }
           },
           "name": "Selangor",
           "offsetgroup": "Selangor",
           "orientation": "h",
           "showlegend": true,
           "textposition": "auto",
           "type": "bar",
           "x": [
            1594.6
           ],
           "xaxis": "x",
           "y": [
            "Selangor"
           ],
           "yaxis": "y"
          },
          {
           "alignmentgroup": "True",
           "hovertemplate": "State=%{y}<br>Year=1981<br>Population=%{x}<extra></extra>",
           "legendgroup": "Terengganu",
           "marker": {
            "color": "#636efa",
            "pattern": {
             "shape": ""
            }
           },
           "name": "Terengganu",
           "offsetgroup": "Terengganu",
           "orientation": "h",
           "showlegend": true,
           "textposition": "auto",
           "type": "bar",
           "x": [
            560.8
           ],
           "xaxis": "x",
           "y": [
            "Terengganu"
           ],
           "yaxis": "y"
          },
          {
           "alignmentgroup": "True",
           "hovertemplate": "State=%{y}<br>Year=1981<br>Population=%{x}<extra></extra>",
           "legendgroup": "Sabah",
           "marker": {
            "color": "#EF553B",
            "pattern": {
             "shape": ""
            }
           },
           "name": "Sabah",
           "offsetgroup": "Sabah",
           "orientation": "h",
           "showlegend": true,
           "textposition": "auto",
           "type": "bar",
           "x": [
            1119.6
           ],
           "xaxis": "x",
           "y": [
            "Sabah"
           ],
           "yaxis": "y"
          },
          {
           "alignmentgroup": "True",
           "hovertemplate": "State=%{y}<br>Year=1981<br>Population=%{x}<extra></extra>",
           "legendgroup": "Sarawak",
           "marker": {
            "color": "#00cc96",
            "pattern": {
             "shape": ""
            }
           },
           "name": "Sarawak",
           "offsetgroup": "Sarawak",
           "orientation": "h",
           "showlegend": true,
           "textposition": "auto",
           "type": "bar",
           "x": [
            1380.2
           ],
           "xaxis": "x",
           "y": [
            "Sarawak"
           ],
           "yaxis": "y"
          },
          {
           "alignmentgroup": "True",
           "hovertemplate": "State=%{y}<br>Year=1981<br>Population=%{x}<extra></extra>",
           "legendgroup": "Kuala Lumpur",
           "marker": {
            "color": "#ab63fa",
            "pattern": {
             "shape": ""
            }
           },
           "name": "Kuala Lumpur",
           "offsetgroup": "Kuala Lumpur",
           "orientation": "h",
           "showlegend": true,
           "textposition": "auto",
           "type": "bar",
           "x": [
            1006.1
           ],
           "xaxis": "x",
           "y": [
            "Kuala Lumpur"
           ],
           "yaxis": "y"
          }
         ],
         "layout": {
          "annotations": [
           {
            "font": {
             "color": "fuchsia",
             "size": 50,
             "weight": "bold"
            },
            "text": "1981",
            "x": 0.98,
            "xref": "paper",
            "y": 0.5,
            "yref": "paper"
           }
          ]
         },
         "name": "1981"
        },
        {
         "data": [
          {
           "alignmentgroup": "True",
           "hovertemplate": "State=%{y}<br>Year=1982<br>Population=%{x}<extra></extra>",
           "legendgroup": "Johor",
           "marker": {
            "color": "#636efa",
            "pattern": {
             "shape": ""
            }
           },
           "name": "Johor",
           "offsetgroup": "Johor",
           "orientation": "h",
           "showlegend": true,
           "textposition": "auto",
           "type": "bar",
           "x": [
            1734.6
           ],
           "xaxis": "x",
           "y": [
            "Johor"
           ],
           "yaxis": "y"
          },
          {
           "alignmentgroup": "True",
           "hovertemplate": "State=%{y}<br>Year=1982<br>Population=%{x}<extra></extra>",
           "legendgroup": "Kedah",
           "marker": {
            "color": "#EF553B",
            "pattern": {
             "shape": ""
            }
           },
           "name": "Kedah",
           "offsetgroup": "Kedah",
           "orientation": "h",
           "showlegend": true,
           "textposition": "auto",
           "type": "bar",
           "x": [
            1161.8
           ],
           "xaxis": "x",
           "y": [
            "Kedah"
           ],
           "yaxis": "y"
          },
          {
           "alignmentgroup": "True",
           "hovertemplate": "State=%{y}<br>Year=1982<br>Population=%{x}<extra></extra>",
           "legendgroup": "Kelantan",
           "marker": {
            "color": "#00cc96",
            "pattern": {
             "shape": ""
            }
           },
           "name": "Kelantan",
           "offsetgroup": "Kelantan",
           "orientation": "h",
           "showlegend": true,
           "textposition": "auto",
           "type": "bar",
           "x": [
            947.1
           ],
           "xaxis": "x",
           "y": [
            "Kelantan"
           ],
           "yaxis": "y"
          },
          {
           "alignmentgroup": "True",
           "hovertemplate": "State=%{y}<br>Year=1982<br>Population=%{x}<extra></extra>",
           "legendgroup": "Melaka",
           "marker": {
            "color": "#ab63fa",
            "pattern": {
             "shape": ""
            }
           },
           "name": "Melaka",
           "offsetgroup": "Melaka",
           "orientation": "h",
           "showlegend": true,
           "textposition": "auto",
           "type": "bar",
           "x": [
            478.7
           ],
           "xaxis": "x",
           "y": [
            "Melaka"
           ],
           "yaxis": "y"
          },
          {
           "alignmentgroup": "True",
           "hovertemplate": "State=%{y}<br>Year=1982<br>Population=%{x}<extra></extra>",
           "legendgroup": "Negeri Sembilan",
           "marker": {
            "color": "#FFA15A",
            "pattern": {
             "shape": ""
            }
           },
           "name": "Negeri Sembilan",
           "offsetgroup": "Negeri Sembilan",
           "orientation": "h",
           "showlegend": true,
           "textposition": "auto",
           "type": "bar",
           "x": [
            598.9
           ],
           "xaxis": "x",
           "y": [
            "Negeri Sembilan"
           ],
           "yaxis": "y"
          },
          {
           "alignmentgroup": "True",
           "hovertemplate": "State=%{y}<br>Year=1982<br>Population=%{x}<extra></extra>",
           "legendgroup": "Pahang",
           "marker": {
            "color": "#19d3f3",
            "pattern": {
             "shape": ""
            }
           },
           "name": "Pahang",
           "offsetgroup": "Pahang",
           "orientation": "h",
           "showlegend": true,
           "textposition": "auto",
           "type": "bar",
           "x": [
            842.3
           ],
           "xaxis": "x",
           "y": [
            "Pahang"
           ],
           "yaxis": "y"
          },
          {
           "alignmentgroup": "True",
           "hovertemplate": "State=%{y}<br>Year=1982<br>Population=%{x}<extra></extra>",
           "legendgroup": "Penang",
           "marker": {
            "color": "#FF6692",
            "pattern": {
             "shape": ""
            }
           },
           "name": "Penang",
           "offsetgroup": "Penang",
           "orientation": "h",
           "showlegend": true,
           "textposition": "auto",
           "type": "bar",
           "x": [
            990.9
           ],
           "xaxis": "x",
           "y": [
            "Penang"
           ],
           "yaxis": "y"
          },
          {
           "alignmentgroup": "True",
           "hovertemplate": "State=%{y}<br>Year=1982<br>Population=%{x}<extra></extra>",
           "legendgroup": "Perak",
           "marker": {
            "color": "#B6E880",
            "pattern": {
             "shape": ""
            }
           },
           "name": "Perak",
           "offsetgroup": "Perak",
           "orientation": "h",
           "showlegend": true,
           "textposition": "auto",
           "type": "bar",
           "x": [
            1866.8
           ],
           "xaxis": "x",
           "y": [
            "Perak"
           ],
           "yaxis": "y"
          },
          {
           "alignmentgroup": "True",
           "hovertemplate": "State=%{y}<br>Year=1982<br>Population=%{x}<extra></extra>",
           "legendgroup": "Perlis",
           "marker": {
            "color": "#FF97FF",
            "pattern": {
             "shape": ""
            }
           },
           "name": "Perlis",
           "offsetgroup": "Perlis",
           "orientation": "h",
           "showlegend": true,
           "textposition": "auto",
           "type": "bar",
           "x": [
            154.9
           ],
           "xaxis": "x",
           "y": [
            "Perlis"
           ],
           "yaxis": "y"
          },
          {
           "alignmentgroup": "True",
           "hovertemplate": "State=%{y}<br>Year=1982<br>Population=%{x}<extra></extra>",
           "legendgroup": "Selangor",
           "marker": {
            "color": "#FECB52",
            "pattern": {
             "shape": ""
            }
           },
           "name": "Selangor",
           "offsetgroup": "Selangor",
           "orientation": "h",
           "showlegend": true,
           "textposition": "auto",
           "type": "bar",
           "x": [
            1668.3
           ],
           "xaxis": "x",
           "y": [
            "Selangor"
           ],
           "yaxis": "y"
          },
          {
           "alignmentgroup": "True",
           "hovertemplate": "State=%{y}<br>Year=1982<br>Population=%{x}<extra></extra>",
           "legendgroup": "Terengganu",
           "marker": {
            "color": "#636efa",
            "pattern": {
             "shape": ""
            }
           },
           "name": "Terengganu",
           "offsetgroup": "Terengganu",
           "orientation": "h",
           "showlegend": true,
           "textposition": "auto",
           "type": "bar",
           "x": [
            581.4
           ],
           "xaxis": "x",
           "y": [
            "Terengganu"
           ],
           "yaxis": "y"
          },
          {
           "alignmentgroup": "True",
           "hovertemplate": "State=%{y}<br>Year=1982<br>Population=%{x}<extra></extra>",
           "legendgroup": "Sabah",
           "marker": {
            "color": "#EF553B",
            "pattern": {
             "shape": ""
            }
           },
           "name": "Sabah",
           "offsetgroup": "Sabah",
           "orientation": "h",
           "showlegend": true,
           "textposition": "auto",
           "type": "bar",
           "x": [
            1186.5
           ],
           "xaxis": "x",
           "y": [
            "Sabah"
           ],
           "yaxis": "y"
          },
          {
           "alignmentgroup": "True",
           "hovertemplate": "State=%{y}<br>Year=1982<br>Population=%{x}<extra></extra>",
           "legendgroup": "Sarawak",
           "marker": {
            "color": "#00cc96",
            "pattern": {
             "shape": ""
            }
           },
           "name": "Sarawak",
           "offsetgroup": "Sarawak",
           "orientation": "h",
           "showlegend": true,
           "textposition": "auto",
           "type": "bar",
           "x": [
            1410.4
           ],
           "xaxis": "x",
           "y": [
            "Sarawak"
           ],
           "yaxis": "y"
          },
          {
           "alignmentgroup": "True",
           "hovertemplate": "State=%{y}<br>Year=1982<br>Population=%{x}<extra></extra>",
           "legendgroup": "Kuala Lumpur",
           "marker": {
            "color": "#ab63fa",
            "pattern": {
             "shape": ""
            }
           },
           "name": "Kuala Lumpur",
           "offsetgroup": "Kuala Lumpur",
           "orientation": "h",
           "showlegend": true,
           "textposition": "auto",
           "type": "bar",
           "x": [
            1028.5
           ],
           "xaxis": "x",
           "y": [
            "Kuala Lumpur"
           ],
           "yaxis": "y"
          }
         ],
         "layout": {
          "annotations": [
           {
            "font": {
             "color": "fuchsia",
             "size": 50,
             "weight": "bold"
            },
            "text": "1982",
            "x": 0.98,
            "xref": "paper",
            "y": 0.5,
            "yref": "paper"
           }
          ]
         },
         "name": "1982"
        },
        {
         "data": [
          {
           "alignmentgroup": "True",
           "hovertemplate": "State=%{y}<br>Year=1983<br>Population=%{x}<extra></extra>",
           "legendgroup": "Johor",
           "marker": {
            "color": "#636efa",
            "pattern": {
             "shape": ""
            }
           },
           "name": "Johor",
           "offsetgroup": "Johor",
           "orientation": "h",
           "showlegend": true,
           "textposition": "auto",
           "type": "bar",
           "x": [
            1780.2
           ],
           "xaxis": "x",
           "y": [
            "Johor"
           ],
           "yaxis": "y"
          },
          {
           "alignmentgroup": "True",
           "hovertemplate": "State=%{y}<br>Year=1983<br>Population=%{x}<extra></extra>",
           "legendgroup": "Kedah",
           "marker": {
            "color": "#EF553B",
            "pattern": {
             "shape": ""
            }
           },
           "name": "Kedah",
           "offsetgroup": "Kedah",
           "orientation": "h",
           "showlegend": true,
           "textposition": "auto",
           "type": "bar",
           "x": [
            1183.9
           ],
           "xaxis": "x",
           "y": [
            "Kedah"
           ],
           "yaxis": "y"
          },
          {
           "alignmentgroup": "True",
           "hovertemplate": "State=%{y}<br>Year=1983<br>Population=%{x}<extra></extra>",
           "legendgroup": "Kelantan",
           "marker": {
            "color": "#00cc96",
            "pattern": {
             "shape": ""
            }
           },
           "name": "Kelantan",
           "offsetgroup": "Kelantan",
           "orientation": "h",
           "showlegend": true,
           "textposition": "auto",
           "type": "bar",
           "x": [
            974.6
           ],
           "xaxis": "x",
           "y": [
            "Kelantan"
           ],
           "yaxis": "y"
          },
          {
           "alignmentgroup": "True",
           "hovertemplate": "State=%{y}<br>Year=1983<br>Population=%{x}<extra></extra>",
           "legendgroup": "Melaka",
           "marker": {
            "color": "#ab63fa",
            "pattern": {
             "shape": ""
            }
           },
           "name": "Melaka",
           "offsetgroup": "Melaka",
           "orientation": "h",
           "showlegend": true,
           "textposition": "auto",
           "type": "bar",
           "x": [
            484.8
           ],
           "xaxis": "x",
           "y": [
            "Melaka"
           ],
           "yaxis": "y"
          },
          {
           "alignmentgroup": "True",
           "hovertemplate": "State=%{y}<br>Year=1983<br>Population=%{x}<extra></extra>",
           "legendgroup": "Negeri Sembilan",
           "marker": {
            "color": "#FFA15A",
            "pattern": {
             "shape": ""
            }
           },
           "name": "Negeri Sembilan",
           "offsetgroup": "Negeri Sembilan",
           "orientation": "h",
           "showlegend": true,
           "textposition": "auto",
           "type": "bar",
           "x": [
            611.3
           ],
           "xaxis": "x",
           "y": [
            "Negeri Sembilan"
           ],
           "yaxis": "y"
          },
          {
           "alignmentgroup": "True",
           "hovertemplate": "State=%{y}<br>Year=1983<br>Population=%{x}<extra></extra>",
           "legendgroup": "Pahang",
           "marker": {
            "color": "#19d3f3",
            "pattern": {
             "shape": ""
            }
           },
           "name": "Pahang",
           "offsetgroup": "Pahang",
           "orientation": "h",
           "showlegend": true,
           "textposition": "auto",
           "type": "bar",
           "x": [
            864.8
           ],
           "xaxis": "x",
           "y": [
            "Pahang"
           ],
           "yaxis": "y"
          },
          {
           "alignmentgroup": "True",
           "hovertemplate": "State=%{y}<br>Year=1983<br>Population=%{x}<extra></extra>",
           "legendgroup": "Penang",
           "marker": {
            "color": "#FF6692",
            "pattern": {
             "shape": ""
            }
           },
           "name": "Penang",
           "offsetgroup": "Penang",
           "orientation": "h",
           "showlegend": true,
           "textposition": "auto",
           "type": "bar",
           "x": [
            1006.2
           ],
           "xaxis": "x",
           "y": [
            "Penang"
           ],
           "yaxis": "y"
          },
          {
           "alignmentgroup": "True",
           "hovertemplate": "State=%{y}<br>Year=1983<br>Population=%{x}<extra></extra>",
           "legendgroup": "Perak",
           "marker": {
            "color": "#B6E880",
            "pattern": {
             "shape": ""
            }
           },
           "name": "Perak",
           "offsetgroup": "Perak",
           "orientation": "h",
           "showlegend": true,
           "textposition": "auto",
           "type": "bar",
           "x": [
            1891.1
           ],
           "xaxis": "x",
           "y": [
            "Perak"
           ],
           "yaxis": "y"
          },
          {
           "alignmentgroup": "True",
           "hovertemplate": "State=%{y}<br>Year=1983<br>Population=%{x}<extra></extra>",
           "legendgroup": "Perlis",
           "marker": {
            "color": "#FF97FF",
            "pattern": {
             "shape": ""
            }
           },
           "name": "Perlis",
           "offsetgroup": "Perlis",
           "orientation": "h",
           "showlegend": true,
           "textposition": "auto",
           "type": "bar",
           "x": [
            158.2
           ],
           "xaxis": "x",
           "y": [
            "Perlis"
           ],
           "yaxis": "y"
          },
          {
           "alignmentgroup": "True",
           "hovertemplate": "State=%{y}<br>Year=1983<br>Population=%{x}<extra></extra>",
           "legendgroup": "Selangor",
           "marker": {
            "color": "#FECB52",
            "pattern": {
             "shape": ""
            }
           },
           "name": "Selangor",
           "offsetgroup": "Selangor",
           "orientation": "h",
           "showlegend": true,
           "textposition": "auto",
           "type": "bar",
           "x": [
            1743.8
           ],
           "xaxis": "x",
           "y": [
            "Selangor"
           ],
           "yaxis": "y"
          },
          {
           "alignmentgroup": "True",
           "hovertemplate": "State=%{y}<br>Year=1983<br>Population=%{x}<extra></extra>",
           "legendgroup": "Terengganu",
           "marker": {
            "color": "#636efa",
            "pattern": {
             "shape": ""
            }
           },
           "name": "Terengganu",
           "offsetgroup": "Terengganu",
           "orientation": "h",
           "showlegend": true,
           "textposition": "auto",
           "type": "bar",
           "x": [
            602.9
           ],
           "xaxis": "x",
           "y": [
            "Terengganu"
           ],
           "yaxis": "y"
          },
          {
           "alignmentgroup": "True",
           "hovertemplate": "State=%{y}<br>Year=1983<br>Population=%{x}<extra></extra>",
           "legendgroup": "Sabah",
           "marker": {
            "color": "#EF553B",
            "pattern": {
             "shape": ""
            }
           },
           "name": "Sabah",
           "offsetgroup": "Sabah",
           "orientation": "h",
           "showlegend": true,
           "textposition": "auto",
           "type": "bar",
           "x": [
            1255.1
           ],
           "xaxis": "x",
           "y": [
            "Sabah"
           ],
           "yaxis": "y"
          },
          {
           "alignmentgroup": "True",
           "hovertemplate": "State=%{y}<br>Year=1983<br>Population=%{x}<extra></extra>",
           "legendgroup": "Sarawak",
           "marker": {
            "color": "#00cc96",
            "pattern": {
             "shape": ""
            }
           },
           "name": "Sarawak",
           "offsetgroup": "Sarawak",
           "orientation": "h",
           "showlegend": true,
           "textposition": "auto",
           "type": "bar",
           "x": [
            1440.6
           ],
           "xaxis": "x",
           "y": [
            "Sarawak"
           ],
           "yaxis": "y"
          },
          {
           "alignmentgroup": "True",
           "hovertemplate": "State=%{y}<br>Year=1983<br>Population=%{x}<extra></extra>",
           "legendgroup": "Kuala Lumpur",
           "marker": {
            "color": "#ab63fa",
            "pattern": {
             "shape": ""
            }
           },
           "name": "Kuala Lumpur",
           "offsetgroup": "Kuala Lumpur",
           "orientation": "h",
           "showlegend": true,
           "textposition": "auto",
           "type": "bar",
           "x": [
            1050.7
           ],
           "xaxis": "x",
           "y": [
            "Kuala Lumpur"
           ],
           "yaxis": "y"
          }
         ],
         "layout": {
          "annotations": [
           {
            "font": {
             "color": "fuchsia",
             "size": 50,
             "weight": "bold"
            },
            "text": "1983",
            "x": 0.98,
            "xref": "paper",
            "y": 0.5,
            "yref": "paper"
           }
          ]
         },
         "name": "1983"
        },
        {
         "data": [
          {
           "alignmentgroup": "True",
           "hovertemplate": "State=%{y}<br>Year=1984<br>Population=%{x}<extra></extra>",
           "legendgroup": "Johor",
           "marker": {
            "color": "#636efa",
            "pattern": {
             "shape": ""
            }
           },
           "name": "Johor",
           "offsetgroup": "Johor",
           "orientation": "h",
           "showlegend": true,
           "textposition": "auto",
           "type": "bar",
           "x": [
            1825.8
           ],
           "xaxis": "x",
           "y": [
            "Johor"
           ],
           "yaxis": "y"
          },
          {
           "alignmentgroup": "True",
           "hovertemplate": "State=%{y}<br>Year=1984<br>Population=%{x}<extra></extra>",
           "legendgroup": "Kedah",
           "marker": {
            "color": "#EF553B",
            "pattern": {
             "shape": ""
            }
           },
           "name": "Kedah",
           "offsetgroup": "Kedah",
           "orientation": "h",
           "showlegend": true,
           "textposition": "auto",
           "type": "bar",
           "x": [
            1206.1
           ],
           "xaxis": "x",
           "y": [
            "Kedah"
           ],
           "yaxis": "y"
          },
          {
           "alignmentgroup": "True",
           "hovertemplate": "State=%{y}<br>Year=1984<br>Population=%{x}<extra></extra>",
           "legendgroup": "Kelantan",
           "marker": {
            "color": "#00cc96",
            "pattern": {
             "shape": ""
            }
           },
           "name": "Kelantan",
           "offsetgroup": "Kelantan",
           "orientation": "h",
           "showlegend": true,
           "textposition": "auto",
           "type": "bar",
           "x": [
            1002.6
           ],
           "xaxis": "x",
           "y": [
            "Kelantan"
           ],
           "yaxis": "y"
          },
          {
           "alignmentgroup": "True",
           "hovertemplate": "State=%{y}<br>Year=1984<br>Population=%{x}<extra></extra>",
           "legendgroup": "Melaka",
           "marker": {
            "color": "#ab63fa",
            "pattern": {
             "shape": ""
            }
           },
           "name": "Melaka",
           "offsetgroup": "Melaka",
           "orientation": "h",
           "showlegend": true,
           "textposition": "auto",
           "type": "bar",
           "x": [
            491.2
           ],
           "xaxis": "x",
           "y": [
            "Melaka"
           ],
           "yaxis": "y"
          },
          {
           "alignmentgroup": "True",
           "hovertemplate": "State=%{y}<br>Year=1984<br>Population=%{x}<extra></extra>",
           "legendgroup": "Negeri Sembilan",
           "marker": {
            "color": "#FFA15A",
            "pattern": {
             "shape": ""
            }
           },
           "name": "Negeri Sembilan",
           "offsetgroup": "Negeri Sembilan",
           "orientation": "h",
           "showlegend": true,
           "textposition": "auto",
           "type": "bar",
           "x": [
            623.8
           ],
           "xaxis": "x",
           "y": [
            "Negeri Sembilan"
           ],
           "yaxis": "y"
          },
          {
           "alignmentgroup": "True",
           "hovertemplate": "State=%{y}<br>Year=1984<br>Population=%{x}<extra></extra>",
           "legendgroup": "Pahang",
           "marker": {
            "color": "#19d3f3",
            "pattern": {
             "shape": ""
            }
           },
           "name": "Pahang",
           "offsetgroup": "Pahang",
           "orientation": "h",
           "showlegend": true,
           "textposition": "auto",
           "type": "bar",
           "x": [
            888.7
           ],
           "xaxis": "x",
           "y": [
            "Pahang"
           ],
           "yaxis": "y"
          },
          {
           "alignmentgroup": "True",
           "hovertemplate": "State=%{y}<br>Year=1984<br>Population=%{x}<extra></extra>",
           "legendgroup": "Penang",
           "marker": {
            "color": "#FF6692",
            "pattern": {
             "shape": ""
            }
           },
           "name": "Penang",
           "offsetgroup": "Penang",
           "orientation": "h",
           "showlegend": true,
           "textposition": "auto",
           "type": "bar",
           "x": [
            1021.1
           ],
           "xaxis": "x",
           "y": [
            "Penang"
           ],
           "yaxis": "y"
          },
          {
           "alignmentgroup": "True",
           "hovertemplate": "State=%{y}<br>Year=1984<br>Population=%{x}<extra></extra>",
           "legendgroup": "Perak",
           "marker": {
            "color": "#B6E880",
            "pattern": {
             "shape": ""
            }
           },
           "name": "Perak",
           "offsetgroup": "Perak",
           "orientation": "h",
           "showlegend": true,
           "textposition": "auto",
           "type": "bar",
           "x": [
            1912.3
           ],
           "xaxis": "x",
           "y": [
            "Perak"
           ],
           "yaxis": "y"
          },
          {
           "alignmentgroup": "True",
           "hovertemplate": "State=%{y}<br>Year=1984<br>Population=%{x}<extra></extra>",
           "legendgroup": "Perlis",
           "marker": {
            "color": "#FF97FF",
            "pattern": {
             "shape": ""
            }
           },
           "name": "Perlis",
           "offsetgroup": "Perlis",
           "orientation": "h",
           "showlegend": true,
           "textposition": "auto",
           "type": "bar",
           "x": [
            161.7
           ],
           "xaxis": "x",
           "y": [
            "Perlis"
           ],
           "yaxis": "y"
          },
          {
           "alignmentgroup": "True",
           "hovertemplate": "State=%{y}<br>Year=1984<br>Population=%{x}<extra></extra>",
           "legendgroup": "Selangor",
           "marker": {
            "color": "#FECB52",
            "pattern": {
             "shape": ""
            }
           },
           "name": "Selangor",
           "offsetgroup": "Selangor",
           "orientation": "h",
           "showlegend": true,
           "textposition": "auto",
           "type": "bar",
           "x": [
            1822
           ],
           "xaxis": "x",
           "y": [
            "Selangor"
           ],
           "yaxis": "y"
          },
          {
           "alignmentgroup": "True",
           "hovertemplate": "State=%{y}<br>Year=1984<br>Population=%{x}<extra></extra>",
           "legendgroup": "Terengganu",
           "marker": {
            "color": "#636efa",
            "pattern": {
             "shape": ""
            }
           },
           "name": "Terengganu",
           "offsetgroup": "Terengganu",
           "orientation": "h",
           "showlegend": true,
           "textposition": "auto",
           "type": "bar",
           "x": [
            625.8
           ],
           "xaxis": "x",
           "y": [
            "Terengganu"
           ],
           "yaxis": "y"
          },
          {
           "alignmentgroup": "True",
           "hovertemplate": "State=%{y}<br>Year=1984<br>Population=%{x}<extra></extra>",
           "legendgroup": "Sabah",
           "marker": {
            "color": "#EF553B",
            "pattern": {
             "shape": ""
            }
           },
           "name": "Sabah",
           "offsetgroup": "Sabah",
           "orientation": "h",
           "showlegend": true,
           "textposition": "auto",
           "type": "bar",
           "x": [
            1325.7
           ],
           "xaxis": "x",
           "y": [
            "Sabah"
           ],
           "yaxis": "y"
          },
          {
           "alignmentgroup": "True",
           "hovertemplate": "State=%{y}<br>Year=1984<br>Population=%{x}<extra></extra>",
           "legendgroup": "Sarawak",
           "marker": {
            "color": "#00cc96",
            "pattern": {
             "shape": ""
            }
           },
           "name": "Sarawak",
           "offsetgroup": "Sarawak",
           "orientation": "h",
           "showlegend": true,
           "textposition": "auto",
           "type": "bar",
           "x": [
            1471.4
           ],
           "xaxis": "x",
           "y": [
            "Sarawak"
           ],
           "yaxis": "y"
          },
          {
           "alignmentgroup": "True",
           "hovertemplate": "State=%{y}<br>Year=1984<br>Population=%{x}<extra></extra>",
           "legendgroup": "Kuala Lumpur",
           "marker": {
            "color": "#ab63fa",
            "pattern": {
             "shape": ""
            }
           },
           "name": "Kuala Lumpur",
           "offsetgroup": "Kuala Lumpur",
           "orientation": "h",
           "showlegend": true,
           "textposition": "auto",
           "type": "bar",
           "x": [
            1072.2
           ],
           "xaxis": "x",
           "y": [
            "Kuala Lumpur"
           ],
           "yaxis": "y"
          }
         ],
         "layout": {
          "annotations": [
           {
            "font": {
             "color": "fuchsia",
             "size": 50,
             "weight": "bold"
            },
            "text": "1984",
            "x": 0.98,
            "xref": "paper",
            "y": 0.5,
            "yref": "paper"
           }
          ]
         },
         "name": "1984"
        },
        {
         "data": [
          {
           "alignmentgroup": "True",
           "hovertemplate": "State=%{y}<br>Year=1985<br>Population=%{x}<extra></extra>",
           "legendgroup": "Johor",
           "marker": {
            "color": "#636efa",
            "pattern": {
             "shape": ""
            }
           },
           "name": "Johor",
           "offsetgroup": "Johor",
           "orientation": "h",
           "showlegend": true,
           "textposition": "auto",
           "type": "bar",
           "x": [
            1875.5
           ],
           "xaxis": "x",
           "y": [
            "Johor"
           ],
           "yaxis": "y"
          },
          {
           "alignmentgroup": "True",
           "hovertemplate": "State=%{y}<br>Year=1985<br>Population=%{x}<extra></extra>",
           "legendgroup": "Kedah",
           "marker": {
            "color": "#EF553B",
            "pattern": {
             "shape": ""
            }
           },
           "name": "Kedah",
           "offsetgroup": "Kedah",
           "orientation": "h",
           "showlegend": true,
           "textposition": "auto",
           "type": "bar",
           "x": [
            1230.8
           ],
           "xaxis": "x",
           "y": [
            "Kedah"
           ],
           "yaxis": "y"
          },
          {
           "alignmentgroup": "True",
           "hovertemplate": "State=%{y}<br>Year=1985<br>Population=%{x}<extra></extra>",
           "legendgroup": "Kelantan",
           "marker": {
            "color": "#00cc96",
            "pattern": {
             "shape": ""
            }
           },
           "name": "Kelantan",
           "offsetgroup": "Kelantan",
           "orientation": "h",
           "showlegend": true,
           "textposition": "auto",
           "type": "bar",
           "x": [
            1032.9
           ],
           "xaxis": "x",
           "y": [
            "Kelantan"
           ],
           "yaxis": "y"
          },
          {
           "alignmentgroup": "True",
           "hovertemplate": "State=%{y}<br>Year=1985<br>Population=%{x}<extra></extra>",
           "legendgroup": "Melaka",
           "marker": {
            "color": "#ab63fa",
            "pattern": {
             "shape": ""
            }
           },
           "name": "Melaka",
           "offsetgroup": "Melaka",
           "orientation": "h",
           "showlegend": true,
           "textposition": "auto",
           "type": "bar",
           "x": [
            498.6
           ],
           "xaxis": "x",
           "y": [
            "Melaka"
           ],
           "yaxis": "y"
          },
          {
           "alignmentgroup": "True",
           "hovertemplate": "State=%{y}<br>Year=1985<br>Population=%{x}<extra></extra>",
           "legendgroup": "Negeri Sembilan",
           "marker": {
            "color": "#FFA15A",
            "pattern": {
             "shape": ""
            }
           },
           "name": "Negeri Sembilan",
           "offsetgroup": "Negeri Sembilan",
           "orientation": "h",
           "showlegend": true,
           "textposition": "auto",
           "type": "bar",
           "x": [
            638.4
           ],
           "xaxis": "x",
           "y": [
            "Negeri Sembilan"
           ],
           "yaxis": "y"
          },
          {
           "alignmentgroup": "True",
           "hovertemplate": "State=%{y}<br>Year=1985<br>Population=%{x}<extra></extra>",
           "legendgroup": "Pahang",
           "marker": {
            "color": "#19d3f3",
            "pattern": {
             "shape": ""
            }
           },
           "name": "Pahang",
           "offsetgroup": "Pahang",
           "orientation": "h",
           "showlegend": true,
           "textposition": "auto",
           "type": "bar",
           "x": [
            915.2
           ],
           "xaxis": "x",
           "y": [
            "Pahang"
           ],
           "yaxis": "y"
          },
          {
           "alignmentgroup": "True",
           "hovertemplate": "State=%{y}<br>Year=1985<br>Population=%{x}<extra></extra>",
           "legendgroup": "Penang",
           "marker": {
            "color": "#FF6692",
            "pattern": {
             "shape": ""
            }
           },
           "name": "Penang",
           "offsetgroup": "Penang",
           "orientation": "h",
           "showlegend": true,
           "textposition": "auto",
           "type": "bar",
           "x": [
            1037.9
           ],
           "xaxis": "x",
           "y": [
            "Penang"
           ],
           "yaxis": "y"
          },
          {
           "alignmentgroup": "True",
           "hovertemplate": "State=%{y}<br>Year=1985<br>Population=%{x}<extra></extra>",
           "legendgroup": "Perak",
           "marker": {
            "color": "#B6E880",
            "pattern": {
             "shape": ""
            }
           },
           "name": "Perak",
           "offsetgroup": "Perak",
           "orientation": "h",
           "showlegend": true,
           "textposition": "auto",
           "type": "bar",
           "x": [
            1931.5
           ],
           "xaxis": "x",
           "y": [
            "Perak"
           ],
           "yaxis": "y"
          },
          {
           "alignmentgroup": "True",
           "hovertemplate": "State=%{y}<br>Year=1985<br>Population=%{x}<extra></extra>",
           "legendgroup": "Perlis",
           "marker": {
            "color": "#FF97FF",
            "pattern": {
             "shape": ""
            }
           },
           "name": "Perlis",
           "offsetgroup": "Perlis",
           "orientation": "h",
           "showlegend": true,
           "textposition": "auto",
           "type": "bar",
           "x": [
            165.9
           ],
           "xaxis": "x",
           "y": [
            "Perlis"
           ],
           "yaxis": "y"
          },
          {
           "alignmentgroup": "True",
           "hovertemplate": "State=%{y}<br>Year=1985<br>Population=%{x}<extra></extra>",
           "legendgroup": "Selangor",
           "marker": {
            "color": "#FECB52",
            "pattern": {
             "shape": ""
            }
           },
           "name": "Selangor",
           "offsetgroup": "Selangor",
           "orientation": "h",
           "showlegend": true,
           "textposition": "auto",
           "type": "bar",
           "x": [
            1906.1
           ],
           "xaxis": "x",
           "y": [
            "Selangor"
           ],
           "yaxis": "y"
          },
          {
           "alignmentgroup": "True",
           "hovertemplate": "State=%{y}<br>Year=1985<br>Population=%{x}<extra></extra>",
           "legendgroup": "Terengganu",
           "marker": {
            "color": "#636efa",
            "pattern": {
             "shape": ""
            }
           },
           "name": "Terengganu",
           "offsetgroup": "Terengganu",
           "orientation": "h",
           "showlegend": true,
           "textposition": "auto",
           "type": "bar",
           "x": [
            651.6
           ],
           "xaxis": "x",
           "y": [
            "Terengganu"
           ],
           "yaxis": "y"
          },
          {
           "alignmentgroup": "True",
           "hovertemplate": "State=%{y}<br>Year=1985<br>Population=%{x}<extra></extra>",
           "legendgroup": "Sabah",
           "marker": {
            "color": "#EF553B",
            "pattern": {
             "shape": ""
            }
           },
           "name": "Sabah",
           "offsetgroup": "Sabah",
           "orientation": "h",
           "showlegend": true,
           "textposition": "auto",
           "type": "bar",
           "x": [
            1398.7
           ],
           "xaxis": "x",
           "y": [
            "Sabah"
           ],
           "yaxis": "y"
          },
          {
           "alignmentgroup": "True",
           "hovertemplate": "State=%{y}<br>Year=1985<br>Population=%{x}<extra></extra>",
           "legendgroup": "Sarawak",
           "marker": {
            "color": "#00cc96",
            "pattern": {
             "shape": ""
            }
           },
           "name": "Sarawak",
           "offsetgroup": "Sarawak",
           "orientation": "h",
           "showlegend": true,
           "textposition": "auto",
           "type": "bar",
           "x": [
            1503.9
           ],
           "xaxis": "x",
           "y": [
            "Sarawak"
           ],
           "yaxis": "y"
          },
          {
           "alignmentgroup": "True",
           "hovertemplate": "State=%{y}<br>Year=1985<br>Population=%{x}<extra></extra>",
           "legendgroup": "Kuala Lumpur",
           "marker": {
            "color": "#ab63fa",
            "pattern": {
             "shape": ""
            }
           },
           "name": "Kuala Lumpur",
           "offsetgroup": "Kuala Lumpur",
           "orientation": "h",
           "showlegend": true,
           "textposition": "auto",
           "type": "bar",
           "x": [
            1095.9
           ],
           "xaxis": "x",
           "y": [
            "Kuala Lumpur"
           ],
           "yaxis": "y"
          }
         ],
         "layout": {
          "annotations": [
           {
            "font": {
             "color": "fuchsia",
             "size": 50,
             "weight": "bold"
            },
            "text": "1985",
            "x": 0.98,
            "xref": "paper",
            "y": 0.5,
            "yref": "paper"
           }
          ]
         },
         "name": "1985"
        },
        {
         "data": [
          {
           "alignmentgroup": "True",
           "hovertemplate": "State=%{y}<br>Year=1986<br>Population=%{x}<extra></extra>",
           "legendgroup": "Johor",
           "marker": {
            "color": "#636efa",
            "pattern": {
             "shape": ""
            }
           },
           "name": "Johor",
           "offsetgroup": "Johor",
           "orientation": "h",
           "showlegend": true,
           "textposition": "auto",
           "type": "bar",
           "x": [
            1926.5
           ],
           "xaxis": "x",
           "y": [
            "Johor"
           ],
           "yaxis": "y"
          },
          {
           "alignmentgroup": "True",
           "hovertemplate": "State=%{y}<br>Year=1986<br>Population=%{x}<extra></extra>",
           "legendgroup": "Kedah",
           "marker": {
            "color": "#EF553B",
            "pattern": {
             "shape": ""
            }
           },
           "name": "Kedah",
           "offsetgroup": "Kedah",
           "orientation": "h",
           "showlegend": true,
           "textposition": "auto",
           "type": "bar",
           "x": [
            1256.2
           ],
           "xaxis": "x",
           "y": [
            "Kedah"
           ],
           "yaxis": "y"
          },
          {
           "alignmentgroup": "True",
           "hovertemplate": "State=%{y}<br>Year=1986<br>Population=%{x}<extra></extra>",
           "legendgroup": "Kelantan",
           "marker": {
            "color": "#00cc96",
            "pattern": {
             "shape": ""
            }
           },
           "name": "Kelantan",
           "offsetgroup": "Kelantan",
           "orientation": "h",
           "showlegend": true,
           "textposition": "auto",
           "type": "bar",
           "x": [
            1062.8
           ],
           "xaxis": "x",
           "y": [
            "Kelantan"
           ],
           "yaxis": "y"
          },
          {
           "alignmentgroup": "True",
           "hovertemplate": "State=%{y}<br>Year=1986<br>Population=%{x}<extra></extra>",
           "legendgroup": "Melaka",
           "marker": {
            "color": "#ab63fa",
            "pattern": {
             "shape": ""
            }
           },
           "name": "Melaka",
           "offsetgroup": "Melaka",
           "orientation": "h",
           "showlegend": true,
           "textposition": "auto",
           "type": "bar",
           "x": [
            505.6
           ],
           "xaxis": "x",
           "y": [
            "Melaka"
           ],
           "yaxis": "y"
          },
          {
           "alignmentgroup": "True",
           "hovertemplate": "State=%{y}<br>Year=1986<br>Population=%{x}<extra></extra>",
           "legendgroup": "Negeri Sembilan",
           "marker": {
            "color": "#FFA15A",
            "pattern": {
             "shape": ""
            }
           },
           "name": "Negeri Sembilan",
           "offsetgroup": "Negeri Sembilan",
           "orientation": "h",
           "showlegend": true,
           "textposition": "auto",
           "type": "bar",
           "x": [
            653.7
           ],
           "xaxis": "x",
           "y": [
            "Negeri Sembilan"
           ],
           "yaxis": "y"
          },
          {
           "alignmentgroup": "True",
           "hovertemplate": "State=%{y}<br>Year=1986<br>Population=%{x}<extra></extra>",
           "legendgroup": "Pahang",
           "marker": {
            "color": "#19d3f3",
            "pattern": {
             "shape": ""
            }
           },
           "name": "Pahang",
           "offsetgroup": "Pahang",
           "orientation": "h",
           "showlegend": true,
           "textposition": "auto",
           "type": "bar",
           "x": [
            943.5
           ],
           "xaxis": "x",
           "y": [
            "Pahang"
           ],
           "yaxis": "y"
          },
          {
           "alignmentgroup": "True",
           "hovertemplate": "State=%{y}<br>Year=1986<br>Population=%{x}<extra></extra>",
           "legendgroup": "Penang",
           "marker": {
            "color": "#FF6692",
            "pattern": {
             "shape": ""
            }
           },
           "name": "Penang",
           "offsetgroup": "Penang",
           "orientation": "h",
           "showlegend": true,
           "textposition": "auto",
           "type": "bar",
           "x": [
            1054.8
           ],
           "xaxis": "x",
           "y": [
            "Penang"
           ],
           "yaxis": "y"
          },
          {
           "alignmentgroup": "True",
           "hovertemplate": "State=%{y}<br>Year=1986<br>Population=%{x}<extra></extra>",
           "legendgroup": "Perak",
           "marker": {
            "color": "#B6E880",
            "pattern": {
             "shape": ""
            }
           },
           "name": "Perak",
           "offsetgroup": "Perak",
           "orientation": "h",
           "showlegend": true,
           "textposition": "auto",
           "type": "bar",
           "x": [
            1950.8
           ],
           "xaxis": "x",
           "y": [
            "Perak"
           ],
           "yaxis": "y"
          },
          {
           "alignmentgroup": "True",
           "hovertemplate": "State=%{y}<br>Year=1986<br>Population=%{x}<extra></extra>",
           "legendgroup": "Perlis",
           "marker": {
            "color": "#FF97FF",
            "pattern": {
             "shape": ""
            }
           },
           "name": "Perlis",
           "offsetgroup": "Perlis",
           "orientation": "h",
           "showlegend": true,
           "textposition": "auto",
           "type": "bar",
           "x": [
            170.2
           ],
           "xaxis": "x",
           "y": [
            "Perlis"
           ],
           "yaxis": "y"
          },
          {
           "alignmentgroup": "True",
           "hovertemplate": "State=%{y}<br>Year=1986<br>Population=%{x}<extra></extra>",
           "legendgroup": "Selangor",
           "marker": {
            "color": "#FECB52",
            "pattern": {
             "shape": ""
            }
           },
           "name": "Selangor",
           "offsetgroup": "Selangor",
           "orientation": "h",
           "showlegend": true,
           "textposition": "auto",
           "type": "bar",
           "x": [
            1992.6
           ],
           "xaxis": "x",
           "y": [
            "Selangor"
           ],
           "yaxis": "y"
          },
          {
           "alignmentgroup": "True",
           "hovertemplate": "State=%{y}<br>Year=1986<br>Population=%{x}<extra></extra>",
           "legendgroup": "Terengganu",
           "marker": {
            "color": "#636efa",
            "pattern": {
             "shape": ""
            }
           },
           "name": "Terengganu",
           "offsetgroup": "Terengganu",
           "orientation": "h",
           "showlegend": true,
           "textposition": "auto",
           "type": "bar",
           "x": [
            678.3
           ],
           "xaxis": "x",
           "y": [
            "Terengganu"
           ],
           "yaxis": "y"
          },
          {
           "alignmentgroup": "True",
           "hovertemplate": "State=%{y}<br>Year=1986<br>Population=%{x}<extra></extra>",
           "legendgroup": "Sabah",
           "marker": {
            "color": "#EF553B",
            "pattern": {
             "shape": ""
            }
           },
           "name": "Sabah",
           "offsetgroup": "Sabah",
           "orientation": "h",
           "showlegend": true,
           "textposition": "auto",
           "type": "bar",
           "x": [
            1474.4
           ],
           "xaxis": "x",
           "y": [
            "Sabah"
           ],
           "yaxis": "y"
          },
          {
           "alignmentgroup": "True",
           "hovertemplate": "State=%{y}<br>Year=1986<br>Population=%{x}<extra></extra>",
           "legendgroup": "Sarawak",
           "marker": {
            "color": "#00cc96",
            "pattern": {
             "shape": ""
            }
           },
           "name": "Sarawak",
           "offsetgroup": "Sarawak",
           "orientation": "h",
           "showlegend": true,
           "textposition": "auto",
           "type": "bar",
           "x": [
            1539.5
           ],
           "xaxis": "x",
           "y": [
            "Sarawak"
           ],
           "yaxis": "y"
          },
          {
           "alignmentgroup": "True",
           "hovertemplate": "State=%{y}<br>Year=1986<br>Population=%{x}<extra></extra>",
           "legendgroup": "Kuala Lumpur",
           "marker": {
            "color": "#ab63fa",
            "pattern": {
             "shape": ""
            }
           },
           "name": "Kuala Lumpur",
           "offsetgroup": "Kuala Lumpur",
           "orientation": "h",
           "showlegend": true,
           "textposition": "auto",
           "type": "bar",
           "x": [
            1120.5
           ],
           "xaxis": "x",
           "y": [
            "Kuala Lumpur"
           ],
           "yaxis": "y"
          }
         ],
         "layout": {
          "annotations": [
           {
            "font": {
             "color": "fuchsia",
             "size": 50,
             "weight": "bold"
            },
            "text": "1986",
            "x": 0.98,
            "xref": "paper",
            "y": 0.5,
            "yref": "paper"
           }
          ]
         },
         "name": "1986"
        },
        {
         "data": [
          {
           "alignmentgroup": "True",
           "hovertemplate": "State=%{y}<br>Year=1987<br>Population=%{x}<extra></extra>",
           "legendgroup": "Johor",
           "marker": {
            "color": "#636efa",
            "pattern": {
             "shape": ""
            }
           },
           "name": "Johor",
           "offsetgroup": "Johor",
           "orientation": "h",
           "showlegend": true,
           "textposition": "auto",
           "type": "bar",
           "x": [
            1977.9
           ],
           "xaxis": "x",
           "y": [
            "Johor"
           ],
           "yaxis": "y"
          },
          {
           "alignmentgroup": "True",
           "hovertemplate": "State=%{y}<br>Year=1987<br>Population=%{x}<extra></extra>",
           "legendgroup": "Kedah",
           "marker": {
            "color": "#EF553B",
            "pattern": {
             "shape": ""
            }
           },
           "name": "Kedah",
           "offsetgroup": "Kedah",
           "orientation": "h",
           "showlegend": true,
           "textposition": "auto",
           "type": "bar",
           "x": [
            1281.1
           ],
           "xaxis": "x",
           "y": [
            "Kedah"
           ],
           "yaxis": "y"
          },
          {
           "alignmentgroup": "True",
           "hovertemplate": "State=%{y}<br>Year=1987<br>Population=%{x}<extra></extra>",
           "legendgroup": "Kelantan",
           "marker": {
            "color": "#00cc96",
            "pattern": {
             "shape": ""
            }
           },
           "name": "Kelantan",
           "offsetgroup": "Kelantan",
           "orientation": "h",
           "showlegend": true,
           "textposition": "auto",
           "type": "bar",
           "x": [
            1093.2
           ],
           "xaxis": "x",
           "y": [
            "Kelantan"
           ],
           "yaxis": "y"
          },
          {
           "alignmentgroup": "True",
           "hovertemplate": "State=%{y}<br>Year=1987<br>Population=%{x}<extra></extra>",
           "legendgroup": "Melaka",
           "marker": {
            "color": "#ab63fa",
            "pattern": {
             "shape": ""
            }
           },
           "name": "Melaka",
           "offsetgroup": "Melaka",
           "orientation": "h",
           "showlegend": true,
           "textposition": "auto",
           "type": "bar",
           "x": [
            513.1
           ],
           "xaxis": "x",
           "y": [
            "Melaka"
           ],
           "yaxis": "y"
          },
          {
           "alignmentgroup": "True",
           "hovertemplate": "State=%{y}<br>Year=1987<br>Population=%{x}<extra></extra>",
           "legendgroup": "Negeri Sembilan",
           "marker": {
            "color": "#FFA15A",
            "pattern": {
             "shape": ""
            }
           },
           "name": "Negeri Sembilan",
           "offsetgroup": "Negeri Sembilan",
           "orientation": "h",
           "showlegend": true,
           "textposition": "auto",
           "type": "bar",
           "x": [
            668.9
           ],
           "xaxis": "x",
           "y": [
            "Negeri Sembilan"
           ],
           "yaxis": "y"
          },
          {
           "alignmentgroup": "True",
           "hovertemplate": "State=%{y}<br>Year=1987<br>Population=%{x}<extra></extra>",
           "legendgroup": "Pahang",
           "marker": {
            "color": "#19d3f3",
            "pattern": {
             "shape": ""
            }
           },
           "name": "Pahang",
           "offsetgroup": "Pahang",
           "orientation": "h",
           "showlegend": true,
           "textposition": "auto",
           "type": "bar",
           "x": [
            971
           ],
           "xaxis": "x",
           "y": [
            "Pahang"
           ],
           "yaxis": "y"
          },
          {
           "alignmentgroup": "True",
           "hovertemplate": "State=%{y}<br>Year=1987<br>Population=%{x}<extra></extra>",
           "legendgroup": "Penang",
           "marker": {
            "color": "#FF6692",
            "pattern": {
             "shape": ""
            }
           },
           "name": "Penang",
           "offsetgroup": "Penang",
           "orientation": "h",
           "showlegend": true,
           "textposition": "auto",
           "type": "bar",
           "x": [
            1070.5
           ],
           "xaxis": "x",
           "y": [
            "Penang"
           ],
           "yaxis": "y"
          },
          {
           "alignmentgroup": "True",
           "hovertemplate": "State=%{y}<br>Year=1987<br>Population=%{x}<extra></extra>",
           "legendgroup": "Perak",
           "marker": {
            "color": "#B6E880",
            "pattern": {
             "shape": ""
            }
           },
           "name": "Perak",
           "offsetgroup": "Perak",
           "orientation": "h",
           "showlegend": true,
           "textposition": "auto",
           "type": "bar",
           "x": [
            1967.5
           ],
           "xaxis": "x",
           "y": [
            "Perak"
           ],
           "yaxis": "y"
          },
          {
           "alignmentgroup": "True",
           "hovertemplate": "State=%{y}<br>Year=1987<br>Population=%{x}<extra></extra>",
           "legendgroup": "Perlis",
           "marker": {
            "color": "#FF97FF",
            "pattern": {
             "shape": ""
            }
           },
           "name": "Perlis",
           "offsetgroup": "Perlis",
           "orientation": "h",
           "showlegend": true,
           "textposition": "auto",
           "type": "bar",
           "x": [
            174.5
           ],
           "xaxis": "x",
           "y": [
            "Perlis"
           ],
           "yaxis": "y"
          },
          {
           "alignmentgroup": "True",
           "hovertemplate": "State=%{y}<br>Year=1987<br>Population=%{x}<extra></extra>",
           "legendgroup": "Selangor",
           "marker": {
            "color": "#FECB52",
            "pattern": {
             "shape": ""
            }
           },
           "name": "Selangor",
           "offsetgroup": "Selangor",
           "orientation": "h",
           "showlegend": true,
           "textposition": "auto",
           "type": "bar",
           "x": [
            2079.7
           ],
           "xaxis": "x",
           "y": [
            "Selangor"
           ],
           "yaxis": "y"
          },
          {
           "alignmentgroup": "True",
           "hovertemplate": "State=%{y}<br>Year=1987<br>Population=%{x}<extra></extra>",
           "legendgroup": "Terengganu",
           "marker": {
            "color": "#636efa",
            "pattern": {
             "shape": ""
            }
           },
           "name": "Terengganu",
           "offsetgroup": "Terengganu",
           "orientation": "h",
           "showlegend": true,
           "textposition": "auto",
           "type": "bar",
           "x": [
            704.3
           ],
           "xaxis": "x",
           "y": [
            "Terengganu"
           ],
           "yaxis": "y"
          },
          {
           "alignmentgroup": "True",
           "hovertemplate": "State=%{y}<br>Year=1987<br>Population=%{x}<extra></extra>",
           "legendgroup": "Sabah",
           "marker": {
            "color": "#EF553B",
            "pattern": {
             "shape": ""
            }
           },
           "name": "Sabah",
           "offsetgroup": "Sabah",
           "orientation": "h",
           "showlegend": true,
           "textposition": "auto",
           "type": "bar",
           "x": [
            1550.8
           ],
           "xaxis": "x",
           "y": [
            "Sabah"
           ],
           "yaxis": "y"
          },
          {
           "alignmentgroup": "True",
           "hovertemplate": "State=%{y}<br>Year=1987<br>Population=%{x}<extra></extra>",
           "legendgroup": "Sarawak",
           "marker": {
            "color": "#00cc96",
            "pattern": {
             "shape": ""
            }
           },
           "name": "Sarawak",
           "offsetgroup": "Sarawak",
           "orientation": "h",
           "showlegend": true,
           "textposition": "auto",
           "type": "bar",
           "x": [
            1576
           ],
           "xaxis": "x",
           "y": [
            "Sarawak"
           ],
           "yaxis": "y"
          },
          {
           "alignmentgroup": "True",
           "hovertemplate": "State=%{y}<br>Year=1987<br>Population=%{x}<extra></extra>",
           "legendgroup": "Kuala Lumpur",
           "marker": {
            "color": "#ab63fa",
            "pattern": {
             "shape": ""
            }
           },
           "name": "Kuala Lumpur",
           "offsetgroup": "Kuala Lumpur",
           "orientation": "h",
           "showlegend": true,
           "textposition": "auto",
           "type": "bar",
           "x": [
            1144.9
           ],
           "xaxis": "x",
           "y": [
            "Kuala Lumpur"
           ],
           "yaxis": "y"
          }
         ],
         "layout": {
          "annotations": [
           {
            "font": {
             "color": "fuchsia",
             "size": 50,
             "weight": "bold"
            },
            "text": "1987",
            "x": 0.98,
            "xref": "paper",
            "y": 0.5,
            "yref": "paper"
           }
          ]
         },
         "name": "1987"
        },
        {
         "data": [
          {
           "alignmentgroup": "True",
           "hovertemplate": "State=%{y}<br>Year=1988<br>Population=%{x}<extra></extra>",
           "legendgroup": "Johor",
           "marker": {
            "color": "#636efa",
            "pattern": {
             "shape": ""
            }
           },
           "name": "Johor",
           "offsetgroup": "Johor",
           "orientation": "h",
           "showlegend": true,
           "textposition": "auto",
           "type": "bar",
           "x": [
            2031
           ],
           "xaxis": "x",
           "y": [
            "Johor"
           ],
           "yaxis": "y"
          },
          {
           "alignmentgroup": "True",
           "hovertemplate": "State=%{y}<br>Year=1988<br>Population=%{x}<extra></extra>",
           "legendgroup": "Kedah",
           "marker": {
            "color": "#EF553B",
            "pattern": {
             "shape": ""
            }
           },
           "name": "Kedah",
           "offsetgroup": "Kedah",
           "orientation": "h",
           "showlegend": true,
           "textposition": "auto",
           "type": "bar",
           "x": [
            1305.4
           ],
           "xaxis": "x",
           "y": [
            "Kedah"
           ],
           "yaxis": "y"
          },
          {
           "alignmentgroup": "True",
           "hovertemplate": "State=%{y}<br>Year=1988<br>Population=%{x}<extra></extra>",
           "legendgroup": "Kelantan",
           "marker": {
            "color": "#00cc96",
            "pattern": {
             "shape": ""
            }
           },
           "name": "Kelantan",
           "offsetgroup": "Kelantan",
           "orientation": "h",
           "showlegend": true,
           "textposition": "auto",
           "type": "bar",
           "x": [
            1124
           ],
           "xaxis": "x",
           "y": [
            "Kelantan"
           ],
           "yaxis": "y"
          },
          {
           "alignmentgroup": "True",
           "hovertemplate": "State=%{y}<br>Year=1988<br>Population=%{x}<extra></extra>",
           "legendgroup": "Melaka",
           "marker": {
            "color": "#ab63fa",
            "pattern": {
             "shape": ""
            }
           },
           "name": "Melaka",
           "offsetgroup": "Melaka",
           "orientation": "h",
           "showlegend": true,
           "textposition": "auto",
           "type": "bar",
           "x": [
            520.5
           ],
           "xaxis": "x",
           "y": [
            "Melaka"
           ],
           "yaxis": "y"
          },
          {
           "alignmentgroup": "True",
           "hovertemplate": "State=%{y}<br>Year=1988<br>Population=%{x}<extra></extra>",
           "legendgroup": "Negeri Sembilan",
           "marker": {
            "color": "#FFA15A",
            "pattern": {
             "shape": ""
            }
           },
           "name": "Negeri Sembilan",
           "offsetgroup": "Negeri Sembilan",
           "orientation": "h",
           "showlegend": true,
           "textposition": "auto",
           "type": "bar",
           "x": [
            683.5
           ],
           "xaxis": "x",
           "y": [
            "Negeri Sembilan"
           ],
           "yaxis": "y"
          },
          {
           "alignmentgroup": "True",
           "hovertemplate": "State=%{y}<br>Year=1988<br>Population=%{x}<extra></extra>",
           "legendgroup": "Pahang",
           "marker": {
            "color": "#19d3f3",
            "pattern": {
             "shape": ""
            }
           },
           "name": "Pahang",
           "offsetgroup": "Pahang",
           "orientation": "h",
           "showlegend": true,
           "textposition": "auto",
           "type": "bar",
           "x": [
            998.4
           ],
           "xaxis": "x",
           "y": [
            "Pahang"
           ],
           "yaxis": "y"
          },
          {
           "alignmentgroup": "True",
           "hovertemplate": "State=%{y}<br>Year=1988<br>Population=%{x}<extra></extra>",
           "legendgroup": "Penang",
           "marker": {
            "color": "#FF6692",
            "pattern": {
             "shape": ""
            }
           },
           "name": "Penang",
           "offsetgroup": "Penang",
           "orientation": "h",
           "showlegend": true,
           "textposition": "auto",
           "type": "bar",
           "x": [
            1086.6
           ],
           "xaxis": "x",
           "y": [
            "Penang"
           ],
           "yaxis": "y"
          },
          {
           "alignmentgroup": "True",
           "hovertemplate": "State=%{y}<br>Year=1988<br>Population=%{x}<extra></extra>",
           "legendgroup": "Perak",
           "marker": {
            "color": "#B6E880",
            "pattern": {
             "shape": ""
            }
           },
           "name": "Perak",
           "offsetgroup": "Perak",
           "orientation": "h",
           "showlegend": true,
           "textposition": "auto",
           "type": "bar",
           "x": [
            1979.5
           ],
           "xaxis": "x",
           "y": [
            "Perak"
           ],
           "yaxis": "y"
          },
          {
           "alignmentgroup": "True",
           "hovertemplate": "State=%{y}<br>Year=1988<br>Population=%{x}<extra></extra>",
           "legendgroup": "Perlis",
           "marker": {
            "color": "#FF97FF",
            "pattern": {
             "shape": ""
            }
           },
           "name": "Perlis",
           "offsetgroup": "Perlis",
           "orientation": "h",
           "showlegend": true,
           "textposition": "auto",
           "type": "bar",
           "x": [
            178.8
           ],
           "xaxis": "x",
           "y": [
            "Perlis"
           ],
           "yaxis": "y"
          },
          {
           "alignmentgroup": "True",
           "hovertemplate": "State=%{y}<br>Year=1988<br>Population=%{x}<extra></extra>",
           "legendgroup": "Selangor",
           "marker": {
            "color": "#FECB52",
            "pattern": {
             "shape": ""
            }
           },
           "name": "Selangor",
           "offsetgroup": "Selangor",
           "orientation": "h",
           "showlegend": true,
           "textposition": "auto",
           "type": "bar",
           "x": [
            2166.9
           ],
           "xaxis": "x",
           "y": [
            "Selangor"
           ],
           "yaxis": "y"
          },
          {
           "alignmentgroup": "True",
           "hovertemplate": "State=%{y}<br>Year=1988<br>Population=%{x}<extra></extra>",
           "legendgroup": "Terengganu",
           "marker": {
            "color": "#636efa",
            "pattern": {
             "shape": ""
            }
           },
           "name": "Terengganu",
           "offsetgroup": "Terengganu",
           "orientation": "h",
           "showlegend": true,
           "textposition": "auto",
           "type": "bar",
           "x": [
            730.9
           ],
           "xaxis": "x",
           "y": [
            "Terengganu"
           ],
           "yaxis": "y"
          },
          {
           "alignmentgroup": "True",
           "hovertemplate": "State=%{y}<br>Year=1988<br>Population=%{x}<extra></extra>",
           "legendgroup": "Sabah",
           "marker": {
            "color": "#EF553B",
            "pattern": {
             "shape": ""
            }
           },
           "name": "Sabah",
           "offsetgroup": "Sabah",
           "orientation": "h",
           "showlegend": true,
           "textposition": "auto",
           "type": "bar",
           "x": [
            1629.5
           ],
           "xaxis": "x",
           "y": [
            "Sabah"
           ],
           "yaxis": "y"
          },
          {
           "alignmentgroup": "True",
           "hovertemplate": "State=%{y}<br>Year=1988<br>Population=%{x}<extra></extra>",
           "legendgroup": "Sarawak",
           "marker": {
            "color": "#00cc96",
            "pattern": {
             "shape": ""
            }
           },
           "name": "Sarawak",
           "offsetgroup": "Sarawak",
           "orientation": "h",
           "showlegend": true,
           "textposition": "auto",
           "type": "bar",
           "x": [
            1614.6
           ],
           "xaxis": "x",
           "y": [
            "Sarawak"
           ],
           "yaxis": "y"
          },
          {
           "alignmentgroup": "True",
           "hovertemplate": "State=%{y}<br>Year=1988<br>Population=%{x}<extra></extra>",
           "legendgroup": "Kuala Lumpur",
           "marker": {
            "color": "#ab63fa",
            "pattern": {
             "shape": ""
            }
           },
           "name": "Kuala Lumpur",
           "offsetgroup": "Kuala Lumpur",
           "orientation": "h",
           "showlegend": true,
           "textposition": "auto",
           "type": "bar",
           "x": [
            1169.6
           ],
           "xaxis": "x",
           "y": [
            "Kuala Lumpur"
           ],
           "yaxis": "y"
          }
         ],
         "layout": {
          "annotations": [
           {
            "font": {
             "color": "fuchsia",
             "size": 50,
             "weight": "bold"
            },
            "text": "1988",
            "x": 0.98,
            "xref": "paper",
            "y": 0.5,
            "yref": "paper"
           }
          ]
         },
         "name": "1988"
        },
        {
         "data": [
          {
           "alignmentgroup": "True",
           "hovertemplate": "State=%{y}<br>Year=1989<br>Population=%{x}<extra></extra>",
           "legendgroup": "Johor",
           "marker": {
            "color": "#636efa",
            "pattern": {
             "shape": ""
            }
           },
           "name": "Johor",
           "offsetgroup": "Johor",
           "orientation": "h",
           "showlegend": true,
           "textposition": "auto",
           "type": "bar",
           "x": [
            2085.5
           ],
           "xaxis": "x",
           "y": [
            "Johor"
           ],
           "yaxis": "y"
          },
          {
           "alignmentgroup": "True",
           "hovertemplate": "State=%{y}<br>Year=1989<br>Population=%{x}<extra></extra>",
           "legendgroup": "Kedah",
           "marker": {
            "color": "#EF553B",
            "pattern": {
             "shape": ""
            }
           },
           "name": "Kedah",
           "offsetgroup": "Kedah",
           "orientation": "h",
           "showlegend": true,
           "textposition": "auto",
           "type": "bar",
           "x": [
            1328.8
           ],
           "xaxis": "x",
           "y": [
            "Kedah"
           ],
           "yaxis": "y"
          },
          {
           "alignmentgroup": "True",
           "hovertemplate": "State=%{y}<br>Year=1989<br>Population=%{x}<extra></extra>",
           "legendgroup": "Kelantan",
           "marker": {
            "color": "#00cc96",
            "pattern": {
             "shape": ""
            }
           },
           "name": "Kelantan",
           "offsetgroup": "Kelantan",
           "orientation": "h",
           "showlegend": true,
           "textposition": "auto",
           "type": "bar",
           "x": [
            1154.5
           ],
           "xaxis": "x",
           "y": [
            "Kelantan"
           ],
           "yaxis": "y"
          },
          {
           "alignmentgroup": "True",
           "hovertemplate": "State=%{y}<br>Year=1989<br>Population=%{x}<extra></extra>",
           "legendgroup": "Melaka",
           "marker": {
            "color": "#ab63fa",
            "pattern": {
             "shape": ""
            }
           },
           "name": "Melaka",
           "offsetgroup": "Melaka",
           "orientation": "h",
           "showlegend": true,
           "textposition": "auto",
           "type": "bar",
           "x": [
            527.4
           ],
           "xaxis": "x",
           "y": [
            "Melaka"
           ],
           "yaxis": "y"
          },
          {
           "alignmentgroup": "True",
           "hovertemplate": "State=%{y}<br>Year=1989<br>Population=%{x}<extra></extra>",
           "legendgroup": "Negeri Sembilan",
           "marker": {
            "color": "#FFA15A",
            "pattern": {
             "shape": ""
            }
           },
           "name": "Negeri Sembilan",
           "offsetgroup": "Negeri Sembilan",
           "orientation": "h",
           "showlegend": true,
           "textposition": "auto",
           "type": "bar",
           "x": [
            698.2
           ],
           "xaxis": "x",
           "y": [
            "Negeri Sembilan"
           ],
           "yaxis": "y"
          },
          {
           "alignmentgroup": "True",
           "hovertemplate": "State=%{y}<br>Year=1989<br>Population=%{x}<extra></extra>",
           "legendgroup": "Pahang",
           "marker": {
            "color": "#19d3f3",
            "pattern": {
             "shape": ""
            }
           },
           "name": "Pahang",
           "offsetgroup": "Pahang",
           "orientation": "h",
           "showlegend": true,
           "textposition": "auto",
           "type": "bar",
           "x": [
            1025.9
           ],
           "xaxis": "x",
           "y": [
            "Pahang"
           ],
           "yaxis": "y"
          },
          {
           "alignmentgroup": "True",
           "hovertemplate": "State=%{y}<br>Year=1989<br>Population=%{x}<extra></extra>",
           "legendgroup": "Penang",
           "marker": {
            "color": "#FF6692",
            "pattern": {
             "shape": ""
            }
           },
           "name": "Penang",
           "offsetgroup": "Penang",
           "orientation": "h",
           "showlegend": true,
           "textposition": "auto",
           "type": "bar",
           "x": [
            1103.4
           ],
           "xaxis": "x",
           "y": [
            "Penang"
           ],
           "yaxis": "y"
          },
          {
           "alignmentgroup": "True",
           "hovertemplate": "State=%{y}<br>Year=1989<br>Population=%{x}<extra></extra>",
           "legendgroup": "Perak",
           "marker": {
            "color": "#B6E880",
            "pattern": {
             "shape": ""
            }
           },
           "name": "Perak",
           "offsetgroup": "Perak",
           "orientation": "h",
           "showlegend": true,
           "textposition": "auto",
           "type": "bar",
           "x": [
            1987.7
           ],
           "xaxis": "x",
           "y": [
            "Perak"
           ],
           "yaxis": "y"
          },
          {
           "alignmentgroup": "True",
           "hovertemplate": "State=%{y}<br>Year=1989<br>Population=%{x}<extra></extra>",
           "legendgroup": "Perlis",
           "marker": {
            "color": "#FF97FF",
            "pattern": {
             "shape": ""
            }
           },
           "name": "Perlis",
           "offsetgroup": "Perlis",
           "orientation": "h",
           "showlegend": true,
           "textposition": "auto",
           "type": "bar",
           "x": [
            182.9
           ],
           "xaxis": "x",
           "y": [
            "Perlis"
           ],
           "yaxis": "y"
          },
          {
           "alignmentgroup": "True",
           "hovertemplate": "State=%{y}<br>Year=1989<br>Population=%{x}<extra></extra>",
           "legendgroup": "Selangor",
           "marker": {
            "color": "#FECB52",
            "pattern": {
             "shape": ""
            }
           },
           "name": "Selangor",
           "offsetgroup": "Selangor",
           "orientation": "h",
           "showlegend": true,
           "textposition": "auto",
           "type": "bar",
           "x": [
            2254.9
           ],
           "xaxis": "x",
           "y": [
            "Selangor"
           ],
           "yaxis": "y"
          },
          {
           "alignmentgroup": "True",
           "hovertemplate": "State=%{y}<br>Year=1989<br>Population=%{x}<extra></extra>",
           "legendgroup": "Terengganu",
           "marker": {
            "color": "#636efa",
            "pattern": {
             "shape": ""
            }
           },
           "name": "Terengganu",
           "offsetgroup": "Terengganu",
           "orientation": "h",
           "showlegend": true,
           "textposition": "auto",
           "type": "bar",
           "x": [
            757.3
           ],
           "xaxis": "x",
           "y": [
            "Terengganu"
           ],
           "yaxis": "y"
          },
          {
           "alignmentgroup": "True",
           "hovertemplate": "State=%{y}<br>Year=1989<br>Population=%{x}<extra></extra>",
           "legendgroup": "Sabah",
           "marker": {
            "color": "#EF553B",
            "pattern": {
             "shape": ""
            }
           },
           "name": "Sabah",
           "offsetgroup": "Sabah",
           "orientation": "h",
           "showlegend": true,
           "textposition": "auto",
           "type": "bar",
           "x": [
            1708.9
           ],
           "xaxis": "x",
           "y": [
            "Sabah"
           ],
           "yaxis": "y"
          },
          {
           "alignmentgroup": "True",
           "hovertemplate": "State=%{y}<br>Year=1989<br>Population=%{x}<extra></extra>",
           "legendgroup": "Sarawak",
           "marker": {
            "color": "#00cc96",
            "pattern": {
             "shape": ""
            }
           },
           "name": "Sarawak",
           "offsetgroup": "Sarawak",
           "orientation": "h",
           "showlegend": true,
           "textposition": "auto",
           "type": "bar",
           "x": [
            1652.5
           ],
           "xaxis": "x",
           "y": [
            "Sarawak"
           ],
           "yaxis": "y"
          },
          {
           "alignmentgroup": "True",
           "hovertemplate": "State=%{y}<br>Year=1989<br>Population=%{x}<extra></extra>",
           "legendgroup": "Kuala Lumpur",
           "marker": {
            "color": "#ab63fa",
            "pattern": {
             "shape": ""
            }
           },
           "name": "Kuala Lumpur",
           "offsetgroup": "Kuala Lumpur",
           "orientation": "h",
           "showlegend": true,
           "textposition": "auto",
           "type": "bar",
           "x": [
            1194.1
           ],
           "xaxis": "x",
           "y": [
            "Kuala Lumpur"
           ],
           "yaxis": "y"
          }
         ],
         "layout": {
          "annotations": [
           {
            "font": {
             "color": "fuchsia",
             "size": 50,
             "weight": "bold"
            },
            "text": "1989",
            "x": 0.98,
            "xref": "paper",
            "y": 0.5,
            "yref": "paper"
           }
          ]
         },
         "name": "1989"
        },
        {
         "data": [
          {
           "alignmentgroup": "True",
           "hovertemplate": "State=%{y}<br>Year=1990<br>Population=%{x}<extra></extra>",
           "legendgroup": "Johor",
           "marker": {
            "color": "#636efa",
            "pattern": {
             "shape": ""
            }
           },
           "name": "Johor",
           "offsetgroup": "Johor",
           "orientation": "h",
           "showlegend": true,
           "textposition": "auto",
           "type": "bar",
           "x": [
            2139.6
           ],
           "xaxis": "x",
           "y": [
            "Johor"
           ],
           "yaxis": "y"
          },
          {
           "alignmentgroup": "True",
           "hovertemplate": "State=%{y}<br>Year=1990<br>Population=%{x}<extra></extra>",
           "legendgroup": "Kedah",
           "marker": {
            "color": "#EF553B",
            "pattern": {
             "shape": ""
            }
           },
           "name": "Kedah",
           "offsetgroup": "Kedah",
           "orientation": "h",
           "showlegend": true,
           "textposition": "auto",
           "type": "bar",
           "x": [
            1352.2
           ],
           "xaxis": "x",
           "y": [
            "Kedah"
           ],
           "yaxis": "y"
          },
          {
           "alignmentgroup": "True",
           "hovertemplate": "State=%{y}<br>Year=1990<br>Population=%{x}<extra></extra>",
           "legendgroup": "Kelantan",
           "marker": {
            "color": "#00cc96",
            "pattern": {
             "shape": ""
            }
           },
           "name": "Kelantan",
           "offsetgroup": "Kelantan",
           "orientation": "h",
           "showlegend": true,
           "textposition": "auto",
           "type": "bar",
           "x": [
            1187.2
           ],
           "xaxis": "x",
           "y": [
            "Kelantan"
           ],
           "yaxis": "y"
          },
          {
           "alignmentgroup": "True",
           "hovertemplate": "State=%{y}<br>Year=1990<br>Population=%{x}<extra></extra>",
           "legendgroup": "Melaka",
           "marker": {
            "color": "#ab63fa",
            "pattern": {
             "shape": ""
            }
           },
           "name": "Melaka",
           "offsetgroup": "Melaka",
           "orientation": "h",
           "showlegend": true,
           "textposition": "auto",
           "type": "bar",
           "x": [
            534.2
           ],
           "xaxis": "x",
           "y": [
            "Melaka"
           ],
           "yaxis": "y"
          },
          {
           "alignmentgroup": "True",
           "hovertemplate": "State=%{y}<br>Year=1990<br>Population=%{x}<extra></extra>",
           "legendgroup": "Negeri Sembilan",
           "marker": {
            "color": "#FFA15A",
            "pattern": {
             "shape": ""
            }
           },
           "name": "Negeri Sembilan",
           "offsetgroup": "Negeri Sembilan",
           "orientation": "h",
           "showlegend": true,
           "textposition": "auto",
           "type": "bar",
           "x": [
            713.4
           ],
           "xaxis": "x",
           "y": [
            "Negeri Sembilan"
           ],
           "yaxis": "y"
          },
          {
           "alignmentgroup": "True",
           "hovertemplate": "State=%{y}<br>Year=1990<br>Population=%{x}<extra></extra>",
           "legendgroup": "Pahang",
           "marker": {
            "color": "#19d3f3",
            "pattern": {
             "shape": ""
            }
           },
           "name": "Pahang",
           "offsetgroup": "Pahang",
           "orientation": "h",
           "showlegend": true,
           "textposition": "auto",
           "type": "bar",
           "x": [
            1054.3
           ],
           "xaxis": "x",
           "y": [
            "Pahang"
           ],
           "yaxis": "y"
          },
          {
           "alignmentgroup": "True",
           "hovertemplate": "State=%{y}<br>Year=1990<br>Population=%{x}<extra></extra>",
           "legendgroup": "Penang",
           "marker": {
            "color": "#FF6692",
            "pattern": {
             "shape": ""
            }
           },
           "name": "Penang",
           "offsetgroup": "Penang",
           "orientation": "h",
           "showlegend": true,
           "textposition": "auto",
           "type": "bar",
           "x": [
            1118.5
           ],
           "xaxis": "x",
           "y": [
            "Penang"
           ],
           "yaxis": "y"
          },
          {
           "alignmentgroup": "True",
           "hovertemplate": "State=%{y}<br>Year=1990<br>Population=%{x}<extra></extra>",
           "legendgroup": "Perak",
           "marker": {
            "color": "#B6E880",
            "pattern": {
             "shape": ""
            }
           },
           "name": "Perak",
           "offsetgroup": "Perak",
           "orientation": "h",
           "showlegend": true,
           "textposition": "auto",
           "type": "bar",
           "x": [
            1992.9
           ],
           "xaxis": "x",
           "y": [
            "Perak"
           ],
           "yaxis": "y"
          },
          {
           "alignmentgroup": "True",
           "hovertemplate": "State=%{y}<br>Year=1990<br>Population=%{x}<extra></extra>",
           "legendgroup": "Perlis",
           "marker": {
            "color": "#FF97FF",
            "pattern": {
             "shape": ""
            }
           },
           "name": "Perlis",
           "offsetgroup": "Perlis",
           "orientation": "h",
           "showlegend": true,
           "textposition": "auto",
           "type": "bar",
           "x": [
            187
           ],
           "xaxis": "x",
           "y": [
            "Perlis"
           ],
           "yaxis": "y"
          },
          {
           "alignmentgroup": "True",
           "hovertemplate": "State=%{y}<br>Year=1990<br>Population=%{x}<extra></extra>",
           "legendgroup": "Selangor",
           "marker": {
            "color": "#FECB52",
            "pattern": {
             "shape": ""
            }
           },
           "name": "Selangor",
           "offsetgroup": "Selangor",
           "orientation": "h",
           "showlegend": true,
           "textposition": "auto",
           "type": "bar",
           "x": [
            2345.4
           ],
           "xaxis": "x",
           "y": [
            "Selangor"
           ],
           "yaxis": "y"
          },
          {
           "alignmentgroup": "True",
           "hovertemplate": "State=%{y}<br>Year=1990<br>Population=%{x}<extra></extra>",
           "legendgroup": "Terengganu",
           "marker": {
            "color": "#636efa",
            "pattern": {
             "shape": ""
            }
           },
           "name": "Terengganu",
           "offsetgroup": "Terengganu",
           "orientation": "h",
           "showlegend": true,
           "textposition": "auto",
           "type": "bar",
           "x": [
            784.6
           ],
           "xaxis": "x",
           "y": [
            "Terengganu"
           ],
           "yaxis": "y"
          },
          {
           "alignmentgroup": "True",
           "hovertemplate": "State=%{y}<br>Year=1990<br>Population=%{x}<extra></extra>",
           "legendgroup": "Sabah",
           "marker": {
            "color": "#EF553B",
            "pattern": {
             "shape": ""
            }
           },
           "name": "Sabah",
           "offsetgroup": "Sabah",
           "orientation": "h",
           "showlegend": true,
           "textposition": "auto",
           "type": "bar",
           "x": [
            1787.6
           ],
           "xaxis": "x",
           "y": [
            "Sabah"
           ],
           "yaxis": "y"
          },
          {
           "alignmentgroup": "True",
           "hovertemplate": "State=%{y}<br>Year=1990<br>Population=%{x}<extra></extra>",
           "legendgroup": "Sarawak",
           "marker": {
            "color": "#00cc96",
            "pattern": {
             "shape": ""
            }
           },
           "name": "Sarawak",
           "offsetgroup": "Sarawak",
           "orientation": "h",
           "showlegend": true,
           "textposition": "auto",
           "type": "bar",
           "x": [
            1687.8
           ],
           "xaxis": "x",
           "y": [
            "Sarawak"
           ],
           "yaxis": "y"
          },
          {
           "alignmentgroup": "True",
           "hovertemplate": "State=%{y}<br>Year=1990<br>Population=%{x}<extra></extra>",
           "legendgroup": "Kuala Lumpur",
           "marker": {
            "color": "#ab63fa",
            "pattern": {
             "shape": ""
            }
           },
           "name": "Kuala Lumpur",
           "offsetgroup": "Kuala Lumpur",
           "orientation": "h",
           "showlegend": true,
           "textposition": "auto",
           "type": "bar",
           "x": [
            1217.8
           ],
           "xaxis": "x",
           "y": [
            "Kuala Lumpur"
           ],
           "yaxis": "y"
          }
         ],
         "layout": {
          "annotations": [
           {
            "font": {
             "color": "fuchsia",
             "size": 50,
             "weight": "bold"
            },
            "text": "1990",
            "x": 0.98,
            "xref": "paper",
            "y": 0.5,
            "yref": "paper"
           }
          ]
         },
         "name": "1990"
        },
        {
         "data": [
          {
           "alignmentgroup": "True",
           "hovertemplate": "State=%{y}<br>Year=1991<br>Population=%{x}<extra></extra>",
           "legendgroup": "Johor",
           "marker": {
            "color": "#636efa",
            "pattern": {
             "shape": ""
            }
           },
           "name": "Johor",
           "offsetgroup": "Johor",
           "orientation": "h",
           "showlegend": true,
           "textposition": "auto",
           "type": "bar",
           "x": [
            2188.1
           ],
           "xaxis": "x",
           "y": [
            "Johor"
           ],
           "yaxis": "y"
          },
          {
           "alignmentgroup": "True",
           "hovertemplate": "State=%{y}<br>Year=1991<br>Population=%{x}<extra></extra>",
           "legendgroup": "Kedah",
           "marker": {
            "color": "#EF553B",
            "pattern": {
             "shape": ""
            }
           },
           "name": "Kedah",
           "offsetgroup": "Kedah",
           "orientation": "h",
           "showlegend": true,
           "textposition": "auto",
           "type": "bar",
           "x": [
            1371.3
           ],
           "xaxis": "x",
           "y": [
            "Kedah"
           ],
           "yaxis": "y"
          },
          {
           "alignmentgroup": "True",
           "hovertemplate": "State=%{y}<br>Year=1991<br>Population=%{x}<extra></extra>",
           "legendgroup": "Kelantan",
           "marker": {
            "color": "#00cc96",
            "pattern": {
             "shape": ""
            }
           },
           "name": "Kelantan",
           "offsetgroup": "Kelantan",
           "orientation": "h",
           "showlegend": true,
           "textposition": "auto",
           "type": "bar",
           "x": [
            1227
           ],
           "xaxis": "x",
           "y": [
            "Kelantan"
           ],
           "yaxis": "y"
          },
          {
           "alignmentgroup": "True",
           "hovertemplate": "State=%{y}<br>Year=1991<br>Population=%{x}<extra></extra>",
           "legendgroup": "Melaka",
           "marker": {
            "color": "#ab63fa",
            "pattern": {
             "shape": ""
            }
           },
           "name": "Melaka",
           "offsetgroup": "Melaka",
           "orientation": "h",
           "showlegend": true,
           "textposition": "auto",
           "type": "bar",
           "x": [
            540.2
           ],
           "xaxis": "x",
           "y": [
            "Melaka"
           ],
           "yaxis": "y"
          },
          {
           "alignmentgroup": "True",
           "hovertemplate": "State=%{y}<br>Year=1991<br>Population=%{x}<extra></extra>",
           "legendgroup": "Negeri Sembilan",
           "marker": {
            "color": "#FFA15A",
            "pattern": {
             "shape": ""
            }
           },
           "name": "Negeri Sembilan",
           "offsetgroup": "Negeri Sembilan",
           "orientation": "h",
           "showlegend": true,
           "textposition": "auto",
           "type": "bar",
           "x": [
            726.2
           ],
           "xaxis": "x",
           "y": [
            "Negeri Sembilan"
           ],
           "yaxis": "y"
          },
          {
           "alignmentgroup": "True",
           "hovertemplate": "State=%{y}<br>Year=1991<br>Population=%{x}<extra></extra>",
           "legendgroup": "Pahang",
           "marker": {
            "color": "#19d3f3",
            "pattern": {
             "shape": ""
            }
           },
           "name": "Pahang",
           "offsetgroup": "Pahang",
           "orientation": "h",
           "showlegend": true,
           "textposition": "auto",
           "type": "bar",
           "x": [
            1079.6
           ],
           "xaxis": "x",
           "y": [
            "Pahang"
           ],
           "yaxis": "y"
          },
          {
           "alignmentgroup": "True",
           "hovertemplate": "State=%{y}<br>Year=1991<br>Population=%{x}<extra></extra>",
           "legendgroup": "Penang",
           "marker": {
            "color": "#FF6692",
            "pattern": {
             "shape": ""
            }
           },
           "name": "Penang",
           "offsetgroup": "Penang",
           "orientation": "h",
           "showlegend": true,
           "textposition": "auto",
           "type": "bar",
           "x": [
            1133.6
           ],
           "xaxis": "x",
           "y": [
            "Penang"
           ],
           "yaxis": "y"
          },
          {
           "alignmentgroup": "True",
           "hovertemplate": "State=%{y}<br>Year=1991<br>Population=%{x}<extra></extra>",
           "legendgroup": "Perak",
           "marker": {
            "color": "#B6E880",
            "pattern": {
             "shape": ""
            }
           },
           "name": "Perak",
           "offsetgroup": "Perak",
           "orientation": "h",
           "showlegend": true,
           "textposition": "auto",
           "type": "bar",
           "x": [
            1995.3
           ],
           "xaxis": "x",
           "y": [
            "Perak"
           ],
           "yaxis": "y"
          },
          {
           "alignmentgroup": "True",
           "hovertemplate": "State=%{y}<br>Year=1991<br>Population=%{x}<extra></extra>",
           "legendgroup": "Perlis",
           "marker": {
            "color": "#FF97FF",
            "pattern": {
             "shape": ""
            }
           },
           "name": "Perlis",
           "offsetgroup": "Perlis",
           "orientation": "h",
           "showlegend": true,
           "textposition": "auto",
           "type": "bar",
           "x": [
            190.7
           ],
           "xaxis": "x",
           "y": [
            "Perlis"
           ],
           "yaxis": "y"
          },
          {
           "alignmentgroup": "True",
           "hovertemplate": "State=%{y}<br>Year=1991<br>Population=%{x}<extra></extra>",
           "legendgroup": "Selangor",
           "marker": {
            "color": "#FECB52",
            "pattern": {
             "shape": ""
            }
           },
           "name": "Selangor",
           "offsetgroup": "Selangor",
           "orientation": "h",
           "showlegend": true,
           "textposition": "auto",
           "type": "bar",
           "x": [
            2431.2
           ],
           "xaxis": "x",
           "y": [
            "Selangor"
           ],
           "yaxis": "y"
          },
          {
           "alignmentgroup": "True",
           "hovertemplate": "State=%{y}<br>Year=1991<br>Population=%{x}<extra></extra>",
           "legendgroup": "Terengganu",
           "marker": {
            "color": "#636efa",
            "pattern": {
             "shape": ""
            }
           },
           "name": "Terengganu",
           "offsetgroup": "Terengganu",
           "orientation": "h",
           "showlegend": true,
           "textposition": "auto",
           "type": "bar",
           "x": [
            810.7
           ],
           "xaxis": "x",
           "y": [
            "Terengganu"
           ],
           "yaxis": "y"
          },
          {
           "alignmentgroup": "True",
           "hovertemplate": "State=%{y}<br>Year=1991<br>Population=%{x}<extra></extra>",
           "legendgroup": "Sabah",
           "marker": {
            "color": "#EF553B",
            "pattern": {
             "shape": ""
            }
           },
           "name": "Sabah",
           "offsetgroup": "Sabah",
           "orientation": "h",
           "showlegend": true,
           "textposition": "auto",
           "type": "bar",
           "x": [
            1814.5
           ],
           "xaxis": "x",
           "y": [
            "Sabah"
           ],
           "yaxis": "y"
          },
          {
           "alignmentgroup": "True",
           "hovertemplate": "State=%{y}<br>Year=1991<br>Population=%{x}<extra></extra>",
           "legendgroup": "Sarawak",
           "marker": {
            "color": "#00cc96",
            "pattern": {
             "shape": ""
            }
           },
           "name": "Sarawak",
           "offsetgroup": "Sarawak",
           "orientation": "h",
           "showlegend": true,
           "textposition": "auto",
           "type": "bar",
           "x": [
            1723.8
           ],
           "xaxis": "x",
           "y": [
            "Sarawak"
           ],
           "yaxis": "y"
          },
          {
           "alignmentgroup": "True",
           "hovertemplate": "State=%{y}<br>Year=1991<br>Population=%{x}<extra></extra>",
           "legendgroup": "Kuala Lumpur",
           "marker": {
            "color": "#ab63fa",
            "pattern": {
             "shape": ""
            }
           },
           "name": "Kuala Lumpur",
           "offsetgroup": "Kuala Lumpur",
           "orientation": "h",
           "showlegend": true,
           "textposition": "auto",
           "type": "bar",
           "x": [
            1262.1
           ],
           "xaxis": "x",
           "y": [
            "Kuala Lumpur"
           ],
           "yaxis": "y"
          }
         ],
         "layout": {
          "annotations": [
           {
            "font": {
             "color": "fuchsia",
             "size": 50,
             "weight": "bold"
            },
            "text": "1991",
            "x": 0.98,
            "xref": "paper",
            "y": 0.5,
            "yref": "paper"
           }
          ]
         },
         "name": "1991"
        },
        {
         "data": [
          {
           "alignmentgroup": "True",
           "hovertemplate": "State=%{y}<br>Year=1992<br>Population=%{x}<extra></extra>",
           "legendgroup": "Johor",
           "marker": {
            "color": "#636efa",
            "pattern": {
             "shape": ""
            }
           },
           "name": "Johor",
           "offsetgroup": "Johor",
           "orientation": "h",
           "showlegend": true,
           "textposition": "auto",
           "type": "bar",
           "x": [
            2249.1
           ],
           "xaxis": "x",
           "y": [
            "Johor"
           ],
           "yaxis": "y"
          },
          {
           "alignmentgroup": "True",
           "hovertemplate": "State=%{y}<br>Year=1992<br>Population=%{x}<extra></extra>",
           "legendgroup": "Kedah",
           "marker": {
            "color": "#EF553B",
            "pattern": {
             "shape": ""
            }
           },
           "name": "Kedah",
           "offsetgroup": "Kedah",
           "orientation": "h",
           "showlegend": true,
           "textposition": "auto",
           "type": "bar",
           "x": [
            1402.1
           ],
           "xaxis": "x",
           "y": [
            "Kedah"
           ],
           "yaxis": "y"
          },
          {
           "alignmentgroup": "True",
           "hovertemplate": "State=%{y}<br>Year=1992<br>Population=%{x}<extra></extra>",
           "legendgroup": "Kelantan",
           "marker": {
            "color": "#00cc96",
            "pattern": {
             "shape": ""
            }
           },
           "name": "Kelantan",
           "offsetgroup": "Kelantan",
           "orientation": "h",
           "showlegend": true,
           "textposition": "auto",
           "type": "bar",
           "x": [
            1243.5
           ],
           "xaxis": "x",
           "y": [
            "Kelantan"
           ],
           "yaxis": "y"
          },
          {
           "alignmentgroup": "True",
           "hovertemplate": "State=%{y}<br>Year=1992<br>Population=%{x}<extra></extra>",
           "legendgroup": "Melaka",
           "marker": {
            "color": "#ab63fa",
            "pattern": {
             "shape": ""
            }
           },
           "name": "Melaka",
           "offsetgroup": "Melaka",
           "orientation": "h",
           "showlegend": true,
           "textposition": "auto",
           "type": "bar",
           "x": [
            551.8
           ],
           "xaxis": "x",
           "y": [
            "Melaka"
           ],
           "yaxis": "y"
          },
          {
           "alignmentgroup": "True",
           "hovertemplate": "State=%{y}<br>Year=1992<br>Population=%{x}<extra></extra>",
           "legendgroup": "Negeri Sembilan",
           "marker": {
            "color": "#FFA15A",
            "pattern": {
             "shape": ""
            }
           },
           "name": "Negeri Sembilan",
           "offsetgroup": "Negeri Sembilan",
           "orientation": "h",
           "showlegend": true,
           "textposition": "auto",
           "type": "bar",
           "x": [
            741.7
           ],
           "xaxis": "x",
           "y": [
            "Negeri Sembilan"
           ],
           "yaxis": "y"
          },
          {
           "alignmentgroup": "True",
           "hovertemplate": "State=%{y}<br>Year=1992<br>Population=%{x}<extra></extra>",
           "legendgroup": "Pahang",
           "marker": {
            "color": "#19d3f3",
            "pattern": {
             "shape": ""
            }
           },
           "name": "Pahang",
           "offsetgroup": "Pahang",
           "orientation": "h",
           "showlegend": true,
           "textposition": "auto",
           "type": "bar",
           "x": [
            1104.2
           ],
           "xaxis": "x",
           "y": [
            "Pahang"
           ],
           "yaxis": "y"
          },
          {
           "alignmentgroup": "True",
           "hovertemplate": "State=%{y}<br>Year=1992<br>Population=%{x}<extra></extra>",
           "legendgroup": "Penang",
           "marker": {
            "color": "#FF6692",
            "pattern": {
             "shape": ""
            }
           },
           "name": "Penang",
           "offsetgroup": "Penang",
           "orientation": "h",
           "showlegend": true,
           "textposition": "auto",
           "type": "bar",
           "x": [
            1154
           ],
           "xaxis": "x",
           "y": [
            "Penang"
           ],
           "yaxis": "y"
          },
          {
           "alignmentgroup": "True",
           "hovertemplate": "State=%{y}<br>Year=1992<br>Population=%{x}<extra></extra>",
           "legendgroup": "Perak",
           "marker": {
            "color": "#B6E880",
            "pattern": {
             "shape": ""
            }
           },
           "name": "Perak",
           "offsetgroup": "Perak",
           "orientation": "h",
           "showlegend": true,
           "textposition": "auto",
           "type": "bar",
           "x": [
            2007.1
           ],
           "xaxis": "x",
           "y": [
            "Perak"
           ],
           "yaxis": "y"
          },
          {
           "alignmentgroup": "True",
           "hovertemplate": "State=%{y}<br>Year=1992<br>Population=%{x}<extra></extra>",
           "legendgroup": "Perlis",
           "marker": {
            "color": "#FF97FF",
            "pattern": {
             "shape": ""
            }
           },
           "name": "Perlis",
           "offsetgroup": "Perlis",
           "orientation": "h",
           "showlegend": true,
           "textposition": "auto",
           "type": "bar",
           "x": [
            192.7
           ],
           "xaxis": "x",
           "y": [
            "Perlis"
           ],
           "yaxis": "y"
          },
          {
           "alignmentgroup": "True",
           "hovertemplate": "State=%{y}<br>Year=1992<br>Population=%{x}<extra></extra>",
           "legendgroup": "Selangor",
           "marker": {
            "color": "#FECB52",
            "pattern": {
             "shape": ""
            }
           },
           "name": "Selangor",
           "offsetgroup": "Selangor",
           "orientation": "h",
           "showlegend": true,
           "textposition": "auto",
           "type": "bar",
           "x": [
            2605.6
           ],
           "xaxis": "x",
           "y": [
            "Selangor"
           ],
           "yaxis": "y"
          },
          {
           "alignmentgroup": "True",
           "hovertemplate": "State=%{y}<br>Year=1992<br>Population=%{x}<extra></extra>",
           "legendgroup": "Terengganu",
           "marker": {
            "color": "#636efa",
            "pattern": {
             "shape": ""
            }
           },
           "name": "Terengganu",
           "offsetgroup": "Terengganu",
           "orientation": "h",
           "showlegend": true,
           "textposition": "auto",
           "type": "bar",
           "x": [
            823.8
           ],
           "xaxis": "x",
           "y": [
            "Terengganu"
           ],
           "yaxis": "y"
          },
          {
           "alignmentgroup": "True",
           "hovertemplate": "State=%{y}<br>Year=1992<br>Population=%{x}<extra></extra>",
           "legendgroup": "Sabah",
           "marker": {
            "color": "#EF553B",
            "pattern": {
             "shape": ""
            }
           },
           "name": "Sabah",
           "offsetgroup": "Sabah",
           "orientation": "h",
           "showlegend": true,
           "textposition": "auto",
           "type": "bar",
           "x": [
            1896.6
           ],
           "xaxis": "x",
           "y": [
            "Sabah"
           ],
           "yaxis": "y"
          },
          {
           "alignmentgroup": "True",
           "hovertemplate": "State=%{y}<br>Year=1992<br>Population=%{x}<extra></extra>",
           "legendgroup": "Sarawak",
           "marker": {
            "color": "#00cc96",
            "pattern": {
             "shape": ""
            }
           },
           "name": "Sarawak",
           "offsetgroup": "Sarawak",
           "orientation": "h",
           "showlegend": true,
           "textposition": "auto",
           "type": "bar",
           "x": [
            1758.4
           ],
           "xaxis": "x",
           "y": [
            "Sarawak"
           ],
           "yaxis": "y"
          },
          {
           "alignmentgroup": "True",
           "hovertemplate": "State=%{y}<br>Year=1992<br>Population=%{x}<extra></extra>",
           "legendgroup": "Kuala Lumpur",
           "marker": {
            "color": "#ab63fa",
            "pattern": {
             "shape": ""
            }
           },
           "name": "Kuala Lumpur",
           "offsetgroup": "Kuala Lumpur",
           "orientation": "h",
           "showlegend": true,
           "textposition": "auto",
           "type": "bar",
           "x": [
            1281.5
           ],
           "xaxis": "x",
           "y": [
            "Kuala Lumpur"
           ],
           "yaxis": "y"
          }
         ],
         "layout": {
          "annotations": [
           {
            "font": {
             "color": "fuchsia",
             "size": 50,
             "weight": "bold"
            },
            "text": "1992",
            "x": 0.98,
            "xref": "paper",
            "y": 0.5,
            "yref": "paper"
           }
          ]
         },
         "name": "1992"
        },
        {
         "data": [
          {
           "alignmentgroup": "True",
           "hovertemplate": "State=%{y}<br>Year=1993<br>Population=%{x}<extra></extra>",
           "legendgroup": "Johor",
           "marker": {
            "color": "#636efa",
            "pattern": {
             "shape": ""
            }
           },
           "name": "Johor",
           "offsetgroup": "Johor",
           "orientation": "h",
           "showlegend": true,
           "textposition": "auto",
           "type": "bar",
           "x": [
            2313.4
           ],
           "xaxis": "x",
           "y": [
            "Johor"
           ],
           "yaxis": "y"
          },
          {
           "alignmentgroup": "True",
           "hovertemplate": "State=%{y}<br>Year=1993<br>Population=%{x}<extra></extra>",
           "legendgroup": "Kedah",
           "marker": {
            "color": "#EF553B",
            "pattern": {
             "shape": ""
            }
           },
           "name": "Kedah",
           "offsetgroup": "Kedah",
           "orientation": "h",
           "showlegend": true,
           "textposition": "auto",
           "type": "bar",
           "x": [
            1434.1
           ],
           "xaxis": "x",
           "y": [
            "Kedah"
           ],
           "yaxis": "y"
          },
          {
           "alignmentgroup": "True",
           "hovertemplate": "State=%{y}<br>Year=1993<br>Population=%{x}<extra></extra>",
           "legendgroup": "Kelantan",
           "marker": {
            "color": "#00cc96",
            "pattern": {
             "shape": ""
            }
           },
           "name": "Kelantan",
           "offsetgroup": "Kelantan",
           "orientation": "h",
           "showlegend": true,
           "textposition": "auto",
           "type": "bar",
           "x": [
            1259.1
           ],
           "xaxis": "x",
           "y": [
            "Kelantan"
           ],
           "yaxis": "y"
          },
          {
           "alignmentgroup": "True",
           "hovertemplate": "State=%{y}<br>Year=1993<br>Population=%{x}<extra></extra>",
           "legendgroup": "Melaka",
           "marker": {
            "color": "#ab63fa",
            "pattern": {
             "shape": ""
            }
           },
           "name": "Melaka",
           "offsetgroup": "Melaka",
           "orientation": "h",
           "showlegend": true,
           "textposition": "auto",
           "type": "bar",
           "x": [
            563.3
           ],
           "xaxis": "x",
           "y": [
            "Melaka"
           ],
           "yaxis": "y"
          },
          {
           "alignmentgroup": "True",
           "hovertemplate": "State=%{y}<br>Year=1993<br>Population=%{x}<extra></extra>",
           "legendgroup": "Negeri Sembilan",
           "marker": {
            "color": "#FFA15A",
            "pattern": {
             "shape": ""
            }
           },
           "name": "Negeri Sembilan",
           "offsetgroup": "Negeri Sembilan",
           "orientation": "h",
           "showlegend": true,
           "textposition": "auto",
           "type": "bar",
           "x": [
            757
           ],
           "xaxis": "x",
           "y": [
            "Negeri Sembilan"
           ],
           "yaxis": "y"
          },
          {
           "alignmentgroup": "True",
           "hovertemplate": "State=%{y}<br>Year=1993<br>Population=%{x}<extra></extra>",
           "legendgroup": "Pahang",
           "marker": {
            "color": "#19d3f3",
            "pattern": {
             "shape": ""
            }
           },
           "name": "Pahang",
           "offsetgroup": "Pahang",
           "orientation": "h",
           "showlegend": true,
           "textposition": "auto",
           "type": "bar",
           "x": [
            1128
           ],
           "xaxis": "x",
           "y": [
            "Pahang"
           ],
           "yaxis": "y"
          },
          {
           "alignmentgroup": "True",
           "hovertemplate": "State=%{y}<br>Year=1993<br>Population=%{x}<extra></extra>",
           "legendgroup": "Penang",
           "marker": {
            "color": "#FF6692",
            "pattern": {
             "shape": ""
            }
           },
           "name": "Penang",
           "offsetgroup": "Penang",
           "orientation": "h",
           "showlegend": true,
           "textposition": "auto",
           "type": "bar",
           "x": [
            1174.7
           ],
           "xaxis": "x",
           "y": [
            "Penang"
           ],
           "yaxis": "y"
          },
          {
           "alignmentgroup": "True",
           "hovertemplate": "State=%{y}<br>Year=1993<br>Population=%{x}<extra></extra>",
           "legendgroup": "Perak",
           "marker": {
            "color": "#B6E880",
            "pattern": {
             "shape": ""
            }
           },
           "name": "Perak",
           "offsetgroup": "Perak",
           "orientation": "h",
           "showlegend": true,
           "textposition": "auto",
           "type": "bar",
           "x": [
            2018.4
           ],
           "xaxis": "x",
           "y": [
            "Perak"
           ],
           "yaxis": "y"
          },
          {
           "alignmentgroup": "True",
           "hovertemplate": "State=%{y}<br>Year=1993<br>Population=%{x}<extra></extra>",
           "legendgroup": "Perlis",
           "marker": {
            "color": "#FF97FF",
            "pattern": {
             "shape": ""
            }
           },
           "name": "Perlis",
           "offsetgroup": "Perlis",
           "orientation": "h",
           "showlegend": true,
           "textposition": "auto",
           "type": "bar",
           "x": [
            194.7
           ],
           "xaxis": "x",
           "y": [
            "Perlis"
           ],
           "yaxis": "y"
          },
          {
           "alignmentgroup": "True",
           "hovertemplate": "State=%{y}<br>Year=1993<br>Population=%{x}<extra></extra>",
           "legendgroup": "Selangor",
           "marker": {
            "color": "#FECB52",
            "pattern": {
             "shape": ""
            }
           },
           "name": "Selangor",
           "offsetgroup": "Selangor",
           "orientation": "h",
           "showlegend": true,
           "textposition": "auto",
           "type": "bar",
           "x": [
            2788.7
           ],
           "xaxis": "x",
           "y": [
            "Selangor"
           ],
           "yaxis": "y"
          },
          {
           "alignmentgroup": "True",
           "hovertemplate": "State=%{y}<br>Year=1993<br>Population=%{x}<extra></extra>",
           "legendgroup": "Terengganu",
           "marker": {
            "color": "#636efa",
            "pattern": {
             "shape": ""
            }
           },
           "name": "Terengganu",
           "offsetgroup": "Terengganu",
           "orientation": "h",
           "showlegend": true,
           "textposition": "auto",
           "type": "bar",
           "x": [
            836.5
           ],
           "xaxis": "x",
           "y": [
            "Terengganu"
           ],
           "yaxis": "y"
          },
          {
           "alignmentgroup": "True",
           "hovertemplate": "State=%{y}<br>Year=1993<br>Population=%{x}<extra></extra>",
           "legendgroup": "Sabah",
           "marker": {
            "color": "#EF553B",
            "pattern": {
             "shape": ""
            }
           },
           "name": "Sabah",
           "offsetgroup": "Sabah",
           "orientation": "h",
           "showlegend": true,
           "textposition": "auto",
           "type": "bar",
           "x": [
            1981.9
           ],
           "xaxis": "x",
           "y": [
            "Sabah"
           ],
           "yaxis": "y"
          },
          {
           "alignmentgroup": "True",
           "hovertemplate": "State=%{y}<br>Year=1993<br>Population=%{x}<extra></extra>",
           "legendgroup": "Sarawak",
           "marker": {
            "color": "#00cc96",
            "pattern": {
             "shape": ""
            }
           },
           "name": "Sarawak",
           "offsetgroup": "Sarawak",
           "orientation": "h",
           "showlegend": true,
           "textposition": "auto",
           "type": "bar",
           "x": [
            1795.2
           ],
           "xaxis": "x",
           "y": [
            "Sarawak"
           ],
           "yaxis": "y"
          },
          {
           "alignmentgroup": "True",
           "hovertemplate": "State=%{y}<br>Year=1993<br>Population=%{x}<extra></extra>",
           "legendgroup": "Kuala Lumpur",
           "marker": {
            "color": "#ab63fa",
            "pattern": {
             "shape": ""
            }
           },
           "name": "Kuala Lumpur",
           "offsetgroup": "Kuala Lumpur",
           "orientation": "h",
           "showlegend": true,
           "textposition": "auto",
           "type": "bar",
           "x": [
            1298.7
           ],
           "xaxis": "x",
           "y": [
            "Kuala Lumpur"
           ],
           "yaxis": "y"
          }
         ],
         "layout": {
          "annotations": [
           {
            "font": {
             "color": "fuchsia",
             "size": 50,
             "weight": "bold"
            },
            "text": "1993",
            "x": 0.98,
            "xref": "paper",
            "y": 0.5,
            "yref": "paper"
           }
          ]
         },
         "name": "1993"
        },
        {
         "data": [
          {
           "alignmentgroup": "True",
           "hovertemplate": "State=%{y}<br>Year=1994<br>Population=%{x}<extra></extra>",
           "legendgroup": "Johor",
           "marker": {
            "color": "#636efa",
            "pattern": {
             "shape": ""
            }
           },
           "name": "Johor",
           "offsetgroup": "Johor",
           "orientation": "h",
           "showlegend": true,
           "textposition": "auto",
           "type": "bar",
           "x": [
            2378.1
           ],
           "xaxis": "x",
           "y": [
            "Johor"
           ],
           "yaxis": "y"
          },
          {
           "alignmentgroup": "True",
           "hovertemplate": "State=%{y}<br>Year=1994<br>Population=%{x}<extra></extra>",
           "legendgroup": "Kedah",
           "marker": {
            "color": "#EF553B",
            "pattern": {
             "shape": ""
            }
           },
           "name": "Kedah",
           "offsetgroup": "Kedah",
           "orientation": "h",
           "showlegend": true,
           "textposition": "auto",
           "type": "bar",
           "x": [
            1466.6
           ],
           "xaxis": "x",
           "y": [
            "Kedah"
           ],
           "yaxis": "y"
          },
          {
           "alignmentgroup": "True",
           "hovertemplate": "State=%{y}<br>Year=1994<br>Population=%{x}<extra></extra>",
           "legendgroup": "Kelantan",
           "marker": {
            "color": "#00cc96",
            "pattern": {
             "shape": ""
            }
           },
           "name": "Kelantan",
           "offsetgroup": "Kelantan",
           "orientation": "h",
           "showlegend": true,
           "textposition": "auto",
           "type": "bar",
           "x": [
            1273.7
           ],
           "xaxis": "x",
           "y": [
            "Kelantan"
           ],
           "yaxis": "y"
          },
          {
           "alignmentgroup": "True",
           "hovertemplate": "State=%{y}<br>Year=1994<br>Population=%{x}<extra></extra>",
           "legendgroup": "Melaka",
           "marker": {
            "color": "#ab63fa",
            "pattern": {
             "shape": ""
            }
           },
           "name": "Melaka",
           "offsetgroup": "Melaka",
           "orientation": "h",
           "showlegend": true,
           "textposition": "auto",
           "type": "bar",
           "x": [
            574.9
           ],
           "xaxis": "x",
           "y": [
            "Melaka"
           ],
           "yaxis": "y"
          },
          {
           "alignmentgroup": "True",
           "hovertemplate": "State=%{y}<br>Year=1994<br>Population=%{x}<extra></extra>",
           "legendgroup": "Negeri Sembilan",
           "marker": {
            "color": "#FFA15A",
            "pattern": {
             "shape": ""
            }
           },
           "name": "Negeri Sembilan",
           "offsetgroup": "Negeri Sembilan",
           "orientation": "h",
           "showlegend": true,
           "textposition": "auto",
           "type": "bar",
           "x": [
            772.4
           ],
           "xaxis": "x",
           "y": [
            "Negeri Sembilan"
           ],
           "yaxis": "y"
          },
          {
           "alignmentgroup": "True",
           "hovertemplate": "State=%{y}<br>Year=1994<br>Population=%{x}<extra></extra>",
           "legendgroup": "Pahang",
           "marker": {
            "color": "#19d3f3",
            "pattern": {
             "shape": ""
            }
           },
           "name": "Pahang",
           "offsetgroup": "Pahang",
           "orientation": "h",
           "showlegend": true,
           "textposition": "auto",
           "type": "bar",
           "x": [
            1152.3
           ],
           "xaxis": "x",
           "y": [
            "Pahang"
           ],
           "yaxis": "y"
          },
          {
           "alignmentgroup": "True",
           "hovertemplate": "State=%{y}<br>Year=1994<br>Population=%{x}<extra></extra>",
           "legendgroup": "Penang",
           "marker": {
            "color": "#FF6692",
            "pattern": {
             "shape": ""
            }
           },
           "name": "Penang",
           "offsetgroup": "Penang",
           "orientation": "h",
           "showlegend": true,
           "textposition": "auto",
           "type": "bar",
           "x": [
            1195.9
           ],
           "xaxis": "x",
           "y": [
            "Penang"
           ],
           "yaxis": "y"
          },
          {
           "alignmentgroup": "True",
           "hovertemplate": "State=%{y}<br>Year=1994<br>Population=%{x}<extra></extra>",
           "legendgroup": "Perak",
           "marker": {
            "color": "#B6E880",
            "pattern": {
             "shape": ""
            }
           },
           "name": "Perak",
           "offsetgroup": "Perak",
           "orientation": "h",
           "showlegend": true,
           "textposition": "auto",
           "type": "bar",
           "x": [
            2028.4
           ],
           "xaxis": "x",
           "y": [
            "Perak"
           ],
           "yaxis": "y"
          },
          {
           "alignmentgroup": "True",
           "hovertemplate": "State=%{y}<br>Year=1994<br>Population=%{x}<extra></extra>",
           "legendgroup": "Perlis",
           "marker": {
            "color": "#FF97FF",
            "pattern": {
             "shape": ""
            }
           },
           "name": "Perlis",
           "offsetgroup": "Perlis",
           "orientation": "h",
           "showlegend": true,
           "textposition": "auto",
           "type": "bar",
           "x": [
            196.7
           ],
           "xaxis": "x",
           "y": [
            "Perlis"
           ],
           "yaxis": "y"
          },
          {
           "alignmentgroup": "True",
           "hovertemplate": "State=%{y}<br>Year=1994<br>Population=%{x}<extra></extra>",
           "legendgroup": "Selangor",
           "marker": {
            "color": "#FECB52",
            "pattern": {
             "shape": ""
            }
           },
           "name": "Selangor",
           "offsetgroup": "Selangor",
           "orientation": "h",
           "showlegend": true,
           "textposition": "auto",
           "type": "bar",
           "x": [
            2978.5
           ],
           "xaxis": "x",
           "y": [
            "Selangor"
           ],
           "yaxis": "y"
          },
          {
           "alignmentgroup": "True",
           "hovertemplate": "State=%{y}<br>Year=1994<br>Population=%{x}<extra></extra>",
           "legendgroup": "Terengganu",
           "marker": {
            "color": "#636efa",
            "pattern": {
             "shape": ""
            }
           },
           "name": "Terengganu",
           "offsetgroup": "Terengganu",
           "orientation": "h",
           "showlegend": true,
           "textposition": "auto",
           "type": "bar",
           "x": [
            848.6
           ],
           "xaxis": "x",
           "y": [
            "Terengganu"
           ],
           "yaxis": "y"
          },
          {
           "alignmentgroup": "True",
           "hovertemplate": "State=%{y}<br>Year=1994<br>Population=%{x}<extra></extra>",
           "legendgroup": "Sabah",
           "marker": {
            "color": "#EF553B",
            "pattern": {
             "shape": ""
            }
           },
           "name": "Sabah",
           "offsetgroup": "Sabah",
           "orientation": "h",
           "showlegend": true,
           "textposition": "auto",
           "type": "bar",
           "x": [
            2068.9
           ],
           "xaxis": "x",
           "y": [
            "Sabah"
           ],
           "yaxis": "y"
          },
          {
           "alignmentgroup": "True",
           "hovertemplate": "State=%{y}<br>Year=1994<br>Population=%{x}<extra></extra>",
           "legendgroup": "Sarawak",
           "marker": {
            "color": "#00cc96",
            "pattern": {
             "shape": ""
            }
           },
           "name": "Sarawak",
           "offsetgroup": "Sarawak",
           "orientation": "h",
           "showlegend": true,
           "textposition": "auto",
           "type": "bar",
           "x": [
            1831.9
           ],
           "xaxis": "x",
           "y": [
            "Sarawak"
           ],
           "yaxis": "y"
          },
          {
           "alignmentgroup": "True",
           "hovertemplate": "State=%{y}<br>Year=1994<br>Population=%{x}<extra></extra>",
           "legendgroup": "Kuala Lumpur",
           "marker": {
            "color": "#ab63fa",
            "pattern": {
             "shape": ""
            }
           },
           "name": "Kuala Lumpur",
           "offsetgroup": "Kuala Lumpur",
           "orientation": "h",
           "showlegend": true,
           "textposition": "auto",
           "type": "bar",
           "x": [
            1314.4
           ],
           "xaxis": "x",
           "y": [
            "Kuala Lumpur"
           ],
           "yaxis": "y"
          }
         ],
         "layout": {
          "annotations": [
           {
            "font": {
             "color": "fuchsia",
             "size": 50,
             "weight": "bold"
            },
            "text": "1994",
            "x": 0.98,
            "xref": "paper",
            "y": 0.5,
            "yref": "paper"
           }
          ]
         },
         "name": "1994"
        },
        {
         "data": [
          {
           "alignmentgroup": "True",
           "hovertemplate": "State=%{y}<br>Year=1995<br>Population=%{x}<extra></extra>",
           "legendgroup": "Johor",
           "marker": {
            "color": "#636efa",
            "pattern": {
             "shape": ""
            }
           },
           "name": "Johor",
           "offsetgroup": "Johor",
           "orientation": "h",
           "showlegend": true,
           "textposition": "auto",
           "type": "bar",
           "x": [
            2441.4
           ],
           "xaxis": "x",
           "y": [
            "Johor"
           ],
           "yaxis": "y"
          },
          {
           "alignmentgroup": "True",
           "hovertemplate": "State=%{y}<br>Year=1995<br>Population=%{x}<extra></extra>",
           "legendgroup": "Kedah",
           "marker": {
            "color": "#EF553B",
            "pattern": {
             "shape": ""
            }
           },
           "name": "Kedah",
           "offsetgroup": "Kedah",
           "orientation": "h",
           "showlegend": true,
           "textposition": "auto",
           "type": "bar",
           "x": [
            1500.2
           ],
           "xaxis": "x",
           "y": [
            "Kedah"
           ],
           "yaxis": "y"
          },
          {
           "alignmentgroup": "True",
           "hovertemplate": "State=%{y}<br>Year=1995<br>Population=%{x}<extra></extra>",
           "legendgroup": "Kelantan",
           "marker": {
            "color": "#00cc96",
            "pattern": {
             "shape": ""
            }
           },
           "name": "Kelantan",
           "offsetgroup": "Kelantan",
           "orientation": "h",
           "showlegend": true,
           "textposition": "auto",
           "type": "bar",
           "x": [
            1287.7
           ],
           "xaxis": "x",
           "y": [
            "Kelantan"
           ],
           "yaxis": "y"
          },
          {
           "alignmentgroup": "True",
           "hovertemplate": "State=%{y}<br>Year=1995<br>Population=%{x}<extra></extra>",
           "legendgroup": "Melaka",
           "marker": {
            "color": "#ab63fa",
            "pattern": {
             "shape": ""
            }
           },
           "name": "Melaka",
           "offsetgroup": "Melaka",
           "orientation": "h",
           "showlegend": true,
           "textposition": "auto",
           "type": "bar",
           "x": [
            586.1
           ],
           "xaxis": "x",
           "y": [
            "Melaka"
           ],
           "yaxis": "y"
          },
          {
           "alignmentgroup": "True",
           "hovertemplate": "State=%{y}<br>Year=1995<br>Population=%{x}<extra></extra>",
           "legendgroup": "Negeri Sembilan",
           "marker": {
            "color": "#FFA15A",
            "pattern": {
             "shape": ""
            }
           },
           "name": "Negeri Sembilan",
           "offsetgroup": "Negeri Sembilan",
           "orientation": "h",
           "showlegend": true,
           "textposition": "auto",
           "type": "bar",
           "x": [
            787.5
           ],
           "xaxis": "x",
           "y": [
            "Negeri Sembilan"
           ],
           "yaxis": "y"
          },
          {
           "alignmentgroup": "True",
           "hovertemplate": "State=%{y}<br>Year=1995<br>Population=%{x}<extra></extra>",
           "legendgroup": "Pahang",
           "marker": {
            "color": "#19d3f3",
            "pattern": {
             "shape": ""
            }
           },
           "name": "Pahang",
           "offsetgroup": "Pahang",
           "orientation": "h",
           "showlegend": true,
           "textposition": "auto",
           "type": "bar",
           "x": [
            1176.5
           ],
           "xaxis": "x",
           "y": [
            "Pahang"
           ],
           "yaxis": "y"
          },
          {
           "alignmentgroup": "True",
           "hovertemplate": "State=%{y}<br>Year=1995<br>Population=%{x}<extra></extra>",
           "legendgroup": "Penang",
           "marker": {
            "color": "#FF6692",
            "pattern": {
             "shape": ""
            }
           },
           "name": "Penang",
           "offsetgroup": "Penang",
           "orientation": "h",
           "showlegend": true,
           "textposition": "auto",
           "type": "bar",
           "x": [
            1216.6
           ],
           "xaxis": "x",
           "y": [
            "Penang"
           ],
           "yaxis": "y"
          },
          {
           "alignmentgroup": "True",
           "hovertemplate": "State=%{y}<br>Year=1995<br>Population=%{x}<extra></extra>",
           "legendgroup": "Perak",
           "marker": {
            "color": "#B6E880",
            "pattern": {
             "shape": ""
            }
           },
           "name": "Perak",
           "offsetgroup": "Perak",
           "orientation": "h",
           "showlegend": true,
           "textposition": "auto",
           "type": "bar",
           "x": [
            2038.1
           ],
           "xaxis": "x",
           "y": [
            "Perak"
           ],
           "yaxis": "y"
          },
          {
           "alignmentgroup": "True",
           "hovertemplate": "State=%{y}<br>Year=1995<br>Population=%{x}<extra></extra>",
           "legendgroup": "Perlis",
           "marker": {
            "color": "#FF97FF",
            "pattern": {
             "shape": ""
            }
           },
           "name": "Perlis",
           "offsetgroup": "Perlis",
           "orientation": "h",
           "showlegend": true,
           "textposition": "auto",
           "type": "bar",
           "x": [
            198.8
           ],
           "xaxis": "x",
           "y": [
            "Perlis"
           ],
           "yaxis": "y"
          },
          {
           "alignmentgroup": "True",
           "hovertemplate": "State=%{y}<br>Year=1995<br>Population=%{x}<extra></extra>",
           "legendgroup": "Selangor",
           "marker": {
            "color": "#FECB52",
            "pattern": {
             "shape": ""
            }
           },
           "name": "Selangor",
           "offsetgroup": "Selangor",
           "orientation": "h",
           "showlegend": true,
           "textposition": "auto",
           "type": "bar",
           "x": [
            3173.2
           ],
           "xaxis": "x",
           "y": [
            "Selangor"
           ],
           "yaxis": "y"
          },
          {
           "alignmentgroup": "True",
           "hovertemplate": "State=%{y}<br>Year=1995<br>Population=%{x}<extra></extra>",
           "legendgroup": "Terengganu",
           "marker": {
            "color": "#636efa",
            "pattern": {
             "shape": ""
            }
           },
           "name": "Terengganu",
           "offsetgroup": "Terengganu",
           "orientation": "h",
           "showlegend": true,
           "textposition": "auto",
           "type": "bar",
           "x": [
            860
           ],
           "xaxis": "x",
           "y": [
            "Terengganu"
           ],
           "yaxis": "y"
          },
          {
           "alignmentgroup": "True",
           "hovertemplate": "State=%{y}<br>Year=1995<br>Population=%{x}<extra></extra>",
           "legendgroup": "Sabah",
           "marker": {
            "color": "#EF553B",
            "pattern": {
             "shape": ""
            }
           },
           "name": "Sabah",
           "offsetgroup": "Sabah",
           "orientation": "h",
           "showlegend": true,
           "textposition": "auto",
           "type": "bar",
           "x": [
            2155.9
           ],
           "xaxis": "x",
           "y": [
            "Sabah"
           ],
           "yaxis": "y"
          },
          {
           "alignmentgroup": "True",
           "hovertemplate": "State=%{y}<br>Year=1995<br>Population=%{x}<extra></extra>",
           "legendgroup": "Sarawak",
           "marker": {
            "color": "#00cc96",
            "pattern": {
             "shape": ""
            }
           },
           "name": "Sarawak",
           "offsetgroup": "Sarawak",
           "orientation": "h",
           "showlegend": true,
           "textposition": "auto",
           "type": "bar",
           "x": [
            1868.1
           ],
           "xaxis": "x",
           "y": [
            "Sarawak"
           ],
           "yaxis": "y"
          },
          {
           "alignmentgroup": "True",
           "hovertemplate": "State=%{y}<br>Year=1995<br>Population=%{x}<extra></extra>",
           "legendgroup": "Kuala Lumpur",
           "marker": {
            "color": "#ab63fa",
            "pattern": {
             "shape": ""
            }
           },
           "name": "Kuala Lumpur",
           "offsetgroup": "Kuala Lumpur",
           "orientation": "h",
           "showlegend": true,
           "textposition": "auto",
           "type": "bar",
           "x": [
            1328.9
           ],
           "xaxis": "x",
           "y": [
            "Kuala Lumpur"
           ],
           "yaxis": "y"
          }
         ],
         "layout": {
          "annotations": [
           {
            "font": {
             "color": "fuchsia",
             "size": 50,
             "weight": "bold"
            },
            "text": "1995",
            "x": 0.98,
            "xref": "paper",
            "y": 0.5,
            "yref": "paper"
           }
          ]
         },
         "name": "1995"
        },
        {
         "data": [
          {
           "alignmentgroup": "True",
           "hovertemplate": "State=%{y}<br>Year=1996<br>Population=%{x}<extra></extra>",
           "legendgroup": "Johor",
           "marker": {
            "color": "#636efa",
            "pattern": {
             "shape": ""
            }
           },
           "name": "Johor",
           "offsetgroup": "Johor",
           "orientation": "h",
           "showlegend": true,
           "textposition": "auto",
           "type": "bar",
           "x": [
            2503.9
           ],
           "xaxis": "x",
           "y": [
            "Johor"
           ],
           "yaxis": "y"
          },
          {
           "alignmentgroup": "True",
           "hovertemplate": "State=%{y}<br>Year=1996<br>Population=%{x}<extra></extra>",
           "legendgroup": "Kedah",
           "marker": {
            "color": "#EF553B",
            "pattern": {
             "shape": ""
            }
           },
           "name": "Kedah",
           "offsetgroup": "Kedah",
           "orientation": "h",
           "showlegend": true,
           "textposition": "auto",
           "type": "bar",
           "x": [
            1533.2
           ],
           "xaxis": "x",
           "y": [
            "Kedah"
           ],
           "yaxis": "y"
          },
          {
           "alignmentgroup": "True",
           "hovertemplate": "State=%{y}<br>Year=1996<br>Population=%{x}<extra></extra>",
           "legendgroup": "Kelantan",
           "marker": {
            "color": "#00cc96",
            "pattern": {
             "shape": ""
            }
           },
           "name": "Kelantan",
           "offsetgroup": "Kelantan",
           "orientation": "h",
           "showlegend": true,
           "textposition": "auto",
           "type": "bar",
           "x": [
            1301.1
           ],
           "xaxis": "x",
           "y": [
            "Kelantan"
           ],
           "yaxis": "y"
          },
          {
           "alignmentgroup": "True",
           "hovertemplate": "State=%{y}<br>Year=1996<br>Population=%{x}<extra></extra>",
           "legendgroup": "Melaka",
           "marker": {
            "color": "#ab63fa",
            "pattern": {
             "shape": ""
            }
           },
           "name": "Melaka",
           "offsetgroup": "Melaka",
           "orientation": "h",
           "showlegend": true,
           "textposition": "auto",
           "type": "bar",
           "x": [
            597.3
           ],
           "xaxis": "x",
           "y": [
            "Melaka"
           ],
           "yaxis": "y"
          },
          {
           "alignmentgroup": "True",
           "hovertemplate": "State=%{y}<br>Year=1996<br>Population=%{x}<extra></extra>",
           "legendgroup": "Negeri Sembilan",
           "marker": {
            "color": "#FFA15A",
            "pattern": {
             "shape": ""
            }
           },
           "name": "Negeri Sembilan",
           "offsetgroup": "Negeri Sembilan",
           "orientation": "h",
           "showlegend": true,
           "textposition": "auto",
           "type": "bar",
           "x": [
            802.6
           ],
           "xaxis": "x",
           "y": [
            "Negeri Sembilan"
           ],
           "yaxis": "y"
          },
          {
           "alignmentgroup": "True",
           "hovertemplate": "State=%{y}<br>Year=1996<br>Population=%{x}<extra></extra>",
           "legendgroup": "Pahang",
           "marker": {
            "color": "#19d3f3",
            "pattern": {
             "shape": ""
            }
           },
           "name": "Pahang",
           "offsetgroup": "Pahang",
           "orientation": "h",
           "showlegend": true,
           "textposition": "auto",
           "type": "bar",
           "x": [
            1200.6
           ],
           "xaxis": "x",
           "y": [
            "Pahang"
           ],
           "yaxis": "y"
          },
          {
           "alignmentgroup": "True",
           "hovertemplate": "State=%{y}<br>Year=1996<br>Population=%{x}<extra></extra>",
           "legendgroup": "Penang",
           "marker": {
            "color": "#FF6692",
            "pattern": {
             "shape": ""
            }
           },
           "name": "Penang",
           "offsetgroup": "Penang",
           "orientation": "h",
           "showlegend": true,
           "textposition": "auto",
           "type": "bar",
           "x": [
            1237.5
           ],
           "xaxis": "x",
           "y": [
            "Penang"
           ],
           "yaxis": "y"
          },
          {
           "alignmentgroup": "True",
           "hovertemplate": "State=%{y}<br>Year=1996<br>Population=%{x}<extra></extra>",
           "legendgroup": "Perak",
           "marker": {
            "color": "#B6E880",
            "pattern": {
             "shape": ""
            }
           },
           "name": "Perak",
           "offsetgroup": "Perak",
           "orientation": "h",
           "showlegend": true,
           "textposition": "auto",
           "type": "bar",
           "x": [
            2047
           ],
           "xaxis": "x",
           "y": [
            "Perak"
           ],
           "yaxis": "y"
          },
          {
           "alignmentgroup": "True",
           "hovertemplate": "State=%{y}<br>Year=1996<br>Population=%{x}<extra></extra>",
           "legendgroup": "Perlis",
           "marker": {
            "color": "#FF97FF",
            "pattern": {
             "shape": ""
            }
           },
           "name": "Perlis",
           "offsetgroup": "Perlis",
           "orientation": "h",
           "showlegend": true,
           "textposition": "auto",
           "type": "bar",
           "x": [
            200.4
           ],
           "xaxis": "x",
           "y": [
            "Perlis"
           ],
           "yaxis": "y"
          },
          {
           "alignmentgroup": "True",
           "hovertemplate": "State=%{y}<br>Year=1996<br>Population=%{x}<extra></extra>",
           "legendgroup": "Selangor",
           "marker": {
            "color": "#FECB52",
            "pattern": {
             "shape": ""
            }
           },
           "name": "Selangor",
           "offsetgroup": "Selangor",
           "orientation": "h",
           "showlegend": true,
           "textposition": "auto",
           "type": "bar",
           "x": [
            3371.1
           ],
           "xaxis": "x",
           "y": [
            "Selangor"
           ],
           "yaxis": "y"
          },
          {
           "alignmentgroup": "True",
           "hovertemplate": "State=%{y}<br>Year=1996<br>Population=%{x}<extra></extra>",
           "legendgroup": "Terengganu",
           "marker": {
            "color": "#636efa",
            "pattern": {
             "shape": ""
            }
           },
           "name": "Terengganu",
           "offsetgroup": "Terengganu",
           "orientation": "h",
           "showlegend": true,
           "textposition": "auto",
           "type": "bar",
           "x": [
            870.7
           ],
           "xaxis": "x",
           "y": [
            "Terengganu"
           ],
           "yaxis": "y"
          },
          {
           "alignmentgroup": "True",
           "hovertemplate": "State=%{y}<br>Year=1996<br>Population=%{x}<extra></extra>",
           "legendgroup": "Sabah",
           "marker": {
            "color": "#EF553B",
            "pattern": {
             "shape": ""
            }
           },
           "name": "Sabah",
           "offsetgroup": "Sabah",
           "orientation": "h",
           "showlegend": true,
           "textposition": "auto",
           "type": "bar",
           "x": [
            2245
           ],
           "xaxis": "x",
           "y": [
            "Sabah"
           ],
           "yaxis": "y"
          },
          {
           "alignmentgroup": "True",
           "hovertemplate": "State=%{y}<br>Year=1996<br>Population=%{x}<extra></extra>",
           "legendgroup": "Sarawak",
           "marker": {
            "color": "#00cc96",
            "pattern": {
             "shape": ""
            }
           },
           "name": "Sarawak",
           "offsetgroup": "Sarawak",
           "orientation": "h",
           "showlegend": true,
           "textposition": "auto",
           "type": "bar",
           "x": [
            1904.5
           ],
           "xaxis": "x",
           "y": [
            "Sarawak"
           ],
           "yaxis": "y"
          },
          {
           "alignmentgroup": "True",
           "hovertemplate": "State=%{y}<br>Year=1996<br>Population=%{x}<extra></extra>",
           "legendgroup": "Kuala Lumpur",
           "marker": {
            "color": "#ab63fa",
            "pattern": {
             "shape": ""
            }
           },
           "name": "Kuala Lumpur",
           "offsetgroup": "Kuala Lumpur",
           "orientation": "h",
           "showlegend": true,
           "textposition": "auto",
           "type": "bar",
           "x": [
            1342.5
           ],
           "xaxis": "x",
           "y": [
            "Kuala Lumpur"
           ],
           "yaxis": "y"
          }
         ],
         "layout": {
          "annotations": [
           {
            "font": {
             "color": "fuchsia",
             "size": 50,
             "weight": "bold"
            },
            "text": "1996",
            "x": 0.98,
            "xref": "paper",
            "y": 0.5,
            "yref": "paper"
           }
          ]
         },
         "name": "1996"
        },
        {
         "data": [
          {
           "alignmentgroup": "True",
           "hovertemplate": "State=%{y}<br>Year=1997<br>Population=%{x}<extra></extra>",
           "legendgroup": "Johor",
           "marker": {
            "color": "#636efa",
            "pattern": {
             "shape": ""
            }
           },
           "name": "Johor",
           "offsetgroup": "Johor",
           "orientation": "h",
           "showlegend": true,
           "textposition": "auto",
           "type": "bar",
           "x": [
            2567.5
           ],
           "xaxis": "x",
           "y": [
            "Johor"
           ],
           "yaxis": "y"
          },
          {
           "alignmentgroup": "True",
           "hovertemplate": "State=%{y}<br>Year=1997<br>Population=%{x}<extra></extra>",
           "legendgroup": "Kedah",
           "marker": {
            "color": "#EF553B",
            "pattern": {
             "shape": ""
            }
           },
           "name": "Kedah",
           "offsetgroup": "Kedah",
           "orientation": "h",
           "showlegend": true,
           "textposition": "auto",
           "type": "bar",
           "x": [
            1566.9
           ],
           "xaxis": "x",
           "y": [
            "Kedah"
           ],
           "yaxis": "y"
          },
          {
           "alignmentgroup": "True",
           "hovertemplate": "State=%{y}<br>Year=1997<br>Population=%{x}<extra></extra>",
           "legendgroup": "Kelantan",
           "marker": {
            "color": "#00cc96",
            "pattern": {
             "shape": ""
            }
           },
           "name": "Kelantan",
           "offsetgroup": "Kelantan",
           "orientation": "h",
           "showlegend": true,
           "textposition": "auto",
           "type": "bar",
           "x": [
            1314.4
           ],
           "xaxis": "x",
           "y": [
            "Kelantan"
           ],
           "yaxis": "y"
          },
          {
           "alignmentgroup": "True",
           "hovertemplate": "State=%{y}<br>Year=1997<br>Population=%{x}<extra></extra>",
           "legendgroup": "Melaka",
           "marker": {
            "color": "#ab63fa",
            "pattern": {
             "shape": ""
            }
           },
           "name": "Melaka",
           "offsetgroup": "Melaka",
           "orientation": "h",
           "showlegend": true,
           "textposition": "auto",
           "type": "bar",
           "x": [
            608.8
           ],
           "xaxis": "x",
           "y": [
            "Melaka"
           ],
           "yaxis": "y"
          },
          {
           "alignmentgroup": "True",
           "hovertemplate": "State=%{y}<br>Year=1997<br>Population=%{x}<extra></extra>",
           "legendgroup": "Negeri Sembilan",
           "marker": {
            "color": "#FFA15A",
            "pattern": {
             "shape": ""
            }
           },
           "name": "Negeri Sembilan",
           "offsetgroup": "Negeri Sembilan",
           "orientation": "h",
           "showlegend": true,
           "textposition": "auto",
           "type": "bar",
           "x": [
            818
           ],
           "xaxis": "x",
           "y": [
            "Negeri Sembilan"
           ],
           "yaxis": "y"
          },
          {
           "alignmentgroup": "True",
           "hovertemplate": "State=%{y}<br>Year=1997<br>Population=%{x}<extra></extra>",
           "legendgroup": "Pahang",
           "marker": {
            "color": "#19d3f3",
            "pattern": {
             "shape": ""
            }
           },
           "name": "Pahang",
           "offsetgroup": "Pahang",
           "orientation": "h",
           "showlegend": true,
           "textposition": "auto",
           "type": "bar",
           "x": [
            1224.7
           ],
           "xaxis": "x",
           "y": [
            "Pahang"
           ],
           "yaxis": "y"
          },
          {
           "alignmentgroup": "True",
           "hovertemplate": "State=%{y}<br>Year=1997<br>Population=%{x}<extra></extra>",
           "legendgroup": "Penang",
           "marker": {
            "color": "#FF6692",
            "pattern": {
             "shape": ""
            }
           },
           "name": "Penang",
           "offsetgroup": "Penang",
           "orientation": "h",
           "showlegend": true,
           "textposition": "auto",
           "type": "bar",
           "x": [
            1259
           ],
           "xaxis": "x",
           "y": [
            "Penang"
           ],
           "yaxis": "y"
          },
          {
           "alignmentgroup": "True",
           "hovertemplate": "State=%{y}<br>Year=1997<br>Population=%{x}<extra></extra>",
           "legendgroup": "Perak",
           "marker": {
            "color": "#B6E880",
            "pattern": {
             "shape": ""
            }
           },
           "name": "Perak",
           "offsetgroup": "Perak",
           "orientation": "h",
           "showlegend": true,
           "textposition": "auto",
           "type": "bar",
           "x": [
            2055.3
           ],
           "xaxis": "x",
           "y": [
            "Perak"
           ],
           "yaxis": "y"
          },
          {
           "alignmentgroup": "True",
           "hovertemplate": "State=%{y}<br>Year=1997<br>Population=%{x}<extra></extra>",
           "legendgroup": "Perlis",
           "marker": {
            "color": "#FF97FF",
            "pattern": {
             "shape": ""
            }
           },
           "name": "Perlis",
           "offsetgroup": "Perlis",
           "orientation": "h",
           "showlegend": true,
           "textposition": "auto",
           "type": "bar",
           "x": [
            202.1
           ],
           "xaxis": "x",
           "y": [
            "Perlis"
           ],
           "yaxis": "y"
          },
          {
           "alignmentgroup": "True",
           "hovertemplate": "State=%{y}<br>Year=1997<br>Population=%{x}<extra></extra>",
           "legendgroup": "Selangor",
           "marker": {
            "color": "#FECB52",
            "pattern": {
             "shape": ""
            }
           },
           "name": "Selangor",
           "offsetgroup": "Selangor",
           "orientation": "h",
           "showlegend": true,
           "textposition": "auto",
           "type": "bar",
           "x": [
            3571.9
           ],
           "xaxis": "x",
           "y": [
            "Selangor"
           ],
           "yaxis": "y"
          },
          {
           "alignmentgroup": "True",
           "hovertemplate": "State=%{y}<br>Year=1997<br>Population=%{x}<extra></extra>",
           "legendgroup": "Terengganu",
           "marker": {
            "color": "#636efa",
            "pattern": {
             "shape": ""
            }
           },
           "name": "Terengganu",
           "offsetgroup": "Terengganu",
           "orientation": "h",
           "showlegend": true,
           "textposition": "auto",
           "type": "bar",
           "x": [
            880.4
           ],
           "xaxis": "x",
           "y": [
            "Terengganu"
           ],
           "yaxis": "y"
          },
          {
           "alignmentgroup": "True",
           "hovertemplate": "State=%{y}<br>Year=1997<br>Population=%{x}<extra></extra>",
           "legendgroup": "Sabah",
           "marker": {
            "color": "#EF553B",
            "pattern": {
             "shape": ""
            }
           },
           "name": "Sabah",
           "offsetgroup": "Sabah",
           "orientation": "h",
           "showlegend": true,
           "textposition": "auto",
           "type": "bar",
           "x": [
            2333.7
           ],
           "xaxis": "x",
           "y": [
            "Sabah"
           ],
           "yaxis": "y"
          },
          {
           "alignmentgroup": "True",
           "hovertemplate": "State=%{y}<br>Year=1997<br>Population=%{x}<extra></extra>",
           "legendgroup": "Sarawak",
           "marker": {
            "color": "#00cc96",
            "pattern": {
             "shape": ""
            }
           },
           "name": "Sarawak",
           "offsetgroup": "Sarawak",
           "orientation": "h",
           "showlegend": true,
           "textposition": "auto",
           "type": "bar",
           "x": [
            1942.4
           ],
           "xaxis": "x",
           "y": [
            "Sarawak"
           ],
           "yaxis": "y"
          },
          {
           "alignmentgroup": "True",
           "hovertemplate": "State=%{y}<br>Year=1997<br>Population=%{x}<extra></extra>",
           "legendgroup": "Kuala Lumpur",
           "marker": {
            "color": "#ab63fa",
            "pattern": {
             "shape": ""
            }
           },
           "name": "Kuala Lumpur",
           "offsetgroup": "Kuala Lumpur",
           "orientation": "h",
           "showlegend": true,
           "textposition": "auto",
           "type": "bar",
           "x": [
            1356.4
           ],
           "xaxis": "x",
           "y": [
            "Kuala Lumpur"
           ],
           "yaxis": "y"
          }
         ],
         "layout": {
          "annotations": [
           {
            "font": {
             "color": "fuchsia",
             "size": 50,
             "weight": "bold"
            },
            "text": "1997",
            "x": 0.98,
            "xref": "paper",
            "y": 0.5,
            "yref": "paper"
           }
          ]
         },
         "name": "1997"
        },
        {
         "data": [
          {
           "alignmentgroup": "True",
           "hovertemplate": "State=%{y}<br>Year=1998<br>Population=%{x}<extra></extra>",
           "legendgroup": "Johor",
           "marker": {
            "color": "#636efa",
            "pattern": {
             "shape": ""
            }
           },
           "name": "Johor",
           "offsetgroup": "Johor",
           "orientation": "h",
           "showlegend": true,
           "textposition": "auto",
           "type": "bar",
           "x": [
            2631.7
           ],
           "xaxis": "x",
           "y": [
            "Johor"
           ],
           "yaxis": "y"
          },
          {
           "alignmentgroup": "True",
           "hovertemplate": "State=%{y}<br>Year=1998<br>Population=%{x}<extra></extra>",
           "legendgroup": "Kedah",
           "marker": {
            "color": "#EF553B",
            "pattern": {
             "shape": ""
            }
           },
           "name": "Kedah",
           "offsetgroup": "Kedah",
           "orientation": "h",
           "showlegend": true,
           "textposition": "auto",
           "type": "bar",
           "x": [
            1601.2
           ],
           "xaxis": "x",
           "y": [
            "Kedah"
           ],
           "yaxis": "y"
          },
          {
           "alignmentgroup": "True",
           "hovertemplate": "State=%{y}<br>Year=1998<br>Population=%{x}<extra></extra>",
           "legendgroup": "Kelantan",
           "marker": {
            "color": "#00cc96",
            "pattern": {
             "shape": ""
            }
           },
           "name": "Kelantan",
           "offsetgroup": "Kelantan",
           "orientation": "h",
           "showlegend": true,
           "textposition": "auto",
           "type": "bar",
           "x": [
            1328.9
           ],
           "xaxis": "x",
           "y": [
            "Kelantan"
           ],
           "yaxis": "y"
          },
          {
           "alignmentgroup": "True",
           "hovertemplate": "State=%{y}<br>Year=1998<br>Population=%{x}<extra></extra>",
           "legendgroup": "Melaka",
           "marker": {
            "color": "#ab63fa",
            "pattern": {
             "shape": ""
            }
           },
           "name": "Melaka",
           "offsetgroup": "Melaka",
           "orientation": "h",
           "showlegend": true,
           "textposition": "auto",
           "type": "bar",
           "x": [
            620.5
           ],
           "xaxis": "x",
           "y": [
            "Melaka"
           ],
           "yaxis": "y"
          },
          {
           "alignmentgroup": "True",
           "hovertemplate": "State=%{y}<br>Year=1998<br>Population=%{x}<extra></extra>",
           "legendgroup": "Negeri Sembilan",
           "marker": {
            "color": "#FFA15A",
            "pattern": {
             "shape": ""
            }
           },
           "name": "Negeri Sembilan",
           "offsetgroup": "Negeri Sembilan",
           "orientation": "h",
           "showlegend": true,
           "textposition": "auto",
           "type": "bar",
           "x": [
            833.5
           ],
           "xaxis": "x",
           "y": [
            "Negeri Sembilan"
           ],
           "yaxis": "y"
          },
          {
           "alignmentgroup": "True",
           "hovertemplate": "State=%{y}<br>Year=1998<br>Population=%{x}<extra></extra>",
           "legendgroup": "Pahang",
           "marker": {
            "color": "#19d3f3",
            "pattern": {
             "shape": ""
            }
           },
           "name": "Pahang",
           "offsetgroup": "Pahang",
           "orientation": "h",
           "showlegend": true,
           "textposition": "auto",
           "type": "bar",
           "x": [
            1248.8
           ],
           "xaxis": "x",
           "y": [
            "Pahang"
           ],
           "yaxis": "y"
          },
          {
           "alignmentgroup": "True",
           "hovertemplate": "State=%{y}<br>Year=1998<br>Population=%{x}<extra></extra>",
           "legendgroup": "Penang",
           "marker": {
            "color": "#FF6692",
            "pattern": {
             "shape": ""
            }
           },
           "name": "Penang",
           "offsetgroup": "Penang",
           "orientation": "h",
           "showlegend": true,
           "textposition": "auto",
           "type": "bar",
           "x": [
            1282.7
           ],
           "xaxis": "x",
           "y": [
            "Penang"
           ],
           "yaxis": "y"
          },
          {
           "alignmentgroup": "True",
           "hovertemplate": "State=%{y}<br>Year=1998<br>Population=%{x}<extra></extra>",
           "legendgroup": "Perak",
           "marker": {
            "color": "#B6E880",
            "pattern": {
             "shape": ""
            }
           },
           "name": "Perak",
           "offsetgroup": "Perak",
           "orientation": "h",
           "showlegend": true,
           "textposition": "auto",
           "type": "bar",
           "x": [
            2066.2
           ],
           "xaxis": "x",
           "y": [
            "Perak"
           ],
           "yaxis": "y"
          },
          {
           "alignmentgroup": "True",
           "hovertemplate": "State=%{y}<br>Year=1998<br>Population=%{x}<extra></extra>",
           "legendgroup": "Perlis",
           "marker": {
            "color": "#FF97FF",
            "pattern": {
             "shape": ""
            }
           },
           "name": "Perlis",
           "offsetgroup": "Perlis",
           "orientation": "h",
           "showlegend": true,
           "textposition": "auto",
           "type": "bar",
           "x": [
            203.8
           ],
           "xaxis": "x",
           "y": [
            "Perlis"
           ],
           "yaxis": "y"
          },
          {
           "alignmentgroup": "True",
           "hovertemplate": "State=%{y}<br>Year=1998<br>Population=%{x}<extra></extra>",
           "legendgroup": "Selangor",
           "marker": {
            "color": "#FECB52",
            "pattern": {
             "shape": ""
            }
           },
           "name": "Selangor",
           "offsetgroup": "Selangor",
           "orientation": "h",
           "showlegend": true,
           "textposition": "auto",
           "type": "bar",
           "x": [
            3777.5
           ],
           "xaxis": "x",
           "y": [
            "Selangor"
           ],
           "yaxis": "y"
          },
          {
           "alignmentgroup": "True",
           "hovertemplate": "State=%{y}<br>Year=1998<br>Population=%{x}<extra></extra>",
           "legendgroup": "Terengganu",
           "marker": {
            "color": "#636efa",
            "pattern": {
             "shape": ""
            }
           },
           "name": "Terengganu",
           "offsetgroup": "Terengganu",
           "orientation": "h",
           "showlegend": true,
           "textposition": "auto",
           "type": "bar",
           "x": [
            889.6
           ],
           "xaxis": "x",
           "y": [
            "Terengganu"
           ],
           "yaxis": "y"
          },
          {
           "alignmentgroup": "True",
           "hovertemplate": "State=%{y}<br>Year=1998<br>Population=%{x}<extra></extra>",
           "legendgroup": "Sabah",
           "marker": {
            "color": "#EF553B",
            "pattern": {
             "shape": ""
            }
           },
           "name": "Sabah",
           "offsetgroup": "Sabah",
           "orientation": "h",
           "showlegend": true,
           "textposition": "auto",
           "type": "bar",
           "x": [
            2423.5
           ],
           "xaxis": "x",
           "y": [
            "Sabah"
           ],
           "yaxis": "y"
          },
          {
           "alignmentgroup": "True",
           "hovertemplate": "State=%{y}<br>Year=1998<br>Population=%{x}<extra></extra>",
           "legendgroup": "Sarawak",
           "marker": {
            "color": "#00cc96",
            "pattern": {
             "shape": ""
            }
           },
           "name": "Sarawak",
           "offsetgroup": "Sarawak",
           "orientation": "h",
           "showlegend": true,
           "textposition": "auto",
           "type": "bar",
           "x": [
            1982.1
           ],
           "xaxis": "x",
           "y": [
            "Sarawak"
           ],
           "yaxis": "y"
          },
          {
           "alignmentgroup": "True",
           "hovertemplate": "State=%{y}<br>Year=1998<br>Population=%{x}<extra></extra>",
           "legendgroup": "Kuala Lumpur",
           "marker": {
            "color": "#ab63fa",
            "pattern": {
             "shape": ""
            }
           },
           "name": "Kuala Lumpur",
           "offsetgroup": "Kuala Lumpur",
           "orientation": "h",
           "showlegend": true,
           "textposition": "auto",
           "type": "bar",
           "x": [
            1373
           ],
           "xaxis": "x",
           "y": [
            "Kuala Lumpur"
           ],
           "yaxis": "y"
          }
         ],
         "layout": {
          "annotations": [
           {
            "font": {
             "color": "fuchsia",
             "size": 50,
             "weight": "bold"
            },
            "text": "1998",
            "x": 0.98,
            "xref": "paper",
            "y": 0.5,
            "yref": "paper"
           }
          ]
         },
         "name": "1998"
        },
        {
         "data": [
          {
           "alignmentgroup": "True",
           "hovertemplate": "State=%{y}<br>Year=1999<br>Population=%{x}<extra></extra>",
           "legendgroup": "Johor",
           "marker": {
            "color": "#636efa",
            "pattern": {
             "shape": ""
            }
           },
           "name": "Johor",
           "offsetgroup": "Johor",
           "orientation": "h",
           "showlegend": true,
           "textposition": "auto",
           "type": "bar",
           "x": [
            2699.4
           ],
           "xaxis": "x",
           "y": [
            "Johor"
           ],
           "yaxis": "y"
          },
          {
           "alignmentgroup": "True",
           "hovertemplate": "State=%{y}<br>Year=1999<br>Population=%{x}<extra></extra>",
           "legendgroup": "Kedah",
           "marker": {
            "color": "#EF553B",
            "pattern": {
             "shape": ""
            }
           },
           "name": "Kedah",
           "offsetgroup": "Kedah",
           "orientation": "h",
           "showlegend": true,
           "textposition": "auto",
           "type": "bar",
           "x": [
            1636.5
           ],
           "xaxis": "x",
           "y": [
            "Kedah"
           ],
           "yaxis": "y"
          },
          {
           "alignmentgroup": "True",
           "hovertemplate": "State=%{y}<br>Year=1999<br>Population=%{x}<extra></extra>",
           "legendgroup": "Kelantan",
           "marker": {
            "color": "#00cc96",
            "pattern": {
             "shape": ""
            }
           },
           "name": "Kelantan",
           "offsetgroup": "Kelantan",
           "orientation": "h",
           "showlegend": true,
           "textposition": "auto",
           "type": "bar",
           "x": [
            1344.7
           ],
           "xaxis": "x",
           "y": [
            "Kelantan"
           ],
           "yaxis": "y"
          },
          {
           "alignmentgroup": "True",
           "hovertemplate": "State=%{y}<br>Year=1999<br>Population=%{x}<extra></extra>",
           "legendgroup": "Melaka",
           "marker": {
            "color": "#ab63fa",
            "pattern": {
             "shape": ""
            }
           },
           "name": "Melaka",
           "offsetgroup": "Melaka",
           "orientation": "h",
           "showlegend": true,
           "textposition": "auto",
           "type": "bar",
           "x": [
            633.1
           ],
           "xaxis": "x",
           "y": [
            "Melaka"
           ],
           "yaxis": "y"
          },
          {
           "alignmentgroup": "True",
           "hovertemplate": "State=%{y}<br>Year=1999<br>Population=%{x}<extra></extra>",
           "legendgroup": "Negeri Sembilan",
           "marker": {
            "color": "#FFA15A",
            "pattern": {
             "shape": ""
            }
           },
           "name": "Negeri Sembilan",
           "offsetgroup": "Negeri Sembilan",
           "orientation": "h",
           "showlegend": true,
           "textposition": "auto",
           "type": "bar",
           "x": [
            849.5
           ],
           "xaxis": "x",
           "y": [
            "Negeri Sembilan"
           ],
           "yaxis": "y"
          },
          {
           "alignmentgroup": "True",
           "hovertemplate": "State=%{y}<br>Year=1999<br>Population=%{x}<extra></extra>",
           "legendgroup": "Pahang",
           "marker": {
            "color": "#19d3f3",
            "pattern": {
             "shape": ""
            }
           },
           "name": "Pahang",
           "offsetgroup": "Pahang",
           "orientation": "h",
           "showlegend": true,
           "textposition": "auto",
           "type": "bar",
           "x": [
            1272.5
           ],
           "xaxis": "x",
           "y": [
            "Pahang"
           ],
           "yaxis": "y"
          },
          {
           "alignmentgroup": "True",
           "hovertemplate": "State=%{y}<br>Year=1999<br>Population=%{x}<extra></extra>",
           "legendgroup": "Penang",
           "marker": {
            "color": "#FF6692",
            "pattern": {
             "shape": ""
            }
           },
           "name": "Penang",
           "offsetgroup": "Penang",
           "orientation": "h",
           "showlegend": true,
           "textposition": "auto",
           "type": "bar",
           "x": [
            1307.5
           ],
           "xaxis": "x",
           "y": [
            "Penang"
           ],
           "yaxis": "y"
          },
          {
           "alignmentgroup": "True",
           "hovertemplate": "State=%{y}<br>Year=1999<br>Population=%{x}<extra></extra>",
           "legendgroup": "Perak",
           "marker": {
            "color": "#B6E880",
            "pattern": {
             "shape": ""
            }
           },
           "name": "Perak",
           "offsetgroup": "Perak",
           "orientation": "h",
           "showlegend": true,
           "textposition": "auto",
           "type": "bar",
           "x": [
            2076.7
           ],
           "xaxis": "x",
           "y": [
            "Perak"
           ],
           "yaxis": "y"
          },
          {
           "alignmentgroup": "True",
           "hovertemplate": "State=%{y}<br>Year=1999<br>Population=%{x}<extra></extra>",
           "legendgroup": "Perlis",
           "marker": {
            "color": "#FF97FF",
            "pattern": {
             "shape": ""
            }
           },
           "name": "Perlis",
           "offsetgroup": "Perlis",
           "orientation": "h",
           "showlegend": true,
           "textposition": "auto",
           "type": "bar",
           "x": [
            205.7
           ],
           "xaxis": "x",
           "y": [
            "Perlis"
           ],
           "yaxis": "y"
          },
          {
           "alignmentgroup": "True",
           "hovertemplate": "State=%{y}<br>Year=1999<br>Population=%{x}<extra></extra>",
           "legendgroup": "Selangor",
           "marker": {
            "color": "#FECB52",
            "pattern": {
             "shape": ""
            }
           },
           "name": "Selangor",
           "offsetgroup": "Selangor",
           "orientation": "h",
           "showlegend": true,
           "textposition": "auto",
           "type": "bar",
           "x": [
            3981.9
           ],
           "xaxis": "x",
           "y": [
            "Selangor"
           ],
           "yaxis": "y"
          },
          {
           "alignmentgroup": "True",
           "hovertemplate": "State=%{y}<br>Year=1999<br>Population=%{x}<extra></extra>",
           "legendgroup": "Terengganu",
           "marker": {
            "color": "#636efa",
            "pattern": {
             "shape": ""
            }
           },
           "name": "Terengganu",
           "offsetgroup": "Terengganu",
           "orientation": "h",
           "showlegend": true,
           "textposition": "auto",
           "type": "bar",
           "x": [
            896.6
           ],
           "xaxis": "x",
           "y": [
            "Terengganu"
           ],
           "yaxis": "y"
          },
          {
           "alignmentgroup": "True",
           "hovertemplate": "State=%{y}<br>Year=1999<br>Population=%{x}<extra></extra>",
           "legendgroup": "Sabah",
           "marker": {
            "color": "#EF553B",
            "pattern": {
             "shape": ""
            }
           },
           "name": "Sabah",
           "offsetgroup": "Sabah",
           "orientation": "h",
           "showlegend": true,
           "textposition": "auto",
           "type": "bar",
           "x": [
            2513.5
           ],
           "xaxis": "x",
           "y": [
            "Sabah"
           ],
           "yaxis": "y"
          },
          {
           "alignmentgroup": "True",
           "hovertemplate": "State=%{y}<br>Year=1999<br>Population=%{x}<extra></extra>",
           "legendgroup": "Sarawak",
           "marker": {
            "color": "#00cc96",
            "pattern": {
             "shape": ""
            }
           },
           "name": "Sarawak",
           "offsetgroup": "Sarawak",
           "orientation": "h",
           "showlegend": true,
           "textposition": "auto",
           "type": "bar",
           "x": [
            2024.5
           ],
           "xaxis": "x",
           "y": [
            "Sarawak"
           ],
           "yaxis": "y"
          },
          {
           "alignmentgroup": "True",
           "hovertemplate": "State=%{y}<br>Year=1999<br>Population=%{x}<extra></extra>",
           "legendgroup": "Kuala Lumpur",
           "marker": {
            "color": "#ab63fa",
            "pattern": {
             "shape": ""
            }
           },
           "name": "Kuala Lumpur",
           "offsetgroup": "Kuala Lumpur",
           "orientation": "h",
           "showlegend": true,
           "textposition": "auto",
           "type": "bar",
           "x": [
            1394
           ],
           "xaxis": "x",
           "y": [
            "Kuala Lumpur"
           ],
           "yaxis": "y"
          }
         ],
         "layout": {
          "annotations": [
           {
            "font": {
             "color": "fuchsia",
             "size": 50,
             "weight": "bold"
            },
            "text": "1999",
            "x": 0.98,
            "xref": "paper",
            "y": 0.5,
            "yref": "paper"
           }
          ]
         },
         "name": "1999"
        },
        {
         "data": [
          {
           "alignmentgroup": "True",
           "hovertemplate": "State=%{y}<br>Year=2000<br>Population=%{x}<extra></extra>",
           "legendgroup": "Johor",
           "marker": {
            "color": "#636efa",
            "pattern": {
             "shape": ""
            }
           },
           "name": "Johor",
           "offsetgroup": "Johor",
           "orientation": "h",
           "showlegend": true,
           "textposition": "auto",
           "type": "bar",
           "x": [
            2762.5
           ],
           "xaxis": "x",
           "y": [
            "Johor"
           ],
           "yaxis": "y"
          },
          {
           "alignmentgroup": "True",
           "hovertemplate": "State=%{y}<br>Year=2000<br>Population=%{x}<extra></extra>",
           "legendgroup": "Kedah",
           "marker": {
            "color": "#EF553B",
            "pattern": {
             "shape": ""
            }
           },
           "name": "Kedah",
           "offsetgroup": "Kedah",
           "orientation": "h",
           "showlegend": true,
           "textposition": "auto",
           "type": "bar",
           "x": [
            1671.9
           ],
           "xaxis": "x",
           "y": [
            "Kedah"
           ],
           "yaxis": "y"
          },
          {
           "alignmentgroup": "True",
           "hovertemplate": "State=%{y}<br>Year=2000<br>Population=%{x}<extra></extra>",
           "legendgroup": "Kelantan",
           "marker": {
            "color": "#00cc96",
            "pattern": {
             "shape": ""
            }
           },
           "name": "Kelantan",
           "offsetgroup": "Kelantan",
           "orientation": "h",
           "showlegend": true,
           "textposition": "auto",
           "type": "bar",
           "x": [
            1361.4
           ],
           "xaxis": "x",
           "y": [
            "Kelantan"
           ],
           "yaxis": "y"
          },
          {
           "alignmentgroup": "True",
           "hovertemplate": "State=%{y}<br>Year=2000<br>Population=%{x}<extra></extra>",
           "legendgroup": "Melaka",
           "marker": {
            "color": "#ab63fa",
            "pattern": {
             "shape": ""
            }
           },
           "name": "Melaka",
           "offsetgroup": "Melaka",
           "orientation": "h",
           "showlegend": true,
           "textposition": "auto",
           "type": "bar",
           "x": [
            646.6
           ],
           "xaxis": "x",
           "y": [
            "Melaka"
           ],
           "yaxis": "y"
          },
          {
           "alignmentgroup": "True",
           "hovertemplate": "State=%{y}<br>Year=2000<br>Population=%{x}<extra></extra>",
           "legendgroup": "Negeri Sembilan",
           "marker": {
            "color": "#FFA15A",
            "pattern": {
             "shape": ""
            }
           },
           "name": "Negeri Sembilan",
           "offsetgroup": "Negeri Sembilan",
           "orientation": "h",
           "showlegend": true,
           "textposition": "auto",
           "type": "bar",
           "x": [
            866.1
           ],
           "xaxis": "x",
           "y": [
            "Negeri Sembilan"
           ],
           "yaxis": "y"
          },
          {
           "alignmentgroup": "True",
           "hovertemplate": "State=%{y}<br>Year=2000<br>Population=%{x}<extra></extra>",
           "legendgroup": "Pahang",
           "marker": {
            "color": "#19d3f3",
            "pattern": {
             "shape": ""
            }
           },
           "name": "Pahang",
           "offsetgroup": "Pahang",
           "orientation": "h",
           "showlegend": true,
           "textposition": "auto",
           "type": "bar",
           "x": [
            1295.8
           ],
           "xaxis": "x",
           "y": [
            "Pahang"
           ],
           "yaxis": "y"
          },
          {
           "alignmentgroup": "True",
           "hovertemplate": "State=%{y}<br>Year=2000<br>Population=%{x}<extra></extra>",
           "legendgroup": "Penang",
           "marker": {
            "color": "#FF6692",
            "pattern": {
             "shape": ""
            }
           },
           "name": "Penang",
           "offsetgroup": "Penang",
           "orientation": "h",
           "showlegend": true,
           "textposition": "auto",
           "type": "bar",
           "x": [
            1332.7
           ],
           "xaxis": "x",
           "y": [
            "Penang"
           ],
           "yaxis": "y"
          },
          {
           "alignmentgroup": "True",
           "hovertemplate": "State=%{y}<br>Year=2000<br>Population=%{x}<extra></extra>",
           "legendgroup": "Perak",
           "marker": {
            "color": "#B6E880",
            "pattern": {
             "shape": ""
            }
           },
           "name": "Perak",
           "offsetgroup": "Perak",
           "orientation": "h",
           "showlegend": true,
           "textposition": "auto",
           "type": "bar",
           "x": [
            2091.7
           ],
           "xaxis": "x",
           "y": [
            "Perak"
           ],
           "yaxis": "y"
          },
          {
           "alignmentgroup": "True",
           "hovertemplate": "State=%{y}<br>Year=2000<br>Population=%{x}<extra></extra>",
           "legendgroup": "Perlis",
           "marker": {
            "color": "#FF97FF",
            "pattern": {
             "shape": ""
            }
           },
           "name": "Perlis",
           "offsetgroup": "Perlis",
           "orientation": "h",
           "showlegend": true,
           "textposition": "auto",
           "type": "bar",
           "x": [
            207.6
           ],
           "xaxis": "x",
           "y": [
            "Perlis"
           ],
           "yaxis": "y"
          },
          {
           "alignmentgroup": "True",
           "hovertemplate": "State=%{y}<br>Year=2000<br>Population=%{x}<extra></extra>",
           "legendgroup": "Selangor",
           "marker": {
            "color": "#FECB52",
            "pattern": {
             "shape": ""
            }
           },
           "name": "Selangor",
           "offsetgroup": "Selangor",
           "orientation": "h",
           "showlegend": true,
           "textposition": "auto",
           "type": "bar",
           "x": [
            4188.9
           ],
           "xaxis": "x",
           "y": [
            "Selangor"
           ],
           "yaxis": "y"
          },
          {
           "alignmentgroup": "True",
           "hovertemplate": "State=%{y}<br>Year=2000<br>Population=%{x}<extra></extra>",
           "legendgroup": "Terengganu",
           "marker": {
            "color": "#636efa",
            "pattern": {
             "shape": ""
            }
           },
           "name": "Terengganu",
           "offsetgroup": "Terengganu",
           "orientation": "h",
           "showlegend": true,
           "textposition": "auto",
           "type": "bar",
           "x": [
            902.6
           ],
           "xaxis": "x",
           "y": [
            "Terengganu"
           ],
           "yaxis": "y"
          },
          {
           "alignmentgroup": "True",
           "hovertemplate": "State=%{y}<br>Year=2000<br>Population=%{x}<extra></extra>",
           "legendgroup": "Sabah",
           "marker": {
            "color": "#EF553B",
            "pattern": {
             "shape": ""
            }
           },
           "name": "Sabah",
           "offsetgroup": "Sabah",
           "orientation": "h",
           "showlegend": true,
           "textposition": "auto",
           "type": "bar",
           "x": [
            2603.5
           ],
           "xaxis": "x",
           "y": [
            "Sabah"
           ],
           "yaxis": "y"
          },
          {
           "alignmentgroup": "True",
           "hovertemplate": "State=%{y}<br>Year=2000<br>Population=%{x}<extra></extra>",
           "legendgroup": "Sarawak",
           "marker": {
            "color": "#00cc96",
            "pattern": {
             "shape": ""
            }
           },
           "name": "Sarawak",
           "offsetgroup": "Sarawak",
           "orientation": "h",
           "showlegend": true,
           "textposition": "auto",
           "type": "bar",
           "x": [
            2071.5
           ],
           "xaxis": "x",
           "y": [
            "Sarawak"
           ],
           "yaxis": "y"
          },
          {
           "alignmentgroup": "True",
           "hovertemplate": "State=%{y}<br>Year=2000<br>Population=%{x}<extra></extra>",
           "legendgroup": "Kuala Lumpur",
           "marker": {
            "color": "#ab63fa",
            "pattern": {
             "shape": ""
            }
           },
           "name": "Kuala Lumpur",
           "offsetgroup": "Kuala Lumpur",
           "orientation": "h",
           "showlegend": true,
           "textposition": "auto",
           "type": "bar",
           "x": [
            1416
           ],
           "xaxis": "x",
           "y": [
            "Kuala Lumpur"
           ],
           "yaxis": "y"
          }
         ],
         "layout": {
          "annotations": [
           {
            "font": {
             "color": "fuchsia",
             "size": 50,
             "weight": "bold"
            },
            "text": "2000",
            "x": 0.98,
            "xref": "paper",
            "y": 0.5,
            "yref": "paper"
           }
          ]
         },
         "name": "2000"
        },
        {
         "data": [
          {
           "alignmentgroup": "True",
           "hovertemplate": "State=%{y}<br>Year=2001<br>Population=%{x}<extra></extra>",
           "legendgroup": "Johor",
           "marker": {
            "color": "#636efa",
            "pattern": {
             "shape": ""
            }
           },
           "name": "Johor",
           "offsetgroup": "Johor",
           "orientation": "h",
           "showlegend": true,
           "textposition": "auto",
           "type": "bar",
           "x": [
            2829.9
           ],
           "xaxis": "x",
           "y": [
            "Johor"
           ],
           "yaxis": "y"
          },
          {
           "alignmentgroup": "True",
           "hovertemplate": "State=%{y}<br>Year=2001<br>Population=%{x}<extra></extra>",
           "legendgroup": "Kedah",
           "marker": {
            "color": "#EF553B",
            "pattern": {
             "shape": ""
            }
           },
           "name": "Kedah",
           "offsetgroup": "Kedah",
           "orientation": "h",
           "showlegend": true,
           "textposition": "auto",
           "type": "bar",
           "x": [
            1703.9
           ],
           "xaxis": "x",
           "y": [
            "Kedah"
           ],
           "yaxis": "y"
          },
          {
           "alignmentgroup": "True",
           "hovertemplate": "State=%{y}<br>Year=2001<br>Population=%{x}<extra></extra>",
           "legendgroup": "Kelantan",
           "marker": {
            "color": "#00cc96",
            "pattern": {
             "shape": ""
            }
           },
           "name": "Kelantan",
           "offsetgroup": "Kelantan",
           "orientation": "h",
           "showlegend": true,
           "textposition": "auto",
           "type": "bar",
           "x": [
            1390
           ],
           "xaxis": "x",
           "y": [
            "Kelantan"
           ],
           "yaxis": "y"
          },
          {
           "alignmentgroup": "True",
           "hovertemplate": "State=%{y}<br>Year=2001<br>Population=%{x}<extra></extra>",
           "legendgroup": "Melaka",
           "marker": {
            "color": "#ab63fa",
            "pattern": {
             "shape": ""
            }
           },
           "name": "Melaka",
           "offsetgroup": "Melaka",
           "orientation": "h",
           "showlegend": true,
           "textposition": "auto",
           "type": "bar",
           "x": [
            665.8
           ],
           "xaxis": "x",
           "y": [
            "Melaka"
           ],
           "yaxis": "y"
          },
          {
           "alignmentgroup": "True",
           "hovertemplate": "State=%{y}<br>Year=2001<br>Population=%{x}<extra></extra>",
           "legendgroup": "Negeri Sembilan",
           "marker": {
            "color": "#FFA15A",
            "pattern": {
             "shape": ""
            }
           },
           "name": "Negeri Sembilan",
           "offsetgroup": "Negeri Sembilan",
           "orientation": "h",
           "showlegend": true,
           "textposition": "auto",
           "type": "bar",
           "x": [
            883.7
           ],
           "xaxis": "x",
           "y": [
            "Negeri Sembilan"
           ],
           "yaxis": "y"
          },
          {
           "alignmentgroup": "True",
           "hovertemplate": "State=%{y}<br>Year=2001<br>Population=%{x}<extra></extra>",
           "legendgroup": "Pahang",
           "marker": {
            "color": "#19d3f3",
            "pattern": {
             "shape": ""
            }
           },
           "name": "Pahang",
           "offsetgroup": "Pahang",
           "orientation": "h",
           "showlegend": true,
           "textposition": "auto",
           "type": "bar",
           "x": [
            1317.3
           ],
           "xaxis": "x",
           "y": [
            "Pahang"
           ],
           "yaxis": "y"
          },
          {
           "alignmentgroup": "True",
           "hovertemplate": "State=%{y}<br>Year=2001<br>Population=%{x}<extra></extra>",
           "legendgroup": "Penang",
           "marker": {
            "color": "#FF6692",
            "pattern": {
             "shape": ""
            }
           },
           "name": "Penang",
           "offsetgroup": "Penang",
           "orientation": "h",
           "showlegend": true,
           "textposition": "auto",
           "type": "bar",
           "x": [
            1361
           ],
           "xaxis": "x",
           "y": [
            "Penang"
           ],
           "yaxis": "y"
          },
          {
           "alignmentgroup": "True",
           "hovertemplate": "State=%{y}<br>Year=2001<br>Population=%{x}<extra></extra>",
           "legendgroup": "Perak",
           "marker": {
            "color": "#B6E880",
            "pattern": {
             "shape": ""
            }
           },
           "name": "Perak",
           "offsetgroup": "Perak",
           "orientation": "h",
           "showlegend": true,
           "textposition": "auto",
           "type": "bar",
           "x": [
            2129
           ],
           "xaxis": "x",
           "y": [
            "Perak"
           ],
           "yaxis": "y"
          },
          {
           "alignmentgroup": "True",
           "hovertemplate": "State=%{y}<br>Year=2001<br>Population=%{x}<extra></extra>",
           "legendgroup": "Perlis",
           "marker": {
            "color": "#FF97FF",
            "pattern": {
             "shape": ""
            }
           },
           "name": "Perlis",
           "offsetgroup": "Perlis",
           "orientation": "h",
           "showlegend": true,
           "textposition": "auto",
           "type": "bar",
           "x": [
            210.4
           ],
           "xaxis": "x",
           "y": [
            "Perlis"
           ],
           "yaxis": "y"
          },
          {
           "alignmentgroup": "True",
           "hovertemplate": "State=%{y}<br>Year=2001<br>Population=%{x}<extra></extra>",
           "legendgroup": "Selangor",
           "marker": {
            "color": "#FECB52",
            "pattern": {
             "shape": ""
            }
           },
           "name": "Selangor",
           "offsetgroup": "Selangor",
           "orientation": "h",
           "showlegend": true,
           "textposition": "auto",
           "type": "bar",
           "x": [
            4317.5
           ],
           "xaxis": "x",
           "y": [
            "Selangor"
           ],
           "yaxis": "y"
          },
          {
           "alignmentgroup": "True",
           "hovertemplate": "State=%{y}<br>Year=2001<br>Population=%{x}<extra></extra>",
           "legendgroup": "Terengganu",
           "marker": {
            "color": "#636efa",
            "pattern": {
             "shape": ""
            }
           },
           "name": "Terengganu",
           "offsetgroup": "Terengganu",
           "orientation": "h",
           "showlegend": true,
           "textposition": "auto",
           "type": "bar",
           "x": [
            920
           ],
           "xaxis": "x",
           "y": [
            "Terengganu"
           ],
           "yaxis": "y"
          },
          {
           "alignmentgroup": "True",
           "hovertemplate": "State=%{y}<br>Year=2001<br>Population=%{x}<extra></extra>",
           "legendgroup": "Sabah",
           "marker": {
            "color": "#EF553B",
            "pattern": {
             "shape": ""
            }
           },
           "name": "Sabah",
           "offsetgroup": "Sabah",
           "orientation": "h",
           "showlegend": true,
           "textposition": "auto",
           "type": "bar",
           "x": [
            2663.3
           ],
           "xaxis": "x",
           "y": [
            "Sabah"
           ],
           "yaxis": "y"
          },
          {
           "alignmentgroup": "True",
           "hovertemplate": "State=%{y}<br>Year=2001<br>Population=%{x}<extra></extra>",
           "legendgroup": "Sarawak",
           "marker": {
            "color": "#00cc96",
            "pattern": {
             "shape": ""
            }
           },
           "name": "Sarawak",
           "offsetgroup": "Sarawak",
           "orientation": "h",
           "showlegend": true,
           "textposition": "auto",
           "type": "bar",
           "x": [
            2115.6
           ],
           "xaxis": "x",
           "y": [
            "Sarawak"
           ],
           "yaxis": "y"
          },
          {
           "alignmentgroup": "True",
           "hovertemplate": "State=%{y}<br>Year=2001<br>Population=%{x}<extra></extra>",
           "legendgroup": "Kuala Lumpur",
           "marker": {
            "color": "#ab63fa",
            "pattern": {
             "shape": ""
            }
           },
           "name": "Kuala Lumpur",
           "offsetgroup": "Kuala Lumpur",
           "orientation": "h",
           "showlegend": true,
           "textposition": "auto",
           "type": "bar",
           "x": [
            1446.2
           ],
           "xaxis": "x",
           "y": [
            "Kuala Lumpur"
           ],
           "yaxis": "y"
          }
         ],
         "layout": {
          "annotations": [
           {
            "font": {
             "color": "fuchsia",
             "size": 50,
             "weight": "bold"
            },
            "text": "2001",
            "x": 0.98,
            "xref": "paper",
            "y": 0.5,
            "yref": "paper"
           }
          ]
         },
         "name": "2001"
        },
        {
         "data": [
          {
           "alignmentgroup": "True",
           "hovertemplate": "State=%{y}<br>Year=2002<br>Population=%{x}<extra></extra>",
           "legendgroup": "Johor",
           "marker": {
            "color": "#636efa",
            "pattern": {
             "shape": ""
            }
           },
           "name": "Johor",
           "offsetgroup": "Johor",
           "orientation": "h",
           "showlegend": true,
           "textposition": "auto",
           "type": "bar",
           "x": [
            2893.6
           ],
           "xaxis": "x",
           "y": [
            "Johor"
           ],
           "yaxis": "y"
          },
          {
           "alignmentgroup": "True",
           "hovertemplate": "State=%{y}<br>Year=2002<br>Population=%{x}<extra></extra>",
           "legendgroup": "Kedah",
           "marker": {
            "color": "#EF553B",
            "pattern": {
             "shape": ""
            }
           },
           "name": "Kedah",
           "offsetgroup": "Kedah",
           "orientation": "h",
           "showlegend": true,
           "textposition": "auto",
           "type": "bar",
           "x": [
            1734.8
           ],
           "xaxis": "x",
           "y": [
            "Kedah"
           ],
           "yaxis": "y"
          },
          {
           "alignmentgroup": "True",
           "hovertemplate": "State=%{y}<br>Year=2002<br>Population=%{x}<extra></extra>",
           "legendgroup": "Kelantan",
           "marker": {
            "color": "#00cc96",
            "pattern": {
             "shape": ""
            }
           },
           "name": "Kelantan",
           "offsetgroup": "Kelantan",
           "orientation": "h",
           "showlegend": true,
           "textposition": "auto",
           "type": "bar",
           "x": [
            1416.7
           ],
           "xaxis": "x",
           "y": [
            "Kelantan"
           ],
           "yaxis": "y"
          },
          {
           "alignmentgroup": "True",
           "hovertemplate": "State=%{y}<br>Year=2002<br>Population=%{x}<extra></extra>",
           "legendgroup": "Melaka",
           "marker": {
            "color": "#ab63fa",
            "pattern": {
             "shape": ""
            }
           },
           "name": "Melaka",
           "offsetgroup": "Melaka",
           "orientation": "h",
           "showlegend": true,
           "textposition": "auto",
           "type": "bar",
           "x": [
            684.1
           ],
           "xaxis": "x",
           "y": [
            "Melaka"
           ],
           "yaxis": "y"
          },
          {
           "alignmentgroup": "True",
           "hovertemplate": "State=%{y}<br>Year=2002<br>Population=%{x}<extra></extra>",
           "legendgroup": "Negeri Sembilan",
           "marker": {
            "color": "#FFA15A",
            "pattern": {
             "shape": ""
            }
           },
           "name": "Negeri Sembilan",
           "offsetgroup": "Negeri Sembilan",
           "orientation": "h",
           "showlegend": true,
           "textposition": "auto",
           "type": "bar",
           "x": [
            900.3
           ],
           "xaxis": "x",
           "y": [
            "Negeri Sembilan"
           ],
           "yaxis": "y"
          },
          {
           "alignmentgroup": "True",
           "hovertemplate": "State=%{y}<br>Year=2002<br>Population=%{x}<extra></extra>",
           "legendgroup": "Pahang",
           "marker": {
            "color": "#19d3f3",
            "pattern": {
             "shape": ""
            }
           },
           "name": "Pahang",
           "offsetgroup": "Pahang",
           "orientation": "h",
           "showlegend": true,
           "textposition": "auto",
           "type": "bar",
           "x": [
            1338.7
           ],
           "xaxis": "x",
           "y": [
            "Pahang"
           ],
           "yaxis": "y"
          },
          {
           "alignmentgroup": "True",
           "hovertemplate": "State=%{y}<br>Year=2002<br>Population=%{x}<extra></extra>",
           "legendgroup": "Penang",
           "marker": {
            "color": "#FF6692",
            "pattern": {
             "shape": ""
            }
           },
           "name": "Penang",
           "offsetgroup": "Penang",
           "orientation": "h",
           "showlegend": true,
           "textposition": "auto",
           "type": "bar",
           "x": [
            1387.3
           ],
           "xaxis": "x",
           "y": [
            "Penang"
           ],
           "yaxis": "y"
          },
          {
           "alignmentgroup": "True",
           "hovertemplate": "State=%{y}<br>Year=2002<br>Population=%{x}<extra></extra>",
           "legendgroup": "Perak",
           "marker": {
            "color": "#B6E880",
            "pattern": {
             "shape": ""
            }
           },
           "name": "Perak",
           "offsetgroup": "Perak",
           "orientation": "h",
           "showlegend": true,
           "textposition": "auto",
           "type": "bar",
           "x": [
            2161.8
           ],
           "xaxis": "x",
           "y": [
            "Perak"
           ],
           "yaxis": "y"
          },
          {
           "alignmentgroup": "True",
           "hovertemplate": "State=%{y}<br>Year=2002<br>Population=%{x}<extra></extra>",
           "legendgroup": "Perlis",
           "marker": {
            "color": "#FF97FF",
            "pattern": {
             "shape": ""
            }
           },
           "name": "Perlis",
           "offsetgroup": "Perlis",
           "orientation": "h",
           "showlegend": true,
           "textposition": "auto",
           "type": "bar",
           "x": [
            213.2
           ],
           "xaxis": "x",
           "y": [
            "Perlis"
           ],
           "yaxis": "y"
          },
          {
           "alignmentgroup": "True",
           "hovertemplate": "State=%{y}<br>Year=2002<br>Population=%{x}<extra></extra>",
           "legendgroup": "Selangor",
           "marker": {
            "color": "#FECB52",
            "pattern": {
             "shape": ""
            }
           },
           "name": "Selangor",
           "offsetgroup": "Selangor",
           "orientation": "h",
           "showlegend": true,
           "textposition": "auto",
           "type": "bar",
           "x": [
            4446.3
           ],
           "xaxis": "x",
           "y": [
            "Selangor"
           ],
           "yaxis": "y"
          },
          {
           "alignmentgroup": "True",
           "hovertemplate": "State=%{y}<br>Year=2002<br>Population=%{x}<extra></extra>",
           "legendgroup": "Terengganu",
           "marker": {
            "color": "#636efa",
            "pattern": {
             "shape": ""
            }
           },
           "name": "Terengganu",
           "offsetgroup": "Terengganu",
           "orientation": "h",
           "showlegend": true,
           "textposition": "auto",
           "type": "bar",
           "x": [
            936.6
           ],
           "xaxis": "x",
           "y": [
            "Terengganu"
           ],
           "yaxis": "y"
          },
          {
           "alignmentgroup": "True",
           "hovertemplate": "State=%{y}<br>Year=2002<br>Population=%{x}<extra></extra>",
           "legendgroup": "Sabah",
           "marker": {
            "color": "#EF553B",
            "pattern": {
             "shape": ""
            }
           },
           "name": "Sabah",
           "offsetgroup": "Sabah",
           "orientation": "h",
           "showlegend": true,
           "textposition": "auto",
           "type": "bar",
           "x": [
            2719.1
           ],
           "xaxis": "x",
           "y": [
            "Sabah"
           ],
           "yaxis": "y"
          },
          {
           "alignmentgroup": "True",
           "hovertemplate": "State=%{y}<br>Year=2002<br>Population=%{x}<extra></extra>",
           "legendgroup": "Sarawak",
           "marker": {
            "color": "#00cc96",
            "pattern": {
             "shape": ""
            }
           },
           "name": "Sarawak",
           "offsetgroup": "Sarawak",
           "orientation": "h",
           "showlegend": true,
           "textposition": "auto",
           "type": "bar",
           "x": [
            2158.3
           ],
           "xaxis": "x",
           "y": [
            "Sarawak"
           ],
           "yaxis": "y"
          },
          {
           "alignmentgroup": "True",
           "hovertemplate": "State=%{y}<br>Year=2002<br>Population=%{x}<extra></extra>",
           "legendgroup": "Kuala Lumpur",
           "marker": {
            "color": "#ab63fa",
            "pattern": {
             "shape": ""
            }
           },
           "name": "Kuala Lumpur",
           "offsetgroup": "Kuala Lumpur",
           "orientation": "h",
           "showlegend": true,
           "textposition": "auto",
           "type": "bar",
           "x": [
            1474.1
           ],
           "xaxis": "x",
           "y": [
            "Kuala Lumpur"
           ],
           "yaxis": "y"
          }
         ],
         "layout": {
          "annotations": [
           {
            "font": {
             "color": "fuchsia",
             "size": 50,
             "weight": "bold"
            },
            "text": "2002",
            "x": 0.98,
            "xref": "paper",
            "y": 0.5,
            "yref": "paper"
           }
          ]
         },
         "name": "2002"
        },
        {
         "data": [
          {
           "alignmentgroup": "True",
           "hovertemplate": "State=%{y}<br>Year=2003<br>Population=%{x}<extra></extra>",
           "legendgroup": "Johor",
           "marker": {
            "color": "#636efa",
            "pattern": {
             "shape": ""
            }
           },
           "name": "Johor",
           "offsetgroup": "Johor",
           "orientation": "h",
           "showlegend": true,
           "textposition": "auto",
           "type": "bar",
           "x": [
            2954
           ],
           "xaxis": "x",
           "y": [
            "Johor"
           ],
           "yaxis": "y"
          },
          {
           "alignmentgroup": "True",
           "hovertemplate": "State=%{y}<br>Year=2003<br>Population=%{x}<extra></extra>",
           "legendgroup": "Kedah",
           "marker": {
            "color": "#EF553B",
            "pattern": {
             "shape": ""
            }
           },
           "name": "Kedah",
           "offsetgroup": "Kedah",
           "orientation": "h",
           "showlegend": true,
           "textposition": "auto",
           "type": "bar",
           "x": [
            1763.7
           ],
           "xaxis": "x",
           "y": [
            "Kedah"
           ],
           "yaxis": "y"
          },
          {
           "alignmentgroup": "True",
           "hovertemplate": "State=%{y}<br>Year=2003<br>Population=%{x}<extra></extra>",
           "legendgroup": "Kelantan",
           "marker": {
            "color": "#00cc96",
            "pattern": {
             "shape": ""
            }
           },
           "name": "Kelantan",
           "offsetgroup": "Kelantan",
           "orientation": "h",
           "showlegend": true,
           "textposition": "auto",
           "type": "bar",
           "x": [
            1440.5
           ],
           "xaxis": "x",
           "y": [
            "Kelantan"
           ],
           "yaxis": "y"
          },
          {
           "alignmentgroup": "True",
           "hovertemplate": "State=%{y}<br>Year=2003<br>Population=%{x}<extra></extra>",
           "legendgroup": "Melaka",
           "marker": {
            "color": "#ab63fa",
            "pattern": {
             "shape": ""
            }
           },
           "name": "Melaka",
           "offsetgroup": "Melaka",
           "orientation": "h",
           "showlegend": true,
           "textposition": "auto",
           "type": "bar",
           "x": [
            701.8
           ],
           "xaxis": "x",
           "y": [
            "Melaka"
           ],
           "yaxis": "y"
          },
          {
           "alignmentgroup": "True",
           "hovertemplate": "State=%{y}<br>Year=2003<br>Population=%{x}<extra></extra>",
           "legendgroup": "Negeri Sembilan",
           "marker": {
            "color": "#FFA15A",
            "pattern": {
             "shape": ""
            }
           },
           "name": "Negeri Sembilan",
           "offsetgroup": "Negeri Sembilan",
           "orientation": "h",
           "showlegend": true,
           "textposition": "auto",
           "type": "bar",
           "x": [
            916.8
           ],
           "xaxis": "x",
           "y": [
            "Negeri Sembilan"
           ],
           "yaxis": "y"
          },
          {
           "alignmentgroup": "True",
           "hovertemplate": "State=%{y}<br>Year=2003<br>Population=%{x}<extra></extra>",
           "legendgroup": "Pahang",
           "marker": {
            "color": "#19d3f3",
            "pattern": {
             "shape": ""
            }
           },
           "name": "Pahang",
           "offsetgroup": "Pahang",
           "orientation": "h",
           "showlegend": true,
           "textposition": "auto",
           "type": "bar",
           "x": [
            1360
           ],
           "xaxis": "x",
           "y": [
            "Pahang"
           ],
           "yaxis": "y"
          },
          {
           "alignmentgroup": "True",
           "hovertemplate": "State=%{y}<br>Year=2003<br>Population=%{x}<extra></extra>",
           "legendgroup": "Penang",
           "marker": {
            "color": "#FF6692",
            "pattern": {
             "shape": ""
            }
           },
           "name": "Penang",
           "offsetgroup": "Penang",
           "orientation": "h",
           "showlegend": true,
           "textposition": "auto",
           "type": "bar",
           "x": [
            1412.2
           ],
           "xaxis": "x",
           "y": [
            "Penang"
           ],
           "yaxis": "y"
          },
          {
           "alignmentgroup": "True",
           "hovertemplate": "State=%{y}<br>Year=2003<br>Population=%{x}<extra></extra>",
           "legendgroup": "Perak",
           "marker": {
            "color": "#B6E880",
            "pattern": {
             "shape": ""
            }
           },
           "name": "Perak",
           "offsetgroup": "Perak",
           "orientation": "h",
           "showlegend": true,
           "textposition": "auto",
           "type": "bar",
           "x": [
            2192.1
           ],
           "xaxis": "x",
           "y": [
            "Perak"
           ],
           "yaxis": "y"
          },
          {
           "alignmentgroup": "True",
           "hovertemplate": "State=%{y}<br>Year=2003<br>Population=%{x}<extra></extra>",
           "legendgroup": "Perlis",
           "marker": {
            "color": "#FF97FF",
            "pattern": {
             "shape": ""
            }
           },
           "name": "Perlis",
           "offsetgroup": "Perlis",
           "orientation": "h",
           "showlegend": true,
           "textposition": "auto",
           "type": "bar",
           "x": [
            216
           ],
           "xaxis": "x",
           "y": [
            "Perlis"
           ],
           "yaxis": "y"
          },
          {
           "alignmentgroup": "True",
           "hovertemplate": "State=%{y}<br>Year=2003<br>Population=%{x}<extra></extra>",
           "legendgroup": "Selangor",
           "marker": {
            "color": "#FECB52",
            "pattern": {
             "shape": ""
            }
           },
           "name": "Selangor",
           "offsetgroup": "Selangor",
           "orientation": "h",
           "showlegend": true,
           "textposition": "auto",
           "type": "bar",
           "x": [
            4577.3
           ],
           "xaxis": "x",
           "y": [
            "Selangor"
           ],
           "yaxis": "y"
          },
          {
           "alignmentgroup": "True",
           "hovertemplate": "State=%{y}<br>Year=2003<br>Population=%{x}<extra></extra>",
           "legendgroup": "Terengganu",
           "marker": {
            "color": "#636efa",
            "pattern": {
             "shape": ""
            }
           },
           "name": "Terengganu",
           "offsetgroup": "Terengganu",
           "orientation": "h",
           "showlegend": true,
           "textposition": "auto",
           "type": "bar",
           "x": [
            951.4
           ],
           "xaxis": "x",
           "y": [
            "Terengganu"
           ],
           "yaxis": "y"
          },
          {
           "alignmentgroup": "True",
           "hovertemplate": "State=%{y}<br>Year=2003<br>Population=%{x}<extra></extra>",
           "legendgroup": "Sabah",
           "marker": {
            "color": "#EF553B",
            "pattern": {
             "shape": ""
            }
           },
           "name": "Sabah",
           "offsetgroup": "Sabah",
           "orientation": "h",
           "showlegend": true,
           "textposition": "auto",
           "type": "bar",
           "x": [
            2774
           ],
           "xaxis": "x",
           "y": [
            "Sabah"
           ],
           "yaxis": "y"
          },
          {
           "alignmentgroup": "True",
           "hovertemplate": "State=%{y}<br>Year=2003<br>Population=%{x}<extra></extra>",
           "legendgroup": "Sarawak",
           "marker": {
            "color": "#00cc96",
            "pattern": {
             "shape": ""
            }
           },
           "name": "Sarawak",
           "offsetgroup": "Sarawak",
           "orientation": "h",
           "showlegend": true,
           "textposition": "auto",
           "type": "bar",
           "x": [
            2199
           ],
           "xaxis": "x",
           "y": [
            "Sarawak"
           ],
           "yaxis": "y"
          },
          {
           "alignmentgroup": "True",
           "hovertemplate": "State=%{y}<br>Year=2003<br>Population=%{x}<extra></extra>",
           "legendgroup": "Kuala Lumpur",
           "marker": {
            "color": "#ab63fa",
            "pattern": {
             "shape": ""
            }
           },
           "name": "Kuala Lumpur",
           "offsetgroup": "Kuala Lumpur",
           "orientation": "h",
           "showlegend": true,
           "textposition": "auto",
           "type": "bar",
           "x": [
            1500.5
           ],
           "xaxis": "x",
           "y": [
            "Kuala Lumpur"
           ],
           "yaxis": "y"
          }
         ],
         "layout": {
          "annotations": [
           {
            "font": {
             "color": "fuchsia",
             "size": 50,
             "weight": "bold"
            },
            "text": "2003",
            "x": 0.98,
            "xref": "paper",
            "y": 0.5,
            "yref": "paper"
           }
          ]
         },
         "name": "2003"
        },
        {
         "data": [
          {
           "alignmentgroup": "True",
           "hovertemplate": "State=%{y}<br>Year=2004<br>Population=%{x}<extra></extra>",
           "legendgroup": "Johor",
           "marker": {
            "color": "#636efa",
            "pattern": {
             "shape": ""
            }
           },
           "name": "Johor",
           "offsetgroup": "Johor",
           "orientation": "h",
           "showlegend": true,
           "textposition": "auto",
           "type": "bar",
           "x": [
            3014.6
           ],
           "xaxis": "x",
           "y": [
            "Johor"
           ],
           "yaxis": "y"
          },
          {
           "alignmentgroup": "True",
           "hovertemplate": "State=%{y}<br>Year=2004<br>Population=%{x}<extra></extra>",
           "legendgroup": "Kedah",
           "marker": {
            "color": "#EF553B",
            "pattern": {
             "shape": ""
            }
           },
           "name": "Kedah",
           "offsetgroup": "Kedah",
           "orientation": "h",
           "showlegend": true,
           "textposition": "auto",
           "type": "bar",
           "x": [
            1792.4
           ],
           "xaxis": "x",
           "y": [
            "Kedah"
           ],
           "yaxis": "y"
          },
          {
           "alignmentgroup": "True",
           "hovertemplate": "State=%{y}<br>Year=2004<br>Population=%{x}<extra></extra>",
           "legendgroup": "Kelantan",
           "marker": {
            "color": "#00cc96",
            "pattern": {
             "shape": ""
            }
           },
           "name": "Kelantan",
           "offsetgroup": "Kelantan",
           "orientation": "h",
           "showlegend": true,
           "textposition": "auto",
           "type": "bar",
           "x": [
            1463.8
           ],
           "xaxis": "x",
           "y": [
            "Kelantan"
           ],
           "yaxis": "y"
          },
          {
           "alignmentgroup": "True",
           "hovertemplate": "State=%{y}<br>Year=2004<br>Population=%{x}<extra></extra>",
           "legendgroup": "Melaka",
           "marker": {
            "color": "#ab63fa",
            "pattern": {
             "shape": ""
            }
           },
           "name": "Melaka",
           "offsetgroup": "Melaka",
           "orientation": "h",
           "showlegend": true,
           "textposition": "auto",
           "type": "bar",
           "x": [
            719.8
           ],
           "xaxis": "x",
           "y": [
            "Melaka"
           ],
           "yaxis": "y"
          },
          {
           "alignmentgroup": "True",
           "hovertemplate": "State=%{y}<br>Year=2004<br>Population=%{x}<extra></extra>",
           "legendgroup": "Negeri Sembilan",
           "marker": {
            "color": "#FFA15A",
            "pattern": {
             "shape": ""
            }
           },
           "name": "Negeri Sembilan",
           "offsetgroup": "Negeri Sembilan",
           "orientation": "h",
           "showlegend": true,
           "textposition": "auto",
           "type": "bar",
           "x": [
            933.7
           ],
           "xaxis": "x",
           "y": [
            "Negeri Sembilan"
           ],
           "yaxis": "y"
          },
          {
           "alignmentgroup": "True",
           "hovertemplate": "State=%{y}<br>Year=2004<br>Population=%{x}<extra></extra>",
           "legendgroup": "Pahang",
           "marker": {
            "color": "#19d3f3",
            "pattern": {
             "shape": ""
            }
           },
           "name": "Pahang",
           "offsetgroup": "Pahang",
           "orientation": "h",
           "showlegend": true,
           "textposition": "auto",
           "type": "bar",
           "x": [
            1380.2
           ],
           "xaxis": "x",
           "y": [
            "Pahang"
           ],
           "yaxis": "y"
          },
          {
           "alignmentgroup": "True",
           "hovertemplate": "State=%{y}<br>Year=2004<br>Population=%{x}<extra></extra>",
           "legendgroup": "Penang",
           "marker": {
            "color": "#FF6692",
            "pattern": {
             "shape": ""
            }
           },
           "name": "Penang",
           "offsetgroup": "Penang",
           "orientation": "h",
           "showlegend": true,
           "textposition": "auto",
           "type": "bar",
           "x": [
            1436.6
           ],
           "xaxis": "x",
           "y": [
            "Penang"
           ],
           "yaxis": "y"
          },
          {
           "alignmentgroup": "True",
           "hovertemplate": "State=%{y}<br>Year=2004<br>Population=%{x}<extra></extra>",
           "legendgroup": "Perak",
           "marker": {
            "color": "#B6E880",
            "pattern": {
             "shape": ""
            }
           },
           "name": "Perak",
           "offsetgroup": "Perak",
           "orientation": "h",
           "showlegend": true,
           "textposition": "auto",
           "type": "bar",
           "x": [
            2222.1
           ],
           "xaxis": "x",
           "y": [
            "Perak"
           ],
           "yaxis": "y"
          },
          {
           "alignmentgroup": "True",
           "hovertemplate": "State=%{y}<br>Year=2004<br>Population=%{x}<extra></extra>",
           "legendgroup": "Perlis",
           "marker": {
            "color": "#FF97FF",
            "pattern": {
             "shape": ""
            }
           },
           "name": "Perlis",
           "offsetgroup": "Perlis",
           "orientation": "h",
           "showlegend": true,
           "textposition": "auto",
           "type": "bar",
           "x": [
            218.8
           ],
           "xaxis": "x",
           "y": [
            "Perlis"
           ],
           "yaxis": "y"
          },
          {
           "alignmentgroup": "True",
           "hovertemplate": "State=%{y}<br>Year=2004<br>Population=%{x}<extra></extra>",
           "legendgroup": "Selangor",
           "marker": {
            "color": "#FECB52",
            "pattern": {
             "shape": ""
            }
           },
           "name": "Selangor",
           "offsetgroup": "Selangor",
           "orientation": "h",
           "showlegend": true,
           "textposition": "auto",
           "type": "bar",
           "x": [
            4712.8
           ],
           "xaxis": "x",
           "y": [
            "Selangor"
           ],
           "yaxis": "y"
          },
          {
           "alignmentgroup": "True",
           "hovertemplate": "State=%{y}<br>Year=2004<br>Population=%{x}<extra></extra>",
           "legendgroup": "Terengganu",
           "marker": {
            "color": "#636efa",
            "pattern": {
             "shape": ""
            }
           },
           "name": "Terengganu",
           "offsetgroup": "Terengganu",
           "orientation": "h",
           "showlegend": true,
           "textposition": "auto",
           "type": "bar",
           "x": [
            966.6
           ],
           "xaxis": "x",
           "y": [
            "Terengganu"
           ],
           "yaxis": "y"
          },
          {
           "alignmentgroup": "True",
           "hovertemplate": "State=%{y}<br>Year=2004<br>Population=%{x}<extra></extra>",
           "legendgroup": "Sabah",
           "marker": {
            "color": "#EF553B",
            "pattern": {
             "shape": ""
            }
           },
           "name": "Sabah",
           "offsetgroup": "Sabah",
           "orientation": "h",
           "showlegend": true,
           "textposition": "auto",
           "type": "bar",
           "x": [
            2833.4
           ],
           "xaxis": "x",
           "y": [
            "Sabah"
           ],
           "yaxis": "y"
          },
          {
           "alignmentgroup": "True",
           "hovertemplate": "State=%{y}<br>Year=2004<br>Population=%{x}<extra></extra>",
           "legendgroup": "Sarawak",
           "marker": {
            "color": "#00cc96",
            "pattern": {
             "shape": ""
            }
           },
           "name": "Sarawak",
           "offsetgroup": "Sarawak",
           "orientation": "h",
           "showlegend": true,
           "textposition": "auto",
           "type": "bar",
           "x": [
            2240.4
           ],
           "xaxis": "x",
           "y": [
            "Sarawak"
           ],
           "yaxis": "y"
          },
          {
           "alignmentgroup": "True",
           "hovertemplate": "State=%{y}<br>Year=2004<br>Population=%{x}<extra></extra>",
           "legendgroup": "Kuala Lumpur",
           "marker": {
            "color": "#ab63fa",
            "pattern": {
             "shape": ""
            }
           },
           "name": "Kuala Lumpur",
           "offsetgroup": "Kuala Lumpur",
           "orientation": "h",
           "showlegend": true,
           "textposition": "auto",
           "type": "bar",
           "x": [
            1526.4
           ],
           "xaxis": "x",
           "y": [
            "Kuala Lumpur"
           ],
           "yaxis": "y"
          }
         ],
         "layout": {
          "annotations": [
           {
            "font": {
             "color": "fuchsia",
             "size": 50,
             "weight": "bold"
            },
            "text": "2004",
            "x": 0.98,
            "xref": "paper",
            "y": 0.5,
            "yref": "paper"
           }
          ]
         },
         "name": "2004"
        },
        {
         "data": [
          {
           "alignmentgroup": "True",
           "hovertemplate": "State=%{y}<br>Year=2005<br>Population=%{x}<extra></extra>",
           "legendgroup": "Johor",
           "marker": {
            "color": "#636efa",
            "pattern": {
             "shape": ""
            }
           },
           "name": "Johor",
           "offsetgroup": "Johor",
           "orientation": "h",
           "showlegend": true,
           "textposition": "auto",
           "type": "bar",
           "x": [
            3074.4
           ],
           "xaxis": "x",
           "y": [
            "Johor"
           ],
           "yaxis": "y"
          },
          {
           "alignmentgroup": "True",
           "hovertemplate": "State=%{y}<br>Year=2005<br>Population=%{x}<extra></extra>",
           "legendgroup": "Kedah",
           "marker": {
            "color": "#EF553B",
            "pattern": {
             "shape": ""
            }
           },
           "name": "Kedah",
           "offsetgroup": "Kedah",
           "orientation": "h",
           "showlegend": true,
           "textposition": "auto",
           "type": "bar",
           "x": [
            1820.3
           ],
           "xaxis": "x",
           "y": [
            "Kedah"
           ],
           "yaxis": "y"
          },
          {
           "alignmentgroup": "True",
           "hovertemplate": "State=%{y}<br>Year=2005<br>Population=%{x}<extra></extra>",
           "legendgroup": "Kelantan",
           "marker": {
            "color": "#00cc96",
            "pattern": {
             "shape": ""
            }
           },
           "name": "Kelantan",
           "offsetgroup": "Kelantan",
           "orientation": "h",
           "showlegend": true,
           "textposition": "auto",
           "type": "bar",
           "x": [
            1486.3
           ],
           "xaxis": "x",
           "y": [
            "Kelantan"
           ],
           "yaxis": "y"
          },
          {
           "alignmentgroup": "True",
           "hovertemplate": "State=%{y}<br>Year=2005<br>Population=%{x}<extra></extra>",
           "legendgroup": "Melaka",
           "marker": {
            "color": "#ab63fa",
            "pattern": {
             "shape": ""
            }
           },
           "name": "Melaka",
           "offsetgroup": "Melaka",
           "orientation": "h",
           "showlegend": true,
           "textposition": "auto",
           "type": "bar",
           "x": [
            737.3
           ],
           "xaxis": "x",
           "y": [
            "Melaka"
           ],
           "yaxis": "y"
          },
          {
           "alignmentgroup": "True",
           "hovertemplate": "State=%{y}<br>Year=2005<br>Population=%{x}<extra></extra>",
           "legendgroup": "Negeri Sembilan",
           "marker": {
            "color": "#FFA15A",
            "pattern": {
             "shape": ""
            }
           },
           "name": "Negeri Sembilan",
           "offsetgroup": "Negeri Sembilan",
           "orientation": "h",
           "showlegend": true,
           "textposition": "auto",
           "type": "bar",
           "x": [
            950.3
           ],
           "xaxis": "x",
           "y": [
            "Negeri Sembilan"
           ],
           "yaxis": "y"
          },
          {
           "alignmentgroup": "True",
           "hovertemplate": "State=%{y}<br>Year=2005<br>Population=%{x}<extra></extra>",
           "legendgroup": "Pahang",
           "marker": {
            "color": "#19d3f3",
            "pattern": {
             "shape": ""
            }
           },
           "name": "Pahang",
           "offsetgroup": "Pahang",
           "orientation": "h",
           "showlegend": true,
           "textposition": "auto",
           "type": "bar",
           "x": [
            1400.8
           ],
           "xaxis": "x",
           "y": [
            "Pahang"
           ],
           "yaxis": "y"
          },
          {
           "alignmentgroup": "True",
           "hovertemplate": "State=%{y}<br>Year=2005<br>Population=%{x}<extra></extra>",
           "legendgroup": "Penang",
           "marker": {
            "color": "#FF6692",
            "pattern": {
             "shape": ""
            }
           },
           "name": "Penang",
           "offsetgroup": "Penang",
           "orientation": "h",
           "showlegend": true,
           "textposition": "auto",
           "type": "bar",
           "x": [
            1460.4
           ],
           "xaxis": "x",
           "y": [
            "Penang"
           ],
           "yaxis": "y"
          },
          {
           "alignmentgroup": "True",
           "hovertemplate": "State=%{y}<br>Year=2005<br>Population=%{x}<extra></extra>",
           "legendgroup": "Perak",
           "marker": {
            "color": "#B6E880",
            "pattern": {
             "shape": ""
            }
           },
           "name": "Perak",
           "offsetgroup": "Perak",
           "orientation": "h",
           "showlegend": true,
           "textposition": "auto",
           "type": "bar",
           "x": [
            2251.1
           ],
           "xaxis": "x",
           "y": [
            "Perak"
           ],
           "yaxis": "y"
          },
          {
           "alignmentgroup": "True",
           "hovertemplate": "State=%{y}<br>Year=2005<br>Population=%{x}<extra></extra>",
           "legendgroup": "Perlis",
           "marker": {
            "color": "#FF97FF",
            "pattern": {
             "shape": ""
            }
           },
           "name": "Perlis",
           "offsetgroup": "Perlis",
           "orientation": "h",
           "showlegend": true,
           "textposition": "auto",
           "type": "bar",
           "x": [
            221.6
           ],
           "xaxis": "x",
           "y": [
            "Perlis"
           ],
           "yaxis": "y"
          },
          {
           "alignmentgroup": "True",
           "hovertemplate": "State=%{y}<br>Year=2005<br>Population=%{x}<extra></extra>",
           "legendgroup": "Selangor",
           "marker": {
            "color": "#FECB52",
            "pattern": {
             "shape": ""
            }
           },
           "name": "Selangor",
           "offsetgroup": "Selangor",
           "orientation": "h",
           "showlegend": true,
           "textposition": "auto",
           "type": "bar",
           "x": [
            4849.6
           ],
           "xaxis": "x",
           "y": [
            "Selangor"
           ],
           "yaxis": "y"
          },
          {
           "alignmentgroup": "True",
           "hovertemplate": "State=%{y}<br>Year=2005<br>Population=%{x}<extra></extra>",
           "legendgroup": "Terengganu",
           "marker": {
            "color": "#636efa",
            "pattern": {
             "shape": ""
            }
           },
           "name": "Terengganu",
           "offsetgroup": "Terengganu",
           "orientation": "h",
           "showlegend": true,
           "textposition": "auto",
           "type": "bar",
           "x": [
            981.4
           ],
           "xaxis": "x",
           "y": [
            "Terengganu"
           ],
           "yaxis": "y"
          },
          {
           "alignmentgroup": "True",
           "hovertemplate": "State=%{y}<br>Year=2005<br>Population=%{x}<extra></extra>",
           "legendgroup": "Sabah",
           "marker": {
            "color": "#EF553B",
            "pattern": {
             "shape": ""
            }
           },
           "name": "Sabah",
           "offsetgroup": "Sabah",
           "orientation": "h",
           "showlegend": true,
           "textposition": "auto",
           "type": "bar",
           "x": [
            2897
           ],
           "xaxis": "x",
           "y": [
            "Sabah"
           ],
           "yaxis": "y"
          },
          {
           "alignmentgroup": "True",
           "hovertemplate": "State=%{y}<br>Year=2005<br>Population=%{x}<extra></extra>",
           "legendgroup": "Sarawak",
           "marker": {
            "color": "#00cc96",
            "pattern": {
             "shape": ""
            }
           },
           "name": "Sarawak",
           "offsetgroup": "Sarawak",
           "orientation": "h",
           "showlegend": true,
           "textposition": "auto",
           "type": "bar",
           "x": [
            2282.4
           ],
           "xaxis": "x",
           "y": [
            "Sarawak"
           ],
           "yaxis": "y"
          },
          {
           "alignmentgroup": "True",
           "hovertemplate": "State=%{y}<br>Year=2005<br>Population=%{x}<extra></extra>",
           "legendgroup": "Kuala Lumpur",
           "marker": {
            "color": "#ab63fa",
            "pattern": {
             "shape": ""
            }
           },
           "name": "Kuala Lumpur",
           "offsetgroup": "Kuala Lumpur",
           "orientation": "h",
           "showlegend": true,
           "textposition": "auto",
           "type": "bar",
           "x": [
            1551.8
           ],
           "xaxis": "x",
           "y": [
            "Kuala Lumpur"
           ],
           "yaxis": "y"
          }
         ],
         "layout": {
          "annotations": [
           {
            "font": {
             "color": "fuchsia",
             "size": 50,
             "weight": "bold"
            },
            "text": "2005",
            "x": 0.98,
            "xref": "paper",
            "y": 0.5,
            "yref": "paper"
           }
          ]
         },
         "name": "2005"
        },
        {
         "data": [
          {
           "alignmentgroup": "True",
           "hovertemplate": "State=%{y}<br>Year=2006<br>Population=%{x}<extra></extra>",
           "legendgroup": "Johor",
           "marker": {
            "color": "#636efa",
            "pattern": {
             "shape": ""
            }
           },
           "name": "Johor",
           "offsetgroup": "Johor",
           "orientation": "h",
           "showlegend": true,
           "textposition": "auto",
           "type": "bar",
           "x": [
            3134.4
           ],
           "xaxis": "x",
           "y": [
            "Johor"
           ],
           "yaxis": "y"
          },
          {
           "alignmentgroup": "True",
           "hovertemplate": "State=%{y}<br>Year=2006<br>Population=%{x}<extra></extra>",
           "legendgroup": "Kedah",
           "marker": {
            "color": "#EF553B",
            "pattern": {
             "shape": ""
            }
           },
           "name": "Kedah",
           "offsetgroup": "Kedah",
           "orientation": "h",
           "showlegend": true,
           "textposition": "auto",
           "type": "bar",
           "x": [
            1847.5
           ],
           "xaxis": "x",
           "y": [
            "Kedah"
           ],
           "yaxis": "y"
          },
          {
           "alignmentgroup": "True",
           "hovertemplate": "State=%{y}<br>Year=2006<br>Population=%{x}<extra></extra>",
           "legendgroup": "Kelantan",
           "marker": {
            "color": "#00cc96",
            "pattern": {
             "shape": ""
            }
           },
           "name": "Kelantan",
           "offsetgroup": "Kelantan",
           "orientation": "h",
           "showlegend": true,
           "textposition": "auto",
           "type": "bar",
           "x": [
            1507.6
           ],
           "xaxis": "x",
           "y": [
            "Kelantan"
           ],
           "yaxis": "y"
          },
          {
           "alignmentgroup": "True",
           "hovertemplate": "State=%{y}<br>Year=2006<br>Population=%{x}<extra></extra>",
           "legendgroup": "Melaka",
           "marker": {
            "color": "#ab63fa",
            "pattern": {
             "shape": ""
            }
           },
           "name": "Melaka",
           "offsetgroup": "Melaka",
           "orientation": "h",
           "showlegend": true,
           "textposition": "auto",
           "type": "bar",
           "x": [
            755
           ],
           "xaxis": "x",
           "y": [
            "Melaka"
           ],
           "yaxis": "y"
          },
          {
           "alignmentgroup": "True",
           "hovertemplate": "State=%{y}<br>Year=2006<br>Population=%{x}<extra></extra>",
           "legendgroup": "Negeri Sembilan",
           "marker": {
            "color": "#FFA15A",
            "pattern": {
             "shape": ""
            }
           },
           "name": "Negeri Sembilan",
           "offsetgroup": "Negeri Sembilan",
           "orientation": "h",
           "showlegend": true,
           "textposition": "auto",
           "type": "bar",
           "x": [
            967
           ],
           "xaxis": "x",
           "y": [
            "Negeri Sembilan"
           ],
           "yaxis": "y"
          },
          {
           "alignmentgroup": "True",
           "hovertemplate": "State=%{y}<br>Year=2006<br>Population=%{x}<extra></extra>",
           "legendgroup": "Pahang",
           "marker": {
            "color": "#19d3f3",
            "pattern": {
             "shape": ""
            }
           },
           "name": "Pahang",
           "offsetgroup": "Pahang",
           "orientation": "h",
           "showlegend": true,
           "textposition": "auto",
           "type": "bar",
           "x": [
            1421.2
           ],
           "xaxis": "x",
           "y": [
            "Pahang"
           ],
           "yaxis": "y"
          },
          {
           "alignmentgroup": "True",
           "hovertemplate": "State=%{y}<br>Year=2006<br>Population=%{x}<extra></extra>",
           "legendgroup": "Penang",
           "marker": {
            "color": "#FF6692",
            "pattern": {
             "shape": ""
            }
           },
           "name": "Penang",
           "offsetgroup": "Penang",
           "orientation": "h",
           "showlegend": true,
           "textposition": "auto",
           "type": "bar",
           "x": [
            1484.1
           ],
           "xaxis": "x",
           "y": [
            "Penang"
           ],
           "yaxis": "y"
          },
          {
           "alignmentgroup": "True",
           "hovertemplate": "State=%{y}<br>Year=2006<br>Population=%{x}<extra></extra>",
           "legendgroup": "Perak",
           "marker": {
            "color": "#B6E880",
            "pattern": {
             "shape": ""
            }
           },
           "name": "Perak",
           "offsetgroup": "Perak",
           "orientation": "h",
           "showlegend": true,
           "textposition": "auto",
           "type": "bar",
           "x": [
            2279.3
           ],
           "xaxis": "x",
           "y": [
            "Perak"
           ],
           "yaxis": "y"
          },
          {
           "alignmentgroup": "True",
           "hovertemplate": "State=%{y}<br>Year=2006<br>Population=%{x}<extra></extra>",
           "legendgroup": "Perlis",
           "marker": {
            "color": "#FF97FF",
            "pattern": {
             "shape": ""
            }
           },
           "name": "Perlis",
           "offsetgroup": "Perlis",
           "orientation": "h",
           "showlegend": true,
           "textposition": "auto",
           "type": "bar",
           "x": [
            224.4
           ],
           "xaxis": "x",
           "y": [
            "Perlis"
           ],
           "yaxis": "y"
          },
          {
           "alignmentgroup": "True",
           "hovertemplate": "State=%{y}<br>Year=2006<br>Population=%{x}<extra></extra>",
           "legendgroup": "Selangor",
           "marker": {
            "color": "#FECB52",
            "pattern": {
             "shape": ""
            }
           },
           "name": "Selangor",
           "offsetgroup": "Selangor",
           "orientation": "h",
           "showlegend": true,
           "textposition": "auto",
           "type": "bar",
           "x": [
            4986.2
           ],
           "xaxis": "x",
           "y": [
            "Selangor"
           ],
           "yaxis": "y"
          },
          {
           "alignmentgroup": "True",
           "hovertemplate": "State=%{y}<br>Year=2006<br>Population=%{x}<extra></extra>",
           "legendgroup": "Terengganu",
           "marker": {
            "color": "#636efa",
            "pattern": {
             "shape": ""
            }
           },
           "name": "Terengganu",
           "offsetgroup": "Terengganu",
           "orientation": "h",
           "showlegend": true,
           "textposition": "auto",
           "type": "bar",
           "x": [
            995.9
           ],
           "xaxis": "x",
           "y": [
            "Terengganu"
           ],
           "yaxis": "y"
          },
          {
           "alignmentgroup": "True",
           "hovertemplate": "State=%{y}<br>Year=2006<br>Population=%{x}<extra></extra>",
           "legendgroup": "Sabah",
           "marker": {
            "color": "#EF553B",
            "pattern": {
             "shape": ""
            }
           },
           "name": "Sabah",
           "offsetgroup": "Sabah",
           "orientation": "h",
           "showlegend": true,
           "textposition": "auto",
           "type": "bar",
           "x": [
            2962.9
           ],
           "xaxis": "x",
           "y": [
            "Sabah"
           ],
           "yaxis": "y"
          },
          {
           "alignmentgroup": "True",
           "hovertemplate": "State=%{y}<br>Year=2006<br>Population=%{x}<extra></extra>",
           "legendgroup": "Sarawak",
           "marker": {
            "color": "#00cc96",
            "pattern": {
             "shape": ""
            }
           },
           "name": "Sarawak",
           "offsetgroup": "Sarawak",
           "orientation": "h",
           "showlegend": true,
           "textposition": "auto",
           "type": "bar",
           "x": [
            2324.9
           ],
           "xaxis": "x",
           "y": [
            "Sarawak"
           ],
           "yaxis": "y"
          },
          {
           "alignmentgroup": "True",
           "hovertemplate": "State=%{y}<br>Year=2006<br>Population=%{x}<extra></extra>",
           "legendgroup": "Kuala Lumpur",
           "marker": {
            "color": "#ab63fa",
            "pattern": {
             "shape": ""
            }
           },
           "name": "Kuala Lumpur",
           "offsetgroup": "Kuala Lumpur",
           "orientation": "h",
           "showlegend": true,
           "textposition": "auto",
           "type": "bar",
           "x": [
            1577.5
           ],
           "xaxis": "x",
           "y": [
            "Kuala Lumpur"
           ],
           "yaxis": "y"
          }
         ],
         "layout": {
          "annotations": [
           {
            "font": {
             "color": "fuchsia",
             "size": 50,
             "weight": "bold"
            },
            "text": "2006",
            "x": 0.98,
            "xref": "paper",
            "y": 0.5,
            "yref": "paper"
           }
          ]
         },
         "name": "2006"
        },
        {
         "data": [
          {
           "alignmentgroup": "True",
           "hovertemplate": "State=%{y}<br>Year=2007<br>Population=%{x}<extra></extra>",
           "legendgroup": "Johor",
           "marker": {
            "color": "#636efa",
            "pattern": {
             "shape": ""
            }
           },
           "name": "Johor",
           "offsetgroup": "Johor",
           "orientation": "h",
           "showlegend": true,
           "textposition": "auto",
           "type": "bar",
           "x": [
            3193.5
           ],
           "xaxis": "x",
           "y": [
            "Johor"
           ],
           "yaxis": "y"
          },
          {
           "alignmentgroup": "True",
           "hovertemplate": "State=%{y}<br>Year=2007<br>Population=%{x}<extra></extra>",
           "legendgroup": "Kedah",
           "marker": {
            "color": "#EF553B",
            "pattern": {
             "shape": ""
            }
           },
           "name": "Kedah",
           "offsetgroup": "Kedah",
           "orientation": "h",
           "showlegend": true,
           "textposition": "auto",
           "type": "bar",
           "x": [
            1874.2
           ],
           "xaxis": "x",
           "y": [
            "Kedah"
           ],
           "yaxis": "y"
          },
          {
           "alignmentgroup": "True",
           "hovertemplate": "State=%{y}<br>Year=2007<br>Population=%{x}<extra></extra>",
           "legendgroup": "Kelantan",
           "marker": {
            "color": "#00cc96",
            "pattern": {
             "shape": ""
            }
           },
           "name": "Kelantan",
           "offsetgroup": "Kelantan",
           "orientation": "h",
           "showlegend": true,
           "textposition": "auto",
           "type": "bar",
           "x": [
            1529.1
           ],
           "xaxis": "x",
           "y": [
            "Kelantan"
           ],
           "yaxis": "y"
          },
          {
           "alignmentgroup": "True",
           "hovertemplate": "State=%{y}<br>Year=2007<br>Population=%{x}<extra></extra>",
           "legendgroup": "Melaka",
           "marker": {
            "color": "#ab63fa",
            "pattern": {
             "shape": ""
            }
           },
           "name": "Melaka",
           "offsetgroup": "Melaka",
           "orientation": "h",
           "showlegend": true,
           "textposition": "auto",
           "type": "bar",
           "x": [
            772.8
           ],
           "xaxis": "x",
           "y": [
            "Melaka"
           ],
           "yaxis": "y"
          },
          {
           "alignmentgroup": "True",
           "hovertemplate": "State=%{y}<br>Year=2007<br>Population=%{x}<extra></extra>",
           "legendgroup": "Negeri Sembilan",
           "marker": {
            "color": "#FFA15A",
            "pattern": {
             "shape": ""
            }
           },
           "name": "Negeri Sembilan",
           "offsetgroup": "Negeri Sembilan",
           "orientation": "h",
           "showlegend": true,
           "textposition": "auto",
           "type": "bar",
           "x": [
            983.5
           ],
           "xaxis": "x",
           "y": [
            "Negeri Sembilan"
           ],
           "yaxis": "y"
          },
          {
           "alignmentgroup": "True",
           "hovertemplate": "State=%{y}<br>Year=2007<br>Population=%{x}<extra></extra>",
           "legendgroup": "Pahang",
           "marker": {
            "color": "#19d3f3",
            "pattern": {
             "shape": ""
            }
           },
           "name": "Pahang",
           "offsetgroup": "Pahang",
           "orientation": "h",
           "showlegend": true,
           "textposition": "auto",
           "type": "bar",
           "x": [
            1441.4
           ],
           "xaxis": "x",
           "y": [
            "Pahang"
           ],
           "yaxis": "y"
          },
          {
           "alignmentgroup": "True",
           "hovertemplate": "State=%{y}<br>Year=2007<br>Population=%{x}<extra></extra>",
           "legendgroup": "Penang",
           "marker": {
            "color": "#FF6692",
            "pattern": {
             "shape": ""
            }
           },
           "name": "Penang",
           "offsetgroup": "Penang",
           "orientation": "h",
           "showlegend": true,
           "textposition": "auto",
           "type": "bar",
           "x": [
            1507.8
           ],
           "xaxis": "x",
           "y": [
            "Penang"
           ],
           "yaxis": "y"
          },
          {
           "alignmentgroup": "True",
           "hovertemplate": "State=%{y}<br>Year=2007<br>Population=%{x}<extra></extra>",
           "legendgroup": "Perak",
           "marker": {
            "color": "#B6E880",
            "pattern": {
             "shape": ""
            }
           },
           "name": "Perak",
           "offsetgroup": "Perak",
           "orientation": "h",
           "showlegend": true,
           "textposition": "auto",
           "type": "bar",
           "x": [
            2306.4
           ],
           "xaxis": "x",
           "y": [
            "Perak"
           ],
           "yaxis": "y"
          },
          {
           "alignmentgroup": "True",
           "hovertemplate": "State=%{y}<br>Year=2007<br>Population=%{x}<extra></extra>",
           "legendgroup": "Perlis",
           "marker": {
            "color": "#FF97FF",
            "pattern": {
             "shape": ""
            }
           },
           "name": "Perlis",
           "offsetgroup": "Perlis",
           "orientation": "h",
           "showlegend": true,
           "textposition": "auto",
           "type": "bar",
           "x": [
            227.2
           ],
           "xaxis": "x",
           "y": [
            "Perlis"
           ],
           "yaxis": "y"
          },
          {
           "alignmentgroup": "True",
           "hovertemplate": "State=%{y}<br>Year=2007<br>Population=%{x}<extra></extra>",
           "legendgroup": "Selangor",
           "marker": {
            "color": "#FECB52",
            "pattern": {
             "shape": ""
            }
           },
           "name": "Selangor",
           "offsetgroup": "Selangor",
           "orientation": "h",
           "showlegend": true,
           "textposition": "auto",
           "type": "bar",
           "x": [
            5127.1
           ],
           "xaxis": "x",
           "y": [
            "Selangor"
           ],
           "yaxis": "y"
          },
          {
           "alignmentgroup": "True",
           "hovertemplate": "State=%{y}<br>Year=2007<br>Population=%{x}<extra></extra>",
           "legendgroup": "Terengganu",
           "marker": {
            "color": "#636efa",
            "pattern": {
             "shape": ""
            }
           },
           "name": "Terengganu",
           "offsetgroup": "Terengganu",
           "orientation": "h",
           "showlegend": true,
           "textposition": "auto",
           "type": "bar",
           "x": [
            1010.4
           ],
           "xaxis": "x",
           "y": [
            "Terengganu"
           ],
           "yaxis": "y"
          },
          {
           "alignmentgroup": "True",
           "hovertemplate": "State=%{y}<br>Year=2007<br>Population=%{x}<extra></extra>",
           "legendgroup": "Sabah",
           "marker": {
            "color": "#EF553B",
            "pattern": {
             "shape": ""
            }
           },
           "name": "Sabah",
           "offsetgroup": "Sabah",
           "orientation": "h",
           "showlegend": true,
           "textposition": "auto",
           "type": "bar",
           "x": [
            3032.3
           ],
           "xaxis": "x",
           "y": [
            "Sabah"
           ],
           "yaxis": "y"
          },
          {
           "alignmentgroup": "True",
           "hovertemplate": "State=%{y}<br>Year=2007<br>Population=%{x}<extra></extra>",
           "legendgroup": "Sarawak",
           "marker": {
            "color": "#00cc96",
            "pattern": {
             "shape": ""
            }
           },
           "name": "Sarawak",
           "offsetgroup": "Sarawak",
           "orientation": "h",
           "showlegend": true,
           "textposition": "auto",
           "type": "bar",
           "x": [
            2366.1
           ],
           "xaxis": "x",
           "y": [
            "Sarawak"
           ],
           "yaxis": "y"
          },
          {
           "alignmentgroup": "True",
           "hovertemplate": "State=%{y}<br>Year=2007<br>Population=%{x}<extra></extra>",
           "legendgroup": "Kuala Lumpur",
           "marker": {
            "color": "#ab63fa",
            "pattern": {
             "shape": ""
            }
           },
           "name": "Kuala Lumpur",
           "offsetgroup": "Kuala Lumpur",
           "orientation": "h",
           "showlegend": true,
           "textposition": "auto",
           "type": "bar",
           "x": [
            1603.3
           ],
           "xaxis": "x",
           "y": [
            "Kuala Lumpur"
           ],
           "yaxis": "y"
          }
         ],
         "layout": {
          "annotations": [
           {
            "font": {
             "color": "fuchsia",
             "size": 50,
             "weight": "bold"
            },
            "text": "2007",
            "x": 0.98,
            "xref": "paper",
            "y": 0.5,
            "yref": "paper"
           }
          ]
         },
         "name": "2007"
        },
        {
         "data": [
          {
           "alignmentgroup": "True",
           "hovertemplate": "State=%{y}<br>Year=2008<br>Population=%{x}<extra></extra>",
           "legendgroup": "Johor",
           "marker": {
            "color": "#636efa",
            "pattern": {
             "shape": ""
            }
           },
           "name": "Johor",
           "offsetgroup": "Johor",
           "orientation": "h",
           "showlegend": true,
           "textposition": "auto",
           "type": "bar",
           "x": [
            3252.3
           ],
           "xaxis": "x",
           "y": [
            "Johor"
           ],
           "yaxis": "y"
          },
          {
           "alignmentgroup": "True",
           "hovertemplate": "State=%{y}<br>Year=2008<br>Population=%{x}<extra></extra>",
           "legendgroup": "Kedah",
           "marker": {
            "color": "#EF553B",
            "pattern": {
             "shape": ""
            }
           },
           "name": "Kedah",
           "offsetgroup": "Kedah",
           "orientation": "h",
           "showlegend": true,
           "textposition": "auto",
           "type": "bar",
           "x": [
            1900.2
           ],
           "xaxis": "x",
           "y": [
            "Kedah"
           ],
           "yaxis": "y"
          },
          {
           "alignmentgroup": "True",
           "hovertemplate": "State=%{y}<br>Year=2008<br>Population=%{x}<extra></extra>",
           "legendgroup": "Kelantan",
           "marker": {
            "color": "#00cc96",
            "pattern": {
             "shape": ""
            }
           },
           "name": "Kelantan",
           "offsetgroup": "Kelantan",
           "orientation": "h",
           "showlegend": true,
           "textposition": "auto",
           "type": "bar",
           "x": [
            1549.8
           ],
           "xaxis": "x",
           "y": [
            "Kelantan"
           ],
           "yaxis": "y"
          },
          {
           "alignmentgroup": "True",
           "hovertemplate": "State=%{y}<br>Year=2008<br>Population=%{x}<extra></extra>",
           "legendgroup": "Melaka",
           "marker": {
            "color": "#ab63fa",
            "pattern": {
             "shape": ""
            }
           },
           "name": "Melaka",
           "offsetgroup": "Melaka",
           "orientation": "h",
           "showlegend": true,
           "textposition": "auto",
           "type": "bar",
           "x": [
            790.5
           ],
           "xaxis": "x",
           "y": [
            "Melaka"
           ],
           "yaxis": "y"
          },
          {
           "alignmentgroup": "True",
           "hovertemplate": "State=%{y}<br>Year=2008<br>Population=%{x}<extra></extra>",
           "legendgroup": "Negeri Sembilan",
           "marker": {
            "color": "#FFA15A",
            "pattern": {
             "shape": ""
            }
           },
           "name": "Negeri Sembilan",
           "offsetgroup": "Negeri Sembilan",
           "orientation": "h",
           "showlegend": true,
           "textposition": "auto",
           "type": "bar",
           "x": [
            999.6
           ],
           "xaxis": "x",
           "y": [
            "Negeri Sembilan"
           ],
           "yaxis": "y"
          },
          {
           "alignmentgroup": "True",
           "hovertemplate": "State=%{y}<br>Year=2008<br>Population=%{x}<extra></extra>",
           "legendgroup": "Pahang",
           "marker": {
            "color": "#19d3f3",
            "pattern": {
             "shape": ""
            }
           },
           "name": "Pahang",
           "offsetgroup": "Pahang",
           "orientation": "h",
           "showlegend": true,
           "textposition": "auto",
           "type": "bar",
           "x": [
            1461.6
           ],
           "xaxis": "x",
           "y": [
            "Pahang"
           ],
           "yaxis": "y"
          },
          {
           "alignmentgroup": "True",
           "hovertemplate": "State=%{y}<br>Year=2008<br>Population=%{x}<extra></extra>",
           "legendgroup": "Penang",
           "marker": {
            "color": "#FF6692",
            "pattern": {
             "shape": ""
            }
           },
           "name": "Penang",
           "offsetgroup": "Penang",
           "orientation": "h",
           "showlegend": true,
           "textposition": "auto",
           "type": "bar",
           "x": [
            1531.3
           ],
           "xaxis": "x",
           "y": [
            "Penang"
           ],
           "yaxis": "y"
          },
          {
           "alignmentgroup": "True",
           "hovertemplate": "State=%{y}<br>Year=2008<br>Population=%{x}<extra></extra>",
           "legendgroup": "Perak",
           "marker": {
            "color": "#B6E880",
            "pattern": {
             "shape": ""
            }
           },
           "name": "Perak",
           "offsetgroup": "Perak",
           "orientation": "h",
           "showlegend": true,
           "textposition": "auto",
           "type": "bar",
           "x": [
            2331.6
           ],
           "xaxis": "x",
           "y": [
            "Perak"
           ],
           "yaxis": "y"
          },
          {
           "alignmentgroup": "True",
           "hovertemplate": "State=%{y}<br>Year=2008<br>Population=%{x}<extra></extra>",
           "legendgroup": "Perlis",
           "marker": {
            "color": "#FF97FF",
            "pattern": {
             "shape": ""
            }
           },
           "name": "Perlis",
           "offsetgroup": "Perlis",
           "orientation": "h",
           "showlegend": true,
           "textposition": "auto",
           "type": "bar",
           "x": [
            230.1
           ],
           "xaxis": "x",
           "y": [
            "Perlis"
           ],
           "yaxis": "y"
          },
          {
           "alignmentgroup": "True",
           "hovertemplate": "State=%{y}<br>Year=2008<br>Population=%{x}<extra></extra>",
           "legendgroup": "Selangor",
           "marker": {
            "color": "#FECB52",
            "pattern": {
             "shape": ""
            }
           },
           "name": "Selangor",
           "offsetgroup": "Selangor",
           "orientation": "h",
           "showlegend": true,
           "textposition": "auto",
           "type": "bar",
           "x": [
            5268.5
           ],
           "xaxis": "x",
           "y": [
            "Selangor"
           ],
           "yaxis": "y"
          },
          {
           "alignmentgroup": "True",
           "hovertemplate": "State=%{y}<br>Year=2008<br>Population=%{x}<extra></extra>",
           "legendgroup": "Terengganu",
           "marker": {
            "color": "#636efa",
            "pattern": {
             "shape": ""
            }
           },
           "name": "Terengganu",
           "offsetgroup": "Terengganu",
           "orientation": "h",
           "showlegend": true,
           "textposition": "auto",
           "type": "bar",
           "x": [
            1025.2
           ],
           "xaxis": "x",
           "y": [
            "Terengganu"
           ],
           "yaxis": "y"
          },
          {
           "alignmentgroup": "True",
           "hovertemplate": "State=%{y}<br>Year=2008<br>Population=%{x}<extra></extra>",
           "legendgroup": "Sabah",
           "marker": {
            "color": "#EF553B",
            "pattern": {
             "shape": ""
            }
           },
           "name": "Sabah",
           "offsetgroup": "Sabah",
           "orientation": "h",
           "showlegend": true,
           "textposition": "auto",
           "type": "bar",
           "x": [
            3105.1
           ],
           "xaxis": "x",
           "y": [
            "Sabah"
           ],
           "yaxis": "y"
          },
          {
           "alignmentgroup": "True",
           "hovertemplate": "State=%{y}<br>Year=2008<br>Population=%{x}<extra></extra>",
           "legendgroup": "Sarawak",
           "marker": {
            "color": "#00cc96",
            "pattern": {
             "shape": ""
            }
           },
           "name": "Sarawak",
           "offsetgroup": "Sarawak",
           "orientation": "h",
           "showlegend": true,
           "textposition": "auto",
           "type": "bar",
           "x": [
            2408.4
           ],
           "xaxis": "x",
           "y": [
            "Sarawak"
           ],
           "yaxis": "y"
          },
          {
           "alignmentgroup": "True",
           "hovertemplate": "State=%{y}<br>Year=2008<br>Population=%{x}<extra></extra>",
           "legendgroup": "Kuala Lumpur",
           "marker": {
            "color": "#ab63fa",
            "pattern": {
             "shape": ""
            }
           },
           "name": "Kuala Lumpur",
           "offsetgroup": "Kuala Lumpur",
           "orientation": "h",
           "showlegend": true,
           "textposition": "auto",
           "type": "bar",
           "x": [
            1628.9
           ],
           "xaxis": "x",
           "y": [
            "Kuala Lumpur"
           ],
           "yaxis": "y"
          }
         ],
         "layout": {
          "annotations": [
           {
            "font": {
             "color": "fuchsia",
             "size": 50,
             "weight": "bold"
            },
            "text": "2008",
            "x": 0.98,
            "xref": "paper",
            "y": 0.5,
            "yref": "paper"
           }
          ]
         },
         "name": "2008"
        },
        {
         "data": [
          {
           "alignmentgroup": "True",
           "hovertemplate": "State=%{y}<br>Year=2009<br>Population=%{x}<extra></extra>",
           "legendgroup": "Johor",
           "marker": {
            "color": "#636efa",
            "pattern": {
             "shape": ""
            }
           },
           "name": "Johor",
           "offsetgroup": "Johor",
           "orientation": "h",
           "showlegend": true,
           "textposition": "auto",
           "type": "bar",
           "x": [
            3309.4
           ],
           "xaxis": "x",
           "y": [
            "Johor"
           ],
           "yaxis": "y"
          },
          {
           "alignmentgroup": "True",
           "hovertemplate": "State=%{y}<br>Year=2009<br>Population=%{x}<extra></extra>",
           "legendgroup": "Kedah",
           "marker": {
            "color": "#EF553B",
            "pattern": {
             "shape": ""
            }
           },
           "name": "Kedah",
           "offsetgroup": "Kedah",
           "orientation": "h",
           "showlegend": true,
           "textposition": "auto",
           "type": "bar",
           "x": [
            1925.3
           ],
           "xaxis": "x",
           "y": [
            "Kedah"
           ],
           "yaxis": "y"
          },
          {
           "alignmentgroup": "True",
           "hovertemplate": "State=%{y}<br>Year=2009<br>Population=%{x}<extra></extra>",
           "legendgroup": "Kelantan",
           "marker": {
            "color": "#00cc96",
            "pattern": {
             "shape": ""
            }
           },
           "name": "Kelantan",
           "offsetgroup": "Kelantan",
           "orientation": "h",
           "showlegend": true,
           "textposition": "auto",
           "type": "bar",
           "x": [
            1570
           ],
           "xaxis": "x",
           "y": [
            "Kelantan"
           ],
           "yaxis": "y"
          },
          {
           "alignmentgroup": "True",
           "hovertemplate": "State=%{y}<br>Year=2009<br>Population=%{x}<extra></extra>",
           "legendgroup": "Melaka",
           "marker": {
            "color": "#ab63fa",
            "pattern": {
             "shape": ""
            }
           },
           "name": "Melaka",
           "offsetgroup": "Melaka",
           "orientation": "h",
           "showlegend": true,
           "textposition": "auto",
           "type": "bar",
           "x": [
            807.8
           ],
           "xaxis": "x",
           "y": [
            "Melaka"
           ],
           "yaxis": "y"
          },
          {
           "alignmentgroup": "True",
           "hovertemplate": "State=%{y}<br>Year=2009<br>Population=%{x}<extra></extra>",
           "legendgroup": "Negeri Sembilan",
           "marker": {
            "color": "#FFA15A",
            "pattern": {
             "shape": ""
            }
           },
           "name": "Negeri Sembilan",
           "offsetgroup": "Negeri Sembilan",
           "orientation": "h",
           "showlegend": true,
           "textposition": "auto",
           "type": "bar",
           "x": [
            1014.9
           ],
           "xaxis": "x",
           "y": [
            "Negeri Sembilan"
           ],
           "yaxis": "y"
          },
          {
           "alignmentgroup": "True",
           "hovertemplate": "State=%{y}<br>Year=2009<br>Population=%{x}<extra></extra>",
           "legendgroup": "Pahang",
           "marker": {
            "color": "#19d3f3",
            "pattern": {
             "shape": ""
            }
           },
           "name": "Pahang",
           "offsetgroup": "Pahang",
           "orientation": "h",
           "showlegend": true,
           "textposition": "auto",
           "type": "bar",
           "x": [
            1481.7
           ],
           "xaxis": "x",
           "y": [
            "Pahang"
           ],
           "yaxis": "y"
          },
          {
           "alignmentgroup": "True",
           "hovertemplate": "State=%{y}<br>Year=2009<br>Population=%{x}<extra></extra>",
           "legendgroup": "Penang",
           "marker": {
            "color": "#FF6692",
            "pattern": {
             "shape": ""
            }
           },
           "name": "Penang",
           "offsetgroup": "Penang",
           "orientation": "h",
           "showlegend": true,
           "textposition": "auto",
           "type": "bar",
           "x": [
            1554.3
           ],
           "xaxis": "x",
           "y": [
            "Penang"
           ],
           "yaxis": "y"
          },
          {
           "alignmentgroup": "True",
           "hovertemplate": "State=%{y}<br>Year=2009<br>Population=%{x}<extra></extra>",
           "legendgroup": "Perak",
           "marker": {
            "color": "#B6E880",
            "pattern": {
             "shape": ""
            }
           },
           "name": "Perak",
           "offsetgroup": "Perak",
           "orientation": "h",
           "showlegend": true,
           "textposition": "auto",
           "type": "bar",
           "x": [
            2355.7
           ],
           "xaxis": "x",
           "y": [
            "Perak"
           ],
           "yaxis": "y"
          },
          {
           "alignmentgroup": "True",
           "hovertemplate": "State=%{y}<br>Year=2009<br>Population=%{x}<extra></extra>",
           "legendgroup": "Perlis",
           "marker": {
            "color": "#FF97FF",
            "pattern": {
             "shape": ""
            }
           },
           "name": "Perlis",
           "offsetgroup": "Perlis",
           "orientation": "h",
           "showlegend": true,
           "textposition": "auto",
           "type": "bar",
           "x": [
            233
           ],
           "xaxis": "x",
           "y": [
            "Perlis"
           ],
           "yaxis": "y"
          },
          {
           "alignmentgroup": "True",
           "hovertemplate": "State=%{y}<br>Year=2009<br>Population=%{x}<extra></extra>",
           "legendgroup": "Selangor",
           "marker": {
            "color": "#FECB52",
            "pattern": {
             "shape": ""
            }
           },
           "name": "Selangor",
           "offsetgroup": "Selangor",
           "orientation": "h",
           "showlegend": true,
           "textposition": "auto",
           "type": "bar",
           "x": [
            5417.8
           ],
           "xaxis": "x",
           "y": [
            "Selangor"
           ],
           "yaxis": "y"
          },
          {
           "alignmentgroup": "True",
           "hovertemplate": "State=%{y}<br>Year=2009<br>Population=%{x}<extra></extra>",
           "legendgroup": "Terengganu",
           "marker": {
            "color": "#636efa",
            "pattern": {
             "shape": ""
            }
           },
           "name": "Terengganu",
           "offsetgroup": "Terengganu",
           "orientation": "h",
           "showlegend": true,
           "textposition": "auto",
           "type": "bar",
           "x": [
            1040.7
           ],
           "xaxis": "x",
           "y": [
            "Terengganu"
           ],
           "yaxis": "y"
          },
          {
           "alignmentgroup": "True",
           "hovertemplate": "State=%{y}<br>Year=2009<br>Population=%{x}<extra></extra>",
           "legendgroup": "Sabah",
           "marker": {
            "color": "#EF553B",
            "pattern": {
             "shape": ""
            }
           },
           "name": "Sabah",
           "offsetgroup": "Sabah",
           "orientation": "h",
           "showlegend": true,
           "textposition": "auto",
           "type": "bar",
           "x": [
            3181.1
           ],
           "xaxis": "x",
           "y": [
            "Sabah"
           ],
           "yaxis": "y"
          },
          {
           "alignmentgroup": "True",
           "hovertemplate": "State=%{y}<br>Year=2009<br>Population=%{x}<extra></extra>",
           "legendgroup": "Sarawak",
           "marker": {
            "color": "#00cc96",
            "pattern": {
             "shape": ""
            }
           },
           "name": "Sarawak",
           "offsetgroup": "Sarawak",
           "orientation": "h",
           "showlegend": true,
           "textposition": "auto",
           "type": "bar",
           "x": [
            2450.8
           ],
           "xaxis": "x",
           "y": [
            "Sarawak"
           ],
           "yaxis": "y"
          },
          {
           "alignmentgroup": "True",
           "hovertemplate": "State=%{y}<br>Year=2009<br>Population=%{x}<extra></extra>",
           "legendgroup": "Kuala Lumpur",
           "marker": {
            "color": "#ab63fa",
            "pattern": {
             "shape": ""
            }
           },
           "name": "Kuala Lumpur",
           "offsetgroup": "Kuala Lumpur",
           "orientation": "h",
           "showlegend": true,
           "textposition": "auto",
           "type": "bar",
           "x": [
            1652.8
           ],
           "xaxis": "x",
           "y": [
            "Kuala Lumpur"
           ],
           "yaxis": "y"
          }
         ],
         "layout": {
          "annotations": [
           {
            "font": {
             "color": "fuchsia",
             "size": 50,
             "weight": "bold"
            },
            "text": "2009",
            "x": 0.98,
            "xref": "paper",
            "y": 0.5,
            "yref": "paper"
           }
          ]
         },
         "name": "2009"
        },
        {
         "data": [
          {
           "alignmentgroup": "True",
           "hovertemplate": "State=%{y}<br>Year=2010<br>Population=%{x}<extra></extra>",
           "legendgroup": "Johor",
           "marker": {
            "color": "#636efa",
            "pattern": {
             "shape": ""
            }
           },
           "name": "Johor",
           "offsetgroup": "Johor",
           "orientation": "h",
           "showlegend": true,
           "textposition": "auto",
           "type": "bar",
           "x": [
            3362.9
           ],
           "xaxis": "x",
           "y": [
            "Johor"
           ],
           "yaxis": "y"
          },
          {
           "alignmentgroup": "True",
           "hovertemplate": "State=%{y}<br>Year=2010<br>Population=%{x}<extra></extra>",
           "legendgroup": "Kedah",
           "marker": {
            "color": "#EF553B",
            "pattern": {
             "shape": ""
            }
           },
           "name": "Kedah",
           "offsetgroup": "Kedah",
           "orientation": "h",
           "showlegend": true,
           "textposition": "auto",
           "type": "bar",
           "x": [
            1949.3
           ],
           "xaxis": "x",
           "y": [
            "Kedah"
           ],
           "yaxis": "y"
          },
          {
           "alignmentgroup": "True",
           "hovertemplate": "State=%{y}<br>Year=2010<br>Population=%{x}<extra></extra>",
           "legendgroup": "Kelantan",
           "marker": {
            "color": "#00cc96",
            "pattern": {
             "shape": ""
            }
           },
           "name": "Kelantan",
           "offsetgroup": "Kelantan",
           "orientation": "h",
           "showlegend": true,
           "textposition": "auto",
           "type": "bar",
           "x": [
            1589.9
           ],
           "xaxis": "x",
           "y": [
            "Kelantan"
           ],
           "yaxis": "y"
          },
          {
           "alignmentgroup": "True",
           "hovertemplate": "State=%{y}<br>Year=2010<br>Population=%{x}<extra></extra>",
           "legendgroup": "Melaka",
           "marker": {
            "color": "#ab63fa",
            "pattern": {
             "shape": ""
            }
           },
           "name": "Melaka",
           "offsetgroup": "Melaka",
           "orientation": "h",
           "showlegend": true,
           "textposition": "auto",
           "type": "bar",
           "x": [
            823.6
           ],
           "xaxis": "x",
           "y": [
            "Melaka"
           ],
           "yaxis": "y"
          },
          {
           "alignmentgroup": "True",
           "hovertemplate": "State=%{y}<br>Year=2010<br>Population=%{x}<extra></extra>",
           "legendgroup": "Negeri Sembilan",
           "marker": {
            "color": "#FFA15A",
            "pattern": {
             "shape": ""
            }
           },
           "name": "Negeri Sembilan",
           "offsetgroup": "Negeri Sembilan",
           "orientation": "h",
           "showlegend": true,
           "textposition": "auto",
           "type": "bar",
           "x": [
            1029.5
           ],
           "xaxis": "x",
           "y": [
            "Negeri Sembilan"
           ],
           "yaxis": "y"
          },
          {
           "alignmentgroup": "True",
           "hovertemplate": "State=%{y}<br>Year=2010<br>Population=%{x}<extra></extra>",
           "legendgroup": "Pahang",
           "marker": {
            "color": "#19d3f3",
            "pattern": {
             "shape": ""
            }
           },
           "name": "Pahang",
           "offsetgroup": "Pahang",
           "orientation": "h",
           "showlegend": true,
           "textposition": "auto",
           "type": "bar",
           "x": [
            1501.9
           ],
           "xaxis": "x",
           "y": [
            "Pahang"
           ],
           "yaxis": "y"
          },
          {
           "alignmentgroup": "True",
           "hovertemplate": "State=%{y}<br>Year=2010<br>Population=%{x}<extra></extra>",
           "legendgroup": "Penang",
           "marker": {
            "color": "#FF6692",
            "pattern": {
             "shape": ""
            }
           },
           "name": "Penang",
           "offsetgroup": "Penang",
           "orientation": "h",
           "showlegend": true,
           "textposition": "auto",
           "type": "bar",
           "x": [
            1575.9
           ],
           "xaxis": "x",
           "y": [
            "Penang"
           ],
           "yaxis": "y"
          },
          {
           "alignmentgroup": "True",
           "hovertemplate": "State=%{y}<br>Year=2010<br>Population=%{x}<extra></extra>",
           "legendgroup": "Perak",
           "marker": {
            "color": "#B6E880",
            "pattern": {
             "shape": ""
            }
           },
           "name": "Perak",
           "offsetgroup": "Perak",
           "orientation": "h",
           "showlegend": true,
           "textposition": "auto",
           "type": "bar",
           "x": [
            2379
           ],
           "xaxis": "x",
           "y": [
            "Perak"
           ],
           "yaxis": "y"
          },
          {
           "alignmentgroup": "True",
           "hovertemplate": "State=%{y}<br>Year=2010<br>Population=%{x}<extra></extra>",
           "legendgroup": "Perlis",
           "marker": {
            "color": "#FF97FF",
            "pattern": {
             "shape": ""
            }
           },
           "name": "Perlis",
           "offsetgroup": "Perlis",
           "orientation": "h",
           "showlegend": true,
           "textposition": "auto",
           "type": "bar",
           "x": [
            235.8
           ],
           "xaxis": "x",
           "y": [
            "Perlis"
           ],
           "yaxis": "y"
          },
          {
           "alignmentgroup": "True",
           "hovertemplate": "State=%{y}<br>Year=2010<br>Population=%{x}<extra></extra>",
           "legendgroup": "Selangor",
           "marker": {
            "color": "#FECB52",
            "pattern": {
             "shape": ""
            }
           },
           "name": "Selangor",
           "offsetgroup": "Selangor",
           "orientation": "h",
           "showlegend": true,
           "textposition": "auto",
           "type": "bar",
           "x": [
            5502.1
           ],
           "xaxis": "x",
           "y": [
            "Selangor"
           ],
           "yaxis": "y"
          },
          {
           "alignmentgroup": "True",
           "hovertemplate": "State=%{y}<br>Year=2010<br>Population=%{x}<extra></extra>",
           "legendgroup": "Terengganu",
           "marker": {
            "color": "#636efa",
            "pattern": {
             "shape": ""
            }
           },
           "name": "Terengganu",
           "offsetgroup": "Terengganu",
           "orientation": "h",
           "showlegend": true,
           "textposition": "auto",
           "type": "bar",
           "x": [
            1055.4
           ],
           "xaxis": "x",
           "y": [
            "Terengganu"
           ],
           "yaxis": "y"
          },
          {
           "alignmentgroup": "True",
           "hovertemplate": "State=%{y}<br>Year=2010<br>Population=%{x}<extra></extra>",
           "legendgroup": "Sabah",
           "marker": {
            "color": "#EF553B",
            "pattern": {
             "shape": ""
            }
           },
           "name": "Sabah",
           "offsetgroup": "Sabah",
           "orientation": "h",
           "showlegend": true,
           "textposition": "auto",
           "type": "bar",
           "x": [
            3260
           ],
           "xaxis": "x",
           "y": [
            "Sabah"
           ],
           "yaxis": "y"
          },
          {
           "alignmentgroup": "True",
           "hovertemplate": "State=%{y}<br>Year=2010<br>Population=%{x}<extra></extra>",
           "legendgroup": "Sarawak",
           "marker": {
            "color": "#00cc96",
            "pattern": {
             "shape": ""
            }
           },
           "name": "Sarawak",
           "offsetgroup": "Sarawak",
           "orientation": "h",
           "showlegend": true,
           "textposition": "auto",
           "type": "bar",
           "x": [
            2487.1
           ],
           "xaxis": "x",
           "y": [
            "Sarawak"
           ],
           "yaxis": "y"
          },
          {
           "alignmentgroup": "True",
           "hovertemplate": "State=%{y}<br>Year=2010<br>Population=%{x}<extra></extra>",
           "legendgroup": "Kuala Lumpur",
           "marker": {
            "color": "#ab63fa",
            "pattern": {
             "shape": ""
            }
           },
           "name": "Kuala Lumpur",
           "offsetgroup": "Kuala Lumpur",
           "orientation": "h",
           "showlegend": true,
           "textposition": "auto",
           "type": "bar",
           "x": [
            1674.8
           ],
           "xaxis": "x",
           "y": [
            "Kuala Lumpur"
           ],
           "yaxis": "y"
          }
         ],
         "layout": {
          "annotations": [
           {
            "font": {
             "color": "fuchsia",
             "size": 50,
             "weight": "bold"
            },
            "text": "2010",
            "x": 0.98,
            "xref": "paper",
            "y": 0.5,
            "yref": "paper"
           }
          ]
         },
         "name": "2010"
        },
        {
         "data": [
          {
           "alignmentgroup": "True",
           "hovertemplate": "State=%{y}<br>Year=2011<br>Population=%{x}<extra></extra>",
           "legendgroup": "Johor",
           "marker": {
            "color": "#636efa",
            "pattern": {
             "shape": ""
            }
           },
           "name": "Johor",
           "offsetgroup": "Johor",
           "orientation": "h",
           "showlegend": true,
           "textposition": "auto",
           "type": "bar",
           "x": [
            3410.5
           ],
           "xaxis": "x",
           "y": [
            "Johor"
           ],
           "yaxis": "y"
          },
          {
           "alignmentgroup": "True",
           "hovertemplate": "State=%{y}<br>Year=2011<br>Population=%{x}<extra></extra>",
           "legendgroup": "Kedah",
           "marker": {
            "color": "#EF553B",
            "pattern": {
             "shape": ""
            }
           },
           "name": "Kedah",
           "offsetgroup": "Kedah",
           "orientation": "h",
           "showlegend": true,
           "textposition": "auto",
           "type": "bar",
           "x": [
            1971.8
           ],
           "xaxis": "x",
           "y": [
            "Kedah"
           ],
           "yaxis": "y"
          },
          {
           "alignmentgroup": "True",
           "hovertemplate": "State=%{y}<br>Year=2011<br>Population=%{x}<extra></extra>",
           "legendgroup": "Kelantan",
           "marker": {
            "color": "#00cc96",
            "pattern": {
             "shape": ""
            }
           },
           "name": "Kelantan",
           "offsetgroup": "Kelantan",
           "orientation": "h",
           "showlegend": true,
           "textposition": "auto",
           "type": "bar",
           "x": [
            1618.8
           ],
           "xaxis": "x",
           "y": [
            "Kelantan"
           ],
           "yaxis": "y"
          },
          {
           "alignmentgroup": "True",
           "hovertemplate": "State=%{y}<br>Year=2011<br>Population=%{x}<extra></extra>",
           "legendgroup": "Melaka",
           "marker": {
            "color": "#ab63fa",
            "pattern": {
             "shape": ""
            }
           },
           "name": "Melaka",
           "offsetgroup": "Melaka",
           "orientation": "h",
           "showlegend": true,
           "textposition": "auto",
           "type": "bar",
           "x": [
            833.2
           ],
           "xaxis": "x",
           "y": [
            "Melaka"
           ],
           "yaxis": "y"
          },
          {
           "alignmentgroup": "True",
           "hovertemplate": "State=%{y}<br>Year=2011<br>Population=%{x}<extra></extra>",
           "legendgroup": "Negeri Sembilan",
           "marker": {
            "color": "#FFA15A",
            "pattern": {
             "shape": ""
            }
           },
           "name": "Negeri Sembilan",
           "offsetgroup": "Negeri Sembilan",
           "orientation": "h",
           "showlegend": true,
           "textposition": "auto",
           "type": "bar",
           "x": [
            1047.4
           ],
           "xaxis": "x",
           "y": [
            "Negeri Sembilan"
           ],
           "yaxis": "y"
          },
          {
           "alignmentgroup": "True",
           "hovertemplate": "State=%{y}<br>Year=2011<br>Population=%{x}<extra></extra>",
           "legendgroup": "Pahang",
           "marker": {
            "color": "#19d3f3",
            "pattern": {
             "shape": ""
            }
           },
           "name": "Pahang",
           "offsetgroup": "Pahang",
           "orientation": "h",
           "showlegend": true,
           "textposition": "auto",
           "type": "bar",
           "x": [
            1526.8
           ],
           "xaxis": "x",
           "y": [
            "Pahang"
           ],
           "yaxis": "y"
          },
          {
           "alignmentgroup": "True",
           "hovertemplate": "State=%{y}<br>Year=2011<br>Population=%{x}<extra></extra>",
           "legendgroup": "Penang",
           "marker": {
            "color": "#FF6692",
            "pattern": {
             "shape": ""
            }
           },
           "name": "Penang",
           "offsetgroup": "Penang",
           "orientation": "h",
           "showlegend": true,
           "textposition": "auto",
           "type": "bar",
           "x": [
            1601
           ],
           "xaxis": "x",
           "y": [
            "Penang"
           ],
           "yaxis": "y"
          },
          {
           "alignmentgroup": "True",
           "hovertemplate": "State=%{y}<br>Year=2011<br>Population=%{x}<extra></extra>",
           "legendgroup": "Perak",
           "marker": {
            "color": "#B6E880",
            "pattern": {
             "shape": ""
            }
           },
           "name": "Perak",
           "offsetgroup": "Perak",
           "orientation": "h",
           "showlegend": true,
           "textposition": "auto",
           "type": "bar",
           "x": [
            2402.7
           ],
           "xaxis": "x",
           "y": [
            "Perak"
           ],
           "yaxis": "y"
          },
          {
           "alignmentgroup": "True",
           "hovertemplate": "State=%{y}<br>Year=2011<br>Population=%{x}<extra></extra>",
           "legendgroup": "Perlis",
           "marker": {
            "color": "#FF97FF",
            "pattern": {
             "shape": ""
            }
           },
           "name": "Perlis",
           "offsetgroup": "Perlis",
           "orientation": "h",
           "showlegend": true,
           "textposition": "auto",
           "type": "bar",
           "x": [
            237.3
           ],
           "xaxis": "x",
           "y": [
            "Perlis"
           ],
           "yaxis": "y"
          },
          {
           "alignmentgroup": "True",
           "hovertemplate": "State=%{y}<br>Year=2011<br>Population=%{x}<extra></extra>",
           "legendgroup": "Selangor",
           "marker": {
            "color": "#FECB52",
            "pattern": {
             "shape": ""
            }
           },
           "name": "Selangor",
           "offsetgroup": "Selangor",
           "orientation": "h",
           "showlegend": true,
           "textposition": "auto",
           "type": "bar",
           "x": [
            5600.3
           ],
           "xaxis": "x",
           "y": [
            "Selangor"
           ],
           "yaxis": "y"
          },
          {
           "alignmentgroup": "True",
           "hovertemplate": "State=%{y}<br>Year=2011<br>Population=%{x}<extra></extra>",
           "legendgroup": "Terengganu",
           "marker": {
            "color": "#636efa",
            "pattern": {
             "shape": ""
            }
           },
           "name": "Terengganu",
           "offsetgroup": "Terengganu",
           "orientation": "h",
           "showlegend": true,
           "textposition": "auto",
           "type": "bar",
           "x": [
            1079
           ],
           "xaxis": "x",
           "y": [
            "Terengganu"
           ],
           "yaxis": "y"
          },
          {
           "alignmentgroup": "True",
           "hovertemplate": "State=%{y}<br>Year=2011<br>Population=%{x}<extra></extra>",
           "legendgroup": "Sabah",
           "marker": {
            "color": "#EF553B",
            "pattern": {
             "shape": ""
            }
           },
           "name": "Sabah",
           "offsetgroup": "Sabah",
           "orientation": "h",
           "showlegend": true,
           "textposition": "auto",
           "type": "bar",
           "x": [
            3345.5
           ],
           "xaxis": "x",
           "y": [
            "Sabah"
           ],
           "yaxis": "y"
          },
          {
           "alignmentgroup": "True",
           "hovertemplate": "State=%{y}<br>Year=2011<br>Population=%{x}<extra></extra>",
           "legendgroup": "Sarawak",
           "marker": {
            "color": "#00cc96",
            "pattern": {
             "shape": ""
            }
           },
           "name": "Sarawak",
           "offsetgroup": "Sarawak",
           "orientation": "h",
           "showlegend": true,
           "textposition": "auto",
           "type": "bar",
           "x": [
            2527.9
           ],
           "xaxis": "x",
           "y": [
            "Sarawak"
           ],
           "yaxis": "y"
          },
          {
           "alignmentgroup": "True",
           "hovertemplate": "State=%{y}<br>Year=2011<br>Population=%{x}<extra></extra>",
           "legendgroup": "Kuala Lumpur",
           "marker": {
            "color": "#ab63fa",
            "pattern": {
             "shape": ""
            }
           },
           "name": "Kuala Lumpur",
           "offsetgroup": "Kuala Lumpur",
           "orientation": "h",
           "showlegend": true,
           "textposition": "auto",
           "type": "bar",
           "x": [
            1693
           ],
           "xaxis": "x",
           "y": [
            "Kuala Lumpur"
           ],
           "yaxis": "y"
          }
         ],
         "layout": {
          "annotations": [
           {
            "font": {
             "color": "fuchsia",
             "size": 50,
             "weight": "bold"
            },
            "text": "2011",
            "x": 0.98,
            "xref": "paper",
            "y": 0.5,
            "yref": "paper"
           }
          ]
         },
         "name": "2011"
        },
        {
         "data": [
          {
           "alignmentgroup": "True",
           "hovertemplate": "State=%{y}<br>Year=2012<br>Population=%{x}<extra></extra>",
           "legendgroup": "Johor",
           "marker": {
            "color": "#636efa",
            "pattern": {
             "shape": ""
            }
           },
           "name": "Johor",
           "offsetgroup": "Johor",
           "orientation": "h",
           "showlegend": true,
           "textposition": "auto",
           "type": "bar",
           "x": [
            3450.4
           ],
           "xaxis": "x",
           "y": [
            "Johor"
           ],
           "yaxis": "y"
          },
          {
           "alignmentgroup": "True",
           "hovertemplate": "State=%{y}<br>Year=2012<br>Population=%{x}<extra></extra>",
           "legendgroup": "Kedah",
           "marker": {
            "color": "#EF553B",
            "pattern": {
             "shape": ""
            }
           },
           "name": "Kedah",
           "offsetgroup": "Kedah",
           "orientation": "h",
           "showlegend": true,
           "textposition": "auto",
           "type": "bar",
           "x": [
            2001.1
           ],
           "xaxis": "x",
           "y": [
            "Kedah"
           ],
           "yaxis": "y"
          },
          {
           "alignmentgroup": "True",
           "hovertemplate": "State=%{y}<br>Year=2012<br>Population=%{x}<extra></extra>",
           "legendgroup": "Kelantan",
           "marker": {
            "color": "#00cc96",
            "pattern": {
             "shape": ""
            }
           },
           "name": "Kelantan",
           "offsetgroup": "Kelantan",
           "orientation": "h",
           "showlegend": true,
           "textposition": "auto",
           "type": "bar",
           "x": [
            1651
           ],
           "xaxis": "x",
           "y": [
            "Kelantan"
           ],
           "yaxis": "y"
          },
          {
           "alignmentgroup": "True",
           "hovertemplate": "State=%{y}<br>Year=2012<br>Population=%{x}<extra></extra>",
           "legendgroup": "Melaka",
           "marker": {
            "color": "#ab63fa",
            "pattern": {
             "shape": ""
            }
           },
           "name": "Melaka",
           "offsetgroup": "Melaka",
           "orientation": "h",
           "showlegend": true,
           "textposition": "auto",
           "type": "bar",
           "x": [
            843.2
           ],
           "xaxis": "x",
           "y": [
            "Melaka"
           ],
           "yaxis": "y"
          },
          {
           "alignmentgroup": "True",
           "hovertemplate": "State=%{y}<br>Year=2012<br>Population=%{x}<extra></extra>",
           "legendgroup": "Negeri Sembilan",
           "marker": {
            "color": "#FFA15A",
            "pattern": {
             "shape": ""
            }
           },
           "name": "Negeri Sembilan",
           "offsetgroup": "Negeri Sembilan",
           "orientation": "h",
           "showlegend": true,
           "textposition": "auto",
           "type": "bar",
           "x": [
            1057.7
           ],
           "xaxis": "x",
           "y": [
            "Negeri Sembilan"
           ],
           "yaxis": "y"
          },
          {
           "alignmentgroup": "True",
           "hovertemplate": "State=%{y}<br>Year=2012<br>Population=%{x}<extra></extra>",
           "legendgroup": "Pahang",
           "marker": {
            "color": "#19d3f3",
            "pattern": {
             "shape": ""
            }
           },
           "name": "Pahang",
           "offsetgroup": "Pahang",
           "orientation": "h",
           "showlegend": true,
           "textposition": "auto",
           "type": "bar",
           "x": [
            1547.1
           ],
           "xaxis": "x",
           "y": [
            "Pahang"
           ],
           "yaxis": "y"
          },
          {
           "alignmentgroup": "True",
           "hovertemplate": "State=%{y}<br>Year=2012<br>Population=%{x}<extra></extra>",
           "legendgroup": "Penang",
           "marker": {
            "color": "#FF6692",
            "pattern": {
             "shape": ""
            }
           },
           "name": "Penang",
           "offsetgroup": "Penang",
           "orientation": "h",
           "showlegend": true,
           "textposition": "auto",
           "type": "bar",
           "x": [
            1623.2
           ],
           "xaxis": "x",
           "y": [
            "Penang"
           ],
           "yaxis": "y"
          },
          {
           "alignmentgroup": "True",
           "hovertemplate": "State=%{y}<br>Year=2012<br>Population=%{x}<extra></extra>",
           "legendgroup": "Perak",
           "marker": {
            "color": "#B6E880",
            "pattern": {
             "shape": ""
            }
           },
           "name": "Perak",
           "offsetgroup": "Perak",
           "orientation": "h",
           "showlegend": true,
           "textposition": "auto",
           "type": "bar",
           "x": [
            2427
           ],
           "xaxis": "x",
           "y": [
            "Perak"
           ],
           "yaxis": "y"
          },
          {
           "alignmentgroup": "True",
           "hovertemplate": "State=%{y}<br>Year=2012<br>Population=%{x}<extra></extra>",
           "legendgroup": "Perlis",
           "marker": {
            "color": "#FF97FF",
            "pattern": {
             "shape": ""
            }
           },
           "name": "Perlis",
           "offsetgroup": "Perlis",
           "orientation": "h",
           "showlegend": true,
           "textposition": "auto",
           "type": "bar",
           "x": [
            239.4
           ],
           "xaxis": "x",
           "y": [
            "Perlis"
           ],
           "yaxis": "y"
          },
          {
           "alignmentgroup": "True",
           "hovertemplate": "State=%{y}<br>Year=2012<br>Population=%{x}<extra></extra>",
           "legendgroup": "Selangor",
           "marker": {
            "color": "#FECB52",
            "pattern": {
             "shape": ""
            }
           },
           "name": "Selangor",
           "offsetgroup": "Selangor",
           "orientation": "h",
           "showlegend": true,
           "textposition": "auto",
           "type": "bar",
           "x": [
            5702.4
           ],
           "xaxis": "x",
           "y": [
            "Selangor"
           ],
           "yaxis": "y"
          },
          {
           "alignmentgroup": "True",
           "hovertemplate": "State=%{y}<br>Year=2012<br>Population=%{x}<extra></extra>",
           "legendgroup": "Terengganu",
           "marker": {
            "color": "#636efa",
            "pattern": {
             "shape": ""
            }
           },
           "name": "Terengganu",
           "offsetgroup": "Terengganu",
           "orientation": "h",
           "showlegend": true,
           "textposition": "auto",
           "type": "bar",
           "x": [
            1094.1
           ],
           "xaxis": "x",
           "y": [
            "Terengganu"
           ],
           "yaxis": "y"
          },
          {
           "alignmentgroup": "True",
           "hovertemplate": "State=%{y}<br>Year=2012<br>Population=%{x}<extra></extra>",
           "legendgroup": "Sabah",
           "marker": {
            "color": "#EF553B",
            "pattern": {
             "shape": ""
            }
           },
           "name": "Sabah",
           "offsetgroup": "Sabah",
           "orientation": "h",
           "showlegend": true,
           "textposition": "auto",
           "type": "bar",
           "x": [
            3432.7
           ],
           "xaxis": "x",
           "y": [
            "Sabah"
           ],
           "yaxis": "y"
          },
          {
           "alignmentgroup": "True",
           "hovertemplate": "State=%{y}<br>Year=2012<br>Population=%{x}<extra></extra>",
           "legendgroup": "Sarawak",
           "marker": {
            "color": "#00cc96",
            "pattern": {
             "shape": ""
            }
           },
           "name": "Sarawak",
           "offsetgroup": "Sarawak",
           "orientation": "h",
           "showlegend": true,
           "textposition": "auto",
           "type": "bar",
           "x": [
            2569.7
           ],
           "xaxis": "x",
           "y": [
            "Sarawak"
           ],
           "yaxis": "y"
          },
          {
           "alignmentgroup": "True",
           "hovertemplate": "State=%{y}<br>Year=2012<br>Population=%{x}<extra></extra>",
           "legendgroup": "Kuala Lumpur",
           "marker": {
            "color": "#ab63fa",
            "pattern": {
             "shape": ""
            }
           },
           "name": "Kuala Lumpur",
           "offsetgroup": "Kuala Lumpur",
           "orientation": "h",
           "showlegend": true,
           "textposition": "auto",
           "type": "bar",
           "x": [
            1702.1
           ],
           "xaxis": "x",
           "y": [
            "Kuala Lumpur"
           ],
           "yaxis": "y"
          }
         ],
         "layout": {
          "annotations": [
           {
            "font": {
             "color": "fuchsia",
             "size": 50,
             "weight": "bold"
            },
            "text": "2012",
            "x": 0.98,
            "xref": "paper",
            "y": 0.5,
            "yref": "paper"
           }
          ]
         },
         "name": "2012"
        },
        {
         "data": [
          {
           "alignmentgroup": "True",
           "hovertemplate": "State=%{y}<br>Year=2013<br>Population=%{x}<extra></extra>",
           "legendgroup": "Johor",
           "marker": {
            "color": "#636efa",
            "pattern": {
             "shape": ""
            }
           },
           "name": "Johor",
           "offsetgroup": "Johor",
           "orientation": "h",
           "showlegend": true,
           "textposition": "auto",
           "type": "bar",
           "x": [
            3474.4
           ],
           "xaxis": "x",
           "y": [
            "Johor"
           ],
           "yaxis": "y"
          },
          {
           "alignmentgroup": "True",
           "hovertemplate": "State=%{y}<br>Year=2013<br>Population=%{x}<extra></extra>",
           "legendgroup": "Kedah",
           "marker": {
            "color": "#EF553B",
            "pattern": {
             "shape": ""
            }
           },
           "name": "Kedah",
           "offsetgroup": "Kedah",
           "orientation": "h",
           "showlegend": true,
           "textposition": "auto",
           "type": "bar",
           "x": [
            2039.8
           ],
           "xaxis": "x",
           "y": [
            "Kedah"
           ],
           "yaxis": "y"
          },
          {
           "alignmentgroup": "True",
           "hovertemplate": "State=%{y}<br>Year=2013<br>Population=%{x}<extra></extra>",
           "legendgroup": "Kelantan",
           "marker": {
            "color": "#00cc96",
            "pattern": {
             "shape": ""
            }
           },
           "name": "Kelantan",
           "offsetgroup": "Kelantan",
           "orientation": "h",
           "showlegend": true,
           "textposition": "auto",
           "type": "bar",
           "x": [
            1683.5
           ],
           "xaxis": "x",
           "y": [
            "Kelantan"
           ],
           "yaxis": "y"
          },
          {
           "alignmentgroup": "True",
           "hovertemplate": "State=%{y}<br>Year=2013<br>Population=%{x}<extra></extra>",
           "legendgroup": "Melaka",
           "marker": {
            "color": "#ab63fa",
            "pattern": {
             "shape": ""
            }
           },
           "name": "Melaka",
           "offsetgroup": "Melaka",
           "orientation": "h",
           "showlegend": true,
           "textposition": "auto",
           "type": "bar",
           "x": [
            856.7
           ],
           "xaxis": "x",
           "y": [
            "Melaka"
           ],
           "yaxis": "y"
          },
          {
           "alignmentgroup": "True",
           "hovertemplate": "State=%{y}<br>Year=2013<br>Population=%{x}<extra></extra>",
           "legendgroup": "Negeri Sembilan",
           "marker": {
            "color": "#FFA15A",
            "pattern": {
             "shape": ""
            }
           },
           "name": "Negeri Sembilan",
           "offsetgroup": "Negeri Sembilan",
           "orientation": "h",
           "showlegend": true,
           "textposition": "auto",
           "type": "bar",
           "x": [
            1072.2
           ],
           "xaxis": "x",
           "y": [
            "Negeri Sembilan"
           ],
           "yaxis": "y"
          },
          {
           "alignmentgroup": "True",
           "hovertemplate": "State=%{y}<br>Year=2013<br>Population=%{x}<extra></extra>",
           "legendgroup": "Pahang",
           "marker": {
            "color": "#19d3f3",
            "pattern": {
             "shape": ""
            }
           },
           "name": "Pahang",
           "offsetgroup": "Pahang",
           "orientation": "h",
           "showlegend": true,
           "textposition": "auto",
           "type": "bar",
           "x": [
            1568.7
           ],
           "xaxis": "x",
           "y": [
            "Pahang"
           ],
           "yaxis": "y"
          },
          {
           "alignmentgroup": "True",
           "hovertemplate": "State=%{y}<br>Year=2013<br>Population=%{x}<extra></extra>",
           "legendgroup": "Penang",
           "marker": {
            "color": "#FF6692",
            "pattern": {
             "shape": ""
            }
           },
           "name": "Penang",
           "offsetgroup": "Penang",
           "orientation": "h",
           "showlegend": true,
           "textposition": "auto",
           "type": "bar",
           "x": [
            1662.6
           ],
           "xaxis": "x",
           "y": [
            "Penang"
           ],
           "yaxis": "y"
          },
          {
           "alignmentgroup": "True",
           "hovertemplate": "State=%{y}<br>Year=2013<br>Population=%{x}<extra></extra>",
           "legendgroup": "Perak",
           "marker": {
            "color": "#B6E880",
            "pattern": {
             "shape": ""
            }
           },
           "name": "Perak",
           "offsetgroup": "Perak",
           "orientation": "h",
           "showlegend": true,
           "textposition": "auto",
           "type": "bar",
           "x": [
            2447.2
           ],
           "xaxis": "x",
           "y": [
            "Perak"
           ],
           "yaxis": "y"
          },
          {
           "alignmentgroup": "True",
           "hovertemplate": "State=%{y}<br>Year=2013<br>Population=%{x}<extra></extra>",
           "legendgroup": "Perlis",
           "marker": {
            "color": "#FF97FF",
            "pattern": {
             "shape": ""
            }
           },
           "name": "Perlis",
           "offsetgroup": "Perlis",
           "orientation": "h",
           "showlegend": true,
           "textposition": "auto",
           "type": "bar",
           "x": [
            242.1
           ],
           "xaxis": "x",
           "y": [
            "Perlis"
           ],
           "yaxis": "y"
          },
          {
           "alignmentgroup": "True",
           "hovertemplate": "State=%{y}<br>Year=2013<br>Population=%{x}<extra></extra>",
           "legendgroup": "Selangor",
           "marker": {
            "color": "#FECB52",
            "pattern": {
             "shape": ""
            }
           },
           "name": "Selangor",
           "offsetgroup": "Selangor",
           "orientation": "h",
           "showlegend": true,
           "textposition": "auto",
           "type": "bar",
           "x": [
            5904.7
           ],
           "xaxis": "x",
           "y": [
            "Selangor"
           ],
           "yaxis": "y"
          },
          {
           "alignmentgroup": "True",
           "hovertemplate": "State=%{y}<br>Year=2013<br>Population=%{x}<extra></extra>",
           "legendgroup": "Terengganu",
           "marker": {
            "color": "#636efa",
            "pattern": {
             "shape": ""
            }
           },
           "name": "Terengganu",
           "offsetgroup": "Terengganu",
           "orientation": "h",
           "showlegend": true,
           "textposition": "auto",
           "type": "bar",
           "x": [
            1113.4
           ],
           "xaxis": "x",
           "y": [
            "Terengganu"
           ],
           "yaxis": "y"
          },
          {
           "alignmentgroup": "True",
           "hovertemplate": "State=%{y}<br>Year=2013<br>Population=%{x}<extra></extra>",
           "legendgroup": "Sabah",
           "marker": {
            "color": "#EF553B",
            "pattern": {
             "shape": ""
            }
           },
           "name": "Sabah",
           "offsetgroup": "Sabah",
           "orientation": "h",
           "showlegend": true,
           "textposition": "auto",
           "type": "bar",
           "x": [
            3611.5
           ],
           "xaxis": "x",
           "y": [
            "Sabah"
           ],
           "yaxis": "y"
          },
          {
           "alignmentgroup": "True",
           "hovertemplate": "State=%{y}<br>Year=2013<br>Population=%{x}<extra></extra>",
           "legendgroup": "Sarawak",
           "marker": {
            "color": "#00cc96",
            "pattern": {
             "shape": ""
            }
           },
           "name": "Sarawak",
           "offsetgroup": "Sarawak",
           "orientation": "h",
           "showlegend": true,
           "textposition": "auto",
           "type": "bar",
           "x": [
            2642.5
           ],
           "xaxis": "x",
           "y": [
            "Sarawak"
           ],
           "yaxis": "y"
          },
          {
           "alignmentgroup": "True",
           "hovertemplate": "State=%{y}<br>Year=2013<br>Population=%{x}<extra></extra>",
           "legendgroup": "Kuala Lumpur",
           "marker": {
            "color": "#ab63fa",
            "pattern": {
             "shape": ""
            }
           },
           "name": "Kuala Lumpur",
           "offsetgroup": "Kuala Lumpur",
           "orientation": "h",
           "showlegend": true,
           "textposition": "auto",
           "type": "bar",
           "x": [
            1723.4
           ],
           "xaxis": "x",
           "y": [
            "Kuala Lumpur"
           ],
           "yaxis": "y"
          }
         ],
         "layout": {
          "annotations": [
           {
            "font": {
             "color": "fuchsia",
             "size": 50,
             "weight": "bold"
            },
            "text": "2013",
            "x": 0.98,
            "xref": "paper",
            "y": 0.5,
            "yref": "paper"
           }
          ]
         },
         "name": "2013"
        },
        {
         "data": [
          {
           "alignmentgroup": "True",
           "hovertemplate": "State=%{y}<br>Year=2014<br>Population=%{x}<extra></extra>",
           "legendgroup": "Johor",
           "marker": {
            "color": "#636efa",
            "pattern": {
             "shape": ""
            }
           },
           "name": "Johor",
           "offsetgroup": "Johor",
           "orientation": "h",
           "showlegend": true,
           "textposition": "auto",
           "type": "bar",
           "x": [
            3559.8
           ],
           "xaxis": "x",
           "y": [
            "Johor"
           ],
           "yaxis": "y"
          },
          {
           "alignmentgroup": "True",
           "hovertemplate": "State=%{y}<br>Year=2014<br>Population=%{x}<extra></extra>",
           "legendgroup": "Kedah",
           "marker": {
            "color": "#EF553B",
            "pattern": {
             "shape": ""
            }
           },
           "name": "Kedah",
           "offsetgroup": "Kedah",
           "orientation": "h",
           "showlegend": true,
           "textposition": "auto",
           "type": "bar",
           "x": [
            2062.7
           ],
           "xaxis": "x",
           "y": [
            "Kedah"
           ],
           "yaxis": "y"
          },
          {
           "alignmentgroup": "True",
           "hovertemplate": "State=%{y}<br>Year=2014<br>Population=%{x}<extra></extra>",
           "legendgroup": "Kelantan",
           "marker": {
            "color": "#00cc96",
            "pattern": {
             "shape": ""
            }
           },
           "name": "Kelantan",
           "offsetgroup": "Kelantan",
           "orientation": "h",
           "showlegend": true,
           "textposition": "auto",
           "type": "bar",
           "x": [
            1723.4
           ],
           "xaxis": "x",
           "y": [
            "Kelantan"
           ],
           "yaxis": "y"
          },
          {
           "alignmentgroup": "True",
           "hovertemplate": "State=%{y}<br>Year=2014<br>Population=%{x}<extra></extra>",
           "legendgroup": "Melaka",
           "marker": {
            "color": "#ab63fa",
            "pattern": {
             "shape": ""
            }
           },
           "name": "Melaka",
           "offsetgroup": "Melaka",
           "orientation": "h",
           "showlegend": true,
           "textposition": "auto",
           "type": "bar",
           "x": [
            871.7
           ],
           "xaxis": "x",
           "y": [
            "Melaka"
           ],
           "yaxis": "y"
          },
          {
           "alignmentgroup": "True",
           "hovertemplate": "State=%{y}<br>Year=2014<br>Population=%{x}<extra></extra>",
           "legendgroup": "Negeri Sembilan",
           "marker": {
            "color": "#FFA15A",
            "pattern": {
             "shape": ""
            }
           },
           "name": "Negeri Sembilan",
           "offsetgroup": "Negeri Sembilan",
           "orientation": "h",
           "showlegend": true,
           "textposition": "auto",
           "type": "bar",
           "x": [
            1079.6
           ],
           "xaxis": "x",
           "y": [
            "Negeri Sembilan"
           ],
           "yaxis": "y"
          },
          {
           "alignmentgroup": "True",
           "hovertemplate": "State=%{y}<br>Year=2014<br>Population=%{x}<extra></extra>",
           "legendgroup": "Pahang",
           "marker": {
            "color": "#19d3f3",
            "pattern": {
             "shape": ""
            }
           },
           "name": "Pahang",
           "offsetgroup": "Pahang",
           "orientation": "h",
           "showlegend": true,
           "textposition": "auto",
           "type": "bar",
           "x": [
            1591.7
           ],
           "xaxis": "x",
           "y": [
            "Pahang"
           ],
           "yaxis": "y"
          },
          {
           "alignmentgroup": "True",
           "hovertemplate": "State=%{y}<br>Year=2014<br>Population=%{x}<extra></extra>",
           "legendgroup": "Penang",
           "marker": {
            "color": "#FF6692",
            "pattern": {
             "shape": ""
            }
           },
           "name": "Penang",
           "offsetgroup": "Penang",
           "orientation": "h",
           "showlegend": true,
           "textposition": "auto",
           "type": "bar",
           "x": [
            1678.1
           ],
           "xaxis": "x",
           "y": [
            "Penang"
           ],
           "yaxis": "y"
          },
          {
           "alignmentgroup": "True",
           "hovertemplate": "State=%{y}<br>Year=2014<br>Population=%{x}<extra></extra>",
           "legendgroup": "Perak",
           "marker": {
            "color": "#B6E880",
            "pattern": {
             "shape": ""
            }
           },
           "name": "Perak",
           "offsetgroup": "Perak",
           "orientation": "h",
           "showlegend": true,
           "textposition": "auto",
           "type": "bar",
           "x": [
            2458.8
           ],
           "xaxis": "x",
           "y": [
            "Perak"
           ],
           "yaxis": "y"
          },
          {
           "alignmentgroup": "True",
           "hovertemplate": "State=%{y}<br>Year=2014<br>Population=%{x}<extra></extra>",
           "legendgroup": "Perlis",
           "marker": {
            "color": "#FF97FF",
            "pattern": {
             "shape": ""
            }
           },
           "name": "Perlis",
           "offsetgroup": "Perlis",
           "orientation": "h",
           "showlegend": true,
           "textposition": "auto",
           "type": "bar",
           "x": [
            245.1
           ],
           "xaxis": "x",
           "y": [
            "Perlis"
           ],
           "yaxis": "y"
          },
          {
           "alignmentgroup": "True",
           "hovertemplate": "State=%{y}<br>Year=2014<br>Population=%{x}<extra></extra>",
           "legendgroup": "Selangor",
           "marker": {
            "color": "#FECB52",
            "pattern": {
             "shape": ""
            }
           },
           "name": "Selangor",
           "offsetgroup": "Selangor",
           "orientation": "h",
           "showlegend": true,
           "textposition": "auto",
           "type": "bar",
           "x": [
            6051.3
           ],
           "xaxis": "x",
           "y": [
            "Selangor"
           ],
           "yaxis": "y"
          },
          {
           "alignmentgroup": "True",
           "hovertemplate": "State=%{y}<br>Year=2014<br>Population=%{x}<extra></extra>",
           "legendgroup": "Terengganu",
           "marker": {
            "color": "#636efa",
            "pattern": {
             "shape": ""
            }
           },
           "name": "Terengganu",
           "offsetgroup": "Terengganu",
           "orientation": "h",
           "showlegend": true,
           "textposition": "auto",
           "type": "bar",
           "x": [
            1140.4
           ],
           "xaxis": "x",
           "y": [
            "Terengganu"
           ],
           "yaxis": "y"
          },
          {
           "alignmentgroup": "True",
           "hovertemplate": "State=%{y}<br>Year=2014<br>Population=%{x}<extra></extra>",
           "legendgroup": "Sabah",
           "marker": {
            "color": "#EF553B",
            "pattern": {
             "shape": ""
            }
           },
           "name": "Sabah",
           "offsetgroup": "Sabah",
           "orientation": "h",
           "showlegend": true,
           "textposition": "auto",
           "type": "bar",
           "x": [
            3669.9
           ],
           "xaxis": "x",
           "y": [
            "Sabah"
           ],
           "yaxis": "y"
          },
          {
           "alignmentgroup": "True",
           "hovertemplate": "State=%{y}<br>Year=2014<br>Population=%{x}<extra></extra>",
           "legendgroup": "Sarawak",
           "marker": {
            "color": "#00cc96",
            "pattern": {
             "shape": ""
            }
           },
           "name": "Sarawak",
           "offsetgroup": "Sarawak",
           "orientation": "h",
           "showlegend": true,
           "textposition": "auto",
           "type": "bar",
           "x": [
            2664
           ],
           "xaxis": "x",
           "y": [
            "Sarawak"
           ],
           "yaxis": "y"
          },
          {
           "alignmentgroup": "True",
           "hovertemplate": "State=%{y}<br>Year=2014<br>Population=%{x}<extra></extra>",
           "legendgroup": "Kuala Lumpur",
           "marker": {
            "color": "#ab63fa",
            "pattern": {
             "shape": ""
            }
           },
           "name": "Kuala Lumpur",
           "offsetgroup": "Kuala Lumpur",
           "orientation": "h",
           "showlegend": true,
           "textposition": "auto",
           "type": "bar",
           "x": [
            1737.4
           ],
           "xaxis": "x",
           "y": [
            "Kuala Lumpur"
           ],
           "yaxis": "y"
          }
         ],
         "layout": {
          "annotations": [
           {
            "font": {
             "color": "fuchsia",
             "size": 50,
             "weight": "bold"
            },
            "text": "2014",
            "x": 0.98,
            "xref": "paper",
            "y": 0.5,
            "yref": "paper"
           }
          ]
         },
         "name": "2014"
        },
        {
         "data": [
          {
           "alignmentgroup": "True",
           "hovertemplate": "State=%{y}<br>Year=2015<br>Population=%{x}<extra></extra>",
           "legendgroup": "Johor",
           "marker": {
            "color": "#636efa",
            "pattern": {
             "shape": ""
            }
           },
           "name": "Johor",
           "offsetgroup": "Johor",
           "orientation": "h",
           "showlegend": true,
           "textposition": "auto",
           "type": "bar",
           "x": [
            3610.3
           ],
           "xaxis": "x",
           "y": [
            "Johor"
           ],
           "yaxis": "y"
          },
          {
           "alignmentgroup": "True",
           "hovertemplate": "State=%{y}<br>Year=2015<br>Population=%{x}<extra></extra>",
           "legendgroup": "Kedah",
           "marker": {
            "color": "#EF553B",
            "pattern": {
             "shape": ""
            }
           },
           "name": "Kedah",
           "offsetgroup": "Kedah",
           "orientation": "h",
           "showlegend": true,
           "textposition": "auto",
           "type": "bar",
           "x": [
            2096.5
           ],
           "xaxis": "x",
           "y": [
            "Kedah"
           ],
           "yaxis": "y"
          },
          {
           "alignmentgroup": "True",
           "hovertemplate": "State=%{y}<br>Year=2015<br>Population=%{x}<extra></extra>",
           "legendgroup": "Kelantan",
           "marker": {
            "color": "#00cc96",
            "pattern": {
             "shape": ""
            }
           },
           "name": "Kelantan",
           "offsetgroup": "Kelantan",
           "orientation": "h",
           "showlegend": true,
           "textposition": "auto",
           "type": "bar",
           "x": [
            1760.6
           ],
           "xaxis": "x",
           "y": [
            "Kelantan"
           ],
           "yaxis": "y"
          },
          {
           "alignmentgroup": "True",
           "hovertemplate": "State=%{y}<br>Year=2015<br>Population=%{x}<extra></extra>",
           "legendgroup": "Melaka",
           "marker": {
            "color": "#ab63fa",
            "pattern": {
             "shape": ""
            }
           },
           "name": "Melaka",
           "offsetgroup": "Melaka",
           "orientation": "h",
           "showlegend": true,
           "textposition": "auto",
           "type": "bar",
           "x": [
            889
           ],
           "xaxis": "x",
           "y": [
            "Melaka"
           ],
           "yaxis": "y"
          },
          {
           "alignmentgroup": "True",
           "hovertemplate": "State=%{y}<br>Year=2015<br>Population=%{x}<extra></extra>",
           "legendgroup": "Negeri Sembilan",
           "marker": {
            "color": "#FFA15A",
            "pattern": {
             "shape": ""
            }
           },
           "name": "Negeri Sembilan",
           "offsetgroup": "Negeri Sembilan",
           "orientation": "h",
           "showlegend": true,
           "textposition": "auto",
           "type": "bar",
           "x": [
            1088.8
           ],
           "xaxis": "x",
           "y": [
            "Negeri Sembilan"
           ],
           "yaxis": "y"
          },
          {
           "alignmentgroup": "True",
           "hovertemplate": "State=%{y}<br>Year=2015<br>Population=%{x}<extra></extra>",
           "legendgroup": "Pahang",
           "marker": {
            "color": "#19d3f3",
            "pattern": {
             "shape": ""
            }
           },
           "name": "Pahang",
           "offsetgroup": "Pahang",
           "orientation": "h",
           "showlegend": true,
           "textposition": "auto",
           "type": "bar",
           "x": [
            1607.9
           ],
           "xaxis": "x",
           "y": [
            "Pahang"
           ],
           "yaxis": "y"
          },
          {
           "alignmentgroup": "True",
           "hovertemplate": "State=%{y}<br>Year=2015<br>Population=%{x}<extra></extra>",
           "legendgroup": "Penang",
           "marker": {
            "color": "#FF6692",
            "pattern": {
             "shape": ""
            }
           },
           "name": "Penang",
           "offsetgroup": "Penang",
           "orientation": "h",
           "showlegend": true,
           "textposition": "auto",
           "type": "bar",
           "x": [
            1698.1
           ],
           "xaxis": "x",
           "y": [
            "Penang"
           ],
           "yaxis": "y"
          },
          {
           "alignmentgroup": "True",
           "hovertemplate": "State=%{y}<br>Year=2015<br>Population=%{x}<extra></extra>",
           "legendgroup": "Perak",
           "marker": {
            "color": "#B6E880",
            "pattern": {
             "shape": ""
            }
           },
           "name": "Perak",
           "offsetgroup": "Perak",
           "orientation": "h",
           "showlegend": true,
           "textposition": "auto",
           "type": "bar",
           "x": [
            2466.9
           ],
           "xaxis": "x",
           "y": [
            "Perak"
           ],
           "yaxis": "y"
          },
          {
           "alignmentgroup": "True",
           "hovertemplate": "State=%{y}<br>Year=2015<br>Population=%{x}<extra></extra>",
           "legendgroup": "Perlis",
           "marker": {
            "color": "#FF97FF",
            "pattern": {
             "shape": ""
            }
           },
           "name": "Perlis",
           "offsetgroup": "Perlis",
           "orientation": "h",
           "showlegend": true,
           "textposition": "auto",
           "type": "bar",
           "x": [
            248.5
           ],
           "xaxis": "x",
           "y": [
            "Perlis"
           ],
           "yaxis": "y"
          },
          {
           "alignmentgroup": "True",
           "hovertemplate": "State=%{y}<br>Year=2015<br>Population=%{x}<extra></extra>",
           "legendgroup": "Selangor",
           "marker": {
            "color": "#FECB52",
            "pattern": {
             "shape": ""
            }
           },
           "name": "Selangor",
           "offsetgroup": "Selangor",
           "orientation": "h",
           "showlegend": true,
           "textposition": "auto",
           "type": "bar",
           "x": [
            6178
           ],
           "xaxis": "x",
           "y": [
            "Selangor"
           ],
           "yaxis": "y"
          },
          {
           "alignmentgroup": "True",
           "hovertemplate": "State=%{y}<br>Year=2015<br>Population=%{x}<extra></extra>",
           "legendgroup": "Terengganu",
           "marker": {
            "color": "#636efa",
            "pattern": {
             "shape": ""
            }
           },
           "name": "Terengganu",
           "offsetgroup": "Terengganu",
           "orientation": "h",
           "showlegend": true,
           "textposition": "auto",
           "type": "bar",
           "x": [
            1161
           ],
           "xaxis": "x",
           "y": [
            "Terengganu"
           ],
           "yaxis": "y"
          },
          {
           "alignmentgroup": "True",
           "hovertemplate": "State=%{y}<br>Year=2015<br>Population=%{x}<extra></extra>",
           "legendgroup": "Sabah",
           "marker": {
            "color": "#EF553B",
            "pattern": {
             "shape": ""
            }
           },
           "name": "Sabah",
           "offsetgroup": "Sabah",
           "orientation": "h",
           "showlegend": true,
           "textposition": "auto",
           "type": "bar",
           "x": [
            3720.5
           ],
           "xaxis": "x",
           "y": [
            "Sabah"
           ],
           "yaxis": "y"
          },
          {
           "alignmentgroup": "True",
           "hovertemplate": "State=%{y}<br>Year=2015<br>Population=%{x}<extra></extra>",
           "legendgroup": "Sarawak",
           "marker": {
            "color": "#00cc96",
            "pattern": {
             "shape": ""
            }
           },
           "name": "Sarawak",
           "offsetgroup": "Sarawak",
           "orientation": "h",
           "showlegend": true,
           "textposition": "auto",
           "type": "bar",
           "x": [
            2701.5
           ],
           "xaxis": "x",
           "y": [
            "Sarawak"
           ],
           "yaxis": "y"
          },
          {
           "alignmentgroup": "True",
           "hovertemplate": "State=%{y}<br>Year=2015<br>Population=%{x}<extra></extra>",
           "legendgroup": "Kuala Lumpur",
           "marker": {
            "color": "#ab63fa",
            "pattern": {
             "shape": ""
            }
           },
           "name": "Kuala Lumpur",
           "offsetgroup": "Kuala Lumpur",
           "orientation": "h",
           "showlegend": true,
           "textposition": "auto",
           "type": "bar",
           "x": [
            1780.4
           ],
           "xaxis": "x",
           "y": [
            "Kuala Lumpur"
           ],
           "yaxis": "y"
          }
         ],
         "layout": {
          "annotations": [
           {
            "font": {
             "color": "fuchsia",
             "size": 50,
             "weight": "bold"
            },
            "text": "2015",
            "x": 0.98,
            "xref": "paper",
            "y": 0.5,
            "yref": "paper"
           }
          ]
         },
         "name": "2015"
        },
        {
         "data": [
          {
           "alignmentgroup": "True",
           "hovertemplate": "State=%{y}<br>Year=2016<br>Population=%{x}<extra></extra>",
           "legendgroup": "Johor",
           "marker": {
            "color": "#636efa",
            "pattern": {
             "shape": ""
            }
           },
           "name": "Johor",
           "offsetgroup": "Johor",
           "orientation": "h",
           "showlegend": true,
           "textposition": "auto",
           "type": "bar",
           "x": [
            3651.8
           ],
           "xaxis": "x",
           "y": [
            "Johor"
           ],
           "yaxis": "y"
          },
          {
           "alignmentgroup": "True",
           "hovertemplate": "State=%{y}<br>Year=2016<br>Population=%{x}<extra></extra>",
           "legendgroup": "Kedah",
           "marker": {
            "color": "#EF553B",
            "pattern": {
             "shape": ""
            }
           },
           "name": "Kedah",
           "offsetgroup": "Kedah",
           "orientation": "h",
           "showlegend": true,
           "textposition": "auto",
           "type": "bar",
           "x": [
            2119.7
           ],
           "xaxis": "x",
           "y": [
            "Kedah"
           ],
           "yaxis": "y"
          },
          {
           "alignmentgroup": "True",
           "hovertemplate": "State=%{y}<br>Year=2016<br>Population=%{x}<extra></extra>",
           "legendgroup": "Kelantan",
           "marker": {
            "color": "#00cc96",
            "pattern": {
             "shape": ""
            }
           },
           "name": "Kelantan",
           "offsetgroup": "Kelantan",
           "orientation": "h",
           "showlegend": true,
           "textposition": "auto",
           "type": "bar",
           "x": [
            1796.7
           ],
           "xaxis": "x",
           "y": [
            "Kelantan"
           ],
           "yaxis": "y"
          },
          {
           "alignmentgroup": "True",
           "hovertemplate": "State=%{y}<br>Year=2016<br>Population=%{x}<extra></extra>",
           "legendgroup": "Melaka",
           "marker": {
            "color": "#ab63fa",
            "pattern": {
             "shape": ""
            }
           },
           "name": "Melaka",
           "offsetgroup": "Melaka",
           "orientation": "h",
           "showlegend": true,
           "textposition": "auto",
           "type": "bar",
           "x": [
            901.1
           ],
           "xaxis": "x",
           "y": [
            "Melaka"
           ],
           "yaxis": "y"
          },
          {
           "alignmentgroup": "True",
           "hovertemplate": "State=%{y}<br>Year=2016<br>Population=%{x}<extra></extra>",
           "legendgroup": "Negeri Sembilan",
           "marker": {
            "color": "#FFA15A",
            "pattern": {
             "shape": ""
            }
           },
           "name": "Negeri Sembilan",
           "offsetgroup": "Negeri Sembilan",
           "orientation": "h",
           "showlegend": true,
           "textposition": "auto",
           "type": "bar",
           "x": [
            1099.3
           ],
           "xaxis": "x",
           "y": [
            "Negeri Sembilan"
           ],
           "yaxis": "y"
          },
          {
           "alignmentgroup": "True",
           "hovertemplate": "State=%{y}<br>Year=2016<br>Population=%{x}<extra></extra>",
           "legendgroup": "Pahang",
           "marker": {
            "color": "#19d3f3",
            "pattern": {
             "shape": ""
            }
           },
           "name": "Pahang",
           "offsetgroup": "Pahang",
           "orientation": "h",
           "showlegend": true,
           "textposition": "auto",
           "type": "bar",
           "x": [
            1626.7
           ],
           "xaxis": "x",
           "y": [
            "Pahang"
           ],
           "yaxis": "y"
          },
          {
           "alignmentgroup": "True",
           "hovertemplate": "State=%{y}<br>Year=2016<br>Population=%{x}<extra></extra>",
           "legendgroup": "Penang",
           "marker": {
            "color": "#FF6692",
            "pattern": {
             "shape": ""
            }
           },
           "name": "Penang",
           "offsetgroup": "Penang",
           "orientation": "h",
           "showlegend": true,
           "textposition": "auto",
           "type": "bar",
           "x": [
            1717.7
           ],
           "xaxis": "x",
           "y": [
            "Penang"
           ],
           "yaxis": "y"
          },
          {
           "alignmentgroup": "True",
           "hovertemplate": "State=%{y}<br>Year=2016<br>Population=%{x}<extra></extra>",
           "legendgroup": "Perak",
           "marker": {
            "color": "#B6E880",
            "pattern": {
             "shape": ""
            }
           },
           "name": "Perak",
           "offsetgroup": "Perak",
           "orientation": "h",
           "showlegend": true,
           "textposition": "auto",
           "type": "bar",
           "x": [
            2482.1
           ],
           "xaxis": "x",
           "y": [
            "Perak"
           ],
           "yaxis": "y"
          },
          {
           "alignmentgroup": "True",
           "hovertemplate": "State=%{y}<br>Year=2016<br>Population=%{x}<extra></extra>",
           "legendgroup": "Perlis",
           "marker": {
            "color": "#FF97FF",
            "pattern": {
             "shape": ""
            }
           },
           "name": "Perlis",
           "offsetgroup": "Perlis",
           "orientation": "h",
           "showlegend": true,
           "textposition": "auto",
           "type": "bar",
           "x": [
            251
           ],
           "xaxis": "x",
           "y": [
            "Perlis"
           ],
           "yaxis": "y"
          },
          {
           "alignmentgroup": "True",
           "hovertemplate": "State=%{y}<br>Year=2016<br>Population=%{x}<extra></extra>",
           "legendgroup": "Selangor",
           "marker": {
            "color": "#FECB52",
            "pattern": {
             "shape": ""
            }
           },
           "name": "Selangor",
           "offsetgroup": "Selangor",
           "orientation": "h",
           "showlegend": true,
           "textposition": "auto",
           "type": "bar",
           "x": [
            6291.5
           ],
           "xaxis": "x",
           "y": [
            "Selangor"
           ],
           "yaxis": "y"
          },
          {
           "alignmentgroup": "True",
           "hovertemplate": "State=%{y}<br>Year=2016<br>Population=%{x}<extra></extra>",
           "legendgroup": "Terengganu",
           "marker": {
            "color": "#636efa",
            "pattern": {
             "shape": ""
            }
           },
           "name": "Terengganu",
           "offsetgroup": "Terengganu",
           "orientation": "h",
           "showlegend": true,
           "textposition": "auto",
           "type": "bar",
           "x": [
            1183.4
           ],
           "xaxis": "x",
           "y": [
            "Terengganu"
           ],
           "yaxis": "y"
          },
          {
           "alignmentgroup": "True",
           "hovertemplate": "State=%{y}<br>Year=2016<br>Population=%{x}<extra></extra>",
           "legendgroup": "Sabah",
           "marker": {
            "color": "#EF553B",
            "pattern": {
             "shape": ""
            }
           },
           "name": "Sabah",
           "offsetgroup": "Sabah",
           "orientation": "h",
           "showlegend": true,
           "textposition": "auto",
           "type": "bar",
           "x": [
            3802.8
           ],
           "xaxis": "x",
           "y": [
            "Sabah"
           ],
           "yaxis": "y"
          },
          {
           "alignmentgroup": "True",
           "hovertemplate": "State=%{y}<br>Year=2016<br>Population=%{x}<extra></extra>",
           "legendgroup": "Sarawak",
           "marker": {
            "color": "#00cc96",
            "pattern": {
             "shape": ""
            }
           },
           "name": "Sarawak",
           "offsetgroup": "Sarawak",
           "orientation": "h",
           "showlegend": true,
           "textposition": "auto",
           "type": "bar",
           "x": [
            2738.7
           ],
           "xaxis": "x",
           "y": [
            "Sarawak"
           ],
           "yaxis": "y"
          },
          {
           "alignmentgroup": "True",
           "hovertemplate": "State=%{y}<br>Year=2016<br>Population=%{x}<extra></extra>",
           "legendgroup": "Kuala Lumpur",
           "marker": {
            "color": "#ab63fa",
            "pattern": {
             "shape": ""
            }
           },
           "name": "Kuala Lumpur",
           "offsetgroup": "Kuala Lumpur",
           "orientation": "h",
           "showlegend": true,
           "textposition": "auto",
           "type": "bar",
           "x": [
            1789.7
           ],
           "xaxis": "x",
           "y": [
            "Kuala Lumpur"
           ],
           "yaxis": "y"
          }
         ],
         "layout": {
          "annotations": [
           {
            "font": {
             "color": "fuchsia",
             "size": 50,
             "weight": "bold"
            },
            "text": "2016",
            "x": 0.98,
            "xref": "paper",
            "y": 0.5,
            "yref": "paper"
           }
          ]
         },
         "name": "2016"
        },
        {
         "data": [
          {
           "alignmentgroup": "True",
           "hovertemplate": "State=%{y}<br>Year=2017<br>Population=%{x}<extra></extra>",
           "legendgroup": "Johor",
           "marker": {
            "color": "#636efa",
            "pattern": {
             "shape": ""
            }
           },
           "name": "Johor",
           "offsetgroup": "Johor",
           "orientation": "h",
           "showlegend": true,
           "textposition": "auto",
           "type": "bar",
           "x": [
            3697
           ],
           "xaxis": "x",
           "y": [
            "Johor"
           ],
           "yaxis": "y"
          },
          {
           "alignmentgroup": "True",
           "hovertemplate": "State=%{y}<br>Year=2017<br>Population=%{x}<extra></extra>",
           "legendgroup": "Kedah",
           "marker": {
            "color": "#EF553B",
            "pattern": {
             "shape": ""
            }
           },
           "name": "Kedah",
           "offsetgroup": "Kedah",
           "orientation": "h",
           "showlegend": true,
           "textposition": "auto",
           "type": "bar",
           "x": [
            2143.9
           ],
           "xaxis": "x",
           "y": [
            "Kedah"
           ],
           "yaxis": "y"
          },
          {
           "alignmentgroup": "True",
           "hovertemplate": "State=%{y}<br>Year=2017<br>Population=%{x}<extra></extra>",
           "legendgroup": "Kelantan",
           "marker": {
            "color": "#00cc96",
            "pattern": {
             "shape": ""
            }
           },
           "name": "Kelantan",
           "offsetgroup": "Kelantan",
           "orientation": "h",
           "showlegend": true,
           "textposition": "auto",
           "type": "bar",
           "x": [
            1829
           ],
           "xaxis": "x",
           "y": [
            "Kelantan"
           ],
           "yaxis": "y"
          },
          {
           "alignmentgroup": "True",
           "hovertemplate": "State=%{y}<br>Year=2017<br>Population=%{x}<extra></extra>",
           "legendgroup": "Melaka",
           "marker": {
            "color": "#ab63fa",
            "pattern": {
             "shape": ""
            }
           },
           "name": "Melaka",
           "offsetgroup": "Melaka",
           "orientation": "h",
           "showlegend": true,
           "textposition": "auto",
           "type": "bar",
           "x": [
            913.1
           ],
           "xaxis": "x",
           "y": [
            "Melaka"
           ],
           "yaxis": "y"
          },
          {
           "alignmentgroup": "True",
           "hovertemplate": "State=%{y}<br>Year=2017<br>Population=%{x}<extra></extra>",
           "legendgroup": "Negeri Sembilan",
           "marker": {
            "color": "#FFA15A",
            "pattern": {
             "shape": ""
            }
           },
           "name": "Negeri Sembilan",
           "offsetgroup": "Negeri Sembilan",
           "orientation": "h",
           "showlegend": true,
           "textposition": "auto",
           "type": "bar",
           "x": [
            1114
           ],
           "xaxis": "x",
           "y": [
            "Negeri Sembilan"
           ],
           "yaxis": "y"
          },
          {
           "alignmentgroup": "True",
           "hovertemplate": "State=%{y}<br>Year=2017<br>Population=%{x}<extra></extra>",
           "legendgroup": "Pahang",
           "marker": {
            "color": "#19d3f3",
            "pattern": {
             "shape": ""
            }
           },
           "name": "Pahang",
           "offsetgroup": "Pahang",
           "orientation": "h",
           "showlegend": true,
           "textposition": "auto",
           "type": "bar",
           "x": [
            1647
           ],
           "xaxis": "x",
           "y": [
            "Pahang"
           ],
           "yaxis": "y"
          },
          {
           "alignmentgroup": "True",
           "hovertemplate": "State=%{y}<br>Year=2017<br>Population=%{x}<extra></extra>",
           "legendgroup": "Penang",
           "marker": {
            "color": "#FF6692",
            "pattern": {
             "shape": ""
            }
           },
           "name": "Penang",
           "offsetgroup": "Penang",
           "orientation": "h",
           "showlegend": true,
           "textposition": "auto",
           "type": "bar",
           "x": [
            1744.1
           ],
           "xaxis": "x",
           "y": [
            "Penang"
           ],
           "yaxis": "y"
          },
          {
           "alignmentgroup": "True",
           "hovertemplate": "State=%{y}<br>Year=2017<br>Population=%{x}<extra></extra>",
           "legendgroup": "Perak",
           "marker": {
            "color": "#B6E880",
            "pattern": {
             "shape": ""
            }
           },
           "name": "Perak",
           "offsetgroup": "Perak",
           "orientation": "h",
           "showlegend": true,
           "textposition": "auto",
           "type": "bar",
           "x": [
            2493.2
           ],
           "xaxis": "x",
           "y": [
            "Perak"
           ],
           "yaxis": "y"
          },
          {
           "alignmentgroup": "True",
           "hovertemplate": "State=%{y}<br>Year=2017<br>Population=%{x}<extra></extra>",
           "legendgroup": "Perlis",
           "marker": {
            "color": "#FF97FF",
            "pattern": {
             "shape": ""
            }
           },
           "name": "Perlis",
           "offsetgroup": "Perlis",
           "orientation": "h",
           "showlegend": true,
           "textposition": "auto",
           "type": "bar",
           "x": [
            252
           ],
           "xaxis": "x",
           "y": [
            "Perlis"
           ],
           "yaxis": "y"
          },
          {
           "alignmentgroup": "True",
           "hovertemplate": "State=%{y}<br>Year=2017<br>Population=%{x}<extra></extra>",
           "legendgroup": "Selangor",
           "marker": {
            "color": "#FECB52",
            "pattern": {
             "shape": ""
            }
           },
           "name": "Selangor",
           "offsetgroup": "Selangor",
           "orientation": "h",
           "showlegend": true,
           "textposition": "auto",
           "type": "bar",
           "x": [
            6380.7
           ],
           "xaxis": "x",
           "y": [
            "Selangor"
           ],
           "yaxis": "y"
          },
          {
           "alignmentgroup": "True",
           "hovertemplate": "State=%{y}<br>Year=2017<br>Population=%{x}<extra></extra>",
           "legendgroup": "Terengganu",
           "marker": {
            "color": "#636efa",
            "pattern": {
             "shape": ""
            }
           },
           "name": "Terengganu",
           "offsetgroup": "Terengganu",
           "orientation": "h",
           "showlegend": true,
           "textposition": "auto",
           "type": "bar",
           "x": [
            1208
           ],
           "xaxis": "x",
           "y": [
            "Terengganu"
           ],
           "yaxis": "y"
          },
          {
           "alignmentgroup": "True",
           "hovertemplate": "State=%{y}<br>Year=2017<br>Population=%{x}<extra></extra>",
           "legendgroup": "Sabah",
           "marker": {
            "color": "#EF553B",
            "pattern": {
             "shape": ""
            }
           },
           "name": "Sabah",
           "offsetgroup": "Sabah",
           "orientation": "h",
           "showlegend": true,
           "textposition": "auto",
           "type": "bar",
           "x": [
            3855.9
           ],
           "xaxis": "x",
           "y": [
            "Sabah"
           ],
           "yaxis": "y"
          },
          {
           "alignmentgroup": "True",
           "hovertemplate": "State=%{y}<br>Year=2017<br>Population=%{x}<extra></extra>",
           "legendgroup": "Sarawak",
           "marker": {
            "color": "#00cc96",
            "pattern": {
             "shape": ""
            }
           },
           "name": "Sarawak",
           "offsetgroup": "Sarawak",
           "orientation": "h",
           "showlegend": true,
           "textposition": "auto",
           "type": "bar",
           "x": [
            2766.3
           ],
           "xaxis": "x",
           "y": [
            "Sarawak"
           ],
           "yaxis": "y"
          },
          {
           "alignmentgroup": "True",
           "hovertemplate": "State=%{y}<br>Year=2017<br>Population=%{x}<extra></extra>",
           "legendgroup": "Kuala Lumpur",
           "marker": {
            "color": "#ab63fa",
            "pattern": {
             "shape": ""
            }
           },
           "name": "Kuala Lumpur",
           "offsetgroup": "Kuala Lumpur",
           "orientation": "h",
           "showlegend": true,
           "textposition": "auto",
           "type": "bar",
           "x": [
            1793.2
           ],
           "xaxis": "x",
           "y": [
            "Kuala Lumpur"
           ],
           "yaxis": "y"
          }
         ],
         "layout": {
          "annotations": [
           {
            "font": {
             "color": "fuchsia",
             "size": 50,
             "weight": "bold"
            },
            "text": "2017",
            "x": 0.98,
            "xref": "paper",
            "y": 0.5,
            "yref": "paper"
           }
          ]
         },
         "name": "2017"
        },
        {
         "data": [
          {
           "alignmentgroup": "True",
           "hovertemplate": "State=%{y}<br>Year=2018<br>Population=%{x}<extra></extra>",
           "legendgroup": "Johor",
           "marker": {
            "color": "#636efa",
            "pattern": {
             "shape": ""
            }
           },
           "name": "Johor",
           "offsetgroup": "Johor",
           "orientation": "h",
           "showlegend": true,
           "textposition": "auto",
           "type": "bar",
           "x": [
            3749.4
           ],
           "xaxis": "x",
           "y": [
            "Johor"
           ],
           "yaxis": "y"
          },
          {
           "alignmentgroup": "True",
           "hovertemplate": "State=%{y}<br>Year=2018<br>Population=%{x}<extra></extra>",
           "legendgroup": "Kedah",
           "marker": {
            "color": "#EF553B",
            "pattern": {
             "shape": ""
            }
           },
           "name": "Kedah",
           "offsetgroup": "Kedah",
           "orientation": "h",
           "showlegend": true,
           "textposition": "auto",
           "type": "bar",
           "x": [
            2163
           ],
           "xaxis": "x",
           "y": [
            "Kedah"
           ],
           "yaxis": "y"
          },
          {
           "alignmentgroup": "True",
           "hovertemplate": "State=%{y}<br>Year=2018<br>Population=%{x}<extra></extra>",
           "legendgroup": "Kelantan",
           "marker": {
            "color": "#00cc96",
            "pattern": {
             "shape": ""
            }
           },
           "name": "Kelantan",
           "offsetgroup": "Kelantan",
           "orientation": "h",
           "showlegend": true,
           "textposition": "auto",
           "type": "bar",
           "x": [
            1860.5
           ],
           "xaxis": "x",
           "y": [
            "Kelantan"
           ],
           "yaxis": "y"
          },
          {
           "alignmentgroup": "True",
           "hovertemplate": "State=%{y}<br>Year=2018<br>Population=%{x}<extra></extra>",
           "legendgroup": "Melaka",
           "marker": {
            "color": "#ab63fa",
            "pattern": {
             "shape": ""
            }
           },
           "name": "Melaka",
           "offsetgroup": "Melaka",
           "orientation": "h",
           "showlegend": true,
           "textposition": "auto",
           "type": "bar",
           "x": [
            922.4
           ],
           "xaxis": "x",
           "y": [
            "Melaka"
           ],
           "yaxis": "y"
          },
          {
           "alignmentgroup": "True",
           "hovertemplate": "State=%{y}<br>Year=2018<br>Population=%{x}<extra></extra>",
           "legendgroup": "Negeri Sembilan",
           "marker": {
            "color": "#FFA15A",
            "pattern": {
             "shape": ""
            }
           },
           "name": "Negeri Sembilan",
           "offsetgroup": "Negeri Sembilan",
           "orientation": "h",
           "showlegend": true,
           "textposition": "auto",
           "type": "bar",
           "x": [
            1122.9
           ],
           "xaxis": "x",
           "y": [
            "Negeri Sembilan"
           ],
           "yaxis": "y"
          },
          {
           "alignmentgroup": "True",
           "hovertemplate": "State=%{y}<br>Year=2018<br>Population=%{x}<extra></extra>",
           "legendgroup": "Pahang",
           "marker": {
            "color": "#19d3f3",
            "pattern": {
             "shape": ""
            }
           },
           "name": "Pahang",
           "offsetgroup": "Pahang",
           "orientation": "h",
           "showlegend": true,
           "textposition": "auto",
           "type": "bar",
           "x": [
            1664.7
           ],
           "xaxis": "x",
           "y": [
            "Pahang"
           ],
           "yaxis": "y"
          },
          {
           "alignmentgroup": "True",
           "hovertemplate": "State=%{y}<br>Year=2018<br>Population=%{x}<extra></extra>",
           "legendgroup": "Penang",
           "marker": {
            "color": "#FF6692",
            "pattern": {
             "shape": ""
            }
           },
           "name": "Penang",
           "offsetgroup": "Penang",
           "orientation": "h",
           "showlegend": true,
           "textposition": "auto",
           "type": "bar",
           "x": [
            1762.8
           ],
           "xaxis": "x",
           "y": [
            "Penang"
           ],
           "yaxis": "y"
          },
          {
           "alignmentgroup": "True",
           "hovertemplate": "State=%{y}<br>Year=2018<br>Population=%{x}<extra></extra>",
           "legendgroup": "Perak",
           "marker": {
            "color": "#B6E880",
            "pattern": {
             "shape": ""
            }
           },
           "name": "Perak",
           "offsetgroup": "Perak",
           "orientation": "h",
           "showlegend": true,
           "textposition": "auto",
           "type": "bar",
           "x": [
            2503.5
           ],
           "xaxis": "x",
           "y": [
            "Perak"
           ],
           "yaxis": "y"
          },
          {
           "alignmentgroup": "True",
           "hovertemplate": "State=%{y}<br>Year=2018<br>Population=%{x}<extra></extra>",
           "legendgroup": "Perlis",
           "marker": {
            "color": "#FF97FF",
            "pattern": {
             "shape": ""
            }
           },
           "name": "Perlis",
           "offsetgroup": "Perlis",
           "orientation": "h",
           "showlegend": true,
           "textposition": "auto",
           "type": "bar",
           "x": [
            253.5
           ],
           "xaxis": "x",
           "y": [
            "Perlis"
           ],
           "yaxis": "y"
          },
          {
           "alignmentgroup": "True",
           "hovertemplate": "State=%{y}<br>Year=2018<br>Population=%{x}<extra></extra>",
           "legendgroup": "Selangor",
           "marker": {
            "color": "#FECB52",
            "pattern": {
             "shape": ""
            }
           },
           "name": "Selangor",
           "offsetgroup": "Selangor",
           "orientation": "h",
           "showlegend": true,
           "textposition": "auto",
           "type": "bar",
           "x": [
            6475
           ],
           "xaxis": "x",
           "y": [
            "Selangor"
           ],
           "yaxis": "y"
          },
          {
           "alignmentgroup": "True",
           "hovertemplate": "State=%{y}<br>Year=2018<br>Population=%{x}<extra></extra>",
           "legendgroup": "Terengganu",
           "marker": {
            "color": "#636efa",
            "pattern": {
             "shape": ""
            }
           },
           "name": "Terengganu",
           "offsetgroup": "Terengganu",
           "orientation": "h",
           "showlegend": true,
           "textposition": "auto",
           "type": "bar",
           "x": [
            1228.3
           ],
           "xaxis": "x",
           "y": [
            "Terengganu"
           ],
           "yaxis": "y"
          },
          {
           "alignmentgroup": "True",
           "hovertemplate": "State=%{y}<br>Year=2018<br>Population=%{x}<extra></extra>",
           "legendgroup": "Sabah",
           "marker": {
            "color": "#EF553B",
            "pattern": {
             "shape": ""
            }
           },
           "name": "Sabah",
           "offsetgroup": "Sabah",
           "orientation": "h",
           "showlegend": true,
           "textposition": "auto",
           "type": "bar",
           "x": [
            3898.4
           ],
           "xaxis": "x",
           "y": [
            "Sabah"
           ],
           "yaxis": "y"
          },
          {
           "alignmentgroup": "True",
           "hovertemplate": "State=%{y}<br>Year=2018<br>Population=%{x}<extra></extra>",
           "legendgroup": "Sarawak",
           "marker": {
            "color": "#00cc96",
            "pattern": {
             "shape": ""
            }
           },
           "name": "Sarawak",
           "offsetgroup": "Sarawak",
           "orientation": "h",
           "showlegend": true,
           "textposition": "auto",
           "type": "bar",
           "x": [
            2791.7
           ],
           "xaxis": "x",
           "y": [
            "Sarawak"
           ],
           "yaxis": "y"
          },
          {
           "alignmentgroup": "True",
           "hovertemplate": "State=%{y}<br>Year=2018<br>Population=%{x}<extra></extra>",
           "legendgroup": "Kuala Lumpur",
           "marker": {
            "color": "#ab63fa",
            "pattern": {
             "shape": ""
            }
           },
           "name": "Kuala Lumpur",
           "offsetgroup": "Kuala Lumpur",
           "orientation": "h",
           "showlegend": true,
           "textposition": "auto",
           "type": "bar",
           "x": [
            1790
           ],
           "xaxis": "x",
           "y": [
            "Kuala Lumpur"
           ],
           "yaxis": "y"
          }
         ],
         "layout": {
          "annotations": [
           {
            "font": {
             "color": "fuchsia",
             "size": 50,
             "weight": "bold"
            },
            "text": "2018",
            "x": 0.98,
            "xref": "paper",
            "y": 0.5,
            "yref": "paper"
           }
          ]
         },
         "name": "2018"
        },
        {
         "data": [
          {
           "alignmentgroup": "True",
           "hovertemplate": "State=%{y}<br>Year=2019<br>Population=%{x}<extra></extra>",
           "legendgroup": "Johor",
           "marker": {
            "color": "#636efa",
            "pattern": {
             "shape": ""
            }
           },
           "name": "Johor",
           "offsetgroup": "Johor",
           "orientation": "h",
           "showlegend": true,
           "textposition": "auto",
           "type": "bar",
           "x": [
            3761.2
           ],
           "xaxis": "x",
           "y": [
            "Johor"
           ],
           "yaxis": "y"
          },
          {
           "alignmentgroup": "True",
           "hovertemplate": "State=%{y}<br>Year=2019<br>Population=%{x}<extra></extra>",
           "legendgroup": "Kedah",
           "marker": {
            "color": "#EF553B",
            "pattern": {
             "shape": ""
            }
           },
           "name": "Kedah",
           "offsetgroup": "Kedah",
           "orientation": "h",
           "showlegend": true,
           "textposition": "auto",
           "type": "bar",
           "x": [
            2173.7
           ],
           "xaxis": "x",
           "y": [
            "Kedah"
           ],
           "yaxis": "y"
          },
          {
           "alignmentgroup": "True",
           "hovertemplate": "State=%{y}<br>Year=2019<br>Population=%{x}<extra></extra>",
           "legendgroup": "Kelantan",
           "marker": {
            "color": "#00cc96",
            "pattern": {
             "shape": ""
            }
           },
           "name": "Kelantan",
           "offsetgroup": "Kelantan",
           "orientation": "h",
           "showlegend": true,
           "textposition": "auto",
           "type": "bar",
           "x": [
            1883.8
           ],
           "xaxis": "x",
           "y": [
            "Kelantan"
           ],
           "yaxis": "y"
          },
          {
           "alignmentgroup": "True",
           "hovertemplate": "State=%{y}<br>Year=2019<br>Population=%{x}<extra></extra>",
           "legendgroup": "Melaka",
           "marker": {
            "color": "#ab63fa",
            "pattern": {
             "shape": ""
            }
           },
           "name": "Melaka",
           "offsetgroup": "Melaka",
           "orientation": "h",
           "showlegend": true,
           "textposition": "auto",
           "type": "bar",
           "x": [
            928.4
           ],
           "xaxis": "x",
           "y": [
            "Melaka"
           ],
           "yaxis": "y"
          },
          {
           "alignmentgroup": "True",
           "hovertemplate": "State=%{y}<br>Year=2019<br>Population=%{x}<extra></extra>",
           "legendgroup": "Negeri Sembilan",
           "marker": {
            "color": "#FFA15A",
            "pattern": {
             "shape": ""
            }
           },
           "name": "Negeri Sembilan",
           "offsetgroup": "Negeri Sembilan",
           "orientation": "h",
           "showlegend": true,
           "textposition": "auto",
           "type": "bar",
           "x": [
            1126.2
           ],
           "xaxis": "x",
           "y": [
            "Negeri Sembilan"
           ],
           "yaxis": "y"
          },
          {
           "alignmentgroup": "True",
           "hovertemplate": "State=%{y}<br>Year=2019<br>Population=%{x}<extra></extra>",
           "legendgroup": "Pahang",
           "marker": {
            "color": "#19d3f3",
            "pattern": {
             "shape": ""
            }
           },
           "name": "Pahang",
           "offsetgroup": "Pahang",
           "orientation": "h",
           "showlegend": true,
           "textposition": "auto",
           "type": "bar",
           "x": [
            1671.4
           ],
           "xaxis": "x",
           "y": [
            "Pahang"
           ],
           "yaxis": "y"
          },
          {
           "alignmentgroup": "True",
           "hovertemplate": "State=%{y}<br>Year=2019<br>Population=%{x}<extra></extra>",
           "legendgroup": "Penang",
           "marker": {
            "color": "#FF6692",
            "pattern": {
             "shape": ""
            }
           },
           "name": "Penang",
           "offsetgroup": "Penang",
           "orientation": "h",
           "showlegend": true,
           "textposition": "auto",
           "type": "bar",
           "x": [
            1768.8
           ],
           "xaxis": "x",
           "y": [
            "Penang"
           ],
           "yaxis": "y"
          },
          {
           "alignmentgroup": "True",
           "hovertemplate": "State=%{y}<br>Year=2019<br>Population=%{x}<extra></extra>",
           "legendgroup": "Perak",
           "marker": {
            "color": "#B6E880",
            "pattern": {
             "shape": ""
            }
           },
           "name": "Perak",
           "offsetgroup": "Perak",
           "orientation": "h",
           "showlegend": true,
           "textposition": "auto",
           "type": "bar",
           "x": [
            2508.8
           ],
           "xaxis": "x",
           "y": [
            "Perak"
           ],
           "yaxis": "y"
          },
          {
           "alignmentgroup": "True",
           "hovertemplate": "State=%{y}<br>Year=2019<br>Population=%{x}<extra></extra>",
           "legendgroup": "Perlis",
           "marker": {
            "color": "#FF97FF",
            "pattern": {
             "shape": ""
            }
           },
           "name": "Perlis",
           "offsetgroup": "Perlis",
           "orientation": "h",
           "showlegend": true,
           "textposition": "auto",
           "type": "bar",
           "x": [
            254
           ],
           "xaxis": "x",
           "y": [
            "Perlis"
           ],
           "yaxis": "y"
          },
          {
           "alignmentgroup": "True",
           "hovertemplate": "State=%{y}<br>Year=2019<br>Population=%{x}<extra></extra>",
           "legendgroup": "Selangor",
           "marker": {
            "color": "#FECB52",
            "pattern": {
             "shape": ""
            }
           },
           "name": "Selangor",
           "offsetgroup": "Selangor",
           "orientation": "h",
           "showlegend": true,
           "textposition": "auto",
           "type": "bar",
           "x": [
            6506.1
           ],
           "xaxis": "x",
           "y": [
            "Selangor"
           ],
           "yaxis": "y"
          },
          {
           "alignmentgroup": "True",
           "hovertemplate": "State=%{y}<br>Year=2019<br>Population=%{x}<extra></extra>",
           "legendgroup": "Terengganu",
           "marker": {
            "color": "#636efa",
            "pattern": {
             "shape": ""
            }
           },
           "name": "Terengganu",
           "offsetgroup": "Terengganu",
           "orientation": "h",
           "showlegend": true,
           "textposition": "auto",
           "type": "bar",
           "x": [
            1244.5
           ],
           "xaxis": "x",
           "y": [
            "Terengganu"
           ],
           "yaxis": "y"
          },
          {
           "alignmentgroup": "True",
           "hovertemplate": "State=%{y}<br>Year=2019<br>Population=%{x}<extra></extra>",
           "legendgroup": "Sabah",
           "marker": {
            "color": "#EF553B",
            "pattern": {
             "shape": ""
            }
           },
           "name": "Sabah",
           "offsetgroup": "Sabah",
           "orientation": "h",
           "showlegend": true,
           "textposition": "auto",
           "type": "bar",
           "x": [
            3904.4
           ],
           "xaxis": "x",
           "y": [
            "Sabah"
           ],
           "yaxis": "y"
          },
          {
           "alignmentgroup": "True",
           "hovertemplate": "State=%{y}<br>Year=2019<br>Population=%{x}<extra></extra>",
           "legendgroup": "Sarawak",
           "marker": {
            "color": "#00cc96",
            "pattern": {
             "shape": ""
            }
           },
           "name": "Sarawak",
           "offsetgroup": "Sarawak",
           "orientation": "h",
           "showlegend": true,
           "textposition": "auto",
           "type": "bar",
           "x": [
            2806
           ],
           "xaxis": "x",
           "y": [
            "Sarawak"
           ],
           "yaxis": "y"
          },
          {
           "alignmentgroup": "True",
           "hovertemplate": "State=%{y}<br>Year=2019<br>Population=%{x}<extra></extra>",
           "legendgroup": "Kuala Lumpur",
           "marker": {
            "color": "#ab63fa",
            "pattern": {
             "shape": ""
            }
           },
           "name": "Kuala Lumpur",
           "offsetgroup": "Kuala Lumpur",
           "orientation": "h",
           "showlegend": true,
           "textposition": "auto",
           "type": "bar",
           "x": [
            1782.5
           ],
           "xaxis": "x",
           "y": [
            "Kuala Lumpur"
           ],
           "yaxis": "y"
          }
         ],
         "layout": {
          "annotations": [
           {
            "font": {
             "color": "fuchsia",
             "size": 50,
             "weight": "bold"
            },
            "text": "2019",
            "x": 0.98,
            "xref": "paper",
            "y": 0.5,
            "yref": "paper"
           }
          ]
         },
         "name": "2019"
        },
        {
         "data": [
          {
           "alignmentgroup": "True",
           "hovertemplate": "State=%{y}<br>Year=2020<br>Population=%{x}<extra></extra>",
           "legendgroup": "Johor",
           "marker": {
            "color": "#636efa",
            "pattern": {
             "shape": ""
            }
           },
           "name": "Johor",
           "offsetgroup": "Johor",
           "orientation": "h",
           "showlegend": true,
           "textposition": "auto",
           "type": "bar",
           "x": [
            4009.7
           ],
           "xaxis": "x",
           "y": [
            "Johor"
           ],
           "yaxis": "y"
          },
          {
           "alignmentgroup": "True",
           "hovertemplate": "State=%{y}<br>Year=2020<br>Population=%{x}<extra></extra>",
           "legendgroup": "Kedah",
           "marker": {
            "color": "#EF553B",
            "pattern": {
             "shape": ""
            }
           },
           "name": "Kedah",
           "offsetgroup": "Kedah",
           "orientation": "h",
           "showlegend": true,
           "textposition": "auto",
           "type": "bar",
           "x": [
            2131.4
           ],
           "xaxis": "x",
           "y": [
            "Kedah"
           ],
           "yaxis": "y"
          },
          {
           "alignmentgroup": "True",
           "hovertemplate": "State=%{y}<br>Year=2020<br>Population=%{x}<extra></extra>",
           "legendgroup": "Kelantan",
           "marker": {
            "color": "#00cc96",
            "pattern": {
             "shape": ""
            }
           },
           "name": "Kelantan",
           "offsetgroup": "Kelantan",
           "orientation": "h",
           "showlegend": true,
           "textposition": "auto",
           "type": "bar",
           "x": [
            1792.5
           ],
           "xaxis": "x",
           "y": [
            "Kelantan"
           ],
           "yaxis": "y"
          },
          {
           "alignmentgroup": "True",
           "hovertemplate": "State=%{y}<br>Year=2020<br>Population=%{x}<extra></extra>",
           "legendgroup": "Melaka",
           "marker": {
            "color": "#ab63fa",
            "pattern": {
             "shape": ""
            }
           },
           "name": "Melaka",
           "offsetgroup": "Melaka",
           "orientation": "h",
           "showlegend": true,
           "textposition": "auto",
           "type": "bar",
           "x": [
            998.4
           ],
           "xaxis": "x",
           "y": [
            "Melaka"
           ],
           "yaxis": "y"
          },
          {
           "alignmentgroup": "True",
           "hovertemplate": "State=%{y}<br>Year=2020<br>Population=%{x}<extra></extra>",
           "legendgroup": "Negeri Sembilan",
           "marker": {
            "color": "#FFA15A",
            "pattern": {
             "shape": ""
            }
           },
           "name": "Negeri Sembilan",
           "offsetgroup": "Negeri Sembilan",
           "orientation": "h",
           "showlegend": true,
           "textposition": "auto",
           "type": "bar",
           "x": [
            1200
           ],
           "xaxis": "x",
           "y": [
            "Negeri Sembilan"
           ],
           "yaxis": "y"
          },
          {
           "alignmentgroup": "True",
           "hovertemplate": "State=%{y}<br>Year=2020<br>Population=%{x}<extra></extra>",
           "legendgroup": "Pahang",
           "marker": {
            "color": "#19d3f3",
            "pattern": {
             "shape": ""
            }
           },
           "name": "Pahang",
           "offsetgroup": "Pahang",
           "orientation": "h",
           "showlegend": true,
           "textposition": "auto",
           "type": "bar",
           "x": [
            1591.3
           ],
           "xaxis": "x",
           "y": [
            "Pahang"
           ],
           "yaxis": "y"
          },
          {
           "alignmentgroup": "True",
           "hovertemplate": "State=%{y}<br>Year=2020<br>Population=%{x}<extra></extra>",
           "legendgroup": "Penang",
           "marker": {
            "color": "#FF6692",
            "pattern": {
             "shape": ""
            }
           },
           "name": "Penang",
           "offsetgroup": "Penang",
           "orientation": "h",
           "showlegend": true,
           "textposition": "auto",
           "type": "bar",
           "x": [
            1740.4
           ],
           "xaxis": "x",
           "y": [
            "Penang"
           ],
           "yaxis": "y"
          },
          {
           "alignmentgroup": "True",
           "hovertemplate": "State=%{y}<br>Year=2020<br>Population=%{x}<extra></extra>",
           "legendgroup": "Perak",
           "marker": {
            "color": "#B6E880",
            "pattern": {
             "shape": ""
            }
           },
           "name": "Perak",
           "offsetgroup": "Perak",
           "orientation": "h",
           "showlegend": true,
           "textposition": "auto",
           "type": "bar",
           "x": [
            2496
           ],
           "xaxis": "x",
           "y": [
            "Perak"
           ],
           "yaxis": "y"
          },
          {
           "alignmentgroup": "True",
           "hovertemplate": "State=%{y}<br>Year=2020<br>Population=%{x}<extra></extra>",
           "legendgroup": "Perlis",
           "marker": {
            "color": "#FF97FF",
            "pattern": {
             "shape": ""
            }
           },
           "name": "Perlis",
           "offsetgroup": "Perlis",
           "orientation": "h",
           "showlegend": true,
           "textposition": "auto",
           "type": "bar",
           "x": [
            284.9
           ],
           "xaxis": "x",
           "y": [
            "Perlis"
           ],
           "yaxis": "y"
          },
          {
           "alignmentgroup": "True",
           "hovertemplate": "State=%{y}<br>Year=2020<br>Population=%{x}<extra></extra>",
           "legendgroup": "Selangor",
           "marker": {
            "color": "#FECB52",
            "pattern": {
             "shape": ""
            }
           },
           "name": "Selangor",
           "offsetgroup": "Selangor",
           "orientation": "h",
           "showlegend": true,
           "textposition": "auto",
           "type": "bar",
           "x": [
            6994.4
           ],
           "xaxis": "x",
           "y": [
            "Selangor"
           ],
           "yaxis": "y"
          },
          {
           "alignmentgroup": "True",
           "hovertemplate": "State=%{y}<br>Year=2020<br>Population=%{x}<extra></extra>",
           "legendgroup": "Terengganu",
           "marker": {
            "color": "#636efa",
            "pattern": {
             "shape": ""
            }
           },
           "name": "Terengganu",
           "offsetgroup": "Terengganu",
           "orientation": "h",
           "showlegend": true,
           "textposition": "auto",
           "type": "bar",
           "x": [
            1149.4
           ],
           "xaxis": "x",
           "y": [
            "Terengganu"
           ],
           "yaxis": "y"
          },
          {
           "alignmentgroup": "True",
           "hovertemplate": "State=%{y}<br>Year=2020<br>Population=%{x}<extra></extra>",
           "legendgroup": "Sabah",
           "marker": {
            "color": "#EF553B",
            "pattern": {
             "shape": ""
            }
           },
           "name": "Sabah",
           "offsetgroup": "Sabah",
           "orientation": "h",
           "showlegend": true,
           "textposition": "auto",
           "type": "bar",
           "x": [
            3418.8
           ],
           "xaxis": "x",
           "y": [
            "Sabah"
           ],
           "yaxis": "y"
          },
          {
           "alignmentgroup": "True",
           "hovertemplate": "State=%{y}<br>Year=2020<br>Population=%{x}<extra></extra>",
           "legendgroup": "Sarawak",
           "marker": {
            "color": "#00cc96",
            "pattern": {
             "shape": ""
            }
           },
           "name": "Sarawak",
           "offsetgroup": "Sarawak",
           "orientation": "h",
           "showlegend": true,
           "textposition": "auto",
           "type": "bar",
           "x": [
            2453.7
           ],
           "xaxis": "x",
           "y": [
            "Sarawak"
           ],
           "yaxis": "y"
          },
          {
           "alignmentgroup": "True",
           "hovertemplate": "State=%{y}<br>Year=2020<br>Population=%{x}<extra></extra>",
           "legendgroup": "Kuala Lumpur",
           "marker": {
            "color": "#ab63fa",
            "pattern": {
             "shape": ""
            }
           },
           "name": "Kuala Lumpur",
           "offsetgroup": "Kuala Lumpur",
           "orientation": "h",
           "showlegend": true,
           "textposition": "auto",
           "type": "bar",
           "x": [
            1982.1
           ],
           "xaxis": "x",
           "y": [
            "Kuala Lumpur"
           ],
           "yaxis": "y"
          }
         ],
         "layout": {
          "annotations": [
           {
            "font": {
             "color": "fuchsia",
             "size": 50,
             "weight": "bold"
            },
            "text": "2020",
            "x": 0.98,
            "xref": "paper",
            "y": 0.5,
            "yref": "paper"
           }
          ]
         },
         "name": "2020"
        }
       ],
       "layout": {
        "annotations": [
         {
          "font": {
           "color": "fuchsia",
           "size": 50,
           "weight": "bold"
          },
          "text": "Year",
          "x": 0.98,
          "xref": "paper",
          "y": 0.5,
          "yref": "paper"
         }
        ],
        "barmode": "relative",
        "height": 600,
        "legend": {
         "title": {
          "text": "State"
         },
         "tracegroupgap": 0
        },
        "margin": {
         "b": 50,
         "l": 50,
         "r": 50,
         "t": 100
        },
        "showlegend": false,
        "sliders": [
         {
          "active": 0,
          "currentvalue": {
           "prefix": "Year="
          },
          "len": 0.9,
          "pad": {
           "b": 10,
           "t": 60
          },
          "steps": [
           {
            "args": [
             [
              "1980"
             ],
             {
              "frame": {
               "duration": 0,
               "redraw": true
              },
              "fromcurrent": true,
              "mode": "immediate",
              "transition": {
               "duration": 0,
               "easing": "linear"
              }
             }
            ],
            "label": "1980",
            "method": "animate"
           },
           {
            "args": [
             [
              "1981"
             ],
             {
              "frame": {
               "duration": 0,
               "redraw": true
              },
              "fromcurrent": true,
              "mode": "immediate",
              "transition": {
               "duration": 0,
               "easing": "linear"
              }
             }
            ],
            "label": "1981",
            "method": "animate"
           },
           {
            "args": [
             [
              "1982"
             ],
             {
              "frame": {
               "duration": 0,
               "redraw": true
              },
              "fromcurrent": true,
              "mode": "immediate",
              "transition": {
               "duration": 0,
               "easing": "linear"
              }
             }
            ],
            "label": "1982",
            "method": "animate"
           },
           {
            "args": [
             [
              "1983"
             ],
             {
              "frame": {
               "duration": 0,
               "redraw": true
              },
              "fromcurrent": true,
              "mode": "immediate",
              "transition": {
               "duration": 0,
               "easing": "linear"
              }
             }
            ],
            "label": "1983",
            "method": "animate"
           },
           {
            "args": [
             [
              "1984"
             ],
             {
              "frame": {
               "duration": 0,
               "redraw": true
              },
              "fromcurrent": true,
              "mode": "immediate",
              "transition": {
               "duration": 0,
               "easing": "linear"
              }
             }
            ],
            "label": "1984",
            "method": "animate"
           },
           {
            "args": [
             [
              "1985"
             ],
             {
              "frame": {
               "duration": 0,
               "redraw": true
              },
              "fromcurrent": true,
              "mode": "immediate",
              "transition": {
               "duration": 0,
               "easing": "linear"
              }
             }
            ],
            "label": "1985",
            "method": "animate"
           },
           {
            "args": [
             [
              "1986"
             ],
             {
              "frame": {
               "duration": 0,
               "redraw": true
              },
              "fromcurrent": true,
              "mode": "immediate",
              "transition": {
               "duration": 0,
               "easing": "linear"
              }
             }
            ],
            "label": "1986",
            "method": "animate"
           },
           {
            "args": [
             [
              "1987"
             ],
             {
              "frame": {
               "duration": 0,
               "redraw": true
              },
              "fromcurrent": true,
              "mode": "immediate",
              "transition": {
               "duration": 0,
               "easing": "linear"
              }
             }
            ],
            "label": "1987",
            "method": "animate"
           },
           {
            "args": [
             [
              "1988"
             ],
             {
              "frame": {
               "duration": 0,
               "redraw": true
              },
              "fromcurrent": true,
              "mode": "immediate",
              "transition": {
               "duration": 0,
               "easing": "linear"
              }
             }
            ],
            "label": "1988",
            "method": "animate"
           },
           {
            "args": [
             [
              "1989"
             ],
             {
              "frame": {
               "duration": 0,
               "redraw": true
              },
              "fromcurrent": true,
              "mode": "immediate",
              "transition": {
               "duration": 0,
               "easing": "linear"
              }
             }
            ],
            "label": "1989",
            "method": "animate"
           },
           {
            "args": [
             [
              "1990"
             ],
             {
              "frame": {
               "duration": 0,
               "redraw": true
              },
              "fromcurrent": true,
              "mode": "immediate",
              "transition": {
               "duration": 0,
               "easing": "linear"
              }
             }
            ],
            "label": "1990",
            "method": "animate"
           },
           {
            "args": [
             [
              "1991"
             ],
             {
              "frame": {
               "duration": 0,
               "redraw": true
              },
              "fromcurrent": true,
              "mode": "immediate",
              "transition": {
               "duration": 0,
               "easing": "linear"
              }
             }
            ],
            "label": "1991",
            "method": "animate"
           },
           {
            "args": [
             [
              "1992"
             ],
             {
              "frame": {
               "duration": 0,
               "redraw": true
              },
              "fromcurrent": true,
              "mode": "immediate",
              "transition": {
               "duration": 0,
               "easing": "linear"
              }
             }
            ],
            "label": "1992",
            "method": "animate"
           },
           {
            "args": [
             [
              "1993"
             ],
             {
              "frame": {
               "duration": 0,
               "redraw": true
              },
              "fromcurrent": true,
              "mode": "immediate",
              "transition": {
               "duration": 0,
               "easing": "linear"
              }
             }
            ],
            "label": "1993",
            "method": "animate"
           },
           {
            "args": [
             [
              "1994"
             ],
             {
              "frame": {
               "duration": 0,
               "redraw": true
              },
              "fromcurrent": true,
              "mode": "immediate",
              "transition": {
               "duration": 0,
               "easing": "linear"
              }
             }
            ],
            "label": "1994",
            "method": "animate"
           },
           {
            "args": [
             [
              "1995"
             ],
             {
              "frame": {
               "duration": 0,
               "redraw": true
              },
              "fromcurrent": true,
              "mode": "immediate",
              "transition": {
               "duration": 0,
               "easing": "linear"
              }
             }
            ],
            "label": "1995",
            "method": "animate"
           },
           {
            "args": [
             [
              "1996"
             ],
             {
              "frame": {
               "duration": 0,
               "redraw": true
              },
              "fromcurrent": true,
              "mode": "immediate",
              "transition": {
               "duration": 0,
               "easing": "linear"
              }
             }
            ],
            "label": "1996",
            "method": "animate"
           },
           {
            "args": [
             [
              "1997"
             ],
             {
              "frame": {
               "duration": 0,
               "redraw": true
              },
              "fromcurrent": true,
              "mode": "immediate",
              "transition": {
               "duration": 0,
               "easing": "linear"
              }
             }
            ],
            "label": "1997",
            "method": "animate"
           },
           {
            "args": [
             [
              "1998"
             ],
             {
              "frame": {
               "duration": 0,
               "redraw": true
              },
              "fromcurrent": true,
              "mode": "immediate",
              "transition": {
               "duration": 0,
               "easing": "linear"
              }
             }
            ],
            "label": "1998",
            "method": "animate"
           },
           {
            "args": [
             [
              "1999"
             ],
             {
              "frame": {
               "duration": 0,
               "redraw": true
              },
              "fromcurrent": true,
              "mode": "immediate",
              "transition": {
               "duration": 0,
               "easing": "linear"
              }
             }
            ],
            "label": "1999",
            "method": "animate"
           },
           {
            "args": [
             [
              "2000"
             ],
             {
              "frame": {
               "duration": 0,
               "redraw": true
              },
              "fromcurrent": true,
              "mode": "immediate",
              "transition": {
               "duration": 0,
               "easing": "linear"
              }
             }
            ],
            "label": "2000",
            "method": "animate"
           },
           {
            "args": [
             [
              "2001"
             ],
             {
              "frame": {
               "duration": 0,
               "redraw": true
              },
              "fromcurrent": true,
              "mode": "immediate",
              "transition": {
               "duration": 0,
               "easing": "linear"
              }
             }
            ],
            "label": "2001",
            "method": "animate"
           },
           {
            "args": [
             [
              "2002"
             ],
             {
              "frame": {
               "duration": 0,
               "redraw": true
              },
              "fromcurrent": true,
              "mode": "immediate",
              "transition": {
               "duration": 0,
               "easing": "linear"
              }
             }
            ],
            "label": "2002",
            "method": "animate"
           },
           {
            "args": [
             [
              "2003"
             ],
             {
              "frame": {
               "duration": 0,
               "redraw": true
              },
              "fromcurrent": true,
              "mode": "immediate",
              "transition": {
               "duration": 0,
               "easing": "linear"
              }
             }
            ],
            "label": "2003",
            "method": "animate"
           },
           {
            "args": [
             [
              "2004"
             ],
             {
              "frame": {
               "duration": 0,
               "redraw": true
              },
              "fromcurrent": true,
              "mode": "immediate",
              "transition": {
               "duration": 0,
               "easing": "linear"
              }
             }
            ],
            "label": "2004",
            "method": "animate"
           },
           {
            "args": [
             [
              "2005"
             ],
             {
              "frame": {
               "duration": 0,
               "redraw": true
              },
              "fromcurrent": true,
              "mode": "immediate",
              "transition": {
               "duration": 0,
               "easing": "linear"
              }
             }
            ],
            "label": "2005",
            "method": "animate"
           },
           {
            "args": [
             [
              "2006"
             ],
             {
              "frame": {
               "duration": 0,
               "redraw": true
              },
              "fromcurrent": true,
              "mode": "immediate",
              "transition": {
               "duration": 0,
               "easing": "linear"
              }
             }
            ],
            "label": "2006",
            "method": "animate"
           },
           {
            "args": [
             [
              "2007"
             ],
             {
              "frame": {
               "duration": 0,
               "redraw": true
              },
              "fromcurrent": true,
              "mode": "immediate",
              "transition": {
               "duration": 0,
               "easing": "linear"
              }
             }
            ],
            "label": "2007",
            "method": "animate"
           },
           {
            "args": [
             [
              "2008"
             ],
             {
              "frame": {
               "duration": 0,
               "redraw": true
              },
              "fromcurrent": true,
              "mode": "immediate",
              "transition": {
               "duration": 0,
               "easing": "linear"
              }
             }
            ],
            "label": "2008",
            "method": "animate"
           },
           {
            "args": [
             [
              "2009"
             ],
             {
              "frame": {
               "duration": 0,
               "redraw": true
              },
              "fromcurrent": true,
              "mode": "immediate",
              "transition": {
               "duration": 0,
               "easing": "linear"
              }
             }
            ],
            "label": "2009",
            "method": "animate"
           },
           {
            "args": [
             [
              "2010"
             ],
             {
              "frame": {
               "duration": 0,
               "redraw": true
              },
              "fromcurrent": true,
              "mode": "immediate",
              "transition": {
               "duration": 0,
               "easing": "linear"
              }
             }
            ],
            "label": "2010",
            "method": "animate"
           },
           {
            "args": [
             [
              "2011"
             ],
             {
              "frame": {
               "duration": 0,
               "redraw": true
              },
              "fromcurrent": true,
              "mode": "immediate",
              "transition": {
               "duration": 0,
               "easing": "linear"
              }
             }
            ],
            "label": "2011",
            "method": "animate"
           },
           {
            "args": [
             [
              "2012"
             ],
             {
              "frame": {
               "duration": 0,
               "redraw": true
              },
              "fromcurrent": true,
              "mode": "immediate",
              "transition": {
               "duration": 0,
               "easing": "linear"
              }
             }
            ],
            "label": "2012",
            "method": "animate"
           },
           {
            "args": [
             [
              "2013"
             ],
             {
              "frame": {
               "duration": 0,
               "redraw": true
              },
              "fromcurrent": true,
              "mode": "immediate",
              "transition": {
               "duration": 0,
               "easing": "linear"
              }
             }
            ],
            "label": "2013",
            "method": "animate"
           },
           {
            "args": [
             [
              "2014"
             ],
             {
              "frame": {
               "duration": 0,
               "redraw": true
              },
              "fromcurrent": true,
              "mode": "immediate",
              "transition": {
               "duration": 0,
               "easing": "linear"
              }
             }
            ],
            "label": "2014",
            "method": "animate"
           },
           {
            "args": [
             [
              "2015"
             ],
             {
              "frame": {
               "duration": 0,
               "redraw": true
              },
              "fromcurrent": true,
              "mode": "immediate",
              "transition": {
               "duration": 0,
               "easing": "linear"
              }
             }
            ],
            "label": "2015",
            "method": "animate"
           },
           {
            "args": [
             [
              "2016"
             ],
             {
              "frame": {
               "duration": 0,
               "redraw": true
              },
              "fromcurrent": true,
              "mode": "immediate",
              "transition": {
               "duration": 0,
               "easing": "linear"
              }
             }
            ],
            "label": "2016",
            "method": "animate"
           },
           {
            "args": [
             [
              "2017"
             ],
             {
              "frame": {
               "duration": 0,
               "redraw": true
              },
              "fromcurrent": true,
              "mode": "immediate",
              "transition": {
               "duration": 0,
               "easing": "linear"
              }
             }
            ],
            "label": "2017",
            "method": "animate"
           },
           {
            "args": [
             [
              "2018"
             ],
             {
              "frame": {
               "duration": 0,
               "redraw": true
              },
              "fromcurrent": true,
              "mode": "immediate",
              "transition": {
               "duration": 0,
               "easing": "linear"
              }
             }
            ],
            "label": "2018",
            "method": "animate"
           },
           {
            "args": [
             [
              "2019"
             ],
             {
              "frame": {
               "duration": 0,
               "redraw": true
              },
              "fromcurrent": true,
              "mode": "immediate",
              "transition": {
               "duration": 0,
               "easing": "linear"
              }
             }
            ],
            "label": "2019",
            "method": "animate"
           },
           {
            "args": [
             [
              "2020"
             ],
             {
              "frame": {
               "duration": 0,
               "redraw": true
              },
              "fromcurrent": true,
              "mode": "immediate",
              "transition": {
               "duration": 0,
               "easing": "linear"
              }
             }
            ],
            "label": "2020",
            "method": "animate"
           }
          ],
          "x": 0.1,
          "xanchor": "left",
          "y": 0,
          "yanchor": "top"
         }
        ],
        "template": {
         "data": {
          "bar": [
           {
            "error_x": {
             "color": "#f2f5fa"
            },
            "error_y": {
             "color": "#f2f5fa"
            },
            "marker": {
             "line": {
              "color": "rgb(17,17,17)",
              "width": 0.5
             },
             "pattern": {
              "fillmode": "overlay",
              "size": 10,
              "solidity": 0.2
             }
            },
            "type": "bar"
           }
          ],
          "barpolar": [
           {
            "marker": {
             "line": {
              "color": "rgb(17,17,17)",
              "width": 0.5
             },
             "pattern": {
              "fillmode": "overlay",
              "size": 10,
              "solidity": 0.2
             }
            },
            "type": "barpolar"
           }
          ],
          "carpet": [
           {
            "aaxis": {
             "endlinecolor": "#A2B1C6",
             "gridcolor": "#506784",
             "linecolor": "#506784",
             "minorgridcolor": "#506784",
             "startlinecolor": "#A2B1C6"
            },
            "baxis": {
             "endlinecolor": "#A2B1C6",
             "gridcolor": "#506784",
             "linecolor": "#506784",
             "minorgridcolor": "#506784",
             "startlinecolor": "#A2B1C6"
            },
            "type": "carpet"
           }
          ],
          "choropleth": [
           {
            "colorbar": {
             "outlinewidth": 0,
             "ticks": ""
            },
            "type": "choropleth"
           }
          ],
          "contour": [
           {
            "colorbar": {
             "outlinewidth": 0,
             "ticks": ""
            },
            "colorscale": [
             [
              0,
              "#0d0887"
             ],
             [
              0.1111111111111111,
              "#46039f"
             ],
             [
              0.2222222222222222,
              "#7201a8"
             ],
             [
              0.3333333333333333,
              "#9c179e"
             ],
             [
              0.4444444444444444,
              "#bd3786"
             ],
             [
              0.5555555555555556,
              "#d8576b"
             ],
             [
              0.6666666666666666,
              "#ed7953"
             ],
             [
              0.7777777777777778,
              "#fb9f3a"
             ],
             [
              0.8888888888888888,
              "#fdca26"
             ],
             [
              1,
              "#f0f921"
             ]
            ],
            "type": "contour"
           }
          ],
          "contourcarpet": [
           {
            "colorbar": {
             "outlinewidth": 0,
             "ticks": ""
            },
            "type": "contourcarpet"
           }
          ],
          "heatmap": [
           {
            "colorbar": {
             "outlinewidth": 0,
             "ticks": ""
            },
            "colorscale": [
             [
              0,
              "#0d0887"
             ],
             [
              0.1111111111111111,
              "#46039f"
             ],
             [
              0.2222222222222222,
              "#7201a8"
             ],
             [
              0.3333333333333333,
              "#9c179e"
             ],
             [
              0.4444444444444444,
              "#bd3786"
             ],
             [
              0.5555555555555556,
              "#d8576b"
             ],
             [
              0.6666666666666666,
              "#ed7953"
             ],
             [
              0.7777777777777778,
              "#fb9f3a"
             ],
             [
              0.8888888888888888,
              "#fdca26"
             ],
             [
              1,
              "#f0f921"
             ]
            ],
            "type": "heatmap"
           }
          ],
          "heatmapgl": [
           {
            "colorbar": {
             "outlinewidth": 0,
             "ticks": ""
            },
            "colorscale": [
             [
              0,
              "#0d0887"
             ],
             [
              0.1111111111111111,
              "#46039f"
             ],
             [
              0.2222222222222222,
              "#7201a8"
             ],
             [
              0.3333333333333333,
              "#9c179e"
             ],
             [
              0.4444444444444444,
              "#bd3786"
             ],
             [
              0.5555555555555556,
              "#d8576b"
             ],
             [
              0.6666666666666666,
              "#ed7953"
             ],
             [
              0.7777777777777778,
              "#fb9f3a"
             ],
             [
              0.8888888888888888,
              "#fdca26"
             ],
             [
              1,
              "#f0f921"
             ]
            ],
            "type": "heatmapgl"
           }
          ],
          "histogram": [
           {
            "marker": {
             "pattern": {
              "fillmode": "overlay",
              "size": 10,
              "solidity": 0.2
             }
            },
            "type": "histogram"
           }
          ],
          "histogram2d": [
           {
            "colorbar": {
             "outlinewidth": 0,
             "ticks": ""
            },
            "colorscale": [
             [
              0,
              "#0d0887"
             ],
             [
              0.1111111111111111,
              "#46039f"
             ],
             [
              0.2222222222222222,
              "#7201a8"
             ],
             [
              0.3333333333333333,
              "#9c179e"
             ],
             [
              0.4444444444444444,
              "#bd3786"
             ],
             [
              0.5555555555555556,
              "#d8576b"
             ],
             [
              0.6666666666666666,
              "#ed7953"
             ],
             [
              0.7777777777777778,
              "#fb9f3a"
             ],
             [
              0.8888888888888888,
              "#fdca26"
             ],
             [
              1,
              "#f0f921"
             ]
            ],
            "type": "histogram2d"
           }
          ],
          "histogram2dcontour": [
           {
            "colorbar": {
             "outlinewidth": 0,
             "ticks": ""
            },
            "colorscale": [
             [
              0,
              "#0d0887"
             ],
             [
              0.1111111111111111,
              "#46039f"
             ],
             [
              0.2222222222222222,
              "#7201a8"
             ],
             [
              0.3333333333333333,
              "#9c179e"
             ],
             [
              0.4444444444444444,
              "#bd3786"
             ],
             [
              0.5555555555555556,
              "#d8576b"
             ],
             [
              0.6666666666666666,
              "#ed7953"
             ],
             [
              0.7777777777777778,
              "#fb9f3a"
             ],
             [
              0.8888888888888888,
              "#fdca26"
             ],
             [
              1,
              "#f0f921"
             ]
            ],
            "type": "histogram2dcontour"
           }
          ],
          "mesh3d": [
           {
            "colorbar": {
             "outlinewidth": 0,
             "ticks": ""
            },
            "type": "mesh3d"
           }
          ],
          "parcoords": [
           {
            "line": {
             "colorbar": {
              "outlinewidth": 0,
              "ticks": ""
             }
            },
            "type": "parcoords"
           }
          ],
          "pie": [
           {
            "automargin": true,
            "type": "pie"
           }
          ],
          "scatter": [
           {
            "marker": {
             "line": {
              "color": "#283442"
             }
            },
            "type": "scatter"
           }
          ],
          "scatter3d": [
           {
            "line": {
             "colorbar": {
              "outlinewidth": 0,
              "ticks": ""
             }
            },
            "marker": {
             "colorbar": {
              "outlinewidth": 0,
              "ticks": ""
             }
            },
            "type": "scatter3d"
           }
          ],
          "scattercarpet": [
           {
            "marker": {
             "colorbar": {
              "outlinewidth": 0,
              "ticks": ""
             }
            },
            "type": "scattercarpet"
           }
          ],
          "scattergeo": [
           {
            "marker": {
             "colorbar": {
              "outlinewidth": 0,
              "ticks": ""
             }
            },
            "type": "scattergeo"
           }
          ],
          "scattergl": [
           {
            "marker": {
             "line": {
              "color": "#283442"
             }
            },
            "type": "scattergl"
           }
          ],
          "scattermapbox": [
           {
            "marker": {
             "colorbar": {
              "outlinewidth": 0,
              "ticks": ""
             }
            },
            "type": "scattermapbox"
           }
          ],
          "scatterpolar": [
           {
            "marker": {
             "colorbar": {
              "outlinewidth": 0,
              "ticks": ""
             }
            },
            "type": "scatterpolar"
           }
          ],
          "scatterpolargl": [
           {
            "marker": {
             "colorbar": {
              "outlinewidth": 0,
              "ticks": ""
             }
            },
            "type": "scatterpolargl"
           }
          ],
          "scatterternary": [
           {
            "marker": {
             "colorbar": {
              "outlinewidth": 0,
              "ticks": ""
             }
            },
            "type": "scatterternary"
           }
          ],
          "surface": [
           {
            "colorbar": {
             "outlinewidth": 0,
             "ticks": ""
            },
            "colorscale": [
             [
              0,
              "#0d0887"
             ],
             [
              0.1111111111111111,
              "#46039f"
             ],
             [
              0.2222222222222222,
              "#7201a8"
             ],
             [
              0.3333333333333333,
              "#9c179e"
             ],
             [
              0.4444444444444444,
              "#bd3786"
             ],
             [
              0.5555555555555556,
              "#d8576b"
             ],
             [
              0.6666666666666666,
              "#ed7953"
             ],
             [
              0.7777777777777778,
              "#fb9f3a"
             ],
             [
              0.8888888888888888,
              "#fdca26"
             ],
             [
              1,
              "#f0f921"
             ]
            ],
            "type": "surface"
           }
          ],
          "table": [
           {
            "cells": {
             "fill": {
              "color": "#506784"
             },
             "line": {
              "color": "rgb(17,17,17)"
             }
            },
            "header": {
             "fill": {
              "color": "#2a3f5f"
             },
             "line": {
              "color": "rgb(17,17,17)"
             }
            },
            "type": "table"
           }
          ]
         },
         "layout": {
          "annotationdefaults": {
           "arrowcolor": "#f2f5fa",
           "arrowhead": 0,
           "arrowwidth": 1
          },
          "autotypenumbers": "strict",
          "coloraxis": {
           "colorbar": {
            "outlinewidth": 0,
            "ticks": ""
           }
          },
          "colorscale": {
           "diverging": [
            [
             0,
             "#8e0152"
            ],
            [
             0.1,
             "#c51b7d"
            ],
            [
             0.2,
             "#de77ae"
            ],
            [
             0.3,
             "#f1b6da"
            ],
            [
             0.4,
             "#fde0ef"
            ],
            [
             0.5,
             "#f7f7f7"
            ],
            [
             0.6,
             "#e6f5d0"
            ],
            [
             0.7,
             "#b8e186"
            ],
            [
             0.8,
             "#7fbc41"
            ],
            [
             0.9,
             "#4d9221"
            ],
            [
             1,
             "#276419"
            ]
           ],
           "sequential": [
            [
             0,
             "#0d0887"
            ],
            [
             0.1111111111111111,
             "#46039f"
            ],
            [
             0.2222222222222222,
             "#7201a8"
            ],
            [
             0.3333333333333333,
             "#9c179e"
            ],
            [
             0.4444444444444444,
             "#bd3786"
            ],
            [
             0.5555555555555556,
             "#d8576b"
            ],
            [
             0.6666666666666666,
             "#ed7953"
            ],
            [
             0.7777777777777778,
             "#fb9f3a"
            ],
            [
             0.8888888888888888,
             "#fdca26"
            ],
            [
             1,
             "#f0f921"
            ]
           ],
           "sequentialminus": [
            [
             0,
             "#0d0887"
            ],
            [
             0.1111111111111111,
             "#46039f"
            ],
            [
             0.2222222222222222,
             "#7201a8"
            ],
            [
             0.3333333333333333,
             "#9c179e"
            ],
            [
             0.4444444444444444,
             "#bd3786"
            ],
            [
             0.5555555555555556,
             "#d8576b"
            ],
            [
             0.6666666666666666,
             "#ed7953"
            ],
            [
             0.7777777777777778,
             "#fb9f3a"
            ],
            [
             0.8888888888888888,
             "#fdca26"
            ],
            [
             1,
             "#f0f921"
            ]
           ]
          },
          "colorway": [
           "#636efa",
           "#EF553B",
           "#00cc96",
           "#ab63fa",
           "#FFA15A",
           "#19d3f3",
           "#FF6692",
           "#B6E880",
           "#FF97FF",
           "#FECB52"
          ],
          "font": {
           "color": "#f2f5fa"
          },
          "geo": {
           "bgcolor": "rgb(17,17,17)",
           "lakecolor": "rgb(17,17,17)",
           "landcolor": "rgb(17,17,17)",
           "showlakes": true,
           "showland": true,
           "subunitcolor": "#506784"
          },
          "hoverlabel": {
           "align": "left"
          },
          "hovermode": "closest",
          "mapbox": {
           "style": "dark"
          },
          "paper_bgcolor": "rgb(17,17,17)",
          "plot_bgcolor": "rgb(17,17,17)",
          "polar": {
           "angularaxis": {
            "gridcolor": "#506784",
            "linecolor": "#506784",
            "ticks": ""
           },
           "bgcolor": "rgb(17,17,17)",
           "radialaxis": {
            "gridcolor": "#506784",
            "linecolor": "#506784",
            "ticks": ""
           }
          },
          "scene": {
           "xaxis": {
            "backgroundcolor": "rgb(17,17,17)",
            "gridcolor": "#506784",
            "gridwidth": 2,
            "linecolor": "#506784",
            "showbackground": true,
            "ticks": "",
            "zerolinecolor": "#C8D4E3"
           },
           "yaxis": {
            "backgroundcolor": "rgb(17,17,17)",
            "gridcolor": "#506784",
            "gridwidth": 2,
            "linecolor": "#506784",
            "showbackground": true,
            "ticks": "",
            "zerolinecolor": "#C8D4E3"
           },
           "zaxis": {
            "backgroundcolor": "rgb(17,17,17)",
            "gridcolor": "#506784",
            "gridwidth": 2,
            "linecolor": "#506784",
            "showbackground": true,
            "ticks": "",
            "zerolinecolor": "#C8D4E3"
           }
          },
          "shapedefaults": {
           "line": {
            "color": "#f2f5fa"
           }
          },
          "sliderdefaults": {
           "bgcolor": "#C8D4E3",
           "bordercolor": "rgb(17,17,17)",
           "borderwidth": 1,
           "tickwidth": 0
          },
          "ternary": {
           "aaxis": {
            "gridcolor": "#506784",
            "linecolor": "#506784",
            "ticks": ""
           },
           "baxis": {
            "gridcolor": "#506784",
            "linecolor": "#506784",
            "ticks": ""
           },
           "bgcolor": "rgb(17,17,17)",
           "caxis": {
            "gridcolor": "#506784",
            "linecolor": "#506784",
            "ticks": ""
           }
          },
          "title": {
           "x": 0.05
          },
          "updatemenudefaults": {
           "bgcolor": "#506784",
           "borderwidth": 0
          },
          "xaxis": {
           "automargin": true,
           "gridcolor": "#283442",
           "linecolor": "#506784",
           "ticks": "",
           "title": {
            "standoff": 15
           },
           "zerolinecolor": "#283442",
           "zerolinewidth": 2
          },
          "yaxis": {
           "automargin": true,
           "gridcolor": "#283442",
           "linecolor": "#506784",
           "ticks": "",
           "title": {
            "standoff": 15
           },
           "zerolinecolor": "#283442",
           "zerolinewidth": 2
          }
         }
        },
        "title": {
         "font": {
          "color": "white",
          "family": "Arial",
          "size": 30,
          "weight": "bold"
         },
         "text": "Population by State from 1980 to 2020 (in 1000s)",
         "x": 0.5,
         "xanchor": "center",
         "y": 0.95,
         "yanchor": "top"
        },
        "updatemenus": [
         {
          "buttons": [
           {
            "args": [
             null,
             {
              "frame": {
               "duration": 500,
               "redraw": true
              },
              "fromcurrent": true,
              "mode": "immediate",
              "transition": {
               "duration": 500,
               "easing": "linear"
              }
             }
            ],
            "label": "&#9654;",
            "method": "animate"
           },
           {
            "args": [
             [
              null
             ],
             {
              "frame": {
               "duration": 0,
               "redraw": true
              },
              "fromcurrent": true,
              "mode": "immediate",
              "transition": {
               "duration": 0,
               "easing": "linear"
              }
             }
            ],
            "label": "&#9724;",
            "method": "animate"
           }
          ],
          "direction": "left",
          "pad": {
           "r": 10,
           "t": 70
          },
          "showactive": false,
          "type": "buttons",
          "x": 0.1,
          "xanchor": "right",
          "y": 0,
          "yanchor": "top"
         }
        ],
        "width": 1000,
        "xaxis": {
         "anchor": "y",
         "domain": [
          0,
          1
         ],
         "range": [
          0,
          6994.4
         ],
         "title": {
          "text": "Population"
         }
        },
        "yaxis": {
         "anchor": "x",
         "categoryarray": [
          "Kuala Lumpur",
          "Sarawak",
          "Sabah",
          "Terengganu",
          "Selangor",
          "Perlis",
          "Perak",
          "Penang",
          "Pahang",
          "Negeri Sembilan",
          "Melaka",
          "Kelantan",
          "Kedah",
          "Johor"
         ],
         "categoryorder": "array",
         "domain": [
          0,
          1
         ],
         "title": {
          "text": "State"
         }
        }
       }
      }
     },
     "metadata": {},
     "output_type": "display_data"
    }
   ],
   "source": [
    "import pandas as pd\n",
    "import plotly.express as px\n",
    "\n",
    "# melt the df\n",
    "state_df_melted = state_df.melt(id_vars=['Year'], var_name='State', value_name='Population')\n",
    "\n",
    "#create animated bar chart \n",
    "fig = px.bar(\n",
    "    state_df_melted,\n",
    "    x='Population',\n",
    "    y='State',\n",
    "    color='State',\n",
    "    animation_frame=\"Year\",\n",
    "    orientation='h', \n",
    "    title='Population by State from 1980 to 2020',\n",
    "    range_x=[0, state_df_melted['Population'].max()]\n",
    ")\n",
    "\n",
    "#hide the legend\n",
    "fig.update_layout(\n",
    "    showlegend=False,\n",
    "    title={\n",
    "        'text': 'Population by State from 1980 to 2020 (in 1000s)',\n",
    "        'y': 0.95, \n",
    "        'x': 0.5,\n",
    "        'xanchor': 'center',\n",
    "        'yanchor': 'top'\n",
    "    },\n",
    "    title_font=dict(size=30, family='Arial', weight='bold', color='white'),\n",
    "    template='plotly_dark',\n",
    "    width=1000,\n",
    "    height=600,\n",
    "    margin=dict(t=100, b=50, l=50, r=50),\n",
    "    annotations=[\n",
    "        dict(\n",
    "            x=0.98,\n",
    "            y=0.5,\n",
    "            text=\"Year\",\n",
    "            font=dict(size=50, color='fuchsia', weight='bold'),\n",
    "            xref='paper', yref='paper'        )\n",
    "    ]\n",
    ")\n",
    "\n",
    "#update annotation for each frame to show correct year\n",
    "for frame in fig.frames:\n",
    "    frame_year = frame.name\n",
    "    frame.layout.update(\n",
    "        annotations=[\n",
    "            dict(\n",
    "                x=0.98,\n",
    "                y=0.5,\n",
    "                text=f'{frame_year}',\n",
    "                font=dict(size=50, color='fuchsia', weight='bold'),\n",
    "                xref='paper', yref='paper'            \n",
    "            )\n",
    "        ]\n",
    "    )\n",
    "\n",
    "fig.show()"
   ]
  },
  {
   "cell_type": "markdown",
   "metadata": {},
   "source": [
    "# Animated Scatter Plot\n",
    "- we have to melt the dataframe for easier plotting"
   ]
  },
  {
   "cell_type": "code",
   "execution_count": 68,
   "metadata": {},
   "outputs": [
    {
     "data": {
      "text/html": [
       "<div>\n",
       "<style scoped>\n",
       "    .dataframe tbody tr th:only-of-type {\n",
       "        vertical-align: middle;\n",
       "    }\n",
       "\n",
       "    .dataframe tbody tr th {\n",
       "        vertical-align: top;\n",
       "    }\n",
       "\n",
       "    .dataframe thead th {\n",
       "        text-align: right;\n",
       "    }\n",
       "</style>\n",
       "<table border=\"1\" class=\"dataframe\">\n",
       "  <thead>\n",
       "    <tr style=\"text-align: right;\">\n",
       "      <th></th>\n",
       "      <th>State</th>\n",
       "      <th>Year</th>\n",
       "      <th>Total_pop</th>\n",
       "      <th>Tot_Male</th>\n",
       "      <th>Tot_Fem</th>\n",
       "      <th>Bumi_M</th>\n",
       "      <th>Chi_M</th>\n",
       "      <th>Ind_M</th>\n",
       "      <th>Other_M</th>\n",
       "      <th>Bumi_F</th>\n",
       "      <th>Chi_F</th>\n",
       "      <th>Ind_F</th>\n",
       "      <th>Other_F</th>\n",
       "    </tr>\n",
       "  </thead>\n",
       "  <tbody>\n",
       "    <tr>\n",
       "      <th>0</th>\n",
       "      <td>Terengganu</td>\n",
       "      <td>1980</td>\n",
       "      <td>541.7</td>\n",
       "      <td>271.0</td>\n",
       "      <td>270.7</td>\n",
       "      <td>253.9</td>\n",
       "      <td>14.5</td>\n",
       "      <td>1.7</td>\n",
       "      <td>0.8</td>\n",
       "      <td>257.0</td>\n",
       "      <td>12.4</td>\n",
       "      <td>1.0</td>\n",
       "      <td>0.4</td>\n",
       "    </tr>\n",
       "    <tr>\n",
       "      <th>1</th>\n",
       "      <td>Terengganu</td>\n",
       "      <td>1981</td>\n",
       "      <td>560.8</td>\n",
       "      <td>281.9</td>\n",
       "      <td>278.8</td>\n",
       "      <td>264.3</td>\n",
       "      <td>14.6</td>\n",
       "      <td>1.7</td>\n",
       "      <td>1.3</td>\n",
       "      <td>264.7</td>\n",
       "      <td>12.5</td>\n",
       "      <td>1.0</td>\n",
       "      <td>0.7</td>\n",
       "    </tr>\n",
       "    <tr>\n",
       "      <th>2</th>\n",
       "      <td>Terengganu</td>\n",
       "      <td>1982</td>\n",
       "      <td>581.4</td>\n",
       "      <td>293.7</td>\n",
       "      <td>287.8</td>\n",
       "      <td>275.4</td>\n",
       "      <td>14.7</td>\n",
       "      <td>1.7</td>\n",
       "      <td>1.8</td>\n",
       "      <td>273.1</td>\n",
       "      <td>12.6</td>\n",
       "      <td>1.0</td>\n",
       "      <td>1.0</td>\n",
       "    </tr>\n",
       "  </tbody>\n",
       "</table>\n",
       "</div>"
      ],
      "text/plain": [
       "        State  Year  Total_pop  Tot_Male  Tot_Fem  Bumi_M  Chi_M  Ind_M  \\\n",
       "0  Terengganu  1980      541.7     271.0    270.7   253.9   14.5    1.7   \n",
       "1  Terengganu  1981      560.8     281.9    278.8   264.3   14.6    1.7   \n",
       "2  Terengganu  1982      581.4     293.7    287.8   275.4   14.7    1.7   \n",
       "\n",
       "   Other_M  Bumi_F  Chi_F  Ind_F  Other_F  \n",
       "0      0.8   257.0   12.4    1.0      0.4  \n",
       "1      1.3   264.7   12.5    1.0      0.7  \n",
       "2      1.8   273.1   12.6    1.0      1.0  "
      ]
     },
     "execution_count": 68,
     "metadata": {},
     "output_type": "execute_result"
    }
   ],
   "source": [
    "pop_state.head(3)"
   ]
  },
  {
   "cell_type": "code",
   "execution_count": 69,
   "metadata": {},
   "outputs": [
    {
     "data": {
      "text/plain": [
       "Index(['State', 'Year', 'Total_pop', 'Tot_Male', 'Tot_Fem', 'Bumi_M', 'Chi_M',\n",
       "       'Ind_M', 'Other_M', 'Bumi_F', 'Chi_F', 'Ind_F', 'Other_F'],\n",
       "      dtype='object')"
      ]
     },
     "execution_count": 69,
     "metadata": {},
     "output_type": "execute_result"
    }
   ],
   "source": [
    "pop_state.columns"
   ]
  },
  {
   "cell_type": "code",
   "execution_count": 70,
   "metadata": {},
   "outputs": [
    {
     "data": {
      "text/html": [
       "<div>\n",
       "<style scoped>\n",
       "    .dataframe tbody tr th:only-of-type {\n",
       "        vertical-align: middle;\n",
       "    }\n",
       "\n",
       "    .dataframe tbody tr th {\n",
       "        vertical-align: top;\n",
       "    }\n",
       "\n",
       "    .dataframe thead th {\n",
       "        text-align: right;\n",
       "    }\n",
       "</style>\n",
       "<table border=\"1\" class=\"dataframe\">\n",
       "  <thead>\n",
       "    <tr style=\"text-align: right;\">\n",
       "      <th></th>\n",
       "      <th>State</th>\n",
       "      <th>Year</th>\n",
       "      <th>Total_pop</th>\n",
       "      <th>Tot_Male</th>\n",
       "      <th>Tot_Fem</th>\n",
       "      <th>Bumi_M</th>\n",
       "      <th>Chi_M</th>\n",
       "      <th>Ind_M</th>\n",
       "      <th>Other_M</th>\n",
       "      <th>Bumi_F</th>\n",
       "      <th>Chi_F</th>\n",
       "      <th>Ind_F</th>\n",
       "      <th>Other_F</th>\n",
       "      <th>Bumi_Total</th>\n",
       "      <th>Chinese_Total</th>\n",
       "      <th>Indian_Total</th>\n",
       "      <th>Other_Total</th>\n",
       "    </tr>\n",
       "  </thead>\n",
       "  <tbody>\n",
       "    <tr>\n",
       "      <th>0</th>\n",
       "      <td>Terengganu</td>\n",
       "      <td>1980</td>\n",
       "      <td>541.7</td>\n",
       "      <td>271.0</td>\n",
       "      <td>270.7</td>\n",
       "      <td>253.9</td>\n",
       "      <td>14.5</td>\n",
       "      <td>1.7</td>\n",
       "      <td>0.8</td>\n",
       "      <td>257.0</td>\n",
       "      <td>12.4</td>\n",
       "      <td>1.0</td>\n",
       "      <td>0.4</td>\n",
       "      <td>510.9</td>\n",
       "      <td>26.9</td>\n",
       "      <td>2.7</td>\n",
       "      <td>1.2</td>\n",
       "    </tr>\n",
       "    <tr>\n",
       "      <th>1</th>\n",
       "      <td>Terengganu</td>\n",
       "      <td>1981</td>\n",
       "      <td>560.8</td>\n",
       "      <td>281.9</td>\n",
       "      <td>278.8</td>\n",
       "      <td>264.3</td>\n",
       "      <td>14.6</td>\n",
       "      <td>1.7</td>\n",
       "      <td>1.3</td>\n",
       "      <td>264.7</td>\n",
       "      <td>12.5</td>\n",
       "      <td>1.0</td>\n",
       "      <td>0.7</td>\n",
       "      <td>529.0</td>\n",
       "      <td>27.1</td>\n",
       "      <td>2.7</td>\n",
       "      <td>2.0</td>\n",
       "    </tr>\n",
       "    <tr>\n",
       "      <th>2</th>\n",
       "      <td>Terengganu</td>\n",
       "      <td>1982</td>\n",
       "      <td>581.4</td>\n",
       "      <td>293.7</td>\n",
       "      <td>287.8</td>\n",
       "      <td>275.4</td>\n",
       "      <td>14.7</td>\n",
       "      <td>1.7</td>\n",
       "      <td>1.8</td>\n",
       "      <td>273.1</td>\n",
       "      <td>12.6</td>\n",
       "      <td>1.0</td>\n",
       "      <td>1.0</td>\n",
       "      <td>548.5</td>\n",
       "      <td>27.3</td>\n",
       "      <td>2.7</td>\n",
       "      <td>2.8</td>\n",
       "    </tr>\n",
       "  </tbody>\n",
       "</table>\n",
       "</div>"
      ],
      "text/plain": [
       "        State  Year  Total_pop  Tot_Male  Tot_Fem  Bumi_M  Chi_M  Ind_M  \\\n",
       "0  Terengganu  1980      541.7     271.0    270.7   253.9   14.5    1.7   \n",
       "1  Terengganu  1981      560.8     281.9    278.8   264.3   14.6    1.7   \n",
       "2  Terengganu  1982      581.4     293.7    287.8   275.4   14.7    1.7   \n",
       "\n",
       "   Other_M  Bumi_F  Chi_F  Ind_F  Other_F  Bumi_Total  Chinese_Total  \\\n",
       "0      0.8   257.0   12.4    1.0      0.4       510.9           26.9   \n",
       "1      1.3   264.7   12.5    1.0      0.7       529.0           27.1   \n",
       "2      1.8   273.1   12.6    1.0      1.0       548.5           27.3   \n",
       "\n",
       "   Indian_Total  Other_Total  \n",
       "0           2.7          1.2  \n",
       "1           2.7          2.0  \n",
       "2           2.7          2.8  "
      ]
     },
     "execution_count": 70,
     "metadata": {},
     "output_type": "execute_result"
    }
   ],
   "source": [
    "pop_state['Bumi_Total'] = pop_state['Bumi_M'] + pop_state['Bumi_F']\n",
    "pop_state['Chinese_Total'] = pop_state['Chi_M'] + pop_state['Chi_F']\n",
    "pop_state['Indian_Total'] = pop_state['Ind_M'] + pop_state['Ind_F']\n",
    "pop_state['Other_Total'] = pop_state['Other_M'] + pop_state['Other_F']\n",
    "\n",
    "pop_state.head(3)\n",
    "\n"
   ]
  },
  {
   "cell_type": "code",
   "execution_count": 71,
   "metadata": {},
   "outputs": [
    {
     "data": {
      "text/plain": [
       "Index(['State', 'Year', 'Total_pop', 'Tot_Male', 'Tot_Fem', 'Bumi_M', 'Chi_M',\n",
       "       'Ind_M', 'Other_M', 'Bumi_F', 'Chi_F', 'Ind_F', 'Other_F', 'Bumi_Total',\n",
       "       'Chinese_Total', 'Indian_Total', 'Other_Total'],\n",
       "      dtype='object')"
      ]
     },
     "execution_count": 71,
     "metadata": {},
     "output_type": "execute_result"
    }
   ],
   "source": [
    "pop_state.columns"
   ]
  },
  {
   "cell_type": "code",
   "execution_count": 84,
   "metadata": {},
   "outputs": [
    {
     "data": {
      "application/vnd.plotly.v1+json": {
       "config": {
        "plotlyServerURL": "https://plot.ly"
       },
       "data": [
        {
         "hovertemplate": "Race=Bumi_Total<br>Year=1980<br>States=%{x}<br>Population=%{marker.size}<extra></extra>",
         "legendgroup": "Bumi_Total",
         "marker": {
          "color": "#636efa",
          "size": [
           510.9,
           899.7,
           803.4,
           831.7,
           320.6,
           249.6,
           265.29999999999995,
           532.9,
           312.9,
           809.4,
           116.19999999999999,
           663.0999999999999,
           672,
           939.0999999999999
          ],
          "sizemode": "area",
          "sizeref": 1.0821944444444442,
          "symbol": "circle"
         },
         "mode": "markers",
         "name": "Bumi_Total",
         "orientation": "v",
         "showlegend": true,
         "type": "scatter",
         "x": [
          "Terengganu",
          "Johor",
          "Kedah",
          "Kelantan",
          "Kuala Lumpur",
          "Melaka",
          "Negeri Sembilan",
          "Pahang",
          "Pulau Pinang",
          "Perak",
          "Perlis",
          "Sabah",
          "Selangor",
          "Sarawak"
         ],
         "xaxis": "x",
         "y": [
          510.9,
          899.7,
          803.4,
          831.7,
          320.6,
          249.6,
          265.29999999999995,
          532.9,
          312.9,
          809.4,
          116.19999999999999,
          663.0999999999999,
          672,
          939.0999999999999
         ],
         "yaxis": "y"
        },
        {
         "hovertemplate": "Race=Chinese_Total<br>Year=1980<br>States=%{x}<br>Population=%{marker.size}<extra></extra>",
         "legendgroup": "Chinese_Total",
         "marker": {
          "color": "#EF553B",
          "size": [
           26.9,
           634.7,
           210.3,
           48.3,
           512.1,
           178.2,
           211.6,
           211.5,
           526.0999999999999,
           738,
           24,
           171.1,
           572.6,
           394.7
          ],
          "sizemode": "area",
          "sizeref": 1.0821944444444442,
          "symbol": "circle"
         },
         "mode": "markers",
         "name": "Chinese_Total",
         "orientation": "v",
         "showlegend": true,
         "type": "scatter",
         "x": [
          "Terengganu",
          "Johor",
          "Kedah",
          "Kelantan",
          "Kuala Lumpur",
          "Melaka",
          "Negeri Sembilan",
          "Pahang",
          "Pulau Pinang",
          "Perak",
          "Perlis",
          "Sabah",
          "Selangor",
          "Sarawak"
         ],
         "xaxis": "x",
         "y": [
          26.9,
          634.7,
          210.3,
          48.3,
          512.1,
          178.2,
          211.6,
          211.5,
          526.0999999999999,
          738,
          24,
          171.1,
          572.6,
          394.7
         ],
         "yaxis": "y"
        },
        {
         "hovertemplate": "Race=Indian_Total<br>Year=1980<br>States=%{x}<br>Population=%{marker.size}<extra></extra>",
         "legendgroup": "Indian_Total",
         "marker": {
          "color": "#00cc96",
          "size": [
           2.7,
           109.30000000000001,
           87.4,
           6.699999999999999,
           140.8,
           35.7,
           98,
           55.8,
           110.30000000000001,
           256,
           4.2,
           7.2,
           271.8,
           3.7
          ],
          "sizemode": "area",
          "sizeref": 1.0821944444444442,
          "symbol": "circle"
         },
         "mode": "markers",
         "name": "Indian_Total",
         "orientation": "v",
         "showlegend": true,
         "type": "scatter",
         "x": [
          "Terengganu",
          "Johor",
          "Kedah",
          "Kelantan",
          "Kuala Lumpur",
          "Melaka",
          "Negeri Sembilan",
          "Pahang",
          "Pulau Pinang",
          "Perak",
          "Perlis",
          "Sabah",
          "Selangor",
          "Sarawak"
         ],
         "xaxis": "x",
         "y": [
          2.7,
          109.30000000000001,
          87.4,
          6.699999999999999,
          140.8,
          35.7,
          98,
          55.8,
          110.30000000000001,
          256,
          4.2,
          7.2,
          271.8,
          3.7
         ],
         "yaxis": "y"
        },
        {
         "hovertemplate": "Race=Other_Total<br>Year=1980<br>States=%{x}<br>Population=%{marker.size}<extra></extra>",
         "legendgroup": "Other_Total",
         "marker": {
          "color": "#ab63fa",
          "size": [
           1.2000000000000002,
           2.5,
           18.799999999999997,
           8.899999999999999,
           9.6,
           3.3,
           1.7000000000000002,
           1.7000000000000002,
           11.5,
           4.2,
           4.2,
           213.6,
           7.8,
           13.7
          ],
          "sizemode": "area",
          "sizeref": 1.0821944444444442,
          "symbol": "circle"
         },
         "mode": "markers",
         "name": "Other_Total",
         "orientation": "v",
         "showlegend": true,
         "type": "scatter",
         "x": [
          "Terengganu",
          "Johor",
          "Kedah",
          "Kelantan",
          "Kuala Lumpur",
          "Melaka",
          "Negeri Sembilan",
          "Pahang",
          "Pulau Pinang",
          "Perak",
          "Perlis",
          "Sabah",
          "Selangor",
          "Sarawak"
         ],
         "xaxis": "x",
         "y": [
          1.2000000000000002,
          2.5,
          18.799999999999997,
          8.899999999999999,
          9.6,
          3.3,
          1.7000000000000002,
          1.7000000000000002,
          11.5,
          4.2,
          4.2,
          213.6,
          7.8,
          13.7
         ],
         "yaxis": "y"
        }
       ],
       "frames": [
        {
         "data": [
          {
           "hovertemplate": "Race=Bumi_Total<br>Year=1980<br>States=%{x}<br>Population=%{marker.size}<extra></extra>",
           "legendgroup": "Bumi_Total",
           "marker": {
            "color": "#636efa",
            "size": [
             510.9,
             899.7,
             803.4,
             831.7,
             320.6,
             249.6,
             265.29999999999995,
             532.9,
             312.9,
             809.4,
             116.19999999999999,
             663.0999999999999,
             672,
             939.0999999999999
            ],
            "sizemode": "area",
            "sizeref": 1.0821944444444442,
            "symbol": "circle"
           },
           "mode": "markers",
           "name": "Bumi_Total",
           "orientation": "v",
           "showlegend": true,
           "type": "scatter",
           "x": [
            "Terengganu",
            "Johor",
            "Kedah",
            "Kelantan",
            "Kuala Lumpur",
            "Melaka",
            "Negeri Sembilan",
            "Pahang",
            "Pulau Pinang",
            "Perak",
            "Perlis",
            "Sabah",
            "Selangor",
            "Sarawak"
           ],
           "xaxis": "x",
           "y": [
            510.9,
            899.7,
            803.4,
            831.7,
            320.6,
            249.6,
            265.29999999999995,
            532.9,
            312.9,
            809.4,
            116.19999999999999,
            663.0999999999999,
            672,
            939.0999999999999
           ],
           "yaxis": "y"
          },
          {
           "hovertemplate": "Race=Chinese_Total<br>Year=1980<br>States=%{x}<br>Population=%{marker.size}<extra></extra>",
           "legendgroup": "Chinese_Total",
           "marker": {
            "color": "#EF553B",
            "size": [
             26.9,
             634.7,
             210.3,
             48.3,
             512.1,
             178.2,
             211.6,
             211.5,
             526.0999999999999,
             738,
             24,
             171.1,
             572.6,
             394.7
            ],
            "sizemode": "area",
            "sizeref": 1.0821944444444442,
            "symbol": "circle"
           },
           "mode": "markers",
           "name": "Chinese_Total",
           "orientation": "v",
           "showlegend": true,
           "type": "scatter",
           "x": [
            "Terengganu",
            "Johor",
            "Kedah",
            "Kelantan",
            "Kuala Lumpur",
            "Melaka",
            "Negeri Sembilan",
            "Pahang",
            "Pulau Pinang",
            "Perak",
            "Perlis",
            "Sabah",
            "Selangor",
            "Sarawak"
           ],
           "xaxis": "x",
           "y": [
            26.9,
            634.7,
            210.3,
            48.3,
            512.1,
            178.2,
            211.6,
            211.5,
            526.0999999999999,
            738,
            24,
            171.1,
            572.6,
            394.7
           ],
           "yaxis": "y"
          },
          {
           "hovertemplate": "Race=Indian_Total<br>Year=1980<br>States=%{x}<br>Population=%{marker.size}<extra></extra>",
           "legendgroup": "Indian_Total",
           "marker": {
            "color": "#00cc96",
            "size": [
             2.7,
             109.30000000000001,
             87.4,
             6.699999999999999,
             140.8,
             35.7,
             98,
             55.8,
             110.30000000000001,
             256,
             4.2,
             7.2,
             271.8,
             3.7
            ],
            "sizemode": "area",
            "sizeref": 1.0821944444444442,
            "symbol": "circle"
           },
           "mode": "markers",
           "name": "Indian_Total",
           "orientation": "v",
           "showlegend": true,
           "type": "scatter",
           "x": [
            "Terengganu",
            "Johor",
            "Kedah",
            "Kelantan",
            "Kuala Lumpur",
            "Melaka",
            "Negeri Sembilan",
            "Pahang",
            "Pulau Pinang",
            "Perak",
            "Perlis",
            "Sabah",
            "Selangor",
            "Sarawak"
           ],
           "xaxis": "x",
           "y": [
            2.7,
            109.30000000000001,
            87.4,
            6.699999999999999,
            140.8,
            35.7,
            98,
            55.8,
            110.30000000000001,
            256,
            4.2,
            7.2,
            271.8,
            3.7
           ],
           "yaxis": "y"
          },
          {
           "hovertemplate": "Race=Other_Total<br>Year=1980<br>States=%{x}<br>Population=%{marker.size}<extra></extra>",
           "legendgroup": "Other_Total",
           "marker": {
            "color": "#ab63fa",
            "size": [
             1.2000000000000002,
             2.5,
             18.799999999999997,
             8.899999999999999,
             9.6,
             3.3,
             1.7000000000000002,
             1.7000000000000002,
             11.5,
             4.2,
             4.2,
             213.6,
             7.8,
             13.7
            ],
            "sizemode": "area",
            "sizeref": 1.0821944444444442,
            "symbol": "circle"
           },
           "mode": "markers",
           "name": "Other_Total",
           "orientation": "v",
           "showlegend": true,
           "type": "scatter",
           "x": [
            "Terengganu",
            "Johor",
            "Kedah",
            "Kelantan",
            "Kuala Lumpur",
            "Melaka",
            "Negeri Sembilan",
            "Pahang",
            "Pulau Pinang",
            "Perak",
            "Perlis",
            "Sabah",
            "Selangor",
            "Sarawak"
           ],
           "xaxis": "x",
           "y": [
            1.2000000000000002,
            2.5,
            18.799999999999997,
            8.899999999999999,
            9.6,
            3.3,
            1.7000000000000002,
            1.7000000000000002,
            11.5,
            4.2,
            4.2,
            213.6,
            7.8,
            13.7
           ],
           "yaxis": "y"
          }
         ],
         "name": "1980"
        },
        {
         "data": [
          {
           "hovertemplate": "Race=Bumi_Total<br>Year=1981<br>States=%{x}<br>Population=%{marker.size}<extra></extra>",
           "legendgroup": "Bumi_Total",
           "marker": {
            "color": "#636efa",
            "size": [
             529,
             925.5,
             820,
             856,
             337.20000000000005,
             254.6,
             273.7,
             551,
             321.9,
             835.5,
             119.1,
             707.1,
             711.3,
             958.8
            ],
            "sizemode": "area",
            "sizeref": 1.0821944444444442,
            "symbol": "circle"
           },
           "mode": "markers",
           "name": "Bumi_Total",
           "orientation": "v",
           "showlegend": true,
           "type": "scatter",
           "x": [
            "Terengganu",
            "Johor",
            "Kedah",
            "Kelantan",
            "Kuala Lumpur",
            "Melaka",
            "Negeri Sembilan",
            "Pahang",
            "Pulau Pinang",
            "Perak",
            "Perlis",
            "Sabah",
            "Selangor",
            "Sarawak"
           ],
           "xaxis": "x",
           "y": [
            529,
            925.5,
            820,
            856,
            337.20000000000005,
            254.6,
            273.7,
            551,
            321.9,
            835.5,
            119.1,
            707.1,
            711.3,
            958.8
           ],
           "yaxis": "y"
          },
          {
           "hovertemplate": "Race=Chinese_Total<br>Year=1981<br>States=%{x}<br>Population=%{marker.size}<extra></extra>",
           "legendgroup": "Chinese_Total",
           "marker": {
            "color": "#EF553B",
            "size": [
             27.1,
             648.2,
             212.6,
             48.9,
             517.6,
             178.7,
             212.2,
             211.1,
             531.2,
             739.3,
             24,
             176.1,
             590.7,
             403.2
            ],
            "sizemode": "area",
            "sizeref": 1.0821944444444442,
            "symbol": "circle"
           },
           "mode": "markers",
           "name": "Chinese_Total",
           "orientation": "v",
           "showlegend": true,
           "type": "scatter",
           "x": [
            "Terengganu",
            "Johor",
            "Kedah",
            "Kelantan",
            "Kuala Lumpur",
            "Melaka",
            "Negeri Sembilan",
            "Pahang",
            "Pulau Pinang",
            "Perak",
            "Perlis",
            "Sabah",
            "Selangor",
            "Sarawak"
           ],
           "xaxis": "x",
           "y": [
            27.1,
            648.2,
            212.6,
            48.9,
            517.6,
            178.7,
            212.2,
            211.1,
            531.2,
            739.3,
            24,
            176.1,
            590.7,
            403.2
           ],
           "yaxis": "y"
          },
          {
           "hovertemplate": "Race=Indian_Total<br>Year=1981<br>States=%{x}<br>Population=%{marker.size}<extra></extra>",
           "legendgroup": "Indian_Total",
           "marker": {
            "color": "#00cc96",
            "size": [
             2.7,
             112,
             88.6,
             6.699999999999999,
             140.9,
             36,
             99.6,
             56.5,
             111.5,
             258.9,
             4.2,
             7.7,
             283.9,
             3.7
            ],
            "sizemode": "area",
            "sizeref": 1.0821944444444442,
            "symbol": "circle"
           },
           "mode": "markers",
           "name": "Indian_Total",
           "orientation": "v",
           "showlegend": true,
           "type": "scatter",
           "x": [
            "Terengganu",
            "Johor",
            "Kedah",
            "Kelantan",
            "Kuala Lumpur",
            "Melaka",
            "Negeri Sembilan",
            "Pahang",
            "Pulau Pinang",
            "Perak",
            "Perlis",
            "Sabah",
            "Selangor",
            "Sarawak"
           ],
           "xaxis": "x",
           "y": [
            2.7,
            112,
            88.6,
            6.699999999999999,
            140.9,
            36,
            99.6,
            56.5,
            111.5,
            258.9,
            4.2,
            7.7,
            283.9,
            3.7
           ],
           "yaxis": "y"
          },
          {
           "hovertemplate": "Race=Other_Total<br>Year=1981<br>States=%{x}<br>Population=%{marker.size}<extra></extra>",
           "legendgroup": "Other_Total",
           "marker": {
            "color": "#ab63fa",
            "size": [
             2,
             3.6,
             19,
             8.8,
             10.4,
             3.4,
             1.8,
             1.9,
             10.8,
             4.699999999999999,
             4.4,
             228.6,
             8.6,
             14.4
            ],
            "sizemode": "area",
            "sizeref": 1.0821944444444442,
            "symbol": "circle"
           },
           "mode": "markers",
           "name": "Other_Total",
           "orientation": "v",
           "showlegend": true,
           "type": "scatter",
           "x": [
            "Terengganu",
            "Johor",
            "Kedah",
            "Kelantan",
            "Kuala Lumpur",
            "Melaka",
            "Negeri Sembilan",
            "Pahang",
            "Pulau Pinang",
            "Perak",
            "Perlis",
            "Sabah",
            "Selangor",
            "Sarawak"
           ],
           "xaxis": "x",
           "y": [
            2,
            3.6,
            19,
            8.8,
            10.4,
            3.4,
            1.8,
            1.9,
            10.8,
            4.699999999999999,
            4.4,
            228.6,
            8.6,
            14.4
           ],
           "yaxis": "y"
          }
         ],
         "name": "1981"
        },
        {
         "data": [
          {
           "hovertemplate": "Race=Bumi_Total<br>Year=1982<br>States=%{x}<br>Population=%{marker.size}<extra></extra>",
           "legendgroup": "Bumi_Total",
           "marker": {
            "color": "#636efa",
            "size": [
             548.5,
             953.3,
             837.9000000000001,
             881.9,
             353.2,
             260,
             282.9,
             571.9000000000001,
             331.7,
             859.5999999999999,
             122.3,
             752.5,
             753.7,
             979.9000000000001
            ],
            "sizemode": "area",
            "sizeref": 1.0821944444444442,
            "symbol": "circle"
           },
           "mode": "markers",
           "name": "Bumi_Total",
           "orientation": "v",
           "showlegend": true,
           "type": "scatter",
           "x": [
            "Terengganu",
            "Johor",
            "Kedah",
            "Kelantan",
            "Kuala Lumpur",
            "Melaka",
            "Negeri Sembilan",
            "Pahang",
            "Pulau Pinang",
            "Perak",
            "Perlis",
            "Sabah",
            "Selangor",
            "Sarawak"
           ],
           "xaxis": "x",
           "y": [
            548.5,
            953.3,
            837.9000000000001,
            881.9,
            353.2,
            260,
            282.9,
            571.9000000000001,
            331.7,
            859.5999999999999,
            122.3,
            752.5,
            753.7,
            979.9000000000001
           ],
           "yaxis": "y"
          },
          {
           "hovertemplate": "Race=Chinese_Total<br>Year=1982<br>States=%{x}<br>Population=%{marker.size}<extra></extra>",
           "legendgroup": "Chinese_Total",
           "marker": {
            "color": "#EF553B",
            "size": [
             27.299999999999997,
             661.7,
             214.89999999999998,
             49.8,
             523.3,
             179.1,
             212.7,
             210.8,
             536.2,
             740.6,
             24,
             181,
             608.8,
             411.29999999999995
            ],
            "sizemode": "area",
            "sizeref": 1.0821944444444442,
            "symbol": "circle"
           },
           "mode": "markers",
           "name": "Chinese_Total",
           "orientation": "v",
           "showlegend": true,
           "type": "scatter",
           "x": [
            "Terengganu",
            "Johor",
            "Kedah",
            "Kelantan",
            "Kuala Lumpur",
            "Melaka",
            "Negeri Sembilan",
            "Pahang",
            "Pulau Pinang",
            "Perak",
            "Perlis",
            "Sabah",
            "Selangor",
            "Sarawak"
           ],
           "xaxis": "x",
           "y": [
            27.299999999999997,
            661.7,
            214.89999999999998,
            49.8,
            523.3,
            179.1,
            212.7,
            210.8,
            536.2,
            740.6,
            24,
            181,
            608.8,
            411.29999999999995
           ],
           "yaxis": "y"
          },
          {
           "hovertemplate": "Race=Indian_Total<br>Year=1982<br>States=%{x}<br>Population=%{marker.size}<extra></extra>",
           "legendgroup": "Indian_Total",
           "marker": {
            "color": "#00cc96",
            "size": [
             2.7,
             114.9,
             89.8,
             6.6,
             141,
             36.3,
             101.4,
             57.3,
             112.80000000000001,
             261.5,
             4.2,
             8.2,
             296.2,
             3.8000000000000003
            ],
            "sizemode": "area",
            "sizeref": 1.0821944444444442,
            "symbol": "circle"
           },
           "mode": "markers",
           "name": "Indian_Total",
           "orientation": "v",
           "showlegend": true,
           "type": "scatter",
           "x": [
            "Terengganu",
            "Johor",
            "Kedah",
            "Kelantan",
            "Kuala Lumpur",
            "Melaka",
            "Negeri Sembilan",
            "Pahang",
            "Pulau Pinang",
            "Perak",
            "Perlis",
            "Sabah",
            "Selangor",
            "Sarawak"
           ],
           "xaxis": "x",
           "y": [
            2.7,
            114.9,
            89.8,
            6.6,
            141,
            36.3,
            101.4,
            57.3,
            112.80000000000001,
            261.5,
            4.2,
            8.2,
            296.2,
            3.8000000000000003
           ],
           "yaxis": "y"
          },
          {
           "hovertemplate": "Race=Other_Total<br>Year=1982<br>States=%{x}<br>Population=%{marker.size}<extra></extra>",
           "legendgroup": "Other_Total",
           "marker": {
            "color": "#ab63fa",
            "size": [
             2.8,
             4.8,
             19.1,
             8.8,
             11.1,
             3.4,
             1.9,
             2.3,
             10.3,
             5.1,
             4.4,
             244.79999999999998,
             9.6,
             15.3
            ],
            "sizemode": "area",
            "sizeref": 1.0821944444444442,
            "symbol": "circle"
           },
           "mode": "markers",
           "name": "Other_Total",
           "orientation": "v",
           "showlegend": true,
           "type": "scatter",
           "x": [
            "Terengganu",
            "Johor",
            "Kedah",
            "Kelantan",
            "Kuala Lumpur",
            "Melaka",
            "Negeri Sembilan",
            "Pahang",
            "Pulau Pinang",
            "Perak",
            "Perlis",
            "Sabah",
            "Selangor",
            "Sarawak"
           ],
           "xaxis": "x",
           "y": [
            2.8,
            4.8,
            19.1,
            8.8,
            11.1,
            3.4,
            1.9,
            2.3,
            10.3,
            5.1,
            4.4,
            244.79999999999998,
            9.6,
            15.3
           ],
           "yaxis": "y"
          }
         ],
         "name": "1982"
        },
        {
         "data": [
          {
           "hovertemplate": "Race=Bumi_Total<br>Year=1983<br>States=%{x}<br>Population=%{marker.size}<extra></extra>",
           "legendgroup": "Bumi_Total",
           "marker": {
            "color": "#636efa",
            "size": [
             569.0999999999999,
             982.2,
             856.8,
             908.6,
             369.5,
             265.4,
             293,
             593.8,
             341.8,
             881.4,
             125.6,
             799.2,
             798.7,
             1001.5
            ],
            "sizemode": "area",
            "sizeref": 1.0821944444444442,
            "symbol": "circle"
           },
           "mode": "markers",
           "name": "Bumi_Total",
           "orientation": "v",
           "showlegend": true,
           "type": "scatter",
           "x": [
            "Terengganu",
            "Johor",
            "Kedah",
            "Kelantan",
            "Kuala Lumpur",
            "Melaka",
            "Negeri Sembilan",
            "Pahang",
            "Pulau Pinang",
            "Perak",
            "Perlis",
            "Sabah",
            "Selangor",
            "Sarawak"
           ],
           "xaxis": "x",
           "y": [
            569.0999999999999,
            982.2,
            856.8,
            908.6,
            369.5,
            265.4,
            293,
            593.8,
            341.8,
            881.4,
            125.6,
            799.2,
            798.7,
            1001.5
           ],
           "yaxis": "y"
          },
          {
           "hovertemplate": "Race=Chinese_Total<br>Year=1983<br>States=%{x}<br>Population=%{marker.size}<extra></extra>",
           "legendgroup": "Chinese_Total",
           "marker": {
            "color": "#EF553B",
            "size": [
             27.5,
             674.2,
             216.8,
             50.7,
             528.4,
             179.5,
             213.2,
             210.3,
             540.7,
             740.5999999999999,
             24,
             185.9,
             626.6,
             419.1
            ],
            "sizemode": "area",
            "sizeref": 1.0821944444444442,
            "symbol": "circle"
           },
           "mode": "markers",
           "name": "Chinese_Total",
           "orientation": "v",
           "showlegend": true,
           "type": "scatter",
           "x": [
            "Terengganu",
            "Johor",
            "Kedah",
            "Kelantan",
            "Kuala Lumpur",
            "Melaka",
            "Negeri Sembilan",
            "Pahang",
            "Pulau Pinang",
            "Perak",
            "Perlis",
            "Sabah",
            "Selangor",
            "Sarawak"
           ],
           "xaxis": "x",
           "y": [
            27.5,
            674.2,
            216.8,
            50.7,
            528.4,
            179.5,
            213.2,
            210.3,
            540.7,
            740.5999999999999,
            24,
            185.9,
            626.6,
            419.1
           ],
           "yaxis": "y"
          },
          {
           "hovertemplate": "Race=Indian_Total<br>Year=1983<br>States=%{x}<br>Population=%{marker.size}<extra></extra>",
           "legendgroup": "Indian_Total",
           "marker": {
            "color": "#00cc96",
            "size": [
             2.6,
             117.9,
             90.9,
             6.5,
             140.9,
             36.5,
             103.1,
             58.099999999999994,
             114,
             263.6,
             4.1,
             8.7,
             308,
             3.9
            ],
            "sizemode": "area",
            "sizeref": 1.0821944444444442,
            "symbol": "circle"
           },
           "mode": "markers",
           "name": "Indian_Total",
           "orientation": "v",
           "showlegend": true,
           "type": "scatter",
           "x": [
            "Terengganu",
            "Johor",
            "Kedah",
            "Kelantan",
            "Kuala Lumpur",
            "Melaka",
            "Negeri Sembilan",
            "Pahang",
            "Pulau Pinang",
            "Perak",
            "Perlis",
            "Sabah",
            "Selangor",
            "Sarawak"
           ],
           "xaxis": "x",
           "y": [
            2.6,
            117.9,
            90.9,
            6.5,
            140.9,
            36.5,
            103.1,
            58.099999999999994,
            114,
            263.6,
            4.1,
            8.7,
            308,
            3.9
           ],
           "yaxis": "y"
          },
          {
           "hovertemplate": "Race=Other_Total<br>Year=1983<br>States=%{x}<br>Population=%{marker.size}<extra></extra>",
           "legendgroup": "Other_Total",
           "marker": {
            "color": "#ab63fa",
            "size": [
             3.5999999999999996,
             5.9,
             19.4,
             8.7,
             11.8,
             3.4,
             1.9,
             2.5,
             9.8,
             5.5,
             4.5,
             261.3,
             10.4,
             16.1
            ],
            "sizemode": "area",
            "sizeref": 1.0821944444444442,
            "symbol": "circle"
           },
           "mode": "markers",
           "name": "Other_Total",
           "orientation": "v",
           "showlegend": true,
           "type": "scatter",
           "x": [
            "Terengganu",
            "Johor",
            "Kedah",
            "Kelantan",
            "Kuala Lumpur",
            "Melaka",
            "Negeri Sembilan",
            "Pahang",
            "Pulau Pinang",
            "Perak",
            "Perlis",
            "Sabah",
            "Selangor",
            "Sarawak"
           ],
           "xaxis": "x",
           "y": [
            3.5999999999999996,
            5.9,
            19.4,
            8.7,
            11.8,
            3.4,
            1.9,
            2.5,
            9.8,
            5.5,
            4.5,
            261.3,
            10.4,
            16.1
           ],
           "yaxis": "y"
          }
         ],
         "name": "1983"
        },
        {
         "data": [
          {
           "hovertemplate": "Race=Bumi_Total<br>Year=1984<br>States=%{x}<br>Population=%{marker.size}<extra></extra>",
           "legendgroup": "Bumi_Total",
           "marker": {
            "color": "#636efa",
            "size": [
             590.9000000000001,
             1012.2,
             875.8,
             935.7,
             385.5,
             271.3,
             303.7,
             617.4000000000001,
             352,
             901.0999999999999,
             129,
             847.7,
             847,
             1023.9000000000001
            ],
            "sizemode": "area",
            "sizeref": 1.0821944444444442,
            "symbol": "circle"
           },
           "mode": "markers",
           "name": "Bumi_Total",
           "orientation": "v",
           "showlegend": true,
           "type": "scatter",
           "x": [
            "Terengganu",
            "Johor",
            "Kedah",
            "Kelantan",
            "Kuala Lumpur",
            "Melaka",
            "Negeri Sembilan",
            "Pahang",
            "Pulau Pinang",
            "Perak",
            "Perlis",
            "Sabah",
            "Selangor",
            "Sarawak"
           ],
           "xaxis": "x",
           "y": [
            590.9000000000001,
            1012.2,
            875.8,
            935.7,
            385.5,
            271.3,
            303.7,
            617.4000000000001,
            352,
            901.0999999999999,
            129,
            847.7,
            847,
            1023.9000000000001
           ],
           "yaxis": "y"
          },
          {
           "hovertemplate": "Race=Chinese_Total<br>Year=1984<br>States=%{x}<br>Population=%{marker.size}<extra></extra>",
           "legendgroup": "Chinese_Total",
           "marker": {
            "color": "#EF553B",
            "size": [
             27.8,
             686.0999999999999,
             218.7,
             51.599999999999994,
             533.5,
             179.7,
             213.6,
             209.60000000000002,
             544.8,
             739.8,
             24,
             190.8,
             644.3,
             426.4
            ],
            "sizemode": "area",
            "sizeref": 1.0821944444444442,
            "symbol": "circle"
           },
           "mode": "markers",
           "name": "Chinese_Total",
           "orientation": "v",
           "showlegend": true,
           "type": "scatter",
           "x": [
            "Terengganu",
            "Johor",
            "Kedah",
            "Kelantan",
            "Kuala Lumpur",
            "Melaka",
            "Negeri Sembilan",
            "Pahang",
            "Pulau Pinang",
            "Perak",
            "Perlis",
            "Sabah",
            "Selangor",
            "Sarawak"
           ],
           "xaxis": "x",
           "y": [
            27.8,
            686.0999999999999,
            218.7,
            51.599999999999994,
            533.5,
            179.7,
            213.6,
            209.60000000000002,
            544.8,
            739.8,
            24,
            190.8,
            644.3,
            426.4
           ],
           "yaxis": "y"
          },
          {
           "hovertemplate": "Race=Indian_Total<br>Year=1984<br>States=%{x}<br>Population=%{marker.size}<extra></extra>",
           "legendgroup": "Indian_Total",
           "marker": {
            "color": "#00cc96",
            "size": [
             2.7,
             120.6,
             92,
             6.4,
             140.9,
             36.7,
             104.7,
             58.8,
             115.1,
             265.5,
             4.1,
             9.100000000000001,
             319.20000000000005,
             4.1
            ],
            "sizemode": "area",
            "sizeref": 1.0821944444444442,
            "symbol": "circle"
           },
           "mode": "markers",
           "name": "Indian_Total",
           "orientation": "v",
           "showlegend": true,
           "type": "scatter",
           "x": [
            "Terengganu",
            "Johor",
            "Kedah",
            "Kelantan",
            "Kuala Lumpur",
            "Melaka",
            "Negeri Sembilan",
            "Pahang",
            "Pulau Pinang",
            "Perak",
            "Perlis",
            "Sabah",
            "Selangor",
            "Sarawak"
           ],
           "xaxis": "x",
           "y": [
            2.7,
            120.6,
            92,
            6.4,
            140.9,
            36.7,
            104.7,
            58.8,
            115.1,
            265.5,
            4.1,
            9.100000000000001,
            319.20000000000005,
            4.1
           ],
           "yaxis": "y"
          },
          {
           "hovertemplate": "Race=Other_Total<br>Year=1984<br>States=%{x}<br>Population=%{marker.size}<extra></extra>",
           "legendgroup": "Other_Total",
           "marker": {
            "color": "#ab63fa",
            "size": [
             4.4,
             7,
             19.5,
             8.7,
             12.399999999999999,
             3.4,
             1.9,
             2.7,
             9.3,
             6,
             4.6,
             278.1,
             11.399999999999999,
             17
            ],
            "sizemode": "area",
            "sizeref": 1.0821944444444442,
            "symbol": "circle"
           },
           "mode": "markers",
           "name": "Other_Total",
           "orientation": "v",
           "showlegend": true,
           "type": "scatter",
           "x": [
            "Terengganu",
            "Johor",
            "Kedah",
            "Kelantan",
            "Kuala Lumpur",
            "Melaka",
            "Negeri Sembilan",
            "Pahang",
            "Pulau Pinang",
            "Perak",
            "Perlis",
            "Sabah",
            "Selangor",
            "Sarawak"
           ],
           "xaxis": "x",
           "y": [
            4.4,
            7,
            19.5,
            8.7,
            12.399999999999999,
            3.4,
            1.9,
            2.7,
            9.3,
            6,
            4.6,
            278.1,
            11.399999999999999,
            17
           ],
           "yaxis": "y"
          }
         ],
         "name": "1984"
        },
        {
         "data": [
          {
           "hovertemplate": "Race=Bumi_Total<br>Year=1985<br>States=%{x}<br>Population=%{marker.size}<extra></extra>",
           "legendgroup": "Bumi_Total",
           "marker": {
            "color": "#636efa",
            "size": [
             615.5,
             1045.6,
             897,
             965.2,
             402.8,
             277.9,
             315.79999999999995,
             643.4,
             363.3,
             919.7,
             133,
             898.6,
             900.4,
             1047.5
            ],
            "sizemode": "area",
            "sizeref": 1.0821944444444442,
            "symbol": "circle"
           },
           "mode": "markers",
           "name": "Bumi_Total",
           "orientation": "v",
           "showlegend": true,
           "type": "scatter",
           "x": [
            "Terengganu",
            "Johor",
            "Kedah",
            "Kelantan",
            "Kuala Lumpur",
            "Melaka",
            "Negeri Sembilan",
            "Pahang",
            "Pulau Pinang",
            "Perak",
            "Perlis",
            "Sabah",
            "Selangor",
            "Sarawak"
           ],
           "xaxis": "x",
           "y": [
            615.5,
            1045.6,
            897,
            965.2,
            402.8,
            277.9,
            315.79999999999995,
            643.4,
            363.3,
            919.7,
            133,
            898.6,
            900.4,
            1047.5
           ],
           "yaxis": "y"
          },
          {
           "hovertemplate": "Race=Chinese_Total<br>Year=1985<br>States=%{x}<br>Population=%{marker.size}<extra></extra>",
           "legendgroup": "Chinese_Total",
           "marker": {
            "color": "#EF553B",
            "size": [
             28.1,
             698.4,
             220.8,
             52.5,
             539,
             180.3,
             214.3,
             209.10000000000002,
             549.4,
             738.5,
             24,
             195.6,
             662.9000000000001,
             434.3
            ],
            "sizemode": "area",
            "sizeref": 1.0821944444444442,
            "symbol": "circle"
           },
           "mode": "markers",
           "name": "Chinese_Total",
           "orientation": "v",
           "showlegend": true,
           "type": "scatter",
           "x": [
            "Terengganu",
            "Johor",
            "Kedah",
            "Kelantan",
            "Kuala Lumpur",
            "Melaka",
            "Negeri Sembilan",
            "Pahang",
            "Pulau Pinang",
            "Perak",
            "Perlis",
            "Sabah",
            "Selangor",
            "Sarawak"
           ],
           "xaxis": "x",
           "y": [
            28.1,
            698.4,
            220.8,
            52.5,
            539,
            180.3,
            214.3,
            209.10000000000002,
            549.4,
            738.5,
            24,
            195.6,
            662.9000000000001,
            434.3
           ],
           "yaxis": "y"
          },
          {
           "hovertemplate": "Race=Indian_Total<br>Year=1985<br>States=%{x}<br>Population=%{marker.size}<extra></extra>",
           "legendgroup": "Indian_Total",
           "marker": {
            "color": "#00cc96",
            "size": [
             2.7,
             123.4,
             93.30000000000001,
             6.5,
             141,
             36.9,
             106.4,
             59.7,
             116.4,
             266.9,
             4.1,
             9.5,
             330.6,
             4.2
            ],
            "sizemode": "area",
            "sizeref": 1.0821944444444442,
            "symbol": "circle"
           },
           "mode": "markers",
           "name": "Indian_Total",
           "orientation": "v",
           "showlegend": true,
           "type": "scatter",
           "x": [
            "Terengganu",
            "Johor",
            "Kedah",
            "Kelantan",
            "Kuala Lumpur",
            "Melaka",
            "Negeri Sembilan",
            "Pahang",
            "Pulau Pinang",
            "Perak",
            "Perlis",
            "Sabah",
            "Selangor",
            "Sarawak"
           ],
           "xaxis": "x",
           "y": [
            2.7,
            123.4,
            93.30000000000001,
            6.5,
            141,
            36.9,
            106.4,
            59.7,
            116.4,
            266.9,
            4.1,
            9.5,
            330.6,
            4.2
           ],
           "yaxis": "y"
          },
          {
           "hovertemplate": "Race=Other_Total<br>Year=1985<br>States=%{x}<br>Population=%{marker.size}<extra></extra>",
           "legendgroup": "Other_Total",
           "marker": {
            "color": "#ab63fa",
            "size": [
             5.3,
             8,
             19.700000000000003,
             8.8,
             13,
             3.4,
             2,
             3.1,
             8.9,
             6.300000000000001,
             4.699999999999999,
             295.1,
             12.3,
             17.9
            ],
            "sizemode": "area",
            "sizeref": 1.0821944444444442,
            "symbol": "circle"
           },
           "mode": "markers",
           "name": "Other_Total",
           "orientation": "v",
           "showlegend": true,
           "type": "scatter",
           "x": [
            "Terengganu",
            "Johor",
            "Kedah",
            "Kelantan",
            "Kuala Lumpur",
            "Melaka",
            "Negeri Sembilan",
            "Pahang",
            "Pulau Pinang",
            "Perak",
            "Perlis",
            "Sabah",
            "Selangor",
            "Sarawak"
           ],
           "xaxis": "x",
           "y": [
            5.3,
            8,
            19.700000000000003,
            8.8,
            13,
            3.4,
            2,
            3.1,
            8.9,
            6.300000000000001,
            4.699999999999999,
            295.1,
            12.3,
            17.9
           ],
           "yaxis": "y"
          }
         ],
         "name": "1985"
        },
        {
         "data": [
          {
           "hovertemplate": "Race=Bumi_Total<br>Year=1986<br>States=%{x}<br>Population=%{marker.size}<extra></extra>",
           "legendgroup": "Bumi_Total",
           "marker": {
            "color": "#636efa",
            "size": [
             641,
             1080.6,
             919.0999999999999,
             994.2,
             421.6,
             284.4,
             328.79999999999995,
             671.2,
             375.2,
             937.9,
             137.3,
             951.8,
             956.4,
             1074.4
            ],
            "sizemode": "area",
            "sizeref": 1.0821944444444442,
            "symbol": "circle"
           },
           "mode": "markers",
           "name": "Bumi_Total",
           "orientation": "v",
           "showlegend": true,
           "type": "scatter",
           "x": [
            "Terengganu",
            "Johor",
            "Kedah",
            "Kelantan",
            "Kuala Lumpur",
            "Melaka",
            "Negeri Sembilan",
            "Pahang",
            "Pulau Pinang",
            "Perak",
            "Perlis",
            "Sabah",
            "Selangor",
            "Sarawak"
           ],
           "xaxis": "x",
           "y": [
            641,
            1080.6,
            919.0999999999999,
            994.2,
            421.6,
            284.4,
            328.79999999999995,
            671.2,
            375.2,
            937.9,
            137.3,
            951.8,
            956.4,
            1074.4
           ],
           "yaxis": "y"
          },
          {
           "hovertemplate": "Race=Chinese_Total<br>Year=1986<br>States=%{x}<br>Population=%{marker.size}<extra></extra>",
           "legendgroup": "Chinese_Total",
           "marker": {
            "color": "#EF553B",
            "size": [
             28.4,
             710.0999999999999,
             222.5,
             53.5,
             544.0999999999999,
             180.5,
             214.6,
             208.3,
             553.6,
             737.3,
             24.1,
             200.4,
             681,
             442
            ],
            "sizemode": "area",
            "sizeref": 1.0821944444444442,
            "symbol": "circle"
           },
           "mode": "markers",
           "name": "Chinese_Total",
           "orientation": "v",
           "showlegend": true,
           "type": "scatter",
           "x": [
            "Terengganu",
            "Johor",
            "Kedah",
            "Kelantan",
            "Kuala Lumpur",
            "Melaka",
            "Negeri Sembilan",
            "Pahang",
            "Pulau Pinang",
            "Perak",
            "Perlis",
            "Sabah",
            "Selangor",
            "Sarawak"
           ],
           "xaxis": "x",
           "y": [
            28.4,
            710.0999999999999,
            222.5,
            53.5,
            544.0999999999999,
            180.5,
            214.6,
            208.3,
            553.6,
            737.3,
            24.1,
            200.4,
            681,
            442
           ],
           "yaxis": "y"
          },
          {
           "hovertemplate": "Race=Indian_Total<br>Year=1986<br>States=%{x}<br>Population=%{marker.size}<extra></extra>",
           "legendgroup": "Indian_Total",
           "marker": {
            "color": "#00cc96",
            "size": [
             2.7,
             126.4,
             94.69999999999999,
             6.4,
             141.1,
             37.099999999999994,
             108.3,
             60.7,
             117.69999999999999,
             268.6,
             4,
             9.9,
             341.8,
             4.3
            ],
            "sizemode": "area",
            "sizeref": 1.0821944444444442,
            "symbol": "circle"
           },
           "mode": "markers",
           "name": "Indian_Total",
           "orientation": "v",
           "showlegend": true,
           "type": "scatter",
           "x": [
            "Terengganu",
            "Johor",
            "Kedah",
            "Kelantan",
            "Kuala Lumpur",
            "Melaka",
            "Negeri Sembilan",
            "Pahang",
            "Pulau Pinang",
            "Perak",
            "Perlis",
            "Sabah",
            "Selangor",
            "Sarawak"
           ],
           "xaxis": "x",
           "y": [
            2.7,
            126.4,
            94.69999999999999,
            6.4,
            141.1,
            37.099999999999994,
            108.3,
            60.7,
            117.69999999999999,
            268.6,
            4,
            9.9,
            341.8,
            4.3
           ],
           "yaxis": "y"
          },
          {
           "hovertemplate": "Race=Other_Total<br>Year=1986<br>States=%{x}<br>Population=%{marker.size}<extra></extra>",
           "legendgroup": "Other_Total",
           "marker": {
            "color": "#ab63fa",
            "size": [
             6.1,
             9.2,
             20,
             8.8,
             13.7,
             3.6,
             2,
             3.3,
             8.4,
             6.9,
             4.8,
             312.29999999999995,
             13.3,
             18.8
            ],
            "sizemode": "area",
            "sizeref": 1.0821944444444442,
            "symbol": "circle"
           },
           "mode": "markers",
           "name": "Other_Total",
           "orientation": "v",
           "showlegend": true,
           "type": "scatter",
           "x": [
            "Terengganu",
            "Johor",
            "Kedah",
            "Kelantan",
            "Kuala Lumpur",
            "Melaka",
            "Negeri Sembilan",
            "Pahang",
            "Pulau Pinang",
            "Perak",
            "Perlis",
            "Sabah",
            "Selangor",
            "Sarawak"
           ],
           "xaxis": "x",
           "y": [
            6.1,
            9.2,
            20,
            8.8,
            13.7,
            3.6,
            2,
            3.3,
            8.4,
            6.9,
            4.8,
            312.29999999999995,
            13.3,
            18.8
           ],
           "yaxis": "y"
          }
         ],
         "name": "1986"
        },
        {
         "data": [
          {
           "hovertemplate": "Race=Bumi_Total<br>Year=1987<br>States=%{x}<br>Population=%{marker.size}<extra></extra>",
           "legendgroup": "Bumi_Total",
           "marker": {
            "color": "#636efa",
            "size": [
             666.2,
             1117,
             941.2,
             1023.9,
             441.4,
             291.4,
             341.6,
             698.5,
             387,
             955.0999999999999,
             141.6,
             1006.4000000000001,
             1014.3,
             1102.4
            ],
            "sizemode": "area",
            "sizeref": 1.0821944444444442,
            "symbol": "circle"
           },
           "mode": "markers",
           "name": "Bumi_Total",
           "orientation": "v",
           "showlegend": true,
           "type": "scatter",
           "x": [
            "Terengganu",
            "Johor",
            "Kedah",
            "Kelantan",
            "Kuala Lumpur",
            "Melaka",
            "Negeri Sembilan",
            "Pahang",
            "Pulau Pinang",
            "Perak",
            "Perlis",
            "Sabah",
            "Selangor",
            "Sarawak"
           ],
           "xaxis": "x",
           "y": [
            666.2,
            1117,
            941.2,
            1023.9,
            441.4,
            291.4,
            341.6,
            698.5,
            387,
            955.0999999999999,
            141.6,
            1006.4000000000001,
            1014.3,
            1102.4
           ],
           "yaxis": "y"
          },
          {
           "hovertemplate": "Race=Chinese_Total<br>Year=1987<br>States=%{x}<br>Population=%{marker.size}<extra></extra>",
           "legendgroup": "Chinese_Total",
           "marker": {
            "color": "#EF553B",
            "size": [
             28.6,
             720.8,
             223.7,
             54.3,
             548.3,
             180.7,
             214.89999999999998,
             207.3,
             556.2,
             734.4000000000001,
             24,
             204.7,
             698,
             449.4
            ],
            "sizemode": "area",
            "sizeref": 1.0821944444444442,
            "symbol": "circle"
           },
           "mode": "markers",
           "name": "Chinese_Total",
           "orientation": "v",
           "showlegend": true,
           "type": "scatter",
           "x": [
            "Terengganu",
            "Johor",
            "Kedah",
            "Kelantan",
            "Kuala Lumpur",
            "Melaka",
            "Negeri Sembilan",
            "Pahang",
            "Pulau Pinang",
            "Perak",
            "Perlis",
            "Sabah",
            "Selangor",
            "Sarawak"
           ],
           "xaxis": "x",
           "y": [
            28.6,
            720.8,
            223.7,
            54.3,
            548.3,
            180.7,
            214.89999999999998,
            207.3,
            556.2,
            734.4000000000001,
            24,
            204.7,
            698,
            449.4
           ],
           "yaxis": "y"
          },
          {
           "hovertemplate": "Race=Indian_Total<br>Year=1987<br>States=%{x}<br>Population=%{marker.size}<extra></extra>",
           "legendgroup": "Indian_Total",
           "marker": {
            "color": "#00cc96",
            "size": [
             2.7,
             129.8,
             96.1,
             6.3,
             141,
             37.3,
             110.3,
             61.7,
             119.3,
             270.6,
             3.9,
             10.4,
             353.1,
             4.4
            ],
            "sizemode": "area",
            "sizeref": 1.0821944444444442,
            "symbol": "circle"
           },
           "mode": "markers",
           "name": "Indian_Total",
           "orientation": "v",
           "showlegend": true,
           "type": "scatter",
           "x": [
            "Terengganu",
            "Johor",
            "Kedah",
            "Kelantan",
            "Kuala Lumpur",
            "Melaka",
            "Negeri Sembilan",
            "Pahang",
            "Pulau Pinang",
            "Perak",
            "Perlis",
            "Sabah",
            "Selangor",
            "Sarawak"
           ],
           "xaxis": "x",
           "y": [
            2.7,
            129.8,
            96.1,
            6.3,
            141,
            37.3,
            110.3,
            61.7,
            119.3,
            270.6,
            3.9,
            10.4,
            353.1,
            4.4
           ],
           "yaxis": "y"
          },
          {
           "hovertemplate": "Race=Other_Total<br>Year=1987<br>States=%{x}<br>Population=%{marker.size}<extra></extra>",
           "legendgroup": "Other_Total",
           "marker": {
            "color": "#ab63fa",
            "size": [
             6.9,
             10.399999999999999,
             20.2,
             8.8,
             14.3,
             3.6,
             2,
             3.6,
             8,
             7.4,
             5,
             329.29999999999995,
             14.299999999999999,
             19.9
            ],
            "sizemode": "area",
            "sizeref": 1.0821944444444442,
            "symbol": "circle"
           },
           "mode": "markers",
           "name": "Other_Total",
           "orientation": "v",
           "showlegend": true,
           "type": "scatter",
           "x": [
            "Terengganu",
            "Johor",
            "Kedah",
            "Kelantan",
            "Kuala Lumpur",
            "Melaka",
            "Negeri Sembilan",
            "Pahang",
            "Pulau Pinang",
            "Perak",
            "Perlis",
            "Sabah",
            "Selangor",
            "Sarawak"
           ],
           "xaxis": "x",
           "y": [
            6.9,
            10.399999999999999,
            20.2,
            8.8,
            14.3,
            3.6,
            2,
            3.6,
            8,
            7.4,
            5,
            329.29999999999995,
            14.299999999999999,
            19.9
           ],
           "yaxis": "y"
          }
         ],
         "name": "1987"
        },
        {
         "data": [
          {
           "hovertemplate": "Race=Bumi_Total<br>Year=1988<br>States=%{x}<br>Population=%{marker.size}<extra></extra>",
           "legendgroup": "Bumi_Total",
           "marker": {
            "color": "#636efa",
            "size": [
             691.7,
             1154.2,
             962.3,
             1053.7,
             461.2,
             298.2,
             353.70000000000005,
             725.5999999999999,
             398.6,
             968.5,
             145.7,
             1062.4,
             1073.1,
             1131.6
            ],
            "sizemode": "area",
            "sizeref": 1.0821944444444442,
            "symbol": "circle"
           },
           "mode": "markers",
           "name": "Bumi_Total",
           "orientation": "v",
           "showlegend": true,
           "type": "scatter",
           "x": [
            "Terengganu",
            "Johor",
            "Kedah",
            "Kelantan",
            "Kuala Lumpur",
            "Melaka",
            "Negeri Sembilan",
            "Pahang",
            "Pulau Pinang",
            "Perak",
            "Perlis",
            "Sabah",
            "Selangor",
            "Sarawak"
           ],
           "xaxis": "x",
           "y": [
            691.7,
            1154.2,
            962.3,
            1053.7,
            461.2,
            298.2,
            353.70000000000005,
            725.5999999999999,
            398.6,
            968.5,
            145.7,
            1062.4,
            1073.1,
            1131.6
           ],
           "yaxis": "y"
          },
          {
           "hovertemplate": "Race=Chinese_Total<br>Year=1988<br>States=%{x}<br>Population=%{marker.size}<extra></extra>",
           "legendgroup": "Chinese_Total",
           "marker": {
            "color": "#EF553B",
            "size": [
             28.8,
             732.2,
             225.10000000000002,
             55.099999999999994,
             552.6,
             181.2,
             215.39999999999998,
             206.5,
             559.6,
             730.9,
             24,
             209.2,
             715.1,
             457.5
            ],
            "sizemode": "area",
            "sizeref": 1.0821944444444442,
            "symbol": "circle"
           },
           "mode": "markers",
           "name": "Chinese_Total",
           "orientation": "v",
           "showlegend": true,
           "type": "scatter",
           "x": [
            "Terengganu",
            "Johor",
            "Kedah",
            "Kelantan",
            "Kuala Lumpur",
            "Melaka",
            "Negeri Sembilan",
            "Pahang",
            "Pulau Pinang",
            "Perak",
            "Perlis",
            "Sabah",
            "Selangor",
            "Sarawak"
           ],
           "xaxis": "x",
           "y": [
            28.8,
            732.2,
            225.10000000000002,
            55.099999999999994,
            552.6,
            181.2,
            215.39999999999998,
            206.5,
            559.6,
            730.9,
            24,
            209.2,
            715.1,
            457.5
           ],
           "yaxis": "y"
          },
          {
           "hovertemplate": "Race=Indian_Total<br>Year=1988<br>States=%{x}<br>Population=%{marker.size}<extra></extra>",
           "legendgroup": "Indian_Total",
           "marker": {
            "color": "#00cc96",
            "size": [
             2.7,
             132.9,
             97.4,
             6.3,
             141,
             37.5,
             112.1,
             62.5,
             120.80000000000001,
             272.20000000000005,
             3.9,
             10.9,
             363.3,
             4.5
            ],
            "sizemode": "area",
            "sizeref": 1.0821944444444442,
            "symbol": "circle"
           },
           "mode": "markers",
           "name": "Indian_Total",
           "orientation": "v",
           "showlegend": true,
           "type": "scatter",
           "x": [
            "Terengganu",
            "Johor",
            "Kedah",
            "Kelantan",
            "Kuala Lumpur",
            "Melaka",
            "Negeri Sembilan",
            "Pahang",
            "Pulau Pinang",
            "Perak",
            "Perlis",
            "Sabah",
            "Selangor",
            "Sarawak"
           ],
           "xaxis": "x",
           "y": [
            2.7,
            132.9,
            97.4,
            6.3,
            141,
            37.5,
            112.1,
            62.5,
            120.80000000000001,
            272.20000000000005,
            3.9,
            10.9,
            363.3,
            4.5
           ],
           "yaxis": "y"
          },
          {
           "hovertemplate": "Race=Other_Total<br>Year=1988<br>States=%{x}<br>Population=%{marker.size}<extra></extra>",
           "legendgroup": "Other_Total",
           "marker": {
            "color": "#ab63fa",
            "size": [
             7.7,
             11.6,
             20.5,
             8.9,
             14.8,
             3.6,
             2.2,
             3.8,
             7.6,
             7.9,
             5.1,
             347.1,
             15.4,
             20.799999999999997
            ],
            "sizemode": "area",
            "sizeref": 1.0821944444444442,
            "symbol": "circle"
           },
           "mode": "markers",
           "name": "Other_Total",
           "orientation": "v",
           "showlegend": true,
           "type": "scatter",
           "x": [
            "Terengganu",
            "Johor",
            "Kedah",
            "Kelantan",
            "Kuala Lumpur",
            "Melaka",
            "Negeri Sembilan",
            "Pahang",
            "Pulau Pinang",
            "Perak",
            "Perlis",
            "Sabah",
            "Selangor",
            "Sarawak"
           ],
           "xaxis": "x",
           "y": [
            7.7,
            11.6,
            20.5,
            8.9,
            14.8,
            3.6,
            2.2,
            3.8,
            7.6,
            7.9,
            5.1,
            347.1,
            15.4,
            20.799999999999997
           ],
           "yaxis": "y"
          }
         ],
         "name": "1988"
        },
        {
         "data": [
          {
           "hovertemplate": "Race=Bumi_Total<br>Year=1989<br>States=%{x}<br>Population=%{marker.size}<extra></extra>",
           "legendgroup": "Bumi_Total",
           "marker": {
            "color": "#636efa",
            "size": [
             717.1,
             1191,
             982.3,
             1083.4,
             480.3,
             304.4,
             366,
             752.7,
             409.79999999999995,
             978.4,
             149.8,
             1117.4,
             1132,
             1160.1
            ],
            "sizemode": "area",
            "sizeref": 1.0821944444444442,
            "symbol": "circle"
           },
           "mode": "markers",
           "name": "Bumi_Total",
           "orientation": "v",
           "showlegend": true,
           "type": "scatter",
           "x": [
            "Terengganu",
            "Johor",
            "Kedah",
            "Kelantan",
            "Kuala Lumpur",
            "Melaka",
            "Negeri Sembilan",
            "Pahang",
            "Pulau Pinang",
            "Perak",
            "Perlis",
            "Sabah",
            "Selangor",
            "Sarawak"
           ],
           "xaxis": "x",
           "y": [
            717.1,
            1191,
            982.3,
            1083.4,
            480.3,
            304.4,
            366,
            752.7,
            409.79999999999995,
            978.4,
            149.8,
            1117.4,
            1132,
            1160.1
           ],
           "yaxis": "y"
          },
          {
           "hovertemplate": "Race=Chinese_Total<br>Year=1989<br>States=%{x}<br>Population=%{marker.size}<extra></extra>",
           "legendgroup": "Chinese_Total",
           "marker": {
            "color": "#EF553B",
            "size": [
             29.2,
             745.5999999999999,
             227,
             56,
             557.5,
             181.60000000000002,
             215.9,
             205.7,
             564.1,
             727.8,
             24,
             214.1,
             733.7,
             466
            ],
            "sizemode": "area",
            "sizeref": 1.0821944444444442,
            "symbol": "circle"
           },
           "mode": "markers",
           "name": "Chinese_Total",
           "orientation": "v",
           "showlegend": true,
           "type": "scatter",
           "x": [
            "Terengganu",
            "Johor",
            "Kedah",
            "Kelantan",
            "Kuala Lumpur",
            "Melaka",
            "Negeri Sembilan",
            "Pahang",
            "Pulau Pinang",
            "Perak",
            "Perlis",
            "Sabah",
            "Selangor",
            "Sarawak"
           ],
           "xaxis": "x",
           "y": [
            29.2,
            745.5999999999999,
            227,
            56,
            557.5,
            181.60000000000002,
            215.9,
            205.7,
            564.1,
            727.8,
            24,
            214.1,
            733.7,
            466
           ],
           "yaxis": "y"
          },
          {
           "hovertemplate": "Race=Indian_Total<br>Year=1989<br>States=%{x}<br>Population=%{marker.size}<extra></extra>",
           "legendgroup": "Indian_Total",
           "marker": {
            "color": "#00cc96",
            "size": [
             2.7,
             136.2,
             98.8,
             6.2,
             141,
             37.7,
             114,
             63.4,
             122.19999999999999,
             273.1,
             3.8,
             11.3,
             372.6,
             4.6
            ],
            "sizemode": "area",
            "sizeref": 1.0821944444444442,
            "symbol": "circle"
           },
           "mode": "markers",
           "name": "Indian_Total",
           "orientation": "v",
           "showlegend": true,
           "type": "scatter",
           "x": [
            "Terengganu",
            "Johor",
            "Kedah",
            "Kelantan",
            "Kuala Lumpur",
            "Melaka",
            "Negeri Sembilan",
            "Pahang",
            "Pulau Pinang",
            "Perak",
            "Perlis",
            "Sabah",
            "Selangor",
            "Sarawak"
           ],
           "xaxis": "x",
           "y": [
            2.7,
            136.2,
            98.8,
            6.2,
            141,
            37.7,
            114,
            63.4,
            122.19999999999999,
            273.1,
            3.8,
            11.3,
            372.6,
            4.6
           ],
           "yaxis": "y"
          },
          {
           "hovertemplate": "Race=Other_Total<br>Year=1989<br>States=%{x}<br>Population=%{marker.size}<extra></extra>",
           "legendgroup": "Other_Total",
           "marker": {
            "color": "#ab63fa",
            "size": [
             8.399999999999999,
             12.7,
             20.7,
             8.9,
             15.5,
             3.8,
             2.3,
             4.1,
             7.2,
             8.399999999999999,
             5.2,
             366.1,
             16.5,
             21.8
            ],
            "sizemode": "area",
            "sizeref": 1.0821944444444442,
            "symbol": "circle"
           },
           "mode": "markers",
           "name": "Other_Total",
           "orientation": "v",
           "showlegend": true,
           "type": "scatter",
           "x": [
            "Terengganu",
            "Johor",
            "Kedah",
            "Kelantan",
            "Kuala Lumpur",
            "Melaka",
            "Negeri Sembilan",
            "Pahang",
            "Pulau Pinang",
            "Perak",
            "Perlis",
            "Sabah",
            "Selangor",
            "Sarawak"
           ],
           "xaxis": "x",
           "y": [
            8.399999999999999,
            12.7,
            20.7,
            8.9,
            15.5,
            3.8,
            2.3,
            4.1,
            7.2,
            8.399999999999999,
            5.2,
            366.1,
            16.5,
            21.8
           ],
           "yaxis": "y"
          }
         ],
         "name": "1989"
        },
        {
         "data": [
          {
           "hovertemplate": "Race=Bumi_Total<br>Year=1990<br>States=%{x}<br>Population=%{marker.size}<extra></extra>",
           "legendgroup": "Bumi_Total",
           "marker": {
            "color": "#636efa",
            "size": [
             743.3,
             1229.3,
             1003.3,
             1115.2,
             499.6,
             310.8,
             378.70000000000005,
             781.1,
             421.29999999999995,
             987,
             153.8,
             1172.1999999999998,
             1195.3,
             1187.5
            ],
            "sizemode": "area",
            "sizeref": 1.0821944444444442,
            "symbol": "circle"
           },
           "mode": "markers",
           "name": "Bumi_Total",
           "orientation": "v",
           "showlegend": true,
           "type": "scatter",
           "x": [
            "Terengganu",
            "Johor",
            "Kedah",
            "Kelantan",
            "Kuala Lumpur",
            "Melaka",
            "Negeri Sembilan",
            "Pahang",
            "Pulau Pinang",
            "Perak",
            "Perlis",
            "Sabah",
            "Selangor",
            "Sarawak"
           ],
           "xaxis": "x",
           "y": [
            743.3,
            1229.3,
            1003.3,
            1115.2,
            499.6,
            310.8,
            378.70000000000005,
            781.1,
            421.29999999999995,
            987,
            153.8,
            1172.1999999999998,
            1195.3,
            1187.5
           ],
           "yaxis": "y"
          },
          {
           "hovertemplate": "Race=Chinese_Total<br>Year=1990<br>States=%{x}<br>Population=%{marker.size}<extra></extra>",
           "legendgroup": "Chinese_Total",
           "marker": {
            "color": "#EF553B",
            "size": [
             29.4,
             756.7,
             227.9,
             56.8,
             561.0999999999999,
             181.8,
             216.3,
             204.5,
             566.4,
             723.2,
             24.1,
             218.7,
             750.2,
             472.6
            ],
            "sizemode": "area",
            "sizeref": 1.0821944444444442,
            "symbol": "circle"
           },
           "mode": "markers",
           "name": "Chinese_Total",
           "orientation": "v",
           "showlegend": true,
           "type": "scatter",
           "x": [
            "Terengganu",
            "Johor",
            "Kedah",
            "Kelantan",
            "Kuala Lumpur",
            "Melaka",
            "Negeri Sembilan",
            "Pahang",
            "Pulau Pinang",
            "Perak",
            "Perlis",
            "Sabah",
            "Selangor",
            "Sarawak"
           ],
           "xaxis": "x",
           "y": [
            29.4,
            756.7,
            227.9,
            56.8,
            561.0999999999999,
            181.8,
            216.3,
            204.5,
            566.4,
            723.2,
            24.1,
            218.7,
            750.2,
            472.6
           ],
           "yaxis": "y"
          },
          {
           "hovertemplate": "Race=Indian_Total<br>Year=1990<br>States=%{x}<br>Population=%{marker.size}<extra></extra>",
           "legendgroup": "Indian_Total",
           "marker": {
            "color": "#00cc96",
            "size": [
             2.7,
             139.7,
             100.1,
             6.2,
             141,
             37.8,
             116.1,
             64.3,
             123.9,
             274,
             3.8,
             11.7,
             382.4,
             4.8
            ],
            "sizemode": "area",
            "sizeref": 1.0821944444444442,
            "symbol": "circle"
           },
           "mode": "markers",
           "name": "Indian_Total",
           "orientation": "v",
           "showlegend": true,
           "type": "scatter",
           "x": [
            "Terengganu",
            "Johor",
            "Kedah",
            "Kelantan",
            "Kuala Lumpur",
            "Melaka",
            "Negeri Sembilan",
            "Pahang",
            "Pulau Pinang",
            "Perak",
            "Perlis",
            "Sabah",
            "Selangor",
            "Sarawak"
           ],
           "xaxis": "x",
           "y": [
            2.7,
            139.7,
            100.1,
            6.2,
            141,
            37.8,
            116.1,
            64.3,
            123.9,
            274,
            3.8,
            11.7,
            382.4,
            4.8
           ],
           "yaxis": "y"
          },
          {
           "hovertemplate": "Race=Other_Total<br>Year=1990<br>States=%{x}<br>Population=%{marker.size}<extra></extra>",
           "legendgroup": "Other_Total",
           "marker": {
            "color": "#ab63fa",
            "size": [
             9.1,
             13.8,
             20.9,
             8.8,
             16,
             3.8,
             2.3,
             4.300000000000001,
             6.8,
             8.899999999999999,
             5.300000000000001,
             384.9,
             17.5,
             22.9
            ],
            "sizemode": "area",
            "sizeref": 1.0821944444444442,
            "symbol": "circle"
           },
           "mode": "markers",
           "name": "Other_Total",
           "orientation": "v",
           "showlegend": true,
           "type": "scatter",
           "x": [
            "Terengganu",
            "Johor",
            "Kedah",
            "Kelantan",
            "Kuala Lumpur",
            "Melaka",
            "Negeri Sembilan",
            "Pahang",
            "Pulau Pinang",
            "Perak",
            "Perlis",
            "Sabah",
            "Selangor",
            "Sarawak"
           ],
           "xaxis": "x",
           "y": [
            9.1,
            13.8,
            20.9,
            8.8,
            16,
            3.8,
            2.3,
            4.300000000000001,
            6.8,
            8.899999999999999,
            5.300000000000001,
            384.9,
            17.5,
            22.9
           ],
           "yaxis": "y"
          }
         ],
         "name": "1990"
        },
        {
         "data": [
          {
           "hovertemplate": "Race=Bumi_Total<br>Year=1991<br>States=%{x}<br>Population=%{marker.size}<extra></extra>",
           "legendgroup": "Bumi_Total",
           "marker": {
            "color": "#636efa",
            "size": [
             756.9000000000001,
             1214.1000000000001,
             1017.1000000000001,
             1129,
             470.09999999999997,
             310.79999999999995,
             380.4,
             775.6,
             424.7,
             986.4,
             156.2,
             953.6,
             1185.3999999999999,
             959
            ],
            "sizemode": "area",
            "sizeref": 1.0821944444444442,
            "symbol": "circle"
           },
           "mode": "markers",
           "name": "Bumi_Total",
           "orientation": "v",
           "showlegend": true,
           "type": "scatter",
           "x": [
            "Terengganu",
            "Johor",
            "Kedah",
            "Kelantan",
            "Kuala Lumpur",
            "Melaka",
            "Negeri Sembilan",
            "Pahang",
            "Pulau Pinang",
            "Perak",
            "Perlis",
            "Sabah",
            "Selangor",
            "Sarawak"
           ],
           "xaxis": "x",
           "y": [
            756.9000000000001,
            1214.1000000000001,
            1017.1000000000001,
            1129,
            470.09999999999997,
            310.79999999999995,
            380.4,
            775.6,
            424.7,
            986.4,
            156.2,
            953.6,
            1185.3999999999999,
            959
           ],
           "yaxis": "y"
          },
          {
           "hovertemplate": "Race=Chinese_Total<br>Year=1991<br>States=%{x}<br>Population=%{marker.size}<extra></extra>",
           "legendgroup": "Chinese_Total",
           "marker": {
            "color": "#EF553B",
            "size": [
             29.1,
             762.7,
             227.6,
             55.2,
             580.9,
             181.2,
             215.6,
             202.1,
             563.7,
             717,
             23.9,
             212.39999999999998,
             761.4,
             479.3
            ],
            "sizemode": "area",
            "sizeref": 1.0821944444444442,
            "symbol": "circle"
           },
           "mode": "markers",
           "name": "Chinese_Total",
           "orientation": "v",
           "showlegend": true,
           "type": "scatter",
           "x": [
            "Terengganu",
            "Johor",
            "Kedah",
            "Kelantan",
            "Kuala Lumpur",
            "Melaka",
            "Negeri Sembilan",
            "Pahang",
            "Pulau Pinang",
            "Perak",
            "Perlis",
            "Sabah",
            "Selangor",
            "Sarawak"
           ],
           "xaxis": "x",
           "y": [
            29.1,
            762.7,
            227.6,
            55.2,
            580.9,
            181.2,
            215.6,
            202.1,
            563.7,
            717,
            23.9,
            212.39999999999998,
            761.4,
            479.3
           ],
           "yaxis": "y"
          },
          {
           "hovertemplate": "Race=Indian_Total<br>Year=1991<br>States=%{x}<br>Population=%{marker.size}<extra></extra>",
           "legendgroup": "Indian_Total",
           "marker": {
            "color": "#00cc96",
            "size": [
             2.7,
             140.6,
             100.30000000000001,
             6,
             140.9,
             37.7,
             117,
             64.19999999999999,
             123,
             271.4,
             3.7,
             9.4,
             385.1,
             4.6
            ],
            "sizemode": "area",
            "sizeref": 1.0821944444444442,
            "symbol": "circle"
           },
           "mode": "markers",
           "name": "Indian_Total",
           "orientation": "v",
           "showlegend": true,
           "type": "scatter",
           "x": [
            "Terengganu",
            "Johor",
            "Kedah",
            "Kelantan",
            "Kuala Lumpur",
            "Melaka",
            "Negeri Sembilan",
            "Pahang",
            "Pulau Pinang",
            "Perak",
            "Perlis",
            "Sabah",
            "Selangor",
            "Sarawak"
           ],
           "xaxis": "x",
           "y": [
            2.7,
            140.6,
            100.30000000000001,
            6,
            140.9,
            37.7,
            117,
            64.19999999999999,
            123,
            271.4,
            3.7,
            9.4,
            385.1,
            4.6
           ],
           "yaxis": "y"
          },
          {
           "hovertemplate": "Race=Other_Total<br>Year=1991<br>States=%{x}<br>Population=%{marker.size}<extra></extra>",
           "legendgroup": "Other_Total",
           "marker": {
            "color": "#ab63fa",
            "size": [
             2.2,
             14.4,
             19.3,
             11.6,
             14.6,
             3.6,
             3,
             5.9,
             4.5,
             6.5,
             4.9,
             71.8,
             24.799999999999997,
             3.2
            ],
            "sizemode": "area",
            "sizeref": 1.0821944444444442,
            "symbol": "circle"
           },
           "mode": "markers",
           "name": "Other_Total",
           "orientation": "v",
           "showlegend": true,
           "type": "scatter",
           "x": [
            "Terengganu",
            "Johor",
            "Kedah",
            "Kelantan",
            "Kuala Lumpur",
            "Melaka",
            "Negeri Sembilan",
            "Pahang",
            "Pulau Pinang",
            "Perak",
            "Perlis",
            "Sabah",
            "Selangor",
            "Sarawak"
           ],
           "xaxis": "x",
           "y": [
            2.2,
            14.4,
            19.3,
            11.6,
            14.6,
            3.6,
            3,
            5.9,
            4.5,
            6.5,
            4.9,
            71.8,
            24.799999999999997,
            3.2
           ],
           "yaxis": "y"
          }
         ],
         "name": "1991"
        },
        {
         "data": [
          {
           "hovertemplate": "Race=Bumi_Total<br>Year=1992<br>States=%{x}<br>Population=%{marker.size}<extra></extra>",
           "legendgroup": "Bumi_Total",
           "marker": {
            "color": "#636efa",
            "size": [
             770.3,
             1242.1,
             1041.6,
             1146.3000000000002,
             481.79999999999995,
             319.6,
             390.79999999999995,
             794.1,
             435.79999999999995,
             1000.6,
             158.39999999999998,
             1005.4,
             1276.6,
             975.1
            ],
            "sizemode": "area",
            "sizeref": 1.0821944444444442,
            "symbol": "circle"
           },
           "mode": "markers",
           "name": "Bumi_Total",
           "orientation": "v",
           "showlegend": true,
           "type": "scatter",
           "x": [
            "Terengganu",
            "Johor",
            "Kedah",
            "Kelantan",
            "Kuala Lumpur",
            "Melaka",
            "Negeri Sembilan",
            "Pahang",
            "Pulau Pinang",
            "Perak",
            "Perlis",
            "Sabah",
            "Selangor",
            "Sarawak"
           ],
           "xaxis": "x",
           "y": [
            770.3,
            1242.1,
            1041.6,
            1146.3000000000002,
            481.79999999999995,
            319.6,
            390.79999999999995,
            794.1,
            435.79999999999995,
            1000.6,
            158.39999999999998,
            1005.4,
            1276.6,
            975.1
           ],
           "yaxis": "y"
          },
          {
           "hovertemplate": "Race=Chinese_Total<br>Year=1992<br>States=%{x}<br>Population=%{marker.size}<extra></extra>",
           "legendgroup": "Chinese_Total",
           "marker": {
            "color": "#EF553B",
            "size": [
             28.8,
             778.9000000000001,
             229.5,
             54.8,
             581.8,
             181.5,
             216,
             204.5,
             567.7,
             711.5,
             23.6,
             218.2,
             808.3,
             485.1
            ],
            "sizemode": "area",
            "sizeref": 1.0821944444444442,
            "symbol": "circle"
           },
           "mode": "markers",
           "name": "Chinese_Total",
           "orientation": "v",
           "showlegend": true,
           "type": "scatter",
           "x": [
            "Terengganu",
            "Johor",
            "Kedah",
            "Kelantan",
            "Kuala Lumpur",
            "Melaka",
            "Negeri Sembilan",
            "Pahang",
            "Pulau Pinang",
            "Perak",
            "Perlis",
            "Sabah",
            "Selangor",
            "Sarawak"
           ],
           "xaxis": "x",
           "y": [
            28.8,
            778.9000000000001,
            229.5,
            54.8,
            581.8,
            181.5,
            216,
            204.5,
            567.7,
            711.5,
            23.6,
            218.2,
            808.3,
            485.1
           ],
           "yaxis": "y"
          },
          {
           "hovertemplate": "Race=Indian_Total<br>Year=1992<br>States=%{x}<br>Population=%{marker.size}<extra></extra>",
           "legendgroup": "Indian_Total",
           "marker": {
            "color": "#00cc96",
            "size": [
             2.7,
             144.6,
             102.1,
             5.8,
             142.4,
             37.9,
             119,
             64.19999999999999,
             124.6,
             271.4,
             3.5,
             8.9,
             405.7,
             4.6
            ],
            "sizemode": "area",
            "sizeref": 1.0821944444444442,
            "symbol": "circle"
           },
           "mode": "markers",
           "name": "Indian_Total",
           "orientation": "v",
           "showlegend": true,
           "type": "scatter",
           "x": [
            "Terengganu",
            "Johor",
            "Kedah",
            "Kelantan",
            "Kuala Lumpur",
            "Melaka",
            "Negeri Sembilan",
            "Pahang",
            "Pulau Pinang",
            "Perak",
            "Perlis",
            "Sabah",
            "Selangor",
            "Sarawak"
           ],
           "xaxis": "x",
           "y": [
            2.7,
            144.6,
            102.1,
            5.8,
            142.4,
            37.9,
            119,
            64.19999999999999,
            124.6,
            271.4,
            3.5,
            8.9,
            405.7,
            4.6
           ],
           "yaxis": "y"
          },
          {
           "hovertemplate": "Race=Other_Total<br>Year=1992<br>States=%{x}<br>Population=%{marker.size}<extra></extra>",
           "legendgroup": "Other_Total",
           "marker": {
            "color": "#ab63fa",
            "size": [
             2.4,
             15.600000000000001,
             19.9,
             11.8,
             16,
             3.9,
             3.3,
             6.5,
             4.7,
             6.6,
             5,
             78.1,
             28.200000000000003,
             3.5
            ],
            "sizemode": "area",
            "sizeref": 1.0821944444444442,
            "symbol": "circle"
           },
           "mode": "markers",
           "name": "Other_Total",
           "orientation": "v",
           "showlegend": true,
           "type": "scatter",
           "x": [
            "Terengganu",
            "Johor",
            "Kedah",
            "Kelantan",
            "Kuala Lumpur",
            "Melaka",
            "Negeri Sembilan",
            "Pahang",
            "Pulau Pinang",
            "Perak",
            "Perlis",
            "Sabah",
            "Selangor",
            "Sarawak"
           ],
           "xaxis": "x",
           "y": [
            2.4,
            15.600000000000001,
            19.9,
            11.8,
            16,
            3.9,
            3.3,
            6.5,
            4.7,
            6.6,
            5,
            78.1,
            28.200000000000003,
            3.5
           ],
           "yaxis": "y"
          }
         ],
         "name": "1992"
        },
        {
         "data": [
          {
           "hovertemplate": "Race=Bumi_Total<br>Year=1993<br>States=%{x}<br>Population=%{marker.size}<extra></extra>",
           "legendgroup": "Bumi_Total",
           "marker": {
            "color": "#636efa",
            "size": [
             783.7,
             1272.1,
             1067.1999999999998,
             1162.8000000000002,
             492.5,
             328.5,
             401.30000000000007,
             812.4,
             447.20000000000005,
             1015.1,
             160.5,
             1058.3,
             1372.7,
             993.0999999999999
            ],
            "sizemode": "area",
            "sizeref": 1.0821944444444442,
            "symbol": "circle"
           },
           "mode": "markers",
           "name": "Bumi_Total",
           "orientation": "v",
           "showlegend": true,
           "type": "scatter",
           "x": [
            "Terengganu",
            "Johor",
            "Kedah",
            "Kelantan",
            "Kuala Lumpur",
            "Melaka",
            "Negeri Sembilan",
            "Pahang",
            "Pulau Pinang",
            "Perak",
            "Perlis",
            "Sabah",
            "Selangor",
            "Sarawak"
           ],
           "xaxis": "x",
           "y": [
            783.7,
            1272.1,
            1067.1999999999998,
            1162.8000000000002,
            492.5,
            328.5,
            401.30000000000007,
            812.4,
            447.20000000000005,
            1015.1,
            160.5,
            1058.3,
            1372.7,
            993.0999999999999
           ],
           "yaxis": "y"
          },
          {
           "hovertemplate": "Race=Chinese_Total<br>Year=1993<br>States=%{x}<br>Population=%{marker.size}<extra></extra>",
           "legendgroup": "Chinese_Total",
           "marker": {
            "color": "#EF553B",
            "size": [
             28.5,
             796.6,
             231.4,
             54.3,
             581.8,
             181.89999999999998,
             216.2,
             206.8,
             571.7,
             705.5999999999999,
             23.4,
             224.2,
             857.7,
             492.1
            ],
            "sizemode": "area",
            "sizeref": 1.0821944444444442,
            "symbol": "circle"
           },
           "mode": "markers",
           "name": "Chinese_Total",
           "orientation": "v",
           "showlegend": true,
           "type": "scatter",
           "x": [
            "Terengganu",
            "Johor",
            "Kedah",
            "Kelantan",
            "Kuala Lumpur",
            "Melaka",
            "Negeri Sembilan",
            "Pahang",
            "Pulau Pinang",
            "Perak",
            "Perlis",
            "Sabah",
            "Selangor",
            "Sarawak"
           ],
           "xaxis": "x",
           "y": [
            28.5,
            796.6,
            231.4,
            54.3,
            581.8,
            181.89999999999998,
            216.2,
            206.8,
            571.7,
            705.5999999999999,
            23.4,
            224.2,
            857.7,
            492.1
           ],
           "yaxis": "y"
          },
          {
           "hovertemplate": "Race=Indian_Total<br>Year=1993<br>States=%{x}<br>Population=%{marker.size}<extra></extra>",
           "legendgroup": "Indian_Total",
           "marker": {
            "color": "#00cc96",
            "size": [
             2.5,
             148.8,
             104,
             5.6,
             143.5,
             38.3,
             120.80000000000001,
             64,
             126.1,
             271.1,
             3.4000000000000004,
             9.2,
             427.1,
             4.6
            ],
            "sizemode": "area",
            "sizeref": 1.0821944444444442,
            "symbol": "circle"
           },
           "mode": "markers",
           "name": "Indian_Total",
           "orientation": "v",
           "showlegend": true,
           "type": "scatter",
           "x": [
            "Terengganu",
            "Johor",
            "Kedah",
            "Kelantan",
            "Kuala Lumpur",
            "Melaka",
            "Negeri Sembilan",
            "Pahang",
            "Pulau Pinang",
            "Perak",
            "Perlis",
            "Sabah",
            "Selangor",
            "Sarawak"
           ],
           "xaxis": "x",
           "y": [
            2.5,
            148.8,
            104,
            5.6,
            143.5,
            38.3,
            120.80000000000001,
            64,
            126.1,
            271.1,
            3.4000000000000004,
            9.2,
            427.1,
            4.6
           ],
           "yaxis": "y"
          },
          {
           "hovertemplate": "Race=Other_Total<br>Year=1993<br>States=%{x}<br>Population=%{marker.size}<extra></extra>",
           "legendgroup": "Other_Total",
           "marker": {
            "color": "#ab63fa",
            "size": [
             2.6,
             16.1,
             20.4,
             12,
             16.4,
             4,
             3.3,
             6.9,
             4.8,
             6.800000000000001,
             5.1,
             83.6,
             30.3,
             3.5999999999999996
            ],
            "sizemode": "area",
            "sizeref": 1.0821944444444442,
            "symbol": "circle"
           },
           "mode": "markers",
           "name": "Other_Total",
           "orientation": "v",
           "showlegend": true,
           "type": "scatter",
           "x": [
            "Terengganu",
            "Johor",
            "Kedah",
            "Kelantan",
            "Kuala Lumpur",
            "Melaka",
            "Negeri Sembilan",
            "Pahang",
            "Pulau Pinang",
            "Perak",
            "Perlis",
            "Sabah",
            "Selangor",
            "Sarawak"
           ],
           "xaxis": "x",
           "y": [
            2.6,
            16.1,
            20.4,
            12,
            16.4,
            4,
            3.3,
            6.9,
            4.8,
            6.800000000000001,
            5.1,
            83.6,
            30.3,
            3.5999999999999996
           ],
           "yaxis": "y"
          }
         ],
         "name": "1993"
        },
        {
         "data": [
          {
           "hovertemplate": "Race=Bumi_Total<br>Year=1994<br>States=%{x}<br>Population=%{marker.size}<extra></extra>",
           "legendgroup": "Bumi_Total",
           "marker": {
            "color": "#636efa",
            "size": [
             796.7,
             1302.5,
             1093.2,
             1178.5,
             503,
             337.6,
             412.29999999999995,
             831.4000000000001,
             459.29999999999995,
             1029.1999999999998,
             162.7,
             1111.6999999999998,
             1473.1,
             1011.3
            ],
            "sizemode": "area",
            "sizeref": 1.0821944444444442,
            "symbol": "circle"
           },
           "mode": "markers",
           "name": "Bumi_Total",
           "orientation": "v",
           "showlegend": true,
           "type": "scatter",
           "x": [
            "Terengganu",
            "Johor",
            "Kedah",
            "Kelantan",
            "Kuala Lumpur",
            "Melaka",
            "Negeri Sembilan",
            "Pahang",
            "Pulau Pinang",
            "Perak",
            "Perlis",
            "Sabah",
            "Selangor",
            "Sarawak"
           ],
           "xaxis": "x",
           "y": [
            796.7,
            1302.5,
            1093.2,
            1178.5,
            503,
            337.6,
            412.29999999999995,
            831.4000000000001,
            459.29999999999995,
            1029.1999999999998,
            162.7,
            1111.6999999999998,
            1473.1,
            1011.3
           ],
           "yaxis": "y"
          },
          {
           "hovertemplate": "Race=Chinese_Total<br>Year=1994<br>States=%{x}<br>Population=%{marker.size}<extra></extra>",
           "legendgroup": "Chinese_Total",
           "marker": {
            "color": "#EF553B",
            "size": [
             28,
             814.8,
             233.4,
             53.8,
             581.1,
             182,
             216.3,
             209,
             575.8,
             699.3,
             23.2,
             230.10000000000002,
             909.0999999999999,
             499
            ],
            "sizemode": "area",
            "sizeref": 1.0821944444444442,
            "symbol": "circle"
           },
           "mode": "markers",
           "name": "Chinese_Total",
           "orientation": "v",
           "showlegend": true,
           "type": "scatter",
           "x": [
            "Terengganu",
            "Johor",
            "Kedah",
            "Kelantan",
            "Kuala Lumpur",
            "Melaka",
            "Negeri Sembilan",
            "Pahang",
            "Pulau Pinang",
            "Perak",
            "Perlis",
            "Sabah",
            "Selangor",
            "Sarawak"
           ],
           "xaxis": "x",
           "y": [
            28,
            814.8,
            233.4,
            53.8,
            581.1,
            182,
            216.3,
            209,
            575.8,
            699.3,
            23.2,
            230.10000000000002,
            909.0999999999999,
            499
           ],
           "yaxis": "y"
          },
          {
           "hovertemplate": "Race=Indian_Total<br>Year=1994<br>States=%{x}<br>Population=%{marker.size}<extra></extra>",
           "legendgroup": "Indian_Total",
           "marker": {
            "color": "#00cc96",
            "size": [
             2.4,
             153.1,
             106,
             5.4,
             144.5,
             38.7,
             122.7,
             63.900000000000006,
             127.6,
             270.6,
             3.4000000000000004,
             9.399999999999999,
             449.20000000000005,
             4.6
            ],
            "sizemode": "area",
            "sizeref": 1.0821944444444442,
            "symbol": "circle"
           },
           "mode": "markers",
           "name": "Indian_Total",
           "orientation": "v",
           "showlegend": true,
           "type": "scatter",
           "x": [
            "Terengganu",
            "Johor",
            "Kedah",
            "Kelantan",
            "Kuala Lumpur",
            "Melaka",
            "Negeri Sembilan",
            "Pahang",
            "Pulau Pinang",
            "Perak",
            "Perlis",
            "Sabah",
            "Selangor",
            "Sarawak"
           ],
           "xaxis": "x",
           "y": [
            2.4,
            153.1,
            106,
            5.4,
            144.5,
            38.7,
            122.7,
            63.900000000000006,
            127.6,
            270.6,
            3.4000000000000004,
            9.399999999999999,
            449.20000000000005,
            4.6
           ],
           "yaxis": "y"
          },
          {
           "hovertemplate": "Race=Other_Total<br>Year=1994<br>States=%{x}<br>Population=%{marker.size}<extra></extra>",
           "legendgroup": "Other_Total",
           "marker": {
            "color": "#ab63fa",
            "size": [
             2.6,
             16.2,
             20.9,
             12,
             16.5,
             4.1,
             3.5,
             7,
             4.9,
             6.800000000000001,
             5.3,
             89,
             31.6,
             4
            ],
            "sizemode": "area",
            "sizeref": 1.0821944444444442,
            "symbol": "circle"
           },
           "mode": "markers",
           "name": "Other_Total",
           "orientation": "v",
           "showlegend": true,
           "type": "scatter",
           "x": [
            "Terengganu",
            "Johor",
            "Kedah",
            "Kelantan",
            "Kuala Lumpur",
            "Melaka",
            "Negeri Sembilan",
            "Pahang",
            "Pulau Pinang",
            "Perak",
            "Perlis",
            "Sabah",
            "Selangor",
            "Sarawak"
           ],
           "xaxis": "x",
           "y": [
            2.6,
            16.2,
            20.9,
            12,
            16.5,
            4.1,
            3.5,
            7,
            4.9,
            6.800000000000001,
            5.3,
            89,
            31.6,
            4
           ],
           "yaxis": "y"
          }
         ],
         "name": "1994"
        },
        {
         "data": [
          {
           "hovertemplate": "Race=Bumi_Total<br>Year=1995<br>States=%{x}<br>Population=%{marker.size}<extra></extra>",
           "legendgroup": "Bumi_Total",
           "marker": {
            "color": "#636efa",
            "size": [
             809.0999999999999,
             1332.4,
             1120.3,
             1193.6,
             513.4,
             346.5,
             423,
             851,
             471.70000000000005,
             1043.4,
             164.8,
             1163.6,
             1577.6,
             1028.5
            ],
            "sizemode": "area",
            "sizeref": 1.0821944444444442,
            "symbol": "circle"
           },
           "mode": "markers",
           "name": "Bumi_Total",
           "orientation": "v",
           "showlegend": true,
           "type": "scatter",
           "x": [
            "Terengganu",
            "Johor",
            "Kedah",
            "Kelantan",
            "Kuala Lumpur",
            "Melaka",
            "Negeri Sembilan",
            "Pahang",
            "Pulau Pinang",
            "Perak",
            "Perlis",
            "Sabah",
            "Selangor",
            "Sarawak"
           ],
           "xaxis": "x",
           "y": [
            809.0999999999999,
            1332.4,
            1120.3,
            1193.6,
            513.4,
            346.5,
            423,
            851,
            471.70000000000005,
            1043.4,
            164.8,
            1163.6,
            1577.6,
            1028.5
           ],
           "yaxis": "y"
          },
          {
           "hovertemplate": "Race=Chinese_Total<br>Year=1995<br>States=%{x}<br>Population=%{marker.size}<extra></extra>",
           "legendgroup": "Chinese_Total",
           "marker": {
            "color": "#EF553B",
            "size": [
             27.5,
             832.6,
             235.4,
             53.3,
             579.9000000000001,
             182.10000000000002,
             216.2,
             211.10000000000002,
             579.4,
             692.7,
             22.8,
             235.89999999999998,
             961.9,
             505.6
            ],
            "sizemode": "area",
            "sizeref": 1.0821944444444442,
            "symbol": "circle"
           },
           "mode": "markers",
           "name": "Chinese_Total",
           "orientation": "v",
           "showlegend": true,
           "type": "scatter",
           "x": [
            "Terengganu",
            "Johor",
            "Kedah",
            "Kelantan",
            "Kuala Lumpur",
            "Melaka",
            "Negeri Sembilan",
            "Pahang",
            "Pulau Pinang",
            "Perak",
            "Perlis",
            "Sabah",
            "Selangor",
            "Sarawak"
           ],
           "xaxis": "x",
           "y": [
            27.5,
            832.6,
            235.4,
            53.3,
            579.9000000000001,
            182.10000000000002,
            216.2,
            211.10000000000002,
            579.4,
            692.7,
            22.8,
            235.89999999999998,
            961.9,
            505.6
           ],
           "yaxis": "y"
          },
          {
           "hovertemplate": "Race=Indian_Total<br>Year=1995<br>States=%{x}<br>Population=%{marker.size}<extra></extra>",
           "legendgroup": "Indian_Total",
           "marker": {
            "color": "#00cc96",
            "size": [
             2.4,
             157.2,
             107.9,
             5.1,
             145.1,
             38.8,
             124.4,
             63.7,
             128.89999999999998,
             269.8,
             3.2,
             9.6,
             471.20000000000005,
             4.5
            ],
            "sizemode": "area",
            "sizeref": 1.0821944444444442,
            "symbol": "circle"
           },
           "mode": "markers",
           "name": "Indian_Total",
           "orientation": "v",
           "showlegend": true,
           "type": "scatter",
           "x": [
            "Terengganu",
            "Johor",
            "Kedah",
            "Kelantan",
            "Kuala Lumpur",
            "Melaka",
            "Negeri Sembilan",
            "Pahang",
            "Pulau Pinang",
            "Perak",
            "Perlis",
            "Sabah",
            "Selangor",
            "Sarawak"
           ],
           "xaxis": "x",
           "y": [
            2.4,
            157.2,
            107.9,
            5.1,
            145.1,
            38.8,
            124.4,
            63.7,
            128.89999999999998,
            269.8,
            3.2,
            9.6,
            471.20000000000005,
            4.5
           ],
           "yaxis": "y"
          },
          {
           "hovertemplate": "Race=Other_Total<br>Year=1995<br>States=%{x}<br>Population=%{marker.size}<extra></extra>",
           "legendgroup": "Other_Total",
           "marker": {
            "color": "#ab63fa",
            "size": [
             2.5,
             16.3,
             21.3,
             12.2,
             16.6,
             4.1,
             3.5,
             7,
             5,
             6.800000000000001,
             5.4,
             94,
             33.2,
             4
            ],
            "sizemode": "area",
            "sizeref": 1.0821944444444442,
            "symbol": "circle"
           },
           "mode": "markers",
           "name": "Other_Total",
           "orientation": "v",
           "showlegend": true,
           "type": "scatter",
           "x": [
            "Terengganu",
            "Johor",
            "Kedah",
            "Kelantan",
            "Kuala Lumpur",
            "Melaka",
            "Negeri Sembilan",
            "Pahang",
            "Pulau Pinang",
            "Perak",
            "Perlis",
            "Sabah",
            "Selangor",
            "Sarawak"
           ],
           "xaxis": "x",
           "y": [
            2.5,
            16.3,
            21.3,
            12.2,
            16.6,
            4.1,
            3.5,
            7,
            5,
            6.800000000000001,
            5.4,
            94,
            33.2,
            4
           ],
           "yaxis": "y"
          }
         ],
         "name": "1995"
        },
        {
         "data": [
          {
           "hovertemplate": "Race=Bumi_Total<br>Year=1996<br>States=%{x}<br>Population=%{marker.size}<extra></extra>",
           "legendgroup": "Bumi_Total",
           "marker": {
            "color": "#636efa",
            "size": [
             820.8,
             1362.1999999999998,
             1146.8,
             1208.1,
             523.7,
             355.5,
             434,
             870.5,
             484.1,
             1057.6,
             166.6,
             1215.9,
             1684.8000000000002,
             1045.8
            ],
            "sizemode": "area",
            "sizeref": 1.0821944444444442,
            "symbol": "circle"
           },
           "mode": "markers",
           "name": "Bumi_Total",
           "orientation": "v",
           "showlegend": true,
           "type": "scatter",
           "x": [
            "Terengganu",
            "Johor",
            "Kedah",
            "Kelantan",
            "Kuala Lumpur",
            "Melaka",
            "Negeri Sembilan",
            "Pahang",
            "Pulau Pinang",
            "Perak",
            "Perlis",
            "Sabah",
            "Selangor",
            "Sarawak"
           ],
           "xaxis": "x",
           "y": [
            820.8,
            1362.1999999999998,
            1146.8,
            1208.1,
            523.7,
            355.5,
            434,
            870.5,
            484.1,
            1057.6,
            166.6,
            1215.9,
            1684.8000000000002,
            1045.8
           ],
           "yaxis": "y"
          },
          {
           "hovertemplate": "Race=Chinese_Total<br>Year=1996<br>States=%{x}<br>Population=%{marker.size}<extra></extra>",
           "legendgroup": "Chinese_Total",
           "marker": {
            "color": "#EF553B",
            "size": [
             27.1,
             850.7,
             237.3,
             52.7,
             578,
             182.1,
             216.10000000000002,
             213.1,
             582.8,
             685.5,
             22.6,
             241.7,
             1015.5,
             511.8
            ],
            "sizemode": "area",
            "sizeref": 1.0821944444444442,
            "symbol": "circle"
           },
           "mode": "markers",
           "name": "Chinese_Total",
           "orientation": "v",
           "showlegend": true,
           "type": "scatter",
           "x": [
            "Terengganu",
            "Johor",
            "Kedah",
            "Kelantan",
            "Kuala Lumpur",
            "Melaka",
            "Negeri Sembilan",
            "Pahang",
            "Pulau Pinang",
            "Perak",
            "Perlis",
            "Sabah",
            "Selangor",
            "Sarawak"
           ],
           "xaxis": "x",
           "y": [
            27.1,
            850.7,
            237.3,
            52.7,
            578,
            182.1,
            216.10000000000002,
            213.1,
            582.8,
            685.5,
            22.6,
            241.7,
            1015.5,
            511.8
           ],
           "yaxis": "y"
          },
          {
           "hovertemplate": "Race=Indian_Total<br>Year=1996<br>States=%{x}<br>Population=%{marker.size}<extra></extra>",
           "legendgroup": "Indian_Total",
           "marker": {
            "color": "#00cc96",
            "size": [
             2.3,
             161.39999999999998,
             109.80000000000001,
             4.9,
             145.7,
             39.2,
             126.3,
             63.3,
             130.1,
             269,
             3.2,
             9.7,
             493.4,
             4.4
            ],
            "sizemode": "area",
            "sizeref": 1.0821944444444442,
            "symbol": "circle"
           },
           "mode": "markers",
           "name": "Indian_Total",
           "orientation": "v",
           "showlegend": true,
           "type": "scatter",
           "x": [
            "Terengganu",
            "Johor",
            "Kedah",
            "Kelantan",
            "Kuala Lumpur",
            "Melaka",
            "Negeri Sembilan",
            "Pahang",
            "Pulau Pinang",
            "Perak",
            "Perlis",
            "Sabah",
            "Selangor",
            "Sarawak"
           ],
           "xaxis": "x",
           "y": [
            2.3,
            161.39999999999998,
            109.80000000000001,
            4.9,
            145.7,
            39.2,
            126.3,
            63.3,
            130.1,
            269,
            3.2,
            9.7,
            493.4,
            4.4
           ],
           "yaxis": "y"
          },
          {
           "hovertemplate": "Race=Other_Total<br>Year=1996<br>States=%{x}<br>Population=%{marker.size}<extra></extra>",
           "legendgroup": "Other_Total",
           "marker": {
            "color": "#ab63fa",
            "size": [
             2.5,
             16.3,
             21.7,
             12.3,
             16.9,
             4.1,
             3.5,
             7.1,
             5,
             6.9,
             5.5,
             98.7,
             35.1,
             4.1
            ],
            "sizemode": "area",
            "sizeref": 1.0821944444444442,
            "symbol": "circle"
           },
           "mode": "markers",
           "name": "Other_Total",
           "orientation": "v",
           "showlegend": true,
           "type": "scatter",
           "x": [
            "Terengganu",
            "Johor",
            "Kedah",
            "Kelantan",
            "Kuala Lumpur",
            "Melaka",
            "Negeri Sembilan",
            "Pahang",
            "Pulau Pinang",
            "Perak",
            "Perlis",
            "Sabah",
            "Selangor",
            "Sarawak"
           ],
           "xaxis": "x",
           "y": [
            2.5,
            16.3,
            21.7,
            12.3,
            16.9,
            4.1,
            3.5,
            7.1,
            5,
            6.9,
            5.5,
            98.7,
            35.1,
            4.1
           ],
           "yaxis": "y"
          }
         ],
         "name": "1996"
        },
        {
         "data": [
          {
           "hovertemplate": "Race=Bumi_Total<br>Year=1997<br>States=%{x}<br>Population=%{marker.size}<extra></extra>",
           "legendgroup": "Bumi_Total",
           "marker": {
            "color": "#636efa",
            "size": [
             831.6,
             1392.5,
             1174.3,
             1222.6,
             534.3,
             365,
             444.9,
             890.1,
             497,
             1071.1999999999998,
             168.5,
             1267,
             1794.9,
             1063.9
            ],
            "sizemode": "area",
            "sizeref": 1.0821944444444442,
            "symbol": "circle"
           },
           "mode": "markers",
           "name": "Bumi_Total",
           "orientation": "v",
           "showlegend": true,
           "type": "scatter",
           "x": [
            "Terengganu",
            "Johor",
            "Kedah",
            "Kelantan",
            "Kuala Lumpur",
            "Melaka",
            "Negeri Sembilan",
            "Pahang",
            "Pulau Pinang",
            "Perak",
            "Perlis",
            "Sabah",
            "Selangor",
            "Sarawak"
           ],
           "xaxis": "x",
           "y": [
            831.6,
            1392.5,
            1174.3,
            1222.6,
            534.3,
            365,
            444.9,
            890.1,
            497,
            1071.1999999999998,
            168.5,
            1267,
            1794.9,
            1063.9
           ],
           "yaxis": "y"
          },
          {
           "hovertemplate": "Race=Chinese_Total<br>Year=1997<br>States=%{x}<br>Population=%{marker.size}<extra></extra>",
           "legendgroup": "Chinese_Total",
           "marker": {
            "color": "#EF553B",
            "size": [
             26.5,
             868.7,
             239.2,
             52,
             576.2,
             182.1,
             216,
             215.10000000000002,
             586.3,
             678.2,
             22.2,
             247.3,
             1069.6999999999998,
             517.9
            ],
            "sizemode": "area",
            "sizeref": 1.0821944444444442,
            "symbol": "circle"
           },
           "mode": "markers",
           "name": "Chinese_Total",
           "orientation": "v",
           "showlegend": true,
           "type": "scatter",
           "x": [
            "Terengganu",
            "Johor",
            "Kedah",
            "Kelantan",
            "Kuala Lumpur",
            "Melaka",
            "Negeri Sembilan",
            "Pahang",
            "Pulau Pinang",
            "Perak",
            "Perlis",
            "Sabah",
            "Selangor",
            "Sarawak"
           ],
           "xaxis": "x",
           "y": [
            26.5,
            868.7,
            239.2,
            52,
            576.2,
            182.1,
            216,
            215.10000000000002,
            586.3,
            678.2,
            22.2,
            247.3,
            1069.6999999999998,
            517.9
           ],
           "yaxis": "y"
          },
          {
           "hovertemplate": "Race=Indian_Total<br>Year=1997<br>States=%{x}<br>Population=%{marker.size}<extra></extra>",
           "legendgroup": "Indian_Total",
           "marker": {
            "color": "#00cc96",
            "size": [
             2.2,
             165.6,
             111.7,
             4.6,
             146.3,
             39.4,
             128,
             63,
             131.5,
             268,
             3,
             10,
             516.1,
             4.4
            ],
            "sizemode": "area",
            "sizeref": 1.0821944444444442,
            "symbol": "circle"
           },
           "mode": "markers",
           "name": "Indian_Total",
           "orientation": "v",
           "showlegend": true,
           "type": "scatter",
           "x": [
            "Terengganu",
            "Johor",
            "Kedah",
            "Kelantan",
            "Kuala Lumpur",
            "Melaka",
            "Negeri Sembilan",
            "Pahang",
            "Pulau Pinang",
            "Perak",
            "Perlis",
            "Sabah",
            "Selangor",
            "Sarawak"
           ],
           "xaxis": "x",
           "y": [
            2.2,
            165.6,
            111.7,
            4.6,
            146.3,
            39.4,
            128,
            63,
            131.5,
            268,
            3,
            10,
            516.1,
            4.4
           ],
           "yaxis": "y"
          },
          {
           "hovertemplate": "Race=Other_Total<br>Year=1997<br>States=%{x}<br>Population=%{marker.size}<extra></extra>",
           "legendgroup": "Other_Total",
           "marker": {
            "color": "#ab63fa",
            "size": [
             2.4,
             16.5,
             22.2,
             12.5,
             17,
             4.2,
             3.5,
             7.1,
             5.2,
             7,
             5.699999999999999,
             103.3,
             37.099999999999994,
             4.1
            ],
            "sizemode": "area",
            "sizeref": 1.0821944444444442,
            "symbol": "circle"
           },
           "mode": "markers",
           "name": "Other_Total",
           "orientation": "v",
           "showlegend": true,
           "type": "scatter",
           "x": [
            "Terengganu",
            "Johor",
            "Kedah",
            "Kelantan",
            "Kuala Lumpur",
            "Melaka",
            "Negeri Sembilan",
            "Pahang",
            "Pulau Pinang",
            "Perak",
            "Perlis",
            "Sabah",
            "Selangor",
            "Sarawak"
           ],
           "xaxis": "x",
           "y": [
            2.4,
            16.5,
            22.2,
            12.5,
            17,
            4.2,
            3.5,
            7.1,
            5.2,
            7,
            5.699999999999999,
            103.3,
            37.099999999999994,
            4.1
           ],
           "yaxis": "y"
          }
         ],
         "name": "1997"
        },
        {
         "data": [
          {
           "hovertemplate": "Race=Bumi_Total<br>Year=1998<br>States=%{x}<br>Population=%{marker.size}<extra></extra>",
           "legendgroup": "Bumi_Total",
           "marker": {
            "color": "#636efa",
            "size": [
             841.7,
             1423.2,
             1202.1,
             1238.1,
             546,
             374.6,
             456.1,
             909.7,
             510.8,
             1086.3000000000002,
             170.5,
             1317,
             1909.1,
             1082.4
            ],
            "sizemode": "area",
            "sizeref": 1.0821944444444442,
            "symbol": "circle"
           },
           "mode": "markers",
           "name": "Bumi_Total",
           "orientation": "v",
           "showlegend": true,
           "type": "scatter",
           "x": [
            "Terengganu",
            "Johor",
            "Kedah",
            "Kelantan",
            "Kuala Lumpur",
            "Melaka",
            "Negeri Sembilan",
            "Pahang",
            "Pulau Pinang",
            "Perak",
            "Perlis",
            "Sabah",
            "Selangor",
            "Sarawak"
           ],
           "xaxis": "x",
           "y": [
            841.7,
            1423.2,
            1202.1,
            1238.1,
            546,
            374.6,
            456.1,
            909.7,
            510.8,
            1086.3000000000002,
            170.5,
            1317,
            1909.1,
            1082.4
           ],
           "yaxis": "y"
          },
          {
           "hovertemplate": "Race=Chinese_Total<br>Year=1998<br>States=%{x}<br>Population=%{marker.size}<extra></extra>",
           "legendgroup": "Chinese_Total",
           "marker": {
            "color": "#EF553B",
            "size": [
             26,
             887.1,
             240.9,
             51.4,
             574.9,
             182,
             215.9,
             217,
             590.5,
             671.5,
             21.8,
             252.60000000000002,
             1124,
             523.8
            ],
            "sizemode": "area",
            "sizeref": 1.0821944444444442,
            "symbol": "circle"
           },
           "mode": "markers",
           "name": "Chinese_Total",
           "orientation": "v",
           "showlegend": true,
           "type": "scatter",
           "x": [
            "Terengganu",
            "Johor",
            "Kedah",
            "Kelantan",
            "Kuala Lumpur",
            "Melaka",
            "Negeri Sembilan",
            "Pahang",
            "Pulau Pinang",
            "Perak",
            "Perlis",
            "Sabah",
            "Selangor",
            "Sarawak"
           ],
           "xaxis": "x",
           "y": [
            26,
            887.1,
            240.9,
            51.4,
            574.9,
            182,
            215.9,
            217,
            590.5,
            671.5,
            21.8,
            252.60000000000002,
            1124,
            523.8
           ],
           "yaxis": "y"
          },
          {
           "hovertemplate": "Race=Indian_Total<br>Year=1998<br>States=%{x}<br>Population=%{marker.size}<extra></extra>",
           "legendgroup": "Indian_Total",
           "marker": {
            "color": "#00cc96",
            "size": [
             2.1,
             170.1,
             113.7,
             4.300000000000001,
             147.1,
             39.8,
             129.9,
             62.6,
             133.3,
             267.5,
             2.9,
             10,
             539.1,
             4.2
            ],
            "sizemode": "area",
            "sizeref": 1.0821944444444442,
            "symbol": "circle"
           },
           "mode": "markers",
           "name": "Indian_Total",
           "orientation": "v",
           "showlegend": true,
           "type": "scatter",
           "x": [
            "Terengganu",
            "Johor",
            "Kedah",
            "Kelantan",
            "Kuala Lumpur",
            "Melaka",
            "Negeri Sembilan",
            "Pahang",
            "Pulau Pinang",
            "Perak",
            "Perlis",
            "Sabah",
            "Selangor",
            "Sarawak"
           ],
           "xaxis": "x",
           "y": [
            2.1,
            170.1,
            113.7,
            4.300000000000001,
            147.1,
            39.8,
            129.9,
            62.6,
            133.3,
            267.5,
            2.9,
            10,
            539.1,
            4.2
           ],
           "yaxis": "y"
          },
          {
           "hovertemplate": "Race=Other_Total<br>Year=1998<br>States=%{x}<br>Population=%{marker.size}<extra></extra>",
           "legendgroup": "Other_Total",
           "marker": {
            "color": "#ab63fa",
            "size": [
             2.4,
             16.5,
             22.7,
             12.600000000000001,
             17.3,
             4.2,
             3.7,
             7.1,
             5.4,
             7.1,
             5.699999999999999,
             107.5,
             39.5,
             4.1
            ],
            "sizemode": "area",
            "sizeref": 1.0821944444444442,
            "symbol": "circle"
           },
           "mode": "markers",
           "name": "Other_Total",
           "orientation": "v",
           "showlegend": true,
           "type": "scatter",
           "x": [
            "Terengganu",
            "Johor",
            "Kedah",
            "Kelantan",
            "Kuala Lumpur",
            "Melaka",
            "Negeri Sembilan",
            "Pahang",
            "Pulau Pinang",
            "Perak",
            "Perlis",
            "Sabah",
            "Selangor",
            "Sarawak"
           ],
           "xaxis": "x",
           "y": [
            2.4,
            16.5,
            22.7,
            12.600000000000001,
            17.3,
            4.2,
            3.7,
            7.1,
            5.4,
            7.1,
            5.699999999999999,
            107.5,
            39.5,
            4.1
           ],
           "yaxis": "y"
          }
         ],
         "name": "1998"
        },
        {
         "data": [
          {
           "hovertemplate": "Race=Bumi_Total<br>Year=1999<br>States=%{x}<br>Population=%{marker.size}<extra></extra>",
           "legendgroup": "Bumi_Total",
           "marker": {
            "color": "#636efa",
            "size": [
             849.8,
             1455.6999999999998,
             1230.5,
             1254.8,
             559.3,
             384.4,
             467.1,
             928.5,
             525,
             1100.4,
             172.6,
             1366.3,
             2024.1000000000001,
             1102.6
            ],
            "sizemode": "area",
            "sizeref": 1.0821944444444442,
            "symbol": "circle"
           },
           "mode": "markers",
           "name": "Bumi_Total",
           "orientation": "v",
           "showlegend": true,
           "type": "scatter",
           "x": [
            "Terengganu",
            "Johor",
            "Kedah",
            "Kelantan",
            "Kuala Lumpur",
            "Melaka",
            "Negeri Sembilan",
            "Pahang",
            "Pulau Pinang",
            "Perak",
            "Perlis",
            "Sabah",
            "Selangor",
            "Sarawak"
           ],
           "xaxis": "x",
           "y": [
            849.8,
            1455.6999999999998,
            1230.5,
            1254.8,
            559.3,
            384.4,
            467.1,
            928.5,
            525,
            1100.4,
            172.6,
            1366.3,
            2024.1000000000001,
            1102.6
           ],
           "yaxis": "y"
          },
          {
           "hovertemplate": "Race=Chinese_Total<br>Year=1999<br>States=%{x}<br>Population=%{marker.size}<extra></extra>",
           "legendgroup": "Chinese_Total",
           "marker": {
            "color": "#EF553B",
            "size": [
             25.5,
             906.5,
             242.8,
             50.7,
             575.5999999999999,
             182.10000000000002,
             216.1,
             218.9,
             595.5,
             665.2,
             21.5,
             257.6,
             1177.4,
             530.1
            ],
            "sizemode": "area",
            "sizeref": 1.0821944444444442,
            "symbol": "circle"
           },
           "mode": "markers",
           "name": "Chinese_Total",
           "orientation": "v",
           "showlegend": true,
           "type": "scatter",
           "x": [
            "Terengganu",
            "Johor",
            "Kedah",
            "Kelantan",
            "Kuala Lumpur",
            "Melaka",
            "Negeri Sembilan",
            "Pahang",
            "Pulau Pinang",
            "Perak",
            "Perlis",
            "Sabah",
            "Selangor",
            "Sarawak"
           ],
           "xaxis": "x",
           "y": [
            25.5,
            906.5,
            242.8,
            50.7,
            575.5999999999999,
            182.10000000000002,
            216.1,
            218.9,
            595.5,
            665.2,
            21.5,
            257.6,
            1177.4,
            530.1
           ],
           "yaxis": "y"
          },
          {
           "hovertemplate": "Race=Indian_Total<br>Year=1999<br>States=%{x}<br>Population=%{marker.size}<extra></extra>",
           "legendgroup": "Indian_Total",
           "marker": {
            "color": "#00cc96",
            "size": [
             2,
             174.8,
             115.69999999999999,
             4.1,
             148.3,
             40.2,
             131.9,
             62.2,
             135.2,
             266.9,
             2.8,
             10.2,
             562.1,
             4.1
            ],
            "sizemode": "area",
            "sizeref": 1.0821944444444442,
            "symbol": "circle"
           },
           "mode": "markers",
           "name": "Indian_Total",
           "orientation": "v",
           "showlegend": true,
           "type": "scatter",
           "x": [
            "Terengganu",
            "Johor",
            "Kedah",
            "Kelantan",
            "Kuala Lumpur",
            "Melaka",
            "Negeri Sembilan",
            "Pahang",
            "Pulau Pinang",
            "Perak",
            "Perlis",
            "Sabah",
            "Selangor",
            "Sarawak"
           ],
           "xaxis": "x",
           "y": [
            2,
            174.8,
            115.69999999999999,
            4.1,
            148.3,
            40.2,
            131.9,
            62.2,
            135.2,
            266.9,
            2.8,
            10.2,
            562.1,
            4.1
           ],
           "yaxis": "y"
          },
          {
           "hovertemplate": "Race=Other_Total<br>Year=1999<br>States=%{x}<br>Population=%{marker.size}<extra></extra>",
           "legendgroup": "Other_Total",
           "marker": {
            "color": "#ab63fa",
            "size": [
             2.4,
             16.9,
             23.3,
             12.899999999999999,
             17.6,
             4.5,
             3.7,
             7.2,
             5.5,
             7.199999999999999,
             5.9,
             111.6,
             41.9,
             4.1
            ],
            "sizemode": "area",
            "sizeref": 1.0821944444444442,
            "symbol": "circle"
           },
           "mode": "markers",
           "name": "Other_Total",
           "orientation": "v",
           "showlegend": true,
           "type": "scatter",
           "x": [
            "Terengganu",
            "Johor",
            "Kedah",
            "Kelantan",
            "Kuala Lumpur",
            "Melaka",
            "Negeri Sembilan",
            "Pahang",
            "Pulau Pinang",
            "Perak",
            "Perlis",
            "Sabah",
            "Selangor",
            "Sarawak"
           ],
           "xaxis": "x",
           "y": [
            2.4,
            16.9,
            23.3,
            12.899999999999999,
            17.6,
            4.5,
            3.7,
            7.2,
            5.5,
            7.199999999999999,
            5.9,
            111.6,
            41.9,
            4.1
           ],
           "yaxis": "y"
          }
         ],
         "name": "1999"
        },
        {
         "data": [
          {
           "hovertemplate": "Race=Bumi_Total<br>Year=2000<br>States=%{x}<br>Population=%{marker.size}<extra></extra>",
           "legendgroup": "Bumi_Total",
           "marker": {
            "color": "#636efa",
            "size": [
             856.6,
             1485.3000000000002,
             1258.8999999999999,
             1272.2,
             572.7,
             394.9,
             477.79999999999995,
             946.8,
             538.9,
             1115.9,
             174.5,
             1414.5,
             2142.4,
             1125.2
            ],
            "sizemode": "area",
            "sizeref": 1.0821944444444442,
            "symbol": "circle"
           },
           "mode": "markers",
           "name": "Bumi_Total",
           "orientation": "v",
           "showlegend": true,
           "type": "scatter",
           "x": [
            "Terengganu",
            "Johor",
            "Kedah",
            "Kelantan",
            "Kuala Lumpur",
            "Melaka",
            "Negeri Sembilan",
            "Pahang",
            "Pulau Pinang",
            "Perak",
            "Perlis",
            "Sabah",
            "Selangor",
            "Sarawak"
           ],
           "xaxis": "x",
           "y": [
            856.6,
            1485.3000000000002,
            1258.8999999999999,
            1272.2,
            572.7,
            394.9,
            477.79999999999995,
            946.8,
            538.9,
            1115.9,
            174.5,
            1414.5,
            2142.4,
            1125.2
           ],
           "yaxis": "y"
          },
          {
           "hovertemplate": "Race=Chinese_Total<br>Year=2000<br>States=%{x}<br>Population=%{marker.size}<extra></extra>",
           "legendgroup": "Chinese_Total",
           "marker": {
            "color": "#EF553B",
            "size": [
             25,
             923.2,
             244.7,
             50.099999999999994,
             576.6,
             182.4,
             216.89999999999998,
             221.10000000000002,
             600.7,
             660.9000000000001,
             21.1,
             262.2,
             1230.3,
             537.2
            ],
            "sizemode": "area",
            "sizeref": 1.0821944444444442,
            "symbol": "circle"
           },
           "mode": "markers",
           "name": "Chinese_Total",
           "orientation": "v",
           "showlegend": true,
           "type": "scatter",
           "x": [
            "Terengganu",
            "Johor",
            "Kedah",
            "Kelantan",
            "Kuala Lumpur",
            "Melaka",
            "Negeri Sembilan",
            "Pahang",
            "Pulau Pinang",
            "Perak",
            "Perlis",
            "Sabah",
            "Selangor",
            "Sarawak"
           ],
           "xaxis": "x",
           "y": [
            25,
            923.2,
            244.7,
            50.099999999999994,
            576.6,
            182.4,
            216.89999999999998,
            221.10000000000002,
            600.7,
            660.9000000000001,
            21.1,
            262.2,
            1230.3,
            537.2
           ],
           "yaxis": "y"
          },
          {
           "hovertemplate": "Race=Indian_Total<br>Year=2000<br>States=%{x}<br>Population=%{marker.size}<extra></extra>",
           "legendgroup": "Indian_Total",
           "marker": {
            "color": "#00cc96",
            "size": [
             1.9000000000000001,
             178.89999999999998,
             117.9,
             3.8,
             149.60000000000002,
             40.8,
             134,
             61.900000000000006,
             137.5,
             267.1,
             2.7,
             9.7,
             585.4,
             4
            ],
            "sizemode": "area",
            "sizeref": 1.0821944444444442,
            "symbol": "circle"
           },
           "mode": "markers",
           "name": "Indian_Total",
           "orientation": "v",
           "showlegend": true,
           "type": "scatter",
           "x": [
            "Terengganu",
            "Johor",
            "Kedah",
            "Kelantan",
            "Kuala Lumpur",
            "Melaka",
            "Negeri Sembilan",
            "Pahang",
            "Pulau Pinang",
            "Perak",
            "Perlis",
            "Sabah",
            "Selangor",
            "Sarawak"
           ],
           "xaxis": "x",
           "y": [
            1.9000000000000001,
            178.89999999999998,
            117.9,
            3.8,
            149.60000000000002,
            40.8,
            134,
            61.900000000000006,
            137.5,
            267.1,
            2.7,
            9.7,
            585.4,
            4
           ],
           "yaxis": "y"
          },
          {
           "hovertemplate": "Race=Other_Total<br>Year=2000<br>States=%{x}<br>Population=%{marker.size}<extra></extra>",
           "legendgroup": "Other_Total",
           "marker": {
            "color": "#ab63fa",
            "size": [
             2.5,
             17.4,
             24,
             13,
             17.6,
             4.6,
             3.7,
             7.1,
             5.6,
             7.3,
             6,
             115.5,
             44.4,
             4.1
            ],
            "sizemode": "area",
            "sizeref": 1.0821944444444442,
            "symbol": "circle"
           },
           "mode": "markers",
           "name": "Other_Total",
           "orientation": "v",
           "showlegend": true,
           "type": "scatter",
           "x": [
            "Terengganu",
            "Johor",
            "Kedah",
            "Kelantan",
            "Kuala Lumpur",
            "Melaka",
            "Negeri Sembilan",
            "Pahang",
            "Pulau Pinang",
            "Perak",
            "Perlis",
            "Sabah",
            "Selangor",
            "Sarawak"
           ],
           "xaxis": "x",
           "y": [
            2.5,
            17.4,
            24,
            13,
            17.6,
            4.6,
            3.7,
            7.1,
            5.6,
            7.3,
            6,
            115.5,
            44.4,
            4.1
           ],
           "yaxis": "y"
          }
         ],
         "name": "2000"
        },
        {
         "data": [
          {
           "hovertemplate": "Race=Bumi_Total<br>Year=2001<br>States=%{x}<br>Population=%{marker.size}<extra></extra>",
           "legendgroup": "Bumi_Total",
           "marker": {
            "color": "#636efa",
            "size": [
             873.0999999999999,
             1521.4,
             1282,
             1298.3,
             587,
             408.5,
             489.1,
             964.3,
             549.9,
             1139.3,
             177.2,
             1441.4,
             2206.8,
             1148
            ],
            "sizemode": "area",
            "sizeref": 1.0821944444444442,
            "symbol": "circle"
           },
           "mode": "markers",
           "name": "Bumi_Total",
           "orientation": "v",
           "showlegend": true,
           "type": "scatter",
           "x": [
            "Terengganu",
            "Johor",
            "Kedah",
            "Kelantan",
            "Kuala Lumpur",
            "Melaka",
            "Negeri Sembilan",
            "Pahang",
            "Pulau Pinang",
            "Perak",
            "Perlis",
            "Sabah",
            "Selangor",
            "Sarawak"
           ],
           "xaxis": "x",
           "y": [
            873.0999999999999,
            1521.4,
            1282,
            1298.3,
            587,
            408.5,
            489.1,
            964.3,
            549.9,
            1139.3,
            177.2,
            1441.4,
            2206.8,
            1148
           ],
           "yaxis": "y"
          },
          {
           "hovertemplate": "Race=Chinese_Total<br>Year=2001<br>States=%{x}<br>Population=%{marker.size}<extra></extra>",
           "legendgroup": "Chinese_Total",
           "marker": {
            "color": "#EF553B",
            "size": [
             25.3,
             939.1,
             247,
             50.4,
             585.9,
             186,
             218.6,
             222.5,
             610.0999999999999,
             668.4,
             20.9,
             266,
             1254.6999999999998,
             544.8
            ],
            "sizemode": "area",
            "sizeref": 1.0821944444444442,
            "symbol": "circle"
           },
           "mode": "markers",
           "name": "Chinese_Total",
           "orientation": "v",
           "showlegend": true,
           "type": "scatter",
           "x": [
            "Terengganu",
            "Johor",
            "Kedah",
            "Kelantan",
            "Kuala Lumpur",
            "Melaka",
            "Negeri Sembilan",
            "Pahang",
            "Pulau Pinang",
            "Perak",
            "Perlis",
            "Sabah",
            "Selangor",
            "Sarawak"
           ],
           "xaxis": "x",
           "y": [
            25.3,
            939.1,
            247,
            50.4,
            585.9,
            186,
            218.6,
            222.5,
            610.0999999999999,
            668.4,
            20.9,
            266,
            1254.6999999999998,
            544.8
           ],
           "yaxis": "y"
          },
          {
           "hovertemplate": "Race=Indian_Total<br>Year=2001<br>States=%{x}<br>Population=%{marker.size}<extra></extra>",
           "legendgroup": "Indian_Total",
           "marker": {
            "color": "#00cc96",
            "size": [
             2,
             183.39999999999998,
             120,
             3.9,
             150.9,
             41.8,
             135.7,
             62.2,
             139.9,
             270,
             2.7,
             9.7,
             595.7,
             4.4
            ],
            "sizemode": "area",
            "sizeref": 1.0821944444444442,
            "symbol": "circle"
           },
           "mode": "markers",
           "name": "Indian_Total",
           "orientation": "v",
           "showlegend": true,
           "type": "scatter",
           "x": [
            "Terengganu",
            "Johor",
            "Kedah",
            "Kelantan",
            "Kuala Lumpur",
            "Melaka",
            "Negeri Sembilan",
            "Pahang",
            "Pulau Pinang",
            "Perak",
            "Perlis",
            "Sabah",
            "Selangor",
            "Sarawak"
           ],
           "xaxis": "x",
           "y": [
            2,
            183.39999999999998,
            120,
            3.9,
            150.9,
            41.8,
            135.7,
            62.2,
            139.9,
            270,
            2.7,
            9.7,
            595.7,
            4.4
           ],
           "yaxis": "y"
          },
          {
           "hovertemplate": "Race=Other_Total<br>Year=2001<br>States=%{x}<br>Population=%{marker.size}<extra></extra>",
           "legendgroup": "Other_Total",
           "marker": {
            "color": "#ab63fa",
            "size": [
             2.5,
             17.6,
             24.1,
             13.1,
             17.6,
             4.6,
             3.8,
             7.4,
             5.7,
             7.6,
             6,
             115.6,
             44.2,
             4.300000000000001
            ],
            "sizemode": "area",
            "sizeref": 1.0821944444444442,
            "symbol": "circle"
           },
           "mode": "markers",
           "name": "Other_Total",
           "orientation": "v",
           "showlegend": true,
           "type": "scatter",
           "x": [
            "Terengganu",
            "Johor",
            "Kedah",
            "Kelantan",
            "Kuala Lumpur",
            "Melaka",
            "Negeri Sembilan",
            "Pahang",
            "Pulau Pinang",
            "Perak",
            "Perlis",
            "Sabah",
            "Selangor",
            "Sarawak"
           ],
           "xaxis": "x",
           "y": [
            2.5,
            17.6,
            24.1,
            13.1,
            17.6,
            4.6,
            3.8,
            7.4,
            5.7,
            7.6,
            6,
            115.6,
            44.2,
            4.300000000000001
           ],
           "yaxis": "y"
          }
         ],
         "name": "2001"
        },
        {
         "data": [
          {
           "hovertemplate": "Race=Bumi_Total<br>Year=2002<br>States=%{x}<br>Population=%{marker.size}<extra></extra>",
           "legendgroup": "Bumi_Total",
           "marker": {
            "color": "#636efa",
            "size": [
             888.7,
             1556.2,
             1304.6999999999998,
             1323,
             600.8,
             421.7,
             500.29999999999995,
             982.6,
             560.8,
             1160.3,
             179.9,
             1466.2,
             2274.6000000000004,
             1168.9
            ],
            "sizemode": "area",
            "sizeref": 1.0821944444444442,
            "symbol": "circle"
           },
           "mode": "markers",
           "name": "Bumi_Total",
           "orientation": "v",
           "showlegend": true,
           "type": "scatter",
           "x": [
            "Terengganu",
            "Johor",
            "Kedah",
            "Kelantan",
            "Kuala Lumpur",
            "Melaka",
            "Negeri Sembilan",
            "Pahang",
            "Pulau Pinang",
            "Perak",
            "Perlis",
            "Sabah",
            "Selangor",
            "Sarawak"
           ],
           "xaxis": "x",
           "y": [
            888.7,
            1556.2,
            1304.6999999999998,
            1323,
            600.8,
            421.7,
            500.29999999999995,
            982.6,
            560.8,
            1160.3,
            179.9,
            1466.2,
            2274.6000000000004,
            1168.9
           ],
           "yaxis": "y"
          },
          {
           "hovertemplate": "Race=Chinese_Total<br>Year=2002<br>States=%{x}<br>Population=%{marker.size}<extra></extra>",
           "legendgroup": "Chinese_Total",
           "marker": {
            "color": "#EF553B",
            "size": [
             25.4,
             952.5999999999999,
             248.8,
             50.8,
             594,
             189,
             219.7,
             223.39999999999998,
             618.1,
             674,
             20.7,
             269.20000000000005,
             1277.1999999999998,
             550.7
            ],
            "sizemode": "area",
            "sizeref": 1.0821944444444442,
            "symbol": "circle"
           },
           "mode": "markers",
           "name": "Chinese_Total",
           "orientation": "v",
           "showlegend": true,
           "type": "scatter",
           "x": [
            "Terengganu",
            "Johor",
            "Kedah",
            "Kelantan",
            "Kuala Lumpur",
            "Melaka",
            "Negeri Sembilan",
            "Pahang",
            "Pulau Pinang",
            "Perak",
            "Perlis",
            "Sabah",
            "Selangor",
            "Sarawak"
           ],
           "xaxis": "x",
           "y": [
            25.4,
            952.5999999999999,
            248.8,
            50.8,
            594,
            189,
            219.7,
            223.39999999999998,
            618.1,
            674,
            20.7,
            269.20000000000005,
            1277.1999999999998,
            550.7
           ],
           "yaxis": "y"
          },
          {
           "hovertemplate": "Race=Indian_Total<br>Year=2002<br>States=%{x}<br>Population=%{marker.size}<extra></extra>",
           "legendgroup": "Indian_Total",
           "marker": {
            "color": "#00cc96",
            "size": [
             2.1,
             187.7,
             122,
             4,
             151.9,
             42.7,
             137.6,
             62.2,
             142.2,
             272.5,
             2.7,
             9.6,
             605.7,
             4.7
            ],
            "sizemode": "area",
            "sizeref": 1.0821944444444442,
            "symbol": "circle"
           },
           "mode": "markers",
           "name": "Indian_Total",
           "orientation": "v",
           "showlegend": true,
           "type": "scatter",
           "x": [
            "Terengganu",
            "Johor",
            "Kedah",
            "Kelantan",
            "Kuala Lumpur",
            "Melaka",
            "Negeri Sembilan",
            "Pahang",
            "Pulau Pinang",
            "Perak",
            "Perlis",
            "Sabah",
            "Selangor",
            "Sarawak"
           ],
           "xaxis": "x",
           "y": [
            2.1,
            187.7,
            122,
            4,
            151.9,
            42.7,
            137.6,
            62.2,
            142.2,
            272.5,
            2.7,
            9.6,
            605.7,
            4.7
           ],
           "yaxis": "y"
          },
          {
           "hovertemplate": "Race=Other_Total<br>Year=2002<br>States=%{x}<br>Population=%{marker.size}<extra></extra>",
           "legendgroup": "Other_Total",
           "marker": {
            "color": "#ab63fa",
            "size": [
             2.6,
             17.6,
             24.2,
             13.3,
             17.8,
             4.6,
             3.9,
             7.5,
             5.7,
             7.8,
             6,
             114.9,
             44.1,
             4.6
            ],
            "sizemode": "area",
            "sizeref": 1.0821944444444442,
            "symbol": "circle"
           },
           "mode": "markers",
           "name": "Other_Total",
           "orientation": "v",
           "showlegend": true,
           "type": "scatter",
           "x": [
            "Terengganu",
            "Johor",
            "Kedah",
            "Kelantan",
            "Kuala Lumpur",
            "Melaka",
            "Negeri Sembilan",
            "Pahang",
            "Pulau Pinang",
            "Perak",
            "Perlis",
            "Sabah",
            "Selangor",
            "Sarawak"
           ],
           "xaxis": "x",
           "y": [
            2.6,
            17.6,
            24.2,
            13.3,
            17.8,
            4.6,
            3.9,
            7.5,
            5.7,
            7.8,
            6,
            114.9,
            44.1,
            4.6
           ],
           "yaxis": "y"
          }
         ],
         "name": "2002"
        },
        {
         "data": [
          {
           "hovertemplate": "Race=Bumi_Total<br>Year=2003<br>States=%{x}<br>Population=%{marker.size}<extra></extra>",
           "legendgroup": "Bumi_Total",
           "marker": {
            "color": "#636efa",
            "size": [
             902.9000000000001,
             1589.1,
             1325.8000000000002,
             1344.6999999999998,
             613.7,
             434.29999999999995,
             511.6,
             1001.2,
             570.6,
             1179.8000000000002,
             182.60000000000002,
             1491,
             2345.8,
             1188.1
            ],
            "sizemode": "area",
            "sizeref": 1.0821944444444442,
            "symbol": "circle"
           },
           "mode": "markers",
           "name": "Bumi_Total",
           "orientation": "v",
           "showlegend": true,
           "type": "scatter",
           "x": [
            "Terengganu",
            "Johor",
            "Kedah",
            "Kelantan",
            "Kuala Lumpur",
            "Melaka",
            "Negeri Sembilan",
            "Pahang",
            "Pulau Pinang",
            "Perak",
            "Perlis",
            "Sabah",
            "Selangor",
            "Sarawak"
           ],
           "xaxis": "x",
           "y": [
            902.9000000000001,
            1589.1,
            1325.8000000000002,
            1344.6999999999998,
            613.7,
            434.29999999999995,
            511.6,
            1001.2,
            570.6,
            1179.8000000000002,
            182.60000000000002,
            1491,
            2345.8,
            1188.1
           ],
           "yaxis": "y"
          },
          {
           "hovertemplate": "Race=Chinese_Total<br>Year=2003<br>States=%{x}<br>Population=%{marker.size}<extra></extra>",
           "legendgroup": "Chinese_Total",
           "marker": {
            "color": "#EF553B",
            "size": [
             25.6,
             965.2,
             250.3,
             51,
             602,
             191.9,
             220.89999999999998,
             224.3,
             625.7,
             679.2,
             20.5,
             272.20000000000005,
             1299.9,
             556
            ],
            "sizemode": "area",
            "sizeref": 1.0821944444444442,
            "symbol": "circle"
           },
           "mode": "markers",
           "name": "Chinese_Total",
           "orientation": "v",
           "showlegend": true,
           "type": "scatter",
           "x": [
            "Terengganu",
            "Johor",
            "Kedah",
            "Kelantan",
            "Kuala Lumpur",
            "Melaka",
            "Negeri Sembilan",
            "Pahang",
            "Pulau Pinang",
            "Perak",
            "Perlis",
            "Sabah",
            "Selangor",
            "Sarawak"
           ],
           "xaxis": "x",
           "y": [
            25.6,
            965.2,
            250.3,
            51,
            602,
            191.9,
            220.89999999999998,
            224.3,
            625.7,
            679.2,
            20.5,
            272.20000000000005,
            1299.9,
            556
           ],
           "yaxis": "y"
          },
          {
           "hovertemplate": "Race=Indian_Total<br>Year=2003<br>States=%{x}<br>Population=%{marker.size}<extra></extra>",
           "legendgroup": "Indian_Total",
           "marker": {
            "color": "#00cc96",
            "size": [
             2.1,
             191.7,
             123.9,
             4.1,
             153,
             43.6,
             139.1,
             62.3,
             144.3,
             274.5,
             2.8,
             9.6,
             615.4,
             5
            ],
            "sizemode": "area",
            "sizeref": 1.0821944444444442,
            "symbol": "circle"
           },
           "mode": "markers",
           "name": "Indian_Total",
           "orientation": "v",
           "showlegend": true,
           "type": "scatter",
           "x": [
            "Terengganu",
            "Johor",
            "Kedah",
            "Kelantan",
            "Kuala Lumpur",
            "Melaka",
            "Negeri Sembilan",
            "Pahang",
            "Pulau Pinang",
            "Perak",
            "Perlis",
            "Sabah",
            "Selangor",
            "Sarawak"
           ],
           "xaxis": "x",
           "y": [
            2.1,
            191.7,
            123.9,
            4.1,
            153,
            43.6,
            139.1,
            62.3,
            144.3,
            274.5,
            2.8,
            9.6,
            615.4,
            5
           ],
           "yaxis": "y"
          },
          {
           "hovertemplate": "Race=Other_Total<br>Year=2003<br>States=%{x}<br>Population=%{marker.size}<extra></extra>",
           "legendgroup": "Other_Total",
           "marker": {
            "color": "#ab63fa",
            "size": [
             2.6,
             17.6,
             24.4,
             13.4,
             17.8,
             4.699999999999999,
             3.9,
             7.7,
             5.8,
             8.1,
             6,
             114.1,
             44.2,
             4.9
            ],
            "sizemode": "area",
            "sizeref": 1.0821944444444442,
            "symbol": "circle"
           },
           "mode": "markers",
           "name": "Other_Total",
           "orientation": "v",
           "showlegend": true,
           "type": "scatter",
           "x": [
            "Terengganu",
            "Johor",
            "Kedah",
            "Kelantan",
            "Kuala Lumpur",
            "Melaka",
            "Negeri Sembilan",
            "Pahang",
            "Pulau Pinang",
            "Perak",
            "Perlis",
            "Sabah",
            "Selangor",
            "Sarawak"
           ],
           "xaxis": "x",
           "y": [
            2.6,
            17.6,
            24.4,
            13.4,
            17.8,
            4.699999999999999,
            3.9,
            7.7,
            5.8,
            8.1,
            6,
            114.1,
            44.2,
            4.9
           ],
           "yaxis": "y"
          }
         ],
         "name": "2003"
        },
        {
         "data": [
          {
           "hovertemplate": "Race=Bumi_Total<br>Year=2004<br>States=%{x}<br>Population=%{marker.size}<extra></extra>",
           "legendgroup": "Bumi_Total",
           "marker": {
            "color": "#636efa",
            "size": [
             917.3,
             1622.9,
             1346.7000000000003,
             1366,
             626.4,
             447.70000000000005,
             523.4,
             1018.5999999999999,
             580.6,
             1199.6,
             185.10000000000002,
             1518.1999999999998,
             2421.3999999999996,
             1207.3000000000002
            ],
            "sizemode": "area",
            "sizeref": 1.0821944444444442,
            "symbol": "circle"
           },
           "mode": "markers",
           "name": "Bumi_Total",
           "orientation": "v",
           "showlegend": true,
           "type": "scatter",
           "x": [
            "Terengganu",
            "Johor",
            "Kedah",
            "Kelantan",
            "Kuala Lumpur",
            "Melaka",
            "Negeri Sembilan",
            "Pahang",
            "Pulau Pinang",
            "Perak",
            "Perlis",
            "Sabah",
            "Selangor",
            "Sarawak"
           ],
           "xaxis": "x",
           "y": [
            917.3,
            1622.9,
            1346.7000000000003,
            1366,
            626.4,
            447.70000000000005,
            523.4,
            1018.5999999999999,
            580.6,
            1199.6,
            185.10000000000002,
            1518.1999999999998,
            2421.3999999999996,
            1207.3000000000002
           ],
           "yaxis": "y"
          },
          {
           "hovertemplate": "Race=Chinese_Total<br>Year=2004<br>States=%{x}<br>Population=%{marker.size}<extra></extra>",
           "legendgroup": "Chinese_Total",
           "marker": {
            "color": "#EF553B",
            "size": [
             25.799999999999997,
             976.9,
             251.6,
             51.2,
             609.5999999999999,
             194.7,
             221.89999999999998,
             225,
             632.8,
             683.5,
             20.2,
             275.5,
             1322.2,
             560.9
            ],
            "sizemode": "area",
            "sizeref": 1.0821944444444442,
            "symbol": "circle"
           },
           "mode": "markers",
           "name": "Chinese_Total",
           "orientation": "v",
           "showlegend": true,
           "type": "scatter",
           "x": [
            "Terengganu",
            "Johor",
            "Kedah",
            "Kelantan",
            "Kuala Lumpur",
            "Melaka",
            "Negeri Sembilan",
            "Pahang",
            "Pulau Pinang",
            "Perak",
            "Perlis",
            "Sabah",
            "Selangor",
            "Sarawak"
           ],
           "xaxis": "x",
           "y": [
            25.799999999999997,
            976.9,
            251.6,
            51.2,
            609.5999999999999,
            194.7,
            221.89999999999998,
            225,
            632.8,
            683.5,
            20.2,
            275.5,
            1322.2,
            560.9
           ],
           "yaxis": "y"
          },
          {
           "hovertemplate": "Race=Indian_Total<br>Year=2004<br>States=%{x}<br>Population=%{marker.size}<extra></extra>",
           "legendgroup": "Indian_Total",
           "marker": {
            "color": "#00cc96",
            "size": [
             2.2,
             195.8,
             126.1,
             4.2,
             153.9,
             44.5,
             140.60000000000002,
             62.5,
             146.4,
             276.6,
             2.9,
             9.5,
             625.5,
             5.3
            ],
            "sizemode": "area",
            "sizeref": 1.0821944444444442,
            "symbol": "circle"
           },
           "mode": "markers",
           "name": "Indian_Total",
           "orientation": "v",
           "showlegend": true,
           "type": "scatter",
           "x": [
            "Terengganu",
            "Johor",
            "Kedah",
            "Kelantan",
            "Kuala Lumpur",
            "Melaka",
            "Negeri Sembilan",
            "Pahang",
            "Pulau Pinang",
            "Perak",
            "Perlis",
            "Sabah",
            "Selangor",
            "Sarawak"
           ],
           "xaxis": "x",
           "y": [
            2.2,
            195.8,
            126.1,
            4.2,
            153.9,
            44.5,
            140.60000000000002,
            62.5,
            146.4,
            276.6,
            2.9,
            9.5,
            625.5,
            5.3
           ],
           "yaxis": "y"
          },
          {
           "hovertemplate": "Race=Other_Total<br>Year=2004<br>States=%{x}<br>Population=%{marker.size}<extra></extra>",
           "legendgroup": "Other_Total",
           "marker": {
            "color": "#ab63fa",
            "size": [
             2.7,
             17.6,
             24.5,
             13.5,
             18,
             4.699999999999999,
             3.9,
             7.8,
             5.8,
             8.5,
             6,
             113.2,
             44.2,
             5.1
            ],
            "sizemode": "area",
            "sizeref": 1.0821944444444442,
            "symbol": "circle"
           },
           "mode": "markers",
           "name": "Other_Total",
           "orientation": "v",
           "showlegend": true,
           "type": "scatter",
           "x": [
            "Terengganu",
            "Johor",
            "Kedah",
            "Kelantan",
            "Kuala Lumpur",
            "Melaka",
            "Negeri Sembilan",
            "Pahang",
            "Pulau Pinang",
            "Perak",
            "Perlis",
            "Sabah",
            "Selangor",
            "Sarawak"
           ],
           "xaxis": "x",
           "y": [
            2.7,
            17.6,
            24.5,
            13.5,
            18,
            4.699999999999999,
            3.9,
            7.8,
            5.8,
            8.5,
            6,
            113.2,
            44.2,
            5.1
           ],
           "yaxis": "y"
          }
         ],
         "name": "2004"
        },
        {
         "data": [
          {
           "hovertemplate": "Race=Bumi_Total<br>Year=2005<br>States=%{x}<br>Population=%{marker.size}<extra></extra>",
           "legendgroup": "Bumi_Total",
           "marker": {
            "color": "#636efa",
            "size": [
             931.3000000000001,
             1656.2,
             1367.3,
             1386.4,
             638.8000000000001,
             460.6,
             535.1,
             1036.5,
             590.7,
             1219.5,
             187.9,
             1548,
             2499.3,
             1227.1
            ],
            "sizemode": "area",
            "sizeref": 1.0821944444444442,
            "symbol": "circle"
           },
           "mode": "markers",
           "name": "Bumi_Total",
           "orientation": "v",
           "showlegend": true,
           "type": "scatter",
           "x": [
            "Terengganu",
            "Johor",
            "Kedah",
            "Kelantan",
            "Kuala Lumpur",
            "Melaka",
            "Negeri Sembilan",
            "Pahang",
            "Pulau Pinang",
            "Perak",
            "Perlis",
            "Sabah",
            "Selangor",
            "Sarawak"
           ],
           "xaxis": "x",
           "y": [
            931.3000000000001,
            1656.2,
            1367.3,
            1386.4,
            638.8000000000001,
            460.6,
            535.1,
            1036.5,
            590.7,
            1219.5,
            187.9,
            1548,
            2499.3,
            1227.1
           ],
           "yaxis": "y"
          },
          {
           "hovertemplate": "Race=Chinese_Total<br>Year=2005<br>States=%{x}<br>Population=%{marker.size}<extra></extra>",
           "legendgroup": "Chinese_Total",
           "marker": {
            "color": "#EF553B",
            "size": [
             25.9,
             988.5,
             252.70000000000002,
             51.5,
             617.4,
             197.3,
             222.7,
             225.89999999999998,
             639.7,
             687.5,
             20,
             278.70000000000005,
             1344.4,
             565.4
            ],
            "sizemode": "area",
            "sizeref": 1.0821944444444442,
            "symbol": "circle"
           },
           "mode": "markers",
           "name": "Chinese_Total",
           "orientation": "v",
           "showlegend": true,
           "type": "scatter",
           "x": [
            "Terengganu",
            "Johor",
            "Kedah",
            "Kelantan",
            "Kuala Lumpur",
            "Melaka",
            "Negeri Sembilan",
            "Pahang",
            "Pulau Pinang",
            "Perak",
            "Perlis",
            "Sabah",
            "Selangor",
            "Sarawak"
           ],
           "xaxis": "x",
           "y": [
            25.9,
            988.5,
            252.70000000000002,
            51.5,
            617.4,
            197.3,
            222.7,
            225.89999999999998,
            639.7,
            687.5,
            20,
            278.70000000000005,
            1344.4,
            565.4
           ],
           "yaxis": "y"
          },
          {
           "hovertemplate": "Race=Indian_Total<br>Year=2005<br>States=%{x}<br>Population=%{marker.size}<extra></extra>",
           "legendgroup": "Indian_Total",
           "marker": {
            "color": "#00cc96",
            "size": [
             2.3,
             199.7,
             127.9,
             4.2,
             154.7,
             45.3,
             142,
             62.6,
             148.39999999999998,
             278.4,
             2.9,
             9.600000000000001,
             635.2,
             5.7
            ],
            "sizemode": "area",
            "sizeref": 1.0821944444444442,
            "symbol": "circle"
           },
           "mode": "markers",
           "name": "Indian_Total",
           "orientation": "v",
           "showlegend": true,
           "type": "scatter",
           "x": [
            "Terengganu",
            "Johor",
            "Kedah",
            "Kelantan",
            "Kuala Lumpur",
            "Melaka",
            "Negeri Sembilan",
            "Pahang",
            "Pulau Pinang",
            "Perak",
            "Perlis",
            "Sabah",
            "Selangor",
            "Sarawak"
           ],
           "xaxis": "x",
           "y": [
            2.3,
            199.7,
            127.9,
            4.2,
            154.7,
            45.3,
            142,
            62.6,
            148.39999999999998,
            278.4,
            2.9,
            9.600000000000001,
            635.2,
            5.7
           ],
           "yaxis": "y"
          },
          {
           "hovertemplate": "Race=Other_Total<br>Year=2005<br>States=%{x}<br>Population=%{marker.size}<extra></extra>",
           "legendgroup": "Other_Total",
           "marker": {
            "color": "#ab63fa",
            "size": [
             2.7,
             17.5,
             24.6,
             13.600000000000001,
             18,
             4.8,
             3.9,
             7.8,
             5.8,
             8.8,
             6,
             112,
             44.3,
             5.5
            ],
            "sizemode": "area",
            "sizeref": 1.0821944444444442,
            "symbol": "circle"
           },
           "mode": "markers",
           "name": "Other_Total",
           "orientation": "v",
           "showlegend": true,
           "type": "scatter",
           "x": [
            "Terengganu",
            "Johor",
            "Kedah",
            "Kelantan",
            "Kuala Lumpur",
            "Melaka",
            "Negeri Sembilan",
            "Pahang",
            "Pulau Pinang",
            "Perak",
            "Perlis",
            "Sabah",
            "Selangor",
            "Sarawak"
           ],
           "xaxis": "x",
           "y": [
            2.7,
            17.5,
            24.6,
            13.600000000000001,
            18,
            4.8,
            3.9,
            7.8,
            5.8,
            8.8,
            6,
            112,
            44.3,
            5.5
           ],
           "yaxis": "y"
          }
         ],
         "name": "2005"
        },
        {
         "data": [
          {
           "hovertemplate": "Race=Bumi_Total<br>Year=2006<br>States=%{x}<br>Population=%{marker.size}<extra></extra>",
           "legendgroup": "Bumi_Total",
           "marker": {
            "color": "#636efa",
            "size": [
             945.1,
             1689.5,
             1387.3,
             1405.8,
             651.5,
             473.9,
             547.0999999999999,
             1054.3,
             600.5999999999999,
             1239,
             190.60000000000002,
             1579.4,
             2578.4,
             1247.5
            ],
            "sizemode": "area",
            "sizeref": 1.0821944444444442,
            "symbol": "circle"
           },
           "mode": "markers",
           "name": "Bumi_Total",
           "orientation": "v",
           "showlegend": true,
           "type": "scatter",
           "x": [
            "Terengganu",
            "Johor",
            "Kedah",
            "Kelantan",
            "Kuala Lumpur",
            "Melaka",
            "Negeri Sembilan",
            "Pahang",
            "Pulau Pinang",
            "Perak",
            "Perlis",
            "Sabah",
            "Selangor",
            "Sarawak"
           ],
           "xaxis": "x",
           "y": [
            945.1,
            1689.5,
            1387.3,
            1405.8,
            651.5,
            473.9,
            547.0999999999999,
            1054.3,
            600.5999999999999,
            1239,
            190.60000000000002,
            1579.4,
            2578.4,
            1247.5
           ],
           "yaxis": "y"
          },
          {
           "hovertemplate": "Race=Chinese_Total<br>Year=2006<br>States=%{x}<br>Population=%{marker.size}<extra></extra>",
           "legendgroup": "Chinese_Total",
           "marker": {
            "color": "#EF553B",
            "size": [
             26.1,
             999.9000000000001,
             253.70000000000002,
             51.7,
             625.4,
             199.8,
             223.6,
             226.7,
             646.4,
             690.9000000000001,
             19.700000000000003,
             281.9,
             1366.1,
             569.9
            ],
            "sizemode": "area",
            "sizeref": 1.0821944444444442,
            "symbol": "circle"
           },
           "mode": "markers",
           "name": "Chinese_Total",
           "orientation": "v",
           "showlegend": true,
           "type": "scatter",
           "x": [
            "Terengganu",
            "Johor",
            "Kedah",
            "Kelantan",
            "Kuala Lumpur",
            "Melaka",
            "Negeri Sembilan",
            "Pahang",
            "Pulau Pinang",
            "Perak",
            "Perlis",
            "Sabah",
            "Selangor",
            "Sarawak"
           ],
           "xaxis": "x",
           "y": [
            26.1,
            999.9000000000001,
            253.70000000000002,
            51.7,
            625.4,
            199.8,
            223.6,
            226.7,
            646.4,
            690.9000000000001,
            19.700000000000003,
            281.9,
            1366.1,
            569.9
           ],
           "yaxis": "y"
          },
          {
           "hovertemplate": "Race=Indian_Total<br>Year=2006<br>States=%{x}<br>Population=%{marker.size}<extra></extra>",
           "legendgroup": "Indian_Total",
           "marker": {
            "color": "#00cc96",
            "size": [
             2.4,
             203.6,
             129.7,
             4.3,
             155.5,
             46.2,
             143.4,
             62.699999999999996,
             150.1,
             280,
             2.9,
             9.5,
             644.8,
             6
            ],
            "sizemode": "area",
            "sizeref": 1.0821944444444442,
            "symbol": "circle"
           },
           "mode": "markers",
           "name": "Indian_Total",
           "orientation": "v",
           "showlegend": true,
           "type": "scatter",
           "x": [
            "Terengganu",
            "Johor",
            "Kedah",
            "Kelantan",
            "Kuala Lumpur",
            "Melaka",
            "Negeri Sembilan",
            "Pahang",
            "Pulau Pinang",
            "Perak",
            "Perlis",
            "Sabah",
            "Selangor",
            "Sarawak"
           ],
           "xaxis": "x",
           "y": [
            2.4,
            203.6,
            129.7,
            4.3,
            155.5,
            46.2,
            143.4,
            62.699999999999996,
            150.1,
            280,
            2.9,
            9.5,
            644.8,
            6
           ],
           "yaxis": "y"
          },
          {
           "hovertemplate": "Race=Other_Total<br>Year=2006<br>States=%{x}<br>Population=%{marker.size}<extra></extra>",
           "legendgroup": "Other_Total",
           "marker": {
            "color": "#ab63fa",
            "size": [
             2.7,
             17.7,
             24.700000000000003,
             13.6,
             18.200000000000003,
             4.9,
             4,
             7.9,
             5.8,
             9.3,
             6,
             110.9,
             44.5,
             6
            ],
            "sizemode": "area",
            "sizeref": 1.0821944444444442,
            "symbol": "circle"
           },
           "mode": "markers",
           "name": "Other_Total",
           "orientation": "v",
           "showlegend": true,
           "type": "scatter",
           "x": [
            "Terengganu",
            "Johor",
            "Kedah",
            "Kelantan",
            "Kuala Lumpur",
            "Melaka",
            "Negeri Sembilan",
            "Pahang",
            "Pulau Pinang",
            "Perak",
            "Perlis",
            "Sabah",
            "Selangor",
            "Sarawak"
           ],
           "xaxis": "x",
           "y": [
            2.7,
            17.7,
            24.700000000000003,
            13.6,
            18.200000000000003,
            4.9,
            4,
            7.9,
            5.8,
            9.3,
            6,
            110.9,
            44.5,
            6
           ],
           "yaxis": "y"
          }
         ],
         "name": "2006"
        },
        {
         "data": [
          {
           "hovertemplate": "Race=Bumi_Total<br>Year=2007<br>States=%{x}<br>Population=%{marker.size}<extra></extra>",
           "legendgroup": "Bumi_Total",
           "marker": {
            "color": "#636efa",
            "size": [
             959,
             1722.4,
             1407,
             1425.3000000000002,
             664.5999999999999,
             487.2,
             559,
             1071.7,
             611.2,
             1257.8,
             193.3,
             1613.3000000000002,
             2662.5999999999995,
             1268
            ],
            "sizemode": "area",
            "sizeref": 1.0821944444444442,
            "symbol": "circle"
           },
           "mode": "markers",
           "name": "Bumi_Total",
           "orientation": "v",
           "showlegend": true,
           "type": "scatter",
           "x": [
            "Terengganu",
            "Johor",
            "Kedah",
            "Kelantan",
            "Kuala Lumpur",
            "Melaka",
            "Negeri Sembilan",
            "Pahang",
            "Pulau Pinang",
            "Perak",
            "Perlis",
            "Sabah",
            "Selangor",
            "Sarawak"
           ],
           "xaxis": "x",
           "y": [
            959,
            1722.4,
            1407,
            1425.3000000000002,
            664.5999999999999,
            487.2,
            559,
            1071.7,
            611.2,
            1257.8,
            193.3,
            1613.3000000000002,
            2662.5999999999995,
            1268
           ],
           "yaxis": "y"
          },
          {
           "hovertemplate": "Race=Chinese_Total<br>Year=2007<br>States=%{x}<br>Population=%{marker.size}<extra></extra>",
           "legendgroup": "Chinese_Total",
           "marker": {
            "color": "#EF553B",
            "size": [
             26.2,
             1010.6999999999999,
             254.60000000000002,
             51.8,
             633.2,
             202.2,
             224.3,
             227.7,
             652.9,
             693.8,
             19.4,
             285.1,
             1387.6,
             573.7
            ],
            "sizemode": "area",
            "sizeref": 1.0821944444444442,
            "symbol": "circle"
           },
           "mode": "markers",
           "name": "Chinese_Total",
           "orientation": "v",
           "showlegend": true,
           "type": "scatter",
           "x": [
            "Terengganu",
            "Johor",
            "Kedah",
            "Kelantan",
            "Kuala Lumpur",
            "Melaka",
            "Negeri Sembilan",
            "Pahang",
            "Pulau Pinang",
            "Perak",
            "Perlis",
            "Sabah",
            "Selangor",
            "Sarawak"
           ],
           "xaxis": "x",
           "y": [
            26.2,
            1010.6999999999999,
            254.60000000000002,
            51.8,
            633.2,
            202.2,
            224.3,
            227.7,
            652.9,
            693.8,
            19.4,
            285.1,
            1387.6,
            573.7
           ],
           "yaxis": "y"
          },
          {
           "hovertemplate": "Race=Indian_Total<br>Year=2007<br>States=%{x}<br>Population=%{marker.size}<extra></extra>",
           "legendgroup": "Indian_Total",
           "marker": {
            "color": "#00cc96",
            "size": [
             2.4,
             207.3,
             131.4,
             4.3,
             156.2,
             47,
             144.7,
             62.7,
             151.8,
             281.4,
             2.9,
             9.5,
             654.3,
             6.4
            ],
            "sizemode": "area",
            "sizeref": 1.0821944444444442,
            "symbol": "circle"
           },
           "mode": "markers",
           "name": "Indian_Total",
           "orientation": "v",
           "showlegend": true,
           "type": "scatter",
           "x": [
            "Terengganu",
            "Johor",
            "Kedah",
            "Kelantan",
            "Kuala Lumpur",
            "Melaka",
            "Negeri Sembilan",
            "Pahang",
            "Pulau Pinang",
            "Perak",
            "Perlis",
            "Sabah",
            "Selangor",
            "Sarawak"
           ],
           "xaxis": "x",
           "y": [
            2.4,
            207.3,
            131.4,
            4.3,
            156.2,
            47,
            144.7,
            62.7,
            151.8,
            281.4,
            2.9,
            9.5,
            654.3,
            6.4
           ],
           "yaxis": "y"
          },
          {
           "hovertemplate": "Race=Other_Total<br>Year=2007<br>States=%{x}<br>Population=%{marker.size}<extra></extra>",
           "legendgroup": "Other_Total",
           "marker": {
            "color": "#ab63fa",
            "size": [
             2.7,
             17.7,
             24.8,
             13.7,
             18.4,
             5,
             4,
             8,
             5.9,
             9.8,
             6,
             109.8,
             44.8,
             6.699999999999999
            ],
            "sizemode": "area",
            "sizeref": 1.0821944444444442,
            "symbol": "circle"
           },
           "mode": "markers",
           "name": "Other_Total",
           "orientation": "v",
           "showlegend": true,
           "type": "scatter",
           "x": [
            "Terengganu",
            "Johor",
            "Kedah",
            "Kelantan",
            "Kuala Lumpur",
            "Melaka",
            "Negeri Sembilan",
            "Pahang",
            "Pulau Pinang",
            "Perak",
            "Perlis",
            "Sabah",
            "Selangor",
            "Sarawak"
           ],
           "xaxis": "x",
           "y": [
            2.7,
            17.7,
            24.8,
            13.7,
            18.4,
            5,
            4,
            8,
            5.9,
            9.8,
            6,
            109.8,
            44.8,
            6.699999999999999
           ],
           "yaxis": "y"
          }
         ],
         "name": "2007"
        },
        {
         "data": [
          {
           "hovertemplate": "Race=Bumi_Total<br>Year=2008<br>States=%{x}<br>Population=%{marker.size}<extra></extra>",
           "legendgroup": "Bumi_Total",
           "marker": {
            "color": "#636efa",
            "size": [
             972.8,
             1754.7,
             1426.3000000000002,
             1444,
             677.5999999999999,
             500.6,
             570.8,
             1089.1999999999998,
             621.5,
             1275.5,
             195.9,
             1649.6,
             2748.3999999999996,
             1288.4
            ],
            "sizemode": "area",
            "sizeref": 1.0821944444444442,
            "symbol": "circle"
           },
           "mode": "markers",
           "name": "Bumi_Total",
           "orientation": "v",
           "showlegend": true,
           "type": "scatter",
           "x": [
            "Terengganu",
            "Johor",
            "Kedah",
            "Kelantan",
            "Kuala Lumpur",
            "Melaka",
            "Negeri Sembilan",
            "Pahang",
            "Pulau Pinang",
            "Perak",
            "Perlis",
            "Sabah",
            "Selangor",
            "Sarawak"
           ],
           "xaxis": "x",
           "y": [
            972.8,
            1754.7,
            1426.3000000000002,
            1444,
            677.5999999999999,
            500.6,
            570.8,
            1089.1999999999998,
            621.5,
            1275.5,
            195.9,
            1649.6,
            2748.3999999999996,
            1288.4
           ],
           "yaxis": "y"
          },
          {
           "hovertemplate": "Race=Chinese_Total<br>Year=2008<br>States=%{x}<br>Population=%{marker.size}<extra></extra>",
           "legendgroup": "Chinese_Total",
           "marker": {
            "color": "#EF553B",
            "size": [
             26.5,
             1021.8,
             255.39999999999998,
             52.1,
             641.2,
             204.7,
             224.9,
             228.7,
             659.2,
             696.2,
             19.2,
             288.5,
             1408.7,
             577.7
            ],
            "sizemode": "area",
            "sizeref": 1.0821944444444442,
            "symbol": "circle"
           },
           "mode": "markers",
           "name": "Chinese_Total",
           "orientation": "v",
           "showlegend": true,
           "type": "scatter",
           "x": [
            "Terengganu",
            "Johor",
            "Kedah",
            "Kelantan",
            "Kuala Lumpur",
            "Melaka",
            "Negeri Sembilan",
            "Pahang",
            "Pulau Pinang",
            "Perak",
            "Perlis",
            "Sabah",
            "Selangor",
            "Sarawak"
           ],
           "xaxis": "x",
           "y": [
            26.5,
            1021.8,
            255.39999999999998,
            52.1,
            641.2,
            204.7,
            224.9,
            228.7,
            659.2,
            696.2,
            19.2,
            288.5,
            1408.7,
            577.7
           ],
           "yaxis": "y"
          },
          {
           "hovertemplate": "Race=Indian_Total<br>Year=2008<br>States=%{x}<br>Population=%{marker.size}<extra></extra>",
           "legendgroup": "Indian_Total",
           "marker": {
            "color": "#00cc96",
            "size": [
             2.5,
             211.2,
             133.1,
             4.4,
             156.9,
             47.8,
             146,
             62.900000000000006,
             153.5,
             282.70000000000005,
             2.9,
             9.4,
             663.4,
             6.800000000000001
            ],
            "sizemode": "area",
            "sizeref": 1.0821944444444442,
            "symbol": "circle"
           },
           "mode": "markers",
           "name": "Indian_Total",
           "orientation": "v",
           "showlegend": true,
           "type": "scatter",
           "x": [
            "Terengganu",
            "Johor",
            "Kedah",
            "Kelantan",
            "Kuala Lumpur",
            "Melaka",
            "Negeri Sembilan",
            "Pahang",
            "Pulau Pinang",
            "Perak",
            "Perlis",
            "Sabah",
            "Selangor",
            "Sarawak"
           ],
           "xaxis": "x",
           "y": [
            2.5,
            211.2,
            133.1,
            4.4,
            156.9,
            47.8,
            146,
            62.900000000000006,
            153.5,
            282.70000000000005,
            2.9,
            9.4,
            663.4,
            6.800000000000001
           ],
           "yaxis": "y"
          },
          {
           "hovertemplate": "Race=Other_Total<br>Year=2008<br>States=%{x}<br>Population=%{marker.size}<extra></extra>",
           "legendgroup": "Other_Total",
           "marker": {
            "color": "#ab63fa",
            "size": [
             2.7,
             18,
             24.8,
             13.7,
             18.700000000000003,
             5.1,
             4.2,
             8,
             5.9,
             10.3,
             6,
             108.6,
             45.4,
             7.4
            ],
            "sizemode": "area",
            "sizeref": 1.0821944444444442,
            "symbol": "circle"
           },
           "mode": "markers",
           "name": "Other_Total",
           "orientation": "v",
           "showlegend": true,
           "type": "scatter",
           "x": [
            "Terengganu",
            "Johor",
            "Kedah",
            "Kelantan",
            "Kuala Lumpur",
            "Melaka",
            "Negeri Sembilan",
            "Pahang",
            "Pulau Pinang",
            "Perak",
            "Perlis",
            "Sabah",
            "Selangor",
            "Sarawak"
           ],
           "xaxis": "x",
           "y": [
            2.7,
            18,
            24.8,
            13.7,
            18.700000000000003,
            5.1,
            4.2,
            8,
            5.9,
            10.3,
            6,
            108.6,
            45.4,
            7.4
           ],
           "yaxis": "y"
          }
         ],
         "name": "2008"
        },
        {
         "data": [
          {
           "hovertemplate": "Race=Bumi_Total<br>Year=2009<br>States=%{x}<br>Population=%{marker.size}<extra></extra>",
           "legendgroup": "Bumi_Total",
           "marker": {
            "color": "#636efa",
            "size": [
             987.8,
             1786.8,
             1446.2,
             1463.3,
             690.5,
             513.6,
             582.2,
             1106.5,
             631.7,
             1293,
             199,
             1687.8999999999999,
             2843.5,
             1307.9
            ],
            "sizemode": "area",
            "sizeref": 1.0821944444444442,
            "symbol": "circle"
           },
           "mode": "markers",
           "name": "Bumi_Total",
           "orientation": "v",
           "showlegend": true,
           "type": "scatter",
           "x": [
            "Terengganu",
            "Johor",
            "Kedah",
            "Kelantan",
            "Kuala Lumpur",
            "Melaka",
            "Negeri Sembilan",
            "Pahang",
            "Pulau Pinang",
            "Perak",
            "Perlis",
            "Sabah",
            "Selangor",
            "Sarawak"
           ],
           "xaxis": "x",
           "y": [
            987.8,
            1786.8,
            1446.2,
            1463.3,
            690.5,
            513.6,
            582.2,
            1106.5,
            631.7,
            1293,
            199,
            1687.8999999999999,
            2843.5,
            1307.9
           ],
           "yaxis": "y"
          },
          {
           "hovertemplate": "Race=Chinese_Total<br>Year=2009<br>States=%{x}<br>Population=%{marker.size}<extra></extra>",
           "legendgroup": "Chinese_Total",
           "marker": {
            "color": "#EF553B",
            "size": [
             26.6,
             1031.5,
             256.1,
             52.2,
             648.8,
             207,
             225.3,
             229.7,
             665.2,
             698.4,
             19,
             292,
             1429.7,
             581.2
            ],
            "sizemode": "area",
            "sizeref": 1.0821944444444442,
            "symbol": "circle"
           },
           "mode": "markers",
           "name": "Chinese_Total",
           "orientation": "v",
           "showlegend": true,
           "type": "scatter",
           "x": [
            "Terengganu",
            "Johor",
            "Kedah",
            "Kelantan",
            "Kuala Lumpur",
            "Melaka",
            "Negeri Sembilan",
            "Pahang",
            "Pulau Pinang",
            "Perak",
            "Perlis",
            "Sabah",
            "Selangor",
            "Sarawak"
           ],
           "xaxis": "x",
           "y": [
            26.6,
            1031.5,
            256.1,
            52.2,
            648.8,
            207,
            225.3,
            229.7,
            665.2,
            698.4,
            19,
            292,
            1429.7,
            581.2
           ],
           "yaxis": "y"
          },
          {
           "hovertemplate": "Race=Indian_Total<br>Year=2009<br>States=%{x}<br>Population=%{marker.size}<extra></extra>",
           "legendgroup": "Indian_Total",
           "marker": {
            "color": "#00cc96",
            "size": [
             2.6,
             214.9,
             134.8,
             4.5,
             157.4,
             48.6,
             147.4,
             63,
             155.2,
             283.9,
             2.9,
             9.5,
             672.2,
             7.1
            ],
            "sizemode": "area",
            "sizeref": 1.0821944444444442,
            "symbol": "circle"
           },
           "mode": "markers",
           "name": "Indian_Total",
           "orientation": "v",
           "showlegend": true,
           "type": "scatter",
           "x": [
            "Terengganu",
            "Johor",
            "Kedah",
            "Kelantan",
            "Kuala Lumpur",
            "Melaka",
            "Negeri Sembilan",
            "Pahang",
            "Pulau Pinang",
            "Perak",
            "Perlis",
            "Sabah",
            "Selangor",
            "Sarawak"
           ],
           "xaxis": "x",
           "y": [
            2.6,
            214.9,
            134.8,
            4.5,
            157.4,
            48.6,
            147.4,
            63,
            155.2,
            283.9,
            2.9,
            9.5,
            672.2,
            7.1
           ],
           "yaxis": "y"
          },
          {
           "hovertemplate": "Race=Other_Total<br>Year=2009<br>States=%{x}<br>Population=%{marker.size}<extra></extra>",
           "legendgroup": "Other_Total",
           "marker": {
            "color": "#ab63fa",
            "size": [
             2.7,
             18.2,
             23.4,
             12.899999999999999,
             18.1,
             5.2,
             3.9000000000000004,
             8.1,
             5.9,
             10.399999999999999,
             5.6,
             107.3,
             46,
             8.2
            ],
            "sizemode": "area",
            "sizeref": 1.0821944444444442,
            "symbol": "circle"
           },
           "mode": "markers",
           "name": "Other_Total",
           "orientation": "v",
           "showlegend": true,
           "type": "scatter",
           "x": [
            "Terengganu",
            "Johor",
            "Kedah",
            "Kelantan",
            "Kuala Lumpur",
            "Melaka",
            "Negeri Sembilan",
            "Pahang",
            "Pulau Pinang",
            "Perak",
            "Perlis",
            "Sabah",
            "Selangor",
            "Sarawak"
           ],
           "xaxis": "x",
           "y": [
            2.7,
            18.2,
            23.4,
            12.899999999999999,
            18.1,
            5.2,
            3.9000000000000004,
            8.1,
            5.9,
            10.399999999999999,
            5.6,
            107.3,
            46,
            8.2
           ],
           "yaxis": "y"
          }
         ],
         "name": "2009"
        },
        {
         "data": [
          {
           "hovertemplate": "Race=Bumi_Total<br>Year=2010<br>States=%{x}<br>Population=%{marker.size}<extra></extra>",
           "legendgroup": "Bumi_Total",
           "marker": {
            "color": "#636efa",
            "size": [
             1002.5999999999999,
             1820.4,
             1468.2,
             1484,
             705.0999999999999,
             526.8,
             593.7,
             1125.6999999999998,
             642.6,
             1312.1,
             202.8,
             2000.4,
             2888,
             1767
            ],
            "sizemode": "area",
            "sizeref": 1.0821944444444442,
            "symbol": "circle"
           },
           "mode": "markers",
           "name": "Bumi_Total",
           "orientation": "v",
           "showlegend": true,
           "type": "scatter",
           "x": [
            "Terengganu",
            "Johor",
            "Kedah",
            "Kelantan",
            "Kuala Lumpur",
            "Melaka",
            "Negeri Sembilan",
            "Pahang",
            "Pulau Pinang",
            "Perak",
            "Perlis",
            "Sabah",
            "Selangor",
            "Sarawak"
           ],
           "xaxis": "x",
           "y": [
            1002.5999999999999,
            1820.4,
            1468.2,
            1484,
            705.0999999999999,
            526.8,
            593.7,
            1125.6999999999998,
            642.6,
            1312.1,
            202.8,
            2000.4,
            2888,
            1767
           ],
           "yaxis": "y"
          },
          {
           "hovertemplate": "Race=Chinese_Total<br>Year=2010<br>States=%{x}<br>Population=%{marker.size}<extra></extra>",
           "legendgroup": "Chinese_Total",
           "marker": {
            "color": "#EF553B",
            "size": [
             26.7,
             1041.1,
             257.1,
             52.3,
             656.9,
             209.4,
             225.5,
             230.8,
             671.3,
             700.5,
             18.9,
             295.70000000000005,
             1449.6,
             584.1
            ],
            "sizemode": "area",
            "sizeref": 1.0821944444444442,
            "symbol": "circle"
           },
           "mode": "markers",
           "name": "Chinese_Total",
           "orientation": "v",
           "showlegend": true,
           "type": "scatter",
           "x": [
            "Terengganu",
            "Johor",
            "Kedah",
            "Kelantan",
            "Kuala Lumpur",
            "Melaka",
            "Negeri Sembilan",
            "Pahang",
            "Pulau Pinang",
            "Perak",
            "Perlis",
            "Sabah",
            "Selangor",
            "Sarawak"
           ],
           "xaxis": "x",
           "y": [
            26.7,
            1041.1,
            257.1,
            52.3,
            656.9,
            209.4,
            225.5,
            230.8,
            671.3,
            700.5,
            18.9,
            295.70000000000005,
            1449.6,
            584.1
           ],
           "yaxis": "y"
          },
          {
           "hovertemplate": "Race=Indian_Total<br>Year=2010<br>States=%{x}<br>Population=%{marker.size}<extra></extra>",
           "legendgroup": "Indian_Total",
           "marker": {
            "color": "#00cc96",
            "size": [
             2.6,
             218.5,
             136.7,
             4.5,
             157.89999999999998,
             49.4,
             148.3,
             63.1,
             156.9,
             284.8,
             2.9,
             9.5,
             680.8,
             7.4
            ],
            "sizemode": "area",
            "sizeref": 1.0821944444444442,
            "symbol": "circle"
           },
           "mode": "markers",
           "name": "Indian_Total",
           "orientation": "v",
           "showlegend": true,
           "type": "scatter",
           "x": [
            "Terengganu",
            "Johor",
            "Kedah",
            "Kelantan",
            "Kuala Lumpur",
            "Melaka",
            "Negeri Sembilan",
            "Pahang",
            "Pulau Pinang",
            "Perak",
            "Perlis",
            "Sabah",
            "Selangor",
            "Sarawak"
           ],
           "xaxis": "x",
           "y": [
            2.6,
            218.5,
            136.7,
            4.5,
            157.89999999999998,
            49.4,
            148.3,
            63.1,
            156.9,
            284.8,
            2.9,
            9.5,
            680.8,
            7.4
           ],
           "yaxis": "y"
          },
          {
           "hovertemplate": "Race=Other_Total<br>Year=2010<br>States=%{x}<br>Population=%{marker.size}<extra></extra>",
           "legendgroup": "Other_Total",
           "marker": {
            "color": "#ab63fa",
            "size": [
             2,
             13.600000000000001,
             18.299999999999997,
             10.2,
             14,
             3.9,
             3.3,
             6,
             4.4,
             8.6,
             4.4,
             100.69999999999999,
             34.3,
             6.8
            ],
            "sizemode": "area",
            "sizeref": 1.0821944444444442,
            "symbol": "circle"
           },
           "mode": "markers",
           "name": "Other_Total",
           "orientation": "v",
           "showlegend": true,
           "type": "scatter",
           "x": [
            "Terengganu",
            "Johor",
            "Kedah",
            "Kelantan",
            "Kuala Lumpur",
            "Melaka",
            "Negeri Sembilan",
            "Pahang",
            "Pulau Pinang",
            "Perak",
            "Perlis",
            "Sabah",
            "Selangor",
            "Sarawak"
           ],
           "xaxis": "x",
           "y": [
            2,
            13.600000000000001,
            18.299999999999997,
            10.2,
            14,
            3.9,
            3.3,
            6,
            4.4,
            8.6,
            4.4,
            100.69999999999999,
            34.3,
            6.8
           ],
           "yaxis": "y"
          }
         ],
         "name": "2010"
        },
        {
         "data": [
          {
           "hovertemplate": "Race=Bumi_Total<br>Year=2011<br>States=%{x}<br>Population=%{marker.size}<extra></extra>",
           "legendgroup": "Bumi_Total",
           "marker": {
            "color": "#636efa",
            "size": [
             1023.3,
             1847.2,
             1485.8999999999999,
             1510.1,
             711,
             534.9000000000001,
             604,
             1143.1,
             655.0999999999999,
             1330.8,
             203.8,
             2033.8,
             2943,
             1795.5
            ],
            "sizemode": "area",
            "sizeref": 1.0821944444444442,
            "symbol": "circle"
           },
           "mode": "markers",
           "name": "Bumi_Total",
           "orientation": "v",
           "showlegend": true,
           "type": "scatter",
           "x": [
            "Terengganu",
            "Johor",
            "Kedah",
            "Kelantan",
            "Kuala Lumpur",
            "Melaka",
            "Negeri Sembilan",
            "Pahang",
            "Pulau Pinang",
            "Perak",
            "Perlis",
            "Sabah",
            "Selangor",
            "Sarawak"
           ],
           "xaxis": "x",
           "y": [
            1023.3,
            1847.2,
            1485.8999999999999,
            1510.1,
            711,
            534.9000000000001,
            604,
            1143.1,
            655.0999999999999,
            1330.8,
            203.8,
            2033.8,
            2943,
            1795.5
           ],
           "yaxis": "y"
          },
          {
           "hovertemplate": "Race=Chinese_Total<br>Year=2011<br>States=%{x}<br>Population=%{marker.size}<extra></extra>",
           "legendgroup": "Chinese_Total",
           "marker": {
            "color": "#EF553B",
            "size": [
             26.9,
             1049.9,
             256.9,
             52.8,
             659.8,
             210.7,
             226.89999999999998,
             232.9,
             674.9000000000001,
             701.5,
             18.9,
             298.29999999999995,
             1460.9,
             589.3
            ],
            "sizemode": "area",
            "sizeref": 1.0821944444444442,
            "symbol": "circle"
           },
           "mode": "markers",
           "name": "Chinese_Total",
           "orientation": "v",
           "showlegend": true,
           "type": "scatter",
           "x": [
            "Terengganu",
            "Johor",
            "Kedah",
            "Kelantan",
            "Kuala Lumpur",
            "Melaka",
            "Negeri Sembilan",
            "Pahang",
            "Pulau Pinang",
            "Perak",
            "Perlis",
            "Sabah",
            "Selangor",
            "Sarawak"
           ],
           "xaxis": "x",
           "y": [
            26.9,
            1049.9,
            256.9,
            52.8,
            659.8,
            210.7,
            226.89999999999998,
            232.9,
            674.9000000000001,
            701.5,
            18.9,
            298.29999999999995,
            1460.9,
            589.3
           ],
           "yaxis": "y"
          },
          {
           "hovertemplate": "Race=Indian_Total<br>Year=2011<br>States=%{x}<br>Population=%{marker.size}<extra></extra>",
           "legendgroup": "Indian_Total",
           "marker": {
            "color": "#00cc96",
            "size": [
             2.8,
             220.2,
             137.3,
             4.6,
             159.2,
             47.7,
             151,
             64,
             159,
             285.7,
             3.1,
             10.4,
             685.9000000000001,
             7.2
            ],
            "sizemode": "area",
            "sizeref": 1.0821944444444442,
            "symbol": "circle"
           },
           "mode": "markers",
           "name": "Indian_Total",
           "orientation": "v",
           "showlegend": true,
           "type": "scatter",
           "x": [
            "Terengganu",
            "Johor",
            "Kedah",
            "Kelantan",
            "Kuala Lumpur",
            "Melaka",
            "Negeri Sembilan",
            "Pahang",
            "Pulau Pinang",
            "Perak",
            "Perlis",
            "Sabah",
            "Selangor",
            "Sarawak"
           ],
           "xaxis": "x",
           "y": [
            2.8,
            220.2,
            137.3,
            4.6,
            159.2,
            47.7,
            151,
            64,
            159,
            285.7,
            3.1,
            10.4,
            685.9000000000001,
            7.2
           ],
           "yaxis": "y"
          },
          {
           "hovertemplate": "Race=Other_Total<br>Year=2011<br>States=%{x}<br>Population=%{marker.size}<extra></extra>",
           "legendgroup": "Other_Total",
           "marker": {
            "color": "#ab63fa",
            "size": [
             2.1,
             14.399999999999999,
             18.700000000000003,
             10.600000000000001,
             14.6,
             4.2,
             3.5999999999999996,
             6.3,
             4.6,
             8.8,
             4.6,
             104.30000000000001,
             36.4,
             7
            ],
            "sizemode": "area",
            "sizeref": 1.0821944444444442,
            "symbol": "circle"
           },
           "mode": "markers",
           "name": "Other_Total",
           "orientation": "v",
           "showlegend": true,
           "type": "scatter",
           "x": [
            "Terengganu",
            "Johor",
            "Kedah",
            "Kelantan",
            "Kuala Lumpur",
            "Melaka",
            "Negeri Sembilan",
            "Pahang",
            "Pulau Pinang",
            "Perak",
            "Perlis",
            "Sabah",
            "Selangor",
            "Sarawak"
           ],
           "xaxis": "x",
           "y": [
            2.1,
            14.399999999999999,
            18.700000000000003,
            10.600000000000001,
            14.6,
            4.2,
            3.5999999999999996,
            6.3,
            4.6,
            8.8,
            4.6,
            104.30000000000001,
            36.4,
            7
           ],
           "yaxis": "y"
          }
         ],
         "name": "2011"
        },
        {
         "data": [
          {
           "hovertemplate": "Race=Bumi_Total<br>Year=2012<br>States=%{x}<br>Population=%{marker.size}<extra></extra>",
           "legendgroup": "Bumi_Total",
           "marker": {
            "color": "#636efa",
            "size": [
             1038.1000000000001,
             1868.5,
             1513.2,
             1540.1000000000001,
             707.9,
             540,
             607.5,
             1158.8,
             667.9,
             1345.6,
             205.5,
             2071.3,
             3015.2,
             1826
            ],
            "sizemode": "area",
            "sizeref": 1.0821944444444442,
            "symbol": "circle"
           },
           "mode": "markers",
           "name": "Bumi_Total",
           "orientation": "v",
           "showlegend": true,
           "type": "scatter",
           "x": [
            "Terengganu",
            "Johor",
            "Kedah",
            "Kelantan",
            "Kuala Lumpur",
            "Melaka",
            "Negeri Sembilan",
            "Pahang",
            "Pulau Pinang",
            "Perak",
            "Perlis",
            "Sabah",
            "Selangor",
            "Sarawak"
           ],
           "xaxis": "x",
           "y": [
            1038.1000000000001,
            1868.5,
            1513.2,
            1540.1000000000001,
            707.9,
            540,
            607.5,
            1158.8,
            667.9,
            1345.6,
            205.5,
            2071.3,
            3015.2,
            1826
           ],
           "yaxis": "y"
          },
          {
           "hovertemplate": "Race=Chinese_Total<br>Year=2012<br>States=%{x}<br>Population=%{marker.size}<extra></extra>",
           "legendgroup": "Chinese_Total",
           "marker": {
            "color": "#EF553B",
            "size": [
             26.6,
             1057.1999999999998,
             257.1,
             53.2,
             663.4,
             210.9,
             227.5,
             232.6,
             678.1,
             703.5,
             18.9,
             299.9,
             1475.9,
             595.9
            ],
            "sizemode": "area",
            "sizeref": 1.0821944444444442,
            "symbol": "circle"
           },
           "mode": "markers",
           "name": "Chinese_Total",
           "orientation": "v",
           "showlegend": true,
           "type": "scatter",
           "x": [
            "Terengganu",
            "Johor",
            "Kedah",
            "Kelantan",
            "Kuala Lumpur",
            "Melaka",
            "Negeri Sembilan",
            "Pahang",
            "Pulau Pinang",
            "Perak",
            "Perlis",
            "Sabah",
            "Selangor",
            "Sarawak"
           ],
           "xaxis": "x",
           "y": [
            26.6,
            1057.1999999999998,
            257.1,
            53.2,
            663.4,
            210.9,
            227.5,
            232.6,
            678.1,
            703.5,
            18.9,
            299.9,
            1475.9,
            595.9
           ],
           "yaxis": "y"
          },
          {
           "hovertemplate": "Race=Indian_Total<br>Year=2012<br>States=%{x}<br>Population=%{marker.size}<extra></extra>",
           "legendgroup": "Indian_Total",
           "marker": {
            "color": "#00cc96",
            "size": [
             2.7,
             221.9,
             137.89999999999998,
             4.6,
             157.2,
             47.5,
             150.5,
             64.4,
             160.9,
             288.6,
             3.1,
             11.2,
             692.6,
             7.2
            ],
            "sizemode": "area",
            "sizeref": 1.0821944444444442,
            "symbol": "circle"
           },
           "mode": "markers",
           "name": "Indian_Total",
           "orientation": "v",
           "showlegend": true,
           "type": "scatter",
           "x": [
            "Terengganu",
            "Johor",
            "Kedah",
            "Kelantan",
            "Kuala Lumpur",
            "Melaka",
            "Negeri Sembilan",
            "Pahang",
            "Pulau Pinang",
            "Perak",
            "Perlis",
            "Sabah",
            "Selangor",
            "Sarawak"
           ],
           "xaxis": "x",
           "y": [
            2.7,
            221.9,
            137.89999999999998,
            4.6,
            157.2,
            47.5,
            150.5,
            64.4,
            160.9,
            288.6,
            3.1,
            11.2,
            692.6,
            7.2
           ],
           "yaxis": "y"
          },
          {
           "hovertemplate": "Race=Other_Total<br>Year=2012<br>States=%{x}<br>Population=%{marker.size}<extra></extra>",
           "legendgroup": "Other_Total",
           "marker": {
            "color": "#ab63fa",
            "size": [
             2.3,
             15,
             19.1,
             10.7,
             15.5,
             4.300000000000001,
             3.7,
             6.5,
             4.8,
             8.9,
             4.6,
             107,
             37.8,
             7.2
            ],
            "sizemode": "area",
            "sizeref": 1.0821944444444442,
            "symbol": "circle"
           },
           "mode": "markers",
           "name": "Other_Total",
           "orientation": "v",
           "showlegend": true,
           "type": "scatter",
           "x": [
            "Terengganu",
            "Johor",
            "Kedah",
            "Kelantan",
            "Kuala Lumpur",
            "Melaka",
            "Negeri Sembilan",
            "Pahang",
            "Pulau Pinang",
            "Perak",
            "Perlis",
            "Sabah",
            "Selangor",
            "Sarawak"
           ],
           "xaxis": "x",
           "y": [
            2.3,
            15,
            19.1,
            10.7,
            15.5,
            4.300000000000001,
            3.7,
            6.5,
            4.8,
            8.9,
            4.6,
            107,
            37.8,
            7.2
           ],
           "yaxis": "y"
          }
         ],
         "name": "2012"
        },
        {
         "data": [
          {
           "hovertemplate": "Race=Bumi_Total<br>Year=2013<br>States=%{x}<br>Population=%{marker.size}<extra></extra>",
           "legendgroup": "Bumi_Total",
           "marker": {
            "color": "#636efa",
            "size": [
             1056.4,
             1889.9,
             1537.4,
             1572.5,
             710.9,
             549.2,
             611.5,
             1171.8,
             680.5,
             1352.5,
             208,
             2116.5,
             3094.3,
             1851.5
            ],
            "sizemode": "area",
            "sizeref": 1.0821944444444442,
            "symbol": "circle"
           },
           "mode": "markers",
           "name": "Bumi_Total",
           "orientation": "v",
           "showlegend": true,
           "type": "scatter",
           "x": [
            "Terengganu",
            "Johor",
            "Kedah",
            "Kelantan",
            "Kuala Lumpur",
            "Melaka",
            "Negeri Sembilan",
            "Pahang",
            "Pulau Pinang",
            "Perak",
            "Perlis",
            "Sabah",
            "Selangor",
            "Sarawak"
           ],
           "xaxis": "x",
           "y": [
            1056.4,
            1889.9,
            1537.4,
            1572.5,
            710.9,
            549.2,
            611.5,
            1171.8,
            680.5,
            1352.5,
            208,
            2116.5,
            3094.3,
            1851.5
           ],
           "yaxis": "y"
          },
          {
           "hovertemplate": "Race=Chinese_Total<br>Year=2013<br>States=%{x}<br>Population=%{marker.size}<extra></extra>",
           "legendgroup": "Chinese_Total",
           "marker": {
            "color": "#EF553B",
            "size": [
             27.1,
             1065.7,
             257.3,
             53.099999999999994,
             661,
             213,
             228.2,
             233.39999999999998,
             681.3,
             705,
             19,
             301.5,
             1496.4,
             602.4000000000001
            ],
            "sizemode": "area",
            "sizeref": 1.0821944444444442,
            "symbol": "circle"
           },
           "mode": "markers",
           "name": "Chinese_Total",
           "orientation": "v",
           "showlegend": true,
           "type": "scatter",
           "x": [
            "Terengganu",
            "Johor",
            "Kedah",
            "Kelantan",
            "Kuala Lumpur",
            "Melaka",
            "Negeri Sembilan",
            "Pahang",
            "Pulau Pinang",
            "Perak",
            "Perlis",
            "Sabah",
            "Selangor",
            "Sarawak"
           ],
           "xaxis": "x",
           "y": [
            27.1,
            1065.7,
            257.3,
            53.099999999999994,
            661,
            213,
            228.2,
            233.39999999999998,
            681.3,
            705,
            19,
            301.5,
            1496.4,
            602.4000000000001
           ],
           "yaxis": "y"
          },
          {
           "hovertemplate": "Race=Indian_Total<br>Year=2013<br>States=%{x}<br>Population=%{marker.size}<extra></extra>",
           "legendgroup": "Indian_Total",
           "marker": {
            "color": "#00cc96",
            "size": [
             2.7,
             224.2,
             138.3,
             4.7,
             155.10000000000002,
             48.5,
             151.8,
             64.3,
             161.5,
             287.5,
             3.1,
             12.2,
             702.2,
             7.6
            ],
            "sizemode": "area",
            "sizeref": 1.0821944444444442,
            "symbol": "circle"
           },
           "mode": "markers",
           "name": "Indian_Total",
           "orientation": "v",
           "showlegend": true,
           "type": "scatter",
           "x": [
            "Terengganu",
            "Johor",
            "Kedah",
            "Kelantan",
            "Kuala Lumpur",
            "Melaka",
            "Negeri Sembilan",
            "Pahang",
            "Pulau Pinang",
            "Perak",
            "Perlis",
            "Sabah",
            "Selangor",
            "Sarawak"
           ],
           "xaxis": "x",
           "y": [
            2.7,
            224.2,
            138.3,
            4.7,
            155.10000000000002,
            48.5,
            151.8,
            64.3,
            161.5,
            287.5,
            3.1,
            12.2,
            702.2,
            7.6
           ],
           "yaxis": "y"
          },
          {
           "hovertemplate": "Race=Other_Total<br>Year=2013<br>States=%{x}<br>Population=%{marker.size}<extra></extra>",
           "legendgroup": "Other_Total",
           "marker": {
            "color": "#ab63fa",
            "size": [
             2.3,
             16.200000000000003,
             19.299999999999997,
             10.8,
             16.1,
             4.4,
             3.8,
             6.2,
             5,
             9.2,
             4.699999999999999,
             110.30000000000001,
             39.7,
             7.300000000000001
            ],
            "sizemode": "area",
            "sizeref": 1.0821944444444442,
            "symbol": "circle"
           },
           "mode": "markers",
           "name": "Other_Total",
           "orientation": "v",
           "showlegend": true,
           "type": "scatter",
           "x": [
            "Terengganu",
            "Johor",
            "Kedah",
            "Kelantan",
            "Kuala Lumpur",
            "Melaka",
            "Negeri Sembilan",
            "Pahang",
            "Pulau Pinang",
            "Perak",
            "Perlis",
            "Sabah",
            "Selangor",
            "Sarawak"
           ],
           "xaxis": "x",
           "y": [
            2.3,
            16.200000000000003,
            19.299999999999997,
            10.8,
            16.1,
            4.4,
            3.8,
            6.2,
            5,
            9.2,
            4.699999999999999,
            110.30000000000001,
            39.7,
            7.300000000000001
           ],
           "yaxis": "y"
          }
         ],
         "name": "2013"
        },
        {
         "data": [
          {
           "hovertemplate": "Race=Bumi_Total<br>Year=2014<br>States=%{x}<br>Population=%{marker.size}<extra></extra>",
           "legendgroup": "Bumi_Total",
           "marker": {
            "color": "#636efa",
            "size": [
             1076.4,
             1917.1,
             1561.5,
             1605,
             713.6,
             560.4,
             616.2,
             1189.6999999999998,
             693.0999999999999,
             1368.9,
             210,
             2153.6000000000004,
             3173.3,
             1879.8000000000002
            ],
            "sizemode": "area",
            "sizeref": 1.0821944444444442,
            "symbol": "circle"
           },
           "mode": "markers",
           "name": "Bumi_Total",
           "orientation": "v",
           "showlegend": true,
           "type": "scatter",
           "x": [
            "Terengganu",
            "Johor",
            "Kedah",
            "Kelantan",
            "Kuala Lumpur",
            "Melaka",
            "Negeri Sembilan",
            "Pahang",
            "Pulau Pinang",
            "Perak",
            "Perlis",
            "Sabah",
            "Selangor",
            "Sarawak"
           ],
           "xaxis": "x",
           "y": [
            1076.4,
            1917.1,
            1561.5,
            1605,
            713.6,
            560.4,
            616.2,
            1189.6999999999998,
            693.0999999999999,
            1368.9,
            210,
            2153.6000000000004,
            3173.3,
            1879.8000000000002
           ],
           "yaxis": "y"
          },
          {
           "hovertemplate": "Race=Chinese_Total<br>Year=2014<br>States=%{x}<br>Population=%{marker.size}<extra></extra>",
           "legendgroup": "Chinese_Total",
           "marker": {
            "color": "#EF553B",
            "size": [
             27.700000000000003,
             1072.8,
             257.2,
             54,
             658.5,
             214.1,
             229.2,
             233,
             683.5,
             702.9,
             19.1,
             303.6,
             1513.8,
             606.7
            ],
            "sizemode": "area",
            "sizeref": 1.0821944444444442,
            "symbol": "circle"
           },
           "mode": "markers",
           "name": "Chinese_Total",
           "orientation": "v",
           "showlegend": true,
           "type": "scatter",
           "x": [
            "Terengganu",
            "Johor",
            "Kedah",
            "Kelantan",
            "Kuala Lumpur",
            "Melaka",
            "Negeri Sembilan",
            "Pahang",
            "Pulau Pinang",
            "Perak",
            "Perlis",
            "Sabah",
            "Selangor",
            "Sarawak"
           ],
           "xaxis": "x",
           "y": [
            27.700000000000003,
            1072.8,
            257.2,
            54,
            658.5,
            214.1,
            229.2,
            233,
            683.5,
            702.9,
            19.1,
            303.6,
            1513.8,
            606.7
           ],
           "yaxis": "y"
          },
          {
           "hovertemplate": "Race=Indian_Total<br>Year=2014<br>States=%{x}<br>Population=%{marker.size}<extra></extra>",
           "legendgroup": "Indian_Total",
           "marker": {
            "color": "#00cc96",
            "size": [
             2.7,
             227.60000000000002,
             138.8,
             4.7,
             153.8,
             49.2,
             153.4,
             64.80000000000001,
             161.9,
             285,
             3.1,
             12.2,
             711.2,
             7.3999999999999995
            ],
            "sizemode": "area",
            "sizeref": 1.0821944444444442,
            "symbol": "circle"
           },
           "mode": "markers",
           "name": "Indian_Total",
           "orientation": "v",
           "showlegend": true,
           "type": "scatter",
           "x": [
            "Terengganu",
            "Johor",
            "Kedah",
            "Kelantan",
            "Kuala Lumpur",
            "Melaka",
            "Negeri Sembilan",
            "Pahang",
            "Pulau Pinang",
            "Perak",
            "Perlis",
            "Sabah",
            "Selangor",
            "Sarawak"
           ],
           "xaxis": "x",
           "y": [
            2.7,
            227.60000000000002,
            138.8,
            4.7,
            153.8,
            49.2,
            153.4,
            64.80000000000001,
            161.9,
            285,
            3.1,
            12.2,
            711.2,
            7.3999999999999995
           ],
           "yaxis": "y"
          },
          {
           "hovertemplate": "Race=Other_Total<br>Year=2014<br>States=%{x}<br>Population=%{marker.size}<extra></extra>",
           "legendgroup": "Other_Total",
           "marker": {
            "color": "#ab63fa",
            "size": [
             2.3,
             17.2,
             19.6,
             11,
             16.9,
             4.5,
             3.9,
             5.8,
             5,
             9.2,
             4.8,
             114,
             41.5,
             7.5
            ],
            "sizemode": "area",
            "sizeref": 1.0821944444444442,
            "symbol": "circle"
           },
           "mode": "markers",
           "name": "Other_Total",
           "orientation": "v",
           "showlegend": true,
           "type": "scatter",
           "x": [
            "Terengganu",
            "Johor",
            "Kedah",
            "Kelantan",
            "Kuala Lumpur",
            "Melaka",
            "Negeri Sembilan",
            "Pahang",
            "Pulau Pinang",
            "Perak",
            "Perlis",
            "Sabah",
            "Selangor",
            "Sarawak"
           ],
           "xaxis": "x",
           "y": [
            2.3,
            17.2,
            19.6,
            11,
            16.9,
            4.5,
            3.9,
            5.8,
            5,
            9.2,
            4.8,
            114,
            41.5,
            7.5
           ],
           "yaxis": "y"
          }
         ],
         "name": "2014"
        },
        {
         "data": [
          {
           "hovertemplate": "Race=Bumi_Total<br>Year=2015<br>States=%{x}<br>Population=%{marker.size}<extra></extra>",
           "legendgroup": "Bumi_Total",
           "marker": {
            "color": "#636efa",
            "size": [
             1095.8,
             1945.9,
             1586.7,
             1639.5,
             717.8,
             572.7,
             627,
             1203.8000000000002,
             701.5999999999999,
             1376.1,
             213,
             2194.6,
             3252.8,
             1905.3000000000002
            ],
            "sizemode": "area",
            "sizeref": 1.0821944444444442,
            "symbol": "circle"
           },
           "mode": "markers",
           "name": "Bumi_Total",
           "orientation": "v",
           "showlegend": true,
           "type": "scatter",
           "x": [
            "Terengganu",
            "Johor",
            "Kedah",
            "Kelantan",
            "Kuala Lumpur",
            "Melaka",
            "Negeri Sembilan",
            "Pahang",
            "Pulau Pinang",
            "Perak",
            "Perlis",
            "Sabah",
            "Selangor",
            "Sarawak"
           ],
           "xaxis": "x",
           "y": [
            1095.8,
            1945.9,
            1586.7,
            1639.5,
            717.8,
            572.7,
            627,
            1203.8000000000002,
            701.5999999999999,
            1376.1,
            213,
            2194.6,
            3252.8,
            1905.3000000000002
           ],
           "yaxis": "y"
          },
          {
           "hovertemplate": "Race=Chinese_Total<br>Year=2015<br>States=%{x}<br>Population=%{marker.size}<extra></extra>",
           "legendgroup": "Chinese_Total",
           "marker": {
            "color": "#EF553B",
            "size": [
             27.8,
             1078.8,
             257.5,
             54.7,
             657,
             215.9,
             229,
             233.1,
             685.8,
             703.0999999999999,
             19.1,
             303.5,
             1531.8,
             611.6
            ],
            "sizemode": "area",
            "sizeref": 1.0821944444444442,
            "symbol": "circle"
           },
           "mode": "markers",
           "name": "Chinese_Total",
           "orientation": "v",
           "showlegend": true,
           "type": "scatter",
           "x": [
            "Terengganu",
            "Johor",
            "Kedah",
            "Kelantan",
            "Kuala Lumpur",
            "Melaka",
            "Negeri Sembilan",
            "Pahang",
            "Pulau Pinang",
            "Perak",
            "Perlis",
            "Sabah",
            "Selangor",
            "Sarawak"
           ],
           "xaxis": "x",
           "y": [
            27.8,
            1078.8,
            257.5,
            54.7,
            657,
            215.9,
            229,
            233.1,
            685.8,
            703.0999999999999,
            19.1,
            303.5,
            1531.8,
            611.6
           ],
           "yaxis": "y"
          },
          {
           "hovertemplate": "Race=Indian_Total<br>Year=2015<br>States=%{x}<br>Population=%{marker.size}<extra></extra>",
           "legendgroup": "Indian_Total",
           "marker": {
            "color": "#00cc96",
            "size": [
             2.8,
             230.8,
             140.2,
             4.7,
             153.5,
             50,
             152.5,
             64.5,
             164.3,
             283,
             3.1,
             12.2,
             715.5,
             7.5
            ],
            "sizemode": "area",
            "sizeref": 1.0821944444444442,
            "symbol": "circle"
           },
           "mode": "markers",
           "name": "Indian_Total",
           "orientation": "v",
           "showlegend": true,
           "type": "scatter",
           "x": [
            "Terengganu",
            "Johor",
            "Kedah",
            "Kelantan",
            "Kuala Lumpur",
            "Melaka",
            "Negeri Sembilan",
            "Pahang",
            "Pulau Pinang",
            "Perak",
            "Perlis",
            "Sabah",
            "Selangor",
            "Sarawak"
           ],
           "xaxis": "x",
           "y": [
            2.8,
            230.8,
            140.2,
            4.7,
            153.5,
            50,
            152.5,
            64.5,
            164.3,
            283,
            3.1,
            12.2,
            715.5,
            7.5
           ],
           "yaxis": "y"
          },
          {
           "hovertemplate": "Race=Other_Total<br>Year=2015<br>States=%{x}<br>Population=%{marker.size}<extra></extra>",
           "legendgroup": "Other_Total",
           "marker": {
            "color": "#ab63fa",
            "size": [
             2.4000000000000004,
             18,
             20.200000000000003,
             11,
             17.4,
             4.6,
             4,
             5.4,
             5.1,
             9.399999999999999,
             4.8,
             116.4,
             43.400000000000006,
             7.699999999999999
            ],
            "sizemode": "area",
            "sizeref": 1.0821944444444442,
            "symbol": "circle"
           },
           "mode": "markers",
           "name": "Other_Total",
           "orientation": "v",
           "showlegend": true,
           "type": "scatter",
           "x": [
            "Terengganu",
            "Johor",
            "Kedah",
            "Kelantan",
            "Kuala Lumpur",
            "Melaka",
            "Negeri Sembilan",
            "Pahang",
            "Pulau Pinang",
            "Perak",
            "Perlis",
            "Sabah",
            "Selangor",
            "Sarawak"
           ],
           "xaxis": "x",
           "y": [
            2.4000000000000004,
            18,
            20.200000000000003,
            11,
            17.4,
            4.6,
            4,
            5.4,
            5.1,
            9.399999999999999,
            4.8,
            116.4,
            43.400000000000006,
            7.699999999999999
           ],
           "yaxis": "y"
          }
         ],
         "name": "2015"
        },
        {
         "data": [
          {
           "hovertemplate": "Race=Bumi_Total<br>Year=2016<br>States=%{x}<br>Population=%{marker.size}<extra></extra>",
           "legendgroup": "Bumi_Total",
           "marker": {
            "color": "#636efa",
            "size": [
             1116.6999999999998,
             1968,
             1607.1,
             1673.1,
             722.4,
             582,
             632.7,
             1219.1999999999998,
             711.8,
             1393.4,
             215.2,
             2232.8,
             3325.8,
             1932.1999999999998
            ],
            "sizemode": "area",
            "sizeref": 1.0821944444444442,
            "symbol": "circle"
           },
           "mode": "markers",
           "name": "Bumi_Total",
           "orientation": "v",
           "showlegend": true,
           "type": "scatter",
           "x": [
            "Terengganu",
            "Johor",
            "Kedah",
            "Kelantan",
            "Kuala Lumpur",
            "Melaka",
            "Negeri Sembilan",
            "Pahang",
            "Pulau Pinang",
            "Perak",
            "Perlis",
            "Sabah",
            "Selangor",
            "Sarawak"
           ],
           "xaxis": "x",
           "y": [
            1116.6999999999998,
            1968,
            1607.1,
            1673.1,
            722.4,
            582,
            632.7,
            1219.1999999999998,
            711.8,
            1393.4,
            215.2,
            2232.8,
            3325.8,
            1932.1999999999998
           ],
           "yaxis": "y"
          },
          {
           "hovertemplate": "Race=Chinese_Total<br>Year=2016<br>States=%{x}<br>Population=%{marker.size}<extra></extra>",
           "legendgroup": "Chinese_Total",
           "marker": {
            "color": "#EF553B",
            "size": [
             28.299999999999997,
             1085.4,
             257.2,
             55.4,
             654.9,
             217,
             229.8,
             232.60000000000002,
             688.9000000000001,
             700.1,
             19.200000000000003,
             307,
             1544,
             615.8
            ],
            "sizemode": "area",
            "sizeref": 1.0821944444444442,
            "symbol": "circle"
           },
           "mode": "markers",
           "name": "Chinese_Total",
           "orientation": "v",
           "showlegend": true,
           "type": "scatter",
           "x": [
            "Terengganu",
            "Johor",
            "Kedah",
            "Kelantan",
            "Kuala Lumpur",
            "Melaka",
            "Negeri Sembilan",
            "Pahang",
            "Pulau Pinang",
            "Perak",
            "Perlis",
            "Sabah",
            "Selangor",
            "Sarawak"
           ],
           "xaxis": "x",
           "y": [
            28.299999999999997,
            1085.4,
            257.2,
            55.4,
            654.9,
            217,
            229.8,
            232.60000000000002,
            688.9000000000001,
            700.1,
            19.200000000000003,
            307,
            1544,
            615.8
           ],
           "yaxis": "y"
          },
          {
           "hovertemplate": "Race=Indian_Total<br>Year=2016<br>States=%{x}<br>Population=%{marker.size}<extra></extra>",
           "legendgroup": "Indian_Total",
           "marker": {
            "color": "#00cc96",
            "size": [
             2.4,
             232.60000000000002,
             140.5,
             4.7,
             151.7,
             50.6,
             153.7,
             65,
             165.7,
             280.4,
             3.1,
             12.399999999999999,
             719.5999999999999,
             7.5
            ],
            "sizemode": "area",
            "sizeref": 1.0821944444444442,
            "symbol": "circle"
           },
           "mode": "markers",
           "name": "Indian_Total",
           "orientation": "v",
           "showlegend": true,
           "type": "scatter",
           "x": [
            "Terengganu",
            "Johor",
            "Kedah",
            "Kelantan",
            "Kuala Lumpur",
            "Melaka",
            "Negeri Sembilan",
            "Pahang",
            "Pulau Pinang",
            "Perak",
            "Perlis",
            "Sabah",
            "Selangor",
            "Sarawak"
           ],
           "xaxis": "x",
           "y": [
            2.4,
            232.60000000000002,
            140.5,
            4.7,
            151.7,
            50.6,
            153.7,
            65,
            165.7,
            280.4,
            3.1,
            12.399999999999999,
            719.5999999999999,
            7.5
           ],
           "yaxis": "y"
          },
          {
           "hovertemplate": "Race=Other_Total<br>Year=2016<br>States=%{x}<br>Population=%{marker.size}<extra></extra>",
           "legendgroup": "Other_Total",
           "marker": {
            "color": "#ab63fa",
            "size": [
             2.4000000000000004,
             18.5,
             20.4,
             11,
             17.9,
             4.6,
             4,
             5.6,
             5,
             9.600000000000001,
             4.9,
             121.4,
             45.2,
             7.8
            ],
            "sizemode": "area",
            "sizeref": 1.0821944444444442,
            "symbol": "circle"
           },
           "mode": "markers",
           "name": "Other_Total",
           "orientation": "v",
           "showlegend": true,
           "type": "scatter",
           "x": [
            "Terengganu",
            "Johor",
            "Kedah",
            "Kelantan",
            "Kuala Lumpur",
            "Melaka",
            "Negeri Sembilan",
            "Pahang",
            "Pulau Pinang",
            "Perak",
            "Perlis",
            "Sabah",
            "Selangor",
            "Sarawak"
           ],
           "xaxis": "x",
           "y": [
            2.4000000000000004,
            18.5,
            20.4,
            11,
            17.9,
            4.6,
            4,
            5.6,
            5,
            9.600000000000001,
            4.9,
            121.4,
            45.2,
            7.8
           ],
           "yaxis": "y"
          }
         ],
         "name": "2016"
        },
        {
         "data": [
          {
           "hovertemplate": "Race=Bumi_Total<br>Year=2017<br>States=%{x}<br>Population=%{marker.size}<extra></extra>",
           "legendgroup": "Bumi_Total",
           "marker": {
            "color": "#636efa",
            "size": [
             1139.1,
             1997.5,
             1629.3000000000002,
             1703.6999999999998,
             723.8,
             593.0999999999999,
             644.9,
             1236.3,
             728.6,
             1407.2,
             216.39999999999998,
             2265,
             3387.4,
             1953.1
            ],
            "sizemode": "area",
            "sizeref": 1.0821944444444442,
            "symbol": "circle"
           },
           "mode": "markers",
           "name": "Bumi_Total",
           "orientation": "v",
           "showlegend": true,
           "type": "scatter",
           "x": [
            "Terengganu",
            "Johor",
            "Kedah",
            "Kelantan",
            "Kuala Lumpur",
            "Melaka",
            "Negeri Sembilan",
            "Pahang",
            "Pulau Pinang",
            "Perak",
            "Perlis",
            "Sabah",
            "Selangor",
            "Sarawak"
           ],
           "xaxis": "x",
           "y": [
            1139.1,
            1997.5,
            1629.3000000000002,
            1703.6999999999998,
            723.8,
            593.0999999999999,
            644.9,
            1236.3,
            728.6,
            1407.2,
            216.39999999999998,
            2265,
            3387.4,
            1953.1
           ],
           "yaxis": "y"
          },
          {
           "hovertemplate": "Race=Chinese_Total<br>Year=2017<br>States=%{x}<br>Population=%{marker.size}<extra></extra>",
           "legendgroup": "Chinese_Total",
           "marker": {
            "color": "#EF553B",
            "size": [
             28.4,
             1092.8000000000002,
             256.5,
             55.7,
             654.5,
             216.8,
             229.4,
             232.7,
             694.2,
             695.9,
             18.9,
             307,
             1553.4,
             619.0999999999999
            ],
            "sizemode": "area",
            "sizeref": 1.0821944444444442,
            "symbol": "circle"
           },
           "mode": "markers",
           "name": "Chinese_Total",
           "orientation": "v",
           "showlegend": true,
           "type": "scatter",
           "x": [
            "Terengganu",
            "Johor",
            "Kedah",
            "Kelantan",
            "Kuala Lumpur",
            "Melaka",
            "Negeri Sembilan",
            "Pahang",
            "Pulau Pinang",
            "Perak",
            "Perlis",
            "Sabah",
            "Selangor",
            "Sarawak"
           ],
           "xaxis": "x",
           "y": [
            28.4,
            1092.8000000000002,
            256.5,
            55.7,
            654.5,
            216.8,
            229.4,
            232.7,
            694.2,
            695.9,
            18.9,
            307,
            1553.4,
            619.0999999999999
           ],
           "yaxis": "y"
          },
          {
           "hovertemplate": "Race=Indian_Total<br>Year=2017<br>States=%{x}<br>Population=%{marker.size}<extra></extra>",
           "legendgroup": "Indian_Total",
           "marker": {
            "color": "#00cc96",
            "size": [
             2.5,
             235.7,
             141,
             4.800000000000001,
             151.3,
             50.9,
             154.39999999999998,
             65.3,
             166.1,
             279.5,
             3.2,
             13.100000000000001,
             724.1,
             7.7
            ],
            "sizemode": "area",
            "sizeref": 1.0821944444444442,
            "symbol": "circle"
           },
           "mode": "markers",
           "name": "Indian_Total",
           "orientation": "v",
           "showlegend": true,
           "type": "scatter",
           "x": [
            "Terengganu",
            "Johor",
            "Kedah",
            "Kelantan",
            "Kuala Lumpur",
            "Melaka",
            "Negeri Sembilan",
            "Pahang",
            "Pulau Pinang",
            "Perak",
            "Perlis",
            "Sabah",
            "Selangor",
            "Sarawak"
           ],
           "xaxis": "x",
           "y": [
            2.5,
            235.7,
            141,
            4.800000000000001,
            151.3,
            50.9,
            154.39999999999998,
            65.3,
            166.1,
            279.5,
            3.2,
            13.100000000000001,
            724.1,
            7.7
           ],
           "yaxis": "y"
          },
          {
           "hovertemplate": "Race=Other_Total<br>Year=2017<br>States=%{x}<br>Population=%{marker.size}<extra></extra>",
           "legendgroup": "Other_Total",
           "marker": {
            "color": "#ab63fa",
            "size": [
             3.2,
             18.6,
             21.299999999999997,
             11.3,
             18.5,
             4.699999999999999,
             3.7,
             5.8,
             5,
             9.7,
             4.8,
             123.1,
             47.400000000000006,
             8
            ],
            "sizemode": "area",
            "sizeref": 1.0821944444444442,
            "symbol": "circle"
           },
           "mode": "markers",
           "name": "Other_Total",
           "orientation": "v",
           "showlegend": true,
           "type": "scatter",
           "x": [
            "Terengganu",
            "Johor",
            "Kedah",
            "Kelantan",
            "Kuala Lumpur",
            "Melaka",
            "Negeri Sembilan",
            "Pahang",
            "Pulau Pinang",
            "Perak",
            "Perlis",
            "Sabah",
            "Selangor",
            "Sarawak"
           ],
           "xaxis": "x",
           "y": [
            3.2,
            18.6,
            21.299999999999997,
            11.3,
            18.5,
            4.699999999999999,
            3.7,
            5.8,
            5,
            9.7,
            4.8,
            123.1,
            47.400000000000006,
            8
           ],
           "yaxis": "y"
          }
         ],
         "name": "2017"
        },
        {
         "data": [
          {
           "hovertemplate": "Race=Bumi_Total<br>Year=2018<br>States=%{x}<br>Population=%{marker.size}<extra></extra>",
           "legendgroup": "Bumi_Total",
           "marker": {
            "color": "#636efa",
            "size": [
             1158.6,
             2036,
             1646.3,
             1733.7,
             719.4000000000001,
             601.4000000000001,
             652.5999999999999,
             1251.4,
             744.8,
             1419.9,
             217.8,
             2294.6,
             3460.4,
             1973.1
            ],
            "sizemode": "area",
            "sizeref": 1.0821944444444442,
            "symbol": "circle"
           },
           "mode": "markers",
           "name": "Bumi_Total",
           "orientation": "v",
           "showlegend": true,
           "type": "scatter",
           "x": [
            "Terengganu",
            "Johor",
            "Kedah",
            "Kelantan",
            "Kuala Lumpur",
            "Melaka",
            "Negeri Sembilan",
            "Pahang",
            "Pulau Pinang",
            "Perak",
            "Perlis",
            "Sabah",
            "Selangor",
            "Sarawak"
           ],
           "xaxis": "x",
           "y": [
            1158.6,
            2036,
            1646.3,
            1733.7,
            719.4000000000001,
            601.4000000000001,
            652.5999999999999,
            1251.4,
            744.8,
            1419.9,
            217.8,
            2294.6,
            3460.4,
            1973.1
           ],
           "yaxis": "y"
          },
          {
           "hovertemplate": "Race=Chinese_Total<br>Year=2018<br>States=%{x}<br>Population=%{marker.size}<extra></extra>",
           "legendgroup": "Chinese_Total",
           "marker": {
            "color": "#EF553B",
            "size": [
             28.5,
             1098.6,
             257.8,
             56.3,
             654.1,
             217.1,
             229.5,
             232.7,
             694.2,
             694.1,
             18.9,
             306.9,
             1560.1999999999998,
             622
            ],
            "sizemode": "area",
            "sizeref": 1.0821944444444442,
            "symbol": "circle"
           },
           "mode": "markers",
           "name": "Chinese_Total",
           "orientation": "v",
           "showlegend": true,
           "type": "scatter",
           "x": [
            "Terengganu",
            "Johor",
            "Kedah",
            "Kelantan",
            "Kuala Lumpur",
            "Melaka",
            "Negeri Sembilan",
            "Pahang",
            "Pulau Pinang",
            "Perak",
            "Perlis",
            "Sabah",
            "Selangor",
            "Sarawak"
           ],
           "xaxis": "x",
           "y": [
            28.5,
            1098.6,
            257.8,
            56.3,
            654.1,
            217.1,
            229.5,
            232.7,
            694.2,
            694.1,
            18.9,
            306.9,
            1560.1999999999998,
            622
           ],
           "yaxis": "y"
          },
          {
           "hovertemplate": "Race=Indian_Total<br>Year=2018<br>States=%{x}<br>Population=%{marker.size}<extra></extra>",
           "legendgroup": "Indian_Total",
           "marker": {
            "color": "#00cc96",
            "size": [
             2.5,
             239.1,
             140.9,
             4.800000000000001,
             151.39999999999998,
             51.1,
             154.10000000000002,
             66.5,
             166.5,
             277.5,
             3.1,
             13.2,
             727.8,
             7.7
            ],
            "sizemode": "area",
            "sizeref": 1.0821944444444442,
            "symbol": "circle"
           },
           "mode": "markers",
           "name": "Indian_Total",
           "orientation": "v",
           "showlegend": true,
           "type": "scatter",
           "x": [
            "Terengganu",
            "Johor",
            "Kedah",
            "Kelantan",
            "Kuala Lumpur",
            "Melaka",
            "Negeri Sembilan",
            "Pahang",
            "Pulau Pinang",
            "Perak",
            "Perlis",
            "Sabah",
            "Selangor",
            "Sarawak"
           ],
           "xaxis": "x",
           "y": [
            2.5,
            239.1,
            140.9,
            4.800000000000001,
            151.39999999999998,
            51.1,
            154.10000000000002,
            66.5,
            166.5,
            277.5,
            3.1,
            13.2,
            727.8,
            7.7
           ],
           "yaxis": "y"
          },
          {
           "hovertemplate": "Race=Other_Total<br>Year=2018<br>States=%{x}<br>Population=%{marker.size}<extra></extra>",
           "legendgroup": "Other_Total",
           "marker": {
            "color": "#ab63fa",
            "size": [
             3.3,
             18.6,
             21.6,
             11.5,
             18.9,
             5.1,
             3.8,
             6.1,
             5,
             9.9,
             4.8,
             125.10000000000001,
             49.099999999999994,
             8.1
            ],
            "sizemode": "area",
            "sizeref": 1.0821944444444442,
            "symbol": "circle"
           },
           "mode": "markers",
           "name": "Other_Total",
           "orientation": "v",
           "showlegend": true,
           "type": "scatter",
           "x": [
            "Terengganu",
            "Johor",
            "Kedah",
            "Kelantan",
            "Kuala Lumpur",
            "Melaka",
            "Negeri Sembilan",
            "Pahang",
            "Pulau Pinang",
            "Perak",
            "Perlis",
            "Sabah",
            "Selangor",
            "Sarawak"
           ],
           "xaxis": "x",
           "y": [
            3.3,
            18.6,
            21.6,
            11.5,
            18.9,
            5.1,
            3.8,
            6.1,
            5,
            9.9,
            4.8,
            125.10000000000001,
            49.099999999999994,
            8.1
           ],
           "yaxis": "y"
          }
         ],
         "name": "2018"
        },
        {
         "data": [
          {
           "hovertemplate": "Race=Bumi_Total<br>Year=2019<br>States=%{x}<br>Population=%{marker.size}<extra></extra>",
           "legendgroup": "Bumi_Total",
           "marker": {
            "color": "#636efa",
            "size": [
             1177.9,
             2073.2,
             1663.6,
             1761.5,
             718.8,
             609.4,
             660.5,
             1266,
             759.5,
             1433.2,
             219.10000000000002,
             2329.3,
             3530.7,
             1993.4
            ],
            "sizemode": "area",
            "sizeref": 1.0821944444444442,
            "symbol": "circle"
           },
           "mode": "markers",
           "name": "Bumi_Total",
           "orientation": "v",
           "showlegend": true,
           "type": "scatter",
           "x": [
            "Terengganu",
            "Johor",
            "Kedah",
            "Kelantan",
            "Kuala Lumpur",
            "Melaka",
            "Negeri Sembilan",
            "Pahang",
            "Pulau Pinang",
            "Perak",
            "Perlis",
            "Sabah",
            "Selangor",
            "Sarawak"
           ],
           "xaxis": "x",
           "y": [
            1177.9,
            2073.2,
            1663.6,
            1761.5,
            718.8,
            609.4,
            660.5,
            1266,
            759.5,
            1433.2,
            219.10000000000002,
            2329.3,
            3530.7,
            1993.4
           ],
           "yaxis": "y"
          },
          {
           "hovertemplate": "Race=Chinese_Total<br>Year=2019<br>States=%{x}<br>Population=%{marker.size}<extra></extra>",
           "legendgroup": "Chinese_Total",
           "marker": {
            "color": "#EF553B",
            "size": [
             28.5,
             1103.9,
             259.1,
             56.8,
             654.9,
             217.3,
             229.5,
             232.6,
             693.9000000000001,
             692.2,
             18.799999999999997,
             307.1,
             1567.1,
             625
            ],
            "sizemode": "area",
            "sizeref": 1.0821944444444442,
            "symbol": "circle"
           },
           "mode": "markers",
           "name": "Chinese_Total",
           "orientation": "v",
           "showlegend": true,
           "type": "scatter",
           "x": [
            "Terengganu",
            "Johor",
            "Kedah",
            "Kelantan",
            "Kuala Lumpur",
            "Melaka",
            "Negeri Sembilan",
            "Pahang",
            "Pulau Pinang",
            "Perak",
            "Perlis",
            "Sabah",
            "Selangor",
            "Sarawak"
           ],
           "xaxis": "x",
           "y": [
            28.5,
            1103.9,
            259.1,
            56.8,
            654.9,
            217.3,
            229.5,
            232.6,
            693.9000000000001,
            692.2,
            18.799999999999997,
            307.1,
            1567.1,
            625
           ],
           "yaxis": "y"
          },
          {
           "hovertemplate": "Race=Indian_Total<br>Year=2019<br>States=%{x}<br>Population=%{marker.size}<extra></extra>",
           "legendgroup": "Indian_Total",
           "marker": {
            "color": "#00cc96",
            "size": [
             2.5,
             241.8,
             140.8,
             4.800000000000001,
             151.8,
             51.400000000000006,
             154,
             67.6,
             166.8,
             275.7,
             3.1,
             13.2,
             731,
             7.7
            ],
            "sizemode": "area",
            "sizeref": 1.0821944444444442,
            "symbol": "circle"
           },
           "mode": "markers",
           "name": "Indian_Total",
           "orientation": "v",
           "showlegend": true,
           "type": "scatter",
           "x": [
            "Terengganu",
            "Johor",
            "Kedah",
            "Kelantan",
            "Kuala Lumpur",
            "Melaka",
            "Negeri Sembilan",
            "Pahang",
            "Pulau Pinang",
            "Perak",
            "Perlis",
            "Sabah",
            "Selangor",
            "Sarawak"
           ],
           "xaxis": "x",
           "y": [
            2.5,
            241.8,
            140.8,
            4.800000000000001,
            151.8,
            51.400000000000006,
            154,
            67.6,
            166.8,
            275.7,
            3.1,
            13.2,
            731,
            7.7
           ],
           "yaxis": "y"
          },
          {
           "hovertemplate": "Race=Other_Total<br>Year=2019<br>States=%{x}<br>Population=%{marker.size}<extra></extra>",
           "legendgroup": "Other_Total",
           "marker": {
            "color": "#ab63fa",
            "size": [
             3.4,
             18.5,
             22,
             11.5,
             19.5,
             5.6,
             3.9000000000000004,
             6.300000000000001,
             5.1,
             9.9,
             4.9,
             127.2,
             50.7,
             8.2
            ],
            "sizemode": "area",
            "sizeref": 1.0821944444444442,
            "symbol": "circle"
           },
           "mode": "markers",
           "name": "Other_Total",
           "orientation": "v",
           "showlegend": true,
           "type": "scatter",
           "x": [
            "Terengganu",
            "Johor",
            "Kedah",
            "Kelantan",
            "Kuala Lumpur",
            "Melaka",
            "Negeri Sembilan",
            "Pahang",
            "Pulau Pinang",
            "Perak",
            "Perlis",
            "Sabah",
            "Selangor",
            "Sarawak"
           ],
           "xaxis": "x",
           "y": [
            3.4,
            18.5,
            22,
            11.5,
            19.5,
            5.6,
            3.9000000000000004,
            6.300000000000001,
            5.1,
            9.9,
            4.9,
            127.2,
            50.7,
            8.2
           ],
           "yaxis": "y"
          }
         ],
         "name": "2019"
        },
        {
         "data": [
          {
           "hovertemplate": "Race=Bumi_Total<br>Year=2020<br>States=%{x}<br>Population=%{marker.size}<extra></extra>",
           "legendgroup": "Bumi_Total",
           "marker": {
            "color": "#636efa",
            "size": [
             1095.6,
             2219.2,
             1632.7,
             1696.9,
             846.3,
             664.6000000000001,
             716.4000000000001,
             964.2,
             715.8,
             1439.6,
             247.29999999999998,
             2313.6000000000004,
             3895.8999999999996,
             1762.4
            ],
            "sizemode": "area",
            "sizeref": 1.0821944444444442,
            "symbol": "circle"
           },
           "mode": "markers",
           "name": "Bumi_Total",
           "orientation": "v",
           "showlegend": true,
           "type": "scatter",
           "x": [
            "Terengganu",
            "Johor",
            "Kedah",
            "Kelantan",
            "Kuala Lumpur",
            "Melaka",
            "Negeri Sembilan",
            "Pahang",
            "Pulau Pinang",
            "Perak",
            "Perlis",
            "Sabah",
            "Selangor",
            "Sarawak"
           ],
           "xaxis": "x",
           "y": [
            1095.6,
            2219.2,
            1632.7,
            1696.9,
            846.3,
            664.6000000000001,
            716.4000000000001,
            964.2,
            715.8,
            1439.6,
            247.29999999999998,
            2313.6000000000004,
            3895.8999999999996,
            1762.4
           ],
           "yaxis": "y"
          },
          {
           "hovertemplate": "Race=Chinese_Total<br>Year=2020<br>States=%{x}<br>Population=%{marker.size}<extra></extra>",
           "legendgroup": "Chinese_Total",
           "marker": {
            "color": "#EF553B",
            "size": [
             23.1,
             1208.6,
             250.6,
             44.7,
             737.2,
             205.2,
             248.5,
             221.7,
             718.4,
             643.6,
             20.5,
             249,
             1756.2,
             554.5999999999999
            ],
            "sizemode": "area",
            "sizeref": 1.0821944444444442,
            "symbol": "circle"
           },
           "mode": "markers",
           "name": "Chinese_Total",
           "orientation": "v",
           "showlegend": true,
           "type": "scatter",
           "x": [
            "Terengganu",
            "Johor",
            "Kedah",
            "Kelantan",
            "Kuala Lumpur",
            "Melaka",
            "Negeri Sembilan",
            "Pahang",
            "Pulau Pinang",
            "Perak",
            "Perlis",
            "Sabah",
            "Selangor",
            "Sarawak"
           ],
           "xaxis": "x",
           "y": [
            23.1,
            1208.6,
            250.6,
            44.7,
            737.2,
            205.2,
            248.5,
            221.7,
            718.4,
            643.6,
            20.5,
            249,
            1756.2,
            554.5999999999999
           ],
           "yaxis": "y"
          },
          {
           "hovertemplate": "Race=Indian_Total<br>Year=2020<br>States=%{x}<br>Population=%{marker.size}<extra></extra>",
           "legendgroup": "Indian_Total",
           "marker": {
            "color": "#00cc96",
            "size": [
             2.1,
             244.3,
             129,
             4.699999999999999,
             178.1,
             52.400000000000006,
             161.7,
             55.9,
             155.5,
             270.79999999999995,
             5.1,
             6,
             726.1,
             5.1
            ],
            "sizemode": "area",
            "sizeref": 1.0821944444444442,
            "symbol": "circle"
           },
           "mode": "markers",
           "name": "Indian_Total",
           "orientation": "v",
           "showlegend": true,
           "type": "scatter",
           "x": [
            "Terengganu",
            "Johor",
            "Kedah",
            "Kelantan",
            "Kuala Lumpur",
            "Melaka",
            "Negeri Sembilan",
            "Pahang",
            "Pulau Pinang",
            "Perak",
            "Perlis",
            "Sabah",
            "Selangor",
            "Sarawak"
           ],
           "xaxis": "x",
           "y": [
            2.1,
            244.3,
            129,
            4.699999999999999,
            178.1,
            52.400000000000006,
            161.7,
            55.9,
            155.5,
            270.79999999999995,
            5.1,
            6,
            726.1,
            5.1
           ],
           "yaxis": "y"
          },
          {
           "hovertemplate": "Race=Other_Total<br>Year=2020<br>States=%{x}<br>Population=%{marker.size}<extra></extra>",
           "legendgroup": "Other_Total",
           "marker": {
            "color": "#ab63fa",
            "size": [
             2.2,
             18.4,
             25.7,
             10.9,
             12.1,
             5.1,
             5.8,
             9.2,
             10.1,
             10.8,
             5.6,
             40,
             52.400000000000006,
             6.3
            ],
            "sizemode": "area",
            "sizeref": 1.0821944444444442,
            "symbol": "circle"
           },
           "mode": "markers",
           "name": "Other_Total",
           "orientation": "v",
           "showlegend": true,
           "type": "scatter",
           "x": [
            "Terengganu",
            "Johor",
            "Kedah",
            "Kelantan",
            "Kuala Lumpur",
            "Melaka",
            "Negeri Sembilan",
            "Pahang",
            "Pulau Pinang",
            "Perak",
            "Perlis",
            "Sabah",
            "Selangor",
            "Sarawak"
           ],
           "xaxis": "x",
           "y": [
            2.2,
            18.4,
            25.7,
            10.9,
            12.1,
            5.1,
            5.8,
            9.2,
            10.1,
            10.8,
            5.6,
            40,
            52.400000000000006,
            6.3
           ],
           "yaxis": "y"
          }
         ],
         "name": "2020"
        }
       ],
       "layout": {
        "height": 600,
        "legend": {
         "itemsizing": "constant",
         "orientation": "v",
         "title": {
          "text": "Race"
         },
         "tracegroupgap": 0,
         "x": 1.05,
         "xanchor": "left",
         "y": 0.5,
         "yanchor": "middle"
        },
        "margin": {
         "b": 50,
         "l": 50,
         "r": 60,
         "t": 100
        },
        "showlegend": true,
        "sliders": [
         {
          "active": 0,
          "currentvalue": {
           "prefix": "Year="
          },
          "len": 0.9,
          "pad": {
           "b": 10,
           "t": 60
          },
          "steps": [
           {
            "args": [
             [
              "1980"
             ],
             {
              "frame": {
               "duration": 0,
               "redraw": false
              },
              "fromcurrent": true,
              "mode": "immediate",
              "transition": {
               "duration": 0,
               "easing": "linear"
              }
             }
            ],
            "label": "1980",
            "method": "animate"
           },
           {
            "args": [
             [
              "1981"
             ],
             {
              "frame": {
               "duration": 0,
               "redraw": false
              },
              "fromcurrent": true,
              "mode": "immediate",
              "transition": {
               "duration": 0,
               "easing": "linear"
              }
             }
            ],
            "label": "1981",
            "method": "animate"
           },
           {
            "args": [
             [
              "1982"
             ],
             {
              "frame": {
               "duration": 0,
               "redraw": false
              },
              "fromcurrent": true,
              "mode": "immediate",
              "transition": {
               "duration": 0,
               "easing": "linear"
              }
             }
            ],
            "label": "1982",
            "method": "animate"
           },
           {
            "args": [
             [
              "1983"
             ],
             {
              "frame": {
               "duration": 0,
               "redraw": false
              },
              "fromcurrent": true,
              "mode": "immediate",
              "transition": {
               "duration": 0,
               "easing": "linear"
              }
             }
            ],
            "label": "1983",
            "method": "animate"
           },
           {
            "args": [
             [
              "1984"
             ],
             {
              "frame": {
               "duration": 0,
               "redraw": false
              },
              "fromcurrent": true,
              "mode": "immediate",
              "transition": {
               "duration": 0,
               "easing": "linear"
              }
             }
            ],
            "label": "1984",
            "method": "animate"
           },
           {
            "args": [
             [
              "1985"
             ],
             {
              "frame": {
               "duration": 0,
               "redraw": false
              },
              "fromcurrent": true,
              "mode": "immediate",
              "transition": {
               "duration": 0,
               "easing": "linear"
              }
             }
            ],
            "label": "1985",
            "method": "animate"
           },
           {
            "args": [
             [
              "1986"
             ],
             {
              "frame": {
               "duration": 0,
               "redraw": false
              },
              "fromcurrent": true,
              "mode": "immediate",
              "transition": {
               "duration": 0,
               "easing": "linear"
              }
             }
            ],
            "label": "1986",
            "method": "animate"
           },
           {
            "args": [
             [
              "1987"
             ],
             {
              "frame": {
               "duration": 0,
               "redraw": false
              },
              "fromcurrent": true,
              "mode": "immediate",
              "transition": {
               "duration": 0,
               "easing": "linear"
              }
             }
            ],
            "label": "1987",
            "method": "animate"
           },
           {
            "args": [
             [
              "1988"
             ],
             {
              "frame": {
               "duration": 0,
               "redraw": false
              },
              "fromcurrent": true,
              "mode": "immediate",
              "transition": {
               "duration": 0,
               "easing": "linear"
              }
             }
            ],
            "label": "1988",
            "method": "animate"
           },
           {
            "args": [
             [
              "1989"
             ],
             {
              "frame": {
               "duration": 0,
               "redraw": false
              },
              "fromcurrent": true,
              "mode": "immediate",
              "transition": {
               "duration": 0,
               "easing": "linear"
              }
             }
            ],
            "label": "1989",
            "method": "animate"
           },
           {
            "args": [
             [
              "1990"
             ],
             {
              "frame": {
               "duration": 0,
               "redraw": false
              },
              "fromcurrent": true,
              "mode": "immediate",
              "transition": {
               "duration": 0,
               "easing": "linear"
              }
             }
            ],
            "label": "1990",
            "method": "animate"
           },
           {
            "args": [
             [
              "1991"
             ],
             {
              "frame": {
               "duration": 0,
               "redraw": false
              },
              "fromcurrent": true,
              "mode": "immediate",
              "transition": {
               "duration": 0,
               "easing": "linear"
              }
             }
            ],
            "label": "1991",
            "method": "animate"
           },
           {
            "args": [
             [
              "1992"
             ],
             {
              "frame": {
               "duration": 0,
               "redraw": false
              },
              "fromcurrent": true,
              "mode": "immediate",
              "transition": {
               "duration": 0,
               "easing": "linear"
              }
             }
            ],
            "label": "1992",
            "method": "animate"
           },
           {
            "args": [
             [
              "1993"
             ],
             {
              "frame": {
               "duration": 0,
               "redraw": false
              },
              "fromcurrent": true,
              "mode": "immediate",
              "transition": {
               "duration": 0,
               "easing": "linear"
              }
             }
            ],
            "label": "1993",
            "method": "animate"
           },
           {
            "args": [
             [
              "1994"
             ],
             {
              "frame": {
               "duration": 0,
               "redraw": false
              },
              "fromcurrent": true,
              "mode": "immediate",
              "transition": {
               "duration": 0,
               "easing": "linear"
              }
             }
            ],
            "label": "1994",
            "method": "animate"
           },
           {
            "args": [
             [
              "1995"
             ],
             {
              "frame": {
               "duration": 0,
               "redraw": false
              },
              "fromcurrent": true,
              "mode": "immediate",
              "transition": {
               "duration": 0,
               "easing": "linear"
              }
             }
            ],
            "label": "1995",
            "method": "animate"
           },
           {
            "args": [
             [
              "1996"
             ],
             {
              "frame": {
               "duration": 0,
               "redraw": false
              },
              "fromcurrent": true,
              "mode": "immediate",
              "transition": {
               "duration": 0,
               "easing": "linear"
              }
             }
            ],
            "label": "1996",
            "method": "animate"
           },
           {
            "args": [
             [
              "1997"
             ],
             {
              "frame": {
               "duration": 0,
               "redraw": false
              },
              "fromcurrent": true,
              "mode": "immediate",
              "transition": {
               "duration": 0,
               "easing": "linear"
              }
             }
            ],
            "label": "1997",
            "method": "animate"
           },
           {
            "args": [
             [
              "1998"
             ],
             {
              "frame": {
               "duration": 0,
               "redraw": false
              },
              "fromcurrent": true,
              "mode": "immediate",
              "transition": {
               "duration": 0,
               "easing": "linear"
              }
             }
            ],
            "label": "1998",
            "method": "animate"
           },
           {
            "args": [
             [
              "1999"
             ],
             {
              "frame": {
               "duration": 0,
               "redraw": false
              },
              "fromcurrent": true,
              "mode": "immediate",
              "transition": {
               "duration": 0,
               "easing": "linear"
              }
             }
            ],
            "label": "1999",
            "method": "animate"
           },
           {
            "args": [
             [
              "2000"
             ],
             {
              "frame": {
               "duration": 0,
               "redraw": false
              },
              "fromcurrent": true,
              "mode": "immediate",
              "transition": {
               "duration": 0,
               "easing": "linear"
              }
             }
            ],
            "label": "2000",
            "method": "animate"
           },
           {
            "args": [
             [
              "2001"
             ],
             {
              "frame": {
               "duration": 0,
               "redraw": false
              },
              "fromcurrent": true,
              "mode": "immediate",
              "transition": {
               "duration": 0,
               "easing": "linear"
              }
             }
            ],
            "label": "2001",
            "method": "animate"
           },
           {
            "args": [
             [
              "2002"
             ],
             {
              "frame": {
               "duration": 0,
               "redraw": false
              },
              "fromcurrent": true,
              "mode": "immediate",
              "transition": {
               "duration": 0,
               "easing": "linear"
              }
             }
            ],
            "label": "2002",
            "method": "animate"
           },
           {
            "args": [
             [
              "2003"
             ],
             {
              "frame": {
               "duration": 0,
               "redraw": false
              },
              "fromcurrent": true,
              "mode": "immediate",
              "transition": {
               "duration": 0,
               "easing": "linear"
              }
             }
            ],
            "label": "2003",
            "method": "animate"
           },
           {
            "args": [
             [
              "2004"
             ],
             {
              "frame": {
               "duration": 0,
               "redraw": false
              },
              "fromcurrent": true,
              "mode": "immediate",
              "transition": {
               "duration": 0,
               "easing": "linear"
              }
             }
            ],
            "label": "2004",
            "method": "animate"
           },
           {
            "args": [
             [
              "2005"
             ],
             {
              "frame": {
               "duration": 0,
               "redraw": false
              },
              "fromcurrent": true,
              "mode": "immediate",
              "transition": {
               "duration": 0,
               "easing": "linear"
              }
             }
            ],
            "label": "2005",
            "method": "animate"
           },
           {
            "args": [
             [
              "2006"
             ],
             {
              "frame": {
               "duration": 0,
               "redraw": false
              },
              "fromcurrent": true,
              "mode": "immediate",
              "transition": {
               "duration": 0,
               "easing": "linear"
              }
             }
            ],
            "label": "2006",
            "method": "animate"
           },
           {
            "args": [
             [
              "2007"
             ],
             {
              "frame": {
               "duration": 0,
               "redraw": false
              },
              "fromcurrent": true,
              "mode": "immediate",
              "transition": {
               "duration": 0,
               "easing": "linear"
              }
             }
            ],
            "label": "2007",
            "method": "animate"
           },
           {
            "args": [
             [
              "2008"
             ],
             {
              "frame": {
               "duration": 0,
               "redraw": false
              },
              "fromcurrent": true,
              "mode": "immediate",
              "transition": {
               "duration": 0,
               "easing": "linear"
              }
             }
            ],
            "label": "2008",
            "method": "animate"
           },
           {
            "args": [
             [
              "2009"
             ],
             {
              "frame": {
               "duration": 0,
               "redraw": false
              },
              "fromcurrent": true,
              "mode": "immediate",
              "transition": {
               "duration": 0,
               "easing": "linear"
              }
             }
            ],
            "label": "2009",
            "method": "animate"
           },
           {
            "args": [
             [
              "2010"
             ],
             {
              "frame": {
               "duration": 0,
               "redraw": false
              },
              "fromcurrent": true,
              "mode": "immediate",
              "transition": {
               "duration": 0,
               "easing": "linear"
              }
             }
            ],
            "label": "2010",
            "method": "animate"
           },
           {
            "args": [
             [
              "2011"
             ],
             {
              "frame": {
               "duration": 0,
               "redraw": false
              },
              "fromcurrent": true,
              "mode": "immediate",
              "transition": {
               "duration": 0,
               "easing": "linear"
              }
             }
            ],
            "label": "2011",
            "method": "animate"
           },
           {
            "args": [
             [
              "2012"
             ],
             {
              "frame": {
               "duration": 0,
               "redraw": false
              },
              "fromcurrent": true,
              "mode": "immediate",
              "transition": {
               "duration": 0,
               "easing": "linear"
              }
             }
            ],
            "label": "2012",
            "method": "animate"
           },
           {
            "args": [
             [
              "2013"
             ],
             {
              "frame": {
               "duration": 0,
               "redraw": false
              },
              "fromcurrent": true,
              "mode": "immediate",
              "transition": {
               "duration": 0,
               "easing": "linear"
              }
             }
            ],
            "label": "2013",
            "method": "animate"
           },
           {
            "args": [
             [
              "2014"
             ],
             {
              "frame": {
               "duration": 0,
               "redraw": false
              },
              "fromcurrent": true,
              "mode": "immediate",
              "transition": {
               "duration": 0,
               "easing": "linear"
              }
             }
            ],
            "label": "2014",
            "method": "animate"
           },
           {
            "args": [
             [
              "2015"
             ],
             {
              "frame": {
               "duration": 0,
               "redraw": false
              },
              "fromcurrent": true,
              "mode": "immediate",
              "transition": {
               "duration": 0,
               "easing": "linear"
              }
             }
            ],
            "label": "2015",
            "method": "animate"
           },
           {
            "args": [
             [
              "2016"
             ],
             {
              "frame": {
               "duration": 0,
               "redraw": false
              },
              "fromcurrent": true,
              "mode": "immediate",
              "transition": {
               "duration": 0,
               "easing": "linear"
              }
             }
            ],
            "label": "2016",
            "method": "animate"
           },
           {
            "args": [
             [
              "2017"
             ],
             {
              "frame": {
               "duration": 0,
               "redraw": false
              },
              "fromcurrent": true,
              "mode": "immediate",
              "transition": {
               "duration": 0,
               "easing": "linear"
              }
             }
            ],
            "label": "2017",
            "method": "animate"
           },
           {
            "args": [
             [
              "2018"
             ],
             {
              "frame": {
               "duration": 0,
               "redraw": false
              },
              "fromcurrent": true,
              "mode": "immediate",
              "transition": {
               "duration": 0,
               "easing": "linear"
              }
             }
            ],
            "label": "2018",
            "method": "animate"
           },
           {
            "args": [
             [
              "2019"
             ],
             {
              "frame": {
               "duration": 0,
               "redraw": false
              },
              "fromcurrent": true,
              "mode": "immediate",
              "transition": {
               "duration": 0,
               "easing": "linear"
              }
             }
            ],
            "label": "2019",
            "method": "animate"
           },
           {
            "args": [
             [
              "2020"
             ],
             {
              "frame": {
               "duration": 0,
               "redraw": false
              },
              "fromcurrent": true,
              "mode": "immediate",
              "transition": {
               "duration": 0,
               "easing": "linear"
              }
             }
            ],
            "label": "2020",
            "method": "animate"
           }
          ],
          "x": 0.1,
          "xanchor": "left",
          "y": 0,
          "yanchor": "top"
         }
        ],
        "template": {
         "data": {
          "bar": [
           {
            "error_x": {
             "color": "#2a3f5f"
            },
            "error_y": {
             "color": "#2a3f5f"
            },
            "marker": {
             "line": {
              "color": "#E5ECF6",
              "width": 0.5
             },
             "pattern": {
              "fillmode": "overlay",
              "size": 10,
              "solidity": 0.2
             }
            },
            "type": "bar"
           }
          ],
          "barpolar": [
           {
            "marker": {
             "line": {
              "color": "#E5ECF6",
              "width": 0.5
             },
             "pattern": {
              "fillmode": "overlay",
              "size": 10,
              "solidity": 0.2
             }
            },
            "type": "barpolar"
           }
          ],
          "carpet": [
           {
            "aaxis": {
             "endlinecolor": "#2a3f5f",
             "gridcolor": "white",
             "linecolor": "white",
             "minorgridcolor": "white",
             "startlinecolor": "#2a3f5f"
            },
            "baxis": {
             "endlinecolor": "#2a3f5f",
             "gridcolor": "white",
             "linecolor": "white",
             "minorgridcolor": "white",
             "startlinecolor": "#2a3f5f"
            },
            "type": "carpet"
           }
          ],
          "choropleth": [
           {
            "colorbar": {
             "outlinewidth": 0,
             "ticks": ""
            },
            "type": "choropleth"
           }
          ],
          "contour": [
           {
            "colorbar": {
             "outlinewidth": 0,
             "ticks": ""
            },
            "colorscale": [
             [
              0,
              "#0d0887"
             ],
             [
              0.1111111111111111,
              "#46039f"
             ],
             [
              0.2222222222222222,
              "#7201a8"
             ],
             [
              0.3333333333333333,
              "#9c179e"
             ],
             [
              0.4444444444444444,
              "#bd3786"
             ],
             [
              0.5555555555555556,
              "#d8576b"
             ],
             [
              0.6666666666666666,
              "#ed7953"
             ],
             [
              0.7777777777777778,
              "#fb9f3a"
             ],
             [
              0.8888888888888888,
              "#fdca26"
             ],
             [
              1,
              "#f0f921"
             ]
            ],
            "type": "contour"
           }
          ],
          "contourcarpet": [
           {
            "colorbar": {
             "outlinewidth": 0,
             "ticks": ""
            },
            "type": "contourcarpet"
           }
          ],
          "heatmap": [
           {
            "colorbar": {
             "outlinewidth": 0,
             "ticks": ""
            },
            "colorscale": [
             [
              0,
              "#0d0887"
             ],
             [
              0.1111111111111111,
              "#46039f"
             ],
             [
              0.2222222222222222,
              "#7201a8"
             ],
             [
              0.3333333333333333,
              "#9c179e"
             ],
             [
              0.4444444444444444,
              "#bd3786"
             ],
             [
              0.5555555555555556,
              "#d8576b"
             ],
             [
              0.6666666666666666,
              "#ed7953"
             ],
             [
              0.7777777777777778,
              "#fb9f3a"
             ],
             [
              0.8888888888888888,
              "#fdca26"
             ],
             [
              1,
              "#f0f921"
             ]
            ],
            "type": "heatmap"
           }
          ],
          "heatmapgl": [
           {
            "colorbar": {
             "outlinewidth": 0,
             "ticks": ""
            },
            "colorscale": [
             [
              0,
              "#0d0887"
             ],
             [
              0.1111111111111111,
              "#46039f"
             ],
             [
              0.2222222222222222,
              "#7201a8"
             ],
             [
              0.3333333333333333,
              "#9c179e"
             ],
             [
              0.4444444444444444,
              "#bd3786"
             ],
             [
              0.5555555555555556,
              "#d8576b"
             ],
             [
              0.6666666666666666,
              "#ed7953"
             ],
             [
              0.7777777777777778,
              "#fb9f3a"
             ],
             [
              0.8888888888888888,
              "#fdca26"
             ],
             [
              1,
              "#f0f921"
             ]
            ],
            "type": "heatmapgl"
           }
          ],
          "histogram": [
           {
            "marker": {
             "pattern": {
              "fillmode": "overlay",
              "size": 10,
              "solidity": 0.2
             }
            },
            "type": "histogram"
           }
          ],
          "histogram2d": [
           {
            "colorbar": {
             "outlinewidth": 0,
             "ticks": ""
            },
            "colorscale": [
             [
              0,
              "#0d0887"
             ],
             [
              0.1111111111111111,
              "#46039f"
             ],
             [
              0.2222222222222222,
              "#7201a8"
             ],
             [
              0.3333333333333333,
              "#9c179e"
             ],
             [
              0.4444444444444444,
              "#bd3786"
             ],
             [
              0.5555555555555556,
              "#d8576b"
             ],
             [
              0.6666666666666666,
              "#ed7953"
             ],
             [
              0.7777777777777778,
              "#fb9f3a"
             ],
             [
              0.8888888888888888,
              "#fdca26"
             ],
             [
              1,
              "#f0f921"
             ]
            ],
            "type": "histogram2d"
           }
          ],
          "histogram2dcontour": [
           {
            "colorbar": {
             "outlinewidth": 0,
             "ticks": ""
            },
            "colorscale": [
             [
              0,
              "#0d0887"
             ],
             [
              0.1111111111111111,
              "#46039f"
             ],
             [
              0.2222222222222222,
              "#7201a8"
             ],
             [
              0.3333333333333333,
              "#9c179e"
             ],
             [
              0.4444444444444444,
              "#bd3786"
             ],
             [
              0.5555555555555556,
              "#d8576b"
             ],
             [
              0.6666666666666666,
              "#ed7953"
             ],
             [
              0.7777777777777778,
              "#fb9f3a"
             ],
             [
              0.8888888888888888,
              "#fdca26"
             ],
             [
              1,
              "#f0f921"
             ]
            ],
            "type": "histogram2dcontour"
           }
          ],
          "mesh3d": [
           {
            "colorbar": {
             "outlinewidth": 0,
             "ticks": ""
            },
            "type": "mesh3d"
           }
          ],
          "parcoords": [
           {
            "line": {
             "colorbar": {
              "outlinewidth": 0,
              "ticks": ""
             }
            },
            "type": "parcoords"
           }
          ],
          "pie": [
           {
            "automargin": true,
            "type": "pie"
           }
          ],
          "scatter": [
           {
            "fillpattern": {
             "fillmode": "overlay",
             "size": 10,
             "solidity": 0.2
            },
            "type": "scatter"
           }
          ],
          "scatter3d": [
           {
            "line": {
             "colorbar": {
              "outlinewidth": 0,
              "ticks": ""
             }
            },
            "marker": {
             "colorbar": {
              "outlinewidth": 0,
              "ticks": ""
             }
            },
            "type": "scatter3d"
           }
          ],
          "scattercarpet": [
           {
            "marker": {
             "colorbar": {
              "outlinewidth": 0,
              "ticks": ""
             }
            },
            "type": "scattercarpet"
           }
          ],
          "scattergeo": [
           {
            "marker": {
             "colorbar": {
              "outlinewidth": 0,
              "ticks": ""
             }
            },
            "type": "scattergeo"
           }
          ],
          "scattergl": [
           {
            "marker": {
             "colorbar": {
              "outlinewidth": 0,
              "ticks": ""
             }
            },
            "type": "scattergl"
           }
          ],
          "scattermapbox": [
           {
            "marker": {
             "colorbar": {
              "outlinewidth": 0,
              "ticks": ""
             }
            },
            "type": "scattermapbox"
           }
          ],
          "scatterpolar": [
           {
            "marker": {
             "colorbar": {
              "outlinewidth": 0,
              "ticks": ""
             }
            },
            "type": "scatterpolar"
           }
          ],
          "scatterpolargl": [
           {
            "marker": {
             "colorbar": {
              "outlinewidth": 0,
              "ticks": ""
             }
            },
            "type": "scatterpolargl"
           }
          ],
          "scatterternary": [
           {
            "marker": {
             "colorbar": {
              "outlinewidth": 0,
              "ticks": ""
             }
            },
            "type": "scatterternary"
           }
          ],
          "surface": [
           {
            "colorbar": {
             "outlinewidth": 0,
             "ticks": ""
            },
            "colorscale": [
             [
              0,
              "#0d0887"
             ],
             [
              0.1111111111111111,
              "#46039f"
             ],
             [
              0.2222222222222222,
              "#7201a8"
             ],
             [
              0.3333333333333333,
              "#9c179e"
             ],
             [
              0.4444444444444444,
              "#bd3786"
             ],
             [
              0.5555555555555556,
              "#d8576b"
             ],
             [
              0.6666666666666666,
              "#ed7953"
             ],
             [
              0.7777777777777778,
              "#fb9f3a"
             ],
             [
              0.8888888888888888,
              "#fdca26"
             ],
             [
              1,
              "#f0f921"
             ]
            ],
            "type": "surface"
           }
          ],
          "table": [
           {
            "cells": {
             "fill": {
              "color": "#EBF0F8"
             },
             "line": {
              "color": "white"
             }
            },
            "header": {
             "fill": {
              "color": "#C8D4E3"
             },
             "line": {
              "color": "white"
             }
            },
            "type": "table"
           }
          ]
         },
         "layout": {
          "annotationdefaults": {
           "arrowcolor": "#2a3f5f",
           "arrowhead": 0,
           "arrowwidth": 1
          },
          "autotypenumbers": "strict",
          "coloraxis": {
           "colorbar": {
            "outlinewidth": 0,
            "ticks": ""
           }
          },
          "colorscale": {
           "diverging": [
            [
             0,
             "#8e0152"
            ],
            [
             0.1,
             "#c51b7d"
            ],
            [
             0.2,
             "#de77ae"
            ],
            [
             0.3,
             "#f1b6da"
            ],
            [
             0.4,
             "#fde0ef"
            ],
            [
             0.5,
             "#f7f7f7"
            ],
            [
             0.6,
             "#e6f5d0"
            ],
            [
             0.7,
             "#b8e186"
            ],
            [
             0.8,
             "#7fbc41"
            ],
            [
             0.9,
             "#4d9221"
            ],
            [
             1,
             "#276419"
            ]
           ],
           "sequential": [
            [
             0,
             "#0d0887"
            ],
            [
             0.1111111111111111,
             "#46039f"
            ],
            [
             0.2222222222222222,
             "#7201a8"
            ],
            [
             0.3333333333333333,
             "#9c179e"
            ],
            [
             0.4444444444444444,
             "#bd3786"
            ],
            [
             0.5555555555555556,
             "#d8576b"
            ],
            [
             0.6666666666666666,
             "#ed7953"
            ],
            [
             0.7777777777777778,
             "#fb9f3a"
            ],
            [
             0.8888888888888888,
             "#fdca26"
            ],
            [
             1,
             "#f0f921"
            ]
           ],
           "sequentialminus": [
            [
             0,
             "#0d0887"
            ],
            [
             0.1111111111111111,
             "#46039f"
            ],
            [
             0.2222222222222222,
             "#7201a8"
            ],
            [
             0.3333333333333333,
             "#9c179e"
            ],
            [
             0.4444444444444444,
             "#bd3786"
            ],
            [
             0.5555555555555556,
             "#d8576b"
            ],
            [
             0.6666666666666666,
             "#ed7953"
            ],
            [
             0.7777777777777778,
             "#fb9f3a"
            ],
            [
             0.8888888888888888,
             "#fdca26"
            ],
            [
             1,
             "#f0f921"
            ]
           ]
          },
          "colorway": [
           "#636efa",
           "#EF553B",
           "#00cc96",
           "#ab63fa",
           "#FFA15A",
           "#19d3f3",
           "#FF6692",
           "#B6E880",
           "#FF97FF",
           "#FECB52"
          ],
          "font": {
           "color": "#2a3f5f"
          },
          "geo": {
           "bgcolor": "white",
           "lakecolor": "white",
           "landcolor": "#E5ECF6",
           "showlakes": true,
           "showland": true,
           "subunitcolor": "white"
          },
          "hoverlabel": {
           "align": "left"
          },
          "hovermode": "closest",
          "mapbox": {
           "style": "light"
          },
          "paper_bgcolor": "white",
          "plot_bgcolor": "#E5ECF6",
          "polar": {
           "angularaxis": {
            "gridcolor": "white",
            "linecolor": "white",
            "ticks": ""
           },
           "bgcolor": "#E5ECF6",
           "radialaxis": {
            "gridcolor": "white",
            "linecolor": "white",
            "ticks": ""
           }
          },
          "scene": {
           "xaxis": {
            "backgroundcolor": "#E5ECF6",
            "gridcolor": "white",
            "gridwidth": 2,
            "linecolor": "white",
            "showbackground": true,
            "ticks": "",
            "zerolinecolor": "white"
           },
           "yaxis": {
            "backgroundcolor": "#E5ECF6",
            "gridcolor": "white",
            "gridwidth": 2,
            "linecolor": "white",
            "showbackground": true,
            "ticks": "",
            "zerolinecolor": "white"
           },
           "zaxis": {
            "backgroundcolor": "#E5ECF6",
            "gridcolor": "white",
            "gridwidth": 2,
            "linecolor": "white",
            "showbackground": true,
            "ticks": "",
            "zerolinecolor": "white"
           }
          },
          "shapedefaults": {
           "line": {
            "color": "#2a3f5f"
           }
          },
          "ternary": {
           "aaxis": {
            "gridcolor": "white",
            "linecolor": "white",
            "ticks": ""
           },
           "baxis": {
            "gridcolor": "white",
            "linecolor": "white",
            "ticks": ""
           },
           "bgcolor": "#E5ECF6",
           "caxis": {
            "gridcolor": "white",
            "linecolor": "white",
            "ticks": ""
           }
          },
          "title": {
           "x": 0.05
          },
          "xaxis": {
           "automargin": true,
           "gridcolor": "white",
           "linecolor": "white",
           "ticks": "",
           "title": {
            "standoff": 15
           },
           "zerolinecolor": "white",
           "zerolinewidth": 2
          },
          "yaxis": {
           "automargin": true,
           "gridcolor": "white",
           "linecolor": "white",
           "ticks": "",
           "title": {
            "standoff": 15
           },
           "zerolinecolor": "white",
           "zerolinewidth": 2
          }
         }
        },
        "title": {
         "font": {
          "color": "black",
          "family": "Arial",
          "size": 30,
          "weight": "bold"
         },
         "text": "Population of Major Ethnicity from 1980 to 2020 (in 1000s)",
         "x": 0.5,
         "y": 0.95
        },
        "updatemenus": [
         {
          "buttons": [
           {
            "args": [
             null,
             {
              "frame": {
               "duration": 500,
               "redraw": false
              },
              "fromcurrent": true,
              "mode": "immediate",
              "transition": {
               "duration": 500,
               "easing": "linear"
              }
             }
            ],
            "label": "&#9654;",
            "method": "animate"
           },
           {
            "args": [
             [
              null
             ],
             {
              "frame": {
               "duration": 0,
               "redraw": false
              },
              "fromcurrent": true,
              "mode": "immediate",
              "transition": {
               "duration": 0,
               "easing": "linear"
              }
             }
            ],
            "label": "&#9724;",
            "method": "animate"
           }
          ],
          "direction": "left",
          "pad": {
           "r": 10,
           "t": 70
          },
          "showactive": false,
          "type": "buttons",
          "x": 0.1,
          "xanchor": "right",
          "y": 0,
          "yanchor": "top"
         }
        ],
        "xaxis": {
         "anchor": "y",
         "domain": [
          0,
          1
         ],
         "title": {
          "text": "States"
         }
        },
        "yaxis": {
         "anchor": "x",
         "domain": [
          0,
          1
         ],
         "range": [
          0,
          4495.9
         ],
         "title": {
          "text": "Population"
         }
        }
       }
      }
     },
     "metadata": {},
     "output_type": "display_data"
    }
   ],
   "source": [
    "# melt the data to long format\n",
    "pop_state_melted = pop_state.melt(\n",
    "    id_vars=['Year', 'State'],\n",
    "    value_vars=['Bumi_Total', 'Chinese_Total', 'Indian_Total', 'Other_Total'],\n",
    "    var_name='Race', \n",
    "    value_name='Population'\n",
    ")\n",
    "\n",
    "max_population = pop_state_melted['Population'].max()\n",
    "\n",
    "fig = px.scatter (\n",
    "    pop_state_melted, \n",
    "    x='State', \n",
    "    y='Population', \n",
    "    size='Population',\n",
    "    size_max=60,\n",
    "    color='Race',\n",
    "    animation_frame='Year', \n",
    "    range_y=[0, max_population + 600],  # Increase the upper limit\n",
    "    labels = {'Population': 'Population', 'State': 'States'}\n",
    ")\n",
    "\n",
    "fig.update_layout(\n",
    "    showlegend=True,\n",
    "    height=600,\n",
    "    margin=dict(t=100, b=50, l=50, r=60),\n",
    "    title= 'Population of Major Ethnicity from 1980 to 2020 (in 1000s)',\n",
    "    title_font=dict(size=30, family='Arial', weight='bold', color='black'),\n",
    "    title_x= 0.5, \n",
    "    title_y= 0.95,\n",
    "    legend=dict(\n",
    "        orientation=\"v\",  # Vertical orientation\n",
    "        yanchor=\"middle\",  # Anchor to the middle of the legend\n",
    "        y=0.5,  # Position the legend in the middle vertically\n",
    "        xanchor=\"left\",  # Anchor to the left of the legend\n",
    "        x=1.05  # Position it slightly outside the right side of the frame\n",
    "    )\n",
    ")\n",
    "\n",
    "fig.show()"
   ]
  },
  {
   "cell_type": "markdown",
   "metadata": {},
   "source": [
    "# NOTE\n",
    "- I know Sabah and Sarawak consist of major races that are completely different than the Malays in the Malaysian peninsular.\n",
    "- In Sabah, they have Kadazan Dusun, Bajau and Murut and Sarawak - Bidayuh, Iban, Melanau\n",
    "- but for the sake of simplicity, I combined Bumiputera (Malay) and the major races in Sabah and Sarawak in the same group.\n",
    "\n",
    "# Error\n",
    "\n",
    "**Year Error**\n",
    "- 1996 was mistkaenly written as 1986 for Penang, Perak, Perlis, Terengganu, Sabah and Sarawak\n",
    "- The circles were jumping around between states as the chart runs\n",
    "- other issue: my excel data was locked for some reason and i cant seem to fix it, i copied the whole data to a new sheet - it works ok now lol\n",
    "- I manually fixed the wrong year, changed 1986 to 1996\n",
    "\n",
    "**Sabah Chinese population decreases from 2009**\n",
    "- Cross-check figures with official stats from dept of stats\n",
    "    - 1980 to 1990: https://pqi.stats.gov.my/result.php?token=58fbaf38a4cc42f0da2ca228c1a945d1\n",
    "    - 1991 to 1999: https://pqi.stats.gov.my/result.php?token=3a0e6ef0f5d83e5cba7539cadefea405\n",
    "    - 2000 to 2010: https://pqi.stats.gov.my/result.php?token=f7830a0f0144264a63ec24b8cc20b1e1\n",
    "- Actually I mixed up Chinese population with Kadazan Dusun! - RECTIFIED\n",
    "\n",
    "**Others population in Sabah 1990-1991**\n",
    "* There's weird drop for this specific pop, I have cross-checked with the actual figures, they're like that. \n",
    "* I can't explain it. I guess we gotta just accept it\n",
    "\n",
    "**Sudden jump of Bumi pop from 2009-2010**\n",
    "* idk \n"
   ]
  },
  {
   "cell_type": "markdown",
   "metadata": {},
   "source": [
    "# Diversity Analysis\n",
    "\n",
    "**Diversity Index Calculation**\n",
    "- I am using Shannon-Wiener Index a.k.a Simpson's Diversity Index to measure the diversity across states in Malaysia from 1980 to 2020\n",
    "- it considers the proportional representation of each race in a state\n",
    "- it calcualtes the proportion of each ethnic group by dividing their population by the total population"
   ]
  },
  {
   "cell_type": "code",
   "execution_count": 87,
   "metadata": {},
   "outputs": [
    {
     "data": {
      "text/html": [
       "<div>\n",
       "<style scoped>\n",
       "    .dataframe tbody tr th:only-of-type {\n",
       "        vertical-align: middle;\n",
       "    }\n",
       "\n",
       "    .dataframe tbody tr th {\n",
       "        vertical-align: top;\n",
       "    }\n",
       "\n",
       "    .dataframe thead th {\n",
       "        text-align: right;\n",
       "    }\n",
       "</style>\n",
       "<table border=\"1\" class=\"dataframe\">\n",
       "  <thead>\n",
       "    <tr style=\"text-align: right;\">\n",
       "      <th></th>\n",
       "      <th>State_Year</th>\n",
       "      <th>Shannon_Index</th>\n",
       "      <th>State</th>\n",
       "      <th>Year</th>\n",
       "    </tr>\n",
       "  </thead>\n",
       "  <tbody>\n",
       "    <tr>\n",
       "      <th>0</th>\n",
       "      <td>(Terengganu, 1980)</td>\n",
       "      <td>0.244279</td>\n",
       "      <td>Terengganu</td>\n",
       "      <td>1980</td>\n",
       "    </tr>\n",
       "    <tr>\n",
       "      <th>1</th>\n",
       "      <td>(Terengganu, 1981)</td>\n",
       "      <td>0.247270</td>\n",
       "      <td>Terengganu</td>\n",
       "      <td>1981</td>\n",
       "    </tr>\n",
       "    <tr>\n",
       "      <th>2</th>\n",
       "      <td>(Terengganu, 1982)</td>\n",
       "      <td>0.249088</td>\n",
       "      <td>Terengganu</td>\n",
       "      <td>1982</td>\n",
       "    </tr>\n",
       "    <tr>\n",
       "      <th>3</th>\n",
       "      <td>(Terengganu, 1983)</td>\n",
       "      <td>0.249233</td>\n",
       "      <td>Terengganu</td>\n",
       "      <td>1983</td>\n",
       "    </tr>\n",
       "    <tr>\n",
       "      <th>4</th>\n",
       "      <td>(Terengganu, 1984)</td>\n",
       "      <td>0.250869</td>\n",
       "      <td>Terengganu</td>\n",
       "      <td>1984</td>\n",
       "    </tr>\n",
       "  </tbody>\n",
       "</table>\n",
       "</div>"
      ],
      "text/plain": [
       "           State_Year  Shannon_Index       State  Year\n",
       "0  (Terengganu, 1980)       0.244279  Terengganu  1980\n",
       "1  (Terengganu, 1981)       0.247270  Terengganu  1981\n",
       "2  (Terengganu, 1982)       0.249088  Terengganu  1982\n",
       "3  (Terengganu, 1983)       0.249233  Terengganu  1983\n",
       "4  (Terengganu, 1984)       0.250869  Terengganu  1984"
      ]
     },
     "execution_count": 87,
     "metadata": {},
     "output_type": "execute_result"
    }
   ],
   "source": [
    "import numpy as np \n",
    "import pandas as pd\n",
    "\n",
    "# create a dictionary to hold the diversity indices\n",
    "diversity_indices = {}\n",
    "\n",
    "# LOOP THROUGH EAHC STATE AND YEAR\n",
    "# Filter data for each state and year to get the population specific to the state and year being analyzed\n",
    "for state in pop_state['State'].unique():\n",
    "    for year in pop_state['Year'].unique():\n",
    "        state_year_data = pop_state_melted[(pop_state_melted['State'] == state) & (pop_state_melted['Year'] == year)]\n",
    "        \n",
    "        #calculate total pop for that state and year\n",
    "        total_population = state_year_data['Population'].sum()\n",
    "        \n",
    "        #calculate proportions \n",
    "        if total_population > 0:\n",
    "            proportions = state_year_data['Population'] / total_population\n",
    "            \n",
    "            #calculate shannon-wiener index\n",
    "            shannon_index = -np.sum(proportions * np.log(proportions + 1e-10))\n",
    "            \n",
    "            #store the results\n",
    "            diversity_indices[(state, year)] = shannon_index\n",
    "            \n",
    "#convert df to analyse it easier\n",
    "diversity_df = pd.DataFrame(list(diversity_indices.items()), columns=['State_Year', 'Shannon_Index'])\n",
    "diversity_df[['State', 'Year']] = pd.DataFrame(diversity_df['State_Year'].tolist(), index=diversity_df.index)\n",
    "\n",
    "diversity_df.head()"
   ]
  },
  {
   "cell_type": "code",
   "execution_count": 88,
   "metadata": {},
   "outputs": [
    {
     "data": {
      "application/vnd.plotly.v1+json": {
       "config": {
        "plotlyServerURL": "https://plot.ly"
       },
       "data": [
        {
         "hovertemplate": "State=Terengganu<br>Year=%{x}<br>Diversity Index=%{y}<extra></extra>",
         "legendgroup": "Terengganu",
         "line": {
          "color": "#636efa",
          "dash": "solid"
         },
         "marker": {
          "symbol": "circle"
         },
         "mode": "lines",
         "name": "Terengganu",
         "orientation": "v",
         "showlegend": true,
         "type": "scatter",
         "x": [
          1980,
          1981,
          1982,
          1983,
          1984,
          1985,
          1986,
          1987,
          1988,
          1989,
          1990,
          1991,
          1992,
          1993,
          1994,
          1995,
          1996,
          1997,
          1998,
          1999,
          2000,
          2001,
          2002,
          2003,
          2004,
          2005,
          2006,
          2007,
          2008,
          2009,
          2010,
          2011,
          2012,
          2013,
          2014,
          2015,
          2016,
          2017,
          2018,
          2019,
          2020
         ],
         "xaxis": "x",
         "y": [
          0.2442785298483523,
          0.2472703292094866,
          0.24908781716145803,
          0.24923282770377445,
          0.2508685836495195,
          0.25127792963802525,
          0.2505662710193204,
          0.2494589284678778,
          0.24825167091385086,
          0.24730431584108561,
          0.24540507913860157,
          0.19931906528239712,
          0.19696514411584706,
          0.1932878468701822,
          0.18831239937918517,
          0.18354860752667776,
          0.17936688650995447,
          0.17397772720459218,
          0.16980825876877273,
          0.1659904053763857,
          0.16304069820802178,
          0.16246936174854584,
          0.1619186107862976,
          0.16069448467169486,
          0.16070684231891486,
          0.15981609635920496,
          0.1593263055418483,
          0.15789347480766594,
          0.1577857535433469,
          0.15684721367295976,
          0.15137483437555058,
          0.15134956352279907,
          0.14926904426599807,
          0.14889129029351536,
          0.14866255086705374,
          0.14798621617543042,
          0.14531288026393743,
          0.1479293509411214,
          0.14677276875287568,
          0.14537067640970786,
          0.12795295568757198
         ],
         "yaxis": "y"
        },
        {
         "hovertemplate": "State=Johor<br>Year=%{x}<br>Diversity Index=%{y}<extra></extra>",
         "legendgroup": "Johor",
         "line": {
          "color": "#EF553B",
          "dash": "solid"
         },
         "marker": {
          "symbol": "circle"
         },
         "mode": "lines",
         "name": "Johor",
         "orientation": "v",
         "showlegend": true,
         "type": "scatter",
         "x": [
          1980,
          1981,
          1982,
          1983,
          1984,
          1985,
          1986,
          1987,
          1988,
          1989,
          1990,
          1991,
          1992,
          1993,
          1994,
          1995,
          1996,
          1997,
          1998,
          1999,
          2000,
          2001,
          2002,
          2003,
          2004,
          2005,
          2006,
          2007,
          2008,
          2009,
          2010,
          2011,
          2012,
          2013,
          2014,
          2015,
          2016,
          2017,
          2018,
          2019,
          2020
         ],
         "xaxis": "x",
         "y": [
          0.8875844117470562,
          0.8902276600871838,
          0.8927222834231558,
          0.8945403420643645,
          0.8956470509849611,
          0.8959090099373013,
          0.8964287493592198,
          0.896898926628319,
          0.8968775588175653,
          0.8969298453334261,
          0.8967014900959867,
          0.9014299860294895,
          0.9035973883970024,
          0.9043293063498676,
          0.9043664234661782,
          0.904295643357937,
          0.9041596605535452,
          0.9042853682939875,
          0.9042550968684372,
          0.9048168791364547,
          0.9053477507482622,
          0.9047752032245888,
          0.903821473615204,
          0.9028865484431546,
          0.9018699477820724,
          0.9006557602282419,
          0.8998862314125124,
          0.8987359892700943,
          0.8982342254468328,
          0.8974203280011313,
          0.8895905133967473,
          0.8891816316144986,
          0.8890154779849969,
          0.8900718133260754,
          0.890665396086055,
          0.8905956581090032,
          0.8901644870296531,
          0.8891339785747736,
          0.8870321042066528,
          0.8845695220702525,
          0.8775839218234461
         ],
         "yaxis": "y"
        },
        {
         "hovertemplate": "State=Kedah<br>Year=%{x}<br>Diversity Index=%{y}<extra></extra>",
         "legendgroup": "Kedah",
         "line": {
          "color": "#00cc96",
          "dash": "solid"
         },
         "marker": {
          "symbol": "circle"
         },
         "mode": "lines",
         "name": "Kedah",
         "orientation": "v",
         "showlegend": true,
         "type": "scatter",
         "x": [
          1980,
          1981,
          1982,
          1983,
          1984,
          1985,
          1986,
          1987,
          1988,
          1989,
          1990,
          1991,
          1992,
          1993,
          1994,
          1995,
          1996,
          1997,
          1998,
          1999,
          2000,
          2001,
          2002,
          2003,
          2004,
          2005,
          2006,
          2007,
          2008,
          2009,
          2010,
          2011,
          2012,
          2013,
          2014,
          2015,
          2016,
          2017,
          2018,
          2019,
          2020
         ],
         "xaxis": "x",
         "y": [
          0.8199954764514836,
          0.8169987182298324,
          0.8132630509678465,
          0.8093415861380967,
          0.8049454139300728,
          0.8005206127636995,
          0.7960027282494894,
          0.7909902655342266,
          0.7867575042135733,
          0.7832935590050862,
          0.7786994268685223,
          0.769835781243589,
          0.7667174777734185,
          0.7632107354582188,
          0.7598857286916937,
          0.7559549935068491,
          0.7522690611719817,
          0.7486202801609455,
          0.7449733817584315,
          0.741623022547676,
          0.7388197649226671,
          0.736504547578343,
          0.7339026859876882,
          0.731687196203287,
          0.7295610515023738,
          0.7269913051539677,
          0.7245615415162315,
          0.7220826320340289,
          0.7194883356415502,
          0.7139910027586124,
          0.7008974337993703,
          0.6979581021438341,
          0.693072740045606,
          0.688398725011272,
          0.683926157791233,
          0.6810376568662286,
          0.6769961857386017,
          0.673877640248244,
          0.6715621031145903,
          0.6694002187994249,
          0.6651960910830158
         ],
         "yaxis": "y"
        },
        {
         "hovertemplate": "State=Kelantan<br>Year=%{x}<br>Diversity Index=%{y}<extra></extra>",
         "legendgroup": "Kelantan",
         "line": {
          "color": "#ab63fa",
          "dash": "solid"
         },
         "marker": {
          "symbol": "circle"
         },
         "mode": "lines",
         "name": "Kelantan",
         "orientation": "v",
         "showlegend": true,
         "type": "scatter",
         "x": [
          1980,
          1981,
          1982,
          1983,
          1984,
          1985,
          1986,
          1987,
          1988,
          1989,
          1990,
          1991,
          1992,
          1993,
          1994,
          1995,
          1996,
          1997,
          1998,
          1999,
          2000,
          2001,
          2002,
          2003,
          2004,
          2005,
          2006,
          2007,
          2008,
          2009,
          2010,
          2011,
          2012,
          2013,
          2014,
          2015,
          2016,
          2017,
          2018,
          2019,
          2020
         ],
         "xaxis": "x",
         "y": [
          0.3086691676054451,
          0.30369200373995525,
          0.29936941733544886,
          0.2946193274426878,
          0.29045309633420713,
          0.28734223170207807,
          0.2834253736662117,
          0.27906519871477165,
          0.2757398545497901,
          0.2720075013997323,
          0.26787957409504515,
          0.2714498745055989,
          0.26743683433041043,
          0.263401450108552,
          0.2588636002429786,
          0.2547743972270145,
          0.2506731842728892,
          0.24632220604912314,
          0.24176607943850945,
          0.23795683512216897,
          0.23325666984945176,
          0.23117907836625157,
          0.22989234690009902,
          0.22827639753981654,
          0.22675373770756566,
          0.22520886853422623,
          0.22368984014100957,
          0.22190750997101116,
          0.2207497066124527,
          0.2167745940155344,
          0.2065440692557059,
          0.20644266080257306,
          0.20450246715991102,
          0.20175781184283892,
          0.200981499618796,
          0.1991046767110735,
          0.1973779915658497,
          0.19638504836170123,
          0.19543077456673053,
          0.19398115951858452,
          0.17448982199162405
         ],
         "yaxis": "y"
        },
        {
         "hovertemplate": "State=Kuala Lumpur<br>Year=%{x}<br>Diversity Index=%{y}<extra></extra>",
         "legendgroup": "Kuala Lumpur",
         "line": {
          "color": "#FFA15A",
          "dash": "solid"
         },
         "marker": {
          "symbol": "circle"
         },
         "mode": "lines",
         "name": "Kuala Lumpur",
         "orientation": "v",
         "showlegend": true,
         "type": "scatter",
         "x": [
          1980,
          1981,
          1982,
          1983,
          1984,
          1985,
          1986,
          1987,
          1988,
          1989,
          1990,
          1991,
          1992,
          1993,
          1994,
          1995,
          1996,
          1997,
          1998,
          1999,
          2000,
          2001,
          2002,
          2003,
          2004,
          2005,
          2006,
          2007,
          2008,
          2009,
          2010,
          2011,
          2012,
          2013,
          2014,
          2015,
          2016,
          2017,
          2018,
          2019,
          2020
         ],
         "xaxis": "x",
         "y": [
          1.0286736312074927,
          1.0308684080459158,
          1.0321352709032752,
          1.0330407469017173,
          1.0333601042132132,
          1.0333265942761365,
          1.0333454616667752,
          1.0327212542477815,
          1.0315461720701682,
          1.0305905162166111,
          1.0291164685106948,
          1.0233640135316795,
          1.027542165585444,
          1.0287210833834197,
          1.0290610276920389,
          1.0290438663667174,
          1.0295867325830188,
          1.0294337004398668,
          1.0296202282468314,
          1.0294731347928663,
          1.0284965721255102,
          1.0260924841897339,
          1.0242161853254297,
          1.022123384097159,
          1.0204577916146809,
          1.0182845858230072,
          1.0165459177816316,
          1.0147173390902169,
          1.0131355623164815,
          1.0094553106022992,
          0.9973619273317733,
          0.9987441583061537,
          0.9992950602216208,
          0.9987367970440068,
          0.9993209931244375,
          0.9997153701185214,
          0.998799338402203,
          0.9996124828001124,
          1.001296814895446,
          1.002971634252136,
          0.9827834194595317
         ],
         "yaxis": "y"
        },
        {
         "hovertemplate": "State=Melaka<br>Year=%{x}<br>Diversity Index=%{y}<extra></extra>",
         "legendgroup": "Melaka",
         "line": {
          "color": "#19d3f3",
          "dash": "solid"
         },
         "marker": {
          "symbol": "circle"
         },
         "mode": "lines",
         "name": "Melaka",
         "orientation": "v",
         "showlegend": true,
         "type": "scatter",
         "x": [
          1980,
          1981,
          1982,
          1983,
          1984,
          1985,
          1986,
          1987,
          1988,
          1989,
          1990,
          1991,
          1992,
          1993,
          1994,
          1995,
          1996,
          1997,
          1998,
          1999,
          2000,
          2001,
          2002,
          2003,
          2004,
          2005,
          2006,
          2007,
          2008,
          2009,
          2010,
          2011,
          2012,
          2013,
          2014,
          2015,
          2016,
          2017,
          2018,
          2019,
          2020
         ],
         "xaxis": "x",
         "y": [
          0.9339820268668004,
          0.9326102376321446,
          0.9300927679924177,
          0.9272187335426315,
          0.9239694144344566,
          0.9203094300043835,
          0.9182408746807349,
          0.9142034274692544,
          0.9103801583040108,
          0.9084849043415695,
          0.9045244837248458,
          0.9024761641702089,
          0.8995112572681925,
          0.8956365931352397,
          0.8915024808211134,
          0.8858448957816926,
          0.8810443736830025,
          0.8759994751822272,
          0.870787666802425,
          0.8675861285361555,
          0.8633127367025314,
          0.8595862571292326,
          0.855628659913613,
          0.8527370298700165,
          0.848808088472466,
          0.8455065210359014,
          0.8422823584306843,
          0.8388366538689838,
          0.8355020845131221,
          0.832362368876901,
          0.8216065193855617,
          0.8156438442382837,
          0.8131698509116208,
          0.8128214954390761,
          0.8100808972707328,
          0.8075362822868973,
          0.8050759936260727,
          0.8007144088568549,
          0.7993566991180222,
          0.7987617697404371,
          0.7634793751594591
         ],
         "yaxis": "y"
        },
        {
         "hovertemplate": "State=Negeri Sembilan<br>Year=%{x}<br>Diversity Index=%{y}<extra></extra>",
         "legendgroup": "Negeri Sembilan",
         "line": {
          "color": "#FF6692",
          "dash": "solid"
         },
         "marker": {
          "symbol": "circle"
         },
         "mode": "lines",
         "name": "Negeri Sembilan",
         "orientation": "v",
         "showlegend": true,
         "type": "scatter",
         "x": [
          1980,
          1981,
          1982,
          1983,
          1984,
          1985,
          1986,
          1987,
          1988,
          1989,
          1990,
          1991,
          1992,
          1993,
          1994,
          1995,
          1996,
          1997,
          1998,
          1999,
          2000,
          2001,
          2002,
          2003,
          2004,
          2005,
          2006,
          2007,
          2008,
          2009,
          2010,
          2011,
          2012,
          2013,
          2014,
          2015,
          2016,
          2017,
          2018,
          2019,
          2020
         ],
         "xaxis": "x",
         "y": [
          1.0434384018098712,
          1.0422907486815514,
          1.0408826938820872,
          1.03800557312512,
          1.0346054026258982,
          1.0312919298874896,
          1.026866573733275,
          1.0225732720140965,
          1.0197864810053303,
          1.0162387001211852,
          1.0119744806690771,
          1.0163869577330038,
          1.014953481122424,
          1.0113400506512775,
          1.0086984133884629,
          1.0047576246630143,
          1.0008679152682214,
          0.9968256031626828,
          0.993939367105836,
          0.9902891243710799,
          0.9871780947377794,
          0.9843157449523625,
          0.9814873665364583,
          0.9777941616373338,
          0.9738206763477474,
          0.9697667264301023,
          0.9661620842705007,
          0.9619799964102311,
          0.9588027599265019,
          0.9534955339389679,
          0.9461588421055996,
          0.9461165399405757,
          0.944813638684356,
          0.9450345996998964,
          0.945365881639393,
          0.9399470843757753,
          0.9389199088279306,
          0.9325099815012843,
          0.9292985543135674,
          0.9261410591509718,
          0.9274210172356606
         ],
         "yaxis": "y"
        },
        {
         "hovertemplate": "State=Pahang<br>Year=%{x}<br>Diversity Index=%{y}<extra></extra>",
         "legendgroup": "Pahang",
         "line": {
          "color": "#B6E880",
          "dash": "solid"
         },
         "marker": {
          "symbol": "circle"
         },
         "mode": "lines",
         "name": "Pahang",
         "orientation": "v",
         "showlegend": true,
         "type": "scatter",
         "x": [
          1980,
          1981,
          1982,
          1983,
          1984,
          1985,
          1986,
          1987,
          1988,
          1989,
          1990,
          1991,
          1992,
          1993,
          1994,
          1995,
          1996,
          1997,
          1998,
          1999,
          2000,
          2001,
          2002,
          2003,
          2004,
          2005,
          2006,
          2007,
          2008,
          2009,
          2010,
          2011,
          2012,
          2013,
          2014,
          2015,
          2016,
          2017,
          2018,
          2019,
          2020
         ],
         "xaxis": "x",
         "y": [
          0.8215895811499793,
          0.81497512408221,
          0.8085241067433905,
          0.8002819509916083,
          0.790986863875399,
          0.7823894041528904,
          0.7720489352605138,
          0.762519320654298,
          0.7525538870581548,
          0.7435026103381531,
          0.7333316816132446,
          0.7403474633837797,
          0.7372251819758181,
          0.7329692756779969,
          0.7274795667137915,
          0.721256934434501,
          0.7151638984220317,
          0.7090092892535564,
          0.7027472622254849,
          0.6972905661294503,
          0.6918537288334433,
          0.6886890726117469,
          0.6836678312287764,
          0.6791828304608639,
          0.6748534939720319,
          0.6701055018916797,
          0.6657367935219223,
          0.6615664969083983,
          0.6574775330951037,
          0.6536777408219336,
          0.6422994942454768,
          0.6416614956858077,
          0.6383720812640715,
          0.6342951856266675,
          0.6286413364349152,
          0.6231363268249407,
          0.6201682375447641,
          0.6169572329005945,
          0.616007991681213,
          0.6146241279446442,
          0.682366818405515
         ],
         "yaxis": "y"
        },
        {
         "hovertemplate": "State=Pulau Pinang<br>Year=%{x}<br>Diversity Index=%{y}<extra></extra>",
         "legendgroup": "Pulau Pinang",
         "line": {
          "color": "#FF97FF",
          "dash": "solid"
         },
         "marker": {
          "symbol": "circle"
         },
         "mode": "lines",
         "name": "Pulau Pinang",
         "orientation": "v",
         "showlegend": true,
         "type": "scatter",
         "x": [
          1980,
          1981,
          1982,
          1983,
          1984,
          1985,
          1986,
          1987,
          1988,
          1989,
          1990,
          1991,
          1992,
          1993,
          1994,
          1995,
          1996,
          1997,
          1998,
          1999,
          2000,
          2001,
          2002,
          2003,
          2004,
          2005,
          2006,
          2007,
          2008,
          2009,
          2010,
          2011,
          2012,
          2013,
          2014,
          2015,
          2016,
          2017,
          2018,
          2019,
          2020
         ],
         "xaxis": "x",
         "y": [
          0.9966043679971951,
          0.9946021830460857,
          0.9934806445103005,
          0.9923578595955277,
          0.9911630065433593,
          0.9903491880442793,
          0.9892111873632989,
          0.9891393417940152,
          0.9885454632273422,
          0.9873985148453989,
          0.9870996974638008,
          0.9779331011968747,
          0.9792688557315644,
          0.9799823318840106,
          0.9805485427535785,
          0.9809048685639674,
          0.9807268898999628,
          0.9813527453448986,
          0.9820677655402179,
          0.9822372372015543,
          0.982707101741503,
          0.9827575548157218,
          0.9826119446867282,
          0.9827728498479869,
          0.9826559412394367,
          0.9824642149792813,
          0.9820490710709819,
          0.9819138503321166,
          0.9815139359636593,
          0.981162615182417,
          0.9759648152317815,
          0.9767004969395974,
          0.9772213790241209,
          0.9766262178794983,
          0.9753184452603074,
          0.9763941655761492,
          0.9757401396272274,
          0.9735839890171326,
          0.9719270623934086,
          0.9706227190680208,
          0.9779050837265477
         ],
         "yaxis": "y"
        },
        {
         "hovertemplate": "State=Perak<br>Year=%{x}<br>Diversity Index=%{y}<extra></extra>",
         "legendgroup": "Perak",
         "line": {
          "color": "#FECB52",
          "dash": "solid"
         },
         "marker": {
          "symbol": "circle"
         },
         "mode": "lines",
         "name": "Perak",
         "orientation": "v",
         "showlegend": true,
         "type": "scatter",
         "x": [
          1980,
          1981,
          1982,
          1983,
          1984,
          1985,
          1986,
          1987,
          1988,
          1989,
          1990,
          1991,
          1992,
          1993,
          1994,
          1995,
          1996,
          1997,
          1998,
          1999,
          2000,
          2001,
          2002,
          2003,
          2004,
          2005,
          2006,
          2007,
          2008,
          2009,
          2010,
          2011,
          2012,
          2013,
          2014,
          2015,
          2016,
          2017,
          2018,
          2019,
          2020
         ],
         "xaxis": "x",
         "y": [
          1.0164165596739154,
          1.016051190692553,
          1.0153342181967762,
          1.0145843763837148,
          1.0141734036394419,
          1.0130743714026464,
          1.0128080362578655,
          1.0125188546590298,
          1.0125006411824358,
          1.0125893913076027,
          1.0128226099886046,
          1.0061280948552178,
          1.0040816052228003,
          1.0019784831033187,
          0.9992698654663695,
          0.9962912392904337,
          0.993422722302875,
          0.9904463065284921,
          0.9873916037950076,
          0.9843949819783222,
          0.9816196930835109,
          0.9801060296675507,
          0.9784780352188014,
          0.9770700957800927,
          0.975809166382726,
          0.9741515397344117,
          0.9728304793945703,
          0.9714833310339728,
          0.9702272297605069,
          0.9681597757339726,
          0.9619444239743831,
          0.9596600780306535,
          0.9589312020404147,
          0.9579582484439522,
          0.9536950468069507,
          0.9518808132637933,
          0.947652411795528,
          0.944509943724498,
          0.9414607920064515,
          0.9380002538187424,
          0.929092863203866
         ],
         "yaxis": "y"
        },
        {
         "hovertemplate": "State=Perlis<br>Year=%{x}<br>Diversity Index=%{y}<extra></extra>",
         "legendgroup": "Perlis",
         "line": {
          "color": "#636efa",
          "dash": "solid"
         },
         "marker": {
          "symbol": "circle"
         },
         "mode": "lines",
         "name": "Perlis",
         "orientation": "v",
         "showlegend": true,
         "type": "scatter",
         "x": [
          1980,
          1981,
          1982,
          1983,
          1984,
          1985,
          1986,
          1987,
          1988,
          1989,
          1990,
          1991,
          1992,
          1993,
          1994,
          1995,
          1996,
          1997,
          1998,
          1999,
          2000,
          2001,
          2002,
          2003,
          2004,
          2005,
          2006,
          2007,
          2008,
          2009,
          2010,
          2011,
          2012,
          2013,
          2014,
          2015,
          2016,
          2017,
          2018,
          2019,
          2020
         ],
         "xaxis": "x",
         "y": [
          0.6883688017212722,
          0.6836494017800778,
          0.6744656783591574,
          0.6652233298214247,
          0.6578268869047946,
          0.6490915525242266,
          0.6388570092158057,
          0.6291226477518678,
          0.6210636514709624,
          0.6114964809218044,
          0.6049770884539856,
          0.5900714589213261,
          0.5811333412024893,
          0.5750122762622428,
          0.5720898004100972,
          0.5626273473403575,
          0.5589992774027969,
          0.5514451704892517,
          0.542487093388187,
          0.5371863298045388,
          0.5299278999880412,
          0.5233530146284576,
          0.5168738872641633,
          0.5122975213366907,
          0.5072421052988606,
          0.500837193335532,
          0.49381603458556916,
          0.4868723209459997,
          0.4810425578483608,
          0.4688943714150773,
          0.4447475378765206,
          0.4497547813494224,
          0.4473556207535198,
          0.44624196013220296,
          0.4458308934702298,
          0.44175983357857146,
          0.4411244309583639,
          0.4371139222656962,
          0.4336799067234711,
          0.4325510283911589,
          0.4493561285308836
         ],
         "yaxis": "y"
        },
        {
         "hovertemplate": "State=Sabah<br>Year=%{x}<br>Diversity Index=%{y}<extra></extra>",
         "legendgroup": "Sabah",
         "line": {
          "color": "#EF553B",
          "dash": "solid"
         },
         "marker": {
          "symbol": "circle"
         },
         "mode": "lines",
         "name": "Sabah",
         "orientation": "v",
         "showlegend": true,
         "type": "scatter",
         "x": [
          1980,
          1981,
          1982,
          1983,
          1984,
          1985,
          1986,
          1987,
          1988,
          1989,
          1990,
          1991,
          1992,
          1993,
          1994,
          1995,
          1996,
          1997,
          1998,
          1999,
          2000,
          2001,
          2002,
          2003,
          2004,
          2005,
          2006,
          2007,
          2008,
          2009,
          2010,
          2011,
          2012,
          2013,
          2014,
          2015,
          2016,
          2017,
          2018,
          2019,
          2020
         ],
         "xaxis": "x",
         "y": [
          0.9442947170305895,
          0.939803449975141,
          0.9356537587634836,
          0.9314499400544894,
          0.9267324926075055,
          0.9215610426404192,
          0.9161220089485064,
          0.9104916129201516,
          0.9053182687720482,
          0.9012843305230194,
          0.8973098592606169,
          0.7078771004706895,
          0.7038137234787525,
          0.7010364852737576,
          0.6977398456942475,
          0.6944534921649316,
          0.690581191808578,
          0.6875445343861635,
          0.6834788641977323,
          0.6800033009126442,
          0.6747227957615498,
          0.6710721248332572,
          0.6664416196854301,
          0.6619065863721078,
          0.6567792614488799,
          0.6512772863501168,
          0.6452030780810414,
          0.6389951583609899,
          0.6322526646284413,
          0.6257109059000916,
          0.5658750339379283,
          0.5679410359101291,
          0.5675190785326812,
          0.5668966818916217,
          0.5663180375287076,
          0.5625728155971416,
          0.5643116887471206,
          0.5625595550531505,
          0.5603641172474718,
          0.5575945071189344,
          0.4087015972078153
         ],
         "yaxis": "y"
        },
        {
         "hovertemplate": "State=Selangor<br>Year=%{x}<br>Diversity Index=%{y}<extra></extra>",
         "legendgroup": "Selangor",
         "line": {
          "color": "#00cc96",
          "dash": "solid"
         },
         "marker": {
          "symbol": "circle"
         },
         "mode": "lines",
         "name": "Selangor",
         "orientation": "v",
         "showlegend": true,
         "type": "scatter",
         "x": [
          1980,
          1981,
          1982,
          1983,
          1984,
          1985,
          1986,
          1987,
          1988,
          1989,
          1990,
          1991,
          1992,
          1993,
          1994,
          1995,
          1996,
          1997,
          1998,
          1999,
          2000,
          2001,
          2002,
          2003,
          2004,
          2005,
          2006,
          2007,
          2008,
          2009,
          2010,
          2011,
          2012,
          2013,
          2014,
          2015,
          2016,
          2017,
          2018,
          2019,
          2020
         ],
         "xaxis": "x",
         "y": [
          1.0633214401913604,
          1.0633954992155032,
          1.0634070055990708,
          1.0621913718466551,
          1.0606012692178728,
          1.0579886500546485,
          1.0550910502704027,
          1.0519198501333642,
          1.0484411230114938,
          1.0447508202527138,
          1.0403875144538668,
          1.0546178399010449,
          1.0535691929739637,
          1.0505250007196731,
          1.0465114270090043,
          1.042752079957567,
          1.039440293614916,
          1.0363554000400392,
          1.0335636476811194,
          1.0308936151887733,
          1.0282436895561797,
          1.0248699219476325,
          1.0212328750739053,
          1.0175056905851965,
          1.0134801568708904,
          1.0093697541845648,
          1.0053213758922819,
          1.0009970961449361,
          0.9967962203728729,
          0.9918592544443984,
          0.9819096139738637,
          0.9806018891150907,
          0.9778657971741397,
          0.9758673575349008,
          0.9735575694096974,
          0.9704474559554402,
          0.9674586528398949,
          0.9655718415855051,
          0.9621772489783906,
          0.9588658685186782,
          0.9435456523205127
         ],
         "yaxis": "y"
        },
        {
         "hovertemplate": "State=Sarawak<br>Year=%{x}<br>Diversity Index=%{y}<extra></extra>",
         "legendgroup": "Sarawak",
         "line": {
          "color": "#ab63fa",
          "dash": "solid"
         },
         "marker": {
          "symbol": "circle"
         },
         "mode": "lines",
         "name": "Sarawak",
         "orientation": "v",
         "showlegend": true,
         "type": "scatter",
         "x": [
          1980,
          1981,
          1982,
          1983,
          1984,
          1985,
          1986,
          1987,
          1988,
          1989,
          1990,
          1991,
          1992,
          1993,
          1994,
          1995,
          1996,
          1997,
          1998,
          1999,
          2000,
          2001,
          2002,
          2003,
          2004,
          2005,
          2006,
          2007,
          2008,
          2009,
          2010,
          2011,
          2012,
          2013,
          2014,
          2015,
          2016,
          2017,
          2018,
          2019,
          2020
         ],
         "xaxis": "x",
         "y": [
          0.6750511318557183,
          0.6760118312722856,
          0.6773753388705734,
          0.6781762453813771,
          0.6791831553777914,
          0.6797554640001999,
          0.6795304209161984,
          0.679431881662302,
          0.6788663361031849,
          0.6788101064330927,
          0.6788096857270612,
          0.6702168205414449,
          0.670189261192685,
          0.6694520101382174,
          0.6697195474718016,
          0.668348108856205,
          0.6672163928401866,
          0.6659453318518264,
          0.6639305473033499,
          0.6621230408954182,
          0.6602053089549276,
          0.660652062762455,
          0.6608840102863838,
          0.6611814801505826,
          0.6610470359330601,
          0.6615499309775196,
          0.661913828505863,
          0.6628317586403693,
          0.6637380952148113,
          0.6645629755228153,
          0.5980973473878524,
          0.5961909344772574,
          0.5949694851939734,
          0.5949991690366917,
          0.592919483476001,
          0.592034918500901,
          0.5903625146622418,
          0.5897470522666028,
          0.5885148070796352,
          0.5872956182472859,
          0.5819423503206035
         ],
         "yaxis": "y"
        }
       ],
       "layout": {
        "height": 600,
        "legend": {
         "title": {
          "text": "State"
         },
         "tracegroupgap": 0
        },
        "template": {
         "data": {
          "bar": [
           {
            "error_x": {
             "color": "#2a3f5f"
            },
            "error_y": {
             "color": "#2a3f5f"
            },
            "marker": {
             "line": {
              "color": "#E5ECF6",
              "width": 0.5
             },
             "pattern": {
              "fillmode": "overlay",
              "size": 10,
              "solidity": 0.2
             }
            },
            "type": "bar"
           }
          ],
          "barpolar": [
           {
            "marker": {
             "line": {
              "color": "#E5ECF6",
              "width": 0.5
             },
             "pattern": {
              "fillmode": "overlay",
              "size": 10,
              "solidity": 0.2
             }
            },
            "type": "barpolar"
           }
          ],
          "carpet": [
           {
            "aaxis": {
             "endlinecolor": "#2a3f5f",
             "gridcolor": "white",
             "linecolor": "white",
             "minorgridcolor": "white",
             "startlinecolor": "#2a3f5f"
            },
            "baxis": {
             "endlinecolor": "#2a3f5f",
             "gridcolor": "white",
             "linecolor": "white",
             "minorgridcolor": "white",
             "startlinecolor": "#2a3f5f"
            },
            "type": "carpet"
           }
          ],
          "choropleth": [
           {
            "colorbar": {
             "outlinewidth": 0,
             "ticks": ""
            },
            "type": "choropleth"
           }
          ],
          "contour": [
           {
            "colorbar": {
             "outlinewidth": 0,
             "ticks": ""
            },
            "colorscale": [
             [
              0,
              "#0d0887"
             ],
             [
              0.1111111111111111,
              "#46039f"
             ],
             [
              0.2222222222222222,
              "#7201a8"
             ],
             [
              0.3333333333333333,
              "#9c179e"
             ],
             [
              0.4444444444444444,
              "#bd3786"
             ],
             [
              0.5555555555555556,
              "#d8576b"
             ],
             [
              0.6666666666666666,
              "#ed7953"
             ],
             [
              0.7777777777777778,
              "#fb9f3a"
             ],
             [
              0.8888888888888888,
              "#fdca26"
             ],
             [
              1,
              "#f0f921"
             ]
            ],
            "type": "contour"
           }
          ],
          "contourcarpet": [
           {
            "colorbar": {
             "outlinewidth": 0,
             "ticks": ""
            },
            "type": "contourcarpet"
           }
          ],
          "heatmap": [
           {
            "colorbar": {
             "outlinewidth": 0,
             "ticks": ""
            },
            "colorscale": [
             [
              0,
              "#0d0887"
             ],
             [
              0.1111111111111111,
              "#46039f"
             ],
             [
              0.2222222222222222,
              "#7201a8"
             ],
             [
              0.3333333333333333,
              "#9c179e"
             ],
             [
              0.4444444444444444,
              "#bd3786"
             ],
             [
              0.5555555555555556,
              "#d8576b"
             ],
             [
              0.6666666666666666,
              "#ed7953"
             ],
             [
              0.7777777777777778,
              "#fb9f3a"
             ],
             [
              0.8888888888888888,
              "#fdca26"
             ],
             [
              1,
              "#f0f921"
             ]
            ],
            "type": "heatmap"
           }
          ],
          "heatmapgl": [
           {
            "colorbar": {
             "outlinewidth": 0,
             "ticks": ""
            },
            "colorscale": [
             [
              0,
              "#0d0887"
             ],
             [
              0.1111111111111111,
              "#46039f"
             ],
             [
              0.2222222222222222,
              "#7201a8"
             ],
             [
              0.3333333333333333,
              "#9c179e"
             ],
             [
              0.4444444444444444,
              "#bd3786"
             ],
             [
              0.5555555555555556,
              "#d8576b"
             ],
             [
              0.6666666666666666,
              "#ed7953"
             ],
             [
              0.7777777777777778,
              "#fb9f3a"
             ],
             [
              0.8888888888888888,
              "#fdca26"
             ],
             [
              1,
              "#f0f921"
             ]
            ],
            "type": "heatmapgl"
           }
          ],
          "histogram": [
           {
            "marker": {
             "pattern": {
              "fillmode": "overlay",
              "size": 10,
              "solidity": 0.2
             }
            },
            "type": "histogram"
           }
          ],
          "histogram2d": [
           {
            "colorbar": {
             "outlinewidth": 0,
             "ticks": ""
            },
            "colorscale": [
             [
              0,
              "#0d0887"
             ],
             [
              0.1111111111111111,
              "#46039f"
             ],
             [
              0.2222222222222222,
              "#7201a8"
             ],
             [
              0.3333333333333333,
              "#9c179e"
             ],
             [
              0.4444444444444444,
              "#bd3786"
             ],
             [
              0.5555555555555556,
              "#d8576b"
             ],
             [
              0.6666666666666666,
              "#ed7953"
             ],
             [
              0.7777777777777778,
              "#fb9f3a"
             ],
             [
              0.8888888888888888,
              "#fdca26"
             ],
             [
              1,
              "#f0f921"
             ]
            ],
            "type": "histogram2d"
           }
          ],
          "histogram2dcontour": [
           {
            "colorbar": {
             "outlinewidth": 0,
             "ticks": ""
            },
            "colorscale": [
             [
              0,
              "#0d0887"
             ],
             [
              0.1111111111111111,
              "#46039f"
             ],
             [
              0.2222222222222222,
              "#7201a8"
             ],
             [
              0.3333333333333333,
              "#9c179e"
             ],
             [
              0.4444444444444444,
              "#bd3786"
             ],
             [
              0.5555555555555556,
              "#d8576b"
             ],
             [
              0.6666666666666666,
              "#ed7953"
             ],
             [
              0.7777777777777778,
              "#fb9f3a"
             ],
             [
              0.8888888888888888,
              "#fdca26"
             ],
             [
              1,
              "#f0f921"
             ]
            ],
            "type": "histogram2dcontour"
           }
          ],
          "mesh3d": [
           {
            "colorbar": {
             "outlinewidth": 0,
             "ticks": ""
            },
            "type": "mesh3d"
           }
          ],
          "parcoords": [
           {
            "line": {
             "colorbar": {
              "outlinewidth": 0,
              "ticks": ""
             }
            },
            "type": "parcoords"
           }
          ],
          "pie": [
           {
            "automargin": true,
            "type": "pie"
           }
          ],
          "scatter": [
           {
            "fillpattern": {
             "fillmode": "overlay",
             "size": 10,
             "solidity": 0.2
            },
            "type": "scatter"
           }
          ],
          "scatter3d": [
           {
            "line": {
             "colorbar": {
              "outlinewidth": 0,
              "ticks": ""
             }
            },
            "marker": {
             "colorbar": {
              "outlinewidth": 0,
              "ticks": ""
             }
            },
            "type": "scatter3d"
           }
          ],
          "scattercarpet": [
           {
            "marker": {
             "colorbar": {
              "outlinewidth": 0,
              "ticks": ""
             }
            },
            "type": "scattercarpet"
           }
          ],
          "scattergeo": [
           {
            "marker": {
             "colorbar": {
              "outlinewidth": 0,
              "ticks": ""
             }
            },
            "type": "scattergeo"
           }
          ],
          "scattergl": [
           {
            "marker": {
             "colorbar": {
              "outlinewidth": 0,
              "ticks": ""
             }
            },
            "type": "scattergl"
           }
          ],
          "scattermapbox": [
           {
            "marker": {
             "colorbar": {
              "outlinewidth": 0,
              "ticks": ""
             }
            },
            "type": "scattermapbox"
           }
          ],
          "scatterpolar": [
           {
            "marker": {
             "colorbar": {
              "outlinewidth": 0,
              "ticks": ""
             }
            },
            "type": "scatterpolar"
           }
          ],
          "scatterpolargl": [
           {
            "marker": {
             "colorbar": {
              "outlinewidth": 0,
              "ticks": ""
             }
            },
            "type": "scatterpolargl"
           }
          ],
          "scatterternary": [
           {
            "marker": {
             "colorbar": {
              "outlinewidth": 0,
              "ticks": ""
             }
            },
            "type": "scatterternary"
           }
          ],
          "surface": [
           {
            "colorbar": {
             "outlinewidth": 0,
             "ticks": ""
            },
            "colorscale": [
             [
              0,
              "#0d0887"
             ],
             [
              0.1111111111111111,
              "#46039f"
             ],
             [
              0.2222222222222222,
              "#7201a8"
             ],
             [
              0.3333333333333333,
              "#9c179e"
             ],
             [
              0.4444444444444444,
              "#bd3786"
             ],
             [
              0.5555555555555556,
              "#d8576b"
             ],
             [
              0.6666666666666666,
              "#ed7953"
             ],
             [
              0.7777777777777778,
              "#fb9f3a"
             ],
             [
              0.8888888888888888,
              "#fdca26"
             ],
             [
              1,
              "#f0f921"
             ]
            ],
            "type": "surface"
           }
          ],
          "table": [
           {
            "cells": {
             "fill": {
              "color": "#EBF0F8"
             },
             "line": {
              "color": "white"
             }
            },
            "header": {
             "fill": {
              "color": "#C8D4E3"
             },
             "line": {
              "color": "white"
             }
            },
            "type": "table"
           }
          ]
         },
         "layout": {
          "annotationdefaults": {
           "arrowcolor": "#2a3f5f",
           "arrowhead": 0,
           "arrowwidth": 1
          },
          "autotypenumbers": "strict",
          "coloraxis": {
           "colorbar": {
            "outlinewidth": 0,
            "ticks": ""
           }
          },
          "colorscale": {
           "diverging": [
            [
             0,
             "#8e0152"
            ],
            [
             0.1,
             "#c51b7d"
            ],
            [
             0.2,
             "#de77ae"
            ],
            [
             0.3,
             "#f1b6da"
            ],
            [
             0.4,
             "#fde0ef"
            ],
            [
             0.5,
             "#f7f7f7"
            ],
            [
             0.6,
             "#e6f5d0"
            ],
            [
             0.7,
             "#b8e186"
            ],
            [
             0.8,
             "#7fbc41"
            ],
            [
             0.9,
             "#4d9221"
            ],
            [
             1,
             "#276419"
            ]
           ],
           "sequential": [
            [
             0,
             "#0d0887"
            ],
            [
             0.1111111111111111,
             "#46039f"
            ],
            [
             0.2222222222222222,
             "#7201a8"
            ],
            [
             0.3333333333333333,
             "#9c179e"
            ],
            [
             0.4444444444444444,
             "#bd3786"
            ],
            [
             0.5555555555555556,
             "#d8576b"
            ],
            [
             0.6666666666666666,
             "#ed7953"
            ],
            [
             0.7777777777777778,
             "#fb9f3a"
            ],
            [
             0.8888888888888888,
             "#fdca26"
            ],
            [
             1,
             "#f0f921"
            ]
           ],
           "sequentialminus": [
            [
             0,
             "#0d0887"
            ],
            [
             0.1111111111111111,
             "#46039f"
            ],
            [
             0.2222222222222222,
             "#7201a8"
            ],
            [
             0.3333333333333333,
             "#9c179e"
            ],
            [
             0.4444444444444444,
             "#bd3786"
            ],
            [
             0.5555555555555556,
             "#d8576b"
            ],
            [
             0.6666666666666666,
             "#ed7953"
            ],
            [
             0.7777777777777778,
             "#fb9f3a"
            ],
            [
             0.8888888888888888,
             "#fdca26"
            ],
            [
             1,
             "#f0f921"
            ]
           ]
          },
          "colorway": [
           "#636efa",
           "#EF553B",
           "#00cc96",
           "#ab63fa",
           "#FFA15A",
           "#19d3f3",
           "#FF6692",
           "#B6E880",
           "#FF97FF",
           "#FECB52"
          ],
          "font": {
           "color": "#2a3f5f"
          },
          "geo": {
           "bgcolor": "white",
           "lakecolor": "white",
           "landcolor": "#E5ECF6",
           "showlakes": true,
           "showland": true,
           "subunitcolor": "white"
          },
          "hoverlabel": {
           "align": "left"
          },
          "hovermode": "closest",
          "mapbox": {
           "style": "light"
          },
          "paper_bgcolor": "white",
          "plot_bgcolor": "#E5ECF6",
          "polar": {
           "angularaxis": {
            "gridcolor": "white",
            "linecolor": "white",
            "ticks": ""
           },
           "bgcolor": "#E5ECF6",
           "radialaxis": {
            "gridcolor": "white",
            "linecolor": "white",
            "ticks": ""
           }
          },
          "scene": {
           "xaxis": {
            "backgroundcolor": "#E5ECF6",
            "gridcolor": "white",
            "gridwidth": 2,
            "linecolor": "white",
            "showbackground": true,
            "ticks": "",
            "zerolinecolor": "white"
           },
           "yaxis": {
            "backgroundcolor": "#E5ECF6",
            "gridcolor": "white",
            "gridwidth": 2,
            "linecolor": "white",
            "showbackground": true,
            "ticks": "",
            "zerolinecolor": "white"
           },
           "zaxis": {
            "backgroundcolor": "#E5ECF6",
            "gridcolor": "white",
            "gridwidth": 2,
            "linecolor": "white",
            "showbackground": true,
            "ticks": "",
            "zerolinecolor": "white"
           }
          },
          "shapedefaults": {
           "line": {
            "color": "#2a3f5f"
           }
          },
          "ternary": {
           "aaxis": {
            "gridcolor": "white",
            "linecolor": "white",
            "ticks": ""
           },
           "baxis": {
            "gridcolor": "white",
            "linecolor": "white",
            "ticks": ""
           },
           "bgcolor": "#E5ECF6",
           "caxis": {
            "gridcolor": "white",
            "linecolor": "white",
            "ticks": ""
           }
          },
          "title": {
           "x": 0.05
          },
          "xaxis": {
           "automargin": true,
           "gridcolor": "white",
           "linecolor": "white",
           "ticks": "",
           "title": {
            "standoff": 15
           },
           "zerolinecolor": "white",
           "zerolinewidth": 2
          },
          "yaxis": {
           "automargin": true,
           "gridcolor": "white",
           "linecolor": "white",
           "ticks": "",
           "title": {
            "standoff": 15
           },
           "zerolinecolor": "white",
           "zerolinewidth": 2
          }
         }
        },
        "title": {
         "text": "Shannon-Wiener Diversity Index by State (1980-2020)",
         "x": 0.5,
         "xanchor": "center",
         "y": 0.95,
         "yanchor": "top"
        },
        "xaxis": {
         "anchor": "y",
         "domain": [
          0,
          1
         ],
         "title": {
          "text": "Year"
         }
        },
        "yaxis": {
         "anchor": "x",
         "domain": [
          0,
          1
         ],
         "title": {
          "text": "Diversity Index"
         }
        }
       }
      }
     },
     "metadata": {},
     "output_type": "display_data"
    }
   ],
   "source": [
    "#line plot for diversity index\n",
    "\n",
    "fig = px.line(\n",
    "    diversity_df, \n",
    "    x='Year',\n",
    "    y='Shannon_Index',\n",
    "    color='State', \n",
    "    title='Shannon-Wiener Diversity Index by State (1980-2020)',\n",
    "    labels={'Shannon_Index': 'Diversity Index', 'Year': 'Year'}\n",
    ")\n",
    "\n",
    "fig.update_layout(\n",
    "    height=600,\n",
    "    title={\n",
    "        'text': 'Shannon-Wiener Diversity Index by State (1980-2020)',\n",
    "        'y': 0.95, \n",
    "        'x': 0.5, \n",
    "        'xanchor': 'center',\n",
    "        'yanchor': 'top'\n",
    "    }\n",
    ")\n",
    "\n",
    "fig.show()"
   ]
  },
  {
   "cell_type": "code",
   "execution_count": 89,
   "metadata": {},
   "outputs": [
    {
     "data": {
      "text/html": [
       "<div>\n",
       "<style scoped>\n",
       "    .dataframe tbody tr th:only-of-type {\n",
       "        vertical-align: middle;\n",
       "    }\n",
       "\n",
       "    .dataframe tbody tr th {\n",
       "        vertical-align: top;\n",
       "    }\n",
       "\n",
       "    .dataframe thead th {\n",
       "        text-align: right;\n",
       "    }\n",
       "</style>\n",
       "<table border=\"1\" class=\"dataframe\">\n",
       "  <thead>\n",
       "    <tr style=\"text-align: right;\">\n",
       "      <th></th>\n",
       "      <th>State</th>\n",
       "      <th>Shannon_Index</th>\n",
       "    </tr>\n",
       "  </thead>\n",
       "  <tbody>\n",
       "    <tr>\n",
       "      <th>3</th>\n",
       "      <td>Kuala Lumpur</td>\n",
       "      <td>1.018945</td>\n",
       "    </tr>\n",
       "    <tr>\n",
       "      <th>12</th>\n",
       "      <td>Selangor</td>\n",
       "      <td>1.018714</td>\n",
       "    </tr>\n",
       "    <tr>\n",
       "      <th>5</th>\n",
       "      <td>Negeri Sembilan</td>\n",
       "      <td>0.985428</td>\n",
       "    </tr>\n",
       "    <tr>\n",
       "      <th>7</th>\n",
       "      <td>Perak</td>\n",
       "      <td>0.983195</td>\n",
       "    </tr>\n",
       "    <tr>\n",
       "      <th>9</th>\n",
       "      <td>Pulau Pinang</td>\n",
       "      <td>0.982331</td>\n",
       "    </tr>\n",
       "    <tr>\n",
       "      <th>0</th>\n",
       "      <td>Johor</td>\n",
       "      <td>0.896518</td>\n",
       "    </tr>\n",
       "    <tr>\n",
       "      <th>4</th>\n",
       "      <td>Melaka</td>\n",
       "      <td>0.863835</td>\n",
       "    </tr>\n",
       "    <tr>\n",
       "      <th>1</th>\n",
       "      <td>Kedah</td>\n",
       "      <td>0.741069</td>\n",
       "    </tr>\n",
       "    <tr>\n",
       "      <th>10</th>\n",
       "      <td>Sabah</td>\n",
       "      <td>0.706136</td>\n",
       "    </tr>\n",
       "    <tr>\n",
       "      <th>6</th>\n",
       "      <td>Pahang</td>\n",
       "      <td>0.701257</td>\n",
       "    </tr>\n",
       "    <tr>\n",
       "      <th>11</th>\n",
       "      <td>Sarawak</td>\n",
       "      <td>0.648629</td>\n",
       "    </tr>\n",
       "    <tr>\n",
       "      <th>8</th>\n",
       "      <td>Perlis</td>\n",
       "      <td>0.538680</td>\n",
       "    </tr>\n",
       "    <tr>\n",
       "      <th>2</th>\n",
       "      <td>Kelantan</td>\n",
       "      <td>0.241210</td>\n",
       "    </tr>\n",
       "    <tr>\n",
       "      <th>13</th>\n",
       "      <td>Terengganu</td>\n",
       "      <td>0.185243</td>\n",
       "    </tr>\n",
       "  </tbody>\n",
       "</table>\n",
       "</div>"
      ],
      "text/plain": [
       "              State  Shannon_Index\n",
       "3      Kuala Lumpur       1.018945\n",
       "12         Selangor       1.018714\n",
       "5   Negeri Sembilan       0.985428\n",
       "7             Perak       0.983195\n",
       "9      Pulau Pinang       0.982331\n",
       "0             Johor       0.896518\n",
       "4            Melaka       0.863835\n",
       "1             Kedah       0.741069\n",
       "10            Sabah       0.706136\n",
       "6            Pahang       0.701257\n",
       "11          Sarawak       0.648629\n",
       "8            Perlis       0.538680\n",
       "2          Kelantan       0.241210\n",
       "13       Terengganu       0.185243"
      ]
     },
     "execution_count": 89,
     "metadata": {},
     "output_type": "execute_result"
    }
   ],
   "source": [
    "# Rank of diversity across states\n",
    "\n",
    "state_average_div = diversity_df.groupby('State')['Shannon_Index'].mean().reset_index()\n",
    "\n",
    "state_average_div = state_average_div.sort_values(by='Shannon_Index', ascending=False)\n",
    "\n",
    "state_average_div"
   ]
  },
  {
   "cell_type": "code",
   "execution_count": 96,
   "metadata": {},
   "outputs": [
    {
     "data": {
      "application/vnd.plotly.v1+json": {
       "config": {
        "plotlyServerURL": "https://plot.ly"
       },
       "data": [
        {
         "alignmentgroup": "True",
         "hovertemplate": "Average Diversity Index=%{x}<br>State=%{y}<extra></extra>",
         "legendgroup": "",
         "marker": {
          "color": "#636efa",
          "pattern": {
           "shape": ""
          }
         },
         "name": "",
         "offsetgroup": "",
         "orientation": "h",
         "showlegend": false,
         "textposition": "auto",
         "type": "bar",
         "x": [
          1.01894472462936,
          1.0187138798490738,
          0.9854278792118043,
          0.9831951221665067,
          0.982331399662216,
          0.8965180742274559,
          0.8638345216882921,
          0.7410685834781684,
          0.7061357475628799,
          0.7012569330741649,
          0.6486288494216769,
          0.5386796969469136,
          0.2412096082662299,
          0.18524267309364412
         ],
         "xaxis": "x",
         "y": [
          "Kuala Lumpur",
          "Selangor",
          "Negeri Sembilan",
          "Perak",
          "Pulau Pinang",
          "Johor",
          "Melaka",
          "Kedah",
          "Sabah",
          "Pahang",
          "Sarawak",
          "Perlis",
          "Kelantan",
          "Terengganu"
         ],
         "yaxis": "y"
        }
       ],
       "layout": {
        "barmode": "relative",
        "height": 400,
        "legend": {
         "tracegroupgap": 0
        },
        "template": {
         "data": {
          "bar": [
           {
            "error_x": {
             "color": "#2a3f5f"
            },
            "error_y": {
             "color": "#2a3f5f"
            },
            "marker": {
             "line": {
              "color": "#E5ECF6",
              "width": 0.5
             },
             "pattern": {
              "fillmode": "overlay",
              "size": 10,
              "solidity": 0.2
             }
            },
            "type": "bar"
           }
          ],
          "barpolar": [
           {
            "marker": {
             "line": {
              "color": "#E5ECF6",
              "width": 0.5
             },
             "pattern": {
              "fillmode": "overlay",
              "size": 10,
              "solidity": 0.2
             }
            },
            "type": "barpolar"
           }
          ],
          "carpet": [
           {
            "aaxis": {
             "endlinecolor": "#2a3f5f",
             "gridcolor": "white",
             "linecolor": "white",
             "minorgridcolor": "white",
             "startlinecolor": "#2a3f5f"
            },
            "baxis": {
             "endlinecolor": "#2a3f5f",
             "gridcolor": "white",
             "linecolor": "white",
             "minorgridcolor": "white",
             "startlinecolor": "#2a3f5f"
            },
            "type": "carpet"
           }
          ],
          "choropleth": [
           {
            "colorbar": {
             "outlinewidth": 0,
             "ticks": ""
            },
            "type": "choropleth"
           }
          ],
          "contour": [
           {
            "colorbar": {
             "outlinewidth": 0,
             "ticks": ""
            },
            "colorscale": [
             [
              0,
              "#0d0887"
             ],
             [
              0.1111111111111111,
              "#46039f"
             ],
             [
              0.2222222222222222,
              "#7201a8"
             ],
             [
              0.3333333333333333,
              "#9c179e"
             ],
             [
              0.4444444444444444,
              "#bd3786"
             ],
             [
              0.5555555555555556,
              "#d8576b"
             ],
             [
              0.6666666666666666,
              "#ed7953"
             ],
             [
              0.7777777777777778,
              "#fb9f3a"
             ],
             [
              0.8888888888888888,
              "#fdca26"
             ],
             [
              1,
              "#f0f921"
             ]
            ],
            "type": "contour"
           }
          ],
          "contourcarpet": [
           {
            "colorbar": {
             "outlinewidth": 0,
             "ticks": ""
            },
            "type": "contourcarpet"
           }
          ],
          "heatmap": [
           {
            "colorbar": {
             "outlinewidth": 0,
             "ticks": ""
            },
            "colorscale": [
             [
              0,
              "#0d0887"
             ],
             [
              0.1111111111111111,
              "#46039f"
             ],
             [
              0.2222222222222222,
              "#7201a8"
             ],
             [
              0.3333333333333333,
              "#9c179e"
             ],
             [
              0.4444444444444444,
              "#bd3786"
             ],
             [
              0.5555555555555556,
              "#d8576b"
             ],
             [
              0.6666666666666666,
              "#ed7953"
             ],
             [
              0.7777777777777778,
              "#fb9f3a"
             ],
             [
              0.8888888888888888,
              "#fdca26"
             ],
             [
              1,
              "#f0f921"
             ]
            ],
            "type": "heatmap"
           }
          ],
          "heatmapgl": [
           {
            "colorbar": {
             "outlinewidth": 0,
             "ticks": ""
            },
            "colorscale": [
             [
              0,
              "#0d0887"
             ],
             [
              0.1111111111111111,
              "#46039f"
             ],
             [
              0.2222222222222222,
              "#7201a8"
             ],
             [
              0.3333333333333333,
              "#9c179e"
             ],
             [
              0.4444444444444444,
              "#bd3786"
             ],
             [
              0.5555555555555556,
              "#d8576b"
             ],
             [
              0.6666666666666666,
              "#ed7953"
             ],
             [
              0.7777777777777778,
              "#fb9f3a"
             ],
             [
              0.8888888888888888,
              "#fdca26"
             ],
             [
              1,
              "#f0f921"
             ]
            ],
            "type": "heatmapgl"
           }
          ],
          "histogram": [
           {
            "marker": {
             "pattern": {
              "fillmode": "overlay",
              "size": 10,
              "solidity": 0.2
             }
            },
            "type": "histogram"
           }
          ],
          "histogram2d": [
           {
            "colorbar": {
             "outlinewidth": 0,
             "ticks": ""
            },
            "colorscale": [
             [
              0,
              "#0d0887"
             ],
             [
              0.1111111111111111,
              "#46039f"
             ],
             [
              0.2222222222222222,
              "#7201a8"
             ],
             [
              0.3333333333333333,
              "#9c179e"
             ],
             [
              0.4444444444444444,
              "#bd3786"
             ],
             [
              0.5555555555555556,
              "#d8576b"
             ],
             [
              0.6666666666666666,
              "#ed7953"
             ],
             [
              0.7777777777777778,
              "#fb9f3a"
             ],
             [
              0.8888888888888888,
              "#fdca26"
             ],
             [
              1,
              "#f0f921"
             ]
            ],
            "type": "histogram2d"
           }
          ],
          "histogram2dcontour": [
           {
            "colorbar": {
             "outlinewidth": 0,
             "ticks": ""
            },
            "colorscale": [
             [
              0,
              "#0d0887"
             ],
             [
              0.1111111111111111,
              "#46039f"
             ],
             [
              0.2222222222222222,
              "#7201a8"
             ],
             [
              0.3333333333333333,
              "#9c179e"
             ],
             [
              0.4444444444444444,
              "#bd3786"
             ],
             [
              0.5555555555555556,
              "#d8576b"
             ],
             [
              0.6666666666666666,
              "#ed7953"
             ],
             [
              0.7777777777777778,
              "#fb9f3a"
             ],
             [
              0.8888888888888888,
              "#fdca26"
             ],
             [
              1,
              "#f0f921"
             ]
            ],
            "type": "histogram2dcontour"
           }
          ],
          "mesh3d": [
           {
            "colorbar": {
             "outlinewidth": 0,
             "ticks": ""
            },
            "type": "mesh3d"
           }
          ],
          "parcoords": [
           {
            "line": {
             "colorbar": {
              "outlinewidth": 0,
              "ticks": ""
             }
            },
            "type": "parcoords"
           }
          ],
          "pie": [
           {
            "automargin": true,
            "type": "pie"
           }
          ],
          "scatter": [
           {
            "fillpattern": {
             "fillmode": "overlay",
             "size": 10,
             "solidity": 0.2
            },
            "type": "scatter"
           }
          ],
          "scatter3d": [
           {
            "line": {
             "colorbar": {
              "outlinewidth": 0,
              "ticks": ""
             }
            },
            "marker": {
             "colorbar": {
              "outlinewidth": 0,
              "ticks": ""
             }
            },
            "type": "scatter3d"
           }
          ],
          "scattercarpet": [
           {
            "marker": {
             "colorbar": {
              "outlinewidth": 0,
              "ticks": ""
             }
            },
            "type": "scattercarpet"
           }
          ],
          "scattergeo": [
           {
            "marker": {
             "colorbar": {
              "outlinewidth": 0,
              "ticks": ""
             }
            },
            "type": "scattergeo"
           }
          ],
          "scattergl": [
           {
            "marker": {
             "colorbar": {
              "outlinewidth": 0,
              "ticks": ""
             }
            },
            "type": "scattergl"
           }
          ],
          "scattermapbox": [
           {
            "marker": {
             "colorbar": {
              "outlinewidth": 0,
              "ticks": ""
             }
            },
            "type": "scattermapbox"
           }
          ],
          "scatterpolar": [
           {
            "marker": {
             "colorbar": {
              "outlinewidth": 0,
              "ticks": ""
             }
            },
            "type": "scatterpolar"
           }
          ],
          "scatterpolargl": [
           {
            "marker": {
             "colorbar": {
              "outlinewidth": 0,
              "ticks": ""
             }
            },
            "type": "scatterpolargl"
           }
          ],
          "scatterternary": [
           {
            "marker": {
             "colorbar": {
              "outlinewidth": 0,
              "ticks": ""
             }
            },
            "type": "scatterternary"
           }
          ],
          "surface": [
           {
            "colorbar": {
             "outlinewidth": 0,
             "ticks": ""
            },
            "colorscale": [
             [
              0,
              "#0d0887"
             ],
             [
              0.1111111111111111,
              "#46039f"
             ],
             [
              0.2222222222222222,
              "#7201a8"
             ],
             [
              0.3333333333333333,
              "#9c179e"
             ],
             [
              0.4444444444444444,
              "#bd3786"
             ],
             [
              0.5555555555555556,
              "#d8576b"
             ],
             [
              0.6666666666666666,
              "#ed7953"
             ],
             [
              0.7777777777777778,
              "#fb9f3a"
             ],
             [
              0.8888888888888888,
              "#fdca26"
             ],
             [
              1,
              "#f0f921"
             ]
            ],
            "type": "surface"
           }
          ],
          "table": [
           {
            "cells": {
             "fill": {
              "color": "#EBF0F8"
             },
             "line": {
              "color": "white"
             }
            },
            "header": {
             "fill": {
              "color": "#C8D4E3"
             },
             "line": {
              "color": "white"
             }
            },
            "type": "table"
           }
          ]
         },
         "layout": {
          "annotationdefaults": {
           "arrowcolor": "#2a3f5f",
           "arrowhead": 0,
           "arrowwidth": 1
          },
          "autotypenumbers": "strict",
          "coloraxis": {
           "colorbar": {
            "outlinewidth": 0,
            "ticks": ""
           }
          },
          "colorscale": {
           "diverging": [
            [
             0,
             "#8e0152"
            ],
            [
             0.1,
             "#c51b7d"
            ],
            [
             0.2,
             "#de77ae"
            ],
            [
             0.3,
             "#f1b6da"
            ],
            [
             0.4,
             "#fde0ef"
            ],
            [
             0.5,
             "#f7f7f7"
            ],
            [
             0.6,
             "#e6f5d0"
            ],
            [
             0.7,
             "#b8e186"
            ],
            [
             0.8,
             "#7fbc41"
            ],
            [
             0.9,
             "#4d9221"
            ],
            [
             1,
             "#276419"
            ]
           ],
           "sequential": [
            [
             0,
             "#0d0887"
            ],
            [
             0.1111111111111111,
             "#46039f"
            ],
            [
             0.2222222222222222,
             "#7201a8"
            ],
            [
             0.3333333333333333,
             "#9c179e"
            ],
            [
             0.4444444444444444,
             "#bd3786"
            ],
            [
             0.5555555555555556,
             "#d8576b"
            ],
            [
             0.6666666666666666,
             "#ed7953"
            ],
            [
             0.7777777777777778,
             "#fb9f3a"
            ],
            [
             0.8888888888888888,
             "#fdca26"
            ],
            [
             1,
             "#f0f921"
            ]
           ],
           "sequentialminus": [
            [
             0,
             "#0d0887"
            ],
            [
             0.1111111111111111,
             "#46039f"
            ],
            [
             0.2222222222222222,
             "#7201a8"
            ],
            [
             0.3333333333333333,
             "#9c179e"
            ],
            [
             0.4444444444444444,
             "#bd3786"
            ],
            [
             0.5555555555555556,
             "#d8576b"
            ],
            [
             0.6666666666666666,
             "#ed7953"
            ],
            [
             0.7777777777777778,
             "#fb9f3a"
            ],
            [
             0.8888888888888888,
             "#fdca26"
            ],
            [
             1,
             "#f0f921"
            ]
           ]
          },
          "colorway": [
           "#636efa",
           "#EF553B",
           "#00cc96",
           "#ab63fa",
           "#FFA15A",
           "#19d3f3",
           "#FF6692",
           "#B6E880",
           "#FF97FF",
           "#FECB52"
          ],
          "font": {
           "color": "#2a3f5f"
          },
          "geo": {
           "bgcolor": "white",
           "lakecolor": "white",
           "landcolor": "#E5ECF6",
           "showlakes": true,
           "showland": true,
           "subunitcolor": "white"
          },
          "hoverlabel": {
           "align": "left"
          },
          "hovermode": "closest",
          "mapbox": {
           "style": "light"
          },
          "paper_bgcolor": "white",
          "plot_bgcolor": "#E5ECF6",
          "polar": {
           "angularaxis": {
            "gridcolor": "white",
            "linecolor": "white",
            "ticks": ""
           },
           "bgcolor": "#E5ECF6",
           "radialaxis": {
            "gridcolor": "white",
            "linecolor": "white",
            "ticks": ""
           }
          },
          "scene": {
           "xaxis": {
            "backgroundcolor": "#E5ECF6",
            "gridcolor": "white",
            "gridwidth": 2,
            "linecolor": "white",
            "showbackground": true,
            "ticks": "",
            "zerolinecolor": "white"
           },
           "yaxis": {
            "backgroundcolor": "#E5ECF6",
            "gridcolor": "white",
            "gridwidth": 2,
            "linecolor": "white",
            "showbackground": true,
            "ticks": "",
            "zerolinecolor": "white"
           },
           "zaxis": {
            "backgroundcolor": "#E5ECF6",
            "gridcolor": "white",
            "gridwidth": 2,
            "linecolor": "white",
            "showbackground": true,
            "ticks": "",
            "zerolinecolor": "white"
           }
          },
          "shapedefaults": {
           "line": {
            "color": "#2a3f5f"
           }
          },
          "ternary": {
           "aaxis": {
            "gridcolor": "white",
            "linecolor": "white",
            "ticks": ""
           },
           "baxis": {
            "gridcolor": "white",
            "linecolor": "white",
            "ticks": ""
           },
           "bgcolor": "#E5ECF6",
           "caxis": {
            "gridcolor": "white",
            "linecolor": "white",
            "ticks": ""
           }
          },
          "title": {
           "x": 0.05
          },
          "xaxis": {
           "automargin": true,
           "gridcolor": "white",
           "linecolor": "white",
           "ticks": "",
           "title": {
            "standoff": 15
           },
           "zerolinecolor": "white",
           "zerolinewidth": 2
          },
          "yaxis": {
           "automargin": true,
           "gridcolor": "white",
           "linecolor": "white",
           "ticks": "",
           "title": {
            "standoff": 15
           },
           "zerolinecolor": "white",
           "zerolinewidth": 2
          }
         }
        },
        "title": {
         "text": "Average Sannon-Weiner Diversity Index by State (1980 - 2020)",
         "x": 0.5
        },
        "width": 800,
        "xaxis": {
         "anchor": "y",
         "domain": [
          0,
          1
         ],
         "title": {
          "text": "Average Diversity Index"
         }
        },
        "yaxis": {
         "anchor": "x",
         "domain": [
          0,
          1
         ],
         "title": {
          "text": "State"
         }
        }
       }
      }
     },
     "metadata": {},
     "output_type": "display_data"
    }
   ],
   "source": [
    "fig = px.bar(\n",
    "    state_average_div,\n",
    "    x='Shannon_Index',\n",
    "    y='State', \n",
    "    orientation='h',\n",
    "    title='Average Sannon-Weiner Diversity Index by State (1980 - 2020)',\n",
    "    labels={'Shannon_Index': 'Average Diversity Index', 'State':'State'}\n",
    ")\n",
    "\n",
    "fig.update_layout(\n",
    "    height=400,\n",
    "    width=800,\n",
    "    title_x=0.5,\n",
    ")\n",
    "\n",
    "fig.show()"
   ]
  },
  {
   "cell_type": "markdown",
   "metadata": {},
   "source": [
    "# Descriptive Statistics on diversity indices"
   ]
  },
  {
   "cell_type": "code",
   "execution_count": 99,
   "metadata": {},
   "outputs": [
    {
     "data": {
      "text/html": [
       "<div>\n",
       "<style scoped>\n",
       "    .dataframe tbody tr th:only-of-type {\n",
       "        vertical-align: middle;\n",
       "    }\n",
       "\n",
       "    .dataframe tbody tr th {\n",
       "        vertical-align: top;\n",
       "    }\n",
       "\n",
       "    .dataframe thead th {\n",
       "        text-align: right;\n",
       "    }\n",
       "</style>\n",
       "<table border=\"1\" class=\"dataframe\">\n",
       "  <thead>\n",
       "    <tr style=\"text-align: right;\">\n",
       "      <th></th>\n",
       "      <th>State</th>\n",
       "      <th>mean</th>\n",
       "      <th>std</th>\n",
       "      <th>min</th>\n",
       "      <th>max</th>\n",
       "    </tr>\n",
       "  </thead>\n",
       "  <tbody>\n",
       "    <tr>\n",
       "      <th>0</th>\n",
       "      <td>Johor</td>\n",
       "      <td>0.896518</td>\n",
       "      <td>0.006901</td>\n",
       "      <td>0.877584</td>\n",
       "      <td>0.905348</td>\n",
       "    </tr>\n",
       "    <tr>\n",
       "      <th>1</th>\n",
       "      <td>Kedah</td>\n",
       "      <td>0.741069</td>\n",
       "      <td>0.046130</td>\n",
       "      <td>0.665196</td>\n",
       "      <td>0.819995</td>\n",
       "    </tr>\n",
       "    <tr>\n",
       "      <th>2</th>\n",
       "      <td>Kelantan</td>\n",
       "      <td>0.241210</td>\n",
       "      <td>0.036077</td>\n",
       "      <td>0.174490</td>\n",
       "      <td>0.308669</td>\n",
       "    </tr>\n",
       "    <tr>\n",
       "      <th>3</th>\n",
       "      <td>Kuala Lumpur</td>\n",
       "      <td>1.018945</td>\n",
       "      <td>0.014202</td>\n",
       "      <td>0.982783</td>\n",
       "      <td>1.033360</td>\n",
       "    </tr>\n",
       "    <tr>\n",
       "      <th>4</th>\n",
       "      <td>Melaka</td>\n",
       "      <td>0.863835</td>\n",
       "      <td>0.046529</td>\n",
       "      <td>0.763479</td>\n",
       "      <td>0.933982</td>\n",
       "    </tr>\n",
       "    <tr>\n",
       "      <th>5</th>\n",
       "      <td>Negeri Sembilan</td>\n",
       "      <td>0.985428</td>\n",
       "      <td>0.037053</td>\n",
       "      <td>0.926141</td>\n",
       "      <td>1.043438</td>\n",
       "    </tr>\n",
       "    <tr>\n",
       "      <th>6</th>\n",
       "      <td>Pahang</td>\n",
       "      <td>0.701257</td>\n",
       "      <td>0.060855</td>\n",
       "      <td>0.614624</td>\n",
       "      <td>0.821590</td>\n",
       "    </tr>\n",
       "    <tr>\n",
       "      <th>7</th>\n",
       "      <td>Perak</td>\n",
       "      <td>0.983195</td>\n",
       "      <td>0.025842</td>\n",
       "      <td>0.929093</td>\n",
       "      <td>1.016417</td>\n",
       "    </tr>\n",
       "    <tr>\n",
       "      <th>8</th>\n",
       "      <td>Perlis</td>\n",
       "      <td>0.538680</td>\n",
       "      <td>0.081475</td>\n",
       "      <td>0.432551</td>\n",
       "      <td>0.688369</td>\n",
       "    </tr>\n",
       "    <tr>\n",
       "      <th>9</th>\n",
       "      <td>Pulau Pinang</td>\n",
       "      <td>0.982331</td>\n",
       "      <td>0.006222</td>\n",
       "      <td>0.970623</td>\n",
       "      <td>0.996604</td>\n",
       "    </tr>\n",
       "    <tr>\n",
       "      <th>10</th>\n",
       "      <td>Sabah</td>\n",
       "      <td>0.706136</td>\n",
       "      <td>0.144344</td>\n",
       "      <td>0.408702</td>\n",
       "      <td>0.944295</td>\n",
       "    </tr>\n",
       "    <tr>\n",
       "      <th>11</th>\n",
       "      <td>Sarawak</td>\n",
       "      <td>0.648629</td>\n",
       "      <td>0.035625</td>\n",
       "      <td>0.581942</td>\n",
       "      <td>0.679755</td>\n",
       "    </tr>\n",
       "    <tr>\n",
       "      <th>12</th>\n",
       "      <td>Selangor</td>\n",
       "      <td>1.018714</td>\n",
       "      <td>0.036094</td>\n",
       "      <td>0.943546</td>\n",
       "      <td>1.063407</td>\n",
       "    </tr>\n",
       "    <tr>\n",
       "      <th>13</th>\n",
       "      <td>Terengganu</td>\n",
       "      <td>0.185243</td>\n",
       "      <td>0.041397</td>\n",
       "      <td>0.127953</td>\n",
       "      <td>0.251278</td>\n",
       "    </tr>\n",
       "  </tbody>\n",
       "</table>\n",
       "</div>"
      ],
      "text/plain": [
       "              State      mean       std       min       max\n",
       "0             Johor  0.896518  0.006901  0.877584  0.905348\n",
       "1             Kedah  0.741069  0.046130  0.665196  0.819995\n",
       "2          Kelantan  0.241210  0.036077  0.174490  0.308669\n",
       "3      Kuala Lumpur  1.018945  0.014202  0.982783  1.033360\n",
       "4            Melaka  0.863835  0.046529  0.763479  0.933982\n",
       "5   Negeri Sembilan  0.985428  0.037053  0.926141  1.043438\n",
       "6            Pahang  0.701257  0.060855  0.614624  0.821590\n",
       "7             Perak  0.983195  0.025842  0.929093  1.016417\n",
       "8            Perlis  0.538680  0.081475  0.432551  0.688369\n",
       "9      Pulau Pinang  0.982331  0.006222  0.970623  0.996604\n",
       "10            Sabah  0.706136  0.144344  0.408702  0.944295\n",
       "11          Sarawak  0.648629  0.035625  0.581942  0.679755\n",
       "12         Selangor  1.018714  0.036094  0.943546  1.063407\n",
       "13       Terengganu  0.185243  0.041397  0.127953  0.251278"
      ]
     },
     "execution_count": 99,
     "metadata": {},
     "output_type": "execute_result"
    }
   ],
   "source": [
    "#calculate descriptive statistics for each state\n",
    "state_div_stats = diversity_df.groupby('State')['Shannon_Index'].agg(['mean', 'std','min', 'max']).reset_index()\n",
    "\n",
    "state_div_stats"
   ]
  },
  {
   "cell_type": "code",
   "execution_count": 97,
   "metadata": {},
   "outputs": [
    {
     "ename": "NameError",
     "evalue": "name 'state_diversity_stats' is not defined",
     "output_type": "error",
     "traceback": [
      "\u001b[1;31m---------------------------------------------------------------------------\u001b[0m",
      "\u001b[1;31mNameError\u001b[0m                                 Traceback (most recent call last)",
      "Cell \u001b[1;32mIn[97], line 8\u001b[0m\n\u001b[0;32m      5\u001b[0m plt\u001b[38;5;241m.\u001b[39mfigure(figsize\u001b[38;5;241m=\u001b[39m(\u001b[38;5;241m10\u001b[39m, \u001b[38;5;241m6\u001b[39m))\n\u001b[0;32m      7\u001b[0m \u001b[38;5;66;03m# Barplot for mean diversity index\u001b[39;00m\n\u001b[1;32m----> 8\u001b[0m sns\u001b[38;5;241m.\u001b[39mbarplot(x\u001b[38;5;241m=\u001b[39m\u001b[38;5;124m'\u001b[39m\u001b[38;5;124mState\u001b[39m\u001b[38;5;124m'\u001b[39m, y\u001b[38;5;241m=\u001b[39m\u001b[38;5;124m'\u001b[39m\u001b[38;5;124mmean\u001b[39m\u001b[38;5;124m'\u001b[39m, data\u001b[38;5;241m=\u001b[39mstate_diversity_stats, palette\u001b[38;5;241m=\u001b[39m\u001b[38;5;124m'\u001b[39m\u001b[38;5;124mviridis\u001b[39m\u001b[38;5;124m'\u001b[39m)\n\u001b[0;32m     10\u001b[0m \u001b[38;5;66;03m# Add title and labels\u001b[39;00m\n\u001b[0;32m     11\u001b[0m plt\u001b[38;5;241m.\u001b[39mtitle(\u001b[38;5;124m'\u001b[39m\u001b[38;5;124mMean Shannon Diversity Index by State\u001b[39m\u001b[38;5;124m'\u001b[39m)\n",
      "\u001b[1;31mNameError\u001b[0m: name 'state_diversity_stats' is not defined"
     ]
    },
    {
     "data": {
      "text/plain": [
       "<Figure size 1000x600 with 0 Axes>"
      ]
     },
     "metadata": {},
     "output_type": "display_data"
    }
   ],
   "source": [
    "import matplotlib.pyplot as plt\n",
    "import seaborn as sns\n",
    "\n",
    "# Set plot size\n",
    "plt.figure(figsize=(10, 6))\n",
    "\n",
    "# Barplot for mean diversity index\n",
    "sns.barplot(x='State', y='mean', data=state_diversity_stats, palette='viridis')\n",
    "\n",
    "# Add title and labels\n",
    "plt.title('Mean Shannon Diversity Index by State')\n",
    "plt.ylabel('Mean Shannon Index')\n",
    "plt.xticks(rotation=45)\n",
    "plt.show()\n"
   ]
  },
  {
   "cell_type": "code",
   "execution_count": null,
   "metadata": {},
   "outputs": [],
   "source": []
  }
 ],
 "metadata": {
  "kernelspec": {
   "display_name": "base",
   "language": "python",
   "name": "python3"
  },
  "language_info": {
   "codemirror_mode": {
    "name": "ipython",
    "version": 3
   },
   "file_extension": ".py",
   "mimetype": "text/x-python",
   "name": "python",
   "nbconvert_exporter": "python",
   "pygments_lexer": "ipython3",
   "version": "3.12.3"
  }
 },
 "nbformat": 4,
 "nbformat_minor": 2
}
