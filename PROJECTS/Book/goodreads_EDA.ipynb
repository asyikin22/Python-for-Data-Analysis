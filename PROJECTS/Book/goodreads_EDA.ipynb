{
 "cells": [
  {
   "cell_type": "code",
   "execution_count": 25,
   "metadata": {},
   "outputs": [
    {
     "data": {
      "text/html": [
       "<div>\n",
       "<style scoped>\n",
       "    .dataframe tbody tr th:only-of-type {\n",
       "        vertical-align: middle;\n",
       "    }\n",
       "\n",
       "    .dataframe tbody tr th {\n",
       "        vertical-align: top;\n",
       "    }\n",
       "\n",
       "    .dataframe thead th {\n",
       "        text-align: right;\n",
       "    }\n",
       "</style>\n",
       "<table border=\"1\" class=\"dataframe\">\n",
       "  <thead>\n",
       "    <tr style=\"text-align: right;\">\n",
       "      <th></th>\n",
       "      <th>ID</th>\n",
       "      <th>Title</th>\n",
       "      <th>Author</th>\n",
       "      <th>Fiction</th>\n",
       "      <th>Genre</th>\n",
       "      <th>Gender</th>\n",
       "      <th>Origin</th>\n",
       "      <th>Language</th>\n",
       "      <th>Pages</th>\n",
       "      <th>Year Published</th>\n",
       "      <th>Centuries</th>\n",
       "      <th>Nobel Prize</th>\n",
       "      <th>Avg_rating</th>\n",
       "      <th>Num_rating</th>\n",
       "      <th>Num_reviews</th>\n",
       "      <th>URL</th>\n",
       "    </tr>\n",
       "  </thead>\n",
       "  <tbody>\n",
       "    <tr>\n",
       "      <th>0</th>\n",
       "      <td>1</td>\n",
       "      <td>1984</td>\n",
       "      <td>George Orwell</td>\n",
       "      <td>Fiction</td>\n",
       "      <td>Dystopian</td>\n",
       "      <td>male</td>\n",
       "      <td>UK</td>\n",
       "      <td>English</td>\n",
       "      <td>368</td>\n",
       "      <td>1949</td>\n",
       "      <td>20th</td>\n",
       "      <td>NaN</td>\n",
       "      <td>4.19</td>\n",
       "      <td>4795158</td>\n",
       "      <td>124200</td>\n",
       "      <td>https://www.goodreads.com/book/show/61439040-1...</td>\n",
       "    </tr>\n",
       "    <tr>\n",
       "      <th>1</th>\n",
       "      <td>2</td>\n",
       "      <td>100 Headlines That Changed the World</td>\n",
       "      <td>James Maloney</td>\n",
       "      <td>Non-fiction</td>\n",
       "      <td>History</td>\n",
       "      <td>male</td>\n",
       "      <td>UK</td>\n",
       "      <td>English</td>\n",
       "      <td>309</td>\n",
       "      <td>2012</td>\n",
       "      <td>21st</td>\n",
       "      <td>NaN</td>\n",
       "      <td>3.57</td>\n",
       "      <td>141</td>\n",
       "      <td>23</td>\n",
       "      <td>https://www.goodreads.com/book/show/14567468-1...</td>\n",
       "    </tr>\n",
       "    <tr>\n",
       "      <th>2</th>\n",
       "      <td>3</td>\n",
       "      <td>20 Principles</td>\n",
       "      <td>Hassan Al Banna</td>\n",
       "      <td>Non-fiction</td>\n",
       "      <td>Faith</td>\n",
       "      <td>male</td>\n",
       "      <td>Egypt</td>\n",
       "      <td>Arabic</td>\n",
       "      <td>200</td>\n",
       "      <td>1940</td>\n",
       "      <td>20th</td>\n",
       "      <td>NaN</td>\n",
       "      <td>4.35</td>\n",
       "      <td>37</td>\n",
       "      <td>3</td>\n",
       "      <td>https://www.goodreads.com/book/show/8594271-us...</td>\n",
       "    </tr>\n",
       "    <tr>\n",
       "      <th>3</th>\n",
       "      <td>4</td>\n",
       "      <td>30-Second Psychology</td>\n",
       "      <td>Christian Jarrett</td>\n",
       "      <td>Non-fiction</td>\n",
       "      <td>Psychology</td>\n",
       "      <td>male</td>\n",
       "      <td>UK</td>\n",
       "      <td>English</td>\n",
       "      <td>160</td>\n",
       "      <td>2011</td>\n",
       "      <td>21st</td>\n",
       "      <td>NaN</td>\n",
       "      <td>3.75</td>\n",
       "      <td>1032</td>\n",
       "      <td>96</td>\n",
       "      <td>https://www.goodreads.com/book/show/11931275-3...</td>\n",
       "    </tr>\n",
       "    <tr>\n",
       "      <th>4</th>\n",
       "      <td>5</td>\n",
       "      <td>30-Second Religion</td>\n",
       "      <td>Russell Re Manning</td>\n",
       "      <td>Non-fiction</td>\n",
       "      <td>Faith</td>\n",
       "      <td>male</td>\n",
       "      <td>UK</td>\n",
       "      <td>English</td>\n",
       "      <td>160</td>\n",
       "      <td>2011</td>\n",
       "      <td>21st</td>\n",
       "      <td>NaN</td>\n",
       "      <td>3.58</td>\n",
       "      <td>296</td>\n",
       "      <td>38</td>\n",
       "      <td>https://www.goodreads.com/book/show/13124582-3...</td>\n",
       "    </tr>\n",
       "  </tbody>\n",
       "</table>\n",
       "</div>"
      ],
      "text/plain": [
       "   ID                                 Title              Author      Fiction  \\\n",
       "0   1                                  1984       George Orwell      Fiction   \n",
       "1   2  100 Headlines That Changed the World       James Maloney  Non-fiction   \n",
       "2   3                         20 Principles     Hassan Al Banna  Non-fiction   \n",
       "3   4                 30-Second Psychology    Christian Jarrett  Non-fiction   \n",
       "4   5                    30-Second Religion  Russell Re Manning  Non-fiction   \n",
       "\n",
       "        Genre Gender Origin Language  Pages  Year Published Centuries  \\\n",
       "0   Dystopian   male     UK  English    368            1949      20th   \n",
       "1     History   male     UK  English    309            2012      21st   \n",
       "2       Faith   male  Egypt   Arabic    200            1940      20th   \n",
       "3  Psychology   male     UK  English    160            2011      21st   \n",
       "4       Faith   male     UK  English    160            2011      21st   \n",
       "\n",
       "  Nobel Prize  Avg_rating Num_rating Num_reviews  \\\n",
       "0         NaN        4.19    4795158      124200   \n",
       "1         NaN        3.57        141          23   \n",
       "2         NaN        4.35         37           3   \n",
       "3         NaN        3.75       1032          96   \n",
       "4         NaN        3.58       296           38   \n",
       "\n",
       "                                                URL   \n",
       "0  https://www.goodreads.com/book/show/61439040-1...  \n",
       "1  https://www.goodreads.com/book/show/14567468-1...  \n",
       "2  https://www.goodreads.com/book/show/8594271-us...  \n",
       "3  https://www.goodreads.com/book/show/11931275-3...  \n",
       "4  https://www.goodreads.com/book/show/13124582-3...  "
      ]
     },
     "execution_count": 25,
     "metadata": {},
     "output_type": "execute_result"
    }
   ],
   "source": [
    "import pandas as pd\n",
    "import matplotlib.pyplot as plt\n",
    "import seaborn as sns\n",
    "import plotly.express as px\n",
    "\n",
    "books = pd.read_csv(r'./Goodreads.csv',  encoding='ISO-8859-1')\n",
    "books.head()"
   ]
  },
  {
   "cell_type": "code",
   "execution_count": 26,
   "metadata": {},
   "outputs": [
    {
     "data": {
      "text/plain": [
       "Index(['ID', 'Title', 'Author', 'Fiction', 'Genre', 'Gender', 'Origin',\n",
       "       'Language', 'Pages', 'Year Published', 'Centuries', 'Nobel Prize',\n",
       "       'Avg_rating', 'Num_rating', 'Num_reviews', 'URL '],\n",
       "      dtype='object')"
      ]
     },
     "execution_count": 26,
     "metadata": {},
     "output_type": "execute_result"
    }
   ],
   "source": [
    "books.columns"
   ]
  },
  {
   "cell_type": "code",
   "execution_count": 27,
   "metadata": {},
   "outputs": [],
   "source": [
    "# # treemap\n",
    "# fig = px.treemap(books, path=['Genre', 'Title', 'Author'], values='ID', title='Books by Genre and Author')\n",
    "\n",
    "# #Update layout\n",
    "# fig.update_layout(\n",
    "#     title_x=0.5,\n",
    "#     title_font_size=30,\n",
    "#     height=800,\n",
    "#     width=1200, \n",
    "#     margin=dict(\n",
    "#         l=20, r=20, t=70, b=20\n",
    "#     )\n",
    "# )\n",
    "\n",
    "# fig.show()"
   ]
  },
  {
   "cell_type": "code",
   "execution_count": 34,
   "metadata": {},
   "outputs": [
    {
     "data": {
      "application/vnd.plotly.v1+json": {
       "config": {
        "plotlyServerURL": "https://plot.ly"
       },
       "data": [
        {
         "customdata": [
          [
           "1984",
           "George Orwell"
          ],
          [
           "Animal Farm",
           "George Orwell"
          ]
         ],
         "hovertemplate": "Genre=Dystopian<br>Year Published=%{x}<br>Origin=%{y}<br>Pages=%{marker.size}<br>Title=%{customdata[0]}<br>Author=%{customdata[1]}<extra></extra>",
         "legendgroup": "Dystopian",
         "marker": {
          "color": "#636efa",
          "size": [
           368,
           122
          ],
          "sizemode": "area",
          "sizeref": 0.9366666666666666,
          "symbol": "circle"
         },
         "mode": "markers",
         "name": "Dystopian",
         "orientation": "h",
         "showlegend": true,
         "type": "scatter",
         "x": [
          1949,
          1945
         ],
         "xaxis": "x",
         "y": [
          "UK",
          "UK"
         ],
         "yaxis": "y"
        },
        {
         "customdata": [
          [
           "100 Headlines That Changed the World",
           "James Maloney"
          ],
          [
           "A Brief History of How the Industrial Revolution Changed the World",
           "Thomas Crump"
          ],
          [
           "Evolution the Human Story",
           "Alice Roberts"
          ],
          [
           "Free Will",
           "Sam Harris"
          ],
          [
           "I Used to Know That: World History",
           "Emma Marriott"
          ],
          [
           "Islam dalam Sejarah dan Kebudayaan Melayu",
           "Syed Muhammad Naquib al-Attas"
          ],
          [
           "The Ascent of Man",
           "Jacob Bronowski"
          ]
         ],
         "hovertemplate": "Genre=History<br>Year Published=%{x}<br>Origin=%{y}<br>Pages=%{marker.size}<br>Title=%{customdata[0]}<br>Author=%{customdata[1]}<extra></extra>",
         "legendgroup": "History",
         "marker": {
          "color": "#EF553B",
          "size": [
           309,
           400,
           256,
           96,
           176,
           76,
           448
          ],
          "sizemode": "area",
          "sizeref": 0.9366666666666666,
          "symbol": "circle"
         },
         "mode": "markers",
         "name": "History",
         "orientation": "h",
         "showlegend": true,
         "type": "scatter",
         "x": [
          2012,
          2010,
          2012,
          2012,
          2010,
          1972,
          1973
         ],
         "xaxis": "x",
         "y": [
          "UK",
          "UK",
          "UK",
          "USA",
          "UK",
          "Malaysia",
          "UK"
         ],
         "yaxis": "y"
        },
        {
         "customdata": [
          [
           "20 Principles",
           "Hassan Al Banna"
          ],
          [
           "30-Second Religion",
           "Russell Re Manning"
          ],
          [
           "ANTITHESIS",
           "Benz Ali"
          ],
          [
           "F**K It Therapy",
           "John C. Parkin"
          ],
          [
           "Hadith: A Re-evaluation",
           "Kassim Ahmad"
          ],
          [
           "Infidel",
           "Ayaan Hirsi Ali"
          ],
          [
           "Mengemudi Bahtera Perubahan Minda",
           "Mohd Asri Zainul Abidin"
          ],
          [
           "No god but God",
           "Reza Aslan"
          ],
          [
           "Religion Without God",
           "Ronald Dworkin"
          ],
          [
           "The Atheist's Bible",
           "Joan Konner"
          ],
          [
           "Theology of Tariq Ramadan",
           "Gregory Baum"
          ],
          [
           "Travelog Minda Tajdid",
           "Mohd Asri Zainul Abidin"
          ],
          [
           "What I Believe",
           "Tariq Ramadan"
          ],
          [
           "Why I am not a Christian",
           "Bertrand Russell"
          ]
         ],
         "hovertemplate": "Genre=Faith<br>Year Published=%{x}<br>Origin=%{y}<br>Pages=%{marker.size}<br>Title=%{customdata[0]}<br>Author=%{customdata[1]}<extra></extra>",
         "legendgroup": "Faith",
         "marker": {
          "color": "#00cc96",
          "size": [
           200,
           160,
           253,
           348,
           166,
           353,
           400,
           310,
           192,
           208,
           178,
           224,
           148,
           31
          ],
          "sizemode": "area",
          "sizeref": 0.9366666666666666,
          "symbol": "circle"
         },
         "mode": "markers",
         "name": "Faith",
         "orientation": "h",
         "showlegend": true,
         "type": "scatter",
         "x": [
          1940,
          2011,
          2014,
          2012,
          1986,
          2006,
          2008,
          2005,
          2013,
          2007,
          2009,
          2011,
          2009,
          1957
         ],
         "xaxis": "x",
         "y": [
          "Egypt",
          "UK",
          "Malaysia",
          "UK",
          "Malaysia",
          "Somalia",
          "Malaysia",
          "Iran",
          "USA",
          "USA",
          "Germany",
          "Malaysia",
          "Switzerland",
          "UK"
         ],
         "yaxis": "y"
        },
        {
         "customdata": [
          [
           "30-Second Psychology ",
           "Christian Jarrett"
          ],
          [
           "Adult Children of Emotionally Immature Parents",
           "Lindsay C. Gibson"
          ],
          [
           "Civilization and Its Discontents",
           "Sigmund Freud"
          ],
          [
           "Freud for Beginners",
           "Richard Appignanesi"
          ],
          [
           "Freud Verbatim",
           "Sigmund Freud"
          ],
          [
           "Freudian Slips",
           "Joel Levy"
          ],
          [
           "Life Lessons From Freud",
           "Brett Kahr"
          ],
          [
           "Quiet: The Power of Introverts in a World That Can't Stop Talking",
           "Susan Cain"
          ],
          [
           "The Body Keeps the Score ",
           "Bessel van der Kolk"
          ],
          [
           "The Courage to Be Disliked ",
           "Ichiro Kishimi"
          ],
          [
           "The Examined Life",
           "Stephen Grosz"
          ],
          [
           "The Moral Molecule",
           "Paul J. Zak"
          ]
         ],
         "hovertemplate": "Genre=Psychology<br>Year Published=%{x}<br>Origin=%{y}<br>Pages=%{marker.size}<br>Title=%{customdata[0]}<br>Author=%{customdata[1]}<extra></extra>",
         "legendgroup": "Psychology",
         "marker": {
          "color": "#ab63fa",
          "size": [
           160,
           216,
           127,
           176,
           176,
           224,
           118,
           333,
           464,
           288,
           240,
           256
          ],
          "sizemode": "area",
          "sizeref": 0.9366666666666666,
          "symbol": "circle"
         },
         "mode": "markers",
         "name": "Psychology",
         "orientation": "h",
         "showlegend": true,
         "type": "scatter",
         "x": [
          2011,
          2015,
          1930,
          1979,
          2014,
          2013,
          2013,
          2012,
          2014,
          2013,
          2012,
          2012
         ],
         "xaxis": "x",
         "y": [
          "UK",
          "USA",
          "Austria",
          "Canada",
          "Austria",
          "UK",
          "UK",
          "USA",
          "Netherlands",
          "Japan",
          "USA",
          "USA"
         ],
         "yaxis": "y"
        },
        {
         "customdata": [
          [
           "50 Political Ideas You Really Need to Know",
           "Ben Dupre"
          ]
         ],
         "hovertemplate": "Genre=Politics<br>Year Published=%{x}<br>Origin=%{y}<br>Pages=%{marker.size}<br>Title=%{customdata[0]}<br>Author=%{customdata[1]}<extra></extra>",
         "legendgroup": "Politics",
         "marker": {
          "color": "#FFA15A",
          "size": [
           208
          ],
          "sizemode": "area",
          "sizeref": 0.9366666666666666,
          "symbol": "circle"
         },
         "mode": "markers",
         "name": "Politics",
         "orientation": "h",
         "showlegend": true,
         "type": "scatter",
         "x": [
          2007
         ],
         "xaxis": "x",
         "y": [
          "UK"
         ],
         "yaxis": "y"
        },
        {
         "customdata": [
          [
           "A Brief Guide to Charles Darwin, His Life and Times",
           "Cyril Aydon"
          ],
          [
           "Before I Die",
           "Candy Chang"
          ],
          [
           "Latin America Diaries",
           "Ernesto Che Guevara"
          ],
          [
           "Love Without Limits",
           "Nick Vujicic"
          ],
          [
           "Sigmund Freud: His Life in Pictures and Words",
           "Ernst Freud"
          ]
         ],
         "hovertemplate": "Genre=Biography<br>Year Published=%{x}<br>Origin=%{y}<br>Pages=%{marker.size}<br>Title=%{customdata[0]}<br>Author=%{customdata[1]}<extra></extra>",
         "legendgroup": "Biography",
         "marker": {
          "color": "#19d3f3",
          "size": [
           352,
           272,
           226,
           256,
           350
          ],
          "sizemode": "area",
          "sizeref": 0.9366666666666666,
          "symbol": "circle"
         },
         "mode": "markers",
         "name": "Biography",
         "orientation": "h",
         "showlegend": true,
         "type": "scatter",
         "x": [
          2007,
          2013,
          2000,
          2014,
          1985
         ],
         "xaxis": "x",
         "y": [
          "UK",
          "USA",
          "Argentina",
          "Australia",
          "Austria"
         ],
         "yaxis": "y"
        },
        {
         "customdata": [
          [
           "A Brief History of the Universe",
           "J.P.  McEvoy"
          ],
          [
           "A Tear at the Edge of Creation",
           "Marcelo Gleiser"
          ],
          [
           "A Universe from Nothing",
           "Lawrence M. Krauss"
          ],
          [
           "Conversations on Consciousness",
           "Susan Blackmore"
          ],
          [
           "God Is Not Great",
           "Christopher Hitchens"
          ],
          [
           "Supercooperators",
           "M.A. Nowak"
          ],
          [
           "The Demon-Haunted World: Science as a Candle in the Dark",
           "Carl Sagan"
          ],
          [
           "The God Delusion",
           "Richard Dawkins"
          ],
          [
           "The Principles of Evolution.",
           "Joseph McCabe"
          ],
          [
           "The Science of Sin: The Psychology of the Seven Deadlies ",
           "Simon M. Laham"
          ],
          [
           "We Are All Stardust",
           "Stefan Klein"
          ],
          [
           "Why Evolution Is True",
           "Jerry A. Coyne"
          ]
         ],
         "hovertemplate": "Genre=Science<br>Year Published=%{x}<br>Origin=%{y}<br>Pages=%{marker.size}<br>Title=%{customdata[0]}<br>Author=%{customdata[1]}<extra></extra>",
         "legendgroup": "Science",
         "marker": {
          "color": "#FF6692",
          "size": [
           317,
           304,
           204,
           274,
           307,
           288,
           459,
           374,
           264,
           224,
           288,
           282
          ],
          "sizemode": "area",
          "sizeref": 0.9366666666666666,
          "symbol": "circle"
         },
         "mode": "markers",
         "name": "Science",
         "orientation": "h",
         "showlegend": true,
         "type": "scatter",
         "x": [
          2009,
          2010,
          2012,
          2005,
          2007,
          2011,
          1995,
          2006,
          1914,
          2012,
          2010,
          2008
         ],
         "xaxis": "x",
         "y": [
          "USA",
          "Brazil",
          "USA",
          "UK",
          "UK",
          "Austria",
          "USA",
          "UK",
          "UK",
          "Australia",
          "German",
          "USA"
         ],
         "yaxis": "y"
        },
        {
         "customdata": [
          [
           "A Doctor in the House",
           "Mahathir Mohamad"
          ],
          [
           "Educated",
           "Tara Westover"
          ],
          [
           "I Know Why the Caged Bird Sings",
           "Maya Angelou"
          ],
          [
           "Insatiable",
           "Asa Akira"
          ],
          [
           "Into the Wild",
           "Jon Krakauer"
          ],
          [
           "Man's Search for Meaning",
           "Viktor E. Frankl"
          ],
          [
           "My Brief History",
           "Stephen Hawking"
          ],
          [
           "Night ",
           "Elie Wiesel"
          ],
          [
           "Remembering Che: My Life with Che Guevara",
           "Aleida March"
          ],
          [
           "Shy: A Memoir",
           "Sian Prior"
          ],
          [
           "The Diary of a Young Girl",
           "Anne Frank"
          ],
          [
           "The Woman in Me",
           "Britney Spears"
          ]
         ],
         "hovertemplate": "Genre=Autobiography<br>Year Published=%{x}<br>Origin=%{y}<br>Pages=%{marker.size}<br>Title=%{customdata[0]}<br>Author=%{customdata[1]}<extra></extra>",
         "legendgroup": "Autobiography",
         "marker": {
          "color": "#B6E880",
          "size": [
           843,
           352,
           289,
           256,
           203,
           165,
           126,
           120,
           190,
           252,
           283,
           288
          ],
          "sizemode": "area",
          "sizeref": 0.9366666666666666,
          "symbol": "circle"
         },
         "mode": "markers",
         "name": "Autobiography",
         "orientation": "h",
         "showlegend": true,
         "type": "scatter",
         "x": [
          2011,
          2018,
          1969,
          2014,
          1996,
          1946,
          2013,
          1956,
          2008,
          2014,
          1947,
          2023
         ],
         "xaxis": "x",
         "y": [
          "Malaysia",
          "USA",
          "USA",
          "USA",
          "USA",
          "Austria",
          "UK",
          "Romania",
          "Cuba",
          "Australia",
          "Germany",
          "USA"
         ],
         "yaxis": "y"
        },
        {
         "customdata": [
          [
           "Agnosticism: A Very Short Introduction",
           "Robin Le Poidevin"
          ],
          [
           "Humans of New York: Stories",
           "Brandon Stanton"
          ],
          [
           "In the Shadow of Mountains",
           "Steve McCurry"
          ]
         ],
         "hovertemplate": "Genre=Photography<br>Year Published=%{x}<br>Origin=%{y}<br>Pages=%{marker.size}<br>Title=%{customdata[0]}<br>Author=%{customdata[1]}<extra></extra>",
         "legendgroup": "Photography",
         "marker": {
          "color": "#FF97FF",
          "size": [
           144,
           428,
           152
          ],
          "sizemode": "area",
          "sizeref": 0.9366666666666666,
          "symbol": "circle"
         },
         "mode": "markers",
         "name": "Photography",
         "orientation": "h",
         "showlegend": true,
         "type": "scatter",
         "x": [
          2010,
          2015,
          2007
         ],
         "xaxis": "x",
         "y": [
          "UK",
          "USA",
          "USA"
         ],
         "yaxis": "y"
        },
        {
         "customdata": [
          [
           "All Quiet on the Western Front",
           "Erich Maria Remarque"
          ]
         ],
         "hovertemplate": "Genre=War<br>Year Published=%{x}<br>Origin=%{y}<br>Pages=%{marker.size}<br>Title=%{customdata[0]}<br>Author=%{customdata[1]}<extra></extra>",
         "legendgroup": "War",
         "marker": {
          "color": "#FECB52",
          "size": [
           300
          ],
          "sizemode": "area",
          "sizeref": 0.9366666666666666,
          "symbol": "circle"
         },
         "mode": "markers",
         "name": "War",
         "orientation": "h",
         "showlegend": true,
         "type": "scatter",
         "x": [
          1928
         ],
         "xaxis": "x",
         "y": [
          "Germany"
         ],
         "yaxis": "y"
        },
        {
         "customdata": [
          [
           "Candide",
           "Voltaire"
          ]
         ],
         "hovertemplate": "Genre=Satire<br>Year Published=%{x}<br>Origin=%{y}<br>Pages=%{marker.size}<br>Title=%{customdata[0]}<br>Author=%{customdata[1]}<extra></extra>",
         "legendgroup": "Satire",
         "marker": {
          "color": "#636efa",
          "size": [
           129
          ],
          "sizemode": "area",
          "sizeref": 0.9366666666666666,
          "symbol": "circle"
         },
         "mode": "markers",
         "name": "Satire",
         "orientation": "h",
         "showlegend": true,
         "type": "scatter",
         "x": [
          1759
         ],
         "xaxis": "x",
         "y": [
          "France"
         ],
         "yaxis": "y"
        },
        {
         "customdata": [
          [
           "Civilization",
           "Clive  Bell"
          ],
          [
           "Event",
           "Slavoj Zizek"
          ],
          [
           "If You Can Read This",
           "Jack Bowen"
          ],
          [
           "Mencari Jalan Pulang",
           "Kassim Ahmad"
          ],
          [
           "On Beauty ",
           "Susan  Johnson"
          ],
          [
           "On Certainty",
           "Ludwig Wittgenstein"
          ],
          [
           "On Liberty",
           "John Stuart Mill"
          ],
          [
           "Philosophy 101",
           "Paul Kleinman"
          ],
          [
           "The Big Questions",
           "Steven E. Landsburg"
          ],
          [
           "The Stranger",
           "Albert Camus"
          ],
          [
           "The Trolley Problem",
           "Thomas Cathcart"
          ],
          [
           "Wittgenstein's Conception of Philosophy",
           "K.T. Fann"
          ],
          [
           "Would You Eat Your Cat? ",
           "Jeremy Stangroom"
          ]
         ],
         "hovertemplate": "Genre=Philosophy<br>Year Published=%{x}<br>Origin=%{y}<br>Pages=%{marker.size}<br>Title=%{customdata[0]}<br>Author=%{customdata[1]}<extra></extra>",
         "legendgroup": "Philosophy",
         "marker": {
          "color": "#EF553B",
          "size": [
           157,
           212,
           240,
           243,
           96,
           194,
           187,
           288,
           288,
           159,
           144,
           178,
           144
          ],
          "sizemode": "area",
          "sizeref": 0.9366666666666666,
          "symbol": "circle"
         },
         "mode": "markers",
         "name": "Philosophy",
         "orientation": "h",
         "showlegend": true,
         "type": "scatter",
         "x": [
          1928,
          2014,
          2010,
          2008,
          2010,
          1969,
          1859,
          2013,
          2009,
          1942,
          2013,
          1970,
          2010
         ],
         "xaxis": "x",
         "y": [
          "UK",
          "Slovenia",
          "USA",
          "Malaysia",
          "Australia",
          "Austria",
          "UK",
          "USA",
          "USA",
          "Algeria",
          "USA",
          "Hong Kong",
          "UK"
         ],
         "yaxis": "y"
        },
        {
         "customdata": [
          [
           "Crime and Punishment",
           "Fyodor Dostoevsky"
          ]
         ],
         "hovertemplate": "Genre=Crime<br>Year Published=%{x}<br>Origin=%{y}<br>Pages=%{marker.size}<br>Title=%{customdata[0]}<br>Author=%{customdata[1]}<extra></extra>",
         "legendgroup": "Crime",
         "marker": {
          "color": "#00cc96",
          "size": [
           671
          ],
          "sizemode": "area",
          "sizeref": 0.9366666666666666,
          "symbol": "circle"
         },
         "mode": "markers",
         "name": "Crime",
         "orientation": "h",
         "showlegend": true,
         "type": "scatter",
         "x": [
          1866
         ],
         "xaxis": "x",
         "y": [
          "Russia"
         ],
         "yaxis": "y"
        },
        {
         "customdata": [
          [
           "Double Entry",
           "Jane Gleeson-White"
          ]
         ],
         "hovertemplate": "Genre=Accounting<br>Year Published=%{x}<br>Origin=%{y}<br>Pages=%{marker.size}<br>Title=%{customdata[0]}<br>Author=%{customdata[1]}<extra></extra>",
         "legendgroup": "Accounting",
         "marker": {
          "color": "#ab63fa",
          "size": [
           294
          ],
          "sizemode": "area",
          "sizeref": 0.9366666666666666,
          "symbol": "circle"
         },
         "mode": "markers",
         "name": "Accounting",
         "orientation": "h",
         "showlegend": true,
         "type": "scatter",
         "x": [
          2011
         ],
         "xaxis": "x",
         "y": [
          "Australia"
         ],
         "yaxis": "y"
        },
        {
         "customdata": [
          [
           "Economics: The User's Guide",
           "Ha-Joon Chang"
          ],
          [
           "Economix: How and Why Our Economy Works",
           "Michael    Goodwin"
          ],
          [
           "Rich Malaysia, Poor Malaysians",
           "Anas Alam Faizli"
          ]
         ],
         "hovertemplate": "Genre=Economy<br>Year Published=%{x}<br>Origin=%{y}<br>Pages=%{marker.size}<br>Title=%{customdata[0]}<br>Author=%{customdata[1]}<extra></extra>",
         "legendgroup": "Economy",
         "marker": {
          "color": "#FFA15A",
          "size": [
           384,
           304,
           193
          ],
          "sizemode": "area",
          "sizeref": 0.9366666666666666,
          "symbol": "circle"
         },
         "mode": "markers",
         "name": "Economy",
         "orientation": "h",
         "showlegend": true,
         "type": "scatter",
         "x": [
          2014,
          2012,
          2013
         ],
         "xaxis": "x",
         "y": [
          "South Korea",
          "USA",
          "Malaysia"
         ],
         "yaxis": "y"
        },
        {
         "customdata": [
          [
           "Humblebrag: The Art of False Modesty",
           "Harris Wittels"
          ]
         ],
         "hovertemplate": "Genre=Humor<br>Year Published=%{x}<br>Origin=%{y}<br>Pages=%{marker.size}<br>Title=%{customdata[0]}<br>Author=%{customdata[1]}<extra></extra>",
         "legendgroup": "Humor",
         "marker": {
          "color": "#19d3f3",
          "size": [
           272
          ],
          "sizemode": "area",
          "sizeref": 0.9366666666666666,
          "symbol": "circle"
         },
         "mode": "markers",
         "name": "Humor",
         "orientation": "h",
         "showlegend": true,
         "type": "scatter",
         "x": [
          2012
         ],
         "xaxis": "x",
         "y": [
          "USA"
         ],
         "yaxis": "y"
        },
        {
         "customdata": [
          [
           "My Sister's Keeper",
           "Jodi Picoult"
          ]
         ],
         "hovertemplate": "Genre=Drama<br>Year Published=%{x}<br>Origin=%{y}<br>Pages=%{marker.size}<br>Title=%{customdata[0]}<br>Author=%{customdata[1]}<extra></extra>",
         "legendgroup": "Drama",
         "marker": {
          "color": "#FF6692",
          "size": [
           423
          ],
          "sizemode": "area",
          "sizeref": 0.9366666666666666,
          "symbol": "circle"
         },
         "mode": "markers",
         "name": "Drama",
         "orientation": "h",
         "showlegend": true,
         "type": "scatter",
         "x": [
          2004
         ],
         "xaxis": "x",
         "y": [
          "USA"
         ],
         "yaxis": "y"
        },
        {
         "customdata": [
          [
           "Questioning the Veil: Open Letters to Muslim Women",
           "Marnia Lazreg"
          ],
          [
           "The Second Sex",
           "Simone de Beauvoir"
          ]
         ],
         "hovertemplate": "Genre=Feminism<br>Year Published=%{x}<br>Origin=%{y}<br>Pages=%{marker.size}<br>Title=%{customdata[0]}<br>Author=%{customdata[1]}<extra></extra>",
         "legendgroup": "Feminism",
         "marker": {
          "color": "#B6E880",
          "size": [
           168,
           746
          ],
          "sizemode": "area",
          "sizeref": 0.9366666666666666,
          "symbol": "circle"
         },
         "mode": "markers",
         "name": "Feminism",
         "orientation": "h",
         "showlegend": true,
         "type": "scatter",
         "x": [
          2009,
          1949
         ],
         "xaxis": "x",
         "y": [
          "Algeria",
          "France"
         ],
         "yaxis": "y"
        },
        {
         "customdata": [
          [
           "Rich Dad, Poor Dad",
           "Robert T. Kiyosaki"
          ],
          [
           "The Subtle Art of Not Giving a F*ck",
           "Mark Manson"
          ]
         ],
         "hovertemplate": "Genre=Self-help<br>Year Published=%{x}<br>Origin=%{y}<br>Pages=%{marker.size}<br>Title=%{customdata[0]}<br>Author=%{customdata[1]}<extra></extra>",
         "legendgroup": "Self-help",
         "marker": {
          "color": "#FF97FF",
          "size": [
           195,
           212
          ],
          "sizemode": "area",
          "sizeref": 0.9366666666666666,
          "symbol": "circle"
         },
         "mode": "markers",
         "name": "Self-help",
         "orientation": "h",
         "showlegend": true,
         "type": "scatter",
         "x": [
          1997,
          2016
         ],
         "xaxis": "x",
         "y": [
          "USA",
          "USA"
         ],
         "yaxis": "y"
        },
        {
         "customdata": [
          [
           "Rumi's Little Book of Life",
           "Rumi "
          ]
         ],
         "hovertemplate": "Genre=Literature<br>Year Published=%{x}<br>Origin=%{y}<br>Pages=%{marker.size}<br>Title=%{customdata[0]}<br>Author=%{customdata[1]}<extra></extra>",
         "legendgroup": "Literature",
         "marker": {
          "color": "#FECB52",
          "size": [
           211
          ],
          "sizemode": "area",
          "sizeref": 0.9366666666666666,
          "symbol": "circle"
         },
         "mode": "markers",
         "name": "Literature",
         "orientation": "h",
         "showlegend": true,
         "type": "scatter",
         "x": [
          2012
         ],
         "xaxis": "x",
         "y": [
          "Afghanistan"
         ],
         "yaxis": "y"
        },
        {
         "customdata": [
          [
           "Sapiens: A Brief History of Humankind",
           "Yuval Noah Harari"
          ]
         ],
         "hovertemplate": "Genre=Sociology<br>Year Published=%{x}<br>Origin=%{y}<br>Pages=%{marker.size}<br>Title=%{customdata[0]}<br>Author=%{customdata[1]}<extra></extra>",
         "legendgroup": "Sociology",
         "marker": {
          "color": "#636efa",
          "size": [
           512
          ],
          "sizemode": "area",
          "sizeref": 0.9366666666666666,
          "symbol": "circle"
         },
         "mode": "markers",
         "name": "Sociology",
         "orientation": "h",
         "showlegend": true,
         "type": "scatter",
         "x": [
          2011
         ],
         "xaxis": "x",
         "y": [
          "Israel"
         ],
         "yaxis": "y"
        },
        {
         "customdata": [
          [
           "The Alchemist",
           "Paulo Coelho"
          ]
         ],
         "hovertemplate": "Genre=Spiritual<br>Year Published=%{x}<br>Origin=%{y}<br>Pages=%{marker.size}<br>Title=%{customdata[0]}<br>Author=%{customdata[1]}<extra></extra>",
         "legendgroup": "Spiritual",
         "marker": {
          "color": "#EF553B",
          "size": [
           182
          ],
          "sizemode": "area",
          "sizeref": 0.9366666666666666,
          "symbol": "circle"
         },
         "mode": "markers",
         "name": "Spiritual",
         "orientation": "h",
         "showlegend": true,
         "type": "scatter",
         "x": [
          1988
         ],
         "xaxis": "x",
         "y": [
          "Brazil"
         ],
         "yaxis": "y"
        },
        {
         "customdata": [
          [
           "The Metamorphosis",
           "Franz Kafka"
          ]
         ],
         "hovertemplate": "Genre=Existential<br>Year Published=%{x}<br>Origin=%{y}<br>Pages=%{marker.size}<br>Title=%{customdata[0]}<br>Author=%{customdata[1]}<extra></extra>",
         "legendgroup": "Existential",
         "marker": {
          "color": "#00cc96",
          "size": [
           201
          ],
          "sizemode": "area",
          "sizeref": 0.9366666666666666,
          "symbol": "circle"
         },
         "mode": "markers",
         "name": "Existential",
         "orientation": "h",
         "showlegend": true,
         "type": "scatter",
         "x": [
          1915
         ],
         "xaxis": "x",
         "y": [
          "Czechia"
         ],
         "yaxis": "y"
        },
        {
         "customdata": [
          [
           "The Museum of Scandals",
           "Elea Baucheron"
          ]
         ],
         "hovertemplate": "Genre=Arts<br>Year Published=%{x}<br>Origin=%{y}<br>Pages=%{marker.size}<br>Title=%{customdata[0]}<br>Author=%{customdata[1]}<extra></extra>",
         "legendgroup": "Arts",
         "marker": {
          "color": "#ab63fa",
          "size": [
           176
          ],
          "sizemode": "area",
          "sizeref": 0.9366666666666666,
          "symbol": "circle"
         },
         "mode": "markers",
         "name": "Arts",
         "orientation": "h",
         "showlegend": true,
         "type": "scatter",
         "x": [
          2013
         ],
         "xaxis": "x",
         "y": [
          "France"
         ],
         "yaxis": "y"
        },
        {
         "customdata": [
          [
           "Tuesdays with Morrie",
           "Mitch Albom"
          ]
         ],
         "hovertemplate": "Genre=Memoir<br>Year Published=%{x}<br>Origin=%{y}<br>Pages=%{marker.size}<br>Title=%{customdata[0]}<br>Author=%{customdata[1]}<extra></extra>",
         "legendgroup": "Memoir",
         "marker": {
          "color": "#FFA15A",
          "size": [
           210
          ],
          "sizemode": "area",
          "sizeref": 0.9366666666666666,
          "symbol": "circle"
         },
         "mode": "markers",
         "name": "Memoir",
         "orientation": "h",
         "showlegend": true,
         "type": "scatter",
         "x": [
          1997
         ],
         "xaxis": "x",
         "y": [
          "USA"
         ],
         "yaxis": "y"
        }
       ],
       "layout": {
        "height": 700,
        "legend": {
         "itemsizing": "constant",
         "title": {
          "text": "Genre"
         },
         "tracegroupgap": 0
        },
        "template": {
         "data": {
          "bar": [
           {
            "error_x": {
             "color": "#2a3f5f"
            },
            "error_y": {
             "color": "#2a3f5f"
            },
            "marker": {
             "line": {
              "color": "#E5ECF6",
              "width": 0.5
             },
             "pattern": {
              "fillmode": "overlay",
              "size": 10,
              "solidity": 0.2
             }
            },
            "type": "bar"
           }
          ],
          "barpolar": [
           {
            "marker": {
             "line": {
              "color": "#E5ECF6",
              "width": 0.5
             },
             "pattern": {
              "fillmode": "overlay",
              "size": 10,
              "solidity": 0.2
             }
            },
            "type": "barpolar"
           }
          ],
          "carpet": [
           {
            "aaxis": {
             "endlinecolor": "#2a3f5f",
             "gridcolor": "white",
             "linecolor": "white",
             "minorgridcolor": "white",
             "startlinecolor": "#2a3f5f"
            },
            "baxis": {
             "endlinecolor": "#2a3f5f",
             "gridcolor": "white",
             "linecolor": "white",
             "minorgridcolor": "white",
             "startlinecolor": "#2a3f5f"
            },
            "type": "carpet"
           }
          ],
          "choropleth": [
           {
            "colorbar": {
             "outlinewidth": 0,
             "ticks": ""
            },
            "type": "choropleth"
           }
          ],
          "contour": [
           {
            "colorbar": {
             "outlinewidth": 0,
             "ticks": ""
            },
            "colorscale": [
             [
              0,
              "#0d0887"
             ],
             [
              0.1111111111111111,
              "#46039f"
             ],
             [
              0.2222222222222222,
              "#7201a8"
             ],
             [
              0.3333333333333333,
              "#9c179e"
             ],
             [
              0.4444444444444444,
              "#bd3786"
             ],
             [
              0.5555555555555556,
              "#d8576b"
             ],
             [
              0.6666666666666666,
              "#ed7953"
             ],
             [
              0.7777777777777778,
              "#fb9f3a"
             ],
             [
              0.8888888888888888,
              "#fdca26"
             ],
             [
              1,
              "#f0f921"
             ]
            ],
            "type": "contour"
           }
          ],
          "contourcarpet": [
           {
            "colorbar": {
             "outlinewidth": 0,
             "ticks": ""
            },
            "type": "contourcarpet"
           }
          ],
          "heatmap": [
           {
            "colorbar": {
             "outlinewidth": 0,
             "ticks": ""
            },
            "colorscale": [
             [
              0,
              "#0d0887"
             ],
             [
              0.1111111111111111,
              "#46039f"
             ],
             [
              0.2222222222222222,
              "#7201a8"
             ],
             [
              0.3333333333333333,
              "#9c179e"
             ],
             [
              0.4444444444444444,
              "#bd3786"
             ],
             [
              0.5555555555555556,
              "#d8576b"
             ],
             [
              0.6666666666666666,
              "#ed7953"
             ],
             [
              0.7777777777777778,
              "#fb9f3a"
             ],
             [
              0.8888888888888888,
              "#fdca26"
             ],
             [
              1,
              "#f0f921"
             ]
            ],
            "type": "heatmap"
           }
          ],
          "heatmapgl": [
           {
            "colorbar": {
             "outlinewidth": 0,
             "ticks": ""
            },
            "colorscale": [
             [
              0,
              "#0d0887"
             ],
             [
              0.1111111111111111,
              "#46039f"
             ],
             [
              0.2222222222222222,
              "#7201a8"
             ],
             [
              0.3333333333333333,
              "#9c179e"
             ],
             [
              0.4444444444444444,
              "#bd3786"
             ],
             [
              0.5555555555555556,
              "#d8576b"
             ],
             [
              0.6666666666666666,
              "#ed7953"
             ],
             [
              0.7777777777777778,
              "#fb9f3a"
             ],
             [
              0.8888888888888888,
              "#fdca26"
             ],
             [
              1,
              "#f0f921"
             ]
            ],
            "type": "heatmapgl"
           }
          ],
          "histogram": [
           {
            "marker": {
             "pattern": {
              "fillmode": "overlay",
              "size": 10,
              "solidity": 0.2
             }
            },
            "type": "histogram"
           }
          ],
          "histogram2d": [
           {
            "colorbar": {
             "outlinewidth": 0,
             "ticks": ""
            },
            "colorscale": [
             [
              0,
              "#0d0887"
             ],
             [
              0.1111111111111111,
              "#46039f"
             ],
             [
              0.2222222222222222,
              "#7201a8"
             ],
             [
              0.3333333333333333,
              "#9c179e"
             ],
             [
              0.4444444444444444,
              "#bd3786"
             ],
             [
              0.5555555555555556,
              "#d8576b"
             ],
             [
              0.6666666666666666,
              "#ed7953"
             ],
             [
              0.7777777777777778,
              "#fb9f3a"
             ],
             [
              0.8888888888888888,
              "#fdca26"
             ],
             [
              1,
              "#f0f921"
             ]
            ],
            "type": "histogram2d"
           }
          ],
          "histogram2dcontour": [
           {
            "colorbar": {
             "outlinewidth": 0,
             "ticks": ""
            },
            "colorscale": [
             [
              0,
              "#0d0887"
             ],
             [
              0.1111111111111111,
              "#46039f"
             ],
             [
              0.2222222222222222,
              "#7201a8"
             ],
             [
              0.3333333333333333,
              "#9c179e"
             ],
             [
              0.4444444444444444,
              "#bd3786"
             ],
             [
              0.5555555555555556,
              "#d8576b"
             ],
             [
              0.6666666666666666,
              "#ed7953"
             ],
             [
              0.7777777777777778,
              "#fb9f3a"
             ],
             [
              0.8888888888888888,
              "#fdca26"
             ],
             [
              1,
              "#f0f921"
             ]
            ],
            "type": "histogram2dcontour"
           }
          ],
          "mesh3d": [
           {
            "colorbar": {
             "outlinewidth": 0,
             "ticks": ""
            },
            "type": "mesh3d"
           }
          ],
          "parcoords": [
           {
            "line": {
             "colorbar": {
              "outlinewidth": 0,
              "ticks": ""
             }
            },
            "type": "parcoords"
           }
          ],
          "pie": [
           {
            "automargin": true,
            "type": "pie"
           }
          ],
          "scatter": [
           {
            "fillpattern": {
             "fillmode": "overlay",
             "size": 10,
             "solidity": 0.2
            },
            "type": "scatter"
           }
          ],
          "scatter3d": [
           {
            "line": {
             "colorbar": {
              "outlinewidth": 0,
              "ticks": ""
             }
            },
            "marker": {
             "colorbar": {
              "outlinewidth": 0,
              "ticks": ""
             }
            },
            "type": "scatter3d"
           }
          ],
          "scattercarpet": [
           {
            "marker": {
             "colorbar": {
              "outlinewidth": 0,
              "ticks": ""
             }
            },
            "type": "scattercarpet"
           }
          ],
          "scattergeo": [
           {
            "marker": {
             "colorbar": {
              "outlinewidth": 0,
              "ticks": ""
             }
            },
            "type": "scattergeo"
           }
          ],
          "scattergl": [
           {
            "marker": {
             "colorbar": {
              "outlinewidth": 0,
              "ticks": ""
             }
            },
            "type": "scattergl"
           }
          ],
          "scattermapbox": [
           {
            "marker": {
             "colorbar": {
              "outlinewidth": 0,
              "ticks": ""
             }
            },
            "type": "scattermapbox"
           }
          ],
          "scatterpolar": [
           {
            "marker": {
             "colorbar": {
              "outlinewidth": 0,
              "ticks": ""
             }
            },
            "type": "scatterpolar"
           }
          ],
          "scatterpolargl": [
           {
            "marker": {
             "colorbar": {
              "outlinewidth": 0,
              "ticks": ""
             }
            },
            "type": "scatterpolargl"
           }
          ],
          "scatterternary": [
           {
            "marker": {
             "colorbar": {
              "outlinewidth": 0,
              "ticks": ""
             }
            },
            "type": "scatterternary"
           }
          ],
          "surface": [
           {
            "colorbar": {
             "outlinewidth": 0,
             "ticks": ""
            },
            "colorscale": [
             [
              0,
              "#0d0887"
             ],
             [
              0.1111111111111111,
              "#46039f"
             ],
             [
              0.2222222222222222,
              "#7201a8"
             ],
             [
              0.3333333333333333,
              "#9c179e"
             ],
             [
              0.4444444444444444,
              "#bd3786"
             ],
             [
              0.5555555555555556,
              "#d8576b"
             ],
             [
              0.6666666666666666,
              "#ed7953"
             ],
             [
              0.7777777777777778,
              "#fb9f3a"
             ],
             [
              0.8888888888888888,
              "#fdca26"
             ],
             [
              1,
              "#f0f921"
             ]
            ],
            "type": "surface"
           }
          ],
          "table": [
           {
            "cells": {
             "fill": {
              "color": "#EBF0F8"
             },
             "line": {
              "color": "white"
             }
            },
            "header": {
             "fill": {
              "color": "#C8D4E3"
             },
             "line": {
              "color": "white"
             }
            },
            "type": "table"
           }
          ]
         },
         "layout": {
          "annotationdefaults": {
           "arrowcolor": "#2a3f5f",
           "arrowhead": 0,
           "arrowwidth": 1
          },
          "autotypenumbers": "strict",
          "coloraxis": {
           "colorbar": {
            "outlinewidth": 0,
            "ticks": ""
           }
          },
          "colorscale": {
           "diverging": [
            [
             0,
             "#8e0152"
            ],
            [
             0.1,
             "#c51b7d"
            ],
            [
             0.2,
             "#de77ae"
            ],
            [
             0.3,
             "#f1b6da"
            ],
            [
             0.4,
             "#fde0ef"
            ],
            [
             0.5,
             "#f7f7f7"
            ],
            [
             0.6,
             "#e6f5d0"
            ],
            [
             0.7,
             "#b8e186"
            ],
            [
             0.8,
             "#7fbc41"
            ],
            [
             0.9,
             "#4d9221"
            ],
            [
             1,
             "#276419"
            ]
           ],
           "sequential": [
            [
             0,
             "#0d0887"
            ],
            [
             0.1111111111111111,
             "#46039f"
            ],
            [
             0.2222222222222222,
             "#7201a8"
            ],
            [
             0.3333333333333333,
             "#9c179e"
            ],
            [
             0.4444444444444444,
             "#bd3786"
            ],
            [
             0.5555555555555556,
             "#d8576b"
            ],
            [
             0.6666666666666666,
             "#ed7953"
            ],
            [
             0.7777777777777778,
             "#fb9f3a"
            ],
            [
             0.8888888888888888,
             "#fdca26"
            ],
            [
             1,
             "#f0f921"
            ]
           ],
           "sequentialminus": [
            [
             0,
             "#0d0887"
            ],
            [
             0.1111111111111111,
             "#46039f"
            ],
            [
             0.2222222222222222,
             "#7201a8"
            ],
            [
             0.3333333333333333,
             "#9c179e"
            ],
            [
             0.4444444444444444,
             "#bd3786"
            ],
            [
             0.5555555555555556,
             "#d8576b"
            ],
            [
             0.6666666666666666,
             "#ed7953"
            ],
            [
             0.7777777777777778,
             "#fb9f3a"
            ],
            [
             0.8888888888888888,
             "#fdca26"
            ],
            [
             1,
             "#f0f921"
            ]
           ]
          },
          "colorway": [
           "#636efa",
           "#EF553B",
           "#00cc96",
           "#ab63fa",
           "#FFA15A",
           "#19d3f3",
           "#FF6692",
           "#B6E880",
           "#FF97FF",
           "#FECB52"
          ],
          "font": {
           "color": "#2a3f5f"
          },
          "geo": {
           "bgcolor": "white",
           "lakecolor": "white",
           "landcolor": "#E5ECF6",
           "showlakes": true,
           "showland": true,
           "subunitcolor": "white"
          },
          "hoverlabel": {
           "align": "left"
          },
          "hovermode": "closest",
          "mapbox": {
           "style": "light"
          },
          "paper_bgcolor": "white",
          "plot_bgcolor": "#E5ECF6",
          "polar": {
           "angularaxis": {
            "gridcolor": "white",
            "linecolor": "white",
            "ticks": ""
           },
           "bgcolor": "#E5ECF6",
           "radialaxis": {
            "gridcolor": "white",
            "linecolor": "white",
            "ticks": ""
           }
          },
          "scene": {
           "xaxis": {
            "backgroundcolor": "#E5ECF6",
            "gridcolor": "white",
            "gridwidth": 2,
            "linecolor": "white",
            "showbackground": true,
            "ticks": "",
            "zerolinecolor": "white"
           },
           "yaxis": {
            "backgroundcolor": "#E5ECF6",
            "gridcolor": "white",
            "gridwidth": 2,
            "linecolor": "white",
            "showbackground": true,
            "ticks": "",
            "zerolinecolor": "white"
           },
           "zaxis": {
            "backgroundcolor": "#E5ECF6",
            "gridcolor": "white",
            "gridwidth": 2,
            "linecolor": "white",
            "showbackground": true,
            "ticks": "",
            "zerolinecolor": "white"
           }
          },
          "shapedefaults": {
           "line": {
            "color": "#2a3f5f"
           }
          },
          "ternary": {
           "aaxis": {
            "gridcolor": "white",
            "linecolor": "white",
            "ticks": ""
           },
           "baxis": {
            "gridcolor": "white",
            "linecolor": "white",
            "ticks": ""
           },
           "bgcolor": "#E5ECF6",
           "caxis": {
            "gridcolor": "white",
            "linecolor": "white",
            "ticks": ""
           }
          },
          "title": {
           "x": 0.05
          },
          "xaxis": {
           "automargin": true,
           "gridcolor": "white",
           "linecolor": "white",
           "ticks": "",
           "title": {
            "standoff": 15
           },
           "zerolinecolor": "white",
           "zerolinewidth": 2
          },
          "yaxis": {
           "automargin": true,
           "gridcolor": "white",
           "linecolor": "white",
           "ticks": "",
           "title": {
            "standoff": 15
           },
           "zerolinecolor": "white",
           "zerolinewidth": 2
          }
         }
        },
        "title": {
         "font": {
          "size": 30
         },
         "text": "Books Bubble Chart",
         "x": 0.5
        },
        "xaxis": {
         "anchor": "y",
         "domain": [
          0,
          1
         ],
         "title": {
          "text": "Year Published"
         }
        },
        "yaxis": {
         "anchor": "x",
         "domain": [
          0,
          1
         ],
         "title": {
          "text": "Origin"
         }
        }
       }
      }
     },
     "metadata": {},
     "output_type": "display_data"
    }
   ],
   "source": [
    "#Bubble chart\n",
    "fig = px.scatter(\n",
    "    books, \n",
    "    x='Year Published', \n",
    "    y='Origin', color='Genre', size='Pages', title='Books Bubble Chart', \n",
    "    hover_data={'Title':True, 'Author':True},\n",
    "    size_max=30\n",
    ")\n",
    "\n",
    "#Update layout\n",
    "fig.update_layout(\n",
    "    title_x=0.5,\n",
    "    title_font_size=30,\n",
    "    height=700\n",
    ")\n",
    "\n",
    "fig.show()"
   ]
  },
  {
   "cell_type": "code",
   "execution_count": 29,
   "metadata": {},
   "outputs": [
    {
     "data": {
      "application/vnd.plotly.v1+json": {
       "config": {
        "plotlyServerURL": "https://plot.ly"
       },
       "data": [
        {
         "alignmentgroup": "True",
         "customdata": [
          [
           "Malaysia",
           "Autobiography",
           2011
          ]
         ],
         "hovertemplate": "Book=%{y}<br>Number of pages=%{x}<br>Origin=%{customdata[0]}<br>Genre=%{customdata[1]}<br>Year Published=%{customdata[2]}<extra></extra>",
         "legendgroup": "A Doctor in the House by Mahathir Mohamad",
         "marker": {
          "color": "#1f77b4",
          "pattern": {
           "shape": ""
          }
         },
         "name": "A Doctor in the House by Mahathir Mohamad",
         "offsetgroup": "A Doctor in the House by Mahathir Mohamad",
         "orientation": "h",
         "showlegend": true,
         "textposition": "auto",
         "type": "bar",
         "x": [
          843
         ],
         "xaxis": "x",
         "y": [
          "A Doctor in the House by Mahathir Mohamad"
         ],
         "yaxis": "y"
        },
        {
         "alignmentgroup": "True",
         "customdata": [
          [
           "France",
           "Feminism",
           1949
          ]
         ],
         "hovertemplate": "Book=%{y}<br>Number of pages=%{x}<br>Origin=%{customdata[0]}<br>Genre=%{customdata[1]}<br>Year Published=%{customdata[2]}<extra></extra>",
         "legendgroup": "The Second Sex by Simone de Beauvoir",
         "marker": {
          "color": "#2ca02c",
          "pattern": {
           "shape": ""
          }
         },
         "name": "The Second Sex by Simone de Beauvoir",
         "offsetgroup": "The Second Sex by Simone de Beauvoir",
         "orientation": "h",
         "showlegend": true,
         "textposition": "auto",
         "type": "bar",
         "x": [
          746
         ],
         "xaxis": "x",
         "y": [
          "The Second Sex by Simone de Beauvoir"
         ],
         "yaxis": "y"
        },
        {
         "alignmentgroup": "True",
         "customdata": [
          [
           "Russia",
           "Crime",
           1866
          ]
         ],
         "hovertemplate": "Book=%{y}<br>Number of pages=%{x}<br>Origin=%{customdata[0]}<br>Genre=%{customdata[1]}<br>Year Published=%{customdata[2]}<extra></extra>",
         "legendgroup": "Crime and Punishment by Fyodor Dostoevsky",
         "marker": {
          "color": "#d62728",
          "pattern": {
           "shape": ""
          }
         },
         "name": "Crime and Punishment by Fyodor Dostoevsky",
         "offsetgroup": "Crime and Punishment by Fyodor Dostoevsky",
         "orientation": "h",
         "showlegend": true,
         "textposition": "auto",
         "type": "bar",
         "x": [
          671
         ],
         "xaxis": "x",
         "y": [
          "Crime and Punishment by Fyodor Dostoevsky"
         ],
         "yaxis": "y"
        },
        {
         "alignmentgroup": "True",
         "customdata": [
          [
           "Israel",
           "Sociology",
           2011
          ]
         ],
         "hovertemplate": "Book=%{y}<br>Number of pages=%{x}<br>Origin=%{customdata[0]}<br>Genre=%{customdata[1]}<br>Year Published=%{customdata[2]}<extra></extra>",
         "legendgroup": "Sapiens: A Brief History of Humankind by Yuval Noah Harari",
         "marker": {
          "color": "#9467bd",
          "pattern": {
           "shape": ""
          }
         },
         "name": "Sapiens: A Brief History of Humankind by Yuval Noah Harari",
         "offsetgroup": "Sapiens: A Brief History of Humankind by Yuval Noah Harari",
         "orientation": "h",
         "showlegend": true,
         "textposition": "auto",
         "type": "bar",
         "x": [
          512
         ],
         "xaxis": "x",
         "y": [
          "Sapiens: A Brief History of Humankind by Yuval Noah Harari"
         ],
         "yaxis": "y"
        },
        {
         "alignmentgroup": "True",
         "customdata": [
          [
           "Netherlands",
           "Psychology",
           2014
          ]
         ],
         "hovertemplate": "Book=%{y}<br>Number of pages=%{x}<br>Origin=%{customdata[0]}<br>Genre=%{customdata[1]}<br>Year Published=%{customdata[2]}<extra></extra>",
         "legendgroup": "The Body Keeps the Score  by Bessel van der Kolk",
         "marker": {
          "color": "#8c564b",
          "pattern": {
           "shape": ""
          }
         },
         "name": "The Body Keeps the Score  by Bessel van der Kolk",
         "offsetgroup": "The Body Keeps the Score  by Bessel van der Kolk",
         "orientation": "h",
         "showlegend": true,
         "textposition": "auto",
         "type": "bar",
         "x": [
          464
         ],
         "xaxis": "x",
         "y": [
          "The Body Keeps the Score  by Bessel van der Kolk"
         ],
         "yaxis": "y"
        },
        {
         "alignmentgroup": "True",
         "customdata": [
          [
           "USA",
           "Science",
           1995
          ]
         ],
         "hovertemplate": "Book=%{y}<br>Number of pages=%{x}<br>Origin=%{customdata[0]}<br>Genre=%{customdata[1]}<br>Year Published=%{customdata[2]}<extra></extra>",
         "legendgroup": "The Demon-Haunted World: Science as a Candle in the Dark by Carl Sagan",
         "marker": {
          "color": "#e377c2",
          "pattern": {
           "shape": ""
          }
         },
         "name": "The Demon-Haunted World: Science as a Candle in the Dark by Carl Sagan",
         "offsetgroup": "The Demon-Haunted World: Science as a Candle in the Dark by Carl Sagan",
         "orientation": "h",
         "showlegend": true,
         "textposition": "auto",
         "type": "bar",
         "x": [
          459
         ],
         "xaxis": "x",
         "y": [
          "The Demon-Haunted World: Science as a Candle in the Dark by Carl Sagan"
         ],
         "yaxis": "y"
        },
        {
         "alignmentgroup": "True",
         "customdata": [
          [
           "UK",
           "History",
           1973
          ]
         ],
         "hovertemplate": "Book=%{y}<br>Number of pages=%{x}<br>Origin=%{customdata[0]}<br>Genre=%{customdata[1]}<br>Year Published=%{customdata[2]}<extra></extra>",
         "legendgroup": "The Ascent of Man by Jacob Bronowski",
         "marker": {
          "color": "#7f7f7f",
          "pattern": {
           "shape": ""
          }
         },
         "name": "The Ascent of Man by Jacob Bronowski",
         "offsetgroup": "The Ascent of Man by Jacob Bronowski",
         "orientation": "h",
         "showlegend": true,
         "textposition": "auto",
         "type": "bar",
         "x": [
          448
         ],
         "xaxis": "x",
         "y": [
          "The Ascent of Man by Jacob Bronowski"
         ],
         "yaxis": "y"
        },
        {
         "alignmentgroup": "True",
         "customdata": [
          [
           "USA",
           "Photography",
           2015
          ]
         ],
         "hovertemplate": "Book=%{y}<br>Number of pages=%{x}<br>Origin=%{customdata[0]}<br>Genre=%{customdata[1]}<br>Year Published=%{customdata[2]}<extra></extra>",
         "legendgroup": "Humans of New York: Stories by Brandon Stanton",
         "marker": {
          "color": "#bcbd22",
          "pattern": {
           "shape": ""
          }
         },
         "name": "Humans of New York: Stories by Brandon Stanton",
         "offsetgroup": "Humans of New York: Stories by Brandon Stanton",
         "orientation": "h",
         "showlegend": true,
         "textposition": "auto",
         "type": "bar",
         "x": [
          428
         ],
         "xaxis": "x",
         "y": [
          "Humans of New York: Stories by Brandon Stanton"
         ],
         "yaxis": "y"
        },
        {
         "alignmentgroup": "True",
         "customdata": [
          [
           "USA",
           "Drama",
           2004
          ]
         ],
         "hovertemplate": "Book=%{y}<br>Number of pages=%{x}<br>Origin=%{customdata[0]}<br>Genre=%{customdata[1]}<br>Year Published=%{customdata[2]}<extra></extra>",
         "legendgroup": "My Sister's Keeper by Jodi Picoult",
         "marker": {
          "color": "#17becf",
          "pattern": {
           "shape": ""
          }
         },
         "name": "My Sister's Keeper by Jodi Picoult",
         "offsetgroup": "My Sister's Keeper by Jodi Picoult",
         "orientation": "h",
         "showlegend": true,
         "textposition": "auto",
         "type": "bar",
         "x": [
          423
         ],
         "xaxis": "x",
         "y": [
          "My Sister's Keeper by Jodi Picoult"
         ],
         "yaxis": "y"
        },
        {
         "alignmentgroup": "True",
         "customdata": [
          [
           "Malaysia",
           "Faith",
           2008
          ]
         ],
         "hovertemplate": "Book=%{y}<br>Number of pages=%{x}<br>Origin=%{customdata[0]}<br>Genre=%{customdata[1]}<br>Year Published=%{customdata[2]}<extra></extra>",
         "legendgroup": "Mengemudi Bahtera Perubahan Minda by Mohd Asri Zainul Abidin",
         "marker": {
          "color": "#f5a3a2",
          "pattern": {
           "shape": ""
          }
         },
         "name": "Mengemudi Bahtera Perubahan Minda by Mohd Asri Zainul Abidin",
         "offsetgroup": "Mengemudi Bahtera Perubahan Minda by Mohd Asri Zainul Abidin",
         "orientation": "h",
         "showlegend": true,
         "textposition": "auto",
         "type": "bar",
         "x": [
          400
         ],
         "xaxis": "x",
         "y": [
          "Mengemudi Bahtera Perubahan Minda by Mohd Asri Zainul Abidin"
         ],
         "yaxis": "y"
        },
        {
         "alignmentgroup": "True",
         "customdata": [
          [
           "UK",
           "History",
           2010
          ]
         ],
         "hovertemplate": "Book=%{y}<br>Number of pages=%{x}<br>Origin=%{customdata[0]}<br>Genre=%{customdata[1]}<br>Year Published=%{customdata[2]}<extra></extra>",
         "legendgroup": "A Brief History of How the Industrial Revolution Changed the World by Thomas Crump",
         "marker": {
          "color": "#ffb6c1",
          "pattern": {
           "shape": ""
          }
         },
         "name": "A Brief History of How the Industrial Revolution Changed the World by Thomas Crump",
         "offsetgroup": "A Brief History of How the Industrial Revolution Changed the World by Thomas Crump",
         "orientation": "h",
         "showlegend": true,
         "textposition": "auto",
         "type": "bar",
         "x": [
          400
         ],
         "xaxis": "x",
         "y": [
          "A Brief History of How the Industrial Revolution Changed the World by Thomas Crump"
         ],
         "yaxis": "y"
        },
        {
         "alignmentgroup": "True",
         "customdata": [
          [
           "South Korea",
           "Economy",
           2014
          ]
         ],
         "hovertemplate": "Book=%{y}<br>Number of pages=%{x}<br>Origin=%{customdata[0]}<br>Genre=%{customdata[1]}<br>Year Published=%{customdata[2]}<extra></extra>",
         "legendgroup": "Economics: The User's Guide by Ha-Joon Chang",
         "marker": {
          "color": "#ffcccb",
          "pattern": {
           "shape": ""
          }
         },
         "name": "Economics: The User's Guide by Ha-Joon Chang",
         "offsetgroup": "Economics: The User's Guide by Ha-Joon Chang",
         "orientation": "h",
         "showlegend": true,
         "textposition": "auto",
         "type": "bar",
         "x": [
          384
         ],
         "xaxis": "x",
         "y": [
          "Economics: The User's Guide by Ha-Joon Chang"
         ],
         "yaxis": "y"
        },
        {
         "alignmentgroup": "True",
         "customdata": [
          [
           "UK",
           "Science",
           2006
          ]
         ],
         "hovertemplate": "Book=%{y}<br>Number of pages=%{x}<br>Origin=%{customdata[0]}<br>Genre=%{customdata[1]}<br>Year Published=%{customdata[2]}<extra></extra>",
         "legendgroup": "The God Delusion by Richard Dawkins",
         "marker": {
          "color": "#ff7f0e",
          "pattern": {
           "shape": ""
          }
         },
         "name": "The God Delusion by Richard Dawkins",
         "offsetgroup": "The God Delusion by Richard Dawkins",
         "orientation": "h",
         "showlegend": true,
         "textposition": "auto",
         "type": "bar",
         "x": [
          374
         ],
         "xaxis": "x",
         "y": [
          "The God Delusion by Richard Dawkins"
         ],
         "yaxis": "y"
        },
        {
         "alignmentgroup": "True",
         "customdata": [
          [
           "UK",
           "Dystopian",
           1949
          ]
         ],
         "hovertemplate": "Book=%{y}<br>Number of pages=%{x}<br>Origin=%{customdata[0]}<br>Genre=%{customdata[1]}<br>Year Published=%{customdata[2]}<extra></extra>",
         "legendgroup": "1984 by George Orwell",
         "marker": {
          "color": "#c2c2f0",
          "pattern": {
           "shape": ""
          }
         },
         "name": "1984 by George Orwell",
         "offsetgroup": "1984 by George Orwell",
         "orientation": "h",
         "showlegend": true,
         "textposition": "auto",
         "type": "bar",
         "x": [
          368
         ],
         "xaxis": "x",
         "y": [
          "1984 by George Orwell"
         ],
         "yaxis": "y"
        },
        {
         "alignmentgroup": "True",
         "customdata": [
          [
           "Somalia",
           "Faith",
           2006
          ]
         ],
         "hovertemplate": "Book=%{y}<br>Number of pages=%{x}<br>Origin=%{customdata[0]}<br>Genre=%{customdata[1]}<br>Year Published=%{customdata[2]}<extra></extra>",
         "legendgroup": "Infidel by Ayaan Hirsi Ali",
         "marker": {
          "color": "#ff6666",
          "pattern": {
           "shape": ""
          }
         },
         "name": "Infidel by Ayaan Hirsi Ali",
         "offsetgroup": "Infidel by Ayaan Hirsi Ali",
         "orientation": "h",
         "showlegend": true,
         "textposition": "auto",
         "type": "bar",
         "x": [
          353
         ],
         "xaxis": "x",
         "y": [
          "Infidel by Ayaan Hirsi Ali"
         ],
         "yaxis": "y"
        }
       ],
       "layout": {
        "barmode": "relative",
        "height": 600,
        "legend": {
         "title": {
          "text": "Book"
         },
         "tracegroupgap": 0
        },
        "showlegend": false,
        "template": {
         "data": {
          "bar": [
           {
            "error_x": {
             "color": "#2a3f5f"
            },
            "error_y": {
             "color": "#2a3f5f"
            },
            "marker": {
             "line": {
              "color": "#E5ECF6",
              "width": 0.5
             },
             "pattern": {
              "fillmode": "overlay",
              "size": 10,
              "solidity": 0.2
             }
            },
            "type": "bar"
           }
          ],
          "barpolar": [
           {
            "marker": {
             "line": {
              "color": "#E5ECF6",
              "width": 0.5
             },
             "pattern": {
              "fillmode": "overlay",
              "size": 10,
              "solidity": 0.2
             }
            },
            "type": "barpolar"
           }
          ],
          "carpet": [
           {
            "aaxis": {
             "endlinecolor": "#2a3f5f",
             "gridcolor": "white",
             "linecolor": "white",
             "minorgridcolor": "white",
             "startlinecolor": "#2a3f5f"
            },
            "baxis": {
             "endlinecolor": "#2a3f5f",
             "gridcolor": "white",
             "linecolor": "white",
             "minorgridcolor": "white",
             "startlinecolor": "#2a3f5f"
            },
            "type": "carpet"
           }
          ],
          "choropleth": [
           {
            "colorbar": {
             "outlinewidth": 0,
             "ticks": ""
            },
            "type": "choropleth"
           }
          ],
          "contour": [
           {
            "colorbar": {
             "outlinewidth": 0,
             "ticks": ""
            },
            "colorscale": [
             [
              0,
              "#0d0887"
             ],
             [
              0.1111111111111111,
              "#46039f"
             ],
             [
              0.2222222222222222,
              "#7201a8"
             ],
             [
              0.3333333333333333,
              "#9c179e"
             ],
             [
              0.4444444444444444,
              "#bd3786"
             ],
             [
              0.5555555555555556,
              "#d8576b"
             ],
             [
              0.6666666666666666,
              "#ed7953"
             ],
             [
              0.7777777777777778,
              "#fb9f3a"
             ],
             [
              0.8888888888888888,
              "#fdca26"
             ],
             [
              1,
              "#f0f921"
             ]
            ],
            "type": "contour"
           }
          ],
          "contourcarpet": [
           {
            "colorbar": {
             "outlinewidth": 0,
             "ticks": ""
            },
            "type": "contourcarpet"
           }
          ],
          "heatmap": [
           {
            "colorbar": {
             "outlinewidth": 0,
             "ticks": ""
            },
            "colorscale": [
             [
              0,
              "#0d0887"
             ],
             [
              0.1111111111111111,
              "#46039f"
             ],
             [
              0.2222222222222222,
              "#7201a8"
             ],
             [
              0.3333333333333333,
              "#9c179e"
             ],
             [
              0.4444444444444444,
              "#bd3786"
             ],
             [
              0.5555555555555556,
              "#d8576b"
             ],
             [
              0.6666666666666666,
              "#ed7953"
             ],
             [
              0.7777777777777778,
              "#fb9f3a"
             ],
             [
              0.8888888888888888,
              "#fdca26"
             ],
             [
              1,
              "#f0f921"
             ]
            ],
            "type": "heatmap"
           }
          ],
          "heatmapgl": [
           {
            "colorbar": {
             "outlinewidth": 0,
             "ticks": ""
            },
            "colorscale": [
             [
              0,
              "#0d0887"
             ],
             [
              0.1111111111111111,
              "#46039f"
             ],
             [
              0.2222222222222222,
              "#7201a8"
             ],
             [
              0.3333333333333333,
              "#9c179e"
             ],
             [
              0.4444444444444444,
              "#bd3786"
             ],
             [
              0.5555555555555556,
              "#d8576b"
             ],
             [
              0.6666666666666666,
              "#ed7953"
             ],
             [
              0.7777777777777778,
              "#fb9f3a"
             ],
             [
              0.8888888888888888,
              "#fdca26"
             ],
             [
              1,
              "#f0f921"
             ]
            ],
            "type": "heatmapgl"
           }
          ],
          "histogram": [
           {
            "marker": {
             "pattern": {
              "fillmode": "overlay",
              "size": 10,
              "solidity": 0.2
             }
            },
            "type": "histogram"
           }
          ],
          "histogram2d": [
           {
            "colorbar": {
             "outlinewidth": 0,
             "ticks": ""
            },
            "colorscale": [
             [
              0,
              "#0d0887"
             ],
             [
              0.1111111111111111,
              "#46039f"
             ],
             [
              0.2222222222222222,
              "#7201a8"
             ],
             [
              0.3333333333333333,
              "#9c179e"
             ],
             [
              0.4444444444444444,
              "#bd3786"
             ],
             [
              0.5555555555555556,
              "#d8576b"
             ],
             [
              0.6666666666666666,
              "#ed7953"
             ],
             [
              0.7777777777777778,
              "#fb9f3a"
             ],
             [
              0.8888888888888888,
              "#fdca26"
             ],
             [
              1,
              "#f0f921"
             ]
            ],
            "type": "histogram2d"
           }
          ],
          "histogram2dcontour": [
           {
            "colorbar": {
             "outlinewidth": 0,
             "ticks": ""
            },
            "colorscale": [
             [
              0,
              "#0d0887"
             ],
             [
              0.1111111111111111,
              "#46039f"
             ],
             [
              0.2222222222222222,
              "#7201a8"
             ],
             [
              0.3333333333333333,
              "#9c179e"
             ],
             [
              0.4444444444444444,
              "#bd3786"
             ],
             [
              0.5555555555555556,
              "#d8576b"
             ],
             [
              0.6666666666666666,
              "#ed7953"
             ],
             [
              0.7777777777777778,
              "#fb9f3a"
             ],
             [
              0.8888888888888888,
              "#fdca26"
             ],
             [
              1,
              "#f0f921"
             ]
            ],
            "type": "histogram2dcontour"
           }
          ],
          "mesh3d": [
           {
            "colorbar": {
             "outlinewidth": 0,
             "ticks": ""
            },
            "type": "mesh3d"
           }
          ],
          "parcoords": [
           {
            "line": {
             "colorbar": {
              "outlinewidth": 0,
              "ticks": ""
             }
            },
            "type": "parcoords"
           }
          ],
          "pie": [
           {
            "automargin": true,
            "type": "pie"
           }
          ],
          "scatter": [
           {
            "fillpattern": {
             "fillmode": "overlay",
             "size": 10,
             "solidity": 0.2
            },
            "type": "scatter"
           }
          ],
          "scatter3d": [
           {
            "line": {
             "colorbar": {
              "outlinewidth": 0,
              "ticks": ""
             }
            },
            "marker": {
             "colorbar": {
              "outlinewidth": 0,
              "ticks": ""
             }
            },
            "type": "scatter3d"
           }
          ],
          "scattercarpet": [
           {
            "marker": {
             "colorbar": {
              "outlinewidth": 0,
              "ticks": ""
             }
            },
            "type": "scattercarpet"
           }
          ],
          "scattergeo": [
           {
            "marker": {
             "colorbar": {
              "outlinewidth": 0,
              "ticks": ""
             }
            },
            "type": "scattergeo"
           }
          ],
          "scattergl": [
           {
            "marker": {
             "colorbar": {
              "outlinewidth": 0,
              "ticks": ""
             }
            },
            "type": "scattergl"
           }
          ],
          "scattermapbox": [
           {
            "marker": {
             "colorbar": {
              "outlinewidth": 0,
              "ticks": ""
             }
            },
            "type": "scattermapbox"
           }
          ],
          "scatterpolar": [
           {
            "marker": {
             "colorbar": {
              "outlinewidth": 0,
              "ticks": ""
             }
            },
            "type": "scatterpolar"
           }
          ],
          "scatterpolargl": [
           {
            "marker": {
             "colorbar": {
              "outlinewidth": 0,
              "ticks": ""
             }
            },
            "type": "scatterpolargl"
           }
          ],
          "scatterternary": [
           {
            "marker": {
             "colorbar": {
              "outlinewidth": 0,
              "ticks": ""
             }
            },
            "type": "scatterternary"
           }
          ],
          "surface": [
           {
            "colorbar": {
             "outlinewidth": 0,
             "ticks": ""
            },
            "colorscale": [
             [
              0,
              "#0d0887"
             ],
             [
              0.1111111111111111,
              "#46039f"
             ],
             [
              0.2222222222222222,
              "#7201a8"
             ],
             [
              0.3333333333333333,
              "#9c179e"
             ],
             [
              0.4444444444444444,
              "#bd3786"
             ],
             [
              0.5555555555555556,
              "#d8576b"
             ],
             [
              0.6666666666666666,
              "#ed7953"
             ],
             [
              0.7777777777777778,
              "#fb9f3a"
             ],
             [
              0.8888888888888888,
              "#fdca26"
             ],
             [
              1,
              "#f0f921"
             ]
            ],
            "type": "surface"
           }
          ],
          "table": [
           {
            "cells": {
             "fill": {
              "color": "#EBF0F8"
             },
             "line": {
              "color": "white"
             }
            },
            "header": {
             "fill": {
              "color": "#C8D4E3"
             },
             "line": {
              "color": "white"
             }
            },
            "type": "table"
           }
          ]
         },
         "layout": {
          "annotationdefaults": {
           "arrowcolor": "#2a3f5f",
           "arrowhead": 0,
           "arrowwidth": 1
          },
          "autotypenumbers": "strict",
          "coloraxis": {
           "colorbar": {
            "outlinewidth": 0,
            "ticks": ""
           }
          },
          "colorscale": {
           "diverging": [
            [
             0,
             "#8e0152"
            ],
            [
             0.1,
             "#c51b7d"
            ],
            [
             0.2,
             "#de77ae"
            ],
            [
             0.3,
             "#f1b6da"
            ],
            [
             0.4,
             "#fde0ef"
            ],
            [
             0.5,
             "#f7f7f7"
            ],
            [
             0.6,
             "#e6f5d0"
            ],
            [
             0.7,
             "#b8e186"
            ],
            [
             0.8,
             "#7fbc41"
            ],
            [
             0.9,
             "#4d9221"
            ],
            [
             1,
             "#276419"
            ]
           ],
           "sequential": [
            [
             0,
             "#0d0887"
            ],
            [
             0.1111111111111111,
             "#46039f"
            ],
            [
             0.2222222222222222,
             "#7201a8"
            ],
            [
             0.3333333333333333,
             "#9c179e"
            ],
            [
             0.4444444444444444,
             "#bd3786"
            ],
            [
             0.5555555555555556,
             "#d8576b"
            ],
            [
             0.6666666666666666,
             "#ed7953"
            ],
            [
             0.7777777777777778,
             "#fb9f3a"
            ],
            [
             0.8888888888888888,
             "#fdca26"
            ],
            [
             1,
             "#f0f921"
            ]
           ],
           "sequentialminus": [
            [
             0,
             "#0d0887"
            ],
            [
             0.1111111111111111,
             "#46039f"
            ],
            [
             0.2222222222222222,
             "#7201a8"
            ],
            [
             0.3333333333333333,
             "#9c179e"
            ],
            [
             0.4444444444444444,
             "#bd3786"
            ],
            [
             0.5555555555555556,
             "#d8576b"
            ],
            [
             0.6666666666666666,
             "#ed7953"
            ],
            [
             0.7777777777777778,
             "#fb9f3a"
            ],
            [
             0.8888888888888888,
             "#fdca26"
            ],
            [
             1,
             "#f0f921"
            ]
           ]
          },
          "colorway": [
           "#636efa",
           "#EF553B",
           "#00cc96",
           "#ab63fa",
           "#FFA15A",
           "#19d3f3",
           "#FF6692",
           "#B6E880",
           "#FF97FF",
           "#FECB52"
          ],
          "font": {
           "color": "#2a3f5f"
          },
          "geo": {
           "bgcolor": "white",
           "lakecolor": "white",
           "landcolor": "#E5ECF6",
           "showlakes": true,
           "showland": true,
           "subunitcolor": "white"
          },
          "hoverlabel": {
           "align": "left"
          },
          "hovermode": "closest",
          "mapbox": {
           "style": "light"
          },
          "paper_bgcolor": "white",
          "plot_bgcolor": "#E5ECF6",
          "polar": {
           "angularaxis": {
            "gridcolor": "white",
            "linecolor": "white",
            "ticks": ""
           },
           "bgcolor": "#E5ECF6",
           "radialaxis": {
            "gridcolor": "white",
            "linecolor": "white",
            "ticks": ""
           }
          },
          "scene": {
           "xaxis": {
            "backgroundcolor": "#E5ECF6",
            "gridcolor": "white",
            "gridwidth": 2,
            "linecolor": "white",
            "showbackground": true,
            "ticks": "",
            "zerolinecolor": "white"
           },
           "yaxis": {
            "backgroundcolor": "#E5ECF6",
            "gridcolor": "white",
            "gridwidth": 2,
            "linecolor": "white",
            "showbackground": true,
            "ticks": "",
            "zerolinecolor": "white"
           },
           "zaxis": {
            "backgroundcolor": "#E5ECF6",
            "gridcolor": "white",
            "gridwidth": 2,
            "linecolor": "white",
            "showbackground": true,
            "ticks": "",
            "zerolinecolor": "white"
           }
          },
          "shapedefaults": {
           "line": {
            "color": "#2a3f5f"
           }
          },
          "ternary": {
           "aaxis": {
            "gridcolor": "white",
            "linecolor": "white",
            "ticks": ""
           },
           "baxis": {
            "gridcolor": "white",
            "linecolor": "white",
            "ticks": ""
           },
           "bgcolor": "#E5ECF6",
           "caxis": {
            "gridcolor": "white",
            "linecolor": "white",
            "ticks": ""
           }
          },
          "title": {
           "x": 0.05
          },
          "xaxis": {
           "automargin": true,
           "gridcolor": "white",
           "linecolor": "white",
           "ticks": "",
           "title": {
            "standoff": 15
           },
           "zerolinecolor": "white",
           "zerolinewidth": 2
          },
          "yaxis": {
           "automargin": true,
           "gridcolor": "white",
           "linecolor": "white",
           "ticks": "",
           "title": {
            "standoff": 15
           },
           "zerolinecolor": "white",
           "zerolinewidth": 2
          }
         }
        },
        "title": {
         "font": {
          "size": 30
         },
         "text": "Top 15 Lengthiest Reads by Title and Author",
         "x": 0.5
        },
        "xaxis": {
         "anchor": "y",
         "domain": [
          0,
          1
         ],
         "title": {
          "text": "Number of pages"
         }
        },
        "yaxis": {
         "anchor": "x",
         "categoryarray": [
          "Infidel by Ayaan Hirsi Ali",
          "1984 by George Orwell",
          "The God Delusion by Richard Dawkins",
          "Economics: The User's Guide by Ha-Joon Chang",
          "A Brief History of How the Industrial Revolution Changed the World by Thomas Crump",
          "Mengemudi Bahtera Perubahan Minda by Mohd Asri Zainul Abidin",
          "My Sister's Keeper by Jodi Picoult",
          "Humans of New York: Stories by Brandon Stanton",
          "The Ascent of Man by Jacob Bronowski",
          "The Demon-Haunted World: Science as a Candle in the Dark by Carl Sagan",
          "The Body Keeps the Score  by Bessel van der Kolk",
          "Sapiens: A Brief History of Humankind by Yuval Noah Harari",
          "Crime and Punishment by Fyodor Dostoevsky",
          "The Second Sex by Simone de Beauvoir",
          "A Doctor in the House by Mahathir Mohamad"
         ],
         "categoryorder": "total ascending",
         "domain": [
          0,
          1
         ],
         "title": {
          "text": "Book"
         }
        }
       }
      }
     },
     "metadata": {},
     "output_type": "display_data"
    }
   ],
   "source": [
    "# the thickest books Ive ever read \n",
    "import pandas as pd\n",
    "import plotly.express as px\n",
    "\n",
    "# sort pages in desc order and select the top 10\n",
    "top_10_books = books.sort_values('Pages', ascending=False).head(15)\n",
    "\n",
    "# combine author and title for label\n",
    "top_10_books['Label'] = top_10_books['Title'] + ' by ' + top_10_books['Author']\n",
    "\n",
    "#colors \n",
    "colors = ['#1f77b4','#2ca02c', '#d62728', '#9467bd', \n",
    "          '#8c564b', '#e377c2', '#7f7f7f', '#bcbd22', '#17becf',\n",
    "          '#f5a3a2', '#ffb6c1', '#ffcccb', '#ff7f0e', '#c2c2f0', '#ff6666']\n",
    "\n",
    "# plot chart\n",
    "fig = px.bar(\n",
    "    top_10_books, \n",
    "    x='Pages',\n",
    "    y='Label',\n",
    "    orientation='h',\n",
    "    title='Top 15 Lengthiest Reads by Title and Author',\n",
    "    labels={'Label': 'Book', 'Pages': 'Number of pages'},\n",
    "    height=600,\n",
    "    color=top_10_books['Label'],                            #this ensures color is mapped correctly\n",
    "    color_discrete_sequence=colors,\n",
    "    hover_data={'Origin': True, 'Genre':True, 'Year Published': True}\n",
    ")\n",
    "\n",
    "fig.update_layout(\n",
    "    title_x=0.5,\n",
    "    title_font_size=30,\n",
    "    yaxis={'categoryorder': 'total ascending'},\n",
    "    showlegend=False,\n",
    "    )\n",
    "\n",
    "fig.show()\n"
   ]
  },
  {
   "cell_type": "code",
   "execution_count": 30,
   "metadata": {},
   "outputs": [
    {
     "data": {
      "application/vnd.plotly.v1+json": {
       "config": {
        "plotlyServerURL": "https://plot.ly"
       },
       "data": [
        {
         "customdata": [
          [
           "France",
           "Satire",
           129
          ],
          [
           "UK",
           "Philosophy",
           187
          ],
          [
           "Russia",
           "Crime",
           671
          ],
          [
           "UK",
           "Science",
           264
          ],
          [
           "Czechia",
           "Existential",
           201
          ],
          [
           "UK",
           "Philosophy",
           157
          ],
          [
           "Germany",
           "War",
           300
          ],
          [
           "Austria",
           "Psychology",
           127
          ],
          [
           "Egypt",
           "Faith",
           200
          ],
          [
           "Algeria",
           "Philosophy",
           159
          ],
          [
           "UK",
           "Dystopian",
           122
          ],
          [
           "Austria",
           "Autobiography",
           165
          ],
          [
           "Germany",
           "Autobiography",
           283
          ],
          [
           "France",
           "Feminism",
           746
          ],
          [
           "UK",
           "Dystopian",
           368
          ]
         ],
         "hovertemplate": "Year Published=%{marker.color}<br>Label=%{y}<br>Origin=%{customdata[0]}<br>Genre=%{customdata[1]}<br>Pages=%{customdata[2]}<extra></extra>",
         "legendgroup": "",
         "marker": {
          "color": [
           1759,
           1859,
           1866,
           1914,
           1915,
           1928,
           1928,
           1930,
           1940,
           1942,
           1945,
           1946,
           1947,
           1949,
           1949
          ],
          "coloraxis": "coloraxis",
          "size": [
           1759,
           1859,
           1866,
           1914,
           1915,
           1928,
           1928,
           1930,
           1940,
           1942,
           1945,
           1946,
           1947,
           1949,
           1949
          ],
          "sizemode": "area",
          "sizeref": 4.8725,
          "symbol": "circle"
         },
         "mode": "markers",
         "name": "",
         "orientation": "h",
         "showlegend": false,
         "type": "scatter",
         "x": [
          1759,
          1859,
          1866,
          1914,
          1915,
          1928,
          1928,
          1930,
          1940,
          1942,
          1945,
          1946,
          1947,
          1949,
          1949
         ],
         "xaxis": "x",
         "y": [
          "Candide by Voltaire",
          "On Liberty by John Stuart Mill",
          "Crime and Punishment by Fyodor Dostoevsky",
          "The Principles of Evolution. by Joseph McCabe",
          "The Metamorphosis by Franz Kafka",
          "Civilization by Clive  Bell",
          "All Quiet on the Western Front by Erich Maria Remarque",
          "Civilization and Its Discontents by Sigmund Freud",
          "20 Principles by Hassan Al Banna",
          "The Stranger by Albert Camus",
          "Animal Farm by George Orwell",
          "Man's Search for Meaning by Viktor E. Frankl",
          "The Diary of a Young Girl by Anne Frank",
          "The Second Sex by Simone de Beauvoir",
          "1984 by George Orwell"
         ],
         "yaxis": "y"
        }
       ],
       "layout": {
        "coloraxis": {
         "colorbar": {
          "title": {
           "text": "Year Published"
          }
         },
         "colorscale": [
          [
           0,
           "#0d0887"
          ],
          [
           0.1111111111111111,
           "#46039f"
          ],
          [
           0.2222222222222222,
           "#7201a8"
          ],
          [
           0.3333333333333333,
           "#9c179e"
          ],
          [
           0.4444444444444444,
           "#bd3786"
          ],
          [
           0.5555555555555556,
           "#d8576b"
          ],
          [
           0.6666666666666666,
           "#ed7953"
          ],
          [
           0.7777777777777778,
           "#fb9f3a"
          ],
          [
           0.8888888888888888,
           "#fdca26"
          ],
          [
           1,
           "#f0f921"
          ]
         ]
        },
        "height": 600,
        "legend": {
         "itemsizing": "constant",
         "tracegroupgap": 0
        },
        "template": {
         "data": {
          "bar": [
           {
            "error_x": {
             "color": "#2a3f5f"
            },
            "error_y": {
             "color": "#2a3f5f"
            },
            "marker": {
             "line": {
              "color": "#E5ECF6",
              "width": 0.5
             },
             "pattern": {
              "fillmode": "overlay",
              "size": 10,
              "solidity": 0.2
             }
            },
            "type": "bar"
           }
          ],
          "barpolar": [
           {
            "marker": {
             "line": {
              "color": "#E5ECF6",
              "width": 0.5
             },
             "pattern": {
              "fillmode": "overlay",
              "size": 10,
              "solidity": 0.2
             }
            },
            "type": "barpolar"
           }
          ],
          "carpet": [
           {
            "aaxis": {
             "endlinecolor": "#2a3f5f",
             "gridcolor": "white",
             "linecolor": "white",
             "minorgridcolor": "white",
             "startlinecolor": "#2a3f5f"
            },
            "baxis": {
             "endlinecolor": "#2a3f5f",
             "gridcolor": "white",
             "linecolor": "white",
             "minorgridcolor": "white",
             "startlinecolor": "#2a3f5f"
            },
            "type": "carpet"
           }
          ],
          "choropleth": [
           {
            "colorbar": {
             "outlinewidth": 0,
             "ticks": ""
            },
            "type": "choropleth"
           }
          ],
          "contour": [
           {
            "colorbar": {
             "outlinewidth": 0,
             "ticks": ""
            },
            "colorscale": [
             [
              0,
              "#0d0887"
             ],
             [
              0.1111111111111111,
              "#46039f"
             ],
             [
              0.2222222222222222,
              "#7201a8"
             ],
             [
              0.3333333333333333,
              "#9c179e"
             ],
             [
              0.4444444444444444,
              "#bd3786"
             ],
             [
              0.5555555555555556,
              "#d8576b"
             ],
             [
              0.6666666666666666,
              "#ed7953"
             ],
             [
              0.7777777777777778,
              "#fb9f3a"
             ],
             [
              0.8888888888888888,
              "#fdca26"
             ],
             [
              1,
              "#f0f921"
             ]
            ],
            "type": "contour"
           }
          ],
          "contourcarpet": [
           {
            "colorbar": {
             "outlinewidth": 0,
             "ticks": ""
            },
            "type": "contourcarpet"
           }
          ],
          "heatmap": [
           {
            "colorbar": {
             "outlinewidth": 0,
             "ticks": ""
            },
            "colorscale": [
             [
              0,
              "#0d0887"
             ],
             [
              0.1111111111111111,
              "#46039f"
             ],
             [
              0.2222222222222222,
              "#7201a8"
             ],
             [
              0.3333333333333333,
              "#9c179e"
             ],
             [
              0.4444444444444444,
              "#bd3786"
             ],
             [
              0.5555555555555556,
              "#d8576b"
             ],
             [
              0.6666666666666666,
              "#ed7953"
             ],
             [
              0.7777777777777778,
              "#fb9f3a"
             ],
             [
              0.8888888888888888,
              "#fdca26"
             ],
             [
              1,
              "#f0f921"
             ]
            ],
            "type": "heatmap"
           }
          ],
          "heatmapgl": [
           {
            "colorbar": {
             "outlinewidth": 0,
             "ticks": ""
            },
            "colorscale": [
             [
              0,
              "#0d0887"
             ],
             [
              0.1111111111111111,
              "#46039f"
             ],
             [
              0.2222222222222222,
              "#7201a8"
             ],
             [
              0.3333333333333333,
              "#9c179e"
             ],
             [
              0.4444444444444444,
              "#bd3786"
             ],
             [
              0.5555555555555556,
              "#d8576b"
             ],
             [
              0.6666666666666666,
              "#ed7953"
             ],
             [
              0.7777777777777778,
              "#fb9f3a"
             ],
             [
              0.8888888888888888,
              "#fdca26"
             ],
             [
              1,
              "#f0f921"
             ]
            ],
            "type": "heatmapgl"
           }
          ],
          "histogram": [
           {
            "marker": {
             "pattern": {
              "fillmode": "overlay",
              "size": 10,
              "solidity": 0.2
             }
            },
            "type": "histogram"
           }
          ],
          "histogram2d": [
           {
            "colorbar": {
             "outlinewidth": 0,
             "ticks": ""
            },
            "colorscale": [
             [
              0,
              "#0d0887"
             ],
             [
              0.1111111111111111,
              "#46039f"
             ],
             [
              0.2222222222222222,
              "#7201a8"
             ],
             [
              0.3333333333333333,
              "#9c179e"
             ],
             [
              0.4444444444444444,
              "#bd3786"
             ],
             [
              0.5555555555555556,
              "#d8576b"
             ],
             [
              0.6666666666666666,
              "#ed7953"
             ],
             [
              0.7777777777777778,
              "#fb9f3a"
             ],
             [
              0.8888888888888888,
              "#fdca26"
             ],
             [
              1,
              "#f0f921"
             ]
            ],
            "type": "histogram2d"
           }
          ],
          "histogram2dcontour": [
           {
            "colorbar": {
             "outlinewidth": 0,
             "ticks": ""
            },
            "colorscale": [
             [
              0,
              "#0d0887"
             ],
             [
              0.1111111111111111,
              "#46039f"
             ],
             [
              0.2222222222222222,
              "#7201a8"
             ],
             [
              0.3333333333333333,
              "#9c179e"
             ],
             [
              0.4444444444444444,
              "#bd3786"
             ],
             [
              0.5555555555555556,
              "#d8576b"
             ],
             [
              0.6666666666666666,
              "#ed7953"
             ],
             [
              0.7777777777777778,
              "#fb9f3a"
             ],
             [
              0.8888888888888888,
              "#fdca26"
             ],
             [
              1,
              "#f0f921"
             ]
            ],
            "type": "histogram2dcontour"
           }
          ],
          "mesh3d": [
           {
            "colorbar": {
             "outlinewidth": 0,
             "ticks": ""
            },
            "type": "mesh3d"
           }
          ],
          "parcoords": [
           {
            "line": {
             "colorbar": {
              "outlinewidth": 0,
              "ticks": ""
             }
            },
            "type": "parcoords"
           }
          ],
          "pie": [
           {
            "automargin": true,
            "type": "pie"
           }
          ],
          "scatter": [
           {
            "fillpattern": {
             "fillmode": "overlay",
             "size": 10,
             "solidity": 0.2
            },
            "type": "scatter"
           }
          ],
          "scatter3d": [
           {
            "line": {
             "colorbar": {
              "outlinewidth": 0,
              "ticks": ""
             }
            },
            "marker": {
             "colorbar": {
              "outlinewidth": 0,
              "ticks": ""
             }
            },
            "type": "scatter3d"
           }
          ],
          "scattercarpet": [
           {
            "marker": {
             "colorbar": {
              "outlinewidth": 0,
              "ticks": ""
             }
            },
            "type": "scattercarpet"
           }
          ],
          "scattergeo": [
           {
            "marker": {
             "colorbar": {
              "outlinewidth": 0,
              "ticks": ""
             }
            },
            "type": "scattergeo"
           }
          ],
          "scattergl": [
           {
            "marker": {
             "colorbar": {
              "outlinewidth": 0,
              "ticks": ""
             }
            },
            "type": "scattergl"
           }
          ],
          "scattermapbox": [
           {
            "marker": {
             "colorbar": {
              "outlinewidth": 0,
              "ticks": ""
             }
            },
            "type": "scattermapbox"
           }
          ],
          "scatterpolar": [
           {
            "marker": {
             "colorbar": {
              "outlinewidth": 0,
              "ticks": ""
             }
            },
            "type": "scatterpolar"
           }
          ],
          "scatterpolargl": [
           {
            "marker": {
             "colorbar": {
              "outlinewidth": 0,
              "ticks": ""
             }
            },
            "type": "scatterpolargl"
           }
          ],
          "scatterternary": [
           {
            "marker": {
             "colorbar": {
              "outlinewidth": 0,
              "ticks": ""
             }
            },
            "type": "scatterternary"
           }
          ],
          "surface": [
           {
            "colorbar": {
             "outlinewidth": 0,
             "ticks": ""
            },
            "colorscale": [
             [
              0,
              "#0d0887"
             ],
             [
              0.1111111111111111,
              "#46039f"
             ],
             [
              0.2222222222222222,
              "#7201a8"
             ],
             [
              0.3333333333333333,
              "#9c179e"
             ],
             [
              0.4444444444444444,
              "#bd3786"
             ],
             [
              0.5555555555555556,
              "#d8576b"
             ],
             [
              0.6666666666666666,
              "#ed7953"
             ],
             [
              0.7777777777777778,
              "#fb9f3a"
             ],
             [
              0.8888888888888888,
              "#fdca26"
             ],
             [
              1,
              "#f0f921"
             ]
            ],
            "type": "surface"
           }
          ],
          "table": [
           {
            "cells": {
             "fill": {
              "color": "#EBF0F8"
             },
             "line": {
              "color": "white"
             }
            },
            "header": {
             "fill": {
              "color": "#C8D4E3"
             },
             "line": {
              "color": "white"
             }
            },
            "type": "table"
           }
          ]
         },
         "layout": {
          "annotationdefaults": {
           "arrowcolor": "#2a3f5f",
           "arrowhead": 0,
           "arrowwidth": 1
          },
          "autotypenumbers": "strict",
          "coloraxis": {
           "colorbar": {
            "outlinewidth": 0,
            "ticks": ""
           }
          },
          "colorscale": {
           "diverging": [
            [
             0,
             "#8e0152"
            ],
            [
             0.1,
             "#c51b7d"
            ],
            [
             0.2,
             "#de77ae"
            ],
            [
             0.3,
             "#f1b6da"
            ],
            [
             0.4,
             "#fde0ef"
            ],
            [
             0.5,
             "#f7f7f7"
            ],
            [
             0.6,
             "#e6f5d0"
            ],
            [
             0.7,
             "#b8e186"
            ],
            [
             0.8,
             "#7fbc41"
            ],
            [
             0.9,
             "#4d9221"
            ],
            [
             1,
             "#276419"
            ]
           ],
           "sequential": [
            [
             0,
             "#0d0887"
            ],
            [
             0.1111111111111111,
             "#46039f"
            ],
            [
             0.2222222222222222,
             "#7201a8"
            ],
            [
             0.3333333333333333,
             "#9c179e"
            ],
            [
             0.4444444444444444,
             "#bd3786"
            ],
            [
             0.5555555555555556,
             "#d8576b"
            ],
            [
             0.6666666666666666,
             "#ed7953"
            ],
            [
             0.7777777777777778,
             "#fb9f3a"
            ],
            [
             0.8888888888888888,
             "#fdca26"
            ],
            [
             1,
             "#f0f921"
            ]
           ],
           "sequentialminus": [
            [
             0,
             "#0d0887"
            ],
            [
             0.1111111111111111,
             "#46039f"
            ],
            [
             0.2222222222222222,
             "#7201a8"
            ],
            [
             0.3333333333333333,
             "#9c179e"
            ],
            [
             0.4444444444444444,
             "#bd3786"
            ],
            [
             0.5555555555555556,
             "#d8576b"
            ],
            [
             0.6666666666666666,
             "#ed7953"
            ],
            [
             0.7777777777777778,
             "#fb9f3a"
            ],
            [
             0.8888888888888888,
             "#fdca26"
            ],
            [
             1,
             "#f0f921"
            ]
           ]
          },
          "colorway": [
           "#636efa",
           "#EF553B",
           "#00cc96",
           "#ab63fa",
           "#FFA15A",
           "#19d3f3",
           "#FF6692",
           "#B6E880",
           "#FF97FF",
           "#FECB52"
          ],
          "font": {
           "color": "#2a3f5f"
          },
          "geo": {
           "bgcolor": "white",
           "lakecolor": "white",
           "landcolor": "#E5ECF6",
           "showlakes": true,
           "showland": true,
           "subunitcolor": "white"
          },
          "hoverlabel": {
           "align": "left"
          },
          "hovermode": "closest",
          "mapbox": {
           "style": "light"
          },
          "paper_bgcolor": "white",
          "plot_bgcolor": "#E5ECF6",
          "polar": {
           "angularaxis": {
            "gridcolor": "white",
            "linecolor": "white",
            "ticks": ""
           },
           "bgcolor": "#E5ECF6",
           "radialaxis": {
            "gridcolor": "white",
            "linecolor": "white",
            "ticks": ""
           }
          },
          "scene": {
           "xaxis": {
            "backgroundcolor": "#E5ECF6",
            "gridcolor": "white",
            "gridwidth": 2,
            "linecolor": "white",
            "showbackground": true,
            "ticks": "",
            "zerolinecolor": "white"
           },
           "yaxis": {
            "backgroundcolor": "#E5ECF6",
            "gridcolor": "white",
            "gridwidth": 2,
            "linecolor": "white",
            "showbackground": true,
            "ticks": "",
            "zerolinecolor": "white"
           },
           "zaxis": {
            "backgroundcolor": "#E5ECF6",
            "gridcolor": "white",
            "gridwidth": 2,
            "linecolor": "white",
            "showbackground": true,
            "ticks": "",
            "zerolinecolor": "white"
           }
          },
          "shapedefaults": {
           "line": {
            "color": "#2a3f5f"
           }
          },
          "ternary": {
           "aaxis": {
            "gridcolor": "white",
            "linecolor": "white",
            "ticks": ""
           },
           "baxis": {
            "gridcolor": "white",
            "linecolor": "white",
            "ticks": ""
           },
           "bgcolor": "#E5ECF6",
           "caxis": {
            "gridcolor": "white",
            "linecolor": "white",
            "ticks": ""
           }
          },
          "title": {
           "x": 0.05
          },
          "xaxis": {
           "automargin": true,
           "gridcolor": "white",
           "linecolor": "white",
           "ticks": "",
           "title": {
            "standoff": 15
           },
           "zerolinecolor": "white",
           "zerolinewidth": 2
          },
          "yaxis": {
           "automargin": true,
           "gridcolor": "white",
           "linecolor": "white",
           "ticks": "",
           "title": {
            "standoff": 15
           },
           "zerolinecolor": "white",
           "zerolinewidth": 2
          }
         }
        },
        "title": {
         "font": {
          "size": 30
         },
         "text": "Top 15 oldest Books by Title and Author",
         "x": 0.5
        },
        "xaxis": {
         "anchor": "y",
         "domain": [
          0,
          1
         ],
         "title": {
          "text": "Year Published"
         }
        },
        "yaxis": {
         "anchor": "x",
         "categoryorder": "total ascending",
         "domain": [
          0,
          1
         ],
         "title": {
          "text": "Book"
         }
        }
       }
      }
     },
     "metadata": {},
     "output_type": "display_data"
    }
   ],
   "source": [
    "# the oldest books Ive ever read \n",
    "import pandas as pd\n",
    "import plotly.express as px\n",
    "\n",
    "# sort pages in desc order and select the top 10\n",
    "oldest_books = books.sort_values('Year Published', ascending=True).head(15)\n",
    "\n",
    "# combine author and title for label\n",
    "oldest_books['Label'] = oldest_books['Title'] + ' by ' + oldest_books['Author']\n",
    "\n",
    "# plot chart\n",
    "fig = px.scatter(\n",
    "    oldest_books, \n",
    "    x='Year Published',\n",
    "    y='Label',\n",
    "    color='Year Published',\n",
    "    size='Year Published',\n",
    "    title='Top 15 oldest Books by Title and Author',\n",
    "    height=600,\n",
    "    hover_data={'Origin': True, 'Genre':True, 'Pages':True}\n",
    ")\n",
    "\n",
    "fig.update_layout(\n",
    "    title_x=0.5,\n",
    "    title_font_size=30,\n",
    "    xaxis_title='Year Published',\n",
    "    yaxis_title='Book',\n",
    "    yaxis={'categoryorder': 'total ascending'},\n",
    "    )\n",
    "\n",
    "fig.show()"
   ]
  },
  {
   "cell_type": "code",
   "execution_count": null,
   "metadata": {},
   "outputs": [],
   "source": []
  }
 ],
 "metadata": {
  "kernelspec": {
   "display_name": "base",
   "language": "python",
   "name": "python3"
  },
  "language_info": {
   "codemirror_mode": {
    "name": "ipython",
    "version": 3
   },
   "file_extension": ".py",
   "mimetype": "text/x-python",
   "name": "python",
   "nbconvert_exporter": "python",
   "pygments_lexer": "ipython3",
   "version": "3.12.3"
  }
 },
 "nbformat": 4,
 "nbformat_minor": 2
}
