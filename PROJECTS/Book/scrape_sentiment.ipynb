{
 "cells": [
  {
   "cell_type": "code",
   "execution_count": 2,
   "metadata": {},
   "outputs": [
    {
     "data": {
      "text/html": [
       "<div>\n",
       "<style scoped>\n",
       "    .dataframe tbody tr th:only-of-type {\n",
       "        vertical-align: middle;\n",
       "    }\n",
       "\n",
       "    .dataframe tbody tr th {\n",
       "        vertical-align: top;\n",
       "    }\n",
       "\n",
       "    .dataframe thead th {\n",
       "        text-align: right;\n",
       "    }\n",
       "</style>\n",
       "<table border=\"1\" class=\"dataframe\">\n",
       "  <thead>\n",
       "    <tr style=\"text-align: right;\">\n",
       "      <th></th>\n",
       "      <th>ID</th>\n",
       "      <th>Title</th>\n",
       "      <th>Author</th>\n",
       "      <th>Fiction</th>\n",
       "      <th>Genre</th>\n",
       "      <th>Gender</th>\n",
       "      <th>Origin</th>\n",
       "      <th>Language</th>\n",
       "      <th>Pages</th>\n",
       "      <th>Year Published</th>\n",
       "      <th>Centuries</th>\n",
       "      <th>Nobel Prize</th>\n",
       "      <th>Avg_rating</th>\n",
       "      <th>Num_rating</th>\n",
       "      <th>Num_reviews</th>\n",
       "      <th>textblob_sentiment</th>\n",
       "      <th>vader_sentiment</th>\n",
       "      <th>URL</th>\n",
       "    </tr>\n",
       "  </thead>\n",
       "  <tbody>\n",
       "    <tr>\n",
       "      <th>0</th>\n",
       "      <td>1</td>\n",
       "      <td>1984</td>\n",
       "      <td>George Orwell</td>\n",
       "      <td>Fiction</td>\n",
       "      <td>Dystopian</td>\n",
       "      <td>male</td>\n",
       "      <td>UK</td>\n",
       "      <td>English</td>\n",
       "      <td>368</td>\n",
       "      <td>1949</td>\n",
       "      <td>20th</td>\n",
       "      <td>NaN</td>\n",
       "      <td>4.19</td>\n",
       "      <td>4795158</td>\n",
       "      <td>124200</td>\n",
       "      <td>0.142063</td>\n",
       "      <td>0.8847</td>\n",
       "      <td>https://www.goodreads.com/book/show/61439040-1...</td>\n",
       "    </tr>\n",
       "    <tr>\n",
       "      <th>1</th>\n",
       "      <td>2</td>\n",
       "      <td>100 Headlines That Changed the World</td>\n",
       "      <td>James Maloney</td>\n",
       "      <td>Non-fiction</td>\n",
       "      <td>History</td>\n",
       "      <td>male</td>\n",
       "      <td>UK</td>\n",
       "      <td>English</td>\n",
       "      <td>309</td>\n",
       "      <td>2012</td>\n",
       "      <td>21st</td>\n",
       "      <td>NaN</td>\n",
       "      <td>3.57</td>\n",
       "      <td>141</td>\n",
       "      <td>23</td>\n",
       "      <td>0.173077</td>\n",
       "      <td>0.6115</td>\n",
       "      <td>https://www.goodreads.com/book/show/14567468-1...</td>\n",
       "    </tr>\n",
       "    <tr>\n",
       "      <th>2</th>\n",
       "      <td>3</td>\n",
       "      <td>20 Principles</td>\n",
       "      <td>Hassan Al Banna</td>\n",
       "      <td>Non-fiction</td>\n",
       "      <td>Faith</td>\n",
       "      <td>male</td>\n",
       "      <td>Egypt</td>\n",
       "      <td>Arabic</td>\n",
       "      <td>200</td>\n",
       "      <td>1940</td>\n",
       "      <td>20th</td>\n",
       "      <td>NaN</td>\n",
       "      <td>4.35</td>\n",
       "      <td>37</td>\n",
       "      <td>3</td>\n",
       "      <td>0.228333</td>\n",
       "      <td>0.9349</td>\n",
       "      <td>https://www.goodreads.com/book/show/8594271-us...</td>\n",
       "    </tr>\n",
       "  </tbody>\n",
       "</table>\n",
       "</div>"
      ],
      "text/plain": [
       "   ID                                 Title           Author      Fiction  \\\n",
       "0   1                                  1984    George Orwell      Fiction   \n",
       "1   2  100 Headlines That Changed the World    James Maloney  Non-fiction   \n",
       "2   3                         20 Principles  Hassan Al Banna  Non-fiction   \n",
       "\n",
       "       Genre Gender Origin Language  Pages  Year Published Centuries  \\\n",
       "0  Dystopian   male     UK  English    368            1949      20th   \n",
       "1    History   male     UK  English    309            2012      21st   \n",
       "2      Faith   male  Egypt   Arabic    200            1940      20th   \n",
       "\n",
       "  Nobel Prize  Avg_rating  Num_rating  Num_reviews  textblob_sentiment  \\\n",
       "0         NaN        4.19     4795158       124200            0.142063   \n",
       "1         NaN        3.57         141           23            0.173077   \n",
       "2         NaN        4.35          37            3            0.228333   \n",
       "\n",
       "   vader_sentiment                                                URL  \n",
       "0           0.8847  https://www.goodreads.com/book/show/61439040-1...  \n",
       "1           0.6115  https://www.goodreads.com/book/show/14567468-1...  \n",
       "2           0.9349  https://www.goodreads.com/book/show/8594271-us...  "
      ]
     },
     "execution_count": 2,
     "metadata": {},
     "output_type": "execute_result"
    }
   ],
   "source": [
    "import pandas as pd\n",
    "\n",
    "book_url = pd.read_csv(r'./Goodreads.csv')\n",
    "\n",
    "book_url.head(3)\n",
    "\n",
    "# book_url.to_json(\"books.json\", orient=\"records\")"
   ]
  },
  {
   "cell_type": "code",
   "execution_count": 3,
   "metadata": {},
   "outputs": [
    {
     "data": {
      "text/plain": [
       "Index(['ID', 'Title', 'Author', 'Fiction', 'Genre', 'Gender', 'Origin',\n",
       "       'Language', 'Pages', 'Year Published', 'Centuries', 'Nobel Prize',\n",
       "       'Avg_rating', 'Num_rating', 'Num_reviews', 'textblob_sentiment',\n",
       "       'vader_sentiment', 'URL'],\n",
       "      dtype='object')"
      ]
     },
     "execution_count": 3,
     "metadata": {},
     "output_type": "execute_result"
    }
   ],
   "source": [
    "book_url.columns"
   ]
  },
  {
   "cell_type": "markdown",
   "metadata": {},
   "source": [
    "# TESTING - GOODREADS\n",
    "\n",
    "- I was not sure if this would work but I tried scraping summaries from 2 books and it worked!"
   ]
  },
  {
   "cell_type": "code",
   "execution_count": 4,
   "metadata": {},
   "outputs": [
    {
     "name": "stdout",
     "output_type": "stream",
     "text": [
      "If you grew up with an emotionally immature, unavailable, or selfish parent, you may have lingering feelings of anger, loneliness, betrayal, or abandonment. You may recall your childhood as a time when your emotional needs were not met, when your feelings were dismissed, or when you took on adult levels of responsibility in an effort to compensate for your parent’s behavior. These wounds can be healed, and you can move forward in your life.In this breakthrough book, clinical psychologist Lindsay Gibson exposes the destructive nature of parents who are emotionally immature or unavailable. You will see how these parents create a sense of neglect, and discover ways to heal from the pain and confusion caused by your childhood. By freeing yourself from your parents’ emotional immaturity, you can recover your true nature, control how you react to them, and avoid disappointment. Finally, you’ll learn how to create positive, new relationships so you can build a better life.Discover the four types of difficult parents:The emotional parent instills feelings of instability and anxietyThe driven parent stays busy trying to perfect everything and everyoneThe passive parent avoids dealing with anything upsettingThe rejecting parent is withdrawn, dismissive, and derogatory\n"
     ]
    }
   ],
   "source": [
    "import requests\n",
    "from bs4 import BeautifulSoup\n",
    "\n",
    "# Function to scrape the summary from Goodreads\n",
    "def get_goodreads_summary(url):\n",
    "    # Send a GET request to the URL\n",
    "    response = requests.get(url)\n",
    "    \n",
    "    # Check if the request was successful\n",
    "    if response.status_code == 200:\n",
    "        # Parse the HTML content\n",
    "        soup = BeautifulSoup(response.content, 'html.parser')\n",
    "        \n",
    "        # Find the summary element\n",
    "        summary = soup.find('div', class_='DetailsLayoutRightParagraph__widthConstrained')\n",
    "        \n",
    "        # If summary is found, return it\n",
    "        if summary:\n",
    "            return summary.text.strip()\n",
    "        else:\n",
    "            return \"Summary not found.\"\n",
    "    else:\n",
    "        return \"Failed to retrieve the page.\"\n",
    "\n",
    "# Example usage\n",
    "url = 'https://www.goodreads.com/book/show/23129659-adult-children-of-emotionally-immature-parents'\n",
    "summary = get_goodreads_summary(url)\n",
    "print(summary)\n"
   ]
  },
  {
   "cell_type": "code",
   "execution_count": 5,
   "metadata": {},
   "outputs": [
    {
     "name": "stdout",
     "output_type": "stream",
     "text": [
      "It’s a shy word, a timid little word that begs to remain unnoticed. Only three letters long, and it begins with an exhortation to silence. Shhh. There’s no authority in it, no control. It’s a blushing, hunching word; a nervous, knock-kneed, wallflower word. A word for children, not grown-ups, because surely grown-ups grow out of shyness. Don’t they?SIAN PRIOR has maintained a career in the public eye for more than twenty years. For far longer than that she has suffered from excruciating shyness, only partly alleviated by the security she finds with her famous partner Tom. Eventually, after bolting from a party in a state of near-panic, she decides to learn about the science of social anxiety. But soon other questions intrude. About grief, intimacy, self-perception and fear; loss and longing and the consequences of love.Then Tom says he is leaving.Frank, provocative, remarkable in its clarity and beautifully written—Shy is a book you will be thinking and talking about long after you read the final page.\n"
     ]
    }
   ],
   "source": [
    "import requests\n",
    "from bs4 import BeautifulSoup\n",
    "\n",
    "# Function to scrape the summary from Goodreads\n",
    "def get_goodreads_summary(url):\n",
    "    # Send a GET request to the URL\n",
    "    response = requests.get(url)\n",
    "    \n",
    "    # Check if the request was successful\n",
    "    if response.status_code == 200:\n",
    "        # Parse the HTML content\n",
    "        soup = BeautifulSoup(response.content, 'html.parser')\n",
    "        \n",
    "        # Find the summary element\n",
    "        summary = soup.find('div', class_='DetailsLayoutRightParagraph__widthConstrained')\n",
    "        \n",
    "        # If summary is found, return it\n",
    "        if summary:\n",
    "            return summary.text.strip()\n",
    "        else:\n",
    "            return \"Summary not found.\"\n",
    "    else:\n",
    "        return \"Failed to retrieve the page.\"\n",
    "\n",
    "# Example usage\n",
    "url = 'https://www.goodreads.com/book/show/22040760-shy'\n",
    "summary = get_goodreads_summary(url)\n",
    "print(summary)\n"
   ]
  },
  {
   "cell_type": "markdown",
   "metadata": {},
   "source": [
    "# Scrapign summary of 100 books from Goodreads\n",
    "\n",
    "**Steps**\n",
    "1) Create a funciton to scrape the summary from URLs\n",
    "2) Add new column for summaries\n",
    "3) Loop through each url\n",
    "4) Save the updated data frame\n",
    "\n",
    "**Time taken to scrape 100 books**: 6 mins and a half\n",
    "\n",
    "# Anomalies\n",
    "\n",
    "**Books with malay summaries**\n",
    "- Solution: Translate them to English manually\n",
    "    1) ANTITHESIS\n",
    "    2) Islam dalam Sejarah dan Kebudayaan Melayu\n",
    "    3) Mengemudi Bahtera Perubahan Minda\n",
    "\n",
    "**Books whose summaries are in foreign languages (idk why this is so funny lol)**\n",
    "- Solution: Translate them to English manually\n",
    "    1) F**K It Therapy\n",
    "    2) Life Lessons From Freud\n",
    "\n",
    "**Empty summary**\n",
    "- Solution: Extracts alternative summaries from Google Book \n",
    "    1) 20 Principles: Couldnt find one\n",
    "    2) Mencari Jalan Pulang: Couldn't find one\n",
    "    3) The Story of Evolution: https://books.google.com.my/books/about/The_Story_of_Evolution.html?id=3yjEDwAAQBAJ&source=kp_book_description&redir_esc=y\n",
    "    4) Travelog Minda Tajdid: Catatan Perjalanan Dari Tanah Barat: https://books.google.com.my/books/about/Travelog_Minda_Tajdid.html?id=UbEQAgAAQBAJ&redir_esc=y\n"
   ]
  },
  {
   "cell_type": "code",
   "execution_count": 6,
   "metadata": {},
   "outputs": [],
   "source": [
    "# import requests\n",
    "# from bs4 import BeautifulSoup\n",
    "# import pandas as pd\n",
    "# import json \n",
    "\n",
    "# # function to scrape summary from url\n",
    "# def get_goodreads_summary(url):\n",
    "#     response = requests.get(url)\n",
    "    \n",
    "#     if response.status_code == 200:\n",
    "#         soup = BeautifulSoup(response.content, 'html.parser')\n",
    "#         summary = soup.find('div', class_='DetailsLayoutRightParagraph__widthConstrained')\n",
    "        \n",
    "#         if summary:\n",
    "#             return summary.get_text(strip=True)\n",
    "#         else: \n",
    "#             return 'Summary not found.'\n",
    "    \n",
    "#     else:\n",
    "#         return 'Failed to retrieve the page'\n",
    "    \n",
    "# #create new column for summary (book_url my dataframe)\n",
    "# book_url['Summary'] = ''\n",
    "\n",
    "# # loop through each url and scrape summary\n",
    "# for index, row in book_url.iterrows():\n",
    "#     url = row['URL'].strip()\n",
    "#     book_url.at[index, 'Summary'] = get_goodreads_summary(url)\n",
    "    \n",
    "# # #save the updated df to a new csv file\n",
    "# # book_url[['Title', 'Author', 'URL', 'Summary']].to_csv('book_summaries.csv', index=False)"
   ]
  },
  {
   "cell_type": "markdown",
   "metadata": {},
   "source": [
    "# Sentiment Analysis\n",
    "\n",
    "**TYPES:**\n",
    "- TextBlob\n",
    "- VADER\n",
    "\n",
    "**How I do it**\n",
    "- I run all texblob and VADER analysis and compile them all in 'sentiment_analysis.csv'"
   ]
  },
  {
   "cell_type": "code",
   "execution_count": 7,
   "metadata": {},
   "outputs": [
    {
     "data": {
      "text/plain": [
       "Index(['Title', 'Author', 'URL', 'Summary'], dtype='object')"
      ]
     },
     "execution_count": 7,
     "metadata": {},
     "output_type": "execute_result"
    }
   ],
   "source": [
    "book_summary = pd.read_csv('./book_summaries.csv', encoding='latin1')\n",
    "book_summary.columns"
   ]
  },
  {
   "cell_type": "code",
   "execution_count": 8,
   "metadata": {},
   "outputs": [
    {
     "data": {
      "text/html": [
       "<div>\n",
       "<style scoped>\n",
       "    .dataframe tbody tr th:only-of-type {\n",
       "        vertical-align: middle;\n",
       "    }\n",
       "\n",
       "    .dataframe tbody tr th {\n",
       "        vertical-align: top;\n",
       "    }\n",
       "\n",
       "    .dataframe thead th {\n",
       "        text-align: right;\n",
       "    }\n",
       "</style>\n",
       "<table border=\"1\" class=\"dataframe\">\n",
       "  <thead>\n",
       "    <tr style=\"text-align: right;\">\n",
       "      <th></th>\n",
       "      <th>Title</th>\n",
       "      <th>Author</th>\n",
       "      <th>URL</th>\n",
       "      <th>Summary</th>\n",
       "    </tr>\n",
       "  </thead>\n",
       "  <tbody>\n",
       "    <tr>\n",
       "      <th>0</th>\n",
       "      <td>1984</td>\n",
       "      <td>George Orwell</td>\n",
       "      <td>https://www.goodreads.com/book/show/61439040-1...</td>\n",
       "      <td>A masterpiece of rebellion and imprisonment wh...</td>\n",
       "    </tr>\n",
       "    <tr>\n",
       "      <th>1</th>\n",
       "      <td>100 Headlines That Changed the World</td>\n",
       "      <td>James Maloney</td>\n",
       "      <td>https://www.goodreads.com/book/show/14567468-1...</td>\n",
       "      <td>Here are the incredible newspaper headlines th...</td>\n",
       "    </tr>\n",
       "    <tr>\n",
       "      <th>2</th>\n",
       "      <td>20 Principles</td>\n",
       "      <td>Hassan Al Banna</td>\n",
       "      <td>https://www.goodreads.com/book/show/8594271-us...</td>\n",
       "      <td>Al-Banna's principles aimed to inspire Muslims...</td>\n",
       "    </tr>\n",
       "    <tr>\n",
       "      <th>3</th>\n",
       "      <td>30-Second Psychology</td>\n",
       "      <td>Christian Jarrett</td>\n",
       "      <td>https://www.goodreads.com/book/show/11931275-3...</td>\n",
       "      <td>Pavlovâs Dogs, Psychoanalysis, Milgramâs O...</td>\n",
       "    </tr>\n",
       "    <tr>\n",
       "      <th>4</th>\n",
       "      <td>30-Second Religion</td>\n",
       "      <td>Russell Re Manning</td>\n",
       "      <td>https://www.goodreads.com/book/show/13124582-3...</td>\n",
       "      <td>Half minute explanations of various world reli...</td>\n",
       "    </tr>\n",
       "  </tbody>\n",
       "</table>\n",
       "</div>"
      ],
      "text/plain": [
       "                                  Title              Author  \\\n",
       "0                                  1984       George Orwell   \n",
       "1  100 Headlines That Changed the World       James Maloney   \n",
       "2                         20 Principles     Hassan Al Banna   \n",
       "3                 30-Second Psychology    Christian Jarrett   \n",
       "4                    30-Second Religion  Russell Re Manning   \n",
       "\n",
       "                                                 URL  \\\n",
       "0  https://www.goodreads.com/book/show/61439040-1...   \n",
       "1  https://www.goodreads.com/book/show/14567468-1...   \n",
       "2  https://www.goodreads.com/book/show/8594271-us...   \n",
       "3  https://www.goodreads.com/book/show/11931275-3...   \n",
       "4  https://www.goodreads.com/book/show/13124582-3...   \n",
       "\n",
       "                                             Summary  \n",
       "0  A masterpiece of rebellion and imprisonment wh...  \n",
       "1  Here are the incredible newspaper headlines th...  \n",
       "2  Al-Banna's principles aimed to inspire Muslims...  \n",
       "3  Pavlovâs Dogs, Psychoanalysis, Milgramâs O...  \n",
       "4  Half minute explanations of various world reli...  "
      ]
     },
     "execution_count": 8,
     "metadata": {},
     "output_type": "execute_result"
    }
   ],
   "source": [
    "book_summary.head()"
   ]
  },
  {
   "cell_type": "markdown",
   "metadata": {},
   "source": [
    "# Textblob"
   ]
  },
  {
   "cell_type": "code",
   "execution_count": 9,
   "metadata": {},
   "outputs": [],
   "source": [
    "import pandas as pd\n",
    "from textblob import TextBlob\n",
    "\n",
    "\n",
    "#Define a function to calculate sentiment\n",
    "def get_textblob_sentiment(text):\n",
    "    analysis = TextBlob(text)\n",
    "    return analysis.sentiment.polarity\n",
    "\n",
    "#apply the function to the summary column\n",
    "book_summary['textblob_sentiment'] = book_summary['Summary'].apply(get_textblob_sentiment)\n",
    "\n",
    "#create new dataframe \n",
    "sentiment_df = book_summary[['Title', 'Author', 'textblob_sentiment']]\n",
    "\n",
    "# #save df\n",
    "# sentiment_df.to_csv('sentiment_analysis.csv', index=False)"
   ]
  },
  {
   "cell_type": "markdown",
   "metadata": {},
   "source": [
    "# VADER"
   ]
  },
  {
   "cell_type": "code",
   "execution_count": 10,
   "metadata": {},
   "outputs": [],
   "source": [
    "from nltk.sentiment import SentimentIntensityAnalyzer\n",
    "\n",
    "#load existing sentiment_analysis.csv file\n",
    "sentiment_analysis = pd.read_csv('./sentiment_analysis.csv')\n",
    "\n",
    "#initialize VADER sentiment analyzer \n",
    "sia = SentimentIntensityAnalyzer()\n",
    "\n",
    "#define a function to get sentiment scores\n",
    "def get_vader_sentiment(text):\n",
    "    return sia.polarity_scores(text)['compound']\n",
    "\n",
    "#apply function to summary column\n",
    "book_summary['vader_sentiment'] = book_summary['Summary'].apply(get_vader_sentiment)\n",
    "\n",
    "# #save df\n",
    "# book_summary.to_csv('sentiment_analysis.csv', index=False)"
   ]
  },
  {
   "cell_type": "code",
   "execution_count": 11,
   "metadata": {},
   "outputs": [
    {
     "data": {
      "text/plain": [
       "Index(['Title', 'Author', 'URL', 'Summary', 'textblob_sentiment',\n",
       "       'vader_sentiment'],\n",
       "      dtype='object')"
      ]
     },
     "execution_count": 11,
     "metadata": {},
     "output_type": "execute_result"
    }
   ],
   "source": [
    "sentiment_analysis.columns"
   ]
  },
  {
   "cell_type": "code",
   "execution_count": 12,
   "metadata": {},
   "outputs": [
    {
     "data": {
      "application/vnd.plotly.v1+json": {
       "config": {
        "plotlyServerURL": "https://plot.ly"
       },
       "data": [
        {
         "alignmentgroup": "True",
         "bingroup": "x",
         "hovertemplate": "vader_sentiment=%{x}<br>count=%{y}<extra></extra>",
         "legendgroup": "",
         "marker": {
          "color": "#636efa",
          "pattern": {
           "shape": ""
          }
         },
         "name": "",
         "nbinsx": 20,
         "offsetgroup": "",
         "orientation": "v",
         "showlegend": false,
         "type": "histogram",
         "x": [
          0.8847,
          0.6115,
          0.9349,
          0.9682,
          0,
          -0.9493,
          0.101,
          0,
          0.4215,
          0.9816,
          0.9885,
          0.9793,
          -0.9509,
          0.9405,
          -0.7184,
          0.4788,
          -0.9169,
          -0.3612,
          0.9686,
          0,
          0.4215,
          0.9599,
          -0.7451,
          0.4588,
          0.8316,
          0.6005,
          0.9974,
          0.949,
          0,
          -0.8639,
          0.9165,
          0.7728,
          0.9725,
          0.8516,
          -0.6591,
          -0.5994,
          0.964,
          0.8221,
          0.946,
          -0.9571,
          0.9486,
          0.6187,
          -0.9665,
          0.96,
          0.34,
          0.2732,
          0.8622,
          0.9442,
          0.9974,
          0.7884,
          0.7003,
          0.6808,
          0.9245,
          0.9892,
          -0.9684,
          0.9207,
          0.8891,
          0.875,
          0.9414,
          0.9245,
          -0.8587,
          0.9705,
          0.128,
          0.802,
          0.9501,
          0.9716,
          0.9571,
          0.9758,
          -0.6911,
          0,
          0.9904,
          0.9785,
          0.5267,
          0.9585,
          0.9784,
          -0.5994,
          0.9786,
          -0.3403,
          -0.8658,
          -0.3586,
          0.9683,
          -0.5106,
          0.9535,
          0.6858,
          0.2732,
          -0.8378,
          0.9042,
          -0.6597,
          0.9934,
          0.9683,
          0.9844,
          0.9422,
          0.5868,
          0.7783,
          0.8316,
          0.9469,
          0.9671,
          0.9452,
          0.7783,
          0.6322
         ],
         "xaxis": "x",
         "yaxis": "y"
        }
       ],
       "layout": {
        "barmode": "relative",
        "legend": {
         "tracegroupgap": 0
        },
        "template": {
         "data": {
          "bar": [
           {
            "error_x": {
             "color": "#2a3f5f"
            },
            "error_y": {
             "color": "#2a3f5f"
            },
            "marker": {
             "line": {
              "color": "#E5ECF6",
              "width": 0.5
             },
             "pattern": {
              "fillmode": "overlay",
              "size": 10,
              "solidity": 0.2
             }
            },
            "type": "bar"
           }
          ],
          "barpolar": [
           {
            "marker": {
             "line": {
              "color": "#E5ECF6",
              "width": 0.5
             },
             "pattern": {
              "fillmode": "overlay",
              "size": 10,
              "solidity": 0.2
             }
            },
            "type": "barpolar"
           }
          ],
          "carpet": [
           {
            "aaxis": {
             "endlinecolor": "#2a3f5f",
             "gridcolor": "white",
             "linecolor": "white",
             "minorgridcolor": "white",
             "startlinecolor": "#2a3f5f"
            },
            "baxis": {
             "endlinecolor": "#2a3f5f",
             "gridcolor": "white",
             "linecolor": "white",
             "minorgridcolor": "white",
             "startlinecolor": "#2a3f5f"
            },
            "type": "carpet"
           }
          ],
          "choropleth": [
           {
            "colorbar": {
             "outlinewidth": 0,
             "ticks": ""
            },
            "type": "choropleth"
           }
          ],
          "contour": [
           {
            "colorbar": {
             "outlinewidth": 0,
             "ticks": ""
            },
            "colorscale": [
             [
              0,
              "#0d0887"
             ],
             [
              0.1111111111111111,
              "#46039f"
             ],
             [
              0.2222222222222222,
              "#7201a8"
             ],
             [
              0.3333333333333333,
              "#9c179e"
             ],
             [
              0.4444444444444444,
              "#bd3786"
             ],
             [
              0.5555555555555556,
              "#d8576b"
             ],
             [
              0.6666666666666666,
              "#ed7953"
             ],
             [
              0.7777777777777778,
              "#fb9f3a"
             ],
             [
              0.8888888888888888,
              "#fdca26"
             ],
             [
              1,
              "#f0f921"
             ]
            ],
            "type": "contour"
           }
          ],
          "contourcarpet": [
           {
            "colorbar": {
             "outlinewidth": 0,
             "ticks": ""
            },
            "type": "contourcarpet"
           }
          ],
          "heatmap": [
           {
            "colorbar": {
             "outlinewidth": 0,
             "ticks": ""
            },
            "colorscale": [
             [
              0,
              "#0d0887"
             ],
             [
              0.1111111111111111,
              "#46039f"
             ],
             [
              0.2222222222222222,
              "#7201a8"
             ],
             [
              0.3333333333333333,
              "#9c179e"
             ],
             [
              0.4444444444444444,
              "#bd3786"
             ],
             [
              0.5555555555555556,
              "#d8576b"
             ],
             [
              0.6666666666666666,
              "#ed7953"
             ],
             [
              0.7777777777777778,
              "#fb9f3a"
             ],
             [
              0.8888888888888888,
              "#fdca26"
             ],
             [
              1,
              "#f0f921"
             ]
            ],
            "type": "heatmap"
           }
          ],
          "heatmapgl": [
           {
            "colorbar": {
             "outlinewidth": 0,
             "ticks": ""
            },
            "colorscale": [
             [
              0,
              "#0d0887"
             ],
             [
              0.1111111111111111,
              "#46039f"
             ],
             [
              0.2222222222222222,
              "#7201a8"
             ],
             [
              0.3333333333333333,
              "#9c179e"
             ],
             [
              0.4444444444444444,
              "#bd3786"
             ],
             [
              0.5555555555555556,
              "#d8576b"
             ],
             [
              0.6666666666666666,
              "#ed7953"
             ],
             [
              0.7777777777777778,
              "#fb9f3a"
             ],
             [
              0.8888888888888888,
              "#fdca26"
             ],
             [
              1,
              "#f0f921"
             ]
            ],
            "type": "heatmapgl"
           }
          ],
          "histogram": [
           {
            "marker": {
             "pattern": {
              "fillmode": "overlay",
              "size": 10,
              "solidity": 0.2
             }
            },
            "type": "histogram"
           }
          ],
          "histogram2d": [
           {
            "colorbar": {
             "outlinewidth": 0,
             "ticks": ""
            },
            "colorscale": [
             [
              0,
              "#0d0887"
             ],
             [
              0.1111111111111111,
              "#46039f"
             ],
             [
              0.2222222222222222,
              "#7201a8"
             ],
             [
              0.3333333333333333,
              "#9c179e"
             ],
             [
              0.4444444444444444,
              "#bd3786"
             ],
             [
              0.5555555555555556,
              "#d8576b"
             ],
             [
              0.6666666666666666,
              "#ed7953"
             ],
             [
              0.7777777777777778,
              "#fb9f3a"
             ],
             [
              0.8888888888888888,
              "#fdca26"
             ],
             [
              1,
              "#f0f921"
             ]
            ],
            "type": "histogram2d"
           }
          ],
          "histogram2dcontour": [
           {
            "colorbar": {
             "outlinewidth": 0,
             "ticks": ""
            },
            "colorscale": [
             [
              0,
              "#0d0887"
             ],
             [
              0.1111111111111111,
              "#46039f"
             ],
             [
              0.2222222222222222,
              "#7201a8"
             ],
             [
              0.3333333333333333,
              "#9c179e"
             ],
             [
              0.4444444444444444,
              "#bd3786"
             ],
             [
              0.5555555555555556,
              "#d8576b"
             ],
             [
              0.6666666666666666,
              "#ed7953"
             ],
             [
              0.7777777777777778,
              "#fb9f3a"
             ],
             [
              0.8888888888888888,
              "#fdca26"
             ],
             [
              1,
              "#f0f921"
             ]
            ],
            "type": "histogram2dcontour"
           }
          ],
          "mesh3d": [
           {
            "colorbar": {
             "outlinewidth": 0,
             "ticks": ""
            },
            "type": "mesh3d"
           }
          ],
          "parcoords": [
           {
            "line": {
             "colorbar": {
              "outlinewidth": 0,
              "ticks": ""
             }
            },
            "type": "parcoords"
           }
          ],
          "pie": [
           {
            "automargin": true,
            "type": "pie"
           }
          ],
          "scatter": [
           {
            "fillpattern": {
             "fillmode": "overlay",
             "size": 10,
             "solidity": 0.2
            },
            "type": "scatter"
           }
          ],
          "scatter3d": [
           {
            "line": {
             "colorbar": {
              "outlinewidth": 0,
              "ticks": ""
             }
            },
            "marker": {
             "colorbar": {
              "outlinewidth": 0,
              "ticks": ""
             }
            },
            "type": "scatter3d"
           }
          ],
          "scattercarpet": [
           {
            "marker": {
             "colorbar": {
              "outlinewidth": 0,
              "ticks": ""
             }
            },
            "type": "scattercarpet"
           }
          ],
          "scattergeo": [
           {
            "marker": {
             "colorbar": {
              "outlinewidth": 0,
              "ticks": ""
             }
            },
            "type": "scattergeo"
           }
          ],
          "scattergl": [
           {
            "marker": {
             "colorbar": {
              "outlinewidth": 0,
              "ticks": ""
             }
            },
            "type": "scattergl"
           }
          ],
          "scattermapbox": [
           {
            "marker": {
             "colorbar": {
              "outlinewidth": 0,
              "ticks": ""
             }
            },
            "type": "scattermapbox"
           }
          ],
          "scatterpolar": [
           {
            "marker": {
             "colorbar": {
              "outlinewidth": 0,
              "ticks": ""
             }
            },
            "type": "scatterpolar"
           }
          ],
          "scatterpolargl": [
           {
            "marker": {
             "colorbar": {
              "outlinewidth": 0,
              "ticks": ""
             }
            },
            "type": "scatterpolargl"
           }
          ],
          "scatterternary": [
           {
            "marker": {
             "colorbar": {
              "outlinewidth": 0,
              "ticks": ""
             }
            },
            "type": "scatterternary"
           }
          ],
          "surface": [
           {
            "colorbar": {
             "outlinewidth": 0,
             "ticks": ""
            },
            "colorscale": [
             [
              0,
              "#0d0887"
             ],
             [
              0.1111111111111111,
              "#46039f"
             ],
             [
              0.2222222222222222,
              "#7201a8"
             ],
             [
              0.3333333333333333,
              "#9c179e"
             ],
             [
              0.4444444444444444,
              "#bd3786"
             ],
             [
              0.5555555555555556,
              "#d8576b"
             ],
             [
              0.6666666666666666,
              "#ed7953"
             ],
             [
              0.7777777777777778,
              "#fb9f3a"
             ],
             [
              0.8888888888888888,
              "#fdca26"
             ],
             [
              1,
              "#f0f921"
             ]
            ],
            "type": "surface"
           }
          ],
          "table": [
           {
            "cells": {
             "fill": {
              "color": "#EBF0F8"
             },
             "line": {
              "color": "white"
             }
            },
            "header": {
             "fill": {
              "color": "#C8D4E3"
             },
             "line": {
              "color": "white"
             }
            },
            "type": "table"
           }
          ]
         },
         "layout": {
          "annotationdefaults": {
           "arrowcolor": "#2a3f5f",
           "arrowhead": 0,
           "arrowwidth": 1
          },
          "autotypenumbers": "strict",
          "coloraxis": {
           "colorbar": {
            "outlinewidth": 0,
            "ticks": ""
           }
          },
          "colorscale": {
           "diverging": [
            [
             0,
             "#8e0152"
            ],
            [
             0.1,
             "#c51b7d"
            ],
            [
             0.2,
             "#de77ae"
            ],
            [
             0.3,
             "#f1b6da"
            ],
            [
             0.4,
             "#fde0ef"
            ],
            [
             0.5,
             "#f7f7f7"
            ],
            [
             0.6,
             "#e6f5d0"
            ],
            [
             0.7,
             "#b8e186"
            ],
            [
             0.8,
             "#7fbc41"
            ],
            [
             0.9,
             "#4d9221"
            ],
            [
             1,
             "#276419"
            ]
           ],
           "sequential": [
            [
             0,
             "#0d0887"
            ],
            [
             0.1111111111111111,
             "#46039f"
            ],
            [
             0.2222222222222222,
             "#7201a8"
            ],
            [
             0.3333333333333333,
             "#9c179e"
            ],
            [
             0.4444444444444444,
             "#bd3786"
            ],
            [
             0.5555555555555556,
             "#d8576b"
            ],
            [
             0.6666666666666666,
             "#ed7953"
            ],
            [
             0.7777777777777778,
             "#fb9f3a"
            ],
            [
             0.8888888888888888,
             "#fdca26"
            ],
            [
             1,
             "#f0f921"
            ]
           ],
           "sequentialminus": [
            [
             0,
             "#0d0887"
            ],
            [
             0.1111111111111111,
             "#46039f"
            ],
            [
             0.2222222222222222,
             "#7201a8"
            ],
            [
             0.3333333333333333,
             "#9c179e"
            ],
            [
             0.4444444444444444,
             "#bd3786"
            ],
            [
             0.5555555555555556,
             "#d8576b"
            ],
            [
             0.6666666666666666,
             "#ed7953"
            ],
            [
             0.7777777777777778,
             "#fb9f3a"
            ],
            [
             0.8888888888888888,
             "#fdca26"
            ],
            [
             1,
             "#f0f921"
            ]
           ]
          },
          "colorway": [
           "#636efa",
           "#EF553B",
           "#00cc96",
           "#ab63fa",
           "#FFA15A",
           "#19d3f3",
           "#FF6692",
           "#B6E880",
           "#FF97FF",
           "#FECB52"
          ],
          "font": {
           "color": "#2a3f5f"
          },
          "geo": {
           "bgcolor": "white",
           "lakecolor": "white",
           "landcolor": "#E5ECF6",
           "showlakes": true,
           "showland": true,
           "subunitcolor": "white"
          },
          "hoverlabel": {
           "align": "left"
          },
          "hovermode": "closest",
          "mapbox": {
           "style": "light"
          },
          "paper_bgcolor": "white",
          "plot_bgcolor": "#E5ECF6",
          "polar": {
           "angularaxis": {
            "gridcolor": "white",
            "linecolor": "white",
            "ticks": ""
           },
           "bgcolor": "#E5ECF6",
           "radialaxis": {
            "gridcolor": "white",
            "linecolor": "white",
            "ticks": ""
           }
          },
          "scene": {
           "xaxis": {
            "backgroundcolor": "#E5ECF6",
            "gridcolor": "white",
            "gridwidth": 2,
            "linecolor": "white",
            "showbackground": true,
            "ticks": "",
            "zerolinecolor": "white"
           },
           "yaxis": {
            "backgroundcolor": "#E5ECF6",
            "gridcolor": "white",
            "gridwidth": 2,
            "linecolor": "white",
            "showbackground": true,
            "ticks": "",
            "zerolinecolor": "white"
           },
           "zaxis": {
            "backgroundcolor": "#E5ECF6",
            "gridcolor": "white",
            "gridwidth": 2,
            "linecolor": "white",
            "showbackground": true,
            "ticks": "",
            "zerolinecolor": "white"
           }
          },
          "shapedefaults": {
           "line": {
            "color": "#2a3f5f"
           }
          },
          "ternary": {
           "aaxis": {
            "gridcolor": "white",
            "linecolor": "white",
            "ticks": ""
           },
           "baxis": {
            "gridcolor": "white",
            "linecolor": "white",
            "ticks": ""
           },
           "bgcolor": "#E5ECF6",
           "caxis": {
            "gridcolor": "white",
            "linecolor": "white",
            "ticks": ""
           }
          },
          "title": {
           "x": 0.05
          },
          "xaxis": {
           "automargin": true,
           "gridcolor": "white",
           "linecolor": "white",
           "ticks": "",
           "title": {
            "standoff": 15
           },
           "zerolinecolor": "white",
           "zerolinewidth": 2
          },
          "yaxis": {
           "automargin": true,
           "gridcolor": "white",
           "linecolor": "white",
           "ticks": "",
           "title": {
            "standoff": 15
           },
           "zerolinecolor": "white",
           "zerolinewidth": 2
          }
         }
        },
        "title": {
         "text": "Distribution of VADER sentiment scores"
        },
        "xaxis": {
         "anchor": "y",
         "domain": [
          0,
          1
         ],
         "title": {
          "text": "VADER Sentiment"
         }
        },
        "yaxis": {
         "anchor": "x",
         "domain": [
          0,
          1
         ],
         "title": {
          "text": "Count"
         }
        }
       }
      }
     },
     "metadata": {},
     "output_type": "display_data"
    }
   ],
   "source": [
    "import plotly.express as px\n",
    "\n",
    "fig_vader = px.histogram(\n",
    "    book_summary, x='vader_sentiment', nbins=20, title='Distribution of VADER sentiment scores'\n",
    ")\n",
    "\n",
    "fig_vader.update_layout(\n",
    "    xaxis_title='VADER Sentiment', yaxis_title='Count'\n",
    ")\n",
    "\n",
    "fig_vader.show()"
   ]
  },
  {
   "cell_type": "code",
   "execution_count": 13,
   "metadata": {},
   "outputs": [
    {
     "data": {
      "application/vnd.plotly.v1+json": {
       "config": {
        "plotlyServerURL": "https://plot.ly"
       },
       "data": [
        {
         "alignmentgroup": "True",
         "hovertemplate": "Sentiment=%{x}<br>Count=%{y}<extra></extra>",
         "legendgroup": "Positive",
         "marker": {
          "color": "#636efa",
          "pattern": {
           "shape": ""
          }
         },
         "name": "Positive",
         "offsetgroup": "Positive",
         "orientation": "v",
         "showlegend": true,
         "textposition": "auto",
         "type": "bar",
         "x": [
          "Positive"
         ],
         "xaxis": "x",
         "y": [
          74
         ],
         "yaxis": "y"
        },
        {
         "alignmentgroup": "True",
         "hovertemplate": "Sentiment=%{x}<br>Count=%{y}<extra></extra>",
         "legendgroup": "Negative",
         "marker": {
          "color": "#EF553B",
          "pattern": {
           "shape": ""
          }
         },
         "name": "Negative",
         "offsetgroup": "Negative",
         "orientation": "v",
         "showlegend": true,
         "textposition": "auto",
         "type": "bar",
         "x": [
          "Negative"
         ],
         "xaxis": "x",
         "y": [
          21
         ],
         "yaxis": "y"
        },
        {
         "alignmentgroup": "True",
         "hovertemplate": "Sentiment=%{x}<br>Count=%{y}<extra></extra>",
         "legendgroup": "Neutral",
         "marker": {
          "color": "#00cc96",
          "pattern": {
           "shape": ""
          }
         },
         "name": "Neutral",
         "offsetgroup": "Neutral",
         "orientation": "v",
         "showlegend": true,
         "textposition": "auto",
         "type": "bar",
         "x": [
          "Neutral"
         ],
         "xaxis": "x",
         "y": [
          5
         ],
         "yaxis": "y"
        }
       ],
       "layout": {
        "barmode": "relative",
        "height": 500,
        "legend": {
         "title": {
          "text": "Sentiment"
         },
         "tracegroupgap": 0
        },
        "template": {
         "data": {
          "bar": [
           {
            "error_x": {
             "color": "#f2f5fa"
            },
            "error_y": {
             "color": "#f2f5fa"
            },
            "marker": {
             "line": {
              "color": "rgb(17,17,17)",
              "width": 0.5
             },
             "pattern": {
              "fillmode": "overlay",
              "size": 10,
              "solidity": 0.2
             }
            },
            "type": "bar"
           }
          ],
          "barpolar": [
           {
            "marker": {
             "line": {
              "color": "rgb(17,17,17)",
              "width": 0.5
             },
             "pattern": {
              "fillmode": "overlay",
              "size": 10,
              "solidity": 0.2
             }
            },
            "type": "barpolar"
           }
          ],
          "carpet": [
           {
            "aaxis": {
             "endlinecolor": "#A2B1C6",
             "gridcolor": "#506784",
             "linecolor": "#506784",
             "minorgridcolor": "#506784",
             "startlinecolor": "#A2B1C6"
            },
            "baxis": {
             "endlinecolor": "#A2B1C6",
             "gridcolor": "#506784",
             "linecolor": "#506784",
             "minorgridcolor": "#506784",
             "startlinecolor": "#A2B1C6"
            },
            "type": "carpet"
           }
          ],
          "choropleth": [
           {
            "colorbar": {
             "outlinewidth": 0,
             "ticks": ""
            },
            "type": "choropleth"
           }
          ],
          "contour": [
           {
            "colorbar": {
             "outlinewidth": 0,
             "ticks": ""
            },
            "colorscale": [
             [
              0,
              "#0d0887"
             ],
             [
              0.1111111111111111,
              "#46039f"
             ],
             [
              0.2222222222222222,
              "#7201a8"
             ],
             [
              0.3333333333333333,
              "#9c179e"
             ],
             [
              0.4444444444444444,
              "#bd3786"
             ],
             [
              0.5555555555555556,
              "#d8576b"
             ],
             [
              0.6666666666666666,
              "#ed7953"
             ],
             [
              0.7777777777777778,
              "#fb9f3a"
             ],
             [
              0.8888888888888888,
              "#fdca26"
             ],
             [
              1,
              "#f0f921"
             ]
            ],
            "type": "contour"
           }
          ],
          "contourcarpet": [
           {
            "colorbar": {
             "outlinewidth": 0,
             "ticks": ""
            },
            "type": "contourcarpet"
           }
          ],
          "heatmap": [
           {
            "colorbar": {
             "outlinewidth": 0,
             "ticks": ""
            },
            "colorscale": [
             [
              0,
              "#0d0887"
             ],
             [
              0.1111111111111111,
              "#46039f"
             ],
             [
              0.2222222222222222,
              "#7201a8"
             ],
             [
              0.3333333333333333,
              "#9c179e"
             ],
             [
              0.4444444444444444,
              "#bd3786"
             ],
             [
              0.5555555555555556,
              "#d8576b"
             ],
             [
              0.6666666666666666,
              "#ed7953"
             ],
             [
              0.7777777777777778,
              "#fb9f3a"
             ],
             [
              0.8888888888888888,
              "#fdca26"
             ],
             [
              1,
              "#f0f921"
             ]
            ],
            "type": "heatmap"
           }
          ],
          "heatmapgl": [
           {
            "colorbar": {
             "outlinewidth": 0,
             "ticks": ""
            },
            "colorscale": [
             [
              0,
              "#0d0887"
             ],
             [
              0.1111111111111111,
              "#46039f"
             ],
             [
              0.2222222222222222,
              "#7201a8"
             ],
             [
              0.3333333333333333,
              "#9c179e"
             ],
             [
              0.4444444444444444,
              "#bd3786"
             ],
             [
              0.5555555555555556,
              "#d8576b"
             ],
             [
              0.6666666666666666,
              "#ed7953"
             ],
             [
              0.7777777777777778,
              "#fb9f3a"
             ],
             [
              0.8888888888888888,
              "#fdca26"
             ],
             [
              1,
              "#f0f921"
             ]
            ],
            "type": "heatmapgl"
           }
          ],
          "histogram": [
           {
            "marker": {
             "pattern": {
              "fillmode": "overlay",
              "size": 10,
              "solidity": 0.2
             }
            },
            "type": "histogram"
           }
          ],
          "histogram2d": [
           {
            "colorbar": {
             "outlinewidth": 0,
             "ticks": ""
            },
            "colorscale": [
             [
              0,
              "#0d0887"
             ],
             [
              0.1111111111111111,
              "#46039f"
             ],
             [
              0.2222222222222222,
              "#7201a8"
             ],
             [
              0.3333333333333333,
              "#9c179e"
             ],
             [
              0.4444444444444444,
              "#bd3786"
             ],
             [
              0.5555555555555556,
              "#d8576b"
             ],
             [
              0.6666666666666666,
              "#ed7953"
             ],
             [
              0.7777777777777778,
              "#fb9f3a"
             ],
             [
              0.8888888888888888,
              "#fdca26"
             ],
             [
              1,
              "#f0f921"
             ]
            ],
            "type": "histogram2d"
           }
          ],
          "histogram2dcontour": [
           {
            "colorbar": {
             "outlinewidth": 0,
             "ticks": ""
            },
            "colorscale": [
             [
              0,
              "#0d0887"
             ],
             [
              0.1111111111111111,
              "#46039f"
             ],
             [
              0.2222222222222222,
              "#7201a8"
             ],
             [
              0.3333333333333333,
              "#9c179e"
             ],
             [
              0.4444444444444444,
              "#bd3786"
             ],
             [
              0.5555555555555556,
              "#d8576b"
             ],
             [
              0.6666666666666666,
              "#ed7953"
             ],
             [
              0.7777777777777778,
              "#fb9f3a"
             ],
             [
              0.8888888888888888,
              "#fdca26"
             ],
             [
              1,
              "#f0f921"
             ]
            ],
            "type": "histogram2dcontour"
           }
          ],
          "mesh3d": [
           {
            "colorbar": {
             "outlinewidth": 0,
             "ticks": ""
            },
            "type": "mesh3d"
           }
          ],
          "parcoords": [
           {
            "line": {
             "colorbar": {
              "outlinewidth": 0,
              "ticks": ""
             }
            },
            "type": "parcoords"
           }
          ],
          "pie": [
           {
            "automargin": true,
            "type": "pie"
           }
          ],
          "scatter": [
           {
            "marker": {
             "line": {
              "color": "#283442"
             }
            },
            "type": "scatter"
           }
          ],
          "scatter3d": [
           {
            "line": {
             "colorbar": {
              "outlinewidth": 0,
              "ticks": ""
             }
            },
            "marker": {
             "colorbar": {
              "outlinewidth": 0,
              "ticks": ""
             }
            },
            "type": "scatter3d"
           }
          ],
          "scattercarpet": [
           {
            "marker": {
             "colorbar": {
              "outlinewidth": 0,
              "ticks": ""
             }
            },
            "type": "scattercarpet"
           }
          ],
          "scattergeo": [
           {
            "marker": {
             "colorbar": {
              "outlinewidth": 0,
              "ticks": ""
             }
            },
            "type": "scattergeo"
           }
          ],
          "scattergl": [
           {
            "marker": {
             "line": {
              "color": "#283442"
             }
            },
            "type": "scattergl"
           }
          ],
          "scattermapbox": [
           {
            "marker": {
             "colorbar": {
              "outlinewidth": 0,
              "ticks": ""
             }
            },
            "type": "scattermapbox"
           }
          ],
          "scatterpolar": [
           {
            "marker": {
             "colorbar": {
              "outlinewidth": 0,
              "ticks": ""
             }
            },
            "type": "scatterpolar"
           }
          ],
          "scatterpolargl": [
           {
            "marker": {
             "colorbar": {
              "outlinewidth": 0,
              "ticks": ""
             }
            },
            "type": "scatterpolargl"
           }
          ],
          "scatterternary": [
           {
            "marker": {
             "colorbar": {
              "outlinewidth": 0,
              "ticks": ""
             }
            },
            "type": "scatterternary"
           }
          ],
          "surface": [
           {
            "colorbar": {
             "outlinewidth": 0,
             "ticks": ""
            },
            "colorscale": [
             [
              0,
              "#0d0887"
             ],
             [
              0.1111111111111111,
              "#46039f"
             ],
             [
              0.2222222222222222,
              "#7201a8"
             ],
             [
              0.3333333333333333,
              "#9c179e"
             ],
             [
              0.4444444444444444,
              "#bd3786"
             ],
             [
              0.5555555555555556,
              "#d8576b"
             ],
             [
              0.6666666666666666,
              "#ed7953"
             ],
             [
              0.7777777777777778,
              "#fb9f3a"
             ],
             [
              0.8888888888888888,
              "#fdca26"
             ],
             [
              1,
              "#f0f921"
             ]
            ],
            "type": "surface"
           }
          ],
          "table": [
           {
            "cells": {
             "fill": {
              "color": "#506784"
             },
             "line": {
              "color": "rgb(17,17,17)"
             }
            },
            "header": {
             "fill": {
              "color": "#2a3f5f"
             },
             "line": {
              "color": "rgb(17,17,17)"
             }
            },
            "type": "table"
           }
          ]
         },
         "layout": {
          "annotationdefaults": {
           "arrowcolor": "#f2f5fa",
           "arrowhead": 0,
           "arrowwidth": 1
          },
          "autotypenumbers": "strict",
          "coloraxis": {
           "colorbar": {
            "outlinewidth": 0,
            "ticks": ""
           }
          },
          "colorscale": {
           "diverging": [
            [
             0,
             "#8e0152"
            ],
            [
             0.1,
             "#c51b7d"
            ],
            [
             0.2,
             "#de77ae"
            ],
            [
             0.3,
             "#f1b6da"
            ],
            [
             0.4,
             "#fde0ef"
            ],
            [
             0.5,
             "#f7f7f7"
            ],
            [
             0.6,
             "#e6f5d0"
            ],
            [
             0.7,
             "#b8e186"
            ],
            [
             0.8,
             "#7fbc41"
            ],
            [
             0.9,
             "#4d9221"
            ],
            [
             1,
             "#276419"
            ]
           ],
           "sequential": [
            [
             0,
             "#0d0887"
            ],
            [
             0.1111111111111111,
             "#46039f"
            ],
            [
             0.2222222222222222,
             "#7201a8"
            ],
            [
             0.3333333333333333,
             "#9c179e"
            ],
            [
             0.4444444444444444,
             "#bd3786"
            ],
            [
             0.5555555555555556,
             "#d8576b"
            ],
            [
             0.6666666666666666,
             "#ed7953"
            ],
            [
             0.7777777777777778,
             "#fb9f3a"
            ],
            [
             0.8888888888888888,
             "#fdca26"
            ],
            [
             1,
             "#f0f921"
            ]
           ],
           "sequentialminus": [
            [
             0,
             "#0d0887"
            ],
            [
             0.1111111111111111,
             "#46039f"
            ],
            [
             0.2222222222222222,
             "#7201a8"
            ],
            [
             0.3333333333333333,
             "#9c179e"
            ],
            [
             0.4444444444444444,
             "#bd3786"
            ],
            [
             0.5555555555555556,
             "#d8576b"
            ],
            [
             0.6666666666666666,
             "#ed7953"
            ],
            [
             0.7777777777777778,
             "#fb9f3a"
            ],
            [
             0.8888888888888888,
             "#fdca26"
            ],
            [
             1,
             "#f0f921"
            ]
           ]
          },
          "colorway": [
           "#636efa",
           "#EF553B",
           "#00cc96",
           "#ab63fa",
           "#FFA15A",
           "#19d3f3",
           "#FF6692",
           "#B6E880",
           "#FF97FF",
           "#FECB52"
          ],
          "font": {
           "color": "#f2f5fa"
          },
          "geo": {
           "bgcolor": "rgb(17,17,17)",
           "lakecolor": "rgb(17,17,17)",
           "landcolor": "rgb(17,17,17)",
           "showlakes": true,
           "showland": true,
           "subunitcolor": "#506784"
          },
          "hoverlabel": {
           "align": "left"
          },
          "hovermode": "closest",
          "mapbox": {
           "style": "dark"
          },
          "paper_bgcolor": "rgb(17,17,17)",
          "plot_bgcolor": "rgb(17,17,17)",
          "polar": {
           "angularaxis": {
            "gridcolor": "#506784",
            "linecolor": "#506784",
            "ticks": ""
           },
           "bgcolor": "rgb(17,17,17)",
           "radialaxis": {
            "gridcolor": "#506784",
            "linecolor": "#506784",
            "ticks": ""
           }
          },
          "scene": {
           "xaxis": {
            "backgroundcolor": "rgb(17,17,17)",
            "gridcolor": "#506784",
            "gridwidth": 2,
            "linecolor": "#506784",
            "showbackground": true,
            "ticks": "",
            "zerolinecolor": "#C8D4E3"
           },
           "yaxis": {
            "backgroundcolor": "rgb(17,17,17)",
            "gridcolor": "#506784",
            "gridwidth": 2,
            "linecolor": "#506784",
            "showbackground": true,
            "ticks": "",
            "zerolinecolor": "#C8D4E3"
           },
           "zaxis": {
            "backgroundcolor": "rgb(17,17,17)",
            "gridcolor": "#506784",
            "gridwidth": 2,
            "linecolor": "#506784",
            "showbackground": true,
            "ticks": "",
            "zerolinecolor": "#C8D4E3"
           }
          },
          "shapedefaults": {
           "line": {
            "color": "#f2f5fa"
           }
          },
          "sliderdefaults": {
           "bgcolor": "#C8D4E3",
           "bordercolor": "rgb(17,17,17)",
           "borderwidth": 1,
           "tickwidth": 0
          },
          "ternary": {
           "aaxis": {
            "gridcolor": "#506784",
            "linecolor": "#506784",
            "ticks": ""
           },
           "baxis": {
            "gridcolor": "#506784",
            "linecolor": "#506784",
            "ticks": ""
           },
           "bgcolor": "rgb(17,17,17)",
           "caxis": {
            "gridcolor": "#506784",
            "linecolor": "#506784",
            "ticks": ""
           }
          },
          "title": {
           "x": 0.05
          },
          "updatemenudefaults": {
           "bgcolor": "#506784",
           "borderwidth": 0
          },
          "xaxis": {
           "automargin": true,
           "gridcolor": "#283442",
           "linecolor": "#506784",
           "ticks": "",
           "title": {
            "standoff": 15
           },
           "zerolinecolor": "#283442",
           "zerolinewidth": 2
          },
          "yaxis": {
           "automargin": true,
           "gridcolor": "#283442",
           "linecolor": "#506784",
           "ticks": "",
           "title": {
            "standoff": 15
           },
           "zerolinecolor": "#283442",
           "zerolinewidth": 2
          }
         }
        },
        "title": {
         "font": {
          "color": "yellow",
          "size": 18
         },
         "text": "Sentiment Analysis Count"
        },
        "width": 300,
        "xaxis": {
         "anchor": "y",
         "categoryarray": [
          "Positive",
          "Negative",
          "Neutral"
         ],
         "categoryorder": "array",
         "domain": [
          0,
          1
         ],
         "title": {
          "text": "Sentiment"
         }
        },
        "yaxis": {
         "anchor": "x",
         "domain": [
          0,
          1
         ],
         "title": {
          "text": "Count"
         }
        }
       }
      }
     },
     "metadata": {},
     "output_type": "display_data"
    }
   ],
   "source": [
    "\n",
    "# Classify vader_sentiment as Positive, Neutral, or Negative\n",
    "book_url['Sentiment_Type'] = book_url['vader_sentiment'].apply(lambda score: 'Positive' if score > 0 else ('Negative' if score < 0 else 'Neutral'))\n",
    "\n",
    "# Count the number of books for each sentiment type\n",
    "sentiment_counts = book_url['Sentiment_Type'].value_counts().reset_index()\n",
    "\n",
    "# Rename columns for clarity\n",
    "sentiment_counts.columns = ['Sentiment', 'Count']\n",
    "\n",
    "# Visualize the counts using a bar chart\n",
    "fig = px.bar(sentiment_counts, x='Sentiment', y='Count', title='Sentiment Analysis Count', color='Sentiment')\n",
    "fig.update_layout(\n",
    "    width=300,\n",
    "    height=500,\n",
    "    template='plotly_dark',\n",
    "    title_font=dict(size=18, color='yellow')\n",
    ")\n",
    "fig.write_html(\"./charts/sentiment_count.html\")\n",
    "fig.show()\n"
   ]
  },
  {
   "cell_type": "code",
   "execution_count": 17,
   "metadata": {},
   "outputs": [
    {
     "data": {
      "application/vnd.plotly.v1+json": {
       "config": {
        "plotlyServerURL": "https://plot.ly"
       },
       "data": [
        {
         "alignmentgroup": "True",
         "hovertemplate": "Genre=Dystopian<br>vader_sentiment=%{x}<br>Title=%{y}<extra></extra>",
         "legendgroup": "Dystopian",
         "marker": {
          "color": "#636efa",
          "pattern": {
           "shape": ""
          }
         },
         "name": "Dystopian",
         "offsetgroup": "Dystopian",
         "orientation": "h",
         "showlegend": true,
         "textposition": "auto",
         "type": "bar",
         "x": [
          0.8847,
          0.4788
         ],
         "xaxis": "x",
         "y": [
          "1984",
          "Animal Farm"
         ],
         "yaxis": "y"
        },
        {
         "alignmentgroup": "True",
         "hovertemplate": "Genre=History<br>vader_sentiment=%{x}<br>Title=%{y}<extra></extra>",
         "legendgroup": "History",
         "marker": {
          "color": "#EF553B",
          "pattern": {
           "shape": ""
          }
         },
         "name": "History",
         "offsetgroup": "History",
         "orientation": "h",
         "showlegend": true,
         "textposition": "auto",
         "type": "bar",
         "x": [
          0.6115,
          0,
          -0.7184,
          0,
          -0.9571,
          0.2732,
          0.9758,
          0.6858
         ],
         "xaxis": "x",
         "y": [
          "100 Headlines That Changed the World",
          "A Brief History of How the Industrial Revolution Changed the World",
          "All Quiet on the Western Front",
          "Evolution the Human Story",
          "I Used to Know That: World History",
          "Islam dalam Sejarah dan Kebudayaan Melayu",
          "Sapiens: A Brief History of Humankind",
          "The Museum of Scandals: Art that Shocked the World"
         ],
         "yaxis": "y"
        },
        {
         "alignmentgroup": "True",
         "hovertemplate": "Genre=Faith<br>vader_sentiment=%{x}<br>Title=%{y}<extra></extra>",
         "legendgroup": "Faith",
         "marker": {
          "color": "#00cc96",
          "pattern": {
           "shape": ""
          }
         },
         "name": "Faith",
         "offsetgroup": "Faith",
         "orientation": "h",
         "showlegend": true,
         "textposition": "auto",
         "type": "bar",
         "x": [
          0.9349,
          0,
          0.9405,
          -0.9169,
          -0.6591,
          -0.5994,
          -0.9665,
          0.7003,
          0.6808,
          0.9207,
          -0.8587,
          0.128,
          0.9571,
          0.9585,
          0.9683,
          0.9422,
          0.5868,
          0.9469,
          0.9452
         ],
         "xaxis": "x",
         "y": [
          "20 Principles",
          "30-Second Religion",
          "Agnosticism",
          "ANTITHESIS",
          "God Is Not Great",
          "Hadith: A Re-evaluation",
          "Infidel",
          "Mencari Jalan Pulang",
          "Mengemudi Bahtera Perubahan Minda",
          "No god but God",
          "Questioning the Veil: Open Letters to Muslim Women",
          "Religion Without God",
          "Rumi's Little Book of Life",
          "The Atheist's Bible",
          "The God Delusion",
          "Theology of Tariq Ramadan",
          "Travelog Minda Tajdid: Catatan Perjalanan Dari Tanah Barat",
          "What I Believe",
          "Why I am not a Christian"
         ],
         "yaxis": "y"
        },
        {
         "alignmentgroup": "True",
         "hovertemplate": "Genre=Psychology<br>vader_sentiment=%{x}<br>Title=%{y}<extra></extra>",
         "legendgroup": "Psychology",
         "marker": {
          "color": "#ab63fa",
          "pattern": {
           "shape": ""
          }
         },
         "name": "Psychology",
         "offsetgroup": "Psychology",
         "orientation": "h",
         "showlegend": true,
         "textposition": "auto",
         "type": "bar",
         "x": [
          0.9682,
          -0.9509,
          0.4215,
          0.7728,
          0.9725,
          0.8516,
          0.9442,
          0.9705,
          -0.5994,
          0.9786,
          -0.3586,
          0.9535
         ],
         "xaxis": "x",
         "y": [
          "30-Second Psychology ",
          "Adult Children of Emotionally Immature Parents",
          "Civilization and Its Discontents",
          "Freud for Beginners",
          "Freud Verbatim",
          "Freudian Slips",
          "Life Lessons From Freud",
          "Quiet",
          "The Body Keeps the Score ",
          "The Courage to Be Disliked ",
          "The Examined Life",
          "The Moral Molecule"
         ],
         "yaxis": "y"
        },
        {
         "alignmentgroup": "True",
         "hovertemplate": "Genre=Politics<br>vader_sentiment=%{x}<br>Title=%{y}<extra></extra>",
         "legendgroup": "Politics",
         "marker": {
          "color": "#FFA15A",
          "pattern": {
           "shape": ""
          }
         },
         "name": "Politics",
         "offsetgroup": "Politics",
         "orientation": "h",
         "showlegend": true,
         "textposition": "auto",
         "type": "bar",
         "x": [
          -0.9493
         ],
         "xaxis": "x",
         "y": [
          "50 Political Ideas You Really Need to Know"
         ],
         "yaxis": "y"
        },
        {
         "alignmentgroup": "True",
         "hovertemplate": "Genre=Biography<br>vader_sentiment=%{x}<br>Title=%{y}<extra></extra>",
         "legendgroup": "Biography",
         "marker": {
          "color": "#19d3f3",
          "pattern": {
           "shape": ""
          }
         },
         "name": "Biography",
         "offsetgroup": "Biography",
         "orientation": "h",
         "showlegend": true,
         "textposition": "auto",
         "type": "bar",
         "x": [
          0.101,
          0
         ],
         "xaxis": "x",
         "y": [
          "A Brief Guide to Charles Darwin, His Life and Times",
          "Sigmund Freud"
         ],
         "yaxis": "y"
        },
        {
         "alignmentgroup": "True",
         "hovertemplate": "Genre=Science<br>vader_sentiment=%{x}<br>Title=%{y}<extra></extra>",
         "legendgroup": "Science",
         "marker": {
          "color": "#FF6692",
          "pattern": {
           "shape": ""
          }
         },
         "name": "Science",
         "offsetgroup": "Science",
         "orientation": "h",
         "showlegend": true,
         "textposition": "auto",
         "type": "bar",
         "x": [
          0.4215,
          0.9885,
          0.9793,
          0.9599,
          0.9904,
          0.5267,
          -0.3403,
          0.2732,
          -0.8378,
          0.8316,
          0.9671
         ],
         "xaxis": "x",
         "y": [
          "A Brief History of the Universe",
          "A Tear at the Edge of Creation",
          "A Universe from Nothing",
          "Conversations on Consciousness",
          "Supercooperators",
          "The Ascent of Man",
          "The Demon-Haunted World: Science as a Candle in the Dark",
          "The Story of Evolution.",
          "The Science of Sin: The Psychology of the Seven Deadlies ",
          "We Are All Stardust",
          "Why Evolution Is True"
         ],
         "yaxis": "y"
        },
        {
         "alignmentgroup": "True",
         "hovertemplate": "Genre=Autobiography<br>vader_sentiment=%{x}<br>Title=%{y}<extra></extra>",
         "legendgroup": "Autobiography",
         "marker": {
          "color": "#B6E880",
          "pattern": {
           "shape": ""
          }
         },
         "name": "Autobiography",
         "offsetgroup": "Autobiography",
         "orientation": "h",
         "showlegend": true,
         "textposition": "auto",
         "type": "bar",
         "x": [
          0.9816,
          0.6005,
          0.946,
          0.96,
          0.34,
          0.8622,
          0.9974,
          0.7884,
          0.9245,
          -0.9684,
          0.802,
          -0.6911,
          -0.8658,
          0.9844
         ],
         "xaxis": "x",
         "y": [
          "A Doctor in the House",
          "Educated",
          "I Know Why the Caged Bird Sings",
          "Insatiable",
          "Into the Wild",
          "Latin America Diaries",
          "Love Without Limits",
          "Man's Search for Meaning",
          "My Brief History",
          "Night ",
          "Remembering Che: My Life with Che Guevara",
          "Shy: A Memoir",
          "The Diary of a Young Girl",
          "The Woman in Me"
         ],
         "yaxis": "y"
        },
        {
         "alignmentgroup": "True",
         "hovertemplate": "Genre=Self-help<br>vader_sentiment=%{x}<br>Title=%{y}<extra></extra>",
         "legendgroup": "Self-help",
         "marker": {
          "color": "#FF97FF",
          "pattern": {
           "shape": ""
          }
         },
         "name": "Self-help",
         "offsetgroup": "Self-help",
         "orientation": "h",
         "showlegend": true,
         "textposition": "auto",
         "type": "bar",
         "x": [
          -0.3612,
          -0.8639,
          0.9501,
          0.9934,
          0.7783
         ],
         "xaxis": "x",
         "y": [
          "Before I Die",
          "F**K It Therapy",
          "Rich Dad, Poor Dad",
          "The Subtle Art of Not Giving a F*ck",
          "Tuesdays with Morrie"
         ],
         "yaxis": "y"
        },
        {
         "alignmentgroup": "True",
         "hovertemplate": "Genre=Philosophy<br>vader_sentiment=%{x}<br>Title=%{y}<extra></extra>",
         "legendgroup": "Philosophy",
         "marker": {
          "color": "#FECB52",
          "pattern": {
           "shape": ""
          }
         },
         "name": "Philosophy",
         "offsetgroup": "Philosophy",
         "orientation": "h",
         "showlegend": true,
         "textposition": "auto",
         "type": "bar",
         "x": [
          0.9686,
          0,
          -0.7451,
          0.949,
          0.9165,
          0.9486,
          0.8891,
          0.875,
          0.9414,
          0.9245,
          0.9785,
          0.9784,
          -0.5106,
          -0.6597,
          0.9683,
          0.7783,
          0.6322
         ],
         "xaxis": "x",
         "y": [
          "Candide",
          "Civilization",
          "Crime and Punishment",
          "Event",
          "Free Will",
          "If You Can Read This",
          "On Beauty",
          "On Certainty",
          "On Liberty",
          "Philosophy 101",
          "The Alchemist",
          "The Big Questions",
          "The Metamorphosis",
          "The Stranger",
          "The Trolley Problem",
          "Wittgenstein's Conception of Philosophy",
          "Would You Eat Your Cat? "
         ],
         "yaxis": "y"
        },
        {
         "alignmentgroup": "True",
         "hovertemplate": "Genre=Economy<br>vader_sentiment=%{x}<br>Title=%{y}<extra></extra>",
         "legendgroup": "Economy",
         "marker": {
          "color": "#636efa",
          "pattern": {
           "shape": ""
          }
         },
         "name": "Economy",
         "offsetgroup": "Economy",
         "orientation": "h",
         "showlegend": true,
         "textposition": "auto",
         "type": "bar",
         "x": [
          0.4588,
          0.8316,
          0.9974,
          0.9716
         ],
         "xaxis": "x",
         "y": [
          "Double Entry",
          "Economics: The User's Guide",
          "Economix: How and Why Our Economy Works",
          "Rich Malaysia, Poor Malaysians"
         ],
         "yaxis": "y"
        },
        {
         "alignmentgroup": "True",
         "hovertemplate": "Genre=Photography<br>vader_sentiment=%{x}<br>Title=%{y}<extra></extra>",
         "legendgroup": "Photography",
         "marker": {
          "color": "#EF553B",
          "pattern": {
           "shape": ""
          }
         },
         "name": "Photography",
         "offsetgroup": "Photography",
         "orientation": "h",
         "showlegend": true,
         "textposition": "auto",
         "type": "bar",
         "x": [
          0.964,
          0.6187
         ],
         "xaxis": "x",
         "y": [
          "Humans of New York: Stories",
          "In the Shadow of Mountains"
         ],
         "yaxis": "y"
        },
        {
         "alignmentgroup": "True",
         "hovertemplate": "Genre=Humor<br>vader_sentiment=%{x}<br>Title=%{y}<extra></extra>",
         "legendgroup": "Humor",
         "marker": {
          "color": "#00cc96",
          "pattern": {
           "shape": ""
          }
         },
         "name": "Humor",
         "offsetgroup": "Humor",
         "orientation": "h",
         "showlegend": true,
         "textposition": "auto",
         "type": "bar",
         "x": [
          0.8221
         ],
         "xaxis": "x",
         "y": [
          "Humblebrag: The Art of False Modesty"
         ],
         "yaxis": "y"
        },
        {
         "alignmentgroup": "True",
         "hovertemplate": "Genre=Drama<br>vader_sentiment=%{x}<br>Title=%{y}<extra></extra>",
         "legendgroup": "Drama",
         "marker": {
          "color": "#ab63fa",
          "pattern": {
           "shape": ""
          }
         },
         "name": "Drama",
         "offsetgroup": "Drama",
         "orientation": "h",
         "showlegend": true,
         "textposition": "auto",
         "type": "bar",
         "x": [
          0.9892
         ],
         "xaxis": "x",
         "y": [
          "My Sister's Keeper"
         ],
         "yaxis": "y"
        },
        {
         "alignmentgroup": "True",
         "hovertemplate": "Genre=Feminism<br>vader_sentiment=%{x}<br>Title=%{y}<extra></extra>",
         "legendgroup": "Feminism",
         "marker": {
          "color": "#FFA15A",
          "pattern": {
           "shape": ""
          }
         },
         "name": "Feminism",
         "offsetgroup": "Feminism",
         "orientation": "h",
         "showlegend": true,
         "textposition": "auto",
         "type": "bar",
         "x": [
          0.9042
         ],
         "xaxis": "x",
         "y": [
          "The Second Sex"
         ],
         "yaxis": "y"
        }
       ],
       "layout": {
        "barmode": "relative",
        "legend": {
         "title": {
          "text": "Genre"
         },
         "tracegroupgap": 0
        },
        "margin": {
         "t": 60
        },
        "showlegend": false,
        "template": {
         "data": {
          "bar": [
           {
            "error_x": {
             "color": "#f2f5fa"
            },
            "error_y": {
             "color": "#f2f5fa"
            },
            "marker": {
             "line": {
              "color": "rgb(17,17,17)",
              "width": 0.5
             },
             "pattern": {
              "fillmode": "overlay",
              "size": 10,
              "solidity": 0.2
             }
            },
            "type": "bar"
           }
          ],
          "barpolar": [
           {
            "marker": {
             "line": {
              "color": "rgb(17,17,17)",
              "width": 0.5
             },
             "pattern": {
              "fillmode": "overlay",
              "size": 10,
              "solidity": 0.2
             }
            },
            "type": "barpolar"
           }
          ],
          "carpet": [
           {
            "aaxis": {
             "endlinecolor": "#A2B1C6",
             "gridcolor": "#506784",
             "linecolor": "#506784",
             "minorgridcolor": "#506784",
             "startlinecolor": "#A2B1C6"
            },
            "baxis": {
             "endlinecolor": "#A2B1C6",
             "gridcolor": "#506784",
             "linecolor": "#506784",
             "minorgridcolor": "#506784",
             "startlinecolor": "#A2B1C6"
            },
            "type": "carpet"
           }
          ],
          "choropleth": [
           {
            "colorbar": {
             "outlinewidth": 0,
             "ticks": ""
            },
            "type": "choropleth"
           }
          ],
          "contour": [
           {
            "colorbar": {
             "outlinewidth": 0,
             "ticks": ""
            },
            "colorscale": [
             [
              0,
              "#0d0887"
             ],
             [
              0.1111111111111111,
              "#46039f"
             ],
             [
              0.2222222222222222,
              "#7201a8"
             ],
             [
              0.3333333333333333,
              "#9c179e"
             ],
             [
              0.4444444444444444,
              "#bd3786"
             ],
             [
              0.5555555555555556,
              "#d8576b"
             ],
             [
              0.6666666666666666,
              "#ed7953"
             ],
             [
              0.7777777777777778,
              "#fb9f3a"
             ],
             [
              0.8888888888888888,
              "#fdca26"
             ],
             [
              1,
              "#f0f921"
             ]
            ],
            "type": "contour"
           }
          ],
          "contourcarpet": [
           {
            "colorbar": {
             "outlinewidth": 0,
             "ticks": ""
            },
            "type": "contourcarpet"
           }
          ],
          "heatmap": [
           {
            "colorbar": {
             "outlinewidth": 0,
             "ticks": ""
            },
            "colorscale": [
             [
              0,
              "#0d0887"
             ],
             [
              0.1111111111111111,
              "#46039f"
             ],
             [
              0.2222222222222222,
              "#7201a8"
             ],
             [
              0.3333333333333333,
              "#9c179e"
             ],
             [
              0.4444444444444444,
              "#bd3786"
             ],
             [
              0.5555555555555556,
              "#d8576b"
             ],
             [
              0.6666666666666666,
              "#ed7953"
             ],
             [
              0.7777777777777778,
              "#fb9f3a"
             ],
             [
              0.8888888888888888,
              "#fdca26"
             ],
             [
              1,
              "#f0f921"
             ]
            ],
            "type": "heatmap"
           }
          ],
          "heatmapgl": [
           {
            "colorbar": {
             "outlinewidth": 0,
             "ticks": ""
            },
            "colorscale": [
             [
              0,
              "#0d0887"
             ],
             [
              0.1111111111111111,
              "#46039f"
             ],
             [
              0.2222222222222222,
              "#7201a8"
             ],
             [
              0.3333333333333333,
              "#9c179e"
             ],
             [
              0.4444444444444444,
              "#bd3786"
             ],
             [
              0.5555555555555556,
              "#d8576b"
             ],
             [
              0.6666666666666666,
              "#ed7953"
             ],
             [
              0.7777777777777778,
              "#fb9f3a"
             ],
             [
              0.8888888888888888,
              "#fdca26"
             ],
             [
              1,
              "#f0f921"
             ]
            ],
            "type": "heatmapgl"
           }
          ],
          "histogram": [
           {
            "marker": {
             "pattern": {
              "fillmode": "overlay",
              "size": 10,
              "solidity": 0.2
             }
            },
            "type": "histogram"
           }
          ],
          "histogram2d": [
           {
            "colorbar": {
             "outlinewidth": 0,
             "ticks": ""
            },
            "colorscale": [
             [
              0,
              "#0d0887"
             ],
             [
              0.1111111111111111,
              "#46039f"
             ],
             [
              0.2222222222222222,
              "#7201a8"
             ],
             [
              0.3333333333333333,
              "#9c179e"
             ],
             [
              0.4444444444444444,
              "#bd3786"
             ],
             [
              0.5555555555555556,
              "#d8576b"
             ],
             [
              0.6666666666666666,
              "#ed7953"
             ],
             [
              0.7777777777777778,
              "#fb9f3a"
             ],
             [
              0.8888888888888888,
              "#fdca26"
             ],
             [
              1,
              "#f0f921"
             ]
            ],
            "type": "histogram2d"
           }
          ],
          "histogram2dcontour": [
           {
            "colorbar": {
             "outlinewidth": 0,
             "ticks": ""
            },
            "colorscale": [
             [
              0,
              "#0d0887"
             ],
             [
              0.1111111111111111,
              "#46039f"
             ],
             [
              0.2222222222222222,
              "#7201a8"
             ],
             [
              0.3333333333333333,
              "#9c179e"
             ],
             [
              0.4444444444444444,
              "#bd3786"
             ],
             [
              0.5555555555555556,
              "#d8576b"
             ],
             [
              0.6666666666666666,
              "#ed7953"
             ],
             [
              0.7777777777777778,
              "#fb9f3a"
             ],
             [
              0.8888888888888888,
              "#fdca26"
             ],
             [
              1,
              "#f0f921"
             ]
            ],
            "type": "histogram2dcontour"
           }
          ],
          "mesh3d": [
           {
            "colorbar": {
             "outlinewidth": 0,
             "ticks": ""
            },
            "type": "mesh3d"
           }
          ],
          "parcoords": [
           {
            "line": {
             "colorbar": {
              "outlinewidth": 0,
              "ticks": ""
             }
            },
            "type": "parcoords"
           }
          ],
          "pie": [
           {
            "automargin": true,
            "type": "pie"
           }
          ],
          "scatter": [
           {
            "marker": {
             "line": {
              "color": "#283442"
             }
            },
            "type": "scatter"
           }
          ],
          "scatter3d": [
           {
            "line": {
             "colorbar": {
              "outlinewidth": 0,
              "ticks": ""
             }
            },
            "marker": {
             "colorbar": {
              "outlinewidth": 0,
              "ticks": ""
             }
            },
            "type": "scatter3d"
           }
          ],
          "scattercarpet": [
           {
            "marker": {
             "colorbar": {
              "outlinewidth": 0,
              "ticks": ""
             }
            },
            "type": "scattercarpet"
           }
          ],
          "scattergeo": [
           {
            "marker": {
             "colorbar": {
              "outlinewidth": 0,
              "ticks": ""
             }
            },
            "type": "scattergeo"
           }
          ],
          "scattergl": [
           {
            "marker": {
             "line": {
              "color": "#283442"
             }
            },
            "type": "scattergl"
           }
          ],
          "scattermapbox": [
           {
            "marker": {
             "colorbar": {
              "outlinewidth": 0,
              "ticks": ""
             }
            },
            "type": "scattermapbox"
           }
          ],
          "scatterpolar": [
           {
            "marker": {
             "colorbar": {
              "outlinewidth": 0,
              "ticks": ""
             }
            },
            "type": "scatterpolar"
           }
          ],
          "scatterpolargl": [
           {
            "marker": {
             "colorbar": {
              "outlinewidth": 0,
              "ticks": ""
             }
            },
            "type": "scatterpolargl"
           }
          ],
          "scatterternary": [
           {
            "marker": {
             "colorbar": {
              "outlinewidth": 0,
              "ticks": ""
             }
            },
            "type": "scatterternary"
           }
          ],
          "surface": [
           {
            "colorbar": {
             "outlinewidth": 0,
             "ticks": ""
            },
            "colorscale": [
             [
              0,
              "#0d0887"
             ],
             [
              0.1111111111111111,
              "#46039f"
             ],
             [
              0.2222222222222222,
              "#7201a8"
             ],
             [
              0.3333333333333333,
              "#9c179e"
             ],
             [
              0.4444444444444444,
              "#bd3786"
             ],
             [
              0.5555555555555556,
              "#d8576b"
             ],
             [
              0.6666666666666666,
              "#ed7953"
             ],
             [
              0.7777777777777778,
              "#fb9f3a"
             ],
             [
              0.8888888888888888,
              "#fdca26"
             ],
             [
              1,
              "#f0f921"
             ]
            ],
            "type": "surface"
           }
          ],
          "table": [
           {
            "cells": {
             "fill": {
              "color": "#506784"
             },
             "line": {
              "color": "rgb(17,17,17)"
             }
            },
            "header": {
             "fill": {
              "color": "#2a3f5f"
             },
             "line": {
              "color": "rgb(17,17,17)"
             }
            },
            "type": "table"
           }
          ]
         },
         "layout": {
          "annotationdefaults": {
           "arrowcolor": "#f2f5fa",
           "arrowhead": 0,
           "arrowwidth": 1
          },
          "autotypenumbers": "strict",
          "coloraxis": {
           "colorbar": {
            "outlinewidth": 0,
            "ticks": ""
           }
          },
          "colorscale": {
           "diverging": [
            [
             0,
             "#8e0152"
            ],
            [
             0.1,
             "#c51b7d"
            ],
            [
             0.2,
             "#de77ae"
            ],
            [
             0.3,
             "#f1b6da"
            ],
            [
             0.4,
             "#fde0ef"
            ],
            [
             0.5,
             "#f7f7f7"
            ],
            [
             0.6,
             "#e6f5d0"
            ],
            [
             0.7,
             "#b8e186"
            ],
            [
             0.8,
             "#7fbc41"
            ],
            [
             0.9,
             "#4d9221"
            ],
            [
             1,
             "#276419"
            ]
           ],
           "sequential": [
            [
             0,
             "#0d0887"
            ],
            [
             0.1111111111111111,
             "#46039f"
            ],
            [
             0.2222222222222222,
             "#7201a8"
            ],
            [
             0.3333333333333333,
             "#9c179e"
            ],
            [
             0.4444444444444444,
             "#bd3786"
            ],
            [
             0.5555555555555556,
             "#d8576b"
            ],
            [
             0.6666666666666666,
             "#ed7953"
            ],
            [
             0.7777777777777778,
             "#fb9f3a"
            ],
            [
             0.8888888888888888,
             "#fdca26"
            ],
            [
             1,
             "#f0f921"
            ]
           ],
           "sequentialminus": [
            [
             0,
             "#0d0887"
            ],
            [
             0.1111111111111111,
             "#46039f"
            ],
            [
             0.2222222222222222,
             "#7201a8"
            ],
            [
             0.3333333333333333,
             "#9c179e"
            ],
            [
             0.4444444444444444,
             "#bd3786"
            ],
            [
             0.5555555555555556,
             "#d8576b"
            ],
            [
             0.6666666666666666,
             "#ed7953"
            ],
            [
             0.7777777777777778,
             "#fb9f3a"
            ],
            [
             0.8888888888888888,
             "#fdca26"
            ],
            [
             1,
             "#f0f921"
            ]
           ]
          },
          "colorway": [
           "#636efa",
           "#EF553B",
           "#00cc96",
           "#ab63fa",
           "#FFA15A",
           "#19d3f3",
           "#FF6692",
           "#B6E880",
           "#FF97FF",
           "#FECB52"
          ],
          "font": {
           "color": "#f2f5fa"
          },
          "geo": {
           "bgcolor": "rgb(17,17,17)",
           "lakecolor": "rgb(17,17,17)",
           "landcolor": "rgb(17,17,17)",
           "showlakes": true,
           "showland": true,
           "subunitcolor": "#506784"
          },
          "hoverlabel": {
           "align": "left"
          },
          "hovermode": "closest",
          "mapbox": {
           "style": "dark"
          },
          "paper_bgcolor": "rgb(17,17,17)",
          "plot_bgcolor": "rgb(17,17,17)",
          "polar": {
           "angularaxis": {
            "gridcolor": "#506784",
            "linecolor": "#506784",
            "ticks": ""
           },
           "bgcolor": "rgb(17,17,17)",
           "radialaxis": {
            "gridcolor": "#506784",
            "linecolor": "#506784",
            "ticks": ""
           }
          },
          "scene": {
           "xaxis": {
            "backgroundcolor": "rgb(17,17,17)",
            "gridcolor": "#506784",
            "gridwidth": 2,
            "linecolor": "#506784",
            "showbackground": true,
            "ticks": "",
            "zerolinecolor": "#C8D4E3"
           },
           "yaxis": {
            "backgroundcolor": "rgb(17,17,17)",
            "gridcolor": "#506784",
            "gridwidth": 2,
            "linecolor": "#506784",
            "showbackground": true,
            "ticks": "",
            "zerolinecolor": "#C8D4E3"
           },
           "zaxis": {
            "backgroundcolor": "rgb(17,17,17)",
            "gridcolor": "#506784",
            "gridwidth": 2,
            "linecolor": "#506784",
            "showbackground": true,
            "ticks": "",
            "zerolinecolor": "#C8D4E3"
           }
          },
          "shapedefaults": {
           "line": {
            "color": "#f2f5fa"
           }
          },
          "sliderdefaults": {
           "bgcolor": "#C8D4E3",
           "bordercolor": "rgb(17,17,17)",
           "borderwidth": 1,
           "tickwidth": 0
          },
          "ternary": {
           "aaxis": {
            "gridcolor": "#506784",
            "linecolor": "#506784",
            "ticks": ""
           },
           "baxis": {
            "gridcolor": "#506784",
            "linecolor": "#506784",
            "ticks": ""
           },
           "bgcolor": "rgb(17,17,17)",
           "caxis": {
            "gridcolor": "#506784",
            "linecolor": "#506784",
            "ticks": ""
           }
          },
          "title": {
           "x": 0.05
          },
          "updatemenudefaults": {
           "bgcolor": "#506784",
           "borderwidth": 0
          },
          "xaxis": {
           "automargin": true,
           "gridcolor": "#283442",
           "linecolor": "#506784",
           "ticks": "",
           "title": {
            "standoff": 15
           },
           "zerolinecolor": "#283442",
           "zerolinewidth": 2
          },
          "yaxis": {
           "automargin": true,
           "gridcolor": "#283442",
           "linecolor": "#506784",
           "ticks": "",
           "title": {
            "standoff": 15
           },
           "zerolinecolor": "#283442",
           "zerolinewidth": 2
          }
         }
        },
        "title": {
         "font": {
          "color": "yellow",
          "size": 20
         },
         "text": "Sentiment Analysis (Summary)",
         "x": 0.5
        },
        "xaxis": {
         "anchor": "y",
         "domain": [
          0,
          1
         ],
         "title": {
          "text": "vader_sentiment"
         }
        },
        "yaxis": {
         "anchor": "x",
         "domain": [
          0,
          1
         ],
         "showticklabels": false,
         "title": {
          "text": "Title"
         }
        }
       }
      }
     },
     "metadata": {},
     "output_type": "display_data"
    }
   ],
   "source": [
    "#sentiment analysis comparison - compare VADER sentiment scores for each book\n",
    "fig = px.bar(book_url, x='vader_sentiment', y='Title',  color='Genre', orientation='h')\n",
    "fig.update_layout(\n",
    "    yaxis=dict(showticklabels=False),\n",
    "    title= 'Sentiment Analysis (Summary)',\n",
    "    title_x=0.5,\n",
    "    title_font=dict(size=20, color='yellow'),\n",
    "    template='plotly_dark', \n",
    "    showlegend=False\n",
    ")\n",
    "fig.write_html(\"./charts/sentiment_analysis.html\")\n",
    "fig.show()"
   ]
  },
  {
   "cell_type": "markdown",
   "metadata": {},
   "source": [
    "# Word cloud"
   ]
  },
  {
   "cell_type": "code",
   "execution_count": 15,
   "metadata": {},
   "outputs": [
    {
     "name": "stdout",
     "output_type": "stream",
     "text": [
      "[('life', 51), ('new', 45), ('world', 44), ('history', 31), ('man', 29), ('time', 29), ('human', 27), ('political', 19), ('family', 18), ('evolution', 18), ('love', 17), ('people', 17), ('science', 17), ('questions', 17), ('muslim', 17), ('thought', 16), ('free', 16), ('lives', 16), ('theory', 15), ('modern', 15), ('great', 14), ('ideas', 14), ('economics', 14), ('war', 13), ('power', 13), ('education', 13), ('philosophy', 13), ('journey', 13), ('god', 13), ('others', 13), ('freud', 12), ('culture', 12), ('islam', 12), ('truth', 11), ('explains', 11), ('scientists', 11), ('everything', 11), ('understanding', 11), ('offers', 11), ('live', 11), ('explores', 11), ('major', 11), ('accessible', 11), ('read', 11), ('religion', 11), ('freedom', 10), ('big', 10), ('words', 10), ('society', 10), ('times', 10), ('clear', 10), ('nature', 10), ('belief', 10), ('historical', 10), ('young', 10), ('death', 10), ('economic', 10), ('social', 10), ('women', 10), ('discover', 9), ('past', 9), ('understand', 9), ('theories', 9), ('nothing', 9), ('better', 9), ('public', 9), ('key', 9), ('future', 9), ('something', 9), ('philosophical', 9), ('provocative', 9), ('last', 9), ('heart', 9), ('economy', 9), ('children', 9), ('events', 9), ('change', 9), ('good', 9), ('right', 9), ('classic', 8), ('information', 8), ('mind', 8), ('popular', 8), ('international', 8), ('need', 8), ('politics', 8), ('men', 8), ('universe', 8), ('greatest', 8), ('rise', 8), ('malaysia', 8), ('quest', 8), ('religious', 8), ('see', 8), ('place', 8), ('wisdom', 8), ('animals', 8), ('dreams', 8), ('perspective', 8), ('century', 8), ('works', 8), ('english', 8), ('sex', 8), ('experiences', 8), ('woman', 8), ('cooperation', 8), ('1984', 7), ('islamic', 7), ('thinking', 7), ('revolutionary', 7), ('best', 7), ('extraordinary', 7), ('well', 7), ('argues', 7), ('less', 7), ('meaning', 7), ('look', 7), ('back', 7), ('feelings', 7), ('ways', 7), ('agnosticism', 7), ('introduction', 7), ('guide', 7), ('farm', 7), ('views', 7), ('means', 7), ('terms', 7), ('growing', 7), ('american', 7), ('art', 7), ('presented', 7), ('living', 7), ('relationship', 7), ('rich', 7), ('personal', 7), ('facts', 7), ('wrong', 7), ('veil', 7), ('ramadans', 7), ('tale', 6), ('view', 6), ('beautiful', 6), ('headlines', 6), ('changed', 6), ('western', 6), ('whether', 6), ('fact', 6), ('fascinating', 6), ('picture', 6), ('basic', 6), ('rights', 6), ('home', 6), ('natural', 6), ('short', 6), ('revolution', 6), ('current', 6), ('question', 6), ('describes', 6), ('narrative', 6), ('leading', 6), ('remarkable', 6), ('inspiring', 6), ('turn', 6), ('philosophers', 6), ('scientific', 6), ('points', 6), ('early', 6), ('position', 6), ('itâ\\x80\\x99s', 6), ('old', 6), ('beauty', 6), ('always', 6), ('met', 6), ('learn', 6), ('difficult', 6), ('cultural', 6), ('common', 6), ('among', 6), ('issues', 6), ('tells', 6), ('figures', 6), ('person', 6), ('worlds', 6), ('civilization', 6), ('concept', 6), ('thinkers', 6), ('ancient', 6), ('knowledge', 6), ('instead', 6), ('throughout', 6), ('research', 6), ('contemporary', 6), ('help', 6), ('based', 6), ('next', 6), ('humans', 6), ('money', 6), ('word', 6), ('later', 6), ('age', 6), ('photographs', 6), ('working', 6), ('nick', 6), ('real', 6), ('courage', 6), ('brother', 5), ('george', 5), ('states', 5), ('individual', 5), ('exposes', 5), ('perfect', 5), ('muslims', 5), ('intellectual', 5), ('psychology', 5), ('inner', 5), ('introduces', 5), ('along', 5), ('fundamental', 5), ('considered', 5), ('since', 5), ('beginning', 5), ('country', 5), ('controversy', 5), ('reveals', 5), ('provides', 5), ('malaysian', 5), ('seen', 5), ('born', 5), ('sense', 5), ('powerful', 5), ('minds', 5), ('turns', 5), ('evidence', 5), ('acclaimed', 5), ('come', 5), ('humor', 5), ('may', 5), ('behavior', 5), ('create', 5), ('case', 5), ('happy', 5), ('problems', 5), ('issue', 5), ('writings', 5), ('chang', 5), ('want', 5), ('hundred', 5), ('presents', 5), ('possible', 5), ('part', 5), ('wit', 5), ('written', 5), ('insightful', 5), ('moral', 5), ('origins', 5), ('global', 5), ('things', 5), ('entertaining', 5), ('writing', 5), ('insights', 5), ('increasingly', 5), ('concise', 5), ('father', 5), ('far', 5), ('essential', 5), ('goodwin', 5), ('second', 5), ('examines', 5), ('ordinary', 5), ('different', 5), ('face', 5), ('explore', 5), ('text', 5), ('letters', 5), ('maya', 5), ('memoir', 5), ('authors', 5), ('brief', 5), ('controversial', 5), ('development', 5), ('college', 5), ('sister', 5), ('akira', 5), ('school', 5), ('highly', 5), ('lead', 5), ('center', 5), ('groundbreaking', 5), ('five', 5), ('poor', 5), ('decades', 5), ('ramadan', 5), ('baum', 5), ('catholic', 5), ('rebellion', 4), ('police', 4), ('novel', 4), ('relevant', 4), ('french', 4), ('anyone', 4), ('wall', 4), ('finally', 4), ('inspire', 4), ('point', 4), ('sure', 4), ('party', 4), ('general', 4), ('reader', 4), ('course', 4), ('sigmund', 4), ('profound', 4), ('clarity', 4), ('concepts', 4), ('away', 4), ('brings', 4), ('mysteries', 4), ('hawking', 4), ('prime', 4), ('minister', 4), ('mahathir', 4), ('transformed', 4), ('outside', 4), ('compelling', 4), ('artists', 4), ('tried', 4), ('existence', 4), ('go', 4), ('large', 4), ('despite', 4), ('remains', 4), ('universal', 4), ('lucid', 4), ('bestselling', 4), ('rather', 4), ('prominent', 4), ('take', 4), ('grew', 4), ('emotional', 4), ('took', 4), ('parents', 4), ('true', 4), ('positive', 4), ('relationships', 4), ('driven', 4), ('anything', 4), ('result', 4), ('serious', 4), ('phenomenon', 4), ('either', 4), ('moving', 4), ('bad', 4), ('â\\x80\\x94', 4), ('inspired', 4), ('die', 4), ('created', 4), ('intimate', 4), ('chance', 4), ('witty', 4), ('actually', 4), ('funny', 4), ('distinguished', 4), ('psychological', 4), ('rest', 4), ('consciousness', 4), ('talk', 4), ('confronting', 4), ('say', 4), ('provide', 4), ('effect', 4), ('finds', 4), ('worth', 4), ('mathematics', 4), ('wealth', 4), ('found', 4), ('wide', 4), ('explain', 4), ('end', 4), ('older', 4), ('began', 4), ('university', 4), ('learning', 4), ('insight', 4), ('limitations', 4), ('subject', 4), ('list', 4), ('complex', 4), ('famous', 4), ('experience', 4), ('addresses', 4), ('must', 4), ('unique', 4), ('give', 4), ('small', 4), ('harris', 4), ('morality', 4), ('anna', 4), ('whole', 4), ('might', 4), ('eat', 4), ('painful', 4), ('spirit', 4), ('middle', 4), ('poetry', 4), ('least', 4), ('together', 4), ('ability', 4), ('beliefs', 4), ('role', 4), ('alternate', 4), ('mccandless', 4), ('body', 4), ('lessons', 4), ('limits', 4), ('influential', 4), ('figure', 4), ('stephen', 4), ('perhaps', 4), ('countless', 4), ('save', 4), ('faith', 4), ('exploration', 4), ('argument', 4), ('ages', 4), ('available', 4), ('millions', 4), ('difference', 4), ('context', 4), ('begins', 4), ('examining', 4), ('manson', 4), ('trolley', 4), ('theology', 4), ('masterpiece', 3), ('watching', 3), ('orwell', 3), ('ruled', 3), ('individuality', 3), ('reading', 3), ('street', 3), ('dead', 3), ('principles', 3), ('reform', 3), ('toward', 3), ('thoughts', 3), ('significant', 3), ('worldwide', 3), ('psychoanalysis', 3), ('study', 3), ('mean', 3), ('debate', 3), ('top', 3), ('minute', 3), ('using', 3), ('james', 3), ('various', 3), ('government', 3), ('responses', 3), ('threat', 3), ('democracy', 3), ('media', 3), ('darwin', 3), ('selection', 3), ('uncover', 3), ('einstein', 3), ('vision', 3), ('exciting', 3), ('held', 3), ('surprisingly', 3), ('notion', 3), ('complexity', 3), ('reality', 3), ('centuries', 3), ('physicist', 3), ('implications', 3), ('humankind', 3), ('matter', 3), ('creation', 3), ('calls', 3), ('order', 3), ('intelligent', 3), ('particular', 3), ('let', 3), ('cuttingedge', 3), ('came', 3), ('demonstrate', 3), ('discovery', 3), ('uses', 3), ('going', 3), ('emotionally', 3), ('unavailable', 3), ('parent', 3), ('childhood', 3), ('needs', 3), ('responsibility', 3), ('psychologist', 3), ('control', 3), ('trying', 3), ('interesting', 3), ('simple', 3), ('failure', 3), ('challenges', 3), ('atheists', 3), ('indeed', 3), ('favor', 3), ('stimulating', 3), ('dawkins', 3), ('state', 3), ('jones', 3), ('soon', 3), ('dangerous', 3), ('someone', 3), ('side', 3), ('abandoned', 3), ('day', 3), ('walls', 3), ('neighbors', 3), ('hope', 3), ('fear', 3), ('lifes', 3), ('ultimate', 3), ('though', 3), ('stands', 3), ('socalled', 3), ('freuds', 3), ('decade', 3), ('lifetime', 3), ('specific', 3), ('addition', 3), ('done', 3), ('conversations', 3), ('blackmore', 3), ('interviews', 3), ('ranging', 3), ('renowned', 3), ('revealing', 3), ('apart', 3), ('believe', 3), ('intriguing', 3), ('background', 3), ('st', 3), ('murder', 3), ('purpose', 3), ('law', 3), ('offer', 3), ('accounting', 3), ('doubleentry', 3), ('system', 3), ('allowed', 3), ('measure', 3), ('friend', 3), ('across', 3), ('use', 3), ('failures', 3), ('tell', 3), ('cambridge', 3), ('myths', 3), ('inequality', 3), ('daily', 3), ('tara', 3), ('summer', 3), ('mother', 3), ('became', 3), ('civil', 3), ('movement', 3), ('wonder', 3), ('comes', 3), ('timely', 3), ('fun', 3), ('attempts', 3), ('got', 3), ('economix', 3), ('simply', 3), ('founder', 3), ('pursuit', 3), ('amazing', 3), ('bestseller', 3), ('looking', 3), ('critical', 3), ('prose', 3), ('trip', 3), ('creating', 3), ('lively', 3), ('follow', 3), ('track', 3), ('happened', 3), ('refreshing', 3), ('professor', 3), ('philosopher', 3), ('å½iå¾ek', 3), ('event', 3), ('easily', 3), ('original', 3), ('form', 3), ('plato', 3), ('liberating', 3), ('fears', 3), ('experienced', 3), ('everyday', 3), ('message', 3), ('immediately', 3), ('path', 3), ('moment', 3), ('think', 3), ('policy', 3), ('importance', 3), ('whose', 3), ('impact', 3), ('organized', 3), ('exploring', 3), ('understood', 3), ('demonstrates', 3), ('humanity', 3), ('brandon', 3), ('photos', 3), ('million', 3), ('followers', 3), ('mexico', 3), ('writer', 3), ('twitter', 3), ('internet', 3), ('chapter', 3), ('consequences', 3), ('kindness', 3), ('hearts', 3), ('cold', 3), ('head', 3), ('birth', 3), ('america', 3), ('passionate', 3), ('language', 3), ('hirsi', 3), ('van', 3), ('marriage', 3), ('west', 3), ('girl', 3), ('pioneering', 3), ('democratic', 3), ('talks', 3), ('given', 3), ('car', 3), ('months', 3), ('london', 3), ('truly', 3), ('regard', 3), ('interest', 3), ('stop', 3), ('guevara', 3), ('diary', 3), ('volume', 3), ('kanae', 3), ('lasting', 3), ('generations', 3), ('pleasure', 3), ('search', 3), ('march', 3), ('attention', 3), ('rarely', 3), ('physics', 3), ('widely', 3), ('morally', 3), ('elie', 3), ('record', 3), ('happen', 3), ('east', 3), ('veiling', 3), ('wittgensteins', 3), ('isbn', 3), ('keeps', 3), ('engaged', 3), ('practice', 3), ('preeminent', 3), ('studies', 3), ('designed', 3), ('teach', 3), ('introverts', 3), ('listening', 3), ('lectures', 3), ('aleida', 3), ('shared', 3), ('loss', 3), ('dad', 3), ('income', 3), ('generous', 3), ('oil', 3), ('â\\x80\\x93', 3), ('gave', 3), ('rumis', 3), ('examine', 3), ('ahead', 3), ('says', 3), ('nowak', 3), ('highfield', 3), ('competition', 3), ('cancer', 3), ('analysis', 3), ('giving', 3), ('answer', 3), ('happier', 3), ('trauma', 3), ('sagan', 3), ('cut', 3), ('faced', 3), ('patient', 3), ('audiences', 3), ('several', 3), ('theological', 3), ('traditions', 3), ('mitch', 3), ('morrie', 3), ('imprisonment', 2), ('peace', 2), ('slavery', 2), ('orwellian', 2), ('entered', 2), ('vocabulary', 2), ('dystopian', 2), ('nightmare', 2), ('odyssey', 2), ('pursues', 2), ('forbidden', 2), ('affair', 2), ('warring', 2), ('structure', 2), ('controls', 2), ('memory', 2), ('prophetic', 2), ('haunting', 2), ('worst', 2), ('crimes', 2), ('imaginable', 2), ('destruction', 2), ('foreword', 2), ('pynchon', 2), ('gift', 2), ('incredible', 2), ('newspaper', 2), ('knew', 2), ('1929', 2), ('hitler', 2), ('bin', 2), ('ideal', 2), ('shaped', 2), ('assassination', 2), ('alike', 2), ('movements', 2), ('obedience', 2), ('enough', 2), ('bar', 2), ('50', 2), ('field', 2), ('half', 2), ('workings', 2), ('william', 2), ('demons', 2), ('explanations', 2), ('religions', 2), ('forces', 2), ('security', 2), ('liberty', 2), ('ignore', 2), ('quiet', 2), ('house', 2), ('developed', 2), ('industrial', 2), ('stars', 2), ('chart', 2), ('string', 2), ('includes', 2), ('personalities', 2), ('aristotle', 2), ('mohamad', 2), ('iron', 2), ('earned', 2), ('enemies', 2), ('outspoken', 2), ('downtrodden', 2), ('almost', 2), ('aspects', 2), ('private', 2), ('bold', 2), ('eyes', 2), ('fourth', 2), ('2003', 2), ('making', 2), ('longestserving', 2), ('asia', 2), ('career', 2), ('40', 2), ('member', 2), ('parliament', 2), ('believers', 2), ('suggesting', 2), ('connected', 2), ('mysterious', 2), ('oneness', 2), ('temples', 2), ('incarnation', 2), ('similar', 2), ('physical', 2), ('laws', 2), ('governing', 2), ('mechanics', 2), ('single', 2), ('brave', 2), ('efforts', 2), ('twentyfive', 2), ('gleiser', 2), ('fundamentally', 2), ('ideological', 2), ('emerges', 2), ('imperfections', 2), ('asymmetries', 2), ('genetic', 2), ('tear', 2), ('precious', 2), ('improbability', 2), ('fueled', 2), ('transformation', 2), ('krauss', 2), ('bring', 2), ('observations', 2), ('arise', 2), ('significance', 2), ('characteristic', 2), ('wry', 2), ('recent', 2), ('delightfully', 2), ('readable', 2), ('gamechanging', 2), ('antidote', 2), ('immature', 2), ('anger', 2), ('betrayal', 2), ('abandonment', 2), ('forward', 2), ('clinical', 2), ('avoid', 2), ('busy', 2), ('dealing', 2), ('consideration', 2), ('le', 2), ('poidevin', 2), ('sets', 2), ('richard', 2), ('begin', 2), ('full', 2), ('german', 2), ('sign', 2), ('horror', 2), ('animal', 2), ('group', 2), ('equal', 2), ('betrayed', 2), ('pig', 2), ('named', 2), ('manor', 2), ('barn', 2), ('hear', 2), ('dream', 2), ('meeting', 2), ('animalism', 2), ('napoleon', 2), ('enterprise', 2), ('painted', 2), ('therefore', 2), ('criticizes', 2), ('confront', 2), ('losing', 2), ('covered', 2), ('colorful', 2), ('celebration', 2), ('optimism', 2), ('suffering', 2), ('plan', 2), ('alive', 2), ('celebrated', 2), ('essay', 2), ('tracing', 2), ('period', 2), ('brilliant', 2), ('summary', 2), ('psychoanalytic', 2), ('stress', 2), ('drive', 2), ('mans', 2), ('translations', 2), ('complete', 2), ('overall', 2), ('prepared', 2), ('existing', 2), ('versions', 2), ('brain', 2), ('mystery', 2), ('beyond', 2), ('ask', 2), ('saying', 2), ('helpful', 2), ('illuminate', 2), ('raskolnikov', 2), ('desperate', 2), ('former', 2), ('remorse', 2), ('conventional', 2), ('game', 2), ('guilt', 2), ('double', 2), ('nations', 2), ('renaissance', 2), ('capitalism', 2), ('costs', 2), ('sudden', 2), ('brothers', 2), ('disregard', 2), ('dont', 2), ('economist', 2), ('irreverent', 2), ('deep', 2), ('present', 2), ('range', 2), ('received', 2), ('gives', 2), ('industry', 2), ('united', 2), ('crafted', 2), ('accurate', 2), ('westover', 2), ('set', 2), ('fathers', 2), ('saw', 2), ('treated', 2), ('mainstream', 2), ('ensure', 2), ('lacking', 2), ('taking', 2), ('struggle', 2), ('grief', 2), ('acute', 2), ('distinguishes', 2), ('markets', 2), ('talking', 2), ('washington', 2), ('quirky', 2), ('transforms', 2), ('ten', 2), ('bestsellers', 2), ('debt', 2), ('lesson', 2), ('smart', 2), ('bonus', 2), ('pieces', 2), ('easy', 2), ('100', 2), ('editorinchief', 2), ('magazines', 2), ('mix', 2), ('researched', 2), ('hilarious', 2), ('foundations', 2), ('invite', 2), ('golden', 2), ('probably', 2), ('slavoj', 2), ('happening', 2), ('radical', 2), ('intense', 2), ('thats', 2), ('changing', 2), ('drawing', 2), ('bang', 2), ('visual', 2), ('dutch', 2), ('africa', 2), ('learned', 2), ('expression', 2), ('fewer', 2), ('lost', 2), ('water', 2), ('convey', 2), ('practical', 2), ('examples', 2), ('touches', 2), ('nearly', 2), ('beings', 2), ('value', 2), ('source', 2), ('enlightening', 2), ('cartoon', 2), ('format', 2), ('ego', 2), ('id', 2), ('somehow', 2), ('mental', 2), ('documentary', 2), ('therapist', 2), ('encounter', 2), ('unconscious', 2), ('meet', 2), ('patients', 2), ('quotes', 2), ('freudâ\\x80\\x99s', 2), ('chapters', 2), ('thus', 2), ('speaks', 2), ('main', 2), ('christopher', 2), ('hitchens', 2), ('cosmos', 2), ('profoundly', 2), ('deal', 2), ('hadith', 2), ('compiled', 2), ('prophet', 2), ('quran', 2), ('2010', 2), ('city', 2), ('audience', 2), ('blog', 2), ('ny', 2), ('appeal', 2), ('travel', 2), ('dialogue', 2), ('hes', 2), ('indepth', 2), ('deeper', 2), ('parks', 2), ('wittels', 2), ('brags', 2), ('disguised', 2), ('humility', 2), ('mo', 2), ('solely', 2), ('humblebrags', 2), ('notable', 2), ('angelouâ\\x80\\x99s', 2), ('debut', 2), ('beloved', 2), ('told', 2), ('caged', 2), ('bird', 2), ('longing', 2), ('insult', 2), ('bigotry', 2), ('devout', 2), ('southern', 2), ('town', 2), ('prejudice', 2), ('strong', 2), ('fell', 2), ('keep', 2), ('straight', 2), ('crusades', 2), ('black', 2), ('ii', 2), ('geopolitical', 2), ('thousand', 2), ('speak', 2), ('arenâ\\x80\\x99t', 2), ('donâ\\x80\\x99t', 2), ('sound', 2), ('telling', 2), ('theyâ\\x80\\x99re', 2), ('jack', 2), ('wise', 2), ('discourse', 2), ('pop', 2), ('historically', 2), ('mccurryâ\\x80\\x99s', 2), ('spiritual', 2), ('alongside', 2), ('images', 2), ('play', 2), ('ali', 2), ('stripped', 2), ('coming', 2), ('superstar', 2), ('speech', 2), ('fight', 2), ('believer', 2), ('tragically', 2), ('fought', 2), ('constant', 2), ('politicians', 2), ('balance', 2), ('ideals', 2), ('already', 2), ('unusual', 2), ('reputation', 2), ('extreme', 2), ('business', 2), ('dozens', 2), ('1', 2), ('recounts', 2), ('shocking', 2), ('tone', 2), ('porn', 2), ('becoming', 2), ('voices', 2), ('astonishingly', 2), ('central', 2), ('alone', 2), ('north', 2), ('name', 2), ('burned', 2), ('cash', 2), ('wallet', 2), ('unforgettable', 2), ('raw', 2), ('maps', 2), ('leaving', 2), ('voltaire', 2), ('fragmentary', 2), ('surely', 2), ('although', 2), ('community', 2), ('regarding', 2), ('inhabited', 2), ('giant', 2), ('bolivia', 2), ('opportunity', 2), ('recorded', 2), ('impressions', 2), ('thousands', 2), ('thinker', 2), ('light', 2), ('dilemmas', 2), ('throw', 2), ('\\x97', 2), ('sensitivity', 2), ('wellbeing', 2), ('de', 2), ('doesnâ\\x80\\x99t', 2), ('legs', 2), ('vujicic', 2), ('undeniable', 2), ('godly', 2), ('reminder', 2), ('boy', 2), ('wondered', 2), ('realized', 2), ('husband', 2), ('camps', 2), ('survival', 2), ('move', 2), ('renewed', 2), ('socialism', 2), ('reflects', 2), ('engagement', 2), ('delves', 2), ('influenced', 2), ('serves', 2), ('region', 2), ('embrace', 2), ('themes', 2), ('mohd', 2), ('asri', 2), ('zainul', 2), ('abidin', 2), ('attracted', 2), ('administration', 2), ('hawkingâ\\x80\\x99s', 2), ('illustrated', 2), ('colleague', 2), ('confronted', 2), ('diagnosis', 2), ('als', 2), ('numerous', 2), ('twentieth', 2), ('jodi', 2), ('picoult', 2), ('riveting', 2), ('teenagers', 2), ('defined', 2), ('decision', 2), ('sisters', 2), ('another', 2), ('reallife', 2), ('wiesel', 2), ('taken', 2), ('wiesels', 2), ('memories', 2), ('despair', 2), ('deeply', 2), ('translation', 2), ('wife', 2), ('corrects', 2), ('details', 2), ('aslan', 2), ('islamâ\\x80\\x99s', 2), ('pushing', 2), ('europe', 2), ('magnificent', 2), ('australian', 2), ('topic', 2), ('18', 2), ('eloquent', 2), ('support', 2), ('opinion', 2), ('illustrations', 2), ('wear', 2), ('trend', 2), ('piety', 2), ('pride', 2), ('interested', 2), ('questioning', 2), ('authority', 2), ('special', 2), ('supported', 2), ('compel', 2), ('reconsider', 2), ('sensitive', 2), ('successful', 2), ('indelible', 2), ('december', 2), ('partner', 2), ('che', 2), ('ches', 2), ('writes', 2), ('strength', 2), ('cuba', 2), ('resources', 2), ('per', 2), ('essays', 2), ('gas', 2), ('national', 2), ('volunteerism', 2), ('forms', 2), ('promote', 2), ('begs', 2), ('authorâ\\x80\\x99s', 2), ('answers', 2), ('hard', 2), ('hardly', 2), ('rumi', 2), ('translated', 2), ('mystical', 2), ('focuses', 2), ('core', 2), ('companion', 2), ('soul', 2), ('finding', 2), ('biology', 2), ('ago', 2), ('species', 2), ('sapiens', 2), ('biological', 2), ('harari', 2), ('design', 2), ('spark', 2), ('remain', 2), ('grownups', 2), ('twenty', 2), ('longer', 2), ('beautifully', 2), ('final', 2), ('societies', 2), ('evolved', 2), ('experts', 2), ('evolutionary', 2), ('genes', 2), ('supercooperators', 2), ('disease', 2), ('discovered', 2), ('arises', 2), ('forgiveness', 2), ('mathematical', 2), ('scientist', 2), ('provoke', 2), ('teaches', 2), ('wrote', 2), ('harm', 2), ('aint', 2), ('sacred', 2), ('arguments', 2), ('principle', 2), ('der', 2), ('foremost', 2), ('spent', 2), ('show', 2), ('trust', 2), ('sports', 2), ('self', 2), ('happiness', 2), ('pseudoscience', 2), ('anne', 2), ('testament', 2), ('1942', 2), ('vivid', 2), ('dying', 2), ('supreme', 2), ('bed', 2), ('insect', 2), ('laying', 2), ('lifted', 2), ('kafka', 2), ('becomes', 2), ('object', 2), ('twentiethcentury', 2), ('predicament', 2), ('toâ', 2), ('continue', 2), ('rockefeller', 2), ('number', 2), ('mccabe', 2), ('characteristics', 2), ('lust', 2), ('gluttony', 2), ('greed', 2), ('envy', 2), ('laham', 2), ('sins', 2), ('beauvoirâ\\x80\\x99s', 2), ('drawn', 2), ('fk', 2), ('honest', 2), ('subtle', 2), ('fkis', 2), ('generation', 2), ('showing', 2), ('lemons', 2), ('curiosity', 2), ('workers', 2), ('standing', 2), ('divert', 2), ('youâ\\x80\\x99re', 2), ('fat', 2), ('ethical', 2), ('cathcart', 2), ('â\\x80\\x9cthe', 2), ('court', 2), ('ethics', 2), ('connections', 2), ('jeremy', 2), ('open', 2), ('music', 2), ('tariq', 2), ('interfaith', 2), ('debates', 2), ('vatican', 2), ('nonmuslim', 2), ('albom', 2), ('turned', 2), ('klein', 2), ('whatâ\\x80\\x99s', 2), ('reveal', 2), ('citizens', 2), ('misunderstandings', 2), ('wittgenstein', 2), ('â\\x80\\x9cmarx', 2), ('feature', 1), ('paperback', 1), ('features', 1), ('deckled', 1), ('edges', 1), ('flaps', 1), ('occasionalternate', 1), ('foundhere', 1), ('document', 1), ('historyâ\\x80\\x99s', 1), ('momentsâ\\x80\\x94headlines', 1), ('momentous', 1), ('irrevocably', 1), ('looks', 1), ('crosses', 1), ('atlantic', 1), ('1838', 1), ('abraham', 1), ('lincoln', 1), ('assassinated', 1), ('1865', 1), ('crashes', 1), ('sweeps', 1), ('1933', 1), ('king', 1), ('elvis', 1), ('1977', 1), ('obama', 1), ('wins', 1), ('presidency', 1), ('2008', 1), ('laden', 1), ('shot', 1), ('2011headlines', 1), ('dip', 1), ('news', 1), ('kennedy', 1), ('moon', 1), ('fascinate', 1), ('buffs', 1), ('casual', 1), ('albannas', 1), ('aimed', 1), ('actively', 1), ('engage', 1), ('societal', 1), ('uphold', 1), ('values', 1), ('establishment', 1), ('equitable', 1), ('marked', 1), ('turning', 1), ('influencing', 1), ('ideologies', 1), ('pavlovâ\\x80\\x99s', 1), ('dogs', 1), ('milgramâ\\x80\\x99s', 1), ('beckâ\\x80\\x99s', 1), ('cognitive', 1), ('therapy', 1), ('youâ\\x80\\x99ve', 1), ('certainly', 1), ('heard', 1), ('join', 1), ('dinner', 1), ('dazzle', 1), ('knowledge30second', 1), ('strands', 1), ('pages', 1), ('300', 1), ('unraveling', 1), ('luminaries', 1), ('aaron', 1), ('beck', 1), ('behaviorism', 1), ('cognitivism', 1), ('handle', 1), ('corrosive', 1), ('cynicism', 1), ('unease', 1), ('terrorism', 1), ('fundamentalism', 1), ('endanger', 1), ('pose', 1), ('corruption', 1), ('spin', 1), ('suspect', 1), ('arouse', 1), ('indignation', 1), ('aggravated', 1), ('array', 1), ('pressure', 1), ('groups', 1), ('farfromdisinterested', 1), ('attentions', 1), ('mass', 1), ('ben', 1), ('duprã©', 1), ('clears', 1), ('murk', 1), ('obscures', 1), ('peril', 1), ('charles', 1), ('unsure', 1), ('polymath', 1), ('avoided', 1), ('confrontation', 1), ('ensconced', 1), ('downe', 1), ('kent', 1), ('idea', 1), ('isolation', 1), ('aydons', 1), ('biography', 1), ('introductions', 1), ('crump', 1), ('inventors', 1), ('businessmen', 1), ('explorers', 1), ('fashioned', 1), ('dawn', 1), ('gazed', 1), ('attempted', 1), ('heavens', 1), ('stonehenge', 1), ('ending', 1), ('crisis', 1), ('eternal', 1), ('discoveries', 1), ('copernicus', 1), ('isaac', 1), ('newton', 1), ('era', 1), ('eddington', 1), ('twentytwo', 1), ('agricultural', 1), ('backwater', 1), ('powerhouse', 1), ('seventeenthlargest', 1), ('trading', 1), ('nation', 1), ('worldthis', 1), ('achievement', 1), ('mahathirâ\\x80\\x99s', 1), ('grip', 1), ('ardent', 1), ('admirers', 1), ('describedâ\\x80\\x94typically', 1), ('paradoxicallyâ\\x80\\x94as', 1), ('tyrannical', 1), ('dictator', 1), ('bãªte', 1), ('noir', 1), ('courageous', 1), ('defender', 1), ('third', 1), ('moderate', 1), ('islamat', 1), ('rewrote', 1), ('rules', 1), ('hitherto', 1), ('unknown', 1), ('intensely', 1), ('publicly', 1), ('statesman', 1), ('shapers', 1), ('neither', 1), ('apology', 1), ('defence', 1), ('forceful', 1), ('achieved', 1), ('whyabout', 1), ('authortun', 1), ('10', 1), ('july', 1), ('1925', 1), ('jawiù', 1), ('ø\\xadøªù\\x8aø±', 1), ('ø¨ù\\x86', 1), ('ù', 1), ('ø\\xadù', 1), ('ø¯', 1), ('post', 1), ('22', 1), ('1981', 1), ('malaysias', 1), ('leaders', 1), ('mahathirs', 1), ('spanned', 1), ('election', 1), ('federal', 1), ('1964', 1), ('resignation', 1), ('millennia', 1), ('shamans', 1), ('nonbelievers', 1), ('binds', 1), ('else', 1), ('churches', 1), ('mosques', 1), ('synagogues', 1), ('pray', 1), ('divine', 1), ('asserted', 1), ('natureâ\\x80\\x99s', 1), ('apparent', 1), ('simpler', 1), ('underlying', 1), ('unite', 1), ('bodies', 1), ('einsteinâ\\x80\\x99s', 1), ('relativity', 1), ('tiny', 1), ('quantum', 1), ('framework', 1), ('elusive', 1), ('elegant', 1), ('gloriously', 1), ('messyoverturning', 1), ('awardwinning', 1), ('marcelo', 1), ('misguided', 1), ('volcanic', 1), ('shift', 1), ('scenario', 1), ('primordial', 1), ('cataclysmic', 1), ('accidents', 1), ('earthâ\\x80\\x99s', 1), ('duplication', 1), ('errors', 1), ('code', 1), ('imbalance', 1), ('spurs', 1), ('smooth', 1), ('radiationa', 1), ('edge', 1), ('humancentrism', 1), ('reflect', 1), ('rare', 1), ('accident', 1), ('presence', 1), ('unplanned', 1), ('aesthetic', 1), ('labels', 1), ('perfection', 1), ('holds', 1), ('monotheistic', 1), ('baggage', 1), ('downtoearth', 1), ('walks', 1), ('unifier', 1), ('doubterâ\\x80\\x94a', 1), ('led', 1), ('lawrence', 1), ('paradigmshifting', 1), ('exists', 1), ('placeâ\\x80\\x9cwhere', 1), ('nothingâ\\x80\\x9done', 1), ('crossed', 1), ('chasm', 1), ('staggeringly', 1), ('experimental', 1), ('mindbending', 1), ('preface', 1), ('higgs', 1), ('particle', 1), ('kraussâ\\x80\\x99s', 1), ('wonderfully', 1), ('presenting', 1), ('evolvedâ\\x80\\x94and', 1), ('endprovocative', 1), ('challenging', 1), ('underpinning', 1), ('outmoded', 1), ('selfish', 1), ('lingering', 1), ('loneliness', 1), ('recall', 1), ('dismissed', 1), ('adult', 1), ('levels', 1), ('effort', 1), ('compensate', 1), ('parentâ\\x80\\x99s', 1), ('woundscanbe', 1), ('healed', 1), ('youcanmove', 1), ('lifein', 1), ('breakthrough', 1), ('lindsay', 1), ('gibson', 1), ('destructive', 1), ('neglect', 1), ('heal', 1), ('pain', 1), ('confusion', 1), ('caused', 1), ('childhoodby', 1), ('freeing', 1), ('parentsâ\\x80\\x99', 1), ('immaturity', 1), ('recover', 1), ('react', 1), ('disappointment', 1), ('youâ\\x80\\x99ll', 1), ('build', 1), ('lifediscover', 1), ('types', 1), ('parentsthe', 1), ('parentinstills', 1), ('instability', 1), ('anxietythe', 1), ('parentstays', 1), ('everyonethe', 1), ('passive', 1), ('parentavoids', 1), ('upsettingthe', 1), ('rejecting', 1), ('parentis', 1), ('withdrawn', 1), ('dismissive', 1), ('derogatory', 1), ('merely', 1), ('absence', 1), ('issueor', 1), ('call', 1), ('agnostics', 1), ('deserve', 1), ('agnostic', 1), ('robin', 1), ('considers', 1), ('sophisticated', 1), ('attitude', 1), ('commit', 1), ('reject', 1), ('invites', 1), ('rethink', 1), ('arguing', 1), ('respectable', 1), ('issueon', 1), ('assertions', 1), ('boys', 1), ('fallâ\\x80¦in', 1), ('1914', 1), ('room', 1), ('schoolboys', 1), ('freshfaced', 1), ('idealistic', 1), ('goaded', 1), ('schoolmaster', 1), ('troop', 1), ('â\\x80\\x98glorious', 1), ('warâ\\x80\\x99', 1), ('fire', 1), ('patriotism', 1), ('youth', 1), ('follows', 1), ('â\\x80\\x98unknown', 1), ('soldierâ\\x80\\x99', 1), ('experiencing', 1), ('disillusionment', 1), ('trenches', 1), ('allegorical', 1), ('novella', 1), ('orwellthe', 1), ('rebel', 1), ('farmer', 1), ('hoping', 1), ('ultimately', 1), ('however', 1), ('ends', 1), ('dictatorship', 1), ('napoleonone', 1), ('night', 1), ('mr', 1), ('assemble', 1), ('describe', 1), ('tyranny', 1), ('masters', 1), ('dies', 1), ('plot', 1), ('jonestwo', 1), ('pigs', 1), ('snowball', 1), ('prove', 1), ('planners', 1), ('forgets', 1), ('feed', 1), ('occurs', 1), ('chased', 1), ('renamed', 1), ('seven', 1), ('commandments', 1), ('nonconformist', 1), ('exist', 1), ('thrown', 1), ('that\\x92s', 1), ('resort', 1), ('threats', 1), ('loved', 1), ('artist', 1), ('candy', 1), ('orleans', 1), ('neighborhood', 1), ('chalkboard', 1), ('paint', 1), ('stenciled', 1), ('sentence', 1), ('completion', 1), ('chalk', 1), ('stopped', 1), ('reflected', 1), ('hardcover', 1), ('heartbreak', 1), ('portrait', 1), ('communities', 1), ('ponder', 1), ('candideis', 1), ('gentle', 1), ('pummeled', 1), ('slapped', 1), ('direction', 1), ('fate', 1), ('clings', 1), ('desperately', 1), ('surface', 1), ('bantering', 1), ('eighteenthcentury', 1), ('savage', 1), ('satiric', 1), ('thrust', 1), ('proclaims', 1), ('disaster', 1), ('benevolent', 1), ('cosmic', 1), ('fast', 1), ('outrageous', 1), ('immortal', 1), ('candide', 1), ('contrary', 1), ('teachings', 1), ('tutor', 1), ('pangloss', 1), ('brilliance', 1), ('graceful', 1), ('storytellingcandidehas', 1), ('voltaires', 1), ('clive', 1), ('bells', 1), ('inquires', 1), ('term', 1), ('ww1', 1), ('developing', 1), ('witness', 1), ('tribute', 1), ('late', 1), ('mindâ\\x80\\x94the', 1), ('structural', 1), ('aggression', 1), ('pitiless', 1), ('adversary', 1), ('eroscivilization', 1), ('discontentsis', 1), ('broad', 1), ('defines', 1), ('ceaseless', 1), ('conflict', 1), ('individuals', 1), ('societys', 1), ('demand', 1), ('conformityfreuds', 1), ('theme', 1), ('doesnt', 1), ('necessarily', 1), ('aggressive', 1), ('egotistical', 1), ('seeks', 1), ('selfsatisfaction', 1), ('inhibits', 1), ('instinctual', 1), ('drives', 1), ('pervasive', 1), ('familiar', 1), ('guiltof', 1), ('appear', 1), ('authorized', 1), ('himselfthe', 1), ('standard', 1), ('freudunder', 1), ('editorship', 1), ('stracheyfreud', 1), ('approved', 1), ('editorial', 1), ('renderings', 1), ('phrases', 1), ('valuable', 1), ('notes', 1), ('bibliographical', 1), ('explanatory', 1), ('strachey', 1), ('supervision', 1), ('thestandard', 1), ('editionin', 1), ('unquestioned', 1), ('supremacy', 1), ('susan', 1), ('whos', 1), ('eminent', 1), ('devoted', 1), ('consciousnessthe', 1), ('interviewees', 1), ('candidly', 1), ('stimulatingthey', 1), ('ruminate', 1), ('discuss', 1), ('pierce', 1), ('surrounding', 1), ('neuroscience', 1), ('goes', 1), ('yields', 1), ('conflicted', 1), ('replies', 1), ('yes', 1), ('broadly', 1), ('livepaired', 1), ('extensive', 1), ('glossary', 1), ('tackle', 1), ('destitute', 1), ('student', 1), ('wanders', 1), ('slums', 1), ('petersburg', 1), ('commits', 1), ('random', 1), ('regret', 1), ('imagines', 1), ('acting', 1), ('higher', 1), ('embarks', 1), ('cat', 1), ('mouse', 1), ('suspicious', 1), ('investigator', 1), ('pursued', 1), ('voice', 1), ('conscience', 1), ('noose', 1), ('tightening', 1), ('neck', 1), ('sonya', 1), ('worker', 1), ('redemption', 1), ('characters', 1), ('entry', 1), ('mesopotamia', 1), ('frontiers', 1), ('finance', 1), ('bookkeeping', 1), ('merchants', 1), ('businesses', 1), ('luca', 1), ('pacioliâ\\x80\\x95monk', 1), ('mathematician', 1), ('alchemist', 1), ('leonardo', 1), ('da', 1), ('vinciâ\\x80\\x95incorporated', 1), ('arabic', 1), ('formulate', 1), ('trades', 1), ('jane', 1), ('gleesonwhite', 1), ('enabled', 1), ('flourish', 1), ('maynard', 1), ('keynes', 1), ('calculate', 1), ('gdp', 1), ('nationâ\\x80\\x99s', 1), ('corporate', 1), ('collapses', 1), ('enron', 1), ('lehman', 1), ('environmental', 1), ('recreate', 1), ('bestselling23', 1), ('hajoon', 1), ('brilliantly', 1), ('debunked', 1), ('predominant', 1), ('neoclassical', 1), ('primer', 1), ('worksâ\\x80\\x94in', 1), ('realworld', 1), ('pieties', 1), ('textbooksunlike', 1), ('economists', 1), ('disciplineâ', 1), ('classical', 1), ('keynesian', 1), ('strengths', 1), ('weaknesses', 1), ('whyâ', 1), ('ignoring', 1), ('exposing', 1), ('myriad', 1), ('shape', 1), ('financial', 1), ('tools', 1), ('interconnected', 1), ('euro', 1), ('china', 1), ('condition', 1), ('manufacturing', 1), ('statesâ\\x80\\x94economics', 1), ('userâ\\x80\\x99s', 1), ('guideis', 1), ('expertly', 1), ('fundamentals', 1), ('affects', 1), ('17', 1), ('foot', 1), ('classroom', 1), ('survivalists', 1), ('mountains', 1), ('idaho', 1), ('stockpiling', 1), ('homecanned', 1), ('peaches', 1), ('sleeping', 1), ('headforthehills', 1), ('bag', 1), ('stewed', 1), ('herbs', 1), ('midwife', 1), ('healer', 1), ('winter', 1), ('salvaged', 1), ('junkyardher', 1), ('forbade', 1), ('hospitals', 1), ('doctor', 1), ('nurse', 1), ('gashes', 1), ('concussions', 1), ('burns', 1), ('explosions', 1), ('herbalism', 1), ('isolated', 1), ('intervene', 1), ('taras', 1), ('violentthen', 1), ('formal', 1), ('educate', 1), ('taught', 1), ('grammar', 1), ('admitted', 1), ('brigham', 1), ('studied', 1), ('holocaust', 1), ('oceans', 1), ('continents', 1), ('harvard', 1), ('shed', 1), ('traveled', 1), ('homeeducatedis', 1), ('selfinvention', 1), ('fierce', 1), ('loyalty', 1), ('severing', 1), ('closest', 1), ('ties', 1), ('writers', 1), ('comingofage', 1), ('gets', 1), ('stimulus', 1), ('plans', 1), ('jobs', 1), ('afford', 1), ('occupy', 1), ('worldwideeverybodys', 1), ('knowsor', 1), ('economixwith', 1), ('graphic', 1), ('dismal', 1), ('factfilled', 1), ('weve', 1), ('sometimes', 1), ('otherwise', 1), ('successes', 1), ('possibilities', 1), ('practices', 1), ('mustread', 1), ('citizen', 1), ('voterpraise', 1), ('economixits', 1), ('phenomenal', 1), ('glean', 1), ('david', 1), ('bach', 1), ('finishrich', 1), ('nine', 1), ('automatic', 1), ('millionaire', 1), ('seemingly', 1), ('impossiblehe', 1), ('comprehensible', 1), ('joel', 1), ('bakan', 1), ('corporation', 1), ('pathological', 1), ('profit', 1), ('trueworld', 1), ('fathom', 1), ('dark', 1), ('perkins', 1), ('hoodwinked', 1), ('confessions', 1), ('hit', 1), ('close', 1), ('guessed', 1), ('andheres', 1), ('joyreally', 1), ('roots', 1), ('fills', 1), ('puts', 1), ('seems', 1), ('horribly', 1), ('complicated', 1), ('mostly', 1), ('broken', 1), ('component', 1), ('relatively', 1), ('maneuvering', 1), ('compiling', 1), ('itstephen', 1), ('petranek', 1), ('weider', 1), ('magazine', 1), ('potent', 1), ('comics', 1), ('punchy', 1), ('exhaustively', 1), ('exceedingly', 1), ('engaging', 1), ('alternately', 1), ('scary', 1), ('arcane', 1), ('understandable', 1), ('spins', 1), ('slumbers', 1), ('goodwins', 1), ('nomi', 1), ('prins', 1), ('pillage', 1), ('epic', 1), ('deceit', 1), ('untold', 1), ('trillions', 1), ('cheerfully', 1), ('opinionated', 1), ('romp', 1), ('knack', 1), ('distilling', 1), ('wondering', 1), ('overviewtimothy', 1), ('w', 1), ('guinnane', 1), ('philip', 1), ('bartlett', 1), ('yale', 1), ('digestible', 1), ('philosophywhat', 1), ('happensin', 1), ('commutelength', 1), ('highlycontested', 1), ('eventan', 1), ('occurrence', 1), ('shatters', 1), ('rupture', 1), ('falling', 1), ('stops', 1), ('definitions', 1), ('agents', 1), ('fates', 1), ('conditions', 1), ('perceive', 1), ('constantly', 1), ('references', 1), ('arthouse', 1), ('cinema', 1), ('buddhismeventis', 1), ('elementary', 1), ('ancestorsillustrated', 1), ('amazingly', 1), ('realistic', 1), ('model', 1), ('reconstructions', 1), ('worldrenowned', 1), ('paleoartists', 1), ('kennis', 1), ('kennisdraws', 1), ('latest', 1), ('primates', 1), ('colonize', 1), ('settle', 1), ('everyone', 1), ('nonaggressive', 1), ('doctors', 1), ('psychologists', 1), ('tension', 1), ('lightness', 1), ('harmony', 1), ('unnecessarily', 1), ('wrapped', 1), ('heads', 1), ('worries', 1), ('gotten', 1), ('glass', 1), ('exaggerated', 1), ('trivial', 1), ('assaulted', 1), ('unfounded', 1), ('anxieties', 1), ('weight', 1), ('dramatic', 1), ('getting', 1), ('upset', 1), ('troubles', 1), ('poisons', 1), ('parkin', 1), ('gaia', 1), ('pollini', 1), ('suggestions', 1), ('techniques', 1), ('try', 1), ('appreciate', 1), ('wish', 1), ('moralityâ\\x80\\x94as', 1), ('achievementâ\\x80\\x94without', 1), ('imagining', 1), ('actions', 1), ('illusionin', 1), ('sam', 1), ('undermine', 1), ('diminish', 1), ('beginner', 1), ('newsdayeverything', 1), ('neurosis', 1), ('libido', 1), ('slipped', 1), ('mindfreud', 1), ('beginners', 1), ('revolutionized', 1), ('attitudes', 1), ('towards', 1), ('illness', 1), ('plunges', 1), ('latenineteenthcentury', 1), ('vienna', 1), ('cocaine', 1), ('oedipus', 1), ('sexualitywe', 1), ('rat', 1), ('hans', 1), ('insiders', 1), ('launched', 1), ('zany', 1), ('probing', 1), ('job', 1), ('simplifying', 1), ('trivializing', 1), ('fascination', 1), ('opposition', 1), ('encountered', 1), ('â\\x80\\x9cexplorer', 1), ('unconsciousâ\\x80\\x9d', 1), ('exerted', 1), ('irresistibly', 1), ('creator', 1), ('commonly', 1), ('superego', 1), ('unrivaled', 1), ('worldfreud', 1), ('verbatimis', 1), ('maxims', 1), ('witticisms', 1), ('subjects', 1), ('assembling', 1), ('passages', 1), ('friends', 1), ('thematic', 1), ('compilation', 1), ('handsome', 1), ('twocolor', 1), ('printed', 1), ('representative', 1), ('quote', 1), ('nonetheless', 1), ('brainwashing', 1), ('behaviourism', 1), ('dã©jã', 1), ('vu', 1), ('placebo', 1), ('psychosis', 1), ('psyche', 1), ('potted', 1), ('biographies', 1), ('practitioners', 1), ('experimentsclear', 1), ('freudian', 1), ('slips', 1), ('comprehend', 1), ('interact', 1), ('readings', 1), ('texts', 1), ('manmade', 1), ('dangerously', 1), ('sexually', 1), ('repressive', 1), ('distorts', 1), ('omniscient', 1), ('damaged', 1), ('proposes', 1), ('thesis', 1), ('permission', 1), ('righteous', 1), ('caliphs', 1), ('confusing', 1), ('struggles', 1), ('factions', 1), ('pretender', 1), ('legitimized', 1), ('claim', 1), ('recourse', 1), ('muhammad', 1), ('pious', 1), ('bukhari', 1), ('collect', 1), ('sayings', 1), ('verifying', 1), ('authenticity', 1), ('photographer', 1), ('stanton', 1), ('ambitious', 1), ('project', 1), ('singlehandedly', 1), ('photographic', 1), ('census', 1), ('accompanying', 1), ('bloghumans', 1), ('steadily', 1), ('2013', 1), ('bookhumans', 1), ('catapulted', 1), ('appeared', 1), ('weeks', 1), ('date', 1), ('ofhonyhas', 1), ('year', 1), ('brandons', 1), ('increased', 1), ('tenfold', 1), ('12', 1), ('facebook', 1), ('2014', 1), ('un', 1), ('chose', 1), ('goodwill', 1), ('mission', 1), ('iraq', 1), ('ukraine', 1), ('via', 1), ('tooknow', 1), ('tohumans', 1), ('yorkthat', 1), ('loyal', 1), ('waiting', 1), ('forhumans', 1), ('interviewing', 1), ('streets', 1), ('themselveshumans', 1), ('storiespresents', 1), ('delve', 1), ('surprise', 1), ('greater', 1), ('candour', 1), ('comedian', 1), ('recreation', 1), ('eastbound', 1), ('hysterical', 1), ('breakdown', 1), ('boasts', 1), ('selfadulation', 1), ('humble', 1), ('comments', 1), ('complaintsbased', 1), ('humblebrag', 1), ('feedsomething', 1), ('annoyed', 1), ('acceptable', 1), ('brag', 1), ('eversothinly', 1), ('transparent', 1), ('suchjust', 1), ('filed', 1), ('taxes', 1), ('biggie', 1), ('problemsi', 1), ('hate', 1), ('store', 1), ('male', 1), ('staff', 1), ('hitting', 1), ('annoyingtaking', 1), ('action', 1), ('naming', 1), ('called', 1), ('humblebragdedicated', 1), ('retweeting', 1), ('otherswittelss', 1), ('storm', 1), ('historys', 1), ('names', 1), ('devoting', 1), ('entire', 1), ('humblebraggart', 1), ('film', 1), ('pbsâ\\x80\\x99s', 1), ('mastershere', 1), ('joyous', 1), ('memorable', 1), ('sings', 1), ('captures', 1), ('lonely', 1), ('brute', 1), ('worldwidesent', 1), ('selfsufficient', 1), ('grandmother', 1), ('bailey', 1), ('endure', 1), ('ache', 1), ('local', 1), ('â\\x80\\x9cpowhitetrashâ\\x80\\x9d', 1), ('eight', 1), ('motherâ\\x80\\x99s', 1), ('louis', 1), ('attacked', 1), ('ageâ\\x80\\x94and', 1), ('san', 1), ('francisco', 1), ('learns', 1), ('â\\x80\\x9ci', 1), ('shakespeareâ\\x80\\x9d', 1), ('allow', 1), ('imprisonedpoetic', 1), ('powerfuli', 1), ('singswill', 1), ('touch', 1), ('preclassical', 1), ('rediscover', 1), ('style', 1), ('rememberit', 1), ('episodes', 1), ('sections', 1), ('areancient', 1), ('greece', 1), ('romeâ\\x80\\x94learn', 1), ('roman', 1), ('republicthe', 1), ('agesâ\\x80\\x94from', 1), ('signing', 1), ('magna', 1), ('carta', 1), ('plaguethe', 1), ('renaissanceâ\\x80\\x94a', 1), ('revival', 1), ('foreverthe', 1), ('warâ\\x80\\x94how', 1), ('independent', 1), ('â\\x80\\x9cfather', 1), ('nationâ\\x80\\x9dthe', 1), ('empireâ\\x80\\x94european', 1), ('colonialism', 1), ('expansion', 1), ('warwars', 1), ('20th', 1), ('centuryâ\\x80\\x94world', 1), ('stalin', 1), ('churchill', 1), ('roosevelt', 1), ('fall', 1), ('fascism', 1), ('communismpacked', 1), ('sweeping', 1), ('overviews', 1), ('wants', 1), ('situation', 1), ('wordsâ\\x80\\x94but', 1), ('choice', 1), ('volumesâ\\x80¢', 1), ('ignorance', 1), ('bliss', 1), ('happyâ\\x80¢', 1), ('bottled', 1), ('suckersâ\\x80¢', 1), ('clones', 1), ('tooâ\\x80¢', 1), ('environment', 1), ('wellâ\\x80¢', 1), ('thinkâ\\x80¢', 1), ('tweetedlong', 1), ('blogs', 1), ('tweets', 1), ('bites', 1), ('felt', 1), ('blunt', 1), ('bursts', 1), ('plastered', 1), ('backs', 1), ('cars', 1), ('proud', 1), ('corny', 1), ('brightly', 1), ('colored', 1), ('boldly', 1), ('lettered', 1), ('mini', 1), ('manifestos', 1), ('declarations', 1), ('stand', 1), ('weâ\\x80\\x99d', 1), ('noted', 1), ('bowen', 1), ('thereâ\\x80\\x99s', 1), ('popculture', 1), ('bumper', 1), ('stickers', 1), ('rolling', 1), ('oneliners', 1), ('driveby', 1), ('propagandaâ\\x80\\x94no', 1), ('poignant', 1), ('contentious', 1), ('truthful', 1), ('conditionmixing', 1), ('couched', 1), ('slogansâ\\x80\\x94or', 1), ('gone', 1), ('brake', 1), ('nowâ\\x80\\x99s', 1), ('eloquently', 1), ('illustrate', 1), ('contradictions', 1), ('battles', 1), ('clashes', 1), ('secular', 1), ('striking', 1), ('portraits', 1), ('timeless', 1), ('shepherds', 1), ('tending', 1), ('flocks', 1), ('sandstone', 1), ('cities', 1), ('contrasted', 1), ('shantytowns', 1), ('constructed', 1), ('tattered', 1), ('tarpaulins', 1), ('mountainous', 1), ('landscapes', 1), ('shown', 1), ('scenes', 1), ('bread', 1), ('seller', 1), ('kiosk', 1), ('traders', 1), ('market', 1), ('cross', 1), ('boundaries', 1), ('capture', 1), ('fully', 1), ('exhibited', 1), ('todayâ\\x80\\x99s', 1), ('admired', 1), ('ayaan', 1), ('burst', 1), ('theo', 1), ('gogh', 1), ('islamist', 1), ('threatened', 1), ('citizenship', 1), ('resigned', 1), ('parliamentinfidelshows', 1), ('champion', 1), ('determination', 1), ('injustice', 1), ('raised', 1), ('strict', 1), ('survived', 1), ('female', 1), ('mutilation', 1), ('brutal', 1), ('beatings', 1), ('adolescence', 1), ('brotherhood', 1), ('troubled', 1), ('unstable', 1), ('countries', 1), ('largely', 1), ('despots', 1), ('escaped', 1), ('forced', 1), ('sought', 1), ('asylum', 1), ('netherlands', 1), ('degree', 1), ('depressed', 1), ('adjust', 1), ('demonized', 1), ('reactionary', 1), ('islamists', 1), ('disowned', 1), ('expelled', 1), ('clan', 1), ('refuses', 1), ('silencedultimately', 1), ('triumph', 1), ('adversity', 1), ('aliâ\\x80\\x99s', 1), ('bright', 1), ('evolves', 1), ('dutiful', 1), ('fighter', 1), ('governments', 1), ('pressures', 1), ('asa', 1), ('28', 1), ('extremely', 1), ('educated', 1), ('manhattan', 1), ('earning', 1), ('stripping', 1), ('dominatrix', 1), ('dungeon', 1), ('built', 1), ('hardworking', 1), ('actors', 1), ('winning', 1), ('awards', 1), ('330', 1), ('movies', 1), ('ï¿½asa', 1), ('insatiableâ\\x80\\x9dininsatiable', 1), ('touching', 1), ('conversational', 1), ('shoplifting', 1), ('drugs', 1), ('married', 1), ('sexualityinsatiableis', 1), ('akiraâ\\x80\\x99s', 1), ('amusing', 1), ('anecdotes', 1), ('visit', 1), ('hampshire', 1), ('shop', 1), ('run', 1), ('sonin', 1), ('articulate', 1), ('inside', 1), ('librarians', 1), ('note', 1), ('foundherein', 1), ('april', 1), ('1992', 1), ('welltodo', 1), ('hitchhiked', 1), ('alaska', 1), ('walked', 1), ('wilderness', 1), ('mt', 1), ('mckinley', 1), ('johnson', 1), ('25000', 1), ('savings', 1), ('charity', 1), ('possessions', 1), ('invented', 1), ('moose', 1), ('hunters', 1), ('decomposed', 1), ('ofinto', 1), ('wildimmediately', 1), ('graduating', 1), ('1991', 1), ('roamed', 1), ('southwest', 1), ('heroes', 1), ('muir', 1), ('mojave', 1), ('desert', 1), ('license', 1), ('plates', 1), ('alexander', 1), ('supertramp', 1), ('unencumbered', 1), ('belongings', 1), ('wallow', 1), ('unfiltered', 1), ('craving', 1), ('blank', 1), ('spot', 1), ('map', 1), ('threw', 1), ('vanished', 1), ('wild', 1), ('said', 1), ('objective', 1), ('transport', 1), ('goods', 1), ('army\\x97merely', 1), ('burden', 1), ('resistance', 1), ('precisely', 1), ('burdened', 1), ('oppressed', 1), ('occurred', 1), ('decorative', 1), ('viewpoint', 1), ('landscape', 1), ('false', 1), ('akin', 1), ('antinomy', 1), ('arranged', 1), ('dictionary', 1), ('clarifies', 1), ('contain', 1), ('arrangement', 1), ('sequence', 1), ('alphabet', 1), ('interconnection', 1), ('depiction', 1), ('worldview', 1), ('metaphor', 1), ('macaulay', 1), ('traveler', 1), ('gulliver', 1), ('land', 1), ('brobdingnag', 1), ('principal', 1), ('archaeology', 1), ('recently', 1), ('farreaching', 1), ('inca', 1), ('tiahuanaco', 1), ('elsewhere', 1), ('moved', 1), ('peru', 1), ('visiting', 1), ('cuzco', 1), ('macchu', 1), ('picchu', 1), ('lima', 1), ('andes', 1), ('guayaquil', 1), ('ecuador', 1), ('sailing', 1), ('coast', 1), ('panama', 1), ('costa', 1), ('rica', 1), ('guatemala', 1), ('caught', 1), ('cia', 1), ('overthrow', 1), ('arbenz', 1), ('fidel', 1), ('castro', 1), ('timethroughout', 1), ('travels', 1), ('kept', 1), ('spasmodic', 1), ('twoyear', 1), ('expedition', 1), ('backpackers', 1), ('accomplish', 1), ('bringing', 1), ('\\x93the', 1), ('enemy', 1), ('spear', 1), ('substitutes', 1), ('acts', 1), ('certain', 1), ('circumstances', 1), ('substitutes\\x94', 1), ('repression', 1), ('method', 1), ('treatment', 1), ('left', 1), ('legacy', 1), ('detailed', 1), ('absorbed', 1), ('enhance', 1), ('deepen', 1), ('creativity', 1), ('improve', 1), ('fabric', 1), ('founded', 1), ('alain', 1), ('botton', 1), ('\\x93there', 1), ('pearls\\x94', 1), ('observer', 1), ('loveeven', 1), ('arms', 1), ('createdâ', 1), ('â\\x80\\x9cridiculously', 1), ('lifeâ\\x80\\x9d', 1), ('dating', 1), ('disappointments', 1), ('failed', 1), ('reached', 1), ('midtwenties', 1), ('worriedâ', 1), ('share', 1), ('lifethen', 1), ('changedâ', 1), ('chemistry', 1), ('navigate', 1), ('twists', 1), ('worthy', 1), ('romantic', 1), ('comedy', 1), ('marriagein', 1), ('improbably', 1), ('overcome', 1), ('skepticism', 1), ('benefit', 1), ('couple', 1), ('courtship', 1), ('vujicicsâ\\x80\\x99', 1), ('parenting', 1), ('journeyabove', 1), ('lim', 1), ('christ', 1), ('relationshipeven', 1), ('challengestrue', 1), ('triumphâ\\x80\\x9cdespite', 1), ('parts', 1), ('decided', 1), ('iâ\\x80\\x99d', 1), ('convinced', 1), ('marry', 1), ('obviously', 1), ('imperfect', 1), ('meâ\\x80¦â\\x80\\x9das', 1), ('australia', 1), ('limbs', 1), ('nickâ\\x80\\x99s', 1), ('lifeon', 1), ('k', 1), ('anae', 1), ('miyaharaâ\\x80\\x94', 1), ('dysfunction', 1), ('sadly', 1), ('separate', 1), ('familyâ', 1), ('loving', 1), ('possiblelater', 1), ('meaningâ', 1), ('longterm', 1), ('ended', 1), ('heartache', 1), ('marrykanae', 1), ('superficial', 1), ('attraction', 1), ('longed', 1), ('mate', 1), ('character', 1), ('faithâ\\x80\\x94a', 1), ('fatherwhen', 1), ('godâ\\x80\\x94the', 1), ('matchmaker', 1), ('discouraging', 1), ('prepare', 1), ('otherâ\\x80¦for', 1), ('psychiatrist', 1), ('viktor', 1), ('frankls', 1), ('riveted', 1), ('descriptions', 1), ('nazi', 1), ('frankl', 1), ('choose', 1), ('cope', 1), ('known', 1), ('logotherapy', 1), ('conviction', 1), ('primary', 1), ('meaningfulmans', 1), ('meaninghas', 1), ('continues', 1), ('act', 1), ('kassim', 1), ('ahmad', 1), ('malaya', 1), ('chairman', 1), ('peoples', 1), ('socialist', 1), ('shifts', 1), ('broader', 1), ('sociopolitical', 1), ('contexts', 1), ('kassims', 1), ('critiques', 1), ('regular', 1), ('column', 1), ('pena', 1), ('mufti', 1), ('mingguan', 1), ('11', 1), ('2007', 1), ('week', 1), ('layers', 1), ('upper', 1), ('echelons', 1), ('articles', 1), ('topics', 1), ('entertainment', 1), ('arts', 1), ('dazzled', 1), ('cosmologist', 1), ('gaze', 1), ('inward', 1), ('evolutionmy', 1), ('historyrecounts', 1), ('improbable', 1), ('postwar', 1), ('boyhood', 1), ('acclaim', 1), ('celebrity', 1), ('lavishly', 1), ('candid', 1), ('glimpsed', 1), ('previous', 1), ('inquisitive', 1), ('schoolboy', 1), ('classmates', 1), ('nicknamed', 1), ('jokester', 1), ('placed', 1), ('bet', 1), ('hole', 1), ('struggling', 1), ('gain', 1), ('foothold', 1), ('cosmology', 1), ('opens', 1), ('twentyone', 1), ('prospect', 1), ('urged', 1), ('onward', 1), ('breakthroughs', 1), ('genesis', 1), ('masterpiecea', 1), ('timeâ\\x80\\x94one', 1), ('iconic', 1), ('cleareyed', 1), ('wisemy', 1), ('historyopens', 1), ('window', 1), ('timesbestselling', 1), ('keen', 1), ('torn', 1), ('conflicting', 1), ('triumphs', 1), ('weaknessanna', 1), ('sick', 1), ('13', 1), ('undergone', 1), ('surgeries', 1), ('transfusions', 1), ('shots', 1), ('kate', 1), ('leukemia', 1), ('plagued', 1), ('product', 1), ('preimplantation', 1), ('conceived', 1), ('bone', 1), ('marrow', 1), ('match', 1), ('kateâ\\x80\\x94a', 1), ('challenged', 1), ('unlike', 1), ('sisterâ\\x80\\x94and', 1), ('unthinkable', 1), ('fatal', 1), ('lovesmy', 1), ('keeperexamines', 1), ('correct', 1), ('whatever', 1), ('childs', 1), ('infringing', 1), ('upon', 1), ('inmy', 1), ('keeper', 1), ('tackles', 1), ('grace', 1), ('sighet', 1), ('transylvania', 1), ('teenager', 1), ('1944', 1), ('auschwitz', 1), ('concentration', 1), ('camp', 1), ('buchenwaldnightis', 1), ('terrifying', 1), ('innocence', 1), ('observant', 1), ('jew', 1), ('absolute', 1), ('evil', 1), ('frequent', 1), ('translator', 1), ('marion', 1), ('rendering', 1), ('testimony', 1), ('inno', 1), ('godinternationally', 1), ('scholar', 1), ('reza', 1), ('islamâ\\x80\\x94the', 1), ('faithâ\\x80\\x94in', 1), ('complexitythis', 1), ('updated', 1), ('analyzing', 1), ('demonstrations', 1), ('affected', 1), ('terror', 1), ('altered', 1), ('update', 1), ('womenâ\\x80\\x99s', 1), ('discussion', 1), ('jihadism', 1), ('persuasiveno', 1), ('godis', 1), ('elegantly', 1), ('misunderstood', 1), ('pairs', 1), ('analyzes', 1), ('discussing', 1), ('taboo', 1), ('g', 1), ('e', 1), ('moores', 1), ('defense', 1), ('discussed', 1), ('collects', 1), ('reflections', 1), ('certainty', 1), ('proposition', 1), ('9780140432077published', 1), ('1859', 1), ('stuart', 1), ('millson', 1), ('libertypresented', 1), ('defenses', 1), ('nineteenthcentury', 1), ('widelyread', 1), ('liberal', 1), ('mills', 1), ('advocacy', 1), ('spontaneity', 1), ('diversity', 1), ('contempt', 1), ('compulsory', 1), ('uniformity', 1), ('despotism', 1), ('admiration', 1), ('condemnation', 1), ('notionstoo', 1), ('textbooks', 1), ('noteworthy', 1), ('tedious', 1), ('rejectphilosophy', 1), ('101cuts', 1), ('boring', 1), ('exhausting', 1), ('methodology', 1), ('inquisitionfrom', 1), ('heidegger', 1), ('metaphysicsphilosophy', 1), ('101is', 1), ('packed', 1), ('hundreds', 1), ('tidbits', 1), ('puzzles', 1), ('wont', 1), ('able', 1), ('anywhere', 1), ('elseso', 1), ('youre', 1), ('unravel', 1), ('existentialism', 1), ('tickphilosophy', 1), ('101has', 1), ('answerseven', 1), ('didnt', 1), ('veilacross', 1), ('choosing', 1), ('rising', 1), ('asserting', 1), ('sexual', 1), ('harassment', 1), ('addressing', 1), ('inconsistent', 1), ('inadequate', 1), ('reasons', 1), ('dangers', 1), ('questionable', 1), ('marnia', 1), ('lazreg', 1), ('womens', 1), ('combines', 1), ('algeria', 1), ('produce', 1), ('nuanced', 1), ('veillazreg', 1), ('stresses', 1), ('included', 1), ('pillars', 1), ('asks', 1), ('sufficiently', 1), ('justifies', 1), ('adverse', 1), ('effects', 1), ('wearer', 1), ('pays', 1), ('negative', 1), ('girls', 1), ('lazregs', 1), ('findings', 1), ('indicate', 1), ('spontaneous', 1), ('wearing', 1), ('campaign', 1), ('literature', 1), ('dvds', 1), ('youtube', 1), ('videos', 1), ('courses', 1), ('presumed', 1), ('veilan', 1), ('incisive', 1), ('meticulous', 1), ('started', 1), ('revolutionat', 1), ('onethird', 1), ('prefer', 1), ('speaking', 1), ('innovate', 1), ('dislike', 1), ('selfpromotion', 1), ('teams', 1), ('introvertsâ\\x80\\x94rosa', 1), ('chopin', 1), ('seuss', 1), ('steve', 1), ('wozniakâ\\x80\\x94that', 1), ('owe', 1), ('contributions', 1), ('societyinquietsusan', 1), ('cain', 1), ('dramatically', 1), ('undervalue', 1), ('lose', 1), ('charts', 1), ('extrovert', 1), ('permeate', 1), ('introvertsâ\\x80\\x94from', 1), ('highoctane', 1), ('speaker', 1), ('recharges', 1), ('solitude', 1), ('recordbreaking', 1), ('salesman', 1), ('quietly', 1), ('taps', 1), ('passionately', 1), ('argued', 1), ('superbly', 1), ('peoplequiethas', 1), ('permanently', 1), ('equally', 1), ('themselvesnow', 1), ('extra', 1), ('libris', 1), ('material', 1), ('readerâ\\x80\\x99s', 1), ('content', 1), ('originally', 1), ('delivered', 1), ('bern', 1), ('12â\\x80\\x9314', 1), ('2011the', 1), ('draft', 1), ('8', 1), ('2011', 1), ('colloquium', 1), ('legal', 1), ('nyu', 1), ('coordinated', 1), ('ronald', 1), ('dworkin', 1), ('nagel', 1), ('httpwwwlawnyueduacademicscollvideos', 1), ('httpscastswitchchvodchannels1an', 1), ('excerpt', 1), ('version', 1), ('httpwwwnybookscomarticlesarchi', 1), ('evokes', 1), ('ernesto', 1), ('romance', 1), ('days', 1), ('fellow', 1), ('guerrillas', 1), ('cubas', 1), ('tragic', 1), ('widow', 1), ('passion', 1), ('poignancy', 1), ('offered', 1), ('symbols', 1), ('aleidas', 1), ('spotlight', 1), ('mourned', 1), ('worldfamous', 1), ('comparable', 1), ('yoko', 1), ('ono', 1), ('lennon', 1), ('raise', 1), ('legendary', 1), ('status', 1), ('abroad', 1), ('currently', 1), ('director', 1), ('roberts', 1), ('dads', 1), ('investing', 1), ('explodes', 1), ('myth', 1), ('earn', 1), ('high', 1), ('blessed', 1), ('abundant', 1), ('petroleum', 1), ('capita', 1), ('us9970', 1), ('petronas', 1), ('continuously', 1), ('providing', 1), ('onerously', 1), ('cent', 1), ('revenues', 1), ('ingredients', 1), ('flourishit', 1), ('30', 1), ('managed', 1), ('shockingly', 1), ('assume', 1), ('unsolicited', 1), ('title', 1), ('regionâ\\x80\\x99s', 1), ('unequal', 1), ('nationhave', 1), ('appreciated', 1), ('hasdo', 1), ('spentin', 1), ('exploited', 1), ('expense', 1), ('royalty', 1), ('dynamics', 1), ('explained', 1), ('stepbystep', 1), ('ongoing', 1), ('sagahow', 1), ('exploitation', 1), ('fastdepleting', 1), ('resource', 1), ('pivotal', 1), ('multiple', 1), ('socioeconomic', 1), ('realities', 1), ('household', 1), ('stagnant', 1), ('wages', 1), ('educational', 1), ('standards', 1), ('rankingsis', 1), ('universitieswhat', 1), ('alleviate', 1), ('inherent', 1), ('raison', 1), ('dâ\\x80\\x99etre', 1), ('tftn', 1), ('equality', 1), ('underprivileged', 1), ('childrensuch', 1), ('riposte', 1), ('malaise', 1), ('ripe', 1), ('replace', 1), ('educationthe', 1), ('pressing', 1), ('mixture', 1), ('proposals', 1), ('coalesce', 1), ('deliberations', 1), ('humbly', 1), ('hopes', 1), ('expounded', 1), ('domain', 1), ('requirocategories', 1), ('criticism', 1), ('energy', 1), ('pedagogy', 1), ('trade', 1), ('madonna', 1), ('deepak', 1), ('chopra', 1), ('celebrities', 1), ('recording', 1), ('embracing', 1), ('resurgence', 1), ('13th', 1), ('sufi', 1), ('mystic', 1), ('196', 1), ('poems', 1), ('previously', 1), ('native', 1), ('persian', 1), ('speakers', 1), ('maryam', 1), ('mafi', 1), ('azima', 1), ('melita', 1), ('kolin', 1), ('lovers', 1), ('everywhere', 1), ('grips', 1), ('guidebook', 1), ('consciously', 1), ('enter', 1), ('gardens', 1), ('withinout', 1), ('dustthrough', 1), ('ascending', 1), ('hierarchy', 1), ('restores', 1), ('transcending', 1), ('historian', 1), ('humanityâ\\x80\\x99s', 1), ('evolutionâ\\x80\\x94a', 1), ('bestsellerâ\\x80\\x94that', 1), ('enhanced', 1), ('â\\x80\\x9chumanâ\\x80\\x9d', 1), ('six', 1), ('earth', 1), ('oneâ\\x80\\x94homo', 1), ('pursue', 1), ('approach', 1), ('yuval', 1), ('noah', 1), ('breaks', 1), ('mold', 1), ('70000', 1), ('appearance', 1), ('cognition', 1), ('evolving', 1), ('played', 1), ('ecosystem', 1), ('charting', 1), ('empires', 1), ('integrates', 1), ('accepted', 1), ('narratives', 1), ('connect', 1), ('developments', 1), ('concerns', 1), ('larger', 1), ('compels', 1), ('begun', 1), ('bend', 1), ('governed', 1), ('billion', 1), ('acquiring', 1), ('featuring', 1), ('27', 1), ('6', 1), ('25', 1), ('illustrationsdiagrams', 1), ('aficionados', 1), ('jared', 1), ('diamond', 1), ('gleick', 1), ('matt', 1), ('ridley', 1), ('robert', 1), ('wright', 1), ('sharon', 1), ('moalem', 1), ('shy', 1), ('timid', 1), ('unnoticed', 1), ('exhortation', 1), ('silenceshhhthereâ\\x80\\x99s', 1), ('blushing', 1), ('hunching', 1), ('nervous', 1), ('knockkneed', 1), ('wallflower', 1), ('grow', 1), ('shynessdonâ\\x80\\x99t', 1), ('theysian', 1), ('prior', 1), ('maintained', 1), ('eye', 1), ('suffered', 1), ('excruciating', 1), ('shyness', 1), ('partly', 1), ('alleviated', 1), ('tomeventually', 1), ('bolting', 1), ('nearpanic', 1), ('decides', 1), ('anxiety', 1), ('intrude', 1), ('intimacy', 1), ('selfperception', 1), ('lovethen', 1), ('tom', 1), ('leavingfrank', 1), ('writtenâ\\x80\\x94shyis', 1), ('page', 1), ('scores', 1), ('archives', 1), ('complement', 1), ('quotations', 1), ('strictly', 1), ('competitive', 1), ('endeavor', 1), ('involved', 1), ('arisen', 1), ('red', 1), ('tooth', 1), ('claw', 1), ('martin', 1), ('roger', 1), ('aspect', 1), ('explanation', 1), ('origin', 1), ('biologys', 1), ('emergence', 1), ('bodys', 1), ('cells', 1), ('cooperate', 1), ('organs', 1), ('cleverly', 1), ('foster', 1), ('treatmentsnowak', 1), ('phenomena', 1), ('reciprocity', 1), ('reward', 1), ('explaining', 1), ('selfless', 1), ('naturally', 1), ('generosity', 1), ('rationale', 1), ('companies', 1), ('overlap', 1), ('recipe', 1), ('quantitative', 1), ('codes', 1), ('conduct', 1), ('rulein', 1), ('hugely', 1), ('multicellular', 1), ('samaritans', 1), ('defining', 1), ('trait', 1), ('expand', 1), ('combining', 1), ('magic', 1), ('mysticism', 1), ('selfdiscoverythe', 1), ('alchemisthas', 1), ('selling', 1), ('copies', 1), ('transforming', 1), ('generationspaulo', 1), ('coelhos', 1), ('santiago', 1), ('andalusian', 1), ('shepherd', 1), ('yearns', 1), ('worldly', 1), ('treasure', 1), ('riches', 1), ('differentâ\\x80\\x94and', 1), ('satisfyingâ\\x80\\x94than', 1), ('imagined', 1), ('santiagos', 1), ('recognizing', 1), ('omens', 1), ('strewn', 1), ('importantly', 1), ('lauded', 1), ('critics', 1), ('devoured', 1), ('pbs', 1), ('traces', 1), ('gifts', 1), ('characterize', 1), ('bronowskis', 1), ('splendidly', 1), ('investigation', 1), ('ernest', 1), ('hemingway', 1), ('famously', 1), ('quips', 1), ('assortment', 1), ('geniuses', 1), ('jokers', 1), ('decide', 1), ('bible', 1), ('itoscar', 1), ('wilde', 1), ('saint', 1), ('n', 1), ('sinner', 1), ('revised', 1), ('editedambrose', 1), ('bierce', 1), ('answergertrude', 1), ('stein', 1), ('intellects', 1), ('skepticalfriedrich', 1), ('nietzsche', 1), ('immortality', 1), ('rainy', 1), ('sunday', 1), ('afternoonsusan', 1), ('ertz', 1), ('writinggypsy', 1), ('rose', 1), ('lee', 1), ('integrity', 1), ('mindralph', 1), ('waldo', 1), ('emerson', 1), ('skeptic', 1), ('drunken', 1), ('sober', 1), ('onegeorge', 1), ('bernard', 1), ('shaw', 1), ('wake', 1), ('enormously', 1), ('armchair', 1), ('safer', 1), ('teven', 1), ('l', 1), ('andsburg', 1), ('address', 1), ('nd', 1), ('explorations', 1), ('landsburg', 1), ('branches', 1), ('wellâ\\x80\\x94disciplines', 1), ('loves', 1), ('logical', 1), ('indisputable', 1), ('truthâ\\x80\\x94to', 1), ('utterly', 1), ('preoccupied', 1), ('broadest', 1), ('categoriesâ\\x80\\x94reality', 1), ('unreality', 1), ('wrongâ\\x80\\x94and', 1), ('heisenberg', 1), ('uncertainty', 1), ('godel', 1), ('incompleteness', 1), ('theorem', 1), ('choices', 1), ('marketplace', 1), ('voting', 1), ('booth', 1), ('illuminating', 1), ('surprising', 1), ('reevaluate', 1), ('loftiest', 1), ('quests', 1), ('researcher', 1), ('paradigm', 1), ('healingtrauma', 1), ('veterans', 1), ('families', 1), ('aftermath', 1), ('combat', 1), ('americans', 1), ('molested', 1), ('alcoholics', 1), ('couples', 1), ('violence', 1), ('bessel', 1), ('kolk', 1), ('survivors', 1), ('inthe', 1), ('score', 1), ('advances', 1), ('literally', 1), ('reshapes', 1), ('compromising', 1), ('sufferers', 1), ('capacities', 1), ('selfcontrol', 1), ('innovative', 1), ('treatmentsâ\\x80\\x94from', 1), ('neurofeedback', 1), ('meditation', 1), ('drama', 1), ('yogaâ\\x80\\x94that', 1), ('paths', 1), ('recovery', 1), ('activating', 1), ('brains', 1), ('neuroplasticity', 1), ('kolks', 1), ('specialiststhe', 1), ('scoreexposes', 1), ('tremendous', 1), ('hurt', 1), ('healâ\\x80\\x94and', 1), ('reclaiming', 1), ('japanese', 1), ('required', 1), ('liberate', 1), ('selves', 1), ('happinessthe', 1), ('dislikedshows', 1), ('unlock', 1), ('truest', 1), ('alfred', 1), ('adler', 1), ('giants', 1), ('19thcentury', 1), ('jung', 1), ('determine', 1), ('shackles', 1), ('doubts', 1), ('expectations', 1), ('thatâ\\x80\\x99s', 1), ('allowing', 1), ('develop', 1), ('ourselvesthe', 1), ('benefited', 1), ('disliked', 1), ('decisions', 1), ('technologydriven', 1), ('testable', 1), ('hypotheses', 1), ('pulitzer', 1), ('prizewinning', 1), ('astronomer', 1), ('carl', 1), ('institutionscasting', 1), ('net', 1), ('authoritatively', 1), ('debunks', 1), ('fallacies', 1), ('witchcraft', 1), ('healing', 1), ('ufos', 1), ('disturbingly', 1), ('todays', 1), ('burgeoning', 1), ('alien', 1), ('abduction', 1), ('channeling', 1), ('communal', 1), ('hallucinations', 1), ('commanding', 1), ('respect', 1), ('eloquence', 1), ('siren', 1), ('song', 1), ('unreason', 1), ('plunge', 1), ('darkness', 1), ('threatens', 1), ('freedoms', 1), ('attic', 1), ('frankâ\\x80\\x99s', 1), ('classicâ\\x80\\x94a', 1), ('horrors', 1), ('spiritin', 1), ('nazis', 1), ('occupying', 1), ('holland', 1), ('thirteenyearold', 1), ('jewish', 1), ('fled', 1), ('amsterdam', 1), ('went', 1), ('hiding', 1), ('whereabouts', 1), ('gestapo', 1), ('franks', 1), ('lived', 1), ('cloistered', 1), ('â\\x80\\x9csecret', 1), ('annexeâ\\x80\\x9d', 1), ('office', 1), ('building', 1), ('hunger', 1), ('boredom', 1), ('cruelties', 1), ('confined', 1), ('quarters', 1), ('everpresent', 1), ('frank', 1), ('thoughtful', 1), ('humorous', 1), ('commentary', 1), ('frailty', 1), ('selfportrait', 1), ('spirited', 1), ('promise', 1), ('shortback', 1), ('echoing', 1), ('socrates', 1), ('timehonoured', 1), ('statement', 1), ('unexamined', 1), ('psychoanalyst', 1), ('grosz', 1), ('draws', 1), ('25fiveyear', 1), ('collaborative', 1), ('hidden', 1), ('behaviourthese', 1), ('rendered', 1), ('tales', 1), ('pathways', 1), ('deatha', 1), ('daydreaming', 1), ('returns', 1), ('loses', 1), ('unloaded', 1), ('gun', 1), ('officer', 1), ('compulsive', 1), ('liar', 1), ('convinces', 1), ('compassionate', 1), ('disturb', 1), ('changethe', 1), ('resulting', 1), ('atheist', 1), ('asserts', 1), ('irrationality', 1), ('grievous', 1), ('inflicted', 1), ('911with', 1), ('rigor', 1), ('sexobsessed', 1), ('tyrant', 1), ('benign', 1), ('illogical', 1), ('celestial', 1), ('watchmaker', 1), ('favored', 1), ('enlightenment', 1), ('eviscerates', 1), ('fuels', 1), ('foments', 1), ('abuses', 1), ('buttressing', 1), ('evidencethe', 1), ('delusionmakes', 1), ('potentially', 1), ('deadly', 1), ('exhilarating', 1), ('advantages', 1), ('atheism', 1), ('clearer', 1), ('truer', 1), ('appreciation', 1), ('universes', 1), ('wonders', 1), ('muster', 1), ('0553213695', 1), ('9780553213690as', 1), ('gregor', 1), ('samsa', 1), ('awoke', 1), ('morning', 1), ('uneasy', 1), ('gigantic', 1), ('armorplated', 1), ('domelike', 1), ('brown', 1), ('belly', 1), ('divided', 1), ('stiff', 1), ('arched', 1), ('segments', 1), ('quilt', 1), ('slide', 1), ('completely', 1), ('pitifully', 1), ('thin', 1), ('compared', 1), ('bulk', 1), ('waved', 1), ('helplessly', 1), ('eyeswith', 1), ('startling', 1), ('bizarre', 1), ('opening', 1), ('masterpiecethe', 1), ('metamorphosis', 1), ('overnight', 1), ('beetlelike', 1), ('disgrace', 1), ('outsider', 1), ('quintessentially', 1), ('alienated', 1), ('harrowingâ\\x80\\x94though', 1), ('absurdly', 1), ('comicâ\\x80\\x94meditation', 1), ('inadequacy', 1), ('isolationthe', 1), ('metamorphosishas', 1), ('fiction', 1), ('wh', 1), ('auden', 1), ('evilwhy', 1), ('freely', 1), ('heartedwhy', 1), ('cheat', 1), ('steal', 1), ('lifewhy', 1), ('husbands', 1), ('faithful', 1), ('tend', 1), ('mencould', 1), ('behaviour', 1), ('lie', 1), ('moleculefrom', 1), ('bucolic', 1), ('countryside', 1), ('highlands', 1), ('papua', 1), ('guinea', 1), ('labs', 1), ('switzerland', 1), ('campus', 1), ('california', 1), ('paul', 1), ('zak', 1), ('hisâ', 1), ('accessibleâ', 1), ('electrifyingthe', 1), ('moleculereveals', 1), ('qualities', 1), ('empathy', 1), ('andâ', 1), ('strangers', 1), ('spanning', 1), ('21st', 1), ('scandalous', 1), ('push', 1), ('publicâ\\x80\\x99s', 1), ('buttons', 1), ('societyâ\\x80\\x99s', 1), ('norms', 1), ('technique', 1), ('15th', 1), ('fresco', 1), ('masaccio', 1), ('shocked', 1), ('playing', 1), ('depict', 1), ('adam', 1), ('eveâ\\x80\\x99s', 1), ('expulsion', 1), ('eden', 1), ('500', 1), ('diego', 1), ('rivera', 1), ('featured', 1), ('lenin', 1), ('crossroads', 1), ('commissioned', 1), ('jr', 1), ('lobby', 1), ('yorks', 1), ('soontobecompleted', 1), ('mural', 1), ('destroyed', 1), ('deemed', 1), ('display', 1), ('paintings', 1), ('prints', 1), ('installations', 1), ('horrified', 1), ('example', 1), ('spreads', 1), ('color', 1), ('reproductions', 1), ('intentions', 1), ('shock', 1), ('thoughtprovoking', 1), ('artistâ\\x80\\x99s', 1), ('duty', 1), ('instigate', 1), ('joseph', 1), ('1900s', 1), ('subsequent', 1), ('plants', 1), ('heritable', 1), ('populations', 1), ('successive', 1), ('expressions', 1), ('passed', 1), ('offspring', 1), ('reproduction', 1), ('sloth', 1), ('angertheyâ\\x80\\x99re', 1), ('â\\x80\\x9cdeadlyâ\\x80\\x9d', 1), ('capacity', 1), ('generate', 1), ('evilsâ', 1), ('sin', 1), ('timeâ\\x80\\x94in', 1), ('usually', 1), ('breakfastâ', 1), ('simon', 1), ('â\\x80\\x9cgoodâ\\x80\\x9d', 1), ('â\\x80\\x9cevilâ\\x80\\x9dâ', 1), ('uniformly', 1), ('indulged', 1), ('wisely', 1), ('functional', 1), ('adaptive', 1), ('effectsthe', 1), ('sintakes', 1), ('ohsogood', 1), ('youâ', 1), ('thatâ·â', 1), ('slow', 1), ('lazy', 1), ('youwinthe', 1), ('raceâ·â', 1), ('openmindedâ·â', 1), ('coveting', 1), ('creative', 1), ('bolsters', 1), ('esteemso', 1), ('cookie', 1), ('kick', 1), ('couch', 1), ('tv', 1), ('neighborâ\\x80\\x99s', 1), ('boyfriendâ\\x80\\x94from', 1), ('deadliest', 1), ('decadent', 1), ('vices', 1), ('newly', 1), ('unabridged', 1), ('simone', 1), ('masterwork', 1), ('â\\x80\\x9cwomanâ\\x80\\x9d', 1), ('otherness', 1), ('longawaited', 1), ('reinstates', 1), ('portions', 1), ('vital', 1), ('impressive', 1), ('pertinent', 1), ('albert', 1), ('camusthe', 1), ('strangerhas', 1), ('literaturele', 1), ('monderanks', 1), ('unwittingly', 1), ('senseless', 1), ('sundrenched', 1), ('algerian', 1), ('beach', 1), ('camus', 1), ('termed', 1), ('nakedness', 1), ('absurd', 1), ('9780062457738in', 1), ('generationdefining', 1), ('selfhelp', 1), ('blogger', 1), ('cuts', 1), ('crap', 1), ('peoplefor', 1), ('weâ\\x80\\x99ve', 1), ('positivity', 1), ('mark', 1), ('letâ\\x80\\x99s', 1), ('shit', 1), ('fked', 1), ('wildly', 1), ('sugarcoat', 1), ('equivocate', 1), ('isâ\\x80\\x94a', 1), ('dose', 1), ('sorely', 1), ('todaythe', 1), ('coddling', 1), ('letâ\\x80\\x99sallfeelgood', 1), ('mindset', 1), ('infected', 1), ('spoiled', 1), ('rewarding', 1), ('gold', 1), ('medals', 1), ('upmanson', 1), ('backed', 1), ('academic', 1), ('welltimed', 1), ('poop', 1), ('jokes', 1), ('improving', 1), ('hinges', 1), ('lemonade', 1), ('stomach', 1), ('flawed', 1), ('limitedâ\\x80\\x94not', 1), ('everybody', 1), ('winners', 1), ('losers', 1), ('fair', 1), ('fault', 1), ('advises', 1), ('accept', 1), ('faults', 1), ('uncertainties', 1), ('running', 1), ('avoiding', 1), ('start', 1), ('truths', 1), ('perseverance', 1), ('honesty', 1), ('seekthere', 1), ('nice', 1), ('caring', 1), ('muchneeded', 1), ('grabyoubytheshouldersandlookyouintheeye', 1), ('realtalk', 1), ('profane', 1), ('ruthless', 1), ('humorthe', 1), ('slap', 1), ('contented', 1), ('grounded', 1), ('careering', 1), ('spur', 1), ('lone', 1), ('bystander', 1), ('switch', 1), ('sacrifice', 1), ('oneâ\\x80\\x94do', 1), ('pull', 1), ('overpass', 1), ('drop', 1), ('heavy', 1), ('trolleyâ\\x80\\x99s', 1), ('manâ\\x80¦', 1), ('conundrumâ\\x80\\x94based', 1), ('british', 1), ('philippa', 1), ('footâ\\x80\\x99s', 1), ('1967', 1), ('experimentâ\\x80\\x94has', 1), ('coauthor', 1), ('platypus', 1), ('walk', 1), ('sharp', 1), ('intelligence', 1), ('popularizing', 1), ('problemâ\\x80\\x9d', 1), ('framing', 1), ('crime', 1), ('intuition', 1), ('logic', 1), ('utilitarianism', 1), ('bentham', 1), ('kantâ\\x80\\x99s', 1), ('reason', 1), ('aquinasâ\\x80\\x99s', 1), ('challenge', 1), ('deepest', 1), ('notions', 1), ('kill', 1), ('bridge', 1), ('meis', 1), ('fame', 1), ('motherhood', 1), ('hopein', 1), ('june', 1), ('2021', 1), ('britney', 1), ('spears', 1), ('spoke', 1), ('sharing', 1), ('voiceâ\\x80\\x94her', 1), ('truthâ\\x80\\x94was', 1), ('othersthe', 1), ('mereveals', 1), ('journeyâ\\x80\\x94and', 1), ('performers', 1), ('historywritten', 1), ('candor', 1), ('spearsâ\\x80\\x99s', 1), ('illuminates', 1), ('enduring', 1), ('loveâ\\x80\\x94and', 1), ('emerged', 1), ('theologians', 1), ('gregory', 1), ('parallels', 1), ('encounters', 1), ('modernity', 1), ('comparison', 1), ('suggests', 1), ('renewal', 1), ('compatible', 1), ('substance', 1), ('council', 1), ('orientation', 1), ('outlines', 1), ('discusses', 1), ('interpretation', 1), ('sharia', 1), ('divinely', 1), ('revealed', 1), ('fidelity', 1), ('contrasts', 1), ('liberalism', 1), ('advocated', 1), ('catholicism', 1), ('systems', 1), ('steeped', 1), ('rely', 1), ('reformist', 1), ('shares', 1), ('marginalized', 1), ('concludes', 1), ('conversation', 1), ('students', 1), ('teachers', 1), ('clergy', 1), ('sincerity', 1), ('sincere', 1), ('seeking', 1), ('allah', 1), ('utter', 1), ('tongue', 1), ('travelog', 1), ('reference', 1), ('commenting', 1), ('associate', 1), ('maybe', 1), ('grandparent', 1), ('teacher', 1), ('searching', 1), ('advice', 1), ('schwartz', 1), ('agomaybe', 1), ('mentor', 1), ('faded', 1), ('wouldnt', 1), ('bigger', 1), ('haunt', 1), ('youmitch', 1), ('rediscovered', 1), ('knowing', 1), ('motor', 1), ('neurone', 1), ('visited', 1), ('tuesday', 1), ('rekindled', 1), ('class', 1), ('â\\x80\\x9cwhat', 1), ('eyesâ\\x80\\x9d', 1), ('â\\x80\\x94stefan', 1), ('â\\x80\\x9cfirst', 1), ('curiosityâ\\x80\\x9d', 1), ('â\\x80\\x94roald', 1), ('hoffmann', 1), ('nobel', 1), ('prizeâ\\x80\\x93winning', 1), ('chemist', 1), ('stefan', 1), ('journalist', 1), ('sits', 1), ('worldâ\\x80\\x99s', 1), ('inspiration', 1), ('steven', 1), ('weinberg', 1), ('helped', 1), ('everythingâ\\x80\\x9d', 1), ('jazz', 1), ('musicians', 1), ('alison', 1), ('gopnik', 1), ('raising', 1), ('paradigmchanging', 1), ('entwines', 1), ('lab', 1), ('innovators', 1), ('twentyfirst', 1), ('lightning', 1), ('rod', 1), ('2004', 1), ('prevented', 1), ('entering', 1), ('bush', 1), ('appeals', 1), ('organizations', 1), ('academy', 1), ('aclu', 1), ('barred', 1), ('spring', 1), ('secretary', 1), ('hillary', 1), ('clinton', 1), ('banin', 1), ('clarification', 1), ('directed', 1), ('journalists', 1), ('curious', 1), ('skeptical', 1), ('positions', 1), ('aware', 1), ('tries', 1), ('barriers', 1), ('misunderstanding', 1), ('directly', 1), ('escape', 1), ('ghettos', 1), ('partners', 1), ('recognize', 1), ('responsibilities', 1), ('confident', 1), ('pluralism', 1), ('factin', 1), ('publicized', 1), ('creationism', 1), ('descendant', 1), ('element', 1), ('mentionedâ\\x80\\x94the', 1), ('empirical', 1), ('jay', 1), ('gould', 1), ('extolling', 1), ('focused', 1), ('proof', 1), ('vast', 1), ('varied', 1), ('fields', 1), ('observing', 1), ('splitting', 1), ('fossils', 1), ('capturing', 1), ('pastâ\\x80\\x94dinosaurs', 1), ('sprouted', 1), ('feathers', 1), ('fish', 1), ('grown', 1), ('limbswhy', 1), ('trueweaves', 1), ('threads', 1), ('genetics', 1), ('paleontology', 1), ('geology', 1), ('molecular', 1), ('anatomy', 1), ('stamp', 1), ('processes', 1), ('proposed', 1), ('crisp', 1), ('audiencewhy', 1), ('truedispels', 1), ('clearly', 1), ('confirms', 1), ('process', 1), ('firmly', 1), ('established', 1), ('playful', 1), ('frivolous', 1), ('poses', 1), ('tough', 1), ('beliefreligion', 1), ('comfortable', 1), ('beset', 1), ('ought', 1), ('behave', 1), ('russell', 1), ('snatches', 1), ('comfort', 1), ('troublesome', 1), ('alternatives', 1), ('autonomy', 1), ('selfawareness', 1), ('â\\x80\\x9cwittgensteins', 1), ('conception', 1), ('philosophyâ\\x80\\x9d', 1), ('1969', 1), ('basil', 1), ('blackwell', 1), ('publishers', 1), ('official', 1), ('publisher', 1), ('intended', 1), ('scholars', 1), ('reprinting', 1), ('electronically', 1), ('appending', 1), ('â\\x80\\x9clast', 1), ('wordsâ\\x80\\x9d', 1), ('â\\x80\\x9cbeyond', 1), ('marx', 1), ('confession', 1), ('wittgensteinian', 1), ('marxist', 1), ('taoistâ\\x80\\x9d', 1), ('symposium', 1), ('wittgensteinâ\\x80\\x9d', 1), ('trinity', 1), ('uk', 1), ('1999', 1), ('concluding', 1), ('edited', 1), ('gavin', 1), ('kitchen', 1), ('nigel', 1), ('pleasants', 1), ('routledge', 1), ('2002', 1), ('authoritarian', 1), ('libertarian', 1), ('obligated', 1), ('eating', 1), ('catwould', 1), ('catchallenges', 1), ('paradoxes', 1), ('guaranteed', 1), ('test', 1), ('preconceptions', 1), ('stangroom', 1), ('creates', 1), ('suicide', 1), ('retribution', 1), ('conundrum', 1), ('detail', 1), ('helps', 1), ('barometer', 1), ('ready', 1), ('shaken', 1), ('thenwould', 1), ('catis', 1)]\n"
     ]
    },
    {
     "data": {
      "image/png": "[encoded data removed]",
      "text/plain": [
       "<Figure size 1500x800 with 1 Axes>"
      ]
     },
     "metadata": {},
     "output_type": "display_data"
    }
   ],
   "source": [
    "import pandas as pd\n",
    "import string\n",
    "from collections import Counter\n",
    "from nltk.corpus import stopwords\n",
    "from nltk. tokenize import word_tokenize\n",
    "import matplotlib.pyplot as plt\n",
    "from wordcloud import WordCloud\n",
    "\n",
    "#custom list of stopwords\n",
    "custom_stopwords = {\n",
    "    'one', 'book', 'us', 'book', 'would', 'â', 'stories', 'years', 'many', 'first', 'story', 'work',\n",
    "    'important', 'way', 'also', 'know', 'become', 'within', 'used', 'two', 'much', 'readers', \n",
    "    'dr', 'find', 'without', 'today', 'author', 'books', 'makes', 'even', 'could', 'around', 'like',\n",
    "    'collection', 'edition', 'make', 'published', 'york', 'ever', 'takes', 'get','never', 'really', 'long',\n",
    "    'four', 'little', 'series', 'yet', 'including', 'every', 'often', 'account', 'filled', 'still', 'three',\n",
    "    'shows', 'thomas', 'john', 'cover', 'made', 'behind', 'following', 'ones', \n",
    "    }\n",
    "\n",
    "#combine wiht nltk's defautl stopwords\n",
    "stop_words = set(stopwords.words('english')).union(custom_stopwords)\n",
    "\n",
    "#Pre-processing function\n",
    "def preprocess_text(text):\n",
    "    text = text.lower()\n",
    "    text = text.translate(str.maketrans('', '', string.punctuation))\n",
    "    words = word_tokenize(text)\n",
    "    words = [word for word in words if word not in stop_words]\n",
    "    return words\n",
    "\n",
    "#apply pre-processing to summary column and flattern all words into one list\n",
    "all_words = []\n",
    "book_summary['Summary'].apply(lambda x:all_words.extend(preprocess_text(x)))\n",
    "\n",
    "#count word freq \n",
    "word_counts = Counter(all_words)\n",
    "\n",
    "#get the most common words \n",
    "most_common_words = word_counts.most_common()\n",
    "\n",
    "print(most_common_words)\n",
    "\n",
    "#visualize it\n",
    "wordcloud = WordCloud(width=600, height=400, background_color='white').generate_from_frequencies(word_counts)\n",
    "plt.figure(figsize=(15,8))\n",
    "plt.imshow(wordcloud, interpolation='bilinear')\n",
    "plt.axis('off')\n",
    "# plt.savefig('wordcloud.png', format='png')\n",
    "plt.show()"
   ]
  },
  {
   "cell_type": "code",
   "execution_count": null,
   "metadata": {},
   "outputs": [],
   "source": []
  }
 ],
 "metadata": {
  "kernelspec": {
   "display_name": "base",
   "language": "python",
   "name": "python3"
  },
  "language_info": {
   "codemirror_mode": {
    "name": "ipython",
    "version": 3
   },
   "file_extension": ".py",
   "mimetype": "text/x-python",
   "name": "python",
   "nbconvert_exporter": "python",
   "pygments_lexer": "ipython3",
   "version": "3.12.3"
  }
 },
 "nbformat": 4,
 "nbformat_minor": 2
}
