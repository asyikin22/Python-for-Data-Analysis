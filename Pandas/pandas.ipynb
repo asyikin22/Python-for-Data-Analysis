{
 "cells": [
  {
   "cell_type": "markdown",
   "metadata": {},
   "source": [
    "# PANDAS\n",
    "- **PANDAS** is designed to work with tabular or heterogenous data\n",
    "- **NumPy** is for homogenously typed numerical array data\n",
    "\n",
    "**Import Conventions**\n",
    "- import numpy as np\n",
    "- import pandas as pd\n",
    "\n",
    "_______________________________________________________________\n",
    "\n",
    "\n",
    "**Pandas Data Structures**\n",
    "- Series\n",
    "    * 1-D array-like objec containing a sequence of values of the same type\n",
    "    * It also contain an associaed array of data labels ---> Index\n",
    "\n",
    "- DataFrame\n",
    "    * It represents a rectangular table of data and contains an ordered, named collection of columns\n",
    "    * each of which can be a different value type (numeric, string, Boolean, etc)\n",
    "    * it has both row and column index\n",
    "    * it can be thought of as a dictionary of Series all sharing the same index\n",
    "    * Possible data inputs to the DataFrame constructor\n",
    "\n",
    "___________________________\n",
    "\n",
    "**Index Objects**\n",
    "- It's responsible for holding the axis labels and other metadata\n",
    "- Index method and properties: https://wesmckinney.com/book/pandas-basics#tbl-table_index_methods\n"
   ]
  },
  {
   "cell_type": "code",
   "execution_count": 3,
   "metadata": {},
   "outputs": [
    {
     "name": "stdout",
     "output_type": "stream",
     "text": [
      "0    1\n",
      "1    2\n",
      "2    3\n",
      "3    4\n",
      "4    5\n",
      "dtype: int64\n",
      "\n",
      "Convert series to array\n",
      "<NumpyExtensionArray>\n",
      "[1, 2, 3, 4, 5]\n",
      "Length: 5, dtype: int64\n"
     ]
    }
   ],
   "source": [
    "import numpy as np\n",
    "import pandas as pd\n",
    "from pandas import Series, DataFrame\n",
    "\n",
    "objeck = pd.Series([1, 2, 3, 4, 5])\n",
    "\n",
    "print(objeck)\n",
    "\n",
    "print('\\nConvert series to array')\n",
    "print(objeck.array)"
   ]
  },
  {
   "cell_type": "code",
   "execution_count": 5,
   "metadata": {},
   "outputs": [
    {
     "name": "stdout",
     "output_type": "stream",
     "text": [
      "a    1\n",
      "b    2\n",
      "c    3\n",
      "d    4\n",
      "e    5\n",
      "dtype: int64\n",
      "5\n",
      "3\n",
      "1\n"
     ]
    }
   ],
   "source": [
    "#assign index to series \n",
    "objeck2 = pd.Series([1, 2, 3, 4, 5], index=[\"a\", \"b\", \"c\", \"d\", \"e\"])\n",
    "print(objeck2)\n",
    "print(objeck2['e'])\n",
    "print(objeck2['c'])\n",
    "print(objeck2['a'])"
   ]
  },
  {
   "cell_type": "code",
   "execution_count": 10,
   "metadata": {},
   "outputs": [
    {
     "name": "stdout",
     "output_type": "stream",
     "text": [
      "a     1\n",
      "b     4\n",
      "c     9\n",
      "d    16\n",
      "e    25\n",
      "dtype: int64\n",
      "d    4\n",
      "e    5\n",
      "dtype: int64\n",
      "a      2.718282\n",
      "b      7.389056\n",
      "c     20.085537\n",
      "d     54.598150\n",
      "e    148.413159\n",
      "dtype: float64\n"
     ]
    }
   ],
   "source": [
    "#math functions\n",
    "darab = objeck2 * objeck2\n",
    "compare = objeck2[objeck2 > 3]\n",
    "expo = np.exp(objeck2)\n",
    "\n",
    "print(darab)\n",
    "print(compare)\n",
    "print(expo)"
   ]
  },
  {
   "cell_type": "markdown",
   "metadata": {},
   "source": [
    "**Create Series from Dictionaries**"
   ]
  },
  {
   "cell_type": "code",
   "execution_count": 12,
   "metadata": {},
   "outputs": [
    {
     "data": {
      "text/plain": [
       "Johor              4125000\n",
       "Kedah              2706000\n",
       "Kelantan           1917000\n",
       "Melaka              960000\n",
       "Negeri Sembilan    1248000\n",
       "Pahang             1752000\n",
       "Penang             1823000\n",
       "Perak              2513000\n",
       "Perlis              259000\n",
       "Sabah              4336000\n",
       "Sarawak            2842000\n",
       "Selangor           6698000\n",
       "Terengganu         1252000\n",
       "dtype: int64"
      ]
     },
     "execution_count": 12,
     "metadata": {},
     "output_type": "execute_result"
    }
   ],
   "source": [
    "state_pop_data = {\"Johor\": 4125000,\n",
    "    \"Kedah\": 2706000,\n",
    "    \"Kelantan\": 1917000,\n",
    "    \"Melaka\": 960000,\n",
    "    \"Negeri Sembilan\": 1248000,\n",
    "    \"Pahang\": 1752000,\n",
    "    \"Penang\": 1823000,\n",
    "    \"Perak\": 2513000,\n",
    "    \"Perlis\": 259000,\n",
    "    \"Sabah\": 4336000,\n",
    "    \"Sarawak\": 2842000,\n",
    "    \"Selangor\": 6698000,\n",
    "    \"Terengganu\": 1252000,}\n",
    "\n",
    "objeck3 = pd.Series(state_pop_data)\n",
    "objeck3"
   ]
  },
  {
   "cell_type": "markdown",
   "metadata": {},
   "source": [
    "**Convert Dictionaries back to series**"
   ]
  },
  {
   "cell_type": "code",
   "execution_count": 13,
   "metadata": {},
   "outputs": [
    {
     "data": {
      "text/plain": [
       "{'Johor': 4125000,\n",
       " 'Kedah': 2706000,\n",
       " 'Kelantan': 1917000,\n",
       " 'Melaka': 960000,\n",
       " 'Negeri Sembilan': 1248000,\n",
       " 'Pahang': 1752000,\n",
       " 'Penang': 1823000,\n",
       " 'Perak': 2513000,\n",
       " 'Perlis': 259000,\n",
       " 'Sabah': 4336000,\n",
       " 'Sarawak': 2842000,\n",
       " 'Selangor': 6698000,\n",
       " 'Terengganu': 1252000}"
      ]
     },
     "execution_count": 13,
     "metadata": {},
     "output_type": "execute_result"
    }
   ],
   "source": [
    "objeck3.to_dict()"
   ]
  },
  {
   "cell_type": "code",
   "execution_count": 19,
   "metadata": {},
   "outputs": [
    {
     "name": "stdout",
     "output_type": "stream",
     "text": [
      "Johor              4125000.0\n",
      "Kedah              2706000.0\n",
      "Kelantan           1917000.0\n",
      "Melaka              960000.0\n",
      "Negeri Sembilan    1248000.0\n",
      "Pahang             1752000.0\n",
      "Penang             1823000.0\n",
      "Perak              2513000.0\n",
      "Perlis              259000.0\n",
      "Sabah              4336000.0\n",
      "Sarawak            2842000.0\n",
      "Selangor           6698000.0\n",
      "Terengganu         1252000.0\n",
      "Kuala Lumpur             NaN\n",
      "Labuan                   NaN\n",
      "Putrajaya                NaN\n",
      "dtype: float64\n"
     ]
    }
   ],
   "source": [
    "states = [\"Johor\",\"Kedah\",\"Kelantan\",\"Melaka\",\"Negeri Sembilan\",\"Pahang\",\n",
    "    \"Penang\",\"Perak\",\"Perlis\",\"Sabah\",\"Sarawak\",\"Selangor\",\"Terengganu\", \n",
    "    \"Kuala Lumpur\", \"Labuan\", \"Putrajaya\"]\n",
    "\n",
    "objeck4 = pd.Series(state_pop_data, index=states)\n",
    "\n",
    "print(objeck4)"
   ]
  },
  {
   "cell_type": "markdown",
   "metadata": {},
   "source": [
    "**Note for above example:**\n",
    "\n",
    "- I am passing an index with dictionary keys in a new series\n",
    "- My state List has new additional states which the rpevious series dont have num of population for\n",
    "- the new series created will return NaN values for states with missing values"
   ]
  },
  {
   "cell_type": "markdown",
   "metadata": {},
   "source": [
    "**Assing name to series objects**"
   ]
  },
  {
   "cell_type": "code",
   "execution_count": 20,
   "metadata": {},
   "outputs": [
    {
     "data": {
      "text/plain": [
       "Negeri\n",
       "Johor              4125000.0\n",
       "Kedah              2706000.0\n",
       "Kelantan           1917000.0\n",
       "Melaka              960000.0\n",
       "Negeri Sembilan    1248000.0\n",
       "Pahang             1752000.0\n",
       "Penang             1823000.0\n",
       "Perak              2513000.0\n",
       "Perlis              259000.0\n",
       "Sabah              4336000.0\n",
       "Sarawak            2842000.0\n",
       "Selangor           6698000.0\n",
       "Terengganu         1252000.0\n",
       "Kuala Lumpur             NaN\n",
       "Labuan                   NaN\n",
       "Putrajaya                NaN\n",
       "Name: Population, dtype: float64"
      ]
     },
     "execution_count": 20,
     "metadata": {},
     "output_type": "execute_result"
    }
   ],
   "source": [
    "objeck4.name = 'Population'\n",
    "objeck4.index.name = \"Negeri\"\n",
    "objeck4"
   ]
  },
  {
   "cell_type": "markdown",
   "metadata": {},
   "source": [
    "**A series's index can be altered in place by assignment:**"
   ]
  },
  {
   "cell_type": "code",
   "execution_count": 24,
   "metadata": {},
   "outputs": [
    {
     "name": "stdout",
     "output_type": "stream",
     "text": [
      "blue      1\n",
      "yellow    2\n",
      "red       3\n",
      "pink      4\n",
      "grey      5\n",
      "dtype: int64\n"
     ]
    }
   ],
   "source": [
    "\n",
    "objeck2.index = [\"blue\", \"yellow\", \"red\", \"pink\", \"grey\"]\n",
    "print(objeck2)"
   ]
  },
  {
   "cell_type": "markdown",
   "metadata": {},
   "source": [
    "# DataFrame\n",
    "\n",
    "- we are going to use the data we used in series tutorial\n",
    "- We going to create a new separate lists from teh dictionaries that contain States and thier populations\n",
    "- add another data list into data frame - Year each state was founded "
   ]
  },
  {
   "cell_type": "code",
   "execution_count": 30,
   "metadata": {},
   "outputs": [
    {
     "name": "stdout",
     "output_type": "stream",
     "text": [
      "{'Johor': 4125000, 'Kedah': 2706000, 'Kelantan': 1917000, 'Melaka': 960000, 'Negeri Sembilan': 1248000, 'Pahang': 1752000, 'Penang': 1823000, 'Perak': 2513000, 'Perlis': 259000, 'Sabah': 4336000, 'Sarawak': 2842000, 'Selangor': 6698000, 'Terengganu': 1252000}\n",
      "\n",
      "Negeri:\n",
      "['Johor', 'Kedah', 'Kelantan', 'Melaka', 'Negeri Sembilan', 'Pahang', 'Penang', 'Perak', 'Perlis', 'Sabah', 'Sarawak', 'Selangor', 'Terengganu']\n",
      "\n",
      "Jumlah Penduduk:\n",
      " [4125000, 2706000, 1917000, 960000, 1248000, 1752000, 1823000, 2513000, 259000, 4336000, 2842000, 6698000, 1252000]\n",
      "\n"
     ]
    },
    {
     "data": {
      "text/html": [
       "<div>\n",
       "<style scoped>\n",
       "    .dataframe tbody tr th:only-of-type {\n",
       "        vertical-align: middle;\n",
       "    }\n",
       "\n",
       "    .dataframe tbody tr th {\n",
       "        vertical-align: top;\n",
       "    }\n",
       "\n",
       "    .dataframe thead th {\n",
       "        text-align: right;\n",
       "    }\n",
       "</style>\n",
       "<table border=\"1\" class=\"dataframe\">\n",
       "  <thead>\n",
       "    <tr style=\"text-align: right;\">\n",
       "      <th></th>\n",
       "      <th>states</th>\n",
       "      <th>population</th>\n",
       "      <th>Year_founded</th>\n",
       "    </tr>\n",
       "  </thead>\n",
       "  <tbody>\n",
       "    <tr>\n",
       "      <th>0</th>\n",
       "      <td>Johor</td>\n",
       "      <td>4125000</td>\n",
       "      <td>1855</td>\n",
       "    </tr>\n",
       "    <tr>\n",
       "      <th>1</th>\n",
       "      <td>Kedah</td>\n",
       "      <td>2706000</td>\n",
       "      <td>1136</td>\n",
       "    </tr>\n",
       "    <tr>\n",
       "      <th>2</th>\n",
       "      <td>Kelantan</td>\n",
       "      <td>1917000</td>\n",
       "      <td>1820</td>\n",
       "    </tr>\n",
       "    <tr>\n",
       "      <th>3</th>\n",
       "      <td>Melaka</td>\n",
       "      <td>960000</td>\n",
       "      <td>1400</td>\n",
       "    </tr>\n",
       "    <tr>\n",
       "      <th>4</th>\n",
       "      <td>Negeri Sembilan</td>\n",
       "      <td>1248000</td>\n",
       "      <td>1773</td>\n",
       "    </tr>\n",
       "    <tr>\n",
       "      <th>5</th>\n",
       "      <td>Pahang</td>\n",
       "      <td>1752000</td>\n",
       "      <td>1881</td>\n",
       "    </tr>\n",
       "    <tr>\n",
       "      <th>6</th>\n",
       "      <td>Penang</td>\n",
       "      <td>1823000</td>\n",
       "      <td>1786</td>\n",
       "    </tr>\n",
       "    <tr>\n",
       "      <th>7</th>\n",
       "      <td>Perak</td>\n",
       "      <td>2513000</td>\n",
       "      <td>1820</td>\n",
       "    </tr>\n",
       "    <tr>\n",
       "      <th>8</th>\n",
       "      <td>Perlis</td>\n",
       "      <td>259000</td>\n",
       "      <td>1843</td>\n",
       "    </tr>\n",
       "    <tr>\n",
       "      <th>9</th>\n",
       "      <td>Sabah</td>\n",
       "      <td>4336000</td>\n",
       "      <td>1881</td>\n",
       "    </tr>\n",
       "    <tr>\n",
       "      <th>10</th>\n",
       "      <td>Sarawak</td>\n",
       "      <td>2842000</td>\n",
       "      <td>1841</td>\n",
       "    </tr>\n",
       "    <tr>\n",
       "      <th>11</th>\n",
       "      <td>Selangor</td>\n",
       "      <td>6698000</td>\n",
       "      <td>1766</td>\n",
       "    </tr>\n",
       "    <tr>\n",
       "      <th>12</th>\n",
       "      <td>Terengganu</td>\n",
       "      <td>1252000</td>\n",
       "      <td>1303</td>\n",
       "    </tr>\n",
       "  </tbody>\n",
       "</table>\n",
       "</div>"
      ],
      "text/plain": [
       "             states  population  Year_founded\n",
       "0             Johor     4125000          1855\n",
       "1             Kedah     2706000          1136\n",
       "2          Kelantan     1917000          1820\n",
       "3            Melaka      960000          1400\n",
       "4   Negeri Sembilan     1248000          1773\n",
       "5            Pahang     1752000          1881\n",
       "6            Penang     1823000          1786\n",
       "7             Perak     2513000          1820\n",
       "8            Perlis      259000          1843\n",
       "9             Sabah     4336000          1881\n",
       "10          Sarawak     2842000          1841\n",
       "11         Selangor     6698000          1766\n",
       "12       Terengganu     1252000          1303"
      ]
     },
     "execution_count": 30,
     "metadata": {},
     "output_type": "execute_result"
    }
   ],
   "source": [
    "print(state_pop_data)\n",
    "\n",
    "newStates = list(state_pop_data.keys())\n",
    "population = list(state_pop_data.values())\n",
    "\n",
    "print(f'\\nNegeri:\\n{newStates}\\n')\n",
    "print(f'Jumlah Penduduk:\\n {population}\\n')\n",
    "\n",
    "newData = {\n",
    "    \"states\": newStates, \n",
    "    \"population\": population, \n",
    "    \"Year_founded\": [1855, 1136, 1820, 1400, 1773, 1881, 1786, 1820, 1843, 1881, 1841, 1766, 1303]\n",
    "}\n",
    "\n",
    "frame = pd.DataFrame(newData)\n",
    "frame"
   ]
  },
  {
   "cell_type": "markdown",
   "metadata": {},
   "source": [
    "**Head method**\n",
    "- it will select only the first 5 rows\n",
    "\n",
    "**Tail method**\n",
    "- it will return the last 5 rows"
   ]
  },
  {
   "cell_type": "code",
   "execution_count": 31,
   "metadata": {},
   "outputs": [
    {
     "data": {
      "text/html": [
       "<div>\n",
       "<style scoped>\n",
       "    .dataframe tbody tr th:only-of-type {\n",
       "        vertical-align: middle;\n",
       "    }\n",
       "\n",
       "    .dataframe tbody tr th {\n",
       "        vertical-align: top;\n",
       "    }\n",
       "\n",
       "    .dataframe thead th {\n",
       "        text-align: right;\n",
       "    }\n",
       "</style>\n",
       "<table border=\"1\" class=\"dataframe\">\n",
       "  <thead>\n",
       "    <tr style=\"text-align: right;\">\n",
       "      <th></th>\n",
       "      <th>states</th>\n",
       "      <th>population</th>\n",
       "      <th>Year_founded</th>\n",
       "    </tr>\n",
       "  </thead>\n",
       "  <tbody>\n",
       "    <tr>\n",
       "      <th>0</th>\n",
       "      <td>Johor</td>\n",
       "      <td>4125000</td>\n",
       "      <td>1855</td>\n",
       "    </tr>\n",
       "    <tr>\n",
       "      <th>1</th>\n",
       "      <td>Kedah</td>\n",
       "      <td>2706000</td>\n",
       "      <td>1136</td>\n",
       "    </tr>\n",
       "    <tr>\n",
       "      <th>2</th>\n",
       "      <td>Kelantan</td>\n",
       "      <td>1917000</td>\n",
       "      <td>1820</td>\n",
       "    </tr>\n",
       "    <tr>\n",
       "      <th>3</th>\n",
       "      <td>Melaka</td>\n",
       "      <td>960000</td>\n",
       "      <td>1400</td>\n",
       "    </tr>\n",
       "    <tr>\n",
       "      <th>4</th>\n",
       "      <td>Negeri Sembilan</td>\n",
       "      <td>1248000</td>\n",
       "      <td>1773</td>\n",
       "    </tr>\n",
       "  </tbody>\n",
       "</table>\n",
       "</div>"
      ],
      "text/plain": [
       "            states  population  Year_founded\n",
       "0            Johor     4125000          1855\n",
       "1            Kedah     2706000          1136\n",
       "2         Kelantan     1917000          1820\n",
       "3           Melaka      960000          1400\n",
       "4  Negeri Sembilan     1248000          1773"
      ]
     },
     "execution_count": 31,
     "metadata": {},
     "output_type": "execute_result"
    }
   ],
   "source": [
    "frame.head()"
   ]
  },
  {
   "cell_type": "code",
   "execution_count": 32,
   "metadata": {},
   "outputs": [
    {
     "data": {
      "text/html": [
       "<div>\n",
       "<style scoped>\n",
       "    .dataframe tbody tr th:only-of-type {\n",
       "        vertical-align: middle;\n",
       "    }\n",
       "\n",
       "    .dataframe tbody tr th {\n",
       "        vertical-align: top;\n",
       "    }\n",
       "\n",
       "    .dataframe thead th {\n",
       "        text-align: right;\n",
       "    }\n",
       "</style>\n",
       "<table border=\"1\" class=\"dataframe\">\n",
       "  <thead>\n",
       "    <tr style=\"text-align: right;\">\n",
       "      <th></th>\n",
       "      <th>states</th>\n",
       "      <th>population</th>\n",
       "      <th>Year_founded</th>\n",
       "    </tr>\n",
       "  </thead>\n",
       "  <tbody>\n",
       "    <tr>\n",
       "      <th>8</th>\n",
       "      <td>Perlis</td>\n",
       "      <td>259000</td>\n",
       "      <td>1843</td>\n",
       "    </tr>\n",
       "    <tr>\n",
       "      <th>9</th>\n",
       "      <td>Sabah</td>\n",
       "      <td>4336000</td>\n",
       "      <td>1881</td>\n",
       "    </tr>\n",
       "    <tr>\n",
       "      <th>10</th>\n",
       "      <td>Sarawak</td>\n",
       "      <td>2842000</td>\n",
       "      <td>1841</td>\n",
       "    </tr>\n",
       "    <tr>\n",
       "      <th>11</th>\n",
       "      <td>Selangor</td>\n",
       "      <td>6698000</td>\n",
       "      <td>1766</td>\n",
       "    </tr>\n",
       "    <tr>\n",
       "      <th>12</th>\n",
       "      <td>Terengganu</td>\n",
       "      <td>1252000</td>\n",
       "      <td>1303</td>\n",
       "    </tr>\n",
       "  </tbody>\n",
       "</table>\n",
       "</div>"
      ],
      "text/plain": [
       "        states  population  Year_founded\n",
       "8       Perlis      259000          1843\n",
       "9        Sabah     4336000          1881\n",
       "10     Sarawak     2842000          1841\n",
       "11    Selangor     6698000          1766\n",
       "12  Terengganu     1252000          1303"
      ]
     },
     "execution_count": 32,
     "metadata": {},
     "output_type": "execute_result"
    }
   ],
   "source": [
    "frame.tail()"
   ]
  },
  {
   "cell_type": "markdown",
   "metadata": {},
   "source": [
    "**SPECIFY SEQUENCE OF COLUMNS**\n"
   ]
  },
  {
   "cell_type": "code",
   "execution_count": 40,
   "metadata": {},
   "outputs": [
    {
     "name": "stdout",
     "output_type": "stream",
     "text": [
      "             states  population  Year_founded\n",
      "0             Johor     4125000          1855\n",
      "1             Kedah     2706000          1136\n",
      "2          Kelantan     1917000          1820\n",
      "3            Melaka      960000          1400\n",
      "4   Negeri Sembilan     1248000          1773\n",
      "5            Pahang     1752000          1881\n",
      "6            Penang     1823000          1786\n",
      "7             Perak     2513000          1820\n",
      "8            Perlis      259000          1843\n",
      "9             Sabah     4336000          1881\n",
      "10          Sarawak     2842000          1841\n",
      "11         Selangor     6698000          1766\n",
      "12       Terengganu     1252000          1303\n",
      "    Year_founded           states  population City\n",
      "0           1855            Johor     4125000  NaN\n",
      "1           1136            Kedah     2706000  NaN\n",
      "2           1820         Kelantan     1917000  NaN\n",
      "3           1400           Melaka      960000  NaN\n",
      "4           1773  Negeri Sembilan     1248000  NaN\n",
      "5           1881           Pahang     1752000  NaN\n",
      "6           1786           Penang     1823000  NaN\n",
      "7           1820            Perak     2513000  NaN\n",
      "8           1843           Perlis      259000  NaN\n",
      "9           1881            Sabah     4336000  NaN\n",
      "10          1841          Sarawak     2842000  NaN\n",
      "11          1766         Selangor     6698000  NaN\n",
      "12          1303       Terengganu     1252000  NaN\n"
     ]
    }
   ],
   "source": [
    "print(frame)\n",
    "\n",
    "newSequence = pd.DataFrame(newData, columns = ['Year_founded', 'states', 'population', \"City\"])\n",
    "print(newSequence)"
   ]
  },
  {
   "cell_type": "markdown",
   "metadata": {},
   "source": [
    "**Retrieve series from data frame**"
   ]
  },
  {
   "cell_type": "code",
   "execution_count": 41,
   "metadata": {},
   "outputs": [
    {
     "data": {
      "text/html": [
       "<div>\n",
       "<style scoped>\n",
       "    .dataframe tbody tr th:only-of-type {\n",
       "        vertical-align: middle;\n",
       "    }\n",
       "\n",
       "    .dataframe tbody tr th {\n",
       "        vertical-align: top;\n",
       "    }\n",
       "\n",
       "    .dataframe thead th {\n",
       "        text-align: right;\n",
       "    }\n",
       "</style>\n",
       "<table border=\"1\" class=\"dataframe\">\n",
       "  <thead>\n",
       "    <tr style=\"text-align: right;\">\n",
       "      <th></th>\n",
       "      <th>states</th>\n",
       "      <th>population</th>\n",
       "      <th>Year_founded</th>\n",
       "    </tr>\n",
       "  </thead>\n",
       "  <tbody>\n",
       "    <tr>\n",
       "      <th>0</th>\n",
       "      <td>Johor</td>\n",
       "      <td>4125000</td>\n",
       "      <td>1855</td>\n",
       "    </tr>\n",
       "    <tr>\n",
       "      <th>1</th>\n",
       "      <td>Kedah</td>\n",
       "      <td>2706000</td>\n",
       "      <td>1136</td>\n",
       "    </tr>\n",
       "    <tr>\n",
       "      <th>2</th>\n",
       "      <td>Kelantan</td>\n",
       "      <td>1917000</td>\n",
       "      <td>1820</td>\n",
       "    </tr>\n",
       "    <tr>\n",
       "      <th>3</th>\n",
       "      <td>Melaka</td>\n",
       "      <td>960000</td>\n",
       "      <td>1400</td>\n",
       "    </tr>\n",
       "    <tr>\n",
       "      <th>4</th>\n",
       "      <td>Negeri Sembilan</td>\n",
       "      <td>1248000</td>\n",
       "      <td>1773</td>\n",
       "    </tr>\n",
       "    <tr>\n",
       "      <th>5</th>\n",
       "      <td>Pahang</td>\n",
       "      <td>1752000</td>\n",
       "      <td>1881</td>\n",
       "    </tr>\n",
       "    <tr>\n",
       "      <th>6</th>\n",
       "      <td>Penang</td>\n",
       "      <td>1823000</td>\n",
       "      <td>1786</td>\n",
       "    </tr>\n",
       "    <tr>\n",
       "      <th>7</th>\n",
       "      <td>Perak</td>\n",
       "      <td>2513000</td>\n",
       "      <td>1820</td>\n",
       "    </tr>\n",
       "    <tr>\n",
       "      <th>8</th>\n",
       "      <td>Perlis</td>\n",
       "      <td>259000</td>\n",
       "      <td>1843</td>\n",
       "    </tr>\n",
       "    <tr>\n",
       "      <th>9</th>\n",
       "      <td>Sabah</td>\n",
       "      <td>4336000</td>\n",
       "      <td>1881</td>\n",
       "    </tr>\n",
       "    <tr>\n",
       "      <th>10</th>\n",
       "      <td>Sarawak</td>\n",
       "      <td>2842000</td>\n",
       "      <td>1841</td>\n",
       "    </tr>\n",
       "    <tr>\n",
       "      <th>11</th>\n",
       "      <td>Selangor</td>\n",
       "      <td>6698000</td>\n",
       "      <td>1766</td>\n",
       "    </tr>\n",
       "    <tr>\n",
       "      <th>12</th>\n",
       "      <td>Terengganu</td>\n",
       "      <td>1252000</td>\n",
       "      <td>1303</td>\n",
       "    </tr>\n",
       "  </tbody>\n",
       "</table>\n",
       "</div>"
      ],
      "text/plain": [
       "             states  population  Year_founded\n",
       "0             Johor     4125000          1855\n",
       "1             Kedah     2706000          1136\n",
       "2          Kelantan     1917000          1820\n",
       "3            Melaka      960000          1400\n",
       "4   Negeri Sembilan     1248000          1773\n",
       "5            Pahang     1752000          1881\n",
       "6            Penang     1823000          1786\n",
       "7             Perak     2513000          1820\n",
       "8            Perlis      259000          1843\n",
       "9             Sabah     4336000          1881\n",
       "10          Sarawak     2842000          1841\n",
       "11         Selangor     6698000          1766\n",
       "12       Terengganu     1252000          1303"
      ]
     },
     "execution_count": 41,
     "metadata": {},
     "output_type": "execute_result"
    }
   ],
   "source": [
    "frame "
   ]
  },
  {
   "cell_type": "code",
   "execution_count": 42,
   "metadata": {},
   "outputs": [
    {
     "data": {
      "text/plain": [
       "0               Johor\n",
       "1               Kedah\n",
       "2            Kelantan\n",
       "3              Melaka\n",
       "4     Negeri Sembilan\n",
       "5              Pahang\n",
       "6              Penang\n",
       "7               Perak\n",
       "8              Perlis\n",
       "9               Sabah\n",
       "10            Sarawak\n",
       "11           Selangor\n",
       "12         Terengganu\n",
       "Name: states, dtype: object"
      ]
     },
     "execution_count": 42,
     "metadata": {},
     "output_type": "execute_result"
    }
   ],
   "source": [
    "frame[\"states\"]"
   ]
  },
  {
   "cell_type": "code",
   "execution_count": 43,
   "metadata": {},
   "outputs": [
    {
     "data": {
      "text/plain": [
       "0     1855\n",
       "1     1136\n",
       "2     1820\n",
       "3     1400\n",
       "4     1773\n",
       "5     1881\n",
       "6     1786\n",
       "7     1820\n",
       "8     1843\n",
       "9     1881\n",
       "10    1841\n",
       "11    1766\n",
       "12    1303\n",
       "Name: Year_founded, dtype: int64"
      ]
     },
     "execution_count": 43,
     "metadata": {},
     "output_type": "execute_result"
    }
   ],
   "source": [
    "frame['Year_founded']"
   ]
  },
  {
   "cell_type": "markdown",
   "metadata": {},
   "source": [
    "**Loc**\n",
    "- purpose = access data by label or boolean array\n",
    "- label-based indexing\n",
    "- inclusive\n",
    "\n",
    "**iloc**\n",
    "- purpose = access data by integer position\n",
    "- position based indexing\n",
    "- exclusive "
   ]
  },
  {
   "cell_type": "code",
   "execution_count": 44,
   "metadata": {},
   "outputs": [
    {
     "data": {
      "text/plain": [
       "states            Kedah\n",
       "population      2706000\n",
       "Year_founded       1136\n",
       "Name: 1, dtype: object"
      ]
     },
     "execution_count": 44,
     "metadata": {},
     "output_type": "execute_result"
    }
   ],
   "source": [
    "frame.loc[1]"
   ]
  },
  {
   "cell_type": "code",
   "execution_count": 57,
   "metadata": {},
   "outputs": [
    {
     "name": "stdout",
     "output_type": "stream",
     "text": [
      "   x  y\n",
      "a  9  5\n",
      "b  8  4\n",
      "c  7  3\n",
      "\n",
      "Value at second row, first column:\n",
      "8\n",
      "\n",
      "Value at first row, second column:\n",
      "5\n"
     ]
    }
   ],
   "source": [
    "iloc_example = pd.DataFrame({\n",
    "    \"x\": [9, 8, 7],\n",
    "    'y': [5, 4, 3]\n",
    "}, index = ['a', 'b', 'c'])\n",
    "\n",
    "print(iloc_example)\n",
    "\n",
    "print('\\nValue at second row, first column:')\n",
    "print(iloc_example.iloc[1,0])\n",
    "\n",
    "print('\\nValue at first row, second column:')\n",
    "print(iloc_example.iloc[0,1])\n"
   ]
  }
 ],
 "metadata": {
  "kernelspec": {
   "display_name": "base",
   "language": "python",
   "name": "python3"
  },
  "language_info": {
   "codemirror_mode": {
    "name": "ipython",
    "version": 3
   },
   "file_extension": ".py",
   "mimetype": "text/x-python",
   "name": "python",
   "nbconvert_exporter": "python",
   "pygments_lexer": "ipython3",
   "version": "3.12.4"
  }
 },
 "nbformat": 4,
 "nbformat_minor": 2
}
