{
 "cells": [
  {
   "cell_type": "markdown",
   "metadata": {},
   "source": [
    "**Reindexing**\n",
    "- Creates new object with the values rearranged to align with the new index.\n",
    "- reindex function arguments: https://wesmckinney.com/book/pandas-basics#tbl-table_reindex_function\n",
    "\n",
    "**Dropping entries from an axis**\n",
    "- It will return a new object with the indicated value or values deleted from an axis\n",
    "\n",
    "**Indexing, selection and filtering**\n",
    "- series indexng (obj[...]) works anologously to NumPy array indexing\n",
    "\n",
    "- we can use the series's index values instead of only integers\n",
    "\n",
    "- the preferred way to select index values is the special loc operator \n",
    "    * it indexes exclusively with labels\n",
    "\n",
    "- iloc operator indexes exclusively with integers\n",
    "\n",
    "- indexing options with DataFrame: https://wesmckinney.com/book/pandas-basics#tbl-table_dataframe_loc_iloc\n",
    "\n",
    "**Arithmetic and Data Alignment**\n",
    "- pandas can make it much simpler to work with objects that have different indexes.\n",
    "- arithmetic methods wiht fill values\n",
    "- Flexible arithmetic methods: https://wesmckinney.com/book/pandas-basics#tbl-table_flex_arith\n",
    "- Operations between DataFrame and Series\n",
    "\n",
    "**Function Application and Mapping**\n",
    "- numpy ufuncs (element-wise array methods) also works with pandas objects\n",
    "- we can also apply a function one 1-D arrays to each column or row\n",
    "\n",
    "**Sorting and Ranking**\n",
    "- 'sort index' is used to sort lexicographically by row or column label- it returns a new, sorted object.\n",
    "- With data frame, you can sort by index on either axis\n",
    "- 'sort values' is used to sort a series by its values \n",
    "    * Any missing values are sorted to the end of the series by default\n",
    "    * It can be sorted to the start instead by using the 'na_position' option\n",
    "- Ranking assigns rank from one throuhg the number of valid data points in an array - starting from the lowest values\n",
    "- DataFrame can computer ranks over the rows or the columns\n",
    "- Tie-breaking methods with rank: https://wesmckinney.com/book/pandas-basics#tbl-table_pandas_rank\n",
    "\n",
    "\n",
    "**Axis indexes with duplicate labels**\n",
    "- 'is_unique' property of the index can tell you whether or not its labels are unique"
   ]
  },
  {
   "cell_type": "code",
   "execution_count": 1,
   "metadata": {},
   "outputs": [
    {
     "name": "stdout",
     "output_type": "stream",
     "text": [
      "a    9\n",
      "b    8\n",
      "c    7\n",
      "d    6\n",
      "e    5\n",
      "f    4\n",
      "g    3\n",
      "h    2\n",
      "i    1\n",
      "dtype: int64\n"
     ]
    }
   ],
   "source": [
    "#object creation and assign index to it.\n",
    "import numpy as np\n",
    "import pandas as pd\n",
    "from pandas import Series, DataFrame\n",
    "\n",
    "object = pd.Series([9, 8, 7, 6, 5, 4, 3, 2, 1], \n",
    "index=[\"a\", \"b\", \"c\", \"d\", \"e\", \"f\", \"g\", \"h\", \"i\"])\n",
    "\n",
    "print(object)"
   ]
  },
  {
   "cell_type": "code",
   "execution_count": 3,
   "metadata": {},
   "outputs": [
    {
     "name": "stdout",
     "output_type": "stream",
     "text": [
      "f    4.0\n",
      "g    3.0\n",
      "h    2.0\n",
      "i    1.0\n",
      "a    9.0\n",
      "b    8.0\n",
      "c    7.0\n",
      "d    6.0\n",
      "e    5.0\n",
      "j    NaN\n",
      "k    NaN\n",
      "dtype: float64\n"
     ]
    }
   ],
   "source": [
    "#reindex\n",
    "re_index_object = object.reindex([\"f\", \"g\", \"h\", \"i\",\"a\", \"b\", \"c\", \"d\", \"e\", \"j\", \"k\"])\n",
    "print(re_index_object)"
   ]
  },
  {
   "cell_type": "code",
   "execution_count": 4,
   "metadata": {},
   "outputs": [
    {
     "data": {
      "text/plain": [
       "f    4.0\n",
       "g    3.0\n",
       "h    2.0\n",
       "i    1.0\n",
       "a    9.0\n",
       "b    8.0\n",
       "c    7.0\n",
       "d    6.0\n",
       "e    5.0\n",
       "j    NaN\n",
       "dtype: float64"
      ]
     },
     "execution_count": 4,
     "metadata": {},
     "output_type": "execute_result"
    }
   ],
   "source": [
    "#dropping entries\n",
    "drop_object = re_index_object.drop(\"k\")\n",
    "drop_object"
   ]
  },
  {
   "cell_type": "code",
   "execution_count": 10,
   "metadata": {},
   "outputs": [
    {
     "name": "stdout",
     "output_type": "stream",
     "text": [
      "f    4.0\n",
      "g    3.0\n",
      "h    2.0\n",
      "i    1.0\n",
      "a    9.0\n",
      "b    8.0\n",
      "c    7.0\n",
      "d    6.0\n",
      "e    5.0\n",
      "j    NaN\n",
      "dtype: float64\n",
      "3.0\n",
      "7.0\n",
      "j    NaN\n",
      "a    9.0\n",
      "d    6.0\n",
      "e    5.0\n",
      "dtype: float64\n",
      "i    1.0\n",
      "a    9.0\n",
      "b    8.0\n",
      "c    7.0\n",
      "dtype: float64\n"
     ]
    },
    {
     "name": "stderr",
     "output_type": "stream",
     "text": [
      "C:\\Users\\ASYIKIN\\AppData\\Local\\Temp\\ipykernel_21588\\4272507386.py:3: FutureWarning: Series.__getitem__ treating keys as positions is deprecated. In a future version, integer keys will always be treated as labels (consistent with DataFrame behavior). To access a value by position, use `ser.iloc[pos]`\n",
      "  print(drop_object[6])\n"
     ]
    }
   ],
   "source": [
    "print(drop_object)\n",
    "print(drop_object[\"g\"])\n",
    "print(drop_object[6])\n",
    "print(drop_object[[\"j\", \"a\", \"d\", \"e\"]])\n",
    "print(drop_object[3:7])\n",
    "\n"
   ]
  },
  {
   "cell_type": "code",
   "execution_count": 11,
   "metadata": {},
   "outputs": [
    {
     "data": {
      "text/plain": [
       "j    NaN\n",
       "a    9.0\n",
       "d    6.0\n",
       "e    5.0\n",
       "dtype: float64"
      ]
     },
     "execution_count": 11,
     "metadata": {},
     "output_type": "execute_result"
    }
   ],
   "source": [
    "#loc operator\n",
    "drop_object.loc[[\"j\", \"a\", \"d\", \"e\"]]"
   ]
  }
 ],
 "metadata": {
  "kernelspec": {
   "display_name": "base",
   "language": "python",
   "name": "python3"
  },
  "language_info": {
   "codemirror_mode": {
    "name": "ipython",
    "version": 3
   },
   "file_extension": ".py",
   "mimetype": "text/x-python",
   "name": "python",
   "nbconvert_exporter": "python",
   "pygments_lexer": "ipython3",
   "version": "3.12.4"
  }
 },
 "nbformat": 4,
 "nbformat_minor": 2
}
