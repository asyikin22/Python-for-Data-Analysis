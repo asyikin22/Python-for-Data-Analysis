{
 "cells": [
  {
   "cell_type": "markdown",
   "metadata": {},
   "source": [
    "**If - Elif - Else Statements**"
   ]
  },
  {
   "cell_type": "code",
   "execution_count": 1,
   "metadata": {},
   "outputs": [
    {
     "name": "stdout",
     "output_type": "stream",
     "text": [
      "This is true\n"
     ]
    }
   ],
   "source": [
    "if 20 > 5:\n",
    "    print(\"This is true\")\n"
   ]
  },
  {
   "cell_type": "code",
   "execution_count": 2,
   "metadata": {},
   "outputs": [],
   "source": [
    "if 20 < 5:\n",
    "    print(\"This is not true\")"
   ]
  },
  {
   "cell_type": "code",
   "execution_count": 3,
   "metadata": {},
   "outputs": [
    {
     "name": "stdout",
     "output_type": "stream",
     "text": [
      "This is true\n"
     ]
    }
   ],
   "source": [
    "#if-else\n",
    "if 20 > 5:\n",
    "    print(\"This is true\")\n",
    "else:\n",
    "    print(\"That is not true\")"
   ]
  },
  {
   "cell_type": "markdown",
   "metadata": {},
   "source": []
  },
  {
   "cell_type": "code",
   "execution_count": 4,
   "metadata": {},
   "outputs": [
    {
     "name": "stdout",
     "output_type": "stream",
     "text": [
      "That is not true\n"
     ]
    }
   ],
   "source": [
    "if 20 < 5:\n",
    "    print(\"This is true\")\n",
    "else:\n",
    "    print(\"That is not true\")"
   ]
  },
  {
   "cell_type": "code",
   "execution_count": 5,
   "metadata": {},
   "outputs": [
    {
     "name": "stdout",
     "output_type": "stream",
     "text": [
      "elif worked!\n"
     ]
    }
   ],
   "source": [
    "#elif\n",
    "if 20 < 5:\n",
    "    print(\"This is true\")\n",
    "elif 1 <2:\n",
    "    print('elif worked!')\n",
    "else:\n",
    "    print(\"That is not true\")"
   ]
  },
  {
   "cell_type": "code",
   "execution_count": 10,
   "metadata": {},
   "outputs": [
    {
     "name": "stdout",
     "output_type": "stream",
     "text": [
      "elif4 worked! \n",
      "          The initial 4 conditions were false, when it gets to the right one, \n",
      "          it will stop checking the other conditions altogether\n"
     ]
    }
   ],
   "source": [
    "if 20 < 5:\n",
    "    print(\"This is true\")\n",
    "elif 10 <2:\n",
    "    print('elif1 worked!')\n",
    "elif 11 <2:\n",
    "    print('elif2 worked!')\n",
    "elif 12 <2:\n",
    "    print('elif3 worked!')\n",
    "elif 1 < 20:\n",
    "    print('''elif4 worked! \n",
    "          The initial 4 conditions were false, when it gets to the right one, \n",
    "          it will stop checking the other conditions altogether''')\n",
    "else:\n",
    "    print(\"That is not true\")"
   ]
  },
  {
   "cell_type": "code",
   "execution_count": 8,
   "metadata": {},
   "outputs": [
    {
     "name": "stdout",
     "output_type": "stream",
     "text": [
      "This statement is true, python does not need to check the other conditions\n"
     ]
    }
   ],
   "source": [
    "#inlcude logical operator\n",
    "if 20 < 5 or 1 > 0:\n",
    "    print(\"This statement is true, python does not need to check the other conditions\")\n",
    "elif 10 <2:\n",
    "    print('elif1 worked!')\n",
    "elif 11 <2:\n",
    "    print('elif2 worked!')\n",
    "elif 12 <2:\n",
    "    print('elif3 worked!')\n",
    "elif 1 < 20:\n",
    "    print('elif4 worked!')\n",
    "else:\n",
    "    print(\"That is not true\")"
   ]
  },
  {
   "cell_type": "code",
   "execution_count": 12,
   "metadata": {},
   "outputs": [
    {
     "name": "stdout",
     "output_type": "stream",
     "text": [
      "This is false\n",
      "This is true\n"
     ]
    }
   ],
   "source": [
    "#print statement on one line\n",
    "print('This is true') if 1 > 2 else print (\"This is false\")\n",
    "print('This is true') if 2 > 1 else print (\"This is false\")"
   ]
  },
  {
   "cell_type": "code",
   "execution_count": 16,
   "metadata": {},
   "outputs": [
    {
     "name": "stdout",
     "output_type": "stream",
     "text": [
      "This statement is true\n",
      "This nested if statement is true\n"
     ]
    }
   ],
   "source": [
    "#nested if statements\n",
    "if 20 < 5 or 1 > 0:\n",
    "    print(\"This statement is true\")\n",
    "    if 3 < 6:\n",
    "        print('This nested if statement is true')\n",
    "elif 10 <2:\n",
    "    print('elif1 worked!')\n",
    "elif 11 <2:\n",
    "    print('elif2 worked!')\n",
    "elif 12 <2:\n",
    "    print('elif3 worked!')\n",
    "elif 13 < 2:\n",
    "    print('elif4 worked!')\n",
    "else:\n",
    "    print(\"That is not true\")"
   ]
  }
 ],
 "metadata": {
  "kernelspec": {
   "display_name": "base",
   "language": "python",
   "name": "python3"
  },
  "language_info": {
   "codemirror_mode": {
    "name": "ipython",
    "version": 3
   },
   "file_extension": ".py",
   "mimetype": "text/x-python",
   "name": "python",
   "nbconvert_exporter": "python",
   "pygments_lexer": "ipython3",
   "version": "3.12.4"
  }
 },
 "nbformat": 4,
 "nbformat_minor": 2
}
