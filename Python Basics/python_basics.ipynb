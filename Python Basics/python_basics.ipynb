{
 "cells": [
  {
   "cell_type": "code",
   "execution_count": null,
   "metadata": {},
   "outputs": [
    {
     "data": {
      "text/plain": [
       "[-1.78651981021253,\n",
       " 1.2938737829328186,\n",
       " -0.48575987728248127,\n",
       " 0.6266360870815825,\n",
       " 0.6701102988744038]"
      ]
     },
     "execution_count": 4,
     "metadata": {},
     "output_type": "execute_result"
    }
   ],
   "source": [
    "import numpy as np\n",
    "\n",
    "data = [np.random.standard_normal() for i in range(5)]\n",
    "\n",
    "data"
   ]
  },
  {
   "cell_type": "markdown",
   "metadata": {},
   "source": [
    "# Sequence\n",
    "\n",
    "1) Lists - bracket [...] - mutable\n",
    "2) Tuples - parentheses (...) - immutable\n",
    "3) Sets - unique values - curly braces {...} - mutable \n",
    "4) Dictionaries - key-value pairs - mutable "
   ]
  },
  {
   "cell_type": "markdown",
   "metadata": {},
   "source": [
    "# Language Semantics\n",
    "\n",
    "**Indentation, NOT braces**\n",
    "- a colon denotes the start of an intended code block\n",
    "\n",
    "**Everything is an object**\n",
    "- Every number, string, data structure, function, calss, module etc. exists in Python interpreter in Python object\n",
    "- each object has an associated type (integer, string, function) and internal data\n",
    "\n",
    "**Comments**\n",
    "- (#) any text that comes after hashtag will be ignored by Python\n",
    "\n",
    "**Function and object method calls**\n",
    "- we call functions using parentheses () and passing 0 or more arguments\n",
    "- Almost every object in python has attached functions = methods, which has access to object's internal contents\n",
    "\n",
    "**Variables and arguments passing**\n",
    "- when assigning a variable in Python, you're creating a REFERENCE to the object shown on the RIGHTHAND  side of the equal (=) signs\n",
    "\n",
    "**Dynamic references, strong types**\n",
    "- Python is a strongly typed language\n",
    "- every object has as a specific type (or class)\n",
    "\n",
    "**Attributes and Methods**\n",
    "- objects in python typically have both attributes and methods\n",
    "- attributes = other python objects stored inside the object\n",
    "- methods = functions associated with an object that can have access to the object's internal data\n",
    "\n",
    "**Ducktyping**\n",
    "- we use this to write funcitons or methods that work with any object that implements the required methods regardles of its specific types\n",
    "\n",
    "**Imports**\n",
    "- A module is a file with the .py extension containing python code\n",
    "\n",
    "**Binary Operators and comparisons**\n",
    "- Most of binary maths operations and comparisons use familair mathematical syntax \n",
    "\n",
    "**Mutable and Immutable Objects**\n",
    "- mutable = changeable \n",
    "- lists, dictionaries, NumPy arrays, types (classes)\n",
    "- Immutable = strings and tupples\n",
    "\n",
    "**Scalar Types**\n",
    "- built-in types to handle:\n",
    "    1) numerical data\n",
    "    2) strings\n",
    "    3) Boolean\n",
    "    4) Dates and time\n",
    "\n",
    "**Strings**\n",
    "- single quote, double quote, triple quote (line breaks)\n",
    "- we can change object to string using str()\n",
    "- Strings are unicode characters, it can be treated like other sequences\n",
    "- concatenation - add two strings together\n",
    "\n",
    "**Bytes**\n",
    "- it represents the binary data and are sequences of 8 bit values\n",
    "- each byte can hold a value from 0 to 255\n",
    "- it's used to handle raw binary data (files, network data, binary protocols)\n",
    "- syntax = b\n",
    "\n",
    "**Unicodes**\n",
    "- standard representation of text in writing systems around the world\n",
    "- syntax = regular quotes\n",
    "\n",
    "**Type casting**\n",
    "- type conversion\n",
    "- it's the process of converting a value from one data type to another\n",
    "\n",
    "**Date time**"
   ]
  },
  {
   "cell_type": "code",
   "execution_count": 5,
   "metadata": {},
   "outputs": [
    {
     "data": {
      "text/plain": [
       "[1, 2, 3]"
      ]
     },
     "execution_count": 5,
     "metadata": {},
     "output_type": "execute_result"
    }
   ],
   "source": [
    "#variable and argument passing\n",
    "a = [1, 2, 3]\n",
    "b = a\n",
    "b"
   ]
  },
  {
   "cell_type": "code",
   "execution_count": 7,
   "metadata": {},
   "outputs": [
    {
     "name": "stdout",
     "output_type": "stream",
     "text": [
      "a is <class 'float'>, b is <class 'int'>\n"
     ]
    },
    {
     "data": {
      "text/plain": [
       "2.25"
      ]
     },
     "execution_count": 7,
     "metadata": {},
     "output_type": "execute_result"
    }
   ],
   "source": [
    "#Dynamic references, strong types\n",
    "a = 4.5\n",
    "b = 2\n",
    "print(f'a is {type(a)}, b is {type(b)}')\n",
    "\n",
    "a/b"
   ]
  },
  {
   "cell_type": "code",
   "execution_count": 8,
   "metadata": {},
   "outputs": [
    {
     "name": "stdout",
     "output_type": "stream",
     "text": [
      "asyikin\n",
      "False\n",
      "True\n",
      "Asyikin\n",
      "ASYIKIN\n"
     ]
    }
   ],
   "source": [
    "#Attributes and methods\n",
    "\n",
    "a = 'asyikin'\n",
    "print(a)\n",
    "print(a.isnumeric())\n",
    "print(a.isprintable())\n",
    "print(a.capitalize())\n",
    "print(a.swapcase())\n"
   ]
  },
  {
   "cell_type": "code",
   "execution_count": 12,
   "metadata": {},
   "outputs": [
    {
     "name": "stdout",
     "output_type": "stream",
     "text": [
      "True\n",
      "True\n",
      "True\n"
     ]
    }
   ],
   "source": [
    "#Comparisons\n",
    "a = [1, 2, 3]\n",
    "b = a\n",
    "c = list(a)\n",
    "\n",
    "print(a is b)\n",
    "print (a is not c)\n",
    "print( a == c)"
   ]
  },
  {
   "cell_type": "code",
   "execution_count": 13,
   "metadata": {},
   "outputs": [
    {
     "data": {
      "text/plain": [
       "True"
      ]
     },
     "execution_count": 13,
     "metadata": {},
     "output_type": "execute_result"
    }
   ],
   "source": [
    "a = None\n",
    "a is None"
   ]
  },
  {
   "cell_type": "code",
   "execution_count": 14,
   "metadata": {},
   "outputs": [
    {
     "data": {
      "text/plain": [
       "['Lily', 2, [8, 10]]"
      ]
     },
     "execution_count": 14,
     "metadata": {},
     "output_type": "execute_result"
    }
   ],
   "source": [
    "# mutable objects\n",
    "a_list = ['Asyikin', 2, [8,10]]\n",
    "\n",
    "a_list [0] = 'Lily'\n",
    "a_list"
   ]
  },
  {
   "cell_type": "code",
   "execution_count": 17,
   "metadata": {},
   "outputs": [
    {
     "data": {
      "text/plain": [
       "5502119226477357649"
      ]
     },
     "execution_count": 17,
     "metadata": {},
     "output_type": "execute_result"
    }
   ],
   "source": [
    "#numeric types - integer\n",
    "evaluate = 2345659657\n",
    "evaluate * evaluate"
   ]
  },
  {
   "cell_type": "code",
   "execution_count": 21,
   "metadata": {},
   "outputs": [
    {
     "name": "stdout",
     "output_type": "stream",
     "text": [
      "71.6689230625\n",
      "71.66892\n"
     ]
    }
   ],
   "source": [
    "#numeric types - float \n",
    "\n",
    "float_eval = 8.46575\n",
    "result = float_eval ** 2\n",
    "three_dec_pt = round(result, 5)\n",
    "print(result)\n",
    "print(three_dec_pt)\n",
    "\n"
   ]
  },
  {
   "cell_type": "code",
   "execution_count": 26,
   "metadata": {},
   "outputs": [
    {
     "name": "stdout",
     "output_type": "stream",
     "text": [
      "This is a string in single quotes\n",
      "This is a string in double quotes\n",
      "4\n"
     ]
    }
   ],
   "source": [
    "# strings\n",
    "a = 'This is a string in single quotes'\n",
    "b = \"This is a string in double quotes\"\n",
    "c = '''\n",
    "this is a string which has \n",
    "multiples lines\n",
    "We learn something new every day!\n",
    "'''\n",
    "\n",
    "print(a)\n",
    "print(b)\n",
    "print(c.count('\\n'))"
   ]
  },
  {
   "cell_type": "code",
   "execution_count": 27,
   "metadata": {},
   "outputs": [
    {
     "data": {
      "text/plain": [
       "'This is a longer string in single quotes'"
      ]
     },
     "execution_count": 27,
     "metadata": {},
     "output_type": "execute_result"
    }
   ],
   "source": [
    "# strings are immutable but we can modify it.\n",
    "b = a.replace(\"string\", \"longer string\")\n",
    "b "
   ]
  },
  {
   "cell_type": "code",
   "execution_count": 31,
   "metadata": {},
   "outputs": [
    {
     "name": "stdout",
     "output_type": "stream",
     "text": [
      "['A', 's', 'y', 'i', 'k', 'i', 'n']\n",
      "Asyi\n"
     ]
    }
   ],
   "source": [
    "name = 'Asyikin'\n",
    "print(list(name))\n",
    "print(name[:4])"
   ]
  },
  {
   "cell_type": "code",
   "execution_count": 34,
   "metadata": {},
   "outputs": [
    {
     "name": "stdout",
     "output_type": "stream",
     "text": [
      "This is the first half of the string and this is the second of the string\n"
     ]
    }
   ],
   "source": [
    "# concatenation\n",
    "\n",
    "satu = 'This is the first half of the string'\n",
    "dua = 'This is the second of the string'\n",
    "print(f'{satu} and {dua.lower()}')"
   ]
  },
  {
   "cell_type": "code",
   "execution_count": 36,
   "metadata": {},
   "outputs": [
    {
     "data": {
      "text/plain": [
       "'20.66 AUD$ are worth RM7'"
      ]
     },
     "execution_count": 36,
     "metadata": {},
     "output_type": "execute_result"
    }
   ],
   "source": [
    "# string templating or formatting\n",
    "\n",
    "template = \"{0:.2f} {1:s} are worth RM{2:d}\"\n",
    "template.format(20.66, \"AUD$\", 7)"
   ]
  },
  {
   "cell_type": "code",
   "execution_count": 40,
   "metadata": {},
   "outputs": [
    {
     "name": "stdout",
     "output_type": "stream",
     "text": [
      "1MYR is worth AUD$0.34\n"
     ]
    }
   ],
   "source": [
    "# formatted string literals\n",
    "amount = 1\n",
    "rate = 2.95\n",
    "currency = 'MYR'\n",
    "result = f'{amount}{currency} is worth AUD${amount / rate:.2f}'\n",
    "print(result)"
   ]
  },
  {
   "cell_type": "code",
   "execution_count": 53,
   "metadata": {},
   "outputs": [
    {
     "name": "stdout",
     "output_type": "stream",
     "text": [
      "b'\\xe9\\x98\\xbf\\xe8\\xa5\\xbf\\xe7\\xa7\\xa6'\n",
      "b'\\xff\\xfe?\\x96\\x7f\\x89\\xe6y'\n",
      "b'Hello \\xf0\\x9f\\x98\\x8a\\xf0\\x9f\\x8c\\x8d'\n"
     ]
    }
   ],
   "source": [
    "# Encode method = string to bytes\n",
    "chinese_char = '阿西秦'\n",
    "b = chinese_char.encode(\"utf-8\")\n",
    "x = chinese_char.encode(\"utf-16\")\n",
    "print(b)\n",
    "print(x)\n",
    "\n",
    "emojis = 'Hello 😊🌍'\n",
    "c = emojis.encode('utf-8')\n",
    "print(c)"
   ]
  },
  {
   "cell_type": "code",
   "execution_count": 52,
   "metadata": {},
   "outputs": [
    {
     "name": "stdout",
     "output_type": "stream",
     "text": [
      "mañana\n"
     ]
    }
   ],
   "source": [
    "# Decode method = bytes to strings\n",
    "latin_y = b'ma\\xf1ana' \n",
    "d = latin_y.decode('latin-1')\n",
    "print(d)"
   ]
  },
  {
   "cell_type": "code",
   "execution_count": 57,
   "metadata": {},
   "outputs": [
    {
     "name": "stdout",
     "output_type": "stream",
     "text": [
      "True\n",
      "True\n",
      "False\n",
      "0\n",
      "1\n"
     ]
    }
   ],
   "source": [
    "# Booleans\n",
    "print(True and True)\n",
    "print(False or True)\n",
    "print(False and True)\n",
    "print(int(False))\n",
    "print(int(True))"
   ]
  },
  {
   "cell_type": "code",
   "execution_count": 59,
   "metadata": {},
   "outputs": [
    {
     "name": "stdout",
     "output_type": "stream",
     "text": [
      "False\n",
      "True\n"
     ]
    }
   ],
   "source": [
    "# not will flip Booelan values from True to False and vice versa\n",
    "x = True\n",
    "y = False\n",
    "print(not x)\n",
    "print(not y)"
   ]
  },
  {
   "cell_type": "code",
   "execution_count": 70,
   "metadata": {},
   "outputs": [
    {
     "name": "stdout",
     "output_type": "stream",
     "text": [
      "<class 'int'>\n",
      "12345\n",
      "<class 'str'>\n",
      "True\n"
     ]
    }
   ],
   "source": [
    "nombor = 12345\n",
    "print(type(nombor))\n",
    "tukar_int = (str(nombor))\n",
    "print(tukar_int)\n",
    "print(type(tukar_int))\n",
    "\n",
    "nom_bool = bool(nombor)\n",
    "print(nom_bool)\n"
   ]
  },
  {
   "cell_type": "code",
   "execution_count": 73,
   "metadata": {},
   "outputs": [
    {
     "name": "stdout",
     "output_type": "stream",
     "text": [
      "True\n",
      "True\n",
      "False\n"
     ]
    }
   ],
   "source": [
    "# None\n",
    "\n",
    "asyikin = None\n",
    "print(asyikin is None)\n",
    "\n",
    "lily = 10\n",
    "\n",
    "print(asyikin is not lily)\n",
    "print(lily is asyikin)"
   ]
  },
  {
   "cell_type": "markdown",
   "metadata": {},
   "source": [
    "# CONTROL FLOW\n",
    "- If, elif, else\n",
    "\n",
    "- For Loops\n",
    "    * Iterate over a collection (list or tuple)\n",
    "    * for value in collection: do something with value\n",
    "\n",
    "- Break keyword = exit for loop\n",
    "\n",
    "- Continue keyword = skip remainder or block\n",
    "\n",
    "- While Loop\n",
    "    * It specifies a condition and a block of code that is to be executed until the condition evaluates to false\n",
    "    * OR the loop is explicitly ended with 'break'\n",
    "\n",
    "- pass \n",
    "    * It's the no-op (or 'do nothing') statement in Python\n",
    "\n",
    "- range \n",
    "    * It generates a sequence of evenly spaced integers"
   ]
  },
  {
   "cell_type": "code",
   "execution_count": 84,
   "metadata": {},
   "outputs": [
    {
     "name": "stdout",
     "output_type": "stream",
     "text": [
      "This number is a positive number but it's smaller than 22\n"
     ]
    }
   ],
   "source": [
    "# if\n",
    "\n",
    "x = int(input('Choose a number: '))\n",
    "if x < 0:\n",
    "    print(\"It's a negative number\")\n",
    "elif x == 0:\n",
    "    print('The number is equal to zero')\n",
    "elif 0 < x < 22:\n",
    "    print('This number is a positive number but it\\'s smaller than 22')\n",
    "else:\n",
    "    print(\"This number is a positive number and larger than or equal to 22\")"
   ]
  },
  {
   "cell_type": "code",
   "execution_count": 85,
   "metadata": {},
   "outputs": [
    {
     "data": {
      "text/plain": [
       "[0, 1, 2, 3, 4, 5, 6, 7, 8, 9, 10, 11, 12, 13, 14, 15, 16, 17, 18, 19]"
      ]
     },
     "execution_count": 85,
     "metadata": {},
     "output_type": "execute_result"
    }
   ],
   "source": [
    "# range\n",
    "list(range(20))"
   ]
  },
  {
   "cell_type": "code",
   "execution_count": null,
   "metadata": {},
   "outputs": [],
   "source": []
  },
  {
   "cell_type": "code",
   "execution_count": null,
   "metadata": {},
   "outputs": [],
   "source": []
  },
  {
   "cell_type": "code",
   "execution_count": null,
   "metadata": {},
   "outputs": [],
   "source": []
  },
  {
   "cell_type": "code",
   "execution_count": null,
   "metadata": {},
   "outputs": [],
   "source": []
  }
 ],
 "metadata": {
  "kernelspec": {
   "display_name": "base",
   "language": "python",
   "name": "python3"
  },
  "language_info": {
   "codemirror_mode": {
    "name": "ipython",
    "version": 3
   },
   "file_extension": ".py",
   "mimetype": "text/x-python",
   "name": "python",
   "nbconvert_exporter": "python",
   "pygments_lexer": "ipython3",
   "version": "3.12.4"
  }
 },
 "nbformat": 4,
 "nbformat_minor": 2
}
