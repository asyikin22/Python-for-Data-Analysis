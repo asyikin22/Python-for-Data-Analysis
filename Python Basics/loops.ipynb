{
 "cells": [
  {
   "cell_type": "markdown",
   "metadata": {},
   "source": [
    "**FOR LOOPS**\n",
    "- It's used to iterate over a sequence\n",
    "- it will iterate over a sequence regarldess of a conditions\n",
    "- it can be a list, tuple, array or dictionary "
   ]
  },
  {
   "cell_type": "code",
   "execution_count": 1,
   "metadata": {},
   "outputs": [
    {
     "name": "stdout",
     "output_type": "stream",
     "text": [
      "1\n",
      "2\n",
      "3\n",
      "4\n",
      "5\n"
     ]
    }
   ],
   "source": [
    "#syntax\n",
    "numbers = [1, 2, 3, 4, 5]\n",
    "for num in numbers:\n",
    "    print(num)"
   ]
  },
  {
   "cell_type": "code",
   "execution_count": 2,
   "metadata": {},
   "outputs": [
    {
     "name": "stdout",
     "output_type": "stream",
     "text": [
      "blah\n",
      "blah\n",
      "blah\n",
      "blah\n",
      "blah\n"
     ]
    }
   ],
   "source": [
    "numbers = [1, 2, 3, 4, 5]\n",
    "for num in numbers:\n",
    "    print('blah')"
   ]
  },
  {
   "cell_type": "markdown",
   "metadata": {},
   "source": [
    "**Looping through dictionary**\n",
    "- keys() method will return all the keys\n",
    "- values() method will return all the values\n",
    "- items() method will return keys and value"
   ]
  },
  {
   "cell_type": "code",
   "execution_count": 10,
   "metadata": {},
   "outputs": [
    {
     "name": "stdout",
     "output_type": "stream",
     "text": [
      "keys() method:\n",
      "temperatures\n",
      "humidity\n",
      "condition\n",
      "fav weather\n",
      "\n",
      "values() method:\n",
      "32°C\n",
      "85%\n",
      "partly cloudy\n",
      "['rainy', 'gloomy']\n",
      "\n",
      "items method:\n",
      "temperatures : 32°C\n",
      "humidity : 85%\n",
      "condition : partly cloudy\n",
      "fav weather : ['rainy', 'gloomy']\n"
     ]
    }
   ],
   "source": [
    "weather_forecast = {\n",
    "    'temperatures': '32°C',\n",
    "    'humidity' : '85%',\n",
    "    'condition' : 'partly cloudy',\n",
    "    'fav weather': ['rainy', 'gloomy']\n",
    "}\n",
    "\n",
    "print('keys() method:')\n",
    "for i in weather_forecast.keys():\n",
    "    print(i)\n",
    "print('\\nvalues() method:')\n",
    "for i in weather_forecast.values():\n",
    "    print(i)\n",
    "print('\\nitems method:')\n",
    "for key, value in weather_forecast.items():\n",
    "    print(key, ':', value)"
   ]
  },
  {
   "cell_type": "markdown",
   "metadata": {},
   "source": [
    "**Nested for loops - lists**"
   ]
  },
  {
   "cell_type": "code",
   "execution_count": 15,
   "metadata": {},
   "outputs": [
    {
     "name": "stdout",
     "output_type": "stream",
     "text": [
      "\n",
      "This loop will iterate over shapes and assign all 3 colors to it\n",
      "yellow is rectangle\n",
      "yellow is square\n",
      "yellow is circle\n",
      "blue is rectangle\n",
      "blue is square\n",
      "blue is circle\n",
      "red is rectangle\n",
      "red is square\n",
      "red is circle\n",
      "\n",
      "This loop will iterate over colors and assign all 3 shapes to it\n",
      "The shape rectangle is yellow in color\n",
      "The shape square is yellow in color\n",
      "The shape circle is yellow in color\n",
      "The shape rectangle is blue in color\n",
      "The shape square is blue in color\n",
      "The shape circle is blue in color\n",
      "The shape rectangle is red in color\n",
      "The shape square is red in color\n",
      "The shape circle is red in color\n"
     ]
    }
   ],
   "source": [
    "colors = [\"yellow\", \"blue\", \"red\"]\n",
    "shapes = [\"rectangle\", \"square\", \"circle\"]\n",
    "\n",
    "print('\\nThis loop will iterate over colors and assign all 3 shapes to it')\n",
    "for one in colors:\n",
    "    for two in shapes:\n",
    "        print(f'{one} is {two}')\n",
    "\n",
    "print('\\nThis loop will iterate over shapes and assign all 3 colors to it')\n",
    "for one in colors:\n",
    "    for two in shapes:\n",
    "        print(f'The shape {two} is {one} in color')"
   ]
  },
  {
   "cell_type": "markdown",
   "metadata": {},
   "source": [
    "**WHILE LOOPS**\n",
    "- it's used to iterate over a block of code as long as the test condition is true\n",
    "- it will iterate over a sequence regarldess of a conditions\n",
    "- while loop will only iterate over sequence as long as a specific condition is met. \n",
    "- once the condition is not met, the loop will stop"
   ]
  },
  {
   "cell_type": "code",
   "execution_count": 17,
   "metadata": {},
   "outputs": [
    {
     "name": "stdout",
     "output_type": "stream",
     "text": [
      "0\n",
      "1\n",
      "2\n",
      "3\n",
      "4\n"
     ]
    }
   ],
   "source": [
    "nombor = 0\n",
    "while nombor < 5:\n",
    "    print(nombor)\n",
    "    nombor += 1"
   ]
  },
  {
   "cell_type": "markdown",
   "metadata": {},
   "source": [
    "**Break statement**\n",
    "- it will stop the loop even if the while condition is true. "
   ]
  },
  {
   "cell_type": "code",
   "execution_count": 18,
   "metadata": {},
   "outputs": [
    {
     "name": "stdout",
     "output_type": "stream",
     "text": [
      "0\n",
      "1\n",
      "2\n"
     ]
    }
   ],
   "source": [
    "nombor = 0\n",
    "while nombor < 5:\n",
    "    print(nombor)\n",
    "    if nombor == 2:\n",
    "        break\n",
    "    nombor += 1"
   ]
  },
  {
   "cell_type": "markdown",
   "metadata": {},
   "source": [
    "**Else Statement**\n"
   ]
  },
  {
   "cell_type": "code",
   "execution_count": 19,
   "metadata": {},
   "outputs": [
    {
     "name": "stdout",
     "output_type": "stream",
     "text": [
      "0\n",
      "1\n",
      "2\n",
      "3\n",
      "4\n",
      "No longer < 5\n"
     ]
    }
   ],
   "source": [
    "nombor = 0\n",
    "while nombor < 5:\n",
    "    print(nombor)\n",
    "    if nombor == 6:\n",
    "        break\n",
    "    nombor += 1\n",
    "\n",
    "else: \n",
    "    print(\"No longer < 5\")"
   ]
  },
  {
   "cell_type": "markdown",
   "metadata": {},
   "source": [
    "**Continue statement**\n",
    "- if continue statement is triggered, it will reject all remaining statemnet"
   ]
  },
  {
   "cell_type": "code",
   "execution_count": 20,
   "metadata": {},
   "outputs": [
    {
     "name": "stdout",
     "output_type": "stream",
     "text": [
      "The following code will not stop running if we put continue statement in it\n"
     ]
    }
   ],
   "source": [
    "print(\"The commented out code will not stop running if we put continue statement in it\")\n",
    "# nombor = 0\n",
    "# while nombor < 5:\n",
    "#     print(nombor)\n",
    "#     if nombor == 6:\n",
    "#         continue\n",
    "#     nombor += 1\n",
    "\n",
    "# else: \n",
    "#     print(\"No longer < 5\")"
   ]
  },
  {
   "cell_type": "code",
   "execution_count": 23,
   "metadata": {},
   "outputs": [
    {
     "name": "stdout",
     "output_type": "stream",
     "text": [
      "Notice how number 3 is skipped in this code:\n",
      "1\n",
      "2\n",
      "4\n",
      "5\n",
      "No longer < 5\n"
     ]
    }
   ],
   "source": [
    "print(\"Notice how number 3 is skipped in this code:\")\n",
    "nombor = 0\n",
    "while nombor < 5:\n",
    "    nombor += 1\n",
    "    if nombor == 3:\n",
    "        continue\n",
    "    print(nombor)\n",
    "   \n",
    "\n",
    "else: \n",
    "    print(\"No longer < 5\")"
   ]
  }
 ],
 "metadata": {
  "kernelspec": {
   "display_name": "base",
   "language": "python",
   "name": "python3"
  },
  "language_info": {
   "codemirror_mode": {
    "name": "ipython",
    "version": 3
   },
   "file_extension": ".py",
   "mimetype": "text/x-python",
   "name": "python",
   "nbconvert_exporter": "python",
   "pygments_lexer": "ipython3",
   "version": "3.12.4"
  }
 },
 "nbformat": 4,
 "nbformat_minor": 2
}
