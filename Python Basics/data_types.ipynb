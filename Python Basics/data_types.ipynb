{
 "cells": [
  {
   "cell_type": "markdown",
   "metadata": {},
   "source": [
    "* Data types are the classification of the data you are storing\n",
    "* It tells you what operations can be performed on your data\n",
    "* Main data type:\n",
    "    1) numeric\n",
    "    2) sequence type\n",
    "    3) Set\n",
    "    4) Boolean\n",
    "    5) Dictionary\n"
   ]
  },
  {
   "cell_type": "markdown",
   "metadata": {},
   "source": [
    "**NUMERIC**\n",
    "- There are 3 different types:\n",
    "    1) Integers --> whole numbers (-ve or +ve)\n",
    "    2) Floats --> decimal numbers\n",
    "    3) Complex Numbers"
   ]
  },
  {
   "cell_type": "markdown",
   "metadata": {},
   "source": []
  },
  {
   "cell_type": "code",
   "execution_count": 4,
   "metadata": {},
   "outputs": [
    {
     "name": "stdout",
     "output_type": "stream",
     "text": [
      "<class 'int'> <class 'int'> <class 'int'>\n"
     ]
    }
   ],
   "source": [
    "x = type(22)\n",
    "y = type(-100)\n",
    "z = type(-4 + 8)\n",
    "print(x, y, z)"
   ]
  },
  {
   "cell_type": "code",
   "execution_count": 10,
   "metadata": {},
   "outputs": [
    {
     "name": "stdout",
     "output_type": "stream",
     "text": [
      "<class 'float'>\n",
      "This is a complex number <class 'complex'>\n"
     ]
    }
   ],
   "source": [
    "a = type (22.5)\n",
    "x = 3j\n",
    "b = type (22 + x)\n",
    "print(a)\n",
    "print(f'This is a complex number {b}')"
   ]
  },
  {
   "cell_type": "markdown",
   "metadata": {},
   "source": [
    "**Boolean**\n",
    "- It only has 2 data types = True or False\n",
    "- we can use this in comparison operators"
   ]
  },
  {
   "cell_type": "code",
   "execution_count": 11,
   "metadata": {},
   "outputs": [
    {
     "data": {
      "text/plain": [
       "bool"
      ]
     },
     "execution_count": 11,
     "metadata": {},
     "output_type": "execute_result"
    }
   ],
   "source": [
    "type (False)"
   ]
  },
  {
   "cell_type": "code",
   "execution_count": 12,
   "metadata": {},
   "outputs": [
    {
     "data": {
      "text/plain": [
       "False"
      ]
     },
     "execution_count": 12,
     "metadata": {},
     "output_type": "execute_result"
    }
   ],
   "source": [
    "22 > 30"
   ]
  },
  {
   "cell_type": "code",
   "execution_count": 13,
   "metadata": {},
   "outputs": [
    {
     "data": {
      "text/plain": [
       "True"
      ]
     },
     "execution_count": 13,
     "metadata": {},
     "output_type": "execute_result"
    }
   ],
   "source": [
    "100 < 1000"
   ]
  },
  {
   "cell_type": "markdown",
   "metadata": {},
   "source": [
    "**Strings**\n",
    "- it's representing unicode characters\n",
    "- single & double quotes\n",
    "- triple quotes (multi lines)\n"
   ]
  },
  {
   "cell_type": "code",
   "execution_count": 16,
   "metadata": {},
   "outputs": [
    {
     "name": "stdout",
     "output_type": "stream",
     "text": [
      "\n",
      "Golden grains whisper,\n",
      "In fields where sunlight dances,\n",
      "Harvest feeds the world.\n",
      "\n",
      "<class 'str'>\n"
     ]
    }
   ],
   "source": [
    "my_Haiku = '''\n",
    "Golden grains whisper,\n",
    "In fields where sunlight dances,\n",
    "Harvest feeds the world.\n",
    "'''\n",
    "\n",
    "print(my_Haiku)\n",
    "print(type(my_Haiku))"
   ]
  },
  {
   "cell_type": "markdown",
   "metadata": {},
   "source": [
    "**Index**\n",
    "- it's a method used to find the position of an elements in a list, string o other iterables\n",
    "- in a string, this method can be used to find the position of a substring"
   ]
  },
  {
   "cell_type": "code",
   "execution_count": 23,
   "metadata": {},
   "outputs": [
    {
     "name": "stdout",
     "output_type": "stream",
     "text": [
      "Hello\n",
      "d\n",
      "l\n",
      "Hell\n"
     ]
    },
    {
     "data": {
      "text/plain": [
       "'Hello WorldHello World'"
      ]
     },
     "execution_count": 23,
     "metadata": {},
     "output_type": "execute_result"
    }
   ],
   "source": [
    "greeting = 'Hello World'\n",
    "print(greeting[:5])\n",
    "print(greeting[10])\n",
    "print(greeting[-2])\n",
    "print(greeting[0:4])\n",
    "\n",
    "greeting * 5\n",
    "greeting + greeting"
   ]
  },
  {
   "cell_type": "markdown",
   "metadata": {},
   "source": [
    "**Lists**\n",
    "- It can store multiple separate values\n",
    "- Lists use bracket signs [  ]\n",
    "- It's indexed the same way as string \n",
    "- We don't have to use quotes for strings values\n",
    "- But we do for numbers\n",
    "- several data types can exist in one list\n",
    "- it's changeable "
   ]
  },
  {
   "cell_type": "code",
   "execution_count": 39,
   "metadata": {},
   "outputs": [
    {
     "name": "stdout",
     "output_type": "stream",
     "text": [
      "7\n",
      "8\n",
      "9\n",
      "kucing\n",
      "lembu\n",
      "ayam\n",
      "['BLUE', 22, ['ayam', 'kucing'], False]\n",
      "[7, 8, 9, '10']\n",
      "['ayam', 'lembu', 'itik']\n",
      "22\n",
      "This item is in the third position in the list, first inside nested list: ayam\n"
     ]
    }
   ],
   "source": [
    "# numbers\n",
    "senarai = [7, 8, 9]\n",
    "print(senarai[0])\n",
    "print(senarai[1])\n",
    "print(senarai[2])\n",
    "\n",
    "# strings\n",
    "haiwan = ['ayam', 'lembu', 'kucing']\n",
    "print(haiwan[2])\n",
    "print(haiwan[1])\n",
    "print(haiwan[0])\n",
    "\n",
    "# mixed data types\n",
    "campur =['BLUE', 22, ['ayam', 'kucing'], False]\n",
    "print(campur)\n",
    "\n",
    "#it's changeable - use append to add number at the end \n",
    "senarai = [7, 8, 9]\n",
    "senarai.append('10')\n",
    "print(senarai)\n",
    "\n",
    "# use index to change item in a specific position\n",
    "haiwan = ['ayam', 'lembu', 'kucing']\n",
    "haiwan [2] = 'itik'\n",
    "print(haiwan)\n",
    "\n",
    "#nested lists\n",
    "campur =['BLUE', 22, ['ayam', 'kucing'], False]\n",
    "print(campur[1])\n",
    "print(f'This item is in the third position in the list, first inside nested list: {campur[2][0]}')"
   ]
  },
  {
   "cell_type": "markdown",
   "metadata": {},
   "source": [
    "**TUPLES**\n",
    "- It is kind of similar to list but it's immutable \n",
    "- cannot modify or change\n",
    "- it's also using bracket signs / parentheses"
   ]
  },
  {
   "cell_type": "code",
   "execution_count": 42,
   "metadata": {},
   "outputs": [
    {
     "name": "stdout",
     "output_type": "stream",
     "text": [
      "<class 'tuple'>\n",
      "3\n"
     ]
    }
   ],
   "source": [
    "tuples = (1, 2, 3, 4, 5)\n",
    "print(type(tuples))\n",
    "print(tuples[2])"
   ]
  },
  {
   "cell_type": "markdown",
   "metadata": {},
   "source": [
    "**SETS**\n",
    "- it represents data type that represents an UNORDERED collection of unique elements\n",
    "- it does not allow duplicates\n",
    "- We cannot access its index point\n",
    "- mutable ---> we change elements from a set after it's created\n",
    "- it's using curly braces { }"
   ]
  },
  {
   "cell_type": "code",
   "execution_count": 51,
   "metadata": {},
   "outputs": [
    {
     "name": "stdout",
     "output_type": "stream",
     "text": [
      "<class 'set'>\n",
      "{1, 2, 3, 4, 5}\n",
      "Only UNIQUE values will be printed out: {1, 2, 3, 4, 5}\n",
      "{1, 2, 3, 4, 5, 33, 100, 49, 82, 56}\n",
      "Nothing is printed out bcs nothing matches lol: set()\n"
     ]
    }
   ],
   "source": [
    "nombor = {1, 2, 3, 4, 5}\n",
    "print(type(nombor))\n",
    "print(nombor)\n",
    "\n",
    "nombor_set = {1,1,2,1,2,4,5,4,3,3,5}\n",
    "nombor_set2 = {33, 56, 82, 49, 33, 33, 49, 56, 100}\n",
    "print(f'Only UNIQUE values will be printed out: {nombor_set}')\n",
    "\n",
    "# we can combine two sets of sets but it will only pickup unique values\n",
    "print(nombor_set | nombor_set2)\n",
    "\n",
    "# but if we use ampersand (&) it will only grab what BOTH sets have\n",
    "print(f'Nothing is printed out bcs nothing matches lol: {nombor_set & nombor_set2}')\n",
    "\n"
   ]
  },
  {
   "cell_type": "markdown",
   "metadata": {},
   "source": [
    "**Dictionries**\n",
    "- it stores data as key-value pairs\n",
    "- in other programming language, it's called associative arrays or hash maps\n",
    "- it's unordered\n",
    "- it's mutable ---> can change\n",
    "- it has unique keys\n",
    "- it uses squiggly brackets {  }"
   ]
  },
  {
   "cell_type": "code",
   "execution_count": 59,
   "metadata": {},
   "outputs": [
    {
     "name": "stdout",
     "output_type": "stream",
     "text": [
      "<class 'dict'>\n",
      "{'temperatures': '32°C', 'humidity': '85%', 'condition': 'partly cloudy', 'wind_speed': '15 km/h', 'chance of rain': '40%', 'hourly_forecast': [{'time': '8pm', 'temp': '32°C'}, {'time': '9pm', 'temp': '29°C'}, {'time': '10pm', 'temp': '27°C'}]}\n",
      "\n",
      "\n",
      "40%\n"
     ]
    }
   ],
   "source": [
    "dict_weather= {\n",
    "    'temperatures': '32°C',\n",
    "    'humidity' : '85%',\n",
    "    'condition' : 'partly cloudy',\n",
    "    'wind_speed': '15 km/h',\n",
    "    'chance of rain': '40%',\n",
    "    'hourly_forecast': [\n",
    "        {'time': '8pm', 'temp' :'32°C'},\n",
    "        {'time': '9pm', 'temp' :'29°C'},\n",
    "        {'time': '10pm', 'temp' :'27°C'}\n",
    "    ]\n",
    "}\n",
    "\n",
    "print(type(dict_weather))\n",
    "print(dict_weather)\n",
    "\n",
    "#we call dictionaries by its keys\n",
    "print(dict_weather['chance of rain'])"
   ]
  },
  {
   "cell_type": "markdown",
   "metadata": {},
   "source": [
    "# Converting Data Types"
   ]
  },
  {
   "cell_type": "code",
   "execution_count": 3,
   "metadata": {},
   "outputs": [
    {
     "data": {
      "text/plain": [
       "int"
      ]
     },
     "execution_count": 3,
     "metadata": {},
     "output_type": "execute_result"
    }
   ],
   "source": [
    "num_int = 22\n",
    "type(num_int)"
   ]
  },
  {
   "cell_type": "code",
   "execution_count": 4,
   "metadata": {},
   "outputs": [
    {
     "data": {
      "text/plain": [
       "str"
      ]
     },
     "execution_count": 4,
     "metadata": {},
     "output_type": "execute_result"
    }
   ],
   "source": [
    "num_str = '22'\n",
    "type(num_str)"
   ]
  },
  {
   "cell_type": "code",
   "execution_count": 6,
   "metadata": {},
   "outputs": [
    {
     "data": {
      "text/plain": [
       "int"
      ]
     },
     "execution_count": 6,
     "metadata": {},
     "output_type": "execute_result"
    }
   ],
   "source": [
    "num_str_conv = int(num_str)\n",
    "type(num_str_conv)"
   ]
  },
  {
   "cell_type": "code",
   "execution_count": 7,
   "metadata": {},
   "outputs": [
    {
     "name": "stdout",
     "output_type": "stream",
     "text": [
      "44\n"
     ]
    }
   ],
   "source": [
    "jumlah = num_int + num_str_conv\n",
    "print(jumlah)"
   ]
  },
  {
   "cell_type": "markdown",
   "metadata": {},
   "source": [
    "**Convert Lists, Sets and Tuples**\n"
   ]
  },
  {
   "cell_type": "code",
   "execution_count": 8,
   "metadata": {},
   "outputs": [
    {
     "data": {
      "text/plain": [
       "list"
      ]
     },
     "execution_count": 8,
     "metadata": {},
     "output_type": "execute_result"
    }
   ],
   "source": [
    "list_type = [1, 2, 3, 4, 5]\n",
    "type(list_type)"
   ]
  },
  {
   "cell_type": "code",
   "execution_count": 9,
   "metadata": {},
   "outputs": [
    {
     "data": {
      "text/plain": [
       "tuple"
      ]
     },
     "execution_count": 9,
     "metadata": {},
     "output_type": "execute_result"
    }
   ],
   "source": [
    "#convert list to tuple\n",
    "type(tuple(list_type))"
   ]
  },
  {
   "cell_type": "code",
   "execution_count": 16,
   "metadata": {},
   "outputs": [
    {
     "name": "stdout",
     "output_type": "stream",
     "text": [
      "<class 'list'>\n",
      "Lists converted to set: {1, 2, 3, 4, 5}\n"
     ]
    }
   ],
   "source": [
    "#convert sets to list\n",
    "# remember sets will only allow you to grab unique values\n",
    "\n",
    "list_type = [1, 2, 3, 2, 2, 2, 4, 1, 5, 2, 2, 3]\n",
    "print(type(list_type))\n",
    "\n",
    "conv_list_set = set(list_type)\n",
    "print(f'Lists converted to set: {conv_list_set}')"
   ]
  },
  {
   "cell_type": "markdown",
   "metadata": {},
   "source": [
    "**Converting dictionaries**"
   ]
  },
  {
   "cell_type": "code",
   "execution_count": 20,
   "metadata": {},
   "outputs": [
    {
     "name": "stdout",
     "output_type": "stream",
     "text": [
      "<class 'dict'>\n",
      "dict_items([('name', 'Asyikin'), ('age', 20), ('height', '5ft')])\n",
      "dict_values(['Asyikin', 20, '5ft'])\n",
      "dict_keys(['name', 'age', 'height'])\n"
     ]
    }
   ],
   "source": [
    "dict_type = {'name': 'Asyikin', 'age': 20, 'height': '5ft'}\n",
    "print(type(dict_type))\n",
    "print(dict_type.items())\n",
    "print(dict_type.values())\n",
    "print(dict_type.keys())"
   ]
  },
  {
   "cell_type": "code",
   "execution_count": 22,
   "metadata": {},
   "outputs": [
    {
     "name": "stdout",
     "output_type": "stream",
     "text": [
      "['name', 'age', 'height']\n",
      "['Asyikin', 20, '5ft']\n"
     ]
    }
   ],
   "source": [
    "#convert dict to lists\n",
    "print(list(dict_type.keys()))\n",
    "print(list(dict_type.values()))"
   ]
  },
  {
   "cell_type": "markdown",
   "metadata": {},
   "source": [
    "**Convert strings to lists**"
   ]
  },
  {
   "cell_type": "code",
   "execution_count": 23,
   "metadata": {},
   "outputs": [
    {
     "data": {
      "text/plain": [
       "['I', ' ', 'l', 'o', 'v', 'e', ' ', 't', 'o', ' ', 's', 'l', 'e', 'e', 'p']"
      ]
     },
     "execution_count": 23,
     "metadata": {},
     "output_type": "execute_result"
    }
   ],
   "source": [
    "str_panjang = 'I love to sleep'\n",
    "list(str_panjang)"
   ]
  },
  {
   "cell_type": "code",
   "execution_count": 24,
   "metadata": {},
   "outputs": [
    {
     "data": {
      "text/plain": [
       "{' ', 'I', 'e', 'l', 'o', 'p', 's', 't', 'v'}"
      ]
     },
     "execution_count": 24,
     "metadata": {},
     "output_type": "execute_result"
    }
   ],
   "source": [
    "str_panjang = 'I love to sleep'\n",
    "set(str_panjang)"
   ]
  },
  {
   "cell_type": "code",
   "execution_count": null,
   "metadata": {},
   "outputs": [],
   "source": []
  }
 ],
 "metadata": {
  "kernelspec": {
   "display_name": "base",
   "language": "python",
   "name": "python3"
  },
  "language_info": {
   "codemirror_mode": {
    "name": "ipython",
    "version": 3
   },
   "file_extension": ".py",
   "mimetype": "text/x-python",
   "name": "python",
   "nbconvert_exporter": "python",
   "pygments_lexer": "ipython3",
   "version": "3.12.4"
  }
 },
 "nbformat": 4,
 "nbformat_minor": 2
}
