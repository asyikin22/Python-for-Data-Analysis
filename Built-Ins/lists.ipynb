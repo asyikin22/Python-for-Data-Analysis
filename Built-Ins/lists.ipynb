{
 "cells": [
  {
   "cell_type": "markdown",
   "metadata": {},
   "source": [
    "# Data Structures\n",
    "\n",
    "1) Lists - bracket [...] - mutable\n",
    "\n",
    "2) Tuples - parentheses (...) - immutable\n",
    "\n",
    "3) Sets - unique values - curly braces {...} - mutable \n",
    "\n",
    "4) Dictionaries - key-value pairs - mutable "
   ]
  },
  {
   "cell_type": "code",
   "execution_count": 3,
   "metadata": {},
   "outputs": [
    {
     "name": "stdout",
     "output_type": "stream",
     "text": [
      "('Lily', 'Austin', 'Liam')\n",
      "['Lily', 'Austin', 'Liam']\n",
      "['Lily', 'Asyikin', 'Liam']\n"
     ]
    }
   ],
   "source": [
    "a_list = [5, 4, 3, None]\n",
    "\n",
    "tup = ('Lily', 'Austin', 'Liam')\n",
    "\n",
    "b_list = list(tup)\n",
    "\n",
    "print(tup)\n",
    "print(b_list)\n",
    "\n",
    "#change item in a list\n",
    "b_list[1]='Asyikin'\n",
    "print(b_list)"
   ]
  },
  {
   "cell_type": "code",
   "execution_count": 5,
   "metadata": {},
   "outputs": [
    {
     "name": "stdout",
     "output_type": "stream",
     "text": [
      "range(0, 10)\n",
      "[0, 1, 2, 3, 4, 5, 6, 7, 8, 9]\n"
     ]
    }
   ],
   "source": [
    "x = range(10)\n",
    "print(x)\n",
    "print(list(x))"
   ]
  },
  {
   "cell_type": "markdown",
   "metadata": {},
   "source": [
    "**Add and remove elements**\n",
    "- append() adds new item at the end of list\n",
    "- insert() adds new item in a specific location\n",
    "- pop() removes item at a particular index\n",
    "- remove() removes the first specified value it's located from the list"
   ]
  },
  {
   "cell_type": "code",
   "execution_count": 9,
   "metadata": {},
   "outputs": [
    {
     "name": "stdout",
     "output_type": "stream",
     "text": [
      "['kucing', 'ayam', 'lembu', 'ikan', 'semut']\n"
     ]
    }
   ],
   "source": [
    "animals = ['kucing', 'ayam', 'lembu', 'ikan']\n",
    "y = animals.append(\"semut\")\n",
    "\n",
    "print(animals)\n"
   ]
  },
  {
   "cell_type": "code",
   "execution_count": 2,
   "metadata": {},
   "outputs": [
    {
     "data": {
      "text/plain": [
       "['kucing', 'ayam', 'turtle', 'lembu', 'ikan']"
      ]
     },
     "execution_count": 2,
     "metadata": {},
     "output_type": "execute_result"
    }
   ],
   "source": [
    "pets = ['kucing', 'ayam', 'lembu', 'ikan']\n",
    "pets.insert(2, \"turtle\")\n",
    "pets"
   ]
  },
  {
   "cell_type": "code",
   "execution_count": 14,
   "metadata": {},
   "outputs": [
    {
     "name": "stdout",
     "output_type": "stream",
     "text": [
      "['kucing', 'ayam', 'lembu', 'ikan', 'parrot']\n"
     ]
    }
   ],
   "source": [
    "pets2 = ['kucing', 'ayam', 'lembu', 'ikan', 'parrot']\n",
    "print(pets2)"
   ]
  },
  {
   "cell_type": "code",
   "execution_count": 17,
   "metadata": {},
   "outputs": [
    {
     "name": "stdout",
     "output_type": "stream",
     "text": [
      "True\n",
      "True\n"
     ]
    }
   ],
   "source": [
    "print('ayam' in pets2)\n",
    "print(\"anjing\" not in pets2)"
   ]
  },
  {
   "cell_type": "markdown",
   "metadata": {},
   "source": [
    "**Concatenate and combining lists**\n",
    "- extend operator\n",
    "- extend() method"
   ]
  },
  {
   "cell_type": "code",
   "execution_count": 22,
   "metadata": {},
   "outputs": [
    {
     "name": "stdout",
     "output_type": "stream",
     "text": [
      "['asyikin', None, 22, 1, 2, 3, 4, (5, 6)]\n",
      "['asyikin', None, 22, 1, 2, 3, 4, (5, 6), 7, 8, 9, [0, 1]]\n"
     ]
    }
   ],
   "source": [
    "a = ['asyikin', None, 22]\n",
    "b = [1, 2, 3, 4, (5, 6)]\n",
    "\n",
    "c = a+b\n",
    "print(c)\n",
    "\n",
    "extend = c.extend([7, 8, 9, [0, 1]])\n",
    "print(c)"
   ]
  },
  {
   "cell_type": "markdown",
   "metadata": {},
   "source": [
    "**SORTING**\n",
    "- sort in numerical or alphabetical order\n",
    "- sort based on the length of a string"
   ]
  },
  {
   "cell_type": "code",
   "execution_count": 25,
   "metadata": {},
   "outputs": [
    {
     "name": "stdout",
     "output_type": "stream",
     "text": [
      "[0, 1, 3, 4, 5, 6, 9]\n"
     ]
    }
   ],
   "source": [
    "x = [9, 5, 3, 6, 0, 1, 4]\n",
    "y = x.sort()\n",
    "\n",
    "print(x)\n"
   ]
  },
  {
   "cell_type": "code",
   "execution_count": 28,
   "metadata": {},
   "outputs": [
    {
     "data": {
      "text/plain": [
       "['?', 'is', 'my', 'name', 'Asyikin']"
      ]
     },
     "execution_count": 28,
     "metadata": {},
     "output_type": "execute_result"
    }
   ],
   "source": [
    "# sorth wiht len\n",
    "m = [\"Asyikin\", 'is', 'my', 'name', '?']\n",
    "m.sort(key=len)\n",
    "m"
   ]
  },
  {
   "cell_type": "code",
   "execution_count": 31,
   "metadata": {},
   "outputs": [
    {
     "data": {
      "text/plain": [
       "[3, 6, 0, 1]"
      ]
     },
     "execution_count": 31,
     "metadata": {},
     "output_type": "execute_result"
    }
   ],
   "source": [
    "# slicing\n",
    "slice = [9, 5, 3, 6, 0, 1, 4]\n",
    "potong = slice[2:6]\n",
    "potong"
   ]
  },
  {
   "cell_type": "code",
   "execution_count": 33,
   "metadata": {},
   "outputs": [
    {
     "data": {
      "text/plain": [
       "[4, 1, 0, 6, 3, 5, 9]"
      ]
     },
     "execution_count": 33,
     "metadata": {},
     "output_type": "execute_result"
    }
   ],
   "source": [
    "slice2 = [9, 5, 3, 6, 0, 1, 4]\n",
    "terbalik = slice2[::-1]\n",
    "terbalik"
   ]
  }
 ],
 "metadata": {
  "kernelspec": {
   "display_name": "base",
   "language": "python",
   "name": "python3"
  },
  "language_info": {
   "codemirror_mode": {
    "name": "ipython",
    "version": 3
   },
   "file_extension": ".py",
   "mimetype": "text/x-python",
   "name": "python",
   "nbconvert_exporter": "python",
   "pygments_lexer": "ipython3",
   "version": "3.12.4"
  }
 },
 "nbformat": 4,
 "nbformat_minor": 2
}
