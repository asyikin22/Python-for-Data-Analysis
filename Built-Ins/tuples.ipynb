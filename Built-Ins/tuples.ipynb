{
 "cells": [
  {
   "cell_type": "markdown",
   "metadata": {},
   "source": [
    "# Data Structures\n",
    "\n",
    "1) Lists - bracket [...] - mutable\n",
    "\n",
    "2) Tuples - parentheses (...) - immutable\n",
    "\n",
    "3) Sets - unique values - curly braces {...} - mutable \n",
    "\n",
    "4) Dictionaries - key-value pairs - mutable "
   ]
  },
  {
   "cell_type": "code",
   "execution_count": 1,
   "metadata": {},
   "outputs": [
    {
     "data": {
      "text/plain": [
       "(1, 2, 3)"
      ]
     },
     "execution_count": 1,
     "metadata": {},
     "output_type": "execute_result"
    }
   ],
   "source": [
    "tup = (1, 2, 3)\n",
    "tup"
   ]
  },
  {
   "cell_type": "code",
   "execution_count": 2,
   "metadata": {},
   "outputs": [
    {
     "data": {
      "text/plain": [
       "[1, 2, 3]"
      ]
     },
     "execution_count": 2,
     "metadata": {},
     "output_type": "execute_result"
    }
   ],
   "source": [
    "# convert list to tuples\n",
    "list(tup)"
   ]
  },
  {
   "cell_type": "code",
   "execution_count": 6,
   "metadata": {},
   "outputs": [
    {
     "name": "stdout",
     "output_type": "stream",
     "text": [
      "('a', 's', 'y', 'i', 'k', 'i', 'n')\n",
      "y\n"
     ]
    }
   ],
   "source": [
    "# convert strings to tuple\n",
    "\n",
    "x = tuple('asyikin')\n",
    "print(x)\n",
    "print(x[2])\n"
   ]
  },
  {
   "cell_type": "code",
   "execution_count": 8,
   "metadata": {},
   "outputs": [
    {
     "name": "stdout",
     "output_type": "stream",
     "text": [
      "((3, 4, 5), (6, 7), (8, 9, 0))\n",
      "(8, 9, 0)\n"
     ]
    }
   ],
   "source": [
    "nested_tuple = (3, 4, 5), (6, 7), (8, 9, 0)\n",
    "print(nested_tuple)\n",
    "print(nested_tuple[2])"
   ]
  },
  {
   "cell_type": "code",
   "execution_count": 13,
   "metadata": {},
   "outputs": [
    {
     "name": "stdout",
     "output_type": "stream",
     "text": [
      "(22, 'Asyikin', None, 1, 9, 'lapar')\n",
      "(22, 'Asyikin', None, 1, 9, 'lapar', 22, 'Asyikin', None, 1, 9, 'lapar', 22, 'Asyikin', None, 1, 9, 'lapar')\n"
     ]
    }
   ],
   "source": [
    "#CONCATENATE USING + OPERATOR\n",
    "\n",
    "campur = (22, 'Asyikin', None) + (1, 9) + ('lapar',)\n",
    "print(campur)\n",
    "print(campur * 3)"
   ]
  },
  {
   "cell_type": "markdown",
   "metadata": {},
   "source": [
    "# Unpacking data structure\n"
   ]
  },
  {
   "cell_type": "code",
   "execution_count": 18,
   "metadata": {},
   "outputs": [
    {
     "name": "stdout",
     "output_type": "stream",
     "text": [
      "lembu\n",
      "kucing\n",
      "ayam\n"
     ]
    }
   ],
   "source": [
    "#unpacking tuples\n",
    "tuple1 = ('ayam', 'kucing', 'lembu')\n",
    "a, b, c = tuple1\n",
    "\n",
    "\n",
    "print(c)\n",
    "print(b)\n",
    "print(a)"
   ]
  },
  {
   "cell_type": "code",
   "execution_count": 25,
   "metadata": {},
   "outputs": [
    {
     "name": "stdout",
     "output_type": "stream",
     "text": [
      "((3, 4, 5), (6, 7), (8, 9, 0))\n",
      "7\n",
      "0\n"
     ]
    }
   ],
   "source": [
    "#unpacking nested tuples\n",
    "print(nested_tuple)\n",
    "\n",
    "(a, b, c), (d, e), (f, g, h) = nested_tuple\n",
    "\n",
    "print(e)\n",
    "print(h)"
   ]
  },
  {
   "cell_type": "code",
   "execution_count": 3,
   "metadata": {},
   "outputs": [
    {
     "name": "stdout",
     "output_type": "stream",
     "text": [
      "1\n",
      "2\n",
      "2\n",
      "1\n"
     ]
    }
   ],
   "source": [
    "a, b = 1, 2\n",
    "print(a)\n",
    "print(b)\n",
    "\n",
    "b, a = a, b\n",
    "print(a)\n",
    "print(b)"
   ]
  },
  {
   "cell_type": "code",
   "execution_count": 4,
   "metadata": {},
   "outputs": [
    {
     "name": "stdout",
     "output_type": "stream",
     "text": [
      "a = 3, b = 4, c = 5\n",
      "a = 6, b = 7, c = 8\n",
      "a = 9, b = 1, c = 2\n"
     ]
    }
   ],
   "source": [
    "#variable unpacking - iterate over sequences of tuples or lists\n",
    "\n",
    "sequence = [(3, 4, 5), (6, 7, 8), (9, 1, 2)]\n",
    "\n",
    "for a, b, c in sequence:\n",
    "    print(f'a = {a}, b = {b}, c = {c}')"
   ]
  },
  {
   "cell_type": "markdown",
   "metadata": {},
   "source": [
    "***REST**\n",
    "- It will only grab a few elements from the beginning of a tuple"
   ]
  },
  {
   "cell_type": "code",
   "execution_count": 5,
   "metadata": {},
   "outputs": [
    {
     "name": "stdout",
     "output_type": "stream",
     "text": [
      "1\n",
      "2\n",
      "3\n",
      "[4, 5, 6, 7, 8, 9, 10]\n"
     ]
    }
   ],
   "source": [
    "nilai = 1, 2, 3, 4, 5, 6, 7, 8, 9, 10\n",
    "\n",
    "a, b, c, *rest = nilai \n",
    "\n",
    "print(a)\n",
    "print(b)\n",
    "print(c)\n",
    "print(rest)"
   ]
  },
  {
   "cell_type": "markdown",
   "metadata": {},
   "source": [
    "**Tuple methods**"
   ]
  },
  {
   "cell_type": "code",
   "execution_count": 10,
   "metadata": {},
   "outputs": [
    {
     "name": "stdout",
     "output_type": "stream",
     "text": [
      "Count of number 1: 3\n",
      "Count of number 7: 2\n"
     ]
    }
   ],
   "source": [
    "nom = 1, 2, 3, 1, 1, 6, 7, 3, 9, 10, 7, \n",
    "\n",
    "print(f'Count of number 1: {nom.count(1)}')\n",
    "print(f'Count of number 7: {nom.count(7)}')"
   ]
  }
 ],
 "metadata": {
  "kernelspec": {
   "display_name": "base",
   "language": "python",
   "name": "python3"
  },
  "language_info": {
   "codemirror_mode": {
    "name": "ipython",
    "version": 3
   },
   "file_extension": ".py",
   "mimetype": "text/x-python",
   "name": "python",
   "nbconvert_exporter": "python",
   "pygments_lexer": "ipython3",
   "version": "3.12.4"
  }
 },
 "nbformat": 4,
 "nbformat_minor": 2
}
