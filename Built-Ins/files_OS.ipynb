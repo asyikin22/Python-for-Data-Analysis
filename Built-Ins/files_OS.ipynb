{
 "cells": [
  {
   "cell_type": "markdown",
   "metadata": {},
   "source": [
    "# Python File Modes\n",
    "\n",
    "Link: https://wesmckinney.com/book/python-builtin#tbl-table_file_modes\n",
    "\n",
    "- Read-only (r)\n",
    "- write-only (w)\n",
    "- write-only (x) ---> existing path\n",
    "- append (a)\n",
    "- read and write (r+)\n",
    "- add to mode for binary files (b)\n",
    "- text mode (t)\n",
    "\n",
    "**Readable files methods**\n",
    "- read\n",
    "- seek\n",
    "- tell.read\n",
    "\n",
    "**Important Python file methods or attributes**\n",
    "\n",
    "Link: https://wesmckinney.com/book/python-builtin#tbl-table_file_methods\n",
    "\n",
    "\n"
   ]
  },
  {
   "cell_type": "markdown",
   "metadata": {},
   "source": [
    "# Bytes and Unicode with Files\n",
    "\n",
    "**Keywords**:\n",
    "- Bytes (Binary data)\n",
    "- Unicode (text data)\n",
    "\n",
    "**What are they?**:\n",
    "- default behaviour for python files: text mode (unicode)\n",
    "- we can obtain binary mode by appending b to file mode. \n",
    "- Bytes (Binary) objects represent sequences of byte data\n",
    "\n",
    "**Combining Bytes and Unicode**\n",
    "- Encode() ---> converts unicode (str) into bytes object\n",
    "\n",
    "- decode() ---> converts bytes objects back into unicode\n"
   ]
  },
  {
   "cell_type": "code",
   "execution_count": null,
   "metadata": {},
   "outputs": [],
   "source": [
    "\n"
   ]
  },
  {
   "cell_type": "code",
   "execution_count": null,
   "metadata": {},
   "outputs": [],
   "source": []
  },
  {
   "cell_type": "code",
   "execution_count": null,
   "metadata": {},
   "outputs": [],
   "source": []
  },
  {
   "cell_type": "code",
   "execution_count": null,
   "metadata": {},
   "outputs": [],
   "source": []
  },
  {
   "cell_type": "code",
   "execution_count": null,
   "metadata": {},
   "outputs": [],
   "source": []
  }
 ],
 "metadata": {
  "language_info": {
   "name": "python"
  }
 },
 "nbformat": 4,
 "nbformat_minor": 2
}
