{
 "cells": [
  {
   "cell_type": "markdown",
   "metadata": {},
   "source": [
    "# Data Structures\n",
    "\n",
    "1) Lists - bracket [...] - mutable\n",
    "\n",
    "2) Tuples - parentheses (...) - immutable\n",
    "\n",
    "3) Sets - unique values - curly braces {...} - mutable \n",
    "\n",
    "4) Dictionaries - key-value pairs - mutable "
   ]
  },
  {
   "cell_type": "code",
   "execution_count": 1,
   "metadata": {},
   "outputs": [
    {
     "name": "stdout",
     "output_type": "stream",
     "text": [
      "[1, 2, 3, 3, 3, 3, 1, 2, 1, 1, 2]\n",
      "{1, 2, 3}\n"
     ]
    }
   ],
   "source": [
    "senarai = [1, 2, 3, 3, 3, 3, 1, 2, 1, 1, 2]\n",
    "print(senarai)\n",
    "\n",
    "tukar_set = set(senarai)\n",
    "print(tukar_set)"
   ]
  },
  {
   "cell_type": "markdown",
   "metadata": {},
   "source": [
    "**Common methods**\n",
    "- union()\n",
    "- intersection()"
   ]
  },
  {
   "cell_type": "code",
   "execution_count": 3,
   "metadata": {},
   "outputs": [
    {
     "data": {
      "text/plain": [
       "{1, 2, 3, 7, 8, 9}"
      ]
     },
     "execution_count": 3,
     "metadata": {},
     "output_type": "execute_result"
    }
   ],
   "source": [
    "senarai1 = {1, 2, 3, 3, 3, 3, 1, 2, 1, 1, 2}\n",
    "senarai2 = {7, 7, 8, 9, 7, 8}\n",
    "\n",
    "campur = senarai1.union(senarai2)\n",
    "campur"
   ]
  },
  {
   "cell_type": "code",
   "execution_count": 12,
   "metadata": {},
   "outputs": [
    {
     "name": "stdout",
     "output_type": "stream",
     "text": [
      "set()\n",
      "{1, 2, 3}\n",
      "{8, 9, 7}\n"
     ]
    }
   ],
   "source": [
    "senarai1 = {1, 2, 3, 3, 3, 3, 1, 2, 1, 1, 2}\n",
    "senarai2 = {7, 7, 8, 9, 7, 8}\n",
    "senarai3 = {1, 2, 3, 4, 5, 6, 7, 8, 9}\n",
    "\n",
    "intersect1 = senarai1.intersection(senarai2)\n",
    "print(intersect1)\n",
    "\n",
    "intersect2 = senarai1.intersection(senarai3)\n",
    "print(intersect2)\n",
    "\n",
    "intersect3 = senarai2 & senarai3\n",
    "print(intersect3)"
   ]
  }
 ],
 "metadata": {
  "kernelspec": {
   "display_name": "base",
   "language": "python",
   "name": "python3"
  },
  "language_info": {
   "codemirror_mode": {
    "name": "ipython",
    "version": 3
   },
   "file_extension": ".py",
   "mimetype": "text/x-python",
   "name": "python",
   "nbconvert_exporter": "python",
   "pygments_lexer": "ipython3",
   "version": "3.12.4"
  }
 },
 "nbformat": 4,
 "nbformat_minor": 2
}
