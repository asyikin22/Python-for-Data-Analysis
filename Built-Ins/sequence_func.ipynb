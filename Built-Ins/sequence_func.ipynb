{
 "cells": [
  {
   "cell_type": "markdown",
   "metadata": {},
   "source": [
    "# Data Structures\n",
    "\n",
    "1) Lists - bracket [...] - mutable\n",
    "\n",
    "2) Tuples - parentheses (...) - immutable\n",
    "\n",
    "3) Sets - unique values - curly braces {...} - mutable \n",
    "\n",
    "4) Dictionaries - key-value pairs - mutable "
   ]
  },
  {
   "cell_type": "markdown",
   "metadata": {},
   "source": [
    "#  BUILT-INFUNCTIONS\n",
    "\n",
    "- Enumerate\n",
    "    * adds a counter to an iterable while iterating over it\n",
    "    * it returns an iterator of tuples\n",
    "    * and contains a count (index) and the value from the iterable \n",
    "    * it returns a sequence of (i, value)\n",
    "\n",
    "- sorted\n",
    "    * it returns a new sorted list from the elements of any sequence\n",
    "\n",
    "- zip \n",
    "    * it pairs up the elements of a number of lists, tuples, other sequence to creae a list of tuples.\n",
    "\n",
    "- reversed \n",
    "    * iterates over the elements of a sequence in reverse order\n",
    "    * it's a generator and does not create the reversed sequence untl materialized with list or for loops\n"
   ]
  },
  {
   "cell_type": "code",
   "execution_count": 3,
   "metadata": {},
   "outputs": [
    {
     "name": "stdout",
     "output_type": "stream",
     "text": [
      "0: rambutan\n",
      "1: durian\n",
      "2: tembikai\n",
      "3: manggis\n",
      "4: avocado\n"
     ]
    }
   ],
   "source": [
    "# enumerate\n",
    "buah = ['rambutan', 'durian', 'tembikai', 'manggis', 'avocado']\n",
    "\n",
    "for index, buah in enumerate(buah):\n",
    "    print(f'{index}: {buah}')"
   ]
  },
  {
   "cell_type": "code",
   "execution_count": 5,
   "metadata": {},
   "outputs": [
    {
     "name": "stdout",
     "output_type": "stream",
     "text": [
      "[1, 1, 1, 1, 2, 2, 2, 3, 3, 3, 3]\n",
      "[' ', 'A', 'N', 'i', 'i', 'k', 'n', 'r', 's', 'u', 'y']\n"
     ]
    }
   ],
   "source": [
    "#sorted\n",
    "\n",
    "nombor = [1, 2, 3, 3, 3, 3, 1, 2, 1, 1, 2]\n",
    "full_name = 'Nur Asyikin'\n",
    "\n",
    "print(sorted(nombor))\n",
    "print(sorted(full_name))"
   ]
  },
  {
   "cell_type": "code",
   "execution_count": 8,
   "metadata": {},
   "outputs": [
    {
     "name": "stdout",
     "output_type": "stream",
     "text": [
      "<zip object at 0x000002000BFA77C0>\n",
      "[('a', 'N'), ('v', 'u'), ('o', 'r'), ('c', ' '), ('a', 'A'), ('d', 's'), ('o', 'y')]\n"
     ]
    }
   ],
   "source": [
    "#zip\n",
    "zipped = zip(buah, full_name)\n",
    "print(zipped)\n",
    "\n",
    "list = list(zipped)\n",
    "print(list)"
   ]
  },
  {
   "cell_type": "code",
   "execution_count": 1,
   "metadata": {},
   "outputs": [
    {
     "name": "stdout",
     "output_type": "stream",
     "text": [
      "<list_reverseiterator object at 0x0000020A871B61A0>\n",
      "[2, 1, 1, 2, 1, 3, 3, 3, 3, 2, 1]\n"
     ]
    }
   ],
   "source": [
    "# reversed\n",
    "nombor = [1, 2, 3, 3, 3, 3, 1, 2, 1, 1, 2]\n",
    "terbalik = reversed(nombor)\n",
    "print(terbalik)\n",
    "\n",
    "materialize_reversed = list(terbalik)\n",
    "print(materialize_reversed)"
   ]
  },
  {
   "cell_type": "markdown",
   "metadata": {},
   "source": [
    "# COMPREHENSIONS\n",
    "\n",
    "- It provides a concise way to creae lists, sets and dictionaries\n",
    "- they're often used for their readability and efficiency\n",
    "\n",
    "\n",
    "1) List\n",
    "    * creates lists using a single line of code\n",
    "    * [expressions **for** item **in** iterable **if** condition]\n",
    "\n",
    "2) Set\n",
    "    * Creates a set\n",
    "    * {expressions **for** item **in** iterable **if** condition}\n",
    "\n",
    "3) Dictionaries\n",
    "    * creates dictionaries in a concise way\n",
    "    * {key_expression: value_expression **for** item **in** iterable **if** condition}"
   ]
  },
  {
   "cell_type": "code",
   "execution_count": 2,
   "metadata": {},
   "outputs": [
    {
     "data": {
      "text/plain": [
       "['LOVE', 'RICE', 'PERSON', 'DISLIKES', 'NEEDS', 'THERAPY']"
      ]
     },
     "execution_count": 2,
     "metadata": {},
     "output_type": "execute_result"
    }
   ],
   "source": [
    "#list comprehension 1\n",
    "\n",
    "words = ['i', 'love', 'rice', 'a', 'person', 'who', 'dislikes', 'it', 'needs', 'therapy']\n",
    "\n",
    "[x.upper() for x in words if len(x) > 3]"
   ]
  },
  {
   "cell_type": "code",
   "execution_count": 4,
   "metadata": {},
   "outputs": [
    {
     "name": "stdout",
     "output_type": "stream",
     "text": [
      "[0, 1, 4, 9, 16, 25, 36, 49, 64, 81, 100, 121, 144, 169, 196, 225, 256, 289, 324, 361]\n"
     ]
    }
   ],
   "source": [
    "#list comprehension 2\n",
    "squares = [x**2 for x in range(20)]\n",
    "print(squares)"
   ]
  },
  {
   "cell_type": "code",
   "execution_count": 6,
   "metadata": {},
   "outputs": [
    {
     "name": "stdout",
     "output_type": "stream",
     "text": [
      "{1, 2, 3, 4, 5, 6, 7, 8}\n"
     ]
    }
   ],
   "source": [
    "#set comprehension 1\n",
    "\n",
    "words = ['i', 'love', 'rice', 'a', 'person', 'who', 'dislikes', 'it', 'needs', 'therapy']\n",
    "unique_length = {len(x) for x in words}\n",
    "print(unique_length)"
   ]
  },
  {
   "cell_type": "code",
   "execution_count": 7,
   "metadata": {},
   "outputs": [
    {
     "name": "stdout",
     "output_type": "stream",
     "text": [
      "These are even numbers: {0, 2, 4, 6, 8, 10, 12, 14, 16, 18, 20}\n"
     ]
    }
   ],
   "source": [
    "#set comprehension 2\n",
    "even_numbers = {x for x in range(21) if x % 2 == 0}\n",
    "print(f'These are even numbers: {even_numbers}')"
   ]
  },
  {
   "cell_type": "code",
   "execution_count": 9,
   "metadata": {},
   "outputs": [
    {
     "name": "stdout",
     "output_type": "stream",
     "text": [
      "{'i': 1, 'love': 4, 'rice': 4, 'a': 1, 'person': 6, 'who': 3, 'dislikes': 8, 'it': 2, 'needs': 5, 'therapy': 7}\n"
     ]
    }
   ],
   "source": [
    "# dictionaries comprehension\n",
    "words = ['i', 'love', 'rice', 'a', 'person', 'who', 'dislikes', 'it', 'needs', 'therapy']\n",
    "\n",
    "word_lengths_dict = {word: len(word) for word in words}\n",
    "print(word_lengths_dict)"
   ]
  },
  {
   "cell_type": "code",
   "execution_count": 15,
   "metadata": {},
   "outputs": [
    {
     "name": "stdout",
     "output_type": "stream",
     "text": [
      "['Li Wei', 'Liu Jing']\n"
     ]
    }
   ],
   "source": [
    "#nested list comprehensions\n",
    "\n",
    "chinese_names = [\n",
    "    \"Li Wei\", \"Wang Mei\", \"Zhang Wei\", \"Liu Jing\",  \"Chen Jie\",\n",
    "    \"Yang Yu\", \"Huang Ling\", \"Zhao Feng\", \"Xu Lei\", \"Sun Li\"\n",
    "]\n",
    "\n",
    "names_of_interest = [name for name in chinese_names if name.count(\"i\") >=2]\n",
    "    \n",
    "print(names_of_interest)"
   ]
  }
 ],
 "metadata": {
  "kernelspec": {
   "display_name": "base",
   "language": "python",
   "name": "python3"
  },
  "language_info": {
   "codemirror_mode": {
    "name": "ipython",
    "version": 3
   },
   "file_extension": ".py",
   "mimetype": "text/x-python",
   "name": "python",
   "nbconvert_exporter": "python",
   "pygments_lexer": "ipython3",
   "version": "3.12.4"
  }
 },
 "nbformat": 4,
 "nbformat_minor": 2
}
