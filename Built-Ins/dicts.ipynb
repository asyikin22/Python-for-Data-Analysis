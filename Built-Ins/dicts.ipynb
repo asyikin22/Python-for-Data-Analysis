{
 "cells": [
  {
   "cell_type": "markdown",
   "metadata": {},
   "source": [
    "# Data Structures\n",
    "\n",
    "1) Lists - bracket [...] - mutable\n",
    "\n",
    "2) Tuples - parentheses (...) - immutable\n",
    "\n",
    "3) Sets - unique values - curly braces {...} - mutable \n",
    "\n",
    "4) Dictionaries - key-value pairs - mutable "
   ]
  },
  {
   "cell_type": "code",
   "execution_count": 2,
   "metadata": {},
   "outputs": [
    {
     "data": {
      "text/plain": [
       "{'a': 'some values', 'b': [5, 4, 3, 2, 1]}"
      ]
     },
     "execution_count": 2,
     "metadata": {},
     "output_type": "execute_result"
    }
   ],
   "source": [
    "dict_kosong = {}\n",
    "\n",
    "d1 = {\"a\": \"some values\", \"b\": [5, 4, 3, 2, 1]}\n",
    "d1"
   ]
  },
  {
   "cell_type": "code",
   "execution_count": 5,
   "metadata": {},
   "outputs": [
    {
     "name": "stdout",
     "output_type": "stream",
     "text": [
      "{'a': 'some values', 'b': [5, 4, 3, 2, 1], 'x': 'a letter'}\n",
      "[5, 4, 3, 2, 1]\n"
     ]
    }
   ],
   "source": [
    "#insert a new element\n",
    "\n",
    "d1['x'] = \"a letter\"\n",
    "print(d1)\n",
    "print(d1[\"b\"])"
   ]
  },
  {
   "cell_type": "code",
   "execution_count": 7,
   "metadata": {},
   "outputs": [
    {
     "data": {
      "text/plain": [
       "True"
      ]
     },
     "execution_count": 7,
     "metadata": {},
     "output_type": "execute_result"
    }
   ],
   "source": [
    "#check if a key is in a dict\n",
    "'a' in d1"
   ]
  },
  {
   "cell_type": "code",
   "execution_count": 11,
   "metadata": {},
   "outputs": [
    {
     "data": {
      "text/plain": [
       "{'a': 'some values',\n",
       " 'b': [5, 4, 3, 2, 1],\n",
       " 'x': 'a letter',\n",
       " 22: 'a numerical value',\n",
       " 'pi': '3.14159',\n",
       " 'buang': 'to be deleted'}"
      ]
     },
     "execution_count": 11,
     "metadata": {},
     "output_type": "execute_result"
    }
   ],
   "source": [
    "#delete\n",
    "\n",
    "contoh = {'a': 'some values', 'b': [5, 4, 3, 2, 1], 'x': 'a letter'}\n",
    "contoh[22] = \"a numerical value\"\n",
    "contoh[\"pi\"] = \"3.14159\"\n",
    "contoh['buang'] = 'to be deleted'\n",
    "contoh"
   ]
  },
  {
   "cell_type": "code",
   "execution_count": 17,
   "metadata": {},
   "outputs": [
    {
     "name": "stdout",
     "output_type": "stream",
     "text": [
      "{'a': 'some values', 'b': [5, 4, 3, 2, 1], 'x': 'a letter', 22: 'a numerical value', 'pi': '3.14159'}\n"
     ]
    }
   ],
   "source": [
    "# del contoh['buang']\n",
    "print(contoh)"
   ]
  },
  {
   "cell_type": "markdown",
   "metadata": {},
   "source": [
    "**keys(), values(), items() methods**"
   ]
  },
  {
   "cell_type": "code",
   "execution_count": 20,
   "metadata": {},
   "outputs": [
    {
     "name": "stdout",
     "output_type": "stream",
     "text": [
      "['a', 'b', 'x', 22, 'pi']\n",
      "['some values', [5, 4, 3, 2, 1], 'a letter', 'a numerical value', '3.14159']\n",
      "[('a', 'some values'), ('b', [5, 4, 3, 2, 1]), ('x', 'a letter'), (22, 'a numerical value'), ('pi', '3.14159')]\n"
     ]
    }
   ],
   "source": [
    "contoh2 = {\n",
    "    'a': 'some values', \n",
    "    'b': [5, 4, 3, 2, 1], \n",
    "    'x': 'a letter', 22: 'a numerical value', \n",
    "    'pi': '3.14159'}\n",
    "\n",
    "print(list(contoh2.keys()))\n",
    "print(list(contoh2.values()))\n",
    "print(list(contoh2.items()))"
   ]
  },
  {
   "cell_type": "markdown",
   "metadata": {},
   "source": [
    "**UPDATE() method**\n",
    "- merge one dictionary into another"
   ]
  },
  {
   "cell_type": "code",
   "execution_count": 23,
   "metadata": {},
   "outputs": [
    {
     "data": {
      "text/plain": [
       "{'a': 'some values',\n",
       " 'b': [5, 4, 3, 2, 1],\n",
       " 'x': 'a letter',\n",
       " 22: 'a numerical value',\n",
       " 'pi': '3.14159',\n",
       " 'y': 2024,\n",
       " 'nasi': 'goreng'}"
      ]
     },
     "execution_count": 23,
     "metadata": {},
     "output_type": "execute_result"
    }
   ],
   "source": [
    "contoh3 = {\n",
    "    'a': 'some values', \n",
    "    'b': [5, 4, 3, 2, 1], \n",
    "    'x': 'a letter', 22: 'a numerical value', \n",
    "    'pi': '3.14159'}\n",
    "\n",
    "contoh3.update({\"y\": 2024, 'nasi':'goreng'})\n",
    "\n",
    "contoh3"
   ]
  },
  {
   "cell_type": "markdown",
   "metadata": {},
   "source": [
    "**Create dictionaries from sequence**\n",
    "- a dictionary is basically a collecton of 2-tuples\n",
    "- zip at... is a zip object (iterator), it is NOT the actual content of zip\n",
    "- we can dict() function from these two tupples"
   ]
  },
  {
   "cell_type": "code",
   "execution_count": 29,
   "metadata": {},
   "outputs": [
    {
     "name": "stdout",
     "output_type": "stream",
     "text": [
      "<zip object at 0x0000029A41439000>\n"
     ]
    },
    {
     "data": {
      "text/plain": [
       "{0: 5, 1: 4, 2: 3, 3: 2, 4: 1, 5: 0}"
      ]
     },
     "execution_count": 29,
     "metadata": {},
     "output_type": "execute_result"
    }
   ],
   "source": [
    "tuples = zip(range(6), reversed(range(6)))\n",
    "print(tuples)\n",
    "\n",
    "mapping = dict(tuples)\n",
    "mapping"
   ]
  },
  {
   "cell_type": "markdown",
   "metadata": {},
   "source": [
    "**hash() function**\n",
    "- it's used to obtain the hash value of an object\n",
    "- it's an integer that represents the object and used internally ny Python's hashing algorithm\n",
    "- it's used to compare dictionary keys and set members\n",
    "- it helps determine the object's location in a hash table"
   ]
  },
  {
   "cell_type": "code",
   "execution_count": 33,
   "metadata": {},
   "outputs": [
    {
     "name": "stdout",
     "output_type": "stream",
     "text": [
      "1171461473321253751\n",
      "-6766371705598827417\n"
     ]
    }
   ],
   "source": [
    "hash1 = hash(\"Asyikin\")\n",
    "hash2 = hash((1, 2, 3, (4, 5)))\n",
    "\n",
    "print(hash1)\n",
    "print(hash2)"
   ]
  },
  {
   "cell_type": "code",
   "execution_count": null,
   "metadata": {},
   "outputs": [],
   "source": []
  },
  {
   "cell_type": "code",
   "execution_count": null,
   "metadata": {},
   "outputs": [],
   "source": []
  },
  {
   "cell_type": "code",
   "execution_count": null,
   "metadata": {},
   "outputs": [],
   "source": []
  },
  {
   "cell_type": "code",
   "execution_count": null,
   "metadata": {},
   "outputs": [],
   "source": []
  },
  {
   "cell_type": "code",
   "execution_count": null,
   "metadata": {},
   "outputs": [],
   "source": []
  }
 ],
 "metadata": {
  "kernelspec": {
   "display_name": "base",
   "language": "python",
   "name": "python3"
  },
  "language_info": {
   "codemirror_mode": {
    "name": "ipython",
    "version": 3
   },
   "file_extension": ".py",
   "mimetype": "text/x-python",
   "name": "python",
   "nbconvert_exporter": "python",
   "pygments_lexer": "ipython3",
   "version": "3.12.4"
  }
 },
 "nbformat": 4,
 "nbformat_minor": 2
}
